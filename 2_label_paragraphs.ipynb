{
 "cells": [
  {
   "cell_type": "markdown",
   "metadata": {
    "toc": true
   },
   "source": [
    "<h1>Table of Contents<span class=\"tocSkip\"></span></h1>\n",
    "<div class=\"toc\"><ul class=\"toc-item\"><li><span><a href=\"#Define-dataframes-and-function\" data-toc-modified-id=\"Define-dataframes-and-function-1\"><span class=\"toc-item-num\">1&nbsp;&nbsp;</span>Define dataframes and function</a></span><ul class=\"toc-item\"><li><span><a href=\"#Read-in-data\" data-toc-modified-id=\"Read-in-data-1.1\"><span class=\"toc-item-num\">1.1&nbsp;&nbsp;</span>Read in data</a></span></li><li><span><a href=\"#Combine-pieces-from-parallel-runs\" data-toc-modified-id=\"Combine-pieces-from-parallel-runs-1.2\"><span class=\"toc-item-num\">1.2&nbsp;&nbsp;</span>Combine pieces from parallel runs</a></span></li><li><span><a href=\"#print_row_detail-function\" data-toc-modified-id=\"print_row_detail-function-1.3\"><span class=\"toc-item-num\">1.3&nbsp;&nbsp;</span>print_row_detail function</a></span></li></ul></li><li><span><a href=\"#Test-and-refine-regex-patterns-for-flagging-likely-relevant-documents\" data-toc-modified-id=\"Test-and-refine-regex-patterns-for-flagging-likely-relevant-documents-2\"><span class=\"toc-item-num\">2&nbsp;&nbsp;</span>Test and refine regex patterns for flagging likely relevant documents</a></span><ul class=\"toc-item\"><li><span><a href=\"#function:-check_regex_match\" data-toc-modified-id=\"function:-check_regex_match-2.1\"><span class=\"toc-item-num\">2.1&nbsp;&nbsp;</span>function: check_regex_match</a></span></li><li><span><a href=\"#Test-cases-for-regex\" data-toc-modified-id=\"Test-cases-for-regex-2.2\"><span class=\"toc-item-num\">2.2&nbsp;&nbsp;</span>Test cases for regex</a></span></li><li><span><a href=\"#Working-list-for-flagging-positive-matches\" data-toc-modified-id=\"Working-list-for-flagging-positive-matches-2.3\"><span class=\"toc-item-num\">2.3&nbsp;&nbsp;</span>Working list for flagging positive matches</a></span></li><li><span><a href=\"#Assign-initial-positive-and-negative-labels-using-regex\" data-toc-modified-id=\"Assign-initial-positive-and-negative-labels-using-regex-2.4\"><span class=\"toc-item-num\">2.4&nbsp;&nbsp;</span>Assign initial positive and negative labels using regex</a></span><ul class=\"toc-item\"><li><span><a href=\"#function:-label_with_regex\" data-toc-modified-id=\"function:-label_with_regex-2.4.1\"><span class=\"toc-item-num\">2.4.1&nbsp;&nbsp;</span>function: label_with_regex</a></span></li></ul></li><li><span><a href=\"#Create-lists-for-exploring-results-(to-be-replaced-by-using-DF)\" data-toc-modified-id=\"Create-lists-for-exploring-results-(to-be-replaced-by-using-DF)-2.5\"><span class=\"toc-item-num\">2.5&nbsp;&nbsp;</span>Create lists for exploring results (to be replaced by using DF)</a></span></li><li><span><a href=\"#function:-print_docs_from_list\" data-toc-modified-id=\"function:-print_docs_from_list-2.6\"><span class=\"toc-item-num\">2.6&nbsp;&nbsp;</span>function: print_docs_from_list</a></span></li><li><span><a href=\"#Patterns-to-identify-paragraphs-with-few-or-no-numerals\" data-toc-modified-id=\"Patterns-to-identify-paragraphs-with-few-or-no-numerals-2.7\"><span class=\"toc-item-num\">2.7&nbsp;&nbsp;</span>Patterns to identify paragraphs with few or no numerals</a></span></li><li><span><a href=\"#Check-for-false-positives\" data-toc-modified-id=\"Check-for-false-positives-2.8\"><span class=\"toc-item-num\">2.8&nbsp;&nbsp;</span>Check for false positives</a></span></li></ul></li><li><span><a href=\"#Write-current-work-to-csv\" data-toc-modified-id=\"Write-current-work-to-csv-3\"><span class=\"toc-item-num\">3&nbsp;&nbsp;</span>Write current work to csv</a></span></li></ul></div>"
   ]
  },
  {
   "cell_type": "markdown",
   "metadata": {},
   "source": [
    "# Label paragraphs"
   ]
  },
  {
   "cell_type": "markdown",
   "metadata": {},
   "source": [
    "This notebook labels paragraphs as \"relevant\" (positive hits) or not. \n",
    "Relevant = contains the employee count for the entire company for the most recent year. \n",
    "\n",
    "To do:\n",
    "- Create reusable regex units, then compose regex using string join\n",
    "- Modify print_row_detail function so that it can return the row index\n",
    "    - Needed in order to create a list of false positives or negatives to correct"
   ]
  },
  {
   "cell_type": "code",
   "execution_count": 1,
   "metadata": {
    "ExecuteTime": {
     "end_time": "2018-07-23T13:37:50.465449Z",
     "start_time": "2018-07-23T13:37:49.983031Z"
    }
   },
   "outputs": [],
   "source": [
    "import numpy as np\n",
    "import pandas as pd\n",
    "import re\n",
    "\n",
    "from bs4 import BeautifulSoup as bs\n",
    "\n",
    "from path import Path, getcwdu\n",
    "\n",
    "import glob\n",
    "import os\n",
    "from pathlib import PurePath\n",
    "import copy\n",
    "\n",
    "import random\n",
    "import gzip\n",
    "import shutil"
   ]
  },
  {
   "cell_type": "markdown",
   "metadata": {
    "ExecuteTime": {
     "end_time": "2018-06-30T17:31:10.446271Z",
     "start_time": "2018-06-30T17:31:10.444270Z"
    }
   },
   "source": [
    "## Define dataframes and function"
   ]
  },
  {
   "cell_type": "markdown",
   "metadata": {},
   "source": [
    "### Read in data"
   ]
  },
  {
   "cell_type": "code",
   "execution_count": 2,
   "metadata": {
    "ExecuteTime": {
     "end_time": "2018-07-23T13:37:50.636564Z",
     "start_time": "2018-07-23T13:37:50.467451Z"
    }
   },
   "outputs": [],
   "source": [
    "full_path_list = [PurePath(os.getcwd()).joinpath(file).as_posix() for file in glob.iglob('../employee_filings/*.gz')]\n",
    "full_file_list = [PurePath(file).name for file in glob.iglob('../employee_filings/*.gz')]\n",
    "full_accession_ids = [PurePath(file).stem.replace('.html', '') for file in full_file_list]\n",
    "full_cik_nbrs = [x.split(sep='-')[0] for x in full_accession_ids]"
   ]
  },
  {
   "cell_type": "code",
   "execution_count": 3,
   "metadata": {
    "ExecuteTime": {
     "end_time": "2018-07-23T13:37:50.985424Z",
     "start_time": "2018-07-23T13:37:50.637563Z"
    }
   },
   "outputs": [],
   "source": [
    "train_accession_ids = pd.read_csv('../data/train_accession_ids.csv', names=['acc_id'])['acc_id'].tolist()\n",
    "val_accession_ids = pd.read_csv('../data/val_accession_ids.csv', names=['acc_id'])['acc_id'].tolist()\n",
    "\n",
    "labeled_df = pd.read_excel('../data/train_val_employee_count_paragraphs.xlsx')\n",
    "subset_df = pd.read_excel('../data/subset_employee_count_paragraphs.xlsx')"
   ]
  },
  {
   "cell_type": "code",
   "execution_count": 4,
   "metadata": {
    "ExecuteTime": {
     "end_time": "2018-07-23T13:37:51.234743Z",
     "start_time": "2018-07-23T13:37:50.987427Z"
    }
   },
   "outputs": [],
   "source": [
    "subset_file_list = [PurePath(os.getcwd()).joinpath('../employee_filings/').joinpath(file) for file in full_file_list if PurePath(file).stem.replace('.html', '') in subset_df.accession_number.unique().tolist()]"
   ]
  },
  {
   "cell_type": "code",
   "execution_count": 67,
   "metadata": {
    "ExecuteTime": {
     "end_time": "2018-07-23T18:41:00.650712Z",
     "start_time": "2018-07-23T18:40:59.797686Z"
    }
   },
   "outputs": [],
   "source": [
    "# After reading back in, the html needs to be parsed again\n",
    "#tbl_html_df = pd.read_csv('data/tbl_html_df.csv')\n",
    "tbl_html_df = pd.read_csv('data/tbl_html_df3.csv')\n",
    "tbl_html_df['tbl_html'] = tbl_html_df.tbl_html.apply(lambda x: bs(x, 'lxml'))"
   ]
  },
  {
   "cell_type": "code",
   "execution_count": 61,
   "metadata": {
    "ExecuteTime": {
     "end_time": "2018-07-23T18:36:37.047605Z",
     "start_time": "2018-07-23T18:36:36.663131Z"
    }
   },
   "outputs": [],
   "source": [
    "p_dtypes = {'acc_id' : 'category', \n",
    "'len' : 'int', \n",
    "'emp_header' : 'bool', \n",
    "'first_emp_head_block' : 'bool', \n",
    "'split' : 'category', \n",
    "'label' : 'uint8'}\n",
    "#paragraph_input_df = pd.read_csv('data/paragraph_input_df.csv', dtype=p_dtypes, index_col=0)\n",
    "#paragraph_input_df = pd.read_csv('data/paragraph_input_df2.csv', dtype=p_dtypes, index_col=0)\n",
    "paragraph_input_df = pd.read_csv('data/paragraph_input_df3.csv', dtype=p_dtypes, index_col=0)\n",
    "train_df = paragraph_input_df[paragraph_input_df.split == 'train']\n",
    "\n",
    "val_df = paragraph_input_df[paragraph_input_df.split == 'val']"
   ]
  },
  {
   "cell_type": "markdown",
   "metadata": {},
   "source": [
    "### Combine pieces from parallel runs"
   ]
  },
  {
   "cell_type": "code",
   "execution_count": 56,
   "metadata": {
    "ExecuteTime": {
     "end_time": "2018-07-23T18:35:14.687728Z",
     "start_time": "2018-07-23T18:35:14.303920Z"
    }
   },
   "outputs": [
    {
     "name": "stdout",
     "output_type": "stream",
     "text": [
      "(9217, 9)\n",
      "(3775, 10)\n",
      "(4132, 10)\n",
      "(4442, 10)\n",
      "(3996, 10)\n"
     ]
    }
   ],
   "source": [
    "\"\"\"\n",
    "paragraph_input_df_1 = pd.read_csv('data/paragraph_input_df_1.csv', dtype=p_dtypes, index_col=0)\n",
    "paragraph_input_df_2 = pd.read_csv('data/paragraph_input_df_2.csv', dtype=p_dtypes, index_col=0)\n",
    "paragraph_input_df_3 = pd.read_csv('data/paragraph_input_df_3.csv', dtype=p_dtypes, index_col=0)\n",
    "paragraph_input_df_4 = pd.read_csv('data/paragraph_input_df_4.csv', dtype=p_dtypes, index_col=0)\n",
    "\n",
    "print(paragraph_input_df.shape)\n",
    "print(paragraph_input_df_1.shape)\n",
    "print(paragraph_input_df_2.shape)\n",
    "print(paragraph_input_df_3.shape)\n",
    "print(paragraph_input_df_4.shape)\n",
    "\"\"\""
   ]
  },
  {
   "cell_type": "code",
   "execution_count": 63,
   "metadata": {
    "ExecuteTime": {
     "end_time": "2018-07-23T18:38:09.473160Z",
     "start_time": "2018-07-23T18:38:09.438137Z"
    },
    "scrolled": true
   },
   "outputs": [
    {
     "name": "stdout",
     "output_type": "stream",
     "text": [
      "(208, 4)\n",
      "(57, 4)\n",
      "(57, 4)\n",
      "(26, 4)\n",
      "(81, 4)\n"
     ]
    }
   ],
   "source": [
    "\"\"\"\n",
    "tbl_html_df_1 = pd.read_csv('data/tbl_html_df_1.csv', dtype=p_dtypes, index_col=0)\n",
    "tbl_html_df_2 = pd.read_csv('data/tbl_html_df_2.csv', dtype=p_dtypes, index_col=0)\n",
    "tbl_html_df_3 = pd.read_csv('data/tbl_html_df_3.csv', dtype=p_dtypes, index_col=0)\n",
    "tbl_html_df_4 = pd.read_csv('data/tbl_html_df_4.csv', dtype=p_dtypes, index_col=0)\n",
    "\n",
    "print(tbl_html_df.shape)\n",
    "print(tbl_html_df_1.shape)\n",
    "print(tbl_html_df_2.shape)\n",
    "print(tbl_html_df_3.shape)\n",
    "print(tbl_html_df_4.shape)\n",
    "\"\"\""
   ]
  },
  {
   "cell_type": "code",
   "execution_count": 64,
   "metadata": {
    "ExecuteTime": {
     "end_time": "2018-07-23T18:39:22.906537Z",
     "start_time": "2018-07-23T18:39:22.886524Z"
    }
   },
   "outputs": [
    {
     "name": "stdout",
     "output_type": "stream",
     "text": [
      "0    0\n",
      "Name: idx, dtype: int64\n",
      "56    56\n",
      "Name: idx, dtype: int64\n",
      "0    57\n",
      "Name: idx, dtype: int64\n",
      "56    113\n",
      "Name: idx, dtype: int64\n",
      "0    114\n",
      "Name: idx, dtype: int64\n",
      "25    139\n",
      "Name: idx, dtype: int64\n",
      "0    140\n",
      "Name: idx, dtype: int64\n",
      "80    220\n",
      "Name: idx, dtype: int64\n"
     ]
    }
   ],
   "source": [
    "\"\"\"\n",
    "tbl_html_df_1['idx'] = tbl_html_df_1.index.values\n",
    "tbl_html_df_2['idx'] = tbl_html_df_2.index.values + tbl_html_df_1.shape[0] \n",
    "tbl_html_df_3['idx'] = tbl_html_df_3.index.values + tbl_html_df_2.shape[0] + tbl_html_df_1.shape[0]\n",
    "tbl_html_df_4['idx'] = tbl_html_df_4.index.values + tbl_html_df_3.shape[0] + tbl_html_df_2.shape[0] + tbl_html_df_1.shape[0]\n",
    "print(tbl_html_df_1.head(1)['idx'])\n",
    "print(tbl_html_df_1.tail(1)['idx'])\n",
    "print(tbl_html_df_2.head(1)['idx'])\n",
    "print(tbl_html_df_2.tail(1)['idx'])\n",
    "print(tbl_html_df_3.head(1)['idx'])\n",
    "print(tbl_html_df_3.tail(1)['idx'])\n",
    "print(tbl_html_df_4.head(1)['idx'])\n",
    "print(tbl_html_df_4.tail(1)['idx'])\n",
    "\"\"\""
   ]
  },
  {
   "cell_type": "code",
   "execution_count": 65,
   "metadata": {
    "ExecuteTime": {
     "end_time": "2018-07-23T18:40:18.923370Z",
     "start_time": "2018-07-23T18:40:18.868342Z"
    }
   },
   "outputs": [],
   "source": [
    "#tbl_html_df3 = pd.concat([tbl_html_df_1, tbl_html_df_2, tbl_html_df_3, tbl_html_df_4]).set_index('idx', drop=True)\n",
    "#tbl_html_df3.to_csv('data/tbl_html_df3.csv')"
   ]
  },
  {
   "cell_type": "code",
   "execution_count": 57,
   "metadata": {
    "ExecuteTime": {
     "end_time": "2018-07-23T18:35:21.700388Z",
     "start_time": "2018-07-23T18:35:21.679375Z"
    },
    "collapsed": true
   },
   "outputs": [
    {
     "name": "stdout",
     "output_type": "stream",
     "text": [
      "0    0\n",
      "Name: idx, dtype: int64\n",
      "3774    3774\n",
      "Name: idx, dtype: int64\n",
      "0    3775\n",
      "Name: idx, dtype: int64\n",
      "4131    7906\n",
      "Name: idx, dtype: int64\n",
      "0    7907\n",
      "Name: idx, dtype: int64\n",
      "4441    12348\n",
      "Name: idx, dtype: int64\n",
      "0    12349\n",
      "Name: idx, dtype: int64\n",
      "3995    16344\n",
      "Name: idx, dtype: int64\n"
     ]
    }
   ],
   "source": [
    "\"\"\"\n",
    "paragraph_input_df_2['idx'] = paragraph_input_df_2.index.values + paragraph_input_df_1.shape[0] \n",
    "paragraph_input_df_3['idx'] = paragraph_input_df_3.index.values + paragraph_input_df_2.shape[0] + paragraph_input_df_1.shape[0]\n",
    "paragraph_input_df_4['idx'] = paragraph_input_df_4.index.values + paragraph_input_df_3.shape[0] + paragraph_input_df_2.shape[0] + paragraph_input_df_1.shape[0]\n",
    "print(paragraph_input_df_1.head(1)['idx'])\n",
    "print(paragraph_input_df_1.tail(1)['idx'])\n",
    "print(paragraph_input_df_2.head(1)['idx'])\n",
    "print(paragraph_input_df_2.tail(1)['idx'])\n",
    "print(paragraph_input_df_3.head(1)['idx'])\n",
    "print(paragraph_input_df_3.tail(1)['idx'])\n",
    "print(paragraph_input_df_4.head(1)['idx'])\n",
    "print(paragraph_input_df_4.tail(1)['idx'])\n",
    "\"\"\""
   ]
  },
  {
   "cell_type": "code",
   "execution_count": 58,
   "metadata": {
    "ExecuteTime": {
     "end_time": "2018-07-23T18:35:37.401234Z",
     "start_time": "2018-07-23T18:35:37.383222Z"
    }
   },
   "outputs": [],
   "source": [
    "#paragraph_input_df3 = pd.concat([paragraph_input_df_1, paragraph_input_df_2, paragraph_input_df_3, paragraph_input_df_4]).set_index('idx', drop=True)\n",
    "#paragraph_input_df3.to_csv('data/paragraph_input_df3.csv')"
   ]
  },
  {
   "cell_type": "code",
   "execution_count": 59,
   "metadata": {
    "ExecuteTime": {
     "end_time": "2018-07-23T18:35:43.020959Z",
     "start_time": "2018-07-23T18:35:43.014957Z"
    },
    "scrolled": true
   },
   "outputs": [
    {
     "data": {
      "text/plain": [
       "2216"
      ]
     },
     "execution_count": 59,
     "metadata": {},
     "output_type": "execute_result"
    }
   ],
   "source": [
    "len(paragraph_input_df3.acc_id.unique())"
   ]
  },
  {
   "cell_type": "markdown",
   "metadata": {
    "heading_collapsed": true
   },
   "source": [
    "### print_row_detail function"
   ]
  },
  {
   "cell_type": "code",
   "execution_count": 52,
   "metadata": {
    "ExecuteTime": {
     "end_time": "2018-07-23T16:46:33.153178Z",
     "start_time": "2018-07-23T16:46:33.145174Z"
    },
    "hidden": true
   },
   "outputs": [],
   "source": [
    "def print_row_detail(df=train_df, nrow=10, header_list = ['acc_id'],\n",
    "                    detail_list = [ 'len', 'first_emp_head_block', 'split' ,'para_text'],\n",
    "                    sortby=['acc_id', 'first_emp_head_block', 'len'], ascending=False):\n",
    "    df_sorted = df.sort_values(sortby, ascending=ascending).reset_index()\n",
    "    nrow = min(len(df_sorted), nrow)\n",
    "    for i in range(0, nrow):\n",
    "        for h in header_list:\n",
    "            print('-'*35  + ' ' +  str(df_sorted[h][i]) + ' ' + '-'*35)\n",
    "        for d in detail_list:\n",
    "            print(d + '  :' + str(df_sorted[d][i]))\n",
    "            print('')"
   ]
  },
  {
   "cell_type": "code",
   "execution_count": 53,
   "metadata": {
    "ExecuteTime": {
     "end_time": "2018-07-23T16:46:41.163974Z",
     "start_time": "2018-07-23T16:46:41.136957Z"
    },
    "hidden": true
   },
   "outputs": [
    {
     "name": "stdout",
     "output_type": "stream",
     "text": [
      "----------------------------------- 0001703056-18-000008 -----------------------------------\n",
      "len  :241\n",
      "\n",
      "first_emp_head_block  :True\n",
      "\n",
      "split  :train\n",
      "\n",
      "para_text  :As of December 31, 2017, we employed approximately 18,000 people. Approximately 10% of our employees are covered by collective bargaining agreements. We believe that our relations with our employees and labor unions have generally been good.\n",
      "\n",
      "----------------------------------- 0001703056-18-000008 -----------------------------------\n",
      "len  :1249\n",
      "\n",
      "first_emp_head_block  :False\n",
      "\n",
      "split  :train\n",
      "\n",
      "para_text  :James D. DeVries is our President. From May 2, 2016 to September 2017, Mr. DeVries served as The ADT Corporation's Executive Vice President and Chief Operating Officer. From December 2014 to May 2016, Mr. DeVries served as Executive Vice President of Brand Operations at Allstate Insurance Company, the second largest personal lines insurer in the United States. During his tenure at Allstate, Mr. DeVries led the operations organization, comprising approximately 7,000 employees in the United States, Northern Ireland, and India, and was responsible for, among other things, customer care centers, outbound and inbound phone sales, procurement, technical support, life underwriting and claims, real estate, administration, and fleet management. From March 2008 to December 2014, Mr. DeVries served as Executive Vice President and Chief Administrative Officer of Allstate, where has was accountable for, among other things, real estate and administration, human resources, and procurement. Prior to joining Allstate in 2008, Mr. DeVries served in various executive and management roles at Principal Financial Group, Ameritech, Quaker Oats Company, and Andrew Corporation. Mr. DeVries is a board member of Amsted Industries Inc., a diversified global\n",
      "\n",
      "----------------------------------- 0001703056-18-000008 -----------------------------------\n",
      "len  :1187\n",
      "\n",
      "first_emp_head_block  :False\n",
      "\n",
      "split  :train\n",
      "\n",
      "para_text  :We are the leading provider of monitored security, interactive home and business automation, and related monitoring services in the United States (or \"U.S.\") and Canada. Our mission is to help our customers protect and connect to what matters most-their families, homes, and businesses. The ADT brand is synonymous with security and, as the most recognized and trusted brand in the industry, is a key driver of our success. Excluding contracts monitored but not owned, we currently serve approximately 7.2 million residential and business customers, making us the largest company of our kind in the United States and Canada. We are one of the largest full-service companies with a national footprint providing both residential and commercial monitored security. We deliver an integrated customer experience by maintaining the industry's largest sales, installation, and service field force, as well as a 24/7 professional monitoring network, all supported by approximately 18,000 employees. We handle approximately 15 million alarms annually. We provide support from over 200 sales and service locations and through our 12 monitoring centers listed by Underwriters Laboratories (\"U.L.\").\n",
      "\n",
      "----------------------------------- 0001703056-18-000008 -----------------------------------\n",
      "len  :1178\n",
      "\n",
      "first_emp_head_block  :False\n",
      "\n",
      "split  :train\n",
      "\n",
      "para_text  :We operate 12 monitoring centers that are listed by U.L. across the United States and Canada. We employ approximately 4,200 customer care professionals who are required to complete extensive initial training, as well as receive ongoing training and coaching. To obtain and maintain a U.L. listing, a security system monitoring center must be located in a building meeting U.L.'s structural requirements, have back-up computer and power systems, and meet U.L. specifications for staffing and standard operating procedures. Many jurisdictions have laws requiring that security systems for certain buildings be monitored by U.L.-listed centers. In addition, a U.L. listing is required by insurers of certain customers as a condition of insurance coverage. Our monitoring centers are fully redundant, which means that in the event of an emergency at one of our monitoring centers such as fire, tornado, major interruption in telephone or computer service, or any other event affecting the functionality of the center, all monitoring operations can be automatically transferred to another monitoring center. All of our monitoring centers operate 24 hours a day on a year-round basis.\n",
      "\n",
      "----------------------------------- 0001703056-18-000008 -----------------------------------\n",
      "len  :905\n",
      "\n",
      "first_emp_head_block  :False\n",
      "\n",
      "split  :train\n",
      "\n",
      "para_text  :Amelia O. Pulliam is our Senior Vice President, Chief Human Resources Officer, and has served in this position since August 2016. In this role, she is responsible for leading all aspects of the company-wide human resources strategy and people practices for ADT's nearly 18,000 employees across the U.S. and Canada. Ms. Pulliam joined ADT in August 2014 as Vice President, Talent Management, and was responsible for developing the talent and assessment practices for the company. Prior to joining ADT, Ms. Pulliam was with Coca Cola Enterprises from 2007 to 2014, and in her last post served as Vice President, HR Strategy/M&A and Employee Communications. Ms. Pulliam has nearly 20 years of experience in the field of Human Resources spanning the retail, manufacturing, and services industries in the U.S. and Europe. Ms. Pulliam graduated from the University of South Florida with a degree in Criminology.\n",
      "\n",
      "----------------------------------- 0001703056-18-000008 -----------------------------------\n",
      "len  :481\n",
      "\n",
      "first_emp_head_block  :False\n",
      "\n",
      "split  :train\n",
      "\n",
      "para_text  :As of December 31, 2017, we serve approximately 7.2 million customers, excluding contracts monitored but not owned. We are one of the largest full-service companies with a national footprint providing both residential and commercial monitored security. We deliver an integrated customer experience by maintaining the industry's largest sales, installation, and service field force, as well as a 24/7 professional monitoring network, all supported by approximately 18,000 employees.\n",
      "\n",
      "----------------------------------- 0001703056-18-000008 -----------------------------------\n",
      "len  :9\n",
      "\n",
      "first_emp_head_block  :False\n",
      "\n",
      "split  :train\n",
      "\n",
      "para_text  :Employees\n",
      "\n",
      "----------------------------------- 0001690511-17-000005 -----------------------------------\n",
      "len  :1065\n",
      "\n",
      "first_emp_head_block  :False\n",
      "\n",
      "split  :train\n",
      "\n",
      "para_text  :Our full-time employees, including our named executive officers, are eligible to participate in our health and welfare benefit plans, which include medical, dental, vision, basic and dependent life, supplemental life, accidental death, dismemberment and specific loss, long-term disability, and optional critical illness insurance. Employees are also eligible to receive continuing education support and to participate in our employee purchase program, which allows employees to purchase a specified number of jackets and accessories at 50% of the manufacturer's suggested retail price. Our named executive officers, other than Mr. Turlington, participate in these plans on a slightly better basis than other salaried employees, including in some instances with slightly lower deductibles, better cost-sharing rates and the ability to purchase supplemental health coverage. Our named executive officers, other than Mr. Reiss, are also entitled to three complimentary jackets each calendar year. Mr. Reiss is entitled to 100 complimentary jackets each calendar year.\n",
      "\n",
      "----------------------------------- 0001690511-17-000005 -----------------------------------\n",
      "len  :718\n",
      "\n",
      "first_emp_head_block  :False\n",
      "\n",
      "split  :train\n",
      "\n",
      "para_text  :As of March 31, 2017, we operate five production facilities in Toronto, Winnipeg and Montreal, manufacturing approximately one-third of our products in-house. We also work with 30 Canadian and 7 international highly qualified subcontractors who offer specialized expertise, which provides us with flexibility to scale our production of parkas and non-core products, respectively. We employ 1,340 manufacturing employees as of March 31, 2017, and have been recognized by the Government of Canada for supporting the apparel manufacturing industry in Canada. We have invested ahead of our growth and more than doubled our in-house and contract manufacturing unit production capacity, respectively, in the past five years.\n",
      "\n",
      "----------------------------------- 0001690511-17-000005 -----------------------------------\n",
      "len  :564\n",
      "\n",
      "first_emp_head_block  :False\n",
      "\n",
      "split  :train\n",
      "\n",
      "para_text  :\"Share Compensation Arrangement\" means a stock option, stock option plan, employee stock purchase plan, long-term incentive plan or any other compensation or incentive mechanism involving the issuance or potential issuance of Shares to one or more full-time employees, directors, officers, Insiders, or consultants of the Corporation or a Subsidiary including a share purchase from treasury by a full-time employee, director, officer, Insider, or consultant which is financially assisted by the Corporation or a Subsidiary by way of a loan, guarantee or otherwise;\n",
      "\n"
     ]
    }
   ],
   "source": [
    "print_row_detail()"
   ]
  },
  {
   "cell_type": "markdown",
   "metadata": {},
   "source": [
    "## Test and refine regex patterns for flagging likely relevant documents"
   ]
  },
  {
   "cell_type": "markdown",
   "metadata": {
    "heading_collapsed": true
   },
   "source": [
    "### function: check_regex_match"
   ]
  },
  {
   "cell_type": "code",
   "execution_count": 54,
   "metadata": {
    "ExecuteTime": {
     "end_time": "2018-07-23T16:46:54.440791Z",
     "start_time": "2018-07-23T16:46:54.432786Z"
    },
    "hidden": true
   },
   "outputs": [],
   "source": [
    "def check_regex_match(pattern, text_list):\n",
    "    for idx, s in enumerate(text_list):\n",
    "        mo = re.search(pattern, s)\n",
    "        if mo:\n",
    "            ms = mo.span()[1]\n",
    "            print(\"------    \" + str(idx) + \"   Matched!    -----\")\n",
    "            print('str length  :' + str(len(s)) + '    match span  :' + str(ms))\n",
    "            print(s[:ms])\n",
    "            print('')\n",
    "            print(s[ms:])\n",
    "            print(re.search(pattern, s))\n",
    "        else:\n",
    "            print(\"------    \" + str(idx) + \"  NO MATCH    -----\")\n",
    "            print(s)"
   ]
  },
  {
   "cell_type": "markdown",
   "metadata": {
    "heading_collapsed": true
   },
   "source": [
    "### Test cases for regex"
   ]
  },
  {
   "cell_type": "code",
   "execution_count": 55,
   "metadata": {
    "ExecuteTime": {
     "end_time": "2018-07-23T16:47:09.601751Z",
     "start_time": "2018-07-23T16:47:09.592747Z"
    },
    "hidden": true,
    "scrolled": true
   },
   "outputs": [
    {
     "name": "stdout",
     "output_type": "stream",
     "text": [
      "------    0  NO MATCH    -----\n",
      "We are a small company with approximately 61 employees.\n",
      "------    1   Matched!    -----\n",
      "str length  :196    match span  :121\n",
      "The number of full-time employees of the Company was approximately 31,800 at December 31, 2016 and 32,300 at December 31,\n",
      "\n",
      " 2015. Total workforce level at December 31, 2016 was approximately 150,500\n",
      "<_sre.SRE_Match object; span=(4, 121), match='number of full-time employees of the Company was >\n",
      "------    2  NO MATCH    -----\n",
      "Currently, the Company and its subsidiaries have an aggregate of 35 employees.\n",
      "------    3  NO MATCH    -----\n",
      "we employ only 31 employees\n",
      "------    4  NO MATCH    -----\n",
      "We currently have 21 employees\n",
      "------    5  NO MATCH    -----\n",
      "((we|the compnay) )(currently )?((has|have|employ(s)?) )(the equivalent of )([0-9]{1,3},)*[0-9]{1,3}?We currently employ 26 full-time employees\n",
      "------    6  NO MATCH    -----\n",
      "Including our full and part-time personnel, we estimate that we have              the equivalent of 12 full time employees.As a REIT, we employ only 31 employees and have a cost-effective              management structure.\n"
     ]
    }
   ],
   "source": [
    "test_list = [\"We are a small company with approximately 61 employees.\",\n",
    "\"The number of full-time employees of the Company was approximately 31,800 at December 31, 2016 and 32,300 at December 31, 2015. \"\n",
    "\"Total workforce level at December 31, 2016 was approximately 150,500\",           \n",
    "\"Currently, the Company and its subsidiaries have an aggregate of 35 employees.\",\n",
    "\"we employ only 31 employees\", \n",
    "\"We currently have 21 employees\",\n",
    "\"((we|the compnay) )(currently )?((has|have|employ(s)?) )(the equivalent of )([0-9]{1,3},)*[0-9]{1,3}?\"\n",
    "\"We currently employ 26 full-time employees\",\n",
    "\"Including our full and part-time personnel, we estimate that we have \\\n",
    "             the equivalent of 12 full time employees.\"\n",
    "\"As a REIT, we employ only 31 employees and have a cost-effective \\\n",
    "             management structure.\"\n",
    "            ]\n",
    "\n",
    "check_regex_match(re.compile(r\"((number of|head[ -]?count|total|workforce) )[^.]+ (employees|team members) [^.]+ ([0-9]{1,3},)*[0-9]{1,3}[^\\d]\", re.I),\n",
    "                 test_list)"
   ]
  },
  {
   "cell_type": "markdown",
   "metadata": {},
   "source": [
    "### Working list for flagging positive matches"
   ]
  },
  {
   "cell_type": "code",
   "execution_count": 140,
   "metadata": {
    "ExecuteTime": {
     "end_time": "2018-07-23T20:04:49.900456Z",
     "start_time": "2018-07-23T20:04:49.895453Z"
    }
   },
   "outputs": [],
   "source": [
    "employee_terms = \"(associates|employees|full[ -]time[ -]equivalent(s)?|staff|team members|workers)\"\n",
    "person_terms = \"(individuals|people|persons)\"\n",
    "workforce_terms = \"(((employee|employment|head|personnel|staff|worker|workforce) (count(s)|level(s)|total(s))+)|(head-count|headcount|workforce))\"\n",
    "employee_type_terms = \"(full time|full-time|permanent|part time|part-time|regular|seasonal|temporary|total)\"\n",
    "\n",
    "numeral_pat = \"(([0-9]{1,3},)*[0-9]{1,3}([.][0-9])?)\"\n",
    "rel_qualifiers = \"(a total of|approximately|in aggregate|in total|(an|the) equivalent of|total)\"\n",
    "\n",
    "space_pat = \"( |\\n)\""
   ]
  },
  {
   "cell_type": "code",
   "execution_count": 141,
   "metadata": {
    "ExecuteTime": {
     "end_time": "2018-07-23T20:04:53.035050Z",
     "start_time": "2018-07-23T20:04:53.032048Z"
    }
   },
   "outputs": [],
   "source": [
    "magnitude_words = \"(hundred|thousand|million|billion)\" \n",
    "num_words = \"(one|two|three|four|five|six|seven|eight|nine|ten|eleven|twelve|thirteen|fourteen|fifteen|sixteen|seventeen|eighteen|nineteen)\""
   ]
  },
  {
   "cell_type": "code",
   "execution_count": 142,
   "metadata": {
    "ExecuteTime": {
     "end_time": "2018-07-23T20:04:54.003342Z",
     "start_time": "2018-07-23T20:04:53.999341Z"
    }
   },
   "outputs": [],
   "source": [
    "num_pat = \"\".join([\"((\",numeral_pat, \"|\", num_words, \")(\", space_pat, magnitude_words, \")?\", \")\"])\n",
    "\n",
    "num_emps_pat = \"\".join([num_pat, space_pat, \"(\", rel_qualifiers, space_pat, \")*\", \n",
    "                        \"(\", employee_type_terms, space_pat, \")*\"])"
   ]
  },
  {
   "cell_type": "code",
   "execution_count": 143,
   "metadata": {
    "ExecuteTime": {
     "end_time": "2018-07-23T20:04:55.609381Z",
     "start_time": "2018-07-23T20:04:55.599376Z"
    }
   },
   "outputs": [],
   "source": [
    "number_employees_pat = \"\".join([num_emps_pat, employee_terms])\n",
    "employed_num_pat = \"\".join([\"employ((ed|s)?)?\", space_pat, \"(\", rel_qualifiers, space_pat, \")*\", \n",
    "                        num_emps_pat])\n",
    "employed_words_num_pat = \"\".join([\"employ((ed|s)?)?\", \"[^.]+ *\", numeral_pat])\n",
    "workforce_words_num_pat = \"\".join([workforce_terms, \"[^.]+ *\", numeral_pat])\n",
    "\n",
    "\n",
    "emp_pat_list = [number_employees_pat, employed_num_pat, \n",
    "                employed_words_num_pat, workforce_words_num_pat, \n",
    "               r\"((number of|head[ -]?count|total|workforce) )[^.]+ (employees|team members) [^.]+ ([0-9]{1,3},)*[0-9]{1,3}[^\\d]\", \n",
    "               r\"(employees)(of the company )?((is|was|approximately) )*([0-9]{1,3},)*[0-9]{1,3}\"]\n",
    "emp_pats = [re.compile(x, re.I) for x in emp_pat_list]"
   ]
  },
  {
   "cell_type": "code",
   "execution_count": 105,
   "metadata": {
    "ExecuteTime": {
     "end_time": "2018-07-23T19:37:50.272692Z",
     "start_time": "2018-07-23T19:37:50.267688Z"
    }
   },
   "outputs": [],
   "source": [
    "flag_pat_list = [\n",
    "r\"employ((ed|s)?) ((approximately|the equivalent of) )*([0-9]{1,3},)*[0-9]{1,3} ((permanent|full|time|part|time|temporary|total|and|equivalent)[ -])*(employees|individuals|people|team members|members|persons|associates)\",\n",
    "r\"([0-9]{1,3},)*[0-9]{1,3} [^.]+ ((employ\\w*|head([ -])?count|member(s)?|person(s)?|people|staff|team|workforce))\",\n",
    "r\"((employ(ed)?|employee count|head([ -])?count|member(s)?|person(s)?|people|staff|team|workforce) )+[^.]+ *([0-9]{1,3},)*[0-9]{1,3}\",\n",
    "r\"((number of|head[ -]?count|total|workforce) )[^.]+ (employees|team members) [^.]+ ([0-9]{1,3},)*[0-9]{1,3}[^\\d]\",\n",
    "r\"([0-9]{1,3},)*[0-9]{1,3} ((permanent|full|time|part|time|temporary|total|and|equivalent)[ -])*(employees|team members)\",\n",
    "r\"(employees)(of the company )?((is|was|approximately) )*([0-9]{1,3},)*[0-9]{1,3}\"]\n",
    "\n",
    "\n",
    "#r\"((permanent|full|part|time|full-time|part-time|temporary) )+(employees|team members|associates)\",\n",
    "#r\"employed( approximately)?$\", \n",
    "#r\"Total workforce\",\n",
    "\n",
    "#r\"^((permanent|full|part|time|full-time|part-time|temporary|total) )*(employees|team members|associates)\"\n",
    "                 \n",
    "flag_pats = [re.compile(x, re.I) for x in flag_pat_list]"
   ]
  },
  {
   "cell_type": "code",
   "execution_count": 48,
   "metadata": {
    "ExecuteTime": {
     "end_time": "2018-06-30T15:32:04.597016Z",
     "start_time": "2018-06-30T15:32:04.593015Z"
    }
   },
   "outputs": [],
   "source": [
    "para_list = train_df.para_text.tolist()\n",
    "\n",
    "val_para_list = val_df.para_text.tolist()"
   ]
  },
  {
   "cell_type": "markdown",
   "metadata": {},
   "source": [
    "### Assign initial positive and negative labels using regex"
   ]
  },
  {
   "cell_type": "markdown",
   "metadata": {},
   "source": [
    "#### function: label_with_regex"
   ]
  },
  {
   "cell_type": "code",
   "execution_count": 70,
   "metadata": {
    "ExecuteTime": {
     "end_time": "2018-07-23T18:53:20.294774Z",
     "start_time": "2018-07-23T18:53:20.287769Z"
    }
   },
   "outputs": [],
   "source": [
    "\n",
    "def label_with_regex(df, regex_list, text_col = 'para_text', label_col = 'label', \n",
    "                    reset_labels_first = True):\n",
    "    \"\"\"Label df in place if text matches any regex in regex_list\"\"\"\n",
    "    df_para_list = df[text_col].tolist()\n",
    "    pos_ids = set()\n",
    "    for i, para in enumerate(df_para_list):\n",
    "    ## \"any() does not work for this purpose - it takes some explosive logic path\"\n",
    "    #if not any(reg.search(para) for reg in nonum_regs) and k2 not in para_dict[k]['df'].keys():\n",
    "        for reg in regex_list:\n",
    "            if reg.search(para):\n",
    "                pos_ids.add(df.index[i])\n",
    "                break\n",
    "    if reset_labels_first:\n",
    "        df.loc[:, label_col] = 0\n",
    "    df.loc[df.index.isin(pos_ids), label_col] = 1"
   ]
  },
  {
   "cell_type": "code",
   "execution_count": 145,
   "metadata": {
    "ExecuteTime": {
     "end_time": "2018-07-23T20:05:15.963926Z",
     "start_time": "2018-07-23T20:05:08.655589Z"
    }
   },
   "outputs": [
    {
     "name": "stderr",
     "output_type": "stream",
     "text": [
      "C:\\Anaconda\\lib\\site-packages\\pandas\\core\\indexing.py:537: SettingWithCopyWarning: \n",
      "A value is trying to be set on a copy of a slice from a DataFrame.\n",
      "Try using .loc[row_indexer,col_indexer] = value instead\n",
      "\n",
      "See the caveats in the documentation: http://pandas.pydata.org/pandas-docs/stable/indexing.html#indexing-view-versus-copy\n",
      "  self.obj[item] = s\n"
     ]
    }
   ],
   "source": [
    "label_with_regex(train_df, emp_pats)\n",
    "label_with_regex(val_df, emp_pats)"
   ]
  },
  {
   "cell_type": "markdown",
   "metadata": {},
   "source": [
    "### Create lists for exploring results (to be replaced by using DF)"
   ]
  },
  {
   "cell_type": "code",
   "execution_count": 75,
   "metadata": {
    "ExecuteTime": {
     "end_time": "2018-07-23T18:55:01.011188Z",
     "start_time": "2018-07-23T18:55:00.999180Z"
    },
    "collapsed": true
   },
   "outputs": [
    {
     "name": "stderr",
     "output_type": "stream",
     "text": [
      "C:\\Anaconda\\lib\\site-packages\\ipykernel_launcher.py:2: UserWarning: Boolean Series key will be reindexed to match DataFrame index.\n",
      "  \n"
     ]
    },
    {
     "data": {
      "text/plain": [
       "Workers' compensation    38\n",
       "Workers' Compensation    23\n",
       "D. Employees             19\n",
       "Workers compensation      9\n",
       "Total employees           8\n",
       "Workforce Reductions      7\n",
       "Workforce Solutions       7\n",
       "Total Employees           6\n",
       "D.  Employees             6\n",
       "Workforce reduction       5\n",
       "Workforce reductions      5\n",
       "Employees at year end     5\n",
       "Capital employed          5\n",
       "Workers Compensation      5\n",
       "Workforce Reduction       4\n",
       "Team Members              4\n",
       "Staffing services         3\n",
       "Stafford, VA              3\n",
       "Stafford, TX              3\n",
       "Total headcount           3\n",
       "D. EMPLOYEES              3\n",
       "Headcount Reduction       2\n",
       "Total associates          2\n",
       "Staff advances (a)        2\n",
       "Total workforce           2\n",
       "Employees (thousand)      2\n",
       "Average headcount         2\n",
       "Total staff costs         2\n",
       "D. Employees.             2\n",
       "WORKERS COMPENSATION      2\n",
       "                         ..\n",
       "Total team members        1\n",
       "Total Associates          1\n",
       "NATG - Workforce          1\n",
       "Full-time equivalents     1\n",
       "Stafford / SUSA Dr        1\n",
       "employees long term       1\n",
       "Stafford, Emeritus at     1\n",
       "M 330 Associates L.P.     1\n",
       "Billable headcount        1\n",
       "Year-end workforce        1\n",
       "Employees Covered         1\n",
       "24.2 Staff costs          1\n",
       "Workers Compensation*     1\n",
       "Actively Employed         1\n",
       "Staff advances            1\n",
       "D.    Employees           1\n",
       "Employees or              1\n",
       "employees since           1\n",
       "Billable Headcount(1)     1\n",
       "Headcount at year-end     1\n",
       "Worldwide headcount       1\n",
       "Workforce Enablement      1\n",
       "Staff vacations           1\n",
       "6.D Employees             1\n",
       "Staff Training            1\n",
       "Staff cost accruals       1\n",
       "Temporary Employees       1\n",
       "Self-Employed             1\n",
       "Employees - 94            1\n",
       "Staff housing loans       1\n",
       "Name: para_text, Length: 157, dtype: int64"
      ]
     },
     "execution_count": 75,
     "metadata": {},
     "output_type": "execute_result"
    }
   ],
   "source": [
    "train_df[np.logical_and(train_df.label ==0, \n",
    "                        train_df.len <= 21)][train_df.len >11].para_text.value_counts()"
   ]
  },
  {
   "cell_type": "code",
   "execution_count": 146,
   "metadata": {
    "ExecuteTime": {
     "end_time": "2018-07-23T20:06:03.053648Z",
     "start_time": "2018-07-23T20:06:02.583330Z"
    }
   },
   "outputs": [],
   "source": [
    "nonum_pat = re.compile(r\"^([^\\d]|[$][\\d]+)[^\\d]*$\", re.I)\n",
    "pos_key_list = train_df[(train_df.label ==1) & (train_df.len > 19)].acc_id.tolist()\n",
    "pos_list = train_df[(train_df.label ==1) & (train_df.len > 19)].para_text.tolist()\n",
    "neg_key_list = train_df[(train_df.label ==0) & (train_df.len > 19)].acc_id.tolist()\n",
    "neg_list = train_df[np.logical_and(train_df.label ==0, train_df.len > 19)].para_text.tolist()\n",
    "neg_key_list = [x for x in neg_key_list if not re.match(nonum_pat, neg_list[neg_key_list.index(x)])]\n",
    "neg_list = [x for x in neg_list if not re.match(nonum_pat, x)]\n"
   ]
  },
  {
   "cell_type": "code",
   "execution_count": 156,
   "metadata": {
    "ExecuteTime": {
     "end_time": "2018-07-23T22:35:33.724470Z",
     "start_time": "2018-07-23T22:35:33.629408Z"
    }
   },
   "outputs": [],
   "source": [
    "nonum_pat = re.compile(r\"^([^\\d]|[$][\\d]+)[^\\d]*$\", re.I)\n",
    "pos_key_list_val = val_df[(val_df.label ==1) & (val_df.len > 19)].acc_id.tolist()\n",
    "pos_list_val = val_df[(val_df.label ==1) & (val_df.len > 19)].para_text.tolist()\n",
    "neg_key_list_val = val_df[(val_df.label ==0) & (val_df.len > 19)].acc_id.tolist()\n",
    "neg_list_val = val_df[np.logical_and(val_df.label ==0, val_df.len > 19)].para_text.tolist()\n",
    "neg_key_list_val = [x for x in neg_key_list_val if not re.match(nonum_pat, neg_list_val[neg_key_list_val.index(x)])]\n",
    "neg_list_val = [x for x in neg_list_val if not re.match(nonum_pat, x)]\n"
   ]
  },
  {
   "cell_type": "code",
   "execution_count": 158,
   "metadata": {
    "ExecuteTime": {
     "end_time": "2018-07-23T22:36:27.459605Z",
     "start_time": "2018-07-23T22:36:27.443594Z"
    },
    "scrolled": true
   },
   "outputs": [
    {
     "name": "stdout",
     "output_type": "stream",
     "text": [
      "Total paragraphs: 7801\n",
      "Positive paragraphs: 5409\n",
      "Total keys: 1661\n",
      "Keys with positive labels: 1618\n",
      "Negative paragraphs: 2392\n",
      "Keys with negative labels: 1572\n"
     ]
    }
   ],
   "source": [
    "print('Total paragraphs: ' + str(len(pos_list + neg_list)))\n",
    "\n",
    "print('Positive paragraphs: ' + str(len(pos_list)))\n",
    "print('Total keys: ' + str(len(train_df.acc_id.unique())))\n",
    "print('Keys with positive labels: ' + str(len(train_df[train_df.label ==1].acc_id.unique())))\n",
    "print('Negative paragraphs: ' + str(len(neg_list)))\n",
    "print('Keys with negative labels: ' + str(len(train_df[train_df.label ==0].acc_id.unique())))"
   ]
  },
  {
   "cell_type": "markdown",
   "metadata": {},
   "source": [
    "Validation labels"
   ]
  },
  {
   "cell_type": "code",
   "execution_count": 157,
   "metadata": {
    "ExecuteTime": {
     "end_time": "2018-07-23T22:36:06.784892Z",
     "start_time": "2018-07-23T22:36:06.771891Z"
    },
    "scrolled": true
   },
   "outputs": [
    {
     "name": "stdout",
     "output_type": "stream",
     "text": [
      "Total paragraphs: 2676\n",
      "Positive paragraphs: 1863\n",
      "Total keys: 555\n",
      "Keys with positive labels: 543\n",
      "Negative paragraphs: 813\n",
      "Keys with negative labels: 535\n"
     ]
    }
   ],
   "source": [
    "print('Total paragraphs: ' + str(len(pos_list_val + neg_list_val)))\n",
    "\n",
    "print('Positive paragraphs: ' + str(len(pos_list_val)))\n",
    "print('Total keys: ' + str(len(val_df.acc_id.unique())))\n",
    "print('Keys with positive labels: ' + str(len(val_df[val_df.label ==1].acc_id.unique())))\n",
    "print('Negative paragraphs: ' + str(len(neg_list_val)))\n",
    "print('Keys with negative labels: ' + str(len(val_df[val_df.label ==0].acc_id.unique())))"
   ]
  },
  {
   "cell_type": "code",
   "execution_count": 78,
   "metadata": {
    "ExecuteTime": {
     "end_time": "2018-07-23T18:55:50.185223Z",
     "start_time": "2018-07-23T18:55:50.159205Z"
    },
    "collapsed": true
   },
   "outputs": [
    {
     "data": {
      "text/html": [
       "<div>\n",
       "<style scoped>\n",
       "    .dataframe tbody tr th:only-of-type {\n",
       "        vertical-align: middle;\n",
       "    }\n",
       "\n",
       "    .dataframe tbody tr th {\n",
       "        vertical-align: top;\n",
       "    }\n",
       "\n",
       "    .dataframe thead th {\n",
       "        text-align: right;\n",
       "    }\n",
       "</style>\n",
       "<table border=\"1\" class=\"dataframe\">\n",
       "  <thead>\n",
       "    <tr style=\"text-align: right;\">\n",
       "      <th></th>\n",
       "      <th>acc_id</th>\n",
       "      <th>para_text</th>\n",
       "      <th>len</th>\n",
       "      <th>emp_header</th>\n",
       "      <th>first_emp_head_block</th>\n",
       "      <th>para_text_orig</th>\n",
       "      <th>para_tag</th>\n",
       "      <th>split</th>\n",
       "      <th>label</th>\n",
       "    </tr>\n",
       "    <tr>\n",
       "      <th>idx</th>\n",
       "      <th></th>\n",
       "      <th></th>\n",
       "      <th></th>\n",
       "      <th></th>\n",
       "      <th></th>\n",
       "      <th></th>\n",
       "      <th></th>\n",
       "      <th></th>\n",
       "      <th></th>\n",
       "    </tr>\n",
       "  </thead>\n",
       "  <tbody>\n",
       "    <tr>\n",
       "      <th>180</th>\n",
       "      <td>0000011544-17-000009</td>\n",
       "      <td>Employees</td>\n",
       "      <td>10</td>\n",
       "      <td>False</td>\n",
       "      <td>False</td>\n",
       "      <td>Employees</td>\n",
       "      <td>&lt;div class=\"c240\"&gt;&lt;span class=\"c239\"&gt;Employees...</td>\n",
       "      <td>train</td>\n",
       "      <td>0</td>\n",
       "    </tr>\n",
       "    <tr>\n",
       "      <th>278</th>\n",
       "      <td>0000018498-16-000065</td>\n",
       "      <td>Employees'</td>\n",
       "      <td>10</td>\n",
       "      <td>False</td>\n",
       "      <td>False</td>\n",
       "      <td>Employees'</td>\n",
       "      <td>&lt;div class=\"c19\"&gt;Employees'&lt;/div&gt;</td>\n",
       "      <td>train</td>\n",
       "      <td>0</td>\n",
       "    </tr>\n",
       "    <tr>\n",
       "      <th>280</th>\n",
       "      <td>0000018498-16-000065</td>\n",
       "      <td>Employees'</td>\n",
       "      <td>10</td>\n",
       "      <td>False</td>\n",
       "      <td>False</td>\n",
       "      <td>Employees'</td>\n",
       "      <td>&lt;div class=\"c205\"&gt;Employees'&lt;/div&gt;</td>\n",
       "      <td>train</td>\n",
       "      <td>0</td>\n",
       "    </tr>\n",
       "    <tr>\n",
       "      <th>281</th>\n",
       "      <td>0000018498-16-000065</td>\n",
       "      <td>Employees'</td>\n",
       "      <td>10</td>\n",
       "      <td>False</td>\n",
       "      <td>False</td>\n",
       "      <td>Employees'</td>\n",
       "      <td>&lt;div class=\"c334\"&gt;Employees'&lt;/div&gt;</td>\n",
       "      <td>train</td>\n",
       "      <td>0</td>\n",
       "    </tr>\n",
       "    <tr>\n",
       "      <th>1068</th>\n",
       "      <td>0000068709-17-000026</td>\n",
       "      <td>Employees</td>\n",
       "      <td>10</td>\n",
       "      <td>False</td>\n",
       "      <td>False</td>\n",
       "      <td>Employees</td>\n",
       "      <td>&lt;div class=\"c1\"&gt;&lt;span class=\"c76\"&gt;Employees&lt;/s...</td>\n",
       "      <td>train</td>\n",
       "      <td>0</td>\n",
       "    </tr>\n",
       "    <tr>\n",
       "      <th>1111</th>\n",
       "      <td>0000072207-17-000014</td>\n",
       "      <td>Employees</td>\n",
       "      <td>10</td>\n",
       "      <td>False</td>\n",
       "      <td>False</td>\n",
       "      <td>Employees</td>\n",
       "      <td>&lt;div class=\"c172\"&gt;&lt;span class=\"c56\"&gt;Employees&lt;...</td>\n",
       "      <td>train</td>\n",
       "      <td>0</td>\n",
       "    </tr>\n",
       "    <tr>\n",
       "      <th>1372</th>\n",
       "      <td>0000089089-17-000006</td>\n",
       "      <td>Associates</td>\n",
       "      <td>10</td>\n",
       "      <td>False</td>\n",
       "      <td>False</td>\n",
       "      <td>Associates</td>\n",
       "      <td>&lt;div class=\"c67\"&gt;Associates&lt;/div&gt;</td>\n",
       "      <td>train</td>\n",
       "      <td>0</td>\n",
       "    </tr>\n",
       "    <tr>\n",
       "      <th>1671</th>\n",
       "      <td>0000105634-17-000043</td>\n",
       "      <td>Employees</td>\n",
       "      <td>10</td>\n",
       "      <td>False</td>\n",
       "      <td>False</td>\n",
       "      <td>Employees</td>\n",
       "      <td>&lt;div class=\"c77\"&gt;&lt;span class=\"c80\"&gt; &lt;/span&gt;&lt;a ...</td>\n",
       "      <td>train</td>\n",
       "      <td>0</td>\n",
       "    </tr>\n",
       "    <tr>\n",
       "      <th>2184</th>\n",
       "      <td>0000717538-17-000060</td>\n",
       "      <td>Employees'</td>\n",
       "      <td>10</td>\n",
       "      <td>False</td>\n",
       "      <td>False</td>\n",
       "      <td>Employees'</td>\n",
       "      <td>&lt;div class=\"c53\"&gt;Employees'&lt;/div&gt;</td>\n",
       "      <td>train</td>\n",
       "      <td>0</td>\n",
       "    </tr>\n",
       "    <tr>\n",
       "      <th>2255</th>\n",
       "      <td>0000729580-17-000006</td>\n",
       "      <td>Associates</td>\n",
       "      <td>10</td>\n",
       "      <td>False</td>\n",
       "      <td>False</td>\n",
       "      <td>Associates</td>\n",
       "      <td>&lt;div class=\"c78\"&gt;Associates&lt;/div&gt;</td>\n",
       "      <td>train</td>\n",
       "      <td>0</td>\n",
       "    </tr>\n",
       "    <tr>\n",
       "      <th>2469</th>\n",
       "      <td>0000768835-16-000096</td>\n",
       "      <td>Associates</td>\n",
       "      <td>10</td>\n",
       "      <td>False</td>\n",
       "      <td>False</td>\n",
       "      <td>Associates</td>\n",
       "      <td>&lt;div class=\"c50\"&gt;Associates&lt;/div&gt;</td>\n",
       "      <td>train</td>\n",
       "      <td>0</td>\n",
       "    </tr>\n",
       "    <tr>\n",
       "      <th>2612</th>\n",
       "      <td>0000796343-17-000031</td>\n",
       "      <td>EMPLOYEES</td>\n",
       "      <td>10</td>\n",
       "      <td>False</td>\n",
       "      <td>False</td>\n",
       "      <td>EMPLOYEES</td>\n",
       "      <td>&lt;div class=\"c119\"&gt;&lt;span class=\"c118\"&gt;EMPLOYEES...</td>\n",
       "      <td>train</td>\n",
       "      <td>0</td>\n",
       "    </tr>\n",
       "    <tr>\n",
       "      <th>2763</th>\n",
       "      <td>0000814547-16-000035</td>\n",
       "      <td>employees)</td>\n",
       "      <td>10</td>\n",
       "      <td>False</td>\n",
       "      <td>False</td>\n",
       "      <td>employees)</td>\n",
       "      <td>&lt;div class=\"c35\"&gt;employees)&lt;/div&gt;</td>\n",
       "      <td>train</td>\n",
       "      <td>0</td>\n",
       "    </tr>\n",
       "    <tr>\n",
       "      <th>2840</th>\n",
       "      <td>0000824142-17-000034</td>\n",
       "      <td>Employees:</td>\n",
       "      <td>10</td>\n",
       "      <td>False</td>\n",
       "      <td>False</td>\n",
       "      <td>Employees:</td>\n",
       "      <td>&lt;div class=\"c159\"&gt;Employees:&lt;/div&gt;</td>\n",
       "      <td>train</td>\n",
       "      <td>0</td>\n",
       "    </tr>\n",
       "    <tr>\n",
       "      <th>3408</th>\n",
       "      <td>0000886128-17-000007</td>\n",
       "      <td>Associates</td>\n",
       "      <td>10</td>\n",
       "      <td>False</td>\n",
       "      <td>False</td>\n",
       "      <td>Associates</td>\n",
       "      <td>&lt;div class=\"c62\"&gt;Associates&lt;/div&gt;</td>\n",
       "      <td>train</td>\n",
       "      <td>0</td>\n",
       "    </tr>\n",
       "    <tr>\n",
       "      <th>3412</th>\n",
       "      <td>0000886128-17-000007</td>\n",
       "      <td>Associates</td>\n",
       "      <td>10</td>\n",
       "      <td>False</td>\n",
       "      <td>False</td>\n",
       "      <td>Associates</td>\n",
       "      <td>&lt;div class=\"c161\"&gt;Associates&lt;/div&gt;</td>\n",
       "      <td>train</td>\n",
       "      <td>0</td>\n",
       "    </tr>\n",
       "    <tr>\n",
       "      <th>3585</th>\n",
       "      <td>0000895419-16-000167</td>\n",
       "      <td>Associates</td>\n",
       "      <td>10</td>\n",
       "      <td>False</td>\n",
       "      <td>False</td>\n",
       "      <td>Associates</td>\n",
       "      <td>&lt;div class=\"c591\"&gt;Associates&lt;/div&gt;</td>\n",
       "      <td>train</td>\n",
       "      <td>0</td>\n",
       "    </tr>\n",
       "    <tr>\n",
       "      <th>3586</th>\n",
       "      <td>0000895419-16-000167</td>\n",
       "      <td>Associates</td>\n",
       "      <td>10</td>\n",
       "      <td>False</td>\n",
       "      <td>False</td>\n",
       "      <td>Associates</td>\n",
       "      <td>&lt;div class=\"c909\"&gt;Associates&lt;/div&gt;</td>\n",
       "      <td>train</td>\n",
       "      <td>0</td>\n",
       "    </tr>\n",
       "    <tr>\n",
       "      <th>3587</th>\n",
       "      <td>0000895419-16-000167</td>\n",
       "      <td>Associates</td>\n",
       "      <td>10</td>\n",
       "      <td>False</td>\n",
       "      <td>False</td>\n",
       "      <td>Associates</td>\n",
       "      <td>&lt;div class=\"c908\"&gt;Associates&lt;/div&gt;</td>\n",
       "      <td>train</td>\n",
       "      <td>0</td>\n",
       "    </tr>\n",
       "    <tr>\n",
       "      <th>3615</th>\n",
       "      <td>0000897077-17-000019</td>\n",
       "      <td>Employees'</td>\n",
       "      <td>10</td>\n",
       "      <td>False</td>\n",
       "      <td>False</td>\n",
       "      <td>Employees'</td>\n",
       "      <td>&lt;div class=\"c179\"&gt;Employees'&lt;/div&gt;</td>\n",
       "      <td>train</td>\n",
       "      <td>0</td>\n",
       "    </tr>\n",
       "  </tbody>\n",
       "</table>\n",
       "</div>"
      ],
      "text/plain": [
       "                    acc_id   para_text  len  emp_header  first_emp_head_block  \\\n",
       "idx                                                                             \n",
       "180   0000011544-17-000009   Employees   10       False                 False   \n",
       "278   0000018498-16-000065  Employees'   10       False                 False   \n",
       "280   0000018498-16-000065  Employees'   10       False                 False   \n",
       "281   0000018498-16-000065  Employees'   10       False                 False   \n",
       "1068  0000068709-17-000026   Employees   10       False                 False   \n",
       "1111  0000072207-17-000014   Employees   10       False                 False   \n",
       "1372  0000089089-17-000006  Associates   10       False                 False   \n",
       "1671  0000105634-17-000043   Employees   10       False                 False   \n",
       "2184  0000717538-17-000060  Employees'   10       False                 False   \n",
       "2255  0000729580-17-000006  Associates   10       False                 False   \n",
       "2469  0000768835-16-000096  Associates   10       False                 False   \n",
       "2612  0000796343-17-000031   EMPLOYEES   10       False                 False   \n",
       "2763  0000814547-16-000035  employees)   10       False                 False   \n",
       "2840  0000824142-17-000034  Employees:   10       False                 False   \n",
       "3408  0000886128-17-000007  Associates   10       False                 False   \n",
       "3412  0000886128-17-000007  Associates   10       False                 False   \n",
       "3585  0000895419-16-000167  Associates   10       False                 False   \n",
       "3586  0000895419-16-000167  Associates   10       False                 False   \n",
       "3587  0000895419-16-000167  Associates   10       False                 False   \n",
       "3615  0000897077-17-000019  Employees'   10       False                 False   \n",
       "\n",
       "     para_text_orig                                           para_tag  split  \\\n",
       "idx                                                                             \n",
       "180      Employees   <div class=\"c240\"><span class=\"c239\">Employees...  train   \n",
       "278      Employees'                  <div class=\"c19\">Employees'</div>  train   \n",
       "280      Employees'                 <div class=\"c205\">Employees'</div>  train   \n",
       "281      Employees'                 <div class=\"c334\">Employees'</div>  train   \n",
       "1068     Employees   <div class=\"c1\"><span class=\"c76\">Employees</s...  train   \n",
       "1111     Employees   <div class=\"c172\"><span class=\"c56\">Employees<...  train   \n",
       "1372     Associates                  <div class=\"c67\">Associates</div>  train   \n",
       "1671      Employees  <div class=\"c77\"><span class=\"c80\"> </span><a ...  train   \n",
       "2184     Employees'                  <div class=\"c53\">Employees'</div>  train   \n",
       "2255     Associates                  <div class=\"c78\">Associates</div>  train   \n",
       "2469     Associates                  <div class=\"c50\">Associates</div>  train   \n",
       "2612     EMPLOYEES   <div class=\"c119\"><span class=\"c118\">EMPLOYEES...  train   \n",
       "2763     employees)                  <div class=\"c35\">employees)</div>  train   \n",
       "2840     Employees:                 <div class=\"c159\">Employees:</div>  train   \n",
       "3408     Associates                  <div class=\"c62\">Associates</div>  train   \n",
       "3412     Associates                 <div class=\"c161\">Associates</div>  train   \n",
       "3585     Associates                 <div class=\"c591\">Associates</div>  train   \n",
       "3586     Associates                 <div class=\"c909\">Associates</div>  train   \n",
       "3587     Associates                 <div class=\"c908\">Associates</div>  train   \n",
       "3615     Employees'                 <div class=\"c179\">Employees'</div>  train   \n",
       "\n",
       "      label  \n",
       "idx          \n",
       "180       0  \n",
       "278       0  \n",
       "280       0  \n",
       "281       0  \n",
       "1068      0  \n",
       "1111      0  \n",
       "1372      0  \n",
       "1671      0  \n",
       "2184      0  \n",
       "2255      0  \n",
       "2469      0  \n",
       "2612      0  \n",
       "2763      0  \n",
       "2840      0  \n",
       "3408      0  \n",
       "3412      0  \n",
       "3585      0  \n",
       "3586      0  \n",
       "3587      0  \n",
       "3615      0  "
      ]
     },
     "execution_count": 78,
     "metadata": {},
     "output_type": "execute_result"
    }
   ],
   "source": [
    "train_df[train_df.len == 10].head(20)"
   ]
  },
  {
   "cell_type": "markdown",
   "metadata": {},
   "source": [
    "### function: print_docs_from_list"
   ]
  },
  {
   "cell_type": "code",
   "execution_count": 79,
   "metadata": {
    "ExecuteTime": {
     "end_time": "2018-07-23T18:56:05.658564Z",
     "start_time": "2018-07-23T18:56:05.653560Z"
    }
   },
   "outputs": [],
   "source": [
    "def print_docs_from_list(key_list: list, doc_list: list, start: int=0, ndocs: int=50):\n",
    "    end = start + ndocs\n",
    "    for idx, tup in enumerate(zip(key_list[start:end], doc_list[start:end])):\n",
    "        print(str(idx + start) + '   ------   ' + str(tup[0]))\n",
    "        print(tup[1])"
   ]
  },
  {
   "cell_type": "markdown",
   "metadata": {},
   "source": [
    "### Patterns to identify paragraphs with few or no numerals"
   ]
  },
  {
   "cell_type": "markdown",
   "metadata": {},
   "source": [
    "These paragraphs are often not relevant"
   ]
  },
  {
   "cell_type": "code",
   "execution_count": 153,
   "metadata": {
    "ExecuteTime": {
     "end_time": "2018-07-23T20:19:31.005731Z",
     "start_time": "2018-07-23T20:19:31.000729Z"
    }
   },
   "outputs": [],
   "source": [
    "nonum_pats = [r\"^([^\\d]|[$][\\d]+)[^\\d]+$\",\n",
    "    r\"^[^\\d]{0,2}\\d{1,2}[^\\d]*$\", \n",
    "    r\"^[^\\d]* \\d{1,2}[^\\d]*$\", \n",
    "    r\"^([^\\d]+(\\d{1,2}[^\\d]{2,}){1,5}\\d{1,3}[^\\d]*)$\",\n",
    "    r\"^((\\d{1,3}[^\\d]{2,}){1,4}\\d{1,2}[^\\d]*)$\"]\n",
    "year_and_num = re.compile(r\"20[0-2][0-9].*[0-9]{1,3}.*|[0-9]{1,3}.*20[0-2][0-9]\", re.I)\n",
    "nonum_regs = [re.compile(x) for x in nonum_pats]"
   ]
  },
  {
   "cell_type": "code",
   "execution_count": 154,
   "metadata": {
    "ExecuteTime": {
     "end_time": "2018-07-23T20:19:33.813866Z",
     "start_time": "2018-07-23T20:19:33.499410Z"
    }
   },
   "outputs": [
    {
     "name": "stdout",
     "output_type": "stream",
     "text": [
      "71\n",
      "7\n",
      "79\n",
      "94\n",
      "3\n"
     ]
    }
   ],
   "source": [
    "for y in nonum_regs:\n",
    "    print(len([x for x in pos_list if re.search(y, x)]))"
   ]
  },
  {
   "cell_type": "code",
   "execution_count": 150,
   "metadata": {
    "ExecuteTime": {
     "end_time": "2018-07-23T20:11:51.737785Z",
     "start_time": "2018-07-23T20:11:51.555664Z"
    }
   },
   "outputs": [
    {
     "name": "stdout",
     "output_type": "stream",
     "text": [
      "0\n",
      "23\n",
      "114\n",
      "80\n",
      "2\n"
     ]
    }
   ],
   "source": [
    "for y in nonum_regs:\n",
    "    print(len([x for x in neg_list if re.search(y, x)]))"
   ]
  },
  {
   "cell_type": "code",
   "execution_count": 155,
   "metadata": {
    "ExecuteTime": {
     "end_time": "2018-07-23T20:19:42.097296Z",
     "start_time": "2018-07-23T20:19:41.977216Z"
    }
   },
   "outputs": [
    {
     "name": "stdout",
     "output_type": "stream",
     "text": [
      "------    0   Matched!    -----\n",
      "str length  :1074    match span  :1074\n",
      "In determining the fair market value of securities held in the Trust Fund which are listed on a registered stock exchange, the Administrator shall direct the Trustee to value the same at the prices they were last traded on such exchange preceding the close of business on the Valuation Date. If such securities were not traded on the Valuation Date, or if the exchange on which they are traded was not open for business on the Valuation Date, then the securities shall be valued at the prices at which they were last traded prior to the Valuation Date. Any unlisted security held in the Trust Fund shall be valued at its bid price next preceding the close of business on the Valuation Date, which bid price shall be obtained from a registered broker or an investment banker. In determining the fair market value of assets other than securities for which trading or bid prices can be obtained, the Trustee may appraise such assets itself, or in its discretion, employ one or more appraisers for that purpose and rely on the values established by such appraiser or appraisers.\n",
      "\n",
      "\n",
      "<_sre.SRE_Match object; span=(0, 1074), match='In determining the fair market value of securitie>\n",
      "------    1   Matched!    -----\n",
      "str length  :140    match span  :140\n",
      "The Specialty Chemicals Segment maintains three laboratories for applied research and quality control which are staffed by eleven employees.\n",
      "\n",
      "\n",
      "<_sre.SRE_Match object; span=(0, 140), match='The Specialty Chemicals Segment maintains three l>\n",
      "------    2   Matched!    -----\n",
      "str length  :344    match span  :344\n",
      "Palmer employs three sales professionals that manage the relationship with customers and partnerships to identify and secure new sales. Additionally, the Metals Segment President assists in account relationship management with large customers. Customer feedback and in-field experience generate product enhancements and new product development.\n",
      "\n",
      "\n",
      "<_sre.SRE_Match object; span=(0, 344), match='Palmer employs three sales professionals that man>\n",
      "------    3   Matched!    -----\n",
      "str length  :562    match span  :562\n",
      "Our two staffing services segments provide workforce management expertise through locations in North America, Europe and several Asia Pacific locations. We deliver a broad spectrum of contingent staffing, direct placement, recruitment process outsourcing (RPO), staffing management, and other employment services. Our contingent workers are placed on assignment with our customers in a broad range of occupations including manufacturing, assembly, warehousing, industrial, information technology, engineering, administrative, call center, accounting and finance.\n",
      "\n",
      "\n",
      "<_sre.SRE_Match object; span=(0, 562), match='Our two staffing services segments provide workfo>\n",
      "------    4   Matched!    -----\n",
      "str length  :327    match span  :327\n",
      "Any Fiduciary may employ one or more persons to render advice with respect to any responsibility such fiduciary has under the Plan or Trust Agreement. Each Fiduciary may, but need not, be a director, proprietor, partner, officer or Employee of an Employer. Nothing in the Plan shall be construed to prohibit any Fiduciary from:\n",
      "\n",
      "\n",
      "<_sre.SRE_Match object; span=(0, 327), match='Any Fiduciary may employ one or more persons to r>\n",
      "------    5   Matched!    -----\n",
      "str length  :627    match span  :627\n",
      "Five employees of the Company serve as directors of Capitol's five member board of directors. Nine employees of the Company also serve as directors of ORCC's nine member board of directors. Kemper's subsidiary, United Insurance, provides claims and administrative services to Capitol and ORCC. In addition, agents appointed by Kemper's subsidiary, The Reliable Life Insurance Company, and who are employed by United Insurance, are also appointed by Capitol and ORCC to sell property insurance products for the Company's Life & Health Insurance segment. The Company also provides certain investment services to Capitol and ORCC.\n",
      "\n",
      "\n",
      "<_sre.SRE_Match object; span=(0, 627), match=\"Five employees of the Company serve as directors >\n",
      "------    6   Matched!    -----\n",
      "str length  :28    match span  :28\n",
      "Mark Twelve Associates, L.P.\n",
      "\n",
      "\n",
      "<_sre.SRE_Match object; span=(0, 28), match='Mark Twelve Associates, L.P.'>\n",
      "------    7   Matched!    -----\n",
      "str length  :436    match span  :436\n",
      "Our success after the merger will depend in part upon our ability to retain key Regency and Equity One employees. Key employees may depart either before or after the merger because of issues relating to the uncertainty and difficulty of integration or a desire not to remain with Regency Centers following the merger. Accordingly, no assurance can be given that we will be able to retain key employees to the same extent as in the past.\n",
      "\n",
      "\n",
      "<_sre.SRE_Match object; span=(0, 436), match='Our success after the merger will depend in part >\n",
      "------    8   Matched!    -----\n",
      "str length  :22    match span  :22\n",
      "Alliance One Employees\n",
      "\n",
      "\n",
      "<_sre.SRE_Match object; span=(0, 22), match='Alliance One Employees'>\n",
      "------    9   Matched!    -----\n",
      "str length  :24    match span  :24\n",
      "Ten employees as a group\n",
      "\n",
      "\n",
      "<_sre.SRE_Match object; span=(0, 24), match='Ten employees as a group'>\n",
      "------    10   Matched!    -----\n",
      "str length  :33    match span  :33\n",
      "Twenty-eight employees as a group\n",
      "\n",
      "\n",
      "<_sre.SRE_Match object; span=(0, 33), match='Twenty-eight employees as a group'>\n",
      "------    11   Matched!    -----\n",
      "str length  :24    match span  :24\n",
      "Two employees as a group\n",
      "\n",
      "\n",
      "<_sre.SRE_Match object; span=(0, 24), match='Two employees as a group'>\n",
      "------    12   Matched!    -----\n",
      "str length  :26    match span  :26\n",
      "Three employees as a group\n",
      "\n",
      "\n",
      "<_sre.SRE_Match object; span=(0, 26), match='Three employees as a group'>\n",
      "------    13   Matched!    -----\n",
      "str length  :25    match span  :25\n",
      "Five employees as a group\n",
      "\n",
      "\n",
      "<_sre.SRE_Match object; span=(0, 25), match='Five employees as a group'>\n",
      "------    14   Matched!    -----\n",
      "str length  :26    match span  :26\n",
      "Eight employees as a group\n",
      "\n",
      "\n",
      "<_sre.SRE_Match object; span=(0, 26), match='Eight employees as a group'>\n",
      "------    15   Matched!    -----\n",
      "str length  :29    match span  :29\n",
      "Thirteen employees as a group\n",
      "\n",
      "\n",
      "<_sre.SRE_Match object; span=(0, 29), match='Thirteen employees as a group'>\n",
      "------    16   Matched!    -----\n",
      "str length  :24    match span  :24\n",
      "Six employees as a group\n",
      "\n",
      "\n",
      "<_sre.SRE_Match object; span=(0, 24), match='Six employees as a group'>\n",
      "------    17   Matched!    -----\n",
      "str length  :25    match span  :25\n",
      "Four employees as a group\n",
      "\n",
      "\n",
      "<_sre.SRE_Match object; span=(0, 25), match='Four employees as a group'>\n",
      "------    18   Matched!    -----\n",
      "str length  :34    match span  :34\n",
      "Seventy-eight employees as a group\n",
      "\n",
      "\n",
      "<_sre.SRE_Match object; span=(0, 34), match='Seventy-eight employees as a group'>\n",
      "------    19   Matched!    -----\n",
      "str length  :29    match span  :29\n",
      "Eighteen employees as a group\n",
      "\n",
      "\n",
      "<_sre.SRE_Match object; span=(0, 29), match='Eighteen employees as a group'>\n",
      "------    20   Matched!    -----\n",
      "str length  :26    match span  :26\n",
      "Seven employees as a group\n",
      "\n",
      "\n",
      "<_sre.SRE_Match object; span=(0, 26), match='Seven employees as a group'>\n",
      "------    21   Matched!    -----\n",
      "str length  :29    match span  :29\n",
      "Fourteen employees as a group\n",
      "\n",
      "\n",
      "<_sre.SRE_Match object; span=(0, 29), match='Fourteen employees as a group'>\n",
      "------    22   Matched!    -----\n",
      "str length  :47    match span  :47\n",
      "One hundred and thirty-one employees as a group\n",
      "\n",
      "\n",
      "<_sre.SRE_Match object; span=(0, 47), match='One hundred and thirty-one employees as a group'>\n",
      "------    23   Matched!    -----\n",
      "str length  :48    match span  :48\n",
      "One hundred and fifty-three employees as a group\n",
      "\n",
      "\n",
      "<_sre.SRE_Match object; span=(0, 48), match='One hundred and fifty-three employees as a group'>\n",
      "------    24   Matched!    -----\n",
      "str length  :34    match span  :34\n",
      "Seventy-three employees as a group\n",
      "\n",
      "\n",
      "<_sre.SRE_Match object; span=(0, 34), match='Seventy-three employees as a group'>\n",
      "------    25   Matched!    -----\n",
      "str length  :25    match span  :25\n",
      "Nine employees as a group\n",
      "\n",
      "\n",
      "<_sre.SRE_Match object; span=(0, 25), match='Nine employees as a group'>\n",
      "------    26   Matched!    -----\n",
      "str length  :49    match span  :49\n",
      "One hundred and seventy-four employees as a group\n",
      "\n",
      "\n",
      "<_sre.SRE_Match object; span=(0, 49), match='One hundred and seventy-four employees as a group>\n",
      "------    27   Matched!    -----\n",
      "str length  :48    match span  :48\n",
      "One hundred and forty-eight employees as a group\n",
      "\n",
      "\n",
      "<_sre.SRE_Match object; span=(0, 48), match='One hundred and forty-eight employees as a group'>\n",
      "------    28   Matched!    -----\n",
      "str length  :48    match span  :48\n",
      "One hundred and thirty-nine employees as a group\n",
      "\n",
      "\n",
      "<_sre.SRE_Match object; span=(0, 48), match='One hundred and thirty-nine employees as a group'>\n",
      "------    29   Matched!    -----\n",
      "str length  :50    match span  :50\n",
      "Seven hundred and forty-eight employees as a group\n",
      "\n",
      "\n",
      "<_sre.SRE_Match object; span=(0, 50), match='Seven hundred and forty-eight employees as a grou>\n",
      "------    30   Matched!    -----\n",
      "str length  :47    match span  :47\n",
      "One hundred and eighty-six employees as a group\n",
      "\n",
      "\n",
      "<_sre.SRE_Match object; span=(0, 47), match='One hundred and eighty-six employees as a group'>\n",
      "------    31   Matched!    -----\n",
      "str length  :42    match span  :42\n",
      "Two hundred and seven employees as a group\n",
      "\n",
      "\n",
      "<_sre.SRE_Match object; span=(0, 42), match='Two hundred and seven employees as a group'>\n",
      "------    32   Matched!    -----\n",
      "str length  :32    match span  :32\n",
      "Eighty-four employees as a group\n",
      "\n",
      "\n",
      "<_sre.SRE_Match object; span=(0, 32), match='Eighty-four employees as a group'>\n",
      "------    33   Matched!    -----\n",
      "str length  :49    match span  :49\n",
      "Two hundred and thirty-eight employees as a group\n",
      "\n",
      "\n",
      "<_sre.SRE_Match object; span=(0, 49), match='Two hundred and thirty-eight employees as a group>\n",
      "------    34   Matched!    -----\n",
      "str length  :33    match span  :33\n",
      "Twenty-three employees as a group\n",
      "\n",
      "\n",
      "<_sre.SRE_Match object; span=(0, 33), match='Twenty-three employees as a group'>\n",
      "------    35   Matched!    -----\n",
      "str length  :27    match span  :27\n",
      "Twelve employees as a group\n",
      "\n",
      "\n",
      "<_sre.SRE_Match object; span=(0, 27), match='Twelve employees as a group'>\n",
      "------    36   Matched!    -----\n",
      "str length  :28    match span  :28\n",
      "HCIN Duo One Associates, LLC\n",
      "\n",
      "\n",
      "<_sre.SRE_Match object; span=(0, 28), match='HCIN Duo One Associates, LLC'>\n",
      "------    37   Matched!    -----\n",
      "str length  :30    match span  :30\n",
      "HCIN Duo Three Associates, LLC\n",
      "\n",
      "\n",
      "<_sre.SRE_Match object; span=(0, 30), match='HCIN Duo Three Associates, LLC'>\n",
      "------    38   Matched!    -----\n",
      "str length  :28    match span  :28\n",
      "HCIN Duo Two Associates, LLC\n",
      "\n",
      "\n",
      "<_sre.SRE_Match object; span=(0, 28), match='HCIN Duo Two Associates, LLC'>\n",
      "------    39   Matched!    -----\n",
      "str length  :34    match span  :34\n",
      "HHLP Dartmouth One Associates, LLC\n",
      "\n",
      "\n",
      "<_sre.SRE_Match object; span=(0, 34), match='HHLP Dartmouth One Associates, LLC'>\n",
      "------    40   Matched!    -----\n",
      "str length  :33    match span  :33\n",
      "HHLP Key West One Associates, LLC\n",
      "\n",
      "\n",
      "<_sre.SRE_Match object; span=(0, 33), match='HHLP Key West One Associates, LLC'>\n",
      "------    41   Matched!    -----\n",
      "str length  :33    match span  :33\n",
      "HHLP Langhorne One Associates, LP\n",
      "\n",
      "\n",
      "<_sre.SRE_Match object; span=(0, 33), match='HHLP Langhorne One Associates, LP'>\n",
      "------    42   Matched!    -----\n",
      "str length  :33    match span  :33\n",
      "HHLP Langhorne Two Associates, LP\n",
      "\n",
      "\n",
      "<_sre.SRE_Match object; span=(0, 33), match='HHLP Langhorne Two Associates, LP'>\n",
      "------    43   Matched!    -----\n",
      "str length  :552    match span  :552\n",
      "There are numerous uncertainties inherent in estimating quantities of proved reserves and projecting future rates of production and the timing of development expenditures.  The estimation of our proved reserves employs one or more of the following: production trend extrapolation, analogy, volumetric assessment, and material balance analysis.  Techniques including review of production and pressure histories, analysis of electric logs and fluid tests, and interpretations of geologic and geophysical data also are involved in this estimation process.\n",
      "\n",
      "\n",
      "<_sre.SRE_Match object; span=(0, 552), match='There are numerous uncertainties inherent in esti>\n",
      "------    44   Matched!    -----\n",
      "str length  :293    match span  :293\n",
      "you or a family member do not have any employees involved in your business or professional activities who are subject to workers' compensation or other similar disability laws; or, if you or a family member are a doctor or dentist, you do not have more than two employees subject to such laws;\n",
      "\n",
      "\n",
      "<_sre.SRE_Match object; span=(0, 293), match=\"you or a family member do not have any employees >\n",
      "------    45   Matched!    -----\n",
      "str length  :535    match span  :535\n",
      "Staffing in our boutiques consists of a boutique manager, an assistant manager and a minimum of three part-time associates. Our compensation structure includes a bonus component payable upon the achievement of certain financial goals. We endeavor to hire boutique personnel that are friendly and customer-service driven individuals. In addition to training programs for visual merchandising, customer service and operations, boutique managers benefit from ongoing field-level support and training updates as well as guides and manuals.\n",
      "\n",
      "\n",
      "<_sre.SRE_Match object; span=(0, 535), match='Staffing in our boutiques consists of a boutique >\n",
      "------    46   Matched!    -----\n",
      "str length  :96    match span  :96\n",
      "· A corporate Ombudsman's' office comprised of eight employees that respond to student concerns.\n",
      "\n",
      "\n",
      "<_sre.SRE_Match object; span=(0, 96), match=\"· A corporate Ombudsman's' office comprised of ei>\n",
      "------    47   Matched!    -----\n",
      "str length  :356    match span  :356\n",
      "Each of our branches is led by a branch manager, who also functions as the branch's sales manager. In addition, each branch generally employs one to four outside salespeople and one to five inside salespeople who report to their branch manager. Branches that focus primarily on the residential market typically staff a larger number of outside salespeople.\n",
      "\n",
      "\n",
      "<_sre.SRE_Match object; span=(0, 356), match=\"Each of our branches is led by a branch manager, >\n",
      "------    48   Matched!    -----\n",
      "str length  :649    match span  :649\n",
      "Our chief executive officer, Mr. Dov Sella, leads our business development and marketing efforts.  We currently employ eight additional professionals in the marketing and sales of our products, four of them part-time.  Our program managers, chief technology officer and our engineering departments support our marketing and sales efforts with respect to proposal preparations and products demonstrations.  In addition, we have business development consultants in Israel, Europe, South America and Asia who receive success fees for sales generated by them, and four part-time consultants who assist us in the development of the North American market.\n",
      "\n",
      "\n",
      "<_sre.SRE_Match object; span=(0, 649), match='Our chief executive officer, Mr. Dov Sella, leads>\n",
      "------    49   Matched!    -----\n",
      "str length  :643    match span  :643\n",
      "The \"Berkshire Hathaway Homestate Companies\" (\"BHHC\") is a group of insurers offering standalone workers' compensation, commercial auto and commercial property coverages. BHHC has developed a national reach, with the ability to provide first-dollar and small to large deductible workers' compensation coverage to employers in all states, except those where coverage is available only through state operated workers' compensation funds. The volume of workers' compensation business written in recent years has grown significantly. BHHC serves a diverse client base. BHHC's business is generated primarily through independent agents and brokers.\n",
      "\n",
      "\n",
      "<_sre.SRE_Match object; span=(0, 643), match='The \"Berkshire Hathaway Homestate Companies\" (\"BH>\n",
      "------    50   Matched!    -----\n",
      "str length  :526    match span  :526\n",
      "assembled workforce. The acquisition of Swyft Media was structured in such a manner that the goodwill is not expected to be deductible for tax purposes. The purchase price has been allocated to the tangible and intangible assets acquired and liabilities assumed based upon the respective estimates of fair value as of the date of the acquisition and using assumptions that the Company's management believes are reasonable given the information available. Twelve employees joined the Company in connection with the acquisition.\n",
      "\n",
      "\n",
      "<_sre.SRE_Match object; span=(0, 526), match=\"assembled workforce. The acquisition of Swyft Med>\n",
      "------    51   Matched!    -----\n",
      "str length  :1620    match span  :1620\n",
      "government payors. CMS is particularly focused on transitioning Medicare from its traditional fee-for-service model to models that employ one or more capitated, value-based, or bundled payment approaches, and private payors are continuing to explore and implement similar types of alternative payment models. Such efforts from private and government payors, in addition to general industry trends, continue to place pressures on our tenants to control healthcare costs. Furthermore, pressures to control healthcare costs and a shift away from traditional health insurance reimbursement have resulted in an increase in the number of patients whose healthcare coverage is provided under managed care plans, such as health maintenance organizations and preferred provider organizations. These shifts place further cost pressures on our tenants. We also continue to believe that, due to the aging of the population and the expansion of governmental payor programs, there will be a marked increase in the number of patients relying on healthcare coverage provided by governmental payors. All of these changes could have a material adverse effect on the financial condition of some or all of our tenants, which could have a material adverse effect on our financial condition and results of operations and could negatively affect our ability to make distributions to our stockholders. In instances where we have an equity investment in our tenants' operations, in addition to the effect on these tenants' ability to meet their financial obligations to us, our ownership and investment interests may also be negatively impacted.\n",
      "\n",
      "\n",
      "<_sre.SRE_Match object; span=(0, 1620), match=\"government payors. CMS is particularly focused on>\n",
      "------    52   Matched!    -----\n",
      "str length  :337    match span  :337\n",
      "Surge's sales efforts are directed towards Original Equipment Manufacturer (OEM) customers in numerous industries where the products that we sell have wide application. Surge currently employs thirteen sales and marketing personnel, not including two of its executive officers, who are responsible for certain key customer relationships.\n",
      "\n",
      "\n",
      "<_sre.SRE_Match object; span=(0, 337), match=\"Surge's sales efforts are directed towards Origin>\n",
      "------    53   Matched!    -----\n",
      "str length  :370    match span  :370\n",
      "La Encantada's current sampling team consists of two sampling crews with three employees each. Representative chip samples are collected with chisel and hammer and channel samples are cut and broken with electric saw and hammer. The broken sample is collected on a tarp, put in numbered sample bags and channel samples are weighted prior to being sent to the laboratory.\n",
      "\n",
      "\n",
      "<_sre.SRE_Match object; span=(0, 370), match=\"La Encantada's current sampling team consists of >\n",
      "------    54   Matched!    -----\n",
      "str length  :381    match span  :381\n",
      "San Mart'n's current sampling team consists of two sampling crews with three employees each and two more samplers at the core shack. Representative chip samples are taken with chisel and hammer. The samples are collected on tarp and deposited in numbered bags for transportation to the laboratory. Core samples are taken at the core shack after the core logging has been completed.\n",
      "\n",
      "\n",
      "<_sre.SRE_Match object; span=(0, 381), match=\"San Mart'n's current sampling team consists of tw>\n",
      "------    55   Matched!    -----\n",
      "str length  :258    match span  :258\n",
      "The current sampling team at the Del Toro mine consists of two sampling crews with three employees each for underground and channel sampling, one sampler for drill core, and one sampling supervisor. This process is managed by mine and exploration geologists.\n",
      "\n",
      "\n",
      "<_sre.SRE_Match object; span=(0, 258), match='The current sampling team at the Del Toro mine co>\n",
      "------    56   Matched!    -----\n",
      "str length  :599    match span  :599\n",
      "We generally employ two different deployment models for our solution and our revenue and operating results may fluctuate substantially from quarter to quarter depending on the model that our customers choose. Customers access our solution using either our cloud-based infrastructure or by deploying our solution on their own premises. Regardless of the delivery model, we sell our solution through subscription agreements that entitle our customers to access our solution and receive support, and we generally charge for professional services to implement the solution on a time and materials basis.\n",
      "\n",
      "\n",
      "<_sre.SRE_Match object; span=(0, 599), match='We generally employ two different deployment mode>\n",
      "------    57   Matched!    -----\n",
      "str length  :686    match span  :686\n",
      "Atrium and StarStone, our active underwriting operations, are reported as separate segments because they are managed and operated in separate and distinct manners. Atrium's senior management runs its day-to-day operations with limited involvement of our senior management, whereas our senior management and employees are involved in StarStone's day-to-day operations. Atrium employees are not involved in the management or strategy of StarStone, nor are StarStone employees involved in the management or strategy of Atrium. Atrium and StarStone are monitored and reported upon separately and distinctly and their strategies and business plans are determined independently of each other.\n",
      "\n",
      "\n",
      "<_sre.SRE_Match object; span=(0, 686), match=\"Atrium and StarStone, our active underwriting ope>\n",
      "------    58   Matched!    -----\n",
      "str length  :537    match span  :537\n",
      "Physical Presence: A place of business that is maintained by a Foreign Bank and is located at a fixed address, other than solely a post office box or an electronic address, in a country in which the Foreign Bank is authorized to conduct banking activities, at which location the Foreign Bank: (a) employs one or more individuals on a full-time basis; (b) maintains operating records related to its banking activities; and (c) is subject to inspection by the banking authority that licensed the Foreign Bank to conduct banking activities.\n",
      "\n",
      "\n",
      "<_sre.SRE_Match object; span=(0, 537), match='Physical Presence: A place of business that is ma>\n",
      "------    59   Matched!    -----\n",
      "str length  :1178    match span  :1178\n",
      "Currently, we employ seventeen non-Bermudians in our Bermuda office including our President and CEO, our CFO, Maiden Bermuda's President and Maiden Bermuda's Chief Underwriting Officer. We may hire additional non-Bermudians as our business grows. Under Bermuda law, non-Bermudians (other than spouses of Bermudians, holders of permanent residents' certificates and holders of working residents' certificates) may not engage in any gainful occupation in Bermuda without a valid government work permit. A work permit may be granted or renewed upon showing that, after proper public advertisement, no Bermudian, spouse of a Bermudian, or holder of a permanent resident's or working resident's certificate who meets the minimum standards reasonably required by the employer has applied for the job. Work permits are issued with expiry dates that range from one, three, five, six or, in certain circumstances for key executives, ten years. We may not be able to use the services of one or more of our non-Bermudian employees if we are not able to obtain work permits for them, which could have a material adverse effect on our business, financial condition and results of operations.\n",
      "\n",
      "\n",
      "<_sre.SRE_Match object; span=(0, 1178), match=\"Currently, we employ seventeen non-Bermudians in >\n",
      "------    60   Matched!    -----\n",
      "str length  :928    match span  :928\n",
      "When we outsource the servicing of receivables, our management typically determines the appropriate third-party collection agencies and attorneys based on the type of receivables purchased. Once a group of receivables is sent to third-party collection agencies and attorneys, our management actively monitors and reviews the third-party collection agencies' and attorneys' performance on an ongoing basis. Based on portfolio performance considerations, our management will either (i) move certain receivables from one third-party collection agency or attorney to another, or (ii) sell portions of the portfolio accounts. Our internal collection unit, which currently employs five collection-related staff, including senior management, assists us in benchmarking our third-party collection agencies and attorneys, and provides us with greater flexibility for servicing a percentage of our consumer receivable portfolios in-house.\n",
      "\n",
      "\n",
      "<_sre.SRE_Match object; span=(0, 928), match=\"When we outsource the servicing of receivables, o>\n",
      "------    61   Matched!    -----\n",
      "str length  :951    match span  :951\n",
      "The total allowance for credit losses consists of two components: specific allowances and general allowances. To determine the adequacy of the allowance in each of these two components, we employ two primary methodologies, the individual loan review analysis methodology and the classification migration methodology. These methodologies support the basis for determining allocations between the various loan categories and the overall adequacy of our allowance to provide for probable losses inherent in the loan portfolio. These methodologies are further supported by additional analysis of relevant factors such as the historical losses in the portfolio, and environmental factors which include trends in delinquency and non-accrual, and other significant factors, such as the national and local economy, the volume and composition of the portfolio, the strength of management and loan staff, underwriting standards, and the concentration of credit.\n",
      "\n",
      "\n",
      "<_sre.SRE_Match object; span=(0, 951), match='The total allowance for credit losses consists of>\n",
      "------    62   Matched!    -----\n",
      "str length  :985    match span  :985\n",
      "We are endeavoring to expand our business, and any growth that we are successful in achieving could place a significant strain on our management systems, infrastructure and other resources. To manage the potential growth of our operations and resulting increases in the number of our personnel, we will need to invest the necessary capital to continue to improve our operational, financial and management controls and our reporting systems and procedures. Our controls, systems and procedures may prove to be inadequate should we experience significant growth. In addition, we may not have sufficient administrative staff to support our operations. For example, we currently have only five employees in our finance department in the United States, including our Chief Financial Officer. Furthermore, our officers have limited experience in managing large or rapidly growing businesses. If our management fails to respond effectively to changes in our business, our business may suffer.\n",
      "\n",
      "\n",
      "<_sre.SRE_Match object; span=(0, 985), match='We are endeavoring to expand our business, and an>\n",
      "------    63   Matched!    -----\n",
      "str length  :578    match span  :578\n",
      "Section C. Transfer of Shares. The shares of the capital stock of the corporation shall be transferred only on the books of the corporation by the holder thereof, or by his attorney, upon the surrender and cancellation of the stock certificate, whereupon a new certificate shall be issued to the transferee. The transfer and assignment of such shares of stock shall be subject to the laws of the State of Indiana. The board of directors shall have the right to appoint and employ one or more stock registrars and/or transfer agents in the State of Indiana or in any other state.\n",
      "\n",
      "\n",
      "<_sre.SRE_Match object; span=(0, 578), match='Section C. Transfer of Shares. The shares of the >\n",
      "------    64   Matched!    -----\n",
      "str length  :71    match span  :71\n",
      "Severance payouts and signing bonuses for former Cornerstone employees.\n",
      "\n",
      "\n",
      "<_sre.SRE_Match object; span=(0, 71), match='Severance payouts and signing bonuses for former >\n",
      "------    65   Matched!    -----\n",
      "str length  :483    match span  :483\n",
      "In addition to our residential services, we offer business services in all of our European operations. For business and public sector organizations, we provide a range of voice, advanced data, video, wireless and cloud-based services, as well as mobile and converged fixed-mobile services. Our business customers include SOHO (generally up to five employees), small business and medium and large enterprises. We also provide business services on a wholesale basis to other operators.\n",
      "\n",
      "\n",
      "<_sre.SRE_Match object; span=(0, 483), match='In addition to our residential services, we offer>\n",
      "------    66   Matched!    -----\n",
      "str length  :331    match span  :331\n",
      "Our target customers are primarily local service-based businesses. Most of our customers have fewer than five employees and most identify themselves as having little to no technology skills. They need our help to give their businesses a unique and secure digital identity and tools to help them stay connected with their customers.\n",
      "\n",
      "\n",
      "<_sre.SRE_Match object; span=(0, 331), match='Our target customers are primarily local service->\n",
      "------    67   Matched!    -----\n",
      "str length  :457    match span  :457\n",
      "The Company employs four LNG carriers, a FSO unit, and volatile organic compound emissions (or VOC) equipment on long-term time charters which are accounted for as direct financing leases. The lease payments received by the Company under these lease arrangements are allocated between the net investments in the leases and revenues or other income using the effective interest method so as to produce a constant periodic rate of return over the lease terms.\n",
      "\n",
      "\n",
      "<_sre.SRE_Match object; span=(0, 457), match='The Company employs four LNG carriers, a FSO unit>\n",
      "------    68   Matched!    -----\n",
      "str length  :116    match span  :116\n",
      "SoHo (Small Office, Home Office): refers to the computing market for very small companies (less than ten employees).\n",
      "\n",
      "\n",
      "<_sre.SRE_Match object; span=(0, 116), match='SoHo (Small Office, Home Office): refers to the c>\n",
      "------    69   Matched!    -----\n",
      "str length  :450    match span  :450\n",
      "The plan administrator or plan sponsor may employ one or more persons to render advice with respect to its fiduciary responsibilities. The plan administrator or plan sponsor may also delegate fiduciary responsibilities to one or more persons who shall have the rights to employ one or more persons to render advice with respect to its fiduciary duties. There is no restriction on any person serving in more than one fiduciary capacity under the plan.\n",
      "\n",
      "\n",
      "<_sre.SRE_Match object; span=(0, 450), match='The plan administrator or plan sponsor may employ>\n",
      "------    70   Matched!    -----\n",
      "str length  :450    match span  :450\n",
      "The plan administrator or plan sponsor may employ one or more persons to render advice with respect to its fiduciary responsibilities. The plan administrator or plan sponsor may also delegate fiduciary responsibilities to one or more persons who shall have the rights to employ one or more persons to render advice with respect to its fiduciary duties. There is no restriction on any person serving in more than one fiduciary capacity under the plan.\n",
      "\n",
      "\n",
      "<_sre.SRE_Match object; span=(0, 450), match='The plan administrator or plan sponsor may employ>\n"
     ]
    }
   ],
   "source": [
    "check_pat = nonum_regs[0]\n",
    "check_regex_match(check_pat, [x for x in pos_list if re.search(check_pat, x)])"
   ]
  },
  {
   "cell_type": "markdown",
   "metadata": {},
   "source": [
    "### Check for false positives"
   ]
  },
  {
   "cell_type": "code",
   "execution_count": 84,
   "metadata": {
    "ExecuteTime": {
     "end_time": "2018-06-30T16:54:15.831926Z",
     "start_time": "2018-06-30T16:54:15.664129Z"
    },
    "scrolled": true
   },
   "outputs": [
    {
     "name": "stdout",
     "output_type": "stream",
     "text": [
      "----------------------------------- 0001672764-17-000046 -----------------------------------\n",
      "len  :203\n",
      "\n",
      "first_emp_head_block  :False\n",
      "\n",
      "para_text  :Currently our board has 11 members (see \"Item 6. Directors, Senior Management and Employees-A. Directors and Senior Management-Board of Directors\"). The board meets as often as required by our interests.\n",
      "\n",
      "----------------------------------- 0001648416-17-000016 -----------------------------------\n",
      "len  :1349\n",
      "\n",
      "first_emp_head_block  :False\n",
      "\n",
      "para_text  :Dutch legal requirements concerning director independence differ in certain respects from the rules applicable to U.S. companies listed on the NYSE. While under most circumstances both regimes require that a majority of board members be \"independent,\" the definition of this term under Dutch law differs from the definition used under the NYSE corporate governance standards. In some cases the Dutch requirement is more stringent, such as by requiring a longer \"look- back\" period (five years) for former executive directors and employees and by requiring that only one non-executive board member may be not independent. The Dutch Code recommends, specifically for one-tier governance structures, that a majority of the members of the board be non-executive and independent. Currently, a majority of our Board (7 of the 13 members) is \"independent\" under the NYSE definition and the Dutch Code. Because two or more of our 11 non-executive directors are not independent we deviate from the Dutch Code's general best practice provision regarding the maximum number of non-executives that may not be independent. Finally, persons may not be appointed as non- executive directors of Ferrari if such persons are non-executive directors, member of the supervisory boards or other similar bodies for at least five other (Dutch) companies of a certain size.\n",
      "\n",
      "----------------------------------- 0001648416-17-000016 -----------------------------------\n",
      "len  :425\n",
      "\n",
      "first_emp_head_block  :False\n",
      "\n",
      "para_text  :The department is organized as an integrated automotive design studio, employing a total workforce of approximately 80 people (both full-time workers and external contractors) including designers, 3D surfacing operators, physical modelers and graphic artists. It operates a modeling studio fully equipped with 5-axis milling machines with the capacity to develop various full-scale models (interior and exterior) in parallel.\n",
      "\n",
      "----------------------------------- 0001634621-17-000007 -----------------------------------\n",
      "len  :320\n",
      "\n",
      "first_emp_head_block  :False\n",
      "\n",
      "para_text  :In accordance with Article 13 of the Bylaws, the Board of Directors consists of 12 members minimum and 22 members maximum, including three directors representing the employees, and one director elected by the Shareholders' Meeting on proposal of the employee shareholders. The term of office for directors is four years.\n",
      "\n",
      "----------------------------------- 0001628280-17-002343 -----------------------------------\n",
      "len  :851\n",
      "\n",
      "first_emp_head_block  :False\n",
      "\n",
      "para_text  :The Company funds the post-employment benefit on a pay-as-you-go basis, and there are no assets that have been segregated and restricted to provide for post-employment benefits.  Benefit eligibility for the current remaining grandfathered active group (27 employees) is age 62 and five years of service. The Company pays claims and premiums as they are submitted.  The Company provides varied levels of benefits to participants depending upon the date of retirement and the location in which the employee worked.  An older group of grandfathered retirees receives lifetime health care coverage.  All other retirees receive coverage to age 65 through continuation of the Company group medical plan and a lump sum advance premium to the MediGap carrier of the retiree's choice.  Life insurance is available over the lifetime of the retiree in all cases.\n",
      "\n",
      "----------------------------------- 0001628280-17-001655 -----------------------------------\n",
      "len  :717\n",
      "\n",
      "first_emp_head_block  :False\n",
      "\n",
      "para_text  :Our employees average approximately 10 years of tenure with us, and we have an annual employee turnover rate of 12%, excluding the impact of reductions in workforce as part of the restructuring actions. We believe our stable workforce has directly contributed to improved process efficiencies and safety, which in turn help drive cost reductions. We believe our labor rates compare favorably to other mining and manufacturing facilities in the same geographic areas. We maintain workers' compensation coverage in amounts required by law and have no material claims pending. We also offer all full-time employees a competitive package of employee benefits, which includes medical, dental, life and disability coverage.\n",
      "\n",
      "----------------------------------- 0001594879-17-000029 -----------------------------------\n",
      "len  :797\n",
      "\n",
      "first_emp_head_block  :False\n",
      "\n",
      "para_text  :Restaurant Management and Employees.    Each restaurant typically is staffed with a restaurant manager, an assistant manager and 20 to 30 team members. We cross-train our employees in an effort to create a depth of competency in our critical restaurant functions. Consistent with our emphasis on customer interaction, we encourage our restaurant managers and team members to welcome and engage with customers throughout the day. To lead our restaurant management teams, we have Regional Operators (each of whom is responsible for between five and ten restaurants), Regional Directors (each of whom is responsible for between four and six Regional Operators), as well as Regional Vice Presidents (each of whom is responsible for two Regional Directors and between four and five Regional Operators).\n",
      "\n",
      "----------------------------------- 0001564590-17-003590 -----------------------------------\n",
      "len  :687\n",
      "\n",
      "first_emp_head_block  :False\n",
      "\n",
      "para_text  :We believe we are one of the leading for-profit companies focused on substance abuse treatment in the United States. According to IBISWorld, approximately 77% of all substance abuse treatment clinics in the United States have a single location, and approximately 57% of all substance abuse treatment clinics have fewer than 20 employees. Many of the largest for-profit addiction treatment providers operate in the broader behavioral healthcare sector without focusing primarily on substance abuse. We believe our size and core focus on substance abuse treatment provide us with an advantage over competitors in terms of building our brand and marketing our platform to potential clients.\n",
      "\n",
      "----------------------------------- 0001564590-17-003590 -----------------------------------\n",
      "len  :675\n",
      "\n",
      "first_emp_head_block  :False\n",
      "\n",
      "para_text  :We maintain a 24 hours per day, seven days per week call center currently staffed by over 130 employees. Our centralized call center is situated at our corporate headquarters in Brentwood, Tennessee, and focuses on enrolling clients identified by our sales and marketing activities into new client admissions. As part of its role, the call center team conducts benefits verification and handles initial communication with insurance companies, completes client assessments, begins the pre-certification process for treatment authorization, chooses the proper treatment facility for the client's clinical and financial needs and assists clients with arrangements and logistics.\n",
      "\n",
      "----------------------------------- 0001564590-17-002108 -----------------------------------\n",
      "len  :846\n",
      "\n",
      "first_emp_head_block  :False\n",
      "\n",
      "para_text  :Team Members. Our stores are typically staffed with 80 to 90 full and part-time team members including a store manager, an assistant store manager, eight department managers, five assistant department managers, store office staff and other team members. We strive to create a strong and unified company culture and develop team members throughout the entire organization, and we assist our store teams with our store support office and regional teams. We have prioritized making investments in training that we believe enhances our team members' knowledge, particularly with respect to our expanded and evolving product offerings, so our team members can continue to engage and assist our customers. We believe our team members contribute to our consistently high service standards and that this helps us successfully open and operate our stores.\n",
      "\n",
      "----------------------------------- 0001558370-17-000729 -----------------------------------\n",
      "len  :309\n",
      "\n",
      "first_emp_head_block  :False\n",
      "\n",
      "para_text  :An individual who is among the top paid 50 Employees of Newmont, determined without regard to whether the Employee is a Plan Participant, who has a Separation from Service shall not receive a distribution from the Plan prior to a date that is 6 months after the date of the Employee's Separation from Service.\n",
      "\n",
      "----------------------------------- 0001558370-17-000729 -----------------------------------\n",
      "len  :309\n",
      "\n",
      "first_emp_head_block  :False\n",
      "\n",
      "para_text  :An individual who is among the top paid 50 Employees of Newmont, determined without regard to whether the Employee is a Plan Participant, who has a Separation from Service shall not receive a distribution from the Plan prior to a date that is 6 months after the date of the Employee's Separation from Service.\n",
      "\n",
      "----------------------------------- 0001558370-16-008267 -----------------------------------\n",
      "len  :936\n",
      "\n",
      "first_emp_head_block  :False\n",
      "\n",
      "para_text  :Capture Additional Share from Adjacent Boating Categories. Our culture of innovation enhances our ability to introduce new products with increased versatility, functionality, and performance to a more expansive customer base that values boats for both water sports and general recreational boating purposes. We have experienced success with several recent marketing campaigns that focus on new product launches and help to educate the market on our value proposition to customers. Ultimately, the versatile boating experience delivered by our performance sport boats allows us to attract customers from other boating categories, most notably from the sterndrive category. For example, the MasterCraft X26, one of our 26 foot boat models, has the capacity to seat 18 people and offers the quality, performance, and styling associated with our iconic brand in a package that can compete with large day cruisers in the sterndrive category.\n",
      "\n",
      "----------------------------------- 0001534701-17-000051 -----------------------------------\n",
      "len  :305\n",
      "\n",
      "first_emp_head_block  :False\n",
      "\n",
      "para_text  :unvested options was $5 million, which will be recognized over a weighted-average period of 21 months, the longest period being 27 months. The calculations of realized tax benefit and weighted-average periods include awards based on both Phillips 66 and ConocoPhillips stock held by Phillips 66 employees.\n",
      "\n",
      "----------------------------------- 0001370368-17-000024 -----------------------------------\n",
      "len  :954\n",
      "\n",
      "first_emp_head_block  :False\n",
      "\n",
      "para_text  :The AoA provide that the Board shall consist of a minimum of seven members. The Board currently consists of 13 members. We believe that the size of the Board must be such that the committees can be staffed with qualified members. At the same time, the Board must be small enough to ensure an effective and rapid decision-making process. Board members are elected at the AGM by our shareholders individually for a period of one year and are eligible for re-election. Shareholders will also elect a member of the Board as the Chairman and each of the members of the Compensation Committee for a period of one year. One year of office is understood to be the period of time from one AGM to the close of the next AGM. Members of the Board shall generally retire after having served on the Board for 12 years. Under certain circumstances, the Board may extend the limit of terms of office for a particular Board member for a maximum of three additional years.\n",
      "\n",
      "----------------------------------- 0001361658-17-000004 -----------------------------------\n",
      "len  :179\n",
      "\n",
      "first_emp_head_block  :False\n",
      "\n",
      "para_text  :Represents severance costs of $4 million and $2 million at the Company's destination network and hotel group businesses, respectively, resulting from a reduction of 122 employees.\n",
      "\n",
      "----------------------------------- 0001333493-17-000021 -----------------------------------\n",
      "len  :1041\n",
      "\n",
      "first_emp_head_block  :False\n",
      "\n",
      "para_text  :Pursue the Large Opportunity in the Small Business Group Health Insurance Market: We plan to leverage the strong platform built for our individual and family health insurance business to significantly expand our presence in the small business group health insurance market. We believe that our existing technology platform and extensive relationships with insurance carriers provides us with the opportunity to differentiate and grow our services in the small business market. We have an existing small group membership representing less than 5% of our total membership base. Historically, we have not actively invested in marketing small business health insurance products. We plan to focus on small business groups of 20 employees or less and to increase our small business health insurance product marketing expenditures, increase the number of health insurance agents dedicated to selling small business health insurance and invest in significant enhancements to the technology supporting the sales and enrollment process in this market.\n",
      "\n",
      "----------------------------------- 0001305168-17-000007 -----------------------------------\n",
      "len  :377\n",
      "\n",
      "first_emp_head_block  :False\n",
      "\n",
      "para_text  :We operate a technology center in Silicon Valley with approximately 20 employees who develop, maintain, and support our software. We operate a similar facility in Kolkata, India, with approximately 170 employees who, in addition to supporting our Silicon Valley team, also support our research and development efforts. All of our production facilities are connected via a high-\n",
      "\n",
      "----------------------------------- 0001227654-17-000032 -----------------------------------\n",
      "len  :972\n",
      "\n",
      "first_emp_head_block  :False\n",
      "\n",
      "para_text  :b. Non-Solicitation of Employees. Employee agrees that, during Employee's employment with Company and for a period of 2 year(s) after termination of Employee's employment with Company for any reason (regardless of who initiates such termination), Employee will not directly or indirectly, whether for Employee's benefit or for the benefit of a third party, recruit, solicit, or induce, or attempt to recruit, solicit, or induce: (1) anyone employed by Company to terminate employment with, or otherwise cease a relationship with, Company; or (2) anyone employed by Company at any time during the immediately preceding 12 months to provide services of any kind to a competitor of Company. Employee further agrees that, in the event any individual within the groups defined by (1) and (2) of this paragraph l.b. approaches Employee about providing services to a Company competitor, Employee shall reject such approach and not hire/otherwise engage/supervise such individual.\n",
      "\n",
      "----------------------------------- 0001213900-17-004384 -----------------------------------\n",
      "len  :899\n",
      "\n",
      "first_emp_head_block  :False\n",
      "\n",
      "para_text  :● obtained the securities investment consulting services license, and with a registered capital of not less than RMB 50 million;       ● there are at least 10 employees with securities investment consulting services license and more than 2 years' relevant experience in securities, funds or futures, and qualified senior management;       ● proper operational management, internal control and investment protection systems commensurate with its businesses;       ● proper operational premises and facilities and technology system commensurate with its businesses;       ● there has been no criminal or administrative penalty relating to violation of law or regulations in the past three years, nor is there ongoing investigation or correction involving potential violation of law or regulations; and       ● other conditions pursuant to relevant laws or regulations and rules by the Association.\n",
      "\n",
      "----------------------------------- 0001213900-17-003009 -----------------------------------\n",
      "len  :939\n",
      "\n",
      "first_emp_head_block  :False\n",
      "\n",
      "para_text  :Small size; dependence on key personnel: We are a small company with 45 employees (including 6 part-time employees). As such, we rely on certain key employees to support different operational functions, with limited redundancy in capacity. The loss of any of these key employees could adversely affect our operations until a qualified replacement is hired and trained. Our competitive position will be highly influenced by our ability to attract and retain key scientific, manufacturing, managerial and sales and marketing personnel, to develop proprietary technologies and products, to obtain USDA or FDA approval for new products, to maintain regulatory compliance with current products and to continue to profitably sell our current products. We currently compete on the basis of product performance, price and distribution capability. We continue to monitor our network of independent distributors to maintain our competitive position.\n",
      "\n",
      "----------------------------------- 0001193125-18-181982 -----------------------------------\n",
      "len  :125\n",
      "\n",
      "first_emp_head_block  :False\n",
      "\n",
      "para_text  :(1) Include 303 employees who are responsible for developing, updating and improving our curricula and course materials.\n",
      "\n",
      "----------------------------------- 0001193125-18-132723 -----------------------------------\n",
      "len  :623\n",
      "\n",
      "first_emp_head_block  :False\n",
      "\n",
      "para_text  :Plan; or (c) any associate or manager of the retail sales force of AXA Equitable or any of its general agents, other than Branch Managers. For this purpose, retail sales force managers or associates of AXA Equitable or any of its general agents who are not Group 1 Part-Time Employees include: (i) district managers, assistant branch managers, or equivalent positions, and (ii) any employee sales associate of AXA Equitable or any of its general agents, including any individual under a 12th Edition, 20th Edition, 25th Edition or Preliminary Employment agreement or MONY Life financed contract 54 or any similar agreement.\n",
      "\n",
      "----------------------------------- 0001193125-17-146369 -----------------------------------\n",
      "len  :1030\n",
      "\n",
      "first_emp_head_block  :False\n",
      "\n",
      "para_text  :WPP's six business objectives  Alignment with compensation structure   1  Continue to improve net sales margins  Short-term incentive measure for the Group chief executive and Group chief financial officer   2  Increase flexibility in the cost structure  Short-term incentive measure for the Group chief financial officer   3  Use free cash flow to enhance share owner value and improve return on capital employed  TSR, EPS growth and average ROE are long-term incentive measures for the Executive Directors   4  Continue to develop the value added by the parent company  Short-term incentive measures (parent company-led efficiency projects) for the Group chief executive and Group chief financial officer   5  Emphasise revenue and net sales growth more as margins improve  Short-term incentive measures for the Group chief executive and Group chief financial officer   6  Improve still further the creative capabilities and reputation of all our businesses  Short-term incentive measure for the Group chief executive\n",
      "\n",
      "----------------------------------- 0001193125-17-090715 -----------------------------------\n",
      "len  :171\n",
      "\n",
      "first_emp_head_block  :False\n",
      "\n",
      "para_text  :Staffing levels at each restaurant vary according to the time of day and size of the restaurant. However, in general, each restaurant has approximately 40 to 60 employees.\n",
      "\n",
      "----------------------------------- 0001193125-17-081986 -----------------------------------\n",
      "len  :283\n",
      "\n",
      "first_emp_head_block  :False\n",
      "\n",
      "para_text  :Employees of the Bank who have been employed for a six-month period and who have attained age 21 are eligible to participate in the ESOP. It is anticipated that contributions will be made to the plan in amounts necessary to amortize the debt to the Company over a period of 20 years.\n",
      "\n",
      "----------------------------------- 0001193125-17-065763 -----------------------------------\n",
      "len  :587\n",
      "\n",
      "first_emp_head_block  :False\n",
      "\n",
      "para_text  :All full-time employees who have attained 21 years of age and have completed twelve consecutive months of credited service are eligible to participate in the Employee Stock Ownership Plan (\"ESOP\"), with benefits vesting on a six-year basis, starting with 20% in the second year of employment and continuing in 20% increments in each successive year. Benefits are payable upon death, retirement, disability, or separation from service, and may be paid in stock. However, in the event of a change in control, as defined in the ESOP, any unvested portion of benefits shall vest immediately.\n",
      "\n",
      "----------------------------------- 0001193125-17-047317 -----------------------------------\n",
      "len  :1012\n",
      "\n",
      "first_emp_head_block  :False\n",
      "\n",
      "para_text  :•  Phase I: refers typically to closely-monitored clinical trials and includes the initial introduction of an investigational new drug into human patients or healthy volunteer subjects. Phase I trials are designed to determine the safety, metabolism and pharmacologic actions of a drug in humans, the potential side effects associated with increasing drug doses and, if possible, to gain early evidence of the drug's effectiveness. Phase I trials also include the study of structure-activity relationships and mechanism of action in humans, as well as studies in which investigational new drugs are used as research tools to explore biological phenomena or disease processes. During Phase I trials, sufficient information about a drug's pharmacokinetics and pharmacological effects should be obtained to permit the design of well-controlled, scientifically valid Phase II studies. The total number of subjects and patients included in Phase I trials varies, but is generally in the range of 20 to 80 people.\n",
      "\n",
      "----------------------------------- 0001193125-16-715037 -----------------------------------\n",
      "len  :130\n",
      "\n",
      "first_emp_head_block  :False\n",
      "\n",
      "para_text  :Tragically, 19 people died - five community members and 14 people who were working on the dam facility at the time of the failure.\n",
      "\n",
      "----------------------------------- 0001193125-16-535625 -----------------------------------\n",
      "len  :827\n",
      "\n",
      "first_emp_head_block  :False\n",
      "\n",
      "para_text  :General. In addition to corporate management and three Regional Directors, approximately 29 Multi-Unit Managers (who generally have responsibility for approximately 10 to 16 stores within a geographic district) manage store operations. A Store Manager and one to three Assistant Managers manage individual stores. The Store Manager is responsible for the day-to-day operation of the store, including sales, customer service, merchandise display, human resource functions and store security. A typical store operates seven days a week with an average of 12 to 16 employees, including a combination of full and part-time employees, depending on the volume of the store and the season. Additional part-time employees are typically hired to assist with increased traffic and sales volume in the fourth quarter of the calendar year.\n",
      "\n",
      "----------------------------------- 0001178913-17-001254 -----------------------------------\n",
      "len  :301\n",
      "\n",
      "first_emp_head_block  :False\n",
      "\n",
      "para_text  :Our marketing team includes 11 members and one part-time employee, including 4 members in the U.S. based team. In addition, we have a training team, in charge of coordinating and providing training to new and existing customers, which includes a Vice President, a training director and 3 team members.\n",
      "\n",
      "----------------------------------- 0001144204-17-013932 -----------------------------------\n",
      "len  :1861\n",
      "\n",
      "first_emp_head_block  :False\n",
      "\n",
      "para_text  :Equal Employment Opportunity Rules. Equal employment opportunity (EEO) rules and policies for broadcasters prohibit discrimination by broadcasters and multichannel video programming distributors (\"MVPDs\"). They also require broadcasters to provide notice of job vacancies and to undertake additional outreach measures, such as job fairs and scholarship programs. The rules mandate a \"three prong\" outreach program; i.e., Prong 1: widely disseminate information concerning each full-time (30 hours or more) job vacancy, except for vacancies filled in exigent circumstances; Prong 2: provide notice of each full-time job vacancy to recruitment organizations that have requested such notice; and Prong 3: complete two (for broadcast employment units with five to ten full-time employees or that are located in smaller markets) or four (for employment units with more than ten full-time employees located in larger markets) longer-term recruitment initiatives within a two-year period. These include, for example, job fairs, scholarship and internship programs, and other community events designed to inform the public as to employment opportunities in broadcasting. The rules mandate extensive record keeping and reporting requirements. The EEO rules are enforced through review at renewal time, at mid-term for larger broadcasters, and through random audits and targeted investigations resulting from information received as to possible violations. The FCC has not yet decided on whether and how to apply the EEO rule to part-time positions. Failure to observe these or other rules and policies can result in the imposition of various sanctions, including monetary forfeitures, the grant of \"short\" (less than the full eight-year) renewal terms or, for particularly egregious violations, the denial of a license renewal application or the revocation of a license.\n",
      "\n",
      "----------------------------------- 0001144204-16-138601 -----------------------------------\n",
      "len  :641\n",
      "\n",
      "first_emp_head_block  :False\n",
      "\n",
      "para_text  :Our Investment Team has on average over 21 years of experience in the credit business, including originating, underwriting, principal investing and loan structuring. Our Advisor, through Medley, has access to over 89 employees, including over 45 investment, origination and credit management professionals, and over 44 operations, marketing and distribution professionals, each with extensive experience in their respective disciplines. We believe that MCC Advisors' disciplined and consistent approach to origination, portfolio construction and risk management should allow it to achieve compelling risk-adjusted returns for Medley Capital.\n",
      "\n",
      "----------------------------------- 0001144204-16-121173 -----------------------------------\n",
      "len  :842\n",
      "\n",
      "first_emp_head_block  :False\n",
      "\n",
      "para_text  :Most of DeVry Brasil's campuses are led by a General Director with some smaller center locations led by a General Manager. Damasio operations are led by a President. Most DeVry Brasil faculty members work part-time (less than 40 hours weekly). Because part-time faculty teach, pursuant to a contract with their institution, they are accorded the same rights and benefits as full-time employees in accordance with Brazilian employment laws. DeVry Brasil's management team along with support service functions including academics, curriculum development, regulatory compliance, marketing and recruiting management, legal, licensing and accreditation, financial aid processing, finance, information technology and human resources are based in Fortaleza, Brazil. More than 80% of DeVry Brasil faculty members hold Master and/or Doctorate degrees.\n",
      "\n",
      "----------------------------------- 0001140361-17-011331 -----------------------------------\n",
      "len  :484\n",
      "\n",
      "first_emp_head_block  :False\n",
      "\n",
      "para_text  :Corporate Accounts.    Corporate accounts consist of small (2 to 50 employees) and large employers (over 50 employees).  Employer groups may choose various funding options ranging from fully-insured to self-funded financial arrangements or a combination of both.  While self-funded clients participate in our managed care networks, the clients bear the claims risk, except to the extent they maintain stop loss coverage.  This sector also includes professional and trade associations.\n",
      "\n",
      "----------------------------------- 0001104659-17-015892 -----------------------------------\n",
      "len  :1072\n",
      "\n",
      "first_emp_head_block  :False\n",
      "\n",
      "para_text  :The members of the Board of Directors and the Chairman of the Board as well as the members of the Compensation Committee are elected by shareholders at the General Meeting of Shareholders for a term of office extending until completion of the next Ordinary General Meeting of Shareholders. Members whose terms of office have expired shall be immediately eligible for re-election. Our Articles of Incorporation do not provide for the retirement of directors based on their age. However, an age limit for members of the Board is set forth in the ABB Ltd Board Regulations & Corporate Governance Guidelines (although waivers are possible and subject to Board discretion. If the office of the Chairman of the Board of Directors or any position on the Compensation Committee becomes vacant during a Board term, the Board of Directors may appoint (shall appoint in the case of the Chairman of the Board) another individual from among its members to that position for the remainder of that term. The Board of Directors shall consist of no less than 7 and no more than 13 members.\n",
      "\n",
      "----------------------------------- 0001104659-17-015892 -----------------------------------\n",
      "len  :83\n",
      "\n",
      "first_emp_head_block  :False\n",
      "\n",
      "para_text  :The Board of Directors shall consist of no less than 7 and no more than 13 members.\n",
      "\n",
      "----------------------------------- 0001047469-17-002477 -----------------------------------\n",
      "len  :596\n",
      "\n",
      "first_emp_head_block  :False\n",
      "\n",
      "para_text  :Our Board of Directors sets general guidelines and policies for our business and monitors the implementation of those guidelines and policies by our executive officers. Our bylaws provide for a Board of Directors consisting of 11 members and 11 alternates, each of whom serves on behalf of a particular director. All members (and their respective alternates) are elected for the same two-year term at a general shareholders' meeting, can be re-elected, and are subject to removal at any time. Our bylaws provide that the chief executive officer cannot serve as chairman of the Board of Directors.\n",
      "\n",
      "----------------------------------- 0001047469-16-014916 -----------------------------------\n",
      "len  :294\n",
      "\n",
      "first_emp_head_block  :False\n",
      "\n",
      "para_text  :We currently have 21 employees, 18 of whom are located in Denver, Colorado, one who is located in Zug, Switzerland, and two who are located in Toronto, Canada. Our employees are not subject to a labor contract or a collective bargaining agreement. We consider our employee relations to be good.\n",
      "\n",
      "----------------------------------- 0001047469-16-013400 -----------------------------------\n",
      "len  :605\n",
      "\n",
      "first_emp_head_block  :False\n",
      "\n",
      "para_text  :We believe that our partnership approach has helped us to better manage our business, with the peer nature of the partnership enabling senior managers to collaborate and override bureaucracy and hierarchy. The Alibaba Partnership currently has 34 members comprised of 26 members of our management, seven members of management of Ant Financial Services and one member of management of Cainiao Network. The number of partners in Alibaba Partnership is not fixed and may change from time to time due to the election of new partners, the retirement of partners and the departure of partners for other reasons.\n",
      "\n",
      "----------------------------------- 0000907254-17-000020 -----------------------------------\n",
      "len  :656\n",
      "\n",
      "first_emp_head_block  :False\n",
      "\n",
      "para_text  :The Operating Partnership manages the Current Portfolio Properties and will manage any subsequently acquired or developed properties. The management of the properties includes performing property management, leasing, design, renovation, development and accounting duties for each property. The Operating Partnership provides each property with a fully integrated property management capability, with approximately 58 full-time equivalent employees at its headquarters office and 45 employees at its properties and with an extensive and mature network of relationships with tenants and potential tenants as well as with members of the brokerage and property\n",
      "\n",
      "----------------------------------- 0000109380-17-000050 -----------------------------------\n",
      "len  :158\n",
      "\n",
      "first_emp_head_block  :False\n",
      "\n",
      "para_text  :For purposes of subparagraph (1), no more than 50 Employees (or, if lesser, the greater of 3% or 10% of the number of Employees) shall be treated as officers.\n",
      "\n",
      "----------------------------------- 0000101830-16-000066 -----------------------------------\n",
      "len  :164\n",
      "\n",
      "first_emp_head_block  :False\n",
      "\n",
      "para_text  :\"Series 1 Members\" means the Members, in their respective capacities as holders of Series 1 Units (as defined in the MLS LLC Agreement) of Mobile Leasing Solutions;\n",
      "\n",
      "----------------------------------- 0000095552-17-000003 -----------------------------------\n",
      "len  :130\n",
      "\n",
      "first_emp_head_block  :False\n",
      "\n",
      "para_text  :(2) The closure resulted in a reduction of workforce of approximately 500 employees and a shift in production to other facilities.\n",
      "\n",
      "----------------------------------- 0000080424-16-000212 -----------------------------------\n",
      "len  :450\n",
      "\n",
      "first_emp_head_block  :False\n",
      "\n",
      "para_text  :Employees. Total number of employees is an estimate of total Company employees excluding interns, co-ops and employees of joint ventures as of the years ended June 30. The number of employees includes manufacturing and non-manufacturing employees. A discussion of progress on non-manufacturing enrollment objectives is included in Note 3 to our Consolidated Financial Statements. The number of employees includes employees of discontinued operations.\n",
      "\n",
      "----------------------------------- 0000080424-16-000212 -----------------------------------\n",
      "len  :283\n",
      "\n",
      "first_emp_head_block  :False\n",
      "\n",
      "para_text  :Active employees at Band 4 and above as of October 1 prior to grant date are included in the Plan, as well as a select percent of Band 3 employees. Employees recommended by management and approved by the Committee or Committee's delegate are eligible to participate (\"Participants\").\n",
      "\n",
      "----------------------------------- 0000051434-17-000007 -----------------------------------\n",
      "len  :178\n",
      "\n",
      "first_emp_head_block  :False\n",
      "\n",
      "para_text  :Includes $5 million of severance charges, which is related to 69 employees, $24 million of accelerated depreciation, sale proceeds of $22 million and $1 million of other charges.\n",
      "\n",
      "----------------------------------- 0000051434-17-000007 -----------------------------------\n",
      "len  :117\n",
      "\n",
      "first_emp_head_block  :False\n",
      "\n",
      "para_text  :Includes $4 million of accelerated depreciation and $3 million of severance charges which is related to 85 employees.\n",
      "\n",
      "----------------------------------- 0000051434-17-000007 -----------------------------------\n",
      "len  :71\n",
      "\n",
      "first_emp_head_block  :False\n",
      "\n",
      "para_text  :(b) Includes $15 million of severance charges related to 908 employees.\n",
      "\n"
     ]
    }
   ],
   "source": [
    "row_filter = np.logical_and(train_df.label == 1, \n",
    "    train_df.para_text.apply(lambda x: bool(re.search(nonum_pats[3], x)))\n",
    "                           )\n",
    "\n",
    "print_row_detail(df=train_df[row_filter], nrow=50, header_list = ['acc_id'],\n",
    "                    detail_list = [ 'len', 'first_emp_head_block','para_text'],\n",
    "                    sortby=['first_emp_head_block','acc_id',  'len'], ascending=False)"
   ]
  },
  {
   "cell_type": "markdown",
   "metadata": {},
   "source": [
    "This code will probably be replaced by the dataframe version, but the dataframe version needs to return the index first"
   ]
  },
  {
   "cell_type": "code",
   "execution_count": 60,
   "metadata": {
    "ExecuteTime": {
     "end_time": "2018-06-30T15:34:21.575663Z",
     "start_time": "2018-06-30T15:34:21.480600Z"
    },
    "scrolled": true
   },
   "outputs": [
    {
     "name": "stdout",
     "output_type": "stream",
     "text": [
      "0   ------   0000014846-16-000062\n",
      "We share facilities, personnel and other resources with several affiliated entities including, among others, Gould Investors L.P., a master limited partnership involved primarily in the ownership and operation of a diversified portfolio of real estate assets, and One Liberty Properties, Inc., an NYSE listed equity REIT. Eight individuals (including Jeffrey A. Gould, Chief Executive Officer and President, Mitchell Gould, Executive Vice President and George Zweier, Chief Financial Officer), devote substantially all of their business time to our activities, while our other personnel (including several officers) share their services on a part-time basis with us and other affiliated entities that share our executive offices. (Including our full and part-time personnel, we estimate that we have the equivalent of 12 full time employees. The allocation of expenses for the shared facilities, personnel and other resources is computed in accordance with a Shared Services Agreement by and among us and the affiliated entities. The allocation is based on the estimated time devoted by executive, administrative and clerical personnel to the affairs of each entity that is a party to this agreement.\n",
      "1   ------   0000051548-17-000008\n",
      ".1    employees on the Work and other persons who may be affected thereby;\n",
      "2   ------   0000080172-17-000013\n",
      "The Company has a sales force of 11 employees that sell to and service most customers. A few selected accounts are handled by manufacturers' representatives who may also sell other product lines. Sales promotional activities are conducted primarily through the use of newspaper advertising, in store promotions, and digital advertising. The business is seasonal, with the normal peak sales period occurring in the fourth quarter of the year prior to the holiday season. This segment operates in a highly competitive and extremely price sensitive environment. Increased costs that cannot be fully absorbed into the price of products or passed along in the form of price increases to the retail customer can have a significant adverse impact on operating results. Several companies compete for sales of housewares and small electrical appliances, some of which are larger than the Company's segment and others which are smaller. In addition, some customers maintain their own private label, as well as purchase brokered product directly from the Orient. Product competition extends to special product features, product pricing, product quality, marketing programs, warranty provisions, service policies and other factors. New product introductions are an important part of the Company's sales to offset the morbidity rate of other products and/or the effect of lowered acceptance of seasonal products due to weather conditions. New products entail unusual risks. Engineering and tooling costs are increasingly expensive, as are finished goods that may not have a ready market or achieve widespread consumer acceptance. High-cost advertising commitments which may accompany such new products or may be required to maintain sales of existing products may not be fully absorbed by ultimate product sales. Initial production schedules, set in advance of introduction, carry the possibility of excess unsold inventories. New product introductions are further subject to delivery delays from supply sources, which can impact availability for the Company's most active selling periods.\n",
      "3   ------   0000718940-17-000012\n",
      "For small business customers, our residential and small business team offers a wide range of services, including Business Fibe Internet, Bell Total Connect, Business Phone and TV, along with many other communications solutions, all designed for companies that typically have fewer than 20 employees. Small business solutions are sold through dedicated call centre representatives, our bell.ca website, as well as our retail network and door-to-door sales representatives.\n",
      "4   ------   0000797468-17-000003\n",
      "50 Employees; or\n",
      "5   ------   0000940944-16-000116\n",
      "A.Actively Employed    1\n",
      "6   ------   0001062993-17-001625\n",
      "Currently, the Company and its subsidiaries have an aggregate of 35 employees.\n",
      "7   ------   0001144204-17-013955\n",
      "The FCC requires that licensees not discriminate in hiring practices on the basis of race, color, religion, national origin or gender. It also requires stations with at least five full-time employees to broadly disseminate information about all full-time job openings and undertake outreach initiatives from an FCC list of activities such as participation in job fairs, internships, or scholarship programs. The FCC is considering whether to apply these recruitment requirements to part-time employment positions. Stations must retain records of their outreach efforts and keep an annual Equal Employment Opportunity (\"EEO\") report in their public inspection files and post an electronic version on their websites. Radio stations with more than 10 full-time employees must file certain EEO reports with the FCC midway through their license term.\n",
      "8   ------   0001174947-17-000224\n",
      "The Company employs 17 employees who service these distributors and call on retailers and law enforcement agencies. Because the ultimate demand for the Company's firearms comes from end users rather than from the independent wholesale distributors, the Company believes that the\n",
      "9   ------   0001178913-17-001322\n",
      "Limitations on loss compensation may also apply in the case of so-called \"holding losses\", being losses incurred in a book year during which the activities of ICTS (jointly with the subsidiary companies that form part of the fiscal unity for Dutch corporate income tax purposes) for the entire or almost entire year, entirely or almost entirely consist of the holding of participations or the financing of related companies. This will be deemed not to be the case if at least 25 employees are engaged in other activities on a full-time basis.\n",
      "10   ------   0001193125-16-637290\n",
      "Note: The number of full-time employees as of March 31 of each of the years indicated is shown without brackets. The average annual number of temporary employees for the fiscal years indicated is shown in brackets.\n",
      "11   ------   0001193125-16-715037\n",
      "(a) not less than 5 members present in person or by proxy and entitled to vote;\n",
      "12   ------   0001193125-17-060212\n",
      "•  90 employees in support of government sales and marketing.\n",
      "13   ------   0001193125-17-067946\n",
      "Our future success and ability to implement our business and investment strategy depends, in part, on our ability to attract and retain key management personnel and on the continued contributions of members of our senior management team, each of whom would be difficult to replace. As a REIT, we employ only 31 employees and have a cost-effective management structure. We do not have any employment agreements with any of our executives. In the event of the loss of key management personnel, or upon unexpected death, disability or retirement, we may not be able to find replacements with comparable skill, ability and industry expertise which could have a material adverse effect on our business, financial condition, results of operations, liquidity, ability to pay dividends or stock price.\n",
      "14   ------   0001193125-17-068664\n",
      "13 EMPLOYEES AND PENSION PLANS\n",
      "15   ------   0001193125-17-069257\n",
      "The scheme is a French legal obligation for companies with more than 50 employees that made a profit in the previous financial year.\n",
      "16   ------   0001193125-17-088449\n",
      "Employees1\n",
      "17   ------   0001193125-17-106055\n",
      "Number of full-time employees. 16 employees of Representative Office are not included.\n",
      "18   ------   0001193125-17-111492\n",
      "10 Employees\n",
      "19   ------   0001193125-17-333497\n",
      "Our Expert Data Science Team and Proprietary and Predictive Algorithms. Our high-caliber data science team consists of more than 75 members, the majority of whom have Ph.Ds. This team has developed proprietary algorithms that we use across our business to take advantage of our large data set. These algorithms enable us to better style our clients, predict purchase behavior, forecast demand, optimize inventory and design new apparel.\n",
      "20   ------   0001193125-18-153459\n",
      "Eligibility. Generally, all of our employees are eligible to participate if they are employed by us, or any designated subsidiary, for at least 20 hours per week and more than five months in any calendar year. However, employees classified as interns or temporary employees will not be permitted to participate in offerings under the ESPP.\n",
      "21   ------   0001201792-17-000003\n",
      "The National Advisory Committee on Institutional Quality and Integrity, or NACIQI, is charged with advising the Secretary of Education on whether to recognize accrediting agencies for federal purposes, including for participation in Title IV programs. NACIQI is composed of 18 members with six-year membership terms, with members appointed equally and at staggered intervals by the Secretary of ED, the U.S. House of Representatives, and the U.S. Senate.\n",
      "22   ------   0001213900-16-017365\n",
      "Gufeng and Tianjuyuan have a total of 17 employees in research and development. They have independently developed seven technologies:\n",
      "23   ------   0001279569-17-000272\n",
      "· Expand participant eligibility by reducing the continuous service requirement from one year to 60 days and eliminate the requirement for qualifying part-time employees to be personally invited to participate in the Plan;\n",
      "24   ------   0001302343-17-000039\n",
      "38 employees in our property management services department;\n",
      "25   ------   0001302343-17-000039\n",
      "39 employees in our development consulting services and construction departments; and\n",
      "26   ------   0001437749-17-005779\n",
      "We are a small company with approximately 61 employees. Future growth will impose significant added responsibilities on members of management, including the need to identify, attract, retain, motivate and integrate highly skilled personnel. We may increase the number of employees in the future depending on the progress and growth of our business Our future financial performance and our ability to sell our existing molecular diagnostic tests and develop and commercialize new molecular diagnostic tests and to compete effectively will depend, in part, on our ability to manage any future growth effectively. To that end, we must be able to:\n",
      "27   ------   0001474098-17-000010\n",
      "We currently employ 26 full-time employees. None of our employees is a member of a union; however, some employees of the hotel managers at several of our hotels are currently represented by labor unions and are subject to collective bargaining agreements.\n",
      "28   ------   0001527709-17-000019\n",
      "The officers of our general partner manage our operations and activities. Neither we, our subsidiaries, nor our general partner have employees. Our general partner has entered into a services agreement with Mid-Con Energy Operating pursuant to which Mid-Con Energy Operating will perform services for us, including the operation of our properties. Mid-Con Energy Operating has over 70 employees performing services for our operations and activities. We believe that Mid-Con Energy Operating has a satisfactory relationship with these employees.\n",
      "29   ------   0001558370-17-001372\n",
      "Approximately 28 percent of our total workforce, working primarily in Angola, Brazil, Norway and the U.K. are represented by, and some of our contracted labor work under, collective bargaining agreements, substantially all of which are subject to annual salary negotiation. These negotiations could result in higher personnel expenses, other increased costs or increased operational restrictions as the outcome of such negotiations apply to all offshore employees not just the union members. Legislation has been introduced in the U.S. Congress that could encourage additional unionization efforts in the U.S., as well as increase the chances that such efforts succeed. Additional unionization efforts, if successful, new collective bargaining agreements or work stoppages could materially increase our labor costs and operating restrictions.\n",
      "30   ------   0001564590-17-003822\n",
      "Note 27 Employees\n",
      "31   ------   0001564590-17-003822\n",
      "27 EMPLOYEES\n",
      "32   ------   0001564590-17-004282\n",
      "Sales and Marketing - We have the worldwide marketing rights for OTREXUP® and commercialize OTREXUP® on our own in the U.S. We have an internal commercial organization that includes approximately 50 employees directly involved in our sales efforts. We have entered into agreements with vendors for certain commercialization services such as third-party contracting and distribution. We may enter into licensing and or additional distribution arrangements for commercialization of our products outside the U.S.\n",
      "33   ------   0001567619-17-000284\n",
      "(L3 Employees and Directors)\n",
      "34   ------   0001605484-17-000017\n",
      "EMEA: our operations to support the distribution and sale of mass-market vehicles in Europe (which includes the 28 members of the European Union and the members of the European Free Trade Association), the Middle East and Africa primarily under the Abarth, Alfa Romeo, Dodge, Fiat, Fiat Professional, Jeep, Lancia and Ram brands.\n",
      "35   ------   0001605484-17-000017\n",
      "* 28 members of the European Union and members of the European Free Trade Association (other than Italy, Germany, UK, France, and Spain).\n",
      "36   ------   0001605484-17-000017\n",
      "* 28 members of the European Union and members of the European Free Trade Association.\n",
      "37   ------   0001634621-17-000007\n",
      "- a dedicated team of approximately 50 members for VIP and SME customers and door-to-door salespersons specialized in fiber optic products and services;\n",
      "38   ------   0001634621-17-000007\n",
      "Stock options granted to the top 10 employees that are not Corporate Officers and options exercised by them\n",
      "39   ------   0001683168-17-000586\n",
      "We have also assembled an industry leading team of software developers, based out of Prince Edward Island, Canada, to create a workflow solution known as Radiology Information Systems (\"RIS\") focused exclusively on RadNet's internal use. All 22 members of this Canadian based team have significant software development expertise in radiology, and together with eRAD and its PACS technology, are creating fully integrated solutions to manage all aspects of RadNet's internal information needs.\n"
     ]
    }
   ],
   "source": [
    "print_docs_from_list(doc_list=[x for x in pos_list if re.search(nonum_pats[2], x)], \n",
    "    key_list=[pos_key_list[i] for i in [pos_list.index(x) for x in pos_list if re.search(nonum_pats[2], x)] ])"
   ]
  },
  {
   "cell_type": "markdown",
   "metadata": {},
   "source": [
    "## Write current work to csv"
   ]
  },
  {
   "cell_type": "markdown",
   "metadata": {},
   "source": [
    "This allows code cleanup in this notebook while tuning classifiers in another notebook"
   ]
  },
  {
   "cell_type": "code",
   "execution_count": 152,
   "metadata": {
    "ExecuteTime": {
     "end_time": "2018-07-23T20:16:37.338766Z",
     "start_time": "2018-07-23T20:16:35.876101Z"
    }
   },
   "outputs": [],
   "source": [
    "train_df.to_csv('data/classifier_input_train3.csv')\n",
    "val_df.to_csv('data/classifier_input_val3.csv')"
   ]
  }
 ],
 "metadata": {
  "kernelspec": {
   "display_name": "Python 3",
   "language": "python",
   "name": "python3"
  },
  "language_info": {
   "codemirror_mode": {
    "name": "ipython",
    "version": 3
   },
   "file_extension": ".py",
   "mimetype": "text/x-python",
   "name": "python",
   "nbconvert_exporter": "python",
   "pygments_lexer": "ipython3",
   "version": "3.6.1"
  },
  "toc": {
   "base_numbering": 1,
   "nav_menu": {},
   "number_sections": true,
   "sideBar": true,
   "skip_h1_title": true,
   "title_cell": "Table of Contents",
   "title_sidebar": "Contents",
   "toc_cell": true,
   "toc_position": {},
   "toc_section_display": true,
   "toc_window_display": false
  }
 },
 "nbformat": 4,
 "nbformat_minor": 2
}
