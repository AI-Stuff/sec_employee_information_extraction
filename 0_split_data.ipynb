{
 "cells": [
  {
   "cell_type": "code",
   "execution_count": 1,
   "metadata": {
    "ExecuteTime": {
     "end_time": "2018-06-20T02:23:04.082026Z",
     "start_time": "2018-06-20T02:23:03.588488Z"
    }
   },
   "outputs": [],
   "source": [
    "import pandas as pd\n",
    "from path import Path, getcwdu\n",
    "import glob\n",
    "import os\n",
    "from pathlib import PurePath\n",
    "import copy\n",
    "import random\n",
    "import shutil"
   ]
  },
  {
   "cell_type": "code",
   "execution_count": 2,
   "metadata": {
    "ExecuteTime": {
     "end_time": "2018-06-20T02:23:07.529472Z",
     "start_time": "2018-06-20T02:23:07.421100Z"
    }
   },
   "outputs": [],
   "source": [
    "#full_path_list = [PurePath(os.getcwd()).joinpath(file).as_posix() for file in glob.iglob('../employee_filings/*.gz')]"
   ]
  },
  {
   "cell_type": "code",
   "execution_count": 3,
   "metadata": {
    "ExecuteTime": {
     "end_time": "2018-06-20T02:23:09.520965Z",
     "start_time": "2018-06-20T02:23:09.516962Z"
    }
   },
   "outputs": [],
   "source": [
    "random.seed(14)"
   ]
  },
  {
   "cell_type": "code",
   "execution_count": null,
   "metadata": {
    "ExecuteTime": {
     "end_time": "2018-06-20T02:23:12.232813Z",
     "start_time": "2018-06-20T02:23:12.227809Z"
    }
   },
   "outputs": [],
   "source": [
    "#test_path_list = random.sample(full_path_list, int(len(full_path_list)*.2))\n",
    "#test_path =PurePath(os.getcwd()).joinpath('../employee_filings_test/')"
   ]
  },
  {
   "cell_type": "code",
   "execution_count": 59,
   "metadata": {
    "ExecuteTime": {
     "end_time": "2018-06-21T19:50:11.429500Z",
     "start_time": "2018-06-21T19:50:11.426498Z"
    }
   },
   "outputs": [],
   "source": [
    "subset_path =PurePath(os.getcwd()).joinpath('subset_filings/')"
   ]
  },
  {
   "cell_type": "code",
   "execution_count": 6,
   "metadata": {
    "ExecuteTime": {
     "end_time": "2018-06-20T02:24:30.654403Z",
     "start_time": "2018-06-20T02:24:30.387333Z"
    },
    "code_folding": []
   },
   "outputs": [],
   "source": [
    "#for file in test_path_list:\n",
    "#    test_dest = test_path.joinpath(PurePath(file).name)\n",
    "#    shutil.move(file, test_dest)"
   ]
  },
  {
   "cell_type": "code",
   "execution_count": 9,
   "metadata": {
    "ExecuteTime": {
     "end_time": "2018-06-20T02:29:33.743878Z",
     "start_time": "2018-06-20T02:29:33.578038Z"
    }
   },
   "outputs": [],
   "source": [
    "full_path_list = [PurePath(os.getcwd()).joinpath(file).as_posix() for file in glob.iglob('../employee_filings/*.gz')]\n",
    "full_file_list = [PurePath(file).name for file in glob.iglob('../employee_filings/*.gz')]\n",
    "full_accession_ids = [PurePath(file).stem.replace('.html', '') for file in full_file_list]\n",
    "full_cik_nbrs = [x.split(sep='-')[0] for x in full_accession_ids]"
   ]
  },
  {
   "cell_type": "code",
   "execution_count": 10,
   "metadata": {
    "ExecuteTime": {
     "end_time": "2018-06-20T02:30:14.780610Z",
     "start_time": "2018-06-20T02:30:14.777613Z"
    }
   },
   "outputs": [],
   "source": [
    "#val_accession_ids = random.sample(full_accession_ids, int(len(full_accession_ids)*.25))"
   ]
  },
  {
   "cell_type": "code",
   "execution_count": 36,
   "metadata": {
    "ExecuteTime": {
     "end_time": "2018-06-20T16:10:18.590618Z",
     "start_time": "2018-06-20T16:10:18.549592Z"
    }
   },
   "outputs": [],
   "source": [
    "train_accession_ids = [x for x in full_accession_ids if x not in val_accession_ids]\n",
    "test_accession_ids = [PurePath(file).stem.replace('.html', '') for file in glob.iglob('../employee_filings_test/*.gz')]"
   ]
  },
  {
   "cell_type": "markdown",
   "metadata": {},
   "source": [
    "Create lists of accession IDs for easy reuse (currently being treated as proprietary, since it would take some work to compile the master list)"
   ]
  },
  {
   "cell_type": "code",
   "execution_count": 55,
   "metadata": {
    "ExecuteTime": {
     "end_time": "2018-06-21T16:01:57.088998Z",
     "start_time": "2018-06-21T16:01:57.049972Z"
    }
   },
   "outputs": [],
   "source": [
    "pd.DataFrame(val_accession_ids).to_csv('../val_accession_ids.csv', index=False)\n",
    "pd.DataFrame(train_accession_ids).to_csv('../train_accession_ids.csv', header=False, index=False)\n",
    "pd.DataFrame(test_accession_ids).to_csv('../test_accession_ids.csv', index=False)"
   ]
  },
  {
   "cell_type": "code",
   "execution_count": 52,
   "metadata": {
    "ExecuteTime": {
     "end_time": "2018-06-20T16:24:06.733067Z",
     "start_time": "2018-06-20T16:24:06.729065Z"
    }
   },
   "outputs": [
    {
     "name": "stdout",
     "output_type": "stream",
     "text": [
      "Train IDs: 1667\n",
      "Validation IDs: 555\n",
      "Test IDs: 555\n"
     ]
    }
   ],
   "source": [
    "print('Train IDs: ' + str(len(train_accession_ids)))\n",
    "print('Validation IDs: ' + str(len(val_accession_ids)))\n",
    "print('Test IDs: ' + str(len(test_accession_ids)))"
   ]
  },
  {
   "cell_type": "code",
   "execution_count": 16,
   "metadata": {
    "ExecuteTime": {
     "end_time": "2018-06-20T15:57:52.712934Z",
     "start_time": "2018-06-20T15:57:52.346940Z"
    }
   },
   "outputs": [],
   "source": [
    "full_labeled_df = pd.read_excel('../data/employee_count_paragraphs.xlsx')"
   ]
  },
  {
   "cell_type": "markdown",
   "metadata": {},
   "source": [
    "Label rows by split (test, val, train)"
   ]
  },
  {
   "cell_type": "code",
   "execution_count": 44,
   "metadata": {
    "ExecuteTime": {
     "end_time": "2018-06-20T16:19:16.268808Z",
     "start_time": "2018-06-20T16:19:16.249796Z"
    }
   },
   "outputs": [],
   "source": [
    "full_labeled_df['split'] = 'train'\n",
    "full_labeled_df.loc[full_labeled_df.accession_number.isin(test_accession_ids), 'split'] = 'test'\n",
    "full_labeled_df.loc[full_labeled_df.accession_number.isin(val_accession_ids), 'split'] = 'val'"
   ]
  },
  {
   "cell_type": "markdown",
   "metadata": {},
   "source": [
    "Write to excel file with split labels"
   ]
  },
  {
   "cell_type": "code",
   "execution_count": 46,
   "metadata": {
    "ExecuteTime": {
     "end_time": "2018-06-20T16:21:03.986088Z",
     "start_time": "2018-06-20T16:21:02.626705Z"
    },
    "scrolled": false
   },
   "outputs": [],
   "source": [
    "full_writer = pd.ExcelWriter('../data/full_employee_count_paragraphs.xlsx')\n",
    "full_labeled_df.to_excel(full_writer, index=False)\n",
    "full_writer.save()"
   ]
  },
  {
   "cell_type": "code",
   "execution_count": null,
   "metadata": {
    "ExecuteTime": {
     "end_time": "2018-06-20T16:21:42.847796Z",
     "start_time": "2018-06-20T16:21:42.841793Z"
    }
   },
   "outputs": [],
   "source": [
    "test_labeled_df = full_labeled_df[full_labeled_df.accession_number.isin(test_accession_ids)]\n",
    "train_val_labeled_df = full_labeled_df[full_labeled_df.accession_number.isin(train_accession_ids + val_accession_ids)]\n",
    "\n",
    "subset_df = train_val_labeled_df[train_val_labeled_df['split'] == 'train'].head(20)"
   ]
  },
  {
   "cell_type": "code",
   "execution_count": 58,
   "metadata": {
    "ExecuteTime": {
     "end_time": "2018-06-21T19:49:08.405764Z",
     "start_time": "2018-06-21T19:49:08.155590Z"
    }
   },
   "outputs": [],
   "source": [
    "subset_file_list = [file for file in full_file_list if PurePath(file).stem.replace('.html', '') in subset_df.accession_number.unique().tolist()]"
   ]
  },
  {
   "cell_type": "code",
   "execution_count": 61,
   "metadata": {
    "ExecuteTime": {
     "end_time": "2018-06-21T19:55:03.445874Z",
     "start_time": "2018-06-21T19:55:03.258136Z"
    },
    "code_folding": []
   },
   "outputs": [],
   "source": [
    "for file in subset_file_list:\n",
    "    file_orig = PurePath(os.getcwd()).joinpath('../employee_filings/').joinpath(file)\n",
    "    file_dest = subset_path.joinpath(PurePath(file).name)\n",
    "    shutil.copy(file_orig, file_dest)"
   ]
  },
  {
   "cell_type": "code",
   "execution_count": 48,
   "metadata": {
    "ExecuteTime": {
     "end_time": "2018-06-20T16:21:43.844978Z",
     "start_time": "2018-06-20T16:21:43.840975Z"
    },
    "scrolled": true
   },
   "outputs": [
    {
     "name": "stdout",
     "output_type": "stream",
     "text": [
      "Train-Validation DF rows: 2625\n",
      "Test DF rows: 653\n"
     ]
    }
   ],
   "source": [
    "print('Train-Validation DF rows: ' + str(train_val_labeled_df.shape[0]))\n",
    "print('Test DF rows: ' + str(test_labeled_df.shape[0]))"
   ]
  },
  {
   "cell_type": "markdown",
   "metadata": {},
   "source": [
    "Write test rows to separate file"
   ]
  },
  {
   "cell_type": "code",
   "execution_count": 49,
   "metadata": {
    "ExecuteTime": {
     "end_time": "2018-06-20T16:21:51.930544Z",
     "start_time": "2018-06-20T16:21:51.577151Z"
    },
    "scrolled": false
   },
   "outputs": [],
   "source": [
    "test_writer = pd.ExcelWriter('../data/test_employee_count_paragraphs.xlsx')\n",
    "test_labeled_df.to_excel(test_writer, index=False)\n",
    "test_writer.save()"
   ]
  },
  {
   "cell_type": "markdown",
   "metadata": {},
   "source": [
    "Write train + validation rows to separate Excel to help avoid Test Data leakage"
   ]
  },
  {
   "cell_type": "code",
   "execution_count": 50,
   "metadata": {
    "ExecuteTime": {
     "end_time": "2018-06-20T16:22:21.929350Z",
     "start_time": "2018-06-20T16:22:20.826218Z"
    },
    "scrolled": false
   },
   "outputs": [],
   "source": [
    "train_val_writer = pd.ExcelWriter('../data/train_val_employee_count_paragraphs.xlsx')\n",
    "train_val_labeled_df.to_excel(train_val_writer, index=False)\n",
    "train_val_writer.save()"
   ]
  },
  {
   "cell_type": "markdown",
   "metadata": {},
   "source": [
    "Write subset df for semi-supervised learning to separate Excel file"
   ]
  },
  {
   "cell_type": "code",
   "execution_count": 57,
   "metadata": {
    "ExecuteTime": {
     "end_time": "2018-06-21T19:25:16.033908Z",
     "start_time": "2018-06-21T19:25:15.939647Z"
    },
    "scrolled": false
   },
   "outputs": [],
   "source": [
    "subset_writer = pd.ExcelWriter('../data/subset_employee_count_paragraphs.xlsx')\n",
    "subset_df.to_excel(subset_writer, index=False)\n",
    "subset_writer.save()"
   ]
  }
 ],
 "metadata": {
  "kernelspec": {
   "display_name": "Python 3",
   "language": "python",
   "name": "python3"
  },
  "language_info": {
   "codemirror_mode": {
    "name": "ipython",
    "version": 3
   },
   "file_extension": ".py",
   "mimetype": "text/x-python",
   "name": "python",
   "nbconvert_exporter": "python",
   "pygments_lexer": "ipython3",
   "version": "3.6.1"
  },
  "toc": {
   "base_numbering": 1,
   "nav_menu": {},
   "number_sections": true,
   "sideBar": true,
   "skip_h1_title": false,
   "title_cell": "Table of Contents",
   "title_sidebar": "Contents",
   "toc_cell": false,
   "toc_position": {},
   "toc_section_display": true,
   "toc_window_display": false
  }
 },
 "nbformat": 4,
 "nbformat_minor": 2
}
