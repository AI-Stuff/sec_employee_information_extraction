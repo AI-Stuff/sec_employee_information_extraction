{
 "cells": [
  {
   "cell_type": "markdown",
   "metadata": {
    "toc": true
   },
   "source": [
    "<h1>Table of Contents<span class=\"tocSkip\"></span></h1>\n",
    "<div class=\"toc\"><ul class=\"toc-item\"><li><span><a href=\"#Create-pipeline-components-to-use-in-SpaCy-NLP-pipeline\" data-toc-modified-id=\"Create-pipeline-components-to-use-in-SpaCy-NLP-pipeline-1\"><span class=\"toc-item-num\">1&nbsp;&nbsp;</span>Create pipeline components to use in SpaCy NLP pipeline</a></span><ul class=\"toc-item\"><li><span><a href=\"#Class-to-tag-employee-nouns-as-entities\" data-toc-modified-id=\"Class-to-tag-employee-nouns-as-entities-1.1\"><span class=\"toc-item-num\">1.1&nbsp;&nbsp;</span>Class to tag employee nouns as entities</a></span></li><li><span><a href=\"#YearMatcher:-Add-custom-_.is_year-attribute-to-year-tokens-that-are-part-of-Date-entities\" data-toc-modified-id=\"YearMatcher:-Add-custom-_.is_year-attribute-to-year-tokens-that-are-part-of-Date-entities-1.2\"><span class=\"toc-item-num\">1.2&nbsp;&nbsp;</span>YearMatcher: Add custom <code>_.is_year</code> attribute to year tokens that are part of Date entities</a></span></li></ul></li><li><span><a href=\"#Code-for-relationship-extraction-and-helper-functions\" data-toc-modified-id=\"Code-for-relationship-extraction-and-helper-functions-2\"><span class=\"toc-item-num\">2&nbsp;&nbsp;</span>Code for relationship extraction and helper functions</a></span><ul class=\"toc-item\"><li><span><a href=\"#Function:-extract_emp_relations\" data-toc-modified-id=\"Function:-extract_emp_relations-2.1\"><span class=\"toc-item-num\">2.1&nbsp;&nbsp;</span>Function: extract_emp_relations</a></span></li><li><span><a href=\"#Testing-handling-of-tuples-(sorting-to-match-years-with-cardinal-numbers)\" data-toc-modified-id=\"Testing-handling-of-tuples-(sorting-to-match-years-with-cardinal-numbers)-2.2\"><span class=\"toc-item-num\">2.2&nbsp;&nbsp;</span>Testing handling of tuples (sorting to match years with cardinal numbers)</a></span></li><li><span><a href=\"#Function:-print_doc_info\" data-toc-modified-id=\"Function:-print_doc_info-2.3\"><span class=\"toc-item-num\">2.3&nbsp;&nbsp;</span>Function: print_doc_info</a></span></li></ul></li><li><span><a href=\"#Define-sentence-structure-types\" data-toc-modified-id=\"Define-sentence-structure-types-3\"><span class=\"toc-item-num\">3&nbsp;&nbsp;</span>Define sentence structure types</a></span><ul class=\"toc-item\"><li><span><a href=\"#Company_noun-in-subject,--Emp_num-and-EMP_NOUN-in-predicate\" data-toc-modified-id=\"Company_noun-in-subject,--Emp_num-and-EMP_NOUN-in-predicate-3.1\"><span class=\"toc-item-num\">3.1&nbsp;&nbsp;</span><code>Company_noun</code> in subject,  <code>Emp_num</code> and <code>EMP_NOUN</code> in predicate</a></span><ul class=\"toc-item\"><li><span><a href=\"#[Company]--[was|-had]-Emp_Num-EMP_NOUN\" data-toc-modified-id=\"[Company]--[was|-had]-Emp_Num-EMP_NOUN-3.1.1\"><span class=\"toc-item-num\">3.1.1&nbsp;&nbsp;</span>[Company]  [<code>was</code>| <code>had</code>] <code>Emp_Num</code> <code>EMP_NOUN</code></a></span></li><li><span><a href=\"#we-[employed-|-have]-Emp_num-EMP_NOUN\" data-toc-modified-id=\"we-[employed-|-have]-Emp_num-EMP_NOUN-3.1.2\"><span class=\"toc-item-num\">3.1.2&nbsp;&nbsp;</span><code>we</code> [<code>employed</code> | <code>have</code>] <code>Emp_num</code> <code>EMP_NOUN</code></a></span></li><li><span><a href=\"#Emp_num-below-EMP_NOUN-in-parse-tree,-org_tok-left-of-verb\" data-toc-modified-id=\"Emp_num-below-EMP_NOUN-in-parse-tree,-org_tok-left-of-verb-3.1.3\"><span class=\"toc-item-num\">3.1.3&nbsp;&nbsp;</span><code>Emp_num</code> below <code>EMP_NOUN</code> in parse tree, <code>org_tok</code> left of verb</a></span></li><li><span><a href=\"#Org_tok-[employment_noun]-was-Emp_Num-EMP_NOUN\" data-toc-modified-id=\"Org_tok-[employment_noun]-was-Emp_Num-EMP_NOUN-3.1.4\"><span class=\"toc-item-num\">3.1.4&nbsp;&nbsp;</span><code>Org_tok</code> [employment_noun] <code>was</code> <code>Emp_Num</code> <code>EMP_NOUN</code></a></span></li><li><span><a href=\"#Org_tok-that-is-not-the-company\" data-toc-modified-id=\"Org_tok-that-is-not-the-company-3.1.5\"><span class=\"toc-item-num\">3.1.5&nbsp;&nbsp;</span><code>Org_tok</code> that is not the company</a></span></li></ul></li><li><span><a href=\"#Emp_noun-and-Company_noun--in-subject,-Emp_num-in-predicate\" data-toc-modified-id=\"Emp_noun-and-Company_noun--in-subject,-Emp_num-in-predicate-3.2\"><span class=\"toc-item-num\">3.2&nbsp;&nbsp;</span><code>Emp_noun</code> and <code>Company_noun</code>  in subject, <code>Emp_num</code> in predicate</a></span><ul class=\"toc-item\"><li><span><a href=\"#EMP_NOUN-Company_noun--was-(compount-predicate)--Emp_Num-and-Emp_Num\" data-toc-modified-id=\"EMP_NOUN-Company_noun--was-(compount-predicate)--Emp_Num-and-Emp_Num-3.2.1\"><span class=\"toc-item-num\">3.2.1&nbsp;&nbsp;</span><code>EMP_NOUN</code> <code>Company_noun</code>  <code>was</code> (compount predicate)  <code>Emp_Num</code> and <code>Emp_Num</code></a></span></li></ul></li><li><span><a href=\"#Emp_num-above-and-below-EMP_NOUN-in-parse-tree\" data-toc-modified-id=\"Emp_num-above-and-below-EMP_NOUN-in-parse-tree-3.3\"><span class=\"toc-item-num\">3.3&nbsp;&nbsp;</span><code>Emp_num</code> above and below <code>EMP_NOUN</code> in parse tree</a></span></li><li><span><a href=\"#Testing-on-sentences\" data-toc-modified-id=\"Testing-on-sentences-3.4\"><span class=\"toc-item-num\">3.4&nbsp;&nbsp;</span>Testing on sentences</a></span></li></ul></li><li><span><a href=\"#Testing-with-paragraphs\" data-toc-modified-id=\"Testing-with-paragraphs-4\"><span class=\"toc-item-num\">4&nbsp;&nbsp;</span>Testing with paragraphs</a></span></li><li><span><a href=\"#Matcher-testing\" data-toc-modified-id=\"Matcher-testing-5\"><span class=\"toc-item-num\">5&nbsp;&nbsp;</span>Matcher testing</a></span></li></ul></div>"
   ]
  },
  {
   "cell_type": "code",
   "execution_count": 1,
   "metadata": {
    "ExecuteTime": {
     "end_time": "2018-07-07T14:53:20.227920Z",
     "start_time": "2018-07-07T14:53:19.605504Z"
    }
   },
   "outputs": [],
   "source": [
    "import spacy\n",
    "from spacy import displacy\n",
    "from spacy.matcher import Matcher, PhraseMatcher\n",
    "from spacy.tokens import Doc, Span, Token\n",
    "import pandas as pd\n",
    "import re\n",
    "\n",
    "from path import Path, getcwdu\n",
    "\n",
    "from IPython.display import display, HTML"
   ]
  },
  {
   "cell_type": "code",
   "execution_count": 2,
   "metadata": {
    "ExecuteTime": {
     "end_time": "2018-07-07T14:53:20.263434Z",
     "start_time": "2018-07-07T14:53:20.228919Z"
    }
   },
   "outputs": [],
   "source": [
    "subset_df = pd.read_excel('../data/subset_employee_count_paragraphs.xlsx')"
   ]
  },
  {
   "cell_type": "code",
   "execution_count": 3,
   "metadata": {
    "ExecuteTime": {
     "end_time": "2018-07-07T14:53:20.490581Z",
     "start_time": "2018-07-07T14:53:20.264430Z"
    },
    "scrolled": true
   },
   "outputs": [
    {
     "name": "stderr",
     "output_type": "stream",
     "text": [
      "C:\\Anaconda\\lib\\site-packages\\ipykernel_launcher.py:4: UserWarning: Boolean Series key will be reindexed to match DataFrame index.\n",
      "  after removing the cwd from sys.path.\n",
      "C:\\Anaconda\\lib\\site-packages\\ipykernel_launcher.py:6: UserWarning: Boolean Series key will be reindexed to match DataFrame index.\n",
      "  \n"
     ]
    }
   ],
   "source": [
    "nonum_pat = re.compile(r\"^([^\\d]|[$][\\d]+)[^\\d]*$\", re.I)\n",
    "\n",
    "train_df = pd.read_csv('data/classifier_input_train.csv', index_col=0)\n",
    "train_df = train_df[train_df.len > 19][train_df.para_text.apply(lambda x: not re.match(nonum_pat, x))]\n",
    "val_df = pd.read_csv('data/classifier_input_val.csv', index_col=0)\n",
    "val_df = val_df[val_df.len > 19][val_df.para_text.apply(lambda x: not re.match(nonum_pat, x))]"
   ]
  },
  {
   "cell_type": "markdown",
   "metadata": {
    "heading_collapsed": true
   },
   "source": [
    "## Create pipeline components to use in SpaCy NLP pipeline"
   ]
  },
  {
   "cell_type": "markdown",
   "metadata": {
    "hidden": true
   },
   "source": [
    "### Class to tag employee nouns as entities"
   ]
  },
  {
   "cell_type": "code",
   "execution_count": 4,
   "metadata": {
    "ExecuteTime": {
     "end_time": "2018-07-07T14:53:20.523604Z",
     "start_time": "2018-07-07T14:53:20.492581Z"
    },
    "hidden": true
   },
   "outputs": [],
   "source": [
    "# Templated from: https://spacy.io/usage/processing-pipelines#custom-components \n",
    "class EmpNounRecognizer(object):\n",
    "    \"\"\"A spaCy v2.0 pipeline component that sets entity annotations\n",
    "    based on list of terms. Terms are labelled as EMP_NOUN. Additionally,\n",
    "    ._.has_emp_noun and ._.is_emp_noun is set on the Doc/Span and Token\n",
    "    respectively.\"\"\"\n",
    "    name = 'employee_nouns'  # component name, will show up in the pipeline\n",
    "\n",
    "    def __init__(self, nlp, terms=tuple(), label='EMP_NOUN'):\n",
    "        \"\"\"Initialise the pipeline component. The shared nlp instance is used\n",
    "        to initialise the matcher with the shared vocab, get the label ID and\n",
    "        generate Doc objects as phrase match patterns.\n",
    "        \"\"\"\n",
    "        self.label = nlp.vocab.strings[label]  # get entity label ID\n",
    "\n",
    "        # Set up the PhraseMatcher – it can now take Doc objects as patterns,\n",
    "        # so even if the list of terms is long, it's very efficient\n",
    "        patterns = [nlp(term) for term in terms]\n",
    "        self.matcher = PhraseMatcher(nlp.vocab)\n",
    "        self.matcher.add('EMP_NOUN', None, *patterns)\n",
    "\n",
    "        # Register attribute on the Token. We'll be overwriting this based on\n",
    "        # the matches, so we're only setting a default value, not a getter.\n",
    "        Token.set_extension('is_emp_noun', default=False)\n",
    "\n",
    "        # Register attributes on Doc and Span via a getter that checks if one of\n",
    "        # the contained tokens is set to is_emp_noun == True.\n",
    "        Doc.set_extension('has_emp_noun', getter=self.has_emp_noun)\n",
    "        Span.set_extension('has_emp_noun', getter=self.has_emp_noun)\n",
    "\n",
    "    def __call__(self, doc):\n",
    "        \"\"\"Apply the pipeline component on a Doc object and modify it if matches\n",
    "        are found. Return the Doc, so it can be processed by the next component\n",
    "        in the pipeline, if available.\n",
    "        \"\"\"\n",
    "        matches = self.matcher(doc)\n",
    "        spans = []  # keep the spans for later so we can merge them afterwards\n",
    "        for _, start, end in matches:\n",
    "            # Generate Span representing the entity & set label\n",
    "            entity = Span(doc, start, end, label=self.label)\n",
    "            spans.append(entity)\n",
    "            # Set custom attribute on each token of the entity\n",
    "            for token in entity:\n",
    "                token._.set('is_emp_noun', True)\n",
    "            # Overwrite doc.ents and add entity – be careful not to replace!\n",
    "            doc.ents = list(doc.ents) + [entity]\n",
    "        for span in spans:\n",
    "            # Iterate over all spans and merge them into one token. This is done\n",
    "            # after setting the entities – otherwise, it would cause mismatched\n",
    "            # indices!\n",
    "            span.merge()\n",
    "        return doc  # don't forget to return the Doc!\n",
    "\n",
    "    def has_emp_noun(self, tokens):\n",
    "        \"\"\"Getter for Doc and Span attributes. Returns True if one of the tokens\n",
    "        is an employee noun. Since the getter is only called when we access the\n",
    "        attribute, we can refer to the Token's 'is_emp_noun' attribute here,\n",
    "        which is already set in the processing step.\"\"\"\n",
    "        return any([t._.get('is_emp_noun') for t in tokens])"
   ]
  },
  {
   "cell_type": "code",
   "execution_count": 5,
   "metadata": {
    "ExecuteTime": {
     "end_time": "2018-07-07T14:53:20.535610Z",
     "start_time": "2018-07-07T14:53:20.526606Z"
    },
    "hidden": true
   },
   "outputs": [],
   "source": [
    "emp_terms_list = [\"associates\", \"employees\", \"individuals\", \"people\", \"persons\", \"team members\"]\n",
    "emp_terms_list = emp_terms_list + [s.title() for s in emp_terms_list] + [s.upper() for s in emp_terms_list]"
   ]
  },
  {
   "cell_type": "code",
   "execution_count": 6,
   "metadata": {
    "ExecuteTime": {
     "end_time": "2018-07-07T14:53:28.957587Z",
     "start_time": "2018-07-07T14:53:20.537611Z"
    },
    "hidden": true
   },
   "outputs": [],
   "source": [
    "nlp = spacy.load('en_core_web_lg')"
   ]
  },
  {
   "cell_type": "code",
   "execution_count": 7,
   "metadata": {
    "ExecuteTime": {
     "end_time": "2018-07-07T14:53:29.118725Z",
     "start_time": "2018-07-07T14:53:28.957587Z"
    },
    "hidden": true,
    "scrolled": true
   },
   "outputs": [],
   "source": [
    "emp_noun_recognizer = EmpNounRecognizer(nlp, emp_terms_list)"
   ]
  },
  {
   "cell_type": "code",
   "execution_count": 8,
   "metadata": {
    "ExecuteTime": {
     "end_time": "2018-07-07T14:53:29.123728Z",
     "start_time": "2018-07-07T14:53:29.120727Z"
    },
    "hidden": true
   },
   "outputs": [],
   "source": [
    "nlp.add_pipe(emp_noun_recognizer, last=True) "
   ]
  },
  {
   "cell_type": "code",
   "execution_count": 9,
   "metadata": {
    "ExecuteTime": {
     "end_time": "2018-07-07T14:53:29.139739Z",
     "start_time": "2018-07-07T14:53:29.125729Z"
    },
    "hidden": true
   },
   "outputs": [
    {
     "name": "stdout",
     "output_type": "stream",
     "text": [
      "Pipeline ['tagger', 'parser', 'ner', 'employee_nouns']\n"
     ]
    }
   ],
   "source": [
    "print('Pipeline', nlp.pipe_names) "
   ]
  },
  {
   "cell_type": "markdown",
   "metadata": {
    "hidden": true
   },
   "source": [
    "### YearMatcher: Add custom `_.is_year` attribute to year tokens that are part of Date entities"
   ]
  },
  {
   "cell_type": "code",
   "execution_count": 10,
   "metadata": {
    "ExecuteTime": {
     "end_time": "2018-07-07T14:53:29.156749Z",
     "start_time": "2018-07-07T14:53:29.141740Z"
    },
    "hidden": true
   },
   "outputs": [],
   "source": [
    "class YearMatcher(object):\n",
    "    name = 'year_matcher'\n",
    "    \n",
    "    def __init__(self, nlp, pattern_list, match_id='Year'):\n",
    "        # register a new token extension to flag year tokens\n",
    "        Token.set_extension('is_year', default=False)\n",
    "        self.matcher = Matcher(nlp.vocab)\n",
    "        self.matcher.add(match_id, None, pattern_list)\n",
    "\n",
    "    def __call__(self, doc):\n",
    "        matches = self.matcher(doc)\n",
    "        spans = []  # collect the matched spans here\n",
    "        for match_id, start, end in matches:\n",
    "            spans.append(doc[start:end])\n",
    "        for span in spans:\n",
    "            span.merge()   # merge\n",
    "            for token in span:\n",
    "                token._.is_year = True  # mark token as a year\n",
    "        return doc\n",
    "\n",
    "year_patterns = [{'ENT_TYPE': 'DATE', 'TAG' : 'CD', 'SHAPE' : 'dddd'}]"
   ]
  },
  {
   "cell_type": "code",
   "execution_count": 11,
   "metadata": {
    "ExecuteTime": {
     "end_time": "2018-07-07T14:53:29.167756Z",
     "start_time": "2018-07-07T14:53:29.158751Z"
    },
    "hidden": true
   },
   "outputs": [],
   "source": [
    "year_matcher = YearMatcher(nlp, year_patterns)\n",
    "\n",
    "nlp.add_pipe(year_matcher, last=True) "
   ]
  },
  {
   "cell_type": "code",
   "execution_count": 12,
   "metadata": {
    "ExecuteTime": {
     "end_time": "2018-07-07T14:53:29.182767Z",
     "start_time": "2018-07-07T14:53:29.169758Z"
    },
    "hidden": true
   },
   "outputs": [
    {
     "name": "stdout",
     "output_type": "stream",
     "text": [
      "Pipeline ['tagger', 'parser', 'ner', 'employee_nouns', 'year_matcher']\n"
     ]
    }
   ],
   "source": [
    "print('Pipeline', nlp.pipe_names) "
   ]
  },
  {
   "cell_type": "markdown",
   "metadata": {
    "heading_collapsed": true
   },
   "source": [
    "## Code for relationship extraction and helper functions"
   ]
  },
  {
   "cell_type": "markdown",
   "metadata": {
    "hidden": true
   },
   "source": [
    "### Function: extract_emp_relations"
   ]
  },
  {
   "cell_type": "code",
   "execution_count": 13,
   "metadata": {
    "ExecuteTime": {
     "end_time": "2018-07-07T14:53:29.255816Z",
     "start_time": "2018-07-07T14:53:29.184769Z"
    },
    "hidden": true
   },
   "outputs": [],
   "source": [
    "def extract_emp_relations(doc):\n",
    "    relations = []\n",
    "    org_ents = [e for e in doc.ents if e.label_ == 'ORG']\n",
    "    for word in filter(lambda w: w.ent_type_ == 'EMP_NOUN', doc):\n",
    "        if org_ents:\n",
    "                relations.append((org_ents[0], word))\n",
    "        if word.dep_ in ('attr', 'dobj'):\n",
    "            num_tok = [w for w in word.children if w.dep_ == 'nummod']\n",
    "            if word.head.dep_ == 'ROOT':\n",
    "                subject = [w for w in word.head.lefts if w.dep_ == 'nsubj']\n",
    "            else:\n",
    "                subject = [w for w in word.head.lefts if w.dep_ == 'nsubj']\n",
    "            if subject:\n",
    "                subject = subject[0]\n",
    "                #[print(str(p) + '  :  ' + str(p.dep_)) for p in subject.subtree]\n",
    "                sub_poss = [p for p in subject.subtree if p.dep_ == 'poss']\n",
    "                if sub_poss:\n",
    "                    sub_poss = sub_poss[0]\n",
    "                    relations.append((sub_poss, word))\n",
    "                relations.append((subject, word))\n",
    "            if num_tok:\n",
    "                num_tok = num_tok[0]\n",
    "                relations.append((num_tok, word))\n",
    "        elif word.dep_ == 'pobj' and word.head.dep_ == 'prep':\n",
    "            subject = word.head.head \n",
    "            num_toks = [c for c in word.children if c.dep_ == 'nummod' and c.ent_type_ == 'CARDINAL']\n",
    "            if num_toks:\n",
    "                relations.append((num_toks[0], word))\n",
    "            elif word.head.head.head.pos_ == 'VERB':\n",
    "                cards = [c for c in word.head.head.head.rights if c.tag_== 'CD' and c.ent_type_ == 'CARDINAL']\n",
    "                dates = [e for e in word.doc.ents if e.label_ == 'DATE']\n",
    "                if cards:\n",
    "                    relations.append((cards[0], word))\n",
    "            relations.append((subject, word))\n",
    "        elif word.dep_ == 'conj':\n",
    "            child_num_toks = [w for w in word.children if w.dep_ == 'nummod'] \n",
    "            head_num_tok = [w for w in [word.head] if w.tag_ == 'CD']\n",
    "            if child_num_toks and head_num_tok:\n",
    "                years = [(y.i, y) for y in word.doc if y._.is_year == True]\n",
    "                emp_counts = [(c.i, c) for c in child_num_toks + head_num_tok]\n",
    "                order_indices = [years.index(y) for y in sorted(years, reverse=True, key = lambda x: x[1])]\n",
    "                year_emps = [(years[i][1], emp_counts[i][1]) for i in order_indices]\n",
    "                relations.append((max(year_emps)[1], word))\n",
    "            else: \n",
    "                relations.append((child_num_toks[0], word))\n",
    "    return relations\n"
   ]
  },
  {
   "cell_type": "markdown",
   "metadata": {
    "hidden": true
   },
   "source": [
    "### Testing handling of tuples (sorting to match years with cardinal numbers)"
   ]
  },
  {
   "cell_type": "code",
   "execution_count": 14,
   "metadata": {
    "ExecuteTime": {
     "end_time": "2018-07-07T14:53:29.266823Z",
     "start_time": "2018-07-07T14:53:29.257817Z"
    },
    "hidden": true
   },
   "outputs": [],
   "source": [
    "iyears =[(13, 2015), (11, 2016)]"
   ]
  },
  {
   "cell_type": "code",
   "execution_count": 15,
   "metadata": {
    "ExecuteTime": {
     "end_time": "2018-07-07T14:53:29.276830Z",
     "start_time": "2018-07-07T14:53:29.268824Z"
    },
    "hidden": true
   },
   "outputs": [],
   "source": [
    "iemps = [(15, '43,246'), (12, '53,146')]"
   ]
  },
  {
   "cell_type": "code",
   "execution_count": 16,
   "metadata": {
    "ExecuteTime": {
     "end_time": "2018-07-07T14:53:29.294841Z",
     "start_time": "2018-07-07T14:53:29.278831Z"
    },
    "hidden": true
   },
   "outputs": [
    {
     "data": {
      "text/plain": [
       "[(12, '53,146'), (15, '43,246')]"
      ]
     },
     "execution_count": 16,
     "metadata": {},
     "output_type": "execute_result"
    }
   ],
   "source": [
    "sorted(iemps)"
   ]
  },
  {
   "cell_type": "code",
   "execution_count": 17,
   "metadata": {
    "ExecuteTime": {
     "end_time": "2018-07-07T14:53:29.303849Z",
     "start_time": "2018-07-07T14:53:29.295844Z"
    },
    "hidden": true
   },
   "outputs": [],
   "source": [
    "year_sorted = sorted(iyears, key = lambda tup: tup[1], reverse=True)"
   ]
  },
  {
   "cell_type": "code",
   "execution_count": 18,
   "metadata": {
    "ExecuteTime": {
     "end_time": "2018-07-07T14:53:29.314855Z",
     "start_time": "2018-07-07T14:53:29.305849Z"
    },
    "hidden": true
   },
   "outputs": [
    {
     "data": {
      "text/plain": [
       "[(11, 2016), (13, 2015)]"
      ]
     },
     "execution_count": 18,
     "metadata": {},
     "output_type": "execute_result"
    }
   ],
   "source": [
    "year_sorted"
   ]
  },
  {
   "cell_type": "code",
   "execution_count": 19,
   "metadata": {
    "ExecuteTime": {
     "end_time": "2018-07-07T14:53:29.322861Z",
     "start_time": "2018-07-07T14:53:29.316860Z"
    },
    "hidden": true
   },
   "outputs": [],
   "source": [
    "order_indices = [iyears.index(x) for x in year_sorted]"
   ]
  },
  {
   "cell_type": "code",
   "execution_count": 20,
   "metadata": {
    "ExecuteTime": {
     "end_time": "2018-07-07T14:53:29.331866Z",
     "start_time": "2018-07-07T14:53:29.324862Z"
    },
    "hidden": true
   },
   "outputs": [
    {
     "data": {
      "text/plain": [
       "[1, 0]"
      ]
     },
     "execution_count": 20,
     "metadata": {},
     "output_type": "execute_result"
    }
   ],
   "source": [
    "order_indices"
   ]
  },
  {
   "cell_type": "code",
   "execution_count": 21,
   "metadata": {
    "ExecuteTime": {
     "end_time": "2018-07-07T14:53:29.344876Z",
     "start_time": "2018-07-07T14:53:29.332868Z"
    },
    "hidden": true
   },
   "outputs": [],
   "source": [
    "year_emps = [(iyears[i][1], iemps[i][1]) for i in order_indices]"
   ]
  },
  {
   "cell_type": "code",
   "execution_count": 22,
   "metadata": {
    "ExecuteTime": {
     "end_time": "2018-07-07T14:53:29.352881Z",
     "start_time": "2018-07-07T14:53:29.346878Z"
    },
    "hidden": true
   },
   "outputs": [
    {
     "data": {
      "text/plain": [
       "[(2016, '53,146'), (2015, '43,246')]"
      ]
     },
     "execution_count": 22,
     "metadata": {},
     "output_type": "execute_result"
    }
   ],
   "source": [
    "year_emps"
   ]
  },
  {
   "cell_type": "code",
   "execution_count": 23,
   "metadata": {
    "ExecuteTime": {
     "end_time": "2018-07-07T14:53:29.365889Z",
     "start_time": "2018-07-07T14:53:29.353882Z"
    },
    "hidden": true
   },
   "outputs": [
    {
     "data": {
      "text/plain": [
       "'53,146'"
      ]
     },
     "execution_count": 23,
     "metadata": {},
     "output_type": "execute_result"
    }
   ],
   "source": [
    "max(year_emps)[1]"
   ]
  },
  {
   "cell_type": "markdown",
   "metadata": {
    "hidden": true
   },
   "source": [
    "### Function: print_doc_info "
   ]
  },
  {
   "cell_type": "code",
   "execution_count": 24,
   "metadata": {
    "ExecuteTime": {
     "end_time": "2018-07-07T14:53:29.451947Z",
     "start_time": "2018-07-07T14:53:29.367891Z"
    },
    "hidden": true
   },
   "outputs": [],
   "source": [
    "def make_tok_df(doc, tok_filter_func=False):\n",
    "    \"\"\"Return a dataframe showing attributes for each token in doc.\"\"\"\n",
    "    \n",
    "    if tok_filter_func:\n",
    "        toks = list(filter(tok_filter_func, doc))\n",
    "    else:\n",
    "        toks = doc\n",
    "    doc_dict = {'tok_ent' : [tok.ent_type_ for tok in toks], \n",
    "        'toks' : [tok for tok in toks], \n",
    "        'dep' : [tok.dep_ for tok in toks], \n",
    "        'head' : [tok.head for tok in toks], \n",
    "        'head_dep' : [tok.head.dep_ for tok in toks], \n",
    "        'dep_def' : [spacy.explain(tok.dep_) for tok in toks],\n",
    "        'pos' : [tok.pos_ for tok in toks], \n",
    "        'tag' : [tok.tag_ for tok in toks], \n",
    "        'tag_def' : [spacy.explain(tok.tag_) for tok in toks], \n",
    "               }\n",
    "    columns = [ 'tok_ent', 'toks', 'dep', 'head', 'head_dep', 'pos', 'tag',  'dep_def', 'tag_def' ]\n",
    "    return pd.DataFrame(doc_dict, columns=columns)\n",
    "\n",
    "def make_span_df(doc, entities=True):\n",
    "    \"\"\"Return df showing attributes for each entity or noun chunk in doc.\"\"\"\n",
    "    \n",
    "    columns = ['tok_i', 'entity', 'ent_label', 'root', 'root_dep','dep_def', \n",
    "               'root_head',  'root_head_dep', 'root_head_pos'  ]\n",
    "    if entities:\n",
    "        target_spans = doc.ents\n",
    "        df_name = 'doc_entities'\n",
    "    else: \n",
    "        target_spans = list(doc.noun_chunks)\n",
    "        df_name = 'doc_noun_chunks'\n",
    "    doc_dict = {'tok_i' : [e.start for e in target_spans], \n",
    "        'entity' : [e.text for e in target_spans], \n",
    "        'ent_label' : [e.label_ for e in target_spans], \n",
    "        'root' : [e.root.text for e in target_spans], \n",
    "        'root_dep' : [e.root.dep_ for e in target_spans], \n",
    "        'dep_def' : [spacy.explain(e.root.dep_) for e in target_spans],\n",
    "        'root_head' : [e.root.head for e in target_spans], \n",
    "        'root_head_dep' : [e.root.head.dep_ for e in target_spans], \n",
    "        'root_head_pos' : [e.root.head.pos_ for e in target_spans]}\n",
    "    try :\n",
    "        df = pd.DataFrame(doc_dict, columns=columns) \n",
    "        df.name = df_name\n",
    "        if not entities:\n",
    "            df.columns = ['tok_i', 'noun_chunk', 'NP', 'root', 'root_dep','dep_def',\n",
    "                          'root_head',  'root_head_dep', 'root_head_pos' ]\n",
    "    except: \n",
    "        df = [(k, doc_dict[k]) for k in doc_dict.keys()]\n",
    "    return df\n",
    "\n",
    "def print_df(df, print_df_name=True):\n",
    "    \"\"\"Display rendered HTML version of df in Jupyter notebook\"\"\"\n",
    "    \n",
    "    if print_df_name and hasattr(df, 'name'):\n",
    "        print(\"DataFrame is named \" + str(df.name))\n",
    "    display(HTML(df.to_html()))\n",
    "\n",
    "\n",
    "def print_doc_info(doc):\n",
    "    \"\"\"Print dfs for doc entities, noun_chunks, and CARDINAL toks\"\"\"\n",
    "    \n",
    "    print(\"doc is: \")\n",
    "    print(doc)\n",
    "    print('-' * 50)\n",
    "    print(\"Entities are: \")\n",
    "    print_df(make_span_df(doc), print_df_name=False)\n",
    "    print('-' * 50)\n",
    "    print(\"Noun chunks are: \")\n",
    "    print_df(make_span_df(doc, entities=False), print_df_name=False)\n",
    "    print('-' * 50)\n",
    "    print(\"Cardinal entities are: \")\n",
    "    card_filter = lambda w: w.ent_type_ == 'CARDINAL'\n",
    "    print_df(make_tok_df(doc, card_filter), print_df_name=False)"
   ]
  },
  {
   "cell_type": "markdown",
   "metadata": {},
   "source": [
    "## Define sentence structure types"
   ]
  },
  {
   "cell_type": "markdown",
   "metadata": {
    "heading_collapsed": true
   },
   "source": [
    "### `Company_noun` in subject,  `Emp_num` and `EMP_NOUN` in predicate"
   ]
  },
  {
   "cell_type": "markdown",
   "metadata": {
    "heading_collapsed": true,
    "hidden": true
   },
   "source": [
    "#### [Company]  [`was`| `had`] `Emp_Num` `EMP_NOUN`"
   ]
  },
  {
   "cell_type": "markdown",
   "metadata": {
    "hidden": true
   },
   "source": [
    "Examples: \n",
    "\n",
    "\n",
    "`\"At December 31, 2016, Bio-Rad had approximately 8,250 employees.\"`"
   ]
  },
  {
   "cell_type": "markdown",
   "metadata": {
    "hidden": true
   },
   "source": [
    "Desired output: \n",
    "\n",
    "`(Bio-Rad, had, 8,250, employees)`"
   ]
  },
  {
   "cell_type": "code",
   "execution_count": 25,
   "metadata": {
    "ExecuteTime": {
     "end_time": "2018-07-07T14:53:29.479966Z",
     "start_time": "2018-07-07T14:53:29.452948Z"
    },
    "hidden": true
   },
   "outputs": [],
   "source": [
    "ex1 = nlp('At December 31, 2016, Bio-Rad had approximately 8,250 employees.')"
   ]
  },
  {
   "cell_type": "code",
   "execution_count": 26,
   "metadata": {
    "ExecuteTime": {
     "end_time": "2018-07-07T14:53:29.486970Z",
     "start_time": "2018-07-07T14:53:29.481968Z"
    },
    "hidden": true
   },
   "outputs": [
    {
     "data": {
      "text/html": [
       "<div class=\"entities\" style=\"line-height: 2.5\">At \n",
       "<mark class=\"entity\" style=\"background: #bfe1d9; padding: 0.45em 0.6em; margin: 0 0.25em; line-height: 1; border-radius: 0.35em; box-decoration-break: clone; -webkit-box-decoration-break: clone\">\n",
       "    December 31, 2016\n",
       "    <span style=\"font-size: 0.8em; font-weight: bold; line-height: 1; border-radius: 0.35em; text-transform: uppercase; vertical-align: middle; margin-left: 0.5rem\">DATE</span>\n",
       "</mark>\n",
       ", \n",
       "<mark class=\"entity\" style=\"background: #7aecec; padding: 0.45em 0.6em; margin: 0 0.25em; line-height: 1; border-radius: 0.35em; box-decoration-break: clone; -webkit-box-decoration-break: clone\">\n",
       "    Bio-Rad\n",
       "    <span style=\"font-size: 0.8em; font-weight: bold; line-height: 1; border-radius: 0.35em; text-transform: uppercase; vertical-align: middle; margin-left: 0.5rem\">ORG</span>\n",
       "</mark>\n",
       " had \n",
       "<mark class=\"entity\" style=\"background: #e4e7d2; padding: 0.45em 0.6em; margin: 0 0.25em; line-height: 1; border-radius: 0.35em; box-decoration-break: clone; -webkit-box-decoration-break: clone\">\n",
       "    approximately 8,250\n",
       "    <span style=\"font-size: 0.8em; font-weight: bold; line-height: 1; border-radius: 0.35em; text-transform: uppercase; vertical-align: middle; margin-left: 0.5rem\">CARDINAL</span>\n",
       "</mark>\n",
       " \n",
       "<mark class=\"entity\" style=\"background: #ddd; padding: 0.45em 0.6em; margin: 0 0.25em; line-height: 1; border-radius: 0.35em; box-decoration-break: clone; -webkit-box-decoration-break: clone\">\n",
       "    employees\n",
       "    <span style=\"font-size: 0.8em; font-weight: bold; line-height: 1; border-radius: 0.35em; text-transform: uppercase; vertical-align: middle; margin-left: 0.5rem\">EMP_NOUN</span>\n",
       "</mark>\n",
       ".</div>"
      ],
      "text/plain": [
       "<IPython.core.display.HTML object>"
      ]
     },
     "metadata": {},
     "output_type": "display_data"
    }
   ],
   "source": [
    "displacy.render(ex1, style='ent', jupyter=True, options={'distance': 90})"
   ]
  },
  {
   "cell_type": "code",
   "execution_count": 27,
   "metadata": {
    "ExecuteTime": {
     "end_time": "2018-07-07T14:53:29.499979Z",
     "start_time": "2018-07-07T14:53:29.488971Z"
    },
    "hidden": true
   },
   "outputs": [
    {
     "data": {
      "text/html": [
       "<svg xmlns=\"http://www.w3.org/2000/svg\" xmlns:xlink=\"http://www.w3.org/1999/xlink\" id=\"0\" class=\"displacy\" width=\"950\" height=\"317.0\" style=\"max-width: none; height: 317.0px; color: #000000; background: #ffffff; font-family: Arial\">\n",
       "<text class=\"displacy-token\" fill=\"currentColor\" text-anchor=\"middle\" y=\"227.0\">\n",
       "    <tspan class=\"displacy-word\" fill=\"currentColor\" x=\"50\">At</tspan>\n",
       "    <tspan class=\"displacy-tag\" dy=\"2em\" fill=\"currentColor\" x=\"50\">ADP</tspan>\n",
       "</text>\n",
       "\n",
       "<text class=\"displacy-token\" fill=\"currentColor\" text-anchor=\"middle\" y=\"227.0\">\n",
       "    <tspan class=\"displacy-word\" fill=\"currentColor\" x=\"140\">December</tspan>\n",
       "    <tspan class=\"displacy-tag\" dy=\"2em\" fill=\"currentColor\" x=\"140\">PROPN</tspan>\n",
       "</text>\n",
       "\n",
       "<text class=\"displacy-token\" fill=\"currentColor\" text-anchor=\"middle\" y=\"227.0\">\n",
       "    <tspan class=\"displacy-word\" fill=\"currentColor\" x=\"230\">31,</tspan>\n",
       "    <tspan class=\"displacy-tag\" dy=\"2em\" fill=\"currentColor\" x=\"230\">NUM</tspan>\n",
       "</text>\n",
       "\n",
       "<text class=\"displacy-token\" fill=\"currentColor\" text-anchor=\"middle\" y=\"227.0\">\n",
       "    <tspan class=\"displacy-word\" fill=\"currentColor\" x=\"320\">2016,</tspan>\n",
       "    <tspan class=\"displacy-tag\" dy=\"2em\" fill=\"currentColor\" x=\"320\">NUM</tspan>\n",
       "</text>\n",
       "\n",
       "<text class=\"displacy-token\" fill=\"currentColor\" text-anchor=\"middle\" y=\"227.0\">\n",
       "    <tspan class=\"displacy-word\" fill=\"currentColor\" x=\"410\">Bio-</tspan>\n",
       "    <tspan class=\"displacy-tag\" dy=\"2em\" fill=\"currentColor\" x=\"410\">PROPN</tspan>\n",
       "</text>\n",
       "\n",
       "<text class=\"displacy-token\" fill=\"currentColor\" text-anchor=\"middle\" y=\"227.0\">\n",
       "    <tspan class=\"displacy-word\" fill=\"currentColor\" x=\"500\">Rad</tspan>\n",
       "    <tspan class=\"displacy-tag\" dy=\"2em\" fill=\"currentColor\" x=\"500\">PROPN</tspan>\n",
       "</text>\n",
       "\n",
       "<text class=\"displacy-token\" fill=\"currentColor\" text-anchor=\"middle\" y=\"227.0\">\n",
       "    <tspan class=\"displacy-word\" fill=\"currentColor\" x=\"590\">had</tspan>\n",
       "    <tspan class=\"displacy-tag\" dy=\"2em\" fill=\"currentColor\" x=\"590\">VERB</tspan>\n",
       "</text>\n",
       "\n",
       "<text class=\"displacy-token\" fill=\"currentColor\" text-anchor=\"middle\" y=\"227.0\">\n",
       "    <tspan class=\"displacy-word\" fill=\"currentColor\" x=\"680\">approximately</tspan>\n",
       "    <tspan class=\"displacy-tag\" dy=\"2em\" fill=\"currentColor\" x=\"680\">ADV</tspan>\n",
       "</text>\n",
       "\n",
       "<text class=\"displacy-token\" fill=\"currentColor\" text-anchor=\"middle\" y=\"227.0\">\n",
       "    <tspan class=\"displacy-word\" fill=\"currentColor\" x=\"770\">8,250</tspan>\n",
       "    <tspan class=\"displacy-tag\" dy=\"2em\" fill=\"currentColor\" x=\"770\">NUM</tspan>\n",
       "</text>\n",
       "\n",
       "<text class=\"displacy-token\" fill=\"currentColor\" text-anchor=\"middle\" y=\"227.0\">\n",
       "    <tspan class=\"displacy-word\" fill=\"currentColor\" x=\"860\">employees.</tspan>\n",
       "    <tspan class=\"displacy-tag\" dy=\"2em\" fill=\"currentColor\" x=\"860\">NOUN</tspan>\n",
       "</text>\n",
       "\n",
       "<g class=\"displacy-arrow\">\n",
       "    <path class=\"displacy-arc\" id=\"arrow-0-0\" stroke-width=\"2px\" d=\"M70,182.0 C70,2.0 590.0,2.0 590.0,182.0\" fill=\"none\" stroke=\"currentColor\"/>\n",
       "    <text dy=\"1.25em\" style=\"font-size: 0.8em; letter-spacing: 1px\">\n",
       "        <textPath xlink:href=\"#arrow-0-0\" class=\"displacy-label\" startOffset=\"50%\" fill=\"currentColor\" text-anchor=\"middle\">prep</textPath>\n",
       "    </text>\n",
       "    <path class=\"displacy-arrowhead\" d=\"M70,184.0 L62,172.0 78,172.0\" fill=\"currentColor\"/>\n",
       "</g>\n",
       "\n",
       "<g class=\"displacy-arrow\">\n",
       "    <path class=\"displacy-arc\" id=\"arrow-0-1\" stroke-width=\"2px\" d=\"M70,182.0 C70,137.0 125.0,137.0 125.0,182.0\" fill=\"none\" stroke=\"currentColor\"/>\n",
       "    <text dy=\"1.25em\" style=\"font-size: 0.8em; letter-spacing: 1px\">\n",
       "        <textPath xlink:href=\"#arrow-0-1\" class=\"displacy-label\" startOffset=\"50%\" fill=\"currentColor\" text-anchor=\"middle\">pobj</textPath>\n",
       "    </text>\n",
       "    <path class=\"displacy-arrowhead\" d=\"M125.0,184.0 L133.0,172.0 117.0,172.0\" fill=\"currentColor\"/>\n",
       "</g>\n",
       "\n",
       "<g class=\"displacy-arrow\">\n",
       "    <path class=\"displacy-arc\" id=\"arrow-0-2\" stroke-width=\"2px\" d=\"M160,182.0 C160,137.0 215.0,137.0 215.0,182.0\" fill=\"none\" stroke=\"currentColor\"/>\n",
       "    <text dy=\"1.25em\" style=\"font-size: 0.8em; letter-spacing: 1px\">\n",
       "        <textPath xlink:href=\"#arrow-0-2\" class=\"displacy-label\" startOffset=\"50%\" fill=\"currentColor\" text-anchor=\"middle\">nummod</textPath>\n",
       "    </text>\n",
       "    <path class=\"displacy-arrowhead\" d=\"M215.0,184.0 L223.0,172.0 207.0,172.0\" fill=\"currentColor\"/>\n",
       "</g>\n",
       "\n",
       "<g class=\"displacy-arrow\">\n",
       "    <path class=\"displacy-arc\" id=\"arrow-0-3\" stroke-width=\"2px\" d=\"M160,182.0 C160,92.0 310.0,92.0 310.0,182.0\" fill=\"none\" stroke=\"currentColor\"/>\n",
       "    <text dy=\"1.25em\" style=\"font-size: 0.8em; letter-spacing: 1px\">\n",
       "        <textPath xlink:href=\"#arrow-0-3\" class=\"displacy-label\" startOffset=\"50%\" fill=\"currentColor\" text-anchor=\"middle\">nummod</textPath>\n",
       "    </text>\n",
       "    <path class=\"displacy-arrowhead\" d=\"M310.0,184.0 L318.0,172.0 302.0,172.0\" fill=\"currentColor\"/>\n",
       "</g>\n",
       "\n",
       "<g class=\"displacy-arrow\">\n",
       "    <path class=\"displacy-arc\" id=\"arrow-0-4\" stroke-width=\"2px\" d=\"M430,182.0 C430,137.0 485.0,137.0 485.0,182.0\" fill=\"none\" stroke=\"currentColor\"/>\n",
       "    <text dy=\"1.25em\" style=\"font-size: 0.8em; letter-spacing: 1px\">\n",
       "        <textPath xlink:href=\"#arrow-0-4\" class=\"displacy-label\" startOffset=\"50%\" fill=\"currentColor\" text-anchor=\"middle\">compound</textPath>\n",
       "    </text>\n",
       "    <path class=\"displacy-arrowhead\" d=\"M430,184.0 L422,172.0 438,172.0\" fill=\"currentColor\"/>\n",
       "</g>\n",
       "\n",
       "<g class=\"displacy-arrow\">\n",
       "    <path class=\"displacy-arc\" id=\"arrow-0-5\" stroke-width=\"2px\" d=\"M520,182.0 C520,137.0 575.0,137.0 575.0,182.0\" fill=\"none\" stroke=\"currentColor\"/>\n",
       "    <text dy=\"1.25em\" style=\"font-size: 0.8em; letter-spacing: 1px\">\n",
       "        <textPath xlink:href=\"#arrow-0-5\" class=\"displacy-label\" startOffset=\"50%\" fill=\"currentColor\" text-anchor=\"middle\">nsubj</textPath>\n",
       "    </text>\n",
       "    <path class=\"displacy-arrowhead\" d=\"M520,184.0 L512,172.0 528,172.0\" fill=\"currentColor\"/>\n",
       "</g>\n",
       "\n",
       "<g class=\"displacy-arrow\">\n",
       "    <path class=\"displacy-arc\" id=\"arrow-0-6\" stroke-width=\"2px\" d=\"M700,182.0 C700,137.0 755.0,137.0 755.0,182.0\" fill=\"none\" stroke=\"currentColor\"/>\n",
       "    <text dy=\"1.25em\" style=\"font-size: 0.8em; letter-spacing: 1px\">\n",
       "        <textPath xlink:href=\"#arrow-0-6\" class=\"displacy-label\" startOffset=\"50%\" fill=\"currentColor\" text-anchor=\"middle\">advmod</textPath>\n",
       "    </text>\n",
       "    <path class=\"displacy-arrowhead\" d=\"M700,184.0 L692,172.0 708,172.0\" fill=\"currentColor\"/>\n",
       "</g>\n",
       "\n",
       "<g class=\"displacy-arrow\">\n",
       "    <path class=\"displacy-arc\" id=\"arrow-0-7\" stroke-width=\"2px\" d=\"M790,182.0 C790,137.0 845.0,137.0 845.0,182.0\" fill=\"none\" stroke=\"currentColor\"/>\n",
       "    <text dy=\"1.25em\" style=\"font-size: 0.8em; letter-spacing: 1px\">\n",
       "        <textPath xlink:href=\"#arrow-0-7\" class=\"displacy-label\" startOffset=\"50%\" fill=\"currentColor\" text-anchor=\"middle\">nummod</textPath>\n",
       "    </text>\n",
       "    <path class=\"displacy-arrowhead\" d=\"M790,184.0 L782,172.0 798,172.0\" fill=\"currentColor\"/>\n",
       "</g>\n",
       "\n",
       "<g class=\"displacy-arrow\">\n",
       "    <path class=\"displacy-arc\" id=\"arrow-0-8\" stroke-width=\"2px\" d=\"M610,182.0 C610,47.0 855.0,47.0 855.0,182.0\" fill=\"none\" stroke=\"currentColor\"/>\n",
       "    <text dy=\"1.25em\" style=\"font-size: 0.8em; letter-spacing: 1px\">\n",
       "        <textPath xlink:href=\"#arrow-0-8\" class=\"displacy-label\" startOffset=\"50%\" fill=\"currentColor\" text-anchor=\"middle\">dobj</textPath>\n",
       "    </text>\n",
       "    <path class=\"displacy-arrowhead\" d=\"M855.0,184.0 L863.0,172.0 847.0,172.0\" fill=\"currentColor\"/>\n",
       "</g>\n",
       "</svg>"
      ],
      "text/plain": [
       "<IPython.core.display.HTML object>"
      ]
     },
     "metadata": {},
     "output_type": "display_data"
    }
   ],
   "source": [
    "displacy.render(ex1, style='dep', jupyter=True, options={'distance': 90})"
   ]
  },
  {
   "cell_type": "code",
   "execution_count": 28,
   "metadata": {
    "ExecuteTime": {
     "end_time": "2018-07-07T14:53:29.522995Z",
     "start_time": "2018-07-07T14:53:29.501980Z"
    },
    "hidden": true,
    "scrolled": true
   },
   "outputs": [
    {
     "data": {
      "text/html": [
       "<table border=\"1\" class=\"dataframe\">\n",
       "  <thead>\n",
       "    <tr style=\"text-align: right;\">\n",
       "      <th></th>\n",
       "      <th>tok_ent</th>\n",
       "      <th>toks</th>\n",
       "      <th>dep</th>\n",
       "      <th>head</th>\n",
       "      <th>head_dep</th>\n",
       "      <th>pos</th>\n",
       "      <th>tag</th>\n",
       "      <th>dep_def</th>\n",
       "      <th>tag_def</th>\n",
       "    </tr>\n",
       "  </thead>\n",
       "  <tbody>\n",
       "    <tr>\n",
       "      <th>0</th>\n",
       "      <td></td>\n",
       "      <td>At</td>\n",
       "      <td>prep</td>\n",
       "      <td>had</td>\n",
       "      <td>ROOT</td>\n",
       "      <td>ADP</td>\n",
       "      <td>IN</td>\n",
       "      <td>prepositional modifier</td>\n",
       "      <td>conjunction, subordinating or preposition</td>\n",
       "    </tr>\n",
       "    <tr>\n",
       "      <th>1</th>\n",
       "      <td>DATE</td>\n",
       "      <td>December</td>\n",
       "      <td>pobj</td>\n",
       "      <td>At</td>\n",
       "      <td>prep</td>\n",
       "      <td>PROPN</td>\n",
       "      <td>NNP</td>\n",
       "      <td>object of preposition</td>\n",
       "      <td>noun, proper singular</td>\n",
       "    </tr>\n",
       "    <tr>\n",
       "      <th>2</th>\n",
       "      <td>DATE</td>\n",
       "      <td>31</td>\n",
       "      <td>nummod</td>\n",
       "      <td>December</td>\n",
       "      <td>pobj</td>\n",
       "      <td>NUM</td>\n",
       "      <td>CD</td>\n",
       "      <td>None</td>\n",
       "      <td>cardinal number</td>\n",
       "    </tr>\n",
       "    <tr>\n",
       "      <th>3</th>\n",
       "      <td>DATE</td>\n",
       "      <td>,</td>\n",
       "      <td>punct</td>\n",
       "      <td>December</td>\n",
       "      <td>pobj</td>\n",
       "      <td>PUNCT</td>\n",
       "      <td>,</td>\n",
       "      <td>punctuation</td>\n",
       "      <td>punctuation mark, comma</td>\n",
       "    </tr>\n",
       "    <tr>\n",
       "      <th>4</th>\n",
       "      <td>DATE</td>\n",
       "      <td>2016</td>\n",
       "      <td>nummod</td>\n",
       "      <td>December</td>\n",
       "      <td>pobj</td>\n",
       "      <td>NUM</td>\n",
       "      <td>CD</td>\n",
       "      <td>None</td>\n",
       "      <td>cardinal number</td>\n",
       "    </tr>\n",
       "    <tr>\n",
       "      <th>5</th>\n",
       "      <td></td>\n",
       "      <td>,</td>\n",
       "      <td>punct</td>\n",
       "      <td>had</td>\n",
       "      <td>ROOT</td>\n",
       "      <td>PUNCT</td>\n",
       "      <td>,</td>\n",
       "      <td>punctuation</td>\n",
       "      <td>punctuation mark, comma</td>\n",
       "    </tr>\n",
       "    <tr>\n",
       "      <th>6</th>\n",
       "      <td>ORG</td>\n",
       "      <td>Bio</td>\n",
       "      <td>compound</td>\n",
       "      <td>Rad</td>\n",
       "      <td>nsubj</td>\n",
       "      <td>PROPN</td>\n",
       "      <td>NNP</td>\n",
       "      <td>None</td>\n",
       "      <td>noun, proper singular</td>\n",
       "    </tr>\n",
       "    <tr>\n",
       "      <th>7</th>\n",
       "      <td>ORG</td>\n",
       "      <td>-</td>\n",
       "      <td>punct</td>\n",
       "      <td>Rad</td>\n",
       "      <td>nsubj</td>\n",
       "      <td>PUNCT</td>\n",
       "      <td>HYPH</td>\n",
       "      <td>punctuation</td>\n",
       "      <td>punctuation mark, hyphen</td>\n",
       "    </tr>\n",
       "    <tr>\n",
       "      <th>8</th>\n",
       "      <td>ORG</td>\n",
       "      <td>Rad</td>\n",
       "      <td>nsubj</td>\n",
       "      <td>had</td>\n",
       "      <td>ROOT</td>\n",
       "      <td>PROPN</td>\n",
       "      <td>NNP</td>\n",
       "      <td>nominal subject</td>\n",
       "      <td>noun, proper singular</td>\n",
       "    </tr>\n",
       "    <tr>\n",
       "      <th>9</th>\n",
       "      <td></td>\n",
       "      <td>had</td>\n",
       "      <td>ROOT</td>\n",
       "      <td>had</td>\n",
       "      <td>ROOT</td>\n",
       "      <td>VERB</td>\n",
       "      <td>VBD</td>\n",
       "      <td>None</td>\n",
       "      <td>verb, past tense</td>\n",
       "    </tr>\n",
       "    <tr>\n",
       "      <th>10</th>\n",
       "      <td>CARDINAL</td>\n",
       "      <td>approximately</td>\n",
       "      <td>advmod</td>\n",
       "      <td>8,250</td>\n",
       "      <td>nummod</td>\n",
       "      <td>ADV</td>\n",
       "      <td>RB</td>\n",
       "      <td>adverbial modifier</td>\n",
       "      <td>adverb</td>\n",
       "    </tr>\n",
       "    <tr>\n",
       "      <th>11</th>\n",
       "      <td>CARDINAL</td>\n",
       "      <td>8,250</td>\n",
       "      <td>nummod</td>\n",
       "      <td>employees</td>\n",
       "      <td>dobj</td>\n",
       "      <td>NUM</td>\n",
       "      <td>CD</td>\n",
       "      <td>None</td>\n",
       "      <td>cardinal number</td>\n",
       "    </tr>\n",
       "    <tr>\n",
       "      <th>12</th>\n",
       "      <td>EMP_NOUN</td>\n",
       "      <td>employees</td>\n",
       "      <td>dobj</td>\n",
       "      <td>had</td>\n",
       "      <td>ROOT</td>\n",
       "      <td>NOUN</td>\n",
       "      <td>NNS</td>\n",
       "      <td>direct object</td>\n",
       "      <td>noun, plural</td>\n",
       "    </tr>\n",
       "    <tr>\n",
       "      <th>13</th>\n",
       "      <td></td>\n",
       "      <td>.</td>\n",
       "      <td>punct</td>\n",
       "      <td>had</td>\n",
       "      <td>ROOT</td>\n",
       "      <td>PUNCT</td>\n",
       "      <td>.</td>\n",
       "      <td>punctuation</td>\n",
       "      <td>punctuation mark, sentence closer</td>\n",
       "    </tr>\n",
       "  </tbody>\n",
       "</table>"
      ],
      "text/plain": [
       "<IPython.core.display.HTML object>"
      ]
     },
     "metadata": {},
     "output_type": "display_data"
    }
   ],
   "source": [
    "print_df(make_tok_df(ex1))"
   ]
  },
  {
   "cell_type": "code",
   "execution_count": 29,
   "metadata": {
    "ExecuteTime": {
     "end_time": "2018-07-07T14:53:29.572027Z",
     "start_time": "2018-07-07T14:53:29.524996Z"
    },
    "hidden": true
   },
   "outputs": [
    {
     "name": "stdout",
     "output_type": "stream",
     "text": [
      "doc is: \n",
      "At December 31, 2016, Bio-Rad had approximately 8,250 employees.\n",
      "--------------------------------------------------\n",
      "Entities are: \n"
     ]
    },
    {
     "data": {
      "text/html": [
       "<table border=\"1\" class=\"dataframe\">\n",
       "  <thead>\n",
       "    <tr style=\"text-align: right;\">\n",
       "      <th></th>\n",
       "      <th>tok_i</th>\n",
       "      <th>entity</th>\n",
       "      <th>ent_label</th>\n",
       "      <th>root</th>\n",
       "      <th>root_dep</th>\n",
       "      <th>dep_def</th>\n",
       "      <th>root_head</th>\n",
       "      <th>root_head_dep</th>\n",
       "      <th>root_head_pos</th>\n",
       "    </tr>\n",
       "  </thead>\n",
       "  <tbody>\n",
       "    <tr>\n",
       "      <th>0</th>\n",
       "      <td>1</td>\n",
       "      <td>December 31, 2016</td>\n",
       "      <td>DATE</td>\n",
       "      <td>December</td>\n",
       "      <td>pobj</td>\n",
       "      <td>object of preposition</td>\n",
       "      <td>At</td>\n",
       "      <td>prep</td>\n",
       "      <td>ADP</td>\n",
       "    </tr>\n",
       "    <tr>\n",
       "      <th>1</th>\n",
       "      <td>6</td>\n",
       "      <td>Bio-Rad</td>\n",
       "      <td>ORG</td>\n",
       "      <td>Rad</td>\n",
       "      <td>nsubj</td>\n",
       "      <td>nominal subject</td>\n",
       "      <td>had</td>\n",
       "      <td>ROOT</td>\n",
       "      <td>VERB</td>\n",
       "    </tr>\n",
       "    <tr>\n",
       "      <th>2</th>\n",
       "      <td>10</td>\n",
       "      <td>approximately 8,250</td>\n",
       "      <td>CARDINAL</td>\n",
       "      <td>8,250</td>\n",
       "      <td>nummod</td>\n",
       "      <td>None</td>\n",
       "      <td>employees</td>\n",
       "      <td>dobj</td>\n",
       "      <td>NOUN</td>\n",
       "    </tr>\n",
       "    <tr>\n",
       "      <th>3</th>\n",
       "      <td>12</td>\n",
       "      <td>employees</td>\n",
       "      <td>EMP_NOUN</td>\n",
       "      <td>employees</td>\n",
       "      <td>dobj</td>\n",
       "      <td>direct object</td>\n",
       "      <td>had</td>\n",
       "      <td>ROOT</td>\n",
       "      <td>VERB</td>\n",
       "    </tr>\n",
       "  </tbody>\n",
       "</table>"
      ],
      "text/plain": [
       "<IPython.core.display.HTML object>"
      ]
     },
     "metadata": {},
     "output_type": "display_data"
    },
    {
     "name": "stdout",
     "output_type": "stream",
     "text": [
      "--------------------------------------------------\n",
      "Noun chunks are: \n"
     ]
    },
    {
     "data": {
      "text/html": [
       "<table border=\"1\" class=\"dataframe\">\n",
       "  <thead>\n",
       "    <tr style=\"text-align: right;\">\n",
       "      <th></th>\n",
       "      <th>tok_i</th>\n",
       "      <th>noun_chunk</th>\n",
       "      <th>NP</th>\n",
       "      <th>root</th>\n",
       "      <th>root_dep</th>\n",
       "      <th>dep_def</th>\n",
       "      <th>root_head</th>\n",
       "      <th>root_head_dep</th>\n",
       "      <th>root_head_pos</th>\n",
       "    </tr>\n",
       "  </thead>\n",
       "  <tbody>\n",
       "    <tr>\n",
       "      <th>0</th>\n",
       "      <td>1</td>\n",
       "      <td>December</td>\n",
       "      <td>NP</td>\n",
       "      <td>December</td>\n",
       "      <td>pobj</td>\n",
       "      <td>object of preposition</td>\n",
       "      <td>At</td>\n",
       "      <td>prep</td>\n",
       "      <td>ADP</td>\n",
       "    </tr>\n",
       "    <tr>\n",
       "      <th>1</th>\n",
       "      <td>6</td>\n",
       "      <td>Bio-Rad</td>\n",
       "      <td>NP</td>\n",
       "      <td>Rad</td>\n",
       "      <td>nsubj</td>\n",
       "      <td>nominal subject</td>\n",
       "      <td>had</td>\n",
       "      <td>ROOT</td>\n",
       "      <td>VERB</td>\n",
       "    </tr>\n",
       "    <tr>\n",
       "      <th>2</th>\n",
       "      <td>10</td>\n",
       "      <td>approximately 8,250 employees</td>\n",
       "      <td>NP</td>\n",
       "      <td>employees</td>\n",
       "      <td>dobj</td>\n",
       "      <td>direct object</td>\n",
       "      <td>had</td>\n",
       "      <td>ROOT</td>\n",
       "      <td>VERB</td>\n",
       "    </tr>\n",
       "  </tbody>\n",
       "</table>"
      ],
      "text/plain": [
       "<IPython.core.display.HTML object>"
      ]
     },
     "metadata": {},
     "output_type": "display_data"
    },
    {
     "name": "stdout",
     "output_type": "stream",
     "text": [
      "--------------------------------------------------\n",
      "Cardinal entities are: \n"
     ]
    },
    {
     "data": {
      "text/html": [
       "<table border=\"1\" class=\"dataframe\">\n",
       "  <thead>\n",
       "    <tr style=\"text-align: right;\">\n",
       "      <th></th>\n",
       "      <th>tok_ent</th>\n",
       "      <th>toks</th>\n",
       "      <th>dep</th>\n",
       "      <th>head</th>\n",
       "      <th>head_dep</th>\n",
       "      <th>pos</th>\n",
       "      <th>tag</th>\n",
       "      <th>dep_def</th>\n",
       "      <th>tag_def</th>\n",
       "    </tr>\n",
       "  </thead>\n",
       "  <tbody>\n",
       "    <tr>\n",
       "      <th>0</th>\n",
       "      <td>CARDINAL</td>\n",
       "      <td>approximately</td>\n",
       "      <td>advmod</td>\n",
       "      <td>8,250</td>\n",
       "      <td>nummod</td>\n",
       "      <td>ADV</td>\n",
       "      <td>RB</td>\n",
       "      <td>adverbial modifier</td>\n",
       "      <td>adverb</td>\n",
       "    </tr>\n",
       "    <tr>\n",
       "      <th>1</th>\n",
       "      <td>CARDINAL</td>\n",
       "      <td>8,250</td>\n",
       "      <td>nummod</td>\n",
       "      <td>employees</td>\n",
       "      <td>dobj</td>\n",
       "      <td>NUM</td>\n",
       "      <td>CD</td>\n",
       "      <td>None</td>\n",
       "      <td>cardinal number</td>\n",
       "    </tr>\n",
       "  </tbody>\n",
       "</table>"
      ],
      "text/plain": [
       "<IPython.core.display.HTML object>"
      ]
     },
     "metadata": {},
     "output_type": "display_data"
    }
   ],
   "source": [
    "print_doc_info(ex1)"
   ]
  },
  {
   "cell_type": "code",
   "execution_count": 30,
   "metadata": {
    "ExecuteTime": {
     "end_time": "2018-07-07T14:53:29.576030Z",
     "start_time": "2018-07-07T14:53:29.573028Z"
    },
    "hidden": true
   },
   "outputs": [],
   "source": [
    "ex1_emp_tok = ex1[12]"
   ]
  },
  {
   "cell_type": "code",
   "execution_count": 31,
   "metadata": {
    "ExecuteTime": {
     "end_time": "2018-07-07T14:53:29.588038Z",
     "start_time": "2018-07-07T14:53:29.578033Z"
    },
    "hidden": true
   },
   "outputs": [
    {
     "data": {
      "text/plain": [
       "'dobj'"
      ]
     },
     "execution_count": 31,
     "metadata": {},
     "output_type": "execute_result"
    }
   ],
   "source": [
    "ex1_emp_tok.dep_"
   ]
  },
  {
   "cell_type": "code",
   "execution_count": 32,
   "metadata": {
    "ExecuteTime": {
     "end_time": "2018-07-07T14:53:29.597044Z",
     "start_time": "2018-07-07T14:53:29.590039Z"
    },
    "hidden": true
   },
   "outputs": [
    {
     "data": {
      "text/plain": [
       "[8,250]"
      ]
     },
     "execution_count": 32,
     "metadata": {},
     "output_type": "execute_result"
    }
   ],
   "source": [
    "[x for x in ex1_emp_tok.children]"
   ]
  },
  {
   "cell_type": "code",
   "execution_count": 33,
   "metadata": {
    "ExecuteTime": {
     "end_time": "2018-07-07T14:53:29.629065Z",
     "start_time": "2018-07-07T14:53:29.599045Z"
    },
    "hidden": true
   },
   "outputs": [
    {
     "name": "stdout",
     "output_type": "stream",
     "text": [
      "Token head: had       head.dep_:ROOT\n",
      "At       head.left.dep_:prep\n",
      ",       head.left.dep_:punct\n",
      "Rad       head.left.dep_:nsubj\n",
      "Rad is nsubj. Subtree is:\n",
      "Bio       child.dep_:compound       child.head:Rad\n",
      "-       child.dep_:punct       child.head:Rad\n",
      "Rad       child.dep_:nsubj       child.head:had\n",
      "Token ancestors: \n",
      "had       ancestor.dep_:ROOT\n",
      "Token children: \n",
      "8,250       child.dep_:nummod\n"
     ]
    }
   ],
   "source": [
    "#[w for w in ex1_emp_tok.head.lefts if w.dep_ == 'nsubj']\n",
    "print('Token head: ' + str(ex1_emp_tok.head) + '       head.dep_:'+ str(ex1_emp_tok.head.dep_) )\n",
    "for w in ex1_emp_tok.head.lefts:\n",
    "    print(str(w) + '       head.left.dep_:' + str(w.dep_))\n",
    "    if w.dep_ == 'nsubj':\n",
    "        print(str(w) + ' is nsubj. Subtree is:' )\n",
    "        for b in w.subtree:\n",
    "            print(str(b) + '       child.dep_:' + str(b.dep_) + '       child.head:' + str(b.head))\n",
    "print('Token ancestors: ')\n",
    "for w in ex1_emp_tok.ancestors:\n",
    "    print(str(w) + '       ancestor.dep_:' + str(w.dep_))\n",
    "print('Token children: ')\n",
    "for w in ex1_emp_tok.children:\n",
    "    print(str(w) + '       child.dep_:' + str(w.dep_))"
   ]
  },
  {
   "cell_type": "code",
   "execution_count": 34,
   "metadata": {
    "ExecuteTime": {
     "end_time": "2018-07-07T14:53:29.636070Z",
     "start_time": "2018-07-07T14:53:29.631066Z"
    },
    "hidden": true,
    "scrolled": true
   },
   "outputs": [
    {
     "data": {
      "text/plain": [
       "[(Bio-Rad, employees), (Rad, employees), (8,250, employees)]"
      ]
     },
     "execution_count": 34,
     "metadata": {},
     "output_type": "execute_result"
    }
   ],
   "source": [
    "extract_emp_relations(ex1)"
   ]
  },
  {
   "cell_type": "markdown",
   "metadata": {
    "heading_collapsed": true,
    "hidden": true
   },
   "source": [
    "#### `we` [`employed` | `have`] `Emp_num` `EMP_NOUN`"
   ]
  },
  {
   "cell_type": "markdown",
   "metadata": {
    "hidden": true
   },
   "source": [
    "`\"As of January 31, 2017, we employed 7,683 individuals.\"`"
   ]
  },
  {
   "cell_type": "markdown",
   "metadata": {
    "hidden": true
   },
   "source": [
    "Desired output: \n",
    "\n",
    "`(we, employed, 7,683, individuals)`"
   ]
  },
  {
   "cell_type": "code",
   "execution_count": 35,
   "metadata": {
    "ExecuteTime": {
     "end_time": "2018-07-07T14:53:29.660086Z",
     "start_time": "2018-07-07T14:53:29.638071Z"
    },
    "hidden": true
   },
   "outputs": [],
   "source": [
    "ex2 = nlp(\"As of January 31, 2017, we employed 7,683 individuals.\")"
   ]
  },
  {
   "cell_type": "code",
   "execution_count": 36,
   "metadata": {
    "ExecuteTime": {
     "end_time": "2018-07-07T14:53:29.677097Z",
     "start_time": "2018-07-07T14:53:29.662087Z"
    },
    "hidden": true
   },
   "outputs": [
    {
     "data": {
      "text/html": [
       "<table border=\"1\" class=\"dataframe\">\n",
       "  <thead>\n",
       "    <tr style=\"text-align: right;\">\n",
       "      <th></th>\n",
       "      <th>tok_ent</th>\n",
       "      <th>toks</th>\n",
       "      <th>dep</th>\n",
       "      <th>head</th>\n",
       "      <th>head_dep</th>\n",
       "      <th>pos</th>\n",
       "      <th>tag</th>\n",
       "      <th>dep_def</th>\n",
       "      <th>tag_def</th>\n",
       "    </tr>\n",
       "  </thead>\n",
       "  <tbody>\n",
       "    <tr>\n",
       "      <th>0</th>\n",
       "      <td></td>\n",
       "      <td>As</td>\n",
       "      <td>prep</td>\n",
       "      <td>employed</td>\n",
       "      <td>ROOT</td>\n",
       "      <td>ADP</td>\n",
       "      <td>IN</td>\n",
       "      <td>prepositional modifier</td>\n",
       "      <td>conjunction, subordinating or preposition</td>\n",
       "    </tr>\n",
       "    <tr>\n",
       "      <th>1</th>\n",
       "      <td></td>\n",
       "      <td>of</td>\n",
       "      <td>prep</td>\n",
       "      <td>As</td>\n",
       "      <td>prep</td>\n",
       "      <td>ADP</td>\n",
       "      <td>IN</td>\n",
       "      <td>prepositional modifier</td>\n",
       "      <td>conjunction, subordinating or preposition</td>\n",
       "    </tr>\n",
       "    <tr>\n",
       "      <th>2</th>\n",
       "      <td>DATE</td>\n",
       "      <td>January</td>\n",
       "      <td>pobj</td>\n",
       "      <td>of</td>\n",
       "      <td>prep</td>\n",
       "      <td>PROPN</td>\n",
       "      <td>NNP</td>\n",
       "      <td>object of preposition</td>\n",
       "      <td>noun, proper singular</td>\n",
       "    </tr>\n",
       "    <tr>\n",
       "      <th>3</th>\n",
       "      <td>DATE</td>\n",
       "      <td>31</td>\n",
       "      <td>nummod</td>\n",
       "      <td>January</td>\n",
       "      <td>pobj</td>\n",
       "      <td>NUM</td>\n",
       "      <td>CD</td>\n",
       "      <td>None</td>\n",
       "      <td>cardinal number</td>\n",
       "    </tr>\n",
       "    <tr>\n",
       "      <th>4</th>\n",
       "      <td>DATE</td>\n",
       "      <td>,</td>\n",
       "      <td>punct</td>\n",
       "      <td>January</td>\n",
       "      <td>pobj</td>\n",
       "      <td>PUNCT</td>\n",
       "      <td>,</td>\n",
       "      <td>punctuation</td>\n",
       "      <td>punctuation mark, comma</td>\n",
       "    </tr>\n",
       "    <tr>\n",
       "      <th>5</th>\n",
       "      <td>DATE</td>\n",
       "      <td>2017</td>\n",
       "      <td>nummod</td>\n",
       "      <td>January</td>\n",
       "      <td>pobj</td>\n",
       "      <td>NUM</td>\n",
       "      <td>CD</td>\n",
       "      <td>None</td>\n",
       "      <td>cardinal number</td>\n",
       "    </tr>\n",
       "    <tr>\n",
       "      <th>6</th>\n",
       "      <td></td>\n",
       "      <td>,</td>\n",
       "      <td>punct</td>\n",
       "      <td>employed</td>\n",
       "      <td>ROOT</td>\n",
       "      <td>PUNCT</td>\n",
       "      <td>,</td>\n",
       "      <td>punctuation</td>\n",
       "      <td>punctuation mark, comma</td>\n",
       "    </tr>\n",
       "    <tr>\n",
       "      <th>7</th>\n",
       "      <td></td>\n",
       "      <td>we</td>\n",
       "      <td>nsubj</td>\n",
       "      <td>employed</td>\n",
       "      <td>ROOT</td>\n",
       "      <td>PRON</td>\n",
       "      <td>PRP</td>\n",
       "      <td>nominal subject</td>\n",
       "      <td>pronoun, personal</td>\n",
       "    </tr>\n",
       "    <tr>\n",
       "      <th>8</th>\n",
       "      <td></td>\n",
       "      <td>employed</td>\n",
       "      <td>ROOT</td>\n",
       "      <td>employed</td>\n",
       "      <td>ROOT</td>\n",
       "      <td>VERB</td>\n",
       "      <td>VBD</td>\n",
       "      <td>None</td>\n",
       "      <td>verb, past tense</td>\n",
       "    </tr>\n",
       "    <tr>\n",
       "      <th>9</th>\n",
       "      <td>CARDINAL</td>\n",
       "      <td>7,683</td>\n",
       "      <td>nummod</td>\n",
       "      <td>individuals</td>\n",
       "      <td>dobj</td>\n",
       "      <td>NUM</td>\n",
       "      <td>CD</td>\n",
       "      <td>None</td>\n",
       "      <td>cardinal number</td>\n",
       "    </tr>\n",
       "    <tr>\n",
       "      <th>10</th>\n",
       "      <td>EMP_NOUN</td>\n",
       "      <td>individuals</td>\n",
       "      <td>dobj</td>\n",
       "      <td>employed</td>\n",
       "      <td>ROOT</td>\n",
       "      <td>NOUN</td>\n",
       "      <td>NNS</td>\n",
       "      <td>direct object</td>\n",
       "      <td>noun, plural</td>\n",
       "    </tr>\n",
       "    <tr>\n",
       "      <th>11</th>\n",
       "      <td></td>\n",
       "      <td>.</td>\n",
       "      <td>punct</td>\n",
       "      <td>employed</td>\n",
       "      <td>ROOT</td>\n",
       "      <td>PUNCT</td>\n",
       "      <td>.</td>\n",
       "      <td>punctuation</td>\n",
       "      <td>punctuation mark, sentence closer</td>\n",
       "    </tr>\n",
       "  </tbody>\n",
       "</table>"
      ],
      "text/plain": [
       "<IPython.core.display.HTML object>"
      ]
     },
     "metadata": {},
     "output_type": "display_data"
    }
   ],
   "source": [
    "print_df(make_tok_df(ex2))"
   ]
  },
  {
   "cell_type": "code",
   "execution_count": 37,
   "metadata": {
    "ExecuteTime": {
     "end_time": "2018-07-07T14:53:29.730133Z",
     "start_time": "2018-07-07T14:53:29.679099Z"
    },
    "hidden": true
   },
   "outputs": [
    {
     "name": "stdout",
     "output_type": "stream",
     "text": [
      "doc is: \n",
      "As of January 31, 2017, we employed 7,683 individuals.\n",
      "--------------------------------------------------\n",
      "Entities are: \n"
     ]
    },
    {
     "data": {
      "text/html": [
       "<table border=\"1\" class=\"dataframe\">\n",
       "  <thead>\n",
       "    <tr style=\"text-align: right;\">\n",
       "      <th></th>\n",
       "      <th>tok_i</th>\n",
       "      <th>entity</th>\n",
       "      <th>ent_label</th>\n",
       "      <th>root</th>\n",
       "      <th>root_dep</th>\n",
       "      <th>dep_def</th>\n",
       "      <th>root_head</th>\n",
       "      <th>root_head_dep</th>\n",
       "      <th>root_head_pos</th>\n",
       "    </tr>\n",
       "  </thead>\n",
       "  <tbody>\n",
       "    <tr>\n",
       "      <th>0</th>\n",
       "      <td>2</td>\n",
       "      <td>January 31, 2017</td>\n",
       "      <td>DATE</td>\n",
       "      <td>January</td>\n",
       "      <td>pobj</td>\n",
       "      <td>object of preposition</td>\n",
       "      <td>of</td>\n",
       "      <td>prep</td>\n",
       "      <td>ADP</td>\n",
       "    </tr>\n",
       "    <tr>\n",
       "      <th>1</th>\n",
       "      <td>9</td>\n",
       "      <td>7,683</td>\n",
       "      <td>CARDINAL</td>\n",
       "      <td>7,683</td>\n",
       "      <td>nummod</td>\n",
       "      <td>None</td>\n",
       "      <td>individuals</td>\n",
       "      <td>dobj</td>\n",
       "      <td>NOUN</td>\n",
       "    </tr>\n",
       "    <tr>\n",
       "      <th>2</th>\n",
       "      <td>10</td>\n",
       "      <td>individuals</td>\n",
       "      <td>EMP_NOUN</td>\n",
       "      <td>individuals</td>\n",
       "      <td>dobj</td>\n",
       "      <td>direct object</td>\n",
       "      <td>employed</td>\n",
       "      <td>ROOT</td>\n",
       "      <td>VERB</td>\n",
       "    </tr>\n",
       "  </tbody>\n",
       "</table>"
      ],
      "text/plain": [
       "<IPython.core.display.HTML object>"
      ]
     },
     "metadata": {},
     "output_type": "display_data"
    },
    {
     "name": "stdout",
     "output_type": "stream",
     "text": [
      "--------------------------------------------------\n",
      "Noun chunks are: \n"
     ]
    },
    {
     "data": {
      "text/html": [
       "<table border=\"1\" class=\"dataframe\">\n",
       "  <thead>\n",
       "    <tr style=\"text-align: right;\">\n",
       "      <th></th>\n",
       "      <th>tok_i</th>\n",
       "      <th>noun_chunk</th>\n",
       "      <th>NP</th>\n",
       "      <th>root</th>\n",
       "      <th>root_dep</th>\n",
       "      <th>dep_def</th>\n",
       "      <th>root_head</th>\n",
       "      <th>root_head_dep</th>\n",
       "      <th>root_head_pos</th>\n",
       "    </tr>\n",
       "  </thead>\n",
       "  <tbody>\n",
       "    <tr>\n",
       "      <th>0</th>\n",
       "      <td>2</td>\n",
       "      <td>January</td>\n",
       "      <td>NP</td>\n",
       "      <td>January</td>\n",
       "      <td>pobj</td>\n",
       "      <td>object of preposition</td>\n",
       "      <td>of</td>\n",
       "      <td>prep</td>\n",
       "      <td>ADP</td>\n",
       "    </tr>\n",
       "    <tr>\n",
       "      <th>1</th>\n",
       "      <td>7</td>\n",
       "      <td>we</td>\n",
       "      <td>NP</td>\n",
       "      <td>we</td>\n",
       "      <td>nsubj</td>\n",
       "      <td>nominal subject</td>\n",
       "      <td>employed</td>\n",
       "      <td>ROOT</td>\n",
       "      <td>VERB</td>\n",
       "    </tr>\n",
       "    <tr>\n",
       "      <th>2</th>\n",
       "      <td>9</td>\n",
       "      <td>7,683 individuals</td>\n",
       "      <td>NP</td>\n",
       "      <td>individuals</td>\n",
       "      <td>dobj</td>\n",
       "      <td>direct object</td>\n",
       "      <td>employed</td>\n",
       "      <td>ROOT</td>\n",
       "      <td>VERB</td>\n",
       "    </tr>\n",
       "  </tbody>\n",
       "</table>"
      ],
      "text/plain": [
       "<IPython.core.display.HTML object>"
      ]
     },
     "metadata": {},
     "output_type": "display_data"
    },
    {
     "name": "stdout",
     "output_type": "stream",
     "text": [
      "--------------------------------------------------\n",
      "Cardinal entities are: \n"
     ]
    },
    {
     "data": {
      "text/html": [
       "<table border=\"1\" class=\"dataframe\">\n",
       "  <thead>\n",
       "    <tr style=\"text-align: right;\">\n",
       "      <th></th>\n",
       "      <th>tok_ent</th>\n",
       "      <th>toks</th>\n",
       "      <th>dep</th>\n",
       "      <th>head</th>\n",
       "      <th>head_dep</th>\n",
       "      <th>pos</th>\n",
       "      <th>tag</th>\n",
       "      <th>dep_def</th>\n",
       "      <th>tag_def</th>\n",
       "    </tr>\n",
       "  </thead>\n",
       "  <tbody>\n",
       "    <tr>\n",
       "      <th>0</th>\n",
       "      <td>CARDINAL</td>\n",
       "      <td>7,683</td>\n",
       "      <td>nummod</td>\n",
       "      <td>individuals</td>\n",
       "      <td>dobj</td>\n",
       "      <td>NUM</td>\n",
       "      <td>CD</td>\n",
       "      <td>None</td>\n",
       "      <td>cardinal number</td>\n",
       "    </tr>\n",
       "  </tbody>\n",
       "</table>"
      ],
      "text/plain": [
       "<IPython.core.display.HTML object>"
      ]
     },
     "metadata": {},
     "output_type": "display_data"
    }
   ],
   "source": [
    "print_doc_info(ex2)"
   ]
  },
  {
   "cell_type": "code",
   "execution_count": 38,
   "metadata": {
    "ExecuteTime": {
     "end_time": "2018-07-07T14:53:29.735136Z",
     "start_time": "2018-07-07T14:53:29.732134Z"
    },
    "hidden": true
   },
   "outputs": [],
   "source": [
    "ex2_emp_tok = ex2[10]"
   ]
  },
  {
   "cell_type": "code",
   "execution_count": 39,
   "metadata": {
    "ExecuteTime": {
     "end_time": "2018-07-07T14:53:29.768158Z",
     "start_time": "2018-07-07T14:53:29.737137Z"
    },
    "hidden": true
   },
   "outputs": [
    {
     "name": "stdout",
     "output_type": "stream",
     "text": [
      "Token dep_: dobj\n",
      "Token head: employed       head.dep_:ROOT\n",
      "As       head.left.dep_:prep\n",
      ",       head.left.dep_:punct\n",
      "we       head.left.dep_:nsubj\n",
      "we is nsubj. Subtree is:\n",
      "Token ancestors: \n",
      "employed       ancestor.dep_:ROOT\n",
      "Token children: \n",
      "7,683       child.dep_:nummod\n"
     ]
    }
   ],
   "source": [
    "#[w for w in ex2_emp_tok.head.lefts if w.dep_ == 'nsubj']\n",
    "print('Token dep_: ' + str(ex2_emp_tok.dep_))\n",
    "print('Token head: ' + str(ex2_emp_tok.head) + '       head.dep_:'+ str(ex2_emp_tok.head.dep_) )\n",
    "for w in ex2_emp_tok.head.lefts:\n",
    "    print(str(w) + '       head.left.dep_:' + str(w.dep_))\n",
    "    if w.dep_ == 'nsubj':\n",
    "        print(str(w) + ' is nsubj. Subtree is:' )\n",
    "        [print(x) for x in w.lefts]\n",
    "        [print(s)for s in w.subtree if s.dep_ == 'poss']\n",
    "print('Token ancestors: ')\n",
    "for w in ex2_emp_tok.ancestors:\n",
    "    print(str(w) + '       ancestor.dep_:' + str(w.dep_))\n",
    "print('Token children: ')\n",
    "for w in ex2_emp_tok.children:\n",
    "    print(str(w) + '       child.dep_:' + str(w.dep_))"
   ]
  },
  {
   "cell_type": "code",
   "execution_count": 40,
   "metadata": {
    "ExecuteTime": {
     "end_time": "2018-07-07T14:53:29.774163Z",
     "start_time": "2018-07-07T14:53:29.770160Z"
    },
    "hidden": true,
    "scrolled": true
   },
   "outputs": [
    {
     "data": {
      "text/plain": [
       "[(we, individuals), (7,683, individuals)]"
      ]
     },
     "execution_count": 40,
     "metadata": {},
     "output_type": "execute_result"
    }
   ],
   "source": [
    "extract_emp_relations(ex2)"
   ]
  },
  {
   "cell_type": "markdown",
   "metadata": {
    "heading_collapsed": true,
    "hidden": true
   },
   "source": [
    "#### `Emp_num` below `EMP_NOUN` in parse tree, `org_tok` left of verb"
   ]
  },
  {
   "cell_type": "markdown",
   "metadata": {
    "hidden": true
   },
   "source": [
    "Desired output: \n",
    "\n",
    "`(AEP, had, 17,634, employees)`"
   ]
  },
  {
   "cell_type": "code",
   "execution_count": 41,
   "metadata": {
    "ExecuteTime": {
     "end_time": "2018-07-07T14:53:29.799179Z",
     "start_time": "2018-07-07T14:53:29.775163Z"
    },
    "hidden": true
   },
   "outputs": [],
   "source": [
    "ex3 = nlp(\"As of December 31, 2016, the subsidiaries of AEP had a total of 17,634 employees.\")"
   ]
  },
  {
   "cell_type": "code",
   "execution_count": 42,
   "metadata": {
    "ExecuteTime": {
     "end_time": "2018-07-07T14:53:29.805183Z",
     "start_time": "2018-07-07T14:53:29.800179Z"
    },
    "hidden": true
   },
   "outputs": [
    {
     "data": {
      "text/plain": [
       "[AEP]"
      ]
     },
     "execution_count": 42,
     "metadata": {},
     "output_type": "execute_result"
    }
   ],
   "source": [
    "[tok for tok in ex3 if tok.ent_type_ == 'ORG']"
   ]
  },
  {
   "cell_type": "code",
   "execution_count": 43,
   "metadata": {
    "ExecuteTime": {
     "end_time": "2018-07-07T14:53:29.828198Z",
     "start_time": "2018-07-07T14:53:29.806184Z"
    },
    "hidden": true
   },
   "outputs": [
    {
     "data": {
      "text/html": [
       "<table border=\"1\" class=\"dataframe\">\n",
       "  <thead>\n",
       "    <tr style=\"text-align: right;\">\n",
       "      <th></th>\n",
       "      <th>tok_ent</th>\n",
       "      <th>toks</th>\n",
       "      <th>dep</th>\n",
       "      <th>head</th>\n",
       "      <th>head_dep</th>\n",
       "      <th>pos</th>\n",
       "      <th>tag</th>\n",
       "      <th>dep_def</th>\n",
       "      <th>tag_def</th>\n",
       "    </tr>\n",
       "  </thead>\n",
       "  <tbody>\n",
       "    <tr>\n",
       "      <th>0</th>\n",
       "      <td></td>\n",
       "      <td>As</td>\n",
       "      <td>prep</td>\n",
       "      <td>had</td>\n",
       "      <td>ROOT</td>\n",
       "      <td>ADP</td>\n",
       "      <td>IN</td>\n",
       "      <td>prepositional modifier</td>\n",
       "      <td>conjunction, subordinating or preposition</td>\n",
       "    </tr>\n",
       "    <tr>\n",
       "      <th>1</th>\n",
       "      <td></td>\n",
       "      <td>of</td>\n",
       "      <td>prep</td>\n",
       "      <td>As</td>\n",
       "      <td>prep</td>\n",
       "      <td>ADP</td>\n",
       "      <td>IN</td>\n",
       "      <td>prepositional modifier</td>\n",
       "      <td>conjunction, subordinating or preposition</td>\n",
       "    </tr>\n",
       "    <tr>\n",
       "      <th>2</th>\n",
       "      <td>DATE</td>\n",
       "      <td>December</td>\n",
       "      <td>pobj</td>\n",
       "      <td>of</td>\n",
       "      <td>prep</td>\n",
       "      <td>PROPN</td>\n",
       "      <td>NNP</td>\n",
       "      <td>object of preposition</td>\n",
       "      <td>noun, proper singular</td>\n",
       "    </tr>\n",
       "    <tr>\n",
       "      <th>3</th>\n",
       "      <td>DATE</td>\n",
       "      <td>31</td>\n",
       "      <td>nummod</td>\n",
       "      <td>December</td>\n",
       "      <td>pobj</td>\n",
       "      <td>NUM</td>\n",
       "      <td>CD</td>\n",
       "      <td>None</td>\n",
       "      <td>cardinal number</td>\n",
       "    </tr>\n",
       "    <tr>\n",
       "      <th>4</th>\n",
       "      <td>DATE</td>\n",
       "      <td>,</td>\n",
       "      <td>punct</td>\n",
       "      <td>December</td>\n",
       "      <td>pobj</td>\n",
       "      <td>PUNCT</td>\n",
       "      <td>,</td>\n",
       "      <td>punctuation</td>\n",
       "      <td>punctuation mark, comma</td>\n",
       "    </tr>\n",
       "    <tr>\n",
       "      <th>5</th>\n",
       "      <td>DATE</td>\n",
       "      <td>2016</td>\n",
       "      <td>nummod</td>\n",
       "      <td>December</td>\n",
       "      <td>pobj</td>\n",
       "      <td>NUM</td>\n",
       "      <td>CD</td>\n",
       "      <td>None</td>\n",
       "      <td>cardinal number</td>\n",
       "    </tr>\n",
       "    <tr>\n",
       "      <th>6</th>\n",
       "      <td></td>\n",
       "      <td>,</td>\n",
       "      <td>punct</td>\n",
       "      <td>had</td>\n",
       "      <td>ROOT</td>\n",
       "      <td>PUNCT</td>\n",
       "      <td>,</td>\n",
       "      <td>punctuation</td>\n",
       "      <td>punctuation mark, comma</td>\n",
       "    </tr>\n",
       "    <tr>\n",
       "      <th>7</th>\n",
       "      <td></td>\n",
       "      <td>the</td>\n",
       "      <td>det</td>\n",
       "      <td>subsidiaries</td>\n",
       "      <td>nsubj</td>\n",
       "      <td>DET</td>\n",
       "      <td>DT</td>\n",
       "      <td>determiner</td>\n",
       "      <td>determiner</td>\n",
       "    </tr>\n",
       "    <tr>\n",
       "      <th>8</th>\n",
       "      <td></td>\n",
       "      <td>subsidiaries</td>\n",
       "      <td>nsubj</td>\n",
       "      <td>had</td>\n",
       "      <td>ROOT</td>\n",
       "      <td>NOUN</td>\n",
       "      <td>NNS</td>\n",
       "      <td>nominal subject</td>\n",
       "      <td>noun, plural</td>\n",
       "    </tr>\n",
       "    <tr>\n",
       "      <th>9</th>\n",
       "      <td></td>\n",
       "      <td>of</td>\n",
       "      <td>prep</td>\n",
       "      <td>subsidiaries</td>\n",
       "      <td>nsubj</td>\n",
       "      <td>ADP</td>\n",
       "      <td>IN</td>\n",
       "      <td>prepositional modifier</td>\n",
       "      <td>conjunction, subordinating or preposition</td>\n",
       "    </tr>\n",
       "    <tr>\n",
       "      <th>10</th>\n",
       "      <td>ORG</td>\n",
       "      <td>AEP</td>\n",
       "      <td>pobj</td>\n",
       "      <td>of</td>\n",
       "      <td>prep</td>\n",
       "      <td>PROPN</td>\n",
       "      <td>NNP</td>\n",
       "      <td>object of preposition</td>\n",
       "      <td>noun, proper singular</td>\n",
       "    </tr>\n",
       "    <tr>\n",
       "      <th>11</th>\n",
       "      <td></td>\n",
       "      <td>had</td>\n",
       "      <td>ROOT</td>\n",
       "      <td>had</td>\n",
       "      <td>ROOT</td>\n",
       "      <td>VERB</td>\n",
       "      <td>VBD</td>\n",
       "      <td>None</td>\n",
       "      <td>verb, past tense</td>\n",
       "    </tr>\n",
       "    <tr>\n",
       "      <th>12</th>\n",
       "      <td></td>\n",
       "      <td>a</td>\n",
       "      <td>det</td>\n",
       "      <td>total</td>\n",
       "      <td>dobj</td>\n",
       "      <td>DET</td>\n",
       "      <td>DT</td>\n",
       "      <td>determiner</td>\n",
       "      <td>determiner</td>\n",
       "    </tr>\n",
       "    <tr>\n",
       "      <th>13</th>\n",
       "      <td></td>\n",
       "      <td>total</td>\n",
       "      <td>dobj</td>\n",
       "      <td>had</td>\n",
       "      <td>ROOT</td>\n",
       "      <td>NOUN</td>\n",
       "      <td>NN</td>\n",
       "      <td>direct object</td>\n",
       "      <td>noun, singular or mass</td>\n",
       "    </tr>\n",
       "    <tr>\n",
       "      <th>14</th>\n",
       "      <td></td>\n",
       "      <td>of</td>\n",
       "      <td>prep</td>\n",
       "      <td>total</td>\n",
       "      <td>dobj</td>\n",
       "      <td>ADP</td>\n",
       "      <td>IN</td>\n",
       "      <td>prepositional modifier</td>\n",
       "      <td>conjunction, subordinating or preposition</td>\n",
       "    </tr>\n",
       "    <tr>\n",
       "      <th>15</th>\n",
       "      <td>CARDINAL</td>\n",
       "      <td>17,634</td>\n",
       "      <td>nummod</td>\n",
       "      <td>employees</td>\n",
       "      <td>pobj</td>\n",
       "      <td>NUM</td>\n",
       "      <td>CD</td>\n",
       "      <td>None</td>\n",
       "      <td>cardinal number</td>\n",
       "    </tr>\n",
       "    <tr>\n",
       "      <th>16</th>\n",
       "      <td>EMP_NOUN</td>\n",
       "      <td>employees</td>\n",
       "      <td>pobj</td>\n",
       "      <td>of</td>\n",
       "      <td>prep</td>\n",
       "      <td>NOUN</td>\n",
       "      <td>NNS</td>\n",
       "      <td>object of preposition</td>\n",
       "      <td>noun, plural</td>\n",
       "    </tr>\n",
       "    <tr>\n",
       "      <th>17</th>\n",
       "      <td></td>\n",
       "      <td>.</td>\n",
       "      <td>punct</td>\n",
       "      <td>had</td>\n",
       "      <td>ROOT</td>\n",
       "      <td>PUNCT</td>\n",
       "      <td>.</td>\n",
       "      <td>punctuation</td>\n",
       "      <td>punctuation mark, sentence closer</td>\n",
       "    </tr>\n",
       "  </tbody>\n",
       "</table>"
      ],
      "text/plain": [
       "<IPython.core.display.HTML object>"
      ]
     },
     "metadata": {},
     "output_type": "display_data"
    }
   ],
   "source": [
    "print_df(make_tok_df(ex3))"
   ]
  },
  {
   "cell_type": "code",
   "execution_count": 44,
   "metadata": {
    "ExecuteTime": {
     "end_time": "2018-07-07T14:53:29.879232Z",
     "start_time": "2018-07-07T14:53:29.830200Z"
    },
    "hidden": true
   },
   "outputs": [
    {
     "name": "stdout",
     "output_type": "stream",
     "text": [
      "doc is: \n",
      "As of December 31, 2016, the subsidiaries of AEP had a total of 17,634 employees.\n",
      "--------------------------------------------------\n",
      "Entities are: \n"
     ]
    },
    {
     "data": {
      "text/html": [
       "<table border=\"1\" class=\"dataframe\">\n",
       "  <thead>\n",
       "    <tr style=\"text-align: right;\">\n",
       "      <th></th>\n",
       "      <th>tok_i</th>\n",
       "      <th>entity</th>\n",
       "      <th>ent_label</th>\n",
       "      <th>root</th>\n",
       "      <th>root_dep</th>\n",
       "      <th>dep_def</th>\n",
       "      <th>root_head</th>\n",
       "      <th>root_head_dep</th>\n",
       "      <th>root_head_pos</th>\n",
       "    </tr>\n",
       "  </thead>\n",
       "  <tbody>\n",
       "    <tr>\n",
       "      <th>0</th>\n",
       "      <td>2</td>\n",
       "      <td>December 31, 2016</td>\n",
       "      <td>DATE</td>\n",
       "      <td>December</td>\n",
       "      <td>pobj</td>\n",
       "      <td>object of preposition</td>\n",
       "      <td>of</td>\n",
       "      <td>prep</td>\n",
       "      <td>ADP</td>\n",
       "    </tr>\n",
       "    <tr>\n",
       "      <th>1</th>\n",
       "      <td>10</td>\n",
       "      <td>AEP</td>\n",
       "      <td>ORG</td>\n",
       "      <td>AEP</td>\n",
       "      <td>pobj</td>\n",
       "      <td>object of preposition</td>\n",
       "      <td>of</td>\n",
       "      <td>prep</td>\n",
       "      <td>ADP</td>\n",
       "    </tr>\n",
       "    <tr>\n",
       "      <th>2</th>\n",
       "      <td>15</td>\n",
       "      <td>17,634</td>\n",
       "      <td>CARDINAL</td>\n",
       "      <td>17,634</td>\n",
       "      <td>nummod</td>\n",
       "      <td>None</td>\n",
       "      <td>employees</td>\n",
       "      <td>pobj</td>\n",
       "      <td>NOUN</td>\n",
       "    </tr>\n",
       "    <tr>\n",
       "      <th>3</th>\n",
       "      <td>16</td>\n",
       "      <td>employees</td>\n",
       "      <td>EMP_NOUN</td>\n",
       "      <td>employees</td>\n",
       "      <td>pobj</td>\n",
       "      <td>object of preposition</td>\n",
       "      <td>of</td>\n",
       "      <td>prep</td>\n",
       "      <td>ADP</td>\n",
       "    </tr>\n",
       "  </tbody>\n",
       "</table>"
      ],
      "text/plain": [
       "<IPython.core.display.HTML object>"
      ]
     },
     "metadata": {},
     "output_type": "display_data"
    },
    {
     "name": "stdout",
     "output_type": "stream",
     "text": [
      "--------------------------------------------------\n",
      "Noun chunks are: \n"
     ]
    },
    {
     "data": {
      "text/html": [
       "<table border=\"1\" class=\"dataframe\">\n",
       "  <thead>\n",
       "    <tr style=\"text-align: right;\">\n",
       "      <th></th>\n",
       "      <th>tok_i</th>\n",
       "      <th>noun_chunk</th>\n",
       "      <th>NP</th>\n",
       "      <th>root</th>\n",
       "      <th>root_dep</th>\n",
       "      <th>dep_def</th>\n",
       "      <th>root_head</th>\n",
       "      <th>root_head_dep</th>\n",
       "      <th>root_head_pos</th>\n",
       "    </tr>\n",
       "  </thead>\n",
       "  <tbody>\n",
       "    <tr>\n",
       "      <th>0</th>\n",
       "      <td>2</td>\n",
       "      <td>December</td>\n",
       "      <td>NP</td>\n",
       "      <td>December</td>\n",
       "      <td>pobj</td>\n",
       "      <td>object of preposition</td>\n",
       "      <td>of</td>\n",
       "      <td>prep</td>\n",
       "      <td>ADP</td>\n",
       "    </tr>\n",
       "    <tr>\n",
       "      <th>1</th>\n",
       "      <td>7</td>\n",
       "      <td>the subsidiaries</td>\n",
       "      <td>NP</td>\n",
       "      <td>subsidiaries</td>\n",
       "      <td>nsubj</td>\n",
       "      <td>nominal subject</td>\n",
       "      <td>had</td>\n",
       "      <td>ROOT</td>\n",
       "      <td>VERB</td>\n",
       "    </tr>\n",
       "    <tr>\n",
       "      <th>2</th>\n",
       "      <td>10</td>\n",
       "      <td>AEP</td>\n",
       "      <td>NP</td>\n",
       "      <td>AEP</td>\n",
       "      <td>pobj</td>\n",
       "      <td>object of preposition</td>\n",
       "      <td>of</td>\n",
       "      <td>prep</td>\n",
       "      <td>ADP</td>\n",
       "    </tr>\n",
       "    <tr>\n",
       "      <th>3</th>\n",
       "      <td>12</td>\n",
       "      <td>a total</td>\n",
       "      <td>NP</td>\n",
       "      <td>total</td>\n",
       "      <td>dobj</td>\n",
       "      <td>direct object</td>\n",
       "      <td>had</td>\n",
       "      <td>ROOT</td>\n",
       "      <td>VERB</td>\n",
       "    </tr>\n",
       "    <tr>\n",
       "      <th>4</th>\n",
       "      <td>15</td>\n",
       "      <td>17,634 employees</td>\n",
       "      <td>NP</td>\n",
       "      <td>employees</td>\n",
       "      <td>pobj</td>\n",
       "      <td>object of preposition</td>\n",
       "      <td>of</td>\n",
       "      <td>prep</td>\n",
       "      <td>ADP</td>\n",
       "    </tr>\n",
       "  </tbody>\n",
       "</table>"
      ],
      "text/plain": [
       "<IPython.core.display.HTML object>"
      ]
     },
     "metadata": {},
     "output_type": "display_data"
    },
    {
     "name": "stdout",
     "output_type": "stream",
     "text": [
      "--------------------------------------------------\n",
      "Cardinal entities are: \n"
     ]
    },
    {
     "data": {
      "text/html": [
       "<table border=\"1\" class=\"dataframe\">\n",
       "  <thead>\n",
       "    <tr style=\"text-align: right;\">\n",
       "      <th></th>\n",
       "      <th>tok_ent</th>\n",
       "      <th>toks</th>\n",
       "      <th>dep</th>\n",
       "      <th>head</th>\n",
       "      <th>head_dep</th>\n",
       "      <th>pos</th>\n",
       "      <th>tag</th>\n",
       "      <th>dep_def</th>\n",
       "      <th>tag_def</th>\n",
       "    </tr>\n",
       "  </thead>\n",
       "  <tbody>\n",
       "    <tr>\n",
       "      <th>0</th>\n",
       "      <td>CARDINAL</td>\n",
       "      <td>17,634</td>\n",
       "      <td>nummod</td>\n",
       "      <td>employees</td>\n",
       "      <td>pobj</td>\n",
       "      <td>NUM</td>\n",
       "      <td>CD</td>\n",
       "      <td>None</td>\n",
       "      <td>cardinal number</td>\n",
       "    </tr>\n",
       "  </tbody>\n",
       "</table>"
      ],
      "text/plain": [
       "<IPython.core.display.HTML object>"
      ]
     },
     "metadata": {},
     "output_type": "display_data"
    }
   ],
   "source": [
    "print_doc_info(ex3)"
   ]
  },
  {
   "cell_type": "code",
   "execution_count": 45,
   "metadata": {
    "ExecuteTime": {
     "end_time": "2018-07-07T14:53:29.885236Z",
     "start_time": "2018-07-07T14:53:29.880233Z"
    },
    "hidden": true
   },
   "outputs": [],
   "source": [
    "ex3_emp_tok = ex3[16]\n",
    "\n",
    "ex3_emp_num_ent = ex3.ents[2]"
   ]
  },
  {
   "cell_type": "code",
   "execution_count": 46,
   "metadata": {
    "ExecuteTime": {
     "end_time": "2018-07-07T14:53:29.895244Z",
     "start_time": "2018-07-07T14:53:29.887238Z"
    },
    "hidden": true
   },
   "outputs": [
    {
     "data": {
      "text/plain": [
       "17,634"
      ]
     },
     "execution_count": 46,
     "metadata": {},
     "output_type": "execute_result"
    }
   ],
   "source": [
    "ex3_emp_num_ent"
   ]
  },
  {
   "cell_type": "code",
   "execution_count": 47,
   "metadata": {
    "ExecuteTime": {
     "end_time": "2018-07-07T14:53:29.905250Z",
     "start_time": "2018-07-07T14:53:29.897244Z"
    },
    "hidden": true
   },
   "outputs": [
    {
     "data": {
      "text/plain": [
       "'CARDINAL'"
      ]
     },
     "execution_count": 47,
     "metadata": {},
     "output_type": "execute_result"
    }
   ],
   "source": [
    "ex3_emp_num_ent.root.ent_type_"
   ]
  },
  {
   "cell_type": "code",
   "execution_count": 48,
   "metadata": {
    "ExecuteTime": {
     "end_time": "2018-07-07T14:53:29.916261Z",
     "start_time": "2018-07-07T14:53:29.907255Z"
    },
    "hidden": true
   },
   "outputs": [
    {
     "data": {
      "text/plain": [
       "'DATE'"
      ]
     },
     "execution_count": 48,
     "metadata": {},
     "output_type": "execute_result"
    }
   ],
   "source": [
    "ex3[3].ent_type_"
   ]
  },
  {
   "cell_type": "code",
   "execution_count": 49,
   "metadata": {
    "ExecuteTime": {
     "end_time": "2018-07-07T14:53:29.944427Z",
     "start_time": "2018-07-07T14:53:29.918763Z"
    },
    "hidden": true
   },
   "outputs": [
    {
     "name": "stdout",
     "output_type": "stream",
     "text": [
      "Token dep_: pobj\n",
      "Token head: of       head.dep_:prep\n",
      "Token ancestors: \n",
      "of       ancestor.dep_:prep\n",
      "total       ancestor.dep_:dobj\n",
      "had       ancestor.dep_:ROOT\n",
      "Token children: \n",
      "17,634       child.dep_:nummod\n"
     ]
    }
   ],
   "source": [
    "#[w for w in ex3_emp_tok.head.lefts if w.dep_ == 'nsubj']\n",
    "print('Token dep_: ' + str(ex3_emp_tok.dep_))\n",
    "print('Token head: ' + str(ex3_emp_tok.head) + '       head.dep_:'+ str(ex3_emp_tok.head.dep_) )\n",
    "for w in ex3_emp_tok.head.lefts:\n",
    "    print(str(w) + '       head.left.dep_:' + str(w.dep_))\n",
    "    if w.dep_ == 'nsubj':\n",
    "        print(str(w) + ' is nsubj. Subtree is:' )\n",
    "        [print(x) for x in w.lefts]\n",
    "        [print(s)for s in w.subtree if s.dep_ == 'poss']\n",
    "print('Token ancestors: ')\n",
    "for w in ex3_emp_tok.ancestors:\n",
    "    print(str(w) + '       ancestor.dep_:' + str(w.dep_))\n",
    "print('Token children: ')\n",
    "for w in ex3_emp_tok.children:\n",
    "    print(str(w) + '       child.dep_:' + str(w.dep_))"
   ]
  },
  {
   "cell_type": "code",
   "execution_count": 50,
   "metadata": {
    "ExecuteTime": {
     "end_time": "2018-07-07T14:53:29.952432Z",
     "start_time": "2018-07-07T14:53:29.945427Z"
    },
    "hidden": true
   },
   "outputs": [
    {
     "data": {
      "text/html": [
       "<svg xmlns=\"http://www.w3.org/2000/svg\" xmlns:xlink=\"http://www.w3.org/1999/xlink\" id=\"0\" class=\"displacy\" width=\"1700\" height=\"357.0\" style=\"max-width: none; height: 357.0px; color: #000000; background: #ffffff; font-family: Arial\">\n",
       "<text class=\"displacy-token\" fill=\"currentColor\" text-anchor=\"middle\" y=\"267.0\">\n",
       "    <tspan class=\"displacy-word\" fill=\"currentColor\" x=\"50\">As</tspan>\n",
       "    <tspan class=\"displacy-tag\" dy=\"2em\" fill=\"currentColor\" x=\"50\">ADP</tspan>\n",
       "</text>\n",
       "\n",
       "<text class=\"displacy-token\" fill=\"currentColor\" text-anchor=\"middle\" y=\"267.0\">\n",
       "    <tspan class=\"displacy-word\" fill=\"currentColor\" x=\"160\">of</tspan>\n",
       "    <tspan class=\"displacy-tag\" dy=\"2em\" fill=\"currentColor\" x=\"160\">ADP</tspan>\n",
       "</text>\n",
       "\n",
       "<text class=\"displacy-token\" fill=\"currentColor\" text-anchor=\"middle\" y=\"267.0\">\n",
       "    <tspan class=\"displacy-word\" fill=\"currentColor\" x=\"270\">December</tspan>\n",
       "    <tspan class=\"displacy-tag\" dy=\"2em\" fill=\"currentColor\" x=\"270\">PROPN</tspan>\n",
       "</text>\n",
       "\n",
       "<text class=\"displacy-token\" fill=\"currentColor\" text-anchor=\"middle\" y=\"267.0\">\n",
       "    <tspan class=\"displacy-word\" fill=\"currentColor\" x=\"380\">31,</tspan>\n",
       "    <tspan class=\"displacy-tag\" dy=\"2em\" fill=\"currentColor\" x=\"380\">NUM</tspan>\n",
       "</text>\n",
       "\n",
       "<text class=\"displacy-token\" fill=\"currentColor\" text-anchor=\"middle\" y=\"267.0\">\n",
       "    <tspan class=\"displacy-word\" fill=\"currentColor\" x=\"490\">2016,</tspan>\n",
       "    <tspan class=\"displacy-tag\" dy=\"2em\" fill=\"currentColor\" x=\"490\">NUM</tspan>\n",
       "</text>\n",
       "\n",
       "<text class=\"displacy-token\" fill=\"currentColor\" text-anchor=\"middle\" y=\"267.0\">\n",
       "    <tspan class=\"displacy-word\" fill=\"currentColor\" x=\"600\">the</tspan>\n",
       "    <tspan class=\"displacy-tag\" dy=\"2em\" fill=\"currentColor\" x=\"600\">DET</tspan>\n",
       "</text>\n",
       "\n",
       "<text class=\"displacy-token\" fill=\"currentColor\" text-anchor=\"middle\" y=\"267.0\">\n",
       "    <tspan class=\"displacy-word\" fill=\"currentColor\" x=\"710\">subsidiaries</tspan>\n",
       "    <tspan class=\"displacy-tag\" dy=\"2em\" fill=\"currentColor\" x=\"710\">NOUN</tspan>\n",
       "</text>\n",
       "\n",
       "<text class=\"displacy-token\" fill=\"currentColor\" text-anchor=\"middle\" y=\"267.0\">\n",
       "    <tspan class=\"displacy-word\" fill=\"currentColor\" x=\"820\">of</tspan>\n",
       "    <tspan class=\"displacy-tag\" dy=\"2em\" fill=\"currentColor\" x=\"820\">ADP</tspan>\n",
       "</text>\n",
       "\n",
       "<text class=\"displacy-token\" fill=\"currentColor\" text-anchor=\"middle\" y=\"267.0\">\n",
       "    <tspan class=\"displacy-word\" fill=\"currentColor\" x=\"930\">AEP</tspan>\n",
       "    <tspan class=\"displacy-tag\" dy=\"2em\" fill=\"currentColor\" x=\"930\">PROPN</tspan>\n",
       "</text>\n",
       "\n",
       "<text class=\"displacy-token\" fill=\"currentColor\" text-anchor=\"middle\" y=\"267.0\">\n",
       "    <tspan class=\"displacy-word\" fill=\"currentColor\" x=\"1040\">had</tspan>\n",
       "    <tspan class=\"displacy-tag\" dy=\"2em\" fill=\"currentColor\" x=\"1040\">VERB</tspan>\n",
       "</text>\n",
       "\n",
       "<text class=\"displacy-token\" fill=\"currentColor\" text-anchor=\"middle\" y=\"267.0\">\n",
       "    <tspan class=\"displacy-word\" fill=\"currentColor\" x=\"1150\">a</tspan>\n",
       "    <tspan class=\"displacy-tag\" dy=\"2em\" fill=\"currentColor\" x=\"1150\">DET</tspan>\n",
       "</text>\n",
       "\n",
       "<text class=\"displacy-token\" fill=\"currentColor\" text-anchor=\"middle\" y=\"267.0\">\n",
       "    <tspan class=\"displacy-word\" fill=\"currentColor\" x=\"1260\">total</tspan>\n",
       "    <tspan class=\"displacy-tag\" dy=\"2em\" fill=\"currentColor\" x=\"1260\">NOUN</tspan>\n",
       "</text>\n",
       "\n",
       "<text class=\"displacy-token\" fill=\"currentColor\" text-anchor=\"middle\" y=\"267.0\">\n",
       "    <tspan class=\"displacy-word\" fill=\"currentColor\" x=\"1370\">of</tspan>\n",
       "    <tspan class=\"displacy-tag\" dy=\"2em\" fill=\"currentColor\" x=\"1370\">ADP</tspan>\n",
       "</text>\n",
       "\n",
       "<text class=\"displacy-token\" fill=\"currentColor\" text-anchor=\"middle\" y=\"267.0\">\n",
       "    <tspan class=\"displacy-word\" fill=\"currentColor\" x=\"1480\">17,634</tspan>\n",
       "    <tspan class=\"displacy-tag\" dy=\"2em\" fill=\"currentColor\" x=\"1480\">NUM</tspan>\n",
       "</text>\n",
       "\n",
       "<text class=\"displacy-token\" fill=\"currentColor\" text-anchor=\"middle\" y=\"267.0\">\n",
       "    <tspan class=\"displacy-word\" fill=\"currentColor\" x=\"1590\">employees.</tspan>\n",
       "    <tspan class=\"displacy-tag\" dy=\"2em\" fill=\"currentColor\" x=\"1590\">NOUN</tspan>\n",
       "</text>\n",
       "\n",
       "<g class=\"displacy-arrow\">\n",
       "    <path class=\"displacy-arc\" id=\"arrow-0-0\" stroke-width=\"2px\" d=\"M70,222.0 C70,2.0 1040.0,2.0 1040.0,222.0\" fill=\"none\" stroke=\"currentColor\"/>\n",
       "    <text dy=\"1.25em\" style=\"font-size: 0.8em; letter-spacing: 1px\">\n",
       "        <textPath xlink:href=\"#arrow-0-0\" class=\"displacy-label\" startOffset=\"50%\" fill=\"currentColor\" text-anchor=\"middle\">prep</textPath>\n",
       "    </text>\n",
       "    <path class=\"displacy-arrowhead\" d=\"M70,224.0 L62,212.0 78,212.0\" fill=\"currentColor\"/>\n",
       "</g>\n",
       "\n",
       "<g class=\"displacy-arrow\">\n",
       "    <path class=\"displacy-arc\" id=\"arrow-0-1\" stroke-width=\"2px\" d=\"M70,222.0 C70,167.0 145.0,167.0 145.0,222.0\" fill=\"none\" stroke=\"currentColor\"/>\n",
       "    <text dy=\"1.25em\" style=\"font-size: 0.8em; letter-spacing: 1px\">\n",
       "        <textPath xlink:href=\"#arrow-0-1\" class=\"displacy-label\" startOffset=\"50%\" fill=\"currentColor\" text-anchor=\"middle\">prep</textPath>\n",
       "    </text>\n",
       "    <path class=\"displacy-arrowhead\" d=\"M145.0,224.0 L153.0,212.0 137.0,212.0\" fill=\"currentColor\"/>\n",
       "</g>\n",
       "\n",
       "<g class=\"displacy-arrow\">\n",
       "    <path class=\"displacy-arc\" id=\"arrow-0-2\" stroke-width=\"2px\" d=\"M180,222.0 C180,167.0 255.0,167.0 255.0,222.0\" fill=\"none\" stroke=\"currentColor\"/>\n",
       "    <text dy=\"1.25em\" style=\"font-size: 0.8em; letter-spacing: 1px\">\n",
       "        <textPath xlink:href=\"#arrow-0-2\" class=\"displacy-label\" startOffset=\"50%\" fill=\"currentColor\" text-anchor=\"middle\">pobj</textPath>\n",
       "    </text>\n",
       "    <path class=\"displacy-arrowhead\" d=\"M255.0,224.0 L263.0,212.0 247.0,212.0\" fill=\"currentColor\"/>\n",
       "</g>\n",
       "\n",
       "<g class=\"displacy-arrow\">\n",
       "    <path class=\"displacy-arc\" id=\"arrow-0-3\" stroke-width=\"2px\" d=\"M290,222.0 C290,167.0 365.0,167.0 365.0,222.0\" fill=\"none\" stroke=\"currentColor\"/>\n",
       "    <text dy=\"1.25em\" style=\"font-size: 0.8em; letter-spacing: 1px\">\n",
       "        <textPath xlink:href=\"#arrow-0-3\" class=\"displacy-label\" startOffset=\"50%\" fill=\"currentColor\" text-anchor=\"middle\">nummod</textPath>\n",
       "    </text>\n",
       "    <path class=\"displacy-arrowhead\" d=\"M365.0,224.0 L373.0,212.0 357.0,212.0\" fill=\"currentColor\"/>\n",
       "</g>\n",
       "\n",
       "<g class=\"displacy-arrow\">\n",
       "    <path class=\"displacy-arc\" id=\"arrow-0-4\" stroke-width=\"2px\" d=\"M290,222.0 C290,112.0 480.0,112.0 480.0,222.0\" fill=\"none\" stroke=\"currentColor\"/>\n",
       "    <text dy=\"1.25em\" style=\"font-size: 0.8em; letter-spacing: 1px\">\n",
       "        <textPath xlink:href=\"#arrow-0-4\" class=\"displacy-label\" startOffset=\"50%\" fill=\"currentColor\" text-anchor=\"middle\">nummod</textPath>\n",
       "    </text>\n",
       "    <path class=\"displacy-arrowhead\" d=\"M480.0,224.0 L488.0,212.0 472.0,212.0\" fill=\"currentColor\"/>\n",
       "</g>\n",
       "\n",
       "<g class=\"displacy-arrow\">\n",
       "    <path class=\"displacy-arc\" id=\"arrow-0-5\" stroke-width=\"2px\" d=\"M620,222.0 C620,167.0 695.0,167.0 695.0,222.0\" fill=\"none\" stroke=\"currentColor\"/>\n",
       "    <text dy=\"1.25em\" style=\"font-size: 0.8em; letter-spacing: 1px\">\n",
       "        <textPath xlink:href=\"#arrow-0-5\" class=\"displacy-label\" startOffset=\"50%\" fill=\"currentColor\" text-anchor=\"middle\">det</textPath>\n",
       "    </text>\n",
       "    <path class=\"displacy-arrowhead\" d=\"M620,224.0 L612,212.0 628,212.0\" fill=\"currentColor\"/>\n",
       "</g>\n",
       "\n",
       "<g class=\"displacy-arrow\">\n",
       "    <path class=\"displacy-arc\" id=\"arrow-0-6\" stroke-width=\"2px\" d=\"M730,222.0 C730,57.0 1035.0,57.0 1035.0,222.0\" fill=\"none\" stroke=\"currentColor\"/>\n",
       "    <text dy=\"1.25em\" style=\"font-size: 0.8em; letter-spacing: 1px\">\n",
       "        <textPath xlink:href=\"#arrow-0-6\" class=\"displacy-label\" startOffset=\"50%\" fill=\"currentColor\" text-anchor=\"middle\">nsubj</textPath>\n",
       "    </text>\n",
       "    <path class=\"displacy-arrowhead\" d=\"M730,224.0 L722,212.0 738,212.0\" fill=\"currentColor\"/>\n",
       "</g>\n",
       "\n",
       "<g class=\"displacy-arrow\">\n",
       "    <path class=\"displacy-arc\" id=\"arrow-0-7\" stroke-width=\"2px\" d=\"M730,222.0 C730,167.0 805.0,167.0 805.0,222.0\" fill=\"none\" stroke=\"currentColor\"/>\n",
       "    <text dy=\"1.25em\" style=\"font-size: 0.8em; letter-spacing: 1px\">\n",
       "        <textPath xlink:href=\"#arrow-0-7\" class=\"displacy-label\" startOffset=\"50%\" fill=\"currentColor\" text-anchor=\"middle\">prep</textPath>\n",
       "    </text>\n",
       "    <path class=\"displacy-arrowhead\" d=\"M805.0,224.0 L813.0,212.0 797.0,212.0\" fill=\"currentColor\"/>\n",
       "</g>\n",
       "\n",
       "<g class=\"displacy-arrow\">\n",
       "    <path class=\"displacy-arc\" id=\"arrow-0-8\" stroke-width=\"2px\" d=\"M840,222.0 C840,167.0 915.0,167.0 915.0,222.0\" fill=\"none\" stroke=\"currentColor\"/>\n",
       "    <text dy=\"1.25em\" style=\"font-size: 0.8em; letter-spacing: 1px\">\n",
       "        <textPath xlink:href=\"#arrow-0-8\" class=\"displacy-label\" startOffset=\"50%\" fill=\"currentColor\" text-anchor=\"middle\">pobj</textPath>\n",
       "    </text>\n",
       "    <path class=\"displacy-arrowhead\" d=\"M915.0,224.0 L923.0,212.0 907.0,212.0\" fill=\"currentColor\"/>\n",
       "</g>\n",
       "\n",
       "<g class=\"displacy-arrow\">\n",
       "    <path class=\"displacy-arc\" id=\"arrow-0-9\" stroke-width=\"2px\" d=\"M1170,222.0 C1170,167.0 1245.0,167.0 1245.0,222.0\" fill=\"none\" stroke=\"currentColor\"/>\n",
       "    <text dy=\"1.25em\" style=\"font-size: 0.8em; letter-spacing: 1px\">\n",
       "        <textPath xlink:href=\"#arrow-0-9\" class=\"displacy-label\" startOffset=\"50%\" fill=\"currentColor\" text-anchor=\"middle\">det</textPath>\n",
       "    </text>\n",
       "    <path class=\"displacy-arrowhead\" d=\"M1170,224.0 L1162,212.0 1178,212.0\" fill=\"currentColor\"/>\n",
       "</g>\n",
       "\n",
       "<g class=\"displacy-arrow\">\n",
       "    <path class=\"displacy-arc\" id=\"arrow-0-10\" stroke-width=\"2px\" d=\"M1060,222.0 C1060,112.0 1250.0,112.0 1250.0,222.0\" fill=\"none\" stroke=\"currentColor\"/>\n",
       "    <text dy=\"1.25em\" style=\"font-size: 0.8em; letter-spacing: 1px\">\n",
       "        <textPath xlink:href=\"#arrow-0-10\" class=\"displacy-label\" startOffset=\"50%\" fill=\"currentColor\" text-anchor=\"middle\">dobj</textPath>\n",
       "    </text>\n",
       "    <path class=\"displacy-arrowhead\" d=\"M1250.0,224.0 L1258.0,212.0 1242.0,212.0\" fill=\"currentColor\"/>\n",
       "</g>\n",
       "\n",
       "<g class=\"displacy-arrow\">\n",
       "    <path class=\"displacy-arc\" id=\"arrow-0-11\" stroke-width=\"2px\" d=\"M1280,222.0 C1280,167.0 1355.0,167.0 1355.0,222.0\" fill=\"none\" stroke=\"currentColor\"/>\n",
       "    <text dy=\"1.25em\" style=\"font-size: 0.8em; letter-spacing: 1px\">\n",
       "        <textPath xlink:href=\"#arrow-0-11\" class=\"displacy-label\" startOffset=\"50%\" fill=\"currentColor\" text-anchor=\"middle\">prep</textPath>\n",
       "    </text>\n",
       "    <path class=\"displacy-arrowhead\" d=\"M1355.0,224.0 L1363.0,212.0 1347.0,212.0\" fill=\"currentColor\"/>\n",
       "</g>\n",
       "\n",
       "<g class=\"displacy-arrow\">\n",
       "    <path class=\"displacy-arc\" id=\"arrow-0-12\" stroke-width=\"2px\" d=\"M1500,222.0 C1500,167.0 1575.0,167.0 1575.0,222.0\" fill=\"none\" stroke=\"currentColor\"/>\n",
       "    <text dy=\"1.25em\" style=\"font-size: 0.8em; letter-spacing: 1px\">\n",
       "        <textPath xlink:href=\"#arrow-0-12\" class=\"displacy-label\" startOffset=\"50%\" fill=\"currentColor\" text-anchor=\"middle\">nummod</textPath>\n",
       "    </text>\n",
       "    <path class=\"displacy-arrowhead\" d=\"M1500,224.0 L1492,212.0 1508,212.0\" fill=\"currentColor\"/>\n",
       "</g>\n",
       "\n",
       "<g class=\"displacy-arrow\">\n",
       "    <path class=\"displacy-arc\" id=\"arrow-0-13\" stroke-width=\"2px\" d=\"M1390,222.0 C1390,112.0 1580.0,112.0 1580.0,222.0\" fill=\"none\" stroke=\"currentColor\"/>\n",
       "    <text dy=\"1.25em\" style=\"font-size: 0.8em; letter-spacing: 1px\">\n",
       "        <textPath xlink:href=\"#arrow-0-13\" class=\"displacy-label\" startOffset=\"50%\" fill=\"currentColor\" text-anchor=\"middle\">pobj</textPath>\n",
       "    </text>\n",
       "    <path class=\"displacy-arrowhead\" d=\"M1580.0,224.0 L1588.0,212.0 1572.0,212.0\" fill=\"currentColor\"/>\n",
       "</g>\n",
       "</svg>"
      ],
      "text/plain": [
       "<IPython.core.display.HTML object>"
      ]
     },
     "metadata": {},
     "output_type": "display_data"
    }
   ],
   "source": [
    "displacy.render(ex3, style='dep', jupyter=True, options={'distance': 110})"
   ]
  },
  {
   "cell_type": "code",
   "execution_count": 51,
   "metadata": {
    "ExecuteTime": {
     "end_time": "2018-07-07T14:53:29.995461Z",
     "start_time": "2018-07-07T14:53:29.954433Z"
    },
    "hidden": true
   },
   "outputs": [
    {
     "name": "stdout",
     "output_type": "stream",
     "text": [
      "of\n",
      "prep\n",
      "total\n",
      "dobj\n",
      "had\n",
      "ROOT\n",
      "VERB\n",
      "VBD\n",
      "[As, ,, subsidiaries, total, .]\n",
      "['prep', 'punct', 'nsubj', 'dobj', 'punct']\n",
      "['IN', ',', 'NNS', 'NN', '.']\n",
      "[31, 2016, 17,634]\n",
      "['', '', '', '', '']\n",
      "[December 31, 2016, AEP, 17,634, employees]\n",
      "['DATE', 'ORG', 'CARDINAL', 'EMP_NOUN']\n",
      "[December 31, 2016]\n"
     ]
    }
   ],
   "source": [
    "print(ex3_emp_tok.head)\n",
    "print(ex3_emp_tok.head.dep_)\n",
    "print(ex3_emp_tok.head.head)\n",
    "print(ex3_emp_tok.head.head.dep_)\n",
    "print(ex3_emp_tok.head.head.head)\n",
    "print(ex3_emp_tok.head.head.head.dep_)\n",
    "print(ex3_emp_tok.head.head.head.pos_)\n",
    "print(ex3_emp_tok.head.head.head.tag_)\n",
    "print([c for c in ex3_emp_tok.head.head.head.children])\n",
    "print([c.dep_ for c in ex3_emp_tok.head.head.head.children])\n",
    "print([c.tag_ for c in ex3_emp_tok.head.head.head.children])\n",
    "print([r for r in ex3_emp_tok.head.head.head.subtree if r.tag_== 'CD'])\n",
    "print([c.ent_iob_ for c in ex3_emp_tok.head.head.head.children])\n",
    "print([e for e in ex3.ents])\n",
    "print([e.label_ for e in ex3.ents])\n",
    "print([e for e in ex3.ents if e.label_ == 'DATE'])"
   ]
  },
  {
   "cell_type": "code",
   "execution_count": 52,
   "metadata": {
    "ExecuteTime": {
     "end_time": "2018-07-07T14:53:30.002465Z",
     "start_time": "2018-07-07T14:53:29.996461Z"
    },
    "hidden": true,
    "scrolled": true
   },
   "outputs": [
    {
     "data": {
      "text/plain": [
       "[(AEP, employees), (17,634, employees), (total, employees)]"
      ]
     },
     "execution_count": 52,
     "metadata": {},
     "output_type": "execute_result"
    }
   ],
   "source": [
    "extract_emp_relations(ex3)"
   ]
  },
  {
   "cell_type": "markdown",
   "metadata": {
    "heading_collapsed": true,
    "hidden": true
   },
   "source": [
    "#### `Org_tok` [employment_noun] `was` `Emp_Num` `EMP_NOUN`"
   ]
  },
  {
   "cell_type": "markdown",
   "metadata": {
    "hidden": true
   },
   "source": [
    "`\"Alcoa's total worldwide employment at the end of 2016 was approximately 14,000 employees in 15 countries.\"`"
   ]
  },
  {
   "cell_type": "markdown",
   "metadata": {
    "hidden": true
   },
   "source": [
    "Desired output: \n",
    "\n",
    "`(employment, was, 14,000, employees)`"
   ]
  },
  {
   "cell_type": "code",
   "execution_count": 53,
   "metadata": {
    "ExecuteTime": {
     "end_time": "2018-07-07T14:53:30.025511Z",
     "start_time": "2018-07-07T14:53:30.004468Z"
    },
    "hidden": true
   },
   "outputs": [],
   "source": [
    "ex4 = nlp(\"Alcoa's total worldwide employment at the end of 2016 was approximately 14,000 employees in 15 countries.\")"
   ]
  },
  {
   "cell_type": "code",
   "execution_count": 54,
   "metadata": {
    "ExecuteTime": {
     "end_time": "2018-07-07T14:53:30.044523Z",
     "start_time": "2018-07-07T14:53:30.027513Z"
    },
    "hidden": true
   },
   "outputs": [
    {
     "data": {
      "text/html": [
       "<table border=\"1\" class=\"dataframe\">\n",
       "  <thead>\n",
       "    <tr style=\"text-align: right;\">\n",
       "      <th></th>\n",
       "      <th>tok_ent</th>\n",
       "      <th>toks</th>\n",
       "      <th>dep</th>\n",
       "      <th>head</th>\n",
       "      <th>head_dep</th>\n",
       "      <th>pos</th>\n",
       "      <th>tag</th>\n",
       "      <th>dep_def</th>\n",
       "      <th>tag_def</th>\n",
       "    </tr>\n",
       "  </thead>\n",
       "  <tbody>\n",
       "    <tr>\n",
       "      <th>0</th>\n",
       "      <td>ORG</td>\n",
       "      <td>Alcoa</td>\n",
       "      <td>poss</td>\n",
       "      <td>employment</td>\n",
       "      <td>nsubj</td>\n",
       "      <td>PROPN</td>\n",
       "      <td>NNP</td>\n",
       "      <td>possession modifier</td>\n",
       "      <td>noun, proper singular</td>\n",
       "    </tr>\n",
       "    <tr>\n",
       "      <th>1</th>\n",
       "      <td></td>\n",
       "      <td>'s</td>\n",
       "      <td>case</td>\n",
       "      <td>Alcoa</td>\n",
       "      <td>poss</td>\n",
       "      <td>PART</td>\n",
       "      <td>POS</td>\n",
       "      <td>None</td>\n",
       "      <td>possessive ending</td>\n",
       "    </tr>\n",
       "    <tr>\n",
       "      <th>2</th>\n",
       "      <td></td>\n",
       "      <td>total</td>\n",
       "      <td>amod</td>\n",
       "      <td>employment</td>\n",
       "      <td>nsubj</td>\n",
       "      <td>ADJ</td>\n",
       "      <td>JJ</td>\n",
       "      <td>adjectival modifier</td>\n",
       "      <td>adjective</td>\n",
       "    </tr>\n",
       "    <tr>\n",
       "      <th>3</th>\n",
       "      <td></td>\n",
       "      <td>worldwide</td>\n",
       "      <td>amod</td>\n",
       "      <td>employment</td>\n",
       "      <td>nsubj</td>\n",
       "      <td>ADJ</td>\n",
       "      <td>JJ</td>\n",
       "      <td>adjectival modifier</td>\n",
       "      <td>adjective</td>\n",
       "    </tr>\n",
       "    <tr>\n",
       "      <th>4</th>\n",
       "      <td></td>\n",
       "      <td>employment</td>\n",
       "      <td>nsubj</td>\n",
       "      <td>was</td>\n",
       "      <td>ROOT</td>\n",
       "      <td>NOUN</td>\n",
       "      <td>NN</td>\n",
       "      <td>nominal subject</td>\n",
       "      <td>noun, singular or mass</td>\n",
       "    </tr>\n",
       "    <tr>\n",
       "      <th>5</th>\n",
       "      <td></td>\n",
       "      <td>at</td>\n",
       "      <td>prep</td>\n",
       "      <td>employment</td>\n",
       "      <td>nsubj</td>\n",
       "      <td>ADP</td>\n",
       "      <td>IN</td>\n",
       "      <td>prepositional modifier</td>\n",
       "      <td>conjunction, subordinating or preposition</td>\n",
       "    </tr>\n",
       "    <tr>\n",
       "      <th>6</th>\n",
       "      <td>DATE</td>\n",
       "      <td>the</td>\n",
       "      <td>det</td>\n",
       "      <td>end</td>\n",
       "      <td>pobj</td>\n",
       "      <td>DET</td>\n",
       "      <td>DT</td>\n",
       "      <td>determiner</td>\n",
       "      <td>determiner</td>\n",
       "    </tr>\n",
       "    <tr>\n",
       "      <th>7</th>\n",
       "      <td>DATE</td>\n",
       "      <td>end</td>\n",
       "      <td>pobj</td>\n",
       "      <td>at</td>\n",
       "      <td>prep</td>\n",
       "      <td>NOUN</td>\n",
       "      <td>NN</td>\n",
       "      <td>object of preposition</td>\n",
       "      <td>noun, singular or mass</td>\n",
       "    </tr>\n",
       "    <tr>\n",
       "      <th>8</th>\n",
       "      <td>DATE</td>\n",
       "      <td>of</td>\n",
       "      <td>prep</td>\n",
       "      <td>end</td>\n",
       "      <td>pobj</td>\n",
       "      <td>ADP</td>\n",
       "      <td>IN</td>\n",
       "      <td>prepositional modifier</td>\n",
       "      <td>conjunction, subordinating or preposition</td>\n",
       "    </tr>\n",
       "    <tr>\n",
       "      <th>9</th>\n",
       "      <td>DATE</td>\n",
       "      <td>2016</td>\n",
       "      <td>pobj</td>\n",
       "      <td>of</td>\n",
       "      <td>prep</td>\n",
       "      <td>NUM</td>\n",
       "      <td>CD</td>\n",
       "      <td>object of preposition</td>\n",
       "      <td>cardinal number</td>\n",
       "    </tr>\n",
       "    <tr>\n",
       "      <th>10</th>\n",
       "      <td></td>\n",
       "      <td>was</td>\n",
       "      <td>ROOT</td>\n",
       "      <td>was</td>\n",
       "      <td>ROOT</td>\n",
       "      <td>VERB</td>\n",
       "      <td>VBD</td>\n",
       "      <td>None</td>\n",
       "      <td>verb, past tense</td>\n",
       "    </tr>\n",
       "    <tr>\n",
       "      <th>11</th>\n",
       "      <td>CARDINAL</td>\n",
       "      <td>approximately</td>\n",
       "      <td>advmod</td>\n",
       "      <td>14,000</td>\n",
       "      <td>nummod</td>\n",
       "      <td>ADV</td>\n",
       "      <td>RB</td>\n",
       "      <td>adverbial modifier</td>\n",
       "      <td>adverb</td>\n",
       "    </tr>\n",
       "    <tr>\n",
       "      <th>12</th>\n",
       "      <td>CARDINAL</td>\n",
       "      <td>14,000</td>\n",
       "      <td>nummod</td>\n",
       "      <td>employees</td>\n",
       "      <td>attr</td>\n",
       "      <td>NUM</td>\n",
       "      <td>CD</td>\n",
       "      <td>None</td>\n",
       "      <td>cardinal number</td>\n",
       "    </tr>\n",
       "    <tr>\n",
       "      <th>13</th>\n",
       "      <td>EMP_NOUN</td>\n",
       "      <td>employees</td>\n",
       "      <td>attr</td>\n",
       "      <td>was</td>\n",
       "      <td>ROOT</td>\n",
       "      <td>NOUN</td>\n",
       "      <td>NNS</td>\n",
       "      <td>attribute</td>\n",
       "      <td>noun, plural</td>\n",
       "    </tr>\n",
       "    <tr>\n",
       "      <th>14</th>\n",
       "      <td></td>\n",
       "      <td>in</td>\n",
       "      <td>prep</td>\n",
       "      <td>employees</td>\n",
       "      <td>attr</td>\n",
       "      <td>ADP</td>\n",
       "      <td>IN</td>\n",
       "      <td>prepositional modifier</td>\n",
       "      <td>conjunction, subordinating or preposition</td>\n",
       "    </tr>\n",
       "    <tr>\n",
       "      <th>15</th>\n",
       "      <td>CARDINAL</td>\n",
       "      <td>15</td>\n",
       "      <td>nummod</td>\n",
       "      <td>countries</td>\n",
       "      <td>pobj</td>\n",
       "      <td>NUM</td>\n",
       "      <td>CD</td>\n",
       "      <td>None</td>\n",
       "      <td>cardinal number</td>\n",
       "    </tr>\n",
       "    <tr>\n",
       "      <th>16</th>\n",
       "      <td></td>\n",
       "      <td>countries</td>\n",
       "      <td>pobj</td>\n",
       "      <td>in</td>\n",
       "      <td>prep</td>\n",
       "      <td>NOUN</td>\n",
       "      <td>NNS</td>\n",
       "      <td>object of preposition</td>\n",
       "      <td>noun, plural</td>\n",
       "    </tr>\n",
       "    <tr>\n",
       "      <th>17</th>\n",
       "      <td></td>\n",
       "      <td>.</td>\n",
       "      <td>punct</td>\n",
       "      <td>was</td>\n",
       "      <td>ROOT</td>\n",
       "      <td>PUNCT</td>\n",
       "      <td>.</td>\n",
       "      <td>punctuation</td>\n",
       "      <td>punctuation mark, sentence closer</td>\n",
       "    </tr>\n",
       "  </tbody>\n",
       "</table>"
      ],
      "text/plain": [
       "<IPython.core.display.HTML object>"
      ]
     },
     "metadata": {},
     "output_type": "display_data"
    }
   ],
   "source": [
    "print_df(make_tok_df(ex4))"
   ]
  },
  {
   "cell_type": "code",
   "execution_count": 55,
   "metadata": {
    "ExecuteTime": {
     "end_time": "2018-07-07T14:53:30.091556Z",
     "start_time": "2018-07-07T14:53:30.046525Z"
    },
    "hidden": true
   },
   "outputs": [
    {
     "name": "stdout",
     "output_type": "stream",
     "text": [
      "doc is: \n",
      "Alcoa's total worldwide employment at the end of 2016 was approximately 14,000 employees in 15 countries.\n",
      "--------------------------------------------------\n",
      "Entities are: \n"
     ]
    },
    {
     "data": {
      "text/html": [
       "<table border=\"1\" class=\"dataframe\">\n",
       "  <thead>\n",
       "    <tr style=\"text-align: right;\">\n",
       "      <th></th>\n",
       "      <th>tok_i</th>\n",
       "      <th>entity</th>\n",
       "      <th>ent_label</th>\n",
       "      <th>root</th>\n",
       "      <th>root_dep</th>\n",
       "      <th>dep_def</th>\n",
       "      <th>root_head</th>\n",
       "      <th>root_head_dep</th>\n",
       "      <th>root_head_pos</th>\n",
       "    </tr>\n",
       "  </thead>\n",
       "  <tbody>\n",
       "    <tr>\n",
       "      <th>0</th>\n",
       "      <td>0</td>\n",
       "      <td>Alcoa</td>\n",
       "      <td>ORG</td>\n",
       "      <td>Alcoa</td>\n",
       "      <td>poss</td>\n",
       "      <td>possession modifier</td>\n",
       "      <td>employment</td>\n",
       "      <td>nsubj</td>\n",
       "      <td>NOUN</td>\n",
       "    </tr>\n",
       "    <tr>\n",
       "      <th>1</th>\n",
       "      <td>6</td>\n",
       "      <td>the end of 2016</td>\n",
       "      <td>DATE</td>\n",
       "      <td>end</td>\n",
       "      <td>pobj</td>\n",
       "      <td>object of preposition</td>\n",
       "      <td>at</td>\n",
       "      <td>prep</td>\n",
       "      <td>ADP</td>\n",
       "    </tr>\n",
       "    <tr>\n",
       "      <th>2</th>\n",
       "      <td>11</td>\n",
       "      <td>approximately 14,000</td>\n",
       "      <td>CARDINAL</td>\n",
       "      <td>14,000</td>\n",
       "      <td>nummod</td>\n",
       "      <td>None</td>\n",
       "      <td>employees</td>\n",
       "      <td>attr</td>\n",
       "      <td>NOUN</td>\n",
       "    </tr>\n",
       "    <tr>\n",
       "      <th>3</th>\n",
       "      <td>13</td>\n",
       "      <td>employees</td>\n",
       "      <td>EMP_NOUN</td>\n",
       "      <td>employees</td>\n",
       "      <td>attr</td>\n",
       "      <td>attribute</td>\n",
       "      <td>was</td>\n",
       "      <td>ROOT</td>\n",
       "      <td>VERB</td>\n",
       "    </tr>\n",
       "    <tr>\n",
       "      <th>4</th>\n",
       "      <td>15</td>\n",
       "      <td>15</td>\n",
       "      <td>CARDINAL</td>\n",
       "      <td>15</td>\n",
       "      <td>nummod</td>\n",
       "      <td>None</td>\n",
       "      <td>countries</td>\n",
       "      <td>pobj</td>\n",
       "      <td>NOUN</td>\n",
       "    </tr>\n",
       "  </tbody>\n",
       "</table>"
      ],
      "text/plain": [
       "<IPython.core.display.HTML object>"
      ]
     },
     "metadata": {},
     "output_type": "display_data"
    },
    {
     "name": "stdout",
     "output_type": "stream",
     "text": [
      "--------------------------------------------------\n",
      "Noun chunks are: \n"
     ]
    },
    {
     "data": {
      "text/html": [
       "<table border=\"1\" class=\"dataframe\">\n",
       "  <thead>\n",
       "    <tr style=\"text-align: right;\">\n",
       "      <th></th>\n",
       "      <th>tok_i</th>\n",
       "      <th>noun_chunk</th>\n",
       "      <th>NP</th>\n",
       "      <th>root</th>\n",
       "      <th>root_dep</th>\n",
       "      <th>dep_def</th>\n",
       "      <th>root_head</th>\n",
       "      <th>root_head_dep</th>\n",
       "      <th>root_head_pos</th>\n",
       "    </tr>\n",
       "  </thead>\n",
       "  <tbody>\n",
       "    <tr>\n",
       "      <th>0</th>\n",
       "      <td>0</td>\n",
       "      <td>Alcoa's total worldwide employment</td>\n",
       "      <td>NP</td>\n",
       "      <td>employment</td>\n",
       "      <td>nsubj</td>\n",
       "      <td>nominal subject</td>\n",
       "      <td>was</td>\n",
       "      <td>ROOT</td>\n",
       "      <td>VERB</td>\n",
       "    </tr>\n",
       "    <tr>\n",
       "      <th>1</th>\n",
       "      <td>6</td>\n",
       "      <td>the end</td>\n",
       "      <td>NP</td>\n",
       "      <td>end</td>\n",
       "      <td>pobj</td>\n",
       "      <td>object of preposition</td>\n",
       "      <td>at</td>\n",
       "      <td>prep</td>\n",
       "      <td>ADP</td>\n",
       "    </tr>\n",
       "    <tr>\n",
       "      <th>2</th>\n",
       "      <td>11</td>\n",
       "      <td>approximately 14,000 employees</td>\n",
       "      <td>NP</td>\n",
       "      <td>employees</td>\n",
       "      <td>attr</td>\n",
       "      <td>attribute</td>\n",
       "      <td>was</td>\n",
       "      <td>ROOT</td>\n",
       "      <td>VERB</td>\n",
       "    </tr>\n",
       "    <tr>\n",
       "      <th>3</th>\n",
       "      <td>15</td>\n",
       "      <td>15 countries</td>\n",
       "      <td>NP</td>\n",
       "      <td>countries</td>\n",
       "      <td>pobj</td>\n",
       "      <td>object of preposition</td>\n",
       "      <td>in</td>\n",
       "      <td>prep</td>\n",
       "      <td>ADP</td>\n",
       "    </tr>\n",
       "  </tbody>\n",
       "</table>"
      ],
      "text/plain": [
       "<IPython.core.display.HTML object>"
      ]
     },
     "metadata": {},
     "output_type": "display_data"
    },
    {
     "name": "stdout",
     "output_type": "stream",
     "text": [
      "--------------------------------------------------\n",
      "Cardinal entities are: \n"
     ]
    },
    {
     "data": {
      "text/html": [
       "<table border=\"1\" class=\"dataframe\">\n",
       "  <thead>\n",
       "    <tr style=\"text-align: right;\">\n",
       "      <th></th>\n",
       "      <th>tok_ent</th>\n",
       "      <th>toks</th>\n",
       "      <th>dep</th>\n",
       "      <th>head</th>\n",
       "      <th>head_dep</th>\n",
       "      <th>pos</th>\n",
       "      <th>tag</th>\n",
       "      <th>dep_def</th>\n",
       "      <th>tag_def</th>\n",
       "    </tr>\n",
       "  </thead>\n",
       "  <tbody>\n",
       "    <tr>\n",
       "      <th>0</th>\n",
       "      <td>CARDINAL</td>\n",
       "      <td>approximately</td>\n",
       "      <td>advmod</td>\n",
       "      <td>14,000</td>\n",
       "      <td>nummod</td>\n",
       "      <td>ADV</td>\n",
       "      <td>RB</td>\n",
       "      <td>adverbial modifier</td>\n",
       "      <td>adverb</td>\n",
       "    </tr>\n",
       "    <tr>\n",
       "      <th>1</th>\n",
       "      <td>CARDINAL</td>\n",
       "      <td>14,000</td>\n",
       "      <td>nummod</td>\n",
       "      <td>employees</td>\n",
       "      <td>attr</td>\n",
       "      <td>NUM</td>\n",
       "      <td>CD</td>\n",
       "      <td>None</td>\n",
       "      <td>cardinal number</td>\n",
       "    </tr>\n",
       "    <tr>\n",
       "      <th>2</th>\n",
       "      <td>CARDINAL</td>\n",
       "      <td>15</td>\n",
       "      <td>nummod</td>\n",
       "      <td>countries</td>\n",
       "      <td>pobj</td>\n",
       "      <td>NUM</td>\n",
       "      <td>CD</td>\n",
       "      <td>None</td>\n",
       "      <td>cardinal number</td>\n",
       "    </tr>\n",
       "  </tbody>\n",
       "</table>"
      ],
      "text/plain": [
       "<IPython.core.display.HTML object>"
      ]
     },
     "metadata": {},
     "output_type": "display_data"
    }
   ],
   "source": [
    "print_doc_info(ex4)"
   ]
  },
  {
   "cell_type": "code",
   "execution_count": 56,
   "metadata": {
    "ExecuteTime": {
     "end_time": "2018-07-07T14:53:30.096558Z",
     "start_time": "2018-07-07T14:53:30.093557Z"
    },
    "hidden": true
   },
   "outputs": [],
   "source": [
    "ex4_emp_tok = ex4[13]"
   ]
  },
  {
   "cell_type": "code",
   "execution_count": 57,
   "metadata": {
    "ExecuteTime": {
     "end_time": "2018-07-07T14:53:30.131088Z",
     "start_time": "2018-07-07T14:53:30.098559Z"
    },
    "hidden": true
   },
   "outputs": [
    {
     "name": "stdout",
     "output_type": "stream",
     "text": [
      "Token dep_: attr\n",
      "Token head: was       head.dep_:ROOT\n",
      "employment       head.left.dep_:nsubj\n",
      "employment is nsubj. Subtree is:\n",
      "Alcoa\n",
      "total\n",
      "worldwide\n",
      "Alcoa\n",
      "Token ancestors: \n",
      "was       ancestor.dep_:ROOT\n",
      "Token children: \n",
      "14,000       child.dep_:nummod\n",
      "in       child.dep_:prep\n"
     ]
    }
   ],
   "source": [
    "#[w for w in ex4_emp_tok.head.lefts if w.dep_ == 'nsubj']\n",
    "print('Token dep_: ' + str(ex4_emp_tok.dep_))\n",
    "print('Token head: ' + str(ex4_emp_tok.head) + '       head.dep_:'+ str(ex4_emp_tok.head.dep_) )\n",
    "for w in ex4_emp_tok.head.lefts:\n",
    "    print(str(w) + '       head.left.dep_:' + str(w.dep_))\n",
    "    if w.dep_ == 'nsubj':\n",
    "        print(str(w) + ' is nsubj. Subtree is:' )\n",
    "        [print(x) for x in w.lefts]\n",
    "        [print(s)for s in w.subtree if s.dep_ == 'poss']\n",
    "print('Token ancestors: ')\n",
    "for w in ex4_emp_tok.ancestors:\n",
    "    print(str(w) + '       ancestor.dep_:' + str(w.dep_))\n",
    "print('Token children: ')\n",
    "for w in ex4_emp_tok.children:\n",
    "    print(str(w) + '       child.dep_:' + str(w.dep_))"
   ]
  },
  {
   "cell_type": "code",
   "execution_count": 58,
   "metadata": {
    "ExecuteTime": {
     "end_time": "2018-07-07T14:53:30.139093Z",
     "start_time": "2018-07-07T14:53:30.133090Z"
    },
    "hidden": true
   },
   "outputs": [
    {
     "data": {
      "text/html": [
       "<svg xmlns=\"http://www.w3.org/2000/svg\" xmlns:xlink=\"http://www.w3.org/1999/xlink\" id=\"0\" class=\"displacy\" width=\"1580\" height=\"362.0\" style=\"max-width: none; height: 362.0px; color: #000000; background: #ffffff; font-family: Arial\">\n",
       "<text class=\"displacy-token\" fill=\"currentColor\" text-anchor=\"middle\" y=\"272.0\">\n",
       "    <tspan class=\"displacy-word\" fill=\"currentColor\" x=\"50\">Alcoa</tspan>\n",
       "    <tspan class=\"displacy-tag\" dy=\"2em\" fill=\"currentColor\" x=\"50\">PROPN</tspan>\n",
       "</text>\n",
       "\n",
       "<text class=\"displacy-token\" fill=\"currentColor\" text-anchor=\"middle\" y=\"272.0\">\n",
       "    <tspan class=\"displacy-word\" fill=\"currentColor\" x=\"140\">'s</tspan>\n",
       "    <tspan class=\"displacy-tag\" dy=\"2em\" fill=\"currentColor\" x=\"140\">PART</tspan>\n",
       "</text>\n",
       "\n",
       "<text class=\"displacy-token\" fill=\"currentColor\" text-anchor=\"middle\" y=\"272.0\">\n",
       "    <tspan class=\"displacy-word\" fill=\"currentColor\" x=\"230\">total</tspan>\n",
       "    <tspan class=\"displacy-tag\" dy=\"2em\" fill=\"currentColor\" x=\"230\">ADJ</tspan>\n",
       "</text>\n",
       "\n",
       "<text class=\"displacy-token\" fill=\"currentColor\" text-anchor=\"middle\" y=\"272.0\">\n",
       "    <tspan class=\"displacy-word\" fill=\"currentColor\" x=\"320\">worldwide</tspan>\n",
       "    <tspan class=\"displacy-tag\" dy=\"2em\" fill=\"currentColor\" x=\"320\">ADJ</tspan>\n",
       "</text>\n",
       "\n",
       "<text class=\"displacy-token\" fill=\"currentColor\" text-anchor=\"middle\" y=\"272.0\">\n",
       "    <tspan class=\"displacy-word\" fill=\"currentColor\" x=\"410\">employment</tspan>\n",
       "    <tspan class=\"displacy-tag\" dy=\"2em\" fill=\"currentColor\" x=\"410\">NOUN</tspan>\n",
       "</text>\n",
       "\n",
       "<text class=\"displacy-token\" fill=\"currentColor\" text-anchor=\"middle\" y=\"272.0\">\n",
       "    <tspan class=\"displacy-word\" fill=\"currentColor\" x=\"500\">at</tspan>\n",
       "    <tspan class=\"displacy-tag\" dy=\"2em\" fill=\"currentColor\" x=\"500\">ADP</tspan>\n",
       "</text>\n",
       "\n",
       "<text class=\"displacy-token\" fill=\"currentColor\" text-anchor=\"middle\" y=\"272.0\">\n",
       "    <tspan class=\"displacy-word\" fill=\"currentColor\" x=\"590\">the</tspan>\n",
       "    <tspan class=\"displacy-tag\" dy=\"2em\" fill=\"currentColor\" x=\"590\">DET</tspan>\n",
       "</text>\n",
       "\n",
       "<text class=\"displacy-token\" fill=\"currentColor\" text-anchor=\"middle\" y=\"272.0\">\n",
       "    <tspan class=\"displacy-word\" fill=\"currentColor\" x=\"680\">end</tspan>\n",
       "    <tspan class=\"displacy-tag\" dy=\"2em\" fill=\"currentColor\" x=\"680\">NOUN</tspan>\n",
       "</text>\n",
       "\n",
       "<text class=\"displacy-token\" fill=\"currentColor\" text-anchor=\"middle\" y=\"272.0\">\n",
       "    <tspan class=\"displacy-word\" fill=\"currentColor\" x=\"770\">of</tspan>\n",
       "    <tspan class=\"displacy-tag\" dy=\"2em\" fill=\"currentColor\" x=\"770\">ADP</tspan>\n",
       "</text>\n",
       "\n",
       "<text class=\"displacy-token\" fill=\"currentColor\" text-anchor=\"middle\" y=\"272.0\">\n",
       "    <tspan class=\"displacy-word\" fill=\"currentColor\" x=\"860\">2016</tspan>\n",
       "    <tspan class=\"displacy-tag\" dy=\"2em\" fill=\"currentColor\" x=\"860\">NUM</tspan>\n",
       "</text>\n",
       "\n",
       "<text class=\"displacy-token\" fill=\"currentColor\" text-anchor=\"middle\" y=\"272.0\">\n",
       "    <tspan class=\"displacy-word\" fill=\"currentColor\" x=\"950\">was</tspan>\n",
       "    <tspan class=\"displacy-tag\" dy=\"2em\" fill=\"currentColor\" x=\"950\">VERB</tspan>\n",
       "</text>\n",
       "\n",
       "<text class=\"displacy-token\" fill=\"currentColor\" text-anchor=\"middle\" y=\"272.0\">\n",
       "    <tspan class=\"displacy-word\" fill=\"currentColor\" x=\"1040\">approximately</tspan>\n",
       "    <tspan class=\"displacy-tag\" dy=\"2em\" fill=\"currentColor\" x=\"1040\">ADV</tspan>\n",
       "</text>\n",
       "\n",
       "<text class=\"displacy-token\" fill=\"currentColor\" text-anchor=\"middle\" y=\"272.0\">\n",
       "    <tspan class=\"displacy-word\" fill=\"currentColor\" x=\"1130\">14,000</tspan>\n",
       "    <tspan class=\"displacy-tag\" dy=\"2em\" fill=\"currentColor\" x=\"1130\">NUM</tspan>\n",
       "</text>\n",
       "\n",
       "<text class=\"displacy-token\" fill=\"currentColor\" text-anchor=\"middle\" y=\"272.0\">\n",
       "    <tspan class=\"displacy-word\" fill=\"currentColor\" x=\"1220\">employees</tspan>\n",
       "    <tspan class=\"displacy-tag\" dy=\"2em\" fill=\"currentColor\" x=\"1220\">NOUN</tspan>\n",
       "</text>\n",
       "\n",
       "<text class=\"displacy-token\" fill=\"currentColor\" text-anchor=\"middle\" y=\"272.0\">\n",
       "    <tspan class=\"displacy-word\" fill=\"currentColor\" x=\"1310\">in</tspan>\n",
       "    <tspan class=\"displacy-tag\" dy=\"2em\" fill=\"currentColor\" x=\"1310\">ADP</tspan>\n",
       "</text>\n",
       "\n",
       "<text class=\"displacy-token\" fill=\"currentColor\" text-anchor=\"middle\" y=\"272.0\">\n",
       "    <tspan class=\"displacy-word\" fill=\"currentColor\" x=\"1400\">15</tspan>\n",
       "    <tspan class=\"displacy-tag\" dy=\"2em\" fill=\"currentColor\" x=\"1400\">NUM</tspan>\n",
       "</text>\n",
       "\n",
       "<text class=\"displacy-token\" fill=\"currentColor\" text-anchor=\"middle\" y=\"272.0\">\n",
       "    <tspan class=\"displacy-word\" fill=\"currentColor\" x=\"1490\">countries.</tspan>\n",
       "    <tspan class=\"displacy-tag\" dy=\"2em\" fill=\"currentColor\" x=\"1490\">NOUN</tspan>\n",
       "</text>\n",
       "\n",
       "<g class=\"displacy-arrow\">\n",
       "    <path class=\"displacy-arc\" id=\"arrow-0-0\" stroke-width=\"2px\" d=\"M70,227.0 C70,47.0 405.0,47.0 405.0,227.0\" fill=\"none\" stroke=\"currentColor\"/>\n",
       "    <text dy=\"1.25em\" style=\"font-size: 0.8em; letter-spacing: 1px\">\n",
       "        <textPath xlink:href=\"#arrow-0-0\" class=\"displacy-label\" startOffset=\"50%\" fill=\"currentColor\" text-anchor=\"middle\">poss</textPath>\n",
       "    </text>\n",
       "    <path class=\"displacy-arrowhead\" d=\"M70,229.0 L62,217.0 78,217.0\" fill=\"currentColor\"/>\n",
       "</g>\n",
       "\n",
       "<g class=\"displacy-arrow\">\n",
       "    <path class=\"displacy-arc\" id=\"arrow-0-1\" stroke-width=\"2px\" d=\"M70,227.0 C70,182.0 120.0,182.0 120.0,227.0\" fill=\"none\" stroke=\"currentColor\"/>\n",
       "    <text dy=\"1.25em\" style=\"font-size: 0.8em; letter-spacing: 1px\">\n",
       "        <textPath xlink:href=\"#arrow-0-1\" class=\"displacy-label\" startOffset=\"50%\" fill=\"currentColor\" text-anchor=\"middle\">case</textPath>\n",
       "    </text>\n",
       "    <path class=\"displacy-arrowhead\" d=\"M120.0,229.0 L128.0,217.0 112.0,217.0\" fill=\"currentColor\"/>\n",
       "</g>\n",
       "\n",
       "<g class=\"displacy-arrow\">\n",
       "    <path class=\"displacy-arc\" id=\"arrow-0-2\" stroke-width=\"2px\" d=\"M250,227.0 C250,137.0 395.0,137.0 395.0,227.0\" fill=\"none\" stroke=\"currentColor\"/>\n",
       "    <text dy=\"1.25em\" style=\"font-size: 0.8em; letter-spacing: 1px\">\n",
       "        <textPath xlink:href=\"#arrow-0-2\" class=\"displacy-label\" startOffset=\"50%\" fill=\"currentColor\" text-anchor=\"middle\">amod</textPath>\n",
       "    </text>\n",
       "    <path class=\"displacy-arrowhead\" d=\"M250,229.0 L242,217.0 258,217.0\" fill=\"currentColor\"/>\n",
       "</g>\n",
       "\n",
       "<g class=\"displacy-arrow\">\n",
       "    <path class=\"displacy-arc\" id=\"arrow-0-3\" stroke-width=\"2px\" d=\"M340,227.0 C340,182.0 390.0,182.0 390.0,227.0\" fill=\"none\" stroke=\"currentColor\"/>\n",
       "    <text dy=\"1.25em\" style=\"font-size: 0.8em; letter-spacing: 1px\">\n",
       "        <textPath xlink:href=\"#arrow-0-3\" class=\"displacy-label\" startOffset=\"50%\" fill=\"currentColor\" text-anchor=\"middle\">amod</textPath>\n",
       "    </text>\n",
       "    <path class=\"displacy-arrowhead\" d=\"M340,229.0 L332,217.0 348,217.0\" fill=\"currentColor\"/>\n",
       "</g>\n",
       "\n",
       "<g class=\"displacy-arrow\">\n",
       "    <path class=\"displacy-arc\" id=\"arrow-0-4\" stroke-width=\"2px\" d=\"M430,227.0 C430,2.0 950.0,2.0 950.0,227.0\" fill=\"none\" stroke=\"currentColor\"/>\n",
       "    <text dy=\"1.25em\" style=\"font-size: 0.8em; letter-spacing: 1px\">\n",
       "        <textPath xlink:href=\"#arrow-0-4\" class=\"displacy-label\" startOffset=\"50%\" fill=\"currentColor\" text-anchor=\"middle\">nsubj</textPath>\n",
       "    </text>\n",
       "    <path class=\"displacy-arrowhead\" d=\"M430,229.0 L422,217.0 438,217.0\" fill=\"currentColor\"/>\n",
       "</g>\n",
       "\n",
       "<g class=\"displacy-arrow\">\n",
       "    <path class=\"displacy-arc\" id=\"arrow-0-5\" stroke-width=\"2px\" d=\"M430,227.0 C430,182.0 480.0,182.0 480.0,227.0\" fill=\"none\" stroke=\"currentColor\"/>\n",
       "    <text dy=\"1.25em\" style=\"font-size: 0.8em; letter-spacing: 1px\">\n",
       "        <textPath xlink:href=\"#arrow-0-5\" class=\"displacy-label\" startOffset=\"50%\" fill=\"currentColor\" text-anchor=\"middle\">prep</textPath>\n",
       "    </text>\n",
       "    <path class=\"displacy-arrowhead\" d=\"M480.0,229.0 L488.0,217.0 472.0,217.0\" fill=\"currentColor\"/>\n",
       "</g>\n",
       "\n",
       "<g class=\"displacy-arrow\">\n",
       "    <path class=\"displacy-arc\" id=\"arrow-0-6\" stroke-width=\"2px\" d=\"M610,227.0 C610,182.0 660.0,182.0 660.0,227.0\" fill=\"none\" stroke=\"currentColor\"/>\n",
       "    <text dy=\"1.25em\" style=\"font-size: 0.8em; letter-spacing: 1px\">\n",
       "        <textPath xlink:href=\"#arrow-0-6\" class=\"displacy-label\" startOffset=\"50%\" fill=\"currentColor\" text-anchor=\"middle\">det</textPath>\n",
       "    </text>\n",
       "    <path class=\"displacy-arrowhead\" d=\"M610,229.0 L602,217.0 618,217.0\" fill=\"currentColor\"/>\n",
       "</g>\n",
       "\n",
       "<g class=\"displacy-arrow\">\n",
       "    <path class=\"displacy-arc\" id=\"arrow-0-7\" stroke-width=\"2px\" d=\"M520,227.0 C520,137.0 665.0,137.0 665.0,227.0\" fill=\"none\" stroke=\"currentColor\"/>\n",
       "    <text dy=\"1.25em\" style=\"font-size: 0.8em; letter-spacing: 1px\">\n",
       "        <textPath xlink:href=\"#arrow-0-7\" class=\"displacy-label\" startOffset=\"50%\" fill=\"currentColor\" text-anchor=\"middle\">pobj</textPath>\n",
       "    </text>\n",
       "    <path class=\"displacy-arrowhead\" d=\"M665.0,229.0 L673.0,217.0 657.0,217.0\" fill=\"currentColor\"/>\n",
       "</g>\n",
       "\n",
       "<g class=\"displacy-arrow\">\n",
       "    <path class=\"displacy-arc\" id=\"arrow-0-8\" stroke-width=\"2px\" d=\"M700,227.0 C700,182.0 750.0,182.0 750.0,227.0\" fill=\"none\" stroke=\"currentColor\"/>\n",
       "    <text dy=\"1.25em\" style=\"font-size: 0.8em; letter-spacing: 1px\">\n",
       "        <textPath xlink:href=\"#arrow-0-8\" class=\"displacy-label\" startOffset=\"50%\" fill=\"currentColor\" text-anchor=\"middle\">prep</textPath>\n",
       "    </text>\n",
       "    <path class=\"displacy-arrowhead\" d=\"M750.0,229.0 L758.0,217.0 742.0,217.0\" fill=\"currentColor\"/>\n",
       "</g>\n",
       "\n",
       "<g class=\"displacy-arrow\">\n",
       "    <path class=\"displacy-arc\" id=\"arrow-0-9\" stroke-width=\"2px\" d=\"M790,227.0 C790,182.0 840.0,182.0 840.0,227.0\" fill=\"none\" stroke=\"currentColor\"/>\n",
       "    <text dy=\"1.25em\" style=\"font-size: 0.8em; letter-spacing: 1px\">\n",
       "        <textPath xlink:href=\"#arrow-0-9\" class=\"displacy-label\" startOffset=\"50%\" fill=\"currentColor\" text-anchor=\"middle\">pobj</textPath>\n",
       "    </text>\n",
       "    <path class=\"displacy-arrowhead\" d=\"M840.0,229.0 L848.0,217.0 832.0,217.0\" fill=\"currentColor\"/>\n",
       "</g>\n",
       "\n",
       "<g class=\"displacy-arrow\">\n",
       "    <path class=\"displacy-arc\" id=\"arrow-0-10\" stroke-width=\"2px\" d=\"M1060,227.0 C1060,182.0 1110.0,182.0 1110.0,227.0\" fill=\"none\" stroke=\"currentColor\"/>\n",
       "    <text dy=\"1.25em\" style=\"font-size: 0.8em; letter-spacing: 1px\">\n",
       "        <textPath xlink:href=\"#arrow-0-10\" class=\"displacy-label\" startOffset=\"50%\" fill=\"currentColor\" text-anchor=\"middle\">advmod</textPath>\n",
       "    </text>\n",
       "    <path class=\"displacy-arrowhead\" d=\"M1060,229.0 L1052,217.0 1068,217.0\" fill=\"currentColor\"/>\n",
       "</g>\n",
       "\n",
       "<g class=\"displacy-arrow\">\n",
       "    <path class=\"displacy-arc\" id=\"arrow-0-11\" stroke-width=\"2px\" d=\"M1150,227.0 C1150,182.0 1200.0,182.0 1200.0,227.0\" fill=\"none\" stroke=\"currentColor\"/>\n",
       "    <text dy=\"1.25em\" style=\"font-size: 0.8em; letter-spacing: 1px\">\n",
       "        <textPath xlink:href=\"#arrow-0-11\" class=\"displacy-label\" startOffset=\"50%\" fill=\"currentColor\" text-anchor=\"middle\">nummod</textPath>\n",
       "    </text>\n",
       "    <path class=\"displacy-arrowhead\" d=\"M1150,229.0 L1142,217.0 1158,217.0\" fill=\"currentColor\"/>\n",
       "</g>\n",
       "\n",
       "<g class=\"displacy-arrow\">\n",
       "    <path class=\"displacy-arc\" id=\"arrow-0-12\" stroke-width=\"2px\" d=\"M970,227.0 C970,92.0 1210.0,92.0 1210.0,227.0\" fill=\"none\" stroke=\"currentColor\"/>\n",
       "    <text dy=\"1.25em\" style=\"font-size: 0.8em; letter-spacing: 1px\">\n",
       "        <textPath xlink:href=\"#arrow-0-12\" class=\"displacy-label\" startOffset=\"50%\" fill=\"currentColor\" text-anchor=\"middle\">attr</textPath>\n",
       "    </text>\n",
       "    <path class=\"displacy-arrowhead\" d=\"M1210.0,229.0 L1218.0,217.0 1202.0,217.0\" fill=\"currentColor\"/>\n",
       "</g>\n",
       "\n",
       "<g class=\"displacy-arrow\">\n",
       "    <path class=\"displacy-arc\" id=\"arrow-0-13\" stroke-width=\"2px\" d=\"M1240,227.0 C1240,182.0 1290.0,182.0 1290.0,227.0\" fill=\"none\" stroke=\"currentColor\"/>\n",
       "    <text dy=\"1.25em\" style=\"font-size: 0.8em; letter-spacing: 1px\">\n",
       "        <textPath xlink:href=\"#arrow-0-13\" class=\"displacy-label\" startOffset=\"50%\" fill=\"currentColor\" text-anchor=\"middle\">prep</textPath>\n",
       "    </text>\n",
       "    <path class=\"displacy-arrowhead\" d=\"M1290.0,229.0 L1298.0,217.0 1282.0,217.0\" fill=\"currentColor\"/>\n",
       "</g>\n",
       "\n",
       "<g class=\"displacy-arrow\">\n",
       "    <path class=\"displacy-arc\" id=\"arrow-0-14\" stroke-width=\"2px\" d=\"M1420,227.0 C1420,182.0 1470.0,182.0 1470.0,227.0\" fill=\"none\" stroke=\"currentColor\"/>\n",
       "    <text dy=\"1.25em\" style=\"font-size: 0.8em; letter-spacing: 1px\">\n",
       "        <textPath xlink:href=\"#arrow-0-14\" class=\"displacy-label\" startOffset=\"50%\" fill=\"currentColor\" text-anchor=\"middle\">nummod</textPath>\n",
       "    </text>\n",
       "    <path class=\"displacy-arrowhead\" d=\"M1420,229.0 L1412,217.0 1428,217.0\" fill=\"currentColor\"/>\n",
       "</g>\n",
       "\n",
       "<g class=\"displacy-arrow\">\n",
       "    <path class=\"displacy-arc\" id=\"arrow-0-15\" stroke-width=\"2px\" d=\"M1330,227.0 C1330,137.0 1475.0,137.0 1475.0,227.0\" fill=\"none\" stroke=\"currentColor\"/>\n",
       "    <text dy=\"1.25em\" style=\"font-size: 0.8em; letter-spacing: 1px\">\n",
       "        <textPath xlink:href=\"#arrow-0-15\" class=\"displacy-label\" startOffset=\"50%\" fill=\"currentColor\" text-anchor=\"middle\">pobj</textPath>\n",
       "    </text>\n",
       "    <path class=\"displacy-arrowhead\" d=\"M1475.0,229.0 L1483.0,217.0 1467.0,217.0\" fill=\"currentColor\"/>\n",
       "</g>\n",
       "</svg>"
      ],
      "text/plain": [
       "<IPython.core.display.HTML object>"
      ]
     },
     "metadata": {},
     "output_type": "display_data"
    }
   ],
   "source": [
    "displacy.render(ex4, style='dep', jupyter=True, options={'distance': 90})"
   ]
  },
  {
   "cell_type": "code",
   "execution_count": 59,
   "metadata": {
    "ExecuteTime": {
     "end_time": "2018-07-07T14:53:30.150101Z",
     "start_time": "2018-07-07T14:53:30.141095Z"
    },
    "hidden": true
   },
   "outputs": [
    {
     "data": {
      "text/plain": [
       "[(Alcoa, employees),\n",
       " (Alcoa, employees),\n",
       " (employment, employees),\n",
       " (14,000, employees)]"
      ]
     },
     "execution_count": 59,
     "metadata": {},
     "output_type": "execute_result"
    }
   ],
   "source": [
    "extract_emp_relations(ex4)"
   ]
  },
  {
   "cell_type": "markdown",
   "metadata": {
    "heading_collapsed": true,
    "hidden": true
   },
   "source": [
    "#### `Org_tok` that is not the company"
   ]
  },
  {
   "cell_type": "markdown",
   "metadata": {
    "hidden": true
   },
   "source": [
    "Desired output: \n",
    "\n",
    "`(Company, employed, 1,562, persons)`"
   ]
  },
  {
   "cell_type": "code",
   "execution_count": 60,
   "metadata": {
    "ExecuteTime": {
     "end_time": "2018-07-07T14:53:30.182121Z",
     "start_time": "2018-07-07T14:53:30.152102Z"
    },
    "hidden": true
   },
   "outputs": [],
   "source": [
    "ex5 = nlp(\"The Company and its subsidiaries employed 1,562 persons at December 31, 2016, 114 of whom are covered by a collective bargaining agreement with District 10 of the International Association of Machinists.\")"
   ]
  },
  {
   "cell_type": "code",
   "execution_count": 61,
   "metadata": {
    "ExecuteTime": {
     "end_time": "2018-07-07T14:53:30.215148Z",
     "start_time": "2018-07-07T14:53:30.184123Z"
    },
    "hidden": true
   },
   "outputs": [
    {
     "data": {
      "text/html": [
       "<table border=\"1\" class=\"dataframe\">\n",
       "  <thead>\n",
       "    <tr style=\"text-align: right;\">\n",
       "      <th></th>\n",
       "      <th>tok_ent</th>\n",
       "      <th>toks</th>\n",
       "      <th>dep</th>\n",
       "      <th>head</th>\n",
       "      <th>head_dep</th>\n",
       "      <th>pos</th>\n",
       "      <th>tag</th>\n",
       "      <th>dep_def</th>\n",
       "      <th>tag_def</th>\n",
       "    </tr>\n",
       "  </thead>\n",
       "  <tbody>\n",
       "    <tr>\n",
       "      <th>0</th>\n",
       "      <td></td>\n",
       "      <td>The</td>\n",
       "      <td>det</td>\n",
       "      <td>Company</td>\n",
       "      <td>nsubj</td>\n",
       "      <td>DET</td>\n",
       "      <td>DT</td>\n",
       "      <td>determiner</td>\n",
       "      <td>determiner</td>\n",
       "    </tr>\n",
       "    <tr>\n",
       "      <th>1</th>\n",
       "      <td></td>\n",
       "      <td>Company</td>\n",
       "      <td>nsubj</td>\n",
       "      <td>employed</td>\n",
       "      <td>ROOT</td>\n",
       "      <td>PROPN</td>\n",
       "      <td>NNP</td>\n",
       "      <td>nominal subject</td>\n",
       "      <td>noun, proper singular</td>\n",
       "    </tr>\n",
       "    <tr>\n",
       "      <th>2</th>\n",
       "      <td></td>\n",
       "      <td>and</td>\n",
       "      <td>cc</td>\n",
       "      <td>Company</td>\n",
       "      <td>nsubj</td>\n",
       "      <td>CCONJ</td>\n",
       "      <td>CC</td>\n",
       "      <td>coordinating conjunction</td>\n",
       "      <td>conjunction, coordinating</td>\n",
       "    </tr>\n",
       "    <tr>\n",
       "      <th>3</th>\n",
       "      <td></td>\n",
       "      <td>its</td>\n",
       "      <td>poss</td>\n",
       "      <td>subsidiaries</td>\n",
       "      <td>conj</td>\n",
       "      <td>ADJ</td>\n",
       "      <td>PRP$</td>\n",
       "      <td>possession modifier</td>\n",
       "      <td>pronoun, possessive</td>\n",
       "    </tr>\n",
       "    <tr>\n",
       "      <th>4</th>\n",
       "      <td></td>\n",
       "      <td>subsidiaries</td>\n",
       "      <td>conj</td>\n",
       "      <td>Company</td>\n",
       "      <td>nsubj</td>\n",
       "      <td>NOUN</td>\n",
       "      <td>NNS</td>\n",
       "      <td>conjunct</td>\n",
       "      <td>noun, plural</td>\n",
       "    </tr>\n",
       "    <tr>\n",
       "      <th>5</th>\n",
       "      <td></td>\n",
       "      <td>employed</td>\n",
       "      <td>ROOT</td>\n",
       "      <td>employed</td>\n",
       "      <td>ROOT</td>\n",
       "      <td>VERB</td>\n",
       "      <td>VBD</td>\n",
       "      <td>None</td>\n",
       "      <td>verb, past tense</td>\n",
       "    </tr>\n",
       "    <tr>\n",
       "      <th>6</th>\n",
       "      <td>CARDINAL</td>\n",
       "      <td>1,562</td>\n",
       "      <td>nummod</td>\n",
       "      <td>persons</td>\n",
       "      <td>dobj</td>\n",
       "      <td>NUM</td>\n",
       "      <td>CD</td>\n",
       "      <td>None</td>\n",
       "      <td>cardinal number</td>\n",
       "    </tr>\n",
       "    <tr>\n",
       "      <th>7</th>\n",
       "      <td>EMP_NOUN</td>\n",
       "      <td>persons</td>\n",
       "      <td>dobj</td>\n",
       "      <td>employed</td>\n",
       "      <td>ROOT</td>\n",
       "      <td>NOUN</td>\n",
       "      <td>NNS</td>\n",
       "      <td>direct object</td>\n",
       "      <td>noun, plural</td>\n",
       "    </tr>\n",
       "    <tr>\n",
       "      <th>8</th>\n",
       "      <td></td>\n",
       "      <td>at</td>\n",
       "      <td>prep</td>\n",
       "      <td>employed</td>\n",
       "      <td>ROOT</td>\n",
       "      <td>ADP</td>\n",
       "      <td>IN</td>\n",
       "      <td>prepositional modifier</td>\n",
       "      <td>conjunction, subordinating or preposition</td>\n",
       "    </tr>\n",
       "    <tr>\n",
       "      <th>9</th>\n",
       "      <td>DATE</td>\n",
       "      <td>December</td>\n",
       "      <td>pobj</td>\n",
       "      <td>at</td>\n",
       "      <td>prep</td>\n",
       "      <td>PROPN</td>\n",
       "      <td>NNP</td>\n",
       "      <td>object of preposition</td>\n",
       "      <td>noun, proper singular</td>\n",
       "    </tr>\n",
       "    <tr>\n",
       "      <th>10</th>\n",
       "      <td>DATE</td>\n",
       "      <td>31</td>\n",
       "      <td>nummod</td>\n",
       "      <td>December</td>\n",
       "      <td>pobj</td>\n",
       "      <td>NUM</td>\n",
       "      <td>CD</td>\n",
       "      <td>None</td>\n",
       "      <td>cardinal number</td>\n",
       "    </tr>\n",
       "    <tr>\n",
       "      <th>11</th>\n",
       "      <td>DATE</td>\n",
       "      <td>,</td>\n",
       "      <td>punct</td>\n",
       "      <td>December</td>\n",
       "      <td>pobj</td>\n",
       "      <td>PUNCT</td>\n",
       "      <td>,</td>\n",
       "      <td>punctuation</td>\n",
       "      <td>punctuation mark, comma</td>\n",
       "    </tr>\n",
       "    <tr>\n",
       "      <th>12</th>\n",
       "      <td>DATE</td>\n",
       "      <td>2016</td>\n",
       "      <td>nummod</td>\n",
       "      <td>December</td>\n",
       "      <td>pobj</td>\n",
       "      <td>NUM</td>\n",
       "      <td>CD</td>\n",
       "      <td>None</td>\n",
       "      <td>cardinal number</td>\n",
       "    </tr>\n",
       "    <tr>\n",
       "      <th>13</th>\n",
       "      <td></td>\n",
       "      <td>,</td>\n",
       "      <td>punct</td>\n",
       "      <td>December</td>\n",
       "      <td>pobj</td>\n",
       "      <td>PUNCT</td>\n",
       "      <td>,</td>\n",
       "      <td>punctuation</td>\n",
       "      <td>punctuation mark, comma</td>\n",
       "    </tr>\n",
       "    <tr>\n",
       "      <th>14</th>\n",
       "      <td>CARDINAL</td>\n",
       "      <td>114</td>\n",
       "      <td>nsubjpass</td>\n",
       "      <td>covered</td>\n",
       "      <td>relcl</td>\n",
       "      <td>NUM</td>\n",
       "      <td>CD</td>\n",
       "      <td>nominal subject (passive)</td>\n",
       "      <td>cardinal number</td>\n",
       "    </tr>\n",
       "    <tr>\n",
       "      <th>15</th>\n",
       "      <td></td>\n",
       "      <td>of</td>\n",
       "      <td>prep</td>\n",
       "      <td>114</td>\n",
       "      <td>nsubjpass</td>\n",
       "      <td>ADP</td>\n",
       "      <td>IN</td>\n",
       "      <td>prepositional modifier</td>\n",
       "      <td>conjunction, subordinating or preposition</td>\n",
       "    </tr>\n",
       "    <tr>\n",
       "      <th>16</th>\n",
       "      <td></td>\n",
       "      <td>whom</td>\n",
       "      <td>pobj</td>\n",
       "      <td>of</td>\n",
       "      <td>prep</td>\n",
       "      <td>NOUN</td>\n",
       "      <td>WP</td>\n",
       "      <td>object of preposition</td>\n",
       "      <td>wh-pronoun, personal</td>\n",
       "    </tr>\n",
       "    <tr>\n",
       "      <th>17</th>\n",
       "      <td></td>\n",
       "      <td>are</td>\n",
       "      <td>auxpass</td>\n",
       "      <td>covered</td>\n",
       "      <td>relcl</td>\n",
       "      <td>VERB</td>\n",
       "      <td>VBP</td>\n",
       "      <td>auxiliary (passive)</td>\n",
       "      <td>verb, non-3rd person singular present</td>\n",
       "    </tr>\n",
       "    <tr>\n",
       "      <th>18</th>\n",
       "      <td></td>\n",
       "      <td>covered</td>\n",
       "      <td>relcl</td>\n",
       "      <td>persons</td>\n",
       "      <td>dobj</td>\n",
       "      <td>VERB</td>\n",
       "      <td>VBN</td>\n",
       "      <td>None</td>\n",
       "      <td>verb, past participle</td>\n",
       "    </tr>\n",
       "    <tr>\n",
       "      <th>19</th>\n",
       "      <td></td>\n",
       "      <td>by</td>\n",
       "      <td>agent</td>\n",
       "      <td>covered</td>\n",
       "      <td>relcl</td>\n",
       "      <td>ADP</td>\n",
       "      <td>IN</td>\n",
       "      <td>agent</td>\n",
       "      <td>conjunction, subordinating or preposition</td>\n",
       "    </tr>\n",
       "    <tr>\n",
       "      <th>20</th>\n",
       "      <td></td>\n",
       "      <td>a</td>\n",
       "      <td>det</td>\n",
       "      <td>agreement</td>\n",
       "      <td>pobj</td>\n",
       "      <td>DET</td>\n",
       "      <td>DT</td>\n",
       "      <td>determiner</td>\n",
       "      <td>determiner</td>\n",
       "    </tr>\n",
       "    <tr>\n",
       "      <th>21</th>\n",
       "      <td></td>\n",
       "      <td>collective</td>\n",
       "      <td>amod</td>\n",
       "      <td>agreement</td>\n",
       "      <td>pobj</td>\n",
       "      <td>ADJ</td>\n",
       "      <td>JJ</td>\n",
       "      <td>adjectival modifier</td>\n",
       "      <td>adjective</td>\n",
       "    </tr>\n",
       "    <tr>\n",
       "      <th>22</th>\n",
       "      <td></td>\n",
       "      <td>bargaining</td>\n",
       "      <td>compound</td>\n",
       "      <td>agreement</td>\n",
       "      <td>pobj</td>\n",
       "      <td>NOUN</td>\n",
       "      <td>NN</td>\n",
       "      <td>None</td>\n",
       "      <td>noun, singular or mass</td>\n",
       "    </tr>\n",
       "    <tr>\n",
       "      <th>23</th>\n",
       "      <td></td>\n",
       "      <td>agreement</td>\n",
       "      <td>pobj</td>\n",
       "      <td>by</td>\n",
       "      <td>agent</td>\n",
       "      <td>NOUN</td>\n",
       "      <td>NN</td>\n",
       "      <td>object of preposition</td>\n",
       "      <td>noun, singular or mass</td>\n",
       "    </tr>\n",
       "    <tr>\n",
       "      <th>24</th>\n",
       "      <td></td>\n",
       "      <td>with</td>\n",
       "      <td>prep</td>\n",
       "      <td>agreement</td>\n",
       "      <td>pobj</td>\n",
       "      <td>ADP</td>\n",
       "      <td>IN</td>\n",
       "      <td>prepositional modifier</td>\n",
       "      <td>conjunction, subordinating or preposition</td>\n",
       "    </tr>\n",
       "    <tr>\n",
       "      <th>25</th>\n",
       "      <td>FAC</td>\n",
       "      <td>District</td>\n",
       "      <td>pobj</td>\n",
       "      <td>with</td>\n",
       "      <td>prep</td>\n",
       "      <td>PROPN</td>\n",
       "      <td>NNP</td>\n",
       "      <td>object of preposition</td>\n",
       "      <td>noun, proper singular</td>\n",
       "    </tr>\n",
       "    <tr>\n",
       "      <th>26</th>\n",
       "      <td>FAC</td>\n",
       "      <td>10</td>\n",
       "      <td>nummod</td>\n",
       "      <td>District</td>\n",
       "      <td>pobj</td>\n",
       "      <td>NUM</td>\n",
       "      <td>CD</td>\n",
       "      <td>None</td>\n",
       "      <td>cardinal number</td>\n",
       "    </tr>\n",
       "    <tr>\n",
       "      <th>27</th>\n",
       "      <td></td>\n",
       "      <td>of</td>\n",
       "      <td>prep</td>\n",
       "      <td>10</td>\n",
       "      <td>nummod</td>\n",
       "      <td>ADP</td>\n",
       "      <td>IN</td>\n",
       "      <td>prepositional modifier</td>\n",
       "      <td>conjunction, subordinating or preposition</td>\n",
       "    </tr>\n",
       "    <tr>\n",
       "      <th>28</th>\n",
       "      <td>ORG</td>\n",
       "      <td>the</td>\n",
       "      <td>det</td>\n",
       "      <td>Association</td>\n",
       "      <td>pobj</td>\n",
       "      <td>DET</td>\n",
       "      <td>DT</td>\n",
       "      <td>determiner</td>\n",
       "      <td>determiner</td>\n",
       "    </tr>\n",
       "    <tr>\n",
       "      <th>29</th>\n",
       "      <td>ORG</td>\n",
       "      <td>International</td>\n",
       "      <td>compound</td>\n",
       "      <td>Association</td>\n",
       "      <td>pobj</td>\n",
       "      <td>PROPN</td>\n",
       "      <td>NNP</td>\n",
       "      <td>None</td>\n",
       "      <td>noun, proper singular</td>\n",
       "    </tr>\n",
       "    <tr>\n",
       "      <th>30</th>\n",
       "      <td>ORG</td>\n",
       "      <td>Association</td>\n",
       "      <td>pobj</td>\n",
       "      <td>of</td>\n",
       "      <td>prep</td>\n",
       "      <td>PROPN</td>\n",
       "      <td>NNP</td>\n",
       "      <td>object of preposition</td>\n",
       "      <td>noun, proper singular</td>\n",
       "    </tr>\n",
       "    <tr>\n",
       "      <th>31</th>\n",
       "      <td>ORG</td>\n",
       "      <td>of</td>\n",
       "      <td>prep</td>\n",
       "      <td>Association</td>\n",
       "      <td>pobj</td>\n",
       "      <td>ADP</td>\n",
       "      <td>IN</td>\n",
       "      <td>prepositional modifier</td>\n",
       "      <td>conjunction, subordinating or preposition</td>\n",
       "    </tr>\n",
       "    <tr>\n",
       "      <th>32</th>\n",
       "      <td>ORG</td>\n",
       "      <td>Machinists</td>\n",
       "      <td>pobj</td>\n",
       "      <td>of</td>\n",
       "      <td>prep</td>\n",
       "      <td>PROPN</td>\n",
       "      <td>NNPS</td>\n",
       "      <td>object of preposition</td>\n",
       "      <td>noun, proper plural</td>\n",
       "    </tr>\n",
       "    <tr>\n",
       "      <th>33</th>\n",
       "      <td></td>\n",
       "      <td>.</td>\n",
       "      <td>punct</td>\n",
       "      <td>employed</td>\n",
       "      <td>ROOT</td>\n",
       "      <td>PUNCT</td>\n",
       "      <td>.</td>\n",
       "      <td>punctuation</td>\n",
       "      <td>punctuation mark, sentence closer</td>\n",
       "    </tr>\n",
       "  </tbody>\n",
       "</table>"
      ],
      "text/plain": [
       "<IPython.core.display.HTML object>"
      ]
     },
     "metadata": {},
     "output_type": "display_data"
    }
   ],
   "source": [
    "print_df(make_tok_df(ex5))"
   ]
  },
  {
   "cell_type": "code",
   "execution_count": 62,
   "metadata": {
    "ExecuteTime": {
     "end_time": "2018-07-07T14:53:30.273192Z",
     "start_time": "2018-07-07T14:53:30.217150Z"
    },
    "hidden": true
   },
   "outputs": [
    {
     "name": "stdout",
     "output_type": "stream",
     "text": [
      "doc is: \n",
      "The Company and its subsidiaries employed 1,562 persons at December 31, 2016, 114 of whom are covered by a collective bargaining agreement with District 10 of the International Association of Machinists.\n",
      "--------------------------------------------------\n",
      "Entities are: \n"
     ]
    },
    {
     "data": {
      "text/html": [
       "<table border=\"1\" class=\"dataframe\">\n",
       "  <thead>\n",
       "    <tr style=\"text-align: right;\">\n",
       "      <th></th>\n",
       "      <th>tok_i</th>\n",
       "      <th>entity</th>\n",
       "      <th>ent_label</th>\n",
       "      <th>root</th>\n",
       "      <th>root_dep</th>\n",
       "      <th>dep_def</th>\n",
       "      <th>root_head</th>\n",
       "      <th>root_head_dep</th>\n",
       "      <th>root_head_pos</th>\n",
       "    </tr>\n",
       "  </thead>\n",
       "  <tbody>\n",
       "    <tr>\n",
       "      <th>0</th>\n",
       "      <td>6</td>\n",
       "      <td>1,562</td>\n",
       "      <td>CARDINAL</td>\n",
       "      <td>1,562</td>\n",
       "      <td>nummod</td>\n",
       "      <td>None</td>\n",
       "      <td>persons</td>\n",
       "      <td>dobj</td>\n",
       "      <td>NOUN</td>\n",
       "    </tr>\n",
       "    <tr>\n",
       "      <th>1</th>\n",
       "      <td>7</td>\n",
       "      <td>persons</td>\n",
       "      <td>EMP_NOUN</td>\n",
       "      <td>persons</td>\n",
       "      <td>dobj</td>\n",
       "      <td>direct object</td>\n",
       "      <td>employed</td>\n",
       "      <td>ROOT</td>\n",
       "      <td>VERB</td>\n",
       "    </tr>\n",
       "    <tr>\n",
       "      <th>2</th>\n",
       "      <td>9</td>\n",
       "      <td>December 31, 2016</td>\n",
       "      <td>DATE</td>\n",
       "      <td>December</td>\n",
       "      <td>pobj</td>\n",
       "      <td>object of preposition</td>\n",
       "      <td>at</td>\n",
       "      <td>prep</td>\n",
       "      <td>ADP</td>\n",
       "    </tr>\n",
       "    <tr>\n",
       "      <th>3</th>\n",
       "      <td>14</td>\n",
       "      <td>114</td>\n",
       "      <td>CARDINAL</td>\n",
       "      <td>114</td>\n",
       "      <td>nsubjpass</td>\n",
       "      <td>nominal subject (passive)</td>\n",
       "      <td>covered</td>\n",
       "      <td>relcl</td>\n",
       "      <td>VERB</td>\n",
       "    </tr>\n",
       "    <tr>\n",
       "      <th>4</th>\n",
       "      <td>25</td>\n",
       "      <td>District 10</td>\n",
       "      <td>FAC</td>\n",
       "      <td>District</td>\n",
       "      <td>pobj</td>\n",
       "      <td>object of preposition</td>\n",
       "      <td>with</td>\n",
       "      <td>prep</td>\n",
       "      <td>ADP</td>\n",
       "    </tr>\n",
       "    <tr>\n",
       "      <th>5</th>\n",
       "      <td>28</td>\n",
       "      <td>the International Association of Machinists</td>\n",
       "      <td>ORG</td>\n",
       "      <td>Association</td>\n",
       "      <td>pobj</td>\n",
       "      <td>object of preposition</td>\n",
       "      <td>of</td>\n",
       "      <td>prep</td>\n",
       "      <td>ADP</td>\n",
       "    </tr>\n",
       "  </tbody>\n",
       "</table>"
      ],
      "text/plain": [
       "<IPython.core.display.HTML object>"
      ]
     },
     "metadata": {},
     "output_type": "display_data"
    },
    {
     "name": "stdout",
     "output_type": "stream",
     "text": [
      "--------------------------------------------------\n",
      "Noun chunks are: \n"
     ]
    },
    {
     "data": {
      "text/html": [
       "<table border=\"1\" class=\"dataframe\">\n",
       "  <thead>\n",
       "    <tr style=\"text-align: right;\">\n",
       "      <th></th>\n",
       "      <th>tok_i</th>\n",
       "      <th>noun_chunk</th>\n",
       "      <th>NP</th>\n",
       "      <th>root</th>\n",
       "      <th>root_dep</th>\n",
       "      <th>dep_def</th>\n",
       "      <th>root_head</th>\n",
       "      <th>root_head_dep</th>\n",
       "      <th>root_head_pos</th>\n",
       "    </tr>\n",
       "  </thead>\n",
       "  <tbody>\n",
       "    <tr>\n",
       "      <th>0</th>\n",
       "      <td>0</td>\n",
       "      <td>The Company</td>\n",
       "      <td>NP</td>\n",
       "      <td>Company</td>\n",
       "      <td>nsubj</td>\n",
       "      <td>nominal subject</td>\n",
       "      <td>employed</td>\n",
       "      <td>ROOT</td>\n",
       "      <td>VERB</td>\n",
       "    </tr>\n",
       "    <tr>\n",
       "      <th>1</th>\n",
       "      <td>3</td>\n",
       "      <td>its subsidiaries</td>\n",
       "      <td>NP</td>\n",
       "      <td>subsidiaries</td>\n",
       "      <td>conj</td>\n",
       "      <td>conjunct</td>\n",
       "      <td>Company</td>\n",
       "      <td>nsubj</td>\n",
       "      <td>PROPN</td>\n",
       "    </tr>\n",
       "    <tr>\n",
       "      <th>2</th>\n",
       "      <td>6</td>\n",
       "      <td>1,562 persons</td>\n",
       "      <td>NP</td>\n",
       "      <td>persons</td>\n",
       "      <td>dobj</td>\n",
       "      <td>direct object</td>\n",
       "      <td>employed</td>\n",
       "      <td>ROOT</td>\n",
       "      <td>VERB</td>\n",
       "    </tr>\n",
       "    <tr>\n",
       "      <th>3</th>\n",
       "      <td>9</td>\n",
       "      <td>December</td>\n",
       "      <td>NP</td>\n",
       "      <td>December</td>\n",
       "      <td>pobj</td>\n",
       "      <td>object of preposition</td>\n",
       "      <td>at</td>\n",
       "      <td>prep</td>\n",
       "      <td>ADP</td>\n",
       "    </tr>\n",
       "    <tr>\n",
       "      <th>4</th>\n",
       "      <td>16</td>\n",
       "      <td>whom</td>\n",
       "      <td>NP</td>\n",
       "      <td>whom</td>\n",
       "      <td>pobj</td>\n",
       "      <td>object of preposition</td>\n",
       "      <td>of</td>\n",
       "      <td>prep</td>\n",
       "      <td>ADP</td>\n",
       "    </tr>\n",
       "    <tr>\n",
       "      <th>5</th>\n",
       "      <td>20</td>\n",
       "      <td>a collective bargaining agreement</td>\n",
       "      <td>NP</td>\n",
       "      <td>agreement</td>\n",
       "      <td>pobj</td>\n",
       "      <td>object of preposition</td>\n",
       "      <td>by</td>\n",
       "      <td>agent</td>\n",
       "      <td>ADP</td>\n",
       "    </tr>\n",
       "    <tr>\n",
       "      <th>6</th>\n",
       "      <td>25</td>\n",
       "      <td>District</td>\n",
       "      <td>NP</td>\n",
       "      <td>District</td>\n",
       "      <td>pobj</td>\n",
       "      <td>object of preposition</td>\n",
       "      <td>with</td>\n",
       "      <td>prep</td>\n",
       "      <td>ADP</td>\n",
       "    </tr>\n",
       "    <tr>\n",
       "      <th>7</th>\n",
       "      <td>28</td>\n",
       "      <td>the International Association</td>\n",
       "      <td>NP</td>\n",
       "      <td>Association</td>\n",
       "      <td>pobj</td>\n",
       "      <td>object of preposition</td>\n",
       "      <td>of</td>\n",
       "      <td>prep</td>\n",
       "      <td>ADP</td>\n",
       "    </tr>\n",
       "    <tr>\n",
       "      <th>8</th>\n",
       "      <td>32</td>\n",
       "      <td>Machinists</td>\n",
       "      <td>NP</td>\n",
       "      <td>Machinists</td>\n",
       "      <td>pobj</td>\n",
       "      <td>object of preposition</td>\n",
       "      <td>of</td>\n",
       "      <td>prep</td>\n",
       "      <td>ADP</td>\n",
       "    </tr>\n",
       "  </tbody>\n",
       "</table>"
      ],
      "text/plain": [
       "<IPython.core.display.HTML object>"
      ]
     },
     "metadata": {},
     "output_type": "display_data"
    },
    {
     "name": "stdout",
     "output_type": "stream",
     "text": [
      "--------------------------------------------------\n",
      "Cardinal entities are: \n"
     ]
    },
    {
     "data": {
      "text/html": [
       "<table border=\"1\" class=\"dataframe\">\n",
       "  <thead>\n",
       "    <tr style=\"text-align: right;\">\n",
       "      <th></th>\n",
       "      <th>tok_ent</th>\n",
       "      <th>toks</th>\n",
       "      <th>dep</th>\n",
       "      <th>head</th>\n",
       "      <th>head_dep</th>\n",
       "      <th>pos</th>\n",
       "      <th>tag</th>\n",
       "      <th>dep_def</th>\n",
       "      <th>tag_def</th>\n",
       "    </tr>\n",
       "  </thead>\n",
       "  <tbody>\n",
       "    <tr>\n",
       "      <th>0</th>\n",
       "      <td>CARDINAL</td>\n",
       "      <td>1,562</td>\n",
       "      <td>nummod</td>\n",
       "      <td>persons</td>\n",
       "      <td>dobj</td>\n",
       "      <td>NUM</td>\n",
       "      <td>CD</td>\n",
       "      <td>None</td>\n",
       "      <td>cardinal number</td>\n",
       "    </tr>\n",
       "    <tr>\n",
       "      <th>1</th>\n",
       "      <td>CARDINAL</td>\n",
       "      <td>114</td>\n",
       "      <td>nsubjpass</td>\n",
       "      <td>covered</td>\n",
       "      <td>relcl</td>\n",
       "      <td>NUM</td>\n",
       "      <td>CD</td>\n",
       "      <td>nominal subject (passive)</td>\n",
       "      <td>cardinal number</td>\n",
       "    </tr>\n",
       "  </tbody>\n",
       "</table>"
      ],
      "text/plain": [
       "<IPython.core.display.HTML object>"
      ]
     },
     "metadata": {},
     "output_type": "display_data"
    }
   ],
   "source": [
    "print_doc_info(ex5)"
   ]
  },
  {
   "cell_type": "code",
   "execution_count": 63,
   "metadata": {
    "ExecuteTime": {
     "end_time": "2018-07-07T14:53:30.278194Z",
     "start_time": "2018-07-07T14:53:30.275193Z"
    },
    "hidden": true
   },
   "outputs": [],
   "source": [
    "ex5_emp_tok = ex5[7]"
   ]
  },
  {
   "cell_type": "code",
   "execution_count": 64,
   "metadata": {
    "ExecuteTime": {
     "end_time": "2018-07-07T14:53:30.290202Z",
     "start_time": "2018-07-07T14:53:30.280195Z"
    },
    "hidden": true
   },
   "outputs": [
    {
     "data": {
      "text/plain": [
       "'dobj'"
      ]
     },
     "execution_count": 64,
     "metadata": {},
     "output_type": "execute_result"
    }
   ],
   "source": [
    "ex5_emp_tok.dep_"
   ]
  },
  {
   "cell_type": "code",
   "execution_count": 65,
   "metadata": {
    "ExecuteTime": {
     "end_time": "2018-07-07T14:53:30.302210Z",
     "start_time": "2018-07-07T14:53:30.292204Z"
    },
    "hidden": true
   },
   "outputs": [
    {
     "data": {
      "text/html": [
       "<svg xmlns=\"http://www.w3.org/2000/svg\" xmlns:xlink=\"http://www.w3.org/1999/xlink\" id=\"0\" class=\"displacy\" width=\"3460\" height=\"412.0\" style=\"max-width: none; height: 412.0px; color: #000000; background: #ffffff; font-family: Arial\">\n",
       "<text class=\"displacy-token\" fill=\"currentColor\" text-anchor=\"middle\" y=\"322.0\">\n",
       "    <tspan class=\"displacy-word\" fill=\"currentColor\" x=\"50\">The</tspan>\n",
       "    <tspan class=\"displacy-tag\" dy=\"2em\" fill=\"currentColor\" x=\"50\">DET</tspan>\n",
       "</text>\n",
       "\n",
       "<text class=\"displacy-token\" fill=\"currentColor\" text-anchor=\"middle\" y=\"322.0\">\n",
       "    <tspan class=\"displacy-word\" fill=\"currentColor\" x=\"160\">Company</tspan>\n",
       "    <tspan class=\"displacy-tag\" dy=\"2em\" fill=\"currentColor\" x=\"160\">PROPN</tspan>\n",
       "</text>\n",
       "\n",
       "<text class=\"displacy-token\" fill=\"currentColor\" text-anchor=\"middle\" y=\"322.0\">\n",
       "    <tspan class=\"displacy-word\" fill=\"currentColor\" x=\"270\">and</tspan>\n",
       "    <tspan class=\"displacy-tag\" dy=\"2em\" fill=\"currentColor\" x=\"270\">CCONJ</tspan>\n",
       "</text>\n",
       "\n",
       "<text class=\"displacy-token\" fill=\"currentColor\" text-anchor=\"middle\" y=\"322.0\">\n",
       "    <tspan class=\"displacy-word\" fill=\"currentColor\" x=\"380\">its</tspan>\n",
       "    <tspan class=\"displacy-tag\" dy=\"2em\" fill=\"currentColor\" x=\"380\">ADJ</tspan>\n",
       "</text>\n",
       "\n",
       "<text class=\"displacy-token\" fill=\"currentColor\" text-anchor=\"middle\" y=\"322.0\">\n",
       "    <tspan class=\"displacy-word\" fill=\"currentColor\" x=\"490\">subsidiaries</tspan>\n",
       "    <tspan class=\"displacy-tag\" dy=\"2em\" fill=\"currentColor\" x=\"490\">NOUN</tspan>\n",
       "</text>\n",
       "\n",
       "<text class=\"displacy-token\" fill=\"currentColor\" text-anchor=\"middle\" y=\"322.0\">\n",
       "    <tspan class=\"displacy-word\" fill=\"currentColor\" x=\"600\">employed</tspan>\n",
       "    <tspan class=\"displacy-tag\" dy=\"2em\" fill=\"currentColor\" x=\"600\">VERB</tspan>\n",
       "</text>\n",
       "\n",
       "<text class=\"displacy-token\" fill=\"currentColor\" text-anchor=\"middle\" y=\"322.0\">\n",
       "    <tspan class=\"displacy-word\" fill=\"currentColor\" x=\"710\">1,562</tspan>\n",
       "    <tspan class=\"displacy-tag\" dy=\"2em\" fill=\"currentColor\" x=\"710\">NUM</tspan>\n",
       "</text>\n",
       "\n",
       "<text class=\"displacy-token\" fill=\"currentColor\" text-anchor=\"middle\" y=\"322.0\">\n",
       "    <tspan class=\"displacy-word\" fill=\"currentColor\" x=\"820\">persons</tspan>\n",
       "    <tspan class=\"displacy-tag\" dy=\"2em\" fill=\"currentColor\" x=\"820\">NOUN</tspan>\n",
       "</text>\n",
       "\n",
       "<text class=\"displacy-token\" fill=\"currentColor\" text-anchor=\"middle\" y=\"322.0\">\n",
       "    <tspan class=\"displacy-word\" fill=\"currentColor\" x=\"930\">at</tspan>\n",
       "    <tspan class=\"displacy-tag\" dy=\"2em\" fill=\"currentColor\" x=\"930\">ADP</tspan>\n",
       "</text>\n",
       "\n",
       "<text class=\"displacy-token\" fill=\"currentColor\" text-anchor=\"middle\" y=\"322.0\">\n",
       "    <tspan class=\"displacy-word\" fill=\"currentColor\" x=\"1040\">December</tspan>\n",
       "    <tspan class=\"displacy-tag\" dy=\"2em\" fill=\"currentColor\" x=\"1040\">PROPN</tspan>\n",
       "</text>\n",
       "\n",
       "<text class=\"displacy-token\" fill=\"currentColor\" text-anchor=\"middle\" y=\"322.0\">\n",
       "    <tspan class=\"displacy-word\" fill=\"currentColor\" x=\"1150\">31,</tspan>\n",
       "    <tspan class=\"displacy-tag\" dy=\"2em\" fill=\"currentColor\" x=\"1150\">NUM</tspan>\n",
       "</text>\n",
       "\n",
       "<text class=\"displacy-token\" fill=\"currentColor\" text-anchor=\"middle\" y=\"322.0\">\n",
       "    <tspan class=\"displacy-word\" fill=\"currentColor\" x=\"1260\">2016,</tspan>\n",
       "    <tspan class=\"displacy-tag\" dy=\"2em\" fill=\"currentColor\" x=\"1260\">NUM</tspan>\n",
       "</text>\n",
       "\n",
       "<text class=\"displacy-token\" fill=\"currentColor\" text-anchor=\"middle\" y=\"322.0\">\n",
       "    <tspan class=\"displacy-word\" fill=\"currentColor\" x=\"1370\">114</tspan>\n",
       "    <tspan class=\"displacy-tag\" dy=\"2em\" fill=\"currentColor\" x=\"1370\">NUM</tspan>\n",
       "</text>\n",
       "\n",
       "<text class=\"displacy-token\" fill=\"currentColor\" text-anchor=\"middle\" y=\"322.0\">\n",
       "    <tspan class=\"displacy-word\" fill=\"currentColor\" x=\"1480\">of</tspan>\n",
       "    <tspan class=\"displacy-tag\" dy=\"2em\" fill=\"currentColor\" x=\"1480\">ADP</tspan>\n",
       "</text>\n",
       "\n",
       "<text class=\"displacy-token\" fill=\"currentColor\" text-anchor=\"middle\" y=\"322.0\">\n",
       "    <tspan class=\"displacy-word\" fill=\"currentColor\" x=\"1590\">whom</tspan>\n",
       "    <tspan class=\"displacy-tag\" dy=\"2em\" fill=\"currentColor\" x=\"1590\">NOUN</tspan>\n",
       "</text>\n",
       "\n",
       "<text class=\"displacy-token\" fill=\"currentColor\" text-anchor=\"middle\" y=\"322.0\">\n",
       "    <tspan class=\"displacy-word\" fill=\"currentColor\" x=\"1700\">are</tspan>\n",
       "    <tspan class=\"displacy-tag\" dy=\"2em\" fill=\"currentColor\" x=\"1700\">VERB</tspan>\n",
       "</text>\n",
       "\n",
       "<text class=\"displacy-token\" fill=\"currentColor\" text-anchor=\"middle\" y=\"322.0\">\n",
       "    <tspan class=\"displacy-word\" fill=\"currentColor\" x=\"1810\">covered</tspan>\n",
       "    <tspan class=\"displacy-tag\" dy=\"2em\" fill=\"currentColor\" x=\"1810\">VERB</tspan>\n",
       "</text>\n",
       "\n",
       "<text class=\"displacy-token\" fill=\"currentColor\" text-anchor=\"middle\" y=\"322.0\">\n",
       "    <tspan class=\"displacy-word\" fill=\"currentColor\" x=\"1920\">by</tspan>\n",
       "    <tspan class=\"displacy-tag\" dy=\"2em\" fill=\"currentColor\" x=\"1920\">ADP</tspan>\n",
       "</text>\n",
       "\n",
       "<text class=\"displacy-token\" fill=\"currentColor\" text-anchor=\"middle\" y=\"322.0\">\n",
       "    <tspan class=\"displacy-word\" fill=\"currentColor\" x=\"2030\">a</tspan>\n",
       "    <tspan class=\"displacy-tag\" dy=\"2em\" fill=\"currentColor\" x=\"2030\">DET</tspan>\n",
       "</text>\n",
       "\n",
       "<text class=\"displacy-token\" fill=\"currentColor\" text-anchor=\"middle\" y=\"322.0\">\n",
       "    <tspan class=\"displacy-word\" fill=\"currentColor\" x=\"2140\">collective</tspan>\n",
       "    <tspan class=\"displacy-tag\" dy=\"2em\" fill=\"currentColor\" x=\"2140\">ADJ</tspan>\n",
       "</text>\n",
       "\n",
       "<text class=\"displacy-token\" fill=\"currentColor\" text-anchor=\"middle\" y=\"322.0\">\n",
       "    <tspan class=\"displacy-word\" fill=\"currentColor\" x=\"2250\">bargaining</tspan>\n",
       "    <tspan class=\"displacy-tag\" dy=\"2em\" fill=\"currentColor\" x=\"2250\">NOUN</tspan>\n",
       "</text>\n",
       "\n",
       "<text class=\"displacy-token\" fill=\"currentColor\" text-anchor=\"middle\" y=\"322.0\">\n",
       "    <tspan class=\"displacy-word\" fill=\"currentColor\" x=\"2360\">agreement</tspan>\n",
       "    <tspan class=\"displacy-tag\" dy=\"2em\" fill=\"currentColor\" x=\"2360\">NOUN</tspan>\n",
       "</text>\n",
       "\n",
       "<text class=\"displacy-token\" fill=\"currentColor\" text-anchor=\"middle\" y=\"322.0\">\n",
       "    <tspan class=\"displacy-word\" fill=\"currentColor\" x=\"2470\">with</tspan>\n",
       "    <tspan class=\"displacy-tag\" dy=\"2em\" fill=\"currentColor\" x=\"2470\">ADP</tspan>\n",
       "</text>\n",
       "\n",
       "<text class=\"displacy-token\" fill=\"currentColor\" text-anchor=\"middle\" y=\"322.0\">\n",
       "    <tspan class=\"displacy-word\" fill=\"currentColor\" x=\"2580\">District</tspan>\n",
       "    <tspan class=\"displacy-tag\" dy=\"2em\" fill=\"currentColor\" x=\"2580\">PROPN</tspan>\n",
       "</text>\n",
       "\n",
       "<text class=\"displacy-token\" fill=\"currentColor\" text-anchor=\"middle\" y=\"322.0\">\n",
       "    <tspan class=\"displacy-word\" fill=\"currentColor\" x=\"2690\">10</tspan>\n",
       "    <tspan class=\"displacy-tag\" dy=\"2em\" fill=\"currentColor\" x=\"2690\">NUM</tspan>\n",
       "</text>\n",
       "\n",
       "<text class=\"displacy-token\" fill=\"currentColor\" text-anchor=\"middle\" y=\"322.0\">\n",
       "    <tspan class=\"displacy-word\" fill=\"currentColor\" x=\"2800\">of</tspan>\n",
       "    <tspan class=\"displacy-tag\" dy=\"2em\" fill=\"currentColor\" x=\"2800\">ADP</tspan>\n",
       "</text>\n",
       "\n",
       "<text class=\"displacy-token\" fill=\"currentColor\" text-anchor=\"middle\" y=\"322.0\">\n",
       "    <tspan class=\"displacy-word\" fill=\"currentColor\" x=\"2910\">the</tspan>\n",
       "    <tspan class=\"displacy-tag\" dy=\"2em\" fill=\"currentColor\" x=\"2910\">DET</tspan>\n",
       "</text>\n",
       "\n",
       "<text class=\"displacy-token\" fill=\"currentColor\" text-anchor=\"middle\" y=\"322.0\">\n",
       "    <tspan class=\"displacy-word\" fill=\"currentColor\" x=\"3020\">International</tspan>\n",
       "    <tspan class=\"displacy-tag\" dy=\"2em\" fill=\"currentColor\" x=\"3020\">PROPN</tspan>\n",
       "</text>\n",
       "\n",
       "<text class=\"displacy-token\" fill=\"currentColor\" text-anchor=\"middle\" y=\"322.0\">\n",
       "    <tspan class=\"displacy-word\" fill=\"currentColor\" x=\"3130\">Association</tspan>\n",
       "    <tspan class=\"displacy-tag\" dy=\"2em\" fill=\"currentColor\" x=\"3130\">PROPN</tspan>\n",
       "</text>\n",
       "\n",
       "<text class=\"displacy-token\" fill=\"currentColor\" text-anchor=\"middle\" y=\"322.0\">\n",
       "    <tspan class=\"displacy-word\" fill=\"currentColor\" x=\"3240\">of</tspan>\n",
       "    <tspan class=\"displacy-tag\" dy=\"2em\" fill=\"currentColor\" x=\"3240\">ADP</tspan>\n",
       "</text>\n",
       "\n",
       "<text class=\"displacy-token\" fill=\"currentColor\" text-anchor=\"middle\" y=\"322.0\">\n",
       "    <tspan class=\"displacy-word\" fill=\"currentColor\" x=\"3350\">Machinists.</tspan>\n",
       "    <tspan class=\"displacy-tag\" dy=\"2em\" fill=\"currentColor\" x=\"3350\">PROPN</tspan>\n",
       "</text>\n",
       "\n",
       "<g class=\"displacy-arrow\">\n",
       "    <path class=\"displacy-arc\" id=\"arrow-0-0\" stroke-width=\"2px\" d=\"M70,277.0 C70,222.0 140.0,222.0 140.0,277.0\" fill=\"none\" stroke=\"currentColor\"/>\n",
       "    <text dy=\"1.25em\" style=\"font-size: 0.8em; letter-spacing: 1px\">\n",
       "        <textPath xlink:href=\"#arrow-0-0\" class=\"displacy-label\" startOffset=\"50%\" fill=\"currentColor\" text-anchor=\"middle\">det</textPath>\n",
       "    </text>\n",
       "    <path class=\"displacy-arrowhead\" d=\"M70,279.0 L62,267.0 78,267.0\" fill=\"currentColor\"/>\n",
       "</g>\n",
       "\n",
       "<g class=\"displacy-arrow\">\n",
       "    <path class=\"displacy-arc\" id=\"arrow-0-1\" stroke-width=\"2px\" d=\"M180,277.0 C180,57.0 595.0,57.0 595.0,277.0\" fill=\"none\" stroke=\"currentColor\"/>\n",
       "    <text dy=\"1.25em\" style=\"font-size: 0.8em; letter-spacing: 1px\">\n",
       "        <textPath xlink:href=\"#arrow-0-1\" class=\"displacy-label\" startOffset=\"50%\" fill=\"currentColor\" text-anchor=\"middle\">nsubj</textPath>\n",
       "    </text>\n",
       "    <path class=\"displacy-arrowhead\" d=\"M180,279.0 L172,267.0 188,267.0\" fill=\"currentColor\"/>\n",
       "</g>\n",
       "\n",
       "<g class=\"displacy-arrow\">\n",
       "    <path class=\"displacy-arc\" id=\"arrow-0-2\" stroke-width=\"2px\" d=\"M180,277.0 C180,222.0 250.0,222.0 250.0,277.0\" fill=\"none\" stroke=\"currentColor\"/>\n",
       "    <text dy=\"1.25em\" style=\"font-size: 0.8em; letter-spacing: 1px\">\n",
       "        <textPath xlink:href=\"#arrow-0-2\" class=\"displacy-label\" startOffset=\"50%\" fill=\"currentColor\" text-anchor=\"middle\">cc</textPath>\n",
       "    </text>\n",
       "    <path class=\"displacy-arrowhead\" d=\"M250.0,279.0 L258.0,267.0 242.0,267.0\" fill=\"currentColor\"/>\n",
       "</g>\n",
       "\n",
       "<g class=\"displacy-arrow\">\n",
       "    <path class=\"displacy-arc\" id=\"arrow-0-3\" stroke-width=\"2px\" d=\"M400,277.0 C400,222.0 470.0,222.0 470.0,277.0\" fill=\"none\" stroke=\"currentColor\"/>\n",
       "    <text dy=\"1.25em\" style=\"font-size: 0.8em; letter-spacing: 1px\">\n",
       "        <textPath xlink:href=\"#arrow-0-3\" class=\"displacy-label\" startOffset=\"50%\" fill=\"currentColor\" text-anchor=\"middle\">poss</textPath>\n",
       "    </text>\n",
       "    <path class=\"displacy-arrowhead\" d=\"M400,279.0 L392,267.0 408,267.0\" fill=\"currentColor\"/>\n",
       "</g>\n",
       "\n",
       "<g class=\"displacy-arrow\">\n",
       "    <path class=\"displacy-arc\" id=\"arrow-0-4\" stroke-width=\"2px\" d=\"M180,277.0 C180,112.0 480.0,112.0 480.0,277.0\" fill=\"none\" stroke=\"currentColor\"/>\n",
       "    <text dy=\"1.25em\" style=\"font-size: 0.8em; letter-spacing: 1px\">\n",
       "        <textPath xlink:href=\"#arrow-0-4\" class=\"displacy-label\" startOffset=\"50%\" fill=\"currentColor\" text-anchor=\"middle\">conj</textPath>\n",
       "    </text>\n",
       "    <path class=\"displacy-arrowhead\" d=\"M480.0,279.0 L488.0,267.0 472.0,267.0\" fill=\"currentColor\"/>\n",
       "</g>\n",
       "\n",
       "<g class=\"displacy-arrow\">\n",
       "    <path class=\"displacy-arc\" id=\"arrow-0-5\" stroke-width=\"2px\" d=\"M730,277.0 C730,222.0 800.0,222.0 800.0,277.0\" fill=\"none\" stroke=\"currentColor\"/>\n",
       "    <text dy=\"1.25em\" style=\"font-size: 0.8em; letter-spacing: 1px\">\n",
       "        <textPath xlink:href=\"#arrow-0-5\" class=\"displacy-label\" startOffset=\"50%\" fill=\"currentColor\" text-anchor=\"middle\">nummod</textPath>\n",
       "    </text>\n",
       "    <path class=\"displacy-arrowhead\" d=\"M730,279.0 L722,267.0 738,267.0\" fill=\"currentColor\"/>\n",
       "</g>\n",
       "\n",
       "<g class=\"displacy-arrow\">\n",
       "    <path class=\"displacy-arc\" id=\"arrow-0-6\" stroke-width=\"2px\" d=\"M620,277.0 C620,167.0 805.0,167.0 805.0,277.0\" fill=\"none\" stroke=\"currentColor\"/>\n",
       "    <text dy=\"1.25em\" style=\"font-size: 0.8em; letter-spacing: 1px\">\n",
       "        <textPath xlink:href=\"#arrow-0-6\" class=\"displacy-label\" startOffset=\"50%\" fill=\"currentColor\" text-anchor=\"middle\">dobj</textPath>\n",
       "    </text>\n",
       "    <path class=\"displacy-arrowhead\" d=\"M805.0,279.0 L813.0,267.0 797.0,267.0\" fill=\"currentColor\"/>\n",
       "</g>\n",
       "\n",
       "<g class=\"displacy-arrow\">\n",
       "    <path class=\"displacy-arc\" id=\"arrow-0-7\" stroke-width=\"2px\" d=\"M620,277.0 C620,112.0 920.0,112.0 920.0,277.0\" fill=\"none\" stroke=\"currentColor\"/>\n",
       "    <text dy=\"1.25em\" style=\"font-size: 0.8em; letter-spacing: 1px\">\n",
       "        <textPath xlink:href=\"#arrow-0-7\" class=\"displacy-label\" startOffset=\"50%\" fill=\"currentColor\" text-anchor=\"middle\">prep</textPath>\n",
       "    </text>\n",
       "    <path class=\"displacy-arrowhead\" d=\"M920.0,279.0 L928.0,267.0 912.0,267.0\" fill=\"currentColor\"/>\n",
       "</g>\n",
       "\n",
       "<g class=\"displacy-arrow\">\n",
       "    <path class=\"displacy-arc\" id=\"arrow-0-8\" stroke-width=\"2px\" d=\"M950,277.0 C950,222.0 1020.0,222.0 1020.0,277.0\" fill=\"none\" stroke=\"currentColor\"/>\n",
       "    <text dy=\"1.25em\" style=\"font-size: 0.8em; letter-spacing: 1px\">\n",
       "        <textPath xlink:href=\"#arrow-0-8\" class=\"displacy-label\" startOffset=\"50%\" fill=\"currentColor\" text-anchor=\"middle\">pobj</textPath>\n",
       "    </text>\n",
       "    <path class=\"displacy-arrowhead\" d=\"M1020.0,279.0 L1028.0,267.0 1012.0,267.0\" fill=\"currentColor\"/>\n",
       "</g>\n",
       "\n",
       "<g class=\"displacy-arrow\">\n",
       "    <path class=\"displacy-arc\" id=\"arrow-0-9\" stroke-width=\"2px\" d=\"M1060,277.0 C1060,222.0 1130.0,222.0 1130.0,277.0\" fill=\"none\" stroke=\"currentColor\"/>\n",
       "    <text dy=\"1.25em\" style=\"font-size: 0.8em; letter-spacing: 1px\">\n",
       "        <textPath xlink:href=\"#arrow-0-9\" class=\"displacy-label\" startOffset=\"50%\" fill=\"currentColor\" text-anchor=\"middle\">nummod</textPath>\n",
       "    </text>\n",
       "    <path class=\"displacy-arrowhead\" d=\"M1130.0,279.0 L1138.0,267.0 1122.0,267.0\" fill=\"currentColor\"/>\n",
       "</g>\n",
       "\n",
       "<g class=\"displacy-arrow\">\n",
       "    <path class=\"displacy-arc\" id=\"arrow-0-10\" stroke-width=\"2px\" d=\"M1060,277.0 C1060,167.0 1245.0,167.0 1245.0,277.0\" fill=\"none\" stroke=\"currentColor\"/>\n",
       "    <text dy=\"1.25em\" style=\"font-size: 0.8em; letter-spacing: 1px\">\n",
       "        <textPath xlink:href=\"#arrow-0-10\" class=\"displacy-label\" startOffset=\"50%\" fill=\"currentColor\" text-anchor=\"middle\">nummod</textPath>\n",
       "    </text>\n",
       "    <path class=\"displacy-arrowhead\" d=\"M1245.0,279.0 L1253.0,267.0 1237.0,267.0\" fill=\"currentColor\"/>\n",
       "</g>\n",
       "\n",
       "<g class=\"displacy-arrow\">\n",
       "    <path class=\"displacy-arc\" id=\"arrow-0-11\" stroke-width=\"2px\" d=\"M1390,277.0 C1390,57.0 1805.0,57.0 1805.0,277.0\" fill=\"none\" stroke=\"currentColor\"/>\n",
       "    <text dy=\"1.25em\" style=\"font-size: 0.8em; letter-spacing: 1px\">\n",
       "        <textPath xlink:href=\"#arrow-0-11\" class=\"displacy-label\" startOffset=\"50%\" fill=\"currentColor\" text-anchor=\"middle\">nsubjpass</textPath>\n",
       "    </text>\n",
       "    <path class=\"displacy-arrowhead\" d=\"M1390,279.0 L1382,267.0 1398,267.0\" fill=\"currentColor\"/>\n",
       "</g>\n",
       "\n",
       "<g class=\"displacy-arrow\">\n",
       "    <path class=\"displacy-arc\" id=\"arrow-0-12\" stroke-width=\"2px\" d=\"M1390,277.0 C1390,222.0 1460.0,222.0 1460.0,277.0\" fill=\"none\" stroke=\"currentColor\"/>\n",
       "    <text dy=\"1.25em\" style=\"font-size: 0.8em; letter-spacing: 1px\">\n",
       "        <textPath xlink:href=\"#arrow-0-12\" class=\"displacy-label\" startOffset=\"50%\" fill=\"currentColor\" text-anchor=\"middle\">prep</textPath>\n",
       "    </text>\n",
       "    <path class=\"displacy-arrowhead\" d=\"M1460.0,279.0 L1468.0,267.0 1452.0,267.0\" fill=\"currentColor\"/>\n",
       "</g>\n",
       "\n",
       "<g class=\"displacy-arrow\">\n",
       "    <path class=\"displacy-arc\" id=\"arrow-0-13\" stroke-width=\"2px\" d=\"M1500,277.0 C1500,222.0 1570.0,222.0 1570.0,277.0\" fill=\"none\" stroke=\"currentColor\"/>\n",
       "    <text dy=\"1.25em\" style=\"font-size: 0.8em; letter-spacing: 1px\">\n",
       "        <textPath xlink:href=\"#arrow-0-13\" class=\"displacy-label\" startOffset=\"50%\" fill=\"currentColor\" text-anchor=\"middle\">pobj</textPath>\n",
       "    </text>\n",
       "    <path class=\"displacy-arrowhead\" d=\"M1570.0,279.0 L1578.0,267.0 1562.0,267.0\" fill=\"currentColor\"/>\n",
       "</g>\n",
       "\n",
       "<g class=\"displacy-arrow\">\n",
       "    <path class=\"displacy-arc\" id=\"arrow-0-14\" stroke-width=\"2px\" d=\"M1720,277.0 C1720,222.0 1790.0,222.0 1790.0,277.0\" fill=\"none\" stroke=\"currentColor\"/>\n",
       "    <text dy=\"1.25em\" style=\"font-size: 0.8em; letter-spacing: 1px\">\n",
       "        <textPath xlink:href=\"#arrow-0-14\" class=\"displacy-label\" startOffset=\"50%\" fill=\"currentColor\" text-anchor=\"middle\">auxpass</textPath>\n",
       "    </text>\n",
       "    <path class=\"displacy-arrowhead\" d=\"M1720,279.0 L1712,267.0 1728,267.0\" fill=\"currentColor\"/>\n",
       "</g>\n",
       "\n",
       "<g class=\"displacy-arrow\">\n",
       "    <path class=\"displacy-arc\" id=\"arrow-0-15\" stroke-width=\"2px\" d=\"M840,277.0 C840,2.0 1810.0,2.0 1810.0,277.0\" fill=\"none\" stroke=\"currentColor\"/>\n",
       "    <text dy=\"1.25em\" style=\"font-size: 0.8em; letter-spacing: 1px\">\n",
       "        <textPath xlink:href=\"#arrow-0-15\" class=\"displacy-label\" startOffset=\"50%\" fill=\"currentColor\" text-anchor=\"middle\">relcl</textPath>\n",
       "    </text>\n",
       "    <path class=\"displacy-arrowhead\" d=\"M1810.0,279.0 L1818.0,267.0 1802.0,267.0\" fill=\"currentColor\"/>\n",
       "</g>\n",
       "\n",
       "<g class=\"displacy-arrow\">\n",
       "    <path class=\"displacy-arc\" id=\"arrow-0-16\" stroke-width=\"2px\" d=\"M1830,277.0 C1830,222.0 1900.0,222.0 1900.0,277.0\" fill=\"none\" stroke=\"currentColor\"/>\n",
       "    <text dy=\"1.25em\" style=\"font-size: 0.8em; letter-spacing: 1px\">\n",
       "        <textPath xlink:href=\"#arrow-0-16\" class=\"displacy-label\" startOffset=\"50%\" fill=\"currentColor\" text-anchor=\"middle\">agent</textPath>\n",
       "    </text>\n",
       "    <path class=\"displacy-arrowhead\" d=\"M1900.0,279.0 L1908.0,267.0 1892.0,267.0\" fill=\"currentColor\"/>\n",
       "</g>\n",
       "\n",
       "<g class=\"displacy-arrow\">\n",
       "    <path class=\"displacy-arc\" id=\"arrow-0-17\" stroke-width=\"2px\" d=\"M2050,277.0 C2050,112.0 2350.0,112.0 2350.0,277.0\" fill=\"none\" stroke=\"currentColor\"/>\n",
       "    <text dy=\"1.25em\" style=\"font-size: 0.8em; letter-spacing: 1px\">\n",
       "        <textPath xlink:href=\"#arrow-0-17\" class=\"displacy-label\" startOffset=\"50%\" fill=\"currentColor\" text-anchor=\"middle\">det</textPath>\n",
       "    </text>\n",
       "    <path class=\"displacy-arrowhead\" d=\"M2050,279.0 L2042,267.0 2058,267.0\" fill=\"currentColor\"/>\n",
       "</g>\n",
       "\n",
       "<g class=\"displacy-arrow\">\n",
       "    <path class=\"displacy-arc\" id=\"arrow-0-18\" stroke-width=\"2px\" d=\"M2160,277.0 C2160,167.0 2345.0,167.0 2345.0,277.0\" fill=\"none\" stroke=\"currentColor\"/>\n",
       "    <text dy=\"1.25em\" style=\"font-size: 0.8em; letter-spacing: 1px\">\n",
       "        <textPath xlink:href=\"#arrow-0-18\" class=\"displacy-label\" startOffset=\"50%\" fill=\"currentColor\" text-anchor=\"middle\">amod</textPath>\n",
       "    </text>\n",
       "    <path class=\"displacy-arrowhead\" d=\"M2160,279.0 L2152,267.0 2168,267.0\" fill=\"currentColor\"/>\n",
       "</g>\n",
       "\n",
       "<g class=\"displacy-arrow\">\n",
       "    <path class=\"displacy-arc\" id=\"arrow-0-19\" stroke-width=\"2px\" d=\"M2270,277.0 C2270,222.0 2340.0,222.0 2340.0,277.0\" fill=\"none\" stroke=\"currentColor\"/>\n",
       "    <text dy=\"1.25em\" style=\"font-size: 0.8em; letter-spacing: 1px\">\n",
       "        <textPath xlink:href=\"#arrow-0-19\" class=\"displacy-label\" startOffset=\"50%\" fill=\"currentColor\" text-anchor=\"middle\">compound</textPath>\n",
       "    </text>\n",
       "    <path class=\"displacy-arrowhead\" d=\"M2270,279.0 L2262,267.0 2278,267.0\" fill=\"currentColor\"/>\n",
       "</g>\n",
       "\n",
       "<g class=\"displacy-arrow\">\n",
       "    <path class=\"displacy-arc\" id=\"arrow-0-20\" stroke-width=\"2px\" d=\"M1940,277.0 C1940,57.0 2355.0,57.0 2355.0,277.0\" fill=\"none\" stroke=\"currentColor\"/>\n",
       "    <text dy=\"1.25em\" style=\"font-size: 0.8em; letter-spacing: 1px\">\n",
       "        <textPath xlink:href=\"#arrow-0-20\" class=\"displacy-label\" startOffset=\"50%\" fill=\"currentColor\" text-anchor=\"middle\">pobj</textPath>\n",
       "    </text>\n",
       "    <path class=\"displacy-arrowhead\" d=\"M2355.0,279.0 L2363.0,267.0 2347.0,267.0\" fill=\"currentColor\"/>\n",
       "</g>\n",
       "\n",
       "<g class=\"displacy-arrow\">\n",
       "    <path class=\"displacy-arc\" id=\"arrow-0-21\" stroke-width=\"2px\" d=\"M2380,277.0 C2380,222.0 2450.0,222.0 2450.0,277.0\" fill=\"none\" stroke=\"currentColor\"/>\n",
       "    <text dy=\"1.25em\" style=\"font-size: 0.8em; letter-spacing: 1px\">\n",
       "        <textPath xlink:href=\"#arrow-0-21\" class=\"displacy-label\" startOffset=\"50%\" fill=\"currentColor\" text-anchor=\"middle\">prep</textPath>\n",
       "    </text>\n",
       "    <path class=\"displacy-arrowhead\" d=\"M2450.0,279.0 L2458.0,267.0 2442.0,267.0\" fill=\"currentColor\"/>\n",
       "</g>\n",
       "\n",
       "<g class=\"displacy-arrow\">\n",
       "    <path class=\"displacy-arc\" id=\"arrow-0-22\" stroke-width=\"2px\" d=\"M2490,277.0 C2490,222.0 2560.0,222.0 2560.0,277.0\" fill=\"none\" stroke=\"currentColor\"/>\n",
       "    <text dy=\"1.25em\" style=\"font-size: 0.8em; letter-spacing: 1px\">\n",
       "        <textPath xlink:href=\"#arrow-0-22\" class=\"displacy-label\" startOffset=\"50%\" fill=\"currentColor\" text-anchor=\"middle\">pobj</textPath>\n",
       "    </text>\n",
       "    <path class=\"displacy-arrowhead\" d=\"M2560.0,279.0 L2568.0,267.0 2552.0,267.0\" fill=\"currentColor\"/>\n",
       "</g>\n",
       "\n",
       "<g class=\"displacy-arrow\">\n",
       "    <path class=\"displacy-arc\" id=\"arrow-0-23\" stroke-width=\"2px\" d=\"M2600,277.0 C2600,222.0 2670.0,222.0 2670.0,277.0\" fill=\"none\" stroke=\"currentColor\"/>\n",
       "    <text dy=\"1.25em\" style=\"font-size: 0.8em; letter-spacing: 1px\">\n",
       "        <textPath xlink:href=\"#arrow-0-23\" class=\"displacy-label\" startOffset=\"50%\" fill=\"currentColor\" text-anchor=\"middle\">nummod</textPath>\n",
       "    </text>\n",
       "    <path class=\"displacy-arrowhead\" d=\"M2670.0,279.0 L2678.0,267.0 2662.0,267.0\" fill=\"currentColor\"/>\n",
       "</g>\n",
       "\n",
       "<g class=\"displacy-arrow\">\n",
       "    <path class=\"displacy-arc\" id=\"arrow-0-24\" stroke-width=\"2px\" d=\"M2710,277.0 C2710,222.0 2780.0,222.0 2780.0,277.0\" fill=\"none\" stroke=\"currentColor\"/>\n",
       "    <text dy=\"1.25em\" style=\"font-size: 0.8em; letter-spacing: 1px\">\n",
       "        <textPath xlink:href=\"#arrow-0-24\" class=\"displacy-label\" startOffset=\"50%\" fill=\"currentColor\" text-anchor=\"middle\">prep</textPath>\n",
       "    </text>\n",
       "    <path class=\"displacy-arrowhead\" d=\"M2780.0,279.0 L2788.0,267.0 2772.0,267.0\" fill=\"currentColor\"/>\n",
       "</g>\n",
       "\n",
       "<g class=\"displacy-arrow\">\n",
       "    <path class=\"displacy-arc\" id=\"arrow-0-25\" stroke-width=\"2px\" d=\"M2930,277.0 C2930,167.0 3115.0,167.0 3115.0,277.0\" fill=\"none\" stroke=\"currentColor\"/>\n",
       "    <text dy=\"1.25em\" style=\"font-size: 0.8em; letter-spacing: 1px\">\n",
       "        <textPath xlink:href=\"#arrow-0-25\" class=\"displacy-label\" startOffset=\"50%\" fill=\"currentColor\" text-anchor=\"middle\">det</textPath>\n",
       "    </text>\n",
       "    <path class=\"displacy-arrowhead\" d=\"M2930,279.0 L2922,267.0 2938,267.0\" fill=\"currentColor\"/>\n",
       "</g>\n",
       "\n",
       "<g class=\"displacy-arrow\">\n",
       "    <path class=\"displacy-arc\" id=\"arrow-0-26\" stroke-width=\"2px\" d=\"M3040,277.0 C3040,222.0 3110.0,222.0 3110.0,277.0\" fill=\"none\" stroke=\"currentColor\"/>\n",
       "    <text dy=\"1.25em\" style=\"font-size: 0.8em; letter-spacing: 1px\">\n",
       "        <textPath xlink:href=\"#arrow-0-26\" class=\"displacy-label\" startOffset=\"50%\" fill=\"currentColor\" text-anchor=\"middle\">compound</textPath>\n",
       "    </text>\n",
       "    <path class=\"displacy-arrowhead\" d=\"M3040,279.0 L3032,267.0 3048,267.0\" fill=\"currentColor\"/>\n",
       "</g>\n",
       "\n",
       "<g class=\"displacy-arrow\">\n",
       "    <path class=\"displacy-arc\" id=\"arrow-0-27\" stroke-width=\"2px\" d=\"M2820,277.0 C2820,112.0 3120.0,112.0 3120.0,277.0\" fill=\"none\" stroke=\"currentColor\"/>\n",
       "    <text dy=\"1.25em\" style=\"font-size: 0.8em; letter-spacing: 1px\">\n",
       "        <textPath xlink:href=\"#arrow-0-27\" class=\"displacy-label\" startOffset=\"50%\" fill=\"currentColor\" text-anchor=\"middle\">pobj</textPath>\n",
       "    </text>\n",
       "    <path class=\"displacy-arrowhead\" d=\"M3120.0,279.0 L3128.0,267.0 3112.0,267.0\" fill=\"currentColor\"/>\n",
       "</g>\n",
       "\n",
       "<g class=\"displacy-arrow\">\n",
       "    <path class=\"displacy-arc\" id=\"arrow-0-28\" stroke-width=\"2px\" d=\"M3150,277.0 C3150,222.0 3220.0,222.0 3220.0,277.0\" fill=\"none\" stroke=\"currentColor\"/>\n",
       "    <text dy=\"1.25em\" style=\"font-size: 0.8em; letter-spacing: 1px\">\n",
       "        <textPath xlink:href=\"#arrow-0-28\" class=\"displacy-label\" startOffset=\"50%\" fill=\"currentColor\" text-anchor=\"middle\">prep</textPath>\n",
       "    </text>\n",
       "    <path class=\"displacy-arrowhead\" d=\"M3220.0,279.0 L3228.0,267.0 3212.0,267.0\" fill=\"currentColor\"/>\n",
       "</g>\n",
       "\n",
       "<g class=\"displacy-arrow\">\n",
       "    <path class=\"displacy-arc\" id=\"arrow-0-29\" stroke-width=\"2px\" d=\"M3260,277.0 C3260,222.0 3330.0,222.0 3330.0,277.0\" fill=\"none\" stroke=\"currentColor\"/>\n",
       "    <text dy=\"1.25em\" style=\"font-size: 0.8em; letter-spacing: 1px\">\n",
       "        <textPath xlink:href=\"#arrow-0-29\" class=\"displacy-label\" startOffset=\"50%\" fill=\"currentColor\" text-anchor=\"middle\">pobj</textPath>\n",
       "    </text>\n",
       "    <path class=\"displacy-arrowhead\" d=\"M3330.0,279.0 L3338.0,267.0 3322.0,267.0\" fill=\"currentColor\"/>\n",
       "</g>\n",
       "</svg>"
      ],
      "text/plain": [
       "<IPython.core.display.HTML object>"
      ]
     },
     "metadata": {},
     "output_type": "display_data"
    }
   ],
   "source": [
    "displacy.render(ex5, style='dep', jupyter=True, options={'distance': 110})"
   ]
  },
  {
   "cell_type": "code",
   "execution_count": 66,
   "metadata": {
    "ExecuteTime": {
     "end_time": "2018-07-07T14:53:30.335243Z",
     "start_time": "2018-07-07T14:53:30.304212Z"
    },
    "hidden": true
   },
   "outputs": [
    {
     "name": "stdout",
     "output_type": "stream",
     "text": [
      "employed\n",
      "ROOT\n",
      "[Company]\n",
      "['nsubj', 'dobj', 'prep', 'punct']\n",
      "['NNP', 'NNS', 'IN', '.']\n",
      "[]\n",
      "['', 'B', '', '']\n",
      "[1,562, persons, December 31, 2016, 114, District 10, the International Association of Machinists]\n",
      "['CARDINAL', 'EMP_NOUN', 'DATE', 'CARDINAL', 'FAC', 'ORG']\n",
      "[December 31, 2016]\n"
     ]
    }
   ],
   "source": [
    "print(ex5_emp_tok.head)\n",
    "print(ex5_emp_tok.head.dep_)\n",
    "print([c for c in ex5_emp_tok.head.lefts])\n",
    "print([c.dep_ for c in ex5_emp_tok.head.head.head.children])\n",
    "print([c.tag_ for c in ex5_emp_tok.head.head.head.children])\n",
    "print([r for r in ex5_emp_tok.head.head.head.rights if r.tag_== 'CD'])\n",
    "print([c.ent_iob_ for c in ex5_emp_tok.head.head.head.children])\n",
    "print([e for e in ex5.ents])\n",
    "print([e.label_ for e in ex5.ents])\n",
    "print([e for e in ex5.ents if e.label_ == 'DATE'])"
   ]
  },
  {
   "cell_type": "code",
   "execution_count": 67,
   "metadata": {
    "ExecuteTime": {
     "end_time": "2018-07-07T14:53:30.342246Z",
     "start_time": "2018-07-07T14:53:30.337243Z"
    },
    "hidden": true
   },
   "outputs": [
    {
     "data": {
      "text/plain": [
       "[(the International Association of Machinists, persons),\n",
       " (its, persons),\n",
       " (Company, persons),\n",
       " (1,562, persons)]"
      ]
     },
     "execution_count": 67,
     "metadata": {},
     "output_type": "execute_result"
    }
   ],
   "source": [
    "extract_emp_relations(ex5)"
   ]
  },
  {
   "cell_type": "markdown",
   "metadata": {
    "heading_collapsed": true
   },
   "source": [
    "### `Emp_noun` and `Company_noun`  in subject, `Emp_num` in predicate"
   ]
  },
  {
   "cell_type": "markdown",
   "metadata": {
    "heading_collapsed": true,
    "hidden": true
   },
   "source": [
    "#### `EMP_NOUN` `Company_noun`  `was` (compount predicate)  `Emp_Num` and `Emp_Num`"
   ]
  },
  {
   "cell_type": "markdown",
   "metadata": {
    "hidden": true
   },
   "source": [
    "Examples:"
   ]
  },
  {
   "cell_type": "markdown",
   "metadata": {
    "ExecuteTime": {
     "end_time": "2018-07-03T22:46:48.235389Z",
     "start_time": "2018-07-03T22:46:48.231387Z"
    },
    "hidden": true
   },
   "source": [
    "`\"The number of full-time employees of the Company was approximately 31,800 at December 31, 2016 and 32,300 at December 31, 2015.\"`"
   ]
  },
  {
   "cell_type": "markdown",
   "metadata": {
    "hidden": true
   },
   "source": [
    "Desired output: \n",
    "\n",
    "`(employees, Company, was, 31,800)`"
   ]
  },
  {
   "cell_type": "code",
   "execution_count": 68,
   "metadata": {
    "ExecuteTime": {
     "end_time": "2018-07-07T14:53:30.371266Z",
     "start_time": "2018-07-07T14:53:30.344248Z"
    },
    "hidden": true
   },
   "outputs": [],
   "source": [
    "ex6 = nlp(\"The number of full-time employees of the Company was approximately 31,800 at December 31, 2016 and 32,300 at December 31, 2015.\")"
   ]
  },
  {
   "cell_type": "code",
   "execution_count": 69,
   "metadata": {
    "ExecuteTime": {
     "end_time": "2018-07-07T14:53:30.398284Z",
     "start_time": "2018-07-07T14:53:30.373267Z"
    },
    "hidden": true
   },
   "outputs": [
    {
     "data": {
      "text/html": [
       "<table border=\"1\" class=\"dataframe\">\n",
       "  <thead>\n",
       "    <tr style=\"text-align: right;\">\n",
       "      <th></th>\n",
       "      <th>tok_ent</th>\n",
       "      <th>toks</th>\n",
       "      <th>dep</th>\n",
       "      <th>head</th>\n",
       "      <th>head_dep</th>\n",
       "      <th>pos</th>\n",
       "      <th>tag</th>\n",
       "      <th>dep_def</th>\n",
       "      <th>tag_def</th>\n",
       "    </tr>\n",
       "  </thead>\n",
       "  <tbody>\n",
       "    <tr>\n",
       "      <th>0</th>\n",
       "      <td></td>\n",
       "      <td>The</td>\n",
       "      <td>det</td>\n",
       "      <td>number</td>\n",
       "      <td>nsubj</td>\n",
       "      <td>DET</td>\n",
       "      <td>DT</td>\n",
       "      <td>determiner</td>\n",
       "      <td>determiner</td>\n",
       "    </tr>\n",
       "    <tr>\n",
       "      <th>1</th>\n",
       "      <td></td>\n",
       "      <td>number</td>\n",
       "      <td>nsubj</td>\n",
       "      <td>was</td>\n",
       "      <td>ROOT</td>\n",
       "      <td>NOUN</td>\n",
       "      <td>NN</td>\n",
       "      <td>nominal subject</td>\n",
       "      <td>noun, singular or mass</td>\n",
       "    </tr>\n",
       "    <tr>\n",
       "      <th>2</th>\n",
       "      <td></td>\n",
       "      <td>of</td>\n",
       "      <td>prep</td>\n",
       "      <td>number</td>\n",
       "      <td>nsubj</td>\n",
       "      <td>ADP</td>\n",
       "      <td>IN</td>\n",
       "      <td>prepositional modifier</td>\n",
       "      <td>conjunction, subordinating or preposition</td>\n",
       "    </tr>\n",
       "    <tr>\n",
       "      <th>3</th>\n",
       "      <td></td>\n",
       "      <td>full</td>\n",
       "      <td>amod</td>\n",
       "      <td>time</td>\n",
       "      <td>compound</td>\n",
       "      <td>ADJ</td>\n",
       "      <td>JJ</td>\n",
       "      <td>adjectival modifier</td>\n",
       "      <td>adjective</td>\n",
       "    </tr>\n",
       "    <tr>\n",
       "      <th>4</th>\n",
       "      <td></td>\n",
       "      <td>-</td>\n",
       "      <td>punct</td>\n",
       "      <td>time</td>\n",
       "      <td>compound</td>\n",
       "      <td>PUNCT</td>\n",
       "      <td>HYPH</td>\n",
       "      <td>punctuation</td>\n",
       "      <td>punctuation mark, hyphen</td>\n",
       "    </tr>\n",
       "    <tr>\n",
       "      <th>5</th>\n",
       "      <td></td>\n",
       "      <td>time</td>\n",
       "      <td>compound</td>\n",
       "      <td>employees</td>\n",
       "      <td>pobj</td>\n",
       "      <td>NOUN</td>\n",
       "      <td>NN</td>\n",
       "      <td>None</td>\n",
       "      <td>noun, singular or mass</td>\n",
       "    </tr>\n",
       "    <tr>\n",
       "      <th>6</th>\n",
       "      <td>EMP_NOUN</td>\n",
       "      <td>employees</td>\n",
       "      <td>pobj</td>\n",
       "      <td>of</td>\n",
       "      <td>prep</td>\n",
       "      <td>NOUN</td>\n",
       "      <td>NNS</td>\n",
       "      <td>object of preposition</td>\n",
       "      <td>noun, plural</td>\n",
       "    </tr>\n",
       "    <tr>\n",
       "      <th>7</th>\n",
       "      <td></td>\n",
       "      <td>of</td>\n",
       "      <td>prep</td>\n",
       "      <td>employees</td>\n",
       "      <td>pobj</td>\n",
       "      <td>ADP</td>\n",
       "      <td>IN</td>\n",
       "      <td>prepositional modifier</td>\n",
       "      <td>conjunction, subordinating or preposition</td>\n",
       "    </tr>\n",
       "    <tr>\n",
       "      <th>8</th>\n",
       "      <td></td>\n",
       "      <td>the</td>\n",
       "      <td>det</td>\n",
       "      <td>Company</td>\n",
       "      <td>pobj</td>\n",
       "      <td>DET</td>\n",
       "      <td>DT</td>\n",
       "      <td>determiner</td>\n",
       "      <td>determiner</td>\n",
       "    </tr>\n",
       "    <tr>\n",
       "      <th>9</th>\n",
       "      <td>ORG</td>\n",
       "      <td>Company</td>\n",
       "      <td>pobj</td>\n",
       "      <td>of</td>\n",
       "      <td>prep</td>\n",
       "      <td>PROPN</td>\n",
       "      <td>NNP</td>\n",
       "      <td>object of preposition</td>\n",
       "      <td>noun, proper singular</td>\n",
       "    </tr>\n",
       "    <tr>\n",
       "      <th>10</th>\n",
       "      <td></td>\n",
       "      <td>was</td>\n",
       "      <td>ROOT</td>\n",
       "      <td>was</td>\n",
       "      <td>ROOT</td>\n",
       "      <td>VERB</td>\n",
       "      <td>VBD</td>\n",
       "      <td>None</td>\n",
       "      <td>verb, past tense</td>\n",
       "    </tr>\n",
       "    <tr>\n",
       "      <th>11</th>\n",
       "      <td>CARDINAL</td>\n",
       "      <td>approximately</td>\n",
       "      <td>advmod</td>\n",
       "      <td>31,800</td>\n",
       "      <td>attr</td>\n",
       "      <td>ADV</td>\n",
       "      <td>RB</td>\n",
       "      <td>adverbial modifier</td>\n",
       "      <td>adverb</td>\n",
       "    </tr>\n",
       "    <tr>\n",
       "      <th>12</th>\n",
       "      <td>CARDINAL</td>\n",
       "      <td>31,800</td>\n",
       "      <td>attr</td>\n",
       "      <td>was</td>\n",
       "      <td>ROOT</td>\n",
       "      <td>NUM</td>\n",
       "      <td>CD</td>\n",
       "      <td>attribute</td>\n",
       "      <td>cardinal number</td>\n",
       "    </tr>\n",
       "    <tr>\n",
       "      <th>13</th>\n",
       "      <td></td>\n",
       "      <td>at</td>\n",
       "      <td>prep</td>\n",
       "      <td>was</td>\n",
       "      <td>ROOT</td>\n",
       "      <td>ADP</td>\n",
       "      <td>IN</td>\n",
       "      <td>prepositional modifier</td>\n",
       "      <td>conjunction, subordinating or preposition</td>\n",
       "    </tr>\n",
       "    <tr>\n",
       "      <th>14</th>\n",
       "      <td>DATE</td>\n",
       "      <td>December</td>\n",
       "      <td>pobj</td>\n",
       "      <td>at</td>\n",
       "      <td>prep</td>\n",
       "      <td>PROPN</td>\n",
       "      <td>NNP</td>\n",
       "      <td>object of preposition</td>\n",
       "      <td>noun, proper singular</td>\n",
       "    </tr>\n",
       "    <tr>\n",
       "      <th>15</th>\n",
       "      <td>DATE</td>\n",
       "      <td>31</td>\n",
       "      <td>nummod</td>\n",
       "      <td>December</td>\n",
       "      <td>pobj</td>\n",
       "      <td>NUM</td>\n",
       "      <td>CD</td>\n",
       "      <td>None</td>\n",
       "      <td>cardinal number</td>\n",
       "    </tr>\n",
       "    <tr>\n",
       "      <th>16</th>\n",
       "      <td>DATE</td>\n",
       "      <td>,</td>\n",
       "      <td>punct</td>\n",
       "      <td>December</td>\n",
       "      <td>pobj</td>\n",
       "      <td>PUNCT</td>\n",
       "      <td>,</td>\n",
       "      <td>punctuation</td>\n",
       "      <td>punctuation mark, comma</td>\n",
       "    </tr>\n",
       "    <tr>\n",
       "      <th>17</th>\n",
       "      <td>DATE</td>\n",
       "      <td>2016</td>\n",
       "      <td>nummod</td>\n",
       "      <td>December</td>\n",
       "      <td>pobj</td>\n",
       "      <td>NUM</td>\n",
       "      <td>CD</td>\n",
       "      <td>None</td>\n",
       "      <td>cardinal number</td>\n",
       "    </tr>\n",
       "    <tr>\n",
       "      <th>18</th>\n",
       "      <td></td>\n",
       "      <td>and</td>\n",
       "      <td>cc</td>\n",
       "      <td>was</td>\n",
       "      <td>ROOT</td>\n",
       "      <td>CCONJ</td>\n",
       "      <td>CC</td>\n",
       "      <td>coordinating conjunction</td>\n",
       "      <td>conjunction, coordinating</td>\n",
       "    </tr>\n",
       "    <tr>\n",
       "      <th>19</th>\n",
       "      <td>CARDINAL</td>\n",
       "      <td>32,300</td>\n",
       "      <td>conj</td>\n",
       "      <td>was</td>\n",
       "      <td>ROOT</td>\n",
       "      <td>NUM</td>\n",
       "      <td>CD</td>\n",
       "      <td>conjunct</td>\n",
       "      <td>cardinal number</td>\n",
       "    </tr>\n",
       "    <tr>\n",
       "      <th>20</th>\n",
       "      <td></td>\n",
       "      <td>at</td>\n",
       "      <td>prep</td>\n",
       "      <td>32,300</td>\n",
       "      <td>conj</td>\n",
       "      <td>ADP</td>\n",
       "      <td>IN</td>\n",
       "      <td>prepositional modifier</td>\n",
       "      <td>conjunction, subordinating or preposition</td>\n",
       "    </tr>\n",
       "    <tr>\n",
       "      <th>21</th>\n",
       "      <td>DATE</td>\n",
       "      <td>December</td>\n",
       "      <td>pobj</td>\n",
       "      <td>at</td>\n",
       "      <td>prep</td>\n",
       "      <td>PROPN</td>\n",
       "      <td>NNP</td>\n",
       "      <td>object of preposition</td>\n",
       "      <td>noun, proper singular</td>\n",
       "    </tr>\n",
       "    <tr>\n",
       "      <th>22</th>\n",
       "      <td>DATE</td>\n",
       "      <td>31</td>\n",
       "      <td>nummod</td>\n",
       "      <td>December</td>\n",
       "      <td>pobj</td>\n",
       "      <td>NUM</td>\n",
       "      <td>CD</td>\n",
       "      <td>None</td>\n",
       "      <td>cardinal number</td>\n",
       "    </tr>\n",
       "    <tr>\n",
       "      <th>23</th>\n",
       "      <td>DATE</td>\n",
       "      <td>,</td>\n",
       "      <td>punct</td>\n",
       "      <td>December</td>\n",
       "      <td>pobj</td>\n",
       "      <td>PUNCT</td>\n",
       "      <td>,</td>\n",
       "      <td>punctuation</td>\n",
       "      <td>punctuation mark, comma</td>\n",
       "    </tr>\n",
       "    <tr>\n",
       "      <th>24</th>\n",
       "      <td>DATE</td>\n",
       "      <td>2015</td>\n",
       "      <td>nummod</td>\n",
       "      <td>December</td>\n",
       "      <td>pobj</td>\n",
       "      <td>NUM</td>\n",
       "      <td>CD</td>\n",
       "      <td>None</td>\n",
       "      <td>cardinal number</td>\n",
       "    </tr>\n",
       "    <tr>\n",
       "      <th>25</th>\n",
       "      <td></td>\n",
       "      <td>.</td>\n",
       "      <td>punct</td>\n",
       "      <td>was</td>\n",
       "      <td>ROOT</td>\n",
       "      <td>PUNCT</td>\n",
       "      <td>.</td>\n",
       "      <td>punctuation</td>\n",
       "      <td>punctuation mark, sentence closer</td>\n",
       "    </tr>\n",
       "  </tbody>\n",
       "</table>"
      ],
      "text/plain": [
       "<IPython.core.display.HTML object>"
      ]
     },
     "metadata": {},
     "output_type": "display_data"
    }
   ],
   "source": [
    "print_df(make_tok_df(ex6))"
   ]
  },
  {
   "cell_type": "code",
   "execution_count": 70,
   "metadata": {
    "ExecuteTime": {
     "end_time": "2018-07-07T14:53:30.446396Z",
     "start_time": "2018-07-07T14:53:30.400285Z"
    },
    "hidden": true
   },
   "outputs": [
    {
     "name": "stdout",
     "output_type": "stream",
     "text": [
      "doc is: \n",
      "The number of full-time employees of the Company was approximately 31,800 at December 31, 2016 and 32,300 at December 31, 2015.\n",
      "--------------------------------------------------\n",
      "Entities are: \n"
     ]
    },
    {
     "data": {
      "text/html": [
       "<table border=\"1\" class=\"dataframe\">\n",
       "  <thead>\n",
       "    <tr style=\"text-align: right;\">\n",
       "      <th></th>\n",
       "      <th>tok_i</th>\n",
       "      <th>entity</th>\n",
       "      <th>ent_label</th>\n",
       "      <th>root</th>\n",
       "      <th>root_dep</th>\n",
       "      <th>dep_def</th>\n",
       "      <th>root_head</th>\n",
       "      <th>root_head_dep</th>\n",
       "      <th>root_head_pos</th>\n",
       "    </tr>\n",
       "  </thead>\n",
       "  <tbody>\n",
       "    <tr>\n",
       "      <th>0</th>\n",
       "      <td>6</td>\n",
       "      <td>employees</td>\n",
       "      <td>EMP_NOUN</td>\n",
       "      <td>employees</td>\n",
       "      <td>pobj</td>\n",
       "      <td>object of preposition</td>\n",
       "      <td>of</td>\n",
       "      <td>prep</td>\n",
       "      <td>ADP</td>\n",
       "    </tr>\n",
       "    <tr>\n",
       "      <th>1</th>\n",
       "      <td>9</td>\n",
       "      <td>Company</td>\n",
       "      <td>ORG</td>\n",
       "      <td>Company</td>\n",
       "      <td>pobj</td>\n",
       "      <td>object of preposition</td>\n",
       "      <td>of</td>\n",
       "      <td>prep</td>\n",
       "      <td>ADP</td>\n",
       "    </tr>\n",
       "    <tr>\n",
       "      <th>2</th>\n",
       "      <td>11</td>\n",
       "      <td>approximately 31,800</td>\n",
       "      <td>CARDINAL</td>\n",
       "      <td>31,800</td>\n",
       "      <td>attr</td>\n",
       "      <td>attribute</td>\n",
       "      <td>was</td>\n",
       "      <td>ROOT</td>\n",
       "      <td>VERB</td>\n",
       "    </tr>\n",
       "    <tr>\n",
       "      <th>3</th>\n",
       "      <td>14</td>\n",
       "      <td>December 31, 2016</td>\n",
       "      <td>DATE</td>\n",
       "      <td>December</td>\n",
       "      <td>pobj</td>\n",
       "      <td>object of preposition</td>\n",
       "      <td>at</td>\n",
       "      <td>prep</td>\n",
       "      <td>ADP</td>\n",
       "    </tr>\n",
       "    <tr>\n",
       "      <th>4</th>\n",
       "      <td>19</td>\n",
       "      <td>32,300</td>\n",
       "      <td>CARDINAL</td>\n",
       "      <td>32,300</td>\n",
       "      <td>conj</td>\n",
       "      <td>conjunct</td>\n",
       "      <td>was</td>\n",
       "      <td>ROOT</td>\n",
       "      <td>VERB</td>\n",
       "    </tr>\n",
       "    <tr>\n",
       "      <th>5</th>\n",
       "      <td>21</td>\n",
       "      <td>December 31, 2015</td>\n",
       "      <td>DATE</td>\n",
       "      <td>December</td>\n",
       "      <td>pobj</td>\n",
       "      <td>object of preposition</td>\n",
       "      <td>at</td>\n",
       "      <td>prep</td>\n",
       "      <td>ADP</td>\n",
       "    </tr>\n",
       "  </tbody>\n",
       "</table>"
      ],
      "text/plain": [
       "<IPython.core.display.HTML object>"
      ]
     },
     "metadata": {},
     "output_type": "display_data"
    },
    {
     "name": "stdout",
     "output_type": "stream",
     "text": [
      "--------------------------------------------------\n",
      "Noun chunks are: \n"
     ]
    },
    {
     "data": {
      "text/html": [
       "<table border=\"1\" class=\"dataframe\">\n",
       "  <thead>\n",
       "    <tr style=\"text-align: right;\">\n",
       "      <th></th>\n",
       "      <th>tok_i</th>\n",
       "      <th>noun_chunk</th>\n",
       "      <th>NP</th>\n",
       "      <th>root</th>\n",
       "      <th>root_dep</th>\n",
       "      <th>dep_def</th>\n",
       "      <th>root_head</th>\n",
       "      <th>root_head_dep</th>\n",
       "      <th>root_head_pos</th>\n",
       "    </tr>\n",
       "  </thead>\n",
       "  <tbody>\n",
       "    <tr>\n",
       "      <th>0</th>\n",
       "      <td>0</td>\n",
       "      <td>The number</td>\n",
       "      <td>NP</td>\n",
       "      <td>number</td>\n",
       "      <td>nsubj</td>\n",
       "      <td>nominal subject</td>\n",
       "      <td>was</td>\n",
       "      <td>ROOT</td>\n",
       "      <td>VERB</td>\n",
       "    </tr>\n",
       "    <tr>\n",
       "      <th>1</th>\n",
       "      <td>3</td>\n",
       "      <td>full-time employees</td>\n",
       "      <td>NP</td>\n",
       "      <td>employees</td>\n",
       "      <td>pobj</td>\n",
       "      <td>object of preposition</td>\n",
       "      <td>of</td>\n",
       "      <td>prep</td>\n",
       "      <td>ADP</td>\n",
       "    </tr>\n",
       "    <tr>\n",
       "      <th>2</th>\n",
       "      <td>8</td>\n",
       "      <td>the Company</td>\n",
       "      <td>NP</td>\n",
       "      <td>Company</td>\n",
       "      <td>pobj</td>\n",
       "      <td>object of preposition</td>\n",
       "      <td>of</td>\n",
       "      <td>prep</td>\n",
       "      <td>ADP</td>\n",
       "    </tr>\n",
       "    <tr>\n",
       "      <th>3</th>\n",
       "      <td>14</td>\n",
       "      <td>December</td>\n",
       "      <td>NP</td>\n",
       "      <td>December</td>\n",
       "      <td>pobj</td>\n",
       "      <td>object of preposition</td>\n",
       "      <td>at</td>\n",
       "      <td>prep</td>\n",
       "      <td>ADP</td>\n",
       "    </tr>\n",
       "    <tr>\n",
       "      <th>4</th>\n",
       "      <td>21</td>\n",
       "      <td>December</td>\n",
       "      <td>NP</td>\n",
       "      <td>December</td>\n",
       "      <td>pobj</td>\n",
       "      <td>object of preposition</td>\n",
       "      <td>at</td>\n",
       "      <td>prep</td>\n",
       "      <td>ADP</td>\n",
       "    </tr>\n",
       "  </tbody>\n",
       "</table>"
      ],
      "text/plain": [
       "<IPython.core.display.HTML object>"
      ]
     },
     "metadata": {},
     "output_type": "display_data"
    },
    {
     "name": "stdout",
     "output_type": "stream",
     "text": [
      "--------------------------------------------------\n",
      "Cardinal entities are: \n"
     ]
    },
    {
     "data": {
      "text/html": [
       "<table border=\"1\" class=\"dataframe\">\n",
       "  <thead>\n",
       "    <tr style=\"text-align: right;\">\n",
       "      <th></th>\n",
       "      <th>tok_ent</th>\n",
       "      <th>toks</th>\n",
       "      <th>dep</th>\n",
       "      <th>head</th>\n",
       "      <th>head_dep</th>\n",
       "      <th>pos</th>\n",
       "      <th>tag</th>\n",
       "      <th>dep_def</th>\n",
       "      <th>tag_def</th>\n",
       "    </tr>\n",
       "  </thead>\n",
       "  <tbody>\n",
       "    <tr>\n",
       "      <th>0</th>\n",
       "      <td>CARDINAL</td>\n",
       "      <td>approximately</td>\n",
       "      <td>advmod</td>\n",
       "      <td>31,800</td>\n",
       "      <td>attr</td>\n",
       "      <td>ADV</td>\n",
       "      <td>RB</td>\n",
       "      <td>adverbial modifier</td>\n",
       "      <td>adverb</td>\n",
       "    </tr>\n",
       "    <tr>\n",
       "      <th>1</th>\n",
       "      <td>CARDINAL</td>\n",
       "      <td>31,800</td>\n",
       "      <td>attr</td>\n",
       "      <td>was</td>\n",
       "      <td>ROOT</td>\n",
       "      <td>NUM</td>\n",
       "      <td>CD</td>\n",
       "      <td>attribute</td>\n",
       "      <td>cardinal number</td>\n",
       "    </tr>\n",
       "    <tr>\n",
       "      <th>2</th>\n",
       "      <td>CARDINAL</td>\n",
       "      <td>32,300</td>\n",
       "      <td>conj</td>\n",
       "      <td>was</td>\n",
       "      <td>ROOT</td>\n",
       "      <td>NUM</td>\n",
       "      <td>CD</td>\n",
       "      <td>conjunct</td>\n",
       "      <td>cardinal number</td>\n",
       "    </tr>\n",
       "  </tbody>\n",
       "</table>"
      ],
      "text/plain": [
       "<IPython.core.display.HTML object>"
      ]
     },
     "metadata": {},
     "output_type": "display_data"
    }
   ],
   "source": [
    "print_doc_info(ex6)"
   ]
  },
  {
   "cell_type": "code",
   "execution_count": 71,
   "metadata": {
    "ExecuteTime": {
     "end_time": "2018-07-07T14:53:30.450399Z",
     "start_time": "2018-07-07T14:53:30.448398Z"
    },
    "hidden": true
   },
   "outputs": [],
   "source": [
    "ex6_emp_tok = ex6[6]"
   ]
  },
  {
   "cell_type": "code",
   "execution_count": 72,
   "metadata": {
    "ExecuteTime": {
     "end_time": "2018-07-07T14:53:30.462406Z",
     "start_time": "2018-07-07T14:53:30.452400Z"
    },
    "hidden": true
   },
   "outputs": [
    {
     "data": {
      "text/plain": [
       "'pobj'"
      ]
     },
     "execution_count": 72,
     "metadata": {},
     "output_type": "execute_result"
    }
   ],
   "source": [
    "ex6_emp_tok.dep_"
   ]
  },
  {
   "cell_type": "code",
   "execution_count": 73,
   "metadata": {
    "ExecuteTime": {
     "end_time": "2018-07-07T14:53:30.505435Z",
     "start_time": "2018-07-07T14:53:30.464408Z"
    },
    "hidden": true
   },
   "outputs": [
    {
     "name": "stdout",
     "output_type": "stream",
     "text": [
      "prep\n",
      "number\n",
      "nsubj\n",
      "was\n",
      "ROOT\n",
      "VERB\n",
      "VBD\n",
      "[number, 31,800, at, and, 32,300, .]\n",
      "['nsubj', 'attr', 'prep', 'cc', 'conj', 'punct']\n",
      "['NN', 'CD', 'IN', 'CC', 'CD', '.']\n",
      "[31,800, 32,300]\n",
      "['', 'I', '', '', 'B', '']\n",
      "[employees, Company, approximately 31,800, December 31, 2016, 32,300, December 31, 2015]\n",
      "['EMP_NOUN', 'ORG', 'CARDINAL', 'DATE', 'CARDINAL', 'DATE']\n",
      "[December 31, 2016, December 31, 2015]\n"
     ]
    }
   ],
   "source": [
    "print(ex6_emp_tok.head.dep_)\n",
    "print(ex6_emp_tok.head.head)\n",
    "print(ex6_emp_tok.head.head.dep_)\n",
    "print(ex6_emp_tok.head.head.head)\n",
    "print(ex6_emp_tok.head.head.head.dep_)\n",
    "print(ex6_emp_tok.head.head.head.pos_)\n",
    "print(ex6_emp_tok.head.head.head.tag_)\n",
    "print([c for c in ex6_emp_tok.head.head.head.children])\n",
    "print([c.dep_ for c in ex6_emp_tok.head.head.head.children])\n",
    "print([c.tag_ for c in ex6_emp_tok.head.head.head.children])\n",
    "print([r for r in ex6_emp_tok.head.head.head.rights if r.tag_== 'CD'])\n",
    "print([c.ent_iob_ for c in ex6_emp_tok.head.head.head.children])\n",
    "print([e for e in ex6.ents])\n",
    "print([e.label_ for e in ex6.ents])\n",
    "print([e for e in ex6.ents if e.label_ == 'DATE'])"
   ]
  },
  {
   "cell_type": "code",
   "execution_count": 74,
   "metadata": {
    "ExecuteTime": {
     "end_time": "2018-07-07T14:53:30.514945Z",
     "start_time": "2018-07-07T14:53:30.507940Z"
    },
    "hidden": true
   },
   "outputs": [
    {
     "data": {
      "text/html": [
       "<svg xmlns=\"http://www.w3.org/2000/svg\" xmlns:xlink=\"http://www.w3.org/1999/xlink\" id=\"0\" class=\"displacy\" width=\"2470\" height=\"412.0\" style=\"max-width: none; height: 412.0px; color: #000000; background: #ffffff; font-family: Arial\">\n",
       "<text class=\"displacy-token\" fill=\"currentColor\" text-anchor=\"middle\" y=\"322.0\">\n",
       "    <tspan class=\"displacy-word\" fill=\"currentColor\" x=\"50\">The</tspan>\n",
       "    <tspan class=\"displacy-tag\" dy=\"2em\" fill=\"currentColor\" x=\"50\">DET</tspan>\n",
       "</text>\n",
       "\n",
       "<text class=\"displacy-token\" fill=\"currentColor\" text-anchor=\"middle\" y=\"322.0\">\n",
       "    <tspan class=\"displacy-word\" fill=\"currentColor\" x=\"160\">number</tspan>\n",
       "    <tspan class=\"displacy-tag\" dy=\"2em\" fill=\"currentColor\" x=\"160\">NOUN</tspan>\n",
       "</text>\n",
       "\n",
       "<text class=\"displacy-token\" fill=\"currentColor\" text-anchor=\"middle\" y=\"322.0\">\n",
       "    <tspan class=\"displacy-word\" fill=\"currentColor\" x=\"270\">of</tspan>\n",
       "    <tspan class=\"displacy-tag\" dy=\"2em\" fill=\"currentColor\" x=\"270\">ADP</tspan>\n",
       "</text>\n",
       "\n",
       "<text class=\"displacy-token\" fill=\"currentColor\" text-anchor=\"middle\" y=\"322.0\">\n",
       "    <tspan class=\"displacy-word\" fill=\"currentColor\" x=\"380\">full-</tspan>\n",
       "    <tspan class=\"displacy-tag\" dy=\"2em\" fill=\"currentColor\" x=\"380\">ADJ</tspan>\n",
       "</text>\n",
       "\n",
       "<text class=\"displacy-token\" fill=\"currentColor\" text-anchor=\"middle\" y=\"322.0\">\n",
       "    <tspan class=\"displacy-word\" fill=\"currentColor\" x=\"490\">time</tspan>\n",
       "    <tspan class=\"displacy-tag\" dy=\"2em\" fill=\"currentColor\" x=\"490\">NOUN</tspan>\n",
       "</text>\n",
       "\n",
       "<text class=\"displacy-token\" fill=\"currentColor\" text-anchor=\"middle\" y=\"322.0\">\n",
       "    <tspan class=\"displacy-word\" fill=\"currentColor\" x=\"600\">employees</tspan>\n",
       "    <tspan class=\"displacy-tag\" dy=\"2em\" fill=\"currentColor\" x=\"600\">NOUN</tspan>\n",
       "</text>\n",
       "\n",
       "<text class=\"displacy-token\" fill=\"currentColor\" text-anchor=\"middle\" y=\"322.0\">\n",
       "    <tspan class=\"displacy-word\" fill=\"currentColor\" x=\"710\">of</tspan>\n",
       "    <tspan class=\"displacy-tag\" dy=\"2em\" fill=\"currentColor\" x=\"710\">ADP</tspan>\n",
       "</text>\n",
       "\n",
       "<text class=\"displacy-token\" fill=\"currentColor\" text-anchor=\"middle\" y=\"322.0\">\n",
       "    <tspan class=\"displacy-word\" fill=\"currentColor\" x=\"820\">the</tspan>\n",
       "    <tspan class=\"displacy-tag\" dy=\"2em\" fill=\"currentColor\" x=\"820\">DET</tspan>\n",
       "</text>\n",
       "\n",
       "<text class=\"displacy-token\" fill=\"currentColor\" text-anchor=\"middle\" y=\"322.0\">\n",
       "    <tspan class=\"displacy-word\" fill=\"currentColor\" x=\"930\">Company</tspan>\n",
       "    <tspan class=\"displacy-tag\" dy=\"2em\" fill=\"currentColor\" x=\"930\">PROPN</tspan>\n",
       "</text>\n",
       "\n",
       "<text class=\"displacy-token\" fill=\"currentColor\" text-anchor=\"middle\" y=\"322.0\">\n",
       "    <tspan class=\"displacy-word\" fill=\"currentColor\" x=\"1040\">was</tspan>\n",
       "    <tspan class=\"displacy-tag\" dy=\"2em\" fill=\"currentColor\" x=\"1040\">VERB</tspan>\n",
       "</text>\n",
       "\n",
       "<text class=\"displacy-token\" fill=\"currentColor\" text-anchor=\"middle\" y=\"322.0\">\n",
       "    <tspan class=\"displacy-word\" fill=\"currentColor\" x=\"1150\">approximately</tspan>\n",
       "    <tspan class=\"displacy-tag\" dy=\"2em\" fill=\"currentColor\" x=\"1150\">ADV</tspan>\n",
       "</text>\n",
       "\n",
       "<text class=\"displacy-token\" fill=\"currentColor\" text-anchor=\"middle\" y=\"322.0\">\n",
       "    <tspan class=\"displacy-word\" fill=\"currentColor\" x=\"1260\">31,800</tspan>\n",
       "    <tspan class=\"displacy-tag\" dy=\"2em\" fill=\"currentColor\" x=\"1260\">NUM</tspan>\n",
       "</text>\n",
       "\n",
       "<text class=\"displacy-token\" fill=\"currentColor\" text-anchor=\"middle\" y=\"322.0\">\n",
       "    <tspan class=\"displacy-word\" fill=\"currentColor\" x=\"1370\">at</tspan>\n",
       "    <tspan class=\"displacy-tag\" dy=\"2em\" fill=\"currentColor\" x=\"1370\">ADP</tspan>\n",
       "</text>\n",
       "\n",
       "<text class=\"displacy-token\" fill=\"currentColor\" text-anchor=\"middle\" y=\"322.0\">\n",
       "    <tspan class=\"displacy-word\" fill=\"currentColor\" x=\"1480\">December</tspan>\n",
       "    <tspan class=\"displacy-tag\" dy=\"2em\" fill=\"currentColor\" x=\"1480\">PROPN</tspan>\n",
       "</text>\n",
       "\n",
       "<text class=\"displacy-token\" fill=\"currentColor\" text-anchor=\"middle\" y=\"322.0\">\n",
       "    <tspan class=\"displacy-word\" fill=\"currentColor\" x=\"1590\">31,</tspan>\n",
       "    <tspan class=\"displacy-tag\" dy=\"2em\" fill=\"currentColor\" x=\"1590\">NUM</tspan>\n",
       "</text>\n",
       "\n",
       "<text class=\"displacy-token\" fill=\"currentColor\" text-anchor=\"middle\" y=\"322.0\">\n",
       "    <tspan class=\"displacy-word\" fill=\"currentColor\" x=\"1700\">2016</tspan>\n",
       "    <tspan class=\"displacy-tag\" dy=\"2em\" fill=\"currentColor\" x=\"1700\">NUM</tspan>\n",
       "</text>\n",
       "\n",
       "<text class=\"displacy-token\" fill=\"currentColor\" text-anchor=\"middle\" y=\"322.0\">\n",
       "    <tspan class=\"displacy-word\" fill=\"currentColor\" x=\"1810\">and</tspan>\n",
       "    <tspan class=\"displacy-tag\" dy=\"2em\" fill=\"currentColor\" x=\"1810\">CCONJ</tspan>\n",
       "</text>\n",
       "\n",
       "<text class=\"displacy-token\" fill=\"currentColor\" text-anchor=\"middle\" y=\"322.0\">\n",
       "    <tspan class=\"displacy-word\" fill=\"currentColor\" x=\"1920\">32,300</tspan>\n",
       "    <tspan class=\"displacy-tag\" dy=\"2em\" fill=\"currentColor\" x=\"1920\">NUM</tspan>\n",
       "</text>\n",
       "\n",
       "<text class=\"displacy-token\" fill=\"currentColor\" text-anchor=\"middle\" y=\"322.0\">\n",
       "    <tspan class=\"displacy-word\" fill=\"currentColor\" x=\"2030\">at</tspan>\n",
       "    <tspan class=\"displacy-tag\" dy=\"2em\" fill=\"currentColor\" x=\"2030\">ADP</tspan>\n",
       "</text>\n",
       "\n",
       "<text class=\"displacy-token\" fill=\"currentColor\" text-anchor=\"middle\" y=\"322.0\">\n",
       "    <tspan class=\"displacy-word\" fill=\"currentColor\" x=\"2140\">December</tspan>\n",
       "    <tspan class=\"displacy-tag\" dy=\"2em\" fill=\"currentColor\" x=\"2140\">PROPN</tspan>\n",
       "</text>\n",
       "\n",
       "<text class=\"displacy-token\" fill=\"currentColor\" text-anchor=\"middle\" y=\"322.0\">\n",
       "    <tspan class=\"displacy-word\" fill=\"currentColor\" x=\"2250\">31,</tspan>\n",
       "    <tspan class=\"displacy-tag\" dy=\"2em\" fill=\"currentColor\" x=\"2250\">NUM</tspan>\n",
       "</text>\n",
       "\n",
       "<text class=\"displacy-token\" fill=\"currentColor\" text-anchor=\"middle\" y=\"322.0\">\n",
       "    <tspan class=\"displacy-word\" fill=\"currentColor\" x=\"2360\">2015.</tspan>\n",
       "    <tspan class=\"displacy-tag\" dy=\"2em\" fill=\"currentColor\" x=\"2360\">NUM</tspan>\n",
       "</text>\n",
       "\n",
       "<g class=\"displacy-arrow\">\n",
       "    <path class=\"displacy-arc\" id=\"arrow-0-0\" stroke-width=\"2px\" d=\"M70,277.0 C70,222.0 140.0,222.0 140.0,277.0\" fill=\"none\" stroke=\"currentColor\"/>\n",
       "    <text dy=\"1.25em\" style=\"font-size: 0.8em; letter-spacing: 1px\">\n",
       "        <textPath xlink:href=\"#arrow-0-0\" class=\"displacy-label\" startOffset=\"50%\" fill=\"currentColor\" text-anchor=\"middle\">det</textPath>\n",
       "    </text>\n",
       "    <path class=\"displacy-arrowhead\" d=\"M70,279.0 L62,267.0 78,267.0\" fill=\"currentColor\"/>\n",
       "</g>\n",
       "\n",
       "<g class=\"displacy-arrow\">\n",
       "    <path class=\"displacy-arc\" id=\"arrow-0-1\" stroke-width=\"2px\" d=\"M180,277.0 C180,2.0 1040.0,2.0 1040.0,277.0\" fill=\"none\" stroke=\"currentColor\"/>\n",
       "    <text dy=\"1.25em\" style=\"font-size: 0.8em; letter-spacing: 1px\">\n",
       "        <textPath xlink:href=\"#arrow-0-1\" class=\"displacy-label\" startOffset=\"50%\" fill=\"currentColor\" text-anchor=\"middle\">nsubj</textPath>\n",
       "    </text>\n",
       "    <path class=\"displacy-arrowhead\" d=\"M180,279.0 L172,267.0 188,267.0\" fill=\"currentColor\"/>\n",
       "</g>\n",
       "\n",
       "<g class=\"displacy-arrow\">\n",
       "    <path class=\"displacy-arc\" id=\"arrow-0-2\" stroke-width=\"2px\" d=\"M180,277.0 C180,222.0 250.0,222.0 250.0,277.0\" fill=\"none\" stroke=\"currentColor\"/>\n",
       "    <text dy=\"1.25em\" style=\"font-size: 0.8em; letter-spacing: 1px\">\n",
       "        <textPath xlink:href=\"#arrow-0-2\" class=\"displacy-label\" startOffset=\"50%\" fill=\"currentColor\" text-anchor=\"middle\">prep</textPath>\n",
       "    </text>\n",
       "    <path class=\"displacy-arrowhead\" d=\"M250.0,279.0 L258.0,267.0 242.0,267.0\" fill=\"currentColor\"/>\n",
       "</g>\n",
       "\n",
       "<g class=\"displacy-arrow\">\n",
       "    <path class=\"displacy-arc\" id=\"arrow-0-3\" stroke-width=\"2px\" d=\"M400,277.0 C400,222.0 470.0,222.0 470.0,277.0\" fill=\"none\" stroke=\"currentColor\"/>\n",
       "    <text dy=\"1.25em\" style=\"font-size: 0.8em; letter-spacing: 1px\">\n",
       "        <textPath xlink:href=\"#arrow-0-3\" class=\"displacy-label\" startOffset=\"50%\" fill=\"currentColor\" text-anchor=\"middle\">amod</textPath>\n",
       "    </text>\n",
       "    <path class=\"displacy-arrowhead\" d=\"M400,279.0 L392,267.0 408,267.0\" fill=\"currentColor\"/>\n",
       "</g>\n",
       "\n",
       "<g class=\"displacy-arrow\">\n",
       "    <path class=\"displacy-arc\" id=\"arrow-0-4\" stroke-width=\"2px\" d=\"M510,277.0 C510,222.0 580.0,222.0 580.0,277.0\" fill=\"none\" stroke=\"currentColor\"/>\n",
       "    <text dy=\"1.25em\" style=\"font-size: 0.8em; letter-spacing: 1px\">\n",
       "        <textPath xlink:href=\"#arrow-0-4\" class=\"displacy-label\" startOffset=\"50%\" fill=\"currentColor\" text-anchor=\"middle\">compound</textPath>\n",
       "    </text>\n",
       "    <path class=\"displacy-arrowhead\" d=\"M510,279.0 L502,267.0 518,267.0\" fill=\"currentColor\"/>\n",
       "</g>\n",
       "\n",
       "<g class=\"displacy-arrow\">\n",
       "    <path class=\"displacy-arc\" id=\"arrow-0-5\" stroke-width=\"2px\" d=\"M290,277.0 C290,112.0 590.0,112.0 590.0,277.0\" fill=\"none\" stroke=\"currentColor\"/>\n",
       "    <text dy=\"1.25em\" style=\"font-size: 0.8em; letter-spacing: 1px\">\n",
       "        <textPath xlink:href=\"#arrow-0-5\" class=\"displacy-label\" startOffset=\"50%\" fill=\"currentColor\" text-anchor=\"middle\">pobj</textPath>\n",
       "    </text>\n",
       "    <path class=\"displacy-arrowhead\" d=\"M590.0,279.0 L598.0,267.0 582.0,267.0\" fill=\"currentColor\"/>\n",
       "</g>\n",
       "\n",
       "<g class=\"displacy-arrow\">\n",
       "    <path class=\"displacy-arc\" id=\"arrow-0-6\" stroke-width=\"2px\" d=\"M620,277.0 C620,222.0 690.0,222.0 690.0,277.0\" fill=\"none\" stroke=\"currentColor\"/>\n",
       "    <text dy=\"1.25em\" style=\"font-size: 0.8em; letter-spacing: 1px\">\n",
       "        <textPath xlink:href=\"#arrow-0-6\" class=\"displacy-label\" startOffset=\"50%\" fill=\"currentColor\" text-anchor=\"middle\">prep</textPath>\n",
       "    </text>\n",
       "    <path class=\"displacy-arrowhead\" d=\"M690.0,279.0 L698.0,267.0 682.0,267.0\" fill=\"currentColor\"/>\n",
       "</g>\n",
       "\n",
       "<g class=\"displacy-arrow\">\n",
       "    <path class=\"displacy-arc\" id=\"arrow-0-7\" stroke-width=\"2px\" d=\"M840,277.0 C840,222.0 910.0,222.0 910.0,277.0\" fill=\"none\" stroke=\"currentColor\"/>\n",
       "    <text dy=\"1.25em\" style=\"font-size: 0.8em; letter-spacing: 1px\">\n",
       "        <textPath xlink:href=\"#arrow-0-7\" class=\"displacy-label\" startOffset=\"50%\" fill=\"currentColor\" text-anchor=\"middle\">det</textPath>\n",
       "    </text>\n",
       "    <path class=\"displacy-arrowhead\" d=\"M840,279.0 L832,267.0 848,267.0\" fill=\"currentColor\"/>\n",
       "</g>\n",
       "\n",
       "<g class=\"displacy-arrow\">\n",
       "    <path class=\"displacy-arc\" id=\"arrow-0-8\" stroke-width=\"2px\" d=\"M730,277.0 C730,167.0 915.0,167.0 915.0,277.0\" fill=\"none\" stroke=\"currentColor\"/>\n",
       "    <text dy=\"1.25em\" style=\"font-size: 0.8em; letter-spacing: 1px\">\n",
       "        <textPath xlink:href=\"#arrow-0-8\" class=\"displacy-label\" startOffset=\"50%\" fill=\"currentColor\" text-anchor=\"middle\">pobj</textPath>\n",
       "    </text>\n",
       "    <path class=\"displacy-arrowhead\" d=\"M915.0,279.0 L923.0,267.0 907.0,267.0\" fill=\"currentColor\"/>\n",
       "</g>\n",
       "\n",
       "<g class=\"displacy-arrow\">\n",
       "    <path class=\"displacy-arc\" id=\"arrow-0-9\" stroke-width=\"2px\" d=\"M1170,277.0 C1170,222.0 1240.0,222.0 1240.0,277.0\" fill=\"none\" stroke=\"currentColor\"/>\n",
       "    <text dy=\"1.25em\" style=\"font-size: 0.8em; letter-spacing: 1px\">\n",
       "        <textPath xlink:href=\"#arrow-0-9\" class=\"displacy-label\" startOffset=\"50%\" fill=\"currentColor\" text-anchor=\"middle\">advmod</textPath>\n",
       "    </text>\n",
       "    <path class=\"displacy-arrowhead\" d=\"M1170,279.0 L1162,267.0 1178,267.0\" fill=\"currentColor\"/>\n",
       "</g>\n",
       "\n",
       "<g class=\"displacy-arrow\">\n",
       "    <path class=\"displacy-arc\" id=\"arrow-0-10\" stroke-width=\"2px\" d=\"M1060,277.0 C1060,167.0 1245.0,167.0 1245.0,277.0\" fill=\"none\" stroke=\"currentColor\"/>\n",
       "    <text dy=\"1.25em\" style=\"font-size: 0.8em; letter-spacing: 1px\">\n",
       "        <textPath xlink:href=\"#arrow-0-10\" class=\"displacy-label\" startOffset=\"50%\" fill=\"currentColor\" text-anchor=\"middle\">attr</textPath>\n",
       "    </text>\n",
       "    <path class=\"displacy-arrowhead\" d=\"M1245.0,279.0 L1253.0,267.0 1237.0,267.0\" fill=\"currentColor\"/>\n",
       "</g>\n",
       "\n",
       "<g class=\"displacy-arrow\">\n",
       "    <path class=\"displacy-arc\" id=\"arrow-0-11\" stroke-width=\"2px\" d=\"M1060,277.0 C1060,112.0 1360.0,112.0 1360.0,277.0\" fill=\"none\" stroke=\"currentColor\"/>\n",
       "    <text dy=\"1.25em\" style=\"font-size: 0.8em; letter-spacing: 1px\">\n",
       "        <textPath xlink:href=\"#arrow-0-11\" class=\"displacy-label\" startOffset=\"50%\" fill=\"currentColor\" text-anchor=\"middle\">prep</textPath>\n",
       "    </text>\n",
       "    <path class=\"displacy-arrowhead\" d=\"M1360.0,279.0 L1368.0,267.0 1352.0,267.0\" fill=\"currentColor\"/>\n",
       "</g>\n",
       "\n",
       "<g class=\"displacy-arrow\">\n",
       "    <path class=\"displacy-arc\" id=\"arrow-0-12\" stroke-width=\"2px\" d=\"M1390,277.0 C1390,222.0 1460.0,222.0 1460.0,277.0\" fill=\"none\" stroke=\"currentColor\"/>\n",
       "    <text dy=\"1.25em\" style=\"font-size: 0.8em; letter-spacing: 1px\">\n",
       "        <textPath xlink:href=\"#arrow-0-12\" class=\"displacy-label\" startOffset=\"50%\" fill=\"currentColor\" text-anchor=\"middle\">pobj</textPath>\n",
       "    </text>\n",
       "    <path class=\"displacy-arrowhead\" d=\"M1460.0,279.0 L1468.0,267.0 1452.0,267.0\" fill=\"currentColor\"/>\n",
       "</g>\n",
       "\n",
       "<g class=\"displacy-arrow\">\n",
       "    <path class=\"displacy-arc\" id=\"arrow-0-13\" stroke-width=\"2px\" d=\"M1500,277.0 C1500,222.0 1570.0,222.0 1570.0,277.0\" fill=\"none\" stroke=\"currentColor\"/>\n",
       "    <text dy=\"1.25em\" style=\"font-size: 0.8em; letter-spacing: 1px\">\n",
       "        <textPath xlink:href=\"#arrow-0-13\" class=\"displacy-label\" startOffset=\"50%\" fill=\"currentColor\" text-anchor=\"middle\">nummod</textPath>\n",
       "    </text>\n",
       "    <path class=\"displacy-arrowhead\" d=\"M1570.0,279.0 L1578.0,267.0 1562.0,267.0\" fill=\"currentColor\"/>\n",
       "</g>\n",
       "\n",
       "<g class=\"displacy-arrow\">\n",
       "    <path class=\"displacy-arc\" id=\"arrow-0-14\" stroke-width=\"2px\" d=\"M1500,277.0 C1500,167.0 1685.0,167.0 1685.0,277.0\" fill=\"none\" stroke=\"currentColor\"/>\n",
       "    <text dy=\"1.25em\" style=\"font-size: 0.8em; letter-spacing: 1px\">\n",
       "        <textPath xlink:href=\"#arrow-0-14\" class=\"displacy-label\" startOffset=\"50%\" fill=\"currentColor\" text-anchor=\"middle\">nummod</textPath>\n",
       "    </text>\n",
       "    <path class=\"displacy-arrowhead\" d=\"M1685.0,279.0 L1693.0,267.0 1677.0,267.0\" fill=\"currentColor\"/>\n",
       "</g>\n",
       "\n",
       "<g class=\"displacy-arrow\">\n",
       "    <path class=\"displacy-arc\" id=\"arrow-0-15\" stroke-width=\"2px\" d=\"M1060,277.0 C1060,57.0 1805.0,57.0 1805.0,277.0\" fill=\"none\" stroke=\"currentColor\"/>\n",
       "    <text dy=\"1.25em\" style=\"font-size: 0.8em; letter-spacing: 1px\">\n",
       "        <textPath xlink:href=\"#arrow-0-15\" class=\"displacy-label\" startOffset=\"50%\" fill=\"currentColor\" text-anchor=\"middle\">cc</textPath>\n",
       "    </text>\n",
       "    <path class=\"displacy-arrowhead\" d=\"M1805.0,279.0 L1813.0,267.0 1797.0,267.0\" fill=\"currentColor\"/>\n",
       "</g>\n",
       "\n",
       "<g class=\"displacy-arrow\">\n",
       "    <path class=\"displacy-arc\" id=\"arrow-0-16\" stroke-width=\"2px\" d=\"M1060,277.0 C1060,2.0 1920.0,2.0 1920.0,277.0\" fill=\"none\" stroke=\"currentColor\"/>\n",
       "    <text dy=\"1.25em\" style=\"font-size: 0.8em; letter-spacing: 1px\">\n",
       "        <textPath xlink:href=\"#arrow-0-16\" class=\"displacy-label\" startOffset=\"50%\" fill=\"currentColor\" text-anchor=\"middle\">conj</textPath>\n",
       "    </text>\n",
       "    <path class=\"displacy-arrowhead\" d=\"M1920.0,279.0 L1928.0,267.0 1912.0,267.0\" fill=\"currentColor\"/>\n",
       "</g>\n",
       "\n",
       "<g class=\"displacy-arrow\">\n",
       "    <path class=\"displacy-arc\" id=\"arrow-0-17\" stroke-width=\"2px\" d=\"M1940,277.0 C1940,222.0 2010.0,222.0 2010.0,277.0\" fill=\"none\" stroke=\"currentColor\"/>\n",
       "    <text dy=\"1.25em\" style=\"font-size: 0.8em; letter-spacing: 1px\">\n",
       "        <textPath xlink:href=\"#arrow-0-17\" class=\"displacy-label\" startOffset=\"50%\" fill=\"currentColor\" text-anchor=\"middle\">prep</textPath>\n",
       "    </text>\n",
       "    <path class=\"displacy-arrowhead\" d=\"M2010.0,279.0 L2018.0,267.0 2002.0,267.0\" fill=\"currentColor\"/>\n",
       "</g>\n",
       "\n",
       "<g class=\"displacy-arrow\">\n",
       "    <path class=\"displacy-arc\" id=\"arrow-0-18\" stroke-width=\"2px\" d=\"M2050,277.0 C2050,222.0 2120.0,222.0 2120.0,277.0\" fill=\"none\" stroke=\"currentColor\"/>\n",
       "    <text dy=\"1.25em\" style=\"font-size: 0.8em; letter-spacing: 1px\">\n",
       "        <textPath xlink:href=\"#arrow-0-18\" class=\"displacy-label\" startOffset=\"50%\" fill=\"currentColor\" text-anchor=\"middle\">pobj</textPath>\n",
       "    </text>\n",
       "    <path class=\"displacy-arrowhead\" d=\"M2120.0,279.0 L2128.0,267.0 2112.0,267.0\" fill=\"currentColor\"/>\n",
       "</g>\n",
       "\n",
       "<g class=\"displacy-arrow\">\n",
       "    <path class=\"displacy-arc\" id=\"arrow-0-19\" stroke-width=\"2px\" d=\"M2160,277.0 C2160,222.0 2230.0,222.0 2230.0,277.0\" fill=\"none\" stroke=\"currentColor\"/>\n",
       "    <text dy=\"1.25em\" style=\"font-size: 0.8em; letter-spacing: 1px\">\n",
       "        <textPath xlink:href=\"#arrow-0-19\" class=\"displacy-label\" startOffset=\"50%\" fill=\"currentColor\" text-anchor=\"middle\">nummod</textPath>\n",
       "    </text>\n",
       "    <path class=\"displacy-arrowhead\" d=\"M2230.0,279.0 L2238.0,267.0 2222.0,267.0\" fill=\"currentColor\"/>\n",
       "</g>\n",
       "\n",
       "<g class=\"displacy-arrow\">\n",
       "    <path class=\"displacy-arc\" id=\"arrow-0-20\" stroke-width=\"2px\" d=\"M2160,277.0 C2160,167.0 2345.0,167.0 2345.0,277.0\" fill=\"none\" stroke=\"currentColor\"/>\n",
       "    <text dy=\"1.25em\" style=\"font-size: 0.8em; letter-spacing: 1px\">\n",
       "        <textPath xlink:href=\"#arrow-0-20\" class=\"displacy-label\" startOffset=\"50%\" fill=\"currentColor\" text-anchor=\"middle\">nummod</textPath>\n",
       "    </text>\n",
       "    <path class=\"displacy-arrowhead\" d=\"M2345.0,279.0 L2353.0,267.0 2337.0,267.0\" fill=\"currentColor\"/>\n",
       "</g>\n",
       "</svg>"
      ],
      "text/plain": [
       "<IPython.core.display.HTML object>"
      ]
     },
     "metadata": {},
     "output_type": "display_data"
    }
   ],
   "source": [
    "displacy.render(ex6, style='dep', jupyter=True, options={'distance': 110})"
   ]
  },
  {
   "cell_type": "code",
   "execution_count": 75,
   "metadata": {
    "ExecuteTime": {
     "end_time": "2018-07-07T14:53:30.527697Z",
     "start_time": "2018-07-07T14:53:30.516947Z"
    },
    "hidden": true
   },
   "outputs": [
    {
     "data": {
      "text/plain": [
       "[(Company, employees), (31,800, employees), (number, employees)]"
      ]
     },
     "execution_count": 75,
     "metadata": {},
     "output_type": "execute_result"
    }
   ],
   "source": [
    "extract_emp_relations(ex6)"
   ]
  },
  {
   "cell_type": "markdown",
   "metadata": {
    "hidden": true
   },
   "source": [
    "Example 5"
   ]
  },
  {
   "cell_type": "markdown",
   "metadata": {
    "heading_collapsed": true
   },
   "source": [
    "### `Emp_num` above and below `EMP_NOUN` in parse tree"
   ]
  },
  {
   "cell_type": "markdown",
   "metadata": {
    "hidden": true
   },
   "source": [
    "One emp_num is a `conj` child of the other emp_num"
   ]
  },
  {
   "cell_type": "markdown",
   "metadata": {
    "hidden": true
   },
   "source": [
    "Desired output: \n",
    "\n",
    "`(we, had, 56,400, employees)`"
   ]
  },
  {
   "cell_type": "code",
   "execution_count": 76,
   "metadata": {
    "ExecuteTime": {
     "end_time": "2018-07-07T14:53:30.552713Z",
     "start_time": "2018-07-07T14:53:30.529698Z"
    },
    "hidden": true
   },
   "outputs": [],
   "source": [
    "ex7 = nlp(\"At December 31, 2016 and 2015, we had approximately 56,400 and 66,400 employees, respectively.\")"
   ]
  },
  {
   "cell_type": "code",
   "execution_count": 77,
   "metadata": {
    "ExecuteTime": {
     "end_time": "2018-07-07T14:53:30.570726Z",
     "start_time": "2018-07-07T14:53:30.554715Z"
    },
    "hidden": true
   },
   "outputs": [
    {
     "data": {
      "text/html": [
       "<table border=\"1\" class=\"dataframe\">\n",
       "  <thead>\n",
       "    <tr style=\"text-align: right;\">\n",
       "      <th></th>\n",
       "      <th>tok_ent</th>\n",
       "      <th>toks</th>\n",
       "      <th>dep</th>\n",
       "      <th>head</th>\n",
       "      <th>head_dep</th>\n",
       "      <th>pos</th>\n",
       "      <th>tag</th>\n",
       "      <th>dep_def</th>\n",
       "      <th>tag_def</th>\n",
       "    </tr>\n",
       "  </thead>\n",
       "  <tbody>\n",
       "    <tr>\n",
       "      <th>0</th>\n",
       "      <td></td>\n",
       "      <td>At</td>\n",
       "      <td>prep</td>\n",
       "      <td>had</td>\n",
       "      <td>ROOT</td>\n",
       "      <td>ADP</td>\n",
       "      <td>IN</td>\n",
       "      <td>prepositional modifier</td>\n",
       "      <td>conjunction, subordinating or preposition</td>\n",
       "    </tr>\n",
       "    <tr>\n",
       "      <th>1</th>\n",
       "      <td>DATE</td>\n",
       "      <td>December</td>\n",
       "      <td>pobj</td>\n",
       "      <td>At</td>\n",
       "      <td>prep</td>\n",
       "      <td>PROPN</td>\n",
       "      <td>NNP</td>\n",
       "      <td>object of preposition</td>\n",
       "      <td>noun, proper singular</td>\n",
       "    </tr>\n",
       "    <tr>\n",
       "      <th>2</th>\n",
       "      <td>DATE</td>\n",
       "      <td>31</td>\n",
       "      <td>nummod</td>\n",
       "      <td>December</td>\n",
       "      <td>pobj</td>\n",
       "      <td>NUM</td>\n",
       "      <td>CD</td>\n",
       "      <td>None</td>\n",
       "      <td>cardinal number</td>\n",
       "    </tr>\n",
       "    <tr>\n",
       "      <th>3</th>\n",
       "      <td>DATE</td>\n",
       "      <td>,</td>\n",
       "      <td>punct</td>\n",
       "      <td>December</td>\n",
       "      <td>pobj</td>\n",
       "      <td>PUNCT</td>\n",
       "      <td>,</td>\n",
       "      <td>punctuation</td>\n",
       "      <td>punctuation mark, comma</td>\n",
       "    </tr>\n",
       "    <tr>\n",
       "      <th>4</th>\n",
       "      <td>DATE</td>\n",
       "      <td>2016</td>\n",
       "      <td>nummod</td>\n",
       "      <td>December</td>\n",
       "      <td>pobj</td>\n",
       "      <td>NUM</td>\n",
       "      <td>CD</td>\n",
       "      <td>None</td>\n",
       "      <td>cardinal number</td>\n",
       "    </tr>\n",
       "    <tr>\n",
       "      <th>5</th>\n",
       "      <td>DATE</td>\n",
       "      <td>and</td>\n",
       "      <td>cc</td>\n",
       "      <td>2016</td>\n",
       "      <td>nummod</td>\n",
       "      <td>CCONJ</td>\n",
       "      <td>CC</td>\n",
       "      <td>coordinating conjunction</td>\n",
       "      <td>conjunction, coordinating</td>\n",
       "    </tr>\n",
       "    <tr>\n",
       "      <th>6</th>\n",
       "      <td>DATE</td>\n",
       "      <td>2015</td>\n",
       "      <td>conj</td>\n",
       "      <td>2016</td>\n",
       "      <td>nummod</td>\n",
       "      <td>NUM</td>\n",
       "      <td>CD</td>\n",
       "      <td>conjunct</td>\n",
       "      <td>cardinal number</td>\n",
       "    </tr>\n",
       "    <tr>\n",
       "      <th>7</th>\n",
       "      <td></td>\n",
       "      <td>,</td>\n",
       "      <td>punct</td>\n",
       "      <td>had</td>\n",
       "      <td>ROOT</td>\n",
       "      <td>PUNCT</td>\n",
       "      <td>,</td>\n",
       "      <td>punctuation</td>\n",
       "      <td>punctuation mark, comma</td>\n",
       "    </tr>\n",
       "    <tr>\n",
       "      <th>8</th>\n",
       "      <td></td>\n",
       "      <td>we</td>\n",
       "      <td>nsubj</td>\n",
       "      <td>had</td>\n",
       "      <td>ROOT</td>\n",
       "      <td>PRON</td>\n",
       "      <td>PRP</td>\n",
       "      <td>nominal subject</td>\n",
       "      <td>pronoun, personal</td>\n",
       "    </tr>\n",
       "    <tr>\n",
       "      <th>9</th>\n",
       "      <td></td>\n",
       "      <td>had</td>\n",
       "      <td>ROOT</td>\n",
       "      <td>had</td>\n",
       "      <td>ROOT</td>\n",
       "      <td>VERB</td>\n",
       "      <td>VBD</td>\n",
       "      <td>None</td>\n",
       "      <td>verb, past tense</td>\n",
       "    </tr>\n",
       "    <tr>\n",
       "      <th>10</th>\n",
       "      <td>CARDINAL</td>\n",
       "      <td>approximately</td>\n",
       "      <td>advmod</td>\n",
       "      <td>56,400</td>\n",
       "      <td>nummod</td>\n",
       "      <td>ADV</td>\n",
       "      <td>RB</td>\n",
       "      <td>adverbial modifier</td>\n",
       "      <td>adverb</td>\n",
       "    </tr>\n",
       "    <tr>\n",
       "      <th>11</th>\n",
       "      <td>CARDINAL</td>\n",
       "      <td>56,400</td>\n",
       "      <td>nummod</td>\n",
       "      <td>employees</td>\n",
       "      <td>dobj</td>\n",
       "      <td>NUM</td>\n",
       "      <td>CD</td>\n",
       "      <td>None</td>\n",
       "      <td>cardinal number</td>\n",
       "    </tr>\n",
       "    <tr>\n",
       "      <th>12</th>\n",
       "      <td></td>\n",
       "      <td>and</td>\n",
       "      <td>cc</td>\n",
       "      <td>56,400</td>\n",
       "      <td>nummod</td>\n",
       "      <td>CCONJ</td>\n",
       "      <td>CC</td>\n",
       "      <td>coordinating conjunction</td>\n",
       "      <td>conjunction, coordinating</td>\n",
       "    </tr>\n",
       "    <tr>\n",
       "      <th>13</th>\n",
       "      <td>CARDINAL</td>\n",
       "      <td>66,400</td>\n",
       "      <td>conj</td>\n",
       "      <td>56,400</td>\n",
       "      <td>nummod</td>\n",
       "      <td>NUM</td>\n",
       "      <td>CD</td>\n",
       "      <td>conjunct</td>\n",
       "      <td>cardinal number</td>\n",
       "    </tr>\n",
       "    <tr>\n",
       "      <th>14</th>\n",
       "      <td>EMP_NOUN</td>\n",
       "      <td>employees</td>\n",
       "      <td>dobj</td>\n",
       "      <td>had</td>\n",
       "      <td>ROOT</td>\n",
       "      <td>NOUN</td>\n",
       "      <td>NNS</td>\n",
       "      <td>direct object</td>\n",
       "      <td>noun, plural</td>\n",
       "    </tr>\n",
       "    <tr>\n",
       "      <th>15</th>\n",
       "      <td></td>\n",
       "      <td>,</td>\n",
       "      <td>punct</td>\n",
       "      <td>had</td>\n",
       "      <td>ROOT</td>\n",
       "      <td>PUNCT</td>\n",
       "      <td>,</td>\n",
       "      <td>punctuation</td>\n",
       "      <td>punctuation mark, comma</td>\n",
       "    </tr>\n",
       "    <tr>\n",
       "      <th>16</th>\n",
       "      <td></td>\n",
       "      <td>respectively</td>\n",
       "      <td>advmod</td>\n",
       "      <td>had</td>\n",
       "      <td>ROOT</td>\n",
       "      <td>ADV</td>\n",
       "      <td>RB</td>\n",
       "      <td>adverbial modifier</td>\n",
       "      <td>adverb</td>\n",
       "    </tr>\n",
       "    <tr>\n",
       "      <th>17</th>\n",
       "      <td></td>\n",
       "      <td>.</td>\n",
       "      <td>punct</td>\n",
       "      <td>had</td>\n",
       "      <td>ROOT</td>\n",
       "      <td>PUNCT</td>\n",
       "      <td>.</td>\n",
       "      <td>punctuation</td>\n",
       "      <td>punctuation mark, sentence closer</td>\n",
       "    </tr>\n",
       "  </tbody>\n",
       "</table>"
      ],
      "text/plain": [
       "<IPython.core.display.HTML object>"
      ]
     },
     "metadata": {},
     "output_type": "display_data"
    }
   ],
   "source": [
    "print_df(make_tok_df(ex7))"
   ]
  },
  {
   "cell_type": "code",
   "execution_count": 78,
   "metadata": {
    "ExecuteTime": {
     "end_time": "2018-07-07T14:53:30.624270Z",
     "start_time": "2018-07-07T14:53:30.573728Z"
    },
    "hidden": true
   },
   "outputs": [
    {
     "name": "stdout",
     "output_type": "stream",
     "text": [
      "doc is: \n",
      "At December 31, 2016 and 2015, we had approximately 56,400 and 66,400 employees, respectively.\n",
      "--------------------------------------------------\n",
      "Entities are: \n"
     ]
    },
    {
     "data": {
      "text/html": [
       "<table border=\"1\" class=\"dataframe\">\n",
       "  <thead>\n",
       "    <tr style=\"text-align: right;\">\n",
       "      <th></th>\n",
       "      <th>tok_i</th>\n",
       "      <th>entity</th>\n",
       "      <th>ent_label</th>\n",
       "      <th>root</th>\n",
       "      <th>root_dep</th>\n",
       "      <th>dep_def</th>\n",
       "      <th>root_head</th>\n",
       "      <th>root_head_dep</th>\n",
       "      <th>root_head_pos</th>\n",
       "    </tr>\n",
       "  </thead>\n",
       "  <tbody>\n",
       "    <tr>\n",
       "      <th>0</th>\n",
       "      <td>1</td>\n",
       "      <td>December 31, 2016 and 2015</td>\n",
       "      <td>DATE</td>\n",
       "      <td>December</td>\n",
       "      <td>pobj</td>\n",
       "      <td>object of preposition</td>\n",
       "      <td>At</td>\n",
       "      <td>prep</td>\n",
       "      <td>ADP</td>\n",
       "    </tr>\n",
       "    <tr>\n",
       "      <th>1</th>\n",
       "      <td>10</td>\n",
       "      <td>approximately 56,400</td>\n",
       "      <td>CARDINAL</td>\n",
       "      <td>56,400</td>\n",
       "      <td>nummod</td>\n",
       "      <td>None</td>\n",
       "      <td>employees</td>\n",
       "      <td>dobj</td>\n",
       "      <td>NOUN</td>\n",
       "    </tr>\n",
       "    <tr>\n",
       "      <th>2</th>\n",
       "      <td>13</td>\n",
       "      <td>66,400</td>\n",
       "      <td>CARDINAL</td>\n",
       "      <td>66,400</td>\n",
       "      <td>conj</td>\n",
       "      <td>conjunct</td>\n",
       "      <td>56,400</td>\n",
       "      <td>nummod</td>\n",
       "      <td>NUM</td>\n",
       "    </tr>\n",
       "    <tr>\n",
       "      <th>3</th>\n",
       "      <td>14</td>\n",
       "      <td>employees</td>\n",
       "      <td>EMP_NOUN</td>\n",
       "      <td>employees</td>\n",
       "      <td>dobj</td>\n",
       "      <td>direct object</td>\n",
       "      <td>had</td>\n",
       "      <td>ROOT</td>\n",
       "      <td>VERB</td>\n",
       "    </tr>\n",
       "  </tbody>\n",
       "</table>"
      ],
      "text/plain": [
       "<IPython.core.display.HTML object>"
      ]
     },
     "metadata": {},
     "output_type": "display_data"
    },
    {
     "name": "stdout",
     "output_type": "stream",
     "text": [
      "--------------------------------------------------\n",
      "Noun chunks are: \n"
     ]
    },
    {
     "data": {
      "text/html": [
       "<table border=\"1\" class=\"dataframe\">\n",
       "  <thead>\n",
       "    <tr style=\"text-align: right;\">\n",
       "      <th></th>\n",
       "      <th>tok_i</th>\n",
       "      <th>noun_chunk</th>\n",
       "      <th>NP</th>\n",
       "      <th>root</th>\n",
       "      <th>root_dep</th>\n",
       "      <th>dep_def</th>\n",
       "      <th>root_head</th>\n",
       "      <th>root_head_dep</th>\n",
       "      <th>root_head_pos</th>\n",
       "    </tr>\n",
       "  </thead>\n",
       "  <tbody>\n",
       "    <tr>\n",
       "      <th>0</th>\n",
       "      <td>1</td>\n",
       "      <td>December</td>\n",
       "      <td>NP</td>\n",
       "      <td>December</td>\n",
       "      <td>pobj</td>\n",
       "      <td>object of preposition</td>\n",
       "      <td>At</td>\n",
       "      <td>prep</td>\n",
       "      <td>ADP</td>\n",
       "    </tr>\n",
       "    <tr>\n",
       "      <th>1</th>\n",
       "      <td>8</td>\n",
       "      <td>we</td>\n",
       "      <td>NP</td>\n",
       "      <td>we</td>\n",
       "      <td>nsubj</td>\n",
       "      <td>nominal subject</td>\n",
       "      <td>had</td>\n",
       "      <td>ROOT</td>\n",
       "      <td>VERB</td>\n",
       "    </tr>\n",
       "    <tr>\n",
       "      <th>2</th>\n",
       "      <td>10</td>\n",
       "      <td>approximately 56,400 and 66,400 employees</td>\n",
       "      <td>NP</td>\n",
       "      <td>employees</td>\n",
       "      <td>dobj</td>\n",
       "      <td>direct object</td>\n",
       "      <td>had</td>\n",
       "      <td>ROOT</td>\n",
       "      <td>VERB</td>\n",
       "    </tr>\n",
       "  </tbody>\n",
       "</table>"
      ],
      "text/plain": [
       "<IPython.core.display.HTML object>"
      ]
     },
     "metadata": {},
     "output_type": "display_data"
    },
    {
     "name": "stdout",
     "output_type": "stream",
     "text": [
      "--------------------------------------------------\n",
      "Cardinal entities are: \n"
     ]
    },
    {
     "data": {
      "text/html": [
       "<table border=\"1\" class=\"dataframe\">\n",
       "  <thead>\n",
       "    <tr style=\"text-align: right;\">\n",
       "      <th></th>\n",
       "      <th>tok_ent</th>\n",
       "      <th>toks</th>\n",
       "      <th>dep</th>\n",
       "      <th>head</th>\n",
       "      <th>head_dep</th>\n",
       "      <th>pos</th>\n",
       "      <th>tag</th>\n",
       "      <th>dep_def</th>\n",
       "      <th>tag_def</th>\n",
       "    </tr>\n",
       "  </thead>\n",
       "  <tbody>\n",
       "    <tr>\n",
       "      <th>0</th>\n",
       "      <td>CARDINAL</td>\n",
       "      <td>approximately</td>\n",
       "      <td>advmod</td>\n",
       "      <td>56,400</td>\n",
       "      <td>nummod</td>\n",
       "      <td>ADV</td>\n",
       "      <td>RB</td>\n",
       "      <td>adverbial modifier</td>\n",
       "      <td>adverb</td>\n",
       "    </tr>\n",
       "    <tr>\n",
       "      <th>1</th>\n",
       "      <td>CARDINAL</td>\n",
       "      <td>56,400</td>\n",
       "      <td>nummod</td>\n",
       "      <td>employees</td>\n",
       "      <td>dobj</td>\n",
       "      <td>NUM</td>\n",
       "      <td>CD</td>\n",
       "      <td>None</td>\n",
       "      <td>cardinal number</td>\n",
       "    </tr>\n",
       "    <tr>\n",
       "      <th>2</th>\n",
       "      <td>CARDINAL</td>\n",
       "      <td>66,400</td>\n",
       "      <td>conj</td>\n",
       "      <td>56,400</td>\n",
       "      <td>nummod</td>\n",
       "      <td>NUM</td>\n",
       "      <td>CD</td>\n",
       "      <td>conjunct</td>\n",
       "      <td>cardinal number</td>\n",
       "    </tr>\n",
       "  </tbody>\n",
       "</table>"
      ],
      "text/plain": [
       "<IPython.core.display.HTML object>"
      ]
     },
     "metadata": {},
     "output_type": "display_data"
    }
   ],
   "source": [
    "print_doc_info(ex7)"
   ]
  },
  {
   "cell_type": "code",
   "execution_count": 79,
   "metadata": {
    "ExecuteTime": {
     "end_time": "2018-07-07T14:53:30.630273Z",
     "start_time": "2018-07-07T14:53:30.626271Z"
    },
    "hidden": true
   },
   "outputs": [],
   "source": [
    "ex7_emp_tok = ex7[14]\n",
    "\n",
    "ex7_emp_num_tok = ex7[11]"
   ]
  },
  {
   "cell_type": "code",
   "execution_count": 80,
   "metadata": {
    "ExecuteTime": {
     "end_time": "2018-07-07T14:53:30.640280Z",
     "start_time": "2018-07-07T14:53:30.632274Z"
    },
    "hidden": true
   },
   "outputs": [
    {
     "data": {
      "text/plain": [
       "employees"
      ]
     },
     "execution_count": 80,
     "metadata": {},
     "output_type": "execute_result"
    }
   ],
   "source": [
    "ex7_emp_tok"
   ]
  },
  {
   "cell_type": "code",
   "execution_count": 81,
   "metadata": {
    "ExecuteTime": {
     "end_time": "2018-07-07T14:53:30.653289Z",
     "start_time": "2018-07-07T14:53:30.642282Z"
    },
    "hidden": true
   },
   "outputs": [
    {
     "data": {
      "text/plain": [
       "'dobj'"
      ]
     },
     "execution_count": 81,
     "metadata": {},
     "output_type": "execute_result"
    }
   ],
   "source": [
    "ex7_emp_tok.dep_"
   ]
  },
  {
   "cell_type": "code",
   "execution_count": 82,
   "metadata": {
    "ExecuteTime": {
     "end_time": "2018-07-07T14:53:30.663295Z",
     "start_time": "2018-07-07T14:53:30.655290Z"
    },
    "hidden": true
   },
   "outputs": [
    {
     "data": {
      "text/plain": [
       "56,400"
      ]
     },
     "execution_count": 82,
     "metadata": {},
     "output_type": "execute_result"
    }
   ],
   "source": [
    "ex7_emp_num_tok"
   ]
  },
  {
   "cell_type": "code",
   "execution_count": 83,
   "metadata": {
    "ExecuteTime": {
     "end_time": "2018-07-07T14:53:30.674303Z",
     "start_time": "2018-07-07T14:53:30.665297Z"
    },
    "hidden": true
   },
   "outputs": [
    {
     "data": {
      "text/plain": [
       "[66,400]"
      ]
     },
     "execution_count": 83,
     "metadata": {},
     "output_type": "execute_result"
    }
   ],
   "source": [
    "[c for c in ex7_emp_num_tok.conjuncts]"
   ]
  },
  {
   "cell_type": "code",
   "execution_count": 84,
   "metadata": {
    "ExecuteTime": {
     "end_time": "2018-07-07T14:53:30.691314Z",
     "start_time": "2018-07-07T14:53:30.676305Z"
    },
    "hidden": true
   },
   "outputs": [
    {
     "name": "stdout",
     "output_type": "stream",
     "text": [
      "Token children: \n",
      "approximately       child.dep_:advmod\n",
      "and       child.dep_:cc\n",
      "66,400       child.dep_:conj\n"
     ]
    }
   ],
   "source": [
    "print('Token children: ')\n",
    "for w in ex7_emp_num_tok.children:\n",
    "    print(str(w) + '       child.dep_:' + str(w.dep_))"
   ]
  },
  {
   "cell_type": "code",
   "execution_count": 85,
   "metadata": {
    "ExecuteTime": {
     "end_time": "2018-07-07T14:53:30.764363Z",
     "start_time": "2018-07-07T14:53:30.693317Z"
    },
    "hidden": true
   },
   "outputs": [
    {
     "name": "stdout",
     "output_type": "stream",
     "text": [
      "Token:  employees\n",
      "Token child: 56,400  has dep_ == 'nummod'\n",
      "       Token.child.i : 11\n",
      "       child.dep_: nummod\n",
      "       child.tag_: 'CD'\n",
      "       child.pos_: 'NUM'\n",
      "Token dep_: dobj\n",
      "Token head: had\n",
      "       head.dep_: ROOT\n",
      "       head.tag_: 'VBD'\n",
      "       head.pos_: 'VERB'\n",
      "Token head lefts: \n",
      "Token conjuncts: \n",
      "[]\n",
      "employees       head.left.dep_:dobj\n",
      ",       head.left.dep_:punct\n",
      "respectively       head.left.dep_:advmod\n",
      ".       head.left.dep_:punct\n",
      "Token ancestors: \n",
      "had       ancestor.dep_:ROOT\n",
      "Token children: \n",
      "56,400       child.dep_:nummod\n"
     ]
    }
   ],
   "source": [
    "#[w for w in ex7_emp_tok.head.lefts if w.dep_ == 'nsubj']\n",
    "print('Token:  ' + str(ex7_emp_tok) )\n",
    "for w in ex7_emp_tok.children:\n",
    "    if w.dep_ == 'nummod':\n",
    "        print(\"Token child: \" + str(w) + \"  has dep_ == 'nummod'\")\n",
    "        print(\"       Token.child.i : \" + str(w.i))\n",
    "        print('       child.dep_: ' + str(w.dep_))\n",
    "        print(\"       child.tag_: '\"+ str(w.tag_) + \"'\" )\n",
    "        print(\"       child.pos_: '\"+ str(w.pos_) + \"'\" )\n",
    "if ex7_emp_tok.dep_ == 'conj':\n",
    "    print('Token dep_ is conj.')\n",
    "    if ex7_emp_tok.head.tag_ == 'CD':\n",
    "        print(\"       token.head.tag_ == 'CD' \")\n",
    "        print(\"       token.head.i : \" + str(ex7_emp_tok.head.i))\n",
    "    print('Token head is: ' + str(ex7_emp_tok.head) + '       head.dep_:  '+ str(ex7_emp_tok.head.dep_) )\n",
    "    for i, d in enumerate(ex7_emp_tok.doc.ents):\n",
    "        if d.label_ == 'DATE':\n",
    "            print(str(i) + \"  \" + str(d))\n",
    "            for tok in ex7_emp_tok.doc[d.start:d.end + 1]:\n",
    "                if tok.tag_ == 'CD':\n",
    "                    print(\"CD tok in date: \" + str(tok))\n",
    "#    if ex7_emp_tok.head.dep_ == ''\n",
    "\n",
    "print('Token dep_: ' + str(ex7_emp_tok.dep_))\n",
    "print('Token head: ' + str(ex7_emp_tok.head))\n",
    "print('       head.dep_: ' + str(ex7_emp_tok.head.dep_))\n",
    "print(\"       head.tag_: '\"+ str(ex7_emp_tok.head.tag_) + \"'\" )\n",
    "print(\"       head.pos_: '\"+ str(ex7_emp_tok.head.pos_) + \"'\" )\n",
    "print('Token head lefts: ' )\n",
    "print('Token conjuncts: ' )\n",
    "print(str([c for c in ex7_emp_tok.conjuncts]))\n",
    "for w in ex7_emp_tok.head.rights:\n",
    "    print(str(w) + '       head.left.dep_:' + str(w.dep_))\n",
    "    if w.dep_ == 'nsubj':\n",
    "        print(str(w) + ' is nsubj. Subtree is:' )\n",
    "        [print(x) for x in w.lefts]\n",
    "        [print(s)for s in w.subtree if s.dep_ == 'poss']\n",
    "print('Token ancestors: ')\n",
    "for w in ex7_emp_tok.ancestors:\n",
    "    print(str(w) + '       ancestor.dep_:' + str(w.dep_))\n",
    "print('Token children: ')\n",
    "for w in ex7_emp_tok.children:\n",
    "    print(str(w) + '       child.dep_:' + str(w.dep_))"
   ]
  },
  {
   "cell_type": "code",
   "execution_count": 86,
   "metadata": {
    "ExecuteTime": {
     "end_time": "2018-07-07T14:53:30.771368Z",
     "start_time": "2018-07-07T14:53:30.765364Z"
    },
    "hidden": true
   },
   "outputs": [
    {
     "data": {
      "text/html": [
       "<svg xmlns=\"http://www.w3.org/2000/svg\" xmlns:xlink=\"http://www.w3.org/1999/xlink\" id=\"0\" class=\"displacy\" width=\"1590\" height=\"467.0\" style=\"max-width: none; height: 467.0px; color: #000000; background: #ffffff; font-family: Arial\">\n",
       "<text class=\"displacy-token\" fill=\"currentColor\" text-anchor=\"middle\" y=\"377.0\">\n",
       "    <tspan class=\"displacy-word\" fill=\"currentColor\" x=\"50\">At</tspan>\n",
       "    <tspan class=\"displacy-tag\" dy=\"2em\" fill=\"currentColor\" x=\"50\">ADP</tspan>\n",
       "</text>\n",
       "\n",
       "<text class=\"displacy-token\" fill=\"currentColor\" text-anchor=\"middle\" y=\"377.0\">\n",
       "    <tspan class=\"displacy-word\" fill=\"currentColor\" x=\"160\">December</tspan>\n",
       "    <tspan class=\"displacy-tag\" dy=\"2em\" fill=\"currentColor\" x=\"160\">PROPN</tspan>\n",
       "</text>\n",
       "\n",
       "<text class=\"displacy-token\" fill=\"currentColor\" text-anchor=\"middle\" y=\"377.0\">\n",
       "    <tspan class=\"displacy-word\" fill=\"currentColor\" x=\"270\">31,</tspan>\n",
       "    <tspan class=\"displacy-tag\" dy=\"2em\" fill=\"currentColor\" x=\"270\">NUM</tspan>\n",
       "</text>\n",
       "\n",
       "<text class=\"displacy-token\" fill=\"currentColor\" text-anchor=\"middle\" y=\"377.0\">\n",
       "    <tspan class=\"displacy-word\" fill=\"currentColor\" x=\"380\">2016</tspan>\n",
       "    <tspan class=\"displacy-tag\" dy=\"2em\" fill=\"currentColor\" x=\"380\">NUM</tspan>\n",
       "</text>\n",
       "\n",
       "<text class=\"displacy-token\" fill=\"currentColor\" text-anchor=\"middle\" y=\"377.0\">\n",
       "    <tspan class=\"displacy-word\" fill=\"currentColor\" x=\"490\">and</tspan>\n",
       "    <tspan class=\"displacy-tag\" dy=\"2em\" fill=\"currentColor\" x=\"490\">CCONJ</tspan>\n",
       "</text>\n",
       "\n",
       "<text class=\"displacy-token\" fill=\"currentColor\" text-anchor=\"middle\" y=\"377.0\">\n",
       "    <tspan class=\"displacy-word\" fill=\"currentColor\" x=\"600\">2015,</tspan>\n",
       "    <tspan class=\"displacy-tag\" dy=\"2em\" fill=\"currentColor\" x=\"600\">NUM</tspan>\n",
       "</text>\n",
       "\n",
       "<text class=\"displacy-token\" fill=\"currentColor\" text-anchor=\"middle\" y=\"377.0\">\n",
       "    <tspan class=\"displacy-word\" fill=\"currentColor\" x=\"710\">we</tspan>\n",
       "    <tspan class=\"displacy-tag\" dy=\"2em\" fill=\"currentColor\" x=\"710\">PRON</tspan>\n",
       "</text>\n",
       "\n",
       "<text class=\"displacy-token\" fill=\"currentColor\" text-anchor=\"middle\" y=\"377.0\">\n",
       "    <tspan class=\"displacy-word\" fill=\"currentColor\" x=\"820\">had</tspan>\n",
       "    <tspan class=\"displacy-tag\" dy=\"2em\" fill=\"currentColor\" x=\"820\">VERB</tspan>\n",
       "</text>\n",
       "\n",
       "<text class=\"displacy-token\" fill=\"currentColor\" text-anchor=\"middle\" y=\"377.0\">\n",
       "    <tspan class=\"displacy-word\" fill=\"currentColor\" x=\"930\">approximately</tspan>\n",
       "    <tspan class=\"displacy-tag\" dy=\"2em\" fill=\"currentColor\" x=\"930\">ADV</tspan>\n",
       "</text>\n",
       "\n",
       "<text class=\"displacy-token\" fill=\"currentColor\" text-anchor=\"middle\" y=\"377.0\">\n",
       "    <tspan class=\"displacy-word\" fill=\"currentColor\" x=\"1040\">56,400</tspan>\n",
       "    <tspan class=\"displacy-tag\" dy=\"2em\" fill=\"currentColor\" x=\"1040\">NUM</tspan>\n",
       "</text>\n",
       "\n",
       "<text class=\"displacy-token\" fill=\"currentColor\" text-anchor=\"middle\" y=\"377.0\">\n",
       "    <tspan class=\"displacy-word\" fill=\"currentColor\" x=\"1150\">and</tspan>\n",
       "    <tspan class=\"displacy-tag\" dy=\"2em\" fill=\"currentColor\" x=\"1150\">CCONJ</tspan>\n",
       "</text>\n",
       "\n",
       "<text class=\"displacy-token\" fill=\"currentColor\" text-anchor=\"middle\" y=\"377.0\">\n",
       "    <tspan class=\"displacy-word\" fill=\"currentColor\" x=\"1260\">66,400</tspan>\n",
       "    <tspan class=\"displacy-tag\" dy=\"2em\" fill=\"currentColor\" x=\"1260\">NUM</tspan>\n",
       "</text>\n",
       "\n",
       "<text class=\"displacy-token\" fill=\"currentColor\" text-anchor=\"middle\" y=\"377.0\">\n",
       "    <tspan class=\"displacy-word\" fill=\"currentColor\" x=\"1370\">employees,</tspan>\n",
       "    <tspan class=\"displacy-tag\" dy=\"2em\" fill=\"currentColor\" x=\"1370\">NOUN</tspan>\n",
       "</text>\n",
       "\n",
       "<text class=\"displacy-token\" fill=\"currentColor\" text-anchor=\"middle\" y=\"377.0\">\n",
       "    <tspan class=\"displacy-word\" fill=\"currentColor\" x=\"1480\">respectively.</tspan>\n",
       "    <tspan class=\"displacy-tag\" dy=\"2em\" fill=\"currentColor\" x=\"1480\">ADV</tspan>\n",
       "</text>\n",
       "\n",
       "<g class=\"displacy-arrow\">\n",
       "    <path class=\"displacy-arc\" id=\"arrow-0-0\" stroke-width=\"2px\" d=\"M70,332.0 C70,2.0 820.0,2.0 820.0,332.0\" fill=\"none\" stroke=\"currentColor\"/>\n",
       "    <text dy=\"1.25em\" style=\"font-size: 0.8em; letter-spacing: 1px\">\n",
       "        <textPath xlink:href=\"#arrow-0-0\" class=\"displacy-label\" startOffset=\"50%\" fill=\"currentColor\" text-anchor=\"middle\">prep</textPath>\n",
       "    </text>\n",
       "    <path class=\"displacy-arrowhead\" d=\"M70,334.0 L62,322.0 78,322.0\" fill=\"currentColor\"/>\n",
       "</g>\n",
       "\n",
       "<g class=\"displacy-arrow\">\n",
       "    <path class=\"displacy-arc\" id=\"arrow-0-1\" stroke-width=\"2px\" d=\"M70,332.0 C70,277.0 135.0,277.0 135.0,332.0\" fill=\"none\" stroke=\"currentColor\"/>\n",
       "    <text dy=\"1.25em\" style=\"font-size: 0.8em; letter-spacing: 1px\">\n",
       "        <textPath xlink:href=\"#arrow-0-1\" class=\"displacy-label\" startOffset=\"50%\" fill=\"currentColor\" text-anchor=\"middle\">pobj</textPath>\n",
       "    </text>\n",
       "    <path class=\"displacy-arrowhead\" d=\"M135.0,334.0 L143.0,322.0 127.0,322.0\" fill=\"currentColor\"/>\n",
       "</g>\n",
       "\n",
       "<g class=\"displacy-arrow\">\n",
       "    <path class=\"displacy-arc\" id=\"arrow-0-2\" stroke-width=\"2px\" d=\"M180,332.0 C180,277.0 245.0,277.0 245.0,332.0\" fill=\"none\" stroke=\"currentColor\"/>\n",
       "    <text dy=\"1.25em\" style=\"font-size: 0.8em; letter-spacing: 1px\">\n",
       "        <textPath xlink:href=\"#arrow-0-2\" class=\"displacy-label\" startOffset=\"50%\" fill=\"currentColor\" text-anchor=\"middle\">nummod</textPath>\n",
       "    </text>\n",
       "    <path class=\"displacy-arrowhead\" d=\"M245.0,334.0 L253.0,322.0 237.0,322.0\" fill=\"currentColor\"/>\n",
       "</g>\n",
       "\n",
       "<g class=\"displacy-arrow\">\n",
       "    <path class=\"displacy-arc\" id=\"arrow-0-3\" stroke-width=\"2px\" d=\"M180,332.0 C180,222.0 360.0,222.0 360.0,332.0\" fill=\"none\" stroke=\"currentColor\"/>\n",
       "    <text dy=\"1.25em\" style=\"font-size: 0.8em; letter-spacing: 1px\">\n",
       "        <textPath xlink:href=\"#arrow-0-3\" class=\"displacy-label\" startOffset=\"50%\" fill=\"currentColor\" text-anchor=\"middle\">nummod</textPath>\n",
       "    </text>\n",
       "    <path class=\"displacy-arrowhead\" d=\"M360.0,334.0 L368.0,322.0 352.0,322.0\" fill=\"currentColor\"/>\n",
       "</g>\n",
       "\n",
       "<g class=\"displacy-arrow\">\n",
       "    <path class=\"displacy-arc\" id=\"arrow-0-4\" stroke-width=\"2px\" d=\"M400,332.0 C400,277.0 465.0,277.0 465.0,332.0\" fill=\"none\" stroke=\"currentColor\"/>\n",
       "    <text dy=\"1.25em\" style=\"font-size: 0.8em; letter-spacing: 1px\">\n",
       "        <textPath xlink:href=\"#arrow-0-4\" class=\"displacy-label\" startOffset=\"50%\" fill=\"currentColor\" text-anchor=\"middle\">cc</textPath>\n",
       "    </text>\n",
       "    <path class=\"displacy-arrowhead\" d=\"M465.0,334.0 L473.0,322.0 457.0,322.0\" fill=\"currentColor\"/>\n",
       "</g>\n",
       "\n",
       "<g class=\"displacy-arrow\">\n",
       "    <path class=\"displacy-arc\" id=\"arrow-0-5\" stroke-width=\"2px\" d=\"M400,332.0 C400,222.0 580.0,222.0 580.0,332.0\" fill=\"none\" stroke=\"currentColor\"/>\n",
       "    <text dy=\"1.25em\" style=\"font-size: 0.8em; letter-spacing: 1px\">\n",
       "        <textPath xlink:href=\"#arrow-0-5\" class=\"displacy-label\" startOffset=\"50%\" fill=\"currentColor\" text-anchor=\"middle\">conj</textPath>\n",
       "    </text>\n",
       "    <path class=\"displacy-arrowhead\" d=\"M580.0,334.0 L588.0,322.0 572.0,322.0\" fill=\"currentColor\"/>\n",
       "</g>\n",
       "\n",
       "<g class=\"displacy-arrow\">\n",
       "    <path class=\"displacy-arc\" id=\"arrow-0-6\" stroke-width=\"2px\" d=\"M730,332.0 C730,277.0 795.0,277.0 795.0,332.0\" fill=\"none\" stroke=\"currentColor\"/>\n",
       "    <text dy=\"1.25em\" style=\"font-size: 0.8em; letter-spacing: 1px\">\n",
       "        <textPath xlink:href=\"#arrow-0-6\" class=\"displacy-label\" startOffset=\"50%\" fill=\"currentColor\" text-anchor=\"middle\">nsubj</textPath>\n",
       "    </text>\n",
       "    <path class=\"displacy-arrowhead\" d=\"M730,334.0 L722,322.0 738,322.0\" fill=\"currentColor\"/>\n",
       "</g>\n",
       "\n",
       "<g class=\"displacy-arrow\">\n",
       "    <path class=\"displacy-arc\" id=\"arrow-0-7\" stroke-width=\"2px\" d=\"M950,332.0 C950,277.0 1015.0,277.0 1015.0,332.0\" fill=\"none\" stroke=\"currentColor\"/>\n",
       "    <text dy=\"1.25em\" style=\"font-size: 0.8em; letter-spacing: 1px\">\n",
       "        <textPath xlink:href=\"#arrow-0-7\" class=\"displacy-label\" startOffset=\"50%\" fill=\"currentColor\" text-anchor=\"middle\">advmod</textPath>\n",
       "    </text>\n",
       "    <path class=\"displacy-arrowhead\" d=\"M950,334.0 L942,322.0 958,322.0\" fill=\"currentColor\"/>\n",
       "</g>\n",
       "\n",
       "<g class=\"displacy-arrow\">\n",
       "    <path class=\"displacy-arc\" id=\"arrow-0-8\" stroke-width=\"2px\" d=\"M1060,332.0 C1060,167.0 1355.0,167.0 1355.0,332.0\" fill=\"none\" stroke=\"currentColor\"/>\n",
       "    <text dy=\"1.25em\" style=\"font-size: 0.8em; letter-spacing: 1px\">\n",
       "        <textPath xlink:href=\"#arrow-0-8\" class=\"displacy-label\" startOffset=\"50%\" fill=\"currentColor\" text-anchor=\"middle\">nummod</textPath>\n",
       "    </text>\n",
       "    <path class=\"displacy-arrowhead\" d=\"M1060,334.0 L1052,322.0 1068,322.0\" fill=\"currentColor\"/>\n",
       "</g>\n",
       "\n",
       "<g class=\"displacy-arrow\">\n",
       "    <path class=\"displacy-arc\" id=\"arrow-0-9\" stroke-width=\"2px\" d=\"M1060,332.0 C1060,277.0 1125.0,277.0 1125.0,332.0\" fill=\"none\" stroke=\"currentColor\"/>\n",
       "    <text dy=\"1.25em\" style=\"font-size: 0.8em; letter-spacing: 1px\">\n",
       "        <textPath xlink:href=\"#arrow-0-9\" class=\"displacy-label\" startOffset=\"50%\" fill=\"currentColor\" text-anchor=\"middle\">cc</textPath>\n",
       "    </text>\n",
       "    <path class=\"displacy-arrowhead\" d=\"M1125.0,334.0 L1133.0,322.0 1117.0,322.0\" fill=\"currentColor\"/>\n",
       "</g>\n",
       "\n",
       "<g class=\"displacy-arrow\">\n",
       "    <path class=\"displacy-arc\" id=\"arrow-0-10\" stroke-width=\"2px\" d=\"M1060,332.0 C1060,222.0 1240.0,222.0 1240.0,332.0\" fill=\"none\" stroke=\"currentColor\"/>\n",
       "    <text dy=\"1.25em\" style=\"font-size: 0.8em; letter-spacing: 1px\">\n",
       "        <textPath xlink:href=\"#arrow-0-10\" class=\"displacy-label\" startOffset=\"50%\" fill=\"currentColor\" text-anchor=\"middle\">conj</textPath>\n",
       "    </text>\n",
       "    <path class=\"displacy-arrowhead\" d=\"M1240.0,334.0 L1248.0,322.0 1232.0,322.0\" fill=\"currentColor\"/>\n",
       "</g>\n",
       "\n",
       "<g class=\"displacy-arrow\">\n",
       "    <path class=\"displacy-arc\" id=\"arrow-0-11\" stroke-width=\"2px\" d=\"M840,332.0 C840,112.0 1360.0,112.0 1360.0,332.0\" fill=\"none\" stroke=\"currentColor\"/>\n",
       "    <text dy=\"1.25em\" style=\"font-size: 0.8em; letter-spacing: 1px\">\n",
       "        <textPath xlink:href=\"#arrow-0-11\" class=\"displacy-label\" startOffset=\"50%\" fill=\"currentColor\" text-anchor=\"middle\">dobj</textPath>\n",
       "    </text>\n",
       "    <path class=\"displacy-arrowhead\" d=\"M1360.0,334.0 L1368.0,322.0 1352.0,322.0\" fill=\"currentColor\"/>\n",
       "</g>\n",
       "\n",
       "<g class=\"displacy-arrow\">\n",
       "    <path class=\"displacy-arc\" id=\"arrow-0-12\" stroke-width=\"2px\" d=\"M840,332.0 C840,57.0 1475.0,57.0 1475.0,332.0\" fill=\"none\" stroke=\"currentColor\"/>\n",
       "    <text dy=\"1.25em\" style=\"font-size: 0.8em; letter-spacing: 1px\">\n",
       "        <textPath xlink:href=\"#arrow-0-12\" class=\"displacy-label\" startOffset=\"50%\" fill=\"currentColor\" text-anchor=\"middle\">advmod</textPath>\n",
       "    </text>\n",
       "    <path class=\"displacy-arrowhead\" d=\"M1475.0,334.0 L1483.0,322.0 1467.0,322.0\" fill=\"currentColor\"/>\n",
       "</g>\n",
       "</svg>"
      ],
      "text/plain": [
       "<IPython.core.display.HTML object>"
      ]
     },
     "metadata": {},
     "output_type": "display_data"
    }
   ],
   "source": [
    "displacy.render(ex7, style='dep', jupyter=True, options={'distance': 110})"
   ]
  },
  {
   "cell_type": "code",
   "execution_count": 87,
   "metadata": {
    "ExecuteTime": {
     "end_time": "2018-07-07T14:53:30.807392Z",
     "start_time": "2018-07-07T14:53:30.772369Z"
    },
    "hidden": true
   },
   "outputs": [
    {
     "name": "stdout",
     "output_type": "stream",
     "text": [
      "had\n",
      "ROOT\n",
      "had\n",
      "ROOT\n",
      "had\n",
      "ROOT\n",
      "VERB\n",
      "VBD\n",
      "[At, ,, we, employees, ,, respectively, .]\n",
      "['prep', 'punct', 'nsubj', 'dobj', 'punct', 'advmod', 'punct']\n",
      "['IN', ',', 'PRP', 'NNS', ',', 'RB', '.']\n",
      "[31, 2016, 2015, 56,400, 66,400]\n",
      "['', '', '', 'B', '', '', '']\n",
      "[December 31, 2016 and 2015, approximately 56,400, 66,400, employees]\n",
      "['DATE', 'CARDINAL', 'CARDINAL', 'EMP_NOUN']\n",
      "[December 31, 2016 and 2015]\n"
     ]
    }
   ],
   "source": [
    "print(ex7_emp_tok.head)\n",
    "print(ex7_emp_tok.head.dep_)\n",
    "print(ex7_emp_tok.head.head)\n",
    "print(ex7_emp_tok.head.head.dep_)\n",
    "print(ex7_emp_tok.head.head.head)\n",
    "print(ex7_emp_tok.head.head.head.dep_)\n",
    "print(ex7_emp_tok.head.head.head.pos_)\n",
    "print(ex7_emp_tok.head.head.head.tag_)\n",
    "print([c for c in ex7_emp_tok.head.head.head.children])\n",
    "print([c.dep_ for c in ex7_emp_tok.head.head.head.children])\n",
    "print([c.tag_ for c in ex7_emp_tok.head.head.head.children])\n",
    "print([r for r in ex7_emp_tok.head.head.head.subtree if r.tag_== 'CD'])\n",
    "print([c.ent_iob_ for c in ex7_emp_tok.head.head.head.children])\n",
    "print([e for e in ex7.ents])\n",
    "print([e.label_ for e in ex7.ents])\n",
    "print([e for e in ex7.ents if e.label_ == 'DATE'])"
   ]
  },
  {
   "cell_type": "code",
   "execution_count": 88,
   "metadata": {
    "ExecuteTime": {
     "end_time": "2018-07-07T14:53:30.813395Z",
     "start_time": "2018-07-07T14:53:30.808393Z"
    },
    "hidden": true,
    "scrolled": true
   },
   "outputs": [
    {
     "data": {
      "text/plain": [
       "[(we, employees), (56,400, employees)]"
      ]
     },
     "execution_count": 88,
     "metadata": {},
     "output_type": "execute_result"
    }
   ],
   "source": [
    "extract_emp_relations(ex7)"
   ]
  },
  {
   "cell_type": "markdown",
   "metadata": {},
   "source": [
    "### Testing on sentences"
   ]
  },
  {
   "cell_type": "code",
   "execution_count": 89,
   "metadata": {
    "ExecuteTime": {
     "end_time": "2018-07-07T14:53:30.823403Z",
     "start_time": "2018-07-07T14:53:30.814397Z"
    }
   },
   "outputs": [],
   "source": [
    "test_sents = [\"As of September 30, 2016, we employed approximately 7,300 employees world-wide.\", \n",
    "\"As of December 31, 2016, the subsidiaries of AEP had a total of 17,634 employees.\", \n",
    "\"At December 31, 2016 and 2015, we had approximately 56,400 and 66,400 employees, respectively.\", \n",
    "\"At December 31, 2016, we had approximately 9,400 full-time employees.\", \n",
    "\"As of October 29, 2016, we employed approximately 10,000 individuals worldwide.\", \n",
    "\"The number of full-time employees of the Company was approximately 31,800 at December 31, 2016 and 32,300 at December 31, 2015.\", \n",
    "\"As of December 31, 2016, we had 1,469 total employees.\", \n",
    "\"ADP employed approximately 57,000 persons as of June 30, 2016.\", \n",
    "\"At December 31, 2016, we employed approximately 26,400 employees.\", \n",
    "\"The Company and its subsidiaries employed 1,562 persons at December 31, 2016, 114 of whom are covered by a collective bargaining agreement with District 10 of the International Association of Machinists.\", \n",
    "\"As of December 31, 2016, the Company had 455 employees, an increase of 17 employees from the prior year end.\", \n",
    "\"As of December 31, 2016, we had approximately 17,500 employees worldwide.\", \n",
    "\"Based in Neenah, Wisconsin, at December 31, 2016, the Company employed approximately 17,500 individuals and had 59 manufacturing facilities.\", \n",
    "\"As of January 31, 2017, we employed 7,683 individuals.\", \n",
    "\"At December 31, 2016, Bio-Rad had approximately 8,250 employees.\", \n",
    "\"As of December 31, 2016, we had approximately 8,500 full-time employees and 600 contractors.\", \n",
    "\"Alcoa's total worldwide employment at the end of 2016 was approximately 14,000 employees in 15 countries.\", \n",
    "\"As of December 31, 2016, we employed approximately 2,100 people.\", \n",
    "\"At December 31, 2016, the Company had approximately 11,500 employees.\",\n",
    "\"As of February 23, 2017, we employed approximately 41,000 full-time Team Members and approximately 33,000 part-time Team Members.\", \n",
    "\"As of December 31, 2016, we had 699 full-time employees and 202 temporary employees.\", \n",
    "\"As of December 31, 2016, we had 2,646 employees, 1,581 of whom were pilots.\"]"
   ]
  },
  {
   "cell_type": "code",
   "execution_count": 90,
   "metadata": {
    "ExecuteTime": {
     "end_time": "2018-07-07T14:53:31.242682Z",
     "start_time": "2018-07-07T14:53:30.824404Z"
    },
    "scrolled": true
   },
   "outputs": [
    {
     "name": "stdout",
     "output_type": "stream",
     "text": [
      "Sentence index: 0\n",
      "[(we, employees), (7,300, employees)]\n",
      "Sentence index: 1\n",
      "[(AEP, employees), (17,634, employees), (total, employees)]\n",
      "Sentence index: 2\n",
      "[(we, employees), (56,400, employees)]\n",
      "Sentence index: 3\n",
      "[(we, employees), (9,400, employees)]\n",
      "Sentence index: 4\n",
      "[(we, individuals), (10,000, individuals)]\n",
      "Sentence index: 5\n",
      "[(Company, employees), (31,800, employees), (number, employees)]\n",
      "Sentence index: 6\n",
      "[(we, employees), (1,469, employees)]\n",
      "Sentence index: 7\n",
      "[(ADP, persons), (ADP, persons), (57,000, persons)]\n",
      "Sentence index: 8\n",
      "[(we, employees), (26,400, employees)]\n",
      "Sentence index: 9\n",
      "[(the International Association of Machinists, persons), (its, persons), (Company, persons), (1,562, persons)]\n",
      "Sentence index: 10\n",
      "[(Company, employees), (455, employees), (17, employees), (increase, employees)]\n",
      "Sentence index: 11\n",
      "[(we, employees), (17,500, employees)]\n",
      "Sentence index: 12\n",
      "[(Company, individuals), (17,500, individuals)]\n",
      "Sentence index: 13\n",
      "[(we, individuals), (7,683, individuals)]\n",
      "Sentence index: 14\n",
      "[(Bio-Rad, employees), (Rad, employees), (8,250, employees)]\n",
      "Sentence index: 15\n",
      "[(we, employees), (8,500, employees)]\n",
      "Sentence index: 16\n",
      "[(Alcoa, employees), (Alcoa, employees), (employment, employees), (14,000, employees)]\n",
      "Sentence index: 17\n",
      "[(we, people), (2,100, people)]\n",
      "Sentence index: 18\n",
      "[(Company, employees), (11,500, employees)]\n",
      "Sentence index: 19\n",
      "[(we, Team Members), (41,000, Team Members), (33,000, Team Members)]\n",
      "Sentence index: 20\n",
      "[(we, employees), (699, employees), (202, employees)]\n",
      "Sentence index: 21\n",
      "[(we, employees), (2,646, employees)]\n"
     ]
    }
   ],
   "source": [
    "for i,t in enumerate(test_sents):\n",
    "    print('Sentence index: ' + str(i))\n",
    "    print(extract_emp_relations(nlp(t)))"
   ]
  },
  {
   "cell_type": "markdown",
   "metadata": {},
   "source": [
    "## Testing with paragraphs"
   ]
  },
  {
   "cell_type": "code",
   "execution_count": 12,
   "metadata": {
    "ExecuteTime": {
     "end_time": "2018-07-03T20:25:41.478348Z",
     "start_time": "2018-07-03T20:25:41.473345Z"
    }
   },
   "outputs": [],
   "source": [
    "train_para_list = train_df.para_text.tolist()"
   ]
  },
  {
   "cell_type": "code",
   "execution_count": 13,
   "metadata": {
    "ExecuteTime": {
     "end_time": "2018-07-03T20:25:41.513369Z",
     "start_time": "2018-07-03T20:25:41.480349Z"
    }
   },
   "outputs": [
    {
     "name": "stdout",
     "output_type": "stream",
     "text": [
      "As of September 30, 2016, we employed approximately 7,300 employees world-wide.\n",
      "Approximately 860 of our employees in Mexico, 450 employees in Singapore, and 200 employees in Japan are covered by collective bargaining and other union agreements.\n"
     ]
    }
   ],
   "source": [
    "for sent in nlp(train_para_list[0]).sents:\n",
    "    print(sent)"
   ]
  },
  {
   "cell_type": "code",
   "execution_count": 14,
   "metadata": {
    "ExecuteTime": {
     "end_time": "2018-07-03T20:25:46.376946Z",
     "start_time": "2018-07-03T20:25:46.335918Z"
    },
    "scrolled": true
   },
   "outputs": [
    {
     "name": "stdout",
     "output_type": "stream",
     "text": [
      "[('As', 'IN'), ('of', 'IN'), ('September', 'NNP'), ('30', 'CD'), (',', ','), ('2016', 'CD'), (',', ','), ('we', 'PRP'), ('employed', 'VBD'), ('approximately', 'RB'), ('7,300', 'CD'), ('employees', 'NNS'), ('world', 'NN'), ('-', 'HYPH'), ('wide', 'RB'), ('.', '.')]\n"
     ]
    }
   ],
   "source": [
    "print([(token.text, token.tag_) for token in nlp(list(nlp(train_para_list[0]).sents)[0].text)])"
   ]
  },
  {
   "cell_type": "code",
   "execution_count": 16,
   "metadata": {
    "ExecuteTime": {
     "end_time": "2018-07-03T20:26:05.280758Z",
     "start_time": "2018-07-03T20:26:05.231728Z"
    }
   },
   "outputs": [
    {
     "name": "stdout",
     "output_type": "stream",
     "text": [
      "September 30, 2016 DATE\n",
      "approximately 7,300 CARDINAL\n",
      "employees EMP_NOUN\n"
     ]
    }
   ],
   "source": [
    "for ent in nlp(list(nlp(train_para_list[0]).sents)[0].text).ents:\n",
    "    print(ent.text, ent.label_)"
   ]
  },
  {
   "cell_type": "code",
   "execution_count": 47,
   "metadata": {
    "ExecuteTime": {
     "end_time": "2018-07-02T15:46:16.934099Z",
     "start_time": "2018-07-02T15:46:16.928093Z"
    }
   },
   "outputs": [],
   "source": [
    "test_list = [\"We are a small company with approximately 61 employees.\",\n",
    "\"The number of full-time employees of the Company was approximately 31,800 at December 31, 2016 and 32,300 at December 31, 2015. \",\n",
    "\"Total workforce level at December 31, 2016 was approximately 150,500\",           \n",
    "\"Currently, the Company and its subsidiaries have an aggregate of 35 employees.\",\n",
    "\"we employ only 31 employees\", \n",
    "\"We currently have 21 employees\",\n",
    "\"We currently employ 26 full-time employees\",\n",
    "\"Including our full and part-time personnel, we estimate that we have \\\n",
    "the equivalent of 12 full time employees.\",\n",
    "\"As a REIT, we employ only 31 employees and have a cost-effective \\\n",
    "management structure.\"\n",
    "            ]"
   ]
  },
  {
   "cell_type": "code",
   "execution_count": 18,
   "metadata": {
    "ExecuteTime": {
     "end_time": "2018-07-03T20:26:39.652111Z",
     "start_time": "2018-07-03T20:26:39.584066Z"
    }
   },
   "outputs": [],
   "source": [
    "doc0 = nlp(test_sents[0]) \n",
    "doc1 = nlp(test_sents[1]) \n",
    "doc2 = nlp(test_sents[2]) \n",
    "doc3 = nlp(test_sents[3]) \n",
    "doc4 = nlp(test_sents[4]) "
   ]
  },
  {
   "cell_type": "markdown",
   "metadata": {},
   "source": [
    "## Matcher testing"
   ]
  },
  {
   "cell_type": "code",
   "execution_count": 183,
   "metadata": {
    "ExecuteTime": {
     "end_time": "2018-07-03T17:39:01.212615Z",
     "start_time": "2018-07-03T17:38:56.376437Z"
    }
   },
   "outputs": [],
   "source": [
    "emp_ner_regex = re.compile(r\"employees|individuals|people|persons|team members\", re.I)\n",
    "\n",
    "emp_flag = lambda text: bool(emp_ner_regex.match(text))\n",
    "\n",
    "IS_EMP = nlp.vocab.add_flag(emp_flag)\n",
    "\n",
    "matcher = Matcher(nlp.vocab)\n",
    "\n",
    "num_emp_pat = [{'ENT_TYPE' : 'CARDINAL', 'TAG' : 'CD'}, {IS_EMP : True}]\n",
    "\n",
    "matcher.add('NUM_EMP', None, num_emp_pat)\n",
    "matcher.add('EMP_NOUN', None, [{IS_EMP: True}])"
   ]
  },
  {
   "cell_type": "code",
   "execution_count": 184,
   "metadata": {
    "ExecuteTime": {
     "end_time": "2018-07-03T17:39:20.482731Z",
     "start_time": "2018-07-03T17:39:20.479732Z"
    }
   },
   "outputs": [],
   "source": [
    "matches1 = matcher(doc1)"
   ]
  },
  {
   "cell_type": "code",
   "execution_count": 186,
   "metadata": {
    "ExecuteTime": {
     "end_time": "2018-07-03T17:39:51.499857Z",
     "start_time": "2018-07-03T17:39:51.495855Z"
    }
   },
   "outputs": [],
   "source": [
    "for match_id, start, end in matches1:\n",
    "# create a new Span for each match and use the match_id as the label\n",
    "    span = Span(doc1, start, end, label=match_id)\n",
    "    doc1.ents = list(doc1.ents) + [span]  # add span to doc.ents"
   ]
  },
  {
   "cell_type": "code",
   "execution_count": 164,
   "metadata": {
    "ExecuteTime": {
     "end_time": "2018-07-03T17:17:45.651886Z",
     "start_time": "2018-07-03T17:17:45.647884Z"
    }
   },
   "outputs": [],
   "source": [
    "def add_match_ents(doc, matches):\n",
    "    \"\"\"Add matches from Matcher instance to a document's entities.\"\"\"\n",
    "    for match_id, start, end in matches:\n",
    "    # create a new Span for each match and use the match_id as the label\n",
    "        span = Span(doc, start, end, label=match_id)\n",
    "        doc.ents = list(doc.ents) + [span]  # add span to doc.ents"
   ]
  },
  {
   "cell_type": "code",
   "execution_count": 166,
   "metadata": {
    "ExecuteTime": {
     "end_time": "2018-07-03T17:21:10.593992Z",
     "start_time": "2018-07-03T17:21:10.590991Z"
    }
   },
   "outputs": [],
   "source": [
    "matcher = Matcher(nlp.vocab)\n",
    "matcher.add('NumEmp', None, num_emp_pat)"
   ]
  },
  {
   "cell_type": "code",
   "execution_count": 128,
   "metadata": {
    "ExecuteTime": {
     "end_time": "2018-07-02T19:48:04.557175Z",
     "start_time": "2018-07-02T19:48:04.536160Z"
    }
   },
   "outputs": [
    {
     "name": "stdout",
     "output_type": "stream",
     "text": [
      "employees\n"
     ]
    }
   ],
   "source": [
    "for match in re.finditer(emp_ner_regex, nlp(test_sents[0]).text):\n",
    "    start, end = match.span()         # get matched indices\n",
    "    span = doc.char_span(start, end)  # create Span from indices\n",
    "    print(span.text)"
   ]
  },
  {
   "cell_type": "code",
   "execution_count": 189,
   "metadata": {
    "ExecuteTime": {
     "end_time": "2018-07-03T17:43:42.738700Z",
     "start_time": "2018-07-03T17:43:42.731695Z"
    }
   },
   "outputs": [
    {
     "name": "stdout",
     "output_type": "stream",
     "text": [
      "17,634 employees\n",
      "As of December 31, 2016, the subsidiaries of AEP had a total of 17,634 employees.\n"
     ]
    }
   ],
   "source": [
    "for match_id, start, end in matches1:\n",
    "    span = doc1[start:end]\n",
    "    print(span)\n",
    "    print(span.sent)"
   ]
  }
 ],
 "metadata": {
  "kernelspec": {
   "display_name": "Python 3",
   "language": "python",
   "name": "python3"
  },
  "language_info": {
   "codemirror_mode": {
    "name": "ipython",
    "version": 3
   },
   "file_extension": ".py",
   "mimetype": "text/x-python",
   "name": "python",
   "nbconvert_exporter": "python",
   "pygments_lexer": "ipython3",
   "version": "3.6.1"
  },
  "toc": {
   "base_numbering": 1,
   "nav_menu": {},
   "number_sections": true,
   "sideBar": true,
   "skip_h1_title": false,
   "title_cell": "Table of Contents",
   "title_sidebar": "Contents",
   "toc_cell": true,
   "toc_position": {},
   "toc_section_display": true,
   "toc_window_display": false
  }
 },
 "nbformat": 4,
 "nbformat_minor": 2
}
