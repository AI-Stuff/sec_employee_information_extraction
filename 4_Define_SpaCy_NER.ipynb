{
 "cells": [
  {
   "cell_type": "markdown",
   "metadata": {},
   "source": [
    "This notebook contains the code to create a facts dataframe from SEC paragraphs. It is a work in progress, and is currently being updated. "
   ]
  },
  {
   "cell_type": "code",
   "execution_count": 1,
   "metadata": {
    "ExecuteTime": {
     "end_time": "2018-08-14T01:12:32.423096Z",
     "start_time": "2018-08-14T01:12:31.653265Z"
    },
    "scrolled": true
   },
   "outputs": [],
   "source": [
    "import pandas as pd\n",
    "\n",
    "#train_df = pd.read_csv('data/classifier_input_train.csv', index_col=0)\n",
    "train_df = pd.read_csv('data/classifier_input_train3.csv', index_col=0)\n",
    "#val_df = pd.read_csv('data/classifier_input_val.csv', index_col=0)\n",
    "val_df = pd.read_csv('data/classifier_input_val3.csv', index_col=0)"
   ]
  },
  {
   "cell_type": "markdown",
   "metadata": {},
   "source": [
    "## Create pipeline components to use in SpaCy NLP pipeline"
   ]
  },
  {
   "cell_type": "code",
   "execution_count": 2,
   "metadata": {
    "ExecuteTime": {
     "end_time": "2018-08-14T01:12:32.593254Z",
     "start_time": "2018-08-14T01:12:32.423096Z"
    }
   },
   "outputs": [],
   "source": [
    "import spacy\n",
    "#from spacy.matcher import Matcher, PhraseMatcher\n",
    "#from spacy.tokens import Doc, Span, Token\n",
    "from spacy_pipes import pipeline_components \n",
    "from spacy_utils import helper_funcs as hf"
   ]
  },
  {
   "cell_type": "code",
   "execution_count": 3,
   "metadata": {
    "ExecuteTime": {
     "end_time": "2018-08-14T01:12:32.610267Z",
     "start_time": "2018-08-14T01:12:32.595254Z"
    },
    "code_folding": [
     1
    ]
   },
   "outputs": [
    {
     "data": {
      "text/plain": [
       "True"
      ]
     },
     "execution_count": 3,
     "metadata": {},
     "output_type": "execute_result"
    }
   ],
   "source": [
    "import re\n",
    "\n",
    "# Testing regex using examples from data\n",
    "false_date_regex = re.compile(r\"^([4-9][\\d]|3[2-9]|(([0-9]{1,3},)*[0-9]{3}([.][0-9])?))$\")\n",
    "[True, True, False] == [bool(re.match(false_date_regex, s)) for s in [\"375,000\", \"61\", \"2014\"]]"
   ]
  },
  {
   "cell_type": "markdown",
   "metadata": {},
   "source": [
    "Components to:\n",
    "- EmpNounRecognizer: Class to tag employee nouns as entities\n",
    "- EmpTypeRecognizer: Create entities that mark employee types (e.g., full-time, temporary, etc.)\n",
    "- NumberWordRecognizer: Flag number words (e.g., \"thousand\")\n",
    "- YearMatcher: Add custom `_.is_year` attribute to year tokens that are part of DATE entities\n",
    "- FalseDateMatcher: Flags numbers that have been incorrectly labeled as part of DATE entities"
   ]
  },
  {
   "cell_type": "code",
   "execution_count": 4,
   "metadata": {
    "ExecuteTime": {
     "end_time": "2018-08-14T01:12:32.644287Z",
     "start_time": "2018-08-14T01:12:32.612266Z"
    }
   },
   "outputs": [],
   "source": [
    "def get_case_combos(str_list, fast=False):\n",
    "    \"\"\"Return a list with original, lower, upper, and title case.\"\"\"\n",
    "    \n",
    "    if not fast: # Preserve some rational ordering\n",
    "        case_combos = [s.lower() for s in str_list] + [s.upper() for s in str_list] \n",
    "        case_combos = case_combos + [s.title() for s in str_list if s.title() not in case_combos] \n",
    "        case_combos = case_combos + [s for s in str_list if s not in case_combos]\n",
    "        return case_combos\n",
    "    \n",
    "    case_combos = str_list + [s.lower() for s in str_list] + [s.upper() for s in str_list] + [s.title() for s in str_list]\n",
    "    return list(set(case_combos))\n",
    "\n",
    "emp_terms_list = [\"associates\", \"employees\", \"equivalents\", \"FTEs\", \"FTE's\", \"headcount\", \"individuals\", \n",
    "                  \"people\", \"persons\", \"team members\", \"workers\", \"workforce\"]\n",
    "emp_terms_list = get_case_combos(emp_terms_list)\n",
    "\n",
    "part_time_terms = get_case_combos([\"half-time\", \"half time\", \"part-time\", \"part time\"])\n",
    "full_time_terms = get_case_combos([\"full-time\", \"full time\", \"40-hour equivalent\", \"40 hour equivalent\", \"full-time equivalent\", \"full time equivalent\", \"full-\"])\n",
    "\n",
    "# The emp_noun_recognizer accepts a dictionary for each entity label type\n",
    "emp_type_dict = {'PART_TIME': part_time_terms, \n",
    "                'FULL_TIME': full_time_terms}\n",
    "\n",
    "singles_word_list = [\"one\", \"two\", \"three\", \"four\", \"five\", \"six\", \"seven\", \"eight\", \"nine\"]\n",
    "teens_word_list = [\"ten\", \"eleven\", \"twelve\", \"thirteen\", \"fourteen\", \"fifteen\", \"sixteen\", \"seventeen\", \"eighteen\", \"nineteen\"]\n",
    "tens_word_list = [\"twenty\", \"thirty\", \"forty\", \"fifty\", \"sixty\", \"seventy\", \"eighty\", \"ninety\"]\n",
    "magnitude_word_list = [\"hundred\", \"thousand\", \"million\", \"billion\"]\n",
    "\n",
    "teen_unit_combos = [x.join([y,z])  for x in [\" \", \"-\"] for y in get_case_combos(tens_word_list) for z in get_case_combos(singles_word_list) ]\n",
    "number_word_list = get_case_combos(singles_word_list) + get_case_combos(teens_word_list) + get_case_combos(tens_word_list) + get_case_combos(magnitude_word_list) + teen_unit_combos\n",
    "\n",
    "year_patterns = [{'ENT_TYPE': 'DATE', 'TAG' : 'CD', 'SHAPE' : 'dddd'}]\n",
    "false_date_patterns = [{'ENT_TYPE': 'DATE', 'TAG' : 'CD'}]"
   ]
  },
  {
   "cell_type": "markdown",
   "metadata": {},
   "source": [
    "The large, pre-computed language model seems to do a better job of parsing dependencies, which is important with the complex sentence types in these documents. \n",
    "\n",
    "The below code initializes the nlp pipeline and then adds the custom components. "
   ]
  },
  {
   "cell_type": "code",
   "execution_count": 5,
   "metadata": {
    "ExecuteTime": {
     "end_time": "2018-08-14T01:12:56.876098Z",
     "start_time": "2018-08-14T01:12:32.646289Z"
    }
   },
   "outputs": [
    {
     "name": "stdout",
     "output_type": "stream",
     "text": [
      "Pipeline ['tagger', 'parser', 'ner', 'employee_nouns', 'employee_types', 'number_words', 'year_matcher', 'false_date']\n"
     ]
    }
   ],
   "source": [
    "nlp = spacy.load('en_core_web_lg')\n",
    "\n",
    "emp_noun_recognizer = pipeline_components.EmpNounRecognizer(nlp, emp_terms_list)\n",
    "nlp.add_pipe(emp_noun_recognizer, last=True) \n",
    "\n",
    "emp_type_recognizer = pipeline_components.EmpTypeRecognizer(nlp, emp_type_dict)\n",
    "nlp.add_pipe(emp_type_recognizer, last=True) \n",
    "\n",
    "number_word_recognizer = pipeline_components.NumberWordRecognizer(nlp, number_word_list)\n",
    "nlp.add_pipe(number_word_recognizer, last=True) \n",
    "\n",
    "year_matcher = pipeline_components.YearMatcher(nlp, year_patterns)\n",
    "nlp.add_pipe(year_matcher, last=True) \n",
    "\n",
    "false_date_matcher = pipeline_components.FalseDateMatcher(nlp, false_date_patterns)\n",
    "nlp.add_pipe(false_date_matcher, last=True) \n",
    "\n",
    "print('Pipeline', nlp.pipe_names) "
   ]
  },
  {
   "cell_type": "markdown",
   "metadata": {},
   "source": [
    "## Code for relationship extraction and helper functions"
   ]
  },
  {
   "cell_type": "markdown",
   "metadata": {},
   "source": [
    "### Function: extract_emp_relations"
   ]
  },
  {
   "cell_type": "code",
   "execution_count": 6,
   "metadata": {
    "ExecuteTime": {
     "end_time": "2018-08-14T01:12:59.144214Z",
     "start_time": "2018-08-14T01:12:56.879100Z"
    },
    "code_folding": [
     2,
     12,
     21,
     45,
     52,
     71,
     134,
     165,
     243
    ]
   },
   "outputs": [],
   "source": [
    "from collections import namedtuple\n",
    "\n",
    "def find_root_tok(tok):\n",
    "    \"\"\"Return (tok's root node, num steps to reach root).\"\"\"\n",
    "    \n",
    "    steps = 0 \n",
    "    root_tok = tok\n",
    "    while root_tok.dep_ != 'ROOT':\n",
    "        steps +=1 \n",
    "        root_tok = root_tok.head\n",
    "    return (root_tok, steps)\n",
    "\n",
    "def find_verb_tok(tok, verbose = False):\n",
    "    \"\"\"Return first verb ancestor of tok.\"\"\"\n",
    "    verb_tok = 0\n",
    "    for a in tok.ancestors:\n",
    "        #if a.pos_ == 'VERB' and a.dep_ in ['ROOT', 'ccomp', 'advcl']:\n",
    "        if a.pos_ == 'VERB' and a.dep_ in ['ROOT', 'ccomp', 'advcl', 'relcl']:\n",
    "            return a\n",
    "    return verb_tok\n",
    "    \n",
    "def find_tok_side_of_root(tok, root_tok):\n",
    "    \"\"\"Return 'right' or 'left' if tok is in subtree of root.\"\"\"\n",
    "    \n",
    "    for a in [tok] + list(tok.ancestors): # The ancestors of a token will either be in root.rights or root.lefts\n",
    "        if a in root_tok.lefts:\n",
    "            return 'left'\n",
    "        elif a in root_tok.rights:\n",
    "            return 'right'\n",
    "    else:\n",
    "        return None\n",
    "\n",
    "def find_subject(root_tok, verbose=False):\n",
    "    \"\"\"Return token of nominal subject\"\"\"\n",
    "    subjects = [w for w in root_tok.lefts if w.dep_ == 'nsubj']\n",
    "    try:\n",
    "#        for i, s in enumerate(subjects):\n",
    "#            print(\"nsubj \"+str(i)+\" of \" + str(root_tok) + \" is : \" + str(s))\n",
    "        return subjects[0]\n",
    "    except:\n",
    "        if verbose == True:\n",
    "            print(\"No nsubj found left of ROOT. Noun phrases left of root are:\")\n",
    "            print([x for x in list(root_tok.doc.noun_chunk)])\n",
    "        return False\n",
    "        \n",
    "def get_org_span(tok):\n",
    "    \"\"\"Return the entity span if token has ORG ent_type_.\"\"\"\n",
    "    if tok.ent_type_ == 'ORG':\n",
    "        subject = [e for e in tok.doc.ents if tok in e][0]\n",
    "        return subject\n",
    "    return tok\n",
    "\n",
    "def check_emp_type_flags(toks, verbose=False):\n",
    "    \"\"\"Return 'Part-Time' or 'Full-Time' if corresponding flags\n",
    "    are set to True.\"\"\"\n",
    "    part_time, full_time = (0,0)\n",
    "    for tok in toks:\n",
    "        if tok._.is_part_time == True:\n",
    "            part_time += 1 \n",
    "        elif tok._.is_full_time == True:\n",
    "            full_time += 1\n",
    "    if part_time and full_time:\n",
    "        if verbose == True:\n",
    "            print(\"Part_time and full_time flags found.\")\n",
    "        return 'Other Employees'\n",
    "    if part_time:\n",
    "        return 'Part-Time Employees'\n",
    "    if full_time:\n",
    "        return 'Full-Time Employees'\n",
    "    return 'Other Employees'\n",
    "\n",
    "def find_emp_type_toks(tok, verbose=False):\n",
    "    \"\"\"Return child token left of tok if emp_type flagged or ADJ.\"\"\"\n",
    "    \n",
    "    tok_emp_type_subtree = [t for t in tok.subtree if t._.is_emp_type == True]\n",
    "    flagged_toks = [t for t in tok.children if t in tok_emp_type_subtree]\n",
    "    if tok_emp_type_subtree:\n",
    "        if verbose == True:\n",
    "            print(\"tok_emp_type_subtree: \",tok_emp_type_subtree)\n",
    "        if flagged_toks:\n",
    "            if verbose == True:\n",
    "                print(\"Flagged toks from tok.children:\", flagged_toks)\n",
    "        if not flagged_toks:\n",
    "            flagged_toks = [t for t in tok_emp_type_subtree if t.dep_ == 'compound' and t.head.dep_ == 'pobj' and t.head.head.head == tok]\n",
    "            if flagged_toks:\n",
    "                if verbose == True:\n",
    "                    print(\"Flagged toks from tok_emp_subtree:\", flagged_toks)\n",
    "                    print(\"t.dep_ == 'compound', t.head.dep_ == 'pobj', and t.head.head.head is emp_noun\")\n",
    "        if not flagged_toks:\n",
    "            flagged_toks = [t for t in tok_emp_type_subtree if t.dep_ == 'pobj' and t.head.head == tok]\n",
    "            if flagged_toks:\n",
    "                if verbose == True:\n",
    "                    print(\"Flagged toks from tok_emp_subtree:\", flagged_toks)\n",
    "                    print(\"t.dep_ == 'pobj' and t.head.head is emp_noun\")\n",
    "    # If word is dobj and emp_type is part of a prepositional phrase, need to check head.rights\n",
    "    if not flagged_toks and tok.dep_ == 'dobj':\n",
    "        tok_head_emptype_subtreee = [t for t in list(tok.head.subtree) if t._.is_emp_type]\n",
    "        tok_head_empnoun_subtreee = [t for t in list(tok.head.subtree) if t._.is_emp_noun]\n",
    "        if verbose==True:\n",
    "            print(\"Finding emp_type, emp_tok is dobj\")\n",
    "            print(\"emp_noun tok head:\", tok.head)\n",
    "            print(\"tok_head_emptype_subtreee:\", tok_head_emptype_subtreee)\n",
    "            print(\"tok_head_empnoun_subtreee:\", tok_head_empnoun_subtreee)\n",
    "        flagged_toks = [t for t in tok_head_emptype_subtreee if tok_head_emptype_subtreee.index(t) == tok_head_empnoun_subtreee.index(tok) ]\n",
    "        if flagged_toks:\n",
    "            if verbose == True:\n",
    "                print(\"Flagged toks from tok_head_emptype_subtreee:\", flagged_toks)\n",
    "                print(\"Flagged tok heads:\", [t.head for t in flagged_toks])\n",
    "                print(\"Flagged tok head deps:\", [t.head.dep_ for t in flagged_toks])\n",
    "    if flagged_toks:\n",
    "        type_conjs = [t for t in list(flagged_toks[0].conjuncts) if t._.is_emp_type == True]\n",
    "        if type_conjs:\n",
    "            if verbose == True:\n",
    "                print(\"type_conjs: \", type_conjs)\n",
    "            flagged_toks = flagged_toks + type_conjs\n",
    "        if verbose == True:\n",
    "            print(\"Flagged_toks: \", flagged_toks)\n",
    "        #return flagged_toks[0]\n",
    "        return flagged_toks\n",
    "    \n",
    "    candidate_tok = tok.doc[tok.i - 1]  \n",
    "    while candidate_tok.is_punct == True:\n",
    "        candidate_tok = tok.doc[candidate_tok.i - 1]\n",
    "    if candidate_tok.head == tok:\n",
    "        if candidate_tok.pos_ == 'ADJ' or candidate_tok.dep_ == 'compound':\n",
    "            return [candidate_tok]\n",
    "        if verbose == True:\n",
    "            print(\"Candidate tok: \", candidate_tok)\n",
    "            print(\"Candidate tok.pos_:  \", candidate_tok.pos_)\n",
    "            print(\"Candidate tok.dep_:  \", candidate_tok.dep_)\n",
    "    if verbose == True:\n",
    "            print(\"No toks, returning 0.\")\n",
    "    return flagged_toks\n",
    "\n",
    "def get_nummod_tok(tok, years, verbose=False):\n",
    "    \"\"\"Return tok.children that are nummod and card entities.\"\"\"\n",
    "    \n",
    "    num_toks = [c for c in tok.children if c.dep_ == 'nummod' and c.ent_type_ in ['CARDINAL', 'QUANTITY', 'FALSE_DATE']]\n",
    "    if num_toks:\n",
    "        if verbose == True:\n",
    "            print(\"Num_toks are: \" + str(num_toks))\n",
    "        num_tok = num_toks[0]\n",
    "        num_tok_conj = [c for c in num_tok.children if c.dep_=='conj' and c.tag_ == 'CD']\n",
    "        \n",
    "        if num_tok_conj:\n",
    "            if verbose == True:\n",
    "                print(\"num_tok has conjugate children:\" + str(num_tok_conj))\n",
    "                print(\"num_tok subtree is :\" + str(list(num_tok.subtree)))\n",
    "            cards = [(c.i, c) for c in num_tok.subtree if c.tag_== 'CD' and c.ent_type_ in ['CARDINAL', 'QUANTITY', 'FALSE_DATE']]\n",
    "            \n",
    "            if len(years) == len(cards):\n",
    "                order_indices = [years.index(y) for y in sorted(years, reverse=True, key = lambda x: x[1])]\n",
    "                #year_emps = [(years[i][1].text, cards[i][1].text) for i in order_indices]\n",
    "                #num_tok = max(year_emps)[1]\n",
    "                year_emps = sorted([(years[i][1], cards[i][1]) for i in order_indices], reverse=True, key = lambda x: x[0].text)\n",
    "                num_tok = year_emps[0][1]\n",
    "                if verbose == True:\n",
    "                    print(\"years: \" + str(years))\n",
    "                    print(\"cards: \" + str(cards))\n",
    "                    print(\"order_indices: \" + str(order_indices))\n",
    "                    print(\"year_emps: \" + str(year_emps))\n",
    "        return num_tok\n",
    "    \n",
    "    return num_toks    \n",
    "\n",
    "def extract_emp_relations(doc, verb_list=False, verbose=False):\n",
    "    \"\"\"Return tuple of extracted relations.\"\"\"\n",
    "    if not verb_list:\n",
    "        verb_list = ['be', 'employ', 'have']\n",
    "    \n",
    "    relation_tuples = []\n",
    "    \n",
    "    tuple_field_names = [\"sent_num\", \"word_num\",  \"subject\", \"verb\", \n",
    "                         \"quantity\", \"quantity_idx\",  \"quantity_type\", \"type_token\" , \n",
    "                         \"word\", \"word_idx\", \"word_dep\",  \"depth\", \"sentence\"]\n",
    "    RelationDetails = namedtuple('RelationDetails', tuple_field_names)\n",
    "    \n",
    "    for sent_id, sent in enumerate(doc.sents):\n",
    "        \n",
    "        # Find the root token\n",
    "        root_tok, depth = find_root_tok(sent[0])\n",
    "        \n",
    "        match_pairs = []\n",
    "        num_tok, num_tok_conj, subject, year_conj = (False, False, False, False)\n",
    "        years = [(y.i, y) for y in root_tok.subtree if y._.is_year == True] # Need to change to root.subtree to only return the word's sentence\n",
    "\n",
    "        for word_id, word in enumerate(filter(lambda w: w.ent_type_ == 'EMP_NOUN', sent)):  \n",
    "            \n",
    "            if verbose == True:\n",
    "                print(\"Word_id is : \" + str(word_id))\n",
    "                print(\"Word is : \" + str(word))\n",
    "                print(\"Word subtree is : \", doc[word.left_edge.i:word.right_edge.i].text)\n",
    "                print(\"Word children : \", list(word.children))\n",
    "            \n",
    "            num_toks = []\n",
    "            num_tok = get_nummod_tok(word, years, verbose = verbose)\n",
    "            \n",
    "            # Find first verb ancestor \n",
    "            verb_tok = find_verb_tok(word)\n",
    "            if not verb_tok:\n",
    "                continue\n",
    "            \n",
    "            # If verb does not have expected lemma, move to next sentence\n",
    "            if root_tok.lemma_ not in verb_list:\n",
    "                root_tok = verb_tok\n",
    "                if verbose == True:\n",
    "                        print(\"Root token lemma not one of ['be', 'employ', 'have']. \")\n",
    "                        print(\"Root token, lemma are : \" + str(root_tok) + \" \" + str(root_tok.lemma_))\n",
    "                        print(list(root_tok.subtree))\n",
    "                \n",
    "                if verb_tok.lemma_ not in verb_list:\n",
    "                    if verbose == True:\n",
    "                        print(\"verb token lemma not one of ['be', 'employ', 'have']. \")\n",
    "                        print(\"verb token, lemma are : \" + str(verb_tok) + \" \" + str(verb_tok.lemma_))\n",
    "                        print(list(verb_tok.subtree))\n",
    "                    continue\n",
    "\n",
    "            emp_type_toks = find_emp_type_toks(word, verbose=verbose)\n",
    "            emp_type = 'Other Employees'\n",
    "            if emp_type_toks:\n",
    "                emp_type = check_emp_type_flags(emp_type_toks, verbose=verbose)\n",
    "            parts_found = []\n",
    "            # Find out if the employee noun is in subject (left) or predicate (right)\n",
    "            left_side = []; right_side = []\n",
    "            emp_tok_side = find_tok_side_of_root(word, root_tok)\n",
    "            if emp_tok_side == 'left':\n",
    "                left_side.append(word)\n",
    "            elif emp_tok_side == 'right':\n",
    "                right_side.append(word)\n",
    "            else:\n",
    "                if verbose == True:\n",
    "                    print(\"No ancestor of'\" + str(word) + \"' is in root.rights or root.lefts.\")    \n",
    "\n",
    "            if verbose == True:\n",
    "                print(\"Dep_ of EMP_NOUN is: \" + str(word.dep_))\n",
    "            if word.dep_ in ('attr', 'dobj', 'compound') or word.dep_ == 'pobj' and word.head.dep_ == 'prep':\n",
    "                #num_tok = get_nummod_tok(word, years, verbose = verbose)      \n",
    "                if num_tok:\n",
    "                    match_pairs.append((num_tok, word))\n",
    "                else:\n",
    "                    cards = [e for e in word.doc.ents if e.label_ in ['CARDINAL', 'FALSE_DATE'] and e.root in root_tok.rights]\n",
    "                    if cards:\n",
    "                        cards = cards + [c for c in word.doc.ents if c.root in cards[0].root.subtree and c not in cards and c.label_ in ['CARDINAL', 'FALSE_DATE']]           \n",
    "                        if word in left_side:    \n",
    "                            if len(years) > 0:                       \n",
    "                                emp_counts = [(c.start, c) for c in sorted(cards, reverse=False, key = lambda x: x.start)]                      \n",
    "                                order_indices = [years.index(y) for y in sorted(years, reverse=True, key = lambda x: x[1])]\n",
    "                                try: \n",
    "                                    #year_emps = [(years[i][1].text, emp_counts[i][1].text) for i in order_indices]\n",
    "                                    year_emps = sorted([(years[i][1], emp_counts[i][1]) for i in order_indices], reverse=True, key = lambda x: x[0].text)\n",
    "                                    if verbose == True:\n",
    "                                        print(\"years: \" + str(years))\n",
    "                                        print(\"emp_counts: \" + str(emp_counts))\n",
    "                                        print(\"order_indices: \" + str(order_indices))\n",
    "                                        print(\"year_emps: \" + str(year_emps))\n",
    "                                    #num_tok = max(year_emps)[1]\n",
    "                                    num_tok = year_emps[0][1]\n",
    "                                except:\n",
    "                                    print(str(\"==\" * 20))\n",
    "                                    print(\"Length of emp_counts is : \" + str(len(emp_counts)) + \n",
    "                                         \" while length of years is : \" + str(len(years)))\n",
    "                                    num_tok = cards[0]\n",
    "                                    print(str(\"-\" * 20))\n",
    "                                    print(word.doc.text)\n",
    "                                if verbose == True:\n",
    "                                    print(\"Sentence has multiple years:\" + str(years))\n",
    "                                    print(\"First card subtree is :\" + str(list(cards[0].subtree)))\n",
    "                                    print(\"years: \" + str(years))\n",
    "                                    print(\"cards: \" + str(cards))\n",
    "                                    print(\"emp_counts: \" + str(emp_counts))\n",
    "                    #                print(\"order_indices: \" + str(order_indices))                   \n",
    "                                match_pairs.append((num_tok, word))\n",
    "                        else:\n",
    "                            if verbose == True:\n",
    "                                print(\"Emp_tok is in right side; appending first card.\")\n",
    "                            match_pairs.append((cards[0], word))\n",
    "                    elif verb_tok.dep_ == 'relcl':\n",
    "                        cards = [e for e in word.doc.ents if e.label_ in ['CARDINAL', 'FALSE_DATE'] and e.root in verb_tok.lefts]\n",
    "                        if cards:\n",
    "                            match_pairs.append((cards[0], word))\n",
    "                            num_tok = cards[0]\n",
    "                if verbose == True:\n",
    "                    print(\"Root is at \"+str(depth)+\" steps from \"+str(word)+\".\")\n",
    "                subject = find_subject(root_tok)\n",
    "                if not subject: # For debugging\n",
    "                    if verbose == True:\n",
    "                        print(\"No nsubj found left of ROOT. Noun phrases left of root are:\")\n",
    "                        left_filter = lambda e: e.root in root_tok.lefts\n",
    "                        print_df(make_span_df(doc, entities=False, span_filter_func=left_filter))\n",
    "                else:\n",
    "                    if subject == word.head.head: # If word is part of prep phrase of subject\n",
    "                        subject = doc[subject.left_edge.i : subject.right_edge.i + 1]\n",
    "                    else: \n",
    "                        subject = get_org_span(subject) # Use full span of ORG entity if subject tok is in ORG \n",
    "                    parts_found.append(subject)\n",
    "                    match_pairs.append((subject, word))\n",
    "                    #[print(str(p) + '  :  ' + str(p.dep_)) for p in subject.subtree]\n",
    "                    sub_poss = [p for p in subject.subtree if p.dep_ == 'poss']\n",
    "    #                if sub_poss:\n",
    "    #                    sub_poss = sub_poss[0]\n",
    "    #                    match_pairs.append((sub_poss, word))\n",
    "                    if root_tok:\n",
    "                        parts_found.append(root_tok)\n",
    "                    if num_tok:\n",
    "                        parts_found.append(num_tok)\n",
    "                        parts_found.append(emp_type)\n",
    "                        parts_found.append(emp_type_toks)\n",
    "                        parts_found.append(word)\n",
    "                    elif word.head.head.head.pos_ == 'VERB':\n",
    "                        if verbose == True:\n",
    "                            print(\"No num_tok. \")\n",
    "                        cards = [c for c in word.head.head.head.rights if c.tag_== 'CD' and c.ent_type_ in ['CARDINAL', 'QUANTITY', 'FALSE_DATE'] ]\n",
    "                        years = [(y.i, y) for y in root_tok.subtree if y._.is_year == True]\n",
    "                        match_pairs.append((years, cards))\n",
    "                        if cards:\n",
    "                            match_pairs.append((cards[0], word))\n",
    "\n",
    "            elif word.dep_ == 'conj':\n",
    "                \n",
    "                head_num_tok = [w for w in [word.head] if w.tag_ == 'CD' and w.ent_type_ in ['CARDINAL', 'QUANTITY', 'FALSE_DATE'] ]\n",
    "                if verbose == True:\n",
    "                    print(\"Emp_noun token has dep_ == 'conj'.\")\n",
    "                    print(\"Child num_tok: \" + str(num_tok))\n",
    "                    print(\"Head num_tok: \" + str(head_num_tok))\n",
    "                if num_tok and head_num_tok:\n",
    "                    if verbose == True:\n",
    "                        print(\"child_num_tok and head_num_toks\")                      \n",
    "                    num_toks = [num_tok] + head_num_tok\n",
    "                    years = [(y.i, y) for y in root_tok.subtree if y._.is_year == True]\n",
    "                    if verbose == True:\n",
    "                        print(\"years: \" + str(years))   \n",
    "                        print(\"num_toks: \" + str(num_toks))   \n",
    "                    if head_num_tok[0].dep_ == 'conj' or head_num_tok[0].head.ent_type_ in ['CARDINAL', 'FALSE_DATE'] :\n",
    "                        num_toks = num_toks + [w for w in [head_num_tok[0].head] if w.tag_ == 'CD']\n",
    "                    if len(years) > len(num_toks):\n",
    "                        possible_series_num_tok = doc[head_num_tok[0].i - 2]\n",
    "                        if possible_series_num_tok.ent_type_ in ['CARDINAL', 'FALSE_DATE']:\n",
    "                            if verbose == True:\n",
    "                                print(\"possible_series_num_tok: \" + str(possible_series_num_tok))\n",
    "                            num_toks = num_toks + [possible_series_num_tok] \n",
    "                        head_num_conjucts = [c for c in head_num_tok[0].conjuncts if c.tag_ == 'CD']\n",
    "                        if head_num_conjucts:\n",
    "                            if head_num_conjucts[0].ent_type_ != 'CARDINAL':\n",
    "                                print(str(\"==\" * 30))\n",
    "                                print(\"Potential series token :\" + str(head_num_conjucts[0]) + \n",
    "                                     \" does not have CARDINAL entity type. \")\n",
    "                                print(\"Entity type is: \" + str(head_num_conjucts[0].ent_type_))\n",
    "                                print(\"Token index: \" + str(head_num_conjucts[0].i))\n",
    "                                print(\"Doc is: \" + str(word.doc))\n",
    "                            num_toks = num_toks + head_num_conjucts\n",
    "                    emp_counts = sorted([(c.i, c) for c in num_toks], key = lambda x: x[0])\n",
    "                    if verbose == True:\n",
    "                        print(\"emp_counts: \" + str(emp_counts))\n",
    "                    order_indices = [years.index(y) for y in sorted(years, reverse=True, key = lambda x: x[1])]\n",
    "                    if verbose == True:\n",
    "                        print(\"order_indices: \" + str(order_indices))\n",
    "                    try:\n",
    "                        year_emps = sorted([(years[i][1], emp_counts[i][1]) for i in order_indices], reverse=True, key = lambda x: x[0].text)\n",
    "                    except:\n",
    "                        print(str(\"==\" * 20))\n",
    "                        print(\"Error on doc:\")\n",
    "                        print(str(\"-\" * 20))\n",
    "                        print(word.doc.text)\n",
    "                        print(str(\"-\" * 20))\n",
    "                        print(\"Error sentence:\")\n",
    "                        print(sent)\n",
    "                        \n",
    "                    if verbose == True:\n",
    "                        print(\"year_emps: \" + str(year_emps))\n",
    "                    #num_tok = max(year_emps)[1]\n",
    "                    num_tok = year_emps[0][1]\n",
    "                match_pairs.append((num_tok, word))\n",
    "                \n",
    "                if not subject:\n",
    "                    try:\n",
    "                        subject = get_org_span(find_subject(root_tok))\n",
    "                    except:\n",
    "                        continue\n",
    "                parts_found.append(subject)\n",
    "                parts_found.append(root_tok)\n",
    "                parts_found.append(num_tok)\n",
    "                parts_found.append(emp_type)\n",
    "                parts_found.append(emp_type_toks)\n",
    "                parts_found.append(word)\n",
    "            \n",
    "            else:\n",
    "                continue\n",
    "            \n",
    "            # Check for employee counts that are nummods of emp_type tokens\n",
    "            emp_type_num_toks = [get_nummod_tok(x,[], verbose=verbose) for x in emp_type_toks if get_nummod_tok(x,[])]\n",
    "            if emp_type_num_toks:\n",
    "                if verbose == True:\n",
    "                    print(\"emp_type_num_toks: \", emp_type_num_toks)\n",
    "                    print(\"num_tok: \", num_tok)\n",
    "                if num_tok:\n",
    "                    num_toks = sorted([num_tok] + emp_type_num_toks, key = lambda t: t.i)\n",
    "                else:\n",
    "                    num_toks = sorted(emp_type_num_toks, key = lambda t: t.i)\n",
    "                if verbose == True:\n",
    "                    print(\"num_toks: \", num_toks)\n",
    "                if len(emp_type_toks) == len(num_toks):\n",
    "                    emp_types = [check_emp_type_flags([x], verbose=verbose) for x in emp_type_toks]\n",
    "                    num_type_toks = list(zip(num_toks, emp_types,  emp_type_toks))\n",
    "                    if all([subject, root_tok]):\n",
    "                        for ir, r in enumerate(num_type_toks):\n",
    "                            details = [sent_id, word_id, subject, root_tok, r[0], r[0].i, r[1], r[2], word, word.i, word.dep_, depth, sent.text]\n",
    "                            if verbose == True:\n",
    "                                print(\"Detail_list \", ir, \": \", details)\n",
    "                            relation_tuples.append(RelationDetails(*details))\n",
    "                        continue\n",
    "                if verbose == True:\n",
    "                    print(\"emp_type_num_toks: \", emp_type_num_toks)\n",
    "            \n",
    "            # Check to see if emp_type actually belongs to a relative clause \n",
    "            # with a different employee number \n",
    "            # This should be replaced by a handler for relative clauses, \n",
    "            # and more abstarct collection functions for employee count tokens\n",
    "            \n",
    "            if  len(emp_type_toks) == 1 and all([num_tok, len(emp_type_toks) == 1, emp_type_toks[0].head.dep_ == 'relcl', root_tok != find_verb_tok(emp_type_toks[0])]):\n",
    "                type_tok_relcl = emp_type_toks[0] # known to exist because of \"if\" condition \n",
    "                verb_relcl = find_verb_tok(type_tok_relcl) # known to exist because of \"if\" condition \n",
    "                sub_relcl = find_subject(verb_relcl) # looking for employee count as nsubj\n",
    "                if verbose == True:\n",
    "                    print(\"Type token in relative clause while emp_noun is not.\")\n",
    "                    print(\"type_tok_relcl.dep_ is\", type_tok_relcl.dep_)\n",
    "                    if sub_relcl:\n",
    "                        print(\"sub_relcl found: \", sub_relcl)\n",
    "                if sub_relcl:\n",
    "                    num_tok_relcl = [s for s in [sub_relcl] if s.tag_ == 'CD' and s.ent_type_ in ['CARDINAL', 'QUANTITY', 'FALSE_DATE']] \n",
    "                    if num_tok_relcl:\n",
    "                        num_toks = [num_tok] + num_tok_relcl\n",
    "                        if verbose == True:\n",
    "                            print(\"num_tok_relcl:\", num_tok_relcl)\n",
    "                            print(\"num_toks:\", num_toks)\n",
    "                        if type_tok_relcl.dep_ == 'attr':\n",
    "                            emp_types = ['Other Employees', emp_type]\n",
    "                            emp_type_toks_relcl = list(find_verb_tok(type_tok_relcl).subtree)\n",
    "                            if emp_type_toks_relcl: # Get evicence to support \"Other Employees\" classification\n",
    "                                if len(emp_type_toks_relcl) > 4:\n",
    "                                    emp_type_toks_relcl = emp_type_toks_relcl[:min(3,len(emp_type_toks_relcl))]\n",
    "                            emp_type_toks = [emp_type_toks_relcl, emp_type_toks[0]]\n",
    "                            for i_tup, tup in enumerate(list(zip([root_tok, verb_tok], num_toks, emp_types, emp_type_toks))):\n",
    "                                details = [sent_id, word_id, subject, tup[0], tup[1], tup[1].i, tup[2], tup[3], word, word.i, word.dep_, depth, sent.text]\n",
    "                                if verbose == True:\n",
    "                                    print(\"Detail_list \", i_tup, \": \", details)\n",
    "                                relation_tuples.append(RelationDetails(*details))\n",
    "                            continue\n",
    "            \n",
    "            if all([subject, root_tok, num_tok, emp_type ]):\n",
    "                if verbose == True:\n",
    "                    print(\"Parts found: \", tuple(parts_found))\n",
    "                if 'root' in num_tok.__dir__() :\n",
    "                    num_tok_idx = num_tok.root.i\n",
    "                else:\n",
    "                    num_tok_idx = num_tok.i\n",
    "                details = [sent_id, word_id, subject, root_tok, num_tok, num_tok_idx, emp_type, emp_type_toks, word, word.i, word.dep_, depth, sent.text]\n",
    "                #details = [sent_id, word_id] + parts_found + [word.dep_, depth, sent.text]\n",
    "                relation_tuples.append(RelationDetails(*details))        \n",
    "    return relation_tuples"
   ]
  },
  {
   "cell_type": "markdown",
   "metadata": {},
   "source": [
    "## Define sentence structure types"
   ]
  },
  {
   "cell_type": "code",
   "execution_count": 7,
   "metadata": {
    "ExecuteTime": {
     "end_time": "2018-08-14T01:12:59.152525Z",
     "start_time": "2018-08-14T01:12:59.144214Z"
    }
   },
   "outputs": [],
   "source": [
    "from spacy import displacy"
   ]
  },
  {
   "cell_type": "markdown",
   "metadata": {},
   "source": [
    "### `Emp_noun` and `Company_noun`  in subject, `Emp_num` in predicate"
   ]
  },
  {
   "cell_type": "markdown",
   "metadata": {},
   "source": [
    "#### `\"The number of full-time employees of the Company was approximately 31,800 at December 31, 2016 and 32,300 at December 31, 2015.\"`\n",
    "\n",
    "Desired output:  \n",
    "`(number, was, 31,800, full-time employees)`"
   ]
  },
  {
   "cell_type": "code",
   "execution_count": 8,
   "metadata": {
    "ExecuteTime": {
     "end_time": "2018-08-14T01:13:25.700217Z",
     "start_time": "2018-08-14T01:13:25.658192Z"
    },
    "scrolled": true
   },
   "outputs": [
    {
     "data": {
      "text/html": [
       "<table border=\"1\" class=\"dataframe\">\n",
       "  <thead>\n",
       "    <tr style=\"text-align: right;\">\n",
       "      <th></th>\n",
       "      <th>tok_ent</th>\n",
       "      <th>toks</th>\n",
       "      <th>lemma</th>\n",
       "      <th>dep</th>\n",
       "      <th>head</th>\n",
       "      <th>h_dep</th>\n",
       "      <th>pos</th>\n",
       "      <th>tag</th>\n",
       "      <th>dep_def</th>\n",
       "      <th>tag_def</th>\n",
       "    </tr>\n",
       "  </thead>\n",
       "  <tbody>\n",
       "    <tr>\n",
       "      <th>0</th>\n",
       "      <td></td>\n",
       "      <td>The</td>\n",
       "      <td>the</td>\n",
       "      <td>det</td>\n",
       "      <td>number</td>\n",
       "      <td>nsubj</td>\n",
       "      <td>DET</td>\n",
       "      <td>DT</td>\n",
       "      <td>determiner</td>\n",
       "      <td>determiner</td>\n",
       "    </tr>\n",
       "    <tr>\n",
       "      <th>1</th>\n",
       "      <td></td>\n",
       "      <td>number</td>\n",
       "      <td>number</td>\n",
       "      <td>nsubj</td>\n",
       "      <td>was</td>\n",
       "      <td>ROOT</td>\n",
       "      <td>NOUN</td>\n",
       "      <td>NN</td>\n",
       "      <td>nominal subject</td>\n",
       "      <td>noun, singular or mass</td>\n",
       "    </tr>\n",
       "    <tr>\n",
       "      <th>2</th>\n",
       "      <td></td>\n",
       "      <td>of</td>\n",
       "      <td>of</td>\n",
       "      <td>prep</td>\n",
       "      <td>number</td>\n",
       "      <td>nsubj</td>\n",
       "      <td>ADP</td>\n",
       "      <td>IN</td>\n",
       "      <td>prepositional modifier</td>\n",
       "      <td>conjunction, subordinating or preposition</td>\n",
       "    </tr>\n",
       "    <tr>\n",
       "      <th>3</th>\n",
       "      <td>FULL_TIME</td>\n",
       "      <td>full-time</td>\n",
       "      <td>full</td>\n",
       "      <td>compound</td>\n",
       "      <td>employees</td>\n",
       "      <td>pobj</td>\n",
       "      <td>ADJ</td>\n",
       "      <td>JJ</td>\n",
       "      <td>None</td>\n",
       "      <td>adjective</td>\n",
       "    </tr>\n",
       "    <tr>\n",
       "      <th>4</th>\n",
       "      <td>EMP_NOUN</td>\n",
       "      <td>employees</td>\n",
       "      <td>employee</td>\n",
       "      <td>pobj</td>\n",
       "      <td>of</td>\n",
       "      <td>prep</td>\n",
       "      <td>NOUN</td>\n",
       "      <td>NNS</td>\n",
       "      <td>object of preposition</td>\n",
       "      <td>noun, plural</td>\n",
       "    </tr>\n",
       "    <tr>\n",
       "      <th>5</th>\n",
       "      <td></td>\n",
       "      <td>of</td>\n",
       "      <td>of</td>\n",
       "      <td>prep</td>\n",
       "      <td>employees</td>\n",
       "      <td>pobj</td>\n",
       "      <td>ADP</td>\n",
       "      <td>IN</td>\n",
       "      <td>prepositional modifier</td>\n",
       "      <td>conjunction, subordinating or preposition</td>\n",
       "    </tr>\n",
       "    <tr>\n",
       "      <th>6</th>\n",
       "      <td></td>\n",
       "      <td>the</td>\n",
       "      <td>the</td>\n",
       "      <td>det</td>\n",
       "      <td>Company</td>\n",
       "      <td>pobj</td>\n",
       "      <td>DET</td>\n",
       "      <td>DT</td>\n",
       "      <td>determiner</td>\n",
       "      <td>determiner</td>\n",
       "    </tr>\n",
       "    <tr>\n",
       "      <th>7</th>\n",
       "      <td>ORG</td>\n",
       "      <td>Company</td>\n",
       "      <td>company</td>\n",
       "      <td>pobj</td>\n",
       "      <td>of</td>\n",
       "      <td>prep</td>\n",
       "      <td>PROPN</td>\n",
       "      <td>NNP</td>\n",
       "      <td>object of preposition</td>\n",
       "      <td>noun, proper singular</td>\n",
       "    </tr>\n",
       "    <tr>\n",
       "      <th>8</th>\n",
       "      <td></td>\n",
       "      <td>was</td>\n",
       "      <td>be</td>\n",
       "      <td>ROOT</td>\n",
       "      <td>was</td>\n",
       "      <td>ROOT</td>\n",
       "      <td>VERB</td>\n",
       "      <td>VBD</td>\n",
       "      <td>None</td>\n",
       "      <td>verb, past tense</td>\n",
       "    </tr>\n",
       "    <tr>\n",
       "      <th>9</th>\n",
       "      <td>CARDINAL</td>\n",
       "      <td>approximately</td>\n",
       "      <td>approximately</td>\n",
       "      <td>advmod</td>\n",
       "      <td>31,800</td>\n",
       "      <td>attr</td>\n",
       "      <td>ADV</td>\n",
       "      <td>RB</td>\n",
       "      <td>adverbial modifier</td>\n",
       "      <td>adverb</td>\n",
       "    </tr>\n",
       "    <tr>\n",
       "      <th>10</th>\n",
       "      <td>CARDINAL</td>\n",
       "      <td>31,800</td>\n",
       "      <td>31,800</td>\n",
       "      <td>attr</td>\n",
       "      <td>was</td>\n",
       "      <td>ROOT</td>\n",
       "      <td>NUM</td>\n",
       "      <td>CD</td>\n",
       "      <td>attribute</td>\n",
       "      <td>cardinal number</td>\n",
       "    </tr>\n",
       "    <tr>\n",
       "      <th>11</th>\n",
       "      <td></td>\n",
       "      <td>at</td>\n",
       "      <td>at</td>\n",
       "      <td>prep</td>\n",
       "      <td>was</td>\n",
       "      <td>ROOT</td>\n",
       "      <td>ADP</td>\n",
       "      <td>IN</td>\n",
       "      <td>prepositional modifier</td>\n",
       "      <td>conjunction, subordinating or preposition</td>\n",
       "    </tr>\n",
       "    <tr>\n",
       "      <th>12</th>\n",
       "      <td>DATE</td>\n",
       "      <td>December</td>\n",
       "      <td>december</td>\n",
       "      <td>pobj</td>\n",
       "      <td>at</td>\n",
       "      <td>prep</td>\n",
       "      <td>PROPN</td>\n",
       "      <td>NNP</td>\n",
       "      <td>object of preposition</td>\n",
       "      <td>noun, proper singular</td>\n",
       "    </tr>\n",
       "    <tr>\n",
       "      <th>13</th>\n",
       "      <td>DATE</td>\n",
       "      <td>31</td>\n",
       "      <td>31</td>\n",
       "      <td>nummod</td>\n",
       "      <td>December</td>\n",
       "      <td>pobj</td>\n",
       "      <td>NUM</td>\n",
       "      <td>CD</td>\n",
       "      <td>None</td>\n",
       "      <td>cardinal number</td>\n",
       "    </tr>\n",
       "    <tr>\n",
       "      <th>14</th>\n",
       "      <td>DATE</td>\n",
       "      <td>,</td>\n",
       "      <td>,</td>\n",
       "      <td>punct</td>\n",
       "      <td>December</td>\n",
       "      <td>pobj</td>\n",
       "      <td>PUNCT</td>\n",
       "      <td>,</td>\n",
       "      <td>punctuation</td>\n",
       "      <td>punctuation mark, comma</td>\n",
       "    </tr>\n",
       "    <tr>\n",
       "      <th>15</th>\n",
       "      <td>DATE</td>\n",
       "      <td>2016</td>\n",
       "      <td>2016</td>\n",
       "      <td>nummod</td>\n",
       "      <td>December</td>\n",
       "      <td>pobj</td>\n",
       "      <td>NUM</td>\n",
       "      <td>CD</td>\n",
       "      <td>None</td>\n",
       "      <td>cardinal number</td>\n",
       "    </tr>\n",
       "    <tr>\n",
       "      <th>16</th>\n",
       "      <td></td>\n",
       "      <td>and</td>\n",
       "      <td>and</td>\n",
       "      <td>cc</td>\n",
       "      <td>was</td>\n",
       "      <td>ROOT</td>\n",
       "      <td>CCONJ</td>\n",
       "      <td>CC</td>\n",
       "      <td>coordinating conjunction</td>\n",
       "      <td>conjunction, coordinating</td>\n",
       "    </tr>\n",
       "    <tr>\n",
       "      <th>17</th>\n",
       "      <td>CARDINAL</td>\n",
       "      <td>32,300</td>\n",
       "      <td>32,300</td>\n",
       "      <td>conj</td>\n",
       "      <td>was</td>\n",
       "      <td>ROOT</td>\n",
       "      <td>NUM</td>\n",
       "      <td>CD</td>\n",
       "      <td>conjunct</td>\n",
       "      <td>cardinal number</td>\n",
       "    </tr>\n",
       "    <tr>\n",
       "      <th>18</th>\n",
       "      <td></td>\n",
       "      <td>at</td>\n",
       "      <td>at</td>\n",
       "      <td>prep</td>\n",
       "      <td>32,300</td>\n",
       "      <td>conj</td>\n",
       "      <td>ADP</td>\n",
       "      <td>IN</td>\n",
       "      <td>prepositional modifier</td>\n",
       "      <td>conjunction, subordinating or preposition</td>\n",
       "    </tr>\n",
       "    <tr>\n",
       "      <th>19</th>\n",
       "      <td>DATE</td>\n",
       "      <td>December</td>\n",
       "      <td>december</td>\n",
       "      <td>pobj</td>\n",
       "      <td>at</td>\n",
       "      <td>prep</td>\n",
       "      <td>PROPN</td>\n",
       "      <td>NNP</td>\n",
       "      <td>object of preposition</td>\n",
       "      <td>noun, proper singular</td>\n",
       "    </tr>\n",
       "    <tr>\n",
       "      <th>20</th>\n",
       "      <td>DATE</td>\n",
       "      <td>31</td>\n",
       "      <td>31</td>\n",
       "      <td>nummod</td>\n",
       "      <td>December</td>\n",
       "      <td>pobj</td>\n",
       "      <td>NUM</td>\n",
       "      <td>CD</td>\n",
       "      <td>None</td>\n",
       "      <td>cardinal number</td>\n",
       "    </tr>\n",
       "    <tr>\n",
       "      <th>21</th>\n",
       "      <td>DATE</td>\n",
       "      <td>,</td>\n",
       "      <td>,</td>\n",
       "      <td>punct</td>\n",
       "      <td>December</td>\n",
       "      <td>pobj</td>\n",
       "      <td>PUNCT</td>\n",
       "      <td>,</td>\n",
       "      <td>punctuation</td>\n",
       "      <td>punctuation mark, comma</td>\n",
       "    </tr>\n",
       "    <tr>\n",
       "      <th>22</th>\n",
       "      <td>DATE</td>\n",
       "      <td>2015</td>\n",
       "      <td>2015</td>\n",
       "      <td>nummod</td>\n",
       "      <td>December</td>\n",
       "      <td>pobj</td>\n",
       "      <td>NUM</td>\n",
       "      <td>CD</td>\n",
       "      <td>None</td>\n",
       "      <td>cardinal number</td>\n",
       "    </tr>\n",
       "    <tr>\n",
       "      <th>23</th>\n",
       "      <td></td>\n",
       "      <td>.</td>\n",
       "      <td>.</td>\n",
       "      <td>punct</td>\n",
       "      <td>was</td>\n",
       "      <td>ROOT</td>\n",
       "      <td>PUNCT</td>\n",
       "      <td>.</td>\n",
       "      <td>punctuation</td>\n",
       "      <td>punctuation mark, sentence closer</td>\n",
       "    </tr>\n",
       "  </tbody>\n",
       "</table>"
      ],
      "text/plain": [
       "<IPython.core.display.HTML object>"
      ]
     },
     "metadata": {},
     "output_type": "display_data"
    }
   ],
   "source": [
    "ex6 = nlp(\"The number of full-time employees of the Company was approximately 31,800 at December 31, 2016 and 32,300 at December 31, 2015.\")\n",
    "ex6_emp_tok = ex6[4]\n",
    "ex6_emp_tok.dep_\n",
    "hf.print_df(hf.make_tok_df(ex6))"
   ]
  },
  {
   "cell_type": "code",
   "execution_count": 9,
   "metadata": {
    "ExecuteTime": {
     "end_time": "2018-08-14T01:13:25.747249Z",
     "start_time": "2018-08-14T01:13:25.701218Z"
    }
   },
   "outputs": [
    {
     "name": "stdout",
     "output_type": "stream",
     "text": [
      "doc is: \n",
      "The number of full-time employees of the Company was approximately 31,800 at December 31, 2016 and 32,300 at December 31, 2015.\n",
      "--------------------------------------------------\n",
      "Entities are: \n"
     ]
    },
    {
     "data": {
      "text/html": [
       "<table border=\"1\" class=\"dataframe\">\n",
       "  <thead>\n",
       "    <tr style=\"text-align: right;\">\n",
       "      <th></th>\n",
       "      <th>tok_i</th>\n",
       "      <th>entity</th>\n",
       "      <th>ent_label</th>\n",
       "      <th>root</th>\n",
       "      <th>root_dep</th>\n",
       "      <th>dep_def</th>\n",
       "      <th>root_head</th>\n",
       "      <th>root_head_dep</th>\n",
       "      <th>root_head_pos</th>\n",
       "    </tr>\n",
       "  </thead>\n",
       "  <tbody>\n",
       "    <tr>\n",
       "      <th>0</th>\n",
       "      <td>3</td>\n",
       "      <td>full-time</td>\n",
       "      <td>FULL_TIME</td>\n",
       "      <td>full-time</td>\n",
       "      <td>compound</td>\n",
       "      <td>None</td>\n",
       "      <td>employees</td>\n",
       "      <td>pobj</td>\n",
       "      <td>NOUN</td>\n",
       "    </tr>\n",
       "    <tr>\n",
       "      <th>1</th>\n",
       "      <td>4</td>\n",
       "      <td>employees</td>\n",
       "      <td>EMP_NOUN</td>\n",
       "      <td>employees</td>\n",
       "      <td>pobj</td>\n",
       "      <td>object of preposition</td>\n",
       "      <td>of</td>\n",
       "      <td>prep</td>\n",
       "      <td>ADP</td>\n",
       "    </tr>\n",
       "    <tr>\n",
       "      <th>2</th>\n",
       "      <td>7</td>\n",
       "      <td>Company</td>\n",
       "      <td>ORG</td>\n",
       "      <td>Company</td>\n",
       "      <td>pobj</td>\n",
       "      <td>object of preposition</td>\n",
       "      <td>of</td>\n",
       "      <td>prep</td>\n",
       "      <td>ADP</td>\n",
       "    </tr>\n",
       "    <tr>\n",
       "      <th>3</th>\n",
       "      <td>9</td>\n",
       "      <td>approximately 31,800</td>\n",
       "      <td>CARDINAL</td>\n",
       "      <td>31,800</td>\n",
       "      <td>attr</td>\n",
       "      <td>attribute</td>\n",
       "      <td>was</td>\n",
       "      <td>ROOT</td>\n",
       "      <td>VERB</td>\n",
       "    </tr>\n",
       "    <tr>\n",
       "      <th>4</th>\n",
       "      <td>12</td>\n",
       "      <td>December 31, 2016</td>\n",
       "      <td>DATE</td>\n",
       "      <td>December</td>\n",
       "      <td>pobj</td>\n",
       "      <td>object of preposition</td>\n",
       "      <td>at</td>\n",
       "      <td>prep</td>\n",
       "      <td>ADP</td>\n",
       "    </tr>\n",
       "    <tr>\n",
       "      <th>5</th>\n",
       "      <td>17</td>\n",
       "      <td>32,300</td>\n",
       "      <td>CARDINAL</td>\n",
       "      <td>32,300</td>\n",
       "      <td>conj</td>\n",
       "      <td>conjunct</td>\n",
       "      <td>was</td>\n",
       "      <td>ROOT</td>\n",
       "      <td>VERB</td>\n",
       "    </tr>\n",
       "    <tr>\n",
       "      <th>6</th>\n",
       "      <td>19</td>\n",
       "      <td>December 31, 2015</td>\n",
       "      <td>DATE</td>\n",
       "      <td>December</td>\n",
       "      <td>pobj</td>\n",
       "      <td>object of preposition</td>\n",
       "      <td>at</td>\n",
       "      <td>prep</td>\n",
       "      <td>ADP</td>\n",
       "    </tr>\n",
       "  </tbody>\n",
       "</table>"
      ],
      "text/plain": [
       "<IPython.core.display.HTML object>"
      ]
     },
     "metadata": {},
     "output_type": "display_data"
    },
    {
     "name": "stdout",
     "output_type": "stream",
     "text": [
      "--------------------------------------------------\n",
      "Noun chunks are: \n"
     ]
    },
    {
     "data": {
      "text/html": [
       "<table border=\"1\" class=\"dataframe\">\n",
       "  <thead>\n",
       "    <tr style=\"text-align: right;\">\n",
       "      <th></th>\n",
       "      <th>tok_i</th>\n",
       "      <th>noun_chunk</th>\n",
       "      <th>root</th>\n",
       "      <th>root_ent</th>\n",
       "      <th>root_dep</th>\n",
       "      <th>dep_def</th>\n",
       "      <th>root_head</th>\n",
       "      <th>root_head_dep</th>\n",
       "      <th>root_head_pos</th>\n",
       "    </tr>\n",
       "  </thead>\n",
       "  <tbody>\n",
       "    <tr>\n",
       "      <th>0</th>\n",
       "      <td>0</td>\n",
       "      <td>The number</td>\n",
       "      <td>number</td>\n",
       "      <td></td>\n",
       "      <td>nsubj</td>\n",
       "      <td>nominal subject</td>\n",
       "      <td>was</td>\n",
       "      <td>ROOT</td>\n",
       "      <td>VERB</td>\n",
       "    </tr>\n",
       "    <tr>\n",
       "      <th>1</th>\n",
       "      <td>3</td>\n",
       "      <td>full-time employees</td>\n",
       "      <td>employees</td>\n",
       "      <td>EMP_NOUN</td>\n",
       "      <td>pobj</td>\n",
       "      <td>object of preposition</td>\n",
       "      <td>of</td>\n",
       "      <td>prep</td>\n",
       "      <td>ADP</td>\n",
       "    </tr>\n",
       "    <tr>\n",
       "      <th>2</th>\n",
       "      <td>6</td>\n",
       "      <td>the Company</td>\n",
       "      <td>Company</td>\n",
       "      <td>ORG</td>\n",
       "      <td>pobj</td>\n",
       "      <td>object of preposition</td>\n",
       "      <td>of</td>\n",
       "      <td>prep</td>\n",
       "      <td>ADP</td>\n",
       "    </tr>\n",
       "    <tr>\n",
       "      <th>3</th>\n",
       "      <td>12</td>\n",
       "      <td>December</td>\n",
       "      <td>December</td>\n",
       "      <td>DATE</td>\n",
       "      <td>pobj</td>\n",
       "      <td>object of preposition</td>\n",
       "      <td>at</td>\n",
       "      <td>prep</td>\n",
       "      <td>ADP</td>\n",
       "    </tr>\n",
       "    <tr>\n",
       "      <th>4</th>\n",
       "      <td>19</td>\n",
       "      <td>December</td>\n",
       "      <td>December</td>\n",
       "      <td>DATE</td>\n",
       "      <td>pobj</td>\n",
       "      <td>object of preposition</td>\n",
       "      <td>at</td>\n",
       "      <td>prep</td>\n",
       "      <td>ADP</td>\n",
       "    </tr>\n",
       "  </tbody>\n",
       "</table>"
      ],
      "text/plain": [
       "<IPython.core.display.HTML object>"
      ]
     },
     "metadata": {},
     "output_type": "display_data"
    },
    {
     "name": "stdout",
     "output_type": "stream",
     "text": [
      "--------------------------------------------------\n",
      "Cardinal entities are: \n"
     ]
    },
    {
     "data": {
      "text/html": [
       "<table border=\"1\" class=\"dataframe\">\n",
       "  <thead>\n",
       "    <tr style=\"text-align: right;\">\n",
       "      <th></th>\n",
       "      <th>tok_ent</th>\n",
       "      <th>toks</th>\n",
       "      <th>lemma</th>\n",
       "      <th>dep</th>\n",
       "      <th>head</th>\n",
       "      <th>h_dep</th>\n",
       "      <th>pos</th>\n",
       "      <th>tag</th>\n",
       "      <th>dep_def</th>\n",
       "      <th>tag_def</th>\n",
       "    </tr>\n",
       "  </thead>\n",
       "  <tbody>\n",
       "    <tr>\n",
       "      <th>0</th>\n",
       "      <td>CARDINAL</td>\n",
       "      <td>approximately</td>\n",
       "      <td>approximately</td>\n",
       "      <td>advmod</td>\n",
       "      <td>31,800</td>\n",
       "      <td>attr</td>\n",
       "      <td>ADV</td>\n",
       "      <td>RB</td>\n",
       "      <td>adverbial modifier</td>\n",
       "      <td>adverb</td>\n",
       "    </tr>\n",
       "    <tr>\n",
       "      <th>1</th>\n",
       "      <td>CARDINAL</td>\n",
       "      <td>31,800</td>\n",
       "      <td>31,800</td>\n",
       "      <td>attr</td>\n",
       "      <td>was</td>\n",
       "      <td>ROOT</td>\n",
       "      <td>NUM</td>\n",
       "      <td>CD</td>\n",
       "      <td>attribute</td>\n",
       "      <td>cardinal number</td>\n",
       "    </tr>\n",
       "    <tr>\n",
       "      <th>2</th>\n",
       "      <td>CARDINAL</td>\n",
       "      <td>32,300</td>\n",
       "      <td>32,300</td>\n",
       "      <td>conj</td>\n",
       "      <td>was</td>\n",
       "      <td>ROOT</td>\n",
       "      <td>NUM</td>\n",
       "      <td>CD</td>\n",
       "      <td>conjunct</td>\n",
       "      <td>cardinal number</td>\n",
       "    </tr>\n",
       "  </tbody>\n",
       "</table>"
      ],
      "text/plain": [
       "<IPython.core.display.HTML object>"
      ]
     },
     "metadata": {},
     "output_type": "display_data"
    }
   ],
   "source": [
    "hf.print_doc_info(ex6)"
   ]
  },
  {
   "cell_type": "code",
   "execution_count": 10,
   "metadata": {
    "ExecuteTime": {
     "end_time": "2018-08-14T01:13:25.754253Z",
     "start_time": "2018-08-14T01:13:25.749250Z"
    }
   },
   "outputs": [
    {
     "data": {
      "text/plain": [
       "[32,300]"
      ]
     },
     "execution_count": 10,
     "metadata": {},
     "output_type": "execute_result"
    }
   ],
   "source": [
    "[c for c in ex6[8].conjuncts]"
   ]
  },
  {
   "cell_type": "code",
   "execution_count": 11,
   "metadata": {
    "ExecuteTime": {
     "end_time": "2018-08-14T01:13:32.454229Z",
     "start_time": "2018-08-14T01:13:32.451229Z"
    }
   },
   "outputs": [],
   "source": [
    "#displacy.render(ex6, style='dep', jupyter=True, options={'distance': 110})"
   ]
  },
  {
   "cell_type": "code",
   "execution_count": 13,
   "metadata": {
    "ExecuteTime": {
     "end_time": "2018-08-14T01:13:37.303988Z",
     "start_time": "2018-08-14T01:13:37.264963Z"
    },
    "scrolled": true
   },
   "outputs": [
    {
     "name": "stdout",
     "output_type": "stream",
     "text": [
      "Word_id is : 0\n",
      "Word is : employees\n",
      "Word subtree is :  full-time employees of the\n",
      "Word children :  [full-time, of]\n",
      "tok_emp_type_subtree:  [full-time]\n",
      "Flagged toks from tok.children: [full-time]\n",
      "Flagged_toks:  [full-time]\n",
      "Dep_ of EMP_NOUN is: pobj\n",
      "years: [(15, 2016), (22, 2015)]\n",
      "emp_counts: [(9, approximately 31,800), (17, 32,300)]\n",
      "order_indices: [1, 0]\n",
      "year_emps: [(2016, approximately 31,800), (2015, 32,300)]\n",
      "Sentence has multiple years:[(15, 2016), (22, 2015)]\n",
      "First card subtree is :[approximately, 31,800]\n",
      "years: [(15, 2016), (22, 2015)]\n",
      "cards: [approximately 31,800, 32,300]\n",
      "emp_counts: [(9, approximately 31,800), (17, 32,300)]\n",
      "Root is at 2 steps from employees.\n",
      "Parts found:  (The number of full-time employees of the Company, was, approximately 31,800, 'Full-Time Employees', [full-time], employees)\n"
     ]
    },
    {
     "data": {
      "text/plain": [
       "[RelationDetails(sent_num=0, word_num=0, subject=The number of full-time employees of the Company, verb=was, quantity=approximately 31,800, quantity_idx=10, quantity_type='Full-Time Employees', type_token=[full-time], word=employees, word_idx=4, word_dep='pobj', depth=2, sentence='The number of full-time employees of the Company was approximately 31,800 at December 31, 2016 and 32,300 at December 31, 2015.')]"
      ]
     },
     "execution_count": 13,
     "metadata": {},
     "output_type": "execute_result"
    }
   ],
   "source": [
    "extract_emp_relations(ex6, verbose=True)"
   ]
  },
  {
   "cell_type": "markdown",
   "metadata": {
    "ExecuteTime": {
     "end_time": "2018-07-18T16:56:54.489808Z",
     "start_time": "2018-07-18T16:56:54.486804Z"
    }
   },
   "source": [
    "#### `Total workforce level at December 31, 2016 was approximately 150,500.`"
   ]
  },
  {
   "cell_type": "markdown",
   "metadata": {
    "ExecuteTime": {
     "end_time": "2018-07-03T22:46:48.235389Z",
     "start_time": "2018-07-03T22:46:48.231387Z"
    }
   },
   "source": [
    "Examples:  \n",
    "`\"Total workforce level at December 31, 2016 was approximately 150,500.\"`\n",
    "\n",
    "Desired output:  \n",
    "`(workforce, was, 150,500, 'Other', 'Total', workforce)`"
   ]
  },
  {
   "cell_type": "code",
   "execution_count": 14,
   "metadata": {
    "ExecuteTime": {
     "end_time": "2018-08-14T01:13:55.968544Z",
     "start_time": "2018-08-14T01:13:55.948533Z"
    }
   },
   "outputs": [
    {
     "data": {
      "text/plain": [
       "'compound'"
      ]
     },
     "execution_count": 14,
     "metadata": {},
     "output_type": "execute_result"
    }
   ],
   "source": [
    "ex10 = nlp(\"Total workforce level at December 31, 2016 was approximately 150,500.\")\n",
    "ex10_emp_tok = ex10[1]\n",
    "ex10_emp_tok.dep_\n",
    "#print_df(make_tok_df(ex10))"
   ]
  },
  {
   "cell_type": "code",
   "execution_count": 15,
   "metadata": {
    "ExecuteTime": {
     "end_time": "2018-08-14T01:13:56.015574Z",
     "start_time": "2018-08-14T01:13:55.970546Z"
    }
   },
   "outputs": [
    {
     "name": "stdout",
     "output_type": "stream",
     "text": [
      "doc is: \n",
      "Total workforce level at December 31, 2016 was approximately 150,500.\n",
      "--------------------------------------------------\n",
      "Entities are: \n"
     ]
    },
    {
     "data": {
      "text/html": [
       "<table border=\"1\" class=\"dataframe\">\n",
       "  <thead>\n",
       "    <tr style=\"text-align: right;\">\n",
       "      <th></th>\n",
       "      <th>tok_i</th>\n",
       "      <th>entity</th>\n",
       "      <th>ent_label</th>\n",
       "      <th>root</th>\n",
       "      <th>root_dep</th>\n",
       "      <th>dep_def</th>\n",
       "      <th>root_head</th>\n",
       "      <th>root_head_dep</th>\n",
       "      <th>root_head_pos</th>\n",
       "    </tr>\n",
       "  </thead>\n",
       "  <tbody>\n",
       "    <tr>\n",
       "      <th>0</th>\n",
       "      <td>1</td>\n",
       "      <td>workforce</td>\n",
       "      <td>EMP_NOUN</td>\n",
       "      <td>workforce</td>\n",
       "      <td>compound</td>\n",
       "      <td>None</td>\n",
       "      <td>level</td>\n",
       "      <td>nsubj</td>\n",
       "      <td>NOUN</td>\n",
       "    </tr>\n",
       "    <tr>\n",
       "      <th>1</th>\n",
       "      <td>4</td>\n",
       "      <td>December 31, 2016</td>\n",
       "      <td>DATE</td>\n",
       "      <td>2016</td>\n",
       "      <td>nsubj</td>\n",
       "      <td>nominal subject</td>\n",
       "      <td>was</td>\n",
       "      <td>ROOT</td>\n",
       "      <td>VERB</td>\n",
       "    </tr>\n",
       "    <tr>\n",
       "      <th>2</th>\n",
       "      <td>10</td>\n",
       "      <td>150,500</td>\n",
       "      <td>CARDINAL</td>\n",
       "      <td>150,500</td>\n",
       "      <td>attr</td>\n",
       "      <td>attribute</td>\n",
       "      <td>was</td>\n",
       "      <td>ROOT</td>\n",
       "      <td>VERB</td>\n",
       "    </tr>\n",
       "  </tbody>\n",
       "</table>"
      ],
      "text/plain": [
       "<IPython.core.display.HTML object>"
      ]
     },
     "metadata": {},
     "output_type": "display_data"
    },
    {
     "name": "stdout",
     "output_type": "stream",
     "text": [
      "--------------------------------------------------\n",
      "Noun chunks are: \n"
     ]
    },
    {
     "data": {
      "text/html": [
       "<table border=\"1\" class=\"dataframe\">\n",
       "  <thead>\n",
       "    <tr style=\"text-align: right;\">\n",
       "      <th></th>\n",
       "      <th>tok_i</th>\n",
       "      <th>noun_chunk</th>\n",
       "      <th>root</th>\n",
       "      <th>root_ent</th>\n",
       "      <th>root_dep</th>\n",
       "      <th>dep_def</th>\n",
       "      <th>root_head</th>\n",
       "      <th>root_head_dep</th>\n",
       "      <th>root_head_pos</th>\n",
       "    </tr>\n",
       "  </thead>\n",
       "  <tbody>\n",
       "    <tr>\n",
       "      <th>0</th>\n",
       "      <td>0</td>\n",
       "      <td>Total workforce level</td>\n",
       "      <td>level</td>\n",
       "      <td></td>\n",
       "      <td>nsubj</td>\n",
       "      <td>nominal subject</td>\n",
       "      <td>was</td>\n",
       "      <td>ROOT</td>\n",
       "      <td>VERB</td>\n",
       "    </tr>\n",
       "    <tr>\n",
       "      <th>1</th>\n",
       "      <td>4</td>\n",
       "      <td>December</td>\n",
       "      <td>December</td>\n",
       "      <td>DATE</td>\n",
       "      <td>pobj</td>\n",
       "      <td>object of preposition</td>\n",
       "      <td>at</td>\n",
       "      <td>prep</td>\n",
       "      <td>ADP</td>\n",
       "    </tr>\n",
       "  </tbody>\n",
       "</table>"
      ],
      "text/plain": [
       "<IPython.core.display.HTML object>"
      ]
     },
     "metadata": {},
     "output_type": "display_data"
    },
    {
     "name": "stdout",
     "output_type": "stream",
     "text": [
      "--------------------------------------------------\n",
      "Cardinal entities are: \n"
     ]
    },
    {
     "data": {
      "text/html": [
       "<table border=\"1\" class=\"dataframe\">\n",
       "  <thead>\n",
       "    <tr style=\"text-align: right;\">\n",
       "      <th></th>\n",
       "      <th>tok_ent</th>\n",
       "      <th>toks</th>\n",
       "      <th>lemma</th>\n",
       "      <th>dep</th>\n",
       "      <th>head</th>\n",
       "      <th>h_dep</th>\n",
       "      <th>pos</th>\n",
       "      <th>tag</th>\n",
       "      <th>dep_def</th>\n",
       "      <th>tag_def</th>\n",
       "    </tr>\n",
       "  </thead>\n",
       "  <tbody>\n",
       "    <tr>\n",
       "      <th>0</th>\n",
       "      <td>CARDINAL</td>\n",
       "      <td>150,500</td>\n",
       "      <td>150,500</td>\n",
       "      <td>attr</td>\n",
       "      <td>was</td>\n",
       "      <td>ROOT</td>\n",
       "      <td>NUM</td>\n",
       "      <td>CD</td>\n",
       "      <td>attribute</td>\n",
       "      <td>cardinal number</td>\n",
       "    </tr>\n",
       "  </tbody>\n",
       "</table>"
      ],
      "text/plain": [
       "<IPython.core.display.HTML object>"
      ]
     },
     "metadata": {},
     "output_type": "display_data"
    }
   ],
   "source": [
    "hf.print_doc_info(ex10)"
   ]
  },
  {
   "cell_type": "code",
   "execution_count": 16,
   "metadata": {
    "ExecuteTime": {
     "end_time": "2018-08-14T01:13:56.024581Z",
     "start_time": "2018-08-14T01:13:56.017576Z"
    }
   },
   "outputs": [
    {
     "name": "stdout",
     "output_type": "stream",
     "text": [
      "Token children: \n",
      "approximately       child.dep_:advmod\n"
     ]
    }
   ],
   "source": [
    "print('Token children: ')\n",
    "for w in ex10[10].children:\n",
    "    print(str(w) + '       child.dep_:' + str(w.dep_))"
   ]
  },
  {
   "cell_type": "code",
   "execution_count": 17,
   "metadata": {
    "ExecuteTime": {
     "end_time": "2018-08-14T01:13:56.032091Z",
     "start_time": "2018-08-14T01:13:56.026583Z"
    }
   },
   "outputs": [],
   "source": [
    "#displacy.render(ex10, style='dep', jupyter=True, options={'distance': 110})"
   ]
  },
  {
   "cell_type": "code",
   "execution_count": 18,
   "metadata": {
    "ExecuteTime": {
     "end_time": "2018-08-14T01:13:56.047104Z",
     "start_time": "2018-08-14T01:13:56.034092Z"
    },
    "scrolled": true
   },
   "outputs": [
    {
     "data": {
      "text/plain": [
       "[RelationDetails(sent_num=0, word_num=0, subject=level, verb=was, quantity=150,500, quantity_idx=10, quantity_type='Other Employees', type_token=[], word=workforce, word_idx=1, word_dep='compound', depth=2, sentence='Total workforce level at December 31, 2016 was approximately 150,500.')]"
      ]
     },
     "execution_count": 18,
     "metadata": {},
     "output_type": "execute_result"
    }
   ],
   "source": [
    "extract_emp_relations(ex10)"
   ]
  },
  {
   "cell_type": "markdown",
   "metadata": {},
   "source": [
    "### `Emp_num` above and below `EMP_NOUN` in parse tree"
   ]
  },
  {
   "cell_type": "markdown",
   "metadata": {},
   "source": [
    "#### One emp_num is a conj child of the other emp_num"
   ]
  },
  {
   "cell_type": "markdown",
   "metadata": {},
   "source": [
    "Example text:\n",
    "\n",
    "`At December 31, 2016 and 2015, we had approximately 56,400 and 66,400 employees, respectively.`\n",
    "\n",
    "Desired output: \n",
    "\n",
    "`(we, had, 56,400, employees)`"
   ]
  },
  {
   "cell_type": "code",
   "execution_count": 19,
   "metadata": {
    "ExecuteTime": {
     "end_time": "2018-08-14T01:14:14.557725Z",
     "start_time": "2018-08-14T01:14:14.530707Z"
    }
   },
   "outputs": [
    {
     "name": "stdout",
     "output_type": "stream",
     "text": [
      "dobj\n",
      "56,400\n",
      "[66,400]\n"
     ]
    }
   ],
   "source": [
    "ex7 = nlp(\"At December 31, 2016 and 2015, we had approximately 56,400 and 66,400 employees, respectively.\")\n",
    "ex7_emp_tok = ex7[14]\n",
    "ex7_emp_num_tok = ex7[11]\n",
    "print(ex7_emp_tok.dep_)\n",
    "print(ex7_emp_num_tok)\n",
    "print([c for c in ex7_emp_num_tok.conjuncts])\n",
    "#print_df(make_tok_df(ex7))"
   ]
  },
  {
   "cell_type": "code",
   "execution_count": 20,
   "metadata": {
    "ExecuteTime": {
     "end_time": "2018-08-14T01:14:14.607757Z",
     "start_time": "2018-08-14T01:14:14.559726Z"
    }
   },
   "outputs": [
    {
     "name": "stdout",
     "output_type": "stream",
     "text": [
      "doc is: \n",
      "At December 31, 2016 and 2015, we had approximately 56,400 and 66,400 employees, respectively.\n",
      "--------------------------------------------------\n",
      "Entities are: \n"
     ]
    },
    {
     "data": {
      "text/html": [
       "<table border=\"1\" class=\"dataframe\">\n",
       "  <thead>\n",
       "    <tr style=\"text-align: right;\">\n",
       "      <th></th>\n",
       "      <th>tok_i</th>\n",
       "      <th>entity</th>\n",
       "      <th>ent_label</th>\n",
       "      <th>root</th>\n",
       "      <th>root_dep</th>\n",
       "      <th>dep_def</th>\n",
       "      <th>root_head</th>\n",
       "      <th>root_head_dep</th>\n",
       "      <th>root_head_pos</th>\n",
       "    </tr>\n",
       "  </thead>\n",
       "  <tbody>\n",
       "    <tr>\n",
       "      <th>0</th>\n",
       "      <td>1</td>\n",
       "      <td>December 31, 2016 and 2015</td>\n",
       "      <td>DATE</td>\n",
       "      <td>December</td>\n",
       "      <td>pobj</td>\n",
       "      <td>object of preposition</td>\n",
       "      <td>At</td>\n",
       "      <td>prep</td>\n",
       "      <td>ADP</td>\n",
       "    </tr>\n",
       "    <tr>\n",
       "      <th>1</th>\n",
       "      <td>10</td>\n",
       "      <td>approximately 56,400</td>\n",
       "      <td>CARDINAL</td>\n",
       "      <td>56,400</td>\n",
       "      <td>nummod</td>\n",
       "      <td>None</td>\n",
       "      <td>employees</td>\n",
       "      <td>dobj</td>\n",
       "      <td>NOUN</td>\n",
       "    </tr>\n",
       "    <tr>\n",
       "      <th>2</th>\n",
       "      <td>13</td>\n",
       "      <td>66,400</td>\n",
       "      <td>CARDINAL</td>\n",
       "      <td>66,400</td>\n",
       "      <td>conj</td>\n",
       "      <td>conjunct</td>\n",
       "      <td>56,400</td>\n",
       "      <td>nummod</td>\n",
       "      <td>NUM</td>\n",
       "    </tr>\n",
       "    <tr>\n",
       "      <th>3</th>\n",
       "      <td>14</td>\n",
       "      <td>employees</td>\n",
       "      <td>EMP_NOUN</td>\n",
       "      <td>employees</td>\n",
       "      <td>dobj</td>\n",
       "      <td>direct object</td>\n",
       "      <td>had</td>\n",
       "      <td>ROOT</td>\n",
       "      <td>VERB</td>\n",
       "    </tr>\n",
       "  </tbody>\n",
       "</table>"
      ],
      "text/plain": [
       "<IPython.core.display.HTML object>"
      ]
     },
     "metadata": {},
     "output_type": "display_data"
    },
    {
     "name": "stdout",
     "output_type": "stream",
     "text": [
      "--------------------------------------------------\n",
      "Noun chunks are: \n"
     ]
    },
    {
     "data": {
      "text/html": [
       "<table border=\"1\" class=\"dataframe\">\n",
       "  <thead>\n",
       "    <tr style=\"text-align: right;\">\n",
       "      <th></th>\n",
       "      <th>tok_i</th>\n",
       "      <th>noun_chunk</th>\n",
       "      <th>root</th>\n",
       "      <th>root_ent</th>\n",
       "      <th>root_dep</th>\n",
       "      <th>dep_def</th>\n",
       "      <th>root_head</th>\n",
       "      <th>root_head_dep</th>\n",
       "      <th>root_head_pos</th>\n",
       "    </tr>\n",
       "  </thead>\n",
       "  <tbody>\n",
       "    <tr>\n",
       "      <th>0</th>\n",
       "      <td>1</td>\n",
       "      <td>December</td>\n",
       "      <td>December</td>\n",
       "      <td>DATE</td>\n",
       "      <td>pobj</td>\n",
       "      <td>object of preposition</td>\n",
       "      <td>At</td>\n",
       "      <td>prep</td>\n",
       "      <td>ADP</td>\n",
       "    </tr>\n",
       "    <tr>\n",
       "      <th>1</th>\n",
       "      <td>8</td>\n",
       "      <td>we</td>\n",
       "      <td>we</td>\n",
       "      <td></td>\n",
       "      <td>nsubj</td>\n",
       "      <td>nominal subject</td>\n",
       "      <td>had</td>\n",
       "      <td>ROOT</td>\n",
       "      <td>VERB</td>\n",
       "    </tr>\n",
       "    <tr>\n",
       "      <th>2</th>\n",
       "      <td>10</td>\n",
       "      <td>approximately 56,400 and 66,400 employees</td>\n",
       "      <td>employees</td>\n",
       "      <td>EMP_NOUN</td>\n",
       "      <td>dobj</td>\n",
       "      <td>direct object</td>\n",
       "      <td>had</td>\n",
       "      <td>ROOT</td>\n",
       "      <td>VERB</td>\n",
       "    </tr>\n",
       "  </tbody>\n",
       "</table>"
      ],
      "text/plain": [
       "<IPython.core.display.HTML object>"
      ]
     },
     "metadata": {},
     "output_type": "display_data"
    },
    {
     "name": "stdout",
     "output_type": "stream",
     "text": [
      "--------------------------------------------------\n",
      "Cardinal entities are: \n"
     ]
    },
    {
     "data": {
      "text/html": [
       "<table border=\"1\" class=\"dataframe\">\n",
       "  <thead>\n",
       "    <tr style=\"text-align: right;\">\n",
       "      <th></th>\n",
       "      <th>tok_ent</th>\n",
       "      <th>toks</th>\n",
       "      <th>lemma</th>\n",
       "      <th>dep</th>\n",
       "      <th>head</th>\n",
       "      <th>h_dep</th>\n",
       "      <th>pos</th>\n",
       "      <th>tag</th>\n",
       "      <th>dep_def</th>\n",
       "      <th>tag_def</th>\n",
       "    </tr>\n",
       "  </thead>\n",
       "  <tbody>\n",
       "    <tr>\n",
       "      <th>0</th>\n",
       "      <td>CARDINAL</td>\n",
       "      <td>approximately</td>\n",
       "      <td>approximately</td>\n",
       "      <td>advmod</td>\n",
       "      <td>56,400</td>\n",
       "      <td>nummod</td>\n",
       "      <td>ADV</td>\n",
       "      <td>RB</td>\n",
       "      <td>adverbial modifier</td>\n",
       "      <td>adverb</td>\n",
       "    </tr>\n",
       "    <tr>\n",
       "      <th>1</th>\n",
       "      <td>CARDINAL</td>\n",
       "      <td>56,400</td>\n",
       "      <td>56,400</td>\n",
       "      <td>nummod</td>\n",
       "      <td>employees</td>\n",
       "      <td>dobj</td>\n",
       "      <td>NUM</td>\n",
       "      <td>CD</td>\n",
       "      <td>None</td>\n",
       "      <td>cardinal number</td>\n",
       "    </tr>\n",
       "    <tr>\n",
       "      <th>2</th>\n",
       "      <td>CARDINAL</td>\n",
       "      <td>66,400</td>\n",
       "      <td>66,400</td>\n",
       "      <td>conj</td>\n",
       "      <td>56,400</td>\n",
       "      <td>nummod</td>\n",
       "      <td>NUM</td>\n",
       "      <td>CD</td>\n",
       "      <td>conjunct</td>\n",
       "      <td>cardinal number</td>\n",
       "    </tr>\n",
       "  </tbody>\n",
       "</table>"
      ],
      "text/plain": [
       "<IPython.core.display.HTML object>"
      ]
     },
     "metadata": {},
     "output_type": "display_data"
    }
   ],
   "source": [
    "hf.print_doc_info(ex7)"
   ]
  },
  {
   "cell_type": "code",
   "execution_count": 21,
   "metadata": {
    "ExecuteTime": {
     "end_time": "2018-08-14T01:14:20.268953Z",
     "start_time": "2018-08-14T01:14:20.258946Z"
    }
   },
   "outputs": [
    {
     "name": "stdout",
     "output_type": "stream",
     "text": [
      "Token children: \n",
      "approximately       child.dep_:advmod\n",
      "and       child.dep_:cc\n",
      "66,400       child.dep_:conj\n"
     ]
    }
   ],
   "source": [
    "print('Token children: ')\n",
    "for w in ex7_emp_num_tok.children:\n",
    "    print(str(w) + '       child.dep_:' + str(w.dep_))"
   ]
  },
  {
   "cell_type": "code",
   "execution_count": 22,
   "metadata": {
    "ExecuteTime": {
     "end_time": "2018-08-14T01:14:20.276957Z",
     "start_time": "2018-08-14T01:14:20.273955Z"
    }
   },
   "outputs": [],
   "source": [
    "#displacy.render(ex7, style='dep', jupyter=True, options={'distance': 110})"
   ]
  },
  {
   "cell_type": "code",
   "execution_count": 23,
   "metadata": {
    "ExecuteTime": {
     "end_time": "2018-08-14T01:14:20.321985Z",
     "start_time": "2018-08-14T01:14:20.279960Z"
    },
    "scrolled": true
   },
   "outputs": [
    {
     "name": "stdout",
     "output_type": "stream",
     "text": [
      "Word_id is : 0\n",
      "Word is : employees\n",
      "Word subtree is :  approximately 56,400 and 66,400\n",
      "Word children :  [56,400]\n",
      "Num_toks are: [56,400]\n",
      "num_tok has conjugate children:[66,400]\n",
      "num_tok subtree is :[approximately, 56,400, and, 66,400]\n",
      "years: [(4, 2016), (6, 2015)]\n",
      "cards: [(11, 56,400), (13, 66,400)]\n",
      "order_indices: [1, 0]\n",
      "year_emps: [(2016, 56,400), (2015, 66,400)]\n",
      "Finding emp_type, emp_tok is dobj\n",
      "emp_noun tok head: had\n",
      "tok_head_emptype_subtreee: []\n",
      "tok_head_empnoun_subtreee: [employees]\n",
      "No toks, returning 0.\n",
      "Dep_ of EMP_NOUN is: dobj\n",
      "Root is at 1 steps from employees.\n",
      "Parts found:  (we, had, 56,400, 'Other Employees', [], employees)\n"
     ]
    },
    {
     "data": {
      "text/plain": [
       "[RelationDetails(sent_num=0, word_num=0, subject=we, verb=had, quantity=56,400, quantity_idx=11, quantity_type='Other Employees', type_token=[], word=employees, word_idx=14, word_dep='dobj', depth=1, sentence='At December 31, 2016 and 2015, we had approximately 56,400 and 66,400 employees, respectively.')]"
      ]
     },
     "execution_count": 23,
     "metadata": {},
     "output_type": "execute_result"
    }
   ],
   "source": [
    "extract_emp_relations(ex7, verbose=True)"
   ]
  },
  {
   "cell_type": "markdown",
   "metadata": {},
   "source": [
    "#### `At March 31, 2016, 2015 and 2014, we had 3,066, 2,982 and 2,843 employees, respectively. `\n",
    "\n",
    "Desired output: \n",
    "`(we, had, 3,066, 'Other Employees', 0, employees)`"
   ]
  },
  {
   "cell_type": "code",
   "execution_count": 24,
   "metadata": {
    "ExecuteTime": {
     "end_time": "2018-08-14T01:14:37.610576Z",
     "start_time": "2018-08-14T01:14:37.578556Z"
    }
   },
   "outputs": [
    {
     "name": "stdout",
     "output_type": "stream",
     "text": [
      "employees\n",
      "conj\n",
      "2,843\n",
      "[2,982]\n"
     ]
    }
   ],
   "source": [
    "ex12 = nlp(\"At March 31, 2016, 2015 and 2014, we had 3,066, 2,982 and 2,843 employees, respectively.\")\n",
    "\n",
    "ex12_emp_tok = ex12[17]\n",
    "ex12_emp_num_tok = ex12[16]; ex12_emp_num_tok_2 = ex12[14]; ex12_emp_num_tok_3 = ex12[12]\n",
    "\n",
    "print(ex12_emp_tok)\n",
    "print(ex12_emp_tok.dep_)\n",
    "print(ex12_emp_num_tok)\n",
    "print([c for c in ex12_emp_num_tok_3.conjuncts])\n",
    "\n",
    "#print_df(make_tok_df(ex12))"
   ]
  },
  {
   "cell_type": "code",
   "execution_count": 25,
   "metadata": {
    "ExecuteTime": {
     "end_time": "2018-08-14T01:14:37.659609Z",
     "start_time": "2018-08-14T01:14:37.612580Z"
    }
   },
   "outputs": [
    {
     "name": "stdout",
     "output_type": "stream",
     "text": [
      "doc is: \n",
      "At March 31, 2016, 2015 and 2014, we had 3,066, 2,982 and 2,843 employees, respectively.\n",
      "--------------------------------------------------\n",
      "Entities are: \n"
     ]
    },
    {
     "data": {
      "text/html": [
       "<table border=\"1\" class=\"dataframe\">\n",
       "  <thead>\n",
       "    <tr style=\"text-align: right;\">\n",
       "      <th></th>\n",
       "      <th>tok_i</th>\n",
       "      <th>entity</th>\n",
       "      <th>ent_label</th>\n",
       "      <th>root</th>\n",
       "      <th>root_dep</th>\n",
       "      <th>dep_def</th>\n",
       "      <th>root_head</th>\n",
       "      <th>root_head_dep</th>\n",
       "      <th>root_head_pos</th>\n",
       "    </tr>\n",
       "  </thead>\n",
       "  <tbody>\n",
       "    <tr>\n",
       "      <th>0</th>\n",
       "      <td>1</td>\n",
       "      <td>March 31, 2016, 2015 and 2014</td>\n",
       "      <td>DATE</td>\n",
       "      <td>March</td>\n",
       "      <td>pobj</td>\n",
       "      <td>object of preposition</td>\n",
       "      <td>At</td>\n",
       "      <td>prep</td>\n",
       "      <td>ADP</td>\n",
       "    </tr>\n",
       "    <tr>\n",
       "      <th>1</th>\n",
       "      <td>12</td>\n",
       "      <td>3,066</td>\n",
       "      <td>CARDINAL</td>\n",
       "      <td>3,066</td>\n",
       "      <td>dobj</td>\n",
       "      <td>direct object</td>\n",
       "      <td>had</td>\n",
       "      <td>ROOT</td>\n",
       "      <td>VERB</td>\n",
       "    </tr>\n",
       "    <tr>\n",
       "      <th>2</th>\n",
       "      <td>14</td>\n",
       "      <td>2,982</td>\n",
       "      <td>CARDINAL</td>\n",
       "      <td>2,982</td>\n",
       "      <td>conj</td>\n",
       "      <td>conjunct</td>\n",
       "      <td>3,066</td>\n",
       "      <td>dobj</td>\n",
       "      <td>NUM</td>\n",
       "    </tr>\n",
       "    <tr>\n",
       "      <th>3</th>\n",
       "      <td>16</td>\n",
       "      <td>2,843</td>\n",
       "      <td>CARDINAL</td>\n",
       "      <td>2,843</td>\n",
       "      <td>nummod</td>\n",
       "      <td>None</td>\n",
       "      <td>employees</td>\n",
       "      <td>conj</td>\n",
       "      <td>NOUN</td>\n",
       "    </tr>\n",
       "    <tr>\n",
       "      <th>4</th>\n",
       "      <td>17</td>\n",
       "      <td>employees</td>\n",
       "      <td>EMP_NOUN</td>\n",
       "      <td>employees</td>\n",
       "      <td>conj</td>\n",
       "      <td>conjunct</td>\n",
       "      <td>2,982</td>\n",
       "      <td>conj</td>\n",
       "      <td>NUM</td>\n",
       "    </tr>\n",
       "  </tbody>\n",
       "</table>"
      ],
      "text/plain": [
       "<IPython.core.display.HTML object>"
      ]
     },
     "metadata": {},
     "output_type": "display_data"
    },
    {
     "name": "stdout",
     "output_type": "stream",
     "text": [
      "--------------------------------------------------\n",
      "Noun chunks are: \n"
     ]
    },
    {
     "data": {
      "text/html": [
       "<table border=\"1\" class=\"dataframe\">\n",
       "  <thead>\n",
       "    <tr style=\"text-align: right;\">\n",
       "      <th></th>\n",
       "      <th>tok_i</th>\n",
       "      <th>noun_chunk</th>\n",
       "      <th>root</th>\n",
       "      <th>root_ent</th>\n",
       "      <th>root_dep</th>\n",
       "      <th>dep_def</th>\n",
       "      <th>root_head</th>\n",
       "      <th>root_head_dep</th>\n",
       "      <th>root_head_pos</th>\n",
       "    </tr>\n",
       "  </thead>\n",
       "  <tbody>\n",
       "    <tr>\n",
       "      <th>0</th>\n",
       "      <td>1</td>\n",
       "      <td>March</td>\n",
       "      <td>March</td>\n",
       "      <td>DATE</td>\n",
       "      <td>pobj</td>\n",
       "      <td>object of preposition</td>\n",
       "      <td>At</td>\n",
       "      <td>prep</td>\n",
       "      <td>ADP</td>\n",
       "    </tr>\n",
       "    <tr>\n",
       "      <th>1</th>\n",
       "      <td>10</td>\n",
       "      <td>we</td>\n",
       "      <td>we</td>\n",
       "      <td></td>\n",
       "      <td>nsubj</td>\n",
       "      <td>nominal subject</td>\n",
       "      <td>had</td>\n",
       "      <td>ROOT</td>\n",
       "      <td>VERB</td>\n",
       "    </tr>\n",
       "    <tr>\n",
       "      <th>2</th>\n",
       "      <td>16</td>\n",
       "      <td>2,843 employees</td>\n",
       "      <td>employees</td>\n",
       "      <td>EMP_NOUN</td>\n",
       "      <td>conj</td>\n",
       "      <td>conjunct</td>\n",
       "      <td>2,982</td>\n",
       "      <td>conj</td>\n",
       "      <td>NUM</td>\n",
       "    </tr>\n",
       "  </tbody>\n",
       "</table>"
      ],
      "text/plain": [
       "<IPython.core.display.HTML object>"
      ]
     },
     "metadata": {},
     "output_type": "display_data"
    },
    {
     "name": "stdout",
     "output_type": "stream",
     "text": [
      "--------------------------------------------------\n",
      "Cardinal entities are: \n"
     ]
    },
    {
     "data": {
      "text/html": [
       "<table border=\"1\" class=\"dataframe\">\n",
       "  <thead>\n",
       "    <tr style=\"text-align: right;\">\n",
       "      <th></th>\n",
       "      <th>tok_ent</th>\n",
       "      <th>toks</th>\n",
       "      <th>lemma</th>\n",
       "      <th>dep</th>\n",
       "      <th>head</th>\n",
       "      <th>h_dep</th>\n",
       "      <th>pos</th>\n",
       "      <th>tag</th>\n",
       "      <th>dep_def</th>\n",
       "      <th>tag_def</th>\n",
       "    </tr>\n",
       "  </thead>\n",
       "  <tbody>\n",
       "    <tr>\n",
       "      <th>0</th>\n",
       "      <td>CARDINAL</td>\n",
       "      <td>3,066</td>\n",
       "      <td>3,066</td>\n",
       "      <td>dobj</td>\n",
       "      <td>had</td>\n",
       "      <td>ROOT</td>\n",
       "      <td>NUM</td>\n",
       "      <td>CD</td>\n",
       "      <td>direct object</td>\n",
       "      <td>cardinal number</td>\n",
       "    </tr>\n",
       "    <tr>\n",
       "      <th>1</th>\n",
       "      <td>CARDINAL</td>\n",
       "      <td>2,982</td>\n",
       "      <td>2,982</td>\n",
       "      <td>conj</td>\n",
       "      <td>3,066</td>\n",
       "      <td>dobj</td>\n",
       "      <td>NUM</td>\n",
       "      <td>CD</td>\n",
       "      <td>conjunct</td>\n",
       "      <td>cardinal number</td>\n",
       "    </tr>\n",
       "    <tr>\n",
       "      <th>2</th>\n",
       "      <td>CARDINAL</td>\n",
       "      <td>2,843</td>\n",
       "      <td>2,843</td>\n",
       "      <td>nummod</td>\n",
       "      <td>employees</td>\n",
       "      <td>conj</td>\n",
       "      <td>NUM</td>\n",
       "      <td>CD</td>\n",
       "      <td>None</td>\n",
       "      <td>cardinal number</td>\n",
       "    </tr>\n",
       "  </tbody>\n",
       "</table>"
      ],
      "text/plain": [
       "<IPython.core.display.HTML object>"
      ]
     },
     "metadata": {},
     "output_type": "display_data"
    }
   ],
   "source": [
    "hf.print_doc_info(ex12)"
   ]
  },
  {
   "cell_type": "code",
   "execution_count": 26,
   "metadata": {
    "ExecuteTime": {
     "end_time": "2018-08-14T01:14:37.665613Z",
     "start_time": "2018-08-14T01:14:37.661610Z"
    }
   },
   "outputs": [],
   "source": [
    "#displacy.render(ex12, style='dep', jupyter=True)"
   ]
  },
  {
   "cell_type": "code",
   "execution_count": 27,
   "metadata": {
    "ExecuteTime": {
     "end_time": "2018-08-14T01:14:37.725653Z",
     "start_time": "2018-08-14T01:14:37.667614Z"
    },
    "scrolled": true
   },
   "outputs": [
    {
     "name": "stdout",
     "output_type": "stream",
     "text": [
      "Word_id is : 0\n",
      "Word is : employees\n",
      "Word subtree is :  2,843\n",
      "Word children :  [2,843]\n",
      "Num_toks are: [2,843]\n",
      "Candidate tok:  2,843\n",
      "Candidate tok.pos_:   NUM\n",
      "Candidate tok.dep_:   nummod\n",
      "No toks, returning 0.\n",
      "Dep_ of EMP_NOUN is: conj\n",
      "Emp_noun token has dep_ == 'conj'.\n",
      "Child num_tok: 2,843\n",
      "Head num_tok: [2,982]\n",
      "child_num_tok and head_num_toks\n",
      "years: [(4, 2016), (6, 2015), (8, 2014)]\n",
      "num_toks: [2,843, 2,982]\n",
      "emp_counts: [(12, 3,066), (14, 2,982), (16, 2,843)]\n",
      "order_indices: [2, 1, 0]\n",
      "year_emps: [(2016, 3,066), (2015, 2,982), (2014, 2,843)]\n",
      "Parts found:  (we, had, 3,066, 'Other Employees', [], employees)\n"
     ]
    },
    {
     "data": {
      "text/plain": [
       "[RelationDetails(sent_num=0, word_num=0, subject=we, verb=had, quantity=3,066, quantity_idx=12, quantity_type='Other Employees', type_token=[], word=employees, word_idx=17, word_dep='conj', depth=1, sentence='At March 31, 2016, 2015 and 2014, we had 3,066, 2,982 and 2,843 employees, respectively.')]"
      ]
     },
     "execution_count": 27,
     "metadata": {},
     "output_type": "execute_result"
    }
   ],
   "source": [
    "extract_emp_relations(ex12, verbose = True)"
   ]
  },
  {
   "cell_type": "markdown",
   "metadata": {},
   "source": [
    "#### `We had a total of 9,832, 9,058, and 8,806 employees as of December 31, 2016, 2015, and 2014, respectively. `\n",
    "Desired output: \n",
    "`(we, had, 9,832, 'Other Employees', 0, employees)`"
   ]
  },
  {
   "cell_type": "code",
   "execution_count": 28,
   "metadata": {
    "ExecuteTime": {
     "end_time": "2018-08-14T01:14:54.770495Z",
     "start_time": "2018-08-14T01:14:54.739477Z"
    }
   },
   "outputs": [
    {
     "name": "stdout",
     "output_type": "stream",
     "text": [
      "employees\n",
      "conj\n",
      "8,806\n",
      "[employees]\n"
     ]
    }
   ],
   "source": [
    "ex13 = nlp(\"We had a total of 9,832, 9,058, and 8,806 employees as of December 31, 2016, 2015, and 2014, respectively.\")\n",
    "#ex13 = nlp(\"We had 9,832, 9,058, and 8,806 employees as of December 31, 2016, 2015, and 2014, respectively.\")\n",
    "\n",
    "ex13_emp_tok = ex13[11]\n",
    "ex13_emp_num_tok = ex13[10]; ex13_emp_num_tok_2 = ex13[7]; ex13_emp_num_tok_3 = ex13[5]\n",
    "\n",
    "print(ex13_emp_tok)\n",
    "print(ex13_emp_tok.dep_)\n",
    "print(ex13_emp_num_tok)\n",
    "print([c for c in ex13_emp_num_tok_2.conjuncts])\n",
    "\n",
    "#print_df(make_tok_df(ex13))"
   ]
  },
  {
   "cell_type": "code",
   "execution_count": 29,
   "metadata": {
    "ExecuteTime": {
     "end_time": "2018-08-14T01:14:54.822530Z",
     "start_time": "2018-08-14T01:14:54.772497Z"
    }
   },
   "outputs": [
    {
     "name": "stdout",
     "output_type": "stream",
     "text": [
      "doc is: \n",
      "We had a total of 9,832, 9,058, and 8,806 employees as of December 31, 2016, 2015, and 2014, respectively.\n",
      "--------------------------------------------------\n",
      "Entities are: \n"
     ]
    },
    {
     "data": {
      "text/html": [
       "<table border=\"1\" class=\"dataframe\">\n",
       "  <thead>\n",
       "    <tr style=\"text-align: right;\">\n",
       "      <th></th>\n",
       "      <th>tok_i</th>\n",
       "      <th>entity</th>\n",
       "      <th>ent_label</th>\n",
       "      <th>root</th>\n",
       "      <th>root_dep</th>\n",
       "      <th>dep_def</th>\n",
       "      <th>root_head</th>\n",
       "      <th>root_head_dep</th>\n",
       "      <th>root_head_pos</th>\n",
       "    </tr>\n",
       "  </thead>\n",
       "  <tbody>\n",
       "    <tr>\n",
       "      <th>0</th>\n",
       "      <td>5</td>\n",
       "      <td>9,832</td>\n",
       "      <td>CARDINAL</td>\n",
       "      <td>9,832</td>\n",
       "      <td>pobj</td>\n",
       "      <td>object of preposition</td>\n",
       "      <td>of</td>\n",
       "      <td>prep</td>\n",
       "      <td>ADP</td>\n",
       "    </tr>\n",
       "    <tr>\n",
       "      <th>1</th>\n",
       "      <td>7</td>\n",
       "      <td>9,058</td>\n",
       "      <td>CARDINAL</td>\n",
       "      <td>9,058</td>\n",
       "      <td>appos</td>\n",
       "      <td>appositional modifier</td>\n",
       "      <td>9,832</td>\n",
       "      <td>pobj</td>\n",
       "      <td>NUM</td>\n",
       "    </tr>\n",
       "    <tr>\n",
       "      <th>2</th>\n",
       "      <td>10</td>\n",
       "      <td>8,806</td>\n",
       "      <td>CARDINAL</td>\n",
       "      <td>8,806</td>\n",
       "      <td>nummod</td>\n",
       "      <td>None</td>\n",
       "      <td>employees</td>\n",
       "      <td>conj</td>\n",
       "      <td>NOUN</td>\n",
       "    </tr>\n",
       "    <tr>\n",
       "      <th>3</th>\n",
       "      <td>11</td>\n",
       "      <td>employees</td>\n",
       "      <td>EMP_NOUN</td>\n",
       "      <td>employees</td>\n",
       "      <td>conj</td>\n",
       "      <td>conjunct</td>\n",
       "      <td>9,058</td>\n",
       "      <td>appos</td>\n",
       "      <td>NUM</td>\n",
       "    </tr>\n",
       "    <tr>\n",
       "      <th>4</th>\n",
       "      <td>14</td>\n",
       "      <td>December 31, 2016, 2015</td>\n",
       "      <td>DATE</td>\n",
       "      <td>December</td>\n",
       "      <td>pobj</td>\n",
       "      <td>object of preposition</td>\n",
       "      <td>of</td>\n",
       "      <td>prep</td>\n",
       "      <td>ADP</td>\n",
       "    </tr>\n",
       "    <tr>\n",
       "      <th>5</th>\n",
       "      <td>22</td>\n",
       "      <td>2014</td>\n",
       "      <td>DATE</td>\n",
       "      <td>2014</td>\n",
       "      <td>conj</td>\n",
       "      <td>conjunct</td>\n",
       "      <td>December</td>\n",
       "      <td>pobj</td>\n",
       "      <td>PROPN</td>\n",
       "    </tr>\n",
       "  </tbody>\n",
       "</table>"
      ],
      "text/plain": [
       "<IPython.core.display.HTML object>"
      ]
     },
     "metadata": {},
     "output_type": "display_data"
    },
    {
     "name": "stdout",
     "output_type": "stream",
     "text": [
      "--------------------------------------------------\n",
      "Noun chunks are: \n"
     ]
    },
    {
     "data": {
      "text/html": [
       "<table border=\"1\" class=\"dataframe\">\n",
       "  <thead>\n",
       "    <tr style=\"text-align: right;\">\n",
       "      <th></th>\n",
       "      <th>tok_i</th>\n",
       "      <th>noun_chunk</th>\n",
       "      <th>root</th>\n",
       "      <th>root_ent</th>\n",
       "      <th>root_dep</th>\n",
       "      <th>dep_def</th>\n",
       "      <th>root_head</th>\n",
       "      <th>root_head_dep</th>\n",
       "      <th>root_head_pos</th>\n",
       "    </tr>\n",
       "  </thead>\n",
       "  <tbody>\n",
       "    <tr>\n",
       "      <th>0</th>\n",
       "      <td>0</td>\n",
       "      <td>We</td>\n",
       "      <td>We</td>\n",
       "      <td></td>\n",
       "      <td>nsubj</td>\n",
       "      <td>nominal subject</td>\n",
       "      <td>had</td>\n",
       "      <td>ROOT</td>\n",
       "      <td>VERB</td>\n",
       "    </tr>\n",
       "    <tr>\n",
       "      <th>1</th>\n",
       "      <td>2</td>\n",
       "      <td>a total</td>\n",
       "      <td>total</td>\n",
       "      <td></td>\n",
       "      <td>dobj</td>\n",
       "      <td>direct object</td>\n",
       "      <td>had</td>\n",
       "      <td>ROOT</td>\n",
       "      <td>VERB</td>\n",
       "    </tr>\n",
       "    <tr>\n",
       "      <th>2</th>\n",
       "      <td>10</td>\n",
       "      <td>8,806 employees</td>\n",
       "      <td>employees</td>\n",
       "      <td>EMP_NOUN</td>\n",
       "      <td>conj</td>\n",
       "      <td>conjunct</td>\n",
       "      <td>9,058</td>\n",
       "      <td>appos</td>\n",
       "      <td>NUM</td>\n",
       "    </tr>\n",
       "    <tr>\n",
       "      <th>3</th>\n",
       "      <td>14</td>\n",
       "      <td>December</td>\n",
       "      <td>December</td>\n",
       "      <td>DATE</td>\n",
       "      <td>pobj</td>\n",
       "      <td>object of preposition</td>\n",
       "      <td>of</td>\n",
       "      <td>prep</td>\n",
       "      <td>ADP</td>\n",
       "    </tr>\n",
       "  </tbody>\n",
       "</table>"
      ],
      "text/plain": [
       "<IPython.core.display.HTML object>"
      ]
     },
     "metadata": {},
     "output_type": "display_data"
    },
    {
     "name": "stdout",
     "output_type": "stream",
     "text": [
      "--------------------------------------------------\n",
      "Cardinal entities are: \n"
     ]
    },
    {
     "data": {
      "text/html": [
       "<table border=\"1\" class=\"dataframe\">\n",
       "  <thead>\n",
       "    <tr style=\"text-align: right;\">\n",
       "      <th></th>\n",
       "      <th>tok_ent</th>\n",
       "      <th>toks</th>\n",
       "      <th>lemma</th>\n",
       "      <th>dep</th>\n",
       "      <th>head</th>\n",
       "      <th>h_dep</th>\n",
       "      <th>pos</th>\n",
       "      <th>tag</th>\n",
       "      <th>dep_def</th>\n",
       "      <th>tag_def</th>\n",
       "    </tr>\n",
       "  </thead>\n",
       "  <tbody>\n",
       "    <tr>\n",
       "      <th>0</th>\n",
       "      <td>CARDINAL</td>\n",
       "      <td>9,832</td>\n",
       "      <td>9,832</td>\n",
       "      <td>pobj</td>\n",
       "      <td>of</td>\n",
       "      <td>prep</td>\n",
       "      <td>NUM</td>\n",
       "      <td>CD</td>\n",
       "      <td>object of preposition</td>\n",
       "      <td>cardinal number</td>\n",
       "    </tr>\n",
       "    <tr>\n",
       "      <th>1</th>\n",
       "      <td>CARDINAL</td>\n",
       "      <td>9,058</td>\n",
       "      <td>9,058</td>\n",
       "      <td>appos</td>\n",
       "      <td>9,832</td>\n",
       "      <td>pobj</td>\n",
       "      <td>NUM</td>\n",
       "      <td>CD</td>\n",
       "      <td>appositional modifier</td>\n",
       "      <td>cardinal number</td>\n",
       "    </tr>\n",
       "    <tr>\n",
       "      <th>2</th>\n",
       "      <td>CARDINAL</td>\n",
       "      <td>8,806</td>\n",
       "      <td>8,806</td>\n",
       "      <td>nummod</td>\n",
       "      <td>employees</td>\n",
       "      <td>conj</td>\n",
       "      <td>NUM</td>\n",
       "      <td>CD</td>\n",
       "      <td>None</td>\n",
       "      <td>cardinal number</td>\n",
       "    </tr>\n",
       "  </tbody>\n",
       "</table>"
      ],
      "text/plain": [
       "<IPython.core.display.HTML object>"
      ]
     },
     "metadata": {},
     "output_type": "display_data"
    }
   ],
   "source": [
    "hf.print_doc_info(ex13)"
   ]
  },
  {
   "cell_type": "code",
   "execution_count": 30,
   "metadata": {
    "ExecuteTime": {
     "end_time": "2018-08-14T01:14:54.827533Z",
     "start_time": "2018-08-14T01:14:54.824531Z"
    }
   },
   "outputs": [],
   "source": [
    "#displacy.render(ex13, style='dep', jupyter=True)"
   ]
  },
  {
   "cell_type": "code",
   "execution_count": 31,
   "metadata": {
    "ExecuteTime": {
     "end_time": "2018-08-14T01:14:54.879568Z",
     "start_time": "2018-08-14T01:14:54.829535Z"
    },
    "scrolled": true
   },
   "outputs": [
    {
     "name": "stdout",
     "output_type": "stream",
     "text": [
      "Word_id is : 0\n",
      "Word is : employees\n",
      "Word subtree is :  8,806 employees as of December 31, 2016, 2015, and 2014,\n",
      "Word children :  [8,806, as, respectively]\n",
      "Num_toks are: [8,806]\n",
      "Candidate tok:  8,806\n",
      "Candidate tok.pos_:   NUM\n",
      "Candidate tok.dep_:   nummod\n",
      "No toks, returning 0.\n",
      "Dep_ of EMP_NOUN is: conj\n",
      "Emp_noun token has dep_ == 'conj'.\n",
      "Child num_tok: 8,806\n",
      "Head num_tok: [9,058]\n",
      "child_num_tok and head_num_toks\n",
      "years: [(17, 2016), (19, 2015), (22, 2014)]\n",
      "num_toks: [8,806, 9,058]\n",
      "emp_counts: [(5, 9,832), (7, 9,058), (10, 8,806)]\n",
      "order_indices: [2, 1, 0]\n",
      "year_emps: [(2016, 9,832), (2015, 9,058), (2014, 8,806)]\n",
      "Parts found:  (We, had, 9,832, 'Other Employees', [], employees)\n"
     ]
    },
    {
     "data": {
      "text/plain": [
       "[RelationDetails(sent_num=0, word_num=0, subject=We, verb=had, quantity=9,832, quantity_idx=5, quantity_type='Other Employees', type_token=[], word=employees, word_idx=11, word_dep='conj', depth=1, sentence='We had a total of 9,832, 9,058, and 8,806 employees as of December 31, 2016, 2015, and 2014, respectively.')]"
      ]
     },
     "execution_count": 31,
     "metadata": {},
     "output_type": "execute_result"
    }
   ],
   "source": [
    "extract_emp_relations(ex13, verbose = True)"
   ]
  },
  {
   "cell_type": "markdown",
   "metadata": {
    "heading_collapsed": true
   },
   "source": [
    "#### `We had 17,912, 14,533 and 10,625 employees as of December 31, 2014, 2015 and 2016, respectively.`  \n",
    "Desired output: \n",
    "`(we, had, 10,625, 'Other Employees', 0, employees)`"
   ]
  },
  {
   "cell_type": "code",
   "execution_count": 36,
   "metadata": {
    "ExecuteTime": {
     "end_time": "2018-08-06T16:08:53.396016Z",
     "start_time": "2018-08-06T16:08:53.375004Z"
    },
    "hidden": true
   },
   "outputs": [],
   "source": [
    "ex14 = nlp(\"We had 17,912, 14,533 and 10,625 employees as of December 31, 2014, 2015 and 2016, respectively.\")\n",
    "\n",
    "#print_df(make_tok_df(ex14))\n",
    "\n",
    "ex14_emp_tok = ex14[7]\n",
    "ex14_emp_num_tok = ex14[6]; ex14_emp_num_tok_2 = ex14[4]; ex14_emp_num_tok_3 = ex14[2];"
   ]
  },
  {
   "cell_type": "code",
   "execution_count": 37,
   "metadata": {
    "ExecuteTime": {
     "end_time": "2018-08-06T16:08:53.450052Z",
     "start_time": "2018-08-06T16:08:53.398017Z"
    },
    "hidden": true
   },
   "outputs": [
    {
     "name": "stdout",
     "output_type": "stream",
     "text": [
      "employees\n",
      "conj\n",
      "10,625\n",
      "[14,533, employees]\n",
      "doc is: \n",
      "We had 17,912, 14,533 and 10,625 employees as of December 31, 2014, 2015 and 2016, respectively.\n",
      "--------------------------------------------------\n",
      "Entities are: \n"
     ]
    },
    {
     "data": {
      "text/html": [
       "<table border=\"1\" class=\"dataframe\">\n",
       "  <thead>\n",
       "    <tr style=\"text-align: right;\">\n",
       "      <th></th>\n",
       "      <th>tok_i</th>\n",
       "      <th>entity</th>\n",
       "      <th>ent_label</th>\n",
       "      <th>root</th>\n",
       "      <th>root_dep</th>\n",
       "      <th>dep_def</th>\n",
       "      <th>root_head</th>\n",
       "      <th>root_head_dep</th>\n",
       "      <th>root_head_pos</th>\n",
       "    </tr>\n",
       "  </thead>\n",
       "  <tbody>\n",
       "    <tr>\n",
       "      <th>0</th>\n",
       "      <td>2</td>\n",
       "      <td>17,912</td>\n",
       "      <td>CARDINAL</td>\n",
       "      <td>17,912</td>\n",
       "      <td>dobj</td>\n",
       "      <td>direct object</td>\n",
       "      <td>had</td>\n",
       "      <td>ROOT</td>\n",
       "      <td>VERB</td>\n",
       "    </tr>\n",
       "    <tr>\n",
       "      <th>1</th>\n",
       "      <td>4</td>\n",
       "      <td>14,533</td>\n",
       "      <td>CARDINAL</td>\n",
       "      <td>14,533</td>\n",
       "      <td>conj</td>\n",
       "      <td>conjunct</td>\n",
       "      <td>17,912</td>\n",
       "      <td>dobj</td>\n",
       "      <td>NUM</td>\n",
       "    </tr>\n",
       "    <tr>\n",
       "      <th>2</th>\n",
       "      <td>6</td>\n",
       "      <td>10,625</td>\n",
       "      <td>CARDINAL</td>\n",
       "      <td>10,625</td>\n",
       "      <td>nummod</td>\n",
       "      <td>None</td>\n",
       "      <td>employees</td>\n",
       "      <td>conj</td>\n",
       "      <td>NOUN</td>\n",
       "    </tr>\n",
       "    <tr>\n",
       "      <th>3</th>\n",
       "      <td>7</td>\n",
       "      <td>employees</td>\n",
       "      <td>EMP_NOUN</td>\n",
       "      <td>employees</td>\n",
       "      <td>conj</td>\n",
       "      <td>conjunct</td>\n",
       "      <td>17,912</td>\n",
       "      <td>dobj</td>\n",
       "      <td>NUM</td>\n",
       "    </tr>\n",
       "    <tr>\n",
       "      <th>4</th>\n",
       "      <td>10</td>\n",
       "      <td>December 31, 2014, 2015 and 2016</td>\n",
       "      <td>DATE</td>\n",
       "      <td>December</td>\n",
       "      <td>pobj</td>\n",
       "      <td>object of preposition</td>\n",
       "      <td>of</td>\n",
       "      <td>prep</td>\n",
       "      <td>ADP</td>\n",
       "    </tr>\n",
       "  </tbody>\n",
       "</table>"
      ],
      "text/plain": [
       "<IPython.core.display.HTML object>"
      ]
     },
     "metadata": {},
     "output_type": "display_data"
    },
    {
     "name": "stdout",
     "output_type": "stream",
     "text": [
      "--------------------------------------------------\n",
      "Noun chunks are: \n"
     ]
    },
    {
     "data": {
      "text/html": [
       "<table border=\"1\" class=\"dataframe\">\n",
       "  <thead>\n",
       "    <tr style=\"text-align: right;\">\n",
       "      <th></th>\n",
       "      <th>tok_i</th>\n",
       "      <th>noun_chunk</th>\n",
       "      <th>root</th>\n",
       "      <th>root_ent</th>\n",
       "      <th>root_dep</th>\n",
       "      <th>dep_def</th>\n",
       "      <th>root_head</th>\n",
       "      <th>root_head_dep</th>\n",
       "      <th>root_head_pos</th>\n",
       "    </tr>\n",
       "  </thead>\n",
       "  <tbody>\n",
       "    <tr>\n",
       "      <th>0</th>\n",
       "      <td>0</td>\n",
       "      <td>We</td>\n",
       "      <td>We</td>\n",
       "      <td></td>\n",
       "      <td>nsubj</td>\n",
       "      <td>nominal subject</td>\n",
       "      <td>had</td>\n",
       "      <td>ROOT</td>\n",
       "      <td>VERB</td>\n",
       "    </tr>\n",
       "    <tr>\n",
       "      <th>1</th>\n",
       "      <td>6</td>\n",
       "      <td>10,625 employees</td>\n",
       "      <td>employees</td>\n",
       "      <td>EMP_NOUN</td>\n",
       "      <td>conj</td>\n",
       "      <td>conjunct</td>\n",
       "      <td>17,912</td>\n",
       "      <td>dobj</td>\n",
       "      <td>NUM</td>\n",
       "    </tr>\n",
       "    <tr>\n",
       "      <th>2</th>\n",
       "      <td>10</td>\n",
       "      <td>December</td>\n",
       "      <td>December</td>\n",
       "      <td>DATE</td>\n",
       "      <td>pobj</td>\n",
       "      <td>object of preposition</td>\n",
       "      <td>of</td>\n",
       "      <td>prep</td>\n",
       "      <td>ADP</td>\n",
       "    </tr>\n",
       "  </tbody>\n",
       "</table>"
      ],
      "text/plain": [
       "<IPython.core.display.HTML object>"
      ]
     },
     "metadata": {},
     "output_type": "display_data"
    },
    {
     "name": "stdout",
     "output_type": "stream",
     "text": [
      "--------------------------------------------------\n",
      "Cardinal entities are: \n"
     ]
    },
    {
     "data": {
      "text/html": [
       "<table border=\"1\" class=\"dataframe\">\n",
       "  <thead>\n",
       "    <tr style=\"text-align: right;\">\n",
       "      <th></th>\n",
       "      <th>tok_ent</th>\n",
       "      <th>toks</th>\n",
       "      <th>lemma</th>\n",
       "      <th>dep</th>\n",
       "      <th>head</th>\n",
       "      <th>h_dep</th>\n",
       "      <th>pos</th>\n",
       "      <th>tag</th>\n",
       "      <th>dep_def</th>\n",
       "      <th>tag_def</th>\n",
       "    </tr>\n",
       "  </thead>\n",
       "  <tbody>\n",
       "    <tr>\n",
       "      <th>0</th>\n",
       "      <td>CARDINAL</td>\n",
       "      <td>17,912</td>\n",
       "      <td>17,912</td>\n",
       "      <td>dobj</td>\n",
       "      <td>had</td>\n",
       "      <td>ROOT</td>\n",
       "      <td>NUM</td>\n",
       "      <td>CD</td>\n",
       "      <td>direct object</td>\n",
       "      <td>cardinal number</td>\n",
       "    </tr>\n",
       "    <tr>\n",
       "      <th>1</th>\n",
       "      <td>CARDINAL</td>\n",
       "      <td>14,533</td>\n",
       "      <td>14,533</td>\n",
       "      <td>conj</td>\n",
       "      <td>17,912</td>\n",
       "      <td>dobj</td>\n",
       "      <td>NUM</td>\n",
       "      <td>CD</td>\n",
       "      <td>conjunct</td>\n",
       "      <td>cardinal number</td>\n",
       "    </tr>\n",
       "    <tr>\n",
       "      <th>2</th>\n",
       "      <td>CARDINAL</td>\n",
       "      <td>10,625</td>\n",
       "      <td>10,625</td>\n",
       "      <td>nummod</td>\n",
       "      <td>employees</td>\n",
       "      <td>conj</td>\n",
       "      <td>NUM</td>\n",
       "      <td>CD</td>\n",
       "      <td>None</td>\n",
       "      <td>cardinal number</td>\n",
       "    </tr>\n",
       "  </tbody>\n",
       "</table>"
      ],
      "text/plain": [
       "<IPython.core.display.HTML object>"
      ]
     },
     "metadata": {},
     "output_type": "display_data"
    }
   ],
   "source": [
    "print(ex14_emp_tok)\n",
    "print(ex14_emp_tok.dep_)\n",
    "print(ex14_emp_num_tok)\n",
    "print([c for c in ex14_emp_num_tok_3.conjuncts])\n",
    "print_doc_info(ex14)"
   ]
  },
  {
   "cell_type": "code",
   "execution_count": 46,
   "metadata": {
    "ExecuteTime": {
     "end_time": "2018-08-03T21:28:01.044653Z",
     "start_time": "2018-08-03T21:28:01.041651Z"
    },
    "hidden": true
   },
   "outputs": [],
   "source": [
    "#displacy.render(ex14, style='dep', jupyter=True)"
   ]
  },
  {
   "cell_type": "code",
   "execution_count": 38,
   "metadata": {
    "ExecuteTime": {
     "end_time": "2018-08-06T16:09:23.976417Z",
     "start_time": "2018-08-06T16:09:23.920381Z"
    },
    "hidden": true
   },
   "outputs": [
    {
     "name": "stdout",
     "output_type": "stream",
     "text": [
      "Word_id is : 0\n",
      "Word is : employees\n",
      "Word subtree is :  10,625 employees as of December 31, 2014, 2015 and 2016\n",
      "Word children :  [10,625, as]\n",
      "Num_toks are: [10,625]\n",
      "Candidate tok:  10,625\n",
      "Candidate tok.pos_:   NUM\n",
      "Candidate tok.dep_:   nummod\n",
      "No toks, returning 0.\n",
      "Dep_ of EMP_NOUN is: conj\n",
      "Emp_noun token has dep_ == 'conj'.\n",
      "Child num_tok: 10,625\n",
      "Head num_tok: [17,912]\n",
      "child_num_tok and head_num_toks\n",
      "years: [(13, 2014), (15, 2015), (17, 2016)]\n",
      "num_toks: [10,625, 17,912]\n",
      "emp_counts: [(2, 17,912), (4, 14,533), (6, 10,625)]\n",
      "order_indices: [2, 1, 0]\n",
      "year_emps: [(2016, 10,625), (2015, 14,533), (2014, 17,912)]\n",
      "Parts found:  (We, had, 10,625, 'Other Employees', [], employees)\n"
     ]
    },
    {
     "data": {
      "text/plain": [
       "[RelationDetails(sent_num=0, word_num=0, subject=We, verb=had, quantity=10,625, quantity_type='Other Employees', type_token=[], word=employees, word_dep='conj', depth=1, sentence='We had 17,912, 14,533 and 10,625 employees as of December 31, 2014, 2015 and 2016, respectively.')]"
      ]
     },
     "execution_count": 38,
     "metadata": {},
     "output_type": "execute_result"
    }
   ],
   "source": [
    "extract_emp_relations(ex14, verbose = True)"
   ]
  },
  {
   "cell_type": "markdown",
   "metadata": {},
   "source": [
    "### Dealing with units"
   ]
  },
  {
   "cell_type": "markdown",
   "metadata": {},
   "source": [
    "#### `The number of regular employees was 71.1 thousand, 73.5 thousand, and 75.3 thousand at years ended 2016, 2015 and 2014, respectively.`"
   ]
  },
  {
   "cell_type": "markdown",
   "metadata": {},
   "source": [
    "Example text:  \n",
    "\n",
    "`\"The number of regular employees was 71.1 thousand, 73.5 thousand, and 75.3 thousand at years ended 2016, 2015 and 2014, respectively.\"`"
   ]
  },
  {
   "cell_type": "code",
   "execution_count": 32,
   "metadata": {
    "ExecuteTime": {
     "end_time": "2018-08-14T01:15:23.249928Z",
     "start_time": "2018-08-14T01:15:23.204899Z"
    },
    "scrolled": true
   },
   "outputs": [
    {
     "name": "stdout",
     "output_type": "stream",
     "text": [
      "[71.1, thousand, ,, 73.5, thousand, ,, and, 75.3, thousand]\n",
      "[number]\n"
     ]
    },
    {
     "data": {
      "text/html": [
       "<table border=\"1\" class=\"dataframe\">\n",
       "  <thead>\n",
       "    <tr style=\"text-align: right;\">\n",
       "      <th></th>\n",
       "      <th>tok_ent</th>\n",
       "      <th>toks</th>\n",
       "      <th>lemma</th>\n",
       "      <th>dep</th>\n",
       "      <th>head</th>\n",
       "      <th>h_dep</th>\n",
       "      <th>pos</th>\n",
       "      <th>tag</th>\n",
       "      <th>dep_def</th>\n",
       "      <th>tag_def</th>\n",
       "    </tr>\n",
       "  </thead>\n",
       "  <tbody>\n",
       "    <tr>\n",
       "      <th>0</th>\n",
       "      <td></td>\n",
       "      <td>The</td>\n",
       "      <td>the</td>\n",
       "      <td>det</td>\n",
       "      <td>number</td>\n",
       "      <td>nsubj</td>\n",
       "      <td>DET</td>\n",
       "      <td>DT</td>\n",
       "      <td>determiner</td>\n",
       "      <td>determiner</td>\n",
       "    </tr>\n",
       "    <tr>\n",
       "      <th>1</th>\n",
       "      <td></td>\n",
       "      <td>number</td>\n",
       "      <td>number</td>\n",
       "      <td>nsubj</td>\n",
       "      <td>was</td>\n",
       "      <td>ROOT</td>\n",
       "      <td>NOUN</td>\n",
       "      <td>NN</td>\n",
       "      <td>nominal subject</td>\n",
       "      <td>noun, singular or mass</td>\n",
       "    </tr>\n",
       "    <tr>\n",
       "      <th>2</th>\n",
       "      <td></td>\n",
       "      <td>of</td>\n",
       "      <td>of</td>\n",
       "      <td>prep</td>\n",
       "      <td>number</td>\n",
       "      <td>nsubj</td>\n",
       "      <td>ADP</td>\n",
       "      <td>IN</td>\n",
       "      <td>prepositional modifier</td>\n",
       "      <td>conjunction, subordinating or preposition</td>\n",
       "    </tr>\n",
       "    <tr>\n",
       "      <th>3</th>\n",
       "      <td></td>\n",
       "      <td>regular</td>\n",
       "      <td>regular</td>\n",
       "      <td>amod</td>\n",
       "      <td>employees</td>\n",
       "      <td>pobj</td>\n",
       "      <td>ADJ</td>\n",
       "      <td>JJ</td>\n",
       "      <td>adjectival modifier</td>\n",
       "      <td>adjective</td>\n",
       "    </tr>\n",
       "    <tr>\n",
       "      <th>4</th>\n",
       "      <td>EMP_NOUN</td>\n",
       "      <td>employees</td>\n",
       "      <td>employee</td>\n",
       "      <td>pobj</td>\n",
       "      <td>of</td>\n",
       "      <td>prep</td>\n",
       "      <td>NOUN</td>\n",
       "      <td>NNS</td>\n",
       "      <td>object of preposition</td>\n",
       "      <td>noun, plural</td>\n",
       "    </tr>\n",
       "    <tr>\n",
       "      <th>5</th>\n",
       "      <td></td>\n",
       "      <td>was</td>\n",
       "      <td>be</td>\n",
       "      <td>ROOT</td>\n",
       "      <td>was</td>\n",
       "      <td>ROOT</td>\n",
       "      <td>VERB</td>\n",
       "      <td>VBD</td>\n",
       "      <td>None</td>\n",
       "      <td>verb, past tense</td>\n",
       "    </tr>\n",
       "    <tr>\n",
       "      <th>6</th>\n",
       "      <td>CARDINAL</td>\n",
       "      <td>71.1</td>\n",
       "      <td>71.1</td>\n",
       "      <td>compound</td>\n",
       "      <td>thousand</td>\n",
       "      <td>attr</td>\n",
       "      <td>NUM</td>\n",
       "      <td>CD</td>\n",
       "      <td>None</td>\n",
       "      <td>cardinal number</td>\n",
       "    </tr>\n",
       "    <tr>\n",
       "      <th>7</th>\n",
       "      <td>CARDINAL</td>\n",
       "      <td>thousand</td>\n",
       "      <td>thousand</td>\n",
       "      <td>attr</td>\n",
       "      <td>was</td>\n",
       "      <td>ROOT</td>\n",
       "      <td>NUM</td>\n",
       "      <td>CD</td>\n",
       "      <td>attribute</td>\n",
       "      <td>cardinal number</td>\n",
       "    </tr>\n",
       "    <tr>\n",
       "      <th>8</th>\n",
       "      <td></td>\n",
       "      <td>,</td>\n",
       "      <td>,</td>\n",
       "      <td>punct</td>\n",
       "      <td>thousand</td>\n",
       "      <td>attr</td>\n",
       "      <td>PUNCT</td>\n",
       "      <td>,</td>\n",
       "      <td>punctuation</td>\n",
       "      <td>punctuation mark, comma</td>\n",
       "    </tr>\n",
       "    <tr>\n",
       "      <th>9</th>\n",
       "      <td>CARDINAL</td>\n",
       "      <td>73.5</td>\n",
       "      <td>73.5</td>\n",
       "      <td>compound</td>\n",
       "      <td>thousand</td>\n",
       "      <td>appos</td>\n",
       "      <td>NUM</td>\n",
       "      <td>CD</td>\n",
       "      <td>None</td>\n",
       "      <td>cardinal number</td>\n",
       "    </tr>\n",
       "    <tr>\n",
       "      <th>10</th>\n",
       "      <td>CARDINAL</td>\n",
       "      <td>thousand</td>\n",
       "      <td>thousand</td>\n",
       "      <td>appos</td>\n",
       "      <td>thousand</td>\n",
       "      <td>attr</td>\n",
       "      <td>NUM</td>\n",
       "      <td>CD</td>\n",
       "      <td>appositional modifier</td>\n",
       "      <td>cardinal number</td>\n",
       "    </tr>\n",
       "    <tr>\n",
       "      <th>11</th>\n",
       "      <td></td>\n",
       "      <td>,</td>\n",
       "      <td>,</td>\n",
       "      <td>punct</td>\n",
       "      <td>thousand</td>\n",
       "      <td>attr</td>\n",
       "      <td>PUNCT</td>\n",
       "      <td>,</td>\n",
       "      <td>punctuation</td>\n",
       "      <td>punctuation mark, comma</td>\n",
       "    </tr>\n",
       "    <tr>\n",
       "      <th>12</th>\n",
       "      <td></td>\n",
       "      <td>and</td>\n",
       "      <td>and</td>\n",
       "      <td>cc</td>\n",
       "      <td>thousand</td>\n",
       "      <td>attr</td>\n",
       "      <td>CCONJ</td>\n",
       "      <td>CC</td>\n",
       "      <td>coordinating conjunction</td>\n",
       "      <td>conjunction, coordinating</td>\n",
       "    </tr>\n",
       "    <tr>\n",
       "      <th>13</th>\n",
       "      <td>CARDINAL</td>\n",
       "      <td>75.3</td>\n",
       "      <td>75.3</td>\n",
       "      <td>compound</td>\n",
       "      <td>thousand</td>\n",
       "      <td>conj</td>\n",
       "      <td>NUM</td>\n",
       "      <td>CD</td>\n",
       "      <td>None</td>\n",
       "      <td>cardinal number</td>\n",
       "    </tr>\n",
       "    <tr>\n",
       "      <th>14</th>\n",
       "      <td>CARDINAL</td>\n",
       "      <td>thousand</td>\n",
       "      <td>thousand</td>\n",
       "      <td>conj</td>\n",
       "      <td>thousand</td>\n",
       "      <td>attr</td>\n",
       "      <td>NUM</td>\n",
       "      <td>CD</td>\n",
       "      <td>conjunct</td>\n",
       "      <td>cardinal number</td>\n",
       "    </tr>\n",
       "    <tr>\n",
       "      <th>15</th>\n",
       "      <td></td>\n",
       "      <td>at</td>\n",
       "      <td>at</td>\n",
       "      <td>prep</td>\n",
       "      <td>ended</td>\n",
       "      <td>advcl</td>\n",
       "      <td>ADP</td>\n",
       "      <td>IN</td>\n",
       "      <td>prepositional modifier</td>\n",
       "      <td>conjunction, subordinating or preposition</td>\n",
       "    </tr>\n",
       "    <tr>\n",
       "      <th>16</th>\n",
       "      <td>DATE</td>\n",
       "      <td>years</td>\n",
       "      <td>year</td>\n",
       "      <td>pobj</td>\n",
       "      <td>at</td>\n",
       "      <td>prep</td>\n",
       "      <td>NOUN</td>\n",
       "      <td>NNS</td>\n",
       "      <td>object of preposition</td>\n",
       "      <td>noun, plural</td>\n",
       "    </tr>\n",
       "    <tr>\n",
       "      <th>17</th>\n",
       "      <td>DATE</td>\n",
       "      <td>ended</td>\n",
       "      <td>end</td>\n",
       "      <td>advcl</td>\n",
       "      <td>was</td>\n",
       "      <td>ROOT</td>\n",
       "      <td>VERB</td>\n",
       "      <td>VBD</td>\n",
       "      <td>adverbial clause modifier</td>\n",
       "      <td>verb, past tense</td>\n",
       "    </tr>\n",
       "    <tr>\n",
       "      <th>18</th>\n",
       "      <td>DATE</td>\n",
       "      <td>2016</td>\n",
       "      <td>2016</td>\n",
       "      <td>npadvmod</td>\n",
       "      <td>ended</td>\n",
       "      <td>advcl</td>\n",
       "      <td>NUM</td>\n",
       "      <td>CD</td>\n",
       "      <td>noun phrase as adverbial modifier</td>\n",
       "      <td>cardinal number</td>\n",
       "    </tr>\n",
       "    <tr>\n",
       "      <th>19</th>\n",
       "      <td></td>\n",
       "      <td>,</td>\n",
       "      <td>,</td>\n",
       "      <td>punct</td>\n",
       "      <td>2016</td>\n",
       "      <td>npadvmod</td>\n",
       "      <td>PUNCT</td>\n",
       "      <td>,</td>\n",
       "      <td>punctuation</td>\n",
       "      <td>punctuation mark, comma</td>\n",
       "    </tr>\n",
       "    <tr>\n",
       "      <th>20</th>\n",
       "      <td>DATE</td>\n",
       "      <td>2015</td>\n",
       "      <td>2015</td>\n",
       "      <td>conj</td>\n",
       "      <td>2016</td>\n",
       "      <td>npadvmod</td>\n",
       "      <td>NUM</td>\n",
       "      <td>CD</td>\n",
       "      <td>conjunct</td>\n",
       "      <td>cardinal number</td>\n",
       "    </tr>\n",
       "    <tr>\n",
       "      <th>21</th>\n",
       "      <td></td>\n",
       "      <td>and</td>\n",
       "      <td>and</td>\n",
       "      <td>cc</td>\n",
       "      <td>2015</td>\n",
       "      <td>conj</td>\n",
       "      <td>CCONJ</td>\n",
       "      <td>CC</td>\n",
       "      <td>coordinating conjunction</td>\n",
       "      <td>conjunction, coordinating</td>\n",
       "    </tr>\n",
       "    <tr>\n",
       "      <th>22</th>\n",
       "      <td>DATE</td>\n",
       "      <td>2014</td>\n",
       "      <td>2014</td>\n",
       "      <td>conj</td>\n",
       "      <td>2015</td>\n",
       "      <td>conj</td>\n",
       "      <td>NUM</td>\n",
       "      <td>CD</td>\n",
       "      <td>conjunct</td>\n",
       "      <td>cardinal number</td>\n",
       "    </tr>\n",
       "    <tr>\n",
       "      <th>23</th>\n",
       "      <td></td>\n",
       "      <td>,</td>\n",
       "      <td>,</td>\n",
       "      <td>punct</td>\n",
       "      <td>2016</td>\n",
       "      <td>npadvmod</td>\n",
       "      <td>PUNCT</td>\n",
       "      <td>,</td>\n",
       "      <td>punctuation</td>\n",
       "      <td>punctuation mark, comma</td>\n",
       "    </tr>\n",
       "    <tr>\n",
       "      <th>24</th>\n",
       "      <td></td>\n",
       "      <td>respectively</td>\n",
       "      <td>respectively</td>\n",
       "      <td>advmod</td>\n",
       "      <td>ended</td>\n",
       "      <td>advcl</td>\n",
       "      <td>ADV</td>\n",
       "      <td>RB</td>\n",
       "      <td>adverbial modifier</td>\n",
       "      <td>adverb</td>\n",
       "    </tr>\n",
       "    <tr>\n",
       "      <th>25</th>\n",
       "      <td></td>\n",
       "      <td>.</td>\n",
       "      <td>.</td>\n",
       "      <td>punct</td>\n",
       "      <td>was</td>\n",
       "      <td>ROOT</td>\n",
       "      <td>PUNCT</td>\n",
       "      <td>.</td>\n",
       "      <td>punctuation</td>\n",
       "      <td>punctuation mark, sentence closer</td>\n",
       "    </tr>\n",
       "  </tbody>\n",
       "</table>"
      ],
      "text/plain": [
       "<IPython.core.display.HTML object>"
      ]
     },
     "metadata": {},
     "output_type": "display_data"
    }
   ],
   "source": [
    "thousands_sent_doc = nlp(\"The number of regular employees was 71.1 thousand, 73.5 thousand, and 75.3 thousand at years ended 2016, 2015 and 2014, respectively.\")\n",
    "print(list(list(thousands_sent_doc[4].head.head.head.rights)[0].subtree))\n",
    "\n",
    "print([r for r in thousands_sent_doc[4].head.head.head.lefts])\n",
    "hf.print_df(hf.make_tok_df(thousands_sent_doc))\n",
    "\n"
   ]
  },
  {
   "cell_type": "code",
   "execution_count": 33,
   "metadata": {
    "ExecuteTime": {
     "end_time": "2018-08-14T01:15:23.303964Z",
     "start_time": "2018-08-14T01:15:23.251931Z"
    }
   },
   "outputs": [
    {
     "name": "stdout",
     "output_type": "stream",
     "text": [
      "doc is: \n",
      "The number of regular employees was 71.1 thousand, 73.5 thousand, and 75.3 thousand at years ended 2016, 2015 and 2014, respectively.\n",
      "--------------------------------------------------\n",
      "Entities are: \n"
     ]
    },
    {
     "data": {
      "text/html": [
       "<table border=\"1\" class=\"dataframe\">\n",
       "  <thead>\n",
       "    <tr style=\"text-align: right;\">\n",
       "      <th></th>\n",
       "      <th>tok_i</th>\n",
       "      <th>entity</th>\n",
       "      <th>ent_label</th>\n",
       "      <th>root</th>\n",
       "      <th>root_dep</th>\n",
       "      <th>dep_def</th>\n",
       "      <th>root_head</th>\n",
       "      <th>root_head_dep</th>\n",
       "      <th>root_head_pos</th>\n",
       "    </tr>\n",
       "  </thead>\n",
       "  <tbody>\n",
       "    <tr>\n",
       "      <th>0</th>\n",
       "      <td>4</td>\n",
       "      <td>employees</td>\n",
       "      <td>EMP_NOUN</td>\n",
       "      <td>employees</td>\n",
       "      <td>pobj</td>\n",
       "      <td>object of preposition</td>\n",
       "      <td>of</td>\n",
       "      <td>prep</td>\n",
       "      <td>ADP</td>\n",
       "    </tr>\n",
       "    <tr>\n",
       "      <th>1</th>\n",
       "      <td>6</td>\n",
       "      <td>71.1 thousand</td>\n",
       "      <td>CARDINAL</td>\n",
       "      <td>thousand</td>\n",
       "      <td>attr</td>\n",
       "      <td>attribute</td>\n",
       "      <td>was</td>\n",
       "      <td>ROOT</td>\n",
       "      <td>VERB</td>\n",
       "    </tr>\n",
       "    <tr>\n",
       "      <th>2</th>\n",
       "      <td>9</td>\n",
       "      <td>73.5 thousand</td>\n",
       "      <td>CARDINAL</td>\n",
       "      <td>thousand</td>\n",
       "      <td>appos</td>\n",
       "      <td>appositional modifier</td>\n",
       "      <td>thousand</td>\n",
       "      <td>attr</td>\n",
       "      <td>NUM</td>\n",
       "    </tr>\n",
       "    <tr>\n",
       "      <th>3</th>\n",
       "      <td>13</td>\n",
       "      <td>75.3 thousand</td>\n",
       "      <td>CARDINAL</td>\n",
       "      <td>thousand</td>\n",
       "      <td>conj</td>\n",
       "      <td>conjunct</td>\n",
       "      <td>thousand</td>\n",
       "      <td>attr</td>\n",
       "      <td>NUM</td>\n",
       "    </tr>\n",
       "    <tr>\n",
       "      <th>4</th>\n",
       "      <td>16</td>\n",
       "      <td>years ended 2016</td>\n",
       "      <td>DATE</td>\n",
       "      <td>ended</td>\n",
       "      <td>advcl</td>\n",
       "      <td>adverbial clause modifier</td>\n",
       "      <td>was</td>\n",
       "      <td>ROOT</td>\n",
       "      <td>VERB</td>\n",
       "    </tr>\n",
       "    <tr>\n",
       "      <th>5</th>\n",
       "      <td>20</td>\n",
       "      <td>2015</td>\n",
       "      <td>DATE</td>\n",
       "      <td>2015</td>\n",
       "      <td>conj</td>\n",
       "      <td>conjunct</td>\n",
       "      <td>2016</td>\n",
       "      <td>npadvmod</td>\n",
       "      <td>NUM</td>\n",
       "    </tr>\n",
       "    <tr>\n",
       "      <th>6</th>\n",
       "      <td>22</td>\n",
       "      <td>2014</td>\n",
       "      <td>DATE</td>\n",
       "      <td>2014</td>\n",
       "      <td>conj</td>\n",
       "      <td>conjunct</td>\n",
       "      <td>2015</td>\n",
       "      <td>conj</td>\n",
       "      <td>NUM</td>\n",
       "    </tr>\n",
       "  </tbody>\n",
       "</table>"
      ],
      "text/plain": [
       "<IPython.core.display.HTML object>"
      ]
     },
     "metadata": {},
     "output_type": "display_data"
    },
    {
     "name": "stdout",
     "output_type": "stream",
     "text": [
      "--------------------------------------------------\n",
      "Noun chunks are: \n"
     ]
    },
    {
     "data": {
      "text/html": [
       "<table border=\"1\" class=\"dataframe\">\n",
       "  <thead>\n",
       "    <tr style=\"text-align: right;\">\n",
       "      <th></th>\n",
       "      <th>tok_i</th>\n",
       "      <th>noun_chunk</th>\n",
       "      <th>root</th>\n",
       "      <th>root_ent</th>\n",
       "      <th>root_dep</th>\n",
       "      <th>dep_def</th>\n",
       "      <th>root_head</th>\n",
       "      <th>root_head_dep</th>\n",
       "      <th>root_head_pos</th>\n",
       "    </tr>\n",
       "  </thead>\n",
       "  <tbody>\n",
       "    <tr>\n",
       "      <th>0</th>\n",
       "      <td>0</td>\n",
       "      <td>The number</td>\n",
       "      <td>number</td>\n",
       "      <td></td>\n",
       "      <td>nsubj</td>\n",
       "      <td>nominal subject</td>\n",
       "      <td>was</td>\n",
       "      <td>ROOT</td>\n",
       "      <td>VERB</td>\n",
       "    </tr>\n",
       "    <tr>\n",
       "      <th>1</th>\n",
       "      <td>3</td>\n",
       "      <td>regular employees</td>\n",
       "      <td>employees</td>\n",
       "      <td>EMP_NOUN</td>\n",
       "      <td>pobj</td>\n",
       "      <td>object of preposition</td>\n",
       "      <td>of</td>\n",
       "      <td>prep</td>\n",
       "      <td>ADP</td>\n",
       "    </tr>\n",
       "    <tr>\n",
       "      <th>2</th>\n",
       "      <td>16</td>\n",
       "      <td>years</td>\n",
       "      <td>years</td>\n",
       "      <td>DATE</td>\n",
       "      <td>pobj</td>\n",
       "      <td>object of preposition</td>\n",
       "      <td>at</td>\n",
       "      <td>prep</td>\n",
       "      <td>ADP</td>\n",
       "    </tr>\n",
       "  </tbody>\n",
       "</table>"
      ],
      "text/plain": [
       "<IPython.core.display.HTML object>"
      ]
     },
     "metadata": {},
     "output_type": "display_data"
    },
    {
     "name": "stdout",
     "output_type": "stream",
     "text": [
      "--------------------------------------------------\n",
      "Cardinal entities are: \n"
     ]
    },
    {
     "data": {
      "text/html": [
       "<table border=\"1\" class=\"dataframe\">\n",
       "  <thead>\n",
       "    <tr style=\"text-align: right;\">\n",
       "      <th></th>\n",
       "      <th>tok_ent</th>\n",
       "      <th>toks</th>\n",
       "      <th>lemma</th>\n",
       "      <th>dep</th>\n",
       "      <th>head</th>\n",
       "      <th>h_dep</th>\n",
       "      <th>pos</th>\n",
       "      <th>tag</th>\n",
       "      <th>dep_def</th>\n",
       "      <th>tag_def</th>\n",
       "    </tr>\n",
       "  </thead>\n",
       "  <tbody>\n",
       "    <tr>\n",
       "      <th>0</th>\n",
       "      <td>CARDINAL</td>\n",
       "      <td>71.1</td>\n",
       "      <td>71.1</td>\n",
       "      <td>compound</td>\n",
       "      <td>thousand</td>\n",
       "      <td>attr</td>\n",
       "      <td>NUM</td>\n",
       "      <td>CD</td>\n",
       "      <td>None</td>\n",
       "      <td>cardinal number</td>\n",
       "    </tr>\n",
       "    <tr>\n",
       "      <th>1</th>\n",
       "      <td>CARDINAL</td>\n",
       "      <td>thousand</td>\n",
       "      <td>thousand</td>\n",
       "      <td>attr</td>\n",
       "      <td>was</td>\n",
       "      <td>ROOT</td>\n",
       "      <td>NUM</td>\n",
       "      <td>CD</td>\n",
       "      <td>attribute</td>\n",
       "      <td>cardinal number</td>\n",
       "    </tr>\n",
       "    <tr>\n",
       "      <th>2</th>\n",
       "      <td>CARDINAL</td>\n",
       "      <td>73.5</td>\n",
       "      <td>73.5</td>\n",
       "      <td>compound</td>\n",
       "      <td>thousand</td>\n",
       "      <td>appos</td>\n",
       "      <td>NUM</td>\n",
       "      <td>CD</td>\n",
       "      <td>None</td>\n",
       "      <td>cardinal number</td>\n",
       "    </tr>\n",
       "    <tr>\n",
       "      <th>3</th>\n",
       "      <td>CARDINAL</td>\n",
       "      <td>thousand</td>\n",
       "      <td>thousand</td>\n",
       "      <td>appos</td>\n",
       "      <td>thousand</td>\n",
       "      <td>attr</td>\n",
       "      <td>NUM</td>\n",
       "      <td>CD</td>\n",
       "      <td>appositional modifier</td>\n",
       "      <td>cardinal number</td>\n",
       "    </tr>\n",
       "    <tr>\n",
       "      <th>4</th>\n",
       "      <td>CARDINAL</td>\n",
       "      <td>75.3</td>\n",
       "      <td>75.3</td>\n",
       "      <td>compound</td>\n",
       "      <td>thousand</td>\n",
       "      <td>conj</td>\n",
       "      <td>NUM</td>\n",
       "      <td>CD</td>\n",
       "      <td>None</td>\n",
       "      <td>cardinal number</td>\n",
       "    </tr>\n",
       "    <tr>\n",
       "      <th>5</th>\n",
       "      <td>CARDINAL</td>\n",
       "      <td>thousand</td>\n",
       "      <td>thousand</td>\n",
       "      <td>conj</td>\n",
       "      <td>thousand</td>\n",
       "      <td>attr</td>\n",
       "      <td>NUM</td>\n",
       "      <td>CD</td>\n",
       "      <td>conjunct</td>\n",
       "      <td>cardinal number</td>\n",
       "    </tr>\n",
       "  </tbody>\n",
       "</table>"
      ],
      "text/plain": [
       "<IPython.core.display.HTML object>"
      ]
     },
     "metadata": {},
     "output_type": "display_data"
    }
   ],
   "source": [
    "hf.print_doc_info(thousands_sent_doc)"
   ]
  },
  {
   "cell_type": "code",
   "execution_count": 34,
   "metadata": {
    "ExecuteTime": {
     "end_time": "2018-08-14T01:15:23.316973Z",
     "start_time": "2018-08-14T01:15:23.305966Z"
    }
   },
   "outputs": [
    {
     "name": "stdout",
     "output_type": "stream",
     "text": [
      "The number of regular employees\n",
      "True\n",
      "True\n"
     ]
    }
   ],
   "source": [
    "nsub = thousands_sent_doc[1]\n",
    "\n",
    "print(thousands_sent_doc[nsub.left_edge.i : nsub.right_edge.i + 1])\n",
    "\n",
    "# Testing custom flags\n",
    "year_tok = thousands_sent_doc[18]\n",
    "print(year_tok._.is_year)\n",
    "\n",
    "thousand_tok = thousands_sent_doc[7]\n",
    "print(thousand_tok._.is_num_word)"
   ]
  },
  {
   "cell_type": "code",
   "execution_count": 35,
   "metadata": {
    "ExecuteTime": {
     "end_time": "2018-08-14T01:15:23.324979Z",
     "start_time": "2018-08-14T01:15:23.318974Z"
    }
   },
   "outputs": [
    {
     "data": {
      "text/html": [
       "<div class=\"entities\" style=\"line-height: 2.5\">The number of regular \n",
       "<mark class=\"entity\" style=\"background: #ddd; padding: 0.45em 0.6em; margin: 0 0.25em; line-height: 1; border-radius: 0.35em; box-decoration-break: clone; -webkit-box-decoration-break: clone\">\n",
       "    employees\n",
       "    <span style=\"font-size: 0.8em; font-weight: bold; line-height: 1; border-radius: 0.35em; text-transform: uppercase; vertical-align: middle; margin-left: 0.5rem\">EMP_NOUN</span>\n",
       "</mark>\n",
       " was \n",
       "<mark class=\"entity\" style=\"background: #e4e7d2; padding: 0.45em 0.6em; margin: 0 0.25em; line-height: 1; border-radius: 0.35em; box-decoration-break: clone; -webkit-box-decoration-break: clone\">\n",
       "    71.1 thousand\n",
       "    <span style=\"font-size: 0.8em; font-weight: bold; line-height: 1; border-radius: 0.35em; text-transform: uppercase; vertical-align: middle; margin-left: 0.5rem\">CARDINAL</span>\n",
       "</mark>\n",
       ", \n",
       "<mark class=\"entity\" style=\"background: #e4e7d2; padding: 0.45em 0.6em; margin: 0 0.25em; line-height: 1; border-radius: 0.35em; box-decoration-break: clone; -webkit-box-decoration-break: clone\">\n",
       "    73.5 thousand\n",
       "    <span style=\"font-size: 0.8em; font-weight: bold; line-height: 1; border-radius: 0.35em; text-transform: uppercase; vertical-align: middle; margin-left: 0.5rem\">CARDINAL</span>\n",
       "</mark>\n",
       ", and \n",
       "<mark class=\"entity\" style=\"background: #e4e7d2; padding: 0.45em 0.6em; margin: 0 0.25em; line-height: 1; border-radius: 0.35em; box-decoration-break: clone; -webkit-box-decoration-break: clone\">\n",
       "    75.3 thousand\n",
       "    <span style=\"font-size: 0.8em; font-weight: bold; line-height: 1; border-radius: 0.35em; text-transform: uppercase; vertical-align: middle; margin-left: 0.5rem\">CARDINAL</span>\n",
       "</mark>\n",
       " at \n",
       "<mark class=\"entity\" style=\"background: #bfe1d9; padding: 0.45em 0.6em; margin: 0 0.25em; line-height: 1; border-radius: 0.35em; box-decoration-break: clone; -webkit-box-decoration-break: clone\">\n",
       "    years ended 2016\n",
       "    <span style=\"font-size: 0.8em; font-weight: bold; line-height: 1; border-radius: 0.35em; text-transform: uppercase; vertical-align: middle; margin-left: 0.5rem\">DATE</span>\n",
       "</mark>\n",
       ", \n",
       "<mark class=\"entity\" style=\"background: #bfe1d9; padding: 0.45em 0.6em; margin: 0 0.25em; line-height: 1; border-radius: 0.35em; box-decoration-break: clone; -webkit-box-decoration-break: clone\">\n",
       "    2015\n",
       "    <span style=\"font-size: 0.8em; font-weight: bold; line-height: 1; border-radius: 0.35em; text-transform: uppercase; vertical-align: middle; margin-left: 0.5rem\">DATE</span>\n",
       "</mark>\n",
       " and \n",
       "<mark class=\"entity\" style=\"background: #bfe1d9; padding: 0.45em 0.6em; margin: 0 0.25em; line-height: 1; border-radius: 0.35em; box-decoration-break: clone; -webkit-box-decoration-break: clone\">\n",
       "    2014\n",
       "    <span style=\"font-size: 0.8em; font-weight: bold; line-height: 1; border-radius: 0.35em; text-transform: uppercase; vertical-align: middle; margin-left: 0.5rem\">DATE</span>\n",
       "</mark>\n",
       ", respectively.</div>"
      ],
      "text/plain": [
       "<IPython.core.display.HTML object>"
      ]
     },
     "metadata": {},
     "output_type": "display_data"
    }
   ],
   "source": [
    "displacy.render(thousands_sent_doc, style='ent', jupyter=True)"
   ]
  },
  {
   "cell_type": "code",
   "execution_count": 36,
   "metadata": {
    "ExecuteTime": {
     "end_time": "2018-08-14T01:15:23.333985Z",
     "start_time": "2018-08-14T01:15:23.326981Z"
    }
   },
   "outputs": [],
   "source": [
    "#displacy.render(thousands_sent_doc, jupyter=True)"
   ]
  },
  {
   "cell_type": "code",
   "execution_count": 37,
   "metadata": {
    "ExecuteTime": {
     "end_time": "2018-08-14T01:15:23.383017Z",
     "start_time": "2018-08-14T01:15:23.335985Z"
    }
   },
   "outputs": [
    {
     "name": "stdout",
     "output_type": "stream",
     "text": [
      "Word_id is : 0\n",
      "Word is : employees\n",
      "Word subtree is :  regular\n",
      "Word children :  [regular]\n",
      "Dep_ of EMP_NOUN is: pobj\n",
      "years: [(18, 2016), (20, 2015), (22, 2014)]\n",
      "emp_counts: [(6, 71.1 thousand), (9, 73.5 thousand), (13, 75.3 thousand)]\n",
      "order_indices: [2, 1, 0]\n",
      "year_emps: [(2016, 71.1 thousand), (2015, 73.5 thousand), (2014, 75.3 thousand)]\n",
      "Sentence has multiple years:[(18, 2016), (20, 2015), (22, 2014)]\n",
      "First card subtree is :[71.1, thousand, ,, 73.5, thousand, ,, and, 75.3, thousand]\n",
      "years: [(18, 2016), (20, 2015), (22, 2014)]\n",
      "cards: [71.1 thousand, 73.5 thousand, 75.3 thousand]\n",
      "emp_counts: [(6, 71.1 thousand), (9, 73.5 thousand), (13, 75.3 thousand)]\n",
      "Root is at 2 steps from employees.\n",
      "Parts found:  (The number of regular employees, was, 71.1 thousand, 'Other Employees', [regular], employees)\n"
     ]
    },
    {
     "data": {
      "text/plain": [
       "[RelationDetails(sent_num=0, word_num=0, subject=The number of regular employees, verb=was, quantity=71.1 thousand, quantity_idx=7, quantity_type='Other Employees', type_token=[regular], word=employees, word_idx=4, word_dep='pobj', depth=2, sentence='The number of regular employees was 71.1 thousand, 73.5 thousand, and 75.3 thousand at years ended 2016, 2015 and 2014, respectively.')]"
      ]
     },
     "execution_count": 37,
     "metadata": {},
     "output_type": "execute_result"
    }
   ],
   "source": [
    "extract_emp_relations(thousands_sent_doc, verbose=True)"
   ]
  },
  {
   "cell_type": "markdown",
   "metadata": {},
   "source": [
    "### Identifying full-time, part-time, etc."
   ]
  },
  {
   "cell_type": "markdown",
   "metadata": {},
   "source": [
    "#### ```As of February 23, 2017, we employed approximately 41,000 full-time Team Members and approximately 33,000 part-time Team Members.```"
   ]
  },
  {
   "cell_type": "markdown",
   "metadata": {},
   "source": [
    "Example text:\n",
    "\n",
    "`As of February 23, 2017, we employed approximately 41,000 full-time Team Members and approximately 33,000 part-time Team Members.`  \n",
    "\n",
    "Desired output: \n",
    "\n",
    "`(we, employed, 41,000, full-time Team Members)`   \n",
    "`(we, employed, 33,000, part-time Team Members)`"
   ]
  },
  {
   "cell_type": "code",
   "execution_count": 38,
   "metadata": {
    "ExecuteTime": {
     "end_time": "2018-08-14T01:15:49.327092Z",
     "start_time": "2018-08-14T01:15:49.306080Z"
    }
   },
   "outputs": [],
   "source": [
    "ex8 = nlp(\"As of February 23, 2017, we employed approximately 41,000 full-time Team Members and approximately 33,000 part-time Team Members.\")\n",
    "\n",
    "#hf.print_df(make_tok_df(ex8))"
   ]
  },
  {
   "cell_type": "code",
   "execution_count": 39,
   "metadata": {
    "ExecuteTime": {
     "end_time": "2018-08-14T01:15:49.383129Z",
     "start_time": "2018-08-14T01:15:49.329095Z"
    }
   },
   "outputs": [
    {
     "name": "stdout",
     "output_type": "stream",
     "text": [
      "doc is: \n",
      "As of February 23, 2017, we employed approximately 41,000 full-time Team Members and approximately 33,000 part-time Team Members.\n",
      "--------------------------------------------------\n",
      "Entities are: \n"
     ]
    },
    {
     "data": {
      "text/html": [
       "<table border=\"1\" class=\"dataframe\">\n",
       "  <thead>\n",
       "    <tr style=\"text-align: right;\">\n",
       "      <th></th>\n",
       "      <th>tok_i</th>\n",
       "      <th>entity</th>\n",
       "      <th>ent_label</th>\n",
       "      <th>root</th>\n",
       "      <th>root_dep</th>\n",
       "      <th>dep_def</th>\n",
       "      <th>root_head</th>\n",
       "      <th>root_head_dep</th>\n",
       "      <th>root_head_pos</th>\n",
       "    </tr>\n",
       "  </thead>\n",
       "  <tbody>\n",
       "    <tr>\n",
       "      <th>0</th>\n",
       "      <td>2</td>\n",
       "      <td>February 23, 2017</td>\n",
       "      <td>DATE</td>\n",
       "      <td>February</td>\n",
       "      <td>pobj</td>\n",
       "      <td>object of preposition</td>\n",
       "      <td>of</td>\n",
       "      <td>prep</td>\n",
       "      <td>ADP</td>\n",
       "    </tr>\n",
       "    <tr>\n",
       "      <th>1</th>\n",
       "      <td>9</td>\n",
       "      <td>approximately 41,000</td>\n",
       "      <td>CARDINAL</td>\n",
       "      <td>41,000</td>\n",
       "      <td>nummod</td>\n",
       "      <td>None</td>\n",
       "      <td>Team Members</td>\n",
       "      <td>dobj</td>\n",
       "      <td>PROPN</td>\n",
       "    </tr>\n",
       "    <tr>\n",
       "      <th>2</th>\n",
       "      <td>11</td>\n",
       "      <td>full-time</td>\n",
       "      <td>FULL_TIME</td>\n",
       "      <td>full-time</td>\n",
       "      <td>compound</td>\n",
       "      <td>None</td>\n",
       "      <td>Team Members</td>\n",
       "      <td>dobj</td>\n",
       "      <td>PROPN</td>\n",
       "    </tr>\n",
       "    <tr>\n",
       "      <th>3</th>\n",
       "      <td>12</td>\n",
       "      <td>Team Members</td>\n",
       "      <td>EMP_NOUN</td>\n",
       "      <td>Team Members</td>\n",
       "      <td>dobj</td>\n",
       "      <td>direct object</td>\n",
       "      <td>employed</td>\n",
       "      <td>ROOT</td>\n",
       "      <td>VERB</td>\n",
       "    </tr>\n",
       "    <tr>\n",
       "      <th>4</th>\n",
       "      <td>14</td>\n",
       "      <td>approximately 33,000</td>\n",
       "      <td>CARDINAL</td>\n",
       "      <td>33,000</td>\n",
       "      <td>nummod</td>\n",
       "      <td>None</td>\n",
       "      <td>Team Members</td>\n",
       "      <td>conj</td>\n",
       "      <td>PROPN</td>\n",
       "    </tr>\n",
       "    <tr>\n",
       "      <th>5</th>\n",
       "      <td>16</td>\n",
       "      <td>part-time</td>\n",
       "      <td>PART_TIME</td>\n",
       "      <td>part-time</td>\n",
       "      <td>compound</td>\n",
       "      <td>None</td>\n",
       "      <td>Team Members</td>\n",
       "      <td>conj</td>\n",
       "      <td>PROPN</td>\n",
       "    </tr>\n",
       "    <tr>\n",
       "      <th>6</th>\n",
       "      <td>17</td>\n",
       "      <td>Team Members</td>\n",
       "      <td>EMP_NOUN</td>\n",
       "      <td>Team Members</td>\n",
       "      <td>conj</td>\n",
       "      <td>conjunct</td>\n",
       "      <td>Team Members</td>\n",
       "      <td>dobj</td>\n",
       "      <td>PROPN</td>\n",
       "    </tr>\n",
       "  </tbody>\n",
       "</table>"
      ],
      "text/plain": [
       "<IPython.core.display.HTML object>"
      ]
     },
     "metadata": {},
     "output_type": "display_data"
    },
    {
     "name": "stdout",
     "output_type": "stream",
     "text": [
      "--------------------------------------------------\n",
      "Noun chunks are: \n"
     ]
    },
    {
     "data": {
      "text/html": [
       "<table border=\"1\" class=\"dataframe\">\n",
       "  <thead>\n",
       "    <tr style=\"text-align: right;\">\n",
       "      <th></th>\n",
       "      <th>tok_i</th>\n",
       "      <th>noun_chunk</th>\n",
       "      <th>root</th>\n",
       "      <th>root_ent</th>\n",
       "      <th>root_dep</th>\n",
       "      <th>dep_def</th>\n",
       "      <th>root_head</th>\n",
       "      <th>root_head_dep</th>\n",
       "      <th>root_head_pos</th>\n",
       "    </tr>\n",
       "  </thead>\n",
       "  <tbody>\n",
       "    <tr>\n",
       "      <th>0</th>\n",
       "      <td>2</td>\n",
       "      <td>February</td>\n",
       "      <td>February</td>\n",
       "      <td>DATE</td>\n",
       "      <td>pobj</td>\n",
       "      <td>object of preposition</td>\n",
       "      <td>of</td>\n",
       "      <td>prep</td>\n",
       "      <td>ADP</td>\n",
       "    </tr>\n",
       "    <tr>\n",
       "      <th>1</th>\n",
       "      <td>7</td>\n",
       "      <td>we</td>\n",
       "      <td>we</td>\n",
       "      <td></td>\n",
       "      <td>nsubj</td>\n",
       "      <td>nominal subject</td>\n",
       "      <td>employed</td>\n",
       "      <td>ROOT</td>\n",
       "      <td>VERB</td>\n",
       "    </tr>\n",
       "    <tr>\n",
       "      <th>2</th>\n",
       "      <td>9</td>\n",
       "      <td>approximately 41,000 full-time Team Members</td>\n",
       "      <td>Team Members</td>\n",
       "      <td>EMP_NOUN</td>\n",
       "      <td>dobj</td>\n",
       "      <td>direct object</td>\n",
       "      <td>employed</td>\n",
       "      <td>ROOT</td>\n",
       "      <td>VERB</td>\n",
       "    </tr>\n",
       "    <tr>\n",
       "      <th>3</th>\n",
       "      <td>14</td>\n",
       "      <td>approximately 33,000 part-time Team Members</td>\n",
       "      <td>Team Members</td>\n",
       "      <td>EMP_NOUN</td>\n",
       "      <td>conj</td>\n",
       "      <td>conjunct</td>\n",
       "      <td>Team Members</td>\n",
       "      <td>dobj</td>\n",
       "      <td>PROPN</td>\n",
       "    </tr>\n",
       "  </tbody>\n",
       "</table>"
      ],
      "text/plain": [
       "<IPython.core.display.HTML object>"
      ]
     },
     "metadata": {},
     "output_type": "display_data"
    },
    {
     "name": "stdout",
     "output_type": "stream",
     "text": [
      "--------------------------------------------------\n",
      "Cardinal entities are: \n"
     ]
    },
    {
     "data": {
      "text/html": [
       "<table border=\"1\" class=\"dataframe\">\n",
       "  <thead>\n",
       "    <tr style=\"text-align: right;\">\n",
       "      <th></th>\n",
       "      <th>tok_ent</th>\n",
       "      <th>toks</th>\n",
       "      <th>lemma</th>\n",
       "      <th>dep</th>\n",
       "      <th>head</th>\n",
       "      <th>h_dep</th>\n",
       "      <th>pos</th>\n",
       "      <th>tag</th>\n",
       "      <th>dep_def</th>\n",
       "      <th>tag_def</th>\n",
       "    </tr>\n",
       "  </thead>\n",
       "  <tbody>\n",
       "    <tr>\n",
       "      <th>0</th>\n",
       "      <td>CARDINAL</td>\n",
       "      <td>approximately</td>\n",
       "      <td>approximately</td>\n",
       "      <td>advmod</td>\n",
       "      <td>41,000</td>\n",
       "      <td>nummod</td>\n",
       "      <td>ADV</td>\n",
       "      <td>RB</td>\n",
       "      <td>adverbial modifier</td>\n",
       "      <td>adverb</td>\n",
       "    </tr>\n",
       "    <tr>\n",
       "      <th>1</th>\n",
       "      <td>CARDINAL</td>\n",
       "      <td>41,000</td>\n",
       "      <td>41,000</td>\n",
       "      <td>nummod</td>\n",
       "      <td>Team Members</td>\n",
       "      <td>dobj</td>\n",
       "      <td>NUM</td>\n",
       "      <td>CD</td>\n",
       "      <td>None</td>\n",
       "      <td>cardinal number</td>\n",
       "    </tr>\n",
       "    <tr>\n",
       "      <th>2</th>\n",
       "      <td>CARDINAL</td>\n",
       "      <td>approximately</td>\n",
       "      <td>approximately</td>\n",
       "      <td>advmod</td>\n",
       "      <td>33,000</td>\n",
       "      <td>nummod</td>\n",
       "      <td>ADV</td>\n",
       "      <td>RB</td>\n",
       "      <td>adverbial modifier</td>\n",
       "      <td>adverb</td>\n",
       "    </tr>\n",
       "    <tr>\n",
       "      <th>3</th>\n",
       "      <td>CARDINAL</td>\n",
       "      <td>33,000</td>\n",
       "      <td>33,000</td>\n",
       "      <td>nummod</td>\n",
       "      <td>Team Members</td>\n",
       "      <td>conj</td>\n",
       "      <td>NUM</td>\n",
       "      <td>CD</td>\n",
       "      <td>None</td>\n",
       "      <td>cardinal number</td>\n",
       "    </tr>\n",
       "  </tbody>\n",
       "</table>"
      ],
      "text/plain": [
       "<IPython.core.display.HTML object>"
      ]
     },
     "metadata": {},
     "output_type": "display_data"
    }
   ],
   "source": [
    "hf.print_doc_info(ex8)"
   ]
  },
  {
   "cell_type": "code",
   "execution_count": 40,
   "metadata": {
    "ExecuteTime": {
     "end_time": "2018-08-14T01:15:49.420154Z",
     "start_time": "2018-08-14T01:15:49.384130Z"
    }
   },
   "outputs": [
    {
     "name": "stdout",
     "output_type": "stream",
     "text": [
      "full-time\n",
      "Full-Time Employees\n",
      "ex8_emp_tok.child emp_type :  [full-time]\n",
      "ex8_emp_tok.child emp_type pos_:  ADJ\n",
      "ex8_emp_tok_2.child emp_type :  [part-time]\n",
      "ex8_emp_tok_2.child emp_type pos_:  ADJ\n",
      "dobj\n",
      "41,000\n",
      "[Team Members]\n"
     ]
    }
   ],
   "source": [
    "ex8_emp_tok = ex8[12]\n",
    "ex8_emp_num_tok = ex8[10]\n",
    "ex8_emp_tok_2 = ex8[17]\n",
    "\n",
    "print(ex8[ex8_emp_tok.i - 1])\n",
    "print(check_emp_type_flags(find_emp_type_toks(ex8_emp_tok)))\n",
    "print(\"ex8_emp_tok.child emp_type : \", [t for t in ex8_emp_tok.children if t._.is_emp_type == True])\n",
    "print(\"ex8_emp_tok.child emp_type pos_: \", [t for t in ex8_emp_tok.children if t._.is_emp_type == True][0].pos_)\n",
    "print(\"ex8_emp_tok_2.child emp_type : \", [t for t in ex8_emp_tok_2.children if t._.is_emp_type == True])\n",
    "print(\"ex8_emp_tok_2.child emp_type pos_: \", [t for t in ex8_emp_tok_2.children if t._.is_emp_type == True][0].pos_)\n",
    "print(ex8_emp_tok.dep_)\n",
    "print(ex8_emp_num_tok)\n",
    "print([c for c in ex8_emp_tok.conjuncts])"
   ]
  },
  {
   "cell_type": "code",
   "execution_count": 41,
   "metadata": {
    "ExecuteTime": {
     "end_time": "2018-08-14T01:15:55.084882Z",
     "start_time": "2018-08-14T01:15:55.073875Z"
    }
   },
   "outputs": [
    {
     "name": "stdout",
     "output_type": "stream",
     "text": [
      "Token children: \n",
      "41,000       child.dep_:nummod\n",
      "full-time       child.dep_:compound\n",
      "and       child.dep_:cc\n",
      "Team Members       child.dep_:conj\n"
     ]
    }
   ],
   "source": [
    "print('Token children: ')\n",
    "for w in ex8_emp_tok.children:\n",
    "    print(str(w) + '       child.dep_:' + str(w.dep_))"
   ]
  },
  {
   "cell_type": "code",
   "execution_count": 42,
   "metadata": {
    "ExecuteTime": {
     "end_time": "2018-08-14T01:15:55.145921Z",
     "start_time": "2018-08-14T01:15:55.087884Z"
    }
   },
   "outputs": [
    {
     "name": "stdout",
     "output_type": "stream",
     "text": [
      "Word_id is : 0\n",
      "Word is : Team Members\n",
      "Word subtree is :  approximately 41,000 full-time Team Members and approximately 33,000 part-time\n",
      "Word children :  [41,000, full-time, and, Team Members]\n",
      "Num_toks are: [41,000]\n",
      "tok_emp_type_subtree:  [full-time, part-time]\n",
      "Flagged toks from tok.children: [full-time]\n",
      "Flagged_toks:  [full-time]\n",
      "Dep_ of EMP_NOUN is: dobj\n",
      "Root is at 1 steps from Team Members.\n",
      "Parts found:  (we, employed, 41,000, 'Full-Time Employees', [full-time], Team Members)\n",
      "Word_id is : 1\n",
      "Word is : Team Members\n",
      "Word subtree is :  approximately 33,000 part-time\n",
      "Word children :  [33,000, part-time]\n",
      "Num_toks are: [33,000]\n",
      "tok_emp_type_subtree:  [part-time]\n",
      "Flagged toks from tok.children: [part-time]\n",
      "Flagged_toks:  [part-time]\n",
      "Dep_ of EMP_NOUN is: conj\n",
      "Emp_noun token has dep_ == 'conj'.\n",
      "Child num_tok: 33,000\n",
      "Head num_tok: []\n",
      "Parts found:  (we, employed, 33,000, 'Part-Time Employees', [part-time], Team Members)\n"
     ]
    },
    {
     "data": {
      "text/plain": [
       "[RelationDetails(sent_num=0, word_num=0, subject=we, verb=employed, quantity=41,000, quantity_idx=10, quantity_type='Full-Time Employees', type_token=[full-time], word=Team Members, word_idx=12, word_dep='dobj', depth=1, sentence='As of February 23, 2017, we employed approximately 41,000 full-time Team Members and approximately 33,000 part-time Team Members.'),\n",
       " RelationDetails(sent_num=0, word_num=1, subject=we, verb=employed, quantity=33,000, quantity_idx=15, quantity_type='Part-Time Employees', type_token=[part-time], word=Team Members, word_idx=17, word_dep='conj', depth=1, sentence='As of February 23, 2017, we employed approximately 41,000 full-time Team Members and approximately 33,000 part-time Team Members.')]"
      ]
     },
     "execution_count": 42,
     "metadata": {},
     "output_type": "execute_result"
    }
   ],
   "source": [
    "extract_emp_relations(ex8, verbose = True)"
   ]
  },
  {
   "cell_type": "markdown",
   "metadata": {},
   "source": [
    "#### ```As of September 30, 2016, we had approximately 19,000 employees, of which approximately 18,000 were full-time employees.```"
   ]
  },
  {
   "cell_type": "markdown",
   "metadata": {},
   "source": [
    "Example text:\n",
    "\n",
    "`As of September 30, 2016, we had approximately 19,000 employees, of which approximately 18,000 were full-time employees.`  \n",
    "\n",
    "Desired output: \n",
    "\n",
    "`(we, had, 19,000, (0, 'Other') ,employees)`  \n",
    "`(we, had, 18,000, ('full-time', 'Full-Time') ,employees)`  "
   ]
  },
  {
   "cell_type": "code",
   "execution_count": 43,
   "metadata": {
    "ExecuteTime": {
     "end_time": "2018-08-14T01:16:13.886711Z",
     "start_time": "2018-08-14T01:16:13.865698Z"
    }
   },
   "outputs": [],
   "source": [
    "ex9 = nlp(\"As of September 30, 2016, we had approximately 19,000 employees, of which approximately 18,000 were full-time employees.\")\n",
    "\n",
    "#hf.print_df(make_tok_df(ex9))"
   ]
  },
  {
   "cell_type": "code",
   "execution_count": 44,
   "metadata": {
    "ExecuteTime": {
     "end_time": "2018-08-14T01:16:13.936744Z",
     "start_time": "2018-08-14T01:16:13.888713Z"
    }
   },
   "outputs": [
    {
     "name": "stdout",
     "output_type": "stream",
     "text": [
      "doc is: \n",
      "As of September 30, 2016, we had approximately 19,000 employees, of which approximately 18,000 were full-time employees.\n",
      "--------------------------------------------------\n",
      "Entities are: \n"
     ]
    },
    {
     "data": {
      "text/html": [
       "<table border=\"1\" class=\"dataframe\">\n",
       "  <thead>\n",
       "    <tr style=\"text-align: right;\">\n",
       "      <th></th>\n",
       "      <th>tok_i</th>\n",
       "      <th>entity</th>\n",
       "      <th>ent_label</th>\n",
       "      <th>root</th>\n",
       "      <th>root_dep</th>\n",
       "      <th>dep_def</th>\n",
       "      <th>root_head</th>\n",
       "      <th>root_head_dep</th>\n",
       "      <th>root_head_pos</th>\n",
       "    </tr>\n",
       "  </thead>\n",
       "  <tbody>\n",
       "    <tr>\n",
       "      <th>0</th>\n",
       "      <td>2</td>\n",
       "      <td>September 30, 2016</td>\n",
       "      <td>DATE</td>\n",
       "      <td>September</td>\n",
       "      <td>pobj</td>\n",
       "      <td>object of preposition</td>\n",
       "      <td>of</td>\n",
       "      <td>prep</td>\n",
       "      <td>ADP</td>\n",
       "    </tr>\n",
       "    <tr>\n",
       "      <th>1</th>\n",
       "      <td>9</td>\n",
       "      <td>approximately 19,000</td>\n",
       "      <td>CARDINAL</td>\n",
       "      <td>19,000</td>\n",
       "      <td>nummod</td>\n",
       "      <td>None</td>\n",
       "      <td>employees</td>\n",
       "      <td>dobj</td>\n",
       "      <td>NOUN</td>\n",
       "    </tr>\n",
       "    <tr>\n",
       "      <th>2</th>\n",
       "      <td>11</td>\n",
       "      <td>employees</td>\n",
       "      <td>EMP_NOUN</td>\n",
       "      <td>employees</td>\n",
       "      <td>dobj</td>\n",
       "      <td>direct object</td>\n",
       "      <td>had</td>\n",
       "      <td>ROOT</td>\n",
       "      <td>VERB</td>\n",
       "    </tr>\n",
       "    <tr>\n",
       "      <th>3</th>\n",
       "      <td>15</td>\n",
       "      <td>approximately 18,000</td>\n",
       "      <td>CARDINAL</td>\n",
       "      <td>18,000</td>\n",
       "      <td>nsubj</td>\n",
       "      <td>nominal subject</td>\n",
       "      <td>were</td>\n",
       "      <td>relcl</td>\n",
       "      <td>VERB</td>\n",
       "    </tr>\n",
       "    <tr>\n",
       "      <th>4</th>\n",
       "      <td>18</td>\n",
       "      <td>full-time</td>\n",
       "      <td>FULL_TIME</td>\n",
       "      <td>full-time</td>\n",
       "      <td>compound</td>\n",
       "      <td>None</td>\n",
       "      <td>employees</td>\n",
       "      <td>attr</td>\n",
       "      <td>NOUN</td>\n",
       "    </tr>\n",
       "    <tr>\n",
       "      <th>5</th>\n",
       "      <td>19</td>\n",
       "      <td>employees</td>\n",
       "      <td>EMP_NOUN</td>\n",
       "      <td>employees</td>\n",
       "      <td>attr</td>\n",
       "      <td>attribute</td>\n",
       "      <td>were</td>\n",
       "      <td>relcl</td>\n",
       "      <td>VERB</td>\n",
       "    </tr>\n",
       "  </tbody>\n",
       "</table>"
      ],
      "text/plain": [
       "<IPython.core.display.HTML object>"
      ]
     },
     "metadata": {},
     "output_type": "display_data"
    },
    {
     "name": "stdout",
     "output_type": "stream",
     "text": [
      "--------------------------------------------------\n",
      "Noun chunks are: \n"
     ]
    },
    {
     "data": {
      "text/html": [
       "<table border=\"1\" class=\"dataframe\">\n",
       "  <thead>\n",
       "    <tr style=\"text-align: right;\">\n",
       "      <th></th>\n",
       "      <th>tok_i</th>\n",
       "      <th>noun_chunk</th>\n",
       "      <th>root</th>\n",
       "      <th>root_ent</th>\n",
       "      <th>root_dep</th>\n",
       "      <th>dep_def</th>\n",
       "      <th>root_head</th>\n",
       "      <th>root_head_dep</th>\n",
       "      <th>root_head_pos</th>\n",
       "    </tr>\n",
       "  </thead>\n",
       "  <tbody>\n",
       "    <tr>\n",
       "      <th>0</th>\n",
       "      <td>2</td>\n",
       "      <td>September</td>\n",
       "      <td>September</td>\n",
       "      <td>DATE</td>\n",
       "      <td>pobj</td>\n",
       "      <td>object of preposition</td>\n",
       "      <td>of</td>\n",
       "      <td>prep</td>\n",
       "      <td>ADP</td>\n",
       "    </tr>\n",
       "    <tr>\n",
       "      <th>1</th>\n",
       "      <td>7</td>\n",
       "      <td>we</td>\n",
       "      <td>we</td>\n",
       "      <td></td>\n",
       "      <td>nsubj</td>\n",
       "      <td>nominal subject</td>\n",
       "      <td>had</td>\n",
       "      <td>ROOT</td>\n",
       "      <td>VERB</td>\n",
       "    </tr>\n",
       "    <tr>\n",
       "      <th>2</th>\n",
       "      <td>9</td>\n",
       "      <td>approximately 19,000 employees</td>\n",
       "      <td>employees</td>\n",
       "      <td>EMP_NOUN</td>\n",
       "      <td>dobj</td>\n",
       "      <td>direct object</td>\n",
       "      <td>had</td>\n",
       "      <td>ROOT</td>\n",
       "      <td>VERB</td>\n",
       "    </tr>\n",
       "    <tr>\n",
       "      <th>3</th>\n",
       "      <td>18</td>\n",
       "      <td>full-time employees</td>\n",
       "      <td>employees</td>\n",
       "      <td>EMP_NOUN</td>\n",
       "      <td>attr</td>\n",
       "      <td>attribute</td>\n",
       "      <td>were</td>\n",
       "      <td>relcl</td>\n",
       "      <td>VERB</td>\n",
       "    </tr>\n",
       "  </tbody>\n",
       "</table>"
      ],
      "text/plain": [
       "<IPython.core.display.HTML object>"
      ]
     },
     "metadata": {},
     "output_type": "display_data"
    },
    {
     "name": "stdout",
     "output_type": "stream",
     "text": [
      "--------------------------------------------------\n",
      "Cardinal entities are: \n"
     ]
    },
    {
     "data": {
      "text/html": [
       "<table border=\"1\" class=\"dataframe\">\n",
       "  <thead>\n",
       "    <tr style=\"text-align: right;\">\n",
       "      <th></th>\n",
       "      <th>tok_ent</th>\n",
       "      <th>toks</th>\n",
       "      <th>lemma</th>\n",
       "      <th>dep</th>\n",
       "      <th>head</th>\n",
       "      <th>h_dep</th>\n",
       "      <th>pos</th>\n",
       "      <th>tag</th>\n",
       "      <th>dep_def</th>\n",
       "      <th>tag_def</th>\n",
       "    </tr>\n",
       "  </thead>\n",
       "  <tbody>\n",
       "    <tr>\n",
       "      <th>0</th>\n",
       "      <td>CARDINAL</td>\n",
       "      <td>approximately</td>\n",
       "      <td>approximately</td>\n",
       "      <td>advmod</td>\n",
       "      <td>19,000</td>\n",
       "      <td>nummod</td>\n",
       "      <td>ADV</td>\n",
       "      <td>RB</td>\n",
       "      <td>adverbial modifier</td>\n",
       "      <td>adverb</td>\n",
       "    </tr>\n",
       "    <tr>\n",
       "      <th>1</th>\n",
       "      <td>CARDINAL</td>\n",
       "      <td>19,000</td>\n",
       "      <td>19,000</td>\n",
       "      <td>nummod</td>\n",
       "      <td>employees</td>\n",
       "      <td>dobj</td>\n",
       "      <td>NUM</td>\n",
       "      <td>CD</td>\n",
       "      <td>None</td>\n",
       "      <td>cardinal number</td>\n",
       "    </tr>\n",
       "    <tr>\n",
       "      <th>2</th>\n",
       "      <td>CARDINAL</td>\n",
       "      <td>approximately</td>\n",
       "      <td>approximately</td>\n",
       "      <td>advmod</td>\n",
       "      <td>18,000</td>\n",
       "      <td>nsubj</td>\n",
       "      <td>ADV</td>\n",
       "      <td>RB</td>\n",
       "      <td>adverbial modifier</td>\n",
       "      <td>adverb</td>\n",
       "    </tr>\n",
       "    <tr>\n",
       "      <th>3</th>\n",
       "      <td>CARDINAL</td>\n",
       "      <td>18,000</td>\n",
       "      <td>18,000</td>\n",
       "      <td>nsubj</td>\n",
       "      <td>were</td>\n",
       "      <td>relcl</td>\n",
       "      <td>NUM</td>\n",
       "      <td>CD</td>\n",
       "      <td>nominal subject</td>\n",
       "      <td>cardinal number</td>\n",
       "    </tr>\n",
       "  </tbody>\n",
       "</table>"
      ],
      "text/plain": [
       "<IPython.core.display.HTML object>"
      ]
     },
     "metadata": {},
     "output_type": "display_data"
    }
   ],
   "source": [
    "hf.print_doc_info(ex9)"
   ]
  },
  {
   "cell_type": "code",
   "execution_count": 45,
   "metadata": {
    "ExecuteTime": {
     "end_time": "2018-08-14T01:16:13.959759Z",
     "start_time": "2018-08-14T01:16:13.938745Z"
    }
   },
   "outputs": [
    {
     "name": "stdout",
     "output_type": "stream",
     "text": [
      "19,000\n",
      "Full-Time Employees\n",
      "[]\n",
      "[full-time]\n",
      "dobj\n",
      "18,000\n",
      "[]\n"
     ]
    }
   ],
   "source": [
    "ex9_emp_tok = ex9[11]; ex9_emp_tok_2 = ex9[19]\n",
    "ex9_emp_num_tok = ex9[16]\n",
    "print(ex9[ex9_emp_tok.i - 1])\n",
    "print(check_emp_type_flags(find_emp_type_toks(ex9_emp_tok_2)))\n",
    "print([t for t in ex9_emp_tok.children if t._.is_emp_type == True])\n",
    "print([t for t in ex9_emp_tok_2.children if t._.is_emp_type == True])\n",
    "print(ex9_emp_tok.dep_)\n",
    "print(ex9_emp_num_tok)\n",
    "print([c for c in ex9_emp_tok.conjuncts])"
   ]
  },
  {
   "cell_type": "code",
   "execution_count": 46,
   "metadata": {
    "ExecuteTime": {
     "end_time": "2018-08-14T01:16:13.966763Z",
     "start_time": "2018-08-14T01:16:13.961760Z"
    }
   },
   "outputs": [
    {
     "data": {
      "text/html": [
       "<div class=\"entities\" style=\"line-height: 2.5\">As of \n",
       "<mark class=\"entity\" style=\"background: #bfe1d9; padding: 0.45em 0.6em; margin: 0 0.25em; line-height: 1; border-radius: 0.35em; box-decoration-break: clone; -webkit-box-decoration-break: clone\">\n",
       "    September 30, 2016\n",
       "    <span style=\"font-size: 0.8em; font-weight: bold; line-height: 1; border-radius: 0.35em; text-transform: uppercase; vertical-align: middle; margin-left: 0.5rem\">DATE</span>\n",
       "</mark>\n",
       ", we had \n",
       "<mark class=\"entity\" style=\"background: #e4e7d2; padding: 0.45em 0.6em; margin: 0 0.25em; line-height: 1; border-radius: 0.35em; box-decoration-break: clone; -webkit-box-decoration-break: clone\">\n",
       "    approximately 19,000\n",
       "    <span style=\"font-size: 0.8em; font-weight: bold; line-height: 1; border-radius: 0.35em; text-transform: uppercase; vertical-align: middle; margin-left: 0.5rem\">CARDINAL</span>\n",
       "</mark>\n",
       " \n",
       "<mark class=\"entity\" style=\"background: #ddd; padding: 0.45em 0.6em; margin: 0 0.25em; line-height: 1; border-radius: 0.35em; box-decoration-break: clone; -webkit-box-decoration-break: clone\">\n",
       "    employees\n",
       "    <span style=\"font-size: 0.8em; font-weight: bold; line-height: 1; border-radius: 0.35em; text-transform: uppercase; vertical-align: middle; margin-left: 0.5rem\">EMP_NOUN</span>\n",
       "</mark>\n",
       ", of which \n",
       "<mark class=\"entity\" style=\"background: #e4e7d2; padding: 0.45em 0.6em; margin: 0 0.25em; line-height: 1; border-radius: 0.35em; box-decoration-break: clone; -webkit-box-decoration-break: clone\">\n",
       "    approximately 18,000\n",
       "    <span style=\"font-size: 0.8em; font-weight: bold; line-height: 1; border-radius: 0.35em; text-transform: uppercase; vertical-align: middle; margin-left: 0.5rem\">CARDINAL</span>\n",
       "</mark>\n",
       " were \n",
       "<mark class=\"entity\" style=\"background: #ddd; padding: 0.45em 0.6em; margin: 0 0.25em; line-height: 1; border-radius: 0.35em; box-decoration-break: clone; -webkit-box-decoration-break: clone\">\n",
       "    full-time\n",
       "    <span style=\"font-size: 0.8em; font-weight: bold; line-height: 1; border-radius: 0.35em; text-transform: uppercase; vertical-align: middle; margin-left: 0.5rem\">FULL_TIME</span>\n",
       "</mark>\n",
       " \n",
       "<mark class=\"entity\" style=\"background: #ddd; padding: 0.45em 0.6em; margin: 0 0.25em; line-height: 1; border-radius: 0.35em; box-decoration-break: clone; -webkit-box-decoration-break: clone\">\n",
       "    employees\n",
       "    <span style=\"font-size: 0.8em; font-weight: bold; line-height: 1; border-radius: 0.35em; text-transform: uppercase; vertical-align: middle; margin-left: 0.5rem\">EMP_NOUN</span>\n",
       "</mark>\n",
       ".</div>"
      ],
      "text/plain": [
       "<IPython.core.display.HTML object>"
      ]
     },
     "metadata": {},
     "output_type": "display_data"
    }
   ],
   "source": [
    "displacy.render(ex9, style='ent', jupyter=True, options={'distance': 110})"
   ]
  },
  {
   "cell_type": "code",
   "execution_count": 47,
   "metadata": {
    "ExecuteTime": {
     "end_time": "2018-08-14T01:16:13.978771Z",
     "start_time": "2018-08-14T01:16:13.968765Z"
    }
   },
   "outputs": [
    {
     "data": {
      "text/plain": [
       "[18,000]"
      ]
     },
     "execution_count": 47,
     "metadata": {},
     "output_type": "execute_result"
    }
   ],
   "source": [
    "list(ex9[19].head.lefts)"
   ]
  },
  {
   "cell_type": "code",
   "execution_count": 48,
   "metadata": {
    "ExecuteTime": {
     "end_time": "2018-08-14T01:16:14.057824Z",
     "start_time": "2018-08-14T01:16:13.980774Z"
    },
    "scrolled": true
   },
   "outputs": [
    {
     "name": "stdout",
     "output_type": "stream",
     "text": [
      "Word_id is : 0\n",
      "Word is : employees\n",
      "Word subtree is :  approximately 19,000 employees, of which approximately 18,000 were full-time\n",
      "Word children :  [19,000, ,, were]\n",
      "Num_toks are: [19,000]\n",
      "tok_emp_type_subtree:  [full-time]\n",
      "Finding emp_type, emp_tok is dobj\n",
      "emp_noun tok head: had\n",
      "tok_head_emptype_subtreee: [full-time]\n",
      "tok_head_empnoun_subtreee: [employees, employees]\n",
      "Flagged toks from tok_head_emptype_subtreee: [full-time]\n",
      "Flagged tok heads: [employees]\n",
      "Flagged tok head deps: ['attr']\n",
      "Flagged_toks:  [full-time]\n",
      "Dep_ of EMP_NOUN is: dobj\n",
      "Root is at 1 steps from employees.\n",
      "Parts found:  (we, had, 19,000, 'Full-Time Employees', [full-time], employees)\n",
      "Word_id is : 1\n",
      "Word is : employees\n",
      "Word subtree is :  full-time\n",
      "Word children :  [full-time]\n",
      "tok_emp_type_subtree:  [full-time]\n",
      "Flagged toks from tok.children: [full-time]\n",
      "Flagged_toks:  [full-time]\n",
      "Dep_ of EMP_NOUN is: attr\n",
      "Root is at 1 steps from employees.\n",
      "Parts found:  (we, had, approximately 18,000, 'Full-Time Employees', [full-time], employees)\n"
     ]
    },
    {
     "data": {
      "text/plain": [
       "[RelationDetails(sent_num=0, word_num=0, subject=we, verb=had, quantity=19,000, quantity_idx=10, quantity_type='Full-Time Employees', type_token=[full-time], word=employees, word_idx=11, word_dep='dobj', depth=1, sentence='As of September 30, 2016, we had approximately 19,000 employees, of which approximately 18,000 were full-time employees.'),\n",
       " RelationDetails(sent_num=0, word_num=1, subject=we, verb=had, quantity=approximately 18,000, quantity_idx=16, quantity_type='Full-Time Employees', type_token=[full-time], word=employees, word_idx=19, word_dep='attr', depth=1, sentence='As of September 30, 2016, we had approximately 19,000 employees, of which approximately 18,000 were full-time employees.')]"
      ]
     },
     "execution_count": 48,
     "metadata": {},
     "output_type": "execute_result"
    }
   ],
   "source": [
    "extract_emp_relations(ex9, verbose = True)"
   ]
  },
  {
   "cell_type": "markdown",
   "metadata": {},
   "source": [
    "### Dealing with sub-clauses"
   ]
  },
  {
   "cell_type": "markdown",
   "metadata": {},
   "source": [
    "#### `Including our full and part-time personnel, we estimate that we have the equivalent of 12 full time employees.`"
   ]
  },
  {
   "cell_type": "code",
   "execution_count": 49,
   "metadata": {
    "ExecuteTime": {
     "end_time": "2018-08-14T01:16:30.438565Z",
     "start_time": "2018-08-14T01:16:30.393537Z"
    }
   },
   "outputs": [
    {
     "name": "stdout",
     "output_type": "stream",
     "text": [
      "[the, equivalent, of, 12, full time, employees]\n",
      "[that, we]\n"
     ]
    },
    {
     "data": {
      "text/html": [
       "<table border=\"1\" class=\"dataframe\">\n",
       "  <thead>\n",
       "    <tr style=\"text-align: right;\">\n",
       "      <th></th>\n",
       "      <th>tok_ent</th>\n",
       "      <th>toks</th>\n",
       "      <th>lemma</th>\n",
       "      <th>dep</th>\n",
       "      <th>head</th>\n",
       "      <th>h_dep</th>\n",
       "      <th>pos</th>\n",
       "      <th>tag</th>\n",
       "      <th>dep_def</th>\n",
       "      <th>tag_def</th>\n",
       "    </tr>\n",
       "  </thead>\n",
       "  <tbody>\n",
       "    <tr>\n",
       "      <th>0</th>\n",
       "      <td></td>\n",
       "      <td>Including</td>\n",
       "      <td>include</td>\n",
       "      <td>prep</td>\n",
       "      <td>estimate</td>\n",
       "      <td>ROOT</td>\n",
       "      <td>VERB</td>\n",
       "      <td>VBG</td>\n",
       "      <td>prepositional modifier</td>\n",
       "      <td>verb, gerund or present participle</td>\n",
       "    </tr>\n",
       "    <tr>\n",
       "      <th>1</th>\n",
       "      <td></td>\n",
       "      <td>our</td>\n",
       "      <td>-PRON-</td>\n",
       "      <td>poss</td>\n",
       "      <td>personnel</td>\n",
       "      <td>pobj</td>\n",
       "      <td>ADJ</td>\n",
       "      <td>PRP$</td>\n",
       "      <td>possession modifier</td>\n",
       "      <td>pronoun, possessive</td>\n",
       "    </tr>\n",
       "    <tr>\n",
       "      <th>2</th>\n",
       "      <td></td>\n",
       "      <td>full</td>\n",
       "      <td>full</td>\n",
       "      <td>amod</td>\n",
       "      <td>personnel</td>\n",
       "      <td>pobj</td>\n",
       "      <td>ADJ</td>\n",
       "      <td>JJ</td>\n",
       "      <td>adjectival modifier</td>\n",
       "      <td>adjective</td>\n",
       "    </tr>\n",
       "    <tr>\n",
       "      <th>3</th>\n",
       "      <td></td>\n",
       "      <td>and</td>\n",
       "      <td>and</td>\n",
       "      <td>cc</td>\n",
       "      <td>full</td>\n",
       "      <td>amod</td>\n",
       "      <td>CCONJ</td>\n",
       "      <td>CC</td>\n",
       "      <td>coordinating conjunction</td>\n",
       "      <td>conjunction, coordinating</td>\n",
       "    </tr>\n",
       "    <tr>\n",
       "      <th>4</th>\n",
       "      <td>PART_TIME</td>\n",
       "      <td>part-time</td>\n",
       "      <td>part</td>\n",
       "      <td>conj</td>\n",
       "      <td>full</td>\n",
       "      <td>amod</td>\n",
       "      <td>ADJ</td>\n",
       "      <td>JJ</td>\n",
       "      <td>conjunct</td>\n",
       "      <td>adjective</td>\n",
       "    </tr>\n",
       "    <tr>\n",
       "      <th>5</th>\n",
       "      <td></td>\n",
       "      <td>personnel</td>\n",
       "      <td>personnel</td>\n",
       "      <td>pobj</td>\n",
       "      <td>Including</td>\n",
       "      <td>prep</td>\n",
       "      <td>NOUN</td>\n",
       "      <td>NNS</td>\n",
       "      <td>object of preposition</td>\n",
       "      <td>noun, plural</td>\n",
       "    </tr>\n",
       "    <tr>\n",
       "      <th>6</th>\n",
       "      <td></td>\n",
       "      <td>,</td>\n",
       "      <td>,</td>\n",
       "      <td>punct</td>\n",
       "      <td>estimate</td>\n",
       "      <td>ROOT</td>\n",
       "      <td>PUNCT</td>\n",
       "      <td>,</td>\n",
       "      <td>punctuation</td>\n",
       "      <td>punctuation mark, comma</td>\n",
       "    </tr>\n",
       "    <tr>\n",
       "      <th>7</th>\n",
       "      <td></td>\n",
       "      <td>we</td>\n",
       "      <td>-PRON-</td>\n",
       "      <td>nsubj</td>\n",
       "      <td>estimate</td>\n",
       "      <td>ROOT</td>\n",
       "      <td>PRON</td>\n",
       "      <td>PRP</td>\n",
       "      <td>nominal subject</td>\n",
       "      <td>pronoun, personal</td>\n",
       "    </tr>\n",
       "    <tr>\n",
       "      <th>8</th>\n",
       "      <td></td>\n",
       "      <td>estimate</td>\n",
       "      <td>estimate</td>\n",
       "      <td>ROOT</td>\n",
       "      <td>estimate</td>\n",
       "      <td>ROOT</td>\n",
       "      <td>VERB</td>\n",
       "      <td>VBP</td>\n",
       "      <td>None</td>\n",
       "      <td>verb, non-3rd person singular present</td>\n",
       "    </tr>\n",
       "    <tr>\n",
       "      <th>9</th>\n",
       "      <td></td>\n",
       "      <td>that</td>\n",
       "      <td>that</td>\n",
       "      <td>mark</td>\n",
       "      <td>have</td>\n",
       "      <td>ccomp</td>\n",
       "      <td>ADP</td>\n",
       "      <td>IN</td>\n",
       "      <td>marker</td>\n",
       "      <td>conjunction, subordinating or preposition</td>\n",
       "    </tr>\n",
       "    <tr>\n",
       "      <th>10</th>\n",
       "      <td></td>\n",
       "      <td>we</td>\n",
       "      <td>-PRON-</td>\n",
       "      <td>nsubj</td>\n",
       "      <td>have</td>\n",
       "      <td>ccomp</td>\n",
       "      <td>PRON</td>\n",
       "      <td>PRP</td>\n",
       "      <td>nominal subject</td>\n",
       "      <td>pronoun, personal</td>\n",
       "    </tr>\n",
       "    <tr>\n",
       "      <th>11</th>\n",
       "      <td></td>\n",
       "      <td>have</td>\n",
       "      <td>have</td>\n",
       "      <td>ccomp</td>\n",
       "      <td>estimate</td>\n",
       "      <td>ROOT</td>\n",
       "      <td>VERB</td>\n",
       "      <td>VBP</td>\n",
       "      <td>clausal complement</td>\n",
       "      <td>verb, non-3rd person singular present</td>\n",
       "    </tr>\n",
       "    <tr>\n",
       "      <th>12</th>\n",
       "      <td></td>\n",
       "      <td>the</td>\n",
       "      <td>the</td>\n",
       "      <td>det</td>\n",
       "      <td>equivalent</td>\n",
       "      <td>dobj</td>\n",
       "      <td>DET</td>\n",
       "      <td>DT</td>\n",
       "      <td>determiner</td>\n",
       "      <td>determiner</td>\n",
       "    </tr>\n",
       "    <tr>\n",
       "      <th>13</th>\n",
       "      <td></td>\n",
       "      <td>equivalent</td>\n",
       "      <td>equivalent</td>\n",
       "      <td>dobj</td>\n",
       "      <td>have</td>\n",
       "      <td>ccomp</td>\n",
       "      <td>NOUN</td>\n",
       "      <td>NN</td>\n",
       "      <td>direct object</td>\n",
       "      <td>noun, singular or mass</td>\n",
       "    </tr>\n",
       "    <tr>\n",
       "      <th>14</th>\n",
       "      <td></td>\n",
       "      <td>of</td>\n",
       "      <td>of</td>\n",
       "      <td>prep</td>\n",
       "      <td>equivalent</td>\n",
       "      <td>dobj</td>\n",
       "      <td>ADP</td>\n",
       "      <td>IN</td>\n",
       "      <td>prepositional modifier</td>\n",
       "      <td>conjunction, subordinating or preposition</td>\n",
       "    </tr>\n",
       "    <tr>\n",
       "      <th>15</th>\n",
       "      <td>CARDINAL</td>\n",
       "      <td>12</td>\n",
       "      <td>12</td>\n",
       "      <td>nummod</td>\n",
       "      <td>employees</td>\n",
       "      <td>pobj</td>\n",
       "      <td>NUM</td>\n",
       "      <td>CD</td>\n",
       "      <td>None</td>\n",
       "      <td>cardinal number</td>\n",
       "    </tr>\n",
       "    <tr>\n",
       "      <th>16</th>\n",
       "      <td>FULL_TIME</td>\n",
       "      <td>full time</td>\n",
       "      <td>full</td>\n",
       "      <td>compound</td>\n",
       "      <td>employees</td>\n",
       "      <td>pobj</td>\n",
       "      <td>ADJ</td>\n",
       "      <td>JJ</td>\n",
       "      <td>None</td>\n",
       "      <td>adjective</td>\n",
       "    </tr>\n",
       "    <tr>\n",
       "      <th>17</th>\n",
       "      <td>EMP_NOUN</td>\n",
       "      <td>employees</td>\n",
       "      <td>employee</td>\n",
       "      <td>pobj</td>\n",
       "      <td>of</td>\n",
       "      <td>prep</td>\n",
       "      <td>NOUN</td>\n",
       "      <td>NNS</td>\n",
       "      <td>object of preposition</td>\n",
       "      <td>noun, plural</td>\n",
       "    </tr>\n",
       "    <tr>\n",
       "      <th>18</th>\n",
       "      <td></td>\n",
       "      <td>.</td>\n",
       "      <td>.</td>\n",
       "      <td>punct</td>\n",
       "      <td>estimate</td>\n",
       "      <td>ROOT</td>\n",
       "      <td>PUNCT</td>\n",
       "      <td>.</td>\n",
       "      <td>punctuation</td>\n",
       "      <td>punctuation mark, sentence closer</td>\n",
       "    </tr>\n",
       "  </tbody>\n",
       "</table>"
      ],
      "text/plain": [
       "<IPython.core.display.HTML object>"
      ]
     },
     "metadata": {},
     "output_type": "display_data"
    }
   ],
   "source": [
    "ex11 = nlp(\"Including our full and part-time personnel, we estimate that we have the equivalent of 12 full time employees.\")\n",
    "ex11_emp_tok = ex11[17]\n",
    "#Subtree of 'have'\n",
    "print(list(list(ex11_emp_tok.head.head.head.rights)[0].subtree))\n",
    "\n",
    "print([r for r in ex11_emp_tok.head.head.head.lefts])\n",
    "hf.print_df(hf.make_tok_df(ex11))"
   ]
  },
  {
   "cell_type": "code",
   "execution_count": 50,
   "metadata": {
    "ExecuteTime": {
     "end_time": "2018-08-14T01:16:35.327717Z",
     "start_time": "2018-08-14T01:16:35.285690Z"
    }
   },
   "outputs": [
    {
     "name": "stdout",
     "output_type": "stream",
     "text": [
      "doc is: \n",
      "Including our full and part-time personnel, we estimate that we have the equivalent of 12 full time employees.\n",
      "--------------------------------------------------\n",
      "Entities are: \n"
     ]
    },
    {
     "data": {
      "text/html": [
       "<table border=\"1\" class=\"dataframe\">\n",
       "  <thead>\n",
       "    <tr style=\"text-align: right;\">\n",
       "      <th></th>\n",
       "      <th>tok_i</th>\n",
       "      <th>entity</th>\n",
       "      <th>ent_label</th>\n",
       "      <th>root</th>\n",
       "      <th>root_dep</th>\n",
       "      <th>dep_def</th>\n",
       "      <th>root_head</th>\n",
       "      <th>root_head_dep</th>\n",
       "      <th>root_head_pos</th>\n",
       "    </tr>\n",
       "  </thead>\n",
       "  <tbody>\n",
       "    <tr>\n",
       "      <th>0</th>\n",
       "      <td>4</td>\n",
       "      <td>part-time</td>\n",
       "      <td>PART_TIME</td>\n",
       "      <td>part-time</td>\n",
       "      <td>conj</td>\n",
       "      <td>conjunct</td>\n",
       "      <td>full</td>\n",
       "      <td>amod</td>\n",
       "      <td>ADJ</td>\n",
       "    </tr>\n",
       "    <tr>\n",
       "      <th>1</th>\n",
       "      <td>15</td>\n",
       "      <td>12</td>\n",
       "      <td>CARDINAL</td>\n",
       "      <td>12</td>\n",
       "      <td>nummod</td>\n",
       "      <td>None</td>\n",
       "      <td>employees</td>\n",
       "      <td>pobj</td>\n",
       "      <td>NOUN</td>\n",
       "    </tr>\n",
       "    <tr>\n",
       "      <th>2</th>\n",
       "      <td>16</td>\n",
       "      <td>full time</td>\n",
       "      <td>FULL_TIME</td>\n",
       "      <td>full time</td>\n",
       "      <td>compound</td>\n",
       "      <td>None</td>\n",
       "      <td>employees</td>\n",
       "      <td>pobj</td>\n",
       "      <td>NOUN</td>\n",
       "    </tr>\n",
       "    <tr>\n",
       "      <th>3</th>\n",
       "      <td>17</td>\n",
       "      <td>employees</td>\n",
       "      <td>EMP_NOUN</td>\n",
       "      <td>employees</td>\n",
       "      <td>pobj</td>\n",
       "      <td>object of preposition</td>\n",
       "      <td>of</td>\n",
       "      <td>prep</td>\n",
       "      <td>ADP</td>\n",
       "    </tr>\n",
       "  </tbody>\n",
       "</table>"
      ],
      "text/plain": [
       "<IPython.core.display.HTML object>"
      ]
     },
     "metadata": {},
     "output_type": "display_data"
    },
    {
     "name": "stdout",
     "output_type": "stream",
     "text": [
      "--------------------------------------------------\n",
      "Noun chunks are: \n"
     ]
    },
    {
     "data": {
      "text/html": [
       "<table border=\"1\" class=\"dataframe\">\n",
       "  <thead>\n",
       "    <tr style=\"text-align: right;\">\n",
       "      <th></th>\n",
       "      <th>tok_i</th>\n",
       "      <th>noun_chunk</th>\n",
       "      <th>root</th>\n",
       "      <th>root_ent</th>\n",
       "      <th>root_dep</th>\n",
       "      <th>dep_def</th>\n",
       "      <th>root_head</th>\n",
       "      <th>root_head_dep</th>\n",
       "      <th>root_head_pos</th>\n",
       "    </tr>\n",
       "  </thead>\n",
       "  <tbody>\n",
       "    <tr>\n",
       "      <th>0</th>\n",
       "      <td>1</td>\n",
       "      <td>our full and part-time personnel</td>\n",
       "      <td>personnel</td>\n",
       "      <td></td>\n",
       "      <td>pobj</td>\n",
       "      <td>object of preposition</td>\n",
       "      <td>Including</td>\n",
       "      <td>prep</td>\n",
       "      <td>VERB</td>\n",
       "    </tr>\n",
       "    <tr>\n",
       "      <th>1</th>\n",
       "      <td>7</td>\n",
       "      <td>we</td>\n",
       "      <td>we</td>\n",
       "      <td></td>\n",
       "      <td>nsubj</td>\n",
       "      <td>nominal subject</td>\n",
       "      <td>estimate</td>\n",
       "      <td>ROOT</td>\n",
       "      <td>VERB</td>\n",
       "    </tr>\n",
       "    <tr>\n",
       "      <th>2</th>\n",
       "      <td>10</td>\n",
       "      <td>we</td>\n",
       "      <td>we</td>\n",
       "      <td></td>\n",
       "      <td>nsubj</td>\n",
       "      <td>nominal subject</td>\n",
       "      <td>have</td>\n",
       "      <td>ccomp</td>\n",
       "      <td>VERB</td>\n",
       "    </tr>\n",
       "    <tr>\n",
       "      <th>3</th>\n",
       "      <td>12</td>\n",
       "      <td>the equivalent</td>\n",
       "      <td>equivalent</td>\n",
       "      <td></td>\n",
       "      <td>dobj</td>\n",
       "      <td>direct object</td>\n",
       "      <td>have</td>\n",
       "      <td>ccomp</td>\n",
       "      <td>VERB</td>\n",
       "    </tr>\n",
       "    <tr>\n",
       "      <th>4</th>\n",
       "      <td>15</td>\n",
       "      <td>12 full time employees</td>\n",
       "      <td>employees</td>\n",
       "      <td>EMP_NOUN</td>\n",
       "      <td>pobj</td>\n",
       "      <td>object of preposition</td>\n",
       "      <td>of</td>\n",
       "      <td>prep</td>\n",
       "      <td>ADP</td>\n",
       "    </tr>\n",
       "  </tbody>\n",
       "</table>"
      ],
      "text/plain": [
       "<IPython.core.display.HTML object>"
      ]
     },
     "metadata": {},
     "output_type": "display_data"
    },
    {
     "name": "stdout",
     "output_type": "stream",
     "text": [
      "--------------------------------------------------\n",
      "Cardinal entities are: \n"
     ]
    },
    {
     "data": {
      "text/html": [
       "<table border=\"1\" class=\"dataframe\">\n",
       "  <thead>\n",
       "    <tr style=\"text-align: right;\">\n",
       "      <th></th>\n",
       "      <th>tok_ent</th>\n",
       "      <th>toks</th>\n",
       "      <th>lemma</th>\n",
       "      <th>dep</th>\n",
       "      <th>head</th>\n",
       "      <th>h_dep</th>\n",
       "      <th>pos</th>\n",
       "      <th>tag</th>\n",
       "      <th>dep_def</th>\n",
       "      <th>tag_def</th>\n",
       "    </tr>\n",
       "  </thead>\n",
       "  <tbody>\n",
       "    <tr>\n",
       "      <th>0</th>\n",
       "      <td>CARDINAL</td>\n",
       "      <td>12</td>\n",
       "      <td>12</td>\n",
       "      <td>nummod</td>\n",
       "      <td>employees</td>\n",
       "      <td>pobj</td>\n",
       "      <td>NUM</td>\n",
       "      <td>CD</td>\n",
       "      <td>None</td>\n",
       "      <td>cardinal number</td>\n",
       "    </tr>\n",
       "  </tbody>\n",
       "</table>"
      ],
      "text/plain": [
       "<IPython.core.display.HTML object>"
      ]
     },
     "metadata": {},
     "output_type": "display_data"
    }
   ],
   "source": [
    "hf.print_doc_info(ex11)"
   ]
  },
  {
   "cell_type": "code",
   "execution_count": 51,
   "metadata": {
    "ExecuteTime": {
     "end_time": "2018-08-14T01:16:39.012577Z",
     "start_time": "2018-08-14T01:16:39.006573Z"
    }
   },
   "outputs": [
    {
     "data": {
      "text/plain": [
       "[RelationDetails(sent_num=0, word_num=0, subject=we, verb=have, quantity=12, quantity_idx=15, quantity_type='Full-Time Employees', type_token=[full time], word=employees, word_idx=17, word_dep='pobj', depth=1, sentence='Including our full and part-time personnel, we estimate that we have the equivalent of 12 full time employees.')]"
      ]
     },
     "execution_count": 51,
     "metadata": {},
     "output_type": "execute_result"
    }
   ],
   "source": [
    "extract_emp_relations(ex11)"
   ]
  },
  {
   "cell_type": "markdown",
   "metadata": {},
   "source": [
    "### Testing on sentences"
   ]
  },
  {
   "cell_type": "code",
   "execution_count": 52,
   "metadata": {
    "ExecuteTime": {
     "end_time": "2018-08-14T01:16:41.800218Z",
     "start_time": "2018-08-14T01:16:41.786210Z"
    }
   },
   "outputs": [],
   "source": [
    "test_sents = [\"As of September 30, 2016, we employed approximately 7,300 employees world-wide.\", \n",
    "\"As of December 31, 2016, the subsidiaries of AEP had a total of 17,634 employees.\", \n",
    "\"At December 31, 2016 and 2015, we had approximately 56,400 and 66,400 employees, respectively.\", \n",
    "\"At December 31, 2016, we had approximately 9,400 full-time employees.\", \n",
    "\"As of October 29, 2016, we employed approximately 10,000 individuals worldwide.\", \n",
    "\"The number of full-time employees of the Company was approximately 31,800 at December 31, 2016 and 32,300 at December 31, 2015.\", \n",
    "\"As of December 31, 2016, we had 1,469 total employees.\", \n",
    "\"ADP employed approximately 57,000 persons as of June 30, 2016.\", \n",
    "\"At December 31, 2016, we employed approximately 26,400 employees.\", \n",
    "\"The Company and its subsidiaries employed 1,562 persons at December 31, 2016, 114 of whom are covered by a collective bargaining agreement with District 10 of the International Association of Machinists.\", \n",
    "\"As of December 31, 2016, the Company had 455 employees, an increase of 17 employees from the prior year end.\", \n",
    "\"As of December 31, 2016, we had approximately 17,500 employees worldwide.\", \n",
    "\"Based in Neenah, Wisconsin, at December 31, 2016, the Company employed approximately 17,500 individuals and had 59 manufacturing facilities.\", \n",
    "\"As of January 31, 2017, we employed 7,683 individuals.\", \n",
    "\"At December 31, 2016, Bio-Rad had approximately 8,250 employees.\", \n",
    "\"As of December 31, 2016, we had approximately 8,500 full-time employees and 600 contractors.\", \n",
    "\"Alcoa's total worldwide employment at the end of 2016 was approximately 14,000 employees in 15 countries.\", \n",
    "\"As of December 31, 2016, we employed approximately 2,100 people.\", \n",
    "\"At December 31, 2016, the Company had approximately 11,500 employees.\",\n",
    "\"As of February 23, 2017, we employed approximately 41,000 full-time Team Members and approximately 33,000 part-time Team Members.\", \n",
    "\"As of December 31, 2016, we had 699 full-time employees and 202 temporary employees.\", \n",
    "\"As of September 30, 2016, we had approximately 19,000 employees, of which approximately 18,000 were full-time employees.\", \n",
    "\"As of December 31, 2016, we had 2,646 employees, 1,581 of whom were pilots.\", \n",
    "\"The number of regular employees was 71.1 thousand, 73.5 thousand, and 75.3 thousand at years ended 2016, 2015 and 2014, respectively.\",\n",
    "\"We are a small company with approximately 61 employees.\",\n",
    "\"Total workforce level at December 31, 2016 was approximately 150,500.\",           \n",
    "\"Currently, the Company and its subsidiaries have an aggregate of 35 employees.\",\n",
    "\"we employ only 31 employees\", \n",
    "\"We currently have 21 employees\",\n",
    "\"We currently employ 26 full-time employees\",\n",
    "\"Including our full and part-time personnel, we estimate that we have the equivalent of 12 full time employees.\",\n",
    "\"As a REIT, we employ only 31 employees and have a cost-effective management structure.\"\n",
    "]"
   ]
  },
  {
   "cell_type": "markdown",
   "metadata": {},
   "source": [
    "Nominal subjects are almost always left of root token. "
   ]
  },
  {
   "cell_type": "code",
   "execution_count": 53,
   "metadata": {
    "ExecuteTime": {
     "end_time": "2018-08-14T01:16:46.247343Z",
     "start_time": "2018-08-14T01:16:45.530807Z"
    }
   },
   "outputs": [
    {
     "name": "stdout",
     "output_type": "stream",
     "text": [
      "21\n",
      "Tok 1 of 2\n",
      "Token root: had\n",
      "Token side of root: left\n",
      "Sentence is :As of September 30, 2016, we had approximately 19,000 employees, of which approximately 18,000 were full-time employees.\n",
      "Token, dep_, index :we nsubj 7\n",
      "POS, tag, lemma :PRON PRP -PRON-\n",
      "Tok 2 of 2\n",
      "Token root: had\n",
      "Token side of root: right\n",
      "Sentence is :As of September 30, 2016, we had approximately 19,000 employees, of which approximately 18,000 were full-time employees.\n",
      "Token, dep_, index :18,000 nsubj 16\n",
      "POS, tag, lemma :NUM CD 18,000\n",
      "22\n",
      "Tok 1 of 2\n",
      "Token root: had\n",
      "Token side of root: left\n",
      "Sentence is :As of December 31, 2016, we had 2,646 employees, 1,581 of whom were pilots.\n",
      "Token, dep_, index :we nsubj 7\n",
      "POS, tag, lemma :PRON PRP -PRON-\n",
      "Tok 2 of 2\n",
      "Token root: had\n",
      "Token side of root: right\n",
      "Sentence is :As of December 31, 2016, we had 2,646 employees, 1,581 of whom were pilots.\n",
      "Token, dep_, index :1,581 nsubj 12\n",
      "POS, tag, lemma :NUM CD 1,581\n",
      "25\n",
      "Tok 1 of 2\n",
      "Token root: was\n",
      "Token side of root: left\n",
      "Sentence is :Total workforce level at December 31, 2016 was approximately 150,500.\n",
      "Token, dep_, index :level nsubj 2\n",
      "POS, tag, lemma :NOUN NN level\n",
      "Tok 2 of 2\n",
      "Token root: was\n",
      "Token side of root: left\n",
      "Sentence is :Total workforce level at December 31, 2016 was approximately 150,500.\n",
      "Token, dep_, index :2016 nsubj 7\n",
      "POS, tag, lemma :NUM CD 2016\n",
      "30\n",
      "Tok 1 of 2\n",
      "Token root: estimate\n",
      "Token side of root: left\n",
      "Sentence is :Including our full and part-time personnel, we estimate that we have the equivalent of 12 full time employees.\n",
      "Token, dep_, index :we nsubj 7\n",
      "POS, tag, lemma :PRON PRP -PRON-\n",
      "Tok 2 of 2\n",
      "Token root: estimate\n",
      "Token side of root: right\n",
      "Sentence is :Including our full and part-time personnel, we estimate that we have the equivalent of 12 full time employees.\n",
      "Token, dep_, index :we nsubj 10\n",
      "POS, tag, lemma :PRON PRP -PRON-\n"
     ]
    }
   ],
   "source": [
    "for i,t in enumerate(test_sents):\n",
    "    nsubs = [t for t in nlp(t) if t.dep_ == 'nsubj']\n",
    "    if len(nsubs) > 1:\n",
    "        print(str(i))\n",
    "        for i2, tok in enumerate(nsubs):\n",
    "            print(\"Tok \"+str(i2 + 1) + \" of \" + str(len(nsubs)))\n",
    "            print(\"Token root: \" + str(find_root_tok(tok)[0]))\n",
    "            print(\"Token side of root: \" + find_tok_side_of_root(tok, find_root_tok(tok)[0]))\n",
    "            print(\"Sentence is :\" + str(nlp(t).text))\n",
    "            print(\"Token, dep_, index :\" + str(tok) + \" \" + str(tok.dep_) + \" \" + str(tok.i))\n",
    "            print(\"POS, tag, lemma :\" + str(tok.pos_) + \" \" + str(tok.tag_) + \" \" + str(tok.lemma_))"
   ]
  },
  {
   "cell_type": "code",
   "execution_count": 54,
   "metadata": {
    "ExecuteTime": {
     "end_time": "2018-08-14T01:16:49.197361Z",
     "start_time": "2018-08-14T01:16:49.074279Z"
    }
   },
   "outputs": [
    {
     "name": "stdout",
     "output_type": "stream",
     "text": [
      "0\n",
      "Tok 1 of 1\n",
      "Sentence is :As of September 30, 2016, we employed approximately 7,300 employees world-wide.\n",
      "Token, dep_, index :employees dobj 11\n",
      "POS, tag, lemma :NOUN NNS employee\n",
      "1\n",
      "Tok 1 of 1\n",
      "Sentence is :As of December 31, 2016, the subsidiaries of AEP had a total of 17,634 employees.\n",
      "Token, dep_, index :employees pobj 16\n",
      "POS, tag, lemma :NOUN NNS employee\n",
      "2\n",
      "Tok 1 of 1\n",
      "Sentence is :At December 31, 2016 and 2015, we had approximately 56,400 and 66,400 employees, respectively.\n",
      "Token, dep_, index :employees dobj 14\n",
      "POS, tag, lemma :NOUN NNS employee\n"
     ]
    }
   ],
   "source": [
    "for i,t in enumerate(test_sents[:3]):\n",
    "    print(str(i))\n",
    "    emp_nouns = [t for t in nlp(t) if t.ent_type_ == 'EMP_NOUN']\n",
    "    for i2, tok in enumerate(emp_nouns):\n",
    "        print(\"Tok \"+str(i2 + 1) + \" of \" + str(len(emp_nouns)))\n",
    "        print(\"Sentence is :\" + str(nlp(t).text))\n",
    "        print(\"Token, dep_, index :\" + str(tok) + \" \" + str(tok.dep_) + \" \" + str(tok.i))\n",
    "        print(\"POS, tag, lemma :\" + str(tok.pos_) + \" \" + str(tok.tag_) + \" \" + str(tok.lemma_))"
   ]
  },
  {
   "cell_type": "code",
   "execution_count": 55,
   "metadata": {
    "ExecuteTime": {
     "end_time": "2018-08-14T01:16:52.707677Z",
     "start_time": "2018-08-14T01:16:52.603610Z"
    },
    "scrolled": false
   },
   "outputs": [
    {
     "name": "stdout",
     "output_type": "stream",
     "text": [
      "0\n",
      "Word_id is : 0\n",
      "Word is : employees\n",
      "Word subtree is :  approximately 61\n",
      "Word children :  [61]\n",
      "Num_toks are: [61]\n",
      "Candidate tok:  61\n",
      "Candidate tok.pos_:   NUM\n",
      "Candidate tok.dep_:   nummod\n",
      "No toks, returning 0.\n",
      "Dep_ of EMP_NOUN is: pobj\n",
      "Root is at 1 steps from employees.\n",
      "Parts found:  (We, are, 61, 'Other Employees', [], employees)\n",
      "[RelationDetails(sent_num=0, word_num=0, subject=We, verb=are, quantity=61, quantity_idx=7, quantity_type='Other Employees', type_token=[], word=employees, word_idx=8, word_dep='pobj', depth=1, sentence='We are a small company with approximately 61 employees.')]\n",
      "1\n",
      "Word_id is : 0\n",
      "Word is : workforce\n",
      "Word subtree is :  \n",
      "Word children :  []\n",
      "No toks, returning 0.\n",
      "Dep_ of EMP_NOUN is: compound\n",
      "years: [(7, 2016)]\n",
      "emp_counts: [(10, 150,500)]\n",
      "order_indices: [0]\n",
      "year_emps: [(2016, 150,500)]\n",
      "Sentence has multiple years:[(7, 2016)]\n",
      "First card subtree is :[approximately, 150,500]\n",
      "years: [(7, 2016)]\n",
      "cards: [150,500]\n",
      "emp_counts: [(10, 150,500)]\n",
      "Root is at 2 steps from workforce.\n",
      "Parts found:  (level, was, 150,500, 'Other Employees', [], workforce)\n",
      "[RelationDetails(sent_num=0, word_num=0, subject=level, verb=was, quantity=150,500, quantity_idx=10, quantity_type='Other Employees', type_token=[], word=workforce, word_idx=1, word_dep='compound', depth=2, sentence='Total workforce level at December 31, 2016 was approximately 150,500.')]\n"
     ]
    }
   ],
   "source": [
    "for i,t in enumerate(test_sents[24:26]):\n",
    "    print(str(i))\n",
    "    print(extract_emp_relations(nlp(t), verbose=True))"
   ]
  },
  {
   "cell_type": "markdown",
   "metadata": {},
   "source": [
    "## Testing with paragraphs"
   ]
  },
  {
   "cell_type": "markdown",
   "metadata": {},
   "source": [
    "acc_id: `0000034088-17-000017`  \n",
    "```\n",
    "\"The number of regular employees was 71.1 thousand, 73.5 thousand, and 75.3 thousand at years ended 2016, 2015 and 2014, respectively. Regular employees are defined as active executive, management, professional, technical and wage employees who work full time or part time for the Corporation and are covered by the Corporation's benefit plans and programs. Regular employees do not include employees of the company‑operated retail sites (CORS). The number of CORS employees was 1.6 thousand, 2.1 thousand, and 8.4 thousand at years ended 2016, 2015 and 2014, respectively. The decrease in CORS employees reflects the multi‑year transition of the company‑operated retail network to a more capital‑efficient Branded Wholesaler model.\"\n",
    "```"
   ]
  },
  {
   "cell_type": "code",
   "execution_count": 56,
   "metadata": {
    "ExecuteTime": {
     "end_time": "2018-08-14T01:17:05.032683Z",
     "start_time": "2018-08-14T01:17:04.985653Z"
    }
   },
   "outputs": [],
   "source": [
    "test_paragraphs = [\"The number of regular employees was 71.1 thousand, 73.5 thousand, and 75.3 thousand at years ended 2016, 2015 and 2014, respectively. Regular employees are defined as active executive, management, professional, technical and wage employees who work full time or part time for the Corporation and are covered by the Corporation's benefit plans and programs. Regular employees do not include employees of the company‑operated retail sites (CORS). The number of CORS employees was 1.6 thousand, 2.1 thousand, and 8.4 thousand at years ended 2016, 2015 and 2014, respectively. The decrease in CORS employees reflects the multi‑year transition of the company‑operated retail network to a more capital‑efficient Branded Wholesaler model.\",\n",
    "                  \"As of December 31, 2016, we had a total of 619 employees, including 565 full-time, 20 regularly scheduled part-time employees, and 34 need-based part-time employees. We consider our current relationship with our employees to be good. Our employees are not represented by labor unions and are not subject to collective bargaining agreements.\", \n",
    "                  \"As of September 30, 2016, we employed approximately 7,300 employees world-wide. Approximately 860 of our employees in Mexico, 450 employees in Singapore, and 200 employees in Japan are covered by collective bargaining and other union agreements.\",\n",
    "                  \"As of December 31, 2016, we employed 2,776 full-time employees, of which 31 held Ph.D. degrees in a science or engineering field. Of our employees, 287 are located in the U.S., 1,218 are located in Taiwan and 1,271 are located in China. None of our employees are represented by any collective bargaining agreement, but certain employees of our China subsidiary are members of a trade union. We have never suffered any work stoppage as a result of an employment related strike or any employee related dispute and believe that we have satisfactory relations with our employees.\", \n",
    "                  \"Our business depends on highly qualified management, operations and flight personnel. As a percentage of our consolidated operating expenses, salaries, wages and benefits accounted for approximately 25.4% in 2016, 20.7% in 2015 and 19.2% in 2014. As of December 31, 2016, we had 2,646 employees, 1,581 of whom were pilots.\", \n",
    "                  \"As of December 31, 2016, we had 699 full-time employees and 202 temporary employees. The breakdown of our full-time employees by department is as follows: 175 direct manufacturing employees and 524 administrative and manufacturing support employees. Of the 524 administrative and manufacturing support employees, 213 were involved in sales, marketing, communications and training. Of the 202 temporary employees, more than 92% worked in direct manufacturing roles. Our employees are not covered by any collective bargaining agreement, and we have never experienced a work stoppage. We believe that our relations with our employees are good.\", \n",
    "                  \"The employee cost at Jaguar Land Rover increased by 17.6% to Rs.228,730 million in Fiscal 2016 from Rs.194,467 million in Fiscal 2015. This increase includes an unfavorable foreign currency translation from GBP to Indian rupees of Rs.546 million. In GBP terms, employee costs at Jaguar Land Rover increased to GBP 2,321 million in Fiscal 2016 from GBP1,977 million in Fiscal 2015. The employee cost at Jaguar Land Rover as a percentage to revenue increased to 10.5% in Fiscal 2016 from 9.0% in Fiscal 2015. Due to consistent increases in volumes and to support new launches and product development projects, Jaguar Land Rover increased its average permanent headcount by 19.6% in Fiscal 2016 to 29,789 employees from 24,902 employees in Fiscal 2015. However, the average temporary headcount was flat at 7,216 employees in Fiscal 2016 from 7,225 employees in Fiscal 2015. Total number of permanent employees as at March 31, 2016 was 30,750, as compared to 27,004 as at March 31, 2015 for Jaguar Land Rover.\"]\n",
    "\n",
    "test_para = nlp(test_paragraphs[0])"
   ]
  },
  {
   "cell_type": "code",
   "execution_count": 57,
   "metadata": {
    "ExecuteTime": {
     "end_time": "2018-08-14T01:17:05.078714Z",
     "start_time": "2018-08-14T01:17:05.034685Z"
    }
   },
   "outputs": [
    {
     "data": {
      "text/plain": [
       "[RelationDetails(sent_num=0, word_num=0, subject=we, verb=had, quantity=699, quantity_idx=9, quantity_type='Full-Time Employees', type_token=[full-time], word=employees, word_idx=11, word_dep='dobj', depth=1, sentence='As of December 31, 2016, we had 699 full-time employees and 202 temporary employees.'),\n",
       " RelationDetails(sent_num=0, word_num=1, subject=we, verb=had, quantity=202, quantity_idx=13, quantity_type='Other Employees', type_token=[temporary], word=employees, word_idx=15, word_dep='conj', depth=1, sentence='As of December 31, 2016, we had 699 full-time employees and 202 temporary employees.'),\n",
       " RelationDetails(sent_num=1, word_num=1, subject=breakdown, verb=is, quantity=175, quantity_idx=29, quantity_type='Other Employees', type_token=[manufacturing], word=employees, word_idx=32, word_dep='dobj', depth=2, sentence='The breakdown of our full-time employees by department is as follows: 175 direct manufacturing employees and 524 administrative and manufacturing support employees.')]"
      ]
     },
     "execution_count": 57,
     "metadata": {},
     "output_type": "execute_result"
    }
   ],
   "source": [
    "extract_emp_relations(nlp(test_paragraphs[5]), verbose=False)"
   ]
  },
  {
   "cell_type": "code",
   "execution_count": 58,
   "metadata": {
    "ExecuteTime": {
     "end_time": "2018-08-14T01:17:13.439498Z",
     "start_time": "2018-08-14T01:17:13.338433Z"
    },
    "scrolled": false
   },
   "outputs": [
    {
     "name": "stdout",
     "output_type": "stream",
     "text": [
      "doc is: \n",
      "As of December 31, 2016, we had 699 full-time employees and 202 temporary employees. The breakdown of our full-time employees by department is as follows: 175 direct manufacturing employees and 524 administrative and manufacturing support employees. Of the 524 administrative and manufacturing support employees, 213 were involved in sales, marketing, communications and training. Of the 202 temporary employees, more than 92% worked in direct manufacturing roles. Our employees are not covered by any collective bargaining agreement, and we have never experienced a work stoppage. We believe that our relations with our employees are good.\n",
      "--------------------------------------------------\n",
      "Entities are: \n"
     ]
    },
    {
     "data": {
      "text/html": [
       "<table border=\"1\" class=\"dataframe\">\n",
       "  <thead>\n",
       "    <tr style=\"text-align: right;\">\n",
       "      <th></th>\n",
       "      <th>tok_i</th>\n",
       "      <th>entity</th>\n",
       "      <th>ent_label</th>\n",
       "      <th>root</th>\n",
       "      <th>root_dep</th>\n",
       "      <th>dep_def</th>\n",
       "      <th>root_head</th>\n",
       "      <th>root_head_dep</th>\n",
       "      <th>root_head_pos</th>\n",
       "    </tr>\n",
       "  </thead>\n",
       "  <tbody>\n",
       "    <tr>\n",
       "      <th>0</th>\n",
       "      <td>2</td>\n",
       "      <td>December 31, 2016</td>\n",
       "      <td>DATE</td>\n",
       "      <td>December</td>\n",
       "      <td>pobj</td>\n",
       "      <td>object of preposition</td>\n",
       "      <td>of</td>\n",
       "      <td>prep</td>\n",
       "      <td>ADP</td>\n",
       "    </tr>\n",
       "    <tr>\n",
       "      <th>1</th>\n",
       "      <td>9</td>\n",
       "      <td>699</td>\n",
       "      <td>CARDINAL</td>\n",
       "      <td>699</td>\n",
       "      <td>nummod</td>\n",
       "      <td>None</td>\n",
       "      <td>employees</td>\n",
       "      <td>dobj</td>\n",
       "      <td>NOUN</td>\n",
       "    </tr>\n",
       "    <tr>\n",
       "      <th>2</th>\n",
       "      <td>10</td>\n",
       "      <td>full-time</td>\n",
       "      <td>FULL_TIME</td>\n",
       "      <td>full-time</td>\n",
       "      <td>compound</td>\n",
       "      <td>None</td>\n",
       "      <td>employees</td>\n",
       "      <td>dobj</td>\n",
       "      <td>NOUN</td>\n",
       "    </tr>\n",
       "    <tr>\n",
       "      <th>3</th>\n",
       "      <td>11</td>\n",
       "      <td>employees</td>\n",
       "      <td>EMP_NOUN</td>\n",
       "      <td>employees</td>\n",
       "      <td>dobj</td>\n",
       "      <td>direct object</td>\n",
       "      <td>had</td>\n",
       "      <td>ROOT</td>\n",
       "      <td>VERB</td>\n",
       "    </tr>\n",
       "    <tr>\n",
       "      <th>4</th>\n",
       "      <td>13</td>\n",
       "      <td>202</td>\n",
       "      <td>CARDINAL</td>\n",
       "      <td>202</td>\n",
       "      <td>nummod</td>\n",
       "      <td>None</td>\n",
       "      <td>employees</td>\n",
       "      <td>conj</td>\n",
       "      <td>NOUN</td>\n",
       "    </tr>\n",
       "    <tr>\n",
       "      <th>5</th>\n",
       "      <td>15</td>\n",
       "      <td>employees</td>\n",
       "      <td>EMP_NOUN</td>\n",
       "      <td>employees</td>\n",
       "      <td>conj</td>\n",
       "      <td>conjunct</td>\n",
       "      <td>employees</td>\n",
       "      <td>dobj</td>\n",
       "      <td>NOUN</td>\n",
       "    </tr>\n",
       "    <tr>\n",
       "      <th>6</th>\n",
       "      <td>21</td>\n",
       "      <td>full-time</td>\n",
       "      <td>FULL_TIME</td>\n",
       "      <td>full-time</td>\n",
       "      <td>compound</td>\n",
       "      <td>None</td>\n",
       "      <td>employees</td>\n",
       "      <td>pobj</td>\n",
       "      <td>NOUN</td>\n",
       "    </tr>\n",
       "    <tr>\n",
       "      <th>7</th>\n",
       "      <td>22</td>\n",
       "      <td>employees</td>\n",
       "      <td>EMP_NOUN</td>\n",
       "      <td>employees</td>\n",
       "      <td>pobj</td>\n",
       "      <td>object of preposition</td>\n",
       "      <td>of</td>\n",
       "      <td>prep</td>\n",
       "      <td>ADP</td>\n",
       "    </tr>\n",
       "    <tr>\n",
       "      <th>8</th>\n",
       "      <td>29</td>\n",
       "      <td>175</td>\n",
       "      <td>CARDINAL</td>\n",
       "      <td>175</td>\n",
       "      <td>nummod</td>\n",
       "      <td>None</td>\n",
       "      <td>employees</td>\n",
       "      <td>dobj</td>\n",
       "      <td>NOUN</td>\n",
       "    </tr>\n",
       "    <tr>\n",
       "      <th>9</th>\n",
       "      <td>32</td>\n",
       "      <td>employees</td>\n",
       "      <td>EMP_NOUN</td>\n",
       "      <td>employees</td>\n",
       "      <td>dobj</td>\n",
       "      <td>direct object</td>\n",
       "      <td>follows</td>\n",
       "      <td>advcl</td>\n",
       "      <td>VERB</td>\n",
       "    </tr>\n",
       "    <tr>\n",
       "      <th>10</th>\n",
       "      <td>34</td>\n",
       "      <td>524</td>\n",
       "      <td>CARDINAL</td>\n",
       "      <td>524</td>\n",
       "      <td>nmod</td>\n",
       "      <td>modifier of nominal</td>\n",
       "      <td>employees</td>\n",
       "      <td>conj</td>\n",
       "      <td>NOUN</td>\n",
       "    </tr>\n",
       "    <tr>\n",
       "      <th>11</th>\n",
       "      <td>39</td>\n",
       "      <td>employees</td>\n",
       "      <td>EMP_NOUN</td>\n",
       "      <td>employees</td>\n",
       "      <td>conj</td>\n",
       "      <td>conjunct</td>\n",
       "      <td>employees</td>\n",
       "      <td>dobj</td>\n",
       "      <td>NOUN</td>\n",
       "    </tr>\n",
       "    <tr>\n",
       "      <th>12</th>\n",
       "      <td>43</td>\n",
       "      <td>524</td>\n",
       "      <td>CARDINAL</td>\n",
       "      <td>524</td>\n",
       "      <td>nummod</td>\n",
       "      <td>None</td>\n",
       "      <td>employees</td>\n",
       "      <td>pobj</td>\n",
       "      <td>NOUN</td>\n",
       "    </tr>\n",
       "    <tr>\n",
       "      <th>13</th>\n",
       "      <td>48</td>\n",
       "      <td>employees</td>\n",
       "      <td>EMP_NOUN</td>\n",
       "      <td>employees</td>\n",
       "      <td>pobj</td>\n",
       "      <td>object of preposition</td>\n",
       "      <td>Of</td>\n",
       "      <td>prep</td>\n",
       "      <td>ADP</td>\n",
       "    </tr>\n",
       "    <tr>\n",
       "      <th>14</th>\n",
       "      <td>50</td>\n",
       "      <td>213</td>\n",
       "      <td>CARDINAL</td>\n",
       "      <td>213</td>\n",
       "      <td>nsubjpass</td>\n",
       "      <td>nominal subject (passive)</td>\n",
       "      <td>involved</td>\n",
       "      <td>ROOT</td>\n",
       "      <td>VERB</td>\n",
       "    </tr>\n",
       "    <tr>\n",
       "      <th>15</th>\n",
       "      <td>64</td>\n",
       "      <td>202</td>\n",
       "      <td>CARDINAL</td>\n",
       "      <td>202</td>\n",
       "      <td>nummod</td>\n",
       "      <td>None</td>\n",
       "      <td>employees</td>\n",
       "      <td>pobj</td>\n",
       "      <td>NOUN</td>\n",
       "    </tr>\n",
       "    <tr>\n",
       "      <th>16</th>\n",
       "      <td>66</td>\n",
       "      <td>employees</td>\n",
       "      <td>EMP_NOUN</td>\n",
       "      <td>employees</td>\n",
       "      <td>pobj</td>\n",
       "      <td>object of preposition</td>\n",
       "      <td>Of</td>\n",
       "      <td>prep</td>\n",
       "      <td>ADP</td>\n",
       "    </tr>\n",
       "    <tr>\n",
       "      <th>17</th>\n",
       "      <td>68</td>\n",
       "      <td>more than 92%</td>\n",
       "      <td>PERCENT</td>\n",
       "      <td>%</td>\n",
       "      <td>nsubj</td>\n",
       "      <td>nominal subject</td>\n",
       "      <td>worked</td>\n",
       "      <td>ROOT</td>\n",
       "      <td>VERB</td>\n",
       "    </tr>\n",
       "    <tr>\n",
       "      <th>18</th>\n",
       "      <td>79</td>\n",
       "      <td>employees</td>\n",
       "      <td>EMP_NOUN</td>\n",
       "      <td>employees</td>\n",
       "      <td>nsubjpass</td>\n",
       "      <td>nominal subject (passive)</td>\n",
       "      <td>covered</td>\n",
       "      <td>ROOT</td>\n",
       "      <td>VERB</td>\n",
       "    </tr>\n",
       "    <tr>\n",
       "      <th>19</th>\n",
       "      <td>105</td>\n",
       "      <td>employees</td>\n",
       "      <td>EMP_NOUN</td>\n",
       "      <td>employees</td>\n",
       "      <td>pobj</td>\n",
       "      <td>object of preposition</td>\n",
       "      <td>with</td>\n",
       "      <td>prep</td>\n",
       "      <td>ADP</td>\n",
       "    </tr>\n",
       "  </tbody>\n",
       "</table>"
      ],
      "text/plain": [
       "<IPython.core.display.HTML object>"
      ]
     },
     "metadata": {},
     "output_type": "display_data"
    },
    {
     "name": "stdout",
     "output_type": "stream",
     "text": [
      "--------------------------------------------------\n",
      "Noun chunks are: \n"
     ]
    },
    {
     "data": {
      "text/html": [
       "<table border=\"1\" class=\"dataframe\">\n",
       "  <thead>\n",
       "    <tr style=\"text-align: right;\">\n",
       "      <th></th>\n",
       "      <th>tok_i</th>\n",
       "      <th>noun_chunk</th>\n",
       "      <th>root</th>\n",
       "      <th>root_ent</th>\n",
       "      <th>root_dep</th>\n",
       "      <th>dep_def</th>\n",
       "      <th>root_head</th>\n",
       "      <th>root_head_dep</th>\n",
       "      <th>root_head_pos</th>\n",
       "    </tr>\n",
       "  </thead>\n",
       "  <tbody>\n",
       "    <tr>\n",
       "      <th>0</th>\n",
       "      <td>2</td>\n",
       "      <td>December</td>\n",
       "      <td>December</td>\n",
       "      <td>DATE</td>\n",
       "      <td>pobj</td>\n",
       "      <td>object of preposition</td>\n",
       "      <td>of</td>\n",
       "      <td>prep</td>\n",
       "      <td>ADP</td>\n",
       "    </tr>\n",
       "    <tr>\n",
       "      <th>1</th>\n",
       "      <td>7</td>\n",
       "      <td>we</td>\n",
       "      <td>we</td>\n",
       "      <td></td>\n",
       "      <td>nsubj</td>\n",
       "      <td>nominal subject</td>\n",
       "      <td>had</td>\n",
       "      <td>ROOT</td>\n",
       "      <td>VERB</td>\n",
       "    </tr>\n",
       "    <tr>\n",
       "      <th>2</th>\n",
       "      <td>9</td>\n",
       "      <td>699 full-time employees</td>\n",
       "      <td>employees</td>\n",
       "      <td>EMP_NOUN</td>\n",
       "      <td>dobj</td>\n",
       "      <td>direct object</td>\n",
       "      <td>had</td>\n",
       "      <td>ROOT</td>\n",
       "      <td>VERB</td>\n",
       "    </tr>\n",
       "    <tr>\n",
       "      <th>3</th>\n",
       "      <td>13</td>\n",
       "      <td>202 temporary employees</td>\n",
       "      <td>employees</td>\n",
       "      <td>EMP_NOUN</td>\n",
       "      <td>conj</td>\n",
       "      <td>conjunct</td>\n",
       "      <td>employees</td>\n",
       "      <td>dobj</td>\n",
       "      <td>NOUN</td>\n",
       "    </tr>\n",
       "    <tr>\n",
       "      <th>4</th>\n",
       "      <td>17</td>\n",
       "      <td>The breakdown</td>\n",
       "      <td>breakdown</td>\n",
       "      <td></td>\n",
       "      <td>nsubj</td>\n",
       "      <td>nominal subject</td>\n",
       "      <td>is</td>\n",
       "      <td>ROOT</td>\n",
       "      <td>VERB</td>\n",
       "    </tr>\n",
       "    <tr>\n",
       "      <th>5</th>\n",
       "      <td>20</td>\n",
       "      <td>our full-time employees</td>\n",
       "      <td>employees</td>\n",
       "      <td>EMP_NOUN</td>\n",
       "      <td>pobj</td>\n",
       "      <td>object of preposition</td>\n",
       "      <td>of</td>\n",
       "      <td>prep</td>\n",
       "      <td>ADP</td>\n",
       "    </tr>\n",
       "    <tr>\n",
       "      <th>6</th>\n",
       "      <td>24</td>\n",
       "      <td>department</td>\n",
       "      <td>department</td>\n",
       "      <td></td>\n",
       "      <td>pobj</td>\n",
       "      <td>object of preposition</td>\n",
       "      <td>by</td>\n",
       "      <td>prep</td>\n",
       "      <td>ADP</td>\n",
       "    </tr>\n",
       "    <tr>\n",
       "      <th>7</th>\n",
       "      <td>29</td>\n",
       "      <td>175 direct manufacturing employees</td>\n",
       "      <td>employees</td>\n",
       "      <td>EMP_NOUN</td>\n",
       "      <td>dobj</td>\n",
       "      <td>direct object</td>\n",
       "      <td>follows</td>\n",
       "      <td>advcl</td>\n",
       "      <td>VERB</td>\n",
       "    </tr>\n",
       "    <tr>\n",
       "      <th>8</th>\n",
       "      <td>34</td>\n",
       "      <td>524 administrative and manufacturing support e...</td>\n",
       "      <td>employees</td>\n",
       "      <td>EMP_NOUN</td>\n",
       "      <td>conj</td>\n",
       "      <td>conjunct</td>\n",
       "      <td>employees</td>\n",
       "      <td>dobj</td>\n",
       "      <td>NOUN</td>\n",
       "    </tr>\n",
       "    <tr>\n",
       "      <th>9</th>\n",
       "      <td>42</td>\n",
       "      <td>the 524 administrative and manufacturing suppo...</td>\n",
       "      <td>employees</td>\n",
       "      <td>EMP_NOUN</td>\n",
       "      <td>pobj</td>\n",
       "      <td>object of preposition</td>\n",
       "      <td>Of</td>\n",
       "      <td>prep</td>\n",
       "      <td>ADP</td>\n",
       "    </tr>\n",
       "    <tr>\n",
       "      <th>10</th>\n",
       "      <td>54</td>\n",
       "      <td>sales</td>\n",
       "      <td>sales</td>\n",
       "      <td></td>\n",
       "      <td>pobj</td>\n",
       "      <td>object of preposition</td>\n",
       "      <td>in</td>\n",
       "      <td>prep</td>\n",
       "      <td>ADP</td>\n",
       "    </tr>\n",
       "    <tr>\n",
       "      <th>11</th>\n",
       "      <td>56</td>\n",
       "      <td>marketing</td>\n",
       "      <td>marketing</td>\n",
       "      <td></td>\n",
       "      <td>conj</td>\n",
       "      <td>conjunct</td>\n",
       "      <td>sales</td>\n",
       "      <td>pobj</td>\n",
       "      <td>NOUN</td>\n",
       "    </tr>\n",
       "    <tr>\n",
       "      <th>12</th>\n",
       "      <td>58</td>\n",
       "      <td>communications</td>\n",
       "      <td>communications</td>\n",
       "      <td></td>\n",
       "      <td>conj</td>\n",
       "      <td>conjunct</td>\n",
       "      <td>marketing</td>\n",
       "      <td>conj</td>\n",
       "      <td>NOUN</td>\n",
       "    </tr>\n",
       "    <tr>\n",
       "      <th>13</th>\n",
       "      <td>60</td>\n",
       "      <td>training</td>\n",
       "      <td>training</td>\n",
       "      <td></td>\n",
       "      <td>conj</td>\n",
       "      <td>conjunct</td>\n",
       "      <td>communications</td>\n",
       "      <td>conj</td>\n",
       "      <td>NOUN</td>\n",
       "    </tr>\n",
       "    <tr>\n",
       "      <th>14</th>\n",
       "      <td>63</td>\n",
       "      <td>the 202 temporary employees</td>\n",
       "      <td>employees</td>\n",
       "      <td>EMP_NOUN</td>\n",
       "      <td>pobj</td>\n",
       "      <td>object of preposition</td>\n",
       "      <td>Of</td>\n",
       "      <td>prep</td>\n",
       "      <td>ADP</td>\n",
       "    </tr>\n",
       "    <tr>\n",
       "      <th>15</th>\n",
       "      <td>74</td>\n",
       "      <td>direct manufacturing roles</td>\n",
       "      <td>roles</td>\n",
       "      <td></td>\n",
       "      <td>pobj</td>\n",
       "      <td>object of preposition</td>\n",
       "      <td>in</td>\n",
       "      <td>prep</td>\n",
       "      <td>ADP</td>\n",
       "    </tr>\n",
       "    <tr>\n",
       "      <th>16</th>\n",
       "      <td>78</td>\n",
       "      <td>Our employees</td>\n",
       "      <td>employees</td>\n",
       "      <td>EMP_NOUN</td>\n",
       "      <td>nsubjpass</td>\n",
       "      <td>nominal subject (passive)</td>\n",
       "      <td>covered</td>\n",
       "      <td>ROOT</td>\n",
       "      <td>VERB</td>\n",
       "    </tr>\n",
       "    <tr>\n",
       "      <th>17</th>\n",
       "      <td>84</td>\n",
       "      <td>any collective bargaining agreement</td>\n",
       "      <td>agreement</td>\n",
       "      <td></td>\n",
       "      <td>pobj</td>\n",
       "      <td>object of preposition</td>\n",
       "      <td>by</td>\n",
       "      <td>agent</td>\n",
       "      <td>ADP</td>\n",
       "    </tr>\n",
       "    <tr>\n",
       "      <th>18</th>\n",
       "      <td>90</td>\n",
       "      <td>we</td>\n",
       "      <td>we</td>\n",
       "      <td></td>\n",
       "      <td>nsubj</td>\n",
       "      <td>nominal subject</td>\n",
       "      <td>experienced</td>\n",
       "      <td>conj</td>\n",
       "      <td>VERB</td>\n",
       "    </tr>\n",
       "    <tr>\n",
       "      <th>19</th>\n",
       "      <td>94</td>\n",
       "      <td>a work stoppage</td>\n",
       "      <td>stoppage</td>\n",
       "      <td></td>\n",
       "      <td>dobj</td>\n",
       "      <td>direct object</td>\n",
       "      <td>experienced</td>\n",
       "      <td>conj</td>\n",
       "      <td>VERB</td>\n",
       "    </tr>\n",
       "    <tr>\n",
       "      <th>20</th>\n",
       "      <td>98</td>\n",
       "      <td>We</td>\n",
       "      <td>We</td>\n",
       "      <td></td>\n",
       "      <td>nsubj</td>\n",
       "      <td>nominal subject</td>\n",
       "      <td>believe</td>\n",
       "      <td>ROOT</td>\n",
       "      <td>VERB</td>\n",
       "    </tr>\n",
       "    <tr>\n",
       "      <th>21</th>\n",
       "      <td>101</td>\n",
       "      <td>our relations</td>\n",
       "      <td>relations</td>\n",
       "      <td></td>\n",
       "      <td>nsubj</td>\n",
       "      <td>nominal subject</td>\n",
       "      <td>are</td>\n",
       "      <td>ccomp</td>\n",
       "      <td>VERB</td>\n",
       "    </tr>\n",
       "    <tr>\n",
       "      <th>22</th>\n",
       "      <td>104</td>\n",
       "      <td>our employees</td>\n",
       "      <td>employees</td>\n",
       "      <td>EMP_NOUN</td>\n",
       "      <td>pobj</td>\n",
       "      <td>object of preposition</td>\n",
       "      <td>with</td>\n",
       "      <td>prep</td>\n",
       "      <td>ADP</td>\n",
       "    </tr>\n",
       "  </tbody>\n",
       "</table>"
      ],
      "text/plain": [
       "<IPython.core.display.HTML object>"
      ]
     },
     "metadata": {},
     "output_type": "display_data"
    },
    {
     "name": "stdout",
     "output_type": "stream",
     "text": [
      "--------------------------------------------------\n",
      "Cardinal entities are: \n"
     ]
    },
    {
     "data": {
      "text/html": [
       "<table border=\"1\" class=\"dataframe\">\n",
       "  <thead>\n",
       "    <tr style=\"text-align: right;\">\n",
       "      <th></th>\n",
       "      <th>tok_ent</th>\n",
       "      <th>toks</th>\n",
       "      <th>lemma</th>\n",
       "      <th>dep</th>\n",
       "      <th>head</th>\n",
       "      <th>h_dep</th>\n",
       "      <th>pos</th>\n",
       "      <th>tag</th>\n",
       "      <th>dep_def</th>\n",
       "      <th>tag_def</th>\n",
       "    </tr>\n",
       "  </thead>\n",
       "  <tbody>\n",
       "    <tr>\n",
       "      <th>0</th>\n",
       "      <td>CARDINAL</td>\n",
       "      <td>699</td>\n",
       "      <td>699</td>\n",
       "      <td>nummod</td>\n",
       "      <td>employees</td>\n",
       "      <td>dobj</td>\n",
       "      <td>NUM</td>\n",
       "      <td>CD</td>\n",
       "      <td>None</td>\n",
       "      <td>cardinal number</td>\n",
       "    </tr>\n",
       "    <tr>\n",
       "      <th>1</th>\n",
       "      <td>CARDINAL</td>\n",
       "      <td>202</td>\n",
       "      <td>202</td>\n",
       "      <td>nummod</td>\n",
       "      <td>employees</td>\n",
       "      <td>conj</td>\n",
       "      <td>NUM</td>\n",
       "      <td>CD</td>\n",
       "      <td>None</td>\n",
       "      <td>cardinal number</td>\n",
       "    </tr>\n",
       "    <tr>\n",
       "      <th>2</th>\n",
       "      <td>CARDINAL</td>\n",
       "      <td>175</td>\n",
       "      <td>175</td>\n",
       "      <td>nummod</td>\n",
       "      <td>employees</td>\n",
       "      <td>dobj</td>\n",
       "      <td>NUM</td>\n",
       "      <td>CD</td>\n",
       "      <td>None</td>\n",
       "      <td>cardinal number</td>\n",
       "    </tr>\n",
       "    <tr>\n",
       "      <th>3</th>\n",
       "      <td>CARDINAL</td>\n",
       "      <td>524</td>\n",
       "      <td>524</td>\n",
       "      <td>nmod</td>\n",
       "      <td>employees</td>\n",
       "      <td>conj</td>\n",
       "      <td>NUM</td>\n",
       "      <td>CD</td>\n",
       "      <td>modifier of nominal</td>\n",
       "      <td>cardinal number</td>\n",
       "    </tr>\n",
       "    <tr>\n",
       "      <th>4</th>\n",
       "      <td>CARDINAL</td>\n",
       "      <td>524</td>\n",
       "      <td>524</td>\n",
       "      <td>nummod</td>\n",
       "      <td>employees</td>\n",
       "      <td>pobj</td>\n",
       "      <td>NUM</td>\n",
       "      <td>CD</td>\n",
       "      <td>None</td>\n",
       "      <td>cardinal number</td>\n",
       "    </tr>\n",
       "    <tr>\n",
       "      <th>5</th>\n",
       "      <td>CARDINAL</td>\n",
       "      <td>213</td>\n",
       "      <td>213</td>\n",
       "      <td>nsubjpass</td>\n",
       "      <td>involved</td>\n",
       "      <td>ROOT</td>\n",
       "      <td>NUM</td>\n",
       "      <td>CD</td>\n",
       "      <td>nominal subject (passive)</td>\n",
       "      <td>cardinal number</td>\n",
       "    </tr>\n",
       "    <tr>\n",
       "      <th>6</th>\n",
       "      <td>CARDINAL</td>\n",
       "      <td>202</td>\n",
       "      <td>202</td>\n",
       "      <td>nummod</td>\n",
       "      <td>employees</td>\n",
       "      <td>pobj</td>\n",
       "      <td>NUM</td>\n",
       "      <td>CD</td>\n",
       "      <td>None</td>\n",
       "      <td>cardinal number</td>\n",
       "    </tr>\n",
       "  </tbody>\n",
       "</table>"
      ],
      "text/plain": [
       "<IPython.core.display.HTML object>"
      ]
     },
     "metadata": {},
     "output_type": "display_data"
    }
   ],
   "source": [
    "hf.print_doc_info(nlp(test_paragraphs[5]))"
   ]
  },
  {
   "cell_type": "code",
   "execution_count": 59,
   "metadata": {
    "ExecuteTime": {
     "end_time": "2018-08-14T01:17:18.515766Z",
     "start_time": "2018-08-14T01:17:18.298622Z"
    },
    "scrolled": true
   },
   "outputs": [
    {
     "name": "stdout",
     "output_type": "stream",
     "text": [
      "Word_id is : 0\n",
      "Word is : headcount\n",
      "Word subtree is :  its average permanent\n",
      "Word children :  [its, average, permanent]\n",
      "Root token lemma not one of ['be', 'employ', 'have']. \n",
      "Root token, lemma are : increased increase\n",
      "[Due, to, consistent, increases, in, volumes, and, to, support, new, launches, and, product, development, projects, ,, Jaguar, Land, Rover, increased, its, average, permanent, headcount, by, 19.6, %, in, Fiscal, 2016, to, 29,789, employees, from, 24,902, employees, in, Fiscal, 2015, .]\n",
      "verb token lemma not one of ['be', 'employ', 'have']. \n",
      "verb token, lemma are : increased increase\n",
      "[Due, to, consistent, increases, in, volumes, and, to, support, new, launches, and, product, development, projects, ,, Jaguar, Land, Rover, increased, its, average, permanent, headcount, by, 19.6, %, in, Fiscal, 2016, to, 29,789, employees, from, 24,902, employees, in, Fiscal, 2015, .]\n",
      "Word_id is : 1\n",
      "Word is : employees\n",
      "Word subtree is :  29,789\n",
      "Word children :  [29,789]\n",
      "Num_toks are: [29,789]\n",
      "Root token lemma not one of ['be', 'employ', 'have']. \n",
      "Root token, lemma are : increased increase\n",
      "[Due, to, consistent, increases, in, volumes, and, to, support, new, launches, and, product, development, projects, ,, Jaguar, Land, Rover, increased, its, average, permanent, headcount, by, 19.6, %, in, Fiscal, 2016, to, 29,789, employees, from, 24,902, employees, in, Fiscal, 2015, .]\n",
      "verb token lemma not one of ['be', 'employ', 'have']. \n",
      "verb token, lemma are : increased increase\n",
      "[Due, to, consistent, increases, in, volumes, and, to, support, new, launches, and, product, development, projects, ,, Jaguar, Land, Rover, increased, its, average, permanent, headcount, by, 19.6, %, in, Fiscal, 2016, to, 29,789, employees, from, 24,902, employees, in, Fiscal, 2015, .]\n",
      "Word_id is : 2\n",
      "Word is : employees\n",
      "Word subtree is :  24,902 employees in Fiscal\n",
      "Word children :  [24,902, in]\n",
      "Num_toks are: [24,902]\n",
      "Root token lemma not one of ['be', 'employ', 'have']. \n",
      "Root token, lemma are : increased increase\n",
      "[Due, to, consistent, increases, in, volumes, and, to, support, new, launches, and, product, development, projects, ,, Jaguar, Land, Rover, increased, its, average, permanent, headcount, by, 19.6, %, in, Fiscal, 2016, to, 29,789, employees, from, 24,902, employees, in, Fiscal, 2015, .]\n",
      "verb token lemma not one of ['be', 'employ', 'have']. \n",
      "verb token, lemma are : increased increase\n",
      "[Due, to, consistent, increases, in, volumes, and, to, support, new, launches, and, product, development, projects, ,, Jaguar, Land, Rover, increased, its, average, permanent, headcount, by, 19.6, %, in, Fiscal, 2016, to, 29,789, employees, from, 24,902, employees, in, Fiscal, 2015, .]\n",
      "Word_id is : 0\n",
      "Word is : headcount\n",
      "Word subtree is :  the average temporary\n",
      "Word children :  [the, average, temporary]\n",
      "Dep_ of EMP_NOUN is: nsubj\n",
      "Word_id is : 1\n",
      "Word is : employees\n",
      "Word subtree is :  7,216 employees in Fiscal\n",
      "Word children :  [7,216, in]\n",
      "Num_toks are: [7,216]\n",
      "Candidate tok:  7,216\n",
      "Candidate tok.pos_:   NUM\n",
      "Candidate tok.dep_:   nummod\n",
      "No toks, returning 0.\n",
      "Dep_ of EMP_NOUN is: pobj\n",
      "Root is at 1 steps from employees.\n",
      "Parts found:  (headcount, was, 7,216, 'Other Employees', [], employees)\n",
      "Word_id is : 2\n",
      "Word is : employees\n",
      "Word subtree is :  7,225 employees in Fiscal\n",
      "Word children :  [7,225, in]\n",
      "Num_toks are: [7,225]\n",
      "Candidate tok:  7,225\n",
      "Candidate tok.pos_:   NUM\n",
      "Candidate tok.dep_:   nummod\n",
      "No toks, returning 0.\n",
      "Dep_ of EMP_NOUN is: pobj\n",
      "Root is at 1 steps from employees.\n",
      "Parts found:  (headcount, was, 7,225, 'Other Employees', [], employees)\n",
      "Word_id is : 0\n",
      "Word is : employees\n",
      "Word subtree is :  permanent\n",
      "Word children :  [permanent]\n",
      "Dep_ of EMP_NOUN is: pobj\n",
      "========================================\n",
      "Length of emp_counts is : 1 while length of years is : 2\n",
      "--------------------\n",
      "The employee cost at Jaguar Land Rover increased by 17.6% to Rs.228,730 million in Fiscal 2016 from Rs.194,467 million in Fiscal 2015. This increase includes an unfavorable foreign currency translation from GBP to Indian rupees of Rs.546 million. In GBP terms, employee costs at Jaguar Land Rover increased to GBP 2,321 million in Fiscal 2016 from GBP1,977 million in Fiscal 2015. The employee cost at Jaguar Land Rover as a percentage to revenue increased to 10.5% in Fiscal 2016 from 9.0% in Fiscal 2015. Due to consistent increases in volumes and to support new launches and product development projects, Jaguar Land Rover increased its average permanent headcount by 19.6% in Fiscal 2016 to 29,789 employees from 24,902 employees in Fiscal 2015. However, the average temporary headcount was flat at 7,216 employees in Fiscal 2016 from 7,225 employees in Fiscal 2015. Total number of permanent employees as at March 31, 2016 was 30,750, as compared to 27,004 as at March 31, 2015 for Jaguar Land Rover.\n",
      "Sentence has multiple years:[(163, 2016), (176, 2015)]\n",
      "First card subtree is :[30,750]\n",
      "years: [(163, 2016), (176, 2015)]\n",
      "cards: [30,750]\n",
      "emp_counts: [(165, 30,750)]\n",
      "Root is at 2 steps from employees.\n",
      "Parts found:  (Total number of permanent employees as at March 31, 2016, was, 30,750, 'Other Employees', [permanent], employees)\n"
     ]
    },
    {
     "data": {
      "text/plain": [
       "[RelationDetails(sent_num=5, word_num=1, subject=headcount, verb=was, quantity=7,216, quantity_idx=141, quantity_type='Other Employees', type_token=[], word=employees, word_idx=142, word_dep='pobj', depth=1, sentence='However, the average temporary headcount was flat at 7,216 employees in Fiscal 2016 from 7,225 employees in Fiscal 2015.'),\n",
       " RelationDetails(sent_num=5, word_num=2, subject=headcount, verb=was, quantity=7,225, quantity_idx=147, quantity_type='Other Employees', type_token=[], word=employees, word_idx=148, word_dep='pobj', depth=1, sentence='However, the average temporary headcount was flat at 7,216 employees in Fiscal 2016 from 7,225 employees in Fiscal 2015.'),\n",
       " RelationDetails(sent_num=6, word_num=0, subject=Total number of permanent employees as at March 31, 2016, verb=was, quantity=30,750, quantity_idx=165, quantity_type='Other Employees', type_token=[permanent], word=employees, word_idx=157, word_dep='pobj', depth=2, sentence='Total number of permanent employees as at March 31, 2016 was 30,750, as compared to 27,004 as at March 31, 2015 for Jaguar Land Rover.')]"
      ]
     },
     "execution_count": 59,
     "metadata": {},
     "output_type": "execute_result"
    }
   ],
   "source": [
    "extract_emp_relations(nlp(test_paragraphs[6]), verbose=True)"
   ]
  },
  {
   "cell_type": "markdown",
   "metadata": {},
   "source": [
    "## Extract information from training paragraphs"
   ]
  },
  {
   "cell_type": "markdown",
   "metadata": {},
   "source": [
    "### Make fact dataframes"
   ]
  },
  {
   "cell_type": "markdown",
   "metadata": {},
   "source": [
    "Train fact df"
   ]
  },
  {
   "cell_type": "code",
   "execution_count": 60,
   "metadata": {
    "ExecuteTime": {
     "end_time": "2018-08-14T01:18:54.424322Z",
     "start_time": "2018-08-14T01:18:54.400307Z"
    }
   },
   "outputs": [
    {
     "name": "stdout",
     "output_type": "stream",
     "text": [
      "(7700, 9)\n"
     ]
    }
   ],
   "source": [
    "print(train_df.shape)\n",
    "#fact_df = make_fact_df(train_df.para_text, extract_emp_relations, df=train_df, verbose=True)\n",
    "#fact_df2 = make_fact_df(train_df.para_text, extract_emp_relations, df=train_df, verbose=True)\n",
    "#fact_df3 = hf.make_fact_df(train_df.para_text, extract_emp_relations, nlp=nlp, df=train_df, verbose=True)\n",
    "fact_df3 = pd.read_csv('../data/fact_df3.csv')"
   ]
  },
  {
   "cell_type": "code",
   "execution_count": 61,
   "metadata": {
    "ExecuteTime": {
     "end_time": "2018-08-14T01:18:59.001412Z",
     "start_time": "2018-08-14T01:18:58.968391Z"
    }
   },
   "outputs": [
    {
     "data": {
      "text/plain": [
       "[61, employees]"
      ]
     },
     "execution_count": 61,
     "metadata": {},
     "output_type": "execute_result"
    }
   ],
   "source": [
    "err_doc = nlp(\"We had 49, 61, and 57 full-time equivalent employees in research and development at December 31, 2016, 2015, and 2014, respectively.\")\n",
    "err_tok = err_doc[4]\n",
    "err_ent = err_doc.ents[1]\n",
    "list(err_doc[2].conjuncts)"
   ]
  },
  {
   "cell_type": "code",
   "execution_count": 62,
   "metadata": {
    "ExecuteTime": {
     "end_time": "2018-08-14T01:19:04.286438Z",
     "start_time": "2018-08-14T01:19:04.277431Z"
    }
   },
   "outputs": [
    {
     "data": {
      "text/plain": [
       "ones        2841\n",
       "thousand       2\n",
       "Name: units, dtype: int64"
      ]
     },
     "execution_count": 62,
     "metadata": {},
     "output_type": "execute_result"
    }
   ],
   "source": [
    "#fact_df = add_units_and_values(fact_df, 'quantity')\n",
    "#fact_df.units.value_counts()\n",
    "\n",
    "#fact_df3 = hf.add_units_and_values(fact_df3, 'quantity'); \n",
    "fact_df3.units.value_counts()"
   ]
  },
  {
   "cell_type": "code",
   "execution_count": 63,
   "metadata": {
    "ExecuteTime": {
     "end_time": "2018-08-14T01:19:06.691183Z",
     "start_time": "2018-08-14T01:19:06.680177Z"
    },
    "scrolled": false
   },
   "outputs": [
    {
     "name": "stdout",
     "output_type": "stream",
     "text": [
      "<class 'pandas.core.frame.DataFrame'>\n",
      "RangeIndex: 2843 entries, 0 to 2842\n",
      "Data columns (total 16 columns):\n",
      "doc_ids          2843 non-null int64\n",
      "sent_num         2843 non-null int64\n",
      "word_num         2843 non-null int64\n",
      "subject          2843 non-null object\n",
      "verb             2843 non-null object\n",
      "quantity         2843 non-null object\n",
      "quantity_idx     2843 non-null int64\n",
      "quantity_type    2843 non-null object\n",
      "type_token       2843 non-null object\n",
      "word             2843 non-null object\n",
      "word_idx         2843 non-null int64\n",
      "word_dep         2843 non-null object\n",
      "depth            2843 non-null int64\n",
      "sentence         2843 non-null object\n",
      "units            2843 non-null object\n",
      "data_value       2843 non-null float64\n",
      "dtypes: float64(1), int64(6), object(9)\n",
      "memory usage: 355.5+ KB\n"
     ]
    }
   ],
   "source": [
    "fact_df3.info()"
   ]
  },
  {
   "cell_type": "markdown",
   "metadata": {},
   "source": [
    "TODO:\n",
    "- Keep track of year \n",
    "- Deal with \", a(n) (in|de)crease of \\d\" clauses"
   ]
  },
  {
   "cell_type": "markdown",
   "metadata": {},
   "source": [
    "Validation fact df"
   ]
  },
  {
   "cell_type": "code",
   "execution_count": 64,
   "metadata": {
    "ExecuteTime": {
     "end_time": "2018-08-14T01:21:29.189870Z",
     "start_time": "2018-08-14T01:19:49.650254Z"
    }
   },
   "outputs": [
    {
     "name": "stdout",
     "output_type": "stream",
     "text": [
      "========================================\n",
      "Length of emp_counts is : 1 while length of years is : 2\n",
      "--------------------\n",
      "As of December 31, 2016, we had approximately 28,300 employees, as compared to approximately 19,200 employees as of December 31, 2015. During 2016, reduction in workforce activities resulted in the severance of approximately 1,950 employees of which approximately 450 employees remained as employees as of December 31, 2016. Approximately 17,900 of our total employees are represented by unions. The number of employees covered by a collective bargaining agreement that expired in 2016, but have been extended and are still effective for 2017, is approximately 600. The number of employees covered by collective bargaining agreements that expire in 2017 is approximately 3,800. We consider our relations with our employees to be good.\n",
      "len of all_rels is: 953\n",
      "len of all_docs is: 953\n",
      "len of doc_id_list is: 953\n"
     ]
    }
   ],
   "source": [
    "fact_df_val = hf.make_fact_df(val_df.para_text, extract_emp_relations, nlp, df=val_df, verbose=True)"
   ]
  },
  {
   "cell_type": "markdown",
   "metadata": {},
   "source": [
    "Create units column"
   ]
  },
  {
   "cell_type": "code",
   "execution_count": 66,
   "metadata": {
    "ExecuteTime": {
     "end_time": "2018-08-14T01:21:53.658988Z",
     "start_time": "2018-08-14T01:21:53.516893Z"
    }
   },
   "outputs": [
    {
     "data": {
      "text/plain": [
       "ones    953\n",
       "Name: units, dtype: int64"
      ]
     },
     "execution_count": 66,
     "metadata": {},
     "output_type": "execute_result"
    }
   ],
   "source": [
    "fact_df_val = hf.add_units_and_values(fact_df_val, 'quantity')\n",
    "\n",
    "fact_df_val.units.value_counts()"
   ]
  },
  {
   "cell_type": "code",
   "execution_count": 67,
   "metadata": {
    "ExecuteTime": {
     "end_time": "2018-08-14T01:22:01.497068Z",
     "start_time": "2018-08-14T01:22:01.487062Z"
    },
    "scrolled": true
   },
   "outputs": [
    {
     "name": "stdout",
     "output_type": "stream",
     "text": [
      "<class 'pandas.core.frame.DataFrame'>\n",
      "RangeIndex: 953 entries, 0 to 952\n",
      "Data columns (total 16 columns):\n",
      "doc_ids          953 non-null int64\n",
      "sent_num         953 non-null int64\n",
      "word_num         953 non-null int64\n",
      "subject          953 non-null object\n",
      "verb             953 non-null object\n",
      "quantity         953 non-null object\n",
      "quantity_idx     953 non-null int64\n",
      "quantity_type    953 non-null object\n",
      "type_token       953 non-null object\n",
      "word             953 non-null object\n",
      "word_idx         953 non-null int64\n",
      "word_dep         953 non-null object\n",
      "depth            953 non-null int64\n",
      "sentence         953 non-null object\n",
      "units            953 non-null object\n",
      "data_value       953 non-null object\n",
      "dtypes: int64(6), object(10)\n",
      "memory usage: 119.2+ KB\n"
     ]
    }
   ],
   "source": [
    "fact_df_val.info()"
   ]
  },
  {
   "cell_type": "markdown",
   "metadata": {},
   "source": [
    "## Classification Scores"
   ]
  },
  {
   "cell_type": "markdown",
   "metadata": {},
   "source": [
    "### Identify tables in labeled data"
   ]
  },
  {
   "cell_type": "markdown",
   "metadata": {},
   "source": [
    "I can eliminate tables from the false negative pool, as table parsing is a separate (and easier) problem. In my labeled data set, tables have a lot of white space."
   ]
  },
  {
   "cell_type": "code",
   "execution_count": 68,
   "metadata": {
    "ExecuteTime": {
     "end_time": "2018-08-14T01:22:06.856001Z",
     "start_time": "2018-08-14T01:22:06.454577Z"
    },
    "code_folding": []
   },
   "outputs": [],
   "source": [
    "labeled_df = pd.read_excel('../data/train_val_employee_count_paragraphs.xlsx')\n",
    "subset_df = pd.read_excel('../data/subset_employee_count_paragraphs.xlsx')\n",
    "\n",
    "train_labeled_df = labeled_df[labeled_df.split == 'train'].copy()\n",
    "val_labeled_df = labeled_df[labeled_df.split == 'val'].copy()\n",
    "#print(train_labeled_df.paragraph_text.apply(lambda x: x.count(' ') / len(x)).to_frame('space_percent').sort_values('space_percent', ascending=False).head(100))\n",
    "\n",
    "val_paragraphs = val_df.loc[:, ['acc_id', 'para_text']].copy().merge(labeled_df.loc[:,['accession_number', 'ticker']].copy().drop_duplicates(), \n",
    "                                          how = 'left', left_on = 'acc_id', right_on = 'accession_number')"
   ]
  },
  {
   "cell_type": "code",
   "execution_count": 69,
   "metadata": {
    "ExecuteTime": {
     "end_time": "2018-08-14T01:22:12.053459Z",
     "start_time": "2018-08-14T01:22:12.030443Z"
    },
    "code_folding": []
   },
   "outputs": [
    {
     "name": "stdout",
     "output_type": "stream",
     "text": [
      "105\n",
      "37\n"
     ]
    }
   ],
   "source": [
    "train_labeled_df.loc[:,'space_percent'] = train_labeled_df.loc[:, 'paragraph_text'].apply(lambda x: x.count(' ') / len(x))\n",
    "\n",
    "val_labeled_df.loc[:,'space_percent'] = val_labeled_df.loc[:, 'paragraph_text'].apply(lambda x: x.count(' ') / len(x))\n",
    "\n",
    "space_bs = train_labeled_df.paragraph_text.apply(lambda x: x.count(' ') / len(x)) > 0.36 \n",
    "space_bs_val = val_labeled_df.paragraph_text.apply(lambda x: x.count(' ') / len(x)) > 0.36 \n",
    "print(sum(space_bs))\n",
    "print(sum(space_bs_val))"
   ]
  },
  {
   "cell_type": "code",
   "execution_count": 70,
   "metadata": {
    "ExecuteTime": {
     "end_time": "2018-08-14T01:22:14.310650Z",
     "start_time": "2018-08-14T01:22:14.302644Z"
    },
    "code_folding": [
     10
    ]
   },
   "outputs": [],
   "source": [
    "def print_row_detail(df=val_paragraphs, header_list = ['ticker', 'accession_number' ], nrow=10, \n",
    "                    detail_list = ['data_key_friendly_name','para_text'],\n",
    "                    sortby=['ticker', 'data_key_friendly_name'], ascending=True):\n",
    "    df_sorted = df.sort_values(sortby, ascending=ascending).copy().reset_index()\n",
    "    nrow = min(len(df), nrow)\n",
    "    for i in range(0, nrow):\n",
    "        for h in header_list:\n",
    "            print('-'*35  + ' ' +  str(df_sorted[h][i]) + ' ' + '-'*35)\n",
    "        for d in detail_list:\n",
    "            print(d + '  :' + str(df_sorted[d][i]))\n",
    "            print('')"
   ]
  },
  {
   "cell_type": "code",
   "execution_count": 71,
   "metadata": {
    "ExecuteTime": {
     "end_time": "2018-08-14T01:22:15.428837Z",
     "start_time": "2018-08-14T01:22:15.390813Z"
    }
   },
   "outputs": [
    {
     "name": "stdout",
     "output_type": "stream",
     "text": [
      "----------------------------------- ADBE -----------------------------------\n",
      "----------------------------------- 0000796343-17-000031 -----------------------------------\n",
      "space_percent  :0.49632892804698975\n",
      "\n",
      "data_key_friendly_name  :Other Employees\n",
      "\n",
      "data_value  :15706.0\n",
      "\n",
      "reported_units  :ones\n",
      "\n",
      "text  :Worldwide employees\n",
      "\n",
      "paragraph_text  :Fiscal Years                                           2016           2015           2014           2013           2012   Operations:   Revenue                             $  5,854,430   $  4,795,511   $  4,147,065   $  4,055,240   $  4,403,677   Gross profit                        $  5,034,522   $  4,051,194   $  3,524,985   $  3,468,683   $  3,919,895   Income before income taxes          $  1,435,138   $    873,781   $    361,376   $    356,141   $  1,118,794   Net income                          $  1,168,782   $    629,551   $    268,395   $    289,985   $    832,775   Net income per share:   Basic                               $       2.35   $       1.26   $       0.54   $       0.58   $       1.68   Diluted                             $       2.32   $       1.24   $       0.53   $       0.56   $       1.66   Shares used to compute basic net   income per share                         498,345        498,764        497,867        501,372        494,731   Shares used to compute diluted net   income per share                         504,299        507,164        508,480        513,476        502,721   Cash dividends declared per common   share                               $          -   $          -   $          -   $          -   $          -   Financial position:^(1)   Cash, cash equivalents and   short-term investments              $  4,761,300   $  3,988,084   $  3,739,491   $  3,173,752   $  3,538,353   Working capital^(2)                 $  3,028,139   $  2,608,336   $  2,107,893   $  2,520,281   $  3,125,314   Total assets                        $ 12,707,114   $ 11,726,472   $ 10,785,829   $ 10,380,298   $ 10,040,229   Debt and capital lease obligations,   non-current                         $  1,902,068   $  1,907,231   $    911,086   $  1,499,297   $  1,496,938   Stockholders' equity                $  7,424,835   $  7,001,580   $  6,775,905   $  6,724,634   $  6,665,182   Additional data:   Worldwide employees                       15,706         13,893         12,499         11,847         11,144\n",
      "\n",
      "----------------------------------- ABB -----------------------------------\n",
      "----------------------------------- 0001104659-17-015892 -----------------------------------\n",
      "space_percent  :0.746031746031746\n",
      "\n",
      "data_key_friendly_name  :Other Employees\n",
      "\n",
      "data_value  :132300.0\n",
      "\n",
      "reported_units  :ones\n",
      "\n",
      "text  :Total\n",
      "\n",
      "paragraph_text  :December 31,                                                                     2016             2015             2014   Europe                                                               61,400           61,600           63,000   The Americas                                                         29,000           30,900           32,200   Asia, Middle East and Africa                                         41,900           43,300           45,200   Total                                                               132,300          135,800          140,400\n",
      "\n"
     ]
    }
   ],
   "source": [
    "print_row_detail(train_labeled_df[space_bs].head(2), detail_list=['space_percent','data_key_friendly_name', 'data_value', 'reported_units', 'text', 'paragraph_text'],\n",
    "                 sortby='space_percent')"
   ]
  },
  {
   "cell_type": "code",
   "execution_count": 72,
   "metadata": {
    "ExecuteTime": {
     "end_time": "2018-08-14T01:22:18.414634Z",
     "start_time": "2018-08-14T01:22:18.374609Z"
    },
    "scrolled": true
   },
   "outputs": [
    {
     "name": "stdout",
     "output_type": "stream",
     "text": [
      "----------------------------------- ANW -----------------------------------\n",
      "----------------------------------- 0000919574-17-004377 -----------------------------------\n",
      "space_percent  :0.5145631067961165\n",
      "\n",
      "data_key_friendly_name  :Other Employees\n",
      "\n",
      "data_value  :379.0\n",
      "\n",
      "reported_units  :ones\n",
      "\n",
      "text  :Shoreside personnel\n",
      "\n",
      "paragraph_text  :Year Ended December 31,                         2016     2015   2014   Shipboard personnel     612      645    646   Shoreside personnel     379      332    314   Total                   991      977    960\n",
      "\n",
      "----------------------------------- AAL -----------------------------------\n",
      "----------------------------------- 0001193125-17-051216 -----------------------------------\n",
      "space_percent  :0.6181384248210023\n",
      "\n",
      "data_key_friendly_name  :Full-Time Employees\n",
      "\n",
      "data_value  :122300.0\n",
      "\n",
      "reported_units  :ones\n",
      "\n",
      "text  :Total\n",
      "\n",
      "paragraph_text  :Mainline Operations   Wholly-owned Regional Carriers    Total   Pilots and Flight Crew Training Instructors               13,400                            3,400     16,800   Flight Attendants                                         24,700                            2,200     26,900   Maintenance personnel                                     14,900                            2,000     16,900   Fleet Service personnel                                   16,600                            3,500     20,100   Passenger Service personnel                               15,900                            7,100     23,000   Administrative and other                                  16,000                            2,600     18,600   Total                                                    101,500                           20,800    122,300\n",
      "\n"
     ]
    }
   ],
   "source": [
    "print_row_detail(val_labeled_df[space_bs_val].head(2), detail_list=['space_percent','data_key_friendly_name', 'data_value', 'reported_units', 'text', 'paragraph_text'],\n",
    "                 sortby='space_percent')"
   ]
  },
  {
   "cell_type": "markdown",
   "metadata": {},
   "source": [
    "### Merge fact_df with train_df"
   ]
  },
  {
   "cell_type": "code",
   "execution_count": 73,
   "metadata": {
    "ExecuteTime": {
     "end_time": "2018-08-14T01:22:34.973378Z",
     "start_time": "2018-08-14T01:22:34.123905Z"
    },
    "scrolled": true
   },
   "outputs": [
    {
     "name": "stdout",
     "output_type": "stream",
     "text": [
      "facts:  (2322, 3)\n",
      "values:  (2311, 2)\n",
      "keys:  (1578, 2)\n",
      "facts3:  (2530, 3)\n",
      "values3:  (2511, 2)\n",
      "keys3:  (1714, 2)\n"
     ]
    }
   ],
   "source": [
    "fact_df = pd.read_csv('../data/fact_df1.csv')\n",
    "train_fact_df = train_df.merge(fact_df, left_index=True, right_on='doc_ids')\n",
    "\n",
    "train_accession_ids = pd.read_csv('../data/train_accession_ids.csv', names=['acc_id']).loc[:,'acc_id'].tolist()\n",
    "\n",
    "negative_ids = [x for x in train_accession_ids if x not in train_labeled_df.accession_number.unique()]\n",
    "\n",
    "train_facts = train_fact_df.loc[:, train_fact_df.columns.intersection(['acc_id', 'data_value', 'quantity_type'])].copy().drop_duplicates()\n",
    "train_facts_values = train_fact_df.loc[:, train_fact_df.columns.intersection(['acc_id', 'data_value'])].copy().drop_duplicates()\n",
    "train_facts_keys = train_fact_df.loc[:, train_fact_df.columns.intersection(['acc_id', 'quantity_type'])].copy().drop_duplicates()\n",
    "train_facts.columns = ['accession_number', 'data_key_friendly_name', 'data_value']\n",
    "train_facts_values.columns = ['accession_number',  'data_value']\n",
    "train_facts_keys.columns = ['accession_number',  'data_key_friendly_name']\n",
    "\n",
    "train_fact_df3 = train_df.merge(fact_df3, left_index=True, right_on='doc_ids')\n",
    "train_facts3 = train_fact_df3.loc[:, train_fact_df3.columns.intersection(['acc_id', 'data_value', 'quantity_type'])].copy().drop_duplicates()\n",
    "train_facts_values3 = train_fact_df3.loc[:, train_fact_df3.columns.intersection(['acc_id', 'data_value'])].copy().drop_duplicates()\n",
    "train_facts_keys3 = train_fact_df3.loc[:, train_fact_df3.columns.intersection(['acc_id', 'quantity_type'])].copy().drop_duplicates()\n",
    "train_facts3.columns = ['accession_number', 'data_key_friendly_name', 'data_value']\n",
    "train_facts_values3.columns = ['accession_number',  'data_value']\n",
    "train_facts_keys3.columns = ['accession_number',  'data_key_friendly_name']\n",
    "\n",
    "\n",
    "print(\"facts: \", train_facts.shape)\n",
    "print(\"values: \", train_facts_values.shape)\n",
    "print(\"keys: \", train_facts_keys.shape)\n",
    "print(\"facts3: \", train_facts3.shape)\n",
    "print(\"values3: \", train_facts_values3.shape)\n",
    "print(\"keys3: \", train_facts_keys3.shape)"
   ]
  },
  {
   "cell_type": "code",
   "execution_count": 15,
   "metadata": {
    "ExecuteTime": {
     "end_time": "2018-08-14T00:06:10.535545Z",
     "start_time": "2018-08-14T00:06:10.440483Z"
    }
   },
   "outputs": [],
   "source": [
    "#fact_df.to_csv(\"../data/fact_df1.csv\", index=False)\n",
    "#fact_df2.to_csv(\"../data/fact_df2.csv\", index=False)\n",
    "#fact_df3.to_csv(\"../data/fact_df3.csv\", index=False)"
   ]
  },
  {
   "cell_type": "code",
   "execution_count": 74,
   "metadata": {
    "ExecuteTime": {
     "end_time": "2018-08-14T01:23:18.875654Z",
     "start_time": "2018-08-14T01:23:18.871651Z"
    }
   },
   "outputs": [
    {
     "data": {
      "text/plain": [
       "1667"
      ]
     },
     "execution_count": 74,
     "metadata": {},
     "output_type": "execute_result"
    }
   ],
   "source": [
    "len(train_accession_ids)"
   ]
  },
  {
   "cell_type": "code",
   "execution_count": 75,
   "metadata": {
    "ExecuteTime": {
     "end_time": "2018-08-14T01:23:18.905672Z",
     "start_time": "2018-08-14T01:23:18.879657Z"
    }
   },
   "outputs": [
    {
     "name": "stdout",
     "output_type": "stream",
     "text": [
      "facts:  (1853, 3)\n",
      "values:  (1852, 2)\n",
      "keys:  (1775, 2)\n"
     ]
    }
   ],
   "source": [
    "labeled_facts = train_labeled_df.loc[~space_bs, ['accession_number', 'data_key_friendly_name', 'data_value']].copy().drop_duplicates()\n",
    "labeled_facts_values = train_labeled_df.loc[~space_bs, ['accession_number', 'data_value']].copy().drop_duplicates()\n",
    "labeled_facts_keys = train_labeled_df.loc[~space_bs, ['accession_number', 'data_key_friendly_name']].copy().drop_duplicates()\n",
    "print(\"facts: \", labeled_facts.shape)\n",
    "print(\"values: \", labeled_facts_values.shape)\n",
    "print(\"keys: \", labeled_facts_keys.shape)"
   ]
  },
  {
   "cell_type": "code",
   "execution_count": 76,
   "metadata": {
    "ExecuteTime": {
     "end_time": "2018-08-14T01:23:29.955808Z",
     "start_time": "2018-08-14T01:23:29.830725Z"
    }
   },
   "outputs": [
    {
     "name": "stdout",
     "output_type": "stream",
     "text": [
      "missed facts:  (549, 3)\n",
      "missed values:  (463, 2)\n",
      "missed keys:  (456, 2)\n",
      "missed facts3:  (416, 3)\n",
      "missed values3:  (331, 2)\n",
      "missed keys3:  (298, 2)\n"
     ]
    }
   ],
   "source": [
    "missed_facts = pd.merge(labeled_facts, train_facts, on=labeled_facts.columns.tolist(), \n",
    "                         how='outer', indicator=True).query(\n",
    "    \"_merge == 'left_only'\").drop('_merge', 1).sort_values('accession_number')\n",
    "missed_facts_values =pd.merge(labeled_facts_values,train_facts_values , on=labeled_facts_values.columns.tolist(), \n",
    "                               how='outer', indicator=True).query(\n",
    "    \"_merge == 'left_only'\").drop('_merge', 1).sort_values('accession_number')\n",
    "missed_facts_keys =pd.merge(labeled_facts_keys, train_facts_keys , on=labeled_facts_keys.columns.tolist(), \n",
    "                             how='outer', indicator=True).query(\n",
    "    \"_merge == 'left_only'\").drop('_merge', 1).sort_values('accession_number')\n",
    "\n",
    "missed_facts3 = pd.merge(labeled_facts, train_facts3, on=labeled_facts.columns.tolist(), \n",
    "                         how='outer', indicator=True).query(\n",
    "    \"_merge == 'left_only'\").drop('_merge', 1).sort_values('accession_number')\n",
    "missed_facts_values3 =pd.merge(labeled_facts_values,train_facts_values3 , on=labeled_facts_values.columns.tolist(), \n",
    "                               how='outer', indicator=True).query(\n",
    "    \"_merge == 'left_only'\").drop('_merge', 1).sort_values('accession_number')\n",
    "missed_facts_keys3 =pd.merge(labeled_facts_keys, train_facts_keys3 , on=labeled_facts_keys.columns.tolist(), \n",
    "                             how='outer', indicator=True).query(\n",
    "    \"_merge == 'left_only'\").drop('_merge', 1).sort_values('accession_number')\n",
    "print(\"missed facts: \", missed_facts.shape)\n",
    "print(\"missed values: \", missed_facts_values.shape)\n",
    "print(\"missed keys: \", missed_facts_keys.shape)\n",
    "\n",
    "print(\"missed facts3: \", missed_facts3.shape)\n",
    "print(\"missed values3: \", missed_facts_values3.shape)\n",
    "print(\"missed keys3: \", missed_facts_keys3.shape)"
   ]
  },
  {
   "cell_type": "code",
   "execution_count": 77,
   "metadata": {
    "ExecuteTime": {
     "end_time": "2018-08-14T01:23:46.817469Z",
     "start_time": "2018-08-14T01:23:46.806463Z"
    },
    "scrolled": true
   },
   "outputs": [
    {
     "data": {
      "text/html": [
       "<div>\n",
       "<style scoped>\n",
       "    .dataframe tbody tr th:only-of-type {\n",
       "        vertical-align: middle;\n",
       "    }\n",
       "\n",
       "    .dataframe tbody tr th {\n",
       "        vertical-align: top;\n",
       "    }\n",
       "\n",
       "    .dataframe thead th {\n",
       "        text-align: right;\n",
       "    }\n",
       "</style>\n",
       "<table border=\"1\" class=\"dataframe\">\n",
       "  <thead>\n",
       "    <tr style=\"text-align: right;\">\n",
       "      <th></th>\n",
       "      <th>accession_number</th>\n",
       "      <th>data_key_friendly_name</th>\n",
       "      <th>data_value</th>\n",
       "    </tr>\n",
       "  </thead>\n",
       "  <tbody>\n",
       "    <tr>\n",
       "      <th>56</th>\n",
       "      <td>0000018498-16-000065</td>\n",
       "      <td>Other Employees</td>\n",
       "      <td>27500.0</td>\n",
       "    </tr>\n",
       "    <tr>\n",
       "      <th>108</th>\n",
       "      <td>0000049071-17-000019</td>\n",
       "      <td>Other Employees</td>\n",
       "      <td>51600.0</td>\n",
       "    </tr>\n",
       "    <tr>\n",
       "      <th>109</th>\n",
       "      <td>0000049754-17-000003</td>\n",
       "      <td>Full-Time Employees</td>\n",
       "      <td>960.0</td>\n",
       "    </tr>\n",
       "    <tr>\n",
       "      <th>128</th>\n",
       "      <td>0000059527-17-000006</td>\n",
       "      <td>Other Employees</td>\n",
       "      <td>50.0</td>\n",
       "    </tr>\n",
       "    <tr>\n",
       "      <th>129</th>\n",
       "      <td>0000059527-17-000006</td>\n",
       "      <td>Other Employees</td>\n",
       "      <td>3.0</td>\n",
       "    </tr>\n",
       "  </tbody>\n",
       "</table>\n",
       "</div>"
      ],
      "text/plain": [
       "         accession_number data_key_friendly_name  data_value\n",
       "56   0000018498-16-000065        Other Employees     27500.0\n",
       "108  0000049071-17-000019        Other Employees     51600.0\n",
       "109  0000049754-17-000003    Full-Time Employees       960.0\n",
       "128  0000059527-17-000006        Other Employees        50.0\n",
       "129  0000059527-17-000006        Other Employees         3.0"
      ]
     },
     "execution_count": 77,
     "metadata": {},
     "output_type": "execute_result"
    }
   ],
   "source": [
    "train_facts3.loc[train_facts3.accession_number.isin(missed_facts3.head(15).accession_number.tolist())]"
   ]
  },
  {
   "cell_type": "code",
   "execution_count": 78,
   "metadata": {
    "ExecuteTime": {
     "end_time": "2018-08-14T01:23:46.830477Z",
     "start_time": "2018-08-14T01:23:46.818468Z"
    },
    "scrolled": true
   },
   "outputs": [
    {
     "data": {
      "text/plain": [
       "Other Employees        218\n",
       "Full-Time Employees    214\n",
       "Part-Time Employees    117\n",
       "Name: data_key_friendly_name, dtype: int64"
      ]
     },
     "execution_count": 78,
     "metadata": {},
     "output_type": "execute_result"
    }
   ],
   "source": [
    "missed_facts.data_key_friendly_name.value_counts()"
   ]
  },
  {
   "cell_type": "code",
   "execution_count": 79,
   "metadata": {
    "ExecuteTime": {
     "end_time": "2018-08-14T01:23:46.845486Z",
     "start_time": "2018-08-14T01:23:46.831478Z"
    },
    "scrolled": true
   },
   "outputs": [
    {
     "data": {
      "text/plain": [
       "Other Employees        234\n",
       "Full-Time Employees    131\n",
       "Part-Time Employees     51\n",
       "Name: data_key_friendly_name, dtype: int64"
      ]
     },
     "execution_count": 79,
     "metadata": {},
     "output_type": "execute_result"
    }
   ],
   "source": [
    "missed_facts3.data_key_friendly_name.value_counts()"
   ]
  },
  {
   "cell_type": "markdown",
   "metadata": {},
   "source": [
    "### Validation fact df"
   ]
  },
  {
   "cell_type": "code",
   "execution_count": 80,
   "metadata": {
    "ExecuteTime": {
     "end_time": "2018-08-14T01:24:00.077970Z",
     "start_time": "2018-08-14T01:23:59.902854Z"
    }
   },
   "outputs": [
    {
     "name": "stdout",
     "output_type": "stream",
     "text": [
      "(881, 3)\n",
      "(873, 2)\n",
      "(593, 2)\n"
     ]
    }
   ],
   "source": [
    "val_fact_df = val_df.merge(fact_df_val, left_index=True, right_on='doc_ids')\n",
    "\n",
    "val_accession_ids = pd.read_csv('../data/val_accession_ids.csv', names=['acc_id'])['acc_id'].tolist()\n",
    "val_negative_ids = [x for x in val_accession_ids if x not in val_labeled_df.accession_number.unique()]\n",
    "\n",
    "val_facts = val_fact_df.loc[:, val_fact_df.columns.intersection(['acc_id', 'quantity_type', 'data_value'])].copy().drop_duplicates()\n",
    "val_facts_values = val_fact_df.loc[:, val_fact_df.columns.intersection(['acc_id', 'data_value'])].copy().drop_duplicates()\n",
    "val_facts_keys = val_fact_df.loc[:, val_fact_df.columns.intersection(['acc_id', 'quantity_type'])].copy().drop_duplicates()\n",
    "val_facts.columns = ['accession_number', 'data_key_friendly_name', 'data_value']\n",
    "val_facts_values.columns = ['accession_number',  'data_value']\n",
    "val_facts_keys.columns = ['accession_number',  'data_key_friendly_name']\n",
    "\n",
    "\n",
    "print(val_facts.shape)\n",
    "print(val_facts_values.shape)\n",
    "print(val_facts_keys.shape)"
   ]
  },
  {
   "cell_type": "code",
   "execution_count": 81,
   "metadata": {
    "ExecuteTime": {
     "end_time": "2018-08-14T01:24:14.265840Z",
     "start_time": "2018-08-14T01:24:14.261833Z"
    }
   },
   "outputs": [
    {
     "data": {
      "text/plain": [
       "555"
      ]
     },
     "execution_count": 81,
     "metadata": {},
     "output_type": "execute_result"
    }
   ],
   "source": [
    "len(val_accession_ids)"
   ]
  },
  {
   "cell_type": "code",
   "execution_count": 82,
   "metadata": {
    "ExecuteTime": {
     "end_time": "2018-08-14T01:24:14.302860Z",
     "start_time": "2018-08-14T01:24:14.274839Z"
    }
   },
   "outputs": [
    {
     "name": "stdout",
     "output_type": "stream",
     "text": [
      "facts:  (630, 3)\n",
      "values:  (627, 2)\n",
      "keys:  (600, 2)\n"
     ]
    }
   ],
   "source": [
    "labeled_facts_val = val_labeled_df.loc[~space_bs_val, ['accession_number', 'data_key_friendly_name', 'data_value']].copy().drop_duplicates()\n",
    "labeled_facts_val_values = val_labeled_df.loc[~space_bs_val, ['accession_number', 'data_value']].copy().drop_duplicates()\n",
    "labeled_facts_val_keys = val_labeled_df.loc[~space_bs_val, ['accession_number', 'data_key_friendly_name']].copy().drop_duplicates()\n",
    "print(\"facts: \", labeled_facts_val.shape)\n",
    "print(\"values: \", labeled_facts_val_values.shape)\n",
    "print(\"keys: \", labeled_facts_val_keys.shape)"
   ]
  },
  {
   "cell_type": "code",
   "execution_count": 83,
   "metadata": {
    "ExecuteTime": {
     "end_time": "2018-08-14T01:24:14.361897Z",
     "start_time": "2018-08-14T01:24:14.303860Z"
    }
   },
   "outputs": [
    {
     "name": "stdout",
     "output_type": "stream",
     "text": [
      "facts:  (147, 3)\n",
      "values:  (115, 2)\n",
      "keys:  (95, 2)\n"
     ]
    }
   ],
   "source": [
    "missed_facts_val = pd.merge(labeled_facts_val, val_facts, on=labeled_facts_val.columns.tolist(), \n",
    "                         how='outer', indicator=True).query(\n",
    "    \"_merge == 'left_only'\").drop('_merge', 1).sort_values('accession_number')\n",
    "missed_facts_val_values =pd.merge(labeled_facts_val_values,val_facts_values , on=labeled_facts_val_values.columns.tolist(), \n",
    "                               how='outer', indicator=True).query(\n",
    "    \"_merge == 'left_only'\").drop('_merge', 1).sort_values('accession_number')\n",
    "missed_facts_val_keys =pd.merge(labeled_facts_val_keys, val_facts_keys , on=labeled_facts_val_keys.columns.tolist(), \n",
    "                             how='outer', indicator=True).query(\n",
    "    \"_merge == 'left_only'\").drop('_merge', 1).sort_values('accession_number')\n",
    "\n",
    "print(\"facts: \", missed_facts_val.shape)\n",
    "print(\"values: \", missed_facts_val_values.shape)\n",
    "print(\"keys: \", missed_facts_val_keys.shape)"
   ]
  },
  {
   "cell_type": "code",
   "execution_count": 84,
   "metadata": {
    "ExecuteTime": {
     "end_time": "2018-08-14T01:24:14.373905Z",
     "start_time": "2018-08-14T01:24:14.362897Z"
    },
    "scrolled": true
   },
   "outputs": [
    {
     "name": "stdout",
     "output_type": "stream",
     "text": [
      "<class 'pandas.core.frame.DataFrame'>\n",
      "Int64Index: 953 entries, 0 to 952\n",
      "Data columns (total 25 columns):\n",
      "acc_id                  953 non-null object\n",
      "para_text               953 non-null object\n",
      "len                     953 non-null int64\n",
      "emp_header              953 non-null bool\n",
      "first_emp_head_block    953 non-null bool\n",
      "para_text_orig          953 non-null object\n",
      "para_tag                953 non-null object\n",
      "split                   953 non-null object\n",
      "label                   953 non-null int64\n",
      "doc_ids                 953 non-null int64\n",
      "sent_num                953 non-null int64\n",
      "word_num                953 non-null int64\n",
      "subject                 953 non-null object\n",
      "verb                    953 non-null object\n",
      "quantity                953 non-null object\n",
      "quantity_idx            953 non-null int64\n",
      "quantity_type           953 non-null object\n",
      "type_token              953 non-null object\n",
      "word                    953 non-null object\n",
      "word_idx                953 non-null int64\n",
      "word_dep                953 non-null object\n",
      "depth                   953 non-null int64\n",
      "sentence                953 non-null object\n",
      "units                   953 non-null object\n",
      "data_value              953 non-null object\n",
      "dtypes: bool(2), int64(8), object(15)\n",
      "memory usage: 180.5+ KB\n"
     ]
    }
   ],
   "source": [
    "val_fact_df.info()"
   ]
  },
  {
   "cell_type": "markdown",
   "metadata": {},
   "source": [
    "### Scores for training set"
   ]
  },
  {
   "cell_type": "code",
   "execution_count": 85,
   "metadata": {
    "ExecuteTime": {
     "end_time": "2018-08-14T01:24:26.243667Z",
     "start_time": "2018-08-14T01:24:25.637907Z"
    }
   },
   "outputs": [
    {
     "data": {
      "text/plain": [
       "151"
      ]
     },
     "execution_count": 85,
     "metadata": {},
     "output_type": "execute_result"
    }
   ],
   "source": [
    "len([x for x in train_labeled_df[~space_bs].accession_number.unique() if x not in train_fact_df3.acc_id.unique()])"
   ]
  },
  {
   "cell_type": "markdown",
   "metadata": {},
   "source": [
    "Current state:"
   ]
  },
  {
   "cell_type": "code",
   "execution_count": 86,
   "metadata": {
    "ExecuteTime": {
     "end_time": "2018-08-14T01:26:37.566211Z",
     "start_time": "2018-08-14T01:26:37.526186Z"
    }
   },
   "outputs": [
    {
     "data": {
      "text/plain": [
       "{'False Negatives': 331,\n",
       " 'False Positives': 968,\n",
       " 'True Negatives': 10,\n",
       " 'True Positives': 1543,\n",
       " 'accuracy': 0.54,\n",
       " 'precision': 0.61,\n",
       " 'recall': 0.82}"
      ]
     },
     "execution_count": 86,
     "metadata": {},
     "output_type": "execute_result"
    }
   ],
   "source": [
    "value_match3 = train_fact_df3[['acc_id', 'data_value']].drop_duplicates().merge(train_labeled_df[['accession_number', 'data_value']].drop_duplicates(), left_on=['acc_id', 'data_value'], \n",
    "                   right_on = ['accession_number', 'data_value']).drop_duplicates()\n",
    "\n",
    "value_match_dict3 = {'True Positives' : value_match3.shape[0], \n",
    "                   'False Positives' : train_fact_df3[['acc_id', 'data_value']].drop_duplicates().shape[0] - value_match3.shape[0], \n",
    "                   'True Negatives' : len([x for x in negative_ids if x not in train_fact_df3.acc_id.unique()]), \n",
    "                   'False Negatives' : missed_facts_values3.shape[0]\n",
    "                  }\n",
    "\n",
    "value_match_dict3['recall'] = round(value_match_dict3['True Positives'] /  (\n",
    "    value_match_dict3['True Positives'] + value_match_dict3['False Negatives']), 2)\n",
    "value_match_dict3['precision'] = round(value_match_dict3['True Positives'] /  (\n",
    "    value_match_dict3['True Positives'] + value_match_dict3['False Positives']), 2)\n",
    "value_match_dict3['accuracy'] = round((value_match_dict3['True Positives'] + value_match_dict3['True Negatives']) /  (\n",
    "    value_match_dict3['True Positives'] + value_match_dict3['True Negatives'] + value_match_dict3['False Positives'] + value_match_dict3['False Negatives']), 2)\n",
    "\n",
    "value_match_dict3"
   ]
  },
  {
   "cell_type": "markdown",
   "metadata": {},
   "source": [
    "Demo day performance, after some corrections to evaluation code:"
   ]
  },
  {
   "cell_type": "code",
   "execution_count": 87,
   "metadata": {
    "ExecuteTime": {
     "end_time": "2018-08-14T01:26:37.606236Z",
     "start_time": "2018-08-14T01:26:37.567211Z"
    }
   },
   "outputs": [
    {
     "data": {
      "text/plain": [
       "{'False Negatives': 463,\n",
       " 'False Positives': 900,\n",
       " 'True Negatives': 10,\n",
       " 'True Positives': 1411,\n",
       " 'accuracy': 0.51,\n",
       " 'precision': 0.61,\n",
       " 'recall': 0.75}"
      ]
     },
     "execution_count": 87,
     "metadata": {},
     "output_type": "execute_result"
    }
   ],
   "source": [
    "value_match = train_fact_df[['acc_id', 'data_value']].drop_duplicates().merge(train_labeled_df[['accession_number', 'data_value']].drop_duplicates(), left_on=['acc_id', 'data_value'], \n",
    "                   right_on = ['accession_number', 'data_value']).drop_duplicates()\n",
    "\n",
    "value_match_dict = {'True Positives' : value_match.shape[0], \n",
    "                   'False Positives' : train_fact_df[['acc_id', 'data_value']].drop_duplicates().shape[0] - value_match.shape[0], \n",
    "                   'True Negatives' : len([x for x in negative_ids if x not in train_fact_df.acc_id.unique()]), \n",
    "                   'False Negatives' : missed_facts_values.shape[0]\n",
    "                  }\n",
    "\n",
    "value_match_dict['recall'] = round(value_match_dict['True Positives'] /  (\n",
    "    value_match_dict['True Positives'] + value_match_dict['False Negatives']), 2)\n",
    "value_match_dict['precision'] = round(value_match_dict['True Positives'] /  (\n",
    "    value_match_dict['True Positives'] + value_match_dict['False Positives']), 2)\n",
    "value_match_dict['accuracy'] = round((value_match_dict['True Positives'] + value_match_dict['True Negatives']) /  (\n",
    "    value_match_dict['True Positives'] + value_match_dict['True Negatives'] + value_match_dict['False Positives'] + value_match_dict['False Negatives']), 2)\n",
    "\n",
    "value_match_dict"
   ]
  },
  {
   "cell_type": "markdown",
   "metadata": {},
   "source": [
    "Current state:"
   ]
  },
  {
   "cell_type": "code",
   "execution_count": 88,
   "metadata": {
    "ExecuteTime": {
     "end_time": "2018-08-14T01:26:37.644262Z",
     "start_time": "2018-08-14T01:26:37.607237Z"
    }
   },
   "outputs": [
    {
     "data": {
      "text/plain": [
       "{'False Negatives': 298,\n",
       " 'False Positives': 192,\n",
       " 'True Negatives': 10,\n",
       " 'True Positives': 1522,\n",
       " 'accuracy': 0.76,\n",
       " 'precision': 0.89,\n",
       " 'recall': 0.84}"
      ]
     },
     "execution_count": 88,
     "metadata": {},
     "output_type": "execute_result"
    }
   ],
   "source": [
    "key_match3 = train_fact_df3[['acc_id', 'quantity_type']].drop_duplicates().merge(train_labeled_df[['accession_number', 'data_key_friendly_name']].drop_duplicates(), left_on=['acc_id', 'quantity_type'], \n",
    "                   right_on = ['accession_number', 'data_key_friendly_name']).drop_duplicates()\n",
    "\n",
    "key_match_dict3 = {'True Positives' : key_match3.shape[0], \n",
    "                   'False Positives' : train_fact_df3[['acc_id', 'quantity_type']].drop_duplicates().shape[0] - key_match3.shape[0], \n",
    "                   'True Negatives' : len([x for x in negative_ids if x not in train_fact_df3.acc_id.unique()]), \n",
    "                   'False Negatives' : missed_facts_keys3.shape[0]\n",
    "                  }\n",
    "\n",
    "key_match_dict3['recall'] = round(key_match_dict3['True Positives'] /  (\n",
    "    key_match_dict3['True Positives'] + key_match_dict3['False Negatives']), 2)\n",
    "key_match_dict3['precision'] = round(key_match_dict3['True Positives'] /  (\n",
    "    key_match_dict3['True Positives'] + key_match_dict3['False Positives']), 2)\n",
    "key_match_dict3['accuracy'] = round((key_match_dict3['True Positives'] + key_match_dict3['True Negatives']) /  (\n",
    "    key_match_dict3['True Positives'] + key_match_dict3['True Negatives'] + key_match_dict3['False Positives'] + key_match_dict3['False Negatives']), 2)\n",
    "\n",
    "key_match_dict3"
   ]
  },
  {
   "cell_type": "markdown",
   "metadata": {},
   "source": [
    "Demo day performance, after some corrections to evaluation code:"
   ]
  },
  {
   "cell_type": "code",
   "execution_count": 89,
   "metadata": {
    "ExecuteTime": {
     "end_time": "2018-08-14T01:26:37.682289Z",
     "start_time": "2018-08-14T01:26:37.645262Z"
    }
   },
   "outputs": [
    {
     "data": {
      "text/plain": [
       "{'False Negatives': 456,\n",
       " 'False Positives': 215,\n",
       " 'True Negatives': 10,\n",
       " 'True Positives': 1363,\n",
       " 'accuracy': 0.67,\n",
       " 'precision': 0.86,\n",
       " 'recall': 0.75}"
      ]
     },
     "execution_count": 89,
     "metadata": {},
     "output_type": "execute_result"
    }
   ],
   "source": [
    "key_match = train_fact_df[['acc_id', 'quantity_type']].drop_duplicates().merge(train_labeled_df[['accession_number', 'data_key_friendly_name']].drop_duplicates(), left_on=['acc_id', 'quantity_type'], \n",
    "                   right_on = ['accession_number', 'data_key_friendly_name']).drop_duplicates()\n",
    "\n",
    "key_match_dict = {'True Positives' : key_match.shape[0], \n",
    "                   'False Positives' : train_fact_df[['acc_id', 'quantity_type']].drop_duplicates().shape[0] - key_match.shape[0], \n",
    "                   'True Negatives' : len([x for x in negative_ids if x not in train_fact_df.acc_id.unique()]), \n",
    "                   'False Negatives' : missed_facts_keys.shape[0]\n",
    "                  }\n",
    "\n",
    "key_match_dict['recall'] = round(key_match_dict['True Positives'] /  (\n",
    "    key_match_dict['True Positives'] + key_match_dict['False Negatives']), 2)\n",
    "key_match_dict['precision'] = round(key_match_dict['True Positives'] /  (\n",
    "    key_match_dict['True Positives'] + key_match_dict['False Positives']), 2)\n",
    "key_match_dict['accuracy'] = round((key_match_dict['True Positives'] + key_match_dict['True Negatives']) /  (\n",
    "    key_match_dict['True Positives'] + key_match_dict['True Negatives'] + key_match_dict['False Positives'] + key_match_dict['False Negatives']), 2)\n",
    "\n",
    "key_match_dict"
   ]
  },
  {
   "cell_type": "markdown",
   "metadata": {},
   "source": [
    "Current state:"
   ]
  },
  {
   "cell_type": "code",
   "execution_count": 90,
   "metadata": {
    "ExecuteTime": {
     "end_time": "2018-08-14T01:26:37.725317Z",
     "start_time": "2018-08-14T01:26:37.683289Z"
    }
   },
   "outputs": [
    {
     "data": {
      "text/plain": [
       "{'False Negatives': 416,\n",
       " 'False Positives': 1073,\n",
       " 'True Negatives': 10,\n",
       " 'True Positives': 1457,\n",
       " 'accuracy': 0.5,\n",
       " 'precision': 0.58,\n",
       " 'recall': 0.78}"
      ]
     },
     "execution_count": 90,
     "metadata": {},
     "output_type": "execute_result"
    }
   ],
   "source": [
    "full_match3 = train_fact_df3[['acc_id', 'data_value', 'quantity_type']].drop_duplicates().merge(train_labeled_df[['accession_number', 'data_value', 'data_key_friendly_name']].drop_duplicates(), \n",
    "                                                           left_on=['acc_id', 'data_value', 'quantity_type'], \n",
    "                   right_on = ['accession_number', 'data_value', 'data_key_friendly_name']).drop_duplicates()\n",
    "\n",
    "full_match_dict3 = {'True Positives' : full_match3.shape[0], \n",
    "                   'False Positives' : train_fact_df3[['acc_id', 'data_value', 'quantity_type']].drop_duplicates().shape[0] - full_match3.shape[0], \n",
    "                   'True Negatives' : len([x for x in negative_ids if x not in train_fact_df3.acc_id.unique()]), \n",
    "                   'False Negatives' : missed_facts3.shape[0]\n",
    "                  }\n",
    "\n",
    "full_match_dict3['recall'] = round(full_match_dict3['True Positives'] /  (\n",
    "    full_match_dict3['True Positives'] + full_match_dict3['False Negatives']), 2)\n",
    "full_match_dict3['precision'] = round(full_match_dict3['True Positives'] /  (\n",
    "    full_match_dict3['True Positives'] + full_match_dict3['False Positives']), 2)\n",
    "full_match_dict3['accuracy'] = round((full_match_dict3['True Positives'] + full_match_dict3['True Negatives']) /  (\n",
    "    full_match_dict3['True Positives'] + full_match_dict3['True Negatives'] + full_match_dict3['False Positives'] + full_match_dict3['False Negatives']), 2)\n",
    "\n",
    "full_match_dict3"
   ]
  },
  {
   "cell_type": "markdown",
   "metadata": {},
   "source": [
    "Demo day performance, after some corrections to evaluation code:"
   ]
  },
  {
   "cell_type": "code",
   "execution_count": 91,
   "metadata": {
    "ExecuteTime": {
     "end_time": "2018-08-14T01:26:37.770346Z",
     "start_time": "2018-08-14T01:26:37.727318Z"
    }
   },
   "outputs": [
    {
     "data": {
      "text/plain": [
       "{'False Negatives': 549,\n",
       " 'False Positives': 999,\n",
       " 'True Negatives': 10,\n",
       " 'True Positives': 1323,\n",
       " 'accuracy': 0.46,\n",
       " 'precision': 0.57,\n",
       " 'recall': 0.71}"
      ]
     },
     "execution_count": 91,
     "metadata": {},
     "output_type": "execute_result"
    }
   ],
   "source": [
    "full_match = train_fact_df[['acc_id', 'data_value', 'quantity_type']].drop_duplicates().merge(train_labeled_df[['accession_number', 'data_value', 'data_key_friendly_name']].drop_duplicates(), \n",
    "                                                           left_on=['acc_id', 'data_value', 'quantity_type'], \n",
    "                   right_on = ['accession_number', 'data_value', 'data_key_friendly_name']).drop_duplicates()\n",
    "\n",
    "full_match_dict = {'True Positives' : full_match.shape[0], \n",
    "                   'False Positives' : train_fact_df[['acc_id', 'data_value', 'quantity_type']].drop_duplicates().shape[0] - full_match.shape[0], \n",
    "                   'True Negatives' : len([x for x in negative_ids if x not in train_fact_df.acc_id.unique()]), \n",
    "                   'False Negatives' : missed_facts.shape[0]\n",
    "                  }\n",
    "\n",
    "full_match_dict['recall'] = round(full_match_dict['True Positives'] /  (\n",
    "    full_match_dict['True Positives'] + full_match_dict['False Negatives']), 2)\n",
    "full_match_dict['precision'] = round(full_match_dict['True Positives'] /  (\n",
    "    full_match_dict['True Positives'] + full_match_dict['False Positives']), 2)\n",
    "full_match_dict['accuracy'] = round((full_match_dict['True Positives'] + full_match_dict['True Negatives']) /  (\n",
    "    full_match_dict['True Positives'] + full_match_dict['True Negatives'] + full_match_dict['False Positives'] + full_match_dict['False Negatives']), 2)\n",
    "\n",
    "full_match_dict"
   ]
  },
  {
   "cell_type": "code",
   "execution_count": 92,
   "metadata": {
    "ExecuteTime": {
     "end_time": "2018-08-14T01:26:37.781354Z",
     "start_time": "2018-08-14T01:26:37.773357Z"
    },
    "scrolled": true
   },
   "outputs": [
    {
     "data": {
      "text/plain": [
       "Other Employees        2030\n",
       "Full-Time Employees     527\n",
       "Part-Time Employees      48\n",
       "Name: quantity_type, dtype: int64"
      ]
     },
     "execution_count": 92,
     "metadata": {},
     "output_type": "execute_result"
    }
   ],
   "source": [
    "train_fact_df.quantity_type.value_counts()"
   ]
  },
  {
   "cell_type": "code",
   "execution_count": 93,
   "metadata": {
    "ExecuteTime": {
     "end_time": "2018-08-14T01:26:37.794365Z",
     "start_time": "2018-08-14T01:26:37.783354Z"
    }
   },
   "outputs": [
    {
     "data": {
      "text/plain": [
       "Other Employees        2019\n",
       "Full-Time Employees     662\n",
       "Part-Time Employees     162\n",
       "Name: quantity_type, dtype: int64"
      ]
     },
     "execution_count": 93,
     "metadata": {},
     "output_type": "execute_result"
    }
   ],
   "source": [
    "train_fact_df3.quantity_type.value_counts()"
   ]
  },
  {
   "cell_type": "code",
   "execution_count": 94,
   "metadata": {
    "ExecuteTime": {
     "end_time": "2018-08-14T01:26:37.808372Z",
     "start_time": "2018-08-14T01:26:37.797364Z"
    },
    "scrolled": true
   },
   "outputs": [
    {
     "data": {
      "text/plain": [
       "Other Employees        1093\n",
       "Full-Time Employees     605\n",
       "Part-Time Employees     155\n",
       "Name: data_key_friendly_name, dtype: int64"
      ]
     },
     "execution_count": 94,
     "metadata": {},
     "output_type": "execute_result"
    }
   ],
   "source": [
    "train_labeled_df[~space_bs].data_key_friendly_name.value_counts()"
   ]
  },
  {
   "cell_type": "markdown",
   "metadata": {},
   "source": [
    "### Scores for validation set"
   ]
  },
  {
   "cell_type": "code",
   "execution_count": 95,
   "metadata": {
    "ExecuteTime": {
     "end_time": "2018-08-14T01:27:00.509675Z",
     "start_time": "2018-08-14T01:27:00.396601Z"
    },
    "scrolled": true
   },
   "outputs": [
    {
     "data": {
      "text/plain": [
       "45"
      ]
     },
     "execution_count": 95,
     "metadata": {},
     "output_type": "execute_result"
    }
   ],
   "source": [
    "len([x for x in val_labeled_df[~space_bs_val].accession_number.unique() if x not in val_fact_df.acc_id.unique()])"
   ]
  },
  {
   "cell_type": "code",
   "execution_count": 96,
   "metadata": {
    "ExecuteTime": {
     "end_time": "2018-08-14T01:27:00.537693Z",
     "start_time": "2018-08-14T01:27:00.510674Z"
    }
   },
   "outputs": [
    {
     "data": {
      "text/plain": [
       "{'False Negatives': 115,\n",
       " 'False Positives': 350,\n",
       " 'True Negatives': 1,\n",
       " 'True Positives': 523,\n",
       " 'accuracy': 0.53,\n",
       " 'precision': 0.6,\n",
       " 'recall': 0.82}"
      ]
     },
     "execution_count": 96,
     "metadata": {},
     "output_type": "execute_result"
    }
   ],
   "source": [
    "value_match_val = val_fact_df[['acc_id', 'data_value']].drop_duplicates().merge(val_labeled_df[['accession_number', 'data_value']].drop_duplicates(), left_on=['acc_id', 'data_value'], \n",
    "                   right_on = ['accession_number', 'data_value']).drop_duplicates()\n",
    "\n",
    "value_match_dict_val = {'True Positives' : value_match_val.shape[0], \n",
    "                   'False Positives' : val_fact_df[['acc_id', 'data_value']].drop_duplicates().shape[0] - value_match_val.shape[0], \n",
    "                   'True Negatives' : len([x for x in val_negative_ids if x not in val_fact_df.acc_id.unique()]), \n",
    "                   'False Negatives' : missed_facts_val_values.shape[0]\n",
    "                  }\n",
    "\n",
    "value_match_dict_val['recall'] = round(value_match_dict_val['True Positives'] /  (\n",
    "    value_match_dict_val['True Positives'] + value_match_dict_val['False Negatives']), 2)\n",
    "value_match_dict_val['precision'] = round(value_match_dict_val['True Positives'] /  (\n",
    "    value_match_dict_val['True Positives'] + value_match_dict_val['False Positives']), 2)\n",
    "value_match_dict_val['accuracy'] = round((value_match_dict_val['True Positives'] + value_match_dict_val['True Negatives']) /  (\n",
    "    value_match_dict_val['True Positives'] + value_match_dict_val['True Negatives'] + value_match_dict_val['False Positives'] + value_match_dict_val['False Negatives']), 2)\n",
    "\n",
    "value_match_dict_val"
   ]
  },
  {
   "cell_type": "code",
   "execution_count": 97,
   "metadata": {
    "ExecuteTime": {
     "end_time": "2018-08-14T01:27:00.563711Z",
     "start_time": "2018-08-14T01:27:00.538694Z"
    }
   },
   "outputs": [
    {
     "data": {
      "text/plain": [
       "{'False Negatives': 95,\n",
       " 'False Positives': 72,\n",
       " 'True Negatives': 1,\n",
       " 'True Positives': 521,\n",
       " 'accuracy': 0.76,\n",
       " 'precision': 0.88,\n",
       " 'recall': 0.85}"
      ]
     },
     "execution_count": 97,
     "metadata": {},
     "output_type": "execute_result"
    }
   ],
   "source": [
    "key_match_val = val_fact_df[['acc_id', 'quantity_type']].drop_duplicates().merge(val_labeled_df[['accession_number', 'data_key_friendly_name']].drop_duplicates(), left_on=['acc_id', 'quantity_type'], \n",
    "                   right_on = ['accession_number', 'data_key_friendly_name']).drop_duplicates()\n",
    "\n",
    "key_match_dict_val = {'True Positives' : key_match_val.shape[0], \n",
    "                   'False Positives' : val_fact_df[['acc_id', 'quantity_type']].drop_duplicates().shape[0] - key_match_val.shape[0], \n",
    "                   'True Negatives' : len([x for x in val_negative_ids if x not in val_fact_df.acc_id.unique()]), \n",
    "                   'False Negatives' : missed_facts_val_keys.shape[0]\n",
    "                  }\n",
    "\n",
    "key_match_dict_val['recall'] = round(key_match_dict_val['True Positives'] /  (\n",
    "    key_match_dict_val['True Positives'] + key_match_dict_val['False Negatives']), 2)\n",
    "key_match_dict_val['precision'] = round(key_match_dict_val['True Positives'] /  (\n",
    "    key_match_dict_val['True Positives'] + key_match_dict_val['False Positives']), 2)\n",
    "key_match_dict_val['accuracy'] = round((key_match_dict_val['True Positives'] + key_match_dict_val['True Negatives']) /  (\n",
    "    key_match_dict_val['True Positives'] + key_match_dict_val['True Negatives'] + key_match_dict_val['False Positives'] + key_match_dict_val['False Negatives']), 2)\n",
    "\n",
    "key_match_dict_val"
   ]
  },
  {
   "cell_type": "code",
   "execution_count": 98,
   "metadata": {
    "ExecuteTime": {
     "end_time": "2018-08-14T01:27:00.593731Z",
     "start_time": "2018-08-14T01:27:00.564720Z"
    }
   },
   "outputs": [
    {
     "data": {
      "text/plain": [
       "{'False Negatives': 147,\n",
       " 'False Positives': 389,\n",
       " 'True Negatives': 1,\n",
       " 'True Positives': 492,\n",
       " 'accuracy': 0.48,\n",
       " 'precision': 0.56,\n",
       " 'recall': 0.77}"
      ]
     },
     "execution_count": 98,
     "metadata": {},
     "output_type": "execute_result"
    }
   ],
   "source": [
    "full_match_val = val_fact_df[['acc_id', 'data_value', 'quantity_type']].drop_duplicates().merge(val_labeled_df[['accession_number', 'data_value', 'data_key_friendly_name']].drop_duplicates(), \n",
    "                                                           left_on=['acc_id', 'data_value', 'quantity_type'], \n",
    "                   right_on = ['accession_number', 'data_value', 'data_key_friendly_name']).drop_duplicates()\n",
    "\n",
    "full_match_dict_val = {'True Positives' : full_match_val.shape[0], \n",
    "                   'False Positives' : val_fact_df[['acc_id', 'data_value', 'quantity_type']].drop_duplicates().shape[0] - full_match_val.shape[0], \n",
    "                   'True Negatives' : len([x for x in val_negative_ids if x not in val_fact_df.acc_id.unique()]), \n",
    "                   'False Negatives' : missed_facts_val.shape[0]\n",
    "                  }\n",
    "\n",
    "full_match_dict_val['recall'] = round(full_match_dict_val['True Positives'] /  (\n",
    "    full_match_dict_val['True Positives'] + full_match_dict_val['False Negatives']), 2)\n",
    "full_match_dict_val['precision'] = round(full_match_dict_val['True Positives'] /  (\n",
    "    full_match_dict_val['True Positives'] + full_match_dict_val['False Positives']), 2)\n",
    "full_match_dict_val['accuracy'] = round((full_match_dict_val['True Positives'] + full_match_dict_val['True Negatives']) /  (\n",
    "    full_match_dict_val['True Positives'] + full_match_dict_val['True Negatives'] + full_match_dict_val['False Positives'] + full_match_dict_val['False Negatives']), 2)\n",
    "\n",
    "full_match_dict_val"
   ]
  },
  {
   "cell_type": "code",
   "execution_count": 99,
   "metadata": {
    "ExecuteTime": {
     "end_time": "2018-08-14T01:27:00.600735Z",
     "start_time": "2018-08-14T01:27:00.594732Z"
    }
   },
   "outputs": [
    {
     "data": {
      "text/plain": [
       "Other Employees        648\n",
       "Full-Time Employees    239\n",
       "Part-Time Employees     66\n",
       "Name: quantity_type, dtype: int64"
      ]
     },
     "execution_count": 99,
     "metadata": {},
     "output_type": "execute_result"
    }
   ],
   "source": [
    "val_fact_df.quantity_type.value_counts()"
   ]
  },
  {
   "cell_type": "code",
   "execution_count": 100,
   "metadata": {
    "ExecuteTime": {
     "end_time": "2018-08-14T01:27:00.614745Z",
     "start_time": "2018-08-14T01:27:00.601735Z"
    },
    "scrolled": true
   },
   "outputs": [
    {
     "data": {
      "text/plain": [
       "Other Employees        364\n",
       "Full-Time Employees    205\n",
       "Part-Time Employees     61\n",
       "Name: data_key_friendly_name, dtype: int64"
      ]
     },
     "execution_count": 100,
     "metadata": {},
     "output_type": "execute_result"
    }
   ],
   "source": [
    "val_labeled_df[~space_bs_val].data_key_friendly_name.value_counts()"
   ]
  },
  {
   "cell_type": "markdown",
   "metadata": {},
   "source": [
    "### Evaluate misses"
   ]
  },
  {
   "cell_type": "code",
   "execution_count": 101,
   "metadata": {
    "ExecuteTime": {
     "end_time": "2018-08-14T01:27:12.840918Z",
     "start_time": "2018-08-14T01:27:12.812900Z"
    }
   },
   "outputs": [
    {
     "name": "stdout",
     "output_type": "stream",
     "text": [
      "<class 'pandas.core.frame.DataFrame'>\n",
      "Int64Index: 54 entries, 57 to 1248\n",
      "Data columns (total 5 columns):\n",
      "acc_id                    54 non-null object\n",
      "data_value                54 non-null float64\n",
      "quantity_type             54 non-null object\n",
      "accession_number          54 non-null object\n",
      "data_key_friendly_name    54 non-null object\n",
      "dtypes: float64(1), object(4)\n",
      "memory usage: 2.5+ KB\n"
     ]
    }
   ],
   "source": [
    "# Matches that were correct in previous code versions but no longer are\n",
    "lost_matches = pd.merge(full_match, full_match3, on=full_match3.columns.tolist(), \n",
    "                         how='outer', indicator=True).query(\n",
    "    \"_merge == 'left_only'\").drop('_merge', 1).sort_values('accession_number')\n",
    "\n",
    "lost_matches.info()"
   ]
  },
  {
   "cell_type": "code",
   "execution_count": 102,
   "metadata": {
    "ExecuteTime": {
     "end_time": "2018-08-14T01:27:16.547299Z",
     "start_time": "2018-08-14T01:27:16.519281Z"
    },
    "scrolled": true
   },
   "outputs": [
    {
     "data": {
      "text/html": [
       "<div>\n",
       "<style scoped>\n",
       "    .dataframe tbody tr th:only-of-type {\n",
       "        vertical-align: middle;\n",
       "    }\n",
       "\n",
       "    .dataframe tbody tr th {\n",
       "        vertical-align: top;\n",
       "    }\n",
       "\n",
       "    .dataframe thead th {\n",
       "        text-align: right;\n",
       "    }\n",
       "</style>\n",
       "<table border=\"1\" class=\"dataframe\">\n",
       "  <thead>\n",
       "    <tr style=\"text-align: right;\">\n",
       "      <th></th>\n",
       "      <th>acc_id</th>\n",
       "      <th>data_value</th>\n",
       "      <th>quantity_type</th>\n",
       "      <th>accession_number</th>\n",
       "      <th>data_key_friendly_name</th>\n",
       "    </tr>\n",
       "  </thead>\n",
       "  <tbody>\n",
       "    <tr>\n",
       "      <th>57</th>\n",
       "      <td>0000049754-17-000003</td>\n",
       "      <td>960.0</td>\n",
       "      <td>Other Employees</td>\n",
       "      <td>0000049754-17-000003</td>\n",
       "      <td>Other Employees</td>\n",
       "    </tr>\n",
       "    <tr>\n",
       "      <th>127</th>\n",
       "      <td>0000105770-17-000011</td>\n",
       "      <td>7300.0</td>\n",
       "      <td>Other Employees</td>\n",
       "      <td>0000105770-17-000011</td>\n",
       "      <td>Other Employees</td>\n",
       "    </tr>\n",
       "    <tr>\n",
       "      <th>187</th>\n",
       "      <td>0000745732-16-000037</td>\n",
       "      <td>77800.0</td>\n",
       "      <td>Other Employees</td>\n",
       "      <td>0000745732-16-000037</td>\n",
       "      <td>Other Employees</td>\n",
       "    </tr>\n",
       "    <tr>\n",
       "      <th>208</th>\n",
       "      <td>0000785161-17-000009</td>\n",
       "      <td>27968.0</td>\n",
       "      <td>Other Employees</td>\n",
       "      <td>0000785161-17-000009</td>\n",
       "      <td>Other Employees</td>\n",
       "    </tr>\n",
       "    <tr>\n",
       "      <th>219</th>\n",
       "      <td>0000799292-17-000004</td>\n",
       "      <td>1138.0</td>\n",
       "      <td>Other Employees</td>\n",
       "      <td>0000799292-17-000004</td>\n",
       "      <td>Other Employees</td>\n",
       "    </tr>\n",
       "    <tr>\n",
       "      <th>271</th>\n",
       "      <td>0000868671-17-000037</td>\n",
       "      <td>2291.0</td>\n",
       "      <td>Other Employees</td>\n",
       "      <td>0000868671-17-000037</td>\n",
       "      <td>Other Employees</td>\n",
       "    </tr>\n",
       "    <tr>\n",
       "      <th>307</th>\n",
       "      <td>0000894081-17-000036</td>\n",
       "      <td>350.0</td>\n",
       "      <td>Other Employees</td>\n",
       "      <td>0000894081-17-000036</td>\n",
       "      <td>Other Employees</td>\n",
       "    </tr>\n",
       "    <tr>\n",
       "      <th>308</th>\n",
       "      <td>0000895419-16-000167</td>\n",
       "      <td>6237.0</td>\n",
       "      <td>Other Employees</td>\n",
       "      <td>0000895419-16-000167</td>\n",
       "      <td>Other Employees</td>\n",
       "    </tr>\n",
       "    <tr>\n",
       "      <th>350</th>\n",
       "      <td>0000919956-17-000013</td>\n",
       "      <td>7400.0</td>\n",
       "      <td>Other Employees</td>\n",
       "      <td>0000919956-17-000013</td>\n",
       "      <td>Other Employees</td>\n",
       "    </tr>\n",
       "    <tr>\n",
       "      <th>359</th>\n",
       "      <td>0000927089-17-000123</td>\n",
       "      <td>1263.0</td>\n",
       "      <td>Other Employees</td>\n",
       "      <td>0000927089-17-000123</td>\n",
       "      <td>Other Employees</td>\n",
       "    </tr>\n",
       "    <tr>\n",
       "      <th>394</th>\n",
       "      <td>0001003297-17-000043</td>\n",
       "      <td>29.0</td>\n",
       "      <td>Other Employees</td>\n",
       "      <td>0001003297-17-000043</td>\n",
       "      <td>Other Employees</td>\n",
       "    </tr>\n",
       "    <tr>\n",
       "      <th>396</th>\n",
       "      <td>0001004434-17-000004</td>\n",
       "      <td>4100.0</td>\n",
       "      <td>Other Employees</td>\n",
       "      <td>0001004434-17-000004</td>\n",
       "      <td>Other Employees</td>\n",
       "    </tr>\n",
       "    <tr>\n",
       "      <th>448</th>\n",
       "      <td>0001047335-17-000042</td>\n",
       "      <td>14450.0</td>\n",
       "      <td>Other Employees</td>\n",
       "      <td>0001047335-17-000042</td>\n",
       "      <td>Other Employees</td>\n",
       "    </tr>\n",
       "    <tr>\n",
       "      <th>467</th>\n",
       "      <td>0001047469-17-000832</td>\n",
       "      <td>209.0</td>\n",
       "      <td>Other Employees</td>\n",
       "      <td>0001047469-17-000832</td>\n",
       "      <td>Other Employees</td>\n",
       "    </tr>\n",
       "    <tr>\n",
       "      <th>529</th>\n",
       "      <td>0001104659-17-013049</td>\n",
       "      <td>1401.0</td>\n",
       "      <td>Other Employees</td>\n",
       "      <td>0001104659-17-013049</td>\n",
       "      <td>Other Employees</td>\n",
       "    </tr>\n",
       "    <tr>\n",
       "      <th>563</th>\n",
       "      <td>0001140361-16-083198</td>\n",
       "      <td>360000.0</td>\n",
       "      <td>Other Employees</td>\n",
       "      <td>0001140361-16-083198</td>\n",
       "      <td>Other Employees</td>\n",
       "    </tr>\n",
       "    <tr>\n",
       "      <th>571</th>\n",
       "      <td>0001140361-17-011579</td>\n",
       "      <td>2197.0</td>\n",
       "      <td>Other Employees</td>\n",
       "      <td>0001140361-17-011579</td>\n",
       "      <td>Other Employees</td>\n",
       "    </tr>\n",
       "    <tr>\n",
       "      <th>573</th>\n",
       "      <td>0001140361-17-024382</td>\n",
       "      <td>3800.0</td>\n",
       "      <td>Other Employees</td>\n",
       "      <td>0001140361-17-024382</td>\n",
       "      <td>Other Employees</td>\n",
       "    </tr>\n",
       "    <tr>\n",
       "      <th>574</th>\n",
       "      <td>0001140859-16-000022</td>\n",
       "      <td>19000.0</td>\n",
       "      <td>Other Employees</td>\n",
       "      <td>0001140859-16-000022</td>\n",
       "      <td>Other Employees</td>\n",
       "    </tr>\n",
       "    <tr>\n",
       "      <th>591</th>\n",
       "      <td>0001144204-17-013512</td>\n",
       "      <td>356.0</td>\n",
       "      <td>Other Employees</td>\n",
       "      <td>0001144204-17-013512</td>\n",
       "      <td>Other Employees</td>\n",
       "    </tr>\n",
       "    <tr>\n",
       "      <th>615</th>\n",
       "      <td>0001159281-17-000010</td>\n",
       "      <td>24500.0</td>\n",
       "      <td>Other Employees</td>\n",
       "      <td>0001159281-17-000010</td>\n",
       "      <td>Other Employees</td>\n",
       "    </tr>\n",
       "    <tr>\n",
       "      <th>629</th>\n",
       "      <td>0001171843-17-001394</td>\n",
       "      <td>135.0</td>\n",
       "      <td>Other Employees</td>\n",
       "      <td>0001171843-17-001394</td>\n",
       "      <td>Other Employees</td>\n",
       "    </tr>\n",
       "    <tr>\n",
       "      <th>633</th>\n",
       "      <td>0001171843-17-003514</td>\n",
       "      <td>2315.0</td>\n",
       "      <td>Other Employees</td>\n",
       "      <td>0001171843-17-003514</td>\n",
       "      <td>Other Employees</td>\n",
       "    </tr>\n",
       "    <tr>\n",
       "      <th>652</th>\n",
       "      <td>0001185185-17-000583</td>\n",
       "      <td>514.0</td>\n",
       "      <td>Other Employees</td>\n",
       "      <td>0001185185-17-000583</td>\n",
       "      <td>Other Employees</td>\n",
       "    </tr>\n",
       "    <tr>\n",
       "      <th>653</th>\n",
       "      <td>0001193125-16-502868</td>\n",
       "      <td>2300.0</td>\n",
       "      <td>Full-Time Employees</td>\n",
       "      <td>0001193125-16-502868</td>\n",
       "      <td>Full-Time Employees</td>\n",
       "    </tr>\n",
       "    <tr>\n",
       "      <th>665</th>\n",
       "      <td>0001193125-16-650267</td>\n",
       "      <td>115000.0</td>\n",
       "      <td>Full-Time Employees</td>\n",
       "      <td>0001193125-16-650267</td>\n",
       "      <td>Full-Time Employees</td>\n",
       "    </tr>\n",
       "    <tr>\n",
       "      <th>728</th>\n",
       "      <td>0001193125-17-065504</td>\n",
       "      <td>18000.0</td>\n",
       "      <td>Other Employees</td>\n",
       "      <td>0001193125-17-065504</td>\n",
       "      <td>Other Employees</td>\n",
       "    </tr>\n",
       "    <tr>\n",
       "      <th>746</th>\n",
       "      <td>0001193125-17-078799</td>\n",
       "      <td>613.0</td>\n",
       "      <td>Other Employees</td>\n",
       "      <td>0001193125-17-078799</td>\n",
       "      <td>Other Employees</td>\n",
       "    </tr>\n",
       "    <tr>\n",
       "      <th>759</th>\n",
       "      <td>0001193125-17-090715</td>\n",
       "      <td>1645.0</td>\n",
       "      <td>Other Employees</td>\n",
       "      <td>0001193125-17-090715</td>\n",
       "      <td>Other Employees</td>\n",
       "    </tr>\n",
       "    <tr>\n",
       "      <th>788</th>\n",
       "      <td>0001213900-17-003009</td>\n",
       "      <td>45.0</td>\n",
       "      <td>Other Employees</td>\n",
       "      <td>0001213900-17-003009</td>\n",
       "      <td>Other Employees</td>\n",
       "    </tr>\n",
       "    <tr>\n",
       "      <th>805</th>\n",
       "      <td>0001274494-17-000006</td>\n",
       "      <td>5400.0</td>\n",
       "      <td>Other Employees</td>\n",
       "      <td>0001274494-17-000006</td>\n",
       "      <td>Other Employees</td>\n",
       "    </tr>\n",
       "    <tr>\n",
       "      <th>843</th>\n",
       "      <td>0001321646-17-000024</td>\n",
       "      <td>1971.0</td>\n",
       "      <td>Other Employees</td>\n",
       "      <td>0001321646-17-000024</td>\n",
       "      <td>Other Employees</td>\n",
       "    </tr>\n",
       "    <tr>\n",
       "      <th>851</th>\n",
       "      <td>0001336920-17-000014</td>\n",
       "      <td>32000.0</td>\n",
       "      <td>Other Employees</td>\n",
       "      <td>0001336920-17-000014</td>\n",
       "      <td>Other Employees</td>\n",
       "    </tr>\n",
       "    <tr>\n",
       "      <th>898</th>\n",
       "      <td>0001402829-17-000009</td>\n",
       "      <td>1100.0</td>\n",
       "      <td>Other Employees</td>\n",
       "      <td>0001402829-17-000009</td>\n",
       "      <td>Other Employees</td>\n",
       "    </tr>\n",
       "    <tr>\n",
       "      <th>899</th>\n",
       "      <td>0001402829-17-000009</td>\n",
       "      <td>1150.0</td>\n",
       "      <td>Other Employees</td>\n",
       "      <td>0001402829-17-000009</td>\n",
       "      <td>Other Employees</td>\n",
       "    </tr>\n",
       "    <tr>\n",
       "      <th>910</th>\n",
       "      <td>0001413329-17-000014</td>\n",
       "      <td>79500.0</td>\n",
       "      <td>Other Employees</td>\n",
       "      <td>0001413329-17-000014</td>\n",
       "      <td>Other Employees</td>\n",
       "    </tr>\n",
       "    <tr>\n",
       "      <th>918</th>\n",
       "      <td>0001421461-17-000007</td>\n",
       "      <td>494.0</td>\n",
       "      <td>Other Employees</td>\n",
       "      <td>0001421461-17-000007</td>\n",
       "      <td>Other Employees</td>\n",
       "    </tr>\n",
       "    <tr>\n",
       "      <th>956</th>\n",
       "      <td>0001437749-17-005788</td>\n",
       "      <td>49.0</td>\n",
       "      <td>Other Employees</td>\n",
       "      <td>0001437749-17-005788</td>\n",
       "      <td>Other Employees</td>\n",
       "    </tr>\n",
       "    <tr>\n",
       "      <th>964</th>\n",
       "      <td>0001464343-17-000007</td>\n",
       "      <td>292.0</td>\n",
       "      <td>Other Employees</td>\n",
       "      <td>0001464343-17-000007</td>\n",
       "      <td>Other Employees</td>\n",
       "    </tr>\n",
       "    <tr>\n",
       "      <th>988</th>\n",
       "      <td>0001493761-17-000011</td>\n",
       "      <td>172.0</td>\n",
       "      <td>Other Employees</td>\n",
       "      <td>0001493761-17-000011</td>\n",
       "      <td>Other Employees</td>\n",
       "    </tr>\n",
       "    <tr>\n",
       "      <th>991</th>\n",
       "      <td>0001498301-16-000157</td>\n",
       "      <td>66000.0</td>\n",
       "      <td>Other Employees</td>\n",
       "      <td>0001498301-16-000157</td>\n",
       "      <td>Other Employees</td>\n",
       "    </tr>\n",
       "    <tr>\n",
       "      <th>1026</th>\n",
       "      <td>0001558370-17-000640</td>\n",
       "      <td>5400.0</td>\n",
       "      <td>Other Employees</td>\n",
       "      <td>0001558370-17-000640</td>\n",
       "      <td>Other Employees</td>\n",
       "    </tr>\n",
       "    <tr>\n",
       "      <th>1047</th>\n",
       "      <td>0001558370-17-001183</td>\n",
       "      <td>1676.0</td>\n",
       "      <td>Other Employees</td>\n",
       "      <td>0001558370-17-001183</td>\n",
       "      <td>Other Employees</td>\n",
       "    </tr>\n",
       "    <tr>\n",
       "      <th>1065</th>\n",
       "      <td>0001558370-17-001846</td>\n",
       "      <td>300.0</td>\n",
       "      <td>Other Employees</td>\n",
       "      <td>0001558370-17-001846</td>\n",
       "      <td>Other Employees</td>\n",
       "    </tr>\n",
       "    <tr>\n",
       "      <th>1066</th>\n",
       "      <td>0001558370-17-001852</td>\n",
       "      <td>2200.0</td>\n",
       "      <td>Other Employees</td>\n",
       "      <td>0001558370-17-001852</td>\n",
       "      <td>Other Employees</td>\n",
       "    </tr>\n",
       "    <tr>\n",
       "      <th>1077</th>\n",
       "      <td>0001564590-16-015660</td>\n",
       "      <td>4600.0</td>\n",
       "      <td>Other Employees</td>\n",
       "      <td>0001564590-16-015660</td>\n",
       "      <td>Other Employees</td>\n",
       "    </tr>\n",
       "    <tr>\n",
       "      <th>1080</th>\n",
       "      <td>0001564590-16-020629</td>\n",
       "      <td>1853.0</td>\n",
       "      <td>Other Employees</td>\n",
       "      <td>0001564590-16-020629</td>\n",
       "      <td>Other Employees</td>\n",
       "    </tr>\n",
       "    <tr>\n",
       "      <th>1090</th>\n",
       "      <td>0001564590-16-029427</td>\n",
       "      <td>785.0</td>\n",
       "      <td>Other Employees</td>\n",
       "      <td>0001564590-16-029427</td>\n",
       "      <td>Other Employees</td>\n",
       "    </tr>\n",
       "    <tr>\n",
       "      <th>1096</th>\n",
       "      <td>0001564590-16-030084</td>\n",
       "      <td>117.0</td>\n",
       "      <td>Other Employees</td>\n",
       "      <td>0001564590-16-030084</td>\n",
       "      <td>Other Employees</td>\n",
       "    </tr>\n",
       "    <tr>\n",
       "      <th>1157</th>\n",
       "      <td>0001564590-17-002860</td>\n",
       "      <td>75325.0</td>\n",
       "      <td>Other Employees</td>\n",
       "      <td>0001564590-17-002860</td>\n",
       "      <td>Other Employees</td>\n",
       "    </tr>\n",
       "    <tr>\n",
       "      <th>1173</th>\n",
       "      <td>0001564590-17-003144</td>\n",
       "      <td>50.0</td>\n",
       "      <td>Other Employees</td>\n",
       "      <td>0001564590-17-003144</td>\n",
       "      <td>Other Employees</td>\n",
       "    </tr>\n",
       "    <tr>\n",
       "      <th>1207</th>\n",
       "      <td>0001564590-17-006448</td>\n",
       "      <td>14100.0</td>\n",
       "      <td>Other Employees</td>\n",
       "      <td>0001564590-17-006448</td>\n",
       "      <td>Other Employees</td>\n",
       "    </tr>\n",
       "    <tr>\n",
       "      <th>1214</th>\n",
       "      <td>0001567619-17-000463</td>\n",
       "      <td>20.0</td>\n",
       "      <td>Other Employees</td>\n",
       "      <td>0001567619-17-000463</td>\n",
       "      <td>Other Employees</td>\n",
       "    </tr>\n",
       "    <tr>\n",
       "      <th>1248</th>\n",
       "      <td>0001607962-17-000006</td>\n",
       "      <td>94.0</td>\n",
       "      <td>Other Employees</td>\n",
       "      <td>0001607962-17-000006</td>\n",
       "      <td>Other Employees</td>\n",
       "    </tr>\n",
       "  </tbody>\n",
       "</table>\n",
       "</div>"
      ],
      "text/plain": [
       "                    acc_id  data_value        quantity_type  \\\n",
       "57    0000049754-17-000003       960.0      Other Employees   \n",
       "127   0000105770-17-000011      7300.0      Other Employees   \n",
       "187   0000745732-16-000037     77800.0      Other Employees   \n",
       "208   0000785161-17-000009     27968.0      Other Employees   \n",
       "219   0000799292-17-000004      1138.0      Other Employees   \n",
       "271   0000868671-17-000037      2291.0      Other Employees   \n",
       "307   0000894081-17-000036       350.0      Other Employees   \n",
       "308   0000895419-16-000167      6237.0      Other Employees   \n",
       "350   0000919956-17-000013      7400.0      Other Employees   \n",
       "359   0000927089-17-000123      1263.0      Other Employees   \n",
       "394   0001003297-17-000043        29.0      Other Employees   \n",
       "396   0001004434-17-000004      4100.0      Other Employees   \n",
       "448   0001047335-17-000042     14450.0      Other Employees   \n",
       "467   0001047469-17-000832       209.0      Other Employees   \n",
       "529   0001104659-17-013049      1401.0      Other Employees   \n",
       "563   0001140361-16-083198    360000.0      Other Employees   \n",
       "571   0001140361-17-011579      2197.0      Other Employees   \n",
       "573   0001140361-17-024382      3800.0      Other Employees   \n",
       "574   0001140859-16-000022     19000.0      Other Employees   \n",
       "591   0001144204-17-013512       356.0      Other Employees   \n",
       "615   0001159281-17-000010     24500.0      Other Employees   \n",
       "629   0001171843-17-001394       135.0      Other Employees   \n",
       "633   0001171843-17-003514      2315.0      Other Employees   \n",
       "652   0001185185-17-000583       514.0      Other Employees   \n",
       "653   0001193125-16-502868      2300.0  Full-Time Employees   \n",
       "665   0001193125-16-650267    115000.0  Full-Time Employees   \n",
       "728   0001193125-17-065504     18000.0      Other Employees   \n",
       "746   0001193125-17-078799       613.0      Other Employees   \n",
       "759   0001193125-17-090715      1645.0      Other Employees   \n",
       "788   0001213900-17-003009        45.0      Other Employees   \n",
       "805   0001274494-17-000006      5400.0      Other Employees   \n",
       "843   0001321646-17-000024      1971.0      Other Employees   \n",
       "851   0001336920-17-000014     32000.0      Other Employees   \n",
       "898   0001402829-17-000009      1100.0      Other Employees   \n",
       "899   0001402829-17-000009      1150.0      Other Employees   \n",
       "910   0001413329-17-000014     79500.0      Other Employees   \n",
       "918   0001421461-17-000007       494.0      Other Employees   \n",
       "956   0001437749-17-005788        49.0      Other Employees   \n",
       "964   0001464343-17-000007       292.0      Other Employees   \n",
       "988   0001493761-17-000011       172.0      Other Employees   \n",
       "991   0001498301-16-000157     66000.0      Other Employees   \n",
       "1026  0001558370-17-000640      5400.0      Other Employees   \n",
       "1047  0001558370-17-001183      1676.0      Other Employees   \n",
       "1065  0001558370-17-001846       300.0      Other Employees   \n",
       "1066  0001558370-17-001852      2200.0      Other Employees   \n",
       "1077  0001564590-16-015660      4600.0      Other Employees   \n",
       "1080  0001564590-16-020629      1853.0      Other Employees   \n",
       "1090  0001564590-16-029427       785.0      Other Employees   \n",
       "1096  0001564590-16-030084       117.0      Other Employees   \n",
       "1157  0001564590-17-002860     75325.0      Other Employees   \n",
       "1173  0001564590-17-003144        50.0      Other Employees   \n",
       "1207  0001564590-17-006448     14100.0      Other Employees   \n",
       "1214  0001567619-17-000463        20.0      Other Employees   \n",
       "1248  0001607962-17-000006        94.0      Other Employees   \n",
       "\n",
       "          accession_number data_key_friendly_name  \n",
       "57    0000049754-17-000003        Other Employees  \n",
       "127   0000105770-17-000011        Other Employees  \n",
       "187   0000745732-16-000037        Other Employees  \n",
       "208   0000785161-17-000009        Other Employees  \n",
       "219   0000799292-17-000004        Other Employees  \n",
       "271   0000868671-17-000037        Other Employees  \n",
       "307   0000894081-17-000036        Other Employees  \n",
       "308   0000895419-16-000167        Other Employees  \n",
       "350   0000919956-17-000013        Other Employees  \n",
       "359   0000927089-17-000123        Other Employees  \n",
       "394   0001003297-17-000043        Other Employees  \n",
       "396   0001004434-17-000004        Other Employees  \n",
       "448   0001047335-17-000042        Other Employees  \n",
       "467   0001047469-17-000832        Other Employees  \n",
       "529   0001104659-17-013049        Other Employees  \n",
       "563   0001140361-16-083198        Other Employees  \n",
       "571   0001140361-17-011579        Other Employees  \n",
       "573   0001140361-17-024382        Other Employees  \n",
       "574   0001140859-16-000022        Other Employees  \n",
       "591   0001144204-17-013512        Other Employees  \n",
       "615   0001159281-17-000010        Other Employees  \n",
       "629   0001171843-17-001394        Other Employees  \n",
       "633   0001171843-17-003514        Other Employees  \n",
       "652   0001185185-17-000583        Other Employees  \n",
       "653   0001193125-16-502868    Full-Time Employees  \n",
       "665   0001193125-16-650267    Full-Time Employees  \n",
       "728   0001193125-17-065504        Other Employees  \n",
       "746   0001193125-17-078799        Other Employees  \n",
       "759   0001193125-17-090715        Other Employees  \n",
       "788   0001213900-17-003009        Other Employees  \n",
       "805   0001274494-17-000006        Other Employees  \n",
       "843   0001321646-17-000024        Other Employees  \n",
       "851   0001336920-17-000014        Other Employees  \n",
       "898   0001402829-17-000009        Other Employees  \n",
       "899   0001402829-17-000009        Other Employees  \n",
       "910   0001413329-17-000014        Other Employees  \n",
       "918   0001421461-17-000007        Other Employees  \n",
       "956   0001437749-17-005788        Other Employees  \n",
       "964   0001464343-17-000007        Other Employees  \n",
       "988   0001493761-17-000011        Other Employees  \n",
       "991   0001498301-16-000157        Other Employees  \n",
       "1026  0001558370-17-000640        Other Employees  \n",
       "1047  0001558370-17-001183        Other Employees  \n",
       "1065  0001558370-17-001846        Other Employees  \n",
       "1066  0001558370-17-001852        Other Employees  \n",
       "1077  0001564590-16-015660        Other Employees  \n",
       "1080  0001564590-16-020629        Other Employees  \n",
       "1090  0001564590-16-029427        Other Employees  \n",
       "1096  0001564590-16-030084        Other Employees  \n",
       "1157  0001564590-17-002860        Other Employees  \n",
       "1173  0001564590-17-003144        Other Employees  \n",
       "1207  0001564590-17-006448        Other Employees  \n",
       "1214  0001567619-17-000463        Other Employees  \n",
       "1248  0001607962-17-000006        Other Employees  "
      ]
     },
     "execution_count": 102,
     "metadata": {},
     "output_type": "execute_result"
    }
   ],
   "source": [
    "lost_matches"
   ]
  },
  {
   "cell_type": "code",
   "execution_count": 103,
   "metadata": {
    "ExecuteTime": {
     "end_time": "2018-08-14T01:27:21.362649Z",
     "start_time": "2018-08-14T01:27:21.228561Z"
    }
   },
   "outputs": [
    {
     "name": "stdout",
     "output_type": "stream",
     "text": [
      "----------------------------------- 0000049754-17-000003 -----------------------------------\n",
      "----------------------------------- 0 -----------------------------------\n",
      "----------------------------------- 0 -----------------------------------\n",
      "quantity_type  :Full-Time Employees\n",
      "\n",
      "type_token  :[full-time]\n",
      "\n",
      "data_value  :960.0\n",
      "\n",
      "para_text  :At December 31, 2016, we had approximately 960 employees, of whom approximately 500 were full-time, non-restaurant, corporate personnel. Our employees are not presently represented by any collective bargaining agreements and we have never experienced a work stoppage. We believe our relations with employees are good. Our franchisees are independent business owners and their employees are not our employees. Therefore, their employees are not included in our employee count.\n",
      "\n",
      "----------------------------------- 0000105770-17-000011 -----------------------------------\n",
      "----------------------------------- 0 -----------------------------------\n",
      "----------------------------------- 0 -----------------------------------\n",
      "quantity_type  :Full-Time Employees\n",
      "\n",
      "type_token  :[full-time]\n",
      "\n",
      "data_value  :7300.0\n",
      "\n",
      "para_text  :As of December 31, 2016, we employed approximately 7,300 people in our operations throughout the world, including approximately 7,100 full-time employees.\n",
      "\n",
      "----------------------------------- 0000105770-17-000011 -----------------------------------\n",
      "----------------------------------- 0 -----------------------------------\n",
      "----------------------------------- 1 -----------------------------------\n",
      "quantity_type  :Full-Time Employees\n",
      "\n",
      "type_token  :[full-time]\n",
      "\n",
      "data_value  :7100.0\n",
      "\n",
      "para_text  :As of December 31, 2016, we employed approximately 7,300 people in our operations throughout the world, including approximately 7,100 full-time employees.\n",
      "\n",
      "----------------------------------- 0000745732-16-000037 -----------------------------------\n",
      "----------------------------------- 0 -----------------------------------\n",
      "----------------------------------- 0 -----------------------------------\n",
      "quantity_type  :Part-Time Employees\n",
      "\n",
      "type_token  :[part-time]\n",
      "\n",
      "data_value  :77800.0\n",
      "\n",
      "para_text  :As of January 30, 2016, we had approximately 77,800 total employees, which includes both full and part-time employees. Additionally, we hire temporary employees especially during the peak seasons. Our employees are non-union. Management considers the relationship between the Company and our employees to be good.\n",
      "\n",
      "----------------------------------- 0000785161-17-000009 -----------------------------------\n",
      "----------------------------------- 0 -----------------------------------\n",
      "----------------------------------- 0 -----------------------------------\n",
      "quantity_type  :Full-Time Employees\n",
      "\n",
      "type_token  :[full-time]\n",
      "\n",
      "data_value  :27968.0\n",
      "\n",
      "para_text  :As of December 31, 2016, we employed approximately 27,968 individuals, of whom approximately 17,187 were full-time employees, in our inpatient rehabilitation business and approximately 7,742 individuals, of whom approximately 5,698 were full-time employees, in the Encompass home health and hospice business. We are subject to various state and federal laws that regulate wages, hours, benefits, and other terms and conditions relating to employment. Except for approximately 63 employees at one hospital (about 17% of that hospital's workforce), none of our employees are represented by a labor union as of December 31, 2016. Like most healthcare providers, our labor costs are rising faster than the general inflation rate. In some markets, the lack of availability of medical personnel is a significant operating issue facing healthcare providers. To address this\n",
      "\n",
      "----------------------------------- 0000785161-17-000009 -----------------------------------\n",
      "----------------------------------- 0 -----------------------------------\n",
      "----------------------------------- 2 -----------------------------------\n",
      "quantity_type  :Other Employees\n",
      "\n",
      "type_token  :[]\n",
      "\n",
      "data_value  :7742.0\n",
      "\n",
      "para_text  :As of December 31, 2016, we employed approximately 27,968 individuals, of whom approximately 17,187 were full-time employees, in our inpatient rehabilitation business and approximately 7,742 individuals, of whom approximately 5,698 were full-time employees, in the Encompass home health and hospice business. We are subject to various state and federal laws that regulate wages, hours, benefits, and other terms and conditions relating to employment. Except for approximately 63 employees at one hospital (about 17% of that hospital's workforce), none of our employees are represented by a labor union as of December 31, 2016. Like most healthcare providers, our labor costs are rising faster than the general inflation rate. In some markets, the lack of availability of medical personnel is a significant operating issue facing healthcare providers. To address this\n",
      "\n",
      "----------------------------------- 0000785161-17-000009 -----------------------------------\n",
      "----------------------------------- 0 -----------------------------------\n",
      "----------------------------------- 3 -----------------------------------\n",
      "quantity_type  :Full-Time Employees\n",
      "\n",
      "type_token  :[full-time]\n",
      "\n",
      "data_value  :5698.0\n",
      "\n",
      "para_text  :As of December 31, 2016, we employed approximately 27,968 individuals, of whom approximately 17,187 were full-time employees, in our inpatient rehabilitation business and approximately 7,742 individuals, of whom approximately 5,698 were full-time employees, in the Encompass home health and hospice business. We are subject to various state and federal laws that regulate wages, hours, benefits, and other terms and conditions relating to employment. Except for approximately 63 employees at one hospital (about 17% of that hospital's workforce), none of our employees are represented by a labor union as of December 31, 2016. Like most healthcare providers, our labor costs are rising faster than the general inflation rate. In some markets, the lack of availability of medical personnel is a significant operating issue facing healthcare providers. To address this\n",
      "\n",
      "----------------------------------- 0000799292-17-000004 -----------------------------------\n",
      "----------------------------------- 0 -----------------------------------\n",
      "----------------------------------- 0 -----------------------------------\n",
      "quantity_type  :Part-Time Employees\n",
      "\n",
      "type_token  :[part-time]\n",
      "\n",
      "data_value  :1138.0\n",
      "\n",
      "para_text  :At December 31, 2016, we employed 1,138 people (including part-time employees), of which 912 were employed in homebuilding operations, 133 were employed in financial services and 93 were employed in management and administrative services. No employees are represented by a collective bargaining agreement.\n",
      "\n",
      "----------------------------------- 0000868671-17-000037 -----------------------------------\n",
      "----------------------------------- 0 -----------------------------------\n",
      "----------------------------------- 0 -----------------------------------\n",
      "quantity_type  :Full-Time Employees\n",
      "\n",
      "type_token  :[full time]\n",
      "\n",
      "data_value  :2291.0\n",
      "\n",
      "para_text  :As of December 31, 2016, the Company and the Bank employed 2,291 persons, 2,099 of whom were employed full time and none of whom were represented by a collective bargaining group. The Company and the Bank provide their qualifying employees with a comprehensive benefit program, including health, dental and vision insurance, life and accident insurance, long-term disability coverage, vacation and sick leave, 401(k) plan, profit sharing plan, stock-based compensation plan, deferred compensation plans, and a supplemental executive retirement plan. The Company considers its employee relations to be excellent. See Note 13 in the Consolidated Financial Statements in \"Item 8. Financial Statements and Supplementary Data\" for detailed information regarding employee benefit plans and eligibility requirements.\n",
      "\n",
      "----------------------------------- 0000894081-17-000036 -----------------------------------\n",
      "----------------------------------- 0 -----------------------------------\n",
      "----------------------------------- 0 -----------------------------------\n",
      "quantity_type  :Other Employees\n",
      "\n",
      "type_token  :[full-time, part-time]\n",
      "\n",
      "data_value  :3230.0\n",
      "\n"
     ]
    },
    {
     "name": "stdout",
     "output_type": "stream",
     "text": [
      "para_text  :As of December 31, 2016, the Company had approximately 3,230 full-time and part-time employees. The Company employed approximately 450 flight crewmembers, 1,405 aircraft maintenance technicians and flight support personnel, 670 warehousing, sorting and logistics personnel, 440 employees for airport maintenance and logistics, 50 employees for sales and marketing and 215 employees for administrative functions. In addition to full time and part time employees, the Company typically has approximately 350 temporary employees mainly serving the USPS operations and aircraft line maintenance operations. On December 31, 2015, the Company had approximately 2,170 full-time and part-time employees.\n",
      "\n"
     ]
    }
   ],
   "source": [
    "print_row_detail(df=train_fact_df3[train_fact_df3.acc_id.isin(lost_matches.acc_id.tolist())], \n",
    "                 nrow=10, header_list = ['acc_id', 'sent_num', 'word_num'],\n",
    "                    detail_list = ['quantity_type', 'type_token', 'data_value',  'para_text'],\n",
    "                    sortby=['acc_id', 'sent_num', 'word_num'], ascending=True)"
   ]
  },
  {
   "cell_type": "code",
   "execution_count": 108,
   "metadata": {
    "ExecuteTime": {
     "end_time": "2018-08-06T16:33:44.871562Z",
     "start_time": "2018-08-06T16:33:44.664423Z"
    }
   },
   "outputs": [
    {
     "name": "stdout",
     "output_type": "stream",
     "text": [
      "(2843, 32)\n",
      "(2039, 32)\n",
      "1192\n",
      "416\n"
     ]
    }
   ],
   "source": [
    "full_match_left= train_fact_df3.drop_duplicates().merge(train_labeled_df.drop_duplicates(), \n",
    "                                                           how='left', left_on=['acc_id', 'data_value', 'quantity_type'], \n",
    "                   right_on = ['accession_number', 'data_value', 'data_key_friendly_name']).drop_duplicates()\n",
    "\n",
    "full_match_right= train_fact_df3.drop_duplicates().merge(train_labeled_df.loc[~space_bs,:].drop_duplicates(), \n",
    "                                                           how='right', left_on=['acc_id', 'data_value', 'quantity_type'], \n",
    "                   right_on = ['accession_number', 'data_value', 'data_key_friendly_name']).drop_duplicates()\n",
    "\n",
    "print(full_match_left.shape)\n",
    "print(full_match_right.shape)\n",
    "\n",
    "fp_bs = full_match_left.ticker.isna()\n",
    "fn_bs = full_match_right.acc_id.isna()\n",
    "print(sum(fp_bs))\n",
    "print(sum(fn_bs))"
   ]
  },
  {
   "cell_type": "code",
   "execution_count": 109,
   "metadata": {
    "ExecuteTime": {
     "end_time": "2018-08-06T16:33:44.878567Z",
     "start_time": "2018-08-06T16:33:44.872562Z"
    }
   },
   "outputs": [
    {
     "data": {
      "text/plain": [
       "Other Employees        2019\n",
       "Full-Time Employees     662\n",
       "Part-Time Employees     162\n",
       "Name: quantity_type, dtype: int64"
      ]
     },
     "execution_count": 109,
     "metadata": {},
     "output_type": "execute_result"
    }
   ],
   "source": [
    "full_match_left.quantity_type.value_counts(dropna=False)"
   ]
  },
  {
   "cell_type": "code",
   "execution_count": 110,
   "metadata": {
    "ExecuteTime": {
     "end_time": "2018-08-06T16:33:44.891576Z",
     "start_time": "2018-08-06T16:33:44.879567Z"
    }
   },
   "outputs": [
    {
     "data": {
      "text/plain": [
       "NaN                    1192\n",
       "Other Employees        1029\n",
       "Full-Time Employees     511\n",
       "Part-Time Employees     111\n",
       "Name: data_key_friendly_name, dtype: int64"
      ]
     },
     "execution_count": 110,
     "metadata": {},
     "output_type": "execute_result"
    }
   ],
   "source": [
    "full_match_left.data_key_friendly_name.value_counts(dropna=False)"
   ]
  },
  {
   "cell_type": "code",
   "execution_count": 111,
   "metadata": {
    "ExecuteTime": {
     "end_time": "2018-08-06T16:33:44.902583Z",
     "start_time": "2018-08-06T16:33:44.892576Z"
    }
   },
   "outputs": [
    {
     "data": {
      "text/plain": [
       "Other Employees        1236\n",
       "Full-Time Employees     641\n",
       "Part-Time Employees     162\n",
       "Name: data_key_friendly_name, dtype: int64"
      ]
     },
     "execution_count": 111,
     "metadata": {},
     "output_type": "execute_result"
    }
   ],
   "source": [
    "full_match_right.data_key_friendly_name.value_counts(dropna=False)"
   ]
  },
  {
   "cell_type": "code",
   "execution_count": 112,
   "metadata": {
    "ExecuteTime": {
     "end_time": "2018-08-06T16:33:44.914591Z",
     "start_time": "2018-08-06T16:33:44.904584Z"
    }
   },
   "outputs": [
    {
     "data": {
      "text/plain": [
       "Other Employees        990\n",
       "Full-Time Employees    151\n",
       "Part-Time Employees     51\n",
       "Name: quantity_type, dtype: int64"
      ]
     },
     "execution_count": 112,
     "metadata": {},
     "output_type": "execute_result"
    }
   ],
   "source": [
    "full_match_left[fp_bs].quantity_type.value_counts(dropna=False)"
   ]
  },
  {
   "cell_type": "code",
   "execution_count": 113,
   "metadata": {
    "ExecuteTime": {
     "end_time": "2018-08-06T16:33:44.926600Z",
     "start_time": "2018-08-06T16:33:44.916592Z"
    }
   },
   "outputs": [
    {
     "data": {
      "text/plain": [
       "Other Employees        1002\n",
       "Full-Time Employees     510\n",
       "NaN                     416\n",
       "Part-Time Employees     111\n",
       "Name: quantity_type, dtype: int64"
      ]
     },
     "execution_count": 113,
     "metadata": {},
     "output_type": "execute_result"
    }
   ],
   "source": [
    "full_match_right.quantity_type.value_counts(dropna=False)"
   ]
  },
  {
   "cell_type": "code",
   "execution_count": 114,
   "metadata": {
    "ExecuteTime": {
     "end_time": "2018-08-06T16:33:44.939608Z",
     "start_time": "2018-08-06T16:33:44.927600Z"
    }
   },
   "outputs": [
    {
     "data": {
      "text/plain": [
       "Other Employees        234\n",
       "Full-Time Employees    131\n",
       "Part-Time Employees     51\n",
       "Name: data_key_friendly_name, dtype: int64"
      ]
     },
     "execution_count": 114,
     "metadata": {},
     "output_type": "execute_result"
    }
   ],
   "source": [
    "full_match_right[fn_bs].data_key_friendly_name.value_counts(dropna=False)"
   ]
  },
  {
   "cell_type": "code",
   "execution_count": 115,
   "metadata": {
    "ExecuteTime": {
     "end_time": "2018-08-06T16:34:00.968781Z",
     "start_time": "2018-08-06T16:34:00.941762Z"
    }
   },
   "outputs": [
    {
     "data": {
      "text/html": [
       "<div>\n",
       "<style scoped>\n",
       "    .dataframe tbody tr th:only-of-type {\n",
       "        vertical-align: middle;\n",
       "    }\n",
       "\n",
       "    .dataframe tbody tr th {\n",
       "        vertical-align: top;\n",
       "    }\n",
       "\n",
       "    .dataframe thead th {\n",
       "        text-align: right;\n",
       "    }\n",
       "</style>\n",
       "<table border=\"1\" class=\"dataframe\">\n",
       "  <thead>\n",
       "    <tr style=\"text-align: right;\">\n",
       "      <th></th>\n",
       "      <th>acc_id</th>\n",
       "      <th>para_text</th>\n",
       "      <th>len</th>\n",
       "      <th>emp_header</th>\n",
       "      <th>first_emp_head_block</th>\n",
       "      <th>para_text_orig</th>\n",
       "      <th>para_tag</th>\n",
       "      <th>split_x</th>\n",
       "      <th>label</th>\n",
       "      <th>doc_ids</th>\n",
       "      <th>...</th>\n",
       "      <th>data_value</th>\n",
       "      <th>ticker</th>\n",
       "      <th>accession_number</th>\n",
       "      <th>data_key_friendly_name</th>\n",
       "      <th>text</th>\n",
       "      <th>reported_data_value</th>\n",
       "      <th>reported_units</th>\n",
       "      <th>paragraph_text</th>\n",
       "      <th>split_y</th>\n",
       "      <th>space_percent</th>\n",
       "    </tr>\n",
       "  </thead>\n",
       "  <tbody>\n",
       "    <tr>\n",
       "      <th>1623</th>\n",
       "      <td>NaN</td>\n",
       "      <td>NaN</td>\n",
       "      <td>NaN</td>\n",
       "      <td>NaN</td>\n",
       "      <td>NaN</td>\n",
       "      <td>NaN</td>\n",
       "      <td>NaN</td>\n",
       "      <td>NaN</td>\n",
       "      <td>NaN</td>\n",
       "      <td>NaN</td>\n",
       "      <td>...</td>\n",
       "      <td>19000.0</td>\n",
       "      <td>ABC</td>\n",
       "      <td>0001140859-16-000022</td>\n",
       "      <td>Other Employees</td>\n",
       "      <td>employees</td>\n",
       "      <td>19000.0</td>\n",
       "      <td>ones</td>\n",
       "      <td>Employees   As of September 30, 2016, we had a...</td>\n",
       "      <td>train</td>\n",
       "      <td>0.182598</td>\n",
       "    </tr>\n",
       "  </tbody>\n",
       "</table>\n",
       "<p>1 rows × 32 columns</p>\n",
       "</div>"
      ],
      "text/plain": [
       "     acc_id para_text  len emp_header first_emp_head_block para_text_orig  \\\n",
       "1623    NaN       NaN  NaN        NaN                  NaN            NaN   \n",
       "\n",
       "     para_tag split_x  label  doc_ids      ...        data_value  ticker  \\\n",
       "1623      NaN     NaN    NaN      NaN      ...           19000.0     ABC   \n",
       "\n",
       "          accession_number data_key_friendly_name       text  \\\n",
       "1623  0001140859-16-000022        Other Employees  employees   \n",
       "\n",
       "     reported_data_value reported_units  \\\n",
       "1623             19000.0           ones   \n",
       "\n",
       "                                         paragraph_text split_y  space_percent  \n",
       "1623  Employees   As of September 30, 2016, we had a...   train       0.182598  \n",
       "\n",
       "[1 rows x 32 columns]"
      ]
     },
     "execution_count": 115,
     "metadata": {},
     "output_type": "execute_result"
    }
   ],
   "source": [
    "full_match_right[fn_bs].head(1)"
   ]
  },
  {
   "cell_type": "code",
   "execution_count": 116,
   "metadata": {
    "ExecuteTime": {
     "end_time": "2018-08-06T16:35:10.147318Z",
     "start_time": "2018-08-06T16:35:10.140312Z"
    }
   },
   "outputs": [],
   "source": [
    "full_match_left_columns = ['acc_id','ticker', 'data_value',  'quantity_type', \n",
    "                           'data_key_friendly_name',\n",
    " 'paragraph_text',  'para_text', 'sent_num', 'sentence', 'emp_header', 'first_emp_head_block', \n",
    " 'word_num', 'subject', 'verb', 'quantity',  'type_token', 'word','len', \n",
    "       'para_text_orig', 'para_tag', 'split_x', 'label', 'doc_ids',        \n",
    "        'units', 'reported_units',  'text',  'reported_data_value',\n",
    "         'space_percent']\n",
    "\n",
    "full_match_right_columns = ['accession_number','ticker', 'data_value',  'quantity_type', \n",
    "                           'data_key_friendly_name',\n",
    " 'paragraph_text',  'para_text', 'sent_num', 'sentence', 'emp_header', 'first_emp_head_block', \n",
    " 'word_num', 'subject', 'verb', 'quantity',  'type_token', 'word','len', \n",
    "       'para_text_orig', 'para_tag', 'split_x', 'label', 'doc_ids',        \n",
    "        'units', 'reported_units',  'text',  'reported_data_value',\n",
    "         'space_percent']"
   ]
  },
  {
   "cell_type": "markdown",
   "metadata": {},
   "source": [
    "False negatives - facts in golden dataset that were not extracted or not labeled correctly"
   ]
  },
  {
   "cell_type": "code",
   "execution_count": 117,
   "metadata": {
    "ExecuteTime": {
     "end_time": "2018-08-06T16:35:12.913479Z",
     "start_time": "2018-08-06T16:35:12.802407Z"
    },
    "scrolled": true
   },
   "outputs": [
    {
     "name": "stdout",
     "output_type": "stream",
     "text": [
      "----------------------------------- 0000018498-16-000065 -----------------------------------\n",
      "----------------------------------- GCO -----------------------------------\n",
      "data_key_friendly_name  :Part-Time Employees\n",
      "\n",
      "data_value  :18275.0\n",
      "\n",
      "text  :part-time\n",
      "\n",
      "paragraph_text  :Employees   Genesco had approximately 27,500 employees  at January 30, 2016, approximately  130 of whom were employed  in   corporate staff departments  and the  balance in  operations. Retail stores  employ a  substantial number  of   part-time employees, and approximately 18,275 of the Company's employees were part-time at January 30, 2016\n",
      "\n",
      "----------------------------------- 0000024090-17-000008 -----------------------------------\n",
      "----------------------------------- CIA -----------------------------------\n",
      "data_key_friendly_name  :Other Employees\n",
      "\n",
      "data_value  :333.0\n",
      "\n",
      "text  :employee-agents\n",
      "\n",
      "paragraph_text  :Domestic Home Service Insurance   Our domestic  Home Service  segment operates  in  this market  through our  subsidiaries Security  Plan  Life   Insurance Company  (\"SPLIC\"), Magnolia  Guaranty Life  Insurance  Company (\"MGLIC\")  and Security  Plan  Fire   Insurance Company (\"SPFIC\"), and focuses on the life insurance needs of the middle and lower income  markets,   primarily in Louisiana, Mississippi and Arkansas. Our policies  are sold and serviced through a home  service   marketing distribution system of  approximately 333 employee-agents  who work on a  route system and  through   over 286 funeral homes and independent agents  to sell policies, collect premiums and service  policyholders\n",
      "\n",
      "----------------------------------- 0000024090-17-000008 -----------------------------------\n",
      "----------------------------------- CIA -----------------------------------\n",
      "data_key_friendly_name  :Other Employees\n",
      "\n",
      "data_value  :134.0\n",
      "\n",
      "text  :administrative, operating and underwriting personnel\n",
      "\n",
      "paragraph_text  :Operations and Technology   Our administrative operations principally serve our life insurance segment and are conducted primarily at our   executive offices  in Austin,  Texas through  approximately 134  administrative, operating  and  underwriting   personnel. Our  Home  Service operations  are  conducted to  a  large degree  from  our district  offices  in   Louisiana, Arkansas and  Mississippi, as  well as  our service center  in Donaldsonville,  Louisiana. At  our   executive offices,  we  also  perform  policy  design,  marketing  oversight,  underwriting,  accounting  and   reporting, actuarial, customer service, claims processing, administrative and investing activities\n",
      "\n",
      "----------------------------------- 0000037996-17-000013 -----------------------------------\n",
      "----------------------------------- F -----------------------------------\n",
      "data_key_friendly_name  :Other Employees\n",
      "\n",
      "data_value  :201000.0\n",
      "\n",
      "text  :employees\n",
      "\n",
      "paragraph_text  :Ford Motor Company was incorporated in Delaware in 1919. We acquired the business of a Michigan company, also   known as Ford Motor Company, which had been incorporated in 1903 to produce and sell automobiles designed and   engineered by Henry Ford. We are a global automotive and mobility company based in Dearborn, Michigan. With   about 201,000 employees and 62 plants worldwide, our core business includes designing, manufacturing,   marketing, and servicing a full line of Ford cars, trucks, and SUVs, as well as Lincoln luxury vehicles. To   expand our business model, we are aggressively pursuing emerging opportunities with investments in   electrification, autonomy, and mobility. We provide financial services through Ford Motor Credit Company LLC   (\"Ford Credit\")\n",
      "\n",
      "----------------------------------- 0000038725-17-000042 -----------------------------------\n",
      "----------------------------------- FELE -----------------------------------\n",
      "data_key_friendly_name  :Other Employees\n",
      "\n",
      "data_value  :5200.0\n",
      "\n",
      "text  :employees\n",
      "\n",
      "paragraph_text  :PART I   ITEM 1. BUSINESS   Description of the Business   Franklin Electric Co., Inc. (\"Franklin Electric\" or the \"Company\") is an Indiana corporation founded in 1944   and incorporated in 1946. Named after America's pioneer electrical engineer, Benjamin Franklin, Franklin   Electric manufactured the first water-lubricated submersible motor for water systems, and the first   submersible motor for fueling systems. With 2016 revenue of $949.9 million and approximately 5,200 employees,   today the Company designs, manufactures and distributes water and fuel pumping systems, composed primarily of   submersible motors, pumps, electronic controls and related parts and equipment\n",
      "\n",
      "----------------------------------- 0000040888-17-000004 -----------------------------------\n",
      "----------------------------------- AJRD -----------------------------------\n",
      "data_key_friendly_name  :Other Employees\n",
      "\n",
      "data_value  :4965.0\n",
      "\n",
      "text  :employees\n",
      "\n",
      "paragraph_text  :Employees   As of December 31, 2016, 15% of our 4,965 employees were covered by collective bargaining agreements\n",
      "\n",
      "----------------------------------- 0000049071-17-000019 -----------------------------------\n",
      "----------------------------------- HUM -----------------------------------\n",
      "data_key_friendly_name  :Other Employees\n",
      "\n",
      "data_value  :2600.0\n",
      "\n",
      "text  :additional medical professionals\n",
      "\n",
      "paragraph_text  :Employees   As of December 31,  2016, we had  approximately 51,600 employees and  approximately 2,600 additional  medical   professionals working  under  management  agreements  primarily between  us  and  affiliated  physician-owned   associations. We  believe we  have  good relations  with our  employees  and have  not experienced  any  work   stoppages\n",
      "\n",
      "----------------------------------- 0000049754-17-000003 -----------------------------------\n",
      "----------------------------------- DIN -----------------------------------\n",
      "data_key_friendly_name  :Full-Time Employees\n",
      "\n",
      "data_value  :500.0\n",
      "\n",
      "text  :full-time\n",
      "\n",
      "paragraph_text  :Employees   At December 31, 2016, we had approximately 960 employees, of whom approximately 500 were full-time,   non-restaurant, corporate personnel. Our employees are not presently represented by any collective bargaining   agreements and we have never experienced a work stoppage. We believe our relations with employees are good\n",
      "\n",
      "----------------------------------- 0000049754-17-000003 -----------------------------------\n",
      "----------------------------------- DIN -----------------------------------\n",
      "data_key_friendly_name  :Other Employees\n",
      "\n",
      "data_value  :960.0\n",
      "\n",
      "text  :employees\n",
      "\n",
      "paragraph_text  :Employees   At December 31, 2016, we had approximately 960 employees, of whom approximately 500 were full-time,   non-restaurant, corporate personnel. Our employees are not presently represented by any collective bargaining   agreements and we have never experienced a work stoppage. We believe our relations with employees are good\n",
      "\n",
      "----------------------------------- 0000052795-17-000004 -----------------------------------\n",
      "----------------------------------- AXE -----------------------------------\n",
      "data_key_friendly_name  :Other Employees\n",
      "\n",
      "data_value  :8900.0\n",
      "\n",
      "text  :people\n",
      "\n",
      "paragraph_text  :Employees   At December 30, 2016, we employed over 8,900 people. Approximately 50% of the employees are engaged in  sales   or sales-related activities, 30% are engaged in  warehousing and distribution operations and 20% are  engaged   in support activities,  including inventory management,  information services, finance,  human resources  and   general management.  We  do not  have  any significant  concentrations  of employees  subject  to  collective   bargaining agreements within any of our segments\n",
      "\n"
     ]
    }
   ],
   "source": [
    "print_row_detail(df=full_match_right.loc[fn_bs, :], \n",
    "                 nrow=10, header_list = ['accession_number', 'ticker' ],\n",
    "                    detail_list = ['data_key_friendly_name','data_value',  'text', 'paragraph_text'],\n",
    "                    sortby=['accession_number', 'ticker', 'data_key_friendly_name' ], ascending=True)"
   ]
  },
  {
   "cell_type": "markdown",
   "metadata": {},
   "source": [
    "False positives - facts in the extracted dataset that are not in the golden dataset or are not labeled correctly in the extracted dataset"
   ]
  },
  {
   "cell_type": "code",
   "execution_count": 118,
   "metadata": {
    "ExecuteTime": {
     "end_time": "2018-08-06T16:37:00.725996Z",
     "start_time": "2018-08-06T16:37:00.532868Z"
    }
   },
   "outputs": [
    {
     "name": "stdout",
     "output_type": "stream",
     "text": [
      "----------------------------------- 0000004904-17-000019 -----------------------------------\n",
      "----------------------------------- 2 -----------------------------------\n",
      "quantity_type  :Other Employees\n",
      "\n",
      "data_value  :2475.0\n",
      "\n",
      "label  :1\n",
      "\n",
      "subject  :I&M\n",
      "\n",
      "verb  :had\n",
      "\n",
      "quantity  :2,475\n",
      "\n",
      "sentence  :As of December 31, 2016, I&M had 2,475 employees.\n",
      "\n",
      "para_text  :Organized in Indiana in 1907, I&M is engaged in the generation, transmission and distribution of electric power to approximately 592,000 retail customers in northern and eastern Indiana and southwestern Michigan, and in supplying and marketing electric power at wholesale to other electric utility companies, rural electric cooperatives, municipalities and other market participants.  I&M owns or leases 3,539 MWs of generating capacity, which it uses to serve its retail and other customers.  As of December 31, 2016, I&M had 2,475 employees. Among the principal industries served are primary metals, transportation equipment, electrical and electronic machinery, fabricated metal products, rubber and chemicals and allied products, rubber products and transportation equipment.  I&M is a member of PJM.  I&M is part of AEP's Vertically Integrated Utilities segment.\n",
      "\n",
      "----------------------------------- 0000004904-17-000019 -----------------------------------\n",
      "----------------------------------- 2 -----------------------------------\n",
      "quantity_type  :Other Employees\n",
      "\n",
      "data_value  :1582.0\n",
      "\n",
      "label  :1\n",
      "\n",
      "subject  :OPCo\n",
      "\n",
      "verb  :had\n",
      "\n",
      "quantity  :1,582\n",
      "\n",
      "sentence  :As of December 31, 2016, OPCo had 1,582 employees.  \n",
      "\n",
      "para_text  :Organized in Ohio in 1907 and re-incorporated in 1924, OPCo is engaged in the transmission and distribution of electric power to approximately 1,472,000 retail customers in Ohio.  OPCo purchases energy and capacity at auction to serve generation service customers.  As of December 31, 2016, OPCo had 1,582 employees.  Among the principal industries served by OPCo are primary metals, chemicals and allied products, health services, electronic machinery, petroleum refining, and rubber and plastic products. OPCo is a member of PJM.  OPCo is part of AEP's Transmission and Distribution Utilities segment.\n",
      "\n",
      "----------------------------------- 0000004904-17-000019 -----------------------------------\n",
      "----------------------------------- 2 -----------------------------------\n",
      "quantity_type  :Other Employees\n",
      "\n",
      "data_value  :1110.0\n",
      "\n",
      "label  :1\n",
      "\n",
      "subject  :PSO\n",
      "\n",
      "verb  :had\n",
      "\n",
      "quantity  :1,110\n",
      "\n",
      "sentence  :As of December 31, 2016, PSO had 1,110 employees.\n",
      "\n",
      "para_text  :Organized in Oklahoma in 1913, PSO is engaged in the generation, transmission and distribution of electric power to approximately 548,000 retail customers in eastern and southwestern Oklahoma, and in supplying and marketing electric power at wholesale to other electric utility companies, municipalities, rural electric cooperatives and other market participants.  PSO owns 3,940 MWs of generating capacity, which it uses to serve its retail and other customers.  As of December 31, 2016, PSO had 1,110 employees. Among the principal industries served by PSO are paper manufacturing, natural gas and oil extraction, transportation, oil refining, health care and aerospace. PSO is a member of SPP.  PSO is part of AEP's Vertically Integrated Utilities segment.\n",
      "\n",
      "----------------------------------- 0000004904-17-000019 -----------------------------------\n",
      "----------------------------------- 2 -----------------------------------\n",
      "quantity_type  :Other Employees\n",
      "\n",
      "data_value  :1486.0\n",
      "\n",
      "label  :1\n",
      "\n",
      "subject  :SWEPCo\n",
      "\n",
      "verb  :had\n",
      "\n",
      "quantity  :1,486\n",
      "\n",
      "sentence  :As of December 31, 2016, SWEPCo had 1,486 employees.\n",
      "\n",
      "para_text  :Organized in Delaware in 1912, SWEPCo is engaged in the generation, transmission and distribution of electric power to approximately 533,000 retail customers in northeastern and panhandle of Texas, northwestern Louisiana and western Arkansas and in supplying and marketing electric power at wholesale to other electric utility companies, municipalities, rural electric cooperatives and other market participants. SWEPCo owns 5,225 MWs of generating capacity, which it uses to serve its retail and other customers.  As of December 31, 2016, SWEPCo had 1,486 employees. Among the principal industries served by SWEPCo are natural gas and oil production, petroleum refining, manufacturing of pulp and paper, chemicals, food processing and metal refining. The territory served by SWEPCo also includes several military installations, colleges and universities. SWEPCo also owns and operates a lignite coal mining operation. SWEPCo is a member of SPP.  SWEPCo is part of AEP's Vertically Integrated Utilities segment.\n",
      "\n",
      "----------------------------------- 0000004904-17-000019 -----------------------------------\n",
      "----------------------------------- 3 -----------------------------------\n",
      "quantity_type  :Other Employees\n",
      "\n",
      "data_value  :1845.0\n",
      "\n",
      "label  :1\n",
      "\n",
      "subject  :APCo\n",
      "\n",
      "verb  :had\n",
      "\n",
      "quantity  :1,845\n",
      "\n",
      "sentence  :As of December 31, 2016, APCo had 1,845 employees.\n",
      "\n",
      "para_text  :Organized in Virginia in 1926, APCo is engaged in the generation, transmission and distribution of electric power to approximately 957,000 retail customers in the southwestern portion of Virginia and southern West Virginia, and in supplying and marketing electric power at wholesale to other electric utility companies, municipalities and other market participants. APCo owns 6,640 MWs of generating capacity.  APCo uses its generation to serve its retail and other customers.  As of December 31, 2016, APCo had 1,845 employees. Among the principal industries served by APCo are paper, rubber, coal mining, textile mill products and stone, clay and glass products. APCo is a member of PJM.  APCo is part of AEP's Vertically Integrated Utilities segment.\n",
      "\n",
      "----------------------------------- 0000004904-17-000019 -----------------------------------\n",
      "----------------------------------- 3 -----------------------------------\n",
      "quantity_type  :Other Employees\n",
      "\n",
      "data_value  :550.0\n",
      "\n",
      "label  :1\n",
      "\n",
      "subject  :KPCo\n",
      "\n",
      "verb  :had\n",
      "\n",
      "quantity  :550\n",
      "\n",
      "sentence  :As of December 31, 2016, KPCo had 550 employees.\n",
      "\n",
      "para_text  :Organized in Kentucky in 1919, KPCo is engaged in the generation, transmission and distribution of electric power to approximately 169,000 retail customers in eastern Kentucky, and in supplying and marketing electric power at wholesale to other electric utility companies, municipalities and other market participants.  KPCo owns 1,060 MWs of generating capacity.  KPCo uses its generation to serve its retail and other customers.  As of December 31, 2016, KPCo had 550 employees. Among the principal industries served are petroleum refining, coal mining and chemical production.  KPCo is a member of PJM.  KPCo is part of AEP's Vertically Integrated Utilities segment.\n",
      "\n",
      "----------------------------------- 0000004904-17-000019 -----------------------------------\n",
      "----------------------------------- 3 -----------------------------------\n",
      "quantity_type  :Other Employees\n",
      "\n",
      "data_value  :53.0\n",
      "\n",
      "label  :1\n",
      "\n",
      "subject  :KGPCo\n",
      "\n",
      "verb  :had\n",
      "\n",
      "quantity  :53\n",
      "\n",
      "sentence  :As of December 31, 2016, KGPCo had 53 employees.\n",
      "\n",
      "para_text  :Organized in Virginia in 1917, KGPCo provides electric service to approximately 48,000 retail customers in Kingsport and eight neighboring communities in northeastern Tennessee. KGPCo does not own any generating facilities and is a member of PJM. It purchases electric power from APCo for distribution to its customers. As of December 31, 2016, KGPCo had 53 employees. KGPCo is part of AEP's Vertically Integrated Utilities segment.\n",
      "\n",
      "----------------------------------- 0000004904-17-000019 -----------------------------------\n",
      "----------------------------------- 3 -----------------------------------\n",
      "quantity_type  :Other Employees\n",
      "\n",
      "data_value  :57.0\n",
      "\n",
      "label  :1\n",
      "\n",
      "subject  :WPCo\n",
      "\n",
      "verb  :had\n",
      "\n",
      "quantity  :57\n",
      "\n",
      "sentence  :As of December 31, 2016, WPCo had 57 employees.  \n",
      "\n",
      "para_text  :Organized in West Virginia in 1883 and reincorporated in 1911, WPCo provides electric service to approximately 41,000 retail customers in northern West Virginia. WPCo owns 780 MWs of generating capacity which it uses to serve its retail and other customers. WPCo is a member of PJM. As of December 31, 2016, WPCo had 57 employees.  WPCo is part of AEP's Vertically Integrated Utilities segment.\n",
      "\n",
      "----------------------------------- 0000004904-17-000019 -----------------------------------\n",
      "----------------------------------- 3 -----------------------------------\n",
      "quantity_type  :Other Employees\n",
      "\n",
      "data_value  :5805.0\n",
      "\n",
      "label  :1\n",
      "\n",
      "subject  :AEPSC\n",
      "\n",
      "verb  :had\n",
      "\n",
      "quantity  :5,805\n",
      "\n",
      "sentence  :As of December 31, 2016, AEPSC had 5,805 employees.\n",
      "\n",
      "para_text  :AEP also owns a service company subsidiary, AEPSC. AEPSC provides accounting, administrative, information systems, engineering, financial, legal, maintenance and other services at cost to AEP subsidiaries. The executive officers of AEP and certain of its public utility subsidiaries are employees of AEPSC. As of December 31, 2016, AEPSC had 5,805 employees.\n",
      "\n",
      "----------------------------------- 0000004904-17-000019 -----------------------------------\n",
      "----------------------------------- 4 -----------------------------------\n",
      "quantity_type  :Other Employees\n",
      "\n",
      "data_value  :1500.0\n",
      "\n",
      "label  :1\n",
      "\n",
      "subject  :AEP Texas\n",
      "\n",
      "verb  :had\n",
      "\n",
      "quantity  :1,500\n",
      "\n",
      "sentence  :As of December 31, 2016, AEP Texas had 1,500 employees.  \n",
      "\n",
      "para_text  :Organized in Delaware in 1925, AEP Texas was formed by the merger of AEP Texas Central Company and AEP Texas North Company into AEP Utilities, Inc. on December 31, 2016. The merging parties retained their respective rate structures.  Following the merger, AEP Utilities, Inc. changed its name to AEP Texas Inc. (AEP Texas). AEP Texas is engaged in the transmission and distribution of electric power to approximately 1,024,000 retail customers through REPs in west, central and southern Texas.  As of December 31, 2016, AEP Texas had 1,500 employees.  Among the principal industries served by AEP Texas are chemical and petroleum refining, chemicals and allied products, oil and natural gas extraction, food processing, metal refining, plastics and machinery equipment, agriculture and the manufacturing or processing of cotton seed products, oil products, precision and consumer metal products, meat products and gypsum products.  The territory served by AEP Texas also includes several military installations and correctional facilities.  AEP Texas is a member of ERCOT.  AEP Texas is part of AEP's Transmission and Distribution Utilities segment.\n",
      "\n"
     ]
    }
   ],
   "source": [
    "print_row_detail(df=full_match_left.loc[fp_bs, :], \n",
    "                 nrow=10, header_list = ['acc_id', 'sent_num' ],\n",
    "                    detail_list = ['quantity_type','data_value',  'label','subject', 'verb', 'quantity',\n",
    "                                   'sentence', 'para_text'],\n",
    "                    sortby=['acc_id', 'quantity_type', 'sent_num'], ascending=True)"
   ]
  },
  {
   "cell_type": "code",
   "execution_count": 147,
   "metadata": {
    "ExecuteTime": {
     "end_time": "2018-07-23T22:25:49.548712Z",
     "start_time": "2018-07-23T22:25:49.531698Z"
    }
   },
   "outputs": [
    {
     "data": {
      "text/html": [
       "<div>\n",
       "<style scoped>\n",
       "    .dataframe tbody tr th:only-of-type {\n",
       "        vertical-align: middle;\n",
       "    }\n",
       "\n",
       "    .dataframe tbody tr th {\n",
       "        vertical-align: top;\n",
       "    }\n",
       "\n",
       "    .dataframe thead th {\n",
       "        text-align: right;\n",
       "    }\n",
       "</style>\n",
       "<table border=\"1\" class=\"dataframe\">\n",
       "  <thead>\n",
       "    <tr style=\"text-align: right;\">\n",
       "      <th></th>\n",
       "      <th>ticker</th>\n",
       "      <th>accession_number</th>\n",
       "      <th>data_key_friendly_name</th>\n",
       "      <th>text</th>\n",
       "      <th>data_value</th>\n",
       "      <th>reported_data_value</th>\n",
       "      <th>reported_units</th>\n",
       "      <th>paragraph_text</th>\n",
       "      <th>split</th>\n",
       "      <th>space_percent</th>\n",
       "    </tr>\n",
       "  </thead>\n",
       "  <tbody>\n",
       "    <tr>\n",
       "      <th>342</th>\n",
       "      <td>BMS</td>\n",
       "      <td>0000011199-17-000011</td>\n",
       "      <td>Other Employees</td>\n",
       "      <td>Number of employees</td>\n",
       "      <td>17678.0</td>\n",
       "      <td>17678.0</td>\n",
       "      <td>ones</td>\n",
       "      <td>Years Ended December 31,                      ...</td>\n",
       "      <td>train</td>\n",
       "      <td>0.563313</td>\n",
       "    </tr>\n",
       "  </tbody>\n",
       "</table>\n",
       "</div>"
      ],
      "text/plain": [
       "    ticker      accession_number data_key_friendly_name                 text  \\\n",
       "342    BMS  0000011199-17-000011        Other Employees  Number of employees   \n",
       "\n",
       "     data_value  reported_data_value reported_units  \\\n",
       "342     17678.0              17678.0           ones   \n",
       "\n",
       "                                        paragraph_text  split  space_percent  \n",
       "342  Years Ended December 31,                      ...  train       0.563313  "
      ]
     },
     "execution_count": 147,
     "metadata": {},
     "output_type": "execute_result"
    }
   ],
   "source": [
    "train_labeled_df[train_labeled_df.accession_number == '0000011199-17-000011']"
   ]
  },
  {
   "cell_type": "code",
   "execution_count": 119,
   "metadata": {
    "ExecuteTime": {
     "end_time": "2018-08-06T16:37:11.368946Z",
     "start_time": "2018-08-06T16:37:11.355937Z"
    }
   },
   "outputs": [
    {
     "data": {
      "text/plain": [
       "(1175, 5)"
      ]
     },
     "execution_count": 119,
     "metadata": {},
     "output_type": "execute_result"
    }
   ],
   "source": [
    "full_match_left.loc[fp_bs, ['acc_id', 'data_value', 'quantity_type', 'label', 'para_text']].drop_duplicates().shape"
   ]
  },
  {
   "cell_type": "code",
   "execution_count": 120,
   "metadata": {
    "ExecuteTime": {
     "end_time": "2018-08-06T16:37:17.079303Z",
     "start_time": "2018-08-06T16:37:17.044281Z"
    }
   },
   "outputs": [
    {
     "data": {
      "text/html": [
       "<div>\n",
       "<style scoped>\n",
       "    .dataframe tbody tr th:only-of-type {\n",
       "        vertical-align: middle;\n",
       "    }\n",
       "\n",
       "    .dataframe tbody tr th {\n",
       "        vertical-align: top;\n",
       "    }\n",
       "\n",
       "    .dataframe thead th {\n",
       "        text-align: right;\n",
       "    }\n",
       "</style>\n",
       "<table border=\"1\" class=\"dataframe\">\n",
       "  <thead>\n",
       "    <tr style=\"text-align: right;\">\n",
       "      <th></th>\n",
       "      <th>acc_id</th>\n",
       "      <th>ticker</th>\n",
       "      <th>data_value</th>\n",
       "      <th>quantity_type</th>\n",
       "      <th>data_key_friendly_name</th>\n",
       "      <th>paragraph_text</th>\n",
       "      <th>para_text</th>\n",
       "      <th>sent_num</th>\n",
       "      <th>sentence</th>\n",
       "      <th>emp_header</th>\n",
       "      <th>...</th>\n",
       "      <th>para_text_orig</th>\n",
       "      <th>para_tag</th>\n",
       "      <th>split_x</th>\n",
       "      <th>label</th>\n",
       "      <th>doc_ids</th>\n",
       "      <th>units</th>\n",
       "      <th>reported_units</th>\n",
       "      <th>text</th>\n",
       "      <th>reported_data_value</th>\n",
       "      <th>space_percent</th>\n",
       "    </tr>\n",
       "  </thead>\n",
       "  <tbody>\n",
       "    <tr>\n",
       "      <th>0</th>\n",
       "      <td>0000004127-16-000068</td>\n",
       "      <td>SWKS</td>\n",
       "      <td>7300.0</td>\n",
       "      <td>Other Employees</td>\n",
       "      <td>Other Employees</td>\n",
       "      <td>EMPLOYEES   As of September  30, 2016, we  emp...</td>\n",
       "      <td>As of September 30, 2016, we employed approxim...</td>\n",
       "      <td>0</td>\n",
       "      <td>As of September 30, 2016, we employed approxim...</td>\n",
       "      <td>True</td>\n",
       "      <td>...</td>\n",
       "      <td>As of September 30, 2016,\\r\\r\\r\\nwe employed a...</td>\n",
       "      <td>&lt;div class=\"c80\"&gt;&lt;span class=\"c32\"&gt;As of&lt;/span...</td>\n",
       "      <td>train</td>\n",
       "      <td>1</td>\n",
       "      <td>4</td>\n",
       "      <td>ones</td>\n",
       "      <td>ones</td>\n",
       "      <td>employed</td>\n",
       "      <td>7300.0</td>\n",
       "      <td>0.201465</td>\n",
       "    </tr>\n",
       "    <tr>\n",
       "      <th>1</th>\n",
       "      <td>0000004904-17-000019</td>\n",
       "      <td>AEP</td>\n",
       "      <td>17634.0</td>\n",
       "      <td>Other Employees</td>\n",
       "      <td>Other Employees</td>\n",
       "      <td>As of December 31, 2016,  the subsidiaries of ...</td>\n",
       "      <td>As of December 31, 2016, the subsidiaries of A...</td>\n",
       "      <td>0</td>\n",
       "      <td>As of December 31, 2016, the subsidiaries of A...</td>\n",
       "      <td>False</td>\n",
       "      <td>...</td>\n",
       "      <td>As of December 31, 2016,\\r\\r\\r\\nthe subsidiari...</td>\n",
       "      <td>&lt;div class=\"c110\"&gt;&lt;span class=\"c99\"&gt;As of Dece...</td>\n",
       "      <td>train</td>\n",
       "      <td>1</td>\n",
       "      <td>13</td>\n",
       "      <td>ones</td>\n",
       "      <td>ones</td>\n",
       "      <td>employees</td>\n",
       "      <td>17634.0</td>\n",
       "      <td>0.198214</td>\n",
       "    </tr>\n",
       "    <tr>\n",
       "      <th>2</th>\n",
       "      <td>0000004904-17-000019</td>\n",
       "      <td>NaN</td>\n",
       "      <td>1500.0</td>\n",
       "      <td>Other Employees</td>\n",
       "      <td>NaN</td>\n",
       "      <td>NaN</td>\n",
       "      <td>Organized in Delaware in 1925, AEP Texas was f...</td>\n",
       "      <td>4</td>\n",
       "      <td>As of December 31, 2016, AEP Texas had 1,500 e...</td>\n",
       "      <td>False</td>\n",
       "      <td>...</td>\n",
       "      <td>Organized in Delaware in 1925, AEP Texas was f...</td>\n",
       "      <td>&lt;div class=\"c110\"&gt;&lt;span class=\"c99\"&gt;Organized ...</td>\n",
       "      <td>train</td>\n",
       "      <td>1</td>\n",
       "      <td>14</td>\n",
       "      <td>ones</td>\n",
       "      <td>NaN</td>\n",
       "      <td>NaN</td>\n",
       "      <td>NaN</td>\n",
       "      <td>NaN</td>\n",
       "    </tr>\n",
       "    <tr>\n",
       "      <th>3</th>\n",
       "      <td>0000004904-17-000019</td>\n",
       "      <td>NaN</td>\n",
       "      <td>1845.0</td>\n",
       "      <td>Other Employees</td>\n",
       "      <td>NaN</td>\n",
       "      <td>NaN</td>\n",
       "      <td>Organized in Virginia in 1926, APCo is engaged...</td>\n",
       "      <td>3</td>\n",
       "      <td>As of December 31, 2016, APCo had 1,845 employ...</td>\n",
       "      <td>False</td>\n",
       "      <td>...</td>\n",
       "      <td>Organized in Virginia in 1926, APCo is engaged...</td>\n",
       "      <td>&lt;div class=\"c110\"&gt;&lt;span class=\"c99\"&gt;Organized ...</td>\n",
       "      <td>train</td>\n",
       "      <td>1</td>\n",
       "      <td>15</td>\n",
       "      <td>ones</td>\n",
       "      <td>NaN</td>\n",
       "      <td>NaN</td>\n",
       "      <td>NaN</td>\n",
       "      <td>NaN</td>\n",
       "    </tr>\n",
       "    <tr>\n",
       "      <th>4</th>\n",
       "      <td>0000004904-17-000019</td>\n",
       "      <td>NaN</td>\n",
       "      <td>2475.0</td>\n",
       "      <td>Other Employees</td>\n",
       "      <td>NaN</td>\n",
       "      <td>NaN</td>\n",
       "      <td>Organized in Indiana in 1907, I&amp;M is engaged i...</td>\n",
       "      <td>2</td>\n",
       "      <td>As of December 31, 2016, I&amp;M had 2,475 employees.</td>\n",
       "      <td>False</td>\n",
       "      <td>...</td>\n",
       "      <td>Organized in Indiana in 1907, I&amp;M is engaged i...</td>\n",
       "      <td>&lt;div class=\"c110\"&gt;&lt;span class=\"c99\"&gt;Organized ...</td>\n",
       "      <td>train</td>\n",
       "      <td>1</td>\n",
       "      <td>16</td>\n",
       "      <td>ones</td>\n",
       "      <td>NaN</td>\n",
       "      <td>NaN</td>\n",
       "      <td>NaN</td>\n",
       "      <td>NaN</td>\n",
       "    </tr>\n",
       "  </tbody>\n",
       "</table>\n",
       "<p>5 rows × 28 columns</p>\n",
       "</div>"
      ],
      "text/plain": [
       "                 acc_id ticker  data_value    quantity_type  \\\n",
       "0  0000004127-16-000068   SWKS      7300.0  Other Employees   \n",
       "1  0000004904-17-000019    AEP     17634.0  Other Employees   \n",
       "2  0000004904-17-000019    NaN      1500.0  Other Employees   \n",
       "3  0000004904-17-000019    NaN      1845.0  Other Employees   \n",
       "4  0000004904-17-000019    NaN      2475.0  Other Employees   \n",
       "\n",
       "  data_key_friendly_name                                     paragraph_text  \\\n",
       "0        Other Employees  EMPLOYEES   As of September  30, 2016, we  emp...   \n",
       "1        Other Employees  As of December 31, 2016,  the subsidiaries of ...   \n",
       "2                    NaN                                                NaN   \n",
       "3                    NaN                                                NaN   \n",
       "4                    NaN                                                NaN   \n",
       "\n",
       "                                           para_text  sent_num  \\\n",
       "0  As of September 30, 2016, we employed approxim...         0   \n",
       "1  As of December 31, 2016, the subsidiaries of A...         0   \n",
       "2  Organized in Delaware in 1925, AEP Texas was f...         4   \n",
       "3  Organized in Virginia in 1926, APCo is engaged...         3   \n",
       "4  Organized in Indiana in 1907, I&M is engaged i...         2   \n",
       "\n",
       "                                            sentence  emp_header  \\\n",
       "0  As of September 30, 2016, we employed approxim...        True   \n",
       "1  As of December 31, 2016, the subsidiaries of A...       False   \n",
       "2  As of December 31, 2016, AEP Texas had 1,500 e...       False   \n",
       "3  As of December 31, 2016, APCo had 1,845 employ...       False   \n",
       "4  As of December 31, 2016, I&M had 2,475 employees.       False   \n",
       "\n",
       "       ...                                          para_text_orig  \\\n",
       "0      ...       As of September 30, 2016,\\r\\r\\r\\nwe employed a...   \n",
       "1      ...       As of December 31, 2016,\\r\\r\\r\\nthe subsidiari...   \n",
       "2      ...       Organized in Delaware in 1925, AEP Texas was f...   \n",
       "3      ...       Organized in Virginia in 1926, APCo is engaged...   \n",
       "4      ...       Organized in Indiana in 1907, I&M is engaged i...   \n",
       "\n",
       "                                            para_tag split_x label doc_ids  \\\n",
       "0  <div class=\"c80\"><span class=\"c32\">As of</span...   train     1       4   \n",
       "1  <div class=\"c110\"><span class=\"c99\">As of Dece...   train     1      13   \n",
       "2  <div class=\"c110\"><span class=\"c99\">Organized ...   train     1      14   \n",
       "3  <div class=\"c110\"><span class=\"c99\">Organized ...   train     1      15   \n",
       "4  <div class=\"c110\"><span class=\"c99\">Organized ...   train     1      16   \n",
       "\n",
       "  units reported_units       text reported_data_value space_percent  \n",
       "0  ones           ones   employed              7300.0      0.201465  \n",
       "1  ones           ones  employees             17634.0      0.198214  \n",
       "2  ones            NaN        NaN                 NaN           NaN  \n",
       "3  ones            NaN        NaN                 NaN           NaN  \n",
       "4  ones            NaN        NaN                 NaN           NaN  \n",
       "\n",
       "[5 rows x 28 columns]"
      ]
     },
     "execution_count": 120,
     "metadata": {},
     "output_type": "execute_result"
    }
   ],
   "source": [
    "full_match_left.loc[:,full_match_left_columns].head()"
   ]
  },
  {
   "cell_type": "markdown",
   "metadata": {
    "heading_collapsed": true
   },
   "source": [
    "### Miss examples"
   ]
  },
  {
   "cell_type": "markdown",
   "metadata": {
    "hidden": true
   },
   "source": [
    "Some of these are now caught."
   ]
  },
  {
   "cell_type": "code",
   "execution_count": 121,
   "metadata": {
    "ExecuteTime": {
     "end_time": "2018-08-06T16:38:05.422025Z",
     "start_time": "2018-08-06T16:38:05.201883Z"
    },
    "hidden": true
   },
   "outputs": [],
   "source": [
    "fn_list = [\n",
    "\"We had approximately 11,000 full-time and part-time employees as of January 30, 2016.\", \n",
    "\"As of December 31, 2016, Comerica and its subsidiaries had 7,659 full-time and 490 part-time employees.\", \n",
    "\"At December 31, 2016, we had approximately 1,150 employees on a full-time equivalent basis.\",\n",
    "\"The Company employed 4,482 persons on a full-time basis and 395 persons on a part-time basis at December 31, 2016.\", \n",
    "\"As of December 31, 2016, we had 428 employees (200 U.S. and 228 non-U.S.), the majority of whom are engaged in manufacturing operations, with the remainder primarily in sales, marketing and administrative functions.\", \n",
    "\"Retail stores employ a substantial number of part-time employees, and approximately 18,275 of the Company's employees were part-time at January 30, 2016.\", \n",
    "\"As of November 30, 2016 we had over 792 full-time employees.\", \n",
    "\"At December 31, 2016, we had approximately 960 employees, of whom approximately 500 were full-time, non-restaurant, corporate personnel.\", \n",
    "\"At December 30, 2016, we employed over 8,900 people.\", \n",
    "\"As of February 15, 2017, we had 2,254 employees, 1,157 of which were covered by a contract with Locals 304 and 1523 of the International Brotherhood of Electrical Workers that extends through June 30, 2018.\", \n",
    "\"The number of persons employed by the Company worldwide at December 31, 2016 was approximately 9,000.\", \n",
    "\"The Company's number of employees worldwide, including its corporate office employees and company-owned restaurant employees, was approximately 375,000 as of year-end 2016.\",\n",
    "\"As of December 31, 2016, ALLETE had 1,963 employees, of which 1,917 were full-time.\",\n",
    "\"As of December 31, 2016, the Company had 9,598 employees with 138 employed at MDU Resources Group, Inc., 1,030 at Montana-Dakota, 35 at Great Plains, 342 at Cascade, 236 at Intermountain, 342 at WBI Holdings, 3,099 at Knife River and 4,376 at MDU Construction Services.\",\n",
    "\"At December 31, 2016, and December 31, 2015 we had approximately 14,000 employees.\",\n",
    "\"At January 31, 2017, we employed approximately 1,800 full and part-time personnel none of which are represented by unions.\", \n",
    "\"During 2015, we employed approximately 72,500 employees on a full- or part-time basis.\", \n",
    "\" As of December 31, 2016, Eversource Energy employed a total of 7,762 employees, excluding temporary employees, of which 1,258 were employed by CL&P, 1,627 were employed by NSTAR Electric, 928 were employed by PSNH, and 297 were employed by WMECO.\", \n",
    "\"At December 31, 2016, we had 269,100 active, full-time equivalent team members.\", \n",
    "\"At December 31, 2016, the utility workforce consisted of 611 members of the Office and Professional Employees International Union (OPEIU) Local No. 11, AFL-CIO, and 497 non-union employees.\", \n",
    "\"The average number of persons employed worldwide by PPG during 2016 was about 47,000.\",\n",
    "\"Northern Trust employed approximately 17,100 full-time equivalent staff members as of December 31, 2016.\", \n",
    "\"With about 201,000 employees and 62 plants worldwide, our core business includes designing, manufacturing, marketing, and servicing a full line of Ford cars, trucks, and SUVs, as well as Lincoln luxury vehicles.\",\n",
    "\"Our policies are sold and serviced through a home service marketing distribution system of approximately 333 employee-agents who work on a route system and through over 286 funeral homes and independent agents to sell policies, collect premiums and service policyholders.\",\n",
    "]\n",
    "fn1 = nlp(fn_list[0])\n",
    "fn2 = nlp(fn_list[1])\n",
    "fn3 = nlp(fn_list[2])\n",
    "fn4 = nlp(fn_list[3])\n",
    "fn5 = nlp(fn_list[4])\n",
    "fn6 = nlp(fn_list[5])\n",
    "fn7 = nlp(fn_list[6])\n",
    "fn8 = nlp(fn_list[7])\n",
    "fn12 = nlp(fn_list[11])\n",
    "fn13 = nlp(fn_list[12])\n",
    "fn17 = nlp(fn_list[16])"
   ]
  },
  {
   "cell_type": "code",
   "execution_count": null,
   "metadata": {
    "ExecuteTime": {
     "end_time": "2018-08-06T16:38:05.826912Z",
     "start_time": "2018-08-06T16:38:05.203Z"
    },
    "hidden": true
   },
   "outputs": [],
   "source": [
    "print(\"verb rights: \", list(fn1[1].rights))\n",
    "print(\"employees tok rights: \", list(fn1[7].rights))\n",
    "print(\"employees tok lefts: \", list(fn1[7].lefts))\n",
    "print(\"employees tok children deps: \", [x.dep_ for x in list(fn1[7].children)])\n",
    "print(\"employees tok gc: \", [list(x.children) for x in list(fn1[7].children)])\n",
    "print(\"employees tok gc deps: \", [y.dep_  for x in list(fn1[7].children) for y in list(x.children)])"
   ]
  },
  {
   "cell_type": "code",
   "execution_count": null,
   "metadata": {
    "ExecuteTime": {
     "end_time": "2018-08-06T16:38:05.827910Z",
     "start_time": "2018-08-06T16:38:05.211Z"
    },
    "hidden": true
   },
   "outputs": [],
   "source": [
    "print(\"verb rights: \", list(fn2[11].rights))\n",
    "print(\"employees tok rights: \", list(fn2[17].rights))\n",
    "print(\"employees tok lefts: \", list(fn2[17].lefts))\n",
    "print(\"employees tok children deps: \", [x.dep_ for x in list(fn2[17].children)])\n",
    "print(\"employees tok gc: \", [list(x.children) for x in list(fn2[17].children)])\n",
    "print(\"employees tok gc deps: \", [y.dep_  for x in list(fn2[17].children) for y in list(x.children)])\n",
    "print(\"employees tok gc deps: \", [list(y.children)  for x in list(fn2[17].children) for y in list(x.children) if y._.is_emp_type])\n",
    "print(\"employees tok gc deps: \", [z.dep_  for x in list(fn2[17].children) for y in list(x.children) for z in list(y.children)  if y._.is_emp_type])"
   ]
  },
  {
   "cell_type": "code",
   "execution_count": null,
   "metadata": {
    "ExecuteTime": {
     "end_time": "2018-08-06T16:38:05.828911Z",
     "start_time": "2018-08-06T16:38:05.225Z"
    },
    "hidden": true
   },
   "outputs": [],
   "source": [
    "extract_emp_relations(fn1, verbose=True)"
   ]
  },
  {
   "cell_type": "code",
   "execution_count": null,
   "metadata": {
    "ExecuteTime": {
     "end_time": "2018-08-06T16:38:05.829913Z",
     "start_time": "2018-08-06T16:38:05.240Z"
    },
    "hidden": true
   },
   "outputs": [],
   "source": [
    "print_doc_info(fn1)"
   ]
  },
  {
   "cell_type": "code",
   "execution_count": null,
   "metadata": {
    "ExecuteTime": {
     "end_time": "2018-08-06T16:38:05.830913Z",
     "start_time": "2018-08-06T16:38:05.252Z"
    },
    "hidden": true
   },
   "outputs": [],
   "source": [
    "extract_emp_relations(fn2, verbose=True)"
   ]
  },
  {
   "cell_type": "code",
   "execution_count": 123,
   "metadata": {
    "ExecuteTime": {
     "end_time": "2018-08-06T16:39:20.640630Z",
     "start_time": "2018-08-06T16:39:20.638628Z"
    },
    "hidden": true
   },
   "outputs": [],
   "source": [
    "#print_df(make_tok_df(fn2))"
   ]
  },
  {
   "cell_type": "code",
   "execution_count": 124,
   "metadata": {
    "ExecuteTime": {
     "end_time": "2018-08-06T16:39:20.653637Z",
     "start_time": "2018-08-06T16:39:20.645632Z"
    },
    "hidden": true
   },
   "outputs": [
    {
     "data": {
      "text/plain": [
       "[part-time]"
      ]
     },
     "execution_count": 124,
     "metadata": {},
     "output_type": "execute_result"
    }
   ],
   "source": [
    "list(fn2[13].conjuncts)"
   ]
  },
  {
   "cell_type": "code",
   "execution_count": 125,
   "metadata": {
    "ExecuteTime": {
     "end_time": "2018-08-06T16:39:20.679656Z",
     "start_time": "2018-08-06T16:39:20.655640Z"
    },
    "hidden": true
   },
   "outputs": [
    {
     "name": "stdout",
     "output_type": "stream",
     "text": [
      "tok_emp_type_subtree:  [full-time, part-time]\n",
      "Flagged toks from tok.children: [full-time]\n",
      "type_conjs:  [part-time]\n",
      "Flagged_toks:  [full-time, part-time]\n",
      "Num_toks are: [490]\n"
     ]
    },
    {
     "data": {
      "text/plain": [
       "[490]"
      ]
     },
     "execution_count": 125,
     "metadata": {},
     "output_type": "execute_result"
    }
   ],
   "source": [
    "[get_nummod_tok(x,[], verbose=True) for x in find_emp_type_toks(fn2[17], verbose=True) if get_nummod_tok(x,[])]"
   ]
  },
  {
   "cell_type": "code",
   "execution_count": 126,
   "metadata": {
    "ExecuteTime": {
     "end_time": "2018-08-06T16:39:20.698668Z",
     "start_time": "2018-08-06T16:39:20.680656Z"
    },
    "hidden": true
   },
   "outputs": [
    {
     "name": "stdout",
     "output_type": "stream",
     "text": [
      "tok_emp_type_subtree:  [full-time, part-time]\n",
      "Flagged toks from tok.children: [full-time]\n",
      "type_conjs:  [part-time]\n",
      "Flagged_toks:  [full-time, part-time]\n"
     ]
    },
    {
     "data": {
      "text/plain": [
       "[]"
      ]
     },
     "execution_count": 126,
     "metadata": {},
     "output_type": "execute_result"
    }
   ],
   "source": [
    "get_nummod_tok(find_emp_type_toks(fn2[17], verbose=True)[0], [], verbose=True)"
   ]
  },
  {
   "cell_type": "code",
   "execution_count": 127,
   "metadata": {
    "ExecuteTime": {
     "end_time": "2018-08-06T16:39:20.740696Z",
     "start_time": "2018-08-06T16:39:20.699669Z"
    },
    "hidden": true
   },
   "outputs": [
    {
     "name": "stdout",
     "output_type": "stream",
     "text": [
      "doc is: \n",
      "As of December 31, 2016, Comerica and its subsidiaries had 7,659 full-time and 490 part-time employees.\n",
      "--------------------------------------------------\n",
      "Entities are: \n"
     ]
    },
    {
     "data": {
      "text/html": [
       "<table border=\"1\" class=\"dataframe\">\n",
       "  <thead>\n",
       "    <tr style=\"text-align: right;\">\n",
       "      <th></th>\n",
       "      <th>tok_i</th>\n",
       "      <th>entity</th>\n",
       "      <th>ent_label</th>\n",
       "      <th>root</th>\n",
       "      <th>root_dep</th>\n",
       "      <th>dep_def</th>\n",
       "      <th>root_head</th>\n",
       "      <th>root_head_dep</th>\n",
       "      <th>root_head_pos</th>\n",
       "    </tr>\n",
       "  </thead>\n",
       "  <tbody>\n",
       "    <tr>\n",
       "      <th>0</th>\n",
       "      <td>2</td>\n",
       "      <td>December 31, 2016</td>\n",
       "      <td>DATE</td>\n",
       "      <td>December</td>\n",
       "      <td>pobj</td>\n",
       "      <td>object of preposition</td>\n",
       "      <td>of</td>\n",
       "      <td>prep</td>\n",
       "      <td>ADP</td>\n",
       "    </tr>\n",
       "    <tr>\n",
       "      <th>1</th>\n",
       "      <td>7</td>\n",
       "      <td>Comerica</td>\n",
       "      <td>ORG</td>\n",
       "      <td>Comerica</td>\n",
       "      <td>nsubj</td>\n",
       "      <td>nominal subject</td>\n",
       "      <td>had</td>\n",
       "      <td>ROOT</td>\n",
       "      <td>VERB</td>\n",
       "    </tr>\n",
       "    <tr>\n",
       "      <th>2</th>\n",
       "      <td>12</td>\n",
       "      <td>7,659</td>\n",
       "      <td>CARDINAL</td>\n",
       "      <td>7,659</td>\n",
       "      <td>nummod</td>\n",
       "      <td>None</td>\n",
       "      <td>employees</td>\n",
       "      <td>dobj</td>\n",
       "      <td>NOUN</td>\n",
       "    </tr>\n",
       "    <tr>\n",
       "      <th>3</th>\n",
       "      <td>13</td>\n",
       "      <td>full-time</td>\n",
       "      <td>FULL_TIME</td>\n",
       "      <td>full-time</td>\n",
       "      <td>nmod</td>\n",
       "      <td>modifier of nominal</td>\n",
       "      <td>employees</td>\n",
       "      <td>dobj</td>\n",
       "      <td>NOUN</td>\n",
       "    </tr>\n",
       "    <tr>\n",
       "      <th>4</th>\n",
       "      <td>15</td>\n",
       "      <td>490</td>\n",
       "      <td>CARDINAL</td>\n",
       "      <td>490</td>\n",
       "      <td>nummod</td>\n",
       "      <td>None</td>\n",
       "      <td>part-time</td>\n",
       "      <td>conj</td>\n",
       "      <td>ADJ</td>\n",
       "    </tr>\n",
       "    <tr>\n",
       "      <th>5</th>\n",
       "      <td>16</td>\n",
       "      <td>part-time</td>\n",
       "      <td>PART_TIME</td>\n",
       "      <td>part-time</td>\n",
       "      <td>conj</td>\n",
       "      <td>conjunct</td>\n",
       "      <td>full-time</td>\n",
       "      <td>nmod</td>\n",
       "      <td>ADJ</td>\n",
       "    </tr>\n",
       "    <tr>\n",
       "      <th>6</th>\n",
       "      <td>17</td>\n",
       "      <td>employees</td>\n",
       "      <td>EMP_NOUN</td>\n",
       "      <td>employees</td>\n",
       "      <td>dobj</td>\n",
       "      <td>direct object</td>\n",
       "      <td>had</td>\n",
       "      <td>ROOT</td>\n",
       "      <td>VERB</td>\n",
       "    </tr>\n",
       "  </tbody>\n",
       "</table>"
      ],
      "text/plain": [
       "<IPython.core.display.HTML object>"
      ]
     },
     "metadata": {},
     "output_type": "display_data"
    },
    {
     "name": "stdout",
     "output_type": "stream",
     "text": [
      "--------------------------------------------------\n",
      "Noun chunks are: \n"
     ]
    },
    {
     "data": {
      "text/html": [
       "<table border=\"1\" class=\"dataframe\">\n",
       "  <thead>\n",
       "    <tr style=\"text-align: right;\">\n",
       "      <th></th>\n",
       "      <th>tok_i</th>\n",
       "      <th>noun_chunk</th>\n",
       "      <th>root</th>\n",
       "      <th>root_ent</th>\n",
       "      <th>root_dep</th>\n",
       "      <th>dep_def</th>\n",
       "      <th>root_head</th>\n",
       "      <th>root_head_dep</th>\n",
       "      <th>root_head_pos</th>\n",
       "    </tr>\n",
       "  </thead>\n",
       "  <tbody>\n",
       "    <tr>\n",
       "      <th>0</th>\n",
       "      <td>2</td>\n",
       "      <td>December</td>\n",
       "      <td>December</td>\n",
       "      <td>DATE</td>\n",
       "      <td>pobj</td>\n",
       "      <td>object of preposition</td>\n",
       "      <td>of</td>\n",
       "      <td>prep</td>\n",
       "      <td>ADP</td>\n",
       "    </tr>\n",
       "    <tr>\n",
       "      <th>1</th>\n",
       "      <td>7</td>\n",
       "      <td>Comerica</td>\n",
       "      <td>Comerica</td>\n",
       "      <td>ORG</td>\n",
       "      <td>nsubj</td>\n",
       "      <td>nominal subject</td>\n",
       "      <td>had</td>\n",
       "      <td>ROOT</td>\n",
       "      <td>VERB</td>\n",
       "    </tr>\n",
       "    <tr>\n",
       "      <th>2</th>\n",
       "      <td>9</td>\n",
       "      <td>its subsidiaries</td>\n",
       "      <td>subsidiaries</td>\n",
       "      <td></td>\n",
       "      <td>conj</td>\n",
       "      <td>conjunct</td>\n",
       "      <td>Comerica</td>\n",
       "      <td>nsubj</td>\n",
       "      <td>PROPN</td>\n",
       "    </tr>\n",
       "    <tr>\n",
       "      <th>3</th>\n",
       "      <td>12</td>\n",
       "      <td>7,659 full-time and 490 part-time employees</td>\n",
       "      <td>employees</td>\n",
       "      <td>EMP_NOUN</td>\n",
       "      <td>dobj</td>\n",
       "      <td>direct object</td>\n",
       "      <td>had</td>\n",
       "      <td>ROOT</td>\n",
       "      <td>VERB</td>\n",
       "    </tr>\n",
       "  </tbody>\n",
       "</table>"
      ],
      "text/plain": [
       "<IPython.core.display.HTML object>"
      ]
     },
     "metadata": {},
     "output_type": "display_data"
    },
    {
     "name": "stdout",
     "output_type": "stream",
     "text": [
      "--------------------------------------------------\n",
      "Cardinal entities are: \n"
     ]
    },
    {
     "data": {
      "text/html": [
       "<table border=\"1\" class=\"dataframe\">\n",
       "  <thead>\n",
       "    <tr style=\"text-align: right;\">\n",
       "      <th></th>\n",
       "      <th>tok_ent</th>\n",
       "      <th>toks</th>\n",
       "      <th>lemma</th>\n",
       "      <th>dep</th>\n",
       "      <th>head</th>\n",
       "      <th>h_dep</th>\n",
       "      <th>pos</th>\n",
       "      <th>tag</th>\n",
       "      <th>dep_def</th>\n",
       "      <th>tag_def</th>\n",
       "    </tr>\n",
       "  </thead>\n",
       "  <tbody>\n",
       "    <tr>\n",
       "      <th>0</th>\n",
       "      <td>CARDINAL</td>\n",
       "      <td>7,659</td>\n",
       "      <td>7,659</td>\n",
       "      <td>nummod</td>\n",
       "      <td>employees</td>\n",
       "      <td>dobj</td>\n",
       "      <td>NUM</td>\n",
       "      <td>CD</td>\n",
       "      <td>None</td>\n",
       "      <td>cardinal number</td>\n",
       "    </tr>\n",
       "    <tr>\n",
       "      <th>1</th>\n",
       "      <td>CARDINAL</td>\n",
       "      <td>490</td>\n",
       "      <td>490</td>\n",
       "      <td>nummod</td>\n",
       "      <td>part-time</td>\n",
       "      <td>conj</td>\n",
       "      <td>NUM</td>\n",
       "      <td>CD</td>\n",
       "      <td>None</td>\n",
       "      <td>cardinal number</td>\n",
       "    </tr>\n",
       "  </tbody>\n",
       "</table>"
      ],
      "text/plain": [
       "<IPython.core.display.HTML object>"
      ]
     },
     "metadata": {},
     "output_type": "display_data"
    }
   ],
   "source": [
    "print_doc_info(fn2)"
   ]
  },
  {
   "cell_type": "code",
   "execution_count": 128,
   "metadata": {
    "ExecuteTime": {
     "end_time": "2018-08-06T16:39:20.783724Z",
     "start_time": "2018-08-06T16:39:20.742697Z"
    },
    "hidden": true
   },
   "outputs": [
    {
     "name": "stdout",
     "output_type": "stream",
     "text": [
      "Word_id is : 0\n",
      "Word is : employees\n",
      "Word subtree is :  approximately 1,150 employees on a full-time equivalent\n",
      "Word children :  [1,150, on]\n",
      "Num_toks are: [1,150]\n",
      "tok_emp_type_subtree:  [full-time equivalent]\n",
      "Finding emp_type, emp_tok is dobj\n",
      "emp_noun tok head: had\n",
      "tok_head_emptype_subtreee: [full-time equivalent]\n",
      "tok_head_empnoun_subtreee: [employees]\n",
      "Flagged toks from tok_head_emptype_subtreee: [full-time equivalent]\n",
      "Flagged tok heads: [basis]\n",
      "Flagged tok head deps: ['pobj']\n",
      "Flagged_toks:  [full-time equivalent]\n",
      "Dep_ of EMP_NOUN is: dobj\n",
      "Root is at 1 steps from employees.\n",
      "Parts found:  (we, had, 1,150, 'Full-Time Employees', [full-time equivalent], employees)\n"
     ]
    },
    {
     "data": {
      "text/plain": [
       "[RelationDetails(sent_num=0, word_num=0, subject=we, verb=had, quantity=1,150, quantity_type='Full-Time Employees', type_token=[full-time equivalent], word=employees, word_dep='dobj', depth=1, sentence='At December 31, 2016, we had approximately 1,150 employees on a full-time equivalent basis.')]"
      ]
     },
     "execution_count": 128,
     "metadata": {},
     "output_type": "execute_result"
    }
   ],
   "source": [
    "extract_emp_relations(fn3, verbose=True)"
   ]
  },
  {
   "cell_type": "code",
   "execution_count": 129,
   "metadata": {
    "ExecuteTime": {
     "end_time": "2018-08-06T16:39:20.848769Z",
     "start_time": "2018-08-06T16:39:20.784725Z"
    },
    "hidden": true
   },
   "outputs": [
    {
     "name": "stdout",
     "output_type": "stream",
     "text": [
      "Word_id is : 0\n",
      "Word is : persons\n",
      "Word subtree is :  4,482\n",
      "Word children :  [4,482]\n",
      "Num_toks are: [4,482]\n",
      "Finding emp_type, emp_tok is dobj\n",
      "emp_noun tok head: employed\n",
      "tok_head_emptype_subtreee: [full-time, part-time]\n",
      "tok_head_empnoun_subtreee: [persons, persons]\n",
      "Flagged toks from tok_head_emptype_subtreee: [full-time]\n",
      "Flagged tok heads: [basis]\n",
      "Flagged tok head deps: ['pobj']\n",
      "Flagged_toks:  [full-time]\n",
      "Dep_ of EMP_NOUN is: dobj\n",
      "Root is at 2 steps from persons.\n",
      "Parts found:  (Company, employed, 4,482, 'Full-Time Employees', [full-time], persons)\n",
      "Word_id is : 1\n",
      "Word is : persons\n",
      "Word subtree is :  395 persons on a part-time\n",
      "Word children :  [395, on]\n",
      "Num_toks are: [395]\n",
      "tok_emp_type_subtree:  [part-time]\n",
      "Flagged toks from tok_emp_subtree: [part-time]\n",
      "t.dep_ == 'compound', t.head.dep_ == 'pobj', and t.head.head.head is emp_noun\n",
      "Flagged_toks:  [part-time]\n",
      "Dep_ of EMP_NOUN is: conj\n",
      "Emp_noun token has dep_ == 'conj'.\n",
      "Child num_tok: 395\n",
      "Head num_tok: []\n",
      "Parts found:  (Company, employed, 395, 'Part-Time Employees', [part-time], persons)\n"
     ]
    },
    {
     "data": {
      "text/plain": [
       "[RelationDetails(sent_num=0, word_num=0, subject=Company, verb=employed, quantity=4,482, quantity_type='Full-Time Employees', type_token=[full-time], word=persons, word_dep='dobj', depth=2, sentence='The Company employed 4,482 persons on a full-time basis and 395 persons on a part-time basis at December 31, 2016.'),\n",
       " RelationDetails(sent_num=0, word_num=1, subject=Company, verb=employed, quantity=395, quantity_type='Part-Time Employees', type_token=[part-time], word=persons, word_dep='conj', depth=2, sentence='The Company employed 4,482 persons on a full-time basis and 395 persons on a part-time basis at December 31, 2016.')]"
      ]
     },
     "execution_count": 129,
     "metadata": {},
     "output_type": "execute_result"
    }
   ],
   "source": [
    "extract_emp_relations(fn4, verbose=True)"
   ]
  },
  {
   "cell_type": "code",
   "execution_count": 130,
   "metadata": {
    "ExecuteTime": {
     "end_time": "2018-08-06T16:39:20.853772Z",
     "start_time": "2018-08-06T16:39:20.850771Z"
    },
    "hidden": true
   },
   "outputs": [],
   "source": [
    "#print_df(make_tok_df(fn4))"
   ]
  },
  {
   "cell_type": "code",
   "execution_count": 131,
   "metadata": {
    "ExecuteTime": {
     "end_time": "2018-08-06T16:39:20.907807Z",
     "start_time": "2018-08-06T16:39:20.855773Z"
    },
    "hidden": true
   },
   "outputs": [
    {
     "name": "stdout",
     "output_type": "stream",
     "text": [
      "doc is: \n",
      "The Company employed 4,482 persons on a full-time basis and 395 persons on a part-time basis at December 31, 2016.\n",
      "--------------------------------------------------\n",
      "Entities are: \n"
     ]
    },
    {
     "data": {
      "text/html": [
       "<table border=\"1\" class=\"dataframe\">\n",
       "  <thead>\n",
       "    <tr style=\"text-align: right;\">\n",
       "      <th></th>\n",
       "      <th>tok_i</th>\n",
       "      <th>entity</th>\n",
       "      <th>ent_label</th>\n",
       "      <th>root</th>\n",
       "      <th>root_dep</th>\n",
       "      <th>dep_def</th>\n",
       "      <th>root_head</th>\n",
       "      <th>root_head_dep</th>\n",
       "      <th>root_head_pos</th>\n",
       "    </tr>\n",
       "  </thead>\n",
       "  <tbody>\n",
       "    <tr>\n",
       "      <th>0</th>\n",
       "      <td>3</td>\n",
       "      <td>4,482</td>\n",
       "      <td>CARDINAL</td>\n",
       "      <td>4,482</td>\n",
       "      <td>nummod</td>\n",
       "      <td>None</td>\n",
       "      <td>persons</td>\n",
       "      <td>dobj</td>\n",
       "      <td>NOUN</td>\n",
       "    </tr>\n",
       "    <tr>\n",
       "      <th>1</th>\n",
       "      <td>4</td>\n",
       "      <td>persons</td>\n",
       "      <td>EMP_NOUN</td>\n",
       "      <td>persons</td>\n",
       "      <td>dobj</td>\n",
       "      <td>direct object</td>\n",
       "      <td>employed</td>\n",
       "      <td>ROOT</td>\n",
       "      <td>VERB</td>\n",
       "    </tr>\n",
       "    <tr>\n",
       "      <th>2</th>\n",
       "      <td>7</td>\n",
       "      <td>full-time</td>\n",
       "      <td>FULL_TIME</td>\n",
       "      <td>full-time</td>\n",
       "      <td>compound</td>\n",
       "      <td>None</td>\n",
       "      <td>basis</td>\n",
       "      <td>pobj</td>\n",
       "      <td>NOUN</td>\n",
       "    </tr>\n",
       "    <tr>\n",
       "      <th>3</th>\n",
       "      <td>10</td>\n",
       "      <td>395</td>\n",
       "      <td>CARDINAL</td>\n",
       "      <td>395</td>\n",
       "      <td>nummod</td>\n",
       "      <td>None</td>\n",
       "      <td>persons</td>\n",
       "      <td>conj</td>\n",
       "      <td>NOUN</td>\n",
       "    </tr>\n",
       "    <tr>\n",
       "      <th>4</th>\n",
       "      <td>11</td>\n",
       "      <td>persons</td>\n",
       "      <td>EMP_NOUN</td>\n",
       "      <td>persons</td>\n",
       "      <td>conj</td>\n",
       "      <td>conjunct</td>\n",
       "      <td>employed</td>\n",
       "      <td>ROOT</td>\n",
       "      <td>VERB</td>\n",
       "    </tr>\n",
       "    <tr>\n",
       "      <th>5</th>\n",
       "      <td>14</td>\n",
       "      <td>part-time</td>\n",
       "      <td>PART_TIME</td>\n",
       "      <td>part-time</td>\n",
       "      <td>compound</td>\n",
       "      <td>None</td>\n",
       "      <td>basis</td>\n",
       "      <td>pobj</td>\n",
       "      <td>NOUN</td>\n",
       "    </tr>\n",
       "    <tr>\n",
       "      <th>6</th>\n",
       "      <td>17</td>\n",
       "      <td>December 31, 2016</td>\n",
       "      <td>DATE</td>\n",
       "      <td>December</td>\n",
       "      <td>pobj</td>\n",
       "      <td>object of preposition</td>\n",
       "      <td>at</td>\n",
       "      <td>prep</td>\n",
       "      <td>ADP</td>\n",
       "    </tr>\n",
       "  </tbody>\n",
       "</table>"
      ],
      "text/plain": [
       "<IPython.core.display.HTML object>"
      ]
     },
     "metadata": {},
     "output_type": "display_data"
    },
    {
     "name": "stdout",
     "output_type": "stream",
     "text": [
      "--------------------------------------------------\n",
      "Noun chunks are: \n"
     ]
    },
    {
     "data": {
      "text/html": [
       "<table border=\"1\" class=\"dataframe\">\n",
       "  <thead>\n",
       "    <tr style=\"text-align: right;\">\n",
       "      <th></th>\n",
       "      <th>tok_i</th>\n",
       "      <th>noun_chunk</th>\n",
       "      <th>root</th>\n",
       "      <th>root_ent</th>\n",
       "      <th>root_dep</th>\n",
       "      <th>dep_def</th>\n",
       "      <th>root_head</th>\n",
       "      <th>root_head_dep</th>\n",
       "      <th>root_head_pos</th>\n",
       "    </tr>\n",
       "  </thead>\n",
       "  <tbody>\n",
       "    <tr>\n",
       "      <th>0</th>\n",
       "      <td>0</td>\n",
       "      <td>The Company</td>\n",
       "      <td>Company</td>\n",
       "      <td></td>\n",
       "      <td>nsubj</td>\n",
       "      <td>nominal subject</td>\n",
       "      <td>employed</td>\n",
       "      <td>ROOT</td>\n",
       "      <td>VERB</td>\n",
       "    </tr>\n",
       "    <tr>\n",
       "      <th>1</th>\n",
       "      <td>3</td>\n",
       "      <td>4,482 persons</td>\n",
       "      <td>persons</td>\n",
       "      <td>EMP_NOUN</td>\n",
       "      <td>dobj</td>\n",
       "      <td>direct object</td>\n",
       "      <td>employed</td>\n",
       "      <td>ROOT</td>\n",
       "      <td>VERB</td>\n",
       "    </tr>\n",
       "    <tr>\n",
       "      <th>2</th>\n",
       "      <td>6</td>\n",
       "      <td>a full-time basis</td>\n",
       "      <td>basis</td>\n",
       "      <td></td>\n",
       "      <td>pobj</td>\n",
       "      <td>object of preposition</td>\n",
       "      <td>on</td>\n",
       "      <td>prep</td>\n",
       "      <td>ADP</td>\n",
       "    </tr>\n",
       "    <tr>\n",
       "      <th>3</th>\n",
       "      <td>10</td>\n",
       "      <td>395 persons</td>\n",
       "      <td>persons</td>\n",
       "      <td>EMP_NOUN</td>\n",
       "      <td>conj</td>\n",
       "      <td>conjunct</td>\n",
       "      <td>employed</td>\n",
       "      <td>ROOT</td>\n",
       "      <td>VERB</td>\n",
       "    </tr>\n",
       "    <tr>\n",
       "      <th>4</th>\n",
       "      <td>13</td>\n",
       "      <td>a part-time basis</td>\n",
       "      <td>basis</td>\n",
       "      <td></td>\n",
       "      <td>pobj</td>\n",
       "      <td>object of preposition</td>\n",
       "      <td>on</td>\n",
       "      <td>prep</td>\n",
       "      <td>ADP</td>\n",
       "    </tr>\n",
       "    <tr>\n",
       "      <th>5</th>\n",
       "      <td>17</td>\n",
       "      <td>December</td>\n",
       "      <td>December</td>\n",
       "      <td>DATE</td>\n",
       "      <td>pobj</td>\n",
       "      <td>object of preposition</td>\n",
       "      <td>at</td>\n",
       "      <td>prep</td>\n",
       "      <td>ADP</td>\n",
       "    </tr>\n",
       "  </tbody>\n",
       "</table>"
      ],
      "text/plain": [
       "<IPython.core.display.HTML object>"
      ]
     },
     "metadata": {},
     "output_type": "display_data"
    },
    {
     "name": "stdout",
     "output_type": "stream",
     "text": [
      "--------------------------------------------------\n",
      "Cardinal entities are: \n"
     ]
    },
    {
     "data": {
      "text/html": [
       "<table border=\"1\" class=\"dataframe\">\n",
       "  <thead>\n",
       "    <tr style=\"text-align: right;\">\n",
       "      <th></th>\n",
       "      <th>tok_ent</th>\n",
       "      <th>toks</th>\n",
       "      <th>lemma</th>\n",
       "      <th>dep</th>\n",
       "      <th>head</th>\n",
       "      <th>h_dep</th>\n",
       "      <th>pos</th>\n",
       "      <th>tag</th>\n",
       "      <th>dep_def</th>\n",
       "      <th>tag_def</th>\n",
       "    </tr>\n",
       "  </thead>\n",
       "  <tbody>\n",
       "    <tr>\n",
       "      <th>0</th>\n",
       "      <td>CARDINAL</td>\n",
       "      <td>4,482</td>\n",
       "      <td>4,482</td>\n",
       "      <td>nummod</td>\n",
       "      <td>persons</td>\n",
       "      <td>dobj</td>\n",
       "      <td>NUM</td>\n",
       "      <td>CD</td>\n",
       "      <td>None</td>\n",
       "      <td>cardinal number</td>\n",
       "    </tr>\n",
       "    <tr>\n",
       "      <th>1</th>\n",
       "      <td>CARDINAL</td>\n",
       "      <td>395</td>\n",
       "      <td>395</td>\n",
       "      <td>nummod</td>\n",
       "      <td>persons</td>\n",
       "      <td>conj</td>\n",
       "      <td>NUM</td>\n",
       "      <td>CD</td>\n",
       "      <td>None</td>\n",
       "      <td>cardinal number</td>\n",
       "    </tr>\n",
       "  </tbody>\n",
       "</table>"
      ],
      "text/plain": [
       "<IPython.core.display.HTML object>"
      ]
     },
     "metadata": {},
     "output_type": "display_data"
    }
   ],
   "source": [
    "print_doc_info(fn4)"
   ]
  },
  {
   "cell_type": "code",
   "execution_count": 132,
   "metadata": {
    "ExecuteTime": {
     "end_time": "2018-08-06T16:39:27.377125Z",
     "start_time": "2018-08-06T16:39:27.356111Z"
    },
    "hidden": true
   },
   "outputs": [
    {
     "name": "stdout",
     "output_type": "stream",
     "text": [
      "employed\n",
      "[The, Company, employed, 4,482, persons, on, a, full-time, basis, and, 395, persons, on, a, part-time, basis, at, December, 31, ,, 2016, .]\n",
      "[full-time, part-time]\n",
      "[persons, persons]\n",
      "emp noun tok indices:  [4, 11]\n",
      "emp noun list index:  0\n"
     ]
    }
   ],
   "source": [
    "print(fn4[7].head.head.head)\n",
    "print(list(fn4[4].head.subtree))\n",
    "print([t for t in list(fn4[4].head.subtree) if t._.is_emp_type])\n",
    "print([t for t in list(fn4[4].head.subtree) if t._.is_emp_noun])\n",
    "print(\"emp noun tok indices: \", [t.i for t in list(fn4[4].head.subtree) if t._.is_emp_noun])\n",
    "print(\"emp noun list index: \", [t for t in list(fn4[4].head.subtree) if t._.is_emp_noun].index(fn4[4]))"
   ]
  },
  {
   "cell_type": "code",
   "execution_count": 133,
   "metadata": {
    "ExecuteTime": {
     "end_time": "2018-08-06T16:39:27.425158Z",
     "start_time": "2018-08-06T16:39:27.379127Z"
    },
    "hidden": true
   },
   "outputs": [
    {
     "name": "stdout",
     "output_type": "stream",
     "text": [
      "Word_id is : 0\n",
      "Word is : employees\n",
      "Word subtree is :  428 employees (200 U.S. and 228 non-U.S.\n",
      "Word children :  [428, (, U.S., )]\n",
      "Num_toks are: [428]\n",
      "Root token lemma not one of ['be', 'employ', 'have']. \n",
      "Root token, lemma are : had have\n",
      "[As, of, December, 31, ,, 2016, ,, we, had, 428, employees, (, 200, U.S., and, 228, non, -, U.S., )]\n",
      "Finding emp_type, emp_tok is dobj\n",
      "emp_noun tok head: had\n",
      "tok_head_emptype_subtreee: []\n",
      "tok_head_empnoun_subtreee: [employees]\n",
      "Candidate tok:  428\n",
      "Candidate tok.pos_:   NUM\n",
      "Candidate tok.dep_:   nummod\n",
      "No toks, returning 0.\n",
      "Dep_ of EMP_NOUN is: dobj\n",
      "Root is at 2 steps from employees.\n",
      "Parts found:  (we, had, 428, 'Other Employees', [], employees)\n"
     ]
    },
    {
     "data": {
      "text/plain": [
       "[RelationDetails(sent_num=0, word_num=0, subject=we, verb=had, quantity=428, quantity_type='Other Employees', type_token=[], word=employees, word_dep='dobj', depth=2, sentence='As of December 31, 2016, we had 428 employees (200 U.S. and 228 non-U.S.), the majority of whom are engaged in manufacturing operations, with the remainder primarily in sales, marketing and administrative functions.')]"
      ]
     },
     "execution_count": 133,
     "metadata": {},
     "output_type": "execute_result"
    }
   ],
   "source": [
    "extract_emp_relations(fn5, verbose=True)"
   ]
  },
  {
   "cell_type": "code",
   "execution_count": 134,
   "metadata": {
    "ExecuteTime": {
     "end_time": "2018-08-06T16:39:27.474188Z",
     "start_time": "2018-08-06T16:39:27.427159Z"
    },
    "hidden": true
   },
   "outputs": [
    {
     "name": "stdout",
     "output_type": "stream",
     "text": [
      "Word_id is : 0\n",
      "Word is : employees\n",
      "Word subtree is :  approximately 960 employees, of whom approximately 500 were full-time, non-restaurant, corporate\n",
      "Word children :  [960, ,, were]\n",
      "Num_toks are: [960]\n",
      "tok_emp_type_subtree:  [full-time]\n",
      "Finding emp_type, emp_tok is dobj\n",
      "emp_noun tok head: had\n",
      "tok_head_emptype_subtreee: [full-time]\n",
      "tok_head_empnoun_subtreee: [employees]\n",
      "Flagged toks from tok_head_emptype_subtreee: [full-time]\n",
      "Flagged tok heads: [personnel]\n",
      "Flagged tok head deps: ['attr']\n",
      "Flagged_toks:  [full-time]\n",
      "Dep_ of EMP_NOUN is: dobj\n",
      "Root is at 1 steps from employees.\n",
      "Parts found:  (we, had, 960, 'Full-Time Employees', [full-time], employees)\n"
     ]
    },
    {
     "data": {
      "text/plain": [
       "[RelationDetails(sent_num=0, word_num=0, subject=we, verb=had, quantity=960, quantity_type='Full-Time Employees', type_token=[full-time], word=employees, word_dep='dobj', depth=1, sentence='At December 31, 2016, we had approximately 960 employees, of whom approximately 500 were full-time, non-restaurant, corporate personnel.')]"
      ]
     },
     "execution_count": 134,
     "metadata": {},
     "output_type": "execute_result"
    }
   ],
   "source": [
    "extract_emp_relations(fn8, verbose=True)"
   ]
  },
  {
   "cell_type": "code",
   "execution_count": 135,
   "metadata": {
    "ExecuteTime": {
     "end_time": "2018-08-06T16:39:27.479193Z",
     "start_time": "2018-08-06T16:39:27.476189Z"
    },
    "hidden": true
   },
   "outputs": [],
   "source": [
    "#print_df(make_tok_df(fn8))"
   ]
  },
  {
   "cell_type": "code",
   "execution_count": 136,
   "metadata": {
    "ExecuteTime": {
     "end_time": "2018-08-06T16:39:27.493201Z",
     "start_time": "2018-08-06T16:39:27.481193Z"
    },
    "hidden": true
   },
   "outputs": [
    {
     "data": {
      "text/plain": [
       "[full-time, ,, corporate]"
      ]
     },
     "execution_count": 136,
     "metadata": {},
     "output_type": "execute_result"
    }
   ],
   "source": [
    "list(fn8[17].head.lefts)"
   ]
  },
  {
   "cell_type": "code",
   "execution_count": 137,
   "metadata": {
    "ExecuteTime": {
     "end_time": "2018-08-06T16:39:27.585262Z",
     "start_time": "2018-08-06T16:39:27.495202Z"
    },
    "hidden": true
   },
   "outputs": [
    {
     "name": "stdout",
     "output_type": "stream",
     "text": [
      "Word_id is : 0\n",
      "Word is : employees\n",
      "Word subtree is :  \n",
      "Word children :  []\n",
      "No toks, returning 0.\n",
      "Dep_ of EMP_NOUN is: pobj\n",
      "years: [(28, 2016)]\n",
      "emp_counts: [(22, 375,000)]\n",
      "order_indices: [0]\n",
      "year_emps: [(2016, 375,000)]\n",
      "Sentence has multiple years:[(28, 2016)]\n",
      "First card subtree is :[approximately, 375,000, as, of, year, -, end, 2016]\n",
      "years: [(28, 2016)]\n",
      "cards: [375,000]\n",
      "emp_counts: [(22, 375,000)]\n",
      "Root is at 3 steps from employees.\n",
      "Parts found:  (The Company's number of employees worldwide, including its corporate office employees and company-owned restaurant employees,, was, 375,000, 'Other Employees', [], employees)\n",
      "Word_id is : 1\n",
      "Word is : employees\n",
      "Word subtree is :  its corporate office employees and company-owned restaurant\n",
      "Word children :  [its, corporate, office, and, employees]\n",
      "Dep_ of EMP_NOUN is: pobj\n",
      "years: [(28, 2016)]\n",
      "emp_counts: [(22, 375,000)]\n",
      "order_indices: [0]\n",
      "year_emps: [(2016, 375,000)]\n",
      "Sentence has multiple years:[(28, 2016)]\n",
      "First card subtree is :[approximately, 375,000, as, of, year, -, end, 2016]\n",
      "years: [(28, 2016)]\n",
      "cards: [375,000]\n",
      "emp_counts: [(22, 375,000)]\n",
      "Root is at 3 steps from employees.\n",
      "Parts found:  (The Company's number of employees worldwide, including its corporate office employees and company-owned restaurant employees,, was, 375,000, 'Other Employees', [office], employees)\n",
      "Word_id is : 2\n",
      "Word is : employees\n",
      "Word subtree is :  company-owned restaurant\n",
      "Word children :  [owned, restaurant]\n",
      "Dep_ of EMP_NOUN is: conj\n",
      "Emp_noun token has dep_ == 'conj'.\n",
      "Child num_tok: []\n",
      "Head num_tok: []\n"
     ]
    },
    {
     "data": {
      "text/plain": [
       "[RelationDetails(sent_num=0, word_num=0, subject=The Company's number of employees worldwide, including its corporate office employees and company-owned restaurant employees,, verb=was, quantity=375,000, quantity_type='Other Employees', type_token=[], word=employees, word_dep='pobj', depth=3, sentence=\"The Company's number of employees worldwide, including its corporate office employees and company-owned restaurant employees, was approximately 375,000 as of year-end 2016.\"),\n",
       " RelationDetails(sent_num=0, word_num=1, subject=The Company's number of employees worldwide, including its corporate office employees and company-owned restaurant employees,, verb=was, quantity=375,000, quantity_type='Other Employees', type_token=[office], word=employees, word_dep='pobj', depth=3, sentence=\"The Company's number of employees worldwide, including its corporate office employees and company-owned restaurant employees, was approximately 375,000 as of year-end 2016.\")]"
      ]
     },
     "execution_count": 137,
     "metadata": {},
     "output_type": "execute_result"
    }
   ],
   "source": [
    "extract_emp_relations(fn12, verbose=True)"
   ]
  },
  {
   "cell_type": "code",
   "execution_count": 138,
   "metadata": {
    "ExecuteTime": {
     "end_time": "2018-08-06T16:39:27.589265Z",
     "start_time": "2018-08-06T16:39:27.587263Z"
    },
    "hidden": true
   },
   "outputs": [],
   "source": [
    "#print_df(make_tok_df(fn12))"
   ]
  },
  {
   "cell_type": "code",
   "execution_count": 139,
   "metadata": {
    "ExecuteTime": {
     "end_time": "2018-08-06T16:39:27.649306Z",
     "start_time": "2018-08-06T16:39:27.592267Z"
    },
    "hidden": true
   },
   "outputs": [
    {
     "name": "stdout",
     "output_type": "stream",
     "text": [
      "doc is: \n",
      "The Company's number of employees worldwide, including its corporate office employees and company-owned restaurant employees, was approximately 375,000 as of year-end 2016.\n",
      "--------------------------------------------------\n",
      "Entities are: \n"
     ]
    },
    {
     "data": {
      "text/html": [
       "<table border=\"1\" class=\"dataframe\">\n",
       "  <thead>\n",
       "    <tr style=\"text-align: right;\">\n",
       "      <th></th>\n",
       "      <th>tok_i</th>\n",
       "      <th>entity</th>\n",
       "      <th>ent_label</th>\n",
       "      <th>root</th>\n",
       "      <th>root_dep</th>\n",
       "      <th>dep_def</th>\n",
       "      <th>root_head</th>\n",
       "      <th>root_head_dep</th>\n",
       "      <th>root_head_pos</th>\n",
       "    </tr>\n",
       "  </thead>\n",
       "  <tbody>\n",
       "    <tr>\n",
       "      <th>0</th>\n",
       "      <td>1</td>\n",
       "      <td>Company</td>\n",
       "      <td>ORG</td>\n",
       "      <td>Company</td>\n",
       "      <td>poss</td>\n",
       "      <td>possession modifier</td>\n",
       "      <td>number</td>\n",
       "      <td>nsubj</td>\n",
       "      <td>NOUN</td>\n",
       "    </tr>\n",
       "    <tr>\n",
       "      <th>1</th>\n",
       "      <td>5</td>\n",
       "      <td>employees</td>\n",
       "      <td>EMP_NOUN</td>\n",
       "      <td>employees</td>\n",
       "      <td>pobj</td>\n",
       "      <td>object of preposition</td>\n",
       "      <td>of</td>\n",
       "      <td>prep</td>\n",
       "      <td>ADP</td>\n",
       "    </tr>\n",
       "    <tr>\n",
       "      <th>2</th>\n",
       "      <td>12</td>\n",
       "      <td>employees</td>\n",
       "      <td>EMP_NOUN</td>\n",
       "      <td>employees</td>\n",
       "      <td>pobj</td>\n",
       "      <td>object of preposition</td>\n",
       "      <td>including</td>\n",
       "      <td>prep</td>\n",
       "      <td>VERB</td>\n",
       "    </tr>\n",
       "    <tr>\n",
       "      <th>3</th>\n",
       "      <td>18</td>\n",
       "      <td>employees</td>\n",
       "      <td>EMP_NOUN</td>\n",
       "      <td>employees</td>\n",
       "      <td>conj</td>\n",
       "      <td>conjunct</td>\n",
       "      <td>employees</td>\n",
       "      <td>pobj</td>\n",
       "      <td>NOUN</td>\n",
       "    </tr>\n",
       "    <tr>\n",
       "      <th>4</th>\n",
       "      <td>21</td>\n",
       "      <td>approximately</td>\n",
       "      <td>DATE</td>\n",
       "      <td>approximately</td>\n",
       "      <td>advmod</td>\n",
       "      <td>adverbial modifier</td>\n",
       "      <td>375,000</td>\n",
       "      <td>attr</td>\n",
       "      <td>NUM</td>\n",
       "    </tr>\n",
       "    <tr>\n",
       "      <th>5</th>\n",
       "      <td>22</td>\n",
       "      <td>375,000</td>\n",
       "      <td>FALSE_DATE</td>\n",
       "      <td>375,000</td>\n",
       "      <td>attr</td>\n",
       "      <td>attribute</td>\n",
       "      <td>was</td>\n",
       "      <td>ROOT</td>\n",
       "      <td>VERB</td>\n",
       "    </tr>\n",
       "    <tr>\n",
       "      <th>6</th>\n",
       "      <td>23</td>\n",
       "      <td>as of year-end 2016.</td>\n",
       "      <td>DATE</td>\n",
       "      <td>as</td>\n",
       "      <td>prep</td>\n",
       "      <td>prepositional modifier</td>\n",
       "      <td>375,000</td>\n",
       "      <td>attr</td>\n",
       "      <td>NUM</td>\n",
       "    </tr>\n",
       "  </tbody>\n",
       "</table>"
      ],
      "text/plain": [
       "<IPython.core.display.HTML object>"
      ]
     },
     "metadata": {},
     "output_type": "display_data"
    },
    {
     "name": "stdout",
     "output_type": "stream",
     "text": [
      "--------------------------------------------------\n",
      "Noun chunks are: \n"
     ]
    },
    {
     "data": {
      "text/html": [
       "<table border=\"1\" class=\"dataframe\">\n",
       "  <thead>\n",
       "    <tr style=\"text-align: right;\">\n",
       "      <th></th>\n",
       "      <th>tok_i</th>\n",
       "      <th>noun_chunk</th>\n",
       "      <th>root</th>\n",
       "      <th>root_ent</th>\n",
       "      <th>root_dep</th>\n",
       "      <th>dep_def</th>\n",
       "      <th>root_head</th>\n",
       "      <th>root_head_dep</th>\n",
       "      <th>root_head_pos</th>\n",
       "    </tr>\n",
       "  </thead>\n",
       "  <tbody>\n",
       "    <tr>\n",
       "      <th>0</th>\n",
       "      <td>0</td>\n",
       "      <td>The Company's number</td>\n",
       "      <td>number</td>\n",
       "      <td></td>\n",
       "      <td>nsubj</td>\n",
       "      <td>nominal subject</td>\n",
       "      <td>was</td>\n",
       "      <td>ROOT</td>\n",
       "      <td>VERB</td>\n",
       "    </tr>\n",
       "    <tr>\n",
       "      <th>1</th>\n",
       "      <td>5</td>\n",
       "      <td>employees</td>\n",
       "      <td>employees</td>\n",
       "      <td>EMP_NOUN</td>\n",
       "      <td>pobj</td>\n",
       "      <td>object of preposition</td>\n",
       "      <td>of</td>\n",
       "      <td>prep</td>\n",
       "      <td>ADP</td>\n",
       "    </tr>\n",
       "    <tr>\n",
       "      <th>2</th>\n",
       "      <td>9</td>\n",
       "      <td>its corporate office employees</td>\n",
       "      <td>employees</td>\n",
       "      <td>EMP_NOUN</td>\n",
       "      <td>pobj</td>\n",
       "      <td>object of preposition</td>\n",
       "      <td>including</td>\n",
       "      <td>prep</td>\n",
       "      <td>VERB</td>\n",
       "    </tr>\n",
       "    <tr>\n",
       "      <th>3</th>\n",
       "      <td>14</td>\n",
       "      <td>company-owned restaurant employees</td>\n",
       "      <td>employees</td>\n",
       "      <td>EMP_NOUN</td>\n",
       "      <td>conj</td>\n",
       "      <td>conjunct</td>\n",
       "      <td>employees</td>\n",
       "      <td>pobj</td>\n",
       "      <td>NOUN</td>\n",
       "    </tr>\n",
       "    <tr>\n",
       "      <th>4</th>\n",
       "      <td>25</td>\n",
       "      <td>year-end</td>\n",
       "      <td>end</td>\n",
       "      <td>DATE</td>\n",
       "      <td>pobj</td>\n",
       "      <td>object of preposition</td>\n",
       "      <td>of</td>\n",
       "      <td>prep</td>\n",
       "      <td>ADP</td>\n",
       "    </tr>\n",
       "  </tbody>\n",
       "</table>"
      ],
      "text/plain": [
       "<IPython.core.display.HTML object>"
      ]
     },
     "metadata": {},
     "output_type": "display_data"
    },
    {
     "name": "stdout",
     "output_type": "stream",
     "text": [
      "--------------------------------------------------\n",
      "Cardinal entities are: \n"
     ]
    },
    {
     "data": {
      "text/html": [
       "<table border=\"1\" class=\"dataframe\">\n",
       "  <thead>\n",
       "    <tr style=\"text-align: right;\">\n",
       "      <th></th>\n",
       "      <th>tok_ent</th>\n",
       "      <th>toks</th>\n",
       "      <th>lemma</th>\n",
       "      <th>dep</th>\n",
       "      <th>head</th>\n",
       "      <th>h_dep</th>\n",
       "      <th>pos</th>\n",
       "      <th>tag</th>\n",
       "      <th>dep_def</th>\n",
       "      <th>tag_def</th>\n",
       "    </tr>\n",
       "  </thead>\n",
       "  <tbody>\n",
       "  </tbody>\n",
       "</table>"
      ],
      "text/plain": [
       "<IPython.core.display.HTML object>"
      ]
     },
     "metadata": {},
     "output_type": "display_data"
    }
   ],
   "source": [
    "print_doc_info(fn12)"
   ]
  },
  {
   "cell_type": "code",
   "execution_count": 142,
   "metadata": {
    "ExecuteTime": {
     "end_time": "2018-08-06T16:40:22.380760Z",
     "start_time": "2018-08-06T16:40:22.342736Z"
    },
    "hidden": true,
    "scrolled": true
   },
   "outputs": [
    {
     "name": "stdout",
     "output_type": "stream",
     "text": [
      "dtok index: 22\n",
      "right span start: 23\n",
      "right span end: 24\n",
      "doc last token index: 29\n"
     ]
    }
   ],
   "source": [
    "dtok = fn12[22]\n",
    "dtok_span = [e for e in fn12.ents if dtok in e][0]\n",
    "\n",
    "if dtok.i > dtok_span.start:\n",
    "    left_span = fn12[dtok_span.start:dtok.i]\n",
    "    left_ents = list(nlp(left_span.text).ents)\n",
    "    if left_ents:\n",
    "        print(left_ents)\n",
    "if dtok.i < dtok_span.end:\n",
    "    right_span = fn12[dtok.i + 1: dtok_span.end + 1]\n",
    "    right_ents = list(nlp(right_span.text).ents)\n",
    "    if right_ents:\n",
    "        print(right_ents[0].end)\n",
    "    \n",
    "print(\"dtok index:\", dtok.i)\n",
    "print(\"right span start:\", right_span.start)\n",
    "print(\"right span end:\", right_span.end)\n",
    "print(\"doc last token index:\", fn12[-1].i)"
   ]
  },
  {
   "cell_type": "code",
   "execution_count": 143,
   "metadata": {
    "ExecuteTime": {
     "end_time": "2018-08-06T16:40:37.351500Z",
     "start_time": "2018-08-06T16:40:37.283456Z"
    },
    "hidden": true
   },
   "outputs": [
    {
     "name": "stdout",
     "output_type": "stream",
     "text": [
      "Word_id is : 0\n",
      "Word is : employees\n",
      "Word subtree is :  1,963 employees, of which 1,917 were\n",
      "Word children :  [1,963, ,, were]\n",
      "Num_toks are: [1,963]\n",
      "tok_emp_type_subtree:  [full-time]\n",
      "Finding emp_type, emp_tok is dobj\n",
      "emp_noun tok head: had\n",
      "tok_head_emptype_subtreee: [full-time]\n",
      "tok_head_empnoun_subtreee: [employees]\n",
      "Flagged toks from tok_head_emptype_subtreee: [full-time]\n",
      "Flagged tok heads: [were]\n",
      "Flagged tok head deps: ['relcl']\n",
      "Flagged_toks:  [full-time]\n",
      "Dep_ of EMP_NOUN is: dobj\n",
      "Root is at 1 steps from employees.\n",
      "Type token in relative clause while emp_noun is not.\n",
      "type_tok_relcl.dep_ is attr\n",
      "sub_relcl found:  1,917\n",
      "num_tok_relcl: [1,917]\n",
      "num_toks: [1,963, 1,917]\n",
      "Detail_list  0 :  [0, 0, ALLETE, had, 1,963, 'Other Employees', [of, which, 1,917], employees, 'dobj', 1, 'As of December 31, 2016, ALLETE had 1,963 employees, of which 1,917 were full-time.']\n",
      "Detail_list  1 :  [0, 0, ALLETE, had, 1,917, 'Full-Time Employees', full-time, employees, 'dobj', 1, 'As of December 31, 2016, ALLETE had 1,963 employees, of which 1,917 were full-time.']\n"
     ]
    },
    {
     "data": {
      "text/plain": [
       "[RelationDetails(sent_num=0, word_num=0, subject=ALLETE, verb=had, quantity=1,963, quantity_type='Other Employees', type_token=[of, which, 1,917], word=employees, word_dep='dobj', depth=1, sentence='As of December 31, 2016, ALLETE had 1,963 employees, of which 1,917 were full-time.'),\n",
       " RelationDetails(sent_num=0, word_num=0, subject=ALLETE, verb=had, quantity=1,917, quantity_type='Full-Time Employees', type_token=full-time, word=employees, word_dep='dobj', depth=1, sentence='As of December 31, 2016, ALLETE had 1,963 employees, of which 1,917 were full-time.')]"
      ]
     },
     "execution_count": 143,
     "metadata": {},
     "output_type": "execute_result"
    }
   ],
   "source": [
    "extract_emp_relations(fn13, verbose=True)"
   ]
  },
  {
   "cell_type": "code",
   "execution_count": 144,
   "metadata": {
    "ExecuteTime": {
     "end_time": "2018-08-06T16:40:37.355503Z",
     "start_time": "2018-08-06T16:40:37.352501Z"
    },
    "hidden": true
   },
   "outputs": [],
   "source": [
    "#print_df(make_tok_df(fn13))"
   ]
  },
  {
   "cell_type": "code",
   "execution_count": 145,
   "metadata": {
    "ExecuteTime": {
     "end_time": "2018-08-06T16:40:37.369512Z",
     "start_time": "2018-08-06T16:40:37.357503Z"
    },
    "hidden": true
   },
   "outputs": [
    {
     "data": {
      "text/plain": [
       "[of, which, 1,917]"
      ]
     },
     "execution_count": 145,
     "metadata": {},
     "output_type": "execute_result"
    }
   ],
   "source": [
    "ft_tok = fn13[16]\n",
    "fn13_emp_tok = fn13[10]\n",
    "ft_tok.dep_ == 'attr' and ft_tok.head.dep_ == 'relcl' and find_verb_tok(ft_tok) != fn13_emp_tok.head\n",
    "find_subject(ft_tok.head).tag_ == 'CD' and find_subject(ft_tok.head).ent_type_ in ['CARDINAL', 'QUANTITY', 'FALSE_DATE']\n",
    "list(find_verb_tok(ft_tok).subtree)[:3]\n",
    "#print(find_verb_tok(ft_tok).left_edge.subtree)"
   ]
  },
  {
   "cell_type": "code",
   "execution_count": 146,
   "metadata": {
    "ExecuteTime": {
     "end_time": "2018-08-06T16:40:37.382523Z",
     "start_time": "2018-08-06T16:40:37.371512Z"
    },
    "hidden": true
   },
   "outputs": [
    {
     "data": {
      "text/plain": [
       "[full-time]"
      ]
     },
     "execution_count": 146,
     "metadata": {},
     "output_type": "execute_result"
    }
   ],
   "source": [
    "find_emp_type_toks(fn13_emp_tok)"
   ]
  },
  {
   "cell_type": "code",
   "execution_count": 147,
   "metadata": {
    "ExecuteTime": {
     "end_time": "2018-08-06T16:40:37.392527Z",
     "start_time": "2018-08-06T16:40:37.384522Z"
    },
    "hidden": true
   },
   "outputs": [
    {
     "data": {
      "text/plain": [
       "[of, 1,917, full-time]"
      ]
     },
     "execution_count": 147,
     "metadata": {},
     "output_type": "execute_result"
    }
   ],
   "source": [
    "list(fn13[16].head.children)"
   ]
  },
  {
   "cell_type": "code",
   "execution_count": 148,
   "metadata": {
    "ExecuteTime": {
     "end_time": "2018-08-06T16:40:37.440558Z",
     "start_time": "2018-08-06T16:40:37.393527Z"
    },
    "hidden": true
   },
   "outputs": [
    {
     "name": "stdout",
     "output_type": "stream",
     "text": [
      "Word_id is : 0\n",
      "Word is : employees\n",
      "Word subtree is :  approximately 72,500\n",
      "Word children :  [72,500]\n",
      "Num_toks are: [72,500]\n",
      "Finding emp_type, emp_tok is dobj\n",
      "emp_noun tok head: employed\n",
      "tok_head_emptype_subtreee: [full-, part-time]\n",
      "tok_head_empnoun_subtreee: [employees]\n",
      "Flagged toks from tok_head_emptype_subtreee: [full-]\n",
      "Flagged tok heads: [basis]\n",
      "Flagged tok head deps: ['pobj']\n",
      "type_conjs:  [part-time]\n",
      "Flagged_toks:  [full-, part-time]\n",
      "Part_time and full_time flags found.\n",
      "Dep_ of EMP_NOUN is: dobj\n",
      "Root is at 1 steps from employees.\n",
      "Parts found:  (we, employed, 72,500, 'Other Employees', [full-, part-time], employees)\n"
     ]
    },
    {
     "data": {
      "text/plain": [
       "[RelationDetails(sent_num=0, word_num=0, subject=we, verb=employed, quantity=72,500, quantity_type='Other Employees', type_token=[full-, part-time], word=employees, word_dep='dobj', depth=1, sentence='During 2015, we employed approximately 72,500 employees on a full- or part-time basis.')]"
      ]
     },
     "execution_count": 148,
     "metadata": {},
     "output_type": "execute_result"
    }
   ],
   "source": [
    "extract_emp_relations(fn17, verbose=True)"
   ]
  },
  {
   "cell_type": "code",
   "execution_count": 149,
   "metadata": {
    "ExecuteTime": {
     "end_time": "2018-08-06T16:40:37.444561Z",
     "start_time": "2018-08-06T16:40:37.441559Z"
    },
    "hidden": true
   },
   "outputs": [],
   "source": [
    "#print_df(make_tok_df(fn17))"
   ]
  },
  {
   "cell_type": "code",
   "execution_count": 150,
   "metadata": {
    "ExecuteTime": {
     "end_time": "2018-08-06T16:40:37.492596Z",
     "start_time": "2018-08-06T16:40:37.445562Z"
    },
    "hidden": true
   },
   "outputs": [
    {
     "name": "stdout",
     "output_type": "stream",
     "text": [
      "doc is: \n",
      "During 2015, we employed approximately 72,500 employees on a full- or part-time basis.\n",
      "--------------------------------------------------\n",
      "Entities are: \n"
     ]
    },
    {
     "data": {
      "text/html": [
       "<table border=\"1\" class=\"dataframe\">\n",
       "  <thead>\n",
       "    <tr style=\"text-align: right;\">\n",
       "      <th></th>\n",
       "      <th>tok_i</th>\n",
       "      <th>entity</th>\n",
       "      <th>ent_label</th>\n",
       "      <th>root</th>\n",
       "      <th>root_dep</th>\n",
       "      <th>dep_def</th>\n",
       "      <th>root_head</th>\n",
       "      <th>root_head_dep</th>\n",
       "      <th>root_head_pos</th>\n",
       "    </tr>\n",
       "  </thead>\n",
       "  <tbody>\n",
       "    <tr>\n",
       "      <th>0</th>\n",
       "      <td>1</td>\n",
       "      <td>2015</td>\n",
       "      <td>DATE</td>\n",
       "      <td>2015</td>\n",
       "      <td>pobj</td>\n",
       "      <td>object of preposition</td>\n",
       "      <td>During</td>\n",
       "      <td>prep</td>\n",
       "      <td>ADP</td>\n",
       "    </tr>\n",
       "    <tr>\n",
       "      <th>1</th>\n",
       "      <td>5</td>\n",
       "      <td>approximately 72,500</td>\n",
       "      <td>CARDINAL</td>\n",
       "      <td>72,500</td>\n",
       "      <td>nummod</td>\n",
       "      <td>None</td>\n",
       "      <td>employees</td>\n",
       "      <td>dobj</td>\n",
       "      <td>NOUN</td>\n",
       "    </tr>\n",
       "    <tr>\n",
       "      <th>2</th>\n",
       "      <td>7</td>\n",
       "      <td>employees</td>\n",
       "      <td>EMP_NOUN</td>\n",
       "      <td>employees</td>\n",
       "      <td>dobj</td>\n",
       "      <td>direct object</td>\n",
       "      <td>employed</td>\n",
       "      <td>ROOT</td>\n",
       "      <td>VERB</td>\n",
       "    </tr>\n",
       "    <tr>\n",
       "      <th>3</th>\n",
       "      <td>10</td>\n",
       "      <td>full-</td>\n",
       "      <td>FULL_TIME</td>\n",
       "      <td>full-</td>\n",
       "      <td>amod</td>\n",
       "      <td>adjectival modifier</td>\n",
       "      <td>basis</td>\n",
       "      <td>pobj</td>\n",
       "      <td>NOUN</td>\n",
       "    </tr>\n",
       "    <tr>\n",
       "      <th>4</th>\n",
       "      <td>12</td>\n",
       "      <td>part-time</td>\n",
       "      <td>PART_TIME</td>\n",
       "      <td>part-time</td>\n",
       "      <td>conj</td>\n",
       "      <td>conjunct</td>\n",
       "      <td>full-</td>\n",
       "      <td>amod</td>\n",
       "      <td>ADJ</td>\n",
       "    </tr>\n",
       "  </tbody>\n",
       "</table>"
      ],
      "text/plain": [
       "<IPython.core.display.HTML object>"
      ]
     },
     "metadata": {},
     "output_type": "display_data"
    },
    {
     "name": "stdout",
     "output_type": "stream",
     "text": [
      "--------------------------------------------------\n",
      "Noun chunks are: \n"
     ]
    },
    {
     "data": {
      "text/html": [
       "<table border=\"1\" class=\"dataframe\">\n",
       "  <thead>\n",
       "    <tr style=\"text-align: right;\">\n",
       "      <th></th>\n",
       "      <th>tok_i</th>\n",
       "      <th>noun_chunk</th>\n",
       "      <th>root</th>\n",
       "      <th>root_ent</th>\n",
       "      <th>root_dep</th>\n",
       "      <th>dep_def</th>\n",
       "      <th>root_head</th>\n",
       "      <th>root_head_dep</th>\n",
       "      <th>root_head_pos</th>\n",
       "    </tr>\n",
       "  </thead>\n",
       "  <tbody>\n",
       "    <tr>\n",
       "      <th>0</th>\n",
       "      <td>3</td>\n",
       "      <td>we</td>\n",
       "      <td>we</td>\n",
       "      <td></td>\n",
       "      <td>nsubj</td>\n",
       "      <td>nominal subject</td>\n",
       "      <td>employed</td>\n",
       "      <td>ROOT</td>\n",
       "      <td>VERB</td>\n",
       "    </tr>\n",
       "    <tr>\n",
       "      <th>1</th>\n",
       "      <td>5</td>\n",
       "      <td>approximately 72,500 employees</td>\n",
       "      <td>employees</td>\n",
       "      <td>EMP_NOUN</td>\n",
       "      <td>dobj</td>\n",
       "      <td>direct object</td>\n",
       "      <td>employed</td>\n",
       "      <td>ROOT</td>\n",
       "      <td>VERB</td>\n",
       "    </tr>\n",
       "    <tr>\n",
       "      <th>2</th>\n",
       "      <td>9</td>\n",
       "      <td>a full- or part-time basis</td>\n",
       "      <td>basis</td>\n",
       "      <td></td>\n",
       "      <td>pobj</td>\n",
       "      <td>object of preposition</td>\n",
       "      <td>on</td>\n",
       "      <td>prep</td>\n",
       "      <td>ADP</td>\n",
       "    </tr>\n",
       "  </tbody>\n",
       "</table>"
      ],
      "text/plain": [
       "<IPython.core.display.HTML object>"
      ]
     },
     "metadata": {},
     "output_type": "display_data"
    },
    {
     "name": "stdout",
     "output_type": "stream",
     "text": [
      "--------------------------------------------------\n",
      "Cardinal entities are: \n"
     ]
    },
    {
     "data": {
      "text/html": [
       "<table border=\"1\" class=\"dataframe\">\n",
       "  <thead>\n",
       "    <tr style=\"text-align: right;\">\n",
       "      <th></th>\n",
       "      <th>tok_ent</th>\n",
       "      <th>toks</th>\n",
       "      <th>lemma</th>\n",
       "      <th>dep</th>\n",
       "      <th>head</th>\n",
       "      <th>h_dep</th>\n",
       "      <th>pos</th>\n",
       "      <th>tag</th>\n",
       "      <th>dep_def</th>\n",
       "      <th>tag_def</th>\n",
       "    </tr>\n",
       "  </thead>\n",
       "  <tbody>\n",
       "    <tr>\n",
       "      <th>0</th>\n",
       "      <td>CARDINAL</td>\n",
       "      <td>approximately</td>\n",
       "      <td>approximately</td>\n",
       "      <td>advmod</td>\n",
       "      <td>72,500</td>\n",
       "      <td>nummod</td>\n",
       "      <td>ADV</td>\n",
       "      <td>RB</td>\n",
       "      <td>adverbial modifier</td>\n",
       "      <td>adverb</td>\n",
       "    </tr>\n",
       "    <tr>\n",
       "      <th>1</th>\n",
       "      <td>CARDINAL</td>\n",
       "      <td>72,500</td>\n",
       "      <td>72,500</td>\n",
       "      <td>nummod</td>\n",
       "      <td>employees</td>\n",
       "      <td>dobj</td>\n",
       "      <td>NUM</td>\n",
       "      <td>CD</td>\n",
       "      <td>None</td>\n",
       "      <td>cardinal number</td>\n",
       "    </tr>\n",
       "  </tbody>\n",
       "</table>"
      ],
      "text/plain": [
       "<IPython.core.display.HTML object>"
      ]
     },
     "metadata": {},
     "output_type": "display_data"
    }
   ],
   "source": [
    "print_doc_info(fn17)"
   ]
  },
  {
   "cell_type": "markdown",
   "metadata": {
    "hidden": true
   },
   "source": [
    "Check for full or part time indicators that are missed by the pipeline component."
   ]
  },
  {
   "cell_type": "code",
   "execution_count": 151,
   "metadata": {
    "ExecuteTime": {
     "end_time": "2018-08-06T16:40:53.627181Z",
     "start_time": "2018-08-06T16:40:53.488089Z"
    },
    "hidden": true
   },
   "outputs": [
    {
     "name": "stdout",
     "output_type": "stream",
     "text": [
      "----------------------------------- 0000072333-16-000260 -----------------------------------\n",
      "----------------------------------- 0 -----------------------------------\n",
      "----------------------------------- 0 -----------------------------------\n",
      "quantity_type  :Other Employees\n",
      "\n",
      "type_token  :[full-, part-time]\n",
      "\n",
      "data_value  :72500.0\n",
      "\n",
      "para_text  :During 2015, we employed approximately 72,500 employees on a full- or part-time basis. Due to the seasonal nature of our business, employment increased to approximately 74,000 employees in July 2015 and 78,000 in December 2015. All of our employees are non-union. We believe our relationship with our employees is good.\n",
      "\n",
      "----------------------------------- 0000750686-17-000057 -----------------------------------\n",
      "----------------------------------- 1 -----------------------------------\n",
      "----------------------------------- 0 -----------------------------------\n",
      "quantity_type  :Other Employees\n",
      "\n",
      "type_token  :[full-, part-time]\n",
      "\n",
      "data_value  :631.0\n",
      "\n",
      "para_text  :Employees. The Company employed 631 people on a full- or part-time basis as of December 31, 2016 through the Bank, and its divisions.\n",
      "\n",
      "----------------------------------- 0000807882-16-000036 -----------------------------------\n",
      "----------------------------------- 0 -----------------------------------\n",
      "----------------------------------- 0 -----------------------------------\n",
      "quantity_type  :Other Employees\n",
      "\n",
      "type_token  :[]\n",
      "\n",
      "data_value  :22200.0\n",
      "\n",
      "para_text  :At October 2, 2016, we had approximately 22,200 employees, of whom 21,500 were restaurant employees, 500 were corporate personnel, and 200 were field management or administrative personnel. Employees are paid on an hourly basis, except certain restaurant management, operations and corporate management, and administrative personnel. We employ both full- and part-time restaurant employees in order to provide the flexibility necessary during peak periods of restaurant operations. We have not experienced any significant work stoppages, and we support our employees, including part-time workers, by offering industry competitive wages and benefits.\n",
      "\n",
      "----------------------------------- 0000807882-16-000036 -----------------------------------\n",
      "----------------------------------- 0 -----------------------------------\n",
      "----------------------------------- 1 -----------------------------------\n",
      "quantity_type  :Other Employees\n",
      "\n",
      "type_token  :[restaurant]\n",
      "\n",
      "data_value  :21500.0\n",
      "\n",
      "para_text  :At October 2, 2016, we had approximately 22,200 employees, of whom 21,500 were restaurant employees, 500 were corporate personnel, and 200 were field management or administrative personnel. Employees are paid on an hourly basis, except certain restaurant management, operations and corporate management, and administrative personnel. We employ both full- and part-time restaurant employees in order to provide the flexibility necessary during peak periods of restaurant operations. We have not experienced any significant work stoppages, and we support our employees, including part-time workers, by offering industry competitive wages and benefits.\n",
      "\n",
      "----------------------------------- 0001021561-17-000019 -----------------------------------\n",
      "----------------------------------- 0 -----------------------------------\n",
      "----------------------------------- 0 -----------------------------------\n",
      "quantity_type  :Other Employees\n",
      "\n",
      "type_token  :[full-, part-time]\n",
      "\n",
      "data_value  :4650.0\n",
      "\n",
      "para_text  :As of December 31, 2016, we had approximately 4,650 full- and part-time employees worldwide. This does not include approximately 27,600 sales employees in our Mainland China operations. Although we have statutory employee representation obligations in certain countries, our employees are generally not represented by labor unions except where expressly required by law. We believe that our relationship with our employees is good, and we do not foresee a shortage in qualified personnel necessary to operate our business.\n",
      "\n",
      "----------------------------------- 0001104659-16-108277 -----------------------------------\n",
      "----------------------------------- 0 -----------------------------------\n",
      "----------------------------------- 0 -----------------------------------\n",
      "quantity_type  :Other Employees\n",
      "\n",
      "type_token  :[full-, part-time]\n",
      "\n",
      "data_value  :431000.0\n",
      "\n",
      "para_text  :As of January 30, 2016, Kroger employed approximately 431,000 full- and part-time employees. A majority of our employees are covered by collective bargaining agreements negotiated with local unions affiliated with one of several different international unions. There are approximately 350 such agreements, usually with terms of three to five years.\n",
      "\n",
      "----------------------------------- 0001193125-16-630221 -----------------------------------\n",
      "----------------------------------- 0 -----------------------------------\n",
      "----------------------------------- 0 -----------------------------------\n",
      "quantity_type  :Other Employees\n",
      "\n",
      "type_token  :[full-, part-time]\n",
      "\n",
      "data_value  :225.0\n",
      "\n",
      "para_text  :As of April 30, 2016, NOOK had approximately 225 full- and part-time employees. NOOK employees are not represented by unions, and the Company believes that its relationship with its employees is generally excellent.\n",
      "\n",
      "----------------------------------- 0001193125-16-630221 -----------------------------------\n",
      "----------------------------------- 3 -----------------------------------\n",
      "----------------------------------- 0 -----------------------------------\n",
      "quantity_type  :Part-Time Employees\n",
      "\n",
      "type_token  :[part-time]\n",
      "\n",
      "data_value  :28000.0\n",
      "\n",
      "para_text  :Barnes & Noble Retail (B&N Retail) operates 640 retail bookstores, primarily under the Barnes & Noble Booksellers® trade name, and includes the Company's eCommerce site. B&N Retail also includes Sterling Publishing Co., Inc. (Sterling or Sterling Publishing), a leader in general trade book publishing. The NOOK segment represents the Company's digital business, offering digital books and magazines for sale and consumption online, NOOK®2 reading devices, co-branded NOOK® tablets and reading software for iOS, Android and Windows 8. The Company employed approximately 28,000 full- and part-time employees as of April 30, 2016. Including seasonal and temporary employees, the Company employed approximately 29,000 employees as of April 30, 2016.\n",
      "\n",
      "----------------------------------- 0001193125-16-630221 -----------------------------------\n",
      "----------------------------------- 4 -----------------------------------\n",
      "----------------------------------- 1 -----------------------------------\n",
      "quantity_type  :Other Employees\n",
      "\n",
      "type_token  :[]\n",
      "\n",
      "data_value  :29000.0\n",
      "\n",
      "para_text  :Barnes & Noble Retail (B&N Retail) operates 640 retail bookstores, primarily under the Barnes & Noble Booksellers® trade name, and includes the Company's eCommerce site. B&N Retail also includes Sterling Publishing Co., Inc. (Sterling or Sterling Publishing), a leader in general trade book publishing. The NOOK segment represents the Company's digital business, offering digital books and magazines for sale and consumption online, NOOK®2 reading devices, co-branded NOOK® tablets and reading software for iOS, Android and Windows 8. The Company employed approximately 28,000 full- and part-time employees as of April 30, 2016. Including seasonal and temporary employees, the Company employed approximately 29,000 employees as of April 30, 2016.\n",
      "\n",
      "----------------------------------- 0001193125-16-638404 -----------------------------------\n",
      "----------------------------------- 0 -----------------------------------\n",
      "----------------------------------- 0 -----------------------------------\n",
      "quantity_type  :Other Employees\n",
      "\n",
      "type_token  :[full-, part-time]\n",
      "\n",
      "data_value  :39000.0\n",
      "\n",
      "para_text  :As of May 29, 2016, we had approximately 39,000 full- and part-time employees.\n",
      "\n"
     ]
    }
   ],
   "source": [
    "print_row_detail(df=train_fact_df3[train_fact_df3.para_text.str.contains(\"full- \")], \n",
    "                 nrow=10, header_list = ['acc_id', 'sent_num', 'word_num'],\n",
    "                    detail_list = ['quantity_type', 'type_token', 'data_value',  'para_text'],\n",
    "                    sortby=['acc_id', 'sent_num', 'word_num'], ascending=True)"
   ]
  },
  {
   "cell_type": "code",
   "execution_count": 152,
   "metadata": {
    "ExecuteTime": {
     "end_time": "2018-08-06T16:40:53.657201Z",
     "start_time": "2018-08-06T16:40:53.628182Z"
    },
    "hidden": true
   },
   "outputs": [
    {
     "data": {
      "text/html": [
       "<div>\n",
       "<style scoped>\n",
       "    .dataframe tbody tr th:only-of-type {\n",
       "        vertical-align: middle;\n",
       "    }\n",
       "\n",
       "    .dataframe tbody tr th {\n",
       "        vertical-align: top;\n",
       "    }\n",
       "\n",
       "    .dataframe thead th {\n",
       "        text-align: right;\n",
       "    }\n",
       "</style>\n",
       "<table border=\"1\" class=\"dataframe\">\n",
       "  <thead>\n",
       "    <tr style=\"text-align: right;\">\n",
       "      <th></th>\n",
       "      <th>acc_id</th>\n",
       "      <th>para_text</th>\n",
       "      <th>len</th>\n",
       "      <th>emp_header</th>\n",
       "      <th>first_emp_head_block</th>\n",
       "      <th>para_text_orig</th>\n",
       "      <th>para_tag</th>\n",
       "      <th>split</th>\n",
       "      <th>label</th>\n",
       "      <th>doc_ids</th>\n",
       "      <th>...</th>\n",
       "      <th>verb</th>\n",
       "      <th>quantity</th>\n",
       "      <th>quantity_type</th>\n",
       "      <th>type_token</th>\n",
       "      <th>word</th>\n",
       "      <th>word_dep</th>\n",
       "      <th>depth</th>\n",
       "      <th>sentence</th>\n",
       "      <th>units</th>\n",
       "      <th>data_value</th>\n",
       "    </tr>\n",
       "  </thead>\n",
       "  <tbody>\n",
       "    <tr>\n",
       "      <th>1268</th>\n",
       "      <td>0001171843-17-001394</td>\n",
       "      <td>As of December 31, 2016, we employed approxima...</td>\n",
       "      <td>318</td>\n",
       "      <td>True</td>\n",
       "      <td>True</td>\n",
       "      <td>As of December 31, 2016, we employed approxima...</td>\n",
       "      <td>&lt;p class=\"c22\"&gt;As of December 31, 2016, we emp...</td>\n",
       "      <td>train</td>\n",
       "      <td>1</td>\n",
       "      <td>7330</td>\n",
       "      <td>...</td>\n",
       "      <td>employed</td>\n",
       "      <td>135</td>\n",
       "      <td>Part-Time Employees</td>\n",
       "      <td>[part-time]</td>\n",
       "      <td>people</td>\n",
       "      <td>dobj</td>\n",
       "      <td>1</td>\n",
       "      <td>As of December 31, 2016, we employed approxima...</td>\n",
       "      <td>ones</td>\n",
       "      <td>135.0</td>\n",
       "    </tr>\n",
       "  </tbody>\n",
       "</table>\n",
       "<p>1 rows × 23 columns</p>\n",
       "</div>"
      ],
      "text/plain": [
       "                    acc_id                                          para_text  \\\n",
       "1268  0001171843-17-001394  As of December 31, 2016, we employed approxima...   \n",
       "\n",
       "      len  emp_header  first_emp_head_block  \\\n",
       "1268  318        True                  True   \n",
       "\n",
       "                                         para_text_orig  \\\n",
       "1268  As of December 31, 2016, we employed approxima...   \n",
       "\n",
       "                                               para_tag  split  label  \\\n",
       "1268  <p class=\"c22\">As of December 31, 2016, we emp...  train      1   \n",
       "\n",
       "      doc_ids     ...          verb  quantity        quantity_type  \\\n",
       "1268     7330     ...      employed       135  Part-Time Employees   \n",
       "\n",
       "       type_token    word word_dep depth  \\\n",
       "1268  [part-time]  people     dobj     1   \n",
       "\n",
       "                                               sentence units  data_value  \n",
       "1268  As of December 31, 2016, we employed approxima...  ones       135.0  \n",
       "\n",
       "[1 rows x 23 columns]"
      ]
     },
     "execution_count": 152,
     "metadata": {},
     "output_type": "execute_result"
    }
   ],
   "source": [
    "train_fact_df3[train_fact_df3.para_text.str.contains(\"full or part\")]"
   ]
  },
  {
   "cell_type": "markdown",
   "metadata": {},
   "source": [
    "## Examples that have needed handling to avoid errors (more robust treatment needed)"
   ]
  },
  {
   "cell_type": "code",
   "execution_count": 384,
   "metadata": {
    "ExecuteTime": {
     "end_time": "2018-07-21T18:13:39.212268Z",
     "start_time": "2018-07-21T18:13:39.206264Z"
    },
    "scrolled": false
   },
   "outputs": [
    {
     "data": {
      "text/plain": [
       "'Our current product, the Argus ® II System, treats outer retinal degenerations, such as retinitis pigmentosa, also referred to as RP. RP is a hereditary disease, affecting an estimated 1.5 million people worldwide including about 100,000 people in the United States, that causes a progressive degeneration of the light-sensitive cells of the retina, leading to significant visual impairment and ultimately blindness. The Argus II System is the only retinal prosthesis approved in the United States by the Food and Drug Administration (FDA), and was the first approved retinal prosthesis in the world. By restoring a form of useful vision in patients who otherwise have total sight loss, the Argus II System can provide benefits which include:'"
      ]
     },
     "execution_count": 384,
     "metadata": {},
     "output_type": "execute_result"
    }
   ],
   "source": [
    "#train_df.loc[7729].para_text"
   ]
  },
  {
   "cell_type": "code",
   "execution_count": 476,
   "metadata": {
    "ExecuteTime": {
     "end_time": "2018-07-19T21:24:19.695832Z",
     "start_time": "2018-07-19T21:24:19.690828Z"
    }
   },
   "outputs": [
    {
     "data": {
      "text/plain": [
       "['Employees and Labor Relations - As of December 31, 2016, Praxair had 26,498 employees worldwide. Of this number, 10,182 are employed in the United States. Praxair has collective bargaining agreements with unions at numerous locations throughout the world, which expire at various dates. Praxair considers relations with its employees to be good.',\n",
       " 'The number of employees at December 31, 2016 was 26,498, a decrease of 159 employees from December 31, 2015. This decrease primarily reflects the impact of cost reduction programs implemented during the current year partially offset by acquisitions.',\n",
       " 'The number of employees at December 31, 2015 was 26,657, a decrease of 1,123 employees from December 31, 2014. This decrease primarily reflects the impact of cost reduction programs implemented during the current year.']"
      ]
     },
     "execution_count": 476,
     "metadata": {},
     "output_type": "execute_result"
    }
   ],
   "source": [
    "#train_para_list[744:747]"
   ]
  },
  {
   "cell_type": "code",
   "execution_count": 441,
   "metadata": {
    "ExecuteTime": {
     "end_time": "2018-07-19T19:51:15.177004Z",
     "start_time": "2018-07-19T19:51:15.173002Z"
    },
    "collapsed": true
   },
   "outputs": [
    {
     "data": {
      "text/plain": [
       "'At March 31, 2016, 2015 and 2014, we had 3,066, 2,982 and 2,843 employees, respectively. None of our employees are covered by a collective bargaining agreement. We consider our relations with our employees to be satisfactory. However, competition for experienced asset management personnel is intense and from time to time we may experience a loss of valuable personnel. We recognize the importance to our business of hiring, training and retaining skilled professionals.'"
      ]
     },
     "execution_count": 441,
     "metadata": {},
     "output_type": "execute_result"
    }
   ],
   "source": [
    "#train_para_list[462]"
   ]
  },
  {
   "cell_type": "code",
   "execution_count": 489,
   "metadata": {
    "ExecuteTime": {
     "end_time": "2018-07-19T21:28:27.365428Z",
     "start_time": "2018-07-19T21:28:27.360428Z"
    },
    "collapsed": true
   },
   "outputs": [
    {
     "data": {
      "text/plain": [
       "'Our operating expenses have historically been driven in large part by personnel-related costs, including wages, commissions, bonuses, benefits, share-based compensation, and travel. Facility and information technology, or IT, departmental costs are allocated to each department based on usage and headcount. We had a total of 9,832, 9,058, and 8,806 employees as of December 31, 2016, 2015, and 2014, respectively. Our headcount increased by 774 employees, or 9%, in 2016, compared to 2015, primarily in research and development, driven by our 2016 business acquisitions, as well as higher services and sales headcount as we focus on delivering our new products to our customers.'"
      ]
     },
     "execution_count": 489,
     "metadata": {},
     "output_type": "execute_result"
    }
   ],
   "source": [
    "#train_para_list[1144]"
   ]
  },
  {
   "cell_type": "code",
   "execution_count": 620,
   "metadata": {
    "ExecuteTime": {
     "end_time": "2018-07-20T01:57:47.296013Z",
     "start_time": "2018-07-20T01:57:47.283999Z"
    },
    "collapsed": true
   },
   "outputs": [
    {
     "data": {
      "text/plain": [
       "'We had 17,912, 14,533 and 10,625 employees as of December 31, 2014, 2015 and 2016, respectively. The following table sets forth the number of our employees categorized by our areas of operations and as a percentage of our total employees as of December 31, 2016.'"
      ]
     },
     "execution_count": 620,
     "metadata": {},
     "output_type": "execute_result"
    }
   ],
   "source": [
    "#train_para_list[1694]"
   ]
  },
  {
   "cell_type": "code",
   "execution_count": 677,
   "metadata": {
    "ExecuteTime": {
     "end_time": "2018-07-20T15:47:07.669531Z",
     "start_time": "2018-07-20T15:47:07.665529Z"
    },
    "collapsed": true
   },
   "outputs": [
    {
     "data": {
      "text/plain": [
       "'The employee cost at Jaguar Land Rover increased by 17.6% to Rs.228,730 million in Fiscal 2016 from Rs.194,467 million in Fiscal 2015. This increase includes an unfavorable foreign currency translation from GBP to Indian rupees of Rs.546 million. In GBP terms, employee costs at Jaguar Land Rover increased to GBP 2,321 million in Fiscal 2016 from GBP1,977 million in Fiscal 2015. The employee cost at Jaguar Land Rover as a percentage to revenue increased to 10.5% in Fiscal 2016 from 9.0% in Fiscal 2015. Due to consistent increases in volumes and to support new launches and product development projects, Jaguar Land Rover increased its average permanent headcount by 19.6% in Fiscal 2016 to 29,789 employees from 24,902 employees in Fiscal 2015. However, the average temporary headcount was flat at 7,216 employees in Fiscal 2016 from 7,225 employees in Fiscal 2015. Total number of permanent employees as at March 31, 2016 was 30,750, as compared to 27,004 as at March 31, 2015 for Jaguar Land Rover.'"
      ]
     },
     "execution_count": 677,
     "metadata": {},
     "output_type": "execute_result"
    }
   ],
   "source": [
    "#train_para_list[1907]"
   ]
  },
  {
   "cell_type": "code",
   "execution_count": 689,
   "metadata": {
    "ExecuteTime": {
     "end_time": "2018-07-20T15:49:30.156778Z",
     "start_time": "2018-07-20T15:49:30.151774Z"
    },
    "collapsed": true
   },
   "outputs": [
    {
     "data": {
      "text/plain": [
       "'•  Independent Equipment Dealer Solicitations. This origination channel focuses on soliciting and establishing relationships with independent equipment dealers in a variety of equipment categories located across the United States. Our typical independent equipment dealer has less than $12.0 million in annual revenues and fewer than 50 employees. Service is a key determinant in becoming the preferred provider of financing recommended by these equipment dealers.'"
      ]
     },
     "execution_count": 689,
     "metadata": {},
     "output_type": "execute_result"
    }
   ],
   "source": [
    "#train_para_list[2204]"
   ]
  },
  {
   "cell_type": "code",
   "execution_count": 696,
   "metadata": {
    "ExecuteTime": {
     "end_time": "2018-07-20T15:56:20.393835Z",
     "start_time": "2018-07-20T15:56:20.388832Z"
    },
    "collapsed": true
   },
   "outputs": [
    {
     "data": {
      "text/plain": [
       "'The assets of communications services businesses are primarily their employees, and the Company is highly dependent on the talent, creative abilities and technical skills of its personnel and the relationships its personnel have with clients. The Company believes that its operating companies have established reputations in the industry that attract talented personnel. However, the Company, like all communications services businesses, is vulnerable to adverse consequences from the loss of key employees due to the competition among these businesses for talented personnel. On 31 December 2016, the Group, including all employees of associated undertakings, had approximately 198,000 employees located in over 3,000 offices in 112 countries compared with 190,000 and 179,000 as at 31 December 2015 and 2014, respectively. Excluding all employees of associated undertakings, this figure is 134,341 (2015: 128,123, 2014: 123,621). The average number of employees in 2016 was 132,657 compared to 124,930 and 121,397 in 2015 and 2014, respectively, including acquisitions.'"
      ]
     },
     "execution_count": 696,
     "metadata": {},
     "output_type": "execute_result"
    }
   ],
   "source": [
    "#train_para_list[2460]"
   ]
  },
  {
   "cell_type": "code",
   "execution_count": 697,
   "metadata": {
    "ExecuteTime": {
     "end_time": "2018-07-20T15:56:31.958842Z",
     "start_time": "2018-07-20T15:56:31.828756Z"
    },
    "collapsed": true
   },
   "outputs": [
    {
     "name": "stdout",
     "output_type": "stream",
     "text": [
      "Word_id is : 0\n",
      "Word is : employees\n",
      "Dep_ of EMP_NOUN is: attr\n",
      "Root is at 2 steps from employees.\n",
      "No num_tok. \n",
      "Word_id is : 0\n",
      "Word is : employees\n",
      "Dep_ of EMP_NOUN is: pobj\n",
      "Root is at 1 steps from employees.\n",
      "Word_id is : 0\n",
      "Word is : employees\n",
      "Dep_ of EMP_NOUN is: pobj\n",
      "Root is at 1 steps from employees.\n",
      "No num_tok. \n",
      "Word_id is : 1\n",
      "Word is : employees\n",
      "Dep_ of EMP_NOUN is: dobj\n",
      "Num_toks are: [198,000]\n",
      "Root is at 1 steps from employees.\n",
      "(Group, had, 198,000, 'Other', 0, employees)\n",
      "Word_id is : 0\n",
      "Word is : employees\n",
      "Dep_ of EMP_NOUN is: pobj\n",
      "year_emps: [('2014', '128,123'), ('2015', '134,341')]\n",
      "max year_emps: ('2015', '134,341')\n",
      "Sentence has multiple years:[(143, 2015), (147, 2014)]\n",
      "First card subtree is :[134,341, (, 2015, :, 128,123, ,, 2014, :, 123,621, )]\n",
      "years: [(143, 2015), (147, 2014)]\n",
      "cards: [134,341, 128,123, 123,621]\n",
      "emp_counts: [(141, 134,341), (145, 128,123), (149, 123,621)]\n",
      "Root is at 1 steps from employees.\n",
      "(figure, is, '134,341', 'Other', 0, employees)\n",
      "Word_id is : 0\n",
      "Word is : employees\n",
      "Dep_ of EMP_NOUN is: pobj\n",
      "Length of emp_counts is : 1 while length of years is : 3\n",
      "The assets of communications services businesses are primarily their employees, and the Company is highly dependent on the talent, creative abilities and technical skills of its personnel and the relationships its personnel have with clients. The Company believes that its operating companies have established reputations in the industry that attract talented personnel. However, the Company, like all communications services businesses, is vulnerable to adverse consequences from the loss of key employees due to the competition among these businesses for talented personnel. On 31 December 2016, the Group, including all employees of associated undertakings, had approximately 198,000 employees located in over 3,000 offices in 112 countries compared with 190,000 and 179,000 as at 31 December 2015 and 2014, respectively. Excluding all employees of associated undertakings, this figure is 134,341 (2015: 128,123, 2014: 123,621). The average number of employees in 2016 was 132,657 compared to 124,930 and 121,397 in 2015 and 2014, respectively, including acquisitions.\n",
      "Sentence has multiple years:[(158, 2016), (167, 2015), (169, 2014)]\n",
      "First card subtree is :[132,657]\n",
      "years: [(158, 2016), (167, 2015), (169, 2014)]\n",
      "cards: [132,657]\n",
      "emp_counts: [(160, 132,657)]\n",
      "Root is at 2 steps from employees.\n",
      "(The average number of employees in 2016, was, 132,657, 'Other', 0, employees)\n"
     ]
    },
    {
     "data": {
      "text/plain": [
       "[RelationDetails(sent_num=3, word_num=1, s=Group, v=had, quantity=198,000, quantity_type='Other', type_token=0, word=employees),\n",
       " RelationDetails(sent_num=4, word_num=0, s=figure, v=is, quantity='134,341', quantity_type='Other', type_token=0, word=employees),\n",
       " RelationDetails(sent_num=5, word_num=0, s=The average number of employees in 2016, v=was, quantity=132,657, quantity_type='Other', type_token=0, word=employees)]"
      ]
     },
     "execution_count": 697,
     "metadata": {},
     "output_type": "execute_result"
    }
   ],
   "source": [
    "#extract_emp_relations(nlp(train_para_list[2460]), verbose=True)"
   ]
  },
  {
   "cell_type": "code",
   "execution_count": 428,
   "metadata": {
    "ExecuteTime": {
     "end_time": "2018-07-19T19:48:34.449652Z",
     "start_time": "2018-07-19T19:48:34.445648Z"
    }
   },
   "outputs": [
    {
     "data": {
      "text/plain": [
       "\"At September 30, 2016, HRG employed 21 persons and HRG's subsidiaries employed approximately 16,000 persons. In the normal course of business, HRG and its subsidiaries use contract personnel to supplement their employee base to meet business needs. As of September 30, 2016, none of HRG's employees were represented by labor unions or covered by collective bargaining agreements. See the remainder of this report for additional information regarding the employees of HRG's subsidiaries. HRG believes that its overall relationship with its employees is good.\""
      ]
     },
     "execution_count": 428,
     "metadata": {},
     "output_type": "execute_result"
    }
   ],
   "source": [
    "#train_para_list[392]"
   ]
  },
  {
   "cell_type": "code",
   "execution_count": 409,
   "metadata": {
    "ExecuteTime": {
     "end_time": "2018-07-19T18:57:22.010062Z",
     "start_time": "2018-07-19T18:57:21.957029Z"
    },
    "scrolled": true
   },
   "outputs": [
    {
     "name": "stdout",
     "output_type": "stream",
     "text": [
      "Word_id is : 0\n",
      "Word is : individuals\n",
      "Dep_ of EMP_NOUN is: dobj\n",
      "Num_toks are: [7,683]\n",
      "Root is at 1 steps from individuals.\n",
      "(we, employed, 7,683, 'Other', 0, individuals)\n",
      "Word_id is : 0\n",
      "Word is : persons\n",
      "Dep_ of EMP_NOUN is: dobj\n",
      "Num_toks are: [7,536]\n",
      "Root is at 1 steps from persons.\n",
      "(subsidiaries, employed, 7,536, 'Other', 0, persons)\n",
      "Word_id is : 1\n",
      "Word is : persons\n",
      "Dep_ of EMP_NOUN is: nsubjpass\n"
     ]
    },
    {
     "data": {
      "text/plain": [
       "[RelationDetails(sent_num=0, word_num=0, s=we, v=employed, quantity=7,683, quantity_type='Other', type_token=0, word=individuals),\n",
       " RelationDetails(sent_num=1, word_num=0, s=subsidiaries, v=employed, quantity=7,536, quantity_type='Other', type_token=0, word=persons)]"
      ]
     },
     "execution_count": 409,
     "metadata": {},
     "output_type": "execute_result"
    }
   ],
   "source": [
    "#extract_emp_relations(nlp(train_para_list[47]), verbose=True)"
   ]
  }
 ],
 "metadata": {
  "kernelspec": {
   "display_name": "Python 3",
   "language": "python",
   "name": "python3"
  },
  "language_info": {
   "codemirror_mode": {
    "name": "ipython",
    "version": 3
   },
   "file_extension": ".py",
   "mimetype": "text/x-python",
   "name": "python",
   "nbconvert_exporter": "python",
   "pygments_lexer": "ipython3",
   "version": "3.6.1"
  },
  "toc": {
   "base_numbering": 1,
   "nav_menu": {},
   "number_sections": true,
   "sideBar": true,
   "skip_h1_title": true,
   "title_cell": "Table of Contents",
   "title_sidebar": "Contents",
   "toc_cell": false,
   "toc_position": {},
   "toc_section_display": true,
   "toc_window_display": false
  }
 },
 "nbformat": 4,
 "nbformat_minor": 2
}
