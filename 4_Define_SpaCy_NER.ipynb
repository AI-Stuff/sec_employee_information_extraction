{
 "cells": [
  {
   "cell_type": "markdown",
   "metadata": {
    "toc": true
   },
   "source": [
    "<h1>Table of Contents<span class=\"tocSkip\"></span></h1>\n",
    "<div class=\"toc\"><ul class=\"toc-item\"><li><span><a href=\"#Create-entity-matcher-to-use-in-NLP-pipeline\" data-toc-modified-id=\"Create-entity-matcher-to-use-in-NLP-pipeline-1\"><span class=\"toc-item-num\">1&nbsp;&nbsp;</span>Create entity matcher to use in NLP pipeline</a></span></li><li><span><a href=\"#Define-sentence-structure-types\" data-toc-modified-id=\"Define-sentence-structure-types-2\"><span class=\"toc-item-num\">2&nbsp;&nbsp;</span>Define sentence structure types</a></span><ul class=\"toc-item\"><li><span><a href=\"#[Company-|-we]-[employed-|-have]-[number]-[emp_noun]\" data-toc-modified-id=\"[Company-|-we]-[employed-|-have]-[number]-[emp_noun]-2.1\"><span class=\"toc-item-num\">2.1&nbsp;&nbsp;</span>[Company | we] [employed | have] [number] [emp_noun]</a></span></li><li><span><a href=\"#[number_noun]-[was]-[number]\" data-toc-modified-id=\"[number_noun]-[was]-[number]-2.2\"><span class=\"toc-item-num\">2.2&nbsp;&nbsp;</span>[number_noun] [was] [number]</a></span></li></ul></li></ul></div>"
   ]
  },
  {
   "cell_type": "code",
   "execution_count": 1,
   "metadata": {
    "ExecuteTime": {
     "end_time": "2018-07-03T20:24:42.768959Z",
     "start_time": "2018-07-03T20:24:42.186916Z"
    }
   },
   "outputs": [],
   "source": [
    "import spacy\n",
    "from spacy import displacy\n",
    "from spacy.matcher import Matcher, PhraseMatcher\n",
    "from spacy.tokens import Doc, Span, Token\n",
    "import pandas as pd\n",
    "import re\n",
    "\n",
    "from path import Path, getcwdu"
   ]
  },
  {
   "cell_type": "code",
   "execution_count": 2,
   "metadata": {
    "ExecuteTime": {
     "end_time": "2018-07-03T20:24:42.805591Z",
     "start_time": "2018-07-03T20:24:42.768959Z"
    }
   },
   "outputs": [],
   "source": [
    "subset_df = pd.read_excel('../data/subset_employee_count_paragraphs.xlsx')"
   ]
  },
  {
   "cell_type": "code",
   "execution_count": 3,
   "metadata": {
    "ExecuteTime": {
     "end_time": "2018-07-03T20:24:43.030741Z",
     "start_time": "2018-07-03T20:24:42.806591Z"
    },
    "scrolled": true
   },
   "outputs": [
    {
     "name": "stderr",
     "output_type": "stream",
     "text": [
      "C:\\Anaconda\\lib\\site-packages\\ipykernel_launcher.py:4: UserWarning: Boolean Series key will be reindexed to match DataFrame index.\n",
      "  after removing the cwd from sys.path.\n",
      "C:\\Anaconda\\lib\\site-packages\\ipykernel_launcher.py:6: UserWarning: Boolean Series key will be reindexed to match DataFrame index.\n",
      "  \n"
     ]
    }
   ],
   "source": [
    "nonum_pat = re.compile(r\"^([^\\d]|[$][\\d]+)[^\\d]*$\", re.I)\n",
    "\n",
    "train_df = pd.read_csv('data/classifier_input_train.csv', index_col=0)\n",
    "train_df = train_df[train_df.len > 19][train_df.para_text.apply(lambda x: not re.match(nonum_pat, x))]\n",
    "val_df = pd.read_csv('data/classifier_input_val.csv', index_col=0)\n",
    "val_df = val_df[val_df.len > 19][val_df.para_text.apply(lambda x: not re.match(nonum_pat, x))]"
   ]
  },
  {
   "cell_type": "markdown",
   "metadata": {},
   "source": [
    "### Create entity matcher to use in NLP pipeline"
   ]
  },
  {
   "cell_type": "code",
   "execution_count": 4,
   "metadata": {
    "ExecuteTime": {
     "end_time": "2018-07-03T20:24:43.067765Z",
     "start_time": "2018-07-03T20:24:43.031741Z"
    }
   },
   "outputs": [],
   "source": [
    "# Templated from: https://spacy.io/usage/processing-pipelines#custom-components \n",
    "class EmpNounRecognizer(object):\n",
    "    \"\"\"A spaCy v2.0 pipeline component that sets entity annotations\n",
    "    based on list of terms. Terms are labelled as EMP_NOUN. Additionally,\n",
    "    ._.has_emp_noun and ._.is_emp_noun is set on the Doc/Span and Token\n",
    "    respectively.\"\"\"\n",
    "    name = 'employee_nouns'  # component name, will show up in the pipeline\n",
    "\n",
    "    def __init__(self, nlp, terms=tuple(), label='EMP_NOUN'):\n",
    "        \"\"\"Initialise the pipeline component. The shared nlp instance is used\n",
    "        to initialise the matcher with the shared vocab, get the label ID and\n",
    "        generate Doc objects as phrase match patterns.\n",
    "        \"\"\"\n",
    "        self.label = nlp.vocab.strings[label]  # get entity label ID\n",
    "\n",
    "        # Set up the PhraseMatcher – it can now take Doc objects as patterns,\n",
    "        # so even if the list of terms is long, it's very efficient\n",
    "        patterns = [nlp(term) for term in terms]\n",
    "        self.matcher = PhraseMatcher(nlp.vocab)\n",
    "        self.matcher.add('EMP_NOUN', None, *patterns)\n",
    "\n",
    "        # Register attribute on the Token. We'll be overwriting this based on\n",
    "        # the matches, so we're only setting a default value, not a getter.\n",
    "        Token.set_extension('is_emp_noun', default=False)\n",
    "\n",
    "        # Register attributes on Doc and Span via a getter that checks if one of\n",
    "        # the contained tokens is set to is_emp_noun == True.\n",
    "        Doc.set_extension('has_emp_noun', getter=self.has_emp_noun)\n",
    "        Span.set_extension('has_emp_noun', getter=self.has_emp_noun)\n",
    "\n",
    "    def __call__(self, doc):\n",
    "        \"\"\"Apply the pipeline component on a Doc object and modify it if matches\n",
    "        are found. Return the Doc, so it can be processed by the next component\n",
    "        in the pipeline, if available.\n",
    "        \"\"\"\n",
    "        matches = self.matcher(doc)\n",
    "        spans = []  # keep the spans for later so we can merge them afterwards\n",
    "        for _, start, end in matches:\n",
    "            # Generate Span representing the entity & set label\n",
    "            entity = Span(doc, start, end, label=self.label)\n",
    "            spans.append(entity)\n",
    "            # Set custom attribute on each token of the entity\n",
    "            for token in entity:\n",
    "                token._.set('is_emp_noun', True)\n",
    "            # Overwrite doc.ents and add entity – be careful not to replace!\n",
    "            doc.ents = list(doc.ents) + [entity]\n",
    "        for span in spans:\n",
    "            # Iterate over all spans and merge them into one token. This is done\n",
    "            # after setting the entities – otherwise, it would cause mismatched\n",
    "            # indices!\n",
    "            span.merge()\n",
    "        return doc  # don't forget to return the Doc!\n",
    "\n",
    "    def has_emp_noun(self, tokens):\n",
    "        \"\"\"Getter for Doc and Span attributes. Returns True if one of the tokens\n",
    "        is an employee noun. Since the getter is only called when we access the\n",
    "        attribute, we can refer to the Token's 'is_emp_noun' attribute here,\n",
    "        which is already set in the processing step.\"\"\"\n",
    "        return any([t._.get('is_emp_noun') for t in tokens])"
   ]
  },
  {
   "cell_type": "code",
   "execution_count": 5,
   "metadata": {
    "ExecuteTime": {
     "end_time": "2018-07-03T20:24:49.979665Z",
     "start_time": "2018-07-03T20:24:49.976662Z"
    }
   },
   "outputs": [],
   "source": [
    "emp_terms_list = [\"associates\", \"employees\", \"individuals\", \"people\", \"persons\", \"team members\"]"
   ]
  },
  {
   "cell_type": "code",
   "execution_count": 6,
   "metadata": {
    "ExecuteTime": {
     "end_time": "2018-07-03T20:24:51.790589Z",
     "start_time": "2018-07-03T20:24:51.104229Z"
    }
   },
   "outputs": [],
   "source": [
    "nlp = spacy.load('en_core_web_sm')"
   ]
  },
  {
   "cell_type": "code",
   "execution_count": 7,
   "metadata": {
    "ExecuteTime": {
     "end_time": "2018-07-03T20:24:52.671738Z",
     "start_time": "2018-07-03T20:24:52.616702Z"
    },
    "scrolled": true
   },
   "outputs": [],
   "source": [
    "emp_noun_recognizer = EmpNounRecognizer(nlp, emp_terms_list)"
   ]
  },
  {
   "cell_type": "code",
   "execution_count": 8,
   "metadata": {
    "ExecuteTime": {
     "end_time": "2018-07-03T20:24:56.035240Z",
     "start_time": "2018-07-03T20:24:56.032239Z"
    }
   },
   "outputs": [],
   "source": [
    "nlp.add_pipe(emp_noun_recognizer, last=True) "
   ]
  },
  {
   "cell_type": "code",
   "execution_count": 9,
   "metadata": {
    "ExecuteTime": {
     "end_time": "2018-07-03T20:24:57.390120Z",
     "start_time": "2018-07-03T20:24:57.384117Z"
    }
   },
   "outputs": [
    {
     "name": "stdout",
     "output_type": "stream",
     "text": [
      "Pipeline ['tagger', 'parser', 'ner', 'employee_nouns']\n"
     ]
    }
   ],
   "source": [
    "print('Pipeline', nlp.pipe_names) "
   ]
  },
  {
   "cell_type": "markdown",
   "metadata": {},
   "source": [
    "### Define sentence structure types"
   ]
  },
  {
   "cell_type": "markdown",
   "metadata": {},
   "source": [
    "#### [Company | we] [employed | have] [number] [emp_noun]"
   ]
  },
  {
   "cell_type": "markdown",
   "metadata": {},
   "source": [
    "Examples: \n",
    "\n",
    "`\"As of January 31, 2017, we employed 7,683 individuals.\"`\n",
    "\n",
    "`\"At December 31, 2016, Bio-Rad had approximately 8,250 employees.\"`"
   ]
  },
  {
   "cell_type": "markdown",
   "metadata": {},
   "source": [
    "#### [number_noun] [was] [number]"
   ]
  },
  {
   "cell_type": "markdown",
   "metadata": {},
   "source": [
    "Examples:"
   ]
  },
  {
   "cell_type": "markdown",
   "metadata": {
    "ExecuteTime": {
     "end_time": "2018-07-03T22:46:48.235389Z",
     "start_time": "2018-07-03T22:46:48.231387Z"
    }
   },
   "source": [
    "`\"The number of full-time employees of the Company was approximately 31,800 at December 31, 2016 and 32,300 at December 31, 2015.\"`\n",
    "\n",
    "`\"Alcoa's total worldwide employment at the end of 2016 was approximately 14,000 employees in 15 countries.\"`"
   ]
  },
  {
   "cell_type": "code",
   "execution_count": 10,
   "metadata": {
    "ExecuteTime": {
     "end_time": "2018-07-03T20:24:59.826390Z",
     "start_time": "2018-07-03T20:24:59.817383Z"
    }
   },
   "outputs": [],
   "source": [
    "test_sents = [\"As of September 30, 2016, we employed approximately 7,300 employees world-wide.\", \n",
    "\"As of December 31, 2016, the subsidiaries of AEP had a total of 17,634 employees.\", \n",
    "\"At December 31, 2016 and 2015, we had approximately 56,400 and 66,400 employees, respectively.\", \n",
    "\"At December 31, 2016, we had approximately 9,400 full-time employees.\", \n",
    "\"As of October 29, 2016, we employed approximately 10,000 individuals worldwide.\", \n",
    "\"The number of full-time employees of the Company was approximately 31,800 at December 31, 2016 and 32,300 at December 31, 2015.\", \n",
    "\"As of December 31, 2016, we had 1,469 total employees.\", \n",
    "\"ADP employed approximately 57,000 persons as of June 30, 2016.\", \n",
    "\"At December 31, 2016, we employed approximately 26,400 employees.\", \n",
    "\"The Company and its subsidiaries employed 1,562 persons at December 31, 2016, 114 of whom are covered by a collective bargaining agreement with District 10 of the International Association of Machinists.\", \n",
    "\"As of December 31, 2016, the Company had 455 employees, an increase of 17 employees from the prior year end.\", \n",
    "\"As of December 31, 2016, we had approximately 17,500 employees worldwide.\", \n",
    "\"Based in Neenah, Wisconsin, at December 31, 2016, the Company employed approximately 17,500 individuals and had 59 manufacturing facilities.\", \n",
    "\"As of January 31, 2017, we employed 7,683 individuals.\", \n",
    "\"At December 31, 2016, Bio-Rad had approximately 8,250 employees.\", \n",
    "\"As of December 31, 2016, we had approximately 8,500 full-time employees and 600 contractors.\", \n",
    "\"Alcoa's total worldwide employment at the end of 2016 was approximately 14,000 employees in 15 countries.\", \n",
    "\"As of December 31, 2016, we employed approximately 2,100 people.\", \n",
    "\"At December 31, 2016, the Company had approximately 11,500 employees.\",\n",
    "\"As of February 23, 2017, we employed approximately 41,000 full-time Team Members and approximately 33,000 part-time Team Members.\", \n",
    "\"As of December 31, 2016, we had 699 full-time employees and 202 temporary employees.\", \n",
    "\"As of December 31, 2016, we had 2,646 employees, 1,581 of whom were pilots.\"]"
   ]
  },
  {
   "cell_type": "code",
   "execution_count": 11,
   "metadata": {
    "ExecuteTime": {
     "end_time": "2018-07-03T20:25:03.741678Z",
     "start_time": "2018-07-03T20:25:03.721666Z"
    },
    "scrolled": true
   },
   "outputs": [],
   "source": [
    "doc1b = nlp(test_sents[1])"
   ]
  },
  {
   "cell_type": "code",
   "execution_count": 20,
   "metadata": {
    "ExecuteTime": {
     "end_time": "2018-07-03T20:27:26.214560Z",
     "start_time": "2018-07-03T20:27:26.126507Z"
    }
   },
   "outputs": [
    {
     "name": "stdout",
     "output_type": "stream",
     "text": [
      "doc is: \n",
      "As of December 31, 2016, the subsidiaries of AEP had a total of 17,634 employees.\n",
      "--------------------------------------------------\n",
      "tokens are: \n",
      "--------------------------------------------------\n",
      "0: As | IN  : conjunction, subordinating or preposition\n",
      "1: of | IN  : conjunction, subordinating or preposition\n",
      "2: December | NNP  : noun, proper singular\n",
      "3: 31 | CD  : cardinal number\n",
      "4: , | ,  : punctuation mark, comma\n",
      "5: 2016 | CD  : cardinal number\n",
      "6: , | ,  : punctuation mark, comma\n",
      "7: the | DT  : determiner\n",
      "8: subsidiaries | NNS  : noun, plural\n",
      "9: of | IN  : conjunction, subordinating or preposition\n",
      "10: AEP | NNP  : noun, proper singular\n",
      "11: had | VBD  : verb, past tense\n",
      "12: a | DT  : determiner\n",
      "13: total | NN  : noun, singular or mass\n",
      "14: of | IN  : conjunction, subordinating or preposition\n",
      "15: 17,634 | CD  : cardinal number\n",
      "16: employees | NNS  : noun, plural\n",
      "17: . | .  : punctuation mark, sentence closer\n",
      "--------------------------------------------------\n",
      "Entities are: \n",
      "December 31, 2016 DATE\n",
      "AEP ORG\n",
      "17,634 CARDINAL\n",
      "employees EMP_NOUN\n",
      "--------------------------------------------------\n",
      "Noun chunks are: \n",
      "December NP December\n",
      "the subsidiaries NP subsidiaries\n",
      "AEP NP AEP\n",
      "a total NP total\n",
      "17,634 employees NP employees\n",
      "--------------------------------------------------\n",
      "Cardinal entities are: \n",
      "17,634\n",
      "Cardinal.dep_ : nummod\n",
      "Cardinal.head : employees\n",
      "Cardinal.head.dep_ : pobj\n"
     ]
    }
   ],
   "source": [
    "print_doc_info(doc1)"
   ]
  },
  {
   "cell_type": "code",
   "execution_count": null,
   "metadata": {},
   "outputs": [],
   "source": [
    "class EntityMatcher(object):\n",
    "    name = 'entity_matcher'\n",
    "\n",
    "    def __init__(self, nlp, terms, label):\n",
    "        patterns = [nlp(text) for text in terms]\n",
    "        self.matcher = PhraseMatcher(nlp.vocab)\n",
    "        self.matcher.add(label, None, *patterns)\n",
    "\n",
    "    def __call__(self, doc):\n",
    "        matches = self.matcher(doc)\n",
    "        for match_id, start, end in matches:\n",
    "            span = Span(doc, start, end, label=match_id)\n",
    "            doc.ents = list(doc.ents) + [span]\n",
    "        return doc\n",
    "\n",
    "nlp = spacy.load('en_core_web_sm')\n",
    "terms = (u'cat', u'dog', u'tree kangaroo', u'giant sea spider')\n",
    "entity_matcher = EntityMatcher(nlp, terms, 'ANIMAL')\n",
    "\n",
    "nlp.add_pipe(entity_matcher, after='ner')"
   ]
  },
  {
   "cell_type": "code",
   "execution_count": 4,
   "metadata": {
    "ExecuteTime": {
     "end_time": "2018-07-03T20:06:51.793106Z",
     "start_time": "2018-07-03T20:06:42.929761Z"
    }
   },
   "outputs": [],
   "source": [
    "nlp = spacy.load('en_core_web_lg')"
   ]
  },
  {
   "cell_type": "code",
   "execution_count": 12,
   "metadata": {
    "ExecuteTime": {
     "end_time": "2018-07-03T20:25:41.478348Z",
     "start_time": "2018-07-03T20:25:41.473345Z"
    }
   },
   "outputs": [],
   "source": [
    "train_para_list = train_df.para_text.tolist()"
   ]
  },
  {
   "cell_type": "code",
   "execution_count": 13,
   "metadata": {
    "ExecuteTime": {
     "end_time": "2018-07-03T20:25:41.513369Z",
     "start_time": "2018-07-03T20:25:41.480349Z"
    }
   },
   "outputs": [
    {
     "name": "stdout",
     "output_type": "stream",
     "text": [
      "As of September 30, 2016, we employed approximately 7,300 employees world-wide.\n",
      "Approximately 860 of our employees in Mexico, 450 employees in Singapore, and 200 employees in Japan are covered by collective bargaining and other union agreements.\n"
     ]
    }
   ],
   "source": [
    "for sent in nlp(train_para_list[0]).sents:\n",
    "    print(sent)"
   ]
  },
  {
   "cell_type": "code",
   "execution_count": 14,
   "metadata": {
    "ExecuteTime": {
     "end_time": "2018-07-03T20:25:46.376946Z",
     "start_time": "2018-07-03T20:25:46.335918Z"
    },
    "scrolled": true
   },
   "outputs": [
    {
     "name": "stdout",
     "output_type": "stream",
     "text": [
      "[('As', 'IN'), ('of', 'IN'), ('September', 'NNP'), ('30', 'CD'), (',', ','), ('2016', 'CD'), (',', ','), ('we', 'PRP'), ('employed', 'VBD'), ('approximately', 'RB'), ('7,300', 'CD'), ('employees', 'NNS'), ('world', 'NN'), ('-', 'HYPH'), ('wide', 'RB'), ('.', '.')]\n"
     ]
    }
   ],
   "source": [
    "print([(token.text, token.tag_) for token in nlp(list(nlp(train_para_list[0]).sents)[0].text)])"
   ]
  },
  {
   "cell_type": "code",
   "execution_count": 16,
   "metadata": {
    "ExecuteTime": {
     "end_time": "2018-07-03T20:26:05.280758Z",
     "start_time": "2018-07-03T20:26:05.231728Z"
    }
   },
   "outputs": [
    {
     "name": "stdout",
     "output_type": "stream",
     "text": [
      "September 30, 2016 DATE\n",
      "approximately 7,300 CARDINAL\n",
      "employees EMP_NOUN\n"
     ]
    }
   ],
   "source": [
    "for ent in nlp(list(nlp(train_para_list[0]).sents)[0].text).ents:\n",
    "    print(ent.text, ent.label_)"
   ]
  },
  {
   "cell_type": "code",
   "execution_count": 47,
   "metadata": {
    "ExecuteTime": {
     "end_time": "2018-07-02T15:46:16.934099Z",
     "start_time": "2018-07-02T15:46:16.928093Z"
    }
   },
   "outputs": [],
   "source": [
    "test_list = [\"We are a small company with approximately 61 employees.\",\n",
    "\"The number of full-time employees of the Company was approximately 31,800 at December 31, 2016 and 32,300 at December 31, 2015. \",\n",
    "\"Total workforce level at December 31, 2016 was approximately 150,500\",           \n",
    "\"Currently, the Company and its subsidiaries have an aggregate of 35 employees.\",\n",
    "\"we employ only 31 employees\", \n",
    "\"We currently have 21 employees\",\n",
    "\"We currently employ 26 full-time employees\",\n",
    "\"Including our full and part-time personnel, we estimate that we have \\\n",
    "the equivalent of 12 full time employees.\",\n",
    "\"As a REIT, we employ only 31 employees and have a cost-effective \\\n",
    "management structure.\"\n",
    "            ]"
   ]
  },
  {
   "cell_type": "code",
   "execution_count": 57,
   "metadata": {
    "ExecuteTime": {
     "end_time": "2018-07-02T15:57:31.318066Z",
     "start_time": "2018-07-02T15:57:31.294052Z"
    }
   },
   "outputs": [],
   "source": [
    "doc1 = nlp(test_list[1])"
   ]
  },
  {
   "cell_type": "code",
   "execution_count": 50,
   "metadata": {
    "ExecuteTime": {
     "end_time": "2018-07-02T15:48:17.787516Z",
     "start_time": "2018-07-02T15:48:17.767504Z"
    }
   },
   "outputs": [],
   "source": [
    "doc7 = nlp(test_list[7])"
   ]
  },
  {
   "cell_type": "code",
   "execution_count": 60,
   "metadata": {
    "ExecuteTime": {
     "end_time": "2018-07-02T16:00:05.602127Z",
     "start_time": "2018-07-02T16:00:05.591120Z"
    },
    "collapsed": true
   },
   "outputs": [
    {
     "data": {
      "text/html": [
       "<svg xmlns=\"http://www.w3.org/2000/svg\" xmlns:xlink=\"http://www.w3.org/1999/xlink\" id=\"0\" class=\"displacy\" width=\"1760\" height=\"452.0\" style=\"max-width: none; height: 452.0px; color: #000000; background: #ffffff; font-family: Arial\">\n",
       "<text class=\"displacy-token\" fill=\"currentColor\" text-anchor=\"middle\" y=\"362.0\">\n",
       "    <tspan class=\"displacy-word\" fill=\"currentColor\" x=\"50\">Including</tspan>\n",
       "    <tspan class=\"displacy-tag\" dy=\"2em\" fill=\"currentColor\" x=\"50\">VERB</tspan>\n",
       "</text>\n",
       "\n",
       "<text class=\"displacy-token\" fill=\"currentColor\" text-anchor=\"middle\" y=\"362.0\">\n",
       "    <tspan class=\"displacy-word\" fill=\"currentColor\" x=\"140\">our</tspan>\n",
       "    <tspan class=\"displacy-tag\" dy=\"2em\" fill=\"currentColor\" x=\"140\">ADJ</tspan>\n",
       "</text>\n",
       "\n",
       "<text class=\"displacy-token\" fill=\"currentColor\" text-anchor=\"middle\" y=\"362.0\">\n",
       "    <tspan class=\"displacy-word\" fill=\"currentColor\" x=\"230\">full</tspan>\n",
       "    <tspan class=\"displacy-tag\" dy=\"2em\" fill=\"currentColor\" x=\"230\">ADJ</tspan>\n",
       "</text>\n",
       "\n",
       "<text class=\"displacy-token\" fill=\"currentColor\" text-anchor=\"middle\" y=\"362.0\">\n",
       "    <tspan class=\"displacy-word\" fill=\"currentColor\" x=\"320\">and</tspan>\n",
       "    <tspan class=\"displacy-tag\" dy=\"2em\" fill=\"currentColor\" x=\"320\">CCONJ</tspan>\n",
       "</text>\n",
       "\n",
       "<text class=\"displacy-token\" fill=\"currentColor\" text-anchor=\"middle\" y=\"362.0\">\n",
       "    <tspan class=\"displacy-word\" fill=\"currentColor\" x=\"410\">part-</tspan>\n",
       "    <tspan class=\"displacy-tag\" dy=\"2em\" fill=\"currentColor\" x=\"410\">ADJ</tspan>\n",
       "</text>\n",
       "\n",
       "<text class=\"displacy-token\" fill=\"currentColor\" text-anchor=\"middle\" y=\"362.0\">\n",
       "    <tspan class=\"displacy-word\" fill=\"currentColor\" x=\"500\">time</tspan>\n",
       "    <tspan class=\"displacy-tag\" dy=\"2em\" fill=\"currentColor\" x=\"500\">NOUN</tspan>\n",
       "</text>\n",
       "\n",
       "<text class=\"displacy-token\" fill=\"currentColor\" text-anchor=\"middle\" y=\"362.0\">\n",
       "    <tspan class=\"displacy-word\" fill=\"currentColor\" x=\"590\">personnel,</tspan>\n",
       "    <tspan class=\"displacy-tag\" dy=\"2em\" fill=\"currentColor\" x=\"590\">NOUN</tspan>\n",
       "</text>\n",
       "\n",
       "<text class=\"displacy-token\" fill=\"currentColor\" text-anchor=\"middle\" y=\"362.0\">\n",
       "    <tspan class=\"displacy-word\" fill=\"currentColor\" x=\"680\">we</tspan>\n",
       "    <tspan class=\"displacy-tag\" dy=\"2em\" fill=\"currentColor\" x=\"680\">PRON</tspan>\n",
       "</text>\n",
       "\n",
       "<text class=\"displacy-token\" fill=\"currentColor\" text-anchor=\"middle\" y=\"362.0\">\n",
       "    <tspan class=\"displacy-word\" fill=\"currentColor\" x=\"770\">estimate</tspan>\n",
       "    <tspan class=\"displacy-tag\" dy=\"2em\" fill=\"currentColor\" x=\"770\">VERB</tspan>\n",
       "</text>\n",
       "\n",
       "<text class=\"displacy-token\" fill=\"currentColor\" text-anchor=\"middle\" y=\"362.0\">\n",
       "    <tspan class=\"displacy-word\" fill=\"currentColor\" x=\"860\">that</tspan>\n",
       "    <tspan class=\"displacy-tag\" dy=\"2em\" fill=\"currentColor\" x=\"860\">ADP</tspan>\n",
       "</text>\n",
       "\n",
       "<text class=\"displacy-token\" fill=\"currentColor\" text-anchor=\"middle\" y=\"362.0\">\n",
       "    <tspan class=\"displacy-word\" fill=\"currentColor\" x=\"950\">we</tspan>\n",
       "    <tspan class=\"displacy-tag\" dy=\"2em\" fill=\"currentColor\" x=\"950\">PRON</tspan>\n",
       "</text>\n",
       "\n",
       "<text class=\"displacy-token\" fill=\"currentColor\" text-anchor=\"middle\" y=\"362.0\">\n",
       "    <tspan class=\"displacy-word\" fill=\"currentColor\" x=\"1040\">have</tspan>\n",
       "    <tspan class=\"displacy-tag\" dy=\"2em\" fill=\"currentColor\" x=\"1040\">VERB</tspan>\n",
       "</text>\n",
       "\n",
       "<text class=\"displacy-token\" fill=\"currentColor\" text-anchor=\"middle\" y=\"362.0\">\n",
       "    <tspan class=\"displacy-word\" fill=\"currentColor\" x=\"1130\">the</tspan>\n",
       "    <tspan class=\"displacy-tag\" dy=\"2em\" fill=\"currentColor\" x=\"1130\">DET</tspan>\n",
       "</text>\n",
       "\n",
       "<text class=\"displacy-token\" fill=\"currentColor\" text-anchor=\"middle\" y=\"362.0\">\n",
       "    <tspan class=\"displacy-word\" fill=\"currentColor\" x=\"1220\">equivalent</tspan>\n",
       "    <tspan class=\"displacy-tag\" dy=\"2em\" fill=\"currentColor\" x=\"1220\">NOUN</tspan>\n",
       "</text>\n",
       "\n",
       "<text class=\"displacy-token\" fill=\"currentColor\" text-anchor=\"middle\" y=\"362.0\">\n",
       "    <tspan class=\"displacy-word\" fill=\"currentColor\" x=\"1310\">of</tspan>\n",
       "    <tspan class=\"displacy-tag\" dy=\"2em\" fill=\"currentColor\" x=\"1310\">ADP</tspan>\n",
       "</text>\n",
       "\n",
       "<text class=\"displacy-token\" fill=\"currentColor\" text-anchor=\"middle\" y=\"362.0\">\n",
       "    <tspan class=\"displacy-word\" fill=\"currentColor\" x=\"1400\">12</tspan>\n",
       "    <tspan class=\"displacy-tag\" dy=\"2em\" fill=\"currentColor\" x=\"1400\">NUM</tspan>\n",
       "</text>\n",
       "\n",
       "<text class=\"displacy-token\" fill=\"currentColor\" text-anchor=\"middle\" y=\"362.0\">\n",
       "    <tspan class=\"displacy-word\" fill=\"currentColor\" x=\"1490\">full</tspan>\n",
       "    <tspan class=\"displacy-tag\" dy=\"2em\" fill=\"currentColor\" x=\"1490\">ADJ</tspan>\n",
       "</text>\n",
       "\n",
       "<text class=\"displacy-token\" fill=\"currentColor\" text-anchor=\"middle\" y=\"362.0\">\n",
       "    <tspan class=\"displacy-word\" fill=\"currentColor\" x=\"1580\">time</tspan>\n",
       "    <tspan class=\"displacy-tag\" dy=\"2em\" fill=\"currentColor\" x=\"1580\">NOUN</tspan>\n",
       "</text>\n",
       "\n",
       "<text class=\"displacy-token\" fill=\"currentColor\" text-anchor=\"middle\" y=\"362.0\">\n",
       "    <tspan class=\"displacy-word\" fill=\"currentColor\" x=\"1670\">employees.</tspan>\n",
       "    <tspan class=\"displacy-tag\" dy=\"2em\" fill=\"currentColor\" x=\"1670\">NOUN</tspan>\n",
       "</text>\n",
       "\n",
       "<g class=\"displacy-arrow\">\n",
       "    <path class=\"displacy-arc\" id=\"arrow-0-0\" stroke-width=\"2px\" d=\"M70,317.0 C70,2.0 770.0,2.0 770.0,317.0\" fill=\"none\" stroke=\"currentColor\"/>\n",
       "    <text dy=\"1.25em\" style=\"font-size: 0.8em; letter-spacing: 1px\">\n",
       "        <textPath xlink:href=\"#arrow-0-0\" class=\"displacy-label\" startOffset=\"50%\" fill=\"currentColor\" text-anchor=\"middle\">prep</textPath>\n",
       "    </text>\n",
       "    <path class=\"displacy-arrowhead\" d=\"M70,319.0 L62,307.0 78,307.0\" fill=\"currentColor\"/>\n",
       "</g>\n",
       "\n",
       "<g class=\"displacy-arrow\">\n",
       "    <path class=\"displacy-arc\" id=\"arrow-0-1\" stroke-width=\"2px\" d=\"M160,317.0 C160,92.0 580.0,92.0 580.0,317.0\" fill=\"none\" stroke=\"currentColor\"/>\n",
       "    <text dy=\"1.25em\" style=\"font-size: 0.8em; letter-spacing: 1px\">\n",
       "        <textPath xlink:href=\"#arrow-0-1\" class=\"displacy-label\" startOffset=\"50%\" fill=\"currentColor\" text-anchor=\"middle\">poss</textPath>\n",
       "    </text>\n",
       "    <path class=\"displacy-arrowhead\" d=\"M160,319.0 L152,307.0 168,307.0\" fill=\"currentColor\"/>\n",
       "</g>\n",
       "\n",
       "<g class=\"displacy-arrow\">\n",
       "    <path class=\"displacy-arc\" id=\"arrow-0-2\" stroke-width=\"2px\" d=\"M250,317.0 C250,137.0 575.0,137.0 575.0,317.0\" fill=\"none\" stroke=\"currentColor\"/>\n",
       "    <text dy=\"1.25em\" style=\"font-size: 0.8em; letter-spacing: 1px\">\n",
       "        <textPath xlink:href=\"#arrow-0-2\" class=\"displacy-label\" startOffset=\"50%\" fill=\"currentColor\" text-anchor=\"middle\">amod</textPath>\n",
       "    </text>\n",
       "    <path class=\"displacy-arrowhead\" d=\"M250,319.0 L242,307.0 258,307.0\" fill=\"currentColor\"/>\n",
       "</g>\n",
       "\n",
       "<g class=\"displacy-arrow\">\n",
       "    <path class=\"displacy-arc\" id=\"arrow-0-3\" stroke-width=\"2px\" d=\"M250,317.0 C250,272.0 290.0,272.0 290.0,317.0\" fill=\"none\" stroke=\"currentColor\"/>\n",
       "    <text dy=\"1.25em\" style=\"font-size: 0.8em; letter-spacing: 1px\">\n",
       "        <textPath xlink:href=\"#arrow-0-3\" class=\"displacy-label\" startOffset=\"50%\" fill=\"currentColor\" text-anchor=\"middle\">cc</textPath>\n",
       "    </text>\n",
       "    <path class=\"displacy-arrowhead\" d=\"M290.0,319.0 L298.0,307.0 282.0,307.0\" fill=\"currentColor\"/>\n",
       "</g>\n",
       "\n",
       "<g class=\"displacy-arrow\">\n",
       "    <path class=\"displacy-arc\" id=\"arrow-0-4\" stroke-width=\"2px\" d=\"M430,317.0 C430,272.0 470.0,272.0 470.0,317.0\" fill=\"none\" stroke=\"currentColor\"/>\n",
       "    <text dy=\"1.25em\" style=\"font-size: 0.8em; letter-spacing: 1px\">\n",
       "        <textPath xlink:href=\"#arrow-0-4\" class=\"displacy-label\" startOffset=\"50%\" fill=\"currentColor\" text-anchor=\"middle\">compound</textPath>\n",
       "    </text>\n",
       "    <path class=\"displacy-arrowhead\" d=\"M430,319.0 L422,307.0 438,307.0\" fill=\"currentColor\"/>\n",
       "</g>\n",
       "\n",
       "<g class=\"displacy-arrow\">\n",
       "    <path class=\"displacy-arc\" id=\"arrow-0-5\" stroke-width=\"2px\" d=\"M250,317.0 C250,182.0 480.0,182.0 480.0,317.0\" fill=\"none\" stroke=\"currentColor\"/>\n",
       "    <text dy=\"1.25em\" style=\"font-size: 0.8em; letter-spacing: 1px\">\n",
       "        <textPath xlink:href=\"#arrow-0-5\" class=\"displacy-label\" startOffset=\"50%\" fill=\"currentColor\" text-anchor=\"middle\">conj</textPath>\n",
       "    </text>\n",
       "    <path class=\"displacy-arrowhead\" d=\"M480.0,319.0 L488.0,307.0 472.0,307.0\" fill=\"currentColor\"/>\n",
       "</g>\n",
       "\n",
       "<g class=\"displacy-arrow\">\n",
       "    <path class=\"displacy-arc\" id=\"arrow-0-6\" stroke-width=\"2px\" d=\"M70,317.0 C70,47.0 585.0,47.0 585.0,317.0\" fill=\"none\" stroke=\"currentColor\"/>\n",
       "    <text dy=\"1.25em\" style=\"font-size: 0.8em; letter-spacing: 1px\">\n",
       "        <textPath xlink:href=\"#arrow-0-6\" class=\"displacy-label\" startOffset=\"50%\" fill=\"currentColor\" text-anchor=\"middle\">pobj</textPath>\n",
       "    </text>\n",
       "    <path class=\"displacy-arrowhead\" d=\"M585.0,319.0 L593.0,307.0 577.0,307.0\" fill=\"currentColor\"/>\n",
       "</g>\n",
       "\n",
       "<g class=\"displacy-arrow\">\n",
       "    <path class=\"displacy-arc\" id=\"arrow-0-7\" stroke-width=\"2px\" d=\"M700,317.0 C700,272.0 740.0,272.0 740.0,317.0\" fill=\"none\" stroke=\"currentColor\"/>\n",
       "    <text dy=\"1.25em\" style=\"font-size: 0.8em; letter-spacing: 1px\">\n",
       "        <textPath xlink:href=\"#arrow-0-7\" class=\"displacy-label\" startOffset=\"50%\" fill=\"currentColor\" text-anchor=\"middle\">nsubj</textPath>\n",
       "    </text>\n",
       "    <path class=\"displacy-arrowhead\" d=\"M700,319.0 L692,307.0 708,307.0\" fill=\"currentColor\"/>\n",
       "</g>\n",
       "\n",
       "<g class=\"displacy-arrow\">\n",
       "    <path class=\"displacy-arc\" id=\"arrow-0-8\" stroke-width=\"2px\" d=\"M880,317.0 C880,227.0 1015.0,227.0 1015.0,317.0\" fill=\"none\" stroke=\"currentColor\"/>\n",
       "    <text dy=\"1.25em\" style=\"font-size: 0.8em; letter-spacing: 1px\">\n",
       "        <textPath xlink:href=\"#arrow-0-8\" class=\"displacy-label\" startOffset=\"50%\" fill=\"currentColor\" text-anchor=\"middle\">mark</textPath>\n",
       "    </text>\n",
       "    <path class=\"displacy-arrowhead\" d=\"M880,319.0 L872,307.0 888,307.0\" fill=\"currentColor\"/>\n",
       "</g>\n",
       "\n",
       "<g class=\"displacy-arrow\">\n",
       "    <path class=\"displacy-arc\" id=\"arrow-0-9\" stroke-width=\"2px\" d=\"M970,317.0 C970,272.0 1010.0,272.0 1010.0,317.0\" fill=\"none\" stroke=\"currentColor\"/>\n",
       "    <text dy=\"1.25em\" style=\"font-size: 0.8em; letter-spacing: 1px\">\n",
       "        <textPath xlink:href=\"#arrow-0-9\" class=\"displacy-label\" startOffset=\"50%\" fill=\"currentColor\" text-anchor=\"middle\">nsubj</textPath>\n",
       "    </text>\n",
       "    <path class=\"displacy-arrowhead\" d=\"M970,319.0 L962,307.0 978,307.0\" fill=\"currentColor\"/>\n",
       "</g>\n",
       "\n",
       "<g class=\"displacy-arrow\">\n",
       "    <path class=\"displacy-arc\" id=\"arrow-0-10\" stroke-width=\"2px\" d=\"M790,317.0 C790,182.0 1020.0,182.0 1020.0,317.0\" fill=\"none\" stroke=\"currentColor\"/>\n",
       "    <text dy=\"1.25em\" style=\"font-size: 0.8em; letter-spacing: 1px\">\n",
       "        <textPath xlink:href=\"#arrow-0-10\" class=\"displacy-label\" startOffset=\"50%\" fill=\"currentColor\" text-anchor=\"middle\">ccomp</textPath>\n",
       "    </text>\n",
       "    <path class=\"displacy-arrowhead\" d=\"M1020.0,319.0 L1028.0,307.0 1012.0,307.0\" fill=\"currentColor\"/>\n",
       "</g>\n",
       "\n",
       "<g class=\"displacy-arrow\">\n",
       "    <path class=\"displacy-arc\" id=\"arrow-0-11\" stroke-width=\"2px\" d=\"M1150,317.0 C1150,272.0 1190.0,272.0 1190.0,317.0\" fill=\"none\" stroke=\"currentColor\"/>\n",
       "    <text dy=\"1.25em\" style=\"font-size: 0.8em; letter-spacing: 1px\">\n",
       "        <textPath xlink:href=\"#arrow-0-11\" class=\"displacy-label\" startOffset=\"50%\" fill=\"currentColor\" text-anchor=\"middle\">det</textPath>\n",
       "    </text>\n",
       "    <path class=\"displacy-arrowhead\" d=\"M1150,319.0 L1142,307.0 1158,307.0\" fill=\"currentColor\"/>\n",
       "</g>\n",
       "\n",
       "<g class=\"displacy-arrow\">\n",
       "    <path class=\"displacy-arc\" id=\"arrow-0-12\" stroke-width=\"2px\" d=\"M1060,317.0 C1060,227.0 1195.0,227.0 1195.0,317.0\" fill=\"none\" stroke=\"currentColor\"/>\n",
       "    <text dy=\"1.25em\" style=\"font-size: 0.8em; letter-spacing: 1px\">\n",
       "        <textPath xlink:href=\"#arrow-0-12\" class=\"displacy-label\" startOffset=\"50%\" fill=\"currentColor\" text-anchor=\"middle\">dobj</textPath>\n",
       "    </text>\n",
       "    <path class=\"displacy-arrowhead\" d=\"M1195.0,319.0 L1203.0,307.0 1187.0,307.0\" fill=\"currentColor\"/>\n",
       "</g>\n",
       "\n",
       "<g class=\"displacy-arrow\">\n",
       "    <path class=\"displacy-arc\" id=\"arrow-0-13\" stroke-width=\"2px\" d=\"M1240,317.0 C1240,272.0 1280.0,272.0 1280.0,317.0\" fill=\"none\" stroke=\"currentColor\"/>\n",
       "    <text dy=\"1.25em\" style=\"font-size: 0.8em; letter-spacing: 1px\">\n",
       "        <textPath xlink:href=\"#arrow-0-13\" class=\"displacy-label\" startOffset=\"50%\" fill=\"currentColor\" text-anchor=\"middle\">prep</textPath>\n",
       "    </text>\n",
       "    <path class=\"displacy-arrowhead\" d=\"M1280.0,319.0 L1288.0,307.0 1272.0,307.0\" fill=\"currentColor\"/>\n",
       "</g>\n",
       "\n",
       "<g class=\"displacy-arrow\">\n",
       "    <path class=\"displacy-arc\" id=\"arrow-0-14\" stroke-width=\"2px\" d=\"M1420,317.0 C1420,182.0 1650.0,182.0 1650.0,317.0\" fill=\"none\" stroke=\"currentColor\"/>\n",
       "    <text dy=\"1.25em\" style=\"font-size: 0.8em; letter-spacing: 1px\">\n",
       "        <textPath xlink:href=\"#arrow-0-14\" class=\"displacy-label\" startOffset=\"50%\" fill=\"currentColor\" text-anchor=\"middle\">nummod</textPath>\n",
       "    </text>\n",
       "    <path class=\"displacy-arrowhead\" d=\"M1420,319.0 L1412,307.0 1428,307.0\" fill=\"currentColor\"/>\n",
       "</g>\n",
       "\n",
       "<g class=\"displacy-arrow\">\n",
       "    <path class=\"displacy-arc\" id=\"arrow-0-15\" stroke-width=\"2px\" d=\"M1510,317.0 C1510,272.0 1550.0,272.0 1550.0,317.0\" fill=\"none\" stroke=\"currentColor\"/>\n",
       "    <text dy=\"1.25em\" style=\"font-size: 0.8em; letter-spacing: 1px\">\n",
       "        <textPath xlink:href=\"#arrow-0-15\" class=\"displacy-label\" startOffset=\"50%\" fill=\"currentColor\" text-anchor=\"middle\">amod</textPath>\n",
       "    </text>\n",
       "    <path class=\"displacy-arrowhead\" d=\"M1510,319.0 L1502,307.0 1518,307.0\" fill=\"currentColor\"/>\n",
       "</g>\n",
       "\n",
       "<g class=\"displacy-arrow\">\n",
       "    <path class=\"displacy-arc\" id=\"arrow-0-16\" stroke-width=\"2px\" d=\"M1600,317.0 C1600,272.0 1640.0,272.0 1640.0,317.0\" fill=\"none\" stroke=\"currentColor\"/>\n",
       "    <text dy=\"1.25em\" style=\"font-size: 0.8em; letter-spacing: 1px\">\n",
       "        <textPath xlink:href=\"#arrow-0-16\" class=\"displacy-label\" startOffset=\"50%\" fill=\"currentColor\" text-anchor=\"middle\">compound</textPath>\n",
       "    </text>\n",
       "    <path class=\"displacy-arrowhead\" d=\"M1600,319.0 L1592,307.0 1608,307.0\" fill=\"currentColor\"/>\n",
       "</g>\n",
       "\n",
       "<g class=\"displacy-arrow\">\n",
       "    <path class=\"displacy-arc\" id=\"arrow-0-17\" stroke-width=\"2px\" d=\"M1330,317.0 C1330,137.0 1655.0,137.0 1655.0,317.0\" fill=\"none\" stroke=\"currentColor\"/>\n",
       "    <text dy=\"1.25em\" style=\"font-size: 0.8em; letter-spacing: 1px\">\n",
       "        <textPath xlink:href=\"#arrow-0-17\" class=\"displacy-label\" startOffset=\"50%\" fill=\"currentColor\" text-anchor=\"middle\">pobj</textPath>\n",
       "    </text>\n",
       "    <path class=\"displacy-arrowhead\" d=\"M1655.0,319.0 L1663.0,307.0 1647.0,307.0\" fill=\"currentColor\"/>\n",
       "</g>\n",
       "</svg>"
      ],
      "text/plain": [
       "<IPython.core.display.HTML object>"
      ]
     },
     "metadata": {},
     "output_type": "display_data"
    },
    {
     "data": {
      "text/html": [
       "<div class=\"entities\" style=\"line-height: 2.5\">Including our full and part-time personnel, we estimate that we have the equivalent of \n",
       "<mark class=\"entity\" style=\"background: #e4e7d2; padding: 0.45em 0.6em; margin: 0 0.25em; line-height: 1; border-radius: 0.35em; box-decoration-break: clone; -webkit-box-decoration-break: clone\">\n",
       "    12\n",
       "    <span style=\"font-size: 0.8em; font-weight: bold; line-height: 1; border-radius: 0.35em; text-transform: uppercase; vertical-align: middle; margin-left: 0.5rem\">CARDINAL</span>\n",
       "</mark>\n",
       " full time employees.</div>"
      ],
      "text/plain": [
       "<IPython.core.display.HTML object>"
      ]
     },
     "metadata": {},
     "output_type": "display_data"
    }
   ],
   "source": [
    "displacy.render(doc7, style='dep', jupyter=True, options={'distance': 90})\n",
    "displacy.render(doc7, style='ent', jupyter=True, options={'distance': 90})"
   ]
  },
  {
   "cell_type": "code",
   "execution_count": 17,
   "metadata": {
    "ExecuteTime": {
     "end_time": "2018-07-03T20:26:20.752091Z",
     "start_time": "2018-07-03T20:26:20.736082Z"
    }
   },
   "outputs": [],
   "source": [
    "def print_doc_info(doc):\n",
    "    print(\"doc is: \")\n",
    "    print(doc)\n",
    "    print('-' * 50)\n",
    "    print(\"tokens are: \")\n",
    "    print('-' * 50)\n",
    "    for tid, token in enumerate(doc):\n",
    "        #print(str(tid) + ' : ' + token.text)\n",
    "        print(str(tid) + ': ' + token.text + ' | ' + token.tag_ + '  : ' + spacy.explain(token.tag_))\n",
    "    print('-' * 50)\n",
    "    print(\"Entities are: \")\n",
    "    for ent in doc.ents:\n",
    "        print(ent.text, ent.label_)\n",
    "        \n",
    "    print('-' * 50)\n",
    "    print(\"Noun chunks are: \")\n",
    "\n",
    "    for chunk in doc.noun_chunks:\n",
    "        print(chunk.text, chunk.label_, chunk.root.text)\n",
    "    \n",
    "    print('-' * 50)\n",
    "    print(\"Cardinal entities are: \")\n",
    "    for cardinal in filter(lambda w: w.ent_type_ == 'CARDINAL', doc):\n",
    "        print(cardinal)\n",
    "        print(\"Cardinal.dep_ : \" + str(cardinal.dep_))\n",
    "        print(\"Cardinal.head : \" + str(cardinal.head))\n",
    "        print(\"Cardinal.head.dep_ : \" + str(cardinal.head.dep_))"
   ]
  },
  {
   "cell_type": "code",
   "execution_count": 19,
   "metadata": {
    "ExecuteTime": {
     "end_time": "2018-07-03T20:26:48.735458Z",
     "start_time": "2018-07-03T20:26:48.721450Z"
    }
   },
   "outputs": [
    {
     "data": {
      "text/html": [
       "<svg xmlns=\"http://www.w3.org/2000/svg\" xmlns:xlink=\"http://www.w3.org/1999/xlink\" id=\"0\" class=\"displacy\" width=\"2675\" height=\"487.0\" style=\"max-width: none; height: 487.0px; color: #000000; background: #ffffff; font-family: Arial\">\n",
       "<text class=\"displacy-token\" fill=\"currentColor\" text-anchor=\"middle\" y=\"397.0\">\n",
       "    <tspan class=\"displacy-word\" fill=\"currentColor\" x=\"50\">As</tspan>\n",
       "    <tspan class=\"displacy-tag\" dy=\"2em\" fill=\"currentColor\" x=\"50\">ADP</tspan>\n",
       "</text>\n",
       "\n",
       "<text class=\"displacy-token\" fill=\"currentColor\" text-anchor=\"middle\" y=\"397.0\">\n",
       "    <tspan class=\"displacy-word\" fill=\"currentColor\" x=\"225\">of</tspan>\n",
       "    <tspan class=\"displacy-tag\" dy=\"2em\" fill=\"currentColor\" x=\"225\">ADP</tspan>\n",
       "</text>\n",
       "\n",
       "<text class=\"displacy-token\" fill=\"currentColor\" text-anchor=\"middle\" y=\"397.0\">\n",
       "    <tspan class=\"displacy-word\" fill=\"currentColor\" x=\"400\">December</tspan>\n",
       "    <tspan class=\"displacy-tag\" dy=\"2em\" fill=\"currentColor\" x=\"400\">PROPN</tspan>\n",
       "</text>\n",
       "\n",
       "<text class=\"displacy-token\" fill=\"currentColor\" text-anchor=\"middle\" y=\"397.0\">\n",
       "    <tspan class=\"displacy-word\" fill=\"currentColor\" x=\"575\">31,</tspan>\n",
       "    <tspan class=\"displacy-tag\" dy=\"2em\" fill=\"currentColor\" x=\"575\">NUM</tspan>\n",
       "</text>\n",
       "\n",
       "<text class=\"displacy-token\" fill=\"currentColor\" text-anchor=\"middle\" y=\"397.0\">\n",
       "    <tspan class=\"displacy-word\" fill=\"currentColor\" x=\"750\">2016,</tspan>\n",
       "    <tspan class=\"displacy-tag\" dy=\"2em\" fill=\"currentColor\" x=\"750\">NUM</tspan>\n",
       "</text>\n",
       "\n",
       "<text class=\"displacy-token\" fill=\"currentColor\" text-anchor=\"middle\" y=\"397.0\">\n",
       "    <tspan class=\"displacy-word\" fill=\"currentColor\" x=\"925\">the</tspan>\n",
       "    <tspan class=\"displacy-tag\" dy=\"2em\" fill=\"currentColor\" x=\"925\">DET</tspan>\n",
       "</text>\n",
       "\n",
       "<text class=\"displacy-token\" fill=\"currentColor\" text-anchor=\"middle\" y=\"397.0\">\n",
       "    <tspan class=\"displacy-word\" fill=\"currentColor\" x=\"1100\">subsidiaries</tspan>\n",
       "    <tspan class=\"displacy-tag\" dy=\"2em\" fill=\"currentColor\" x=\"1100\">NOUN</tspan>\n",
       "</text>\n",
       "\n",
       "<text class=\"displacy-token\" fill=\"currentColor\" text-anchor=\"middle\" y=\"397.0\">\n",
       "    <tspan class=\"displacy-word\" fill=\"currentColor\" x=\"1275\">of</tspan>\n",
       "    <tspan class=\"displacy-tag\" dy=\"2em\" fill=\"currentColor\" x=\"1275\">ADP</tspan>\n",
       "</text>\n",
       "\n",
       "<text class=\"displacy-token\" fill=\"currentColor\" text-anchor=\"middle\" y=\"397.0\">\n",
       "    <tspan class=\"displacy-word\" fill=\"currentColor\" x=\"1450\">AEP</tspan>\n",
       "    <tspan class=\"displacy-tag\" dy=\"2em\" fill=\"currentColor\" x=\"1450\">PROPN</tspan>\n",
       "</text>\n",
       "\n",
       "<text class=\"displacy-token\" fill=\"currentColor\" text-anchor=\"middle\" y=\"397.0\">\n",
       "    <tspan class=\"displacy-word\" fill=\"currentColor\" x=\"1625\">had</tspan>\n",
       "    <tspan class=\"displacy-tag\" dy=\"2em\" fill=\"currentColor\" x=\"1625\">VERB</tspan>\n",
       "</text>\n",
       "\n",
       "<text class=\"displacy-token\" fill=\"currentColor\" text-anchor=\"middle\" y=\"397.0\">\n",
       "    <tspan class=\"displacy-word\" fill=\"currentColor\" x=\"1800\">a</tspan>\n",
       "    <tspan class=\"displacy-tag\" dy=\"2em\" fill=\"currentColor\" x=\"1800\">DET</tspan>\n",
       "</text>\n",
       "\n",
       "<text class=\"displacy-token\" fill=\"currentColor\" text-anchor=\"middle\" y=\"397.0\">\n",
       "    <tspan class=\"displacy-word\" fill=\"currentColor\" x=\"1975\">total</tspan>\n",
       "    <tspan class=\"displacy-tag\" dy=\"2em\" fill=\"currentColor\" x=\"1975\">NOUN</tspan>\n",
       "</text>\n",
       "\n",
       "<text class=\"displacy-token\" fill=\"currentColor\" text-anchor=\"middle\" y=\"397.0\">\n",
       "    <tspan class=\"displacy-word\" fill=\"currentColor\" x=\"2150\">of</tspan>\n",
       "    <tspan class=\"displacy-tag\" dy=\"2em\" fill=\"currentColor\" x=\"2150\">ADP</tspan>\n",
       "</text>\n",
       "\n",
       "<text class=\"displacy-token\" fill=\"currentColor\" text-anchor=\"middle\" y=\"397.0\">\n",
       "    <tspan class=\"displacy-word\" fill=\"currentColor\" x=\"2325\">17,634</tspan>\n",
       "    <tspan class=\"displacy-tag\" dy=\"2em\" fill=\"currentColor\" x=\"2325\">NUM</tspan>\n",
       "</text>\n",
       "\n",
       "<text class=\"displacy-token\" fill=\"currentColor\" text-anchor=\"middle\" y=\"397.0\">\n",
       "    <tspan class=\"displacy-word\" fill=\"currentColor\" x=\"2500\">employees.</tspan>\n",
       "    <tspan class=\"displacy-tag\" dy=\"2em\" fill=\"currentColor\" x=\"2500\">NOUN</tspan>\n",
       "</text>\n",
       "\n",
       "<g class=\"displacy-arrow\">\n",
       "    <path class=\"displacy-arc\" id=\"arrow-0-0\" stroke-width=\"2px\" d=\"M70,352.0 C70,2.0 1625.0,2.0 1625.0,352.0\" fill=\"none\" stroke=\"currentColor\"/>\n",
       "    <text dy=\"1.25em\" style=\"font-size: 0.8em; letter-spacing: 1px\">\n",
       "        <textPath xlink:href=\"#arrow-0-0\" class=\"displacy-label\" startOffset=\"50%\" fill=\"currentColor\" text-anchor=\"middle\">prep</textPath>\n",
       "    </text>\n",
       "    <path class=\"displacy-arrowhead\" d=\"M70,354.0 L62,342.0 78,342.0\" fill=\"currentColor\"/>\n",
       "</g>\n",
       "\n",
       "<g class=\"displacy-arrow\">\n",
       "    <path class=\"displacy-arc\" id=\"arrow-0-1\" stroke-width=\"2px\" d=\"M70,352.0 C70,264.5 210.0,264.5 210.0,352.0\" fill=\"none\" stroke=\"currentColor\"/>\n",
       "    <text dy=\"1.25em\" style=\"font-size: 0.8em; letter-spacing: 1px\">\n",
       "        <textPath xlink:href=\"#arrow-0-1\" class=\"displacy-label\" startOffset=\"50%\" fill=\"currentColor\" text-anchor=\"middle\">prep</textPath>\n",
       "    </text>\n",
       "    <path class=\"displacy-arrowhead\" d=\"M210.0,354.0 L218.0,342.0 202.0,342.0\" fill=\"currentColor\"/>\n",
       "</g>\n",
       "\n",
       "<g class=\"displacy-arrow\">\n",
       "    <path class=\"displacy-arc\" id=\"arrow-0-2\" stroke-width=\"2px\" d=\"M245,352.0 C245,264.5 385.0,264.5 385.0,352.0\" fill=\"none\" stroke=\"currentColor\"/>\n",
       "    <text dy=\"1.25em\" style=\"font-size: 0.8em; letter-spacing: 1px\">\n",
       "        <textPath xlink:href=\"#arrow-0-2\" class=\"displacy-label\" startOffset=\"50%\" fill=\"currentColor\" text-anchor=\"middle\">pobj</textPath>\n",
       "    </text>\n",
       "    <path class=\"displacy-arrowhead\" d=\"M385.0,354.0 L393.0,342.0 377.0,342.0\" fill=\"currentColor\"/>\n",
       "</g>\n",
       "\n",
       "<g class=\"displacy-arrow\">\n",
       "    <path class=\"displacy-arc\" id=\"arrow-0-3\" stroke-width=\"2px\" d=\"M420,352.0 C420,264.5 560.0,264.5 560.0,352.0\" fill=\"none\" stroke=\"currentColor\"/>\n",
       "    <text dy=\"1.25em\" style=\"font-size: 0.8em; letter-spacing: 1px\">\n",
       "        <textPath xlink:href=\"#arrow-0-3\" class=\"displacy-label\" startOffset=\"50%\" fill=\"currentColor\" text-anchor=\"middle\">nummod</textPath>\n",
       "    </text>\n",
       "    <path class=\"displacy-arrowhead\" d=\"M560.0,354.0 L568.0,342.0 552.0,342.0\" fill=\"currentColor\"/>\n",
       "</g>\n",
       "\n",
       "<g class=\"displacy-arrow\">\n",
       "    <path class=\"displacy-arc\" id=\"arrow-0-4\" stroke-width=\"2px\" d=\"M420,352.0 C420,177.0 740.0,177.0 740.0,352.0\" fill=\"none\" stroke=\"currentColor\"/>\n",
       "    <text dy=\"1.25em\" style=\"font-size: 0.8em; letter-spacing: 1px\">\n",
       "        <textPath xlink:href=\"#arrow-0-4\" class=\"displacy-label\" startOffset=\"50%\" fill=\"currentColor\" text-anchor=\"middle\">nummod</textPath>\n",
       "    </text>\n",
       "    <path class=\"displacy-arrowhead\" d=\"M740.0,354.0 L748.0,342.0 732.0,342.0\" fill=\"currentColor\"/>\n",
       "</g>\n",
       "\n",
       "<g class=\"displacy-arrow\">\n",
       "    <path class=\"displacy-arc\" id=\"arrow-0-5\" stroke-width=\"2px\" d=\"M945,352.0 C945,264.5 1085.0,264.5 1085.0,352.0\" fill=\"none\" stroke=\"currentColor\"/>\n",
       "    <text dy=\"1.25em\" style=\"font-size: 0.8em; letter-spacing: 1px\">\n",
       "        <textPath xlink:href=\"#arrow-0-5\" class=\"displacy-label\" startOffset=\"50%\" fill=\"currentColor\" text-anchor=\"middle\">det</textPath>\n",
       "    </text>\n",
       "    <path class=\"displacy-arrowhead\" d=\"M945,354.0 L937,342.0 953,342.0\" fill=\"currentColor\"/>\n",
       "</g>\n",
       "\n",
       "<g class=\"displacy-arrow\">\n",
       "    <path class=\"displacy-arc\" id=\"arrow-0-6\" stroke-width=\"2px\" d=\"M1120,352.0 C1120,89.5 1620.0,89.5 1620.0,352.0\" fill=\"none\" stroke=\"currentColor\"/>\n",
       "    <text dy=\"1.25em\" style=\"font-size: 0.8em; letter-spacing: 1px\">\n",
       "        <textPath xlink:href=\"#arrow-0-6\" class=\"displacy-label\" startOffset=\"50%\" fill=\"currentColor\" text-anchor=\"middle\">nsubj</textPath>\n",
       "    </text>\n",
       "    <path class=\"displacy-arrowhead\" d=\"M1120,354.0 L1112,342.0 1128,342.0\" fill=\"currentColor\"/>\n",
       "</g>\n",
       "\n",
       "<g class=\"displacy-arrow\">\n",
       "    <path class=\"displacy-arc\" id=\"arrow-0-7\" stroke-width=\"2px\" d=\"M1120,352.0 C1120,264.5 1260.0,264.5 1260.0,352.0\" fill=\"none\" stroke=\"currentColor\"/>\n",
       "    <text dy=\"1.25em\" style=\"font-size: 0.8em; letter-spacing: 1px\">\n",
       "        <textPath xlink:href=\"#arrow-0-7\" class=\"displacy-label\" startOffset=\"50%\" fill=\"currentColor\" text-anchor=\"middle\">prep</textPath>\n",
       "    </text>\n",
       "    <path class=\"displacy-arrowhead\" d=\"M1260.0,354.0 L1268.0,342.0 1252.0,342.0\" fill=\"currentColor\"/>\n",
       "</g>\n",
       "\n",
       "<g class=\"displacy-arrow\">\n",
       "    <path class=\"displacy-arc\" id=\"arrow-0-8\" stroke-width=\"2px\" d=\"M1295,352.0 C1295,264.5 1435.0,264.5 1435.0,352.0\" fill=\"none\" stroke=\"currentColor\"/>\n",
       "    <text dy=\"1.25em\" style=\"font-size: 0.8em; letter-spacing: 1px\">\n",
       "        <textPath xlink:href=\"#arrow-0-8\" class=\"displacy-label\" startOffset=\"50%\" fill=\"currentColor\" text-anchor=\"middle\">pobj</textPath>\n",
       "    </text>\n",
       "    <path class=\"displacy-arrowhead\" d=\"M1435.0,354.0 L1443.0,342.0 1427.0,342.0\" fill=\"currentColor\"/>\n",
       "</g>\n",
       "\n",
       "<g class=\"displacy-arrow\">\n",
       "    <path class=\"displacy-arc\" id=\"arrow-0-9\" stroke-width=\"2px\" d=\"M1820,352.0 C1820,264.5 1960.0,264.5 1960.0,352.0\" fill=\"none\" stroke=\"currentColor\"/>\n",
       "    <text dy=\"1.25em\" style=\"font-size: 0.8em; letter-spacing: 1px\">\n",
       "        <textPath xlink:href=\"#arrow-0-9\" class=\"displacy-label\" startOffset=\"50%\" fill=\"currentColor\" text-anchor=\"middle\">det</textPath>\n",
       "    </text>\n",
       "    <path class=\"displacy-arrowhead\" d=\"M1820,354.0 L1812,342.0 1828,342.0\" fill=\"currentColor\"/>\n",
       "</g>\n",
       "\n",
       "<g class=\"displacy-arrow\">\n",
       "    <path class=\"displacy-arc\" id=\"arrow-0-10\" stroke-width=\"2px\" d=\"M1645,352.0 C1645,177.0 1965.0,177.0 1965.0,352.0\" fill=\"none\" stroke=\"currentColor\"/>\n",
       "    <text dy=\"1.25em\" style=\"font-size: 0.8em; letter-spacing: 1px\">\n",
       "        <textPath xlink:href=\"#arrow-0-10\" class=\"displacy-label\" startOffset=\"50%\" fill=\"currentColor\" text-anchor=\"middle\">dobj</textPath>\n",
       "    </text>\n",
       "    <path class=\"displacy-arrowhead\" d=\"M1965.0,354.0 L1973.0,342.0 1957.0,342.0\" fill=\"currentColor\"/>\n",
       "</g>\n",
       "\n",
       "<g class=\"displacy-arrow\">\n",
       "    <path class=\"displacy-arc\" id=\"arrow-0-11\" stroke-width=\"2px\" d=\"M1995,352.0 C1995,264.5 2135.0,264.5 2135.0,352.0\" fill=\"none\" stroke=\"currentColor\"/>\n",
       "    <text dy=\"1.25em\" style=\"font-size: 0.8em; letter-spacing: 1px\">\n",
       "        <textPath xlink:href=\"#arrow-0-11\" class=\"displacy-label\" startOffset=\"50%\" fill=\"currentColor\" text-anchor=\"middle\">prep</textPath>\n",
       "    </text>\n",
       "    <path class=\"displacy-arrowhead\" d=\"M2135.0,354.0 L2143.0,342.0 2127.0,342.0\" fill=\"currentColor\"/>\n",
       "</g>\n",
       "\n",
       "<g class=\"displacy-arrow\">\n",
       "    <path class=\"displacy-arc\" id=\"arrow-0-12\" stroke-width=\"2px\" d=\"M2345,352.0 C2345,264.5 2485.0,264.5 2485.0,352.0\" fill=\"none\" stroke=\"currentColor\"/>\n",
       "    <text dy=\"1.25em\" style=\"font-size: 0.8em; letter-spacing: 1px\">\n",
       "        <textPath xlink:href=\"#arrow-0-12\" class=\"displacy-label\" startOffset=\"50%\" fill=\"currentColor\" text-anchor=\"middle\">nummod</textPath>\n",
       "    </text>\n",
       "    <path class=\"displacy-arrowhead\" d=\"M2345,354.0 L2337,342.0 2353,342.0\" fill=\"currentColor\"/>\n",
       "</g>\n",
       "\n",
       "<g class=\"displacy-arrow\">\n",
       "    <path class=\"displacy-arc\" id=\"arrow-0-13\" stroke-width=\"2px\" d=\"M2170,352.0 C2170,177.0 2490.0,177.0 2490.0,352.0\" fill=\"none\" stroke=\"currentColor\"/>\n",
       "    <text dy=\"1.25em\" style=\"font-size: 0.8em; letter-spacing: 1px\">\n",
       "        <textPath xlink:href=\"#arrow-0-13\" class=\"displacy-label\" startOffset=\"50%\" fill=\"currentColor\" text-anchor=\"middle\">pobj</textPath>\n",
       "    </text>\n",
       "    <path class=\"displacy-arrowhead\" d=\"M2490.0,354.0 L2498.0,342.0 2482.0,342.0\" fill=\"currentColor\"/>\n",
       "</g>\n",
       "</svg>"
      ],
      "text/plain": [
       "<IPython.core.display.HTML object>"
      ]
     },
     "metadata": {},
     "output_type": "display_data"
    },
    {
     "data": {
      "text/html": [
       "<div class=\"entities\" style=\"line-height: 2.5\">As of \n",
       "<mark class=\"entity\" style=\"background: #bfe1d9; padding: 0.45em 0.6em; margin: 0 0.25em; line-height: 1; border-radius: 0.35em; box-decoration-break: clone; -webkit-box-decoration-break: clone\">\n",
       "    December 31, 2016\n",
       "    <span style=\"font-size: 0.8em; font-weight: bold; line-height: 1; border-radius: 0.35em; text-transform: uppercase; vertical-align: middle; margin-left: 0.5rem\">DATE</span>\n",
       "</mark>\n",
       ", the subsidiaries of \n",
       "<mark class=\"entity\" style=\"background: #7aecec; padding: 0.45em 0.6em; margin: 0 0.25em; line-height: 1; border-radius: 0.35em; box-decoration-break: clone; -webkit-box-decoration-break: clone\">\n",
       "    AEP\n",
       "    <span style=\"font-size: 0.8em; font-weight: bold; line-height: 1; border-radius: 0.35em; text-transform: uppercase; vertical-align: middle; margin-left: 0.5rem\">ORG</span>\n",
       "</mark>\n",
       " had a total of \n",
       "<mark class=\"entity\" style=\"background: #e4e7d2; padding: 0.45em 0.6em; margin: 0 0.25em; line-height: 1; border-radius: 0.35em; box-decoration-break: clone; -webkit-box-decoration-break: clone\">\n",
       "    17,634\n",
       "    <span style=\"font-size: 0.8em; font-weight: bold; line-height: 1; border-radius: 0.35em; text-transform: uppercase; vertical-align: middle; margin-left: 0.5rem\">CARDINAL</span>\n",
       "</mark>\n",
       " \n",
       "<mark class=\"entity\" style=\"background: #ddd; padding: 0.45em 0.6em; margin: 0 0.25em; line-height: 1; border-radius: 0.35em; box-decoration-break: clone; -webkit-box-decoration-break: clone\">\n",
       "    employees\n",
       "    <span style=\"font-size: 0.8em; font-weight: bold; line-height: 1; border-radius: 0.35em; text-transform: uppercase; vertical-align: middle; margin-left: 0.5rem\">EMP_NOUN</span>\n",
       "</mark>\n",
       ".</div>"
      ],
      "text/plain": [
       "<IPython.core.display.HTML object>"
      ]
     },
     "metadata": {},
     "output_type": "display_data"
    }
   ],
   "source": [
    "displacy.render(doc1, style='dep', jupyter=True)\n",
    "displacy.render(doc1, style='ent', jupyter=True, options={'distance': 90})"
   ]
  },
  {
   "cell_type": "code",
   "execution_count": 70,
   "metadata": {
    "ExecuteTime": {
     "end_time": "2018-07-02T16:10:07.796679Z",
     "start_time": "2018-07-02T16:10:07.791676Z"
    }
   },
   "outputs": [
    {
     "data": {
      "text/plain": [
       "'determiner'"
      ]
     },
     "execution_count": 70,
     "metadata": {},
     "output_type": "execute_result"
    }
   ],
   "source": [
    "spacy.explain(doc1[0].tag_)"
   ]
  },
  {
   "cell_type": "code",
   "execution_count": 127,
   "metadata": {
    "ExecuteTime": {
     "end_time": "2018-07-02T19:41:24.342198Z",
     "start_time": "2018-07-02T19:41:24.234126Z"
    },
    "scrolled": true
   },
   "outputs": [
    {
     "name": "stdout",
     "output_type": "stream",
     "text": [
      "doc is: \n",
      "The number of full-time employees of the Company was approximately 31,800 at December 31, 2016 and 32,300 at December 31, 2015. \n",
      "--------------------------------------------------\n",
      "tokens are: \n",
      "--------------------------------------------------\n",
      "0: The | DT  : determiner\n",
      "1: number | NN  : noun, singular or mass\n",
      "2: of | IN  : conjunction, subordinating or preposition\n",
      "3: full | JJ  : adjective\n",
      "4: - | HYPH  : punctuation mark, hyphen\n",
      "5: time | NN  : noun, singular or mass\n",
      "6: employees | NNS  : noun, plural\n",
      "7: of | IN  : conjunction, subordinating or preposition\n",
      "8: the | DT  : determiner\n",
      "9: Company | NNP  : noun, proper singular\n",
      "10: was | VBD  : verb, past tense\n",
      "11: approximately | RB  : adverb\n",
      "12: 31,800 | CD  : cardinal number\n",
      "13: at | IN  : conjunction, subordinating or preposition\n",
      "14: December | NNP  : noun, proper singular\n",
      "15: 31 | CD  : cardinal number\n",
      "16: , | ,  : punctuation mark, comma\n",
      "17: 2016 | CD  : cardinal number\n",
      "18: and | CC  : conjunction, coordinating\n",
      "19: 32,300 | CD  : cardinal number\n",
      "20: at | IN  : conjunction, subordinating or preposition\n",
      "21: December | NNP  : noun, proper singular\n",
      "22: 31 | CD  : cardinal number\n",
      "23: , | ,  : punctuation mark, comma\n",
      "24: 2015 | CD  : cardinal number\n",
      "25: . | .  : punctuation mark, sentence closer\n",
      "--------------------------------------------------\n",
      "Entities are: \n",
      "Company ORG\n",
      "approximately 31,800 CARDINAL\n",
      "December 31, 2016 DATE\n",
      "32,300 CARDINAL\n",
      "December 31, 2015 DATE\n",
      "--------------------------------------------------\n",
      "Noun chunks are: \n",
      "The number NP number\n",
      "full-time employees NP employees\n",
      "the Company NP Company\n",
      "December NP December\n",
      "December NP December\n",
      "--------------------------------------------------\n",
      "Cardinal entities are: \n",
      "approximately\n",
      "Cardinal.dep_ : advmod\n",
      "Cardinal.head : 31,800\n",
      "Cardinal.head.dep_ : attr\n",
      "31,800\n",
      "Cardinal.dep_ : attr\n",
      "Cardinal.head : was\n",
      "Cardinal.head.dep_ : ROOT\n",
      "32,300\n",
      "Cardinal.dep_ : conj\n",
      "Cardinal.head : was\n",
      "Cardinal.head.dep_ : ROOT\n"
     ]
    }
   ],
   "source": [
    "print_doc_info(doc1)"
   ]
  },
  {
   "cell_type": "code",
   "execution_count": 98,
   "metadata": {
    "ExecuteTime": {
     "end_time": "2018-07-02T16:26:30.414335Z",
     "start_time": "2018-07-02T16:26:30.411332Z"
    }
   },
   "outputs": [],
   "source": [
    "emp_tok = doc1[6]\n",
    "emp_num_tok = doc1[12]"
   ]
  },
  {
   "cell_type": "code",
   "execution_count": null,
   "metadata": {},
   "outputs": [],
   "source": []
  },
  {
   "cell_type": "code",
   "execution_count": 121,
   "metadata": {
    "ExecuteTime": {
     "end_time": "2018-07-02T19:36:49.499766Z",
     "start_time": "2018-07-02T19:36:49.483755Z"
    }
   },
   "outputs": [
    {
     "name": "stdout",
     "output_type": "stream",
     "text": [
      "Token dep_: attr\n",
      "Token head: was\n",
      "Token head dep_: ROOT\n",
      "number : nsubj\n",
      "Token head head: was\n",
      "Token head head dep_: ROOT\n"
     ]
    }
   ],
   "source": [
    "print(\"Token dep_: \" + emp_num_tok.dep_)\n",
    "print(\"Token head: \" + str(emp_num_tok.head))\n",
    "print(\"Token head dep_: \" + str(emp_num_tok.head.dep_))\n",
    "for w in emp_num_tok.head.lefts:\n",
    "    print(str(w) + ' : ' + str(w.dep_))\n",
    "\n",
    "print(\"Token head head: \" + str(emp_num_tok.head.head))\n",
    "print(\"Token head head dep_: \" + str(emp_num_tok.head.head.dep_))"
   ]
  },
  {
   "cell_type": "code",
   "execution_count": 122,
   "metadata": {
    "ExecuteTime": {
     "end_time": "2018-07-02T19:36:54.487757Z",
     "start_time": "2018-07-02T19:36:54.476751Z"
    }
   },
   "outputs": [
    {
     "name": "stdout",
     "output_type": "stream",
     "text": [
      "Token dep_: pobj\n",
      "Token head: of\n",
      "Token head dep_: prep\n",
      "Token head head: number\n",
      "Token head head dep_: nsubj\n"
     ]
    }
   ],
   "source": [
    "print(\"Token dep_: \" + emp_tok.dep_)\n",
    "print(\"Token head: \" + str(emp_tok.head))\n",
    "print(\"Token head dep_: \" + str(emp_tok.head.dep_))\n",
    "print(\"Token head head: \" + str(emp_tok.head.head))\n",
    "print(\"Token head head dep_: \" + str(emp_tok.head.head.dep_))"
   ]
  },
  {
   "cell_type": "code",
   "execution_count": 40,
   "metadata": {
    "ExecuteTime": {
     "end_time": "2018-07-02T13:36:02.791213Z",
     "start_time": "2018-07-02T13:36:02.763195Z"
    }
   },
   "outputs": [
    {
     "data": {
      "text/plain": [
       "[]"
      ]
     },
     "execution_count": 40,
     "metadata": {},
     "output_type": "execute_result"
    }
   ],
   "source": [
    "relations = []\n",
    "for cardinal in filter(lambda w: w.ent_type_ == 'CARDINAL', nlp(list(doc.sents)[0].text)):\n",
    "    if cardinal.dep_ in ('attr', 'dobj'):\n",
    "        subject = [w for w in cardinal.head.lefts if w.dep_ == 'nsubj']\n",
    "        if subject:\n",
    "            subject = subject[0]\n",
    "            relations.append((subject, cardinal))\n",
    "    elif cardinal.dep_ == 'pobj' and cardinal.head.dep_ == 'prep':\n",
    "        relations.append((cardinal.head.head, cardinal))\n",
    "relations"
   ]
  },
  {
   "cell_type": "code",
   "execution_count": 10,
   "metadata": {
    "ExecuteTime": {
     "end_time": "2018-07-03T20:07:57.528171Z",
     "start_time": "2018-07-03T20:07:57.519164Z"
    }
   },
   "outputs": [],
   "source": [
    "test_sents = [\"As of September 30, 2016, we employed approximately 7,300 employees world-wide.\", \n",
    "\"As of December 31, 2016, the subsidiaries of AEP had a total of 17,634 employees.\", \n",
    "\"At December 31, 2016 and 2015, we had approximately 56,400 and 66,400 employees, respectively.\", \n",
    "\"At December 31, 2016, we had approximately 9,400 full-time employees.\", \n",
    "\"As of October 29, 2016, we employed approximately 10,000 individuals worldwide.\", \n",
    "\"The number of full-time employees of the Company was approximately 31,800 at December 31, 2016 and 32,300 at December 31, 2015.\", \n",
    "\"As of December 31, 2016, we had 1,469 total employees.\", \n",
    "\"ADP employed approximately 57,000 persons as of June 30, 2016.\", \n",
    "\"At December 31, 2016, we employed approximately 26,400 employees.\", \n",
    "\"The Company and its subsidiaries employed 1,562 persons at December 31, 2016, 114 of whom are covered by a collective bargaining agreement with District 10 of the International Association of Machinists.\", \n",
    "\"As of December 31, 2016, the Company had 455 employees, an increase of 17 employees from the prior year end.\", \n",
    "\"As of December 31, 2016, we had approximately 17,500 employees worldwide.\", \n",
    "\"Based in Neenah, Wisconsin, at December 31, 2016, the Company employed approximately 17,500 individuals and had 59 manufacturing facilities.\", \n",
    "\"As of January 31, 2017, we employed 7,683 individuals.\", \n",
    "\"At December 31, 2016, Bio-Rad had approximately 8,250 employees.\", \n",
    "\"As of December 31, 2016, we had approximately 8,500 full-time employees and 600 contractors.\", \n",
    "\"Alcoa's total worldwide employment at the end of 2016 was approximately 14,000 employees in 15 countries.\", \n",
    "\"As of December 31, 2016, we employed approximately 2,100 people.\", \n",
    "\"At December 31, 2016, the Company had approximately 11,500 employees.\",\n",
    "\"As of February 23, 2017, we employed approximately 41,000 full-time Team Members and approximately 33,000 part-time Team Members.\", \n",
    "\"As of December 31, 2016, we had 699 full-time employees and 202 temporary employees.\", \n",
    "\"As of December 31, 2016, we had 2,646 employees, 1,581 of whom were pilots.\"]"
   ]
  },
  {
   "cell_type": "code",
   "execution_count": 18,
   "metadata": {
    "ExecuteTime": {
     "end_time": "2018-07-03T20:26:39.652111Z",
     "start_time": "2018-07-03T20:26:39.584066Z"
    }
   },
   "outputs": [],
   "source": [
    "doc0 = nlp(test_sents[0]) \n",
    "doc1 = nlp(test_sents[1]) \n",
    "doc2 = nlp(test_sents[2]) \n",
    "doc3 = nlp(test_sents[3]) \n",
    "doc4 = nlp(test_sents[4]) "
   ]
  },
  {
   "cell_type": "code",
   "execution_count": 188,
   "metadata": {
    "ExecuteTime": {
     "end_time": "2018-07-03T17:42:11.237536Z",
     "start_time": "2018-07-03T17:42:11.232533Z"
    }
   },
   "outputs": [
    {
     "data": {
      "text/html": [
       "<div class=\"entities\" style=\"line-height: 2.5\">As of \n",
       "<mark class=\"entity\" style=\"background: #bfe1d9; padding: 0.45em 0.6em; margin: 0 0.25em; line-height: 1; border-radius: 0.35em; box-decoration-break: clone; -webkit-box-decoration-break: clone\">\n",
       "    December 31, 2016\n",
       "    <span style=\"font-size: 0.8em; font-weight: bold; line-height: 1; border-radius: 0.35em; text-transform: uppercase; vertical-align: middle; margin-left: 0.5rem\">DATE</span>\n",
       "</mark>\n",
       ", the subsidiaries of \n",
       "<mark class=\"entity\" style=\"background: #7aecec; padding: 0.45em 0.6em; margin: 0 0.25em; line-height: 1; border-radius: 0.35em; box-decoration-break: clone; -webkit-box-decoration-break: clone\">\n",
       "    AEP\n",
       "    <span style=\"font-size: 0.8em; font-weight: bold; line-height: 1; border-radius: 0.35em; text-transform: uppercase; vertical-align: middle; margin-left: 0.5rem\">ORG</span>\n",
       "</mark>\n",
       " had a total of \n",
       "<mark class=\"entity\" style=\"background: #ddd; padding: 0.45em 0.6em; margin: 0 0.25em; line-height: 1; border-radius: 0.35em; box-decoration-break: clone; -webkit-box-decoration-break: clone\">\n",
       "    17,634 employees\n",
       "    <span style=\"font-size: 0.8em; font-weight: bold; line-height: 1; border-radius: 0.35em; text-transform: uppercase; vertical-align: middle; margin-left: 0.5rem\">NUM_EMP</span>\n",
       "</mark>\n",
       ".</div>"
      ],
      "text/plain": [
       "<IPython.core.display.HTML object>"
      ]
     },
     "metadata": {},
     "output_type": "display_data"
    }
   ],
   "source": [
    "displacy.render(doc1, style='ent', jupyter=True) "
   ]
  },
  {
   "cell_type": "code",
   "execution_count": 187,
   "metadata": {
    "ExecuteTime": {
     "end_time": "2018-07-03T17:40:31.494311Z",
     "start_time": "2018-07-03T17:40:31.416261Z"
    },
    "scrolled": true
   },
   "outputs": [
    {
     "name": "stdout",
     "output_type": "stream",
     "text": [
      "doc is: \n",
      "As of December 31, 2016, the subsidiaries of AEP had a total of 17,634 employees.\n",
      "--------------------------------------------------\n",
      "tokens are: \n",
      "--------------------------------------------------\n",
      "0: As | IN  : conjunction, subordinating or preposition\n",
      "1: of | IN  : conjunction, subordinating or preposition\n",
      "2: December | NNP  : noun, proper singular\n",
      "3: 31 | CD  : cardinal number\n",
      "4: , | ,  : punctuation mark, comma\n",
      "5: 2016 | CD  : cardinal number\n",
      "6: , | ,  : punctuation mark, comma\n",
      "7: the | DT  : determiner\n",
      "8: subsidiaries | NNS  : noun, plural\n",
      "9: of | IN  : conjunction, subordinating or preposition\n",
      "10: AEP | NNP  : noun, proper singular\n",
      "11: had | VBD  : verb, past tense\n",
      "12: a | DT  : determiner\n",
      "13: total | NN  : noun, singular or mass\n",
      "14: of | IN  : conjunction, subordinating or preposition\n",
      "15: 17,634 | CD  : cardinal number\n",
      "16: employees | NNS  : noun, plural\n",
      "17: . | .  : punctuation mark, sentence closer\n",
      "--------------------------------------------------\n",
      "Entities are: \n",
      "December 31, 2016 DATE\n",
      "AEP ORG\n",
      "17,634 employees NUM_EMP\n",
      "--------------------------------------------------\n",
      "Noun chunks are: \n",
      "December NP December\n",
      "the subsidiaries NP subsidiaries\n",
      "AEP NP AEP\n",
      "a total NP total\n",
      "17,634 employees NP employees\n",
      "--------------------------------------------------\n",
      "Cardinal entities are: \n"
     ]
    }
   ],
   "source": [
    "print_doc_info(doc1)"
   ]
  },
  {
   "cell_type": "code",
   "execution_count": 183,
   "metadata": {
    "ExecuteTime": {
     "end_time": "2018-07-03T17:39:01.212615Z",
     "start_time": "2018-07-03T17:38:56.376437Z"
    }
   },
   "outputs": [],
   "source": [
    "emp_ner_regex = re.compile(r\"employees|individuals|people|persons|team members\", re.I)\n",
    "\n",
    "emp_flag = lambda text: bool(emp_ner_regex.match(text))\n",
    "\n",
    "IS_EMP = nlp.vocab.add_flag(emp_flag)\n",
    "\n",
    "matcher = Matcher(nlp.vocab)\n",
    "\n",
    "num_emp_pat = [{'ENT_TYPE' : 'CARDINAL', 'TAG' : 'CD'}, {IS_EMP : True}]\n",
    "\n",
    "matcher.add('NUM_EMP', None, num_emp_pat)\n",
    "matcher.add('EMP_NOUN', None, [{IS_EMP: True}])"
   ]
  },
  {
   "cell_type": "code",
   "execution_count": 184,
   "metadata": {
    "ExecuteTime": {
     "end_time": "2018-07-03T17:39:20.482731Z",
     "start_time": "2018-07-03T17:39:20.479732Z"
    }
   },
   "outputs": [],
   "source": [
    "matches1 = matcher(doc1)"
   ]
  },
  {
   "cell_type": "code",
   "execution_count": 186,
   "metadata": {
    "ExecuteTime": {
     "end_time": "2018-07-03T17:39:51.499857Z",
     "start_time": "2018-07-03T17:39:51.495855Z"
    }
   },
   "outputs": [],
   "source": [
    "for match_id, start, end in matches1:\n",
    "# create a new Span for each match and use the match_id as the label\n",
    "    span = Span(doc1, start, end, label=match_id)\n",
    "    doc1.ents = list(doc1.ents) + [span]  # add span to doc.ents"
   ]
  },
  {
   "cell_type": "code",
   "execution_count": 133,
   "metadata": {
    "ExecuteTime": {
     "end_time": "2018-07-02T19:52:15.488467Z",
     "start_time": "2018-07-02T19:52:15.485464Z"
    }
   },
   "outputs": [],
   "source": []
  },
  {
   "cell_type": "code",
   "execution_count": 164,
   "metadata": {
    "ExecuteTime": {
     "end_time": "2018-07-03T17:17:45.651886Z",
     "start_time": "2018-07-03T17:17:45.647884Z"
    }
   },
   "outputs": [],
   "source": [
    "def add_match_ents(doc, matches):\n",
    "    \"\"\"Add matches from Matcher instance to a document's entities.\"\"\"\n",
    "    for match_id, start, end in matches:\n",
    "    # create a new Span for each match and use the match_id as the label\n",
    "        span = Span(doc, start, end, label=match_id)\n",
    "        doc.ents = list(doc.ents) + [span]  # add span to doc.ents"
   ]
  },
  {
   "cell_type": "code",
   "execution_count": 166,
   "metadata": {
    "ExecuteTime": {
     "end_time": "2018-07-03T17:21:10.593992Z",
     "start_time": "2018-07-03T17:21:10.590991Z"
    }
   },
   "outputs": [],
   "source": [
    "matcher = Matcher(nlp.vocab)\n",
    "matcher.add('NumEmp', None, num_emp_pat)"
   ]
  },
  {
   "cell_type": "code",
   "execution_count": null,
   "metadata": {},
   "outputs": [],
   "source": []
  },
  {
   "cell_type": "code",
   "execution_count": 128,
   "metadata": {
    "ExecuteTime": {
     "end_time": "2018-07-02T19:48:04.557175Z",
     "start_time": "2018-07-02T19:48:04.536160Z"
    }
   },
   "outputs": [
    {
     "name": "stdout",
     "output_type": "stream",
     "text": [
      "employees\n"
     ]
    }
   ],
   "source": [
    "for match in re.finditer(emp_ner_regex, nlp(test_sents[0]).text):\n",
    "    start, end = match.span()         # get matched indices\n",
    "    span = doc.char_span(start, end)  # create Span from indices\n",
    "    print(span.text)"
   ]
  },
  {
   "cell_type": "code",
   "execution_count": null,
   "metadata": {
    "ExecuteTime": {
     "end_time": "2018-07-03T14:14:23.886881Z",
     "start_time": "2018-07-03T14:14:23.879877Z"
    }
   },
   "outputs": [],
   "source": []
  },
  {
   "cell_type": "code",
   "execution_count": 189,
   "metadata": {
    "ExecuteTime": {
     "end_time": "2018-07-03T17:43:42.738700Z",
     "start_time": "2018-07-03T17:43:42.731695Z"
    }
   },
   "outputs": [
    {
     "name": "stdout",
     "output_type": "stream",
     "text": [
      "17,634 employees\n",
      "As of December 31, 2016, the subsidiaries of AEP had a total of 17,634 employees.\n"
     ]
    }
   ],
   "source": [
    "for match_id, start, end in matches1:\n",
    "    span = doc1[start:end]\n",
    "    print(span)\n",
    "    print(span.sent)"
   ]
  },
  {
   "cell_type": "code",
   "execution_count": 160,
   "metadata": {
    "ExecuteTime": {
     "end_time": "2018-07-03T17:10:53.227388Z",
     "start_time": "2018-07-03T17:10:53.156341Z"
    },
    "scrolled": true
   },
   "outputs": [
    {
     "name": "stdout",
     "output_type": "stream",
     "text": [
      "doc is: \n",
      "As of October 29, 2016, we employed approximately 10,000 individuals worldwide.\n",
      "--------------------------------------------------\n",
      "tokens are: \n",
      "--------------------------------------------------\n",
      "0: As | IN  : conjunction, subordinating or preposition\n",
      "1: of | IN  : conjunction, subordinating or preposition\n",
      "2: October | NNP  : noun, proper singular\n",
      "3: 29 | CD  : cardinal number\n",
      "4: , | ,  : punctuation mark, comma\n",
      "5: 2016 | CD  : cardinal number\n",
      "6: , | ,  : punctuation mark, comma\n",
      "7: we | PRP  : pronoun, personal\n",
      "8: employed | VBD  : verb, past tense\n",
      "9: approximately | RB  : adverb\n",
      "10: 10,000 | CD  : cardinal number\n",
      "11: individuals | NNS  : noun, plural\n",
      "12: worldwide | RB  : adverb\n",
      "13: . | .  : punctuation mark, sentence closer\n",
      "--------------------------------------------------\n",
      "Entities are: \n",
      "October 29, 2016 DATE\n",
      "approximately 10,000 CARDINAL\n",
      "--------------------------------------------------\n",
      "Noun chunks are: \n",
      "October NP October\n",
      "we NP we\n",
      "approximately 10,000 individuals NP individuals\n",
      "--------------------------------------------------\n",
      "Cardinal entities are: \n",
      "approximately\n",
      "Cardinal.dep_ : advmod\n",
      "Cardinal.head : 10,000\n",
      "Cardinal.head.dep_ : nummod\n",
      "10,000\n",
      "Cardinal.dep_ : nummod\n",
      "Cardinal.head : individuals\n",
      "Cardinal.head.dep_ : dobj\n"
     ]
    }
   ],
   "source": [
    "print_doc_info(doc4)"
   ]
  },
  {
   "cell_type": "code",
   "execution_count": 159,
   "metadata": {
    "ExecuteTime": {
     "end_time": "2018-07-03T17:10:35.612694Z",
     "start_time": "2018-07-03T17:10:35.603692Z"
    }
   },
   "outputs": [
    {
     "data": {
      "text/plain": [
       "[]"
      ]
     },
     "execution_count": 159,
     "metadata": {},
     "output_type": "execute_result"
    }
   ],
   "source": [
    "relations = []\n",
    "for cardinal in filter(lambda w: w.ent_type_ == 'CARDINAL', doc4):\n",
    "    if cardinal.dep_ in ('attr', 'dobj'):\n",
    "        subject = [w for w in cardinal.head.lefts if w.dep_ == 'nsubj']\n",
    "        if subject:\n",
    "            subject = subject[0]\n",
    "            relations.append((subject, cardinal))\n",
    "    elif cardinal.dep_ == 'pobj' and cardinal.head.dep_ == 'prep':\n",
    "        relations.append((cardinal.head.head, cardinal))\n",
    "relations"
   ]
  },
  {
   "cell_type": "code",
   "execution_count": 150,
   "metadata": {
    "ExecuteTime": {
     "end_time": "2018-07-03T14:12:21.748826Z",
     "start_time": "2018-07-03T14:12:21.743822Z"
    }
   },
   "outputs": [
    {
     "data": {
      "text/plain": [
       "[(9799849049383154009, 15, 16)]"
      ]
     },
     "execution_count": 150,
     "metadata": {},
     "output_type": "execute_result"
    }
   ],
   "source": [
    "matches"
   ]
  }
 ],
 "metadata": {
  "kernelspec": {
   "display_name": "Python 3",
   "language": "python",
   "name": "python3"
  },
  "language_info": {
   "codemirror_mode": {
    "name": "ipython",
    "version": 3
   },
   "file_extension": ".py",
   "mimetype": "text/x-python",
   "name": "python",
   "nbconvert_exporter": "python",
   "pygments_lexer": "ipython3",
   "version": "3.6.1"
  },
  "toc": {
   "base_numbering": 1,
   "nav_menu": {},
   "number_sections": true,
   "sideBar": true,
   "skip_h1_title": false,
   "title_cell": "Table of Contents",
   "title_sidebar": "Contents",
   "toc_cell": true,
   "toc_position": {},
   "toc_section_display": true,
   "toc_window_display": false
  }
 },
 "nbformat": 4,
 "nbformat_minor": 2
}
