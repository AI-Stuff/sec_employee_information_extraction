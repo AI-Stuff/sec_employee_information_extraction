{
 "cells": [
  {
   "cell_type": "markdown",
   "metadata": {
    "toc": true
   },
   "source": [
    "<h1>Table of Contents<span class=\"tocSkip\"></span></h1>\n",
    "<div class=\"toc\"><ul class=\"toc-item\"><li><span><a href=\"#Split-data-into-X,-y-variables\" data-toc-modified-id=\"Split-data-into-X,-y-variables-1\"><span class=\"toc-item-num\">1&nbsp;&nbsp;</span>Split data into X, y variables</a></span></li><li><span><a href=\"#Define-pipelines\" data-toc-modified-id=\"Define-pipelines-2\"><span class=\"toc-item-num\">2&nbsp;&nbsp;</span>Define pipelines</a></span></li><li><span><a href=\"#Test-fit-and-evaluate-models\" data-toc-modified-id=\"Test-fit-and-evaluate-models-3\"><span class=\"toc-item-num\">3&nbsp;&nbsp;</span>Test fit and evaluate models</a></span><ul class=\"toc-item\"><li><span><a href=\"#Binary-Vectorization,-Logistic-Regression-classifier\" data-toc-modified-id=\"Binary-Vectorization,-Logistic-Regression-classifier-3.1\"><span class=\"toc-item-num\">3.1&nbsp;&nbsp;</span>Binary Vectorization, Logistic Regression classifier</a></span></li><li><span><a href=\"#Binary-Vectorization\" data-toc-modified-id=\"Binary-Vectorization-3.2\"><span class=\"toc-item-num\">3.2&nbsp;&nbsp;</span>Binary Vectorization</a></span></li><li><span><a href=\"#TfIdf-Vectorization,-Logistic-Regression-classifier\" data-toc-modified-id=\"TfIdf-Vectorization,-Logistic-Regression-classifier-3.3\"><span class=\"toc-item-num\">3.3&nbsp;&nbsp;</span>TfIdf Vectorization, Logistic Regression classifier</a></span></li></ul></li><li><span><a href=\"#Predictions-and-results\" data-toc-modified-id=\"Predictions-and-results-4\"><span class=\"toc-item-num\">4&nbsp;&nbsp;</span>Predictions and results</a></span></li></ul></div>"
   ]
  },
  {
   "cell_type": "markdown",
   "metadata": {},
   "source": [
    " # Train classifier based on semi-supervised labels"
   ]
  },
  {
   "cell_type": "code",
   "execution_count": 14,
   "metadata": {
    "ExecuteTime": {
     "end_time": "2018-06-30T18:26:18.612066Z",
     "start_time": "2018-06-30T18:26:18.598052Z"
    }
   },
   "outputs": [],
   "source": [
    "import numpy as np\n",
    "import pandas as pd\n",
    "import re\n",
    "import copy\n",
    "\n",
    "import random\n",
    "from sklearn.feature_extraction.text import CountVectorizer, TfidfVectorizer\n",
    "from sklearn.linear_model import LogisticRegression\n",
    "from sklearn.model_selection import cross_val_score, GridSearchCV, train_test_split\n",
    "from sklearn.metrics import classification_report, recall_score\n",
    "from sklearn.pipeline import Pipeline \n",
    "\n",
    "from nltk.tokenize import TreebankWordTokenizer\n",
    "from nltk.tokenize import sent_tokenize, PunktSentenceTokenizer\n"
   ]
  },
  {
   "cell_type": "code",
   "execution_count": 60,
   "metadata": {
    "ExecuteTime": {
     "end_time": "2018-06-30T21:18:51.201518Z",
     "start_time": "2018-06-30T21:18:51.197516Z"
    }
   },
   "outputs": [],
   "source": [
    "nonum_pat = re.compile(r\"^([^\\d]|[$][\\d]+)[^\\d]*$\", re.I)"
   ]
  },
  {
   "cell_type": "code",
   "execution_count": 76,
   "metadata": {
    "ExecuteTime": {
     "end_time": "2018-06-30T21:23:46.486128Z",
     "start_time": "2018-06-30T21:23:46.270549Z"
    }
   },
   "outputs": [
    {
     "name": "stderr",
     "output_type": "stream",
     "text": [
      "C:\\Anaconda\\lib\\site-packages\\ipykernel_launcher.py:2: UserWarning: Boolean Series key will be reindexed to match DataFrame index.\n",
      "  \n",
      "C:\\Anaconda\\lib\\site-packages\\ipykernel_launcher.py:4: UserWarning: Boolean Series key will be reindexed to match DataFrame index.\n",
      "  after removing the cwd from sys.path.\n"
     ]
    }
   ],
   "source": [
    "train_df = pd.read_csv('data/classifier_input_train.csv', index_col=0)\n",
    "train_df = train_df[train_df.len > 19][train_df.para_text.apply(lambda x: not re.match(nonum_pat, x))]\n",
    "val_df = pd.read_csv('data/classifier_input_val.csv', index_col=0)\n",
    "val_df = val_df[val_df.len > 19][val_df.para_text.apply(lambda x: not re.match(nonum_pat, x))]"
   ]
  },
  {
   "cell_type": "markdown",
   "metadata": {
    "heading_collapsed": true
   },
   "source": [
    "## Split data into X, y variables"
   ]
  },
  {
   "cell_type": "markdown",
   "metadata": {
    "hidden": true
   },
   "source": [
    "Tokenize dollar values as dollar tokens, numerics as numeric tokens, but leave years as they are"
   ]
  },
  {
   "cell_type": "code",
   "execution_count": 78,
   "metadata": {
    "ExecuteTime": {
     "end_time": "2018-06-30T21:24:12.003655Z",
     "start_time": "2018-06-30T21:24:11.995649Z"
    },
    "hidden": true
   },
   "outputs": [],
   "source": [
    "year_pat = re.compile(r\"([^0-9])((?:20|19)[0,1,2,9][0-9])([^0-9])\")\n",
    "dollar_pat = re.compile(r\"[$]([0-9]{1,3},)*[0-9]{1,3}[.]?[0-9]{,4}\")\n",
    "num_pat = re.compile(\n",
    "r\"(y(?:20|19)[0,1,2,9][0-9])|(?:(?P<bound1>[\\s,.])(?:(?:[0-9]{1,3}[,])*(?:[0-9]{1,3}))(?:[.][0-9]{1,4})?[%]?(?P<bound2>[\\s,.]))\")\n",
    "year_fix_pat = re.compile(r\"y((?:20|19)[0,1,2,9][0-9])num_tok\")\n",
    "\n",
    "def replace_numeric_toks(s):\n",
    "    s1 = re.sub(year_pat, r'\\1y\\2\\3', s )\n",
    "    s2 = re.sub(dollar_pat, r'dollar_tok', s1)\n",
    "    s3 = re.sub(num_pat, r'\\1\\g<bound1>num_tok\\g<bound2>', s2)\n",
    "    s4 = re.sub(year_fix_pat, r'\\1', s3)\n",
    "    return s4"
   ]
  },
  {
   "cell_type": "code",
   "execution_count": 79,
   "metadata": {
    "ExecuteTime": {
     "end_time": "2018-06-30T21:24:12.013661Z",
     "start_time": "2018-06-30T21:24:12.004654Z"
    },
    "hidden": true
   },
   "outputs": [],
   "source": [
    "def get_x_text(df, text_col = 'para_text', text_prep_func = replace_numeric_toks):\n",
    "    \"\"\"Return column of text ready for vectorization\"\"\"\n",
    "    x_text = df[text_col].apply(text_prep_func)\n",
    "    return x_text\n",
    "\n",
    "def get_x_y(df, x_cols = ['para_text'], y_col = 'label'):\n",
    "    \"\"\"Split df into X,y, performing transformations as needed\"\"\"\n",
    "    X_text = get_x_text(df)\n",
    "    y = df[y_col]\n",
    "    X =X_text \n",
    "    return X,y"
   ]
  },
  {
   "cell_type": "code",
   "execution_count": 80,
   "metadata": {
    "ExecuteTime": {
     "end_time": "2018-06-30T21:24:21.314132Z",
     "start_time": "2018-06-30T21:24:20.875016Z"
    },
    "hidden": true
   },
   "outputs": [],
   "source": [
    "X_train, y_train = get_x_y(train_df)"
   ]
  },
  {
   "cell_type": "code",
   "execution_count": 81,
   "metadata": {
    "ExecuteTime": {
     "end_time": "2018-06-30T21:24:23.015963Z",
     "start_time": "2018-06-30T21:24:22.867333Z"
    },
    "hidden": true
   },
   "outputs": [],
   "source": [
    "X_val, y_val = get_x_y(val_df)"
   ]
  },
  {
   "cell_type": "markdown",
   "metadata": {
    "hidden": true
   },
   "source": [
    "Function to cross-validate models"
   ]
  },
  {
   "cell_type": "code",
   "execution_count": 15,
   "metadata": {
    "ExecuteTime": {
     "end_time": "2018-06-30T18:26:36.018835Z",
     "start_time": "2018-06-30T18:26:36.013832Z"
    },
    "hidden": true
   },
   "outputs": [],
   "source": [
    "def cv_acc(model, X, y, cv=5, scoring='accuracy'):\n",
    "    cv_dict = {}\n",
    "    cvs = cross_val_score(model, X, y, cv=cv, scoring=scoring)\n",
    "    cv_dict['cv_mean'] = np.mean(cvs)\n",
    "    cv_dict['cvs'] = cvs\n",
    "    return cv_dict"
   ]
  },
  {
   "cell_type": "code",
   "execution_count": 16,
   "metadata": {
    "ExecuteTime": {
     "end_time": "2018-06-30T18:26:37.048506Z",
     "start_time": "2018-06-30T18:26:37.045501Z"
    },
    "hidden": true
   },
   "outputs": [],
   "source": [
    "model_params_dict = {}\n",
    "model_cvs = {}"
   ]
  },
  {
   "cell_type": "markdown",
   "metadata": {
    "heading_collapsed": true
   },
   "source": [
    "## Define pipelines"
   ]
  },
  {
   "cell_type": "code",
   "execution_count": 17,
   "metadata": {
    "ExecuteTime": {
     "end_time": "2018-06-30T18:27:28.144397Z",
     "start_time": "2018-06-30T18:27:28.134390Z"
    },
    "hidden": true
   },
   "outputs": [],
   "source": [
    "count_vec = CountVectorizer(ngram_range=(1,6), max_df=0.6, min_df=.025, max_features=5000)\n",
    "bin_vec = CountVectorizer(ngram_range=(1,6), max_df=0.2, min_df=.01, binary=True, max_features=5000)\n",
    "tfidf_vec = TfidfVectorizer(ngram_range=(1,6), max_df=0.62, min_df=.025, max_features=5000)\n",
    "\n",
    "# Define a pipeline combining a text feature extractor with a simple\n",
    "# classifier\n",
    "\n",
    "# Logistic Regression \n",
    "\n",
    "lr_bin_pl = Pipeline([\n",
    "    ('vec', bin_vec),\n",
    "    ('lr', LogisticRegression(random_state=14, max_iter=1000))\n",
    "])\n",
    "\n",
    "lr_count_pl = Pipeline([\n",
    "    ('vec', count_vec),\n",
    "    ('lr', LogisticRegression(random_state=14, max_iter=1000))\n",
    "])\n",
    "\n",
    "lr_tfidf_pl = Pipeline([\n",
    "    ('vec', tfidf_vec),\n",
    "    ('lr', LogisticRegression(random_state=14, max_iter=1000))\n",
    "])"
   ]
  },
  {
   "cell_type": "markdown",
   "metadata": {},
   "source": [
    "## Test fit and evaluate models"
   ]
  },
  {
   "cell_type": "markdown",
   "metadata": {
    "heading_collapsed": true
   },
   "source": [
    "### Binary Vectorization, Logistic Regression classifier"
   ]
  },
  {
   "cell_type": "code",
   "execution_count": 46,
   "metadata": {
    "ExecuteTime": {
     "end_time": "2018-06-30T19:48:09.839854Z",
     "start_time": "2018-06-30T19:48:09.833852Z"
    },
    "hidden": true
   },
   "outputs": [],
   "source": [
    "    # Result: \n",
    "#    'vec__max_df': (.5, .75, .9), \n",
    "#    'vec__min_df': (.01, .05, .10, .20),\n",
    "#    'vec__ngram_range' : [(1,6)]\n",
    "\n",
    "    # {'vec__max_df': 0.9, 'vec__min_df': 0.01, 'vec__ngram_range': (1, 6)}\n",
    "# max GS test score: 0.908048417923126\n",
    "#{'cv_mean': 0.8742884854235194, 'cvs': array([0.86956522, 0.87685775, 0.8566879 , 0.89904357, 0.86928799])}\n",
    "# val score: 0.9275747508305647\n",
    "\n",
    "\n",
    "#    'vec__max_df': (.9, .95), \n",
    "#    'vec__min_df': (.005, .01),\n",
    "#    'vec__ngram_range' : [(1,5), (1,6), (1,7), (1,8)]\n",
    "# {'vec__max_df': 0.9, 'vec__min_df': 0.005, 'vec__ngram_range': (1, 5)}\n",
    "# max GS test score: 0.9125079634741984\n",
    "# {'cv_mean': 0.9093241854291755, 'cvs': array([0.90774125, 0.91082803, 0.90339703, 0.91710946, 0.90754516])}7\n",
    "# val score: 0.93421926910299\n",
    "\n",
    "#    'vec__max_df': (.85, .9, .95), \n",
    "#    'vec__min_df': (.005, .01),\n",
    "#    'vec__ngram_range' : [(1,4), (1,5)]\n",
    "#{'vec__max_df': 0.85, 'vec__min_df': 0.005, 'vec__ngram_range': (1, 4)}\n",
    "# max GS test score: 0.9135697600339775\n",
    "# {'cv_mean': 0.9105967194151221, 'cvs': array([0.91304348, 0.91082803, 0.90552017, 0.92029756, 0.90329437])}\n",
    "# val score: 0.9335548172757475\n",
    "param_grid_bin = {\n",
    "    'vec__max_df': (.85, .9, .95), \n",
    "    'vec__min_df': (.005, .01),\n",
    "    'vec__ngram_range' : [(1,4), (1,5)]\n",
    "\n",
    "    \n",
    "    #'vec__ngram_range' : [(1,5), (1,6), (1,7)]\n",
    "}"
   ]
  },
  {
   "cell_type": "markdown",
   "metadata": {
    "heading_collapsed": true
   },
   "source": [
    "### Binary Vectorization"
   ]
  },
  {
   "cell_type": "code",
   "execution_count": 47,
   "metadata": {
    "ExecuteTime": {
     "end_time": "2018-06-30T19:48:13.803918Z",
     "start_time": "2018-06-30T19:48:13.800916Z"
    },
    "hidden": true
   },
   "outputs": [],
   "source": [
    "lr_bin_gs = GridSearchCV(lr_bin_pl, param_grid=param_grid_bin, cv=4, return_train_score=True)"
   ]
  },
  {
   "cell_type": "code",
   "execution_count": 48,
   "metadata": {
    "ExecuteTime": {
     "end_time": "2018-06-30T19:52:22.549819Z",
     "start_time": "2018-06-30T19:48:18.898170Z"
    },
    "hidden": true
   },
   "outputs": [
    {
     "data": {
      "text/plain": [
       "GridSearchCV(cv=4, error_score='raise',\n",
       "       estimator=Pipeline(memory=None,\n",
       "     steps=[('vec', CountVectorizer(analyzer='word', binary=True, decode_error='strict',\n",
       "        dtype=<class 'numpy.int64'>, encoding='utf-8', input='content',\n",
       "        lowercase=True, max_df=0.9, max_features=5000, min_df=0.005,\n",
       "        ngram_range=(1, 5), preprocessor=None, stop_words=None,\n",
       "        str...alty='l2', random_state=14, solver='liblinear', tol=0.0001,\n",
       "          verbose=0, warm_start=False))]),\n",
       "       fit_params=None, iid=True, n_jobs=1,\n",
       "       param_grid={'vec__max_df': (0.85, 0.9, 0.95), 'vec__min_df': (0.005, 0.01), 'vec__ngram_range': [(1, 4), (1, 5)]},\n",
       "       pre_dispatch='2*n_jobs', refit=True, return_train_score=True,\n",
       "       scoring=None, verbose=0)"
      ]
     },
     "execution_count": 48,
     "metadata": {},
     "output_type": "execute_result"
    }
   ],
   "source": [
    "lr_bin_gs.fit(X_train, y_train)"
   ]
  },
  {
   "cell_type": "code",
   "execution_count": 49,
   "metadata": {
    "ExecuteTime": {
     "end_time": "2018-06-30T19:55:28.299478Z",
     "start_time": "2018-06-30T19:55:28.294475Z"
    },
    "hidden": true
   },
   "outputs": [
    {
     "data": {
      "text/plain": [
       "0.9135697600339775"
      ]
     },
     "execution_count": 49,
     "metadata": {},
     "output_type": "execute_result"
    }
   ],
   "source": [
    "lr_bin_gs.cv_results_['mean_test_score'].max()"
   ]
  },
  {
   "cell_type": "code",
   "execution_count": 50,
   "metadata": {
    "ExecuteTime": {
     "end_time": "2018-06-30T19:55:30.833802Z",
     "start_time": "2018-06-30T19:55:30.829798Z"
    },
    "hidden": true
   },
   "outputs": [
    {
     "data": {
      "text/plain": [
       "{'vec__max_df': 0.85, 'vec__min_df': 0.005, 'vec__ngram_range': (1, 4)}"
      ]
     },
     "execution_count": 50,
     "metadata": {},
     "output_type": "execute_result"
    }
   ],
   "source": [
    "# Best hyperparameter settings, which were found by the GridSearchCV - want to keep this:\n",
    "model_params_dict['lr_bin'] = lr_bin_gs.best_params_\n",
    "lr_bin_gs.best_params_"
   ]
  },
  {
   "cell_type": "code",
   "execution_count": 51,
   "metadata": {
    "ExecuteTime": {
     "end_time": "2018-06-30T19:55:43.598530Z",
     "start_time": "2018-06-30T19:55:39.589206Z"
    },
    "hidden": true,
    "scrolled": false
   },
   "outputs": [
    {
     "data": {
      "text/plain": [
       "Pipeline(memory=None,\n",
       "     steps=[('vec', CountVectorizer(analyzer='word', binary=True, decode_error='strict',\n",
       "        dtype=<class 'numpy.int64'>, encoding='utf-8', input='content',\n",
       "        lowercase=True, max_df=0.85, max_features=5000, min_df=0.005,\n",
       "        ngram_range=(1, 4), preprocessor=None, stop_words=None,\n",
       "        st...alty='l2', random_state=14, solver='liblinear', tol=0.0001,\n",
       "          verbose=0, warm_start=False))])"
      ]
     },
     "execution_count": 51,
     "metadata": {},
     "output_type": "execute_result"
    }
   ],
   "source": [
    "lr_bin_pl.set_params(**model_params_dict['lr_bin'])\n",
    "lr_bin_pl.fit(X_train, y_train)"
   ]
  },
  {
   "cell_type": "markdown",
   "metadata": {
    "hidden": true
   },
   "source": [
    "Get and print model cross validation scores:"
   ]
  },
  {
   "cell_type": "code",
   "execution_count": 52,
   "metadata": {
    "ExecuteTime": {
     "end_time": "2018-06-30T19:56:00.260218Z",
     "start_time": "2018-06-30T19:55:43.601031Z"
    },
    "hidden": true
   },
   "outputs": [
    {
     "name": "stdout",
     "output_type": "stream",
     "text": [
      "{'cv_mean': 0.9105967194151221, 'cvs': array([0.91304348, 0.91082803, 0.90552017, 0.92029756, 0.90329437])}\n"
     ]
    }
   ],
   "source": [
    "model_cvs['lr_bin'] = cv_acc(lr_bin_pl, X_train, y_train)\n",
    "print(model_cvs['lr_bin'])"
   ]
  },
  {
   "cell_type": "markdown",
   "metadata": {
    "hidden": true
   },
   "source": [
    "Against the unseen holdout/validation set:"
   ]
  },
  {
   "cell_type": "code",
   "execution_count": 53,
   "metadata": {
    "ExecuteTime": {
     "end_time": "2018-06-30T19:56:00.726528Z",
     "start_time": "2018-06-30T19:56:00.261217Z"
    },
    "hidden": true
   },
   "outputs": [
    {
     "data": {
      "text/plain": [
       "0.9335548172757475"
      ]
     },
     "execution_count": 53,
     "metadata": {},
     "output_type": "execute_result"
    }
   ],
   "source": [
    "lr_bin_pl.score(X_val, y_val)"
   ]
  },
  {
   "cell_type": "markdown",
   "metadata": {
    "heading_collapsed": true
   },
   "source": [
    "### TfIdf Vectorization, Logistic Regression classifier"
   ]
  },
  {
   "cell_type": "code",
   "execution_count": 19,
   "metadata": {
    "ExecuteTime": {
     "end_time": "2018-06-30T18:31:06.183898Z",
     "start_time": "2018-06-30T18:31:06.179894Z"
    },
    "hidden": true
   },
   "outputs": [],
   "source": [
    "param_grid_tfidf = {\n",
    "    'vec__max_df': (0.5, .7, .9),\n",
    "    'vec__min_df': (.005, .01, .015, .025),\n",
    "    'vec__ngram_range' : [(1,6)]\n",
    "}"
   ]
  },
  {
   "cell_type": "code",
   "execution_count": 39,
   "metadata": {
    "ExecuteTime": {
     "end_time": "2018-06-30T18:49:42.688792Z",
     "start_time": "2018-06-30T18:49:42.685790Z"
    },
    "hidden": true
   },
   "outputs": [],
   "source": [
    "lr_tfidf_gs = GridSearchCV(lr_tfidf_pl, param_grid=param_grid_tfidf, cv=4, return_train_score=True)"
   ]
  },
  {
   "cell_type": "code",
   "execution_count": null,
   "metadata": {
    "hidden": true
   },
   "outputs": [],
   "source": [
    "lr_tfidf_gs.fit(X_train, y_train)"
   ]
  },
  {
   "cell_type": "code",
   "execution_count": null,
   "metadata": {
    "ExecuteTime": {
     "end_time": "2018-06-30T18:43:21.779924Z",
     "start_time": "2018-06-30T18:43:21.759911Z"
    },
    "hidden": true
   },
   "outputs": [],
   "source": [
    "lr_tfidf_gs.['mean_test_score'].max()"
   ]
  },
  {
   "cell_type": "code",
   "execution_count": null,
   "metadata": {
    "hidden": true
   },
   "outputs": [],
   "source": [
    "# Best hyperparameter settings, which were found by the GridSearchCV - want to keep this:\n",
    "model_params_dict['lr_tfidf'] = lr_tfidf_gs.best_params_\n",
    "lr_tfidf_gs.best_params_"
   ]
  },
  {
   "cell_type": "code",
   "execution_count": null,
   "metadata": {
    "hidden": true
   },
   "outputs": [],
   "source": [
    "lr_tfidf_pl.set_params(**model_params_dict['lr_tfidf'])\n",
    "lr_tfidf_pl.fit(X_train, y_train)"
   ]
  },
  {
   "cell_type": "code",
   "execution_count": null,
   "metadata": {
    "hidden": true
   },
   "outputs": [],
   "source": [
    "model_cvs['lr_tfidf'] = cv_acc(lr_tfidf_pl, X_train, y_train)\n",
    "print(model_cvs['lr_tfidf'])"
   ]
  },
  {
   "cell_type": "markdown",
   "metadata": {
    "heading_collapsed": true
   },
   "source": [
    "## Predictions and results"
   ]
  },
  {
   "cell_type": "code",
   "execution_count": 83,
   "metadata": {
    "ExecuteTime": {
     "end_time": "2018-06-30T21:28:15.534162Z",
     "start_time": "2018-06-30T21:28:12.737826Z"
    },
    "hidden": true
   },
   "outputs": [],
   "source": [
    "y_pred = lr_bin_pl.predict(X_train)\n",
    "y_val_pred = lr_bin_pl.predict(X_val)\n",
    "y_proba = lr_bin_pl.predict_proba(X_train)"
   ]
  },
  {
   "cell_type": "code",
   "execution_count": 84,
   "metadata": {
    "ExecuteTime": {
     "end_time": "2018-06-30T21:36:31.581276Z",
     "start_time": "2018-06-30T21:36:31.576270Z"
    },
    "hidden": true
   },
   "outputs": [],
   "source": [
    "train_df['rel_proba'] = y_proba[:,1].tolist()"
   ]
  },
  {
   "cell_type": "code",
   "execution_count": 55,
   "metadata": {
    "ExecuteTime": {
     "end_time": "2018-06-30T21:01:29.778801Z",
     "start_time": "2018-06-30T21:01:29.771797Z"
    },
    "hidden": true,
    "scrolled": true
   },
   "outputs": [
    {
     "name": "stdout",
     "output_type": "stream",
     "text": [
      "             precision    recall  f1-score   support\n",
      "\n",
      "          0       0.87      0.86      0.87       385\n",
      "          1       0.95      0.96      0.96      1120\n",
      "\n",
      "avg / total       0.93      0.93      0.93      1505\n",
      "\n"
     ]
    }
   ],
   "source": [
    "print(classification_report(y_val, y_val_pred))"
   ]
  },
  {
   "cell_type": "code",
   "execution_count": 91,
   "metadata": {
    "ExecuteTime": {
     "end_time": "2018-06-30T21:35:00.659645Z",
     "start_time": "2018-06-30T21:35:00.655641Z"
    },
    "hidden": true
   },
   "outputs": [
    {
     "data": {
      "text/plain": [
       "4066"
      ]
     },
     "execution_count": 91,
     "metadata": {},
     "output_type": "execute_result"
    }
   ],
   "source": [
    "len(X_train)"
   ]
  },
  {
   "cell_type": "code",
   "execution_count": 94,
   "metadata": {
    "ExecuteTime": {
     "end_time": "2018-06-30T21:36:31.581276Z",
     "start_time": "2018-06-30T21:36:31.576270Z"
    },
    "hidden": true
   },
   "outputs": [
    {
     "data": {
      "text/plain": [
       "11"
      ]
     },
     "execution_count": 94,
     "metadata": {},
     "output_type": "execute_result"
    }
   ],
   "source": [
    "misses = y_pred != y_train\n",
    "#X_test_misses = [X_test[i] for i in range(0, len(misses)) if misses[i] == True]\n",
    "X_misses = X_train[misses].tolist()\n",
    "len(X_misses)"
   ]
  },
  {
   "cell_type": "code",
   "execution_count": 96,
   "metadata": {
    "ExecuteTime": {
     "end_time": "2018-06-30T21:37:27.606623Z",
     "start_time": "2018-06-30T21:37:27.598617Z"
    },
    "hidden": true
   },
   "outputs": [
    {
     "name": "stdout",
     "output_type": "stream",
     "text": [
      "--------------------    0    --------------------\n",
      "True value :  0\n",
      "Predicted probability :  0.3458700339515848\n",
      "5.num_tok  Employees Eligible for Matching Contributions\n",
      "--------------------    1    --------------------\n",
      "True value :  0\n",
      "Predicted probability :  0.6541299660484152\n",
      "15.num_tok  Employees Covered by Collective Bargaining Agreement\n"
     ]
    }
   ],
   "source": [
    "for idx, tup in enumerate(zip(X_misses, y_proba[misses][1].tolist(), y_train[misses])):\n",
    "    print(\"--------------------    \" + str(idx) + \"    --------------------\" )\n",
    "    print(\"True value :  \" + str(tup[2]))\n",
    "    print(\"Predicted probability :  \" + str(tup[1]))\n",
    "    print(tup[0])"
   ]
  },
  {
   "cell_type": "code",
   "execution_count": 56,
   "metadata": {
    "ExecuteTime": {
     "end_time": "2018-06-30T21:02:14.232648Z",
     "start_time": "2018-06-30T21:02:14.214637Z"
    },
    "hidden": true
   },
   "outputs": [],
   "source": [
    "coef_bin_df = pd.DataFrame.from_records(list(zip(lr_bin_pl.named_steps.vec.get_feature_names(), \n",
    "                                             lr_bin_pl.named_steps.lr.coef_.tolist()[0])),\n",
    "                                   columns = ['token', 'coef']).sort_values('coef', ascending=False).reset_index(drop=True)"
   ]
  },
  {
   "cell_type": "code",
   "execution_count": 59,
   "metadata": {
    "ExecuteTime": {
     "end_time": "2018-06-30T21:04:23.989076Z",
     "start_time": "2018-06-30T21:04:23.975065Z"
    },
    "collapsed": true,
    "hidden": true
   },
   "outputs": [
    {
     "data": {
      "text/html": [
       "<div>\n",
       "<style scoped>\n",
       "    .dataframe tbody tr th:only-of-type {\n",
       "        vertical-align: middle;\n",
       "    }\n",
       "\n",
       "    .dataframe tbody tr th {\n",
       "        vertical-align: top;\n",
       "    }\n",
       "\n",
       "    .dataframe thead th {\n",
       "        text-align: right;\n",
       "    }\n",
       "</style>\n",
       "<table border=\"1\" class=\"dataframe\">\n",
       "  <thead>\n",
       "    <tr style=\"text-align: right;\">\n",
       "      <th></th>\n",
       "      <th>token</th>\n",
       "      <th>coef</th>\n",
       "    </tr>\n",
       "  </thead>\n",
       "  <tbody>\n",
       "    <tr>\n",
       "      <th>4004</th>\n",
       "      <td>associates and</td>\n",
       "      <td>-0.641920</td>\n",
       "    </tr>\n",
       "    <tr>\n",
       "      <th>4005</th>\n",
       "      <td>another</td>\n",
       "      <td>-0.647143</td>\n",
       "    </tr>\n",
       "    <tr>\n",
       "      <th>4006</th>\n",
       "      <td>remain</td>\n",
       "      <td>-0.649336</td>\n",
       "    </tr>\n",
       "    <tr>\n",
       "      <th>4007</th>\n",
       "      <td>november num_tok</td>\n",
       "      <td>-0.669000</td>\n",
       "    </tr>\n",
       "    <tr>\n",
       "      <th>4008</th>\n",
       "      <td>by collective bargaining agreement</td>\n",
       "      <td>-0.671258</td>\n",
       "    </tr>\n",
       "    <tr>\n",
       "      <th>4009</th>\n",
       "      <td>hold</td>\n",
       "      <td>-0.671720</td>\n",
       "    </tr>\n",
       "    <tr>\n",
       "      <th>4010</th>\n",
       "      <td>than num_tok people</td>\n",
       "      <td>-0.673273</td>\n",
       "    </tr>\n",
       "    <tr>\n",
       "      <th>4011</th>\n",
       "      <td>many</td>\n",
       "      <td>-0.684738</td>\n",
       "    </tr>\n",
       "    <tr>\n",
       "      <th>4012</th>\n",
       "      <td>upon</td>\n",
       "      <td>-0.689394</td>\n",
       "    </tr>\n",
       "    <tr>\n",
       "      <th>4013</th>\n",
       "      <td>senior</td>\n",
       "      <td>-0.696885</td>\n",
       "    </tr>\n",
       "    <tr>\n",
       "      <th>4014</th>\n",
       "      <td>under the plan</td>\n",
       "      <td>-0.700257</td>\n",
       "    </tr>\n",
       "    <tr>\n",
       "      <th>4015</th>\n",
       "      <td>plans for</td>\n",
       "      <td>-0.712649</td>\n",
       "    </tr>\n",
       "    <tr>\n",
       "      <th>4016</th>\n",
       "      <td>employee benefits</td>\n",
       "      <td>-0.715066</td>\n",
       "    </tr>\n",
       "    <tr>\n",
       "      <th>4017</th>\n",
       "      <td>is</td>\n",
       "      <td>-0.724057</td>\n",
       "    </tr>\n",
       "    <tr>\n",
       "      <th>4018</th>\n",
       "      <td>contract</td>\n",
       "      <td>-0.797255</td>\n",
       "    </tr>\n",
       "    <tr>\n",
       "      <th>4019</th>\n",
       "      <td>maintains</td>\n",
       "      <td>-0.826840</td>\n",
       "    </tr>\n",
       "    <tr>\n",
       "      <th>4020</th>\n",
       "      <td>time associates</td>\n",
       "      <td>-0.983906</td>\n",
       "    </tr>\n",
       "    <tr>\n",
       "      <th>4021</th>\n",
       "      <td>and employee</td>\n",
       "      <td>-1.002267</td>\n",
       "    </tr>\n",
       "    <tr>\n",
       "      <th>4022</th>\n",
       "      <td>ended</td>\n",
       "      <td>-1.047686</td>\n",
       "    </tr>\n",
       "    <tr>\n",
       "      <th>4023</th>\n",
       "      <td>associates</td>\n",
       "      <td>-1.985974</td>\n",
       "    </tr>\n",
       "  </tbody>\n",
       "</table>\n",
       "</div>"
      ],
      "text/plain": [
       "                                   token      coef\n",
       "4004                      associates and -0.641920\n",
       "4005                             another -0.647143\n",
       "4006                              remain -0.649336\n",
       "4007                    november num_tok -0.669000\n",
       "4008  by collective bargaining agreement -0.671258\n",
       "4009                                hold -0.671720\n",
       "4010                 than num_tok people -0.673273\n",
       "4011                                many -0.684738\n",
       "4012                                upon -0.689394\n",
       "4013                              senior -0.696885\n",
       "4014                      under the plan -0.700257\n",
       "4015                           plans for -0.712649\n",
       "4016                   employee benefits -0.715066\n",
       "4017                                  is -0.724057\n",
       "4018                            contract -0.797255\n",
       "4019                           maintains -0.826840\n",
       "4020                     time associates -0.983906\n",
       "4021                        and employee -1.002267\n",
       "4022                               ended -1.047686\n",
       "4023                          associates -1.985974"
      ]
     },
     "execution_count": 59,
     "metadata": {},
     "output_type": "execute_result"
    }
   ],
   "source": [
    "coef_bin_df.tail(20)"
   ]
  },
  {
   "cell_type": "code",
   "execution_count": 86,
   "metadata": {
    "ExecuteTime": {
     "end_time": "2018-06-30T21:29:37.866026Z",
     "start_time": "2018-06-30T21:29:37.858022Z"
    },
    "hidden": true
   },
   "outputs": [],
   "source": [
    "def print_row_detail(df=train_df, nrow=10, header_list = ['acc_id'],\n",
    "                    detail_list = [ 'len', 'first_emp_head_block', 'split' ,'para_text'],\n",
    "                    sortby=['acc_id', 'first_emp_head_block', 'len'], ascending=False):\n",
    "    df_sorted = df.sort_values(sortby, ascending=ascending).reset_index()\n",
    "    nrow = min(len(df_sorted), nrow)\n",
    "    for i in range(0, nrow):\n",
    "        for h in header_list:\n",
    "            print('-'*35  + ' ' +  str(df_sorted[h][i]) + ' ' + '-'*35)\n",
    "        for d in detail_list:\n",
    "            print(d + '  :' + str(df_sorted[d][i]))\n",
    "            print('')"
   ]
  },
  {
   "cell_type": "code",
   "execution_count": 87,
   "metadata": {
    "ExecuteTime": {
     "end_time": "2018-06-30T21:36:31.581276Z",
     "start_time": "2018-06-30T21:36:31.576270Z"
    },
    "hidden": true
   },
   "outputs": [
    {
     "name": "stdout",
     "output_type": "stream",
     "text": [
      "----------------------------------- 0000004127-16-000068 -----------------------------------\n",
      "label  :1\n",
      "\n",
      "rel_proba  :0.9999990903768085\n",
      "\n",
      "para_text  :As of September 30, 2016, we employed approximately 7,300 employees world-wide. Approximately 860 of our employees in Mexico, 450 employees in Singapore, and 200 employees in Japan are covered by collective bargaining and other union agreements.\n",
      "\n",
      "----------------------------------- 0000004904-17-000019 -----------------------------------\n",
      "label  :1\n",
      "\n",
      "rel_proba  :0.992104039502212\n",
      "\n",
      "para_text  :AEP also owns a service company subsidiary, AEPSC. AEPSC provides accounting, administrative, information systems, engineering, financial, legal, maintenance and other services at cost to AEP subsidiaries. The executive officers of AEP and certain of its public utility subsidiaries are employees of AEPSC. As of December 31, 2016, AEPSC had 5,805 employees.\n",
      "\n",
      "----------------------------------- 0000004904-17-000019 -----------------------------------\n",
      "label  :1\n",
      "\n",
      "rel_proba  :0.9962614165773396\n",
      "\n",
      "para_text  :Organized in Delaware in 2011, AGR is a competitive generation company that generates power and sells it into the market.  AGR also engages in power trading activities.  Pursuant to a Power Supply Agreement (PSA) between AGR and OPCo, AGR supplied capacity for OPCo's switched and non-switched retail load for the period January 1, 2014 through May 31, 2015.  As of December 31, 2016, AGR owned 6,875 MWs of generating capacity, with rights to an additional 1,186 MWs pursuant to a unit power agreement with AEGCo through 2017. AGR sold three generating units totaling 4,143 MWs to an unaffiliated party in a transaction that closed in January 2017. As a result of the sale, AGR owns 2,732 MWs of generating capacity. As of December 31, 2016, AGR had 842 employees (536 employees following the sale of generation).  AGR is part of AEP's Generation & Marketing segment.\n",
      "\n",
      "----------------------------------- 0000004904-17-000019 -----------------------------------\n",
      "label  :1\n",
      "\n",
      "rel_proba  :0.9971960185711353\n",
      "\n",
      "para_text  :As of December 31, 2016, the subsidiaries of AEP had a total of 17,634 employees. Because it is a holding company rather than an operating company, AEP has no employees. The material subsidiaries of AEP are:\n",
      "\n",
      "----------------------------------- 0000004904-17-000019 -----------------------------------\n",
      "label  :1\n",
      "\n",
      "rel_proba  :0.9976222255906222\n",
      "\n",
      "para_text  :Organized in Ohio in 1982, AEGCo is an electric generating company. As of December 31, 2016 AEGCo owned 2,496 MWs of generating capacity.  AEGCo sold a 1,186 MW natural gas-fired generating unit to an unaffiliated party in a transaction that closed in January 2017. As a result of the sale, AEGCo owns 1,310 MWs of generating capacity. AEGCo sells power at wholesale to I&M and KPCo. As of December 31, 2016, AEGCo had 66 employees.  AEGCo is part of AEP's Vertically Integrated Utilities segment.\n",
      "\n",
      "----------------------------------- 0000004904-17-000019 -----------------------------------\n",
      "label  :1\n",
      "\n",
      "rel_proba  :0.9980969823262976\n",
      "\n",
      "para_text  :Organized in Virginia in 1917, KGPCo provides electric service to approximately 48,000 retail customers in Kingsport and eight neighboring communities in northeastern Tennessee. KGPCo does not own any generating facilities and is a member of PJM. It purchases electric power from APCo for distribution to its customers. As of December 31, 2016, KGPCo had 53 employees. KGPCo is part of AEP's Vertically Integrated Utilities segment.\n",
      "\n",
      "----------------------------------- 0000004904-17-000019 -----------------------------------\n",
      "label  :1\n",
      "\n",
      "rel_proba  :0.9988951782467198\n",
      "\n",
      "para_text  :Organized in Kentucky in 1919, KPCo is engaged in the generation, transmission and distribution of electric power to approximately 169,000 retail customers in eastern Kentucky, and in supplying and marketing electric power at wholesale to other electric utility companies, municipalities and other market participants.  KPCo owns 1,060 MWs of generating capacity.  KPCo uses its generation to serve its retail and other customers.  As of December 31, 2016, KPCo had 550 employees. Among the principal industries served are petroleum refining, coal mining and chemical production.  KPCo is a member of PJM.  KPCo is part of AEP's Vertically Integrated Utilities segment.\n",
      "\n",
      "----------------------------------- 0000004904-17-000019 -----------------------------------\n",
      "label  :1\n",
      "\n",
      "rel_proba  :0.9993243202198542\n",
      "\n",
      "para_text  :Organized in Oklahoma in 1913, PSO is engaged in the generation, transmission and distribution of electric power to approximately 548,000 retail customers in eastern and southwestern Oklahoma, and in supplying and marketing electric power at wholesale to other electric utility companies, municipalities, rural electric cooperatives and other market participants.  PSO owns 3,940 MWs of generating capacity, which it uses to serve its retail and other customers.  As of December 31, 2016, PSO had 1,110 employees. Among the principal industries served by PSO are paper manufacturing, natural gas and oil extraction, transportation, oil refining, health care and aerospace. PSO is a member of SPP.  PSO is part of AEP's Vertically Integrated Utilities segment.\n",
      "\n",
      "----------------------------------- 0000004904-17-000019 -----------------------------------\n",
      "label  :1\n",
      "\n",
      "rel_proba  :0.999441797769598\n",
      "\n",
      "para_text  :Organized in West Virginia in 1883 and reincorporated in 1911, WPCo provides electric service to approximately 41,000 retail customers in northern West Virginia. WPCo owns 780 MWs of generating capacity which it uses to serve its retail and other customers. WPCo is a member of PJM. As of December 31, 2016, WPCo had 57 employees.  WPCo is part of AEP's Vertically Integrated Utilities segment.\n",
      "\n",
      "----------------------------------- 0000004904-17-000019 -----------------------------------\n",
      "label  :1\n",
      "\n",
      "rel_proba  :0.9995528458290702\n",
      "\n",
      "para_text  :Organized in Indiana in 1907, I&M is engaged in the generation, transmission and distribution of electric power to approximately 592,000 retail customers in northern and eastern Indiana and southwestern Michigan, and in supplying and marketing electric power at wholesale to other electric utility companies, rural electric cooperatives, municipalities and other market participants.  I&M owns or leases 3,539 MWs of generating capacity, which it uses to serve its retail and other customers.  As of December 31, 2016, I&M had 2,475 employees. Among the principal industries served are primary metals, transportation equipment, electrical and electronic machinery, fabricated metal products, rubber and chemicals and allied products, rubber products and transportation equipment.  I&M is a member of PJM.  I&M is part of AEP's Vertically Integrated Utilities segment.\n",
      "\n",
      "----------------------------------- 0000004904-17-000019 -----------------------------------\n",
      "label  :1\n",
      "\n",
      "rel_proba  :0.9996318359135872\n",
      "\n",
      "para_text  :Organized in Delaware in 1912, SWEPCo is engaged in the generation, transmission and distribution of electric power to approximately 533,000 retail customers in northeastern and panhandle of Texas, northwestern Louisiana and western Arkansas and in supplying and marketing electric power at wholesale to other electric utility companies, municipalities, rural electric cooperatives and other market participants. SWEPCo owns 5,225 MWs of generating capacity, which it uses to serve its retail and other customers.  As of December 31, 2016, SWEPCo had 1,486 employees. Among the principal industries served by SWEPCo are natural gas and oil production, petroleum refining, manufacturing of pulp and paper, chemicals, food processing and metal refining. The territory served by SWEPCo also includes several military installations, colleges and universities. SWEPCo also owns and operates a lignite coal mining operation. SWEPCo is a member of SPP.  SWEPCo is part of AEP's Vertically Integrated Utilities segment.\n",
      "\n",
      "----------------------------------- 0000004904-17-000019 -----------------------------------\n",
      "label  :1\n",
      "\n",
      "rel_proba  :0.9998414242849412\n",
      "\n",
      "para_text  :Organized in Virginia in 1926, APCo is engaged in the generation, transmission and distribution of electric power to approximately 957,000 retail customers in the southwestern portion of Virginia and southern West Virginia, and in supplying and marketing electric power at wholesale to other electric utility companies, municipalities and other market participants. APCo owns 6,640 MWs of generating capacity.  APCo uses its generation to serve its retail and other customers.  As of December 31, 2016, APCo had 1,845 employees. Among the principal industries served by APCo are paper, rubber, coal mining, textile mill products and stone, clay and glass products. APCo is a member of PJM.  APCo is part of AEP's Vertically Integrated Utilities segment.\n",
      "\n",
      "----------------------------------- 0000004904-17-000019 -----------------------------------\n",
      "label  :1\n",
      "\n",
      "rel_proba  :0.9998625471039715\n",
      "\n",
      "para_text  :Organized in Ohio in 1907 and re-incorporated in 1924, OPCo is engaged in the transmission and distribution of electric power to approximately 1,472,000 retail customers in Ohio.  OPCo purchases energy and capacity at auction to serve generation service customers.  As of December 31, 2016, OPCo had 1,582 employees.  Among the principal industries served by OPCo are primary metals, chemicals and allied products, health services, electronic machinery, petroleum refining, and rubber and plastic products. OPCo is a member of PJM.  OPCo is part of AEP's Transmission and Distribution Utilities segment.\n",
      "\n",
      "----------------------------------- 0000004904-17-000019 -----------------------------------\n",
      "label  :1\n",
      "\n",
      "rel_proba  :0.9999366321299693\n",
      "\n",
      "para_text  :Organized in Delaware in 1925, AEP Texas was formed by the merger of AEP Texas Central Company and AEP Texas North Company into AEP Utilities, Inc. on December 31, 2016. The merging parties retained their respective rate structures.  Following the merger, AEP Utilities, Inc. changed its name to AEP Texas Inc. (AEP Texas). AEP Texas is engaged in the transmission and distribution of electric power to approximately 1,024,000 retail customers through REPs in west, central and southern Texas.  As of December 31, 2016, AEP Texas had 1,500 employees.  Among the principal industries served by AEP Texas are chemical and petroleum refining, chemicals and allied products, oil and natural gas extraction, food processing, metal refining, plastics and machinery equipment, agriculture and the manufacturing or processing of cotton seed products, oil products, precision and consumer metal products, meat products and gypsum products.  The territory served by AEP Texas also includes several military installations and correctional facilities.  AEP Texas is a member of ERCOT.  AEP Texas is part of AEP's Transmission and Distribution Utilities segment.\n",
      "\n",
      "----------------------------------- 0000005272-17-000017 -----------------------------------\n",
      "label  :1\n",
      "\n",
      "rel_proba  :0.9987884377324989\n",
      "\n",
      "para_text  :At AIG, we believe that a major strength of ours is the quality and dedication of our people. At December 31, 2016 and 2015, we had approximately 56,400 and 66,400 employees, respectively. We believe that our relations with our employees are satisfactory.\n",
      "\n",
      "----------------------------------- 0000005513-17-000018 -----------------------------------\n",
      "label  :1\n",
      "\n",
      "rel_proba  :0.9131568934362917\n",
      "\n",
      "para_text  :Core Market (< 2,000 employees)\n",
      "\n",
      "----------------------------------- 0000005513-17-000018 -----------------------------------\n",
      "label  :1\n",
      "\n",
      "rel_proba  :0.9131568934362917\n",
      "\n",
      "para_text  :Core Market (< 500 employees)\n",
      "\n",
      "----------------------------------- 0000005513-17-000018 -----------------------------------\n",
      "label  :1\n",
      "\n",
      "rel_proba  :0.9131568934362917\n",
      "\n",
      "para_text  :Core Market (< 1,000 employees)\n",
      "\n",
      "----------------------------------- 0000005513-17-000018 -----------------------------------\n",
      "label  :1\n",
      "\n",
      "rel_proba  :0.9650624171500192\n",
      "\n",
      "para_text  :Our Unum US segment includes group long-term and short-term disability insurance, group life and accidental death and dismemberment products, and supplemental and voluntary lines of business. The supplemental and voluntary lines of business are comprised of individual disability, voluntary benefits, and dental and vision products. Unum US products are issued primarily by Unum America and Provident. Paul Revere Life previously issued products reported in our Unum US segment and continues to service the in-force policies, but Paul Revere Life no longer actively markets new business. These products are marketed through our field sales personnel who work in conjunction with independent brokers and consultants. Our market strategy for Unum US is to effectively deliver an integrated offering of employee benefit products in the group core market segment, which we define for Unum US as employee groups with fewer than 2,000 employees, the group large case market segment, and the supplemental and voluntary market segment.\n",
      "\n",
      "----------------------------------- 0000005513-17-000018 -----------------------------------\n",
      "label  :1\n",
      "\n",
      "rel_proba  :0.9936461236998806\n",
      "\n",
      "para_text  :At December 31, 2016, we had approximately 9,400 full-time employees.\n",
      "\n"
     ]
    }
   ],
   "source": [
    "print_row_detail(df=train_df, nrow=20, header_list = ['acc_id'],\n",
    "                    detail_list = ['label', 'rel_proba', 'para_text'],\n",
    "                    sortby=['acc_id', 'rel_proba'], ascending=True)"
   ]
  }
 ],
 "metadata": {
  "kernelspec": {
   "display_name": "Python 3",
   "language": "python",
   "name": "python3"
  },
  "language_info": {
   "codemirror_mode": {
    "name": "ipython",
    "version": 3
   },
   "file_extension": ".py",
   "mimetype": "text/x-python",
   "name": "python",
   "nbconvert_exporter": "python",
   "pygments_lexer": "ipython3",
   "version": "3.6.1"
  },
  "toc": {
   "base_numbering": 1,
   "nav_menu": {},
   "number_sections": true,
   "sideBar": true,
   "skip_h1_title": true,
   "title_cell": "Table of Contents",
   "title_sidebar": "Contents",
   "toc_cell": true,
   "toc_position": {},
   "toc_section_display": true,
   "toc_window_display": false
  }
 },
 "nbformat": 4,
 "nbformat_minor": 2
}
