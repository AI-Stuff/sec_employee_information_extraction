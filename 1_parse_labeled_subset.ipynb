{
 "cells": [
  {
   "cell_type": "code",
   "execution_count": 1,
   "metadata": {
    "ExecuteTime": {
     "end_time": "2018-06-27T00:40:24.172412Z",
     "start_time": "2018-06-27T00:40:21.536847Z"
    }
   },
   "outputs": [],
   "source": [
    "import numpy as np\n",
    "import pandas as pd\n",
    "import re\n",
    "\n",
    "from bs4 import BeautifulSoup as bs\n",
    "\n",
    "from path import Path, getcwdu\n",
    "\n",
    "import glob\n",
    "import os\n",
    "from pathlib import PurePath\n",
    "import copy\n",
    "\n",
    "import random\n",
    "import gzip\n",
    "import shutil"
   ]
  },
  {
   "cell_type": "code",
   "execution_count": 2,
   "metadata": {
    "ExecuteTime": {
     "end_time": "2018-06-27T00:40:38.555619Z",
     "start_time": "2018-06-27T00:40:38.391225Z"
    }
   },
   "outputs": [],
   "source": [
    "full_path_list = [PurePath(os.getcwd()).joinpath(file).as_posix() for file in glob.iglob('../employee_filings/*.gz')]\n",
    "full_file_list = [PurePath(file).name for file in glob.iglob('../employee_filings/*.gz')]\n",
    "full_accession_ids = [PurePath(file).stem.replace('.html', '') for file in full_file_list]\n",
    "full_cik_nbrs = [x.split(sep='-')[0] for x in full_accession_ids]"
   ]
  },
  {
   "cell_type": "markdown",
   "metadata": {},
   "source": [
    "Read in accession ID lists created from initial data splitting"
   ]
  },
  {
   "cell_type": "code",
   "execution_count": 4,
   "metadata": {
    "ExecuteTime": {
     "end_time": "2018-06-27T00:41:18.645827Z",
     "start_time": "2018-06-27T00:41:18.633819Z"
    }
   },
   "outputs": [],
   "source": [
    "train_accession_ids = pd.read_csv('../data/train_accession_ids.csv', names=['acc_id'])['acc_id'].tolist()\n",
    "val_accession_ids = pd.read_csv('../data/val_accession_ids.csv', names=['acc_id'])['acc_id'].tolist()"
   ]
  },
  {
   "cell_type": "code",
   "execution_count": 5,
   "metadata": {
    "ExecuteTime": {
     "end_time": "2018-06-27T00:41:23.755195Z",
     "start_time": "2018-06-27T00:41:23.334228Z"
    }
   },
   "outputs": [],
   "source": [
    "labeled_df = pd.read_excel('../data/train_val_employee_count_paragraphs.xlsx')\n",
    "subset_df = pd.read_excel('../data/subset_employee_count_paragraphs.xlsx')"
   ]
  },
  {
   "cell_type": "code",
   "execution_count": 6,
   "metadata": {
    "ExecuteTime": {
     "end_time": "2018-06-27T00:41:26.486307Z",
     "start_time": "2018-06-27T00:41:26.478301Z"
    }
   },
   "outputs": [],
   "source": [
    "def print_row_detail(df=subset_df, nrow=10, header_list = ['ticker', 'accession_number' ],\n",
    "                    detail_list = ['data_key_friendly_name', 'text', 'paragraph_text'],\n",
    "                    sortby=['accession_number', 'data_key_friendly_name'], ascending=True):\n",
    "    df_sorted = df.sort_values(sortby, ascending=ascending).reset_index()\n",
    "    nrow = min(len(df_sorted), nrow)\n",
    "    for i in range(0, nrow):\n",
    "        for h in header_list:\n",
    "            print('-'*35  + ' ' +  str(df_sorted[h][i]) + ' ' + '-'*35)\n",
    "        for d in detail_list:\n",
    "            print(d + '  :' + str(df_sorted[d][i]))\n",
    "            print('')"
   ]
  },
  {
   "cell_type": "code",
   "execution_count": 155,
   "metadata": {
    "ExecuteTime": {
     "end_time": "2018-06-22T01:20:56.235154Z",
     "start_time": "2018-06-22T01:20:56.205134Z"
    },
    "scrolled": true
   },
   "outputs": [
    {
     "name": "stdout",
     "output_type": "stream",
     "text": [
      "----------------------------------- AAN -----------------------------------\n",
      "----------------------------------- 0000706688-17-000030 -----------------------------------\n",
      "data_key_friendly_name  :Other Employees\n",
      "\n",
      "text  :employees\n",
      "\n",
      "paragraph_text  :Employees   At December 31, 2016, the Company had approximately 11,500 employees. None of our employees are covered by a   collective bargaining agreement and we believe that our relations with employees are good\n",
      "\n",
      "----------------------------------- AAON -----------------------------------\n",
      "----------------------------------- 0000824142-17-000034 -----------------------------------\n",
      "data_key_friendly_name  :Other Employees\n",
      "\n",
      "text  :employees\n",
      "\n",
      "paragraph_text  :Employees   As of February 12, 2017, we employed 1,619 permanent employees. Our employees are not represented by  unions\n",
      "\n",
      "----------------------------------- AAXN -----------------------------------\n",
      "----------------------------------- 0001069183-17-000042 -----------------------------------\n",
      "data_key_friendly_name  :Full-Time Employees\n",
      "\n",
      "text  :full-time\n",
      "\n",
      "paragraph_text  :Employees   As of December 31, 2016,  we had 699 full-time  employees and 202 temporary  employees. The breakdown of  our   full-time employees by department is  as follows: 175 direct  manufacturing employees and 524  administrative   and manufacturing support employees. Of the 524 administrative and manufacturing support employees, 213  were   involved in sales,  marketing, communications and  training. Of the  202 temporary employees,  more than  92%   worked in direct manufacturing roles. Our employees  are not covered by any collective bargaining  agreement,   and we have never experienced a work stoppage. We believe that our relations with our employees are good\n",
      "\n",
      "----------------------------------- AAXN -----------------------------------\n",
      "----------------------------------- 0001069183-17-000042 -----------------------------------\n",
      "data_key_friendly_name  :Other Employees\n",
      "\n",
      "text  :temporary\n",
      "\n",
      "paragraph_text  :Employees   As of December 31, 2016,  we had 699 full-time  employees and 202 temporary  employees. The breakdown of  our   full-time employees by department is  as follows: 175 direct  manufacturing employees and 524  administrative   and manufacturing support employees. Of the 524 administrative and manufacturing support employees, 213  were   involved in sales,  marketing, communications and  training. Of the  202 temporary employees,  more than  92%   worked in direct manufacturing roles. Our employees  are not covered by any collective bargaining  agreement,   and we have never experienced a work stoppage. We believe that our relations with our employees are good\n",
      "\n",
      "----------------------------------- A -----------------------------------\n",
      "----------------------------------- 0001090872-16-000082 -----------------------------------\n",
      "data_key_friendly_name  :Other Employees\n",
      "\n",
      "text  :employed\n",
      "\n",
      "paragraph_text  :We sell  our  products  primarily  through  direct  sales,  but  we  also  utilize  distributors,  resellers,   manufacturer's representatives and  electronic commerce. Of  our total net  revenue of $4.2  billion for  the   fiscal year ended October 31, 2016, we generated 30 percent in the U.S. and 70 percent outside the U.S. As of   October 31, 2016, we employed approximately 12,500 people worldwide. Our primary research and development and   manufacturing sites  are in  California, Colorado,  Delaware,  Massachusetts and  Texas in  the U.S.  and  in   Australia, China, Denmark, Germany, Italy, Japan, Malaysia, Singapore and the United Kingdom\n",
      "\n",
      "----------------------------------- ABB -----------------------------------\n",
      "----------------------------------- 0001104659-17-015892 -----------------------------------\n",
      "data_key_friendly_name  :Other Employees\n",
      "\n",
      "text  :Total\n",
      "\n",
      "paragraph_text  :December 31,                                                                     2016             2015             2014   Europe                                                               61,400           61,600           63,000   The Americas                                                         29,000           30,900           32,200   Asia, Middle East and Africa                                         41,900           43,300           45,200   Total                                                               132,300          135,800          140,400\n",
      "\n",
      "----------------------------------- ABC -----------------------------------\n",
      "----------------------------------- 0001140859-16-000022 -----------------------------------\n",
      "data_key_friendly_name  :Full-Time Employees\n",
      "\n",
      "text  :full-time\n",
      "\n",
      "paragraph_text  :Employees   As of September 30, 2016, we had approximately 19,000 employees, of which approximately 18,000 were full-time   employees. Approximately 2% of our employees are covered by collective bargaining agreements. We believe that   our relationship with our employees is good. If any  of our employees in locations that are unionized  should   engage in strikes  or other  such bargaining tactics  in connection  with the negotiation  of new  collective   bargaining agreements upon  the expiration  of any existing  collective bargaining  agreements, such  tactics   could be disruptive to our operations and adversely affect our results of operations, but we believe we  have   adequate contingency plans in place to  assure delivery of pharmaceuticals to  our customers in the event  of   any such disruptions\n",
      "\n",
      "----------------------------------- ABC -----------------------------------\n",
      "----------------------------------- 0001140859-16-000022 -----------------------------------\n",
      "data_key_friendly_name  :Other Employees\n",
      "\n",
      "text  :employees\n",
      "\n",
      "paragraph_text  :Employees   As of September 30, 2016, we had approximately 19,000 employees, of which approximately 18,000 were full-time   employees. Approximately 2% of our employees are covered by collective bargaining agreements. We believe that   our relationship with our employees is good. If any  of our employees in locations that are unionized  should   engage in strikes  or other  such bargaining tactics  in connection  with the negotiation  of new  collective   bargaining agreements upon  the expiration  of any existing  collective bargaining  agreements, such  tactics   could be disruptive to our operations and adversely affect our results of operations, but we believe we  have   adequate contingency plans in place to  assure delivery of pharmaceuticals to  our customers in the event  of   any such disruptions\n",
      "\n",
      "----------------------------------- AAP -----------------------------------\n",
      "----------------------------------- 0001158449-17-000034 -----------------------------------\n",
      "data_key_friendly_name  :Full-Time Employees\n",
      "\n",
      "text  :full-time Team\n",
      "\n",
      "paragraph_text  :Team Members   As of February 23, 2017, we employed approximately 41,000 full-time Team Members and approximately 33,000   part-time Team Members. Our workforce consisted of 87% of our Team Members employed in store-level   operations, 9% employed in distribution and 4% employed in our corporate offices. As of February 23, 2017,   less than 1% of our Team Members were represented by labor unions. We have never experienced any labor   disruption. We believe that our Team Member relations are solid\n",
      "\n",
      "----------------------------------- AAP -----------------------------------\n",
      "----------------------------------- 0001158449-17-000034 -----------------------------------\n",
      "data_key_friendly_name  :Part-Time Employees\n",
      "\n",
      "text  :part-time Team Members\n",
      "\n",
      "paragraph_text  :Team Members   As of February 23, 2017, we employed approximately 41,000 full-time Team Members and approximately 33,000   part-time Team Members. Our workforce consisted of 87% of our Team Members employed in store-level   operations, 9% employed in distribution and 4% employed in our corporate offices. As of February 23, 2017,   less than 1% of our Team Members were represented by labor unions. We have never experienced any labor   disruption. We believe that our Team Member relations are solid\n",
      "\n",
      "----------------------------------- AAWW -----------------------------------\n",
      "----------------------------------- 0001193125-17-053796 -----------------------------------\n",
      "data_key_friendly_name  :Other Employees\n",
      "\n",
      "text  :employees\n",
      "\n",
      "paragraph_text  :Our business depends on highly qualified management, operations and flight personnel. As a percentage of our   consolidated operating expenses, salaries, wages and benefits accounted for approximately 25.4% in 2016,   20.7% in 2015 and 19.2% in 2014. As of December 31, 2016, we had 2,646 employees, 1,581 of whom were pilots\n",
      "\n",
      "----------------------------------- AABA -----------------------------------\n",
      "----------------------------------- 0001193125-17-065791 -----------------------------------\n",
      "data_key_friendly_name  :Full-Time Employees\n",
      "\n",
      "text  :full-time\n",
      "\n",
      "paragraph_text  :As of December  31, 2016,  we had approximately  8,500 full-time  employees and 600  contractors. Our  future   success is substantially dependent on the performance  of our senior management and key technical  personnel,   as well as our continuing ability to attract, maintain the caliber of, and retain highly qualified technical,   executive, and managerial personnel.  We remain committed  to our talented employees  and providing the  best   possible workplace culture for them. Additional information regarding certain risks related to our  employees   is included in Part I, Item 1A \"Risk Factors\" of  this Annual Report on Form 10-K and is incorporated  herein   by reference\n",
      "\n",
      "----------------------------------- AA -----------------------------------\n",
      "----------------------------------- 0001193125-17-083862 -----------------------------------\n",
      "data_key_friendly_name  :Other Employees\n",
      "\n",
      "text  :employees\n",
      "\n",
      "paragraph_text  :Alcoa's total worldwide employment at the end of 2016 was approximately 14,000 employees in 15 countries\n",
      "\n",
      "----------------------------------- ABCD -----------------------------------\n",
      "----------------------------------- 0001466815-17-000007 -----------------------------------\n",
      "data_key_friendly_name  :Full-Time Employees\n",
      "\n",
      "text  :full-time\n",
      "\n",
      "paragraph_text  :Employees   As of December 31, 2016, we had a total of 619 employees, including 565 full-time, 20 regularly scheduled   part-time employees, and 34 need-based part-time employees. We consider our current relationship with our   employees to be good. Our employees are not represented by labor unions and are not subject to collective   bargaining agreements\n",
      "\n",
      "----------------------------------- ABCD -----------------------------------\n",
      "----------------------------------- 0001466815-17-000007 -----------------------------------\n",
      "data_key_friendly_name  :Part-Time Employees\n",
      "\n",
      "text  :part-time\n",
      "\n",
      "paragraph_text  :Employees   As of December 31, 2016, we had a total of 619 employees, including 565 full-time, 20 regularly scheduled   part-time employees, and 34 need-based part-time employees. We consider our current relationship with our   employees to be good. Our employees are not represented by labor unions and are not subject to collective   bargaining agreements\n",
      "\n",
      "----------------------------------- ABCD -----------------------------------\n",
      "----------------------------------- 0001466815-17-000007 -----------------------------------\n",
      "data_key_friendly_name  :Part-Time Employees\n",
      "\n",
      "text  :part-time\n",
      "\n",
      "paragraph_text  :Employees   As of December 31, 2016, we had a total of 619 employees, including 565 full-time, 20 regularly scheduled   part-time employees, and 34 need-based part-time employees. We consider our current relationship with our   employees to be good. Our employees are not represented by labor unions and are not subject to collective   bargaining agreements\n",
      "\n",
      "----------------------------------- ABBV -----------------------------------\n",
      "----------------------------------- 0001551152-17-000004 -----------------------------------\n",
      "data_key_friendly_name  :Other Employees\n",
      "\n",
      "text  :employed\n",
      "\n",
      "paragraph_text  :Employees   AbbVie employed approximately 30,000 persons as of January 31, 2017. Outside the United States, some of   AbbVie's employees are represented by unions or works councils. AbbVie believes that it has good relations   with its employees\n",
      "\n",
      "----------------------------------- AAOI -----------------------------------\n",
      "----------------------------------- 0001558370-17-001556 -----------------------------------\n",
      "data_key_friendly_name  :Full-Time Employees\n",
      "\n",
      "text  :full-time\n",
      "\n",
      "paragraph_text  :As of December 31, 2016, we employed 2,776 full-time employees, of which 31 held Ph.D. degrees in a science   or engineering field. Of our employees, 287 are located in the U.S., 1,218 are located in Taiwan and 1,271   are located in China. None of our employees are represented by any collective bargaining agreement, but   certain employees of our China subsidiary are members of a trade union. We have never suffered any work   stoppage as a result of an employment related strike or any employee related dispute and believe that we have   satisfactory relations with our employees\n",
      "\n",
      "----------------------------------- AAC -----------------------------------\n",
      "----------------------------------- 0001564590-17-003590 -----------------------------------\n",
      "data_key_friendly_name  :Other Employees\n",
      "\n",
      "text  :employed\n",
      "\n",
      "paragraph_text  :As of December 31, 2016, we employed approximately 2,100 people. During 2016, employees at Sunrise House   voted to join the Health Professionals and Allied Employees (\"HPAE\") labor union. None of our other employees   are represented by a labor union or covered by a collective bargaining agreement. We believe that our   employee relations are good\n",
      "\n",
      "----------------------------------- ABM -----------------------------------\n",
      "----------------------------------- 0001628280-16-022122 -----------------------------------\n",
      "data_key_friendly_name  :Other Employees\n",
      "\n",
      "text  :employed\n",
      "\n",
      "paragraph_text  :Employees   As of October 31, 2016, we employed approximately 110,000 employees\n",
      "\n"
     ]
    }
   ],
   "source": [
    "print_row_detail(df=subset_df, nrow=20)"
   ]
  },
  {
   "cell_type": "code",
   "execution_count": 153,
   "metadata": {
    "ExecuteTime": {
     "end_time": "2018-06-22T01:20:03.971789Z",
     "start_time": "2018-06-22T01:20:03.965785Z"
    },
    "collapsed": true
   },
   "outputs": [
    {
     "data": {
      "text/plain": [
       "0     0001090872-16-000082\n",
       "1     0001193125-17-083862\n",
       "2     0001193125-17-065791\n",
       "3     0001564590-17-003590\n",
       "4     0000706688-17-000030\n",
       "5     0001558370-17-001556\n",
       "6     0000824142-17-000034\n",
       "7     0001158449-17-000034\n",
       "8     0001158449-17-000034\n",
       "9     0001193125-17-053796\n",
       "10    0001069183-17-000042\n",
       "11    0001069183-17-000042\n",
       "12    0001104659-17-015892\n",
       "13    0001551152-17-000004\n",
       "14    0001140859-16-000022\n",
       "15    0001140859-16-000022\n",
       "16    0001466815-17-000007\n",
       "17    0001466815-17-000007\n",
       "18    0001466815-17-000007\n",
       "19    0001628280-16-022122\n",
       "Name: accession_number, dtype: object"
      ]
     },
     "execution_count": 153,
     "metadata": {},
     "output_type": "execute_result"
    }
   ],
   "source": [
    "subset_df.accession_number"
   ]
  },
  {
   "cell_type": "code",
   "execution_count": 151,
   "metadata": {
    "ExecuteTime": {
     "end_time": "2018-06-22T01:09:19.590116Z",
     "start_time": "2018-06-22T01:09:19.580110Z"
    }
   },
   "outputs": [
    {
     "data": {
      "text/plain": [
       "data_key_friendly_name  text                  \n",
       "Full-Time Employees     full-time                 5\n",
       "                        full-time Team            1\n",
       "Other Employees         employees                 5\n",
       "                        employed                  4\n",
       "                        Total                     1\n",
       "                        temporary                 1\n",
       "Part-Time Employees     part-time                 2\n",
       "                        part-time Team Members    1\n",
       "Name: text, dtype: int64"
      ]
     },
     "execution_count": 151,
     "metadata": {},
     "output_type": "execute_result"
    }
   ],
   "source": [
    "subset_df.groupby('data_key_friendly_name').text.value_counts()"
   ]
  },
  {
   "cell_type": "code",
   "execution_count": 7,
   "metadata": {
    "ExecuteTime": {
     "end_time": "2018-06-27T00:43:18.632193Z",
     "start_time": "2018-06-27T00:43:18.381644Z"
    }
   },
   "outputs": [],
   "source": [
    "subset_file_list = [PurePath(os.getcwd()).joinpath('../employee_filings/').joinpath(file) for file in full_file_list if PurePath(file).stem.replace('.html', '') in subset_df.accession_number.unique().tolist()]"
   ]
  },
  {
   "cell_type": "code",
   "execution_count": 289,
   "metadata": {
    "ExecuteTime": {
     "end_time": "2018-06-27T19:26:54.776829Z",
     "start_time": "2018-06-27T19:26:54.770825Z"
    }
   },
   "outputs": [],
   "source": [
    "emp_pat_list = [r\"^(Employees|Team Members)$\",\n",
    "r\"([0-9]{1,3},)*[0-9]{1,3}( |\\n)((permanent|full-time|part-time|temporary|total)( |\\n))*(employees|people|team members|members)\",\n",
    "r\"employ((ed|s)?)?( |\\n)(approximately( |\\n))?([0-9]{1,3},)*[0-9]{1,3}( |\\n)((permanent|full-time|part-time|temporary)( |\\n))?(employees|people|team members|members|persons|associates)\", \n",
    "r\"employed(( |\\n)approximately)?$\", \n",
    "r\"Total workforce\",\n",
    "r\"((permanent|full|part|time|full-time|part-time|temporary)( |\\n))+(employees|team members|associates)\",\n",
    "r\"^((permanent|full|part|time|full-time|part-time|temporary|total)( |\\n))*(employees|team members|associates)\"]\n",
    "emp_pats = [re.compile(x, re.I) for x in emp_pat_list]"
   ]
  },
  {
   "cell_type": "code",
   "execution_count": 9,
   "metadata": {
    "ExecuteTime": {
     "end_time": "2018-06-27T00:43:26.480181Z",
     "start_time": "2018-06-27T00:43:26.469174Z"
    }
   },
   "outputs": [
    {
     "data": {
      "text/plain": [
       "PureWindowsPath('c:/projects/DSBC/capstone/sec_employee_information_extraction/../employee_filings/0001140859-16-000022.html.gz')"
      ]
     },
     "execution_count": 9,
     "metadata": {},
     "output_type": "execute_result"
    }
   ],
   "source": [
    "subset_file_list[5]"
   ]
  },
  {
   "cell_type": "code",
   "execution_count": 92,
   "metadata": {
    "ExecuteTime": {
     "end_time": "2018-06-27T01:36:08.765815Z",
     "start_time": "2018-06-27T01:36:05.257737Z"
    }
   },
   "outputs": [],
   "source": [
    "with gzip.open(subset_file_list[2], mode='rt', encoding=\"utf8\") as file: \n",
    "            file1_html = file.read()\n",
    "            soup1 = bs(file1_html, 'lxml')\n",
    "soup1_emp_count = soup1.find_all(string=[emp_pats])"
   ]
  },
  {
   "cell_type": "code",
   "execution_count": 12,
   "metadata": {
    "ExecuteTime": {
     "end_time": "2018-06-27T00:49:37.603925Z",
     "start_time": "2018-06-27T00:49:33.948317Z"
    }
   },
   "outputs": [],
   "source": [
    "with gzip.open(subset_file_list[12], mode='rt', encoding=\"utf8\") as file: \n",
    "            file2_html = file.read()\n",
    "            soup2 = bs(file2_html, 'lxml')\n",
    "soup2_emp_count = soup2.find_all(string=[emp_pats])"
   ]
  },
  {
   "cell_type": "code",
   "execution_count": 139,
   "metadata": {
    "ExecuteTime": {
     "end_time": "2018-06-27T14:04:31.707019Z",
     "start_time": "2018-06-27T14:04:27.260043Z"
    }
   },
   "outputs": [],
   "source": [
    "with gzip.open(subset_file_list[11], mode='rt', encoding=\"utf8\") as file: \n",
    "            file3_html = file.read()\n",
    "            soup3 = bs(file3_html, 'lxml')\n",
    "soup3_emp_count = soup3.find_all(string=[emp_pats])"
   ]
  },
  {
   "cell_type": "code",
   "execution_count": 216,
   "metadata": {
    "ExecuteTime": {
     "end_time": "2018-06-27T16:53:17.455392Z",
     "start_time": "2018-06-27T16:53:00.354948Z"
    }
   },
   "outputs": [],
   "source": [
    "with open(html_path_list[4], encoding=\"utf8\") as file: \n",
    "            file4_html = file.read()\n",
    "            soup4 = bs(file4_html, 'lxml')\n",
    "soup4_emp_count = soup4.find_all(string=[emp_pats])"
   ]
  },
  {
   "cell_type": "code",
   "execution_count": 217,
   "metadata": {
    "ExecuteTime": {
     "end_time": "2018-06-27T16:53:24.431893Z",
     "start_time": "2018-06-27T16:53:24.427889Z"
    }
   },
   "outputs": [
    {
     "data": {
      "text/plain": [
       "['At AIG, we\\nbelieve that a major strength of ours is the quality and dedication of our people. At December 31, 2016 and\\n2015, we had approximately 56,400 and 66,400 employees, respectively. We believe that our relations with our\\nemployees are satisfactory.',\n",
       " 'employees',\n",
       " 'Employed']"
      ]
     },
     "execution_count": 217,
     "metadata": {},
     "output_type": "execute_result"
    }
   ],
   "source": [
    "soup4_emp_count[0]"
   ]
  },
  {
   "cell_type": "code",
   "execution_count": 184,
   "metadata": {
    "ExecuteTime": {
     "end_time": "2018-06-27T16:28:31.624906Z",
     "start_time": "2018-06-27T16:28:31.620903Z"
    }
   },
   "outputs": [
    {
     "data": {
      "text/plain": [
       "'c:/projects/DSBC/capstone/sec_employee_information_extraction/../employee_filings/0000003570-17-000052.html.gz'"
      ]
     },
     "execution_count": 184,
     "metadata": {},
     "output_type": "execute_result"
    }
   ],
   "source": [
    "full_path_list[0]"
   ]
  },
  {
   "cell_type": "code",
   "execution_count": 244,
   "metadata": {
    "ExecuteTime": {
     "end_time": "2018-06-27T17:46:17.312984Z",
     "start_time": "2018-06-27T17:46:10.432093Z"
    }
   },
   "outputs": [],
   "source": [
    "with open(html_path_list[24], encoding=\"utf8\") as file: \n",
    "            file0_html = file.read()\n",
    "            soup0 = bs(file0_html, 'lxml')\n",
    "soup0_emp_count = soup0.find_all(string=[emp_pats])"
   ]
  },
  {
   "cell_type": "code",
   "execution_count": 275,
   "metadata": {
    "ExecuteTime": {
     "end_time": "2018-06-27T18:01:05.898219Z",
     "start_time": "2018-06-27T18:01:05.223190Z"
    }
   },
   "outputs": [
    {
     "data": {
      "text/plain": [
       "[<div class=\"c106\"></div>,\n",
       " <div class=\"c71\"><span class=\"c73\">We have approximately 25,000 employees as of December 31,</span>\n",
       " <span class=\"c73\">2016</span><span class=\"c73\">.</span></div>,\n",
       " <div><a id=\"sD00DD6DDD08DA54E10480FFA5CAA1F4F\" name=\"sD00DD6DDD08DA54E10480FFA5CAA1F4F\"></a></div>,\n",
       " <div class=\"c1\"></div>,\n",
       " <div class=\"c70\">Foreign Operations</div>]"
      ]
     },
     "execution_count": 275,
     "metadata": {},
     "output_type": "execute_result"
    }
   ],
   "source": [
    "soup0.find_all(string=emp_head)[1].find_parent(block_re).find_next_siblings(block_re, limit=5)#[1].find(string=emp_pats)\n",
    "#.next_sibling.next_sibling#.next_sibling.next_sibling\n"
   ]
  },
  {
   "cell_type": "code",
   "execution_count": 263,
   "metadata": {
    "ExecuteTime": {
     "end_time": "2018-06-27T17:56:22.945909Z",
     "start_time": "2018-06-27T17:56:22.940906Z"
    }
   },
   "outputs": [
    {
     "data": {
      "text/plain": [
       "<div class=\"c70\">Employees</div>"
      ]
     },
     "execution_count": 263,
     "metadata": {},
     "output_type": "execute_result"
    }
   ],
   "source": [
    "soup0_emp_count[2].find_parent(block_re).next_sibling.next_sibling.next_sibling.next_sibling"
   ]
  },
  {
   "cell_type": "code",
   "execution_count": 256,
   "metadata": {
    "ExecuteTime": {
     "end_time": "2018-06-27T17:51:14.258910Z",
     "start_time": "2018-06-27T17:51:14.253908Z"
    }
   },
   "outputs": [
    {
     "data": {
      "text/plain": [
       "'We have approximately 25,000 employees as of December 31,'"
      ]
     },
     "execution_count": 256,
     "metadata": {},
     "output_type": "execute_result"
    }
   ],
   "source": [
    "soup0_emp_count[2].find_parent(block_re).find_next_siblings(block_re, limit=2)[1].find(string=emp_pats)"
   ]
  },
  {
   "cell_type": "code",
   "execution_count": 140,
   "metadata": {
    "ExecuteTime": {
     "end_time": "2018-06-27T14:04:33.336707Z",
     "start_time": "2018-06-27T14:04:33.331704Z"
    },
    "scrolled": true
   },
   "outputs": [
    {
     "data": {
      "text/plain": [
       "3"
      ]
     },
     "execution_count": 140,
     "metadata": {},
     "output_type": "execute_result"
    }
   ],
   "source": [
    "len(soup3_emp_count)"
   ]
  },
  {
   "cell_type": "code",
   "execution_count": 28,
   "metadata": {
    "ExecuteTime": {
     "end_time": "2018-06-27T00:54:33.492867Z",
     "start_time": "2018-06-27T00:54:33.489864Z"
    }
   },
   "outputs": [],
   "source": [
    "emp_tag4 = `"
   ]
  },
  {
   "cell_type": "code",
   "execution_count": 141,
   "metadata": {
    "ExecuteTime": {
     "end_time": "2018-06-27T14:04:43.807723Z",
     "start_time": "2018-06-27T14:04:43.803720Z"
    }
   },
   "outputs": [
    {
     "data": {
      "text/plain": [
       "['Employees',\n",
       " \"AbbVie employed approximately 30,000 persons as of January 31, 2017. Outside the United\\nStates, some of AbbVie's employees are represented by unions or works councils. AbbVie believes that it has\\ngood relations with its employees.\",\n",
       " \"AbbVie's products are generally sold worldwide directly to wholesalers, distributors,\\ngovernment agencies, health care facilities, specialty pharmacies and independent retailers from AbbVie-owned\\ndistribution centers and public warehouses. In the United States, AbbVie distributes pharmaceutical products\\nprincipally through independent wholesale distributors, with some sales directly to pharmacies and patients.\\nOutside the United States, sales are made either directly to customers or through distributors, depending on\\nthe market served. Certain products are co-marketed or co-promoted with other companies. AbbVie has\\napproximately 30,000 employees. AbbVie operates in one business segment-pharmaceutical products.\"]"
      ]
     },
     "execution_count": 141,
     "metadata": {},
     "output_type": "execute_result"
    }
   ],
   "source": [
    "soup3_emp_count#[0].find_parent(block_re).next_sibling.next_sibling"
   ]
  },
  {
   "cell_type": "code",
   "execution_count": 42,
   "metadata": {
    "ExecuteTime": {
     "end_time": "2018-06-27T01:02:13.450129Z",
     "start_time": "2018-06-27T01:02:13.447127Z"
    }
   },
   "outputs": [],
   "source": [
    "emp_tag2 = soup2_emp_count[1]"
   ]
  },
  {
   "cell_type": "code",
   "execution_count": 58,
   "metadata": {
    "ExecuteTime": {
     "end_time": "2018-06-27T01:15:46.750028Z",
     "start_time": "2018-06-27T01:15:46.745026Z"
    }
   },
   "outputs": [
    {
     "data": {
      "text/plain": [
       "<span class=\"c58\">Employees</span>"
      ]
     },
     "execution_count": 58,
     "metadata": {},
     "output_type": "execute_result"
    }
   ],
   "source": [
    "emp_tag2.parent"
   ]
  },
  {
   "cell_type": "code",
   "execution_count": 51,
   "metadata": {
    "ExecuteTime": {
     "end_time": "2018-06-27T01:11:00.136122Z",
     "start_time": "2018-06-27T01:11:00.132120Z"
    },
    "collapsed": true
   },
   "outputs": [
    {
     "data": {
      "text/plain": [
       "['As of December 31, 2016, we had a total of 276 employees working in the\\nR&D department, including 16 with Ph.D. degrees. We continue to recruit talented engineers to further\\nenhance our research and development capabilities. We have research and development departments in our\\nfacilities in Texas, Georgia, China and Taiwan. Our research and development teams collaborate on joint\\nprojects, and by co-locating with our manufacturing operations enable us to achieve an efficient cost structure\\nand improve our time to market.',\n",
       " 'Employees',\n",
       " 'As of December 31, 2016, we employed 2,776 full-time employees, of which 31\\nheld Ph.D. degrees in a science or engineering field. Of our employees, 287 are located in the U.S., 1,218 are\\nlocated in Taiwan and 1,271 are located in China. None of our employees are represented by any collective\\nbargaining agreement, but certain employees of our China subsidiary are members of a trade union. We have never\\nsuffered any work stoppage as a result of an employment related strike or any employee related dispute and\\nbelieve that we have satisfactory relations with our employees.',\n",
       " \"Employees of Global participate in a state-mandated social security program in\\nChina. Under this program, pension costs are recorded on the basis of required monthly contributions to\\nemployees' individual accounts during their service periods. Under the regulations of the People's Republic of\\nChina, Global is required to make fixed contributions to a fund, which is under the administration of the local\\nlabor departments.\",\n",
       " \"Employees of the Company's Taiwan branch participate in a pension program\\nunder the Taiwan Labor Pension Act. Pension expense for Global was $0.6 million, $0.3 million and $0.4 million\\nin the years ended for the year ended December 31, 2016, 2015 and 2014, respectively. Pension expense for the\\nCompany's Taiwan branch was $0.8 million, $0.6 million and $0.4 million for the years ended December 31, 2016,\\n2015 and 2014, respectively.\"]"
      ]
     },
     "execution_count": 51,
     "metadata": {},
     "output_type": "execute_result"
    }
   ],
   "source": [
    "soup2_emp_count"
   ]
  },
  {
   "cell_type": "code",
   "execution_count": 107,
   "metadata": {
    "ExecuteTime": {
     "end_time": "2018-06-27T01:44:39.371187Z",
     "start_time": "2018-06-27T01:44:39.342168Z"
    },
    "collapsed": true
   },
   "outputs": [
    {
     "data": {
      "text/plain": [
       "<div class=\"c101\">\n",
       "<table border=\"0\" cellpadding=\"0\" cellspacing=\"0\" class=\"c23\">\n",
       "<tr class=\"c89\" height=\"16\">\n",
       "<td class=\"c88\" height=\"16\" nowrap=\"nowrap\" valign=\"bottom\" width=\"60%\">\n",
       "<p class=\"c80\"></p>\n",
       "</td>\n",
       "<td class=\"c87\" colspan=\"5\" height=\"16\" nowrap=\"nowrap\" valign=\"bottom\" width=\"40%\">\n",
       "<p class=\"c86\"><span class=\"c83\">December 31,</span></p>\n",
       "</td>\n",
       "</tr>\n",
       "<tr class=\"c89\" height=\"16\">\n",
       "<td class=\"c88\" height=\"16\" valign=\"bottom\" width=\"60%\">\n",
       "<p class=\"c80\"></p>\n",
       "</td>\n",
       "<td class=\"c87\" height=\"16\" valign=\"bottom\" width=\"12%\">\n",
       "<p class=\"c86\"><span class=\"c83\">2016</span></p>\n",
       "</td>\n",
       "<td class=\"c218\" height=\"16\" valign=\"bottom\" width=\"2%\">\n",
       "<p class=\"c39\"></p>\n",
       "</td>\n",
       "<td class=\"c219\" height=\"16\" valign=\"bottom\" width=\"12%\">\n",
       "<p class=\"c86\"><span class=\"c83\">2015</span></p>\n",
       "</td>\n",
       "<td class=\"c218\" height=\"16\" valign=\"bottom\" width=\"2%\">\n",
       "<p class=\"c39\"></p>\n",
       "</td>\n",
       "<td class=\"c219\" height=\"16\" valign=\"bottom\" width=\"12%\">\n",
       "<p class=\"c86\"><span class=\"c83\">2014</span></p>\n",
       "</td>\n",
       "</tr>\n",
       "<tr class=\"c89\" height=\"16\">\n",
       "<td class=\"c90\" height=\"16\" valign=\"bottom\" width=\"60%\">\n",
       "<p class=\"c97\"><span class=\"c77\">Europe</span></p>\n",
       "</td>\n",
       "<td class=\"c270\" height=\"16\" valign=\"bottom\" width=\"12%\">\n",
       "<p class=\"c98\"><span class=\"c77\">61,400</span></p>\n",
       "</td>\n",
       "<td class=\"c93\" height=\"16\" valign=\"bottom\" width=\"2%\">\n",
       "<p class=\"c40\"></p>\n",
       "</td>\n",
       "<td class=\"c270\" height=\"16\" valign=\"bottom\" width=\"12%\">\n",
       "<p class=\"c98\"><span class=\"c77\">61,600</span></p>\n",
       "</td>\n",
       "<td class=\"c93\" height=\"16\" valign=\"bottom\" width=\"2%\">\n",
       "<p class=\"c40\"></p>\n",
       "</td>\n",
       "<td class=\"c270\" height=\"16\" valign=\"bottom\" width=\"12%\">\n",
       "<p class=\"c98\"><span class=\"c77\">63,000</span></p>\n",
       "</td>\n",
       "</tr>\n",
       "<tr class=\"c89\" height=\"16\">\n",
       "<td class=\"c94\" height=\"16\" valign=\"bottom\" width=\"60%\">\n",
       "<p class=\"c97\"><span class=\"c77\">The Americas</span></p>\n",
       "</td>\n",
       "<td class=\"c273\" height=\"16\" valign=\"bottom\" width=\"12%\">\n",
       "<p class=\"c98\"><span class=\"c77\">29,000</span></p>\n",
       "</td>\n",
       "<td class=\"c95\" height=\"16\" valign=\"bottom\" width=\"2%\">\n",
       "<p class=\"c40\"></p>\n",
       "</td>\n",
       "<td class=\"c273\" height=\"16\" valign=\"bottom\" width=\"12%\">\n",
       "<p class=\"c98\"><span class=\"c77\">30,900</span></p>\n",
       "</td>\n",
       "<td class=\"c95\" height=\"16\" valign=\"bottom\" width=\"2%\">\n",
       "<p class=\"c40\"></p>\n",
       "</td>\n",
       "<td class=\"c273\" height=\"16\" valign=\"bottom\" width=\"12%\">\n",
       "<p class=\"c98\"><span class=\"c77\">32,200</span></p>\n",
       "</td>\n",
       "</tr>\n",
       "<tr class=\"c89\" height=\"16\">\n",
       "<td class=\"c90\" height=\"16\" valign=\"bottom\" width=\"60%\">\n",
       "<p class=\"c97\"><span class=\"c77\">Asia, Middle East and Africa</span></p>\n",
       "</td>\n",
       "<td class=\"c274\" height=\"16\" valign=\"bottom\" width=\"12%\">\n",
       "<p class=\"c98\"><span class=\"c77\">41,900</span></p>\n",
       "</td>\n",
       "<td class=\"c93\" height=\"16\" valign=\"bottom\" width=\"2%\">\n",
       "<p class=\"c40\"></p>\n",
       "</td>\n",
       "<td class=\"c274\" height=\"16\" valign=\"bottom\" width=\"12%\">\n",
       "<p class=\"c98\"><span class=\"c77\">43,300</span></p>\n",
       "</td>\n",
       "<td class=\"c93\" height=\"16\" valign=\"bottom\" width=\"2%\">\n",
       "<p class=\"c40\"></p>\n",
       "</td>\n",
       "<td class=\"c274\" height=\"16\" valign=\"bottom\" width=\"12%\">\n",
       "<p class=\"c98\"><span class=\"c77\">45,200</span></p>\n",
       "</td>\n",
       "</tr>\n",
       "<tr class=\"c89\" height=\"16\">\n",
       "<td class=\"c94\" height=\"16\" valign=\"bottom\" width=\"60%\">\n",
       "<p class=\"c78\"><span class=\"c77\">Total</span></p>\n",
       "</td>\n",
       "<td class=\"c275\" height=\"16\" valign=\"bottom\" width=\"12%\">\n",
       "<p class=\"c91\"><span class=\"c77\">132,300</span></p>\n",
       "</td>\n",
       "<td class=\"c95\" height=\"16\" valign=\"bottom\" width=\"2%\">\n",
       "<p class=\"c40\"></p>\n",
       "</td>\n",
       "<td class=\"c275\" height=\"16\" valign=\"bottom\" width=\"12%\">\n",
       "<p class=\"c91\"><span class=\"c77\">135,800</span></p>\n",
       "</td>\n",
       "<td class=\"c95\" height=\"16\" valign=\"bottom\" width=\"2%\">\n",
       "<p class=\"c40\"></p>\n",
       "</td>\n",
       "<td class=\"c275\" height=\"16\" valign=\"bottom\" width=\"12%\">\n",
       "<p class=\"c91\"><span class=\"c77\">140,400</span></p>\n",
       "</td>\n",
       "</tr>\n",
       "</table>\n",
       "</div>"
      ]
     },
     "execution_count": 107,
     "metadata": {},
     "output_type": "execute_result"
    }
   ],
   "source": [
    "soup4_emp_count[12].find_parent(name=block_re).next_sibling.next_sibling.next_sibling.next_sibling.next_sibling.next_sibling"
   ]
  },
  {
   "cell_type": "code",
   "execution_count": 115,
   "metadata": {
    "ExecuteTime": {
     "end_time": "2018-06-21T23:18:04.448131Z",
     "start_time": "2018-06-21T23:18:03.029552Z"
    }
   },
   "outputs": [],
   "source": [
    "soup2_emp_count_body = soup2.body.find_all(string=[emp_pats])"
   ]
  },
  {
   "cell_type": "code",
   "execution_count": 52,
   "metadata": {
    "ExecuteTime": {
     "end_time": "2018-06-27T01:12:13.757534Z",
     "start_time": "2018-06-27T01:12:13.754531Z"
    }
   },
   "outputs": [],
   "source": [
    "emp2_tag = soup2_emp_count[1].parent"
   ]
  },
  {
   "cell_type": "code",
   "execution_count": null,
   "metadata": {},
   "outputs": [],
   "source": [
    "emp_tag.parent.next_sibling.next_sibling.next_sibling.next_sibling.next_sibling.next_sibling.table"
   ]
  },
  {
   "cell_type": "code",
   "execution_count": 187,
   "metadata": {
    "ExecuteTime": {
     "end_time": "2018-06-22T02:09:33.037102Z",
     "start_time": "2018-06-22T02:09:33.033099Z"
    }
   },
   "outputs": [
    {
     "data": {
      "text/plain": [
       "'p'"
      ]
     },
     "execution_count": 187,
     "metadata": {},
     "output_type": "execute_result"
    }
   ],
   "source": [
    "emp_tag.parent.name"
   ]
  },
  {
   "cell_type": "code",
   "execution_count": 236,
   "metadata": {
    "ExecuteTime": {
     "end_time": "2018-06-25T16:07:19.949517Z",
     "start_time": "2018-06-25T16:07:19.942512Z"
    }
   },
   "outputs": [
    {
     "data": {
      "text/plain": [
       "<span class=\"c65\">EMPLOYEES</span>"
      ]
     },
     "execution_count": 236,
     "metadata": {},
     "output_type": "execute_result"
    }
   ],
   "source": [
    "soup3_emp_count[0].parent.next_sibling.next_sibling"
   ]
  },
  {
   "cell_type": "code",
   "execution_count": 235,
   "metadata": {
    "ExecuteTime": {
     "end_time": "2018-06-25T16:05:21.354311Z",
     "start_time": "2018-06-25T16:05:21.342304Z"
    }
   },
   "outputs": [
    {
     "name": "stdout",
     "output_type": "stream",
     "text": [
      "0\n",
      "<p class=\"c68\"><span class=\"c67\">A breakdown of our employees by geographic region is as follows:</span></p>\n",
      "1\n",
      "<p class=\"c102\"></p>\n",
      "2\n",
      "<div class=\"c101\">\n",
      "<table border=\"0\" cellpadding=\"0\" cellspacing=\"0\" class=\"c23\">\n",
      "<tr class=\"c89\" height=\"16\">\n",
      "<td class=\"c88\" height=\"16\" nowrap=\"nowrap\" valign=\"bottom\" width=\"60%\">\n",
      "<p class=\"c80\"></p>\n",
      "</td>\n",
      "<td class=\"c87\" colspan=\"5\" height=\"16\" nowrap=\"nowrap\" valign=\"bottom\" width=\"40%\">\n",
      "<p class=\"c86\"><span class=\"c83\">December 31,</span></p>\n",
      "</td>\n",
      "</tr>\n",
      "<tr class=\"c89\" height=\"16\">\n",
      "<td class=\"c88\" height=\"16\" valign=\"bottom\" width=\"60%\">\n",
      "<p class=\"c80\"></p>\n",
      "</td>\n",
      "<td class=\"c87\" height=\"16\" valign=\"bottom\" width=\"12%\">\n",
      "<p class=\"c86\"><span class=\"c83\">2016</span></p>\n",
      "</td>\n",
      "<td class=\"c218\" height=\"16\" valign=\"bottom\" width=\"2%\">\n",
      "<p class=\"c39\"></p>\n",
      "</td>\n",
      "<td class=\"c219\" height=\"16\" valign=\"bottom\" width=\"12%\">\n",
      "<p class=\"c86\"><span class=\"c83\">2015</span></p>\n",
      "</td>\n",
      "<td class=\"c218\" height=\"16\" valign=\"bottom\" width=\"2%\">\n",
      "<p class=\"c39\"></p>\n",
      "</td>\n",
      "<td class=\"c219\" height=\"16\" valign=\"bottom\" width=\"12%\">\n",
      "<p class=\"c86\"><span class=\"c83\">2014</span></p>\n",
      "</td>\n",
      "</tr>\n",
      "<tr class=\"c89\" height=\"16\">\n",
      "<td class=\"c90\" height=\"16\" valign=\"bottom\" width=\"60%\">\n",
      "<p class=\"c97\"><span class=\"c77\">Europe</span></p>\n",
      "</td>\n",
      "<td class=\"c270\" height=\"16\" valign=\"bottom\" width=\"12%\">\n",
      "<p class=\"c98\"><span class=\"c77\">61,400</span></p>\n",
      "</td>\n",
      "<td class=\"c93\" height=\"16\" valign=\"bottom\" width=\"2%\">\n",
      "<p class=\"c40\"></p>\n",
      "</td>\n",
      "<td class=\"c270\" height=\"16\" valign=\"bottom\" width=\"12%\">\n",
      "<p class=\"c98\"><span class=\"c77\">61,600</span></p>\n",
      "</td>\n",
      "<td class=\"c93\" height=\"16\" valign=\"bottom\" width=\"2%\">\n",
      "<p class=\"c40\"></p>\n",
      "</td>\n",
      "<td class=\"c270\" height=\"16\" valign=\"bottom\" width=\"12%\">\n",
      "<p class=\"c98\"><span class=\"c77\">63,000</span></p>\n",
      "</td>\n",
      "</tr>\n",
      "<tr class=\"c89\" height=\"16\">\n",
      "<td class=\"c94\" height=\"16\" valign=\"bottom\" width=\"60%\">\n",
      "<p class=\"c97\"><span class=\"c77\">The Americas</span></p>\n",
      "</td>\n",
      "<td class=\"c273\" height=\"16\" valign=\"bottom\" width=\"12%\">\n",
      "<p class=\"c98\"><span class=\"c77\">29,000</span></p>\n",
      "</td>\n",
      "<td class=\"c95\" height=\"16\" valign=\"bottom\" width=\"2%\">\n",
      "<p class=\"c40\"></p>\n",
      "</td>\n",
      "<td class=\"c273\" height=\"16\" valign=\"bottom\" width=\"12%\">\n",
      "<p class=\"c98\"><span class=\"c77\">30,900</span></p>\n",
      "</td>\n",
      "<td class=\"c95\" height=\"16\" valign=\"bottom\" width=\"2%\">\n",
      "<p class=\"c40\"></p>\n",
      "</td>\n",
      "<td class=\"c273\" height=\"16\" valign=\"bottom\" width=\"12%\">\n",
      "<p class=\"c98\"><span class=\"c77\">32,200</span></p>\n",
      "</td>\n",
      "</tr>\n",
      "<tr class=\"c89\" height=\"16\">\n",
      "<td class=\"c90\" height=\"16\" valign=\"bottom\" width=\"60%\">\n",
      "<p class=\"c97\"><span class=\"c77\">Asia, Middle East and Africa</span></p>\n",
      "</td>\n",
      "<td class=\"c274\" height=\"16\" valign=\"bottom\" width=\"12%\">\n",
      "<p class=\"c98\"><span class=\"c77\">41,900</span></p>\n",
      "</td>\n",
      "<td class=\"c93\" height=\"16\" valign=\"bottom\" width=\"2%\">\n",
      "<p class=\"c40\"></p>\n",
      "</td>\n",
      "<td class=\"c274\" height=\"16\" valign=\"bottom\" width=\"12%\">\n",
      "<p class=\"c98\"><span class=\"c77\">43,300</span></p>\n",
      "</td>\n",
      "<td class=\"c93\" height=\"16\" valign=\"bottom\" width=\"2%\">\n",
      "<p class=\"c40\"></p>\n",
      "</td>\n",
      "<td class=\"c274\" height=\"16\" valign=\"bottom\" width=\"12%\">\n",
      "<p class=\"c98\"><span class=\"c77\">45,200</span></p>\n",
      "</td>\n",
      "</tr>\n",
      "<tr class=\"c89\" height=\"16\">\n",
      "<td class=\"c94\" height=\"16\" valign=\"bottom\" width=\"60%\">\n",
      "<p class=\"c78\"><span class=\"c77\">Total</span></p>\n",
      "</td>\n",
      "<td class=\"c275\" height=\"16\" valign=\"bottom\" width=\"12%\">\n",
      "<p class=\"c91\"><span class=\"c77\">132,300</span></p>\n",
      "</td>\n",
      "<td class=\"c95\" height=\"16\" valign=\"bottom\" width=\"2%\">\n",
      "<p class=\"c40\"></p>\n",
      "</td>\n",
      "<td class=\"c275\" height=\"16\" valign=\"bottom\" width=\"12%\">\n",
      "<p class=\"c91\"><span class=\"c77\">135,800</span></p>\n",
      "</td>\n",
      "<td class=\"c95\" height=\"16\" valign=\"bottom\" width=\"2%\">\n",
      "<p class=\"c40\"></p>\n",
      "</td>\n",
      "<td class=\"c275\" height=\"16\" valign=\"bottom\" width=\"12%\">\n",
      "<p class=\"c91\"><span class=\"c77\">140,400</span></p>\n",
      "</td>\n",
      "</tr>\n",
      "</table>\n",
      "</div>\n",
      "3\n",
      "<p class=\"c75\"></p>\n",
      "4\n",
      "<p class=\"c216\"><span class=\"c67\">The proportion of our employees that are represented by labor unions or are\n",
      "the subject of collective bargaining agreements varies based on the labor practices of each country in which we\n",
      "operate.</span></p>\n",
      "5\n",
      "<p class=\"c75\"></p>\n"
     ]
    }
   ],
   "source": [
    "block_re = re.compile(r\"p|div|table\")\n",
    "for i, v in enumerate(emp_tag.parent.find_next_siblings(block_re, limit=6)):\n",
    "    print(i)\n",
    "    print(v)"
   ]
  },
  {
   "cell_type": "code",
   "execution_count": 241,
   "metadata": {
    "ExecuteTime": {
     "end_time": "2018-06-26T23:07:15.134433Z",
     "start_time": "2018-06-26T23:07:15.130431Z"
    }
   },
   "outputs": [
    {
     "name": "stdout",
     "output_type": "stream",
     "text": [
      "<class 'bs4.element.Tag'>\n"
     ]
    }
   ],
   "source": [
    "for i, v in enumerate(emp2_tag.find_next_siblings(block_re, limit = 1, string=False)):\n",
    "    if v.find()\n",
    "\n",
    "#.find(string=[emp_pats]).parent"
   ]
  },
  {
   "cell_type": "markdown",
   "metadata": {},
   "source": [
    "Examples of employee count data in HTML"
   ]
  },
  {
   "cell_type": "markdown",
   "metadata": {},
   "source": [
    "view-source:file:///C:/projects/DSBC/capstone/subset_filings/0001090872-16-000082.html"
   ]
  },
  {
   "cell_type": "code",
   "execution_count": 136,
   "metadata": {
    "ExecuteTime": {
     "end_time": "2018-06-22T00:36:40.175828Z",
     "start_time": "2018-06-22T00:36:40.167824Z"
    }
   },
   "outputs": [],
   "source": [
    "def show_str_context(search_str: str, in_string: str, char_before: int=500, char_after: int=2000, match_num: int=0):\n",
    "    sub_idx = in_string.find(search_str) \n",
    "    len_offset = len(search_str)\n",
    "    if match_num:\n",
    "        idx = sub_idx\n",
    "        for i in range(match_num):\n",
    "            idx = in_string.find(search_str, idx + len_offset)\n",
    "        sub_idx = idx\n",
    "    context_beg = max(sub_idx - char_before, 0)\n",
    "    context_end = sub_idx + len_offset + char_after\n",
    "    return in_string[context_beg:context_end]   "
   ]
  },
  {
   "cell_type": "code",
   "execution_count": 125,
   "metadata": {
    "ExecuteTime": {
     "end_time": "2018-06-22T00:13:42.996373Z",
     "start_time": "2018-06-22T00:13:42.960349Z"
    }
   },
   "outputs": [
    {
     "data": {
      "text/plain": [
       "34173"
      ]
     },
     "execution_count": 125,
     "metadata": {},
     "output_type": "execute_result"
    }
   ],
   "source": [
    "soup2.body.text.find('bargaining agreements. We believe that our relationship with our employees is good.') "
   ]
  },
  {
   "cell_type": "code",
   "execution_count": 200,
   "metadata": {
    "ExecuteTime": {
     "end_time": "2018-06-22T17:15:18.290446Z",
     "start_time": "2018-06-22T17:15:18.262428Z"
    }
   },
   "outputs": [],
   "source": [
    " with gzip.open(subset_file_list[0], mode='rt', encoding=\"utf8\") as file: \n",
    "            file3_html = file.read()"
   ]
  },
  {
   "cell_type": "code",
   "execution_count": 198,
   "metadata": {
    "ExecuteTime": {
     "end_time": "2018-06-22T17:06:40.367854Z",
     "start_time": "2018-06-22T17:06:40.361849Z"
    }
   },
   "outputs": [
    {
     "data": {
      "text/plain": [
       "<_sre.SRE_Match object; span=(86339, 86350), match='>Employees<'>"
      ]
     },
     "execution_count": 198,
     "metadata": {},
     "output_type": "execute_result"
    }
   ],
   "source": [
    "re.search(emp_head, file2_html)"
   ]
  },
  {
   "cell_type": "code",
   "execution_count": 201,
   "metadata": {
    "ExecuteTime": {
     "end_time": "2018-06-22T17:27:55.079949Z",
     "start_time": "2018-06-22T17:27:55.072944Z"
    }
   },
   "outputs": [
    {
     "data": {
      "text/plain": [
       "<div class=\"c78\">Employees</div>"
      ]
     },
     "execution_count": 201,
     "metadata": {},
     "output_type": "execute_result"
    }
   ],
   "source": [
    "emp2_tag."
   ]
  },
  {
   "cell_type": "code",
   "execution_count": 196,
   "metadata": {
    "ExecuteTime": {
     "end_time": "2018-06-22T17:05:05.062351Z",
     "start_time": "2018-06-22T17:05:05.057347Z"
    }
   },
   "outputs": [
    {
     "data": {
      "text/plain": [
       "86339"
      ]
     },
     "execution_count": 196,
     "metadata": {},
     "output_type": "execute_result"
    }
   ],
   "source": [
    "file2_html.find('>Employees<')"
   ]
  },
  {
   "cell_type": "code",
   "execution_count": 199,
   "metadata": {
    "ExecuteTime": {
     "end_time": "2018-06-22T17:08:02.045295Z",
     "start_time": "2018-06-22T17:08:02.040290Z"
    }
   },
   "outputs": [
    {
     "data": {
      "text/plain": [
       "1406"
      ]
     },
     "execution_count": 199,
     "metadata": {},
     "output_type": "execute_result"
    }
   ],
   "source": [
    "file2_html.count('\\n',0,86339)"
   ]
  },
  {
   "cell_type": "code",
   "execution_count": 137,
   "metadata": {
    "ExecuteTime": {
     "end_time": "2018-06-22T00:36:45.996307Z",
     "start_time": "2018-06-22T00:36:45.991305Z"
    },
    "collapsed": true
   },
   "outputs": [
    {
     "data": {
      "text/plain": [
       "'ngement\\nclaims against us from time to time.</div>\\n<div class=\"c78\">Employees</div>\\n<div class=\"c81\"><span class=\"c80\">As of</span> <span class=\"c80\">September 30, 2016</span><span class=\"c80\">,\\nwe had approximately</span> <span class=\"c80\">19,000</span> <span class=\"c80\">employees, of which\\napproximately</span> <span class=\"c80\">18,000</span> <span class=\"c80\">were full-time employees.\\nApproximately</span> <span class=\"c80\">2%</span> <span class=\"c80\">of our employees are covered by collective\\nbargaining agreements. We believe that our relationship with our employees is good. If any of our employees in\\nlocations that are unionized should engage in strikes or other such bargaining tactics in connection with the\\nnegotiation of new collective bargaining agreements upon the expiration of any existing collective bargaining\\nagreements, such tactics could be disruptive to our operations and adversely affect our results of operations,\\nbut we believe we have adequate contingency plans in place to assure delivery of pharmaceuticals to our\\ncustomers in the event of any such disruptions.</span></div>\\n<div class=\"c78\">Government Regulation</div>\\n<div class=\"c77\">We are subject to extensive oversight by various federal and state governmental entities and\\nwe are subject to, and affected by, a variety of federal and state laws, regulations, and policies.</div>\\n<div class=\"c77\">The U.S. Drug Enforcement Administration (\"DEA\"), the U.S. Food and Drug Administration\\n(\"FDA\"), and various other federal and state regulatory authorities regulate the compounding, purchase,\\nstorage, and/or distribution of pharmaceutical products, including controlled substances. Wholesale\\ndistributors of controlled substances and entities that compound pharmaceuticals that contain controlled\\nsubstances must hold valid DEA licenses, meet various security and operating standards, and comply with\\nregulations governing the sale, marketing, compounding, packaging, holding, and distribution of controlled\\nsubstances. Our Section 503B outsourcing facilities must comply with current Good Manufacturing Practices\\n(\"GMPs\") and are inspected by the FDA periodically to determine that we are complying with such GMPs. The DEA,\\nFDA, and state regulatory authorities have broad enforcement powers, including the ability to suspend our\\ndistribution centers or Section 503B outsourcing facilities from distributing controlled substances, seize or\\nrecall products, and impose significant criminal, civil, and administrative sanctions. We have all necessary\\nlicenses or other regulatory approvals and belie'"
      ]
     },
     "execution_count": 137,
     "metadata": {},
     "output_type": "execute_result"
    }
   ],
   "source": [
    "\n",
    "search_str = 'bargaining agreements. We believe that our relationship with our employees is good.'\n",
    "show_str_context(search_str=search_str, in_string= file2_html)"
   ]
  },
  {
   "cell_type": "code",
   "execution_count": 124,
   "metadata": {
    "ExecuteTime": {
     "end_time": "2018-06-22T00:12:15.124612Z",
     "start_time": "2018-06-22T00:12:15.088588Z"
    }
   },
   "outputs": [
    {
     "data": {
      "text/plain": [
       "424918"
      ]
     },
     "execution_count": 124,
     "metadata": {},
     "output_type": "execute_result"
    }
   ],
   "source": [
    "len(soup2.body.text)"
   ]
  },
  {
   "cell_type": "markdown",
   "metadata": {},
   "source": [
    "## Write functions to flag paragraphs"
   ]
  },
  {
   "cell_type": "markdown",
   "metadata": {},
   "source": [
    "notes:\n",
    "- if r\"^Employees$\" matches, find the next block element that matches another pattern \n",
    "- Include tables as \"matches\" when siblings of Employees divs"
   ]
  },
  {
   "cell_type": "code",
   "execution_count": 73,
   "metadata": {
    "ExecuteTime": {
     "end_time": "2018-06-27T01:27:48.377309Z",
     "start_time": "2018-06-27T01:27:48.373306Z"
    },
    "scrolled": true
   },
   "outputs": [
    {
     "data": {
      "text/plain": [
       "<div class=\"c78\">Employees</div>"
      ]
     },
     "execution_count": 73,
     "metadata": {},
     "output_type": "execute_result"
    }
   ],
   "source": [
    "soup3_emp_count[0].find_parent(name=block_re)#.parent#.find_next_siblings(block_re, limit=6)"
   ]
  },
  {
   "cell_type": "code",
   "execution_count": 473,
   "metadata": {
    "ExecuteTime": {
     "end_time": "2018-06-28T19:27:30.197032Z",
     "start_time": "2018-06-28T19:27:30.193030Z"
    }
   },
   "outputs": [],
   "source": [
    "emp_head_raw = re.compile(r\"[>](Our )?Employees[<]\", re.I)"
   ]
  },
  {
   "cell_type": "code",
   "execution_count": 472,
   "metadata": {
    "ExecuteTime": {
     "end_time": "2018-06-28T19:25:54.942430Z",
     "start_time": "2018-06-28T19:25:54.938427Z"
    }
   },
   "outputs": [],
   "source": [
    "block_re = re.compile(r\"^(p|div|table)$\")\n",
    "head_block_re = re.compile(r\"^(p|div|h[1-6])$\")"
   ]
  },
  {
   "cell_type": "code",
   "execution_count": 85,
   "metadata": {
    "ExecuteTime": {
     "end_time": "2018-06-27T01:33:15.621344Z",
     "start_time": "2018-06-27T01:33:15.594326Z"
    }
   },
   "outputs": [
    {
     "data": {
      "text/plain": [
       "<p class=\"c77\"><span class=\"c32\">As of December 31, 2016, we employed 2,776 full-time employees, of which 31\n",
       "held Ph.D. degrees in a science or engineering field. Of our employees, 287 are located in the U.S., 1,218 are\n",
       "located in Taiwan and 1,271 are located in China. None of our employees are represented by any collective\n",
       "bargaining agreement, but certain employees of our China subsidiary are members of a trade union. We have never\n",
       "suffered any work stoppage as a result of an employment related strike or any employee related dispute and\n",
       "believe that we have satisfactory relations with our employees.</span></p>"
      ]
     },
     "execution_count": 85,
     "metadata": {},
     "output_type": "execute_result"
    }
   ],
   "source": [
    "soup2.body.find(string=emp_head).find_parent(name=block_re).next_sibling.next_sibling.next_sibling.next_sibling\n"
   ]
  },
  {
   "cell_type": "code",
   "execution_count": 116,
   "metadata": {
    "ExecuteTime": {
     "end_time": "2018-06-27T01:54:30.337267Z",
     "start_time": "2018-06-27T01:54:30.333263Z"
    }
   },
   "outputs": [
    {
     "name": "stdout",
     "output_type": "stream",
     "text": [
      "c:\\projects\\DSBC\\capstone\\sec_employee_information_extraction\\..\\employee_filings\\0001104659-17-015892.html.gz\n"
     ]
    }
   ],
   "source": [
    "print(subset_file_list[4])"
   ]
  },
  {
   "cell_type": "code",
   "execution_count": 148,
   "metadata": {
    "ExecuteTime": {
     "end_time": "2018-06-27T15:24:44.993224Z",
     "start_time": "2018-06-27T15:24:44.988220Z"
    }
   },
   "outputs": [
    {
     "data": {
      "text/plain": [
       "'0000003570-17-000052'"
      ]
     },
     "execution_count": 148,
     "metadata": {},
     "output_type": "execute_result"
    }
   ],
   "source": [
    "full_accession_ids[0]"
   ]
  },
  {
   "cell_type": "code",
   "execution_count": 169,
   "metadata": {
    "ExecuteTime": {
     "end_time": "2018-06-27T15:57:42.333638Z",
     "start_time": "2018-06-27T15:57:42.329636Z"
    }
   },
   "outputs": [],
   "source": [
    "html_path_list = [x.replace('.gz', '') for x in full_path_list]"
   ]
  },
  {
   "cell_type": "code",
   "execution_count": 225,
   "metadata": {
    "ExecuteTime": {
     "end_time": "2018-06-27T17:24:36.237150Z",
     "start_time": "2018-06-27T17:24:36.233148Z"
    }
   },
   "outputs": [],
   "source": [
    "emp_head_raw = re.compile(r\"[>](Employees|Team Members)[<]\", re.I)\n",
    "emp_head = re.compile(r\"^(Our |Number of )?(Employees|Team Members)$\", re.I)"
   ]
  },
  {
   "cell_type": "code",
   "execution_count": 384,
   "metadata": {
    "ExecuteTime": {
     "end_time": "2018-06-27T21:52:15.150536Z",
     "start_time": "2018-06-27T21:52:15.146535Z"
    }
   },
   "outputs": [],
   "source": [
    "acc_id_list = [] ; para_list_orig = [] ;  tag_list = [];\n",
    "emp_head_list = []; emp_head_first_list = [];\n",
    "tbl_acc_id_list = [] ; tbl_tag_list = []; "
   ]
  },
  {
   "cell_type": "code",
   "execution_count": 408,
   "metadata": {
    "ExecuteTime": {
     "end_time": "2018-06-28T14:51:35.287529Z",
     "start_time": "2018-06-28T14:51:35.282526Z"
    }
   },
   "outputs": [
    {
     "data": {
      "text/plain": [
       "'0001047469-17-002477'"
      ]
     },
     "execution_count": 408,
     "metadata": {},
     "output_type": "execute_result"
    }
   ],
   "source": [
    "tbl_acc_id_list[-1]"
   ]
  },
  {
   "cell_type": "code",
   "execution_count": 409,
   "metadata": {
    "ExecuteTime": {
     "end_time": "2018-06-28T14:51:58.799270Z",
     "start_time": "2018-06-28T14:51:58.794766Z"
    }
   },
   "outputs": [
    {
     "data": {
      "text/plain": [
       "58"
      ]
     },
     "execution_count": 409,
     "metadata": {},
     "output_type": "execute_result"
    }
   ],
   "source": [
    "tbl_acc_id_list.index(tbl_acc_id_list[-1])"
   ]
  },
  {
   "cell_type": "code",
   "execution_count": 411,
   "metadata": {
    "ExecuteTime": {
     "end_time": "2018-06-28T14:52:53.558455Z",
     "start_time": "2018-06-28T14:52:53.553453Z"
    }
   },
   "outputs": [
    {
     "data": {
      "text/plain": [
       "'0001047469-17-001782'"
      ]
     },
     "execution_count": 411,
     "metadata": {},
     "output_type": "execute_result"
    }
   ],
   "source": [
    "acc_id_list[-1]"
   ]
  },
  {
   "cell_type": "code",
   "execution_count": 401,
   "metadata": {
    "ExecuteTime": {
     "end_time": "2018-06-28T14:47:32.416476Z",
     "start_time": "2018-06-28T14:47:32.411475Z"
    }
   },
   "outputs": [
    {
     "data": {
      "text/plain": [
       "2554"
      ]
     },
     "execution_count": 401,
     "metadata": {},
     "output_type": "execute_result"
    }
   ],
   "source": [
    "acc_id_list.index(acc_id_list[-1])"
   ]
  },
  {
   "cell_type": "code",
   "execution_count": 406,
   "metadata": {
    "ExecuteTime": {
     "end_time": "2018-06-28T14:49:33.066128Z",
     "start_time": "2018-06-28T14:49:33.062127Z"
    }
   },
   "outputs": [
    {
     "data": {
      "text/plain": [
       "769"
      ]
     },
     "execution_count": 406,
     "metadata": {},
     "output_type": "execute_result"
    }
   ],
   "source": [
    "full_accession_ids.index(acc_id_list[-1])"
   ]
  },
  {
   "cell_type": "code",
   "execution_count": 410,
   "metadata": {
    "ExecuteTime": {
     "end_time": "2018-06-28T14:52:48.936607Z",
     "start_time": "2018-06-28T14:52:48.930605Z"
    }
   },
   "outputs": [],
   "source": [
    "acc_id_list = acc_id_list[:2554]\n",
    "para_list_orig = para_list_orig[:2554]\n",
    "tag_list = tag_list[:2554]\n",
    "emp_head_list = emp_head_list[:2554]\n",
    "emp_head_first_list = emp_head_first_list[:2554]\n",
    "tbl_acc_id_list = tbl_acc_id_list[:58]\n",
    "tbl_tag_list = tbl_tag_list[:58]"
   ]
  },
  {
   "cell_type": "code",
   "execution_count": 451,
   "metadata": {
    "ExecuteTime": {
     "end_time": "2018-06-28T18:11:51.765284Z",
     "start_time": "2018-06-28T18:01:31.393555Z"
    },
    "scrolled": false
   },
   "outputs": [],
   "source": [
    "for i, fl in enumerate(html_path_list[1200:1300]):\n",
    "    acc_id = PurePath(fl).stem.replace('.html', '')\n",
    "    tag_set = set();\n",
    "    with open(fl, encoding=\"utf8\") as file: \n",
    "        file_html = file.read()\n",
    "        soup = bs(file_html, 'lxml')\n",
    "#        emp_head_flag = False\n",
    "#        emp_head_first_match = False\n",
    "        if re.search(emp_head_raw, file_html):\n",
    "            for ihead, hblock in enumerate(soup.body.find_all(string=emp_head, limit=4)):\n",
    "                try:\n",
    "                    emp_head_tag = hblock.find_parent(name=head_block_re)\n",
    "                    if emp_head_tag.name != 'table' and emp_head_tag.find_parent('table') == None:\n",
    "                        emp_head_matched = False\n",
    "            #            print(emp_head_tag.name) ;print(emp_head_tag)\n",
    "                        for i2, block in enumerate(emp_head_tag.find_next_siblings(block_re, limit=6)):\n",
    "                            #print('Block sibling number: ' + str(i2))\n",
    "                            if block.find(string=[emp_pats]) != None and block.name != 'table':\n",
    "                                block_tag = copy.copy(block)\n",
    "                                if block_tag not in tag_set:\n",
    "                                    acc_id_list.append(acc_id) \n",
    "                                    tag_list.append(block_tag)\n",
    "                                    para_list_orig.append(block_tag.get_text())\n",
    "                                    tag_set.add(block_tag)\n",
    "                                    emp_head_list.append(True)\n",
    "                                    if not emp_head_matched:\n",
    "                                        emp_head_flag = True\n",
    "                                        emp_head_matched = True\n",
    "                                        emp_head_first_list.append(True)\n",
    "                                    else:\n",
    "                                        emp_head_first_list.append(False)\n",
    "                            if block.find('table') != None:\n",
    "            #                    print('Found table match!')\n",
    "                                tbl_block_tag = copy.copy(block)\n",
    "                                if tbl_block_tag not in tag_set:\n",
    "                                    tbl_acc_id_list.append(acc_id) \n",
    "                                    tbl_tag_list.append(tbl_block_tag)\n",
    "                                    tag_set.add(tbl_block_tag)\n",
    "                except:\n",
    "                    continue\n",
    "                        #tbl_df = pd.read_html(block.find('table').prettify(), tupleize_cols=True)[0].dropna(axis=1,how='all')\n",
    "    #                    print(tbl_df); print(tbl_df.info()); print(block)\n",
    "#        else:\n",
    "#            print('No Employees header')\n",
    "        soup_emp_count = soup.body.find_all(string=[emp_pats])\n",
    "        soup_emp_paras = [x.find_parent(name=block_re) for x in soup_emp_count]\n",
    "        soup_emp_paras = [x for x in soup_emp_paras if x != None]\n",
    "        for i2, block in enumerate(soup_emp_paras):\n",
    "#                print('Para number: ' + str(i2)); print(block)\n",
    "            block_tag = copy.copy(block)\n",
    "            if block_tag not in tag_set:\n",
    "                if block.find('table') != None:\n",
    "                    tbl_acc_id_list.append(acc_id) \n",
    "                    tbl_tag_list.append(block_tag)\n",
    "                    tag_set.add(block_tag)\n",
    "                else:\n",
    "                    acc_id_list.append(acc_id) \n",
    "                    tag_list.append(block_tag)\n",
    "                    tag_set.add(block_tag)\n",
    "                    para_list_orig.append(block_tag.get_text())\n",
    "                    emp_head_list.append(False)\n",
    "                    emp_head_first_list.append(False)\n",
    "#emp2_tag.find_next_siblings(block_re, limit = 1, string=False)[0].find(string=[emp_pats]).parent"
   ]
  },
  {
   "cell_type": "code",
   "execution_count": 453,
   "metadata": {
    "ExecuteTime": {
     "end_time": "2018-06-28T18:24:24.096386Z",
     "start_time": "2018-06-28T18:24:24.088380Z"
    },
    "scrolled": true
   },
   "outputs": [
    {
     "name": "stdout",
     "output_type": "stream",
     "text": [
      "1275\n",
      "4817\n",
      "4817\n",
      "4817\n",
      "4817\n",
      "4817\n",
      "94\n",
      "94\n"
     ]
    }
   ],
   "source": [
    "print(len(set(acc_id_list)))\n",
    "print(len(acc_id_list))\n",
    "print(len(para_list_orig))\n",
    "print(len(tag_list))\n",
    "print(len(emp_head_list))\n",
    "print(len(emp_head_first_list))\n",
    "print(len(tbl_acc_id_list))\n",
    "print(len(tbl_tag_list))"
   ]
  },
  {
   "cell_type": "code",
   "execution_count": 494,
   "metadata": {
    "ExecuteTime": {
     "end_time": "2018-06-28T22:58:49.244267Z",
     "start_time": "2018-06-28T22:58:49.236254Z"
    }
   },
   "outputs": [],
   "source": [
    "#### Make dataframe\n",
    "tbl_html_df = pd.DataFrame(data = { 'acc_id': tbl_acc_id_list, 'tbl_html': tbl_tag_list, 'split' : 'train' })\n",
    "tbl_html_df.loc[tbl_html_df.acc_id.isin(val_accession_ids),'split'] = 'val'"
   ]
  },
  {
   "cell_type": "code",
   "execution_count": 495,
   "metadata": {
    "ExecuteTime": {
     "end_time": "2018-06-28T22:58:50.659634Z",
     "start_time": "2018-06-28T22:58:50.452725Z"
    }
   },
   "outputs": [],
   "source": [
    "#### Write to csv for later use\n",
    "tbl_html_df.to_csv('tbl_html_df.csv')"
   ]
  },
  {
   "cell_type": "code",
   "execution_count": 496,
   "metadata": {
    "ExecuteTime": {
     "end_time": "2018-06-28T22:59:04.084060Z",
     "start_time": "2018-06-28T22:59:04.055042Z"
    }
   },
   "outputs": [],
   "source": [
    "paragraph_input_dict = {'acc_id' : acc_id_list, \n",
    "                        'para_text' : [p.replace('\\n', ' ') for p in para_list_orig],\n",
    "                        'len' : [len(p) for p in para_list], \n",
    "                        'emp_header' : emp_head_list,\n",
    "                        'first_emp_head_block' : emp_head_first_list,\n",
    "                       'para_text_orig' : para_list_orig, \n",
    "                        'para_tag' : tag_list, \n",
    "                       'split' : 'train', \n",
    "                       'label' : 0 }\n",
    "#paragraph_input_df['para_text'] = paragraph_input_df.para_text_orig.replace('\\n', ' ')\n",
    "p_columns = ['acc_id', 'para_text', 'len', 'emp_header', 'first_emp_head_block', 'para_text_orig',\n",
    "              'para_tag', 'split', 'label']\n",
    "\n",
    "paragraph_input_df = pd.DataFrame(paragraph_input_dict, columns=p_columns)\n",
    "\n",
    "\n",
    "paragraph_input_df.loc[paragraph_input_df.acc_id.isin(val_accession_ids),'split'] = 'val'\n",
    "\n",
    "train_df = paragraph_input_df[paragraph_input_df.split == 'train']"
   ]
  },
  {
   "cell_type": "code",
   "execution_count": 497,
   "metadata": {
    "ExecuteTime": {
     "end_time": "2018-06-28T22:59:11.910643Z",
     "start_time": "2018-06-28T22:59:10.406501Z"
    }
   },
   "outputs": [],
   "source": [
    "paragraph_input_df.to_csv('paragraph_input_df.csv')"
   ]
  },
  {
   "cell_type": "markdown",
   "metadata": {},
   "source": [
    "Code for printing results from paragraph search for a file"
   ]
  },
  {
   "cell_type": "code",
   "execution_count": 483,
   "metadata": {
    "ExecuteTime": {
     "end_time": "2018-06-28T20:14:24.267174Z",
     "start_time": "2018-06-28T20:14:24.209136Z"
    },
    "code_folding": []
   },
   "outputs": [],
   "source": [
    "def print_parse_objects(file: str, use_acc_id: bool=True, acc_id_list = full_accession_ids, \n",
    "                       file_path_list = html_path_list):\n",
    "    fl = file\n",
    "    if use_acc_id:\n",
    "        fl = html_path_list[full_accession_ids.index(fl)]        \n",
    "        print('Index number: ')\n",
    "        print(full_accession_ids.index(file))\n",
    "    print('File path: ')\n",
    "    print(fl)\n",
    "    #for i, fl in enumerate(html_path_list[303:304]):\n",
    "    with open(fl, encoding=\"utf8\") as file: \n",
    "        file_html = file.read()\n",
    "        soup = bs(file_html, 'lxml')\n",
    "        emp_head_flag = False\n",
    "        emp_head_first_match = False\n",
    "        if re.search(emp_head_raw, file_html):\n",
    "            for ihead, hblock in enumerate(soup.body.find_all(string=emp_head)):\n",
    "                emp_head_tag = hblock.find_parent(name=head_block_re)\n",
    "\n",
    "                if emp_head_tag.name != 'table' and emp_head_tag.find_parent('table') == None:\n",
    "                    emp_head_matched = False\n",
    "                    print(ihead); print(emp_head_tag.name) ;print(emp_head_tag)\n",
    "                    for i2, block in enumerate(emp_head_tag.find_next_siblings(block_re, limit=6)):\n",
    "                        print('Block sibling number: ' + str(i2))\n",
    "                        if block.find(string=emp_pats) != None:\n",
    "                            block_tag = copy.copy(block)\n",
    "                            print('Found match!'); print(block_tag) ; print(block_tag.get_text())\n",
    "                        if block.find('table') != None:\n",
    "                            print('Found table match!')\n",
    "                            tbl_block_tag = copy.copy(block)\n",
    "                            tbl_df = pd.read_html(block.find('table').prettify())[0].dropna(axis=1,how='all')\n",
    "                            print(tbl_df); print(tbl_df.info()); print(block)\n",
    "        #else:\n",
    "        print('No Employees header')\n",
    "        soup_emp_count = soup.body.find_all(string=[emp_pats])\n",
    "        soup_emp_paras = [x.find_parent(name=head_block_re) for x in soup_emp_count]\n",
    "        soup_emp_paras = [x for x in soup_emp_paras if x != None]\n",
    "        soup_emp_blocks = [x  for x in soup_emp_count if x.name in ['p', 'div']]\n",
    "        for i2, block in enumerate(soup_emp_paras):\n",
    "            block_tag = copy.copy(block)\n",
    "            print('Para number: ' + str(i2)); \n",
    "            try:\n",
    "                print('Original match name:  ' +  soup_emp_count[i2].name)\n",
    "            except:\n",
    "                print('Original match has no name')\n",
    "            print('Original match:  ' +  soup_emp_count[i2])\n",
    "            print('Block match name:  ' +  block_tag.name)\n",
    "            print('Block:  ')\n",
    "            print(block)\n",
    "            print(type(block))\n",
    "            print('Block Text:  ')\n",
    "            print(block.get_text().replace('\\n', ' '))\n",
    "        for i2, block in enumerate(soup_emp_blocks):\n",
    "            print('Block number: ' + str(i2)); print(block)\n",
    "#emp2_tag.find_next_siblings(block_re, limit = 1, string=False)[0].find(string=[emp_pats]).parent"
   ]
  },
  {
   "cell_type": "code",
   "execution_count": 492,
   "metadata": {
    "ExecuteTime": {
     "end_time": "2018-06-28T22:56:56.770408Z",
     "start_time": "2018-06-28T22:56:56.765406Z"
    }
   },
   "outputs": [
    {
     "name": "stdout",
     "output_type": "stream",
     "text": [
      "Paragraphs: 4817\n",
      "Files with paragraphs: 1275\n",
      "Tables: 94\n"
     ]
    }
   ],
   "source": [
    "print('Paragraphs: ' + str(len(acc_id_list)))\n",
    "print('Files with paragraphs: ' + str(len(set(acc_id_list))))\n",
    "print('Tables: ' + str(len(tbl_acc_id_list)))"
   ]
  },
  {
   "cell_type": "markdown",
   "metadata": {},
   "source": [
    "Code for investigating files for which no candidate paragraphs were identified"
   ]
  },
  {
   "cell_type": "code",
   "execution_count": 312,
   "metadata": {
    "ExecuteTime": {
     "end_time": "2018-06-27T20:05:33.070436Z",
     "start_time": "2018-06-27T20:05:33.066433Z"
    }
   },
   "outputs": [],
   "source": [
    "missed_ids = [x for x in full_accession_ids[:100] if x not in set(acc_id_list)]\n",
    "# For investigating files with no candidate paragraphs if they are part of the training set\n",
    "#[x for x in missed_ids if x in train_accession_ids]  "
   ]
  },
  {
   "cell_type": "code",
   "execution_count": 350,
   "metadata": {
    "ExecuteTime": {
     "end_time": "2018-06-27T20:51:38.295108Z",
     "start_time": "2018-06-27T20:51:38.290106Z"
    }
   },
   "outputs": [
    {
     "data": {
      "text/plain": [
       "[89]"
      ]
     },
     "execution_count": 350,
     "metadata": {},
     "output_type": "execute_result"
    }
   ],
   "source": [
    "#find index of file for specific accession id\n",
    "#[i for i, x in enumerate(html_path_list[:300]) if re.search(r\"0000042316-17-000014\", x)]"
   ]
  },
  {
   "cell_type": "code",
   "execution_count": 460,
   "metadata": {
    "ExecuteTime": {
     "end_time": "2018-06-28T18:53:02.487241Z",
     "start_time": "2018-06-28T18:53:02.472232Z"
    },
    "scrolled": true
   },
   "outputs": [
    {
     "data": {
      "text/html": [
       "<div>\n",
       "<style scoped>\n",
       "    .dataframe tbody tr th:only-of-type {\n",
       "        vertical-align: middle;\n",
       "    }\n",
       "\n",
       "    .dataframe tbody tr th {\n",
       "        vertical-align: top;\n",
       "    }\n",
       "\n",
       "    .dataframe thead th {\n",
       "        text-align: right;\n",
       "    }\n",
       "</style>\n",
       "<table border=\"1\" class=\"dataframe\">\n",
       "  <thead>\n",
       "    <tr style=\"text-align: right;\">\n",
       "      <th></th>\n",
       "      <th>acc_id</th>\n",
       "      <th>para_text</th>\n",
       "      <th>len</th>\n",
       "      <th>emp_header</th>\n",
       "      <th>first_emp_head_block</th>\n",
       "      <th>para_text_orig</th>\n",
       "      <th>para_tag</th>\n",
       "      <th>split</th>\n",
       "      <th>label</th>\n",
       "    </tr>\n",
       "  </thead>\n",
       "  <tbody>\n",
       "    <tr>\n",
       "      <th>2</th>\n",
       "      <td>0000004127-16-000068</td>\n",
       "      <td>As of September 30, 2016, we employed approxim...</td>\n",
       "      <td>245</td>\n",
       "      <td>True</td>\n",
       "      <td>True</td>\n",
       "      <td>As of September 30, 2016,\\nwe employed approxi...</td>\n",
       "      <td>&lt;div class=\"c80\"&gt;&lt;span class=\"c32\"&gt;As of&lt;/span...</td>\n",
       "      <td>train</td>\n",
       "      <td>0</td>\n",
       "    </tr>\n",
       "    <tr>\n",
       "      <th>3</th>\n",
       "      <td>0000004127-16-000068</td>\n",
       "      <td>EMPLOYEES</td>\n",
       "      <td>9</td>\n",
       "      <td>False</td>\n",
       "      <td>False</td>\n",
       "      <td>EMPLOYEES</td>\n",
       "      <td>&lt;div class=\"c90\"&gt;EMPLOYEES&lt;/div&gt;</td>\n",
       "      <td>train</td>\n",
       "      <td>0</td>\n",
       "    </tr>\n",
       "  </tbody>\n",
       "</table>\n",
       "</div>"
      ],
      "text/plain": [
       "                 acc_id                                          para_text  \\\n",
       "2  0000004127-16-000068  As of September 30, 2016, we employed approxim...   \n",
       "3  0000004127-16-000068                                          EMPLOYEES   \n",
       "\n",
       "   len  emp_header  first_emp_head_block  \\\n",
       "2  245        True                  True   \n",
       "3    9       False                 False   \n",
       "\n",
       "                                      para_text_orig  \\\n",
       "2  As of September 30, 2016,\\nwe employed approxi...   \n",
       "3                                          EMPLOYEES   \n",
       "\n",
       "                                            para_tag  split  label  \n",
       "2  <div class=\"c80\"><span class=\"c32\">As of</span...  train      0  \n",
       "3                   <div class=\"c90\">EMPLOYEES</div>  train      0  "
      ]
     },
     "execution_count": 460,
     "metadata": {},
     "output_type": "execute_result"
    }
   ],
   "source": [
    "train_df.head(2)"
   ]
  },
  {
   "cell_type": "code",
   "execution_count": 461,
   "metadata": {
    "ExecuteTime": {
     "end_time": "2018-06-28T18:53:09.350857Z",
     "start_time": "2018-06-28T18:53:09.325841Z"
    },
    "scrolled": true
   },
   "outputs": [
    {
     "data": {
      "text/html": [
       "<div>\n",
       "<style scoped>\n",
       "    .dataframe tbody tr th:only-of-type {\n",
       "        vertical-align: middle;\n",
       "    }\n",
       "\n",
       "    .dataframe tbody tr th {\n",
       "        vertical-align: top;\n",
       "    }\n",
       "\n",
       "    .dataframe thead th {\n",
       "        text-align: right;\n",
       "    }\n",
       "</style>\n",
       "<table border=\"1\" class=\"dataframe\">\n",
       "  <thead>\n",
       "    <tr style=\"text-align: right;\">\n",
       "      <th></th>\n",
       "      <th>len</th>\n",
       "      <th>label</th>\n",
       "    </tr>\n",
       "  </thead>\n",
       "  <tbody>\n",
       "    <tr>\n",
       "      <th>count</th>\n",
       "      <td>3597.000000</td>\n",
       "      <td>3597.0</td>\n",
       "    </tr>\n",
       "    <tr>\n",
       "      <th>mean</th>\n",
       "      <td>408.237142</td>\n",
       "      <td>0.0</td>\n",
       "    </tr>\n",
       "    <tr>\n",
       "      <th>std</th>\n",
       "      <td>483.178275</td>\n",
       "      <td>0.0</td>\n",
       "    </tr>\n",
       "    <tr>\n",
       "      <th>min</th>\n",
       "      <td>8.000000</td>\n",
       "      <td>0.0</td>\n",
       "    </tr>\n",
       "    <tr>\n",
       "      <th>25%</th>\n",
       "      <td>29.000000</td>\n",
       "      <td>0.0</td>\n",
       "    </tr>\n",
       "    <tr>\n",
       "      <th>50%</th>\n",
       "      <td>281.000000</td>\n",
       "      <td>0.0</td>\n",
       "    </tr>\n",
       "    <tr>\n",
       "      <th>75%</th>\n",
       "      <td>601.000000</td>\n",
       "      <td>0.0</td>\n",
       "    </tr>\n",
       "    <tr>\n",
       "      <th>max</th>\n",
       "      <td>5054.000000</td>\n",
       "      <td>0.0</td>\n",
       "    </tr>\n",
       "  </tbody>\n",
       "</table>\n",
       "</div>"
      ],
      "text/plain": [
       "               len   label\n",
       "count  3597.000000  3597.0\n",
       "mean    408.237142     0.0\n",
       "std     483.178275     0.0\n",
       "min       8.000000     0.0\n",
       "25%      29.000000     0.0\n",
       "50%     281.000000     0.0\n",
       "75%     601.000000     0.0\n",
       "max    5054.000000     0.0"
      ]
     },
     "execution_count": 461,
     "metadata": {},
     "output_type": "execute_result"
    }
   ],
   "source": [
    "train_df.describe()"
   ]
  },
  {
   "cell_type": "code",
   "execution_count": 490,
   "metadata": {
    "ExecuteTime": {
     "end_time": "2018-06-28T20:21:36.047911Z",
     "start_time": "2018-06-28T20:21:36.030900Z"
    },
    "collapsed": true
   },
   "outputs": [
    {
     "data": {
      "text/html": [
       "<div>\n",
       "<style scoped>\n",
       "    .dataframe tbody tr th:only-of-type {\n",
       "        vertical-align: middle;\n",
       "    }\n",
       "\n",
       "    .dataframe tbody tr th {\n",
       "        vertical-align: top;\n",
       "    }\n",
       "\n",
       "    .dataframe thead th {\n",
       "        text-align: right;\n",
       "    }\n",
       "</style>\n",
       "<table border=\"1\" class=\"dataframe\">\n",
       "  <thead>\n",
       "    <tr style=\"text-align: right;\">\n",
       "      <th></th>\n",
       "      <th>len_counts</th>\n",
       "    </tr>\n",
       "  </thead>\n",
       "  <tbody>\n",
       "    <tr>\n",
       "      <th>5054</th>\n",
       "      <td>1</td>\n",
       "    </tr>\n",
       "    <tr>\n",
       "      <th>4944</th>\n",
       "      <td>1</td>\n",
       "    </tr>\n",
       "    <tr>\n",
       "      <th>4868</th>\n",
       "      <td>1</td>\n",
       "    </tr>\n",
       "    <tr>\n",
       "      <th>4213</th>\n",
       "      <td>1</td>\n",
       "    </tr>\n",
       "    <tr>\n",
       "      <th>3972</th>\n",
       "      <td>1</td>\n",
       "    </tr>\n",
       "    <tr>\n",
       "      <th>3904</th>\n",
       "      <td>1</td>\n",
       "    </tr>\n",
       "    <tr>\n",
       "      <th>3878</th>\n",
       "      <td>1</td>\n",
       "    </tr>\n",
       "    <tr>\n",
       "      <th>3862</th>\n",
       "      <td>1</td>\n",
       "    </tr>\n",
       "    <tr>\n",
       "      <th>3795</th>\n",
       "      <td>1</td>\n",
       "    </tr>\n",
       "    <tr>\n",
       "      <th>3791</th>\n",
       "      <td>1</td>\n",
       "    </tr>\n",
       "    <tr>\n",
       "      <th>3605</th>\n",
       "      <td>1</td>\n",
       "    </tr>\n",
       "    <tr>\n",
       "      <th>3559</th>\n",
       "      <td>1</td>\n",
       "    </tr>\n",
       "    <tr>\n",
       "      <th>3413</th>\n",
       "      <td>1</td>\n",
       "    </tr>\n",
       "    <tr>\n",
       "      <th>3383</th>\n",
       "      <td>1</td>\n",
       "    </tr>\n",
       "    <tr>\n",
       "      <th>3343</th>\n",
       "      <td>1</td>\n",
       "    </tr>\n",
       "    <tr>\n",
       "      <th>3331</th>\n",
       "      <td>1</td>\n",
       "    </tr>\n",
       "    <tr>\n",
       "      <th>3306</th>\n",
       "      <td>1</td>\n",
       "    </tr>\n",
       "    <tr>\n",
       "      <th>3302</th>\n",
       "      <td>1</td>\n",
       "    </tr>\n",
       "    <tr>\n",
       "      <th>3191</th>\n",
       "      <td>1</td>\n",
       "    </tr>\n",
       "    <tr>\n",
       "      <th>3171</th>\n",
       "      <td>1</td>\n",
       "    </tr>\n",
       "    <tr>\n",
       "      <th>2857</th>\n",
       "      <td>1</td>\n",
       "    </tr>\n",
       "    <tr>\n",
       "      <th>2830</th>\n",
       "      <td>1</td>\n",
       "    </tr>\n",
       "    <tr>\n",
       "      <th>2802</th>\n",
       "      <td>1</td>\n",
       "    </tr>\n",
       "    <tr>\n",
       "      <th>2510</th>\n",
       "      <td>1</td>\n",
       "    </tr>\n",
       "    <tr>\n",
       "      <th>2490</th>\n",
       "      <td>1</td>\n",
       "    </tr>\n",
       "    <tr>\n",
       "      <th>2477</th>\n",
       "      <td>1</td>\n",
       "    </tr>\n",
       "    <tr>\n",
       "      <th>2397</th>\n",
       "      <td>1</td>\n",
       "    </tr>\n",
       "    <tr>\n",
       "      <th>2369</th>\n",
       "      <td>1</td>\n",
       "    </tr>\n",
       "    <tr>\n",
       "      <th>2344</th>\n",
       "      <td>1</td>\n",
       "    </tr>\n",
       "    <tr>\n",
       "      <th>2340</th>\n",
       "      <td>1</td>\n",
       "    </tr>\n",
       "    <tr>\n",
       "      <th>...</th>\n",
       "      <td>...</td>\n",
       "    </tr>\n",
       "    <tr>\n",
       "      <th>37</th>\n",
       "      <td>5</td>\n",
       "    </tr>\n",
       "    <tr>\n",
       "      <th>36</th>\n",
       "      <td>4</td>\n",
       "    </tr>\n",
       "    <tr>\n",
       "      <th>35</th>\n",
       "      <td>4</td>\n",
       "    </tr>\n",
       "    <tr>\n",
       "      <th>34</th>\n",
       "      <td>4</td>\n",
       "    </tr>\n",
       "    <tr>\n",
       "      <th>33</th>\n",
       "      <td>3</td>\n",
       "    </tr>\n",
       "    <tr>\n",
       "      <th>32</th>\n",
       "      <td>8</td>\n",
       "    </tr>\n",
       "    <tr>\n",
       "      <th>31</th>\n",
       "      <td>15</td>\n",
       "    </tr>\n",
       "    <tr>\n",
       "      <th>30</th>\n",
       "      <td>21</td>\n",
       "    </tr>\n",
       "    <tr>\n",
       "      <th>29</th>\n",
       "      <td>24</td>\n",
       "    </tr>\n",
       "    <tr>\n",
       "      <th>28</th>\n",
       "      <td>2</td>\n",
       "    </tr>\n",
       "    <tr>\n",
       "      <th>27</th>\n",
       "      <td>2</td>\n",
       "    </tr>\n",
       "    <tr>\n",
       "      <th>26</th>\n",
       "      <td>6</td>\n",
       "    </tr>\n",
       "    <tr>\n",
       "      <th>25</th>\n",
       "      <td>6</td>\n",
       "    </tr>\n",
       "    <tr>\n",
       "      <th>24</th>\n",
       "      <td>10</td>\n",
       "    </tr>\n",
       "    <tr>\n",
       "      <th>23</th>\n",
       "      <td>6</td>\n",
       "    </tr>\n",
       "    <tr>\n",
       "      <th>22</th>\n",
       "      <td>4</td>\n",
       "    </tr>\n",
       "    <tr>\n",
       "      <th>21</th>\n",
       "      <td>11</td>\n",
       "    </tr>\n",
       "    <tr>\n",
       "      <th>20</th>\n",
       "      <td>8</td>\n",
       "    </tr>\n",
       "    <tr>\n",
       "      <th>19</th>\n",
       "      <td>8</td>\n",
       "    </tr>\n",
       "    <tr>\n",
       "      <th>18</th>\n",
       "      <td>5</td>\n",
       "    </tr>\n",
       "    <tr>\n",
       "      <th>17</th>\n",
       "      <td>12</td>\n",
       "    </tr>\n",
       "    <tr>\n",
       "      <th>16</th>\n",
       "      <td>14</td>\n",
       "    </tr>\n",
       "    <tr>\n",
       "      <th>15</th>\n",
       "      <td>13</td>\n",
       "    </tr>\n",
       "    <tr>\n",
       "      <th>14</th>\n",
       "      <td>6</td>\n",
       "    </tr>\n",
       "    <tr>\n",
       "      <th>13</th>\n",
       "      <td>10</td>\n",
       "    </tr>\n",
       "    <tr>\n",
       "      <th>12</th>\n",
       "      <td>13</td>\n",
       "    </tr>\n",
       "    <tr>\n",
       "      <th>11</th>\n",
       "      <td>6</td>\n",
       "    </tr>\n",
       "    <tr>\n",
       "      <th>10</th>\n",
       "      <td>44</td>\n",
       "    </tr>\n",
       "    <tr>\n",
       "      <th>9</th>\n",
       "      <td>697</td>\n",
       "    </tr>\n",
       "    <tr>\n",
       "      <th>8</th>\n",
       "      <td>3</td>\n",
       "    </tr>\n",
       "  </tbody>\n",
       "</table>\n",
       "<p>1119 rows × 1 columns</p>\n",
       "</div>"
      ],
      "text/plain": [
       "      len_counts\n",
       "5054           1\n",
       "4944           1\n",
       "4868           1\n",
       "4213           1\n",
       "3972           1\n",
       "3904           1\n",
       "3878           1\n",
       "3862           1\n",
       "3795           1\n",
       "3791           1\n",
       "3605           1\n",
       "3559           1\n",
       "3413           1\n",
       "3383           1\n",
       "3343           1\n",
       "3331           1\n",
       "3306           1\n",
       "3302           1\n",
       "3191           1\n",
       "3171           1\n",
       "2857           1\n",
       "2830           1\n",
       "2802           1\n",
       "2510           1\n",
       "2490           1\n",
       "2477           1\n",
       "2397           1\n",
       "2369           1\n",
       "2344           1\n",
       "2340           1\n",
       "...          ...\n",
       "37             5\n",
       "36             4\n",
       "35             4\n",
       "34             4\n",
       "33             3\n",
       "32             8\n",
       "31            15\n",
       "30            21\n",
       "29            24\n",
       "28             2\n",
       "27             2\n",
       "26             6\n",
       "25             6\n",
       "24            10\n",
       "23             6\n",
       "22             4\n",
       "21            11\n",
       "20             8\n",
       "19             8\n",
       "18             5\n",
       "17            12\n",
       "16            14\n",
       "15            13\n",
       "14             6\n",
       "13            10\n",
       "12            13\n",
       "11             6\n",
       "10            44\n",
       "9            697\n",
       "8              3\n",
       "\n",
       "[1119 rows x 1 columns]"
      ]
     },
     "execution_count": 490,
     "metadata": {},
     "output_type": "execute_result"
    }
   ],
   "source": [
    "train_df.len.value_counts().to_frame('len_counts').sort_index(ascending=False)"
   ]
  },
  {
   "cell_type": "markdown",
   "metadata": {},
   "source": [
    "### Test and refine regex patterns for flagging likely relevant documents"
   ]
  },
  {
   "cell_type": "code",
   "execution_count": null,
   "metadata": {},
   "outputs": [],
   "source": [
    "def check_regex_match(pattern, text_list):\n",
    "    for idx, s in enumerate(text_list):\n",
    "        mo = re.search(pattern, s)\n",
    "        if mo:\n",
    "            ms = mo.span()[1]\n",
    "            print(\"------    \" + str(idx) + \"   Matched!    -----\")\n",
    "            print('str length  :' + str(len(s)) + '    match span  :' + str(ms))\n",
    "            print(s[:ms])\n",
    "            print('')\n",
    "            print(s[ms:])\n",
    "            print(re.search(pattern, s))\n",
    "        else:\n",
    "            print(\"------    \" + str(idx) + \"  NO MATCH    -----\")\n",
    "            print(s)"
   ]
  },
  {
   "cell_type": "code",
   "execution_count": 458,
   "metadata": {
    "ExecuteTime": {
     "end_time": "2018-06-28T18:49:48.243252Z",
     "start_time": "2018-06-28T18:49:48.232244Z"
    }
   },
   "outputs": [],
   "source": [
    "flag_pat_list = [r\"([0-9]{1,3},)*[0-9]{1,3} ([\\w']+[, ]?)*((employ\\w*|head([ -])?count|member(s)?|person(s)?|people|staff|team|workforce))\",\n",
    "r\"((employ\\w*|head([ -])?count|member(s)?|person(s)?|people|staff|team|workforce) )+([\\w']+[, ]?)*([0-9]{1,3},)*[0-9]{1,3}\",\n",
    "r\"([0-9]{1,3},)*[0-9]{1,3} ((permanent|full-time|part-time|temporary|total) )*(employees|people|team members|members)\",\n",
    "r\"employ((ed|s)?)? (approximately )?([0-9]{1,3},)*[0-9]{1,3} ((permanent|full-time|part-time|temporary) )?(employees|people|team members|members|persons|associates)\"\n",
    "#r\"employed( approximately)?$\", \n",
    "#r\"Total workforce\",\n",
    "#r\"((permanent|full|part|time|full-time|part-time|temporary) )+(employees|team members|associates)\",\n",
    "#r\"^((permanent|full|part|time|full-time|part-time|temporary|total) )*(employees|team members|associates)\"\n",
    "]                 \n",
    "flag_pats = [re.compile(x, re.I) for x in flag_pat_list]"
   ]
  },
  {
   "cell_type": "code",
   "execution_count": 484,
   "metadata": {
    "ExecuteTime": {
     "end_time": "2018-06-28T20:14:31.071258Z",
     "start_time": "2018-06-28T20:14:31.044241Z"
    }
   },
   "outputs": [
    {
     "name": "stdout",
     "output_type": "stream",
     "text": [
      "----------------------------------- 0001193125-17-106055 -----------------------------------\n",
      "len  :5054\n",
      "\n",
      "emp_header  :False\n",
      "\n",
      "first_emp_head_block  :False\n",
      "\n",
      "para_text  :                         Current format     Previous format                             Millions of Euros       Millions of Euros    ASSETS   December  2015     December  2014      ASSETS   December  2015     December  2014              CASH, CASH BALANCES AT CENTRAL BANKS AND OTHER DEMAND DEPOSITS (1)   29,282    27,719     CASH AND BALANCES WITH CENTRAL BANKS   43,467    31,430    FINANCIAL ASSETS HELD FOR TRADING   78,326    83,258     FINANCIAL ASSETS HELD FOR TRADING   78,326    83,258    Derivatives   40,902    44,229     Loans and advances to credit institutions   -    -    Equity instruments   4,534    5,017     Loans and advances to customers   65    128    Debt securities   32,825    33,883     Debt securities   32,825    33,883    Loans and advances to central banks   -    -     Equity instruments   4,534    5,017    Loans and advances to credit institutions   -    -     Trading derivatives   40,902    44,229    Loans and advances to customers   65    128                         OTHER FINANCIAL ASSETS DESIGNATED AT FAIR VALUE THROUGH PROFIT OR LOSS   2,311    2,761     OTHER FINANCIAL ASSETS DESIGNATED AT FAIR VALUE THROUGH PROFIT OR LOSS   2,311    2,761    Equity instruments   2,075    2,024     Loans and advances to credit institutions   62    -    Debt securities   173    737     Loans and advances to customers   -    -    Loans and advances to central banks   -    -     Debt securities   173    737    Loans and advances to credit institutions   62    -     Equity instruments   2,075    2,024    Loans and advances to customers   -    -                AVAILABLE-FOR-SALE FINANCIAL ASSETS   113,426    94,875     AVAILABLE-FOR-SALE FINANCIAL ASSETS   113,426    94,875    Equity instruments   5,116    7,267     Debt securities   108,310    87,608    Debt securities   108,310    87,608     Equity instruments   5,116    7,267    LOANS AND RECEIVABLES (2)   471,828    376,086     LOANS AND RECEIVABLES   457,644    372,375    Debt securities   10,516    6,659     Loans and advances to credit institutions   32,962    27,059    Loans and advances to central banks   17,830    5,429     Loans and advances to customers   414,165    338,657    Loans and advances to credit institutions   29,317    25,342     Debt securities   10,516    6,659    Loans and advances to customers   414,165    338,657                HELD-TO-MATURITY INVESTMENTS   -    -     HELD-TO-MATURITY INVESTMENTS   -    -    HEDGING DERIVATIVES   3,538    2,551     FAIR VALUE CHANGES OF THE HEDGED ITEMS IN PORTFOLIO HEDGES OF INTEREST RATE RISK   45    121    FAIR VALUE CHANGES OF THE HEDGED ITEMS IN PORTFOLIO HEDGES OF INTEREST RATE RISK   45    121     HEDGING DERIVATIVES   3,538    2,551    INVESTMENTS IN SUBSIDARIES, JOINT VENTURES AND ASSOCIATES   879    4,509     NON-CURRENT ASSETS HELD FOR SALE   3,369    3,793    Joint ventures   243    4,092     INVESTMENTS IN ENTITIES ACCOUNTED FOR USING THE EQUITY METHOD   879    4,509    Associates   636    417     Associates   636    417    REINSURANCE ASSETS   511    559     Joint ventures   243    4,092    TANGIBLE ASSETS   9,944    7,820     INSURANCE CONTRACTS LINKED TO PENSIONS   -    -    Property, plants and equipment   8,477    6,428     REINSURANCE ASSETS   511    559    For own use   8,021    5,985     TANGIBLE ASSETS   9,944    7,820    Other assets leased out under an operating lease   456    443     Property, plants and equipment   8,477    6,428    Investment properties   1,467    1,392     For own use   8,021    5,985    INTANGIBLE ASSETS   10,052    7,371     Other assets leased out under an operating lease   456    443    Goodwill   6,915    5,697     Investment properties   1,467    1,392    Other intangible assets   3,137    1,673     INTANGIBLE ASSETS   10,052    7,371    TAX ASSETS   17,779    12,426     Goodwill   6,915    5,697    Current   1,901    2,035     Other intangible assets   3,137    1,673    Deferred   15,878    10,391     TAX ASSETS   17,779    12,426    OTHER ASSETS   8,566    8,094     Current   1,901    2,035    Insurance contracts linked to pensions   -    -     Deferred   15,878    10,391    Inventories   4,303    4,443     OTHER ASSETS   8,566    8,094    Rest   4,263    3,651     Inventories   4,303    4,443    NON-CURRENT ASSETS AND DISPOSAL GROUPS HELD FOR SALE (3)   3,369    3,793     Rest   4,263    3,651    TOTAL ASSETS   749,855    631,942     TOTAL ASSETS   749,855    631,942      (1) The main differences with regard to the heading \" Cash and deposits with central banks\" are the inclusion of the balances deposited in Credit Institutions and the reclassification of Loans at central banks to the heading Loans and Receivables (2) The main differences with regard to the heading \"Loans and receivables\" are the inclusion of loans at central banks and the reclassification of balances deposited in Credit institutions to the heading \"Cash, cash balances at central banks and other demand deposits\" (3) Corresponding to the heading \"Non-current assest held-for-sale\" of the previous format                       \n",
      "\n",
      "----------------------------------- 0001047469-17-006466 -----------------------------------\n",
      "len  :4944\n",
      "\n",
      "emp_header  :False\n",
      "\n",
      "first_emp_head_block  :False\n",
      "\n",
      "para_text  :  (a) Represents:  (i) costs and expenses in connection with various restructuring initiatives since the AEA Acquisition, including severance costs, relocation costs, recruiting expenses, write-offs of inventory and fixed assets and third-party consultant costs to assist with these initiatives (includes (A) $16.9 million in fiscal 2016 (all of which is reflected as a component of Restructuring charges in \"Note 12 Restructuring and Related Charges\" to our audited consolidated financial statements) and $19.2 million for the nine months ended June 30, 2017 (all of which is reflected as a component of Restructuring charges in \"Note 11 Restructuring and Related Charges\" to our unaudited condensed consolidated financial statements) related to our voluntary separation plan pursuant to which approximately 220 employees accepted separation packages, and (B) $12.4 million (of which $4.4 million is reflected as a component of Restructuring charges in \"Note 12 Restructuring and Related Charges\" to our audited consolidated financial statements) in the Successor Period, $9.2 million (of which $6.5 million is reflected as a component of Restructuring charges in \"Note 12 Restructuring and Related Charges\" to our audited consolidated financial statements) in fiscal 2015, $11.1 million (all of which is reflected as a component of Restructuring charges in \"Note 12 Restructuring and Related Charges\" to our audited consolidated financial statements) in fiscal 2016, $9.3 million (of which $8.1 million is reflected as a component of Restructuring charges in \"Note 11 Restructuring and Related Charges\" to our unaudited condensed consolidated financial statements) in the nine months ended June 30, 2016 and $6.5 million (of which $2.9 million is reflected as a component of Restructuring charges in \"Note 11 Restructuring and Related Charges\" to our unaudited condensed consolidated financial statements) in the nine months ended June 30, 2017 related to various other initiatives implemented to restructure and reorganize our business as a standalone business with an appropriate management team and cost structure). Differences between amounts reflected as Restructuring charges in \"Note 12 Restructuring and Related Charges\" to our audited financial statements and amounts reflected in this adjustment relate primarily to retention payments made to employees in the Successor Period of $5.6 million that have been reflected as components of Cost of product sales and services ($1.2 million), Research and development expense ($0.2 million), Sales and marketing expense ($1.9 million) and General and administrative expense ($2.3 million) as well as other administrative costs associated with separation from the Predecessor that have been reflected in the Successor Period as a component of General and administrative expense (2.4 million). Differences between amounts reflected as Restructuring charges in \"Note 12 Restructuring and Related Charges\" to our audited financial statements and amounts reflected in this adjustment also relate to retention payments made to employees in fiscal 2015 of $2.5 million that have been reflected as components of Cost of product sales and services ($1.1 million), Research and development expense ($0.1 million), Sales and marketing expense ($1.0 million) and General and administrative expense ($0.3 million). Differences between amounts reflected as Restructuring charges in \"Note 11 Restructuring and Related Charges\" to our unaudited condensed consolidated financial statements in the nine months ended June 30, 2016 and June 30, 2017 and amounts reflected in this adjustment relate primarily to consulting costs and other charges related to implementing such initiatives that have primarily been recorded as a component of General and administrative expense ($1.2 million) in the nine months ended June 30, 2016 and Cost of product sales and services ($1.4 million), Sales and marketing expenses ($1.0 million) and General and administrative expense ($1.0 million) in the nine months ended June 30, 2017; (ii) legal settlement costs and intellectual property related fees associated with legacy matters prior to the AEA Acquisition, including fees and settlement costs related to product warranty litigation on MEMCOR products and certain discontinued products ($11.7 million in the Successor Period, reflected as a component of Cost of product sales and services, $11.7 million in fiscal 2015, reflected as components of Cost of product sales and services ($10.7 million) and General and administrative expenses ($1.0 million), $5.1 million, primarily reflected as a component of Cost of product sales and services in fiscal 2016, $2.5 million, primarily reflected as a component of Cost of product sales and services in the nine months ended June 30, 2016 and $1.8 million, primarily reflected as a component of General and administrative expense in the nine months ended June 30, 2017);    \n",
      "\n",
      "----------------------------------- 0001193125-17-059212 -----------------------------------\n",
      "len  :4868\n",
      "\n",
      "emp_header  :False\n",
      "\n",
      "first_emp_head_block  :False\n",
      "\n",
      "para_text  :        Exhibit No.     Description         4.27   Instruments defining the Rights of Security Holders, Including Indentures-Except as set forth in Exhibits 4.1 through 4.18 above, the instruments defining the rights of holders of long-term debt securities of Morgan Stanley and its subsidiaries are omitted pursuant to Section (b)(4)(iii) of Item 601 of Regulation S-K. Morgan Stanley hereby agrees to furnish copies of these instruments to the U.S. Securities and Exchange Commission upon request.        10.1   Amended and Restated Trust Agreement dated as of October 18, 2011 by and between Morgan Stanley and State Street Bank and Trust Company (Exhibit 10.1 to Morgan Stanley's Annual Report on Form 10-K for the year ended December 31, 2011).        10.2   Amended and Restated Investor Agreement dated as of June 30, 2011 by and between Morgan Stanley and Mitsubishi UFJ Financial Group, Inc. (Exhibit 10.1 to Morgan Stanley's Current Report on Form 8-K dated June 30, 2011), as amended by Third Amendment, dated October 3, 2013 (Exhibit 10.1 to Morgan Stanley's Quarterly Report on Form 10-Q for the quarter ended September 30, 2013) and Fourth Amendment, dated April 6, 2016 (Exhibit 10.1 to Morgan Stanley's Quarterly Report on Form 10-Q for the quarter ended March 31, 2016).        10.3†   Morgan Stanley 401(k) Plan, amended and restated as of January 1, 2013 (Exhibit 10.6 to Morgan Stanley Annual Report on Form 10-K for the year ended December 31, 2012), as amended by Amendment (Exhibit 10.5 to Morgan Stanley's Annual Report on Form 10-K for the year ended December 31, 2013), Amendment (Exhibit 10.6 to Morgan Stanley's Annual Report on Form 10-K for the year ended December 31, 2013). Amendment (Exhibit 10.5 to Morgan Stanley's Annual Report on Form 10-K for the year ended December 31, 2014) and Amendment (Exhibit 10.5 to Morgan Stanley's Annual Report on Form 10-K for the year ended December 31, 2015).        10.4†*   Amendment to Morgan Stanley 401(k) Plan, dated as of December 13, 2016.        10.5†   Tax Deferred Equity Participation Plan as amended and restated as of November 26, 2007 (Exhibit 10.9 to Morgan Stanley's Annual Report on Form 10-K for the fiscal year ended November 30, 2007).        10.6†   Directors' Equity Capital Accumulation Plan as amended and restated as of August 1, 2016 (Exhibit 10.1 to Morgan Stanley's Quarterly Report on Form 10-Q for the quarter ended June 30, 2016).        10.7†   Employees' Equity Accumulation Plan as amended and restated as of November 26, 2007 (Exhibit 10.12 to Morgan Stanley's Annual Report on Form 10-K for the fiscal year ended November 30, 2007).        10.8†   Employee Stock Purchase Plan as amended and restated as of February 1, 2009 (Exhibit 10.20 to Morgan Stanley's Annual Report on Form 10-K for the fiscal year ended November 30, 2008).        10.9†   Morgan Stanley Supplemental Executive Retirement and Excess Plan, amended and restated effective December 31, 2008 (Exhibit 10.2 to Morgan Stanley's Quarterly Report on Form 10-Q for the quarter ended March 31, 2009) as amended by Amendment (Exhibit 10.5 to Morgan Stanley's Quarterly Report on Form 10-Q for the quarter ended June 30, 2009), Amendment (Exhibit 10.19 to Morgan Stanley's Annual Report on Form 10-K for the year ended December 31, 2010), Amendment (Exhibit 10.3 to Morgan Stanley's Quarterly Report on Form 10-Q for the quarter ended June 30, 2011) and Amendment (Exhibit 10.1 to Morgan Stanley's Quarterly Report on Form 10-Q for the quarter ended September 30, 2014).        10.10†   1995 Equity Incentive Compensation Plan (Annex A to MSG's Proxy Statement for its 1996 Annual Meeting of Stockholders) as amended by Amendment (Exhibit 10.39 to Morgan Stanley's Annual Report on Form 10-K for the fiscal year ended November 30, 2000), Amendment (Exhibit 10.5 to Morgan Stanley's Quarterly Report on Form 10-Q for the quarter ended August 31, 2005), Amendment (Exhibit 10.3 to Morgan Stanley's Quarterly Report on Form 10-Q for the quarter ended February 28, 2006), Amendment (Exhibit 10.24 to Morgan Stanley's Annual Report on Form 10-K for the fiscal year ended November 30, 2006) and Amendment (Exhibit 10.22 to Morgan Stanley's Annual Report on Form 10-K for the fiscal year ended November 30, 2007).        10.11†   Form of Management Committee Equity Award Certificate for Discretionary Retention Award of Stock Units and Stock Options (Exhibit 10.30 to Morgan Stanley's Annual Report on Form 10-K for the fiscal year ended November 30, 2006).        10.12†   Form of Deferred Compensation Agreement under the Pre-Tax Incentive Program 2 (Exhibit 10.12 to MSG's Annual Report for the fiscal year ended November 30, 1996).        10.13†   Key Employee Private Equity Recognition Plan (Exhibit 10.43 to Morgan Stanley's Annual Report on Form 10-K for the fiscal year ended November 30, 2000).  \n",
      "\n",
      "----------------------------------- 0001144204-17-012180 -----------------------------------\n",
      "len  :4213\n",
      "\n",
      "emp_header  :False\n",
      "\n",
      "first_emp_head_block  :False\n",
      "\n",
      "para_text  : TABLE OF CONTENTS The federal False Claims Act imposes civil penalties, including through civil whistleblower or qui tam actions, against individuals or entities for knowingly presenting, or causing to be presented, to the federal government, claims for payment that are false or fraudulent or making a false statement to avoid, decrease or conceal an obligation to pay money to the federal government. The government and qui tam relators have brought False Claims Act actions against pharmaceutical companies on the theory that their practices have caused false claims to be presented to the government. There is also a separate false claims provision imposing criminal penalties. Other federal healthcare fraud-related laws also provide criminal liability for violations. The Criminal Healthcare Fraud statute (18 U.S.C. §1347) prohibits knowingly and willfully executing a scheme to defraud any healthcare benefit program, including private third-party payers. Federal criminal law at 18 U.S.C. §1001, among other sections, prohibits knowingly and willfully falsifying, concealing or covering up a material fact or making any materially false, fictitious or fraudulent statement in connection with the delivery of or payment for healthcare benefits, items or services. Other Laws The Health Insurance Portability and Accountability Act of 1996, or HIPAA, as amended by the Health Information Technology for Economic and Clinical Health Act, imposes criminal liability for executing a scheme to defraud any healthcare benefit program and also imposes obligations, including mandatory contractual terms, with respect to safeguarding the privacy, security and transmission of individually identifiable health information. HIPAA also imposes criminal liability for knowingly and willfully falsifying, concealing or covering up a material fact or making any materially false statements in connection with the delivery of or payment for healthcare benefits, items or services. The federal Physician Payments Sunshine Act requirements under the ACA, and its implementing regulations, require manufacturers of drugs, devices, biologics and medical supplies to report to the Department of Health and Human Services information related to payments and other transfers of value made to covered recipients, such as physicians and teaching hospitals, and physician ownership and investment interests. Payments made to physicians and research institutions for clinical trials are included within the ambit of this law. A number of states also have statutes or regulations similar to the federal Anti-Kickback Statute and False Claims Act that apply to items and services reimbursed under Medicaid and other state programs. Some state anti-kickback statutes apply not just to government payors, but to all payors, including commercial payors. Employees As of December 31, 2016, we had 456 employees, including 169 in research and development, 137 in our commercial organization, 66 in our medical affairs group and 84 in general and administrative supporting functions. Geographically, 332 of our employees were based in the United States and 124 were based outside the United States. None of our employees are represented by a labor union and we consider our employee relations to be good. Corporate Information We were incorporated in the State of Delaware on September 4, 2002. Our principal executive offices are located at 450 West 15th Street, Suite 505, New York, NY 10011, and our telephone number is (646) 747-1000. We also have administrative offices in San Diego, California and London, United Kingdom. Our corporate website address is www.interceptpharma.com. Our Annual Report on Form 10-K, Quarterly Reports on Form 10-Q, Current Reports on Form 8-K, and amendments to reports filed pursuant to Sections 13(a) and 15(d) of the Securities Exchange Act of 1934, as amended, or the Exchange Act, are available free of charge on our website as soon as reasonably practicable after we electronically file such material with, or furnish it to, the Securities and Exchange Commission. The Securities and Exchange Commission maintains an internet site that contains our public filings with the Securities and Exchange \n",
      "\n",
      "----------------------------------- 0001144204-17-010224 -----------------------------------\n",
      "len  :3972\n",
      "\n",
      "emp_header  :False\n",
      "\n",
      "first_emp_head_block  :False\n",
      "\n",
      "para_text  : TABLE OF CONTENTS Contracted Power - (continued) Seasonality Each CP facility has unique seasonality based on local market factors including weather and energy demand. The solar projects generate a disproportionate amount of their revenue in the summer months when insolation is highest, while wind energy revenues vary by season depending on the location of the specific project. Other CP projects may also exhibit seasonality based on the respective market's varying electricity demand. For example, BEC is a peaking power plant that is dispatched when energy demand increases above a base load, therefore BEC is dispatched more often in the summer and winter months. Competition The contracted portion of CP's business is not subject to substantial direct competitive price pressure due to the long-term nature of the PPAs and tolling agreements with creditworthy off-takers. Our BEC facility has incremental generating capacity which is available for sale in the spot power market. After the expiration of the PPAs or tolling agreements, our facilities could be subject to greater competition. Regulation The power and energy sectors are the subject of substantial and complex laws, rules and regulations. Sector regulators include the Federal Energy Regulatory Commission (FERC) and the North American Electric Reliability Corporation (NERC). The FERC has jurisdiction over the transmission and wholesale sale of electricity in interstate commerce and over the transportation, storage and certain sales of natural gas in interstate commerce, including the rates, charges and other terms and conditions for such services. The NERC serves to establish and enforce reliability standards applicable to all users, owners and operators of the bulk power system. The U.S. Environmental Protection Agency also oversees certain environmental matters related to the construction and operations of CP's electric generating facilities. The New York competitive wholesale electricity market in which BEC participates is administered by the New York Independent System Operator (NYISO). NYISO is a not-for-profit agency that serves to ensure regional grid reliability, comprehensive planning, and open and efficient markets. BEC is also subject to certain New York State and New York City regulations and to environmental regulations by the State of New Jersey's Department of Environmental Protection. Each of the solar and wind facilities comprising CP is subject to regulation and oversight in the jurisdictions in which they operate. Employees and Management At December 31, 2016, the CP businesses had seven employees and two contractors that provide certain management oversight, while O&M is provided by third parties. MIC Hawaii Industry Overview Beginning in 2008 with the Hawaii Clean Energy Initiative, Hawaii implemented a RPS that required increasing levels of electricity be derived from renewable resources with the goal of generating cleaner and lower cost electricity. In 2015, Hawaii accelerated its RPS and currently targets 100% of its electricity generated from renewable resources by 2045 with interim milestones in 2020, 2030 and 2040. MIC Hawaii's businesses support the State's clean energy goals of lowering emissions, increasing energy security and decreasing costs for all energy users in Hawaii. For example, at Hawaii Gas, we are focused on diversifying our feedstock to include fuels which are cleaner burning and have the potential to lower energy costs for our customers, such as renewable natural gas (RNG) and liquefied natural gas (LNG). Further, natural gas-fired generation better complements Hawaii's growing renewable power generation sources given its efficiency and operating flexibility. At Waihonu Solar, we are generating renewable energy that serves customers on Oahu. At Critchfield Pacific, Inc. (CPI), we work with customers to lower their overall energy use through the design and construction of energy efficient infrastructure. \n",
      "\n",
      "----------------------------------- 0001144204-17-021318 -----------------------------------\n",
      "len  :3904\n",
      "\n",
      "emp_header  :False\n",
      "\n",
      "first_emp_head_block  :False\n",
      "\n",
      "para_text  :  Members Name (age), position  Member since  Audit Committee  Personnel Committee  Related Parties Committee  Nomination and Corporate Governance Committee  Risk and Capital Management Committee  Strategy Committee  Compensation Committee(1)  International Advisory Council(2)   Board of Directors (3) (12 members)                         Pedro Moreira Salles (57), Chairman  08/2009                     Alfredo Egydio Arruda Villela Filho (47), Vice Chairman  03/2003                     Roberto Egydio Setubal (62), Vice Chairman  03/2003                     Alfredo Egydio Setubal (58), Member  06/2007                     Candido Botelho Bracher (58), Member  02/2009                     Demosthenes Madureira de Pinho Neto (56), Member  05/2012                     Fábio Colletti Barbosa (62), Independent Member  07/2015                     Gustavo Jorge Laboissière Loyola (64), Independent Member  07/2006                     José Gall  (65), Independent Member  04/2016                     Nildemar Secches (68), Independent Member  05/2012                     Pedro Luiz Bodin de Moraes (60), Independent Member  02/2009                     Ricardo Villela Marino (42), Member  06/2008                                          Board of Officers (24 members)                         Roberto Egydio Setubal (62), Chief Executive Officer  11/1995                     Candido Botelho Bracher (58), General Manager  08/2005                     Márcio de Andrade Schettini (52), General Manager  07/2015                     Marco Ambrogio Crespi Bonomi (60), General Manager  07/2015                     Eduardo Mazzilli de Vassimon (58), General Manager  03/2013                     André Sapoznik (44), Vice President  12/2016                     Caio Ibrahim David (48), Chief Financial Officer and Vice President  12/2016                     Claudia Politanski (46), Vice President  11/2008                     Alexsandro Broedel Lopes (42), Executive Officer  08/2012                     Fernando Barçante Tostes Malta (48), Executive Officer  04/2016                     Leila Cristiane Barboza Braga de Melo (45), Executive Officer  04/2015                     Paulo Sergio Miron (50), Executive Officer  07/2015                     Adriano Cabral Volpini (44), Officer  02/2015                     Álvaro Felipe Rizzi Rodrigues (39), Officer  04/2015                     Atilio Luiz Magila Albiero Junior (39), Officer  04/2016                     Eduardo Hiroyuki Miyaki (44), Officer  08/2011                     Emerson Macedo Bortoloto (39), Officer  11/2011                     Gilberto Frussa (50), Officer  04/2016                     José Virgilio Vita Neto (38), Officer  04/2015                     Marcelo Kopel (52), Officer and Investor Relations Officer  06/2014                     Matias Granata (42), Officer  07/2014                     Rodrigo Luis Rosa Couto (41), Officer  01/2012                     Sergio Mychkis Goldstein (39), Officer  04/2016                     Wagner Bettini Sanches (45), Officer  06/2014                                          Audit Committee(3) (5 members)                         Antonio Francisco de Lima Neto (51), Independent Member  07/2015                     Diego Fresco Gutierrez (46), Independent Member and Financial Expert  04/2014                     Geraldo Travaglia Filho (65), Independent Member  03/2013                     Maria Helena dos Santos Fernandes de Santana (57), Independent Member  06/2014                     Rogério Paulo Calder n Peres (54), Independent Member  11/2016                                          Fiscal Council(3) (3 members)                         Alkimar Ribeiro Moura (75), Independent Member  04/2016                     Carlos Roberto de Albuquerque Sá (66), Independent Member  04/2016                     José Caruso Cruz Henriques (69), Independent Member  04/2016                  \n",
      "\n",
      "----------------------------------- 0001144204-17-010224 -----------------------------------\n",
      "len  :3878\n",
      "\n",
      "emp_header  :False\n",
      "\n",
      "first_emp_head_block  :False\n",
      "\n",
      "para_text  : TABLE OF CONTENTS IMTT - (continued) Regulation The rates that IMTT charges for its services are not subject to regulation. However, a number of regulatory bodies oversee IMTT's operations. IMTT must comply with numerous federal, state and local environmental, occupational health and safety, security, tax and planning statutes and regulations. These regulations require IMTT to obtain and maintain permits to operate its facilities and impose standards that govern the way IMTT operates its business. If IMTT does not comply with the relevant regulations, it could lose its operating permits and/or incur fines and increased liability. As a result, IMTT has developed environmental and health and safety compliance functions overseen by terminal managers at the terminal level, as well as by IMTT's Vice President of Environmental, Health, Safety and Security, Chief Operating Officer and Chief Executive Officer. While changes in environmental, health and safety regulations pose a risk of higher operating costs, such changes are generally phased in over time to manage the impact on both the industry and the business. The Bayonne terminal has significant environmental remediation requirements that were partially assumed at the time of purchase from the various former owners. One former owner retained environmental remediation responsibilities for a purchased site as well as responsibility for sharing other remediation costs. Remediation efforts entail removal of the free product, groundwater control and treatment, soil treatment, repair/replacement of sewer systems, and the implementation of containment and monitoring systems. These remediation activities are expected to continue for an additional ten to twenty years. See \"Legal Proceedings\" in Part I, Item 3, for further discussions. The Lemont terminal has entered into a consent order with the State of Illinois to remediate contamination at the site that pre-dated IMTT's ownership. This remediation effort, including the implementation of extraction and monitoring wells and soil treatment, is estimated to continue for an additional ten to twenty years. Employees and Management As of December 31, 2016, IMTT (excluding the Newfoundland terminal) had a total of 1,052 employees, of which 230 employees were unionized. In January 2017, IMTT agreed to a new, five year collective bargaining agreement with its Bayonne employees represented by the United Steel Workers. This agreement is expected to be executed within the quarter ended March 31, 2017. We believe employee relations at IMTT are good. The day-to-day operations of IMTT are managed by individual terminal managers who are responsible for most aspects of the operations at their terminals. IMTT's operations are overseen by senior personnel with significant experience in the bulk liquid storage industry. Management of the business is headquartered in New Orleans, Louisiana. Atlantic Aviation Industry Overview Fixed based operations (FBOs) primarily service the GA corporate and leisure flying segment of the air transportation industry. Local airport authorities own the airport properties and grant FBO operators the right to provide fueling and other services pursuant to long-term ground leases. Fueling services provide the majority of an FBO's revenue and gross margin. FBOs often operate in environments with high barriers to entry. Airports tend to have limited physical space for additional FBOs. Airport authorities generally do not have an incentive to add additional FBOs unless there is a significant demand for additional services. Government approvals and design and construction of a new FBO can also take significant time and require significant capital expenditures. Furthermore, airports typically impose minimum standards with respect to the experience, capital investment and breadth of services provided by the FBO. \n",
      "\n",
      "----------------------------------- 0000930413-17-000981 -----------------------------------\n",
      "len  :3862\n",
      "\n",
      "emp_header  :False\n",
      "\n",
      "first_emp_head_block  :False\n",
      "\n",
      "para_text  :   Form 20-F Item Number and Caption Location Page   Part I      Item 1. Identity of Directors, Senior Management and Advisers      A. Directors and senior management Not applicable.     B. Advisers Not applicable.     C. Auditors Not applicable.    Item 2. Offer Statistics and Expected Timetable      A. Offer statistics Not applicable.     B. Method and expected timetable Not applicable.    Item 3. Key Information      A. Selected financial data \"Selected consolidated financial data\" 3     \"Exchange rates\" 4    B. Capitalisation and indebtedness Not applicable.     C. Reason for the offer and use of proceeds Not applicable.     D. Risk factors \"Risk factors\" 197-214   Item 4. Information on the Company      A. History and development of the company \"Business overview\" 2     \"Business - History and development of Lloyds Banking Group\" 4     \"Business - Legal actions and regulatory matters\" 6-9     \"Operating and financial review and prospects - Line of business information\" 24-27    B. Business overview \"Business overview\" 2     \"Business - Legal actions and regulatory matters\" 6-9     \"Operating and financial review and prospects - Line of business information\" 24-27     \"Regulation\" 178-181    C. Organisational structure \"Lloyds Banking Group structure\" 216    D. Property, plant and equipment \"Business - Properties\" 6   Item 4A. Unresolved Staff Comments Not applicable.    Item 5. Operating and Financial Review and Prospects      A. Operating results \"Operating and financial review and prospects\" 10-116     \"Operating and financial review and prospects - Credit risk\" 53-85     \"Regulation\" 178-181     \"Operating and financial review and prospects - Market Risk\" 87-92    B. Liquidity and capital resources \"Operating and financial review and prospects - Risk elements in the loan portfolio - Cross border outstandings\" 85     \"Operating and financial review and prospects - Funding and Liquidity Risk\" 95-100     \"Operating and financial review and prospects - Capital risk\" 101-109     \"Operating and financial review and prospects - Investment portfolio, maturities, deposits, short-term borrowings\" 113-116     \"Dividends\" 185     \"Notes to the consolidated financial statements - note 48\" F-70    C. Research and development, patents and licenses, etc. Not applicable.     D. Trend information \"Operating and financial review and prospects - Overview and trend information\" 11-12    E. Off-balance sheet arrangements \"Operating and financial review and prospects - Funding and liquidity risk - Off balance sheet arrangements\" - also refer to financial notes 100    F. Tabular disclosure of contractual obligations \"Operating and financial review and prospects - Funding and liquidity risk - Contractual cash obligations\" 100    G. Safe harbor \"Forward looking statements\" 215   Item 6. Directors, Senior Management and Employees      A. Directors and senior management \"Management and employees - Directors and senior management\" 117-120    B. Compensation \"Compensation\" - also refer to financial notes 120-151    C. Board practices \"Management and employees\" 117-120     \"Articles of association of Lloyds Banking Group plc\" 190     \"Management and employees - Employees\" 120     \"Compensation - Service agreements\" 131     \"Corporate governance - Leadership\" 153     \"Corporate governance - the Board in 2016\" 154-161     \"Corporate governance - Audit Committee Report\" 167-170     \"Compensation - Annual report on remuneration - Remuneration Committee\" 150-151    D. Employees \"Management and employees - Employees\" 120    E. Share ownership \"Compensation - Outstanding share awards\" 145-149     \"Notes to the consolidated financial statements - note 2\" F-15   Item 7. Major Shareholders and Related Party Transactions      A. Major shareholders \"Major shareholders and related party transactions - Major shareholders\" 177  \n",
      "\n",
      "----------------------------------- 0001144204-17-010224 -----------------------------------\n",
      "len  :3795\n",
      "\n",
      "emp_header  :False\n",
      "\n",
      "first_emp_head_block  :False\n",
      "\n",
      "para_text  : TABLE OF CONTENTS Atlantic Aviation - (continued) Competition Atlantic Aviation directly competes with other FBO operators at more than half of its locations. The FBOs compete on the basis of location of the facility relative to runways and street access, service, safety, value-added features, reliability and price. Each FBO also faces competitive pressure from the fact that aircraft may take on sufficient fuel at one location and not need to refuel at a specific destination. FBO operators also face indirect competition from facilities located at nearby airports. Atlantic Aviation's main competitors are Signature Flight Support, Jet Aviation, Million Air, Sheltair Aviation and TAC Air. In February 2016, Signature Flight Support acquired Landmark Aviation, resulting in the combination of two of Atlantic Aviation's biggest competitors. Signature Flight Support competes with Atlantic at 22 airports, but only three of these locations were added as a result of the merger. Atlantic Aviation has not noticed a significant shift in customer or competitor behavior and remains confident in its ability to compete effectively. To our knowledge, other than the competitors listed, no other competitor operated more than 20 FBOs in the U.S. at December 31, 2016. Customers Atlantic Aviation does not depend on a single customer, the loss of which would have a material adverse effect on the business. Regulation The aviation industry is overseen by a number of regulatory bodies, but its primary regulator is the FAA. In addition, local airport authorities also regulate the FBOs. The business must comply with federal, state and local environmental statutes and regulations associated in part with the operation of fuel storage tank systems and mobile fueling vehicles. These requirements include, among other things, tank and pipe testing for tightness, soil sampling for evidence of leaking and remediation of detected leaks and spills. Atlantic Aviation's FBOs are subject to regular inspection by federal and local environmental agencies as well as local fire departments and other agencies. The business does not expect that compliance and related remediation work, if any, will have a material negative impact on earnings or the competitive position of Atlantic Aviation. The business has not received notice requiring it to cease operations at any location or of any abatement proceeding by any government agency as a result of failure to comply with applicable environmental laws and regulations. Employees and Management As of December 31, 2016, the business employed 1,956 people, of which 190 employees were subject to collective bargaining agreements. We believe relations with union and non-union employees at Atlantic Aviation are good. The day-to-day operations of Atlantic Aviation are managed by individual site managers who are responsible for most aspects of the operations at their site. Atlantic Aviation's operations are overseen by senior personnel with significant experience in the aviation industry. Contracted Power Industry Overview The power industry represents a large and critical infrastructure market, both in terms of the number and value of facilities as well as their contribution to overall economic activity. In developed economies, capital spending in the sector is driven by aging infrastructure, new technologies, increased legislation regarding emissions, the use of renewable energy and modest demand growth. The Energy Information Administration forecasts the demand for electricity in the U.S. to grow at a compound annual rate of approximately 0.7% over the next twenty years. As aging and inefficient generating capacity is retired or replaced, opportunities for deployment of capital in the growth of our CP segment are expected to increase. \n",
      "\n",
      "----------------------------------- 0001047469-17-006466 -----------------------------------\n",
      "len  :3791\n",
      "\n",
      "emp_header  :False\n",
      "\n",
      "first_emp_head_block  :False\n",
      "\n",
      "para_text  :assist with these initiatives (includes (A) $16.9 million in fiscal 2016 (all of which is reflected as a component of Restructuring charges in \"Note 12 Restructuring and Related Charges\" to our audited consolidated financial statements) and $19.2 million for the nine months ended June 30, 2017 (all of which is reflected as a component of Restructuring charges in \"Note 11 Restructuring and Related Charges\" to our unaudited condensed consolidated financial statements) related to our voluntary separation plan pursuant to which approximately 220 employees accepted separation packages, and (B) $12.4 million (of which $4.4 million is reflected as a component of Restructuring charges in \"Note 12 Restructuring and Related Charges\" to our audited consolidated financial statements) in the Successor Period, $9.2 million (of which $6.5 million is reflected as a component of Restructuring charges in \"Note 12 Restructuring and Related Charges\" to our audited consolidated financial statements) in fiscal 2015, $11.1 million (all of which is reflected as a component of Restructuring charges in \"Note 12 Restructuring and Related Charges\" to our audited consolidated financial statements) in fiscal 2016, $9.3 million (of which $8.1 million is reflected as a component of Restructuring charges in \"Note 11 Restructuring and Related Charges\" to our unaudited condensed consolidated financial statements) in the nine months ended June 30, 2016 and $6.5 million (of which $2.9 million is reflected as a component of Restructuring charges in \"Note 11 Restructuring and Related Charges\" to our unaudited condensed consolidated financial statements) in the nine months ended June 30, 2017 related to various other initiatives implemented to restructure and reorganize our business as a standalone business with an appropriate management team and cost structure). Differences between amounts reflected as Restructuring charges in \"Note 12 Restructuring and Related Charges\" to our audited financial statements and amounts reflected in this adjustment relate primarily to retention payments made to employees in the Successor Period of $5.6 million that have been reflected as components of Cost of product sales and services ($1.2 million), Research and development expense ($0.2 million), Sales and marketing expense ($1.9 million) and General and administrative expense ($2.3 million) as well as other administrative costs associated with separation from the Predecessor that have been reflected in the Successor Period as a component of General and administrative expense ($2.4 million). Differences between amounts reflected as Restructuring charges in \"Note 12 Restructuring and Related Charges\" to our audited financial statements and amounts reflected in this adjustment also relate to retention payments made to employees in fiscal 2015 of $2.5 million that have been reflected as components of Cost of product sales and services ($1.1 million), Research and development expense ($0.1 million), Sales and marketing expense ($1.0 million) and General and administrative expense ($0.3 million). Differences between amounts reflected as Restructuring charges in \"Note 11 Restructuring and Related Charges\" to our unaudited condensed consolidated financial statements in the nine months ended June 30, 2016 and June 30, 2017 and amounts reflected in this adjustment relate primarily to consulting costs and other charges related to implementing such initiatives that have primarily been recorded as a component of General and administrative expense ($1.2 million) in the nine months ended June 30, 2016 and Cost of product sales and services ($1.4 million), Sales and marketing expenses ($1.0 million) and General and administrative expense ($1.0 million) in the nine months ended June 30, 2017;\n",
      "\n"
     ]
    }
   ],
   "source": [
    "print_row_detail(df=train_df, nrow=10, header_list = ['acc_id'  ],\n",
    "                    detail_list = ['len', 'emp_header', 'first_emp_head_block', 'para_text'],\n",
    "                    sortby=['len', 'acc_id'], ascending=False)"
   ]
  },
  {
   "cell_type": "code",
   "execution_count": 491,
   "metadata": {
    "ExecuteTime": {
     "end_time": "2018-06-28T20:25:15.448098Z",
     "start_time": "2018-06-28T20:24:49.715299Z"
    },
    "scrolled": true
   },
   "outputs": [
    {
     "name": "stdout",
     "output_type": "stream",
     "text": [
      "Index number: \n",
      "1298\n",
      "File path: \n",
      "c:/projects/DSBC/capstone/sec_employee_information_extraction/../employee_filings/0001193125-17-106055.html\n",
      "1\n",
      "p\n",
      "<p class=\"c44\">D. <a id=\"tx368256_32\" name=\"tx368256_32\"></a>Employees</p>\n",
      "Block sibling number: 0\n",
      "Found match!\n",
      "<p class=\"c43\">As of December 31, 2016, we, through our various subsidiaries, had 134,792 employees.\n",
      "Approximately 88% of our employees in Spain held technical, managerial and executive positions, while the\n",
      "remainder were clerical and support staff. The table below sets forth the number of BBVA employees by\n",
      "geographic area.</p>\n",
      "As of December 31, 2016, we, through our various subsidiaries, had 134,792 employees.\n",
      "Approximately 88% of our employees in Spain held technical, managerial and executive positions, while the\n",
      "remainder were clerical and support staff. The table below sets forth the number of BBVA employees by\n",
      "geographic area.\n",
      "Block sibling number: 1\n",
      "Block sibling number: 2\n",
      "Block sibling number: 3\n",
      "Block sibling number: 4\n",
      "Block sibling number: 5\n",
      "No Employees header\n",
      "Para number: 0\n",
      "Original match has no name\n",
      "Original match:  Employees\n",
      "Block match name:  p\n",
      "Block:  \n",
      "<p class=\"c37\"><a href=\"#tx368256_32\">Employees</a></p>\n",
      "<class 'bs4.element.Tag'>\n",
      "Block Text:  \n",
      "Employees\n",
      "Para number: 1\n",
      "Original match has no name\n",
      "Original match:  As of December 31, 2016, the BBVA Group had 134,792 employees, 70 million customers, 8,660\n",
      "branches and 31,120 ATMs and was present in 35 countries. As of such date the BBVA Group was composed of 370\n",
      "consolidated entities and 89 entities accounted for using the equity method.\n",
      "Block match name:  p\n",
      "Block:  \n",
      "<p class=\"c41\">As of December 31, 2016, the BBVA Group had 134,792 employees, 70 million customers, 8,660\n",
      "branches and 31,120 ATMs and was present in 35 countries. As of such date the BBVA Group was composed of 370\n",
      "consolidated entities and 89 entities accounted for using the equity method.</p>\n",
      "<class 'bs4.element.Tag'>\n",
      "Block Text:  \n",
      "As of December 31, 2016, the BBVA Group had 134,792 employees, 70 million customers, 8,660 branches and 31,120 ATMs and was present in 35 countries. As of such date the BBVA Group was composed of 370 consolidated entities and 89 entities accounted for using the equity method.\n",
      "Para number: 2\n",
      "Original match has no name\n",
      "Original match:  Administration costs of this operating segment for the year ended December 31, 2015 were €2,403\n",
      "million, a 7.9% increase compared with the €2,226 million recorded for the year ended December 31, 2014, mainly\n",
      "as a result of the construction of new headquarters (in particular, the Bancomer tower which was inaugurated in\n",
      "February 2016), which was adversely affected by the depreciation of the Mexican peso against the U.S. dollar,\n",
      "the implementation of a project pursuing branch improvements and the addition of 392 employees during 2015.\n",
      "Block match name:  p\n",
      "Block:  \n",
      "<p class=\"c43\">Administration costs of this operating segment for the year ended December 31, 2015 were €2,403\n",
      "million, a 7.9% increase compared with the €2,226 million recorded for the year ended December 31, 2014, mainly\n",
      "as a result of the construction of new headquarters (in particular, the Bancomer tower which was inaugurated in\n",
      "February 2016), which was adversely affected by the depreciation of the Mexican peso against the U.S. dollar,\n",
      "the implementation of a project pursuing branch improvements and the addition of 392 employees during 2015.</p>\n",
      "<class 'bs4.element.Tag'>\n",
      "Block Text:  \n",
      "Administration costs of this operating segment for the year ended December 31, 2015 were €2,403 million, a 7.9% increase compared with the €2,226 million recorded for the year ended December 31, 2014, mainly as a result of the construction of new headquarters (in particular, the Bancomer tower which was inaugurated in February 2016), which was adversely affected by the depreciation of the Mexican peso against the U.S. dollar, the implementation of a project pursuing branch improvements and the addition of 392 employees during 2015.\n",
      "Para number: 3\n",
      "Original match has no name\n",
      "Original match:  We are managed by a Board of Directors that currently has 14 members.\n",
      "Block match name:  p\n",
      "Block:  \n",
      "<p class=\"c43\">We are managed by a Board of Directors that currently has 14 members.</p>\n",
      "<class 'bs4.element.Tag'>\n",
      "Block Text:  \n",
      "We are managed by a Board of Directors that currently has 14 members.\n",
      "Para number: 4\n",
      "Original match has no name\n",
      "Original match:  Our Board of Directors is currently comprised of 14 members.\n",
      "Block match name:  p\n",
      "Block:  \n",
      "<p class=\"c43\">Our Board of Directors is currently comprised of 14 members.</p>\n",
      "<class 'bs4.element.Tag'>\n",
      "Block Text:  \n",
      "Our Board of Directors is currently comprised of 14 members.\n",
      "Para number: 5\n",
      "Original match has no name\n",
      "Original match:  Includes aggregate information regarding the members of the BBVA Group Senior\n",
      "Management, excluding executive directors, who were members of the Senior Management at December 31, 2016 (14\n",
      "members).\n",
      "Block match name:  p\n",
      "Block:  \n",
      "<p class=\"c44\">D. <a id=\"tx368256_32\" name=\"tx368256_32\"></a>Employees</p>\n",
      "<class 'bs4.element.Tag'>\n",
      "Block Text:  \n",
      "D. Employees\n",
      "Para number: 6\n",
      "Original match has no name\n",
      "Original match:  Employees\n",
      "Block match name:  p\n",
      "Block:  \n",
      "<p class=\"c43\">As of December 31, 2016, we, through our various subsidiaries, had 134,792 employees.\n",
      "Approximately 88% of our employees in Spain held technical, managerial and executive positions, while the\n",
      "remainder were clerical and support staff. The table below sets forth the number of BBVA employees by\n",
      "geographic area.</p>\n",
      "<class 'bs4.element.Tag'>\n",
      "Block Text:  \n",
      "As of December 31, 2016, we, through our various subsidiaries, had 134,792 employees. Approximately 88% of our employees in Spain held technical, managerial and executive positions, while the remainder were clerical and support staff. The table below sets forth the number of BBVA employees by geographic area.\n",
      "Para number: 7\n",
      "Original match has no name\n",
      "Original match:  As of December 31, 2016, we, through our various subsidiaries, had 134,792 employees.\n",
      "Approximately 88% of our employees in Spain held technical, managerial and executive positions, while the\n",
      "remainder were clerical and support staff. The table below sets forth the number of BBVA employees by\n",
      "geographic area.\n",
      "Block match name:  p\n",
      "Block:  \n",
      "<p class=\"c41\">As of December 31, 2015, we, through our various subsidiaries, had 137,968 employees.\n",
      "Approximately 88% of our employees in Spain held technical, managerial and executive positions, while the\n",
      "remainder were clerical and support staff. The table below sets forth the number of BBVA employees by\n",
      "geographic area.</p>\n",
      "<class 'bs4.element.Tag'>\n",
      "Block Text:  \n",
      "As of December 31, 2015, we, through our various subsidiaries, had 137,968 employees. Approximately 88% of our employees in Spain held technical, managerial and executive positions, while the remainder were clerical and support staff. The table below sets forth the number of BBVA employees by geographic area.\n",
      "Para number: 8\n",
      "Original match has no name\n",
      "Original match:  As of December 31, 2015, we, through our various subsidiaries, had 137,968 employees.\n",
      "Approximately 88% of our employees in Spain held technical, managerial and executive positions, while the\n",
      "remainder were clerical and support staff. The table below sets forth the number of BBVA employees by\n",
      "geographic area.\n",
      "Block match name:  p\n",
      "Block:  \n",
      "<p class=\"c41\">As of December 31, 2014, we, through our various subsidiaries, had 108,770 employees.\n",
      "Approximately 87% of our employees in Spain held technical, managerial and executive positions, while the\n",
      "remainder were clerical and support staff. The table below sets forth the number of BBVA employees by\n",
      "geographic area.</p>\n",
      "<class 'bs4.element.Tag'>\n",
      "Block Text:  \n",
      "As of December 31, 2014, we, through our various subsidiaries, had 108,770 employees. Approximately 87% of our employees in Spain held technical, managerial and executive positions, while the remainder were clerical and support staff. The table below sets forth the number of BBVA employees by geographic area.\n",
      "Para number: 9\n",
      "Original match has no name\n",
      "Original match:  As of December 31, 2014, we, through our various subsidiaries, had 108,770 employees.\n",
      "Approximately 87% of our employees in Spain held technical, managerial and executive positions, while the\n",
      "remainder were clerical and support staff. The table below sets forth the number of BBVA employees by\n",
      "geographic area.\n",
      "Block match name:  p\n",
      "Block:  \n",
      "<p class=\"c41\">As of December 31, 2016, 2015 and 2014, we had 1,598, 1,507 and 869 temporary employees in our\n",
      "Spanish offices, respectively.</p>\n",
      "<class 'bs4.element.Tag'>\n",
      "Block Text:  \n",
      "As of December 31, 2016, 2015 and 2014, we had 1,598, 1,507 and 869 temporary employees in our Spanish offices, respectively.\n",
      "Para number: 10\n",
      "Original match has no name\n",
      "Original match:  As of December 31, 2016, 2015 and 2014, we had 1,598, 1,507 and 869 temporary employees in our\n",
      "Spanish offices, respectively.\n",
      "Block match name:  p\n",
      "Block:  \n",
      "<p class=\"c41\">As of March 29, 2017 a total of 20,438 employees (excluding the members of the Senior Management\n",
      "and executive directors) owned 58,072,012 shares, which represented 0.88% of our capital stock.</p>\n",
      "<class 'bs4.element.Tag'>\n",
      "Block Text:  \n",
      "As of March 29, 2017 a total of 20,438 employees (excluding the members of the Senior Management and executive directors) owned 58,072,012 shares, which represented 0.88% of our capital stock.\n",
      "Para number: 11\n",
      "Original match has no name\n",
      "Original match:  As of March 29, 2017 a total of 20,438 employees (excluding the members of the Senior Management\n",
      "and executive directors) owned 58,072,012 shares, which represented 0.88% of our capital stock.\n",
      "Block match name:  p\n",
      "Block:  \n",
      "<p class=\"c41\">As of the date of this Annual Report, our Board of Directors has a large number of <span class=\"c10\">non-executive</span> directors and seven out of the 14 members of our Board are independent under the\n",
      "definition of independence described above, which is in line with the definition provided by the Spanish\n",
      "Corporate Enterprises Act.</p>\n",
      "<class 'bs4.element.Tag'>\n",
      "Block Text:  \n",
      "As of the date of this Annual Report, our Board of Directors has a large number of non-executive directors and seven out of the 14 members of our Board are independent under the definition of independence described above, which is in line with the definition provided by the Spanish Corporate Enterprises Act.\n",
      "Para number: 12\n",
      "Original match has no name\n",
      "Original match:   directors and seven out of the 14 members of our Board are independent under the\n",
      "definition of independence described above, which is in line with the definition provided by the Spanish\n",
      "Corporate Enterprises Act.\n",
      "Block match name:  p\n",
      "Block:  \n",
      "<p class=\"c166\">Associates</p>\n",
      "<class 'bs4.element.Tag'>\n",
      "Block Text:  \n",
      "Associates\n",
      "Para number: 13\n",
      "Original match has no name\n",
      "Original match:  Associates\n",
      "Block match name:  p\n",
      "Block:  \n",
      "<p class=\"c205\">Associates</p>\n",
      "<class 'bs4.element.Tag'>\n",
      "Block Text:  \n",
      "Associates\n",
      "Para number: 14\n",
      "Original match has no name\n",
      "Original match:  Associates\n",
      "Block match name:  p\n",
      "Block:  \n",
      "<p class=\"c208\">Associates are entities in which the Group is able to exercise significant influence (for\n",
      "definition of significant influence, see Glossary). Significant influence is deemed to exist when the Group\n",
      "owns 20% or more of the voting rights of an investee directly or indirectly, unless it can be clearly\n",
      "demonstrated that this is not the case.</p>\n",
      "<class 'bs4.element.Tag'>\n",
      "Block Text:  \n",
      "Associates are entities in which the Group is able to exercise significant influence (for definition of significant influence, see Glossary). Significant influence is deemed to exist when the Group owns 20% or more of the voting rights of an investee directly or indirectly, unless it can be clearly demonstrated that this is not the case.\n",
      "Para number: 15\n",
      "Original match has no name\n",
      "Original match:  Associates are entities in which the Group is able to exercise significant influence (for\n",
      "definition of significant influence, see Glossary). Significant influence is deemed to exist when the Group\n",
      "owns 20% or more of the voting rights of an investee directly or indirectly, unless it can be clearly\n",
      "demonstrated that this is not the case.\n",
      "Block match name:  p\n",
      "Block:  \n",
      "<p class=\"c202\">Associates and joint venture entities</p>\n",
      "<class 'bs4.element.Tag'>\n",
      "Block Text:  \n",
      "Associates and joint venture entities\n",
      "Para number: 16\n",
      "Original match has no name\n",
      "Original match:  Associates and joint venture entities\n",
      "Block match name:  p\n",
      "Block:  \n",
      "<p class=\"c322\">Associates Entities and joint ventures.</p>\n",
      "<class 'bs4.element.Tag'>\n",
      "Block Text:  \n",
      "Associates Entities and joint ventures.\n",
      "Para number: 17\n",
      "Original match has no name\n",
      "Original match:  Associates Entities and joint ventures.\n",
      "Block match name:  p\n",
      "Block:  \n",
      "<p class=\"c156\">Associates Entities and joint ventures.</p>\n",
      "<class 'bs4.element.Tag'>\n",
      "Block Text:  \n",
      "Associates Entities and joint ventures.\n",
      "Para number: 18\n",
      "Original match has no name\n",
      "Original match:  Associates Entities\n",
      "Block match name:  p\n",
      "Block:  \n",
      "<p class=\"c556\">(*) This section includes aggregate information regarding the members of BBVA Group's Senior\n",
      "Management, excluding executive directors, who were members of the Senior Management as of 31 December 2016 (14\n",
      "members).</p>\n",
      "<class 'bs4.element.Tag'>\n",
      "Block Text:  \n",
      "(*) This section includes aggregate information regarding the members of BBVA Group's Senior Management, excluding executive directors, who were members of the Senior Management as of 31 December 2016 (14 members).\n",
      "Para number: 19\n",
      "Original match has no name\n",
      "Original match:  Associates Entities and joint ventures.\n",
      "Block match name:  p\n",
      "Block:  \n",
      "<p class=\"c234\">Number of full-time employees. 16 employees of Representative Office are not included.</p>\n",
      "<class 'bs4.element.Tag'>\n",
      "Block Text:  \n",
      "Number of full-time employees. 16 employees of Representative Office are not included.\n",
      "Para number: 20\n",
      "Original match has no name\n",
      "Original match:  (*) This section includes aggregate information regarding the members of BBVA Group's Senior\n",
      "Management, excluding executive directors, who were members of the Senior Management as of 31 December 2016 (14\n",
      "members).\n",
      "Block match name:  p\n",
      "Block:  \n",
      "<p class=\"c225\">Employees that no longer render their services to the entity but which, without being legally\n",
      "retired, remain entitled to make economic claims on the entity until they formally retire.</p>\n",
      "<class 'bs4.element.Tag'>\n",
      "Block Text:  \n",
      "Employees that no longer render their services to the entity but which, without being legally retired, remain entitled to make economic claims on the entity until they formally retire.\n",
      "Para number: 21\n",
      "Original match has no name\n",
      "Original match:  Number of full-time employees. 16 employees of Representative Office are not included.\n",
      "Block match name:  p\n",
      "Block:  \n",
      "<p class=\"c225\">employees long term</p>\n",
      "<class 'bs4.element.Tag'>\n",
      "Block Text:  \n",
      "employees long term\n"
     ]
    }
   ],
   "source": [
    "print_parse_objects(file='0001193125-17-106055')"
   ]
  }
 ],
 "metadata": {
  "kernelspec": {
   "display_name": "Python 3",
   "language": "python",
   "name": "python3"
  },
  "language_info": {
   "codemirror_mode": {
    "name": "ipython",
    "version": 3
   },
   "file_extension": ".py",
   "mimetype": "text/x-python",
   "name": "python",
   "nbconvert_exporter": "python",
   "pygments_lexer": "ipython3",
   "version": "3.6.1"
  },
  "toc": {
   "base_numbering": 1,
   "nav_menu": {},
   "number_sections": true,
   "sideBar": true,
   "skip_h1_title": false,
   "title_cell": "Table of Contents",
   "title_sidebar": "Contents",
   "toc_cell": false,
   "toc_position": {},
   "toc_section_display": true,
   "toc_window_display": false
  }
 },
 "nbformat": 4,
 "nbformat_minor": 2
}
