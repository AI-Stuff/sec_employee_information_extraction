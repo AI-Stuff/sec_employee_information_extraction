{
 "cells": [
  {
   "cell_type": "markdown",
   "metadata": {
    "toc": true
   },
   "source": [
    "<h1>Table of Contents<span class=\"tocSkip\"></span></h1>\n",
    "<div class=\"toc\"><ul class=\"toc-item\"><li><span><a href=\"#Explore-labeled-dataframe\" data-toc-modified-id=\"Explore-labeled-dataframe-1\"><span class=\"toc-item-num\">1&nbsp;&nbsp;</span>Explore labeled dataframe</a></span></li><li><span><a href=\"#Exploring-tags-that-match-any-of-the-regex-patterns\" data-toc-modified-id=\"Exploring-tags-that-match-any-of-the-regex-patterns-2\"><span class=\"toc-item-num\">2&nbsp;&nbsp;</span>Exploring tags that match any of the regex patterns</a></span><ul class=\"toc-item\"><li><span><a href=\"#Patterns-to-flag-candidate-paragraphs\" data-toc-modified-id=\"Patterns-to-flag-candidate-paragraphs-2.1\"><span class=\"toc-item-num\">2.1&nbsp;&nbsp;</span>Patterns to flag candidate paragraphs</a></span></li><li><span><a href=\"#Tag-Exploration\" data-toc-modified-id=\"Tag-Exploration-2.2\"><span class=\"toc-item-num\">2.2&nbsp;&nbsp;</span>Tag Exploration</a></span><ul class=\"toc-item\"><li><span><a href=\"#Example-1\" data-toc-modified-id=\"Example-1-2.2.1\"><span class=\"toc-item-num\">2.2.1&nbsp;&nbsp;</span>Example 1</a></span></li><li><span><a href=\"#Example-2\" data-toc-modified-id=\"Example-2-2.2.2\"><span class=\"toc-item-num\">2.2.2&nbsp;&nbsp;</span>Example 2</a></span></li><li><span><a href=\"#Example-3\" data-toc-modified-id=\"Example-3-2.2.3\"><span class=\"toc-item-num\">2.2.3&nbsp;&nbsp;</span>Example 3</a></span></li><li><span><a href=\"#Example-4\" data-toc-modified-id=\"Example-4-2.2.4\"><span class=\"toc-item-num\">2.2.4&nbsp;&nbsp;</span>Example 4</a></span></li><li><span><a href=\"#Example-5\" data-toc-modified-id=\"Example-5-2.2.5\"><span class=\"toc-item-num\">2.2.5&nbsp;&nbsp;</span>Example 5</a></span></li></ul></li></ul></li><li><span><a href=\"#Write-functions-to-flag-paragraphs\" data-toc-modified-id=\"Write-functions-to-flag-paragraphs-3\"><span class=\"toc-item-num\">3&nbsp;&nbsp;</span>Write functions to flag paragraphs</a></span><ul class=\"toc-item\"><li><span><a href=\"#Test-logic-for-finding-paragraphs-below-flagged-headings\" data-toc-modified-id=\"Test-logic-for-finding-paragraphs-below-flagged-headings-3.1\"><span class=\"toc-item-num\">3.1&nbsp;&nbsp;</span>Test logic for finding paragraphs below flagged headings</a></span></li><li><span><a href=\"#Find-candidate-paragraphs\" data-toc-modified-id=\"Find-candidate-paragraphs-3.2\"><span class=\"toc-item-num\">3.2&nbsp;&nbsp;</span>Find candidate paragraphs</a></span></li><li><span><a href=\"#Create-dataframes-and-save-as-CSVs\" data-toc-modified-id=\"Create-dataframes-and-save-as-CSVs-3.3\"><span class=\"toc-item-num\">3.3&nbsp;&nbsp;</span>Create dataframes and save as CSVs</a></span></li></ul></li><li><span><a href=\"#Debug-odd-findings-to-refine-regex-or-code\" data-toc-modified-id=\"Debug-odd-findings-to-refine-regex-or-code-4\"><span class=\"toc-item-num\">4&nbsp;&nbsp;</span>Debug odd findings to refine regex or code</a></span><ul class=\"toc-item\"><li><span><a href=\"#Explore-dataframe-of-paragraphs-for-training-data\" data-toc-modified-id=\"Explore-dataframe-of-paragraphs-for-training-data-4.1\"><span class=\"toc-item-num\">4.1&nbsp;&nbsp;</span>Explore dataframe of paragraphs for training data</a></span></li></ul></li></ul></div>"
   ]
  },
  {
   "cell_type": "markdown",
   "metadata": {},
   "source": [
    "# Retrieve candidate paragraphs from HTML files"
   ]
  },
  {
   "cell_type": "code",
   "execution_count": 1,
   "metadata": {
    "ExecuteTime": {
     "end_time": "2018-06-29T21:36:19.306811Z",
     "start_time": "2018-06-29T21:36:18.784898Z"
    }
   },
   "outputs": [],
   "source": [
    "import numpy as np\n",
    "import pandas as pd\n",
    "import re\n",
    "\n",
    "from bs4 import BeautifulSoup as bs\n",
    "\n",
    "from path import Path, getcwdu\n",
    "\n",
    "import glob\n",
    "import os\n",
    "from pathlib import PurePath\n",
    "import copy\n",
    "\n",
    "import random\n",
    "import gzip\n",
    "import shutil"
   ]
  },
  {
   "cell_type": "code",
   "execution_count": 2,
   "metadata": {
    "ExecuteTime": {
     "end_time": "2018-06-29T21:36:19.482521Z",
     "start_time": "2018-06-29T21:36:19.306811Z"
    }
   },
   "outputs": [],
   "source": [
    "full_path_list = [PurePath(os.getcwd()).joinpath(file).as_posix() for file in glob.iglob('../employee_filings/*.gz')]\n",
    "full_file_list = [PurePath(file).name for file in glob.iglob('../employee_filings/*.gz')]\n",
    "full_accession_ids = [PurePath(file).stem.replace('.html', '') for file in full_file_list]\n",
    "full_cik_nbrs = [x.split(sep='-')[0] for x in full_accession_ids]\n",
    "html_path_list = [x.replace('.gz', '') for x in full_path_list]"
   ]
  },
  {
   "cell_type": "markdown",
   "metadata": {},
   "source": [
    "Read in accession ID lists created from initial data splitting"
   ]
  },
  {
   "cell_type": "code",
   "execution_count": 3,
   "metadata": {
    "ExecuteTime": {
     "end_time": "2018-06-29T21:36:19.823745Z",
     "start_time": "2018-06-29T21:36:19.483517Z"
    }
   },
   "outputs": [],
   "source": [
    "train_accession_ids = pd.read_csv('../data/train_accession_ids.csv', names=['acc_id'])['acc_id'].tolist()\n",
    "val_accession_ids = pd.read_csv('../data/val_accession_ids.csv', names=['acc_id'])['acc_id'].tolist()\n",
    "\n",
    "labeled_df = pd.read_excel('../data/train_val_employee_count_paragraphs.xlsx')\n",
    "subset_df = pd.read_excel('../data/subset_employee_count_paragraphs.xlsx')"
   ]
  },
  {
   "cell_type": "markdown",
   "metadata": {},
   "source": [
    "## Explore labeled dataframe"
   ]
  },
  {
   "cell_type": "code",
   "execution_count": 4,
   "metadata": {
    "ExecuteTime": {
     "end_time": "2018-06-29T21:36:19.833750Z",
     "start_time": "2018-06-29T21:36:19.825745Z"
    }
   },
   "outputs": [],
   "source": [
    "def print_row_detail(df=subset_df, nrow=10, header_list = ['ticker', 'accession_number' ],\n",
    "                    detail_list = ['data_key_friendly_name', 'text', 'paragraph_text'],\n",
    "                    sortby=['accession_number', 'data_key_friendly_name'], ascending=True):\n",
    "    df_sorted = df.sort_values(sortby, ascending=ascending).reset_index()\n",
    "    nrow = min(len(df_sorted), nrow)\n",
    "    for i in range(0, nrow):\n",
    "        for h in header_list:\n",
    "            print('-'*35  + ' ' +  str(df_sorted[h][i]) + ' ' + '-'*35)\n",
    "        for d in detail_list:\n",
    "            print(d + '  :' + str(df_sorted[d][i]))\n",
    "            print('')"
   ]
  },
  {
   "cell_type": "code",
   "execution_count": 5,
   "metadata": {
    "ExecuteTime": {
     "end_time": "2018-06-29T21:36:19.871777Z",
     "start_time": "2018-06-29T21:36:19.835751Z"
    },
    "scrolled": true
   },
   "outputs": [
    {
     "name": "stdout",
     "output_type": "stream",
     "text": [
      "----------------------------------- AAN -----------------------------------\n",
      "----------------------------------- 0000706688-17-000030 -----------------------------------\n",
      "data_key_friendly_name  :Other Employees\n",
      "\n",
      "text  :employees\n",
      "\n",
      "paragraph_text  :Employees   At December 31, 2016, the Company had approximately 11,500 employees. None of our employees are covered by a   collective bargaining agreement and we believe that our relations with employees are good\n",
      "\n",
      "----------------------------------- AAON -----------------------------------\n",
      "----------------------------------- 0000824142-17-000034 -----------------------------------\n",
      "data_key_friendly_name  :Other Employees\n",
      "\n",
      "text  :employees\n",
      "\n",
      "paragraph_text  :Employees   As of February 12, 2017, we employed 1,619 permanent employees. Our employees are not represented by  unions\n",
      "\n",
      "----------------------------------- AAXN -----------------------------------\n",
      "----------------------------------- 0001069183-17-000042 -----------------------------------\n",
      "data_key_friendly_name  :Full-Time Employees\n",
      "\n",
      "text  :full-time\n",
      "\n",
      "paragraph_text  :Employees   As of December 31, 2016,  we had 699 full-time  employees and 202 temporary  employees. The breakdown of  our   full-time employees by department is  as follows: 175 direct  manufacturing employees and 524  administrative   and manufacturing support employees. Of the 524 administrative and manufacturing support employees, 213  were   involved in sales,  marketing, communications and  training. Of the  202 temporary employees,  more than  92%   worked in direct manufacturing roles. Our employees  are not covered by any collective bargaining  agreement,   and we have never experienced a work stoppage. We believe that our relations with our employees are good\n",
      "\n",
      "----------------------------------- AAXN -----------------------------------\n",
      "----------------------------------- 0001069183-17-000042 -----------------------------------\n",
      "data_key_friendly_name  :Other Employees\n",
      "\n",
      "text  :temporary\n",
      "\n",
      "paragraph_text  :Employees   As of December 31, 2016,  we had 699 full-time  employees and 202 temporary  employees. The breakdown of  our   full-time employees by department is  as follows: 175 direct  manufacturing employees and 524  administrative   and manufacturing support employees. Of the 524 administrative and manufacturing support employees, 213  were   involved in sales,  marketing, communications and  training. Of the  202 temporary employees,  more than  92%   worked in direct manufacturing roles. Our employees  are not covered by any collective bargaining  agreement,   and we have never experienced a work stoppage. We believe that our relations with our employees are good\n",
      "\n",
      "----------------------------------- A -----------------------------------\n",
      "----------------------------------- 0001090872-16-000082 -----------------------------------\n",
      "data_key_friendly_name  :Other Employees\n",
      "\n",
      "text  :employed\n",
      "\n",
      "paragraph_text  :We sell  our  products  primarily  through  direct  sales,  but  we  also  utilize  distributors,  resellers,   manufacturer's representatives and  electronic commerce. Of  our total net  revenue of $4.2  billion for  the   fiscal year ended October 31, 2016, we generated 30 percent in the U.S. and 70 percent outside the U.S. As of   October 31, 2016, we employed approximately 12,500 people worldwide. Our primary research and development and   manufacturing sites  are in  California, Colorado,  Delaware,  Massachusetts and  Texas in  the U.S.  and  in   Australia, China, Denmark, Germany, Italy, Japan, Malaysia, Singapore and the United Kingdom\n",
      "\n",
      "----------------------------------- ABB -----------------------------------\n",
      "----------------------------------- 0001104659-17-015892 -----------------------------------\n",
      "data_key_friendly_name  :Other Employees\n",
      "\n",
      "text  :Total\n",
      "\n",
      "paragraph_text  :December 31,                                                                     2016             2015             2014   Europe                                                               61,400           61,600           63,000   The Americas                                                         29,000           30,900           32,200   Asia, Middle East and Africa                                         41,900           43,300           45,200   Total                                                               132,300          135,800          140,400\n",
      "\n",
      "----------------------------------- ABC -----------------------------------\n",
      "----------------------------------- 0001140859-16-000022 -----------------------------------\n",
      "data_key_friendly_name  :Full-Time Employees\n",
      "\n",
      "text  :full-time\n",
      "\n",
      "paragraph_text  :Employees   As of September 30, 2016, we had approximately 19,000 employees, of which approximately 18,000 were full-time   employees. Approximately 2% of our employees are covered by collective bargaining agreements. We believe that   our relationship with our employees is good. If any  of our employees in locations that are unionized  should   engage in strikes  or other  such bargaining tactics  in connection  with the negotiation  of new  collective   bargaining agreements upon  the expiration  of any existing  collective bargaining  agreements, such  tactics   could be disruptive to our operations and adversely affect our results of operations, but we believe we  have   adequate contingency plans in place to  assure delivery of pharmaceuticals to  our customers in the event  of   any such disruptions\n",
      "\n",
      "----------------------------------- ABC -----------------------------------\n",
      "----------------------------------- 0001140859-16-000022 -----------------------------------\n",
      "data_key_friendly_name  :Other Employees\n",
      "\n",
      "text  :employees\n",
      "\n",
      "paragraph_text  :Employees   As of September 30, 2016, we had approximately 19,000 employees, of which approximately 18,000 were full-time   employees. Approximately 2% of our employees are covered by collective bargaining agreements. We believe that   our relationship with our employees is good. If any  of our employees in locations that are unionized  should   engage in strikes  or other  such bargaining tactics  in connection  with the negotiation  of new  collective   bargaining agreements upon  the expiration  of any existing  collective bargaining  agreements, such  tactics   could be disruptive to our operations and adversely affect our results of operations, but we believe we  have   adequate contingency plans in place to  assure delivery of pharmaceuticals to  our customers in the event  of   any such disruptions\n",
      "\n",
      "----------------------------------- AAP -----------------------------------\n",
      "----------------------------------- 0001158449-17-000034 -----------------------------------\n",
      "data_key_friendly_name  :Full-Time Employees\n",
      "\n",
      "text  :full-time Team\n",
      "\n",
      "paragraph_text  :Team Members   As of February 23, 2017, we employed approximately 41,000 full-time Team Members and approximately 33,000   part-time Team Members. Our workforce consisted of 87% of our Team Members employed in store-level   operations, 9% employed in distribution and 4% employed in our corporate offices. As of February 23, 2017,   less than 1% of our Team Members were represented by labor unions. We have never experienced any labor   disruption. We believe that our Team Member relations are solid\n",
      "\n",
      "----------------------------------- AAP -----------------------------------\n",
      "----------------------------------- 0001158449-17-000034 -----------------------------------\n",
      "data_key_friendly_name  :Part-Time Employees\n",
      "\n",
      "text  :part-time Team Members\n",
      "\n",
      "paragraph_text  :Team Members   As of February 23, 2017, we employed approximately 41,000 full-time Team Members and approximately 33,000   part-time Team Members. Our workforce consisted of 87% of our Team Members employed in store-level   operations, 9% employed in distribution and 4% employed in our corporate offices. As of February 23, 2017,   less than 1% of our Team Members were represented by labor unions. We have never experienced any labor   disruption. We believe that our Team Member relations are solid\n",
      "\n",
      "----------------------------------- AAWW -----------------------------------\n",
      "----------------------------------- 0001193125-17-053796 -----------------------------------\n",
      "data_key_friendly_name  :Other Employees\n",
      "\n",
      "text  :employees\n",
      "\n",
      "paragraph_text  :Our business depends on highly qualified management, operations and flight personnel. As a percentage of our   consolidated operating expenses, salaries, wages and benefits accounted for approximately 25.4% in 2016,   20.7% in 2015 and 19.2% in 2014. As of December 31, 2016, we had 2,646 employees, 1,581 of whom were pilots\n",
      "\n",
      "----------------------------------- AABA -----------------------------------\n",
      "----------------------------------- 0001193125-17-065791 -----------------------------------\n",
      "data_key_friendly_name  :Full-Time Employees\n",
      "\n",
      "text  :full-time\n",
      "\n",
      "paragraph_text  :As of December  31, 2016,  we had approximately  8,500 full-time  employees and 600  contractors. Our  future   success is substantially dependent on the performance  of our senior management and key technical  personnel,   as well as our continuing ability to attract, maintain the caliber of, and retain highly qualified technical,   executive, and managerial personnel.  We remain committed  to our talented employees  and providing the  best   possible workplace culture for them. Additional information regarding certain risks related to our  employees   is included in Part I, Item 1A \"Risk Factors\" of  this Annual Report on Form 10-K and is incorporated  herein   by reference\n",
      "\n",
      "----------------------------------- AA -----------------------------------\n",
      "----------------------------------- 0001193125-17-083862 -----------------------------------\n",
      "data_key_friendly_name  :Other Employees\n",
      "\n",
      "text  :employees\n",
      "\n",
      "paragraph_text  :Alcoa's total worldwide employment at the end of 2016 was approximately 14,000 employees in 15 countries\n",
      "\n",
      "----------------------------------- ABCD -----------------------------------\n",
      "----------------------------------- 0001466815-17-000007 -----------------------------------\n",
      "data_key_friendly_name  :Full-Time Employees\n",
      "\n",
      "text  :full-time\n",
      "\n",
      "paragraph_text  :Employees   As of December 31, 2016, we had a total of 619 employees, including 565 full-time, 20 regularly scheduled   part-time employees, and 34 need-based part-time employees. We consider our current relationship with our   employees to be good. Our employees are not represented by labor unions and are not subject to collective   bargaining agreements\n",
      "\n",
      "----------------------------------- ABCD -----------------------------------\n",
      "----------------------------------- 0001466815-17-000007 -----------------------------------\n",
      "data_key_friendly_name  :Part-Time Employees\n",
      "\n",
      "text  :part-time\n",
      "\n",
      "paragraph_text  :Employees   As of December 31, 2016, we had a total of 619 employees, including 565 full-time, 20 regularly scheduled   part-time employees, and 34 need-based part-time employees. We consider our current relationship with our   employees to be good. Our employees are not represented by labor unions and are not subject to collective   bargaining agreements\n",
      "\n",
      "----------------------------------- ABCD -----------------------------------\n",
      "----------------------------------- 0001466815-17-000007 -----------------------------------\n",
      "data_key_friendly_name  :Part-Time Employees\n",
      "\n",
      "text  :part-time\n",
      "\n",
      "paragraph_text  :Employees   As of December 31, 2016, we had a total of 619 employees, including 565 full-time, 20 regularly scheduled   part-time employees, and 34 need-based part-time employees. We consider our current relationship with our   employees to be good. Our employees are not represented by labor unions and are not subject to collective   bargaining agreements\n",
      "\n",
      "----------------------------------- ABBV -----------------------------------\n",
      "----------------------------------- 0001551152-17-000004 -----------------------------------\n",
      "data_key_friendly_name  :Other Employees\n",
      "\n",
      "text  :employed\n",
      "\n",
      "paragraph_text  :Employees   AbbVie employed approximately 30,000 persons as of January 31, 2017. Outside the United States, some of   AbbVie's employees are represented by unions or works councils. AbbVie believes that it has good relations   with its employees\n",
      "\n",
      "----------------------------------- AAOI -----------------------------------\n",
      "----------------------------------- 0001558370-17-001556 -----------------------------------\n",
      "data_key_friendly_name  :Full-Time Employees\n",
      "\n",
      "text  :full-time\n",
      "\n",
      "paragraph_text  :As of December 31, 2016, we employed 2,776 full-time employees, of which 31 held Ph.D. degrees in a science   or engineering field. Of our employees, 287 are located in the U.S., 1,218 are located in Taiwan and 1,271   are located in China. None of our employees are represented by any collective bargaining agreement, but   certain employees of our China subsidiary are members of a trade union. We have never suffered any work   stoppage as a result of an employment related strike or any employee related dispute and believe that we have   satisfactory relations with our employees\n",
      "\n",
      "----------------------------------- AAC -----------------------------------\n",
      "----------------------------------- 0001564590-17-003590 -----------------------------------\n",
      "data_key_friendly_name  :Other Employees\n",
      "\n",
      "text  :employed\n",
      "\n",
      "paragraph_text  :As of December 31, 2016, we employed approximately 2,100 people. During 2016, employees at Sunrise House   voted to join the Health Professionals and Allied Employees (\"HPAE\") labor union. None of our other employees   are represented by a labor union or covered by a collective bargaining agreement. We believe that our   employee relations are good\n",
      "\n",
      "----------------------------------- ABM -----------------------------------\n",
      "----------------------------------- 0001628280-16-022122 -----------------------------------\n",
      "data_key_friendly_name  :Other Employees\n",
      "\n",
      "text  :employed\n",
      "\n",
      "paragraph_text  :Employees   As of October 31, 2016, we employed approximately 110,000 employees\n",
      "\n"
     ]
    }
   ],
   "source": [
    "print_row_detail(df=subset_df, nrow=20)"
   ]
  },
  {
   "cell_type": "markdown",
   "metadata": {},
   "source": [
    "Only 15 files are included in the subset_df"
   ]
  },
  {
   "cell_type": "code",
   "execution_count": 6,
   "metadata": {
    "ExecuteTime": {
     "end_time": "2018-06-29T21:36:19.884784Z",
     "start_time": "2018-06-29T21:36:19.873780Z"
    }
   },
   "outputs": [
    {
     "data": {
      "text/plain": [
       "array(['0001090872-16-000082', '0001193125-17-083862',\n",
       "       '0001193125-17-065791', '0001564590-17-003590',\n",
       "       '0000706688-17-000030', '0001558370-17-001556',\n",
       "       '0000824142-17-000034', '0001158449-17-000034',\n",
       "       '0001193125-17-053796', '0001069183-17-000042',\n",
       "       '0001104659-17-015892', '0001551152-17-000004',\n",
       "       '0001140859-16-000022', '0001466815-17-000007',\n",
       "       '0001628280-16-022122'], dtype=object)"
      ]
     },
     "execution_count": 6,
     "metadata": {},
     "output_type": "execute_result"
    }
   ],
   "source": [
    "subset_df.accession_number.unique()"
   ]
  },
  {
   "cell_type": "code",
   "execution_count": 7,
   "metadata": {
    "ExecuteTime": {
     "end_time": "2018-06-29T21:36:19.898795Z",
     "start_time": "2018-06-29T21:36:19.886787Z"
    }
   },
   "outputs": [
    {
     "data": {
      "text/plain": [
       "data_key_friendly_name  text                  \n",
       "Full-Time Employees     full-time                 5\n",
       "                        full-time Team            1\n",
       "Other Employees         employees                 5\n",
       "                        employed                  4\n",
       "                        Total                     1\n",
       "                        temporary                 1\n",
       "Part-Time Employees     part-time                 2\n",
       "                        part-time Team Members    1\n",
       "Name: text, dtype: int64"
      ]
     },
     "execution_count": 7,
     "metadata": {},
     "output_type": "execute_result"
    }
   ],
   "source": [
    "subset_df.groupby('data_key_friendly_name').text.value_counts()"
   ]
  },
  {
   "cell_type": "code",
   "execution_count": 8,
   "metadata": {
    "ExecuteTime": {
     "end_time": "2018-06-29T21:36:20.156966Z",
     "start_time": "2018-06-29T21:36:19.900797Z"
    }
   },
   "outputs": [],
   "source": [
    "# Create list of paths for subset_df\n",
    "subset_file_list = [PurePath(os.getcwd()).joinpath('../employee_filings/').joinpath(file) for file in full_file_list if PurePath(file).stem.replace('.html', '') in subset_df.accession_number.unique().tolist()]"
   ]
  },
  {
   "cell_type": "markdown",
   "metadata": {},
   "source": [
    "## Exploring tags that match any of the regex patterns"
   ]
  },
  {
   "cell_type": "markdown",
   "metadata": {},
   "source": [
    "### Patterns to flag candidate paragraphs"
   ]
  },
  {
   "cell_type": "code",
   "execution_count": 9,
   "metadata": {
    "ExecuteTime": {
     "end_time": "2018-06-29T21:36:20.169974Z",
     "start_time": "2018-06-29T21:36:20.157967Z"
    }
   },
   "outputs": [],
   "source": [
    "emp_pat_list = [r\"^(Employees|Team Members)$\",\n",
    "r\"([0-9]{1,3},)*[0-9]{1,3}( |\\n)((permanent|full-time|part-time|temporary|total)( |\\n))*(employees|people|team members|members)\",\n",
    "r\"employ((ed|s)?)?( |\\n)(approximately( |\\n))?([0-9]{1,3},)*[0-9]{1,3}( |\\n)((permanent|full-time|part-time|temporary)( |\\n))?(employees|people|team members|members|persons|associates)\", \n",
    "r\"employed(( |\\n)approximately)?$\", \n",
    "r\"Total workforce\",\n",
    "r\"((permanent|full|part|time|full-time|part-time|temporary)( |\\n))+(employees|team members|associates)\",\n",
    "r\"^((permanent|full|part|time|full-time|part-time|temporary|total)( |\\n))*(employees|team members|associates)\"]\n",
    "emp_pats = [re.compile(x, re.I) for x in emp_pat_list]"
   ]
  },
  {
   "cell_type": "markdown",
   "metadata": {},
   "source": [
    "Regex for identifying \"block\" html elements - useful for finding actual paragraph boundaries, or the first set of *n* paragraphs or tables immediately after a secion heading"
   ]
  },
  {
   "cell_type": "code",
   "execution_count": 10,
   "metadata": {
    "ExecuteTime": {
     "end_time": "2018-06-29T21:36:20.178981Z",
     "start_time": "2018-06-29T21:36:20.171977Z"
    }
   },
   "outputs": [],
   "source": [
    "block_re = re.compile(r\"^(p|div|table)$\")"
   ]
  },
  {
   "cell_type": "code",
   "execution_count": 11,
   "metadata": {
    "ExecuteTime": {
     "end_time": "2018-06-29T21:36:20.190989Z",
     "start_time": "2018-06-29T21:36:20.180982Z"
    }
   },
   "outputs": [],
   "source": [
    "def show_str_context(search_str: str, in_string: str, char_before: int=500, char_after: int=2000, match_num: int=0):\n",
    "    \"\"\"Return characters before and after a given string.\"\"\"\n",
    "    sub_idx = in_string.find(search_str) \n",
    "    len_offset = len(search_str)\n",
    "    if match_num:\n",
    "        idx = sub_idx\n",
    "        for i in range(match_num):\n",
    "            idx = in_string.find(search_str, idx + len_offset)\n",
    "        sub_idx = idx\n",
    "    context_beg = max(sub_idx - char_before, 0)\n",
    "    context_end = sub_idx + len_offset + char_after\n",
    "    return in_string[context_beg:context_end]   "
   ]
  },
  {
   "cell_type": "markdown",
   "metadata": {},
   "source": [
    "### Tag Exploration"
   ]
  },
  {
   "cell_type": "markdown",
   "metadata": {},
   "source": [
    "#### Example 1"
   ]
  },
  {
   "cell_type": "code",
   "execution_count": 12,
   "metadata": {
    "ExecuteTime": {
     "end_time": "2018-06-29T21:36:24.454666Z",
     "start_time": "2018-06-29T21:36:20.192990Z"
    }
   },
   "outputs": [],
   "source": [
    "with gzip.open(subset_file_list[2], mode='rt', encoding=\"utf8\") as file: \n",
    "            file1_html = file.read()\n",
    "            soup1 = bs(file1_html, 'lxml')\n",
    "soup1_emp_count = soup1.find_all(string=[emp_pats])"
   ]
  },
  {
   "cell_type": "code",
   "execution_count": 13,
   "metadata": {
    "ExecuteTime": {
     "end_time": "2018-06-29T21:36:24.461204Z",
     "start_time": "2018-06-29T21:36:24.454666Z"
    },
    "scrolled": false
   },
   "outputs": [
    {
     "data": {
      "text/plain": [
       "5"
      ]
     },
     "execution_count": 13,
     "metadata": {},
     "output_type": "execute_result"
    }
   ],
   "source": [
    "len(soup1_emp_count)"
   ]
  },
  {
   "cell_type": "code",
   "execution_count": 14,
   "metadata": {
    "ExecuteTime": {
     "end_time": "2018-06-29T21:36:24.469209Z",
     "start_time": "2018-06-29T21:36:24.463205Z"
    }
   },
   "outputs": [],
   "source": [
    "emp1_tag = soup1_emp_count[0]"
   ]
  },
  {
   "cell_type": "code",
   "execution_count": 15,
   "metadata": {
    "ExecuteTime": {
     "end_time": "2018-06-29T21:36:24.482218Z",
     "start_time": "2018-06-29T21:36:24.471211Z"
    }
   },
   "outputs": [
    {
     "name": "stdout",
     "output_type": "stream",
     "text": [
      "0\n",
      "<div class=\"c88\"><span class=\"c16\">As of December 31,</span> <span class=\"c16\">2016</span><span class=\"c16\">,\n",
      "we had</span> <span class=\"c16\">699</span> <span class=\"c16\">full-time employees and</span> <span class=\"c16\">202</span> <span class=\"c16\">temporary employees. The breakdown of our full-time employees by department\n",
      "is as follows:</span> <span class=\"c16\">175</span> <span class=\"c16\">direct manufacturing employees and</span>\n",
      "<span class=\"c16\">524</span> <span class=\"c16\">administrative and manufacturing support employees. Of\n",
      "the</span> <span class=\"c16\">524</span> <span class=\"c16\">administrative and manufacturing support\n",
      "employees,</span> <span class=\"c16\">213</span> <span class=\"c16\">were involved in sales, marketing,\n",
      "communications and training. Of the</span> <span class=\"c16\">202</span> <span class=\"c16\">temporary employees,\n",
      "more than</span> <span class=\"c16\">92%</span> <span class=\"c16\">worked in direct manufacturing roles. Our\n",
      "employees are not covered by any collective bargaining agreement, and we have never experienced a work\n",
      "stoppage. We believe that our relations with our employees are good.</span></div>\n",
      "1\n",
      "<div class=\"c66\">11</div>\n",
      "2\n",
      "<div class=\"c2\"><a class=\"c1\" href=\"#s6AA0E9B102C8EE19B8CCB5E21E0F79E3\">Table of Contents</a></div>\n",
      "3\n",
      "<div class=\"c92\">Available Information</div>\n",
      "4\n",
      "<div class=\"c86\">We were incorporated in Arizona in September 1993 as ICER Corporation. We changed our name to\n",
      "AIR TASER, Inc. in December 1993 and to TASER International, Incorporated in April 1998. In January 2001, we\n",
      "reincorporated in Delaware as TASER International, Inc.</div>\n",
      "5\n",
      "<div class=\"c88\"><span class=\"c16\">Our Annual Report on Form 10-K, quarterly reports on Form 10-Q, current\n",
      "reports on Form 8-K and amendments to those reports filed or furnished pursuant to Section 13(a) or 15(d) of\n",
      "the Securities Exchange Act of 1934 are available free of charge on our website at</span> <span class=\"c91\">http://www.TASER.com</span> <span class=\"c16\">as soon as reasonably practicable after we electronically\n",
      "file such material with, or furnish such material to, the SEC. The SEC maintains a website that contains\n",
      "reports, proxy and information statements and other information regarding issuers that file electronically with\n",
      "the SEC at</span> <span class=\"c91\">http://www.sec.gov</span><span class=\"c16\">.</span></div>\n"
     ]
    }
   ],
   "source": [
    "for i, v in enumerate(emp1_tag.parent.find_next_siblings(block_re, limit=6)):\n",
    "    print(i)\n",
    "    print(v)"
   ]
  },
  {
   "cell_type": "markdown",
   "metadata": {},
   "source": [
    "#### Example 2"
   ]
  },
  {
   "cell_type": "code",
   "execution_count": 16,
   "metadata": {
    "ExecuteTime": {
     "end_time": "2018-06-29T21:36:29.093177Z",
     "start_time": "2018-06-29T21:36:24.484219Z"
    }
   },
   "outputs": [],
   "source": [
    "with gzip.open(subset_file_list[12], mode='rt', encoding=\"utf8\") as file: \n",
    "            file2_html = file.read()\n",
    "            soup2 = bs(file2_html, 'lxml')\n",
    "soup2_emp_count = soup2.find_all(string=[emp_pats])"
   ]
  },
  {
   "cell_type": "code",
   "execution_count": 17,
   "metadata": {
    "ExecuteTime": {
     "end_time": "2018-06-29T21:36:29.098533Z",
     "start_time": "2018-06-29T21:36:29.093177Z"
    },
    "scrolled": false
   },
   "outputs": [
    {
     "data": {
      "text/plain": [
       "5"
      ]
     },
     "execution_count": 17,
     "metadata": {},
     "output_type": "execute_result"
    }
   ],
   "source": [
    "len(soup2_emp_count)"
   ]
  },
  {
   "cell_type": "code",
   "execution_count": 18,
   "metadata": {
    "ExecuteTime": {
     "end_time": "2018-06-29T21:36:29.110539Z",
     "start_time": "2018-06-29T21:36:29.100534Z"
    }
   },
   "outputs": [
    {
     "data": {
      "text/plain": [
       "['As of December 31, 2016, we had a total of 276 employees working in the\\nR&D department, including 16 with Ph.D. degrees. We continue to recruit talented engineers to further\\nenhance our research and development capabilities. We have research and development departments in our\\nfacilities in Texas, Georgia, China and Taiwan. Our research and development teams collaborate on joint\\nprojects, and by co-locating with our manufacturing operations enable us to achieve an efficient cost structure\\nand improve our time to market.',\n",
       " 'Employees',\n",
       " 'As of December 31, 2016, we employed 2,776 full-time employees, of which 31\\nheld Ph.D. degrees in a science or engineering field. Of our employees, 287 are located in the U.S., 1,218 are\\nlocated in Taiwan and 1,271 are located in China. None of our employees are represented by any collective\\nbargaining agreement, but certain employees of our China subsidiary are members of a trade union. We have never\\nsuffered any work stoppage as a result of an employment related strike or any employee related dispute and\\nbelieve that we have satisfactory relations with our employees.',\n",
       " \"Employees of Global participate in a state-mandated social security program in\\nChina. Under this program, pension costs are recorded on the basis of required monthly contributions to\\nemployees' individual accounts during their service periods. Under the regulations of the People's Republic of\\nChina, Global is required to make fixed contributions to a fund, which is under the administration of the local\\nlabor departments.\",\n",
       " \"Employees of the Company's Taiwan branch participate in a pension program\\nunder the Taiwan Labor Pension Act. Pension expense for Global was $0.6 million, $0.3 million and $0.4 million\\nin the years ended for the year ended December 31, 2016, 2015 and 2014, respectively. Pension expense for the\\nCompany's Taiwan branch was $0.8 million, $0.6 million and $0.4 million for the years ended December 31, 2016,\\n2015 and 2014, respectively.\"]"
      ]
     },
     "execution_count": 18,
     "metadata": {},
     "output_type": "execute_result"
    }
   ],
   "source": [
    "soup2_emp_count"
   ]
  },
  {
   "cell_type": "code",
   "execution_count": 19,
   "metadata": {
    "ExecuteTime": {
     "end_time": "2018-06-29T21:36:29.118545Z",
     "start_time": "2018-06-29T21:36:29.112541Z"
    }
   },
   "outputs": [],
   "source": [
    "emp_tag2 = soup2_emp_count[1]"
   ]
  },
  {
   "cell_type": "code",
   "execution_count": 20,
   "metadata": {
    "ExecuteTime": {
     "end_time": "2018-06-29T21:36:29.131554Z",
     "start_time": "2018-06-29T21:36:29.120546Z"
    }
   },
   "outputs": [
    {
     "data": {
      "text/plain": [
       "<span class=\"c58\">Employees</span>"
      ]
     },
     "execution_count": 20,
     "metadata": {},
     "output_type": "execute_result"
    }
   ],
   "source": [
    "emp_tag2.parent"
   ]
  },
  {
   "cell_type": "code",
   "execution_count": 21,
   "metadata": {
    "ExecuteTime": {
     "end_time": "2018-06-29T21:36:29.141560Z",
     "start_time": "2018-06-29T21:36:29.133554Z"
    }
   },
   "outputs": [],
   "source": [
    "emp2_tag = soup2_emp_count[1].parent"
   ]
  },
  {
   "cell_type": "code",
   "execution_count": 22,
   "metadata": {
    "ExecuteTime": {
     "end_time": "2018-06-29T21:36:32.217477Z",
     "start_time": "2018-06-29T21:36:29.143562Z"
    }
   },
   "outputs": [],
   "source": [
    "soup2_emp_count_body = soup2.body.find_all(string=[emp_pats])"
   ]
  },
  {
   "cell_type": "code",
   "execution_count": 23,
   "metadata": {
    "ExecuteTime": {
     "end_time": "2018-06-29T21:36:32.267638Z",
     "start_time": "2018-06-29T21:36:32.218978Z"
    }
   },
   "outputs": [
    {
     "data": {
      "text/plain": [
       "-1"
      ]
     },
     "execution_count": 23,
     "metadata": {},
     "output_type": "execute_result"
    }
   ],
   "source": [
    "soup2.body.text.find('bargaining agreements. We believe that our relationship with our employees is good.') "
   ]
  },
  {
   "cell_type": "code",
   "execution_count": 24,
   "metadata": {
    "ExecuteTime": {
     "end_time": "2018-06-29T21:36:32.277642Z",
     "start_time": "2018-06-29T21:36:32.270640Z"
    }
   },
   "outputs": [
    {
     "data": {
      "text/plain": [
       "'<!--HTML document created with Merrill Bridge  6.4.50.0-->\\n<!--Created on: 3/9/2017 4:02:22 PM-->\\n<!DOCTYPE html>\\n<html xmlns=\"http://www.w3.org/1999/xhtml\">\\n<head>\\n<meta name=\"generator\" content=\\n\"HTML Tidy for HTML5 (experimental) for Linux https://github.com/w3c/tidy-html5/tree/68a9e74\" />\\n<title>aaoi_Current_Folio_10K</title>\\n<title>aaoi_Ex10_6</title>\\n<title>aaoi_Ex23_1</title>\\n<title>aaoi_Ex31_1</title>\\n<title>aaoi_Ex31_2</title>\\n<title>aaoi_Ex32_1</title>\\n\\n<style type=\"text/css\">\\n/*<![CDATA[*/\\n td.c1420 {width:40.00%;padding:0pt;}\\n td.c1419 {width:00.96%;padding:0pt;}\\n td.c1418 {width:40.00%;border-bottom:1pt solid #000000 ;padding:0pt;}\\n p.c1417 {display: inline; font-family: Arial,Helvetica,sans-serif; font-size: 10pt; line-height: 100%; margin: 0pt 0pt 0pt 7.2pt; text-indent: -7.2pt}\\n p.c1416 {margin:0pt 0pt 0pt 27pt;line-height:100%;font-family:Arial,Helvetica,sans-serif;font-size: 10pt;}\\n p.c1415 {color: #0563C1; display: inline; font-family: Arial,Helvetica,sans-serif; font-size: 10pt; line-height: 100%; margin: 0pt 0pt 0pt 27pt}\\n p.c1414 {margin:0pt;line-height:100%;font-family:Arial,Helvetica,sans-serif;font-size: 11pt;}\\n p.c1413 {display: inline; font-family: Arial,Helvetica,sans-serif; font-size: 10pt; line-height: 100%; margin: 0pt}\\n span.c1412 {display:inline;font-family:Times New Roman,Times,serif;text-transform:uppercase;font-size:10pt;}\\n td.c1411 {width:50.00%;border-top:1pt none #D9D9D9 ;border-left:1pt none #D9D9D9 ;border-bottom:1pt none #D9D9D9 ;border-right:1pt none #D9D9D9 ;height:1.00pt;padding:0pt;}\\n p.c1410 {margin:0pt;line-height:100%;font-family:Arial,Helvetica,sans-serif;height:1.00pt;overflow:hidden;font-size:0pt;}\\n p.c1409 {margin:0pt 0pt 0pt 22.5pt;line-height:100%;font-family:Arial,Helvetica,sans-serif;font-size: 10pt;}\\n p.c1408 {color: #0563C1; display: inline; font-family: Arial,Helvetica,sans-serif; font-size: 10pt; line-height: 100%; margin: 0pt 0pt 0pt 22.5pt}\\n p.c1407 {margin:0pt 0pt 0pt 23.1pt;text-indent: -0.6pt;line-height:100%;font-family:Arial,Helvetica,sans-serif;font-size: 10pt;}\\n p.c1406 {color:'"
      ]
     },
     "execution_count": 24,
     "metadata": {},
     "output_type": "execute_result"
    }
   ],
   "source": [
    "search_str = 'bargaining agreements. We believe that our relationship with our employees is good.'\n",
    "show_str_context(search_str=search_str, in_string= file2_html)"
   ]
  },
  {
   "cell_type": "code",
   "execution_count": 25,
   "metadata": {
    "ExecuteTime": {
     "end_time": "2018-06-29T21:36:32.330742Z",
     "start_time": "2018-06-29T21:36:32.279645Z"
    }
   },
   "outputs": [
    {
     "data": {
      "text/plain": [
       "471394"
      ]
     },
     "execution_count": 25,
     "metadata": {},
     "output_type": "execute_result"
    }
   ],
   "source": [
    "len(soup2.body.text)"
   ]
  },
  {
   "cell_type": "markdown",
   "metadata": {},
   "source": [
    "Examples of employee count data in HTML"
   ]
  },
  {
   "cell_type": "markdown",
   "metadata": {},
   "source": [
    "view-source:file:///C:/projects/DSBC/capstone/subset_filings/0001090872-16-000082.html"
   ]
  },
  {
   "cell_type": "markdown",
   "metadata": {},
   "source": [
    "#### Example 3"
   ]
  },
  {
   "cell_type": "code",
   "execution_count": 26,
   "metadata": {
    "ExecuteTime": {
     "end_time": "2018-06-29T21:36:37.290536Z",
     "start_time": "2018-06-29T21:36:32.331744Z"
    }
   },
   "outputs": [],
   "source": [
    "with gzip.open(subset_file_list[11], mode='rt', encoding=\"utf8\") as file: \n",
    "            file3_html = file.read()\n",
    "            soup3 = bs(file3_html, 'lxml')\n",
    "soup3_emp_count = soup3.find_all(string=[emp_pats])"
   ]
  },
  {
   "cell_type": "code",
   "execution_count": 27,
   "metadata": {
    "ExecuteTime": {
     "end_time": "2018-06-29T21:36:37.295349Z",
     "start_time": "2018-06-29T21:36:37.290536Z"
    },
    "scrolled": false
   },
   "outputs": [
    {
     "data": {
      "text/plain": [
       "3"
      ]
     },
     "execution_count": 27,
     "metadata": {},
     "output_type": "execute_result"
    }
   ],
   "source": [
    "len(soup3_emp_count)"
   ]
  },
  {
   "cell_type": "code",
   "execution_count": 28,
   "metadata": {
    "ExecuteTime": {
     "end_time": "2018-06-29T21:36:37.311358Z",
     "start_time": "2018-06-29T21:36:37.297348Z"
    },
    "scrolled": true
   },
   "outputs": [
    {
     "data": {
      "text/plain": [
       "['Employees',\n",
       " \"AbbVie employed approximately 30,000 persons as of January 31, 2017. Outside the United\\nStates, some of AbbVie's employees are represented by unions or works councils. AbbVie believes that it has\\ngood relations with its employees.\",\n",
       " \"AbbVie's products are generally sold worldwide directly to wholesalers, distributors,\\ngovernment agencies, health care facilities, specialty pharmacies and independent retailers from AbbVie-owned\\ndistribution centers and public warehouses. In the United States, AbbVie distributes pharmaceutical products\\nprincipally through independent wholesale distributors, with some sales directly to pharmacies and patients.\\nOutside the United States, sales are made either directly to customers or through distributors, depending on\\nthe market served. Certain products are co-marketed or co-promoted with other companies. AbbVie has\\napproximately 30,000 employees. AbbVie operates in one business segment-pharmaceutical products.\"]"
      ]
     },
     "execution_count": 28,
     "metadata": {},
     "output_type": "execute_result"
    }
   ],
   "source": [
    "soup3_emp_count#[0].find_parent(block_re).next_sibling.next_sibling"
   ]
  },
  {
   "cell_type": "code",
   "execution_count": 29,
   "metadata": {
    "ExecuteTime": {
     "end_time": "2018-06-29T21:36:37.321364Z",
     "start_time": "2018-06-29T21:36:37.312359Z"
    }
   },
   "outputs": [
    {
     "data": {
      "text/plain": [
       "<div class=\"c77\">AbbVie employed approximately 30,000 persons as of January 31, 2017. Outside the United\n",
       "States, some of AbbVie's employees are represented by unions or works councils. AbbVie believes that it has\n",
       "good relations with its employees.</div>"
      ]
     },
     "execution_count": 29,
     "metadata": {},
     "output_type": "execute_result"
    }
   ],
   "source": [
    "soup3_emp_count[0].parent.next_sibling.next_sibling"
   ]
  },
  {
   "cell_type": "code",
   "execution_count": 30,
   "metadata": {
    "ExecuteTime": {
     "end_time": "2018-06-29T21:36:37.331370Z",
     "start_time": "2018-06-29T21:36:37.322365Z"
    },
    "scrolled": true
   },
   "outputs": [
    {
     "data": {
      "text/plain": [
       "<div class=\"c74\">Employees</div>"
      ]
     },
     "execution_count": 30,
     "metadata": {},
     "output_type": "execute_result"
    }
   ],
   "source": [
    "soup3_emp_count[0].find_parent(name=block_re)#.parent#.find_next_siblings(block_re, limit=6)"
   ]
  },
  {
   "cell_type": "code",
   "execution_count": 31,
   "metadata": {
    "ExecuteTime": {
     "end_time": "2018-06-29T21:36:37.343379Z",
     "start_time": "2018-06-29T21:36:37.332371Z"
    }
   },
   "outputs": [
    {
     "data": {
      "text/plain": [
       "<div class=\"c77\">AbbVie employed approximately 30,000 persons as of January 31, 2017. Outside the United\n",
       "States, some of AbbVie's employees are represented by unions or works councils. AbbVie believes that it has\n",
       "good relations with its employees.</div>"
      ]
     },
     "execution_count": 31,
     "metadata": {},
     "output_type": "execute_result"
    }
   ],
   "source": [
    "soup3_emp_count[0].find_parent(name=block_re).next_sibling.next_sibling"
   ]
  },
  {
   "cell_type": "markdown",
   "metadata": {},
   "source": [
    "#### Example 4"
   ]
  },
  {
   "cell_type": "code",
   "execution_count": 32,
   "metadata": {
    "ExecuteTime": {
     "end_time": "2018-06-29T21:36:57.031966Z",
     "start_time": "2018-06-29T21:36:37.344380Z"
    }
   },
   "outputs": [],
   "source": [
    "with open(html_path_list[4], encoding=\"utf8\") as file: \n",
    "            file4_html = file.read()\n",
    "            soup4 = bs(file4_html, 'lxml')\n",
    "soup4_emp_count = soup4.find_all(string=[emp_pats])"
   ]
  },
  {
   "cell_type": "code",
   "execution_count": 33,
   "metadata": {
    "ExecuteTime": {
     "end_time": "2018-06-29T21:36:57.039059Z",
     "start_time": "2018-06-29T21:36:57.031966Z"
    },
    "scrolled": false
   },
   "outputs": [
    {
     "data": {
      "text/plain": [
       "4"
      ]
     },
     "execution_count": 33,
     "metadata": {},
     "output_type": "execute_result"
    }
   ],
   "source": [
    "len(soup4_emp_count)"
   ]
  },
  {
   "cell_type": "code",
   "execution_count": 34,
   "metadata": {
    "ExecuteTime": {
     "end_time": "2018-06-29T21:36:57.049065Z",
     "start_time": "2018-06-29T21:36:57.041061Z"
    },
    "scrolled": true
   },
   "outputs": [
    {
     "data": {
      "text/plain": [
       "'At AIG, we\\nbelieve that a major strength of ours is the quality and dedication of our people. At December 31, 2016 and\\n2015, we had approximately 56,400 and 66,400 employees, respectively. We believe that our relations with our\\nemployees are satisfactory.'"
      ]
     },
     "execution_count": 34,
     "metadata": {},
     "output_type": "execute_result"
    }
   ],
   "source": [
    "soup4_emp_count[0]"
   ]
  },
  {
   "cell_type": "markdown",
   "metadata": {},
   "source": [
    "#### Example 5"
   ]
  },
  {
   "cell_type": "code",
   "execution_count": 35,
   "metadata": {
    "ExecuteTime": {
     "end_time": "2018-06-29T21:37:04.474206Z",
     "start_time": "2018-06-29T21:36:57.051065Z"
    }
   },
   "outputs": [],
   "source": [
    "with open(html_path_list[24], encoding=\"utf8\") as file: \n",
    "            file5_html = file.read()\n",
    "            soup5 = bs(file5_html, 'lxml')\n",
    "soup5_emp_count = soup5.find_all(string=[emp_pats])"
   ]
  },
  {
   "cell_type": "code",
   "execution_count": 36,
   "metadata": {
    "ExecuteTime": {
     "end_time": "2018-06-29T21:37:04.479211Z",
     "start_time": "2018-06-29T21:37:04.475206Z"
    }
   },
   "outputs": [
    {
     "data": {
      "text/plain": [
       "7"
      ]
     },
     "execution_count": 36,
     "metadata": {},
     "output_type": "execute_result"
    }
   ],
   "source": [
    "len(soup5_emp_count)"
   ]
  },
  {
   "cell_type": "code",
   "execution_count": 37,
   "metadata": {
    "ExecuteTime": {
     "end_time": "2018-06-29T21:37:04.491219Z",
     "start_time": "2018-06-29T21:37:04.481212Z"
    },
    "scrolled": true
   },
   "outputs": [
    {
     "data": {
      "text/plain": [
       "['Employees',\n",
       " ', we employed approximately 8,400 people in R&D and related support\\nactivities, including a substantial number of physicians, scientists holding graduate or postgraduate degrees\\nand higher-skilled technical personnel.',\n",
       " 'Employees',\n",
       " 'We have approximately 25,000 employees as of December 31,',\n",
       " 'BMS sponsors defined benefit pension plans, defined contribution plans and\\ntermination indemnity plans for regular full-time employees. The principal defined benefit pension plan is the\\nBristol-Myers Squibb Retirement Income Plan, covering most U.S. employees and representing approximately',\n",
       " 'In the\\nevent of your Retirement prior to settlement of the Performance Share Units, you will be deemed vested in a\\nprorated portion of the Performance Share Units granted, provided that you have been employed',\n",
       " 'during the Non-Competition and Non-Solicitation Period, employ, solicit for employment,\\nsolicit, induce, encourage, or participate in soliciting, inducing or encouraging any Company employee who is\\nemployed']"
      ]
     },
     "execution_count": 37,
     "metadata": {},
     "output_type": "execute_result"
    }
   ],
   "source": [
    "soup5_emp_count"
   ]
  },
  {
   "cell_type": "code",
   "execution_count": 38,
   "metadata": {
    "ExecuteTime": {
     "end_time": "2018-06-29T21:37:04.502225Z",
     "start_time": "2018-06-29T21:37:04.493220Z"
    }
   },
   "outputs": [
    {
     "data": {
      "text/plain": [
       "<div class=\"c71\"><span class=\"c73\">We have approximately 25,000 employees as of December 31,</span>\n",
       "<span class=\"c73\">2016</span><span class=\"c73\">.</span></div>"
      ]
     },
     "execution_count": 38,
     "metadata": {},
     "output_type": "execute_result"
    }
   ],
   "source": [
    "soup5_emp_count[2].find_parent(block_re).next_sibling.next_sibling.next_sibling.next_sibling"
   ]
  },
  {
   "cell_type": "code",
   "execution_count": 39,
   "metadata": {
    "ExecuteTime": {
     "end_time": "2018-06-29T21:37:04.514233Z",
     "start_time": "2018-06-29T21:37:04.503226Z"
    },
    "scrolled": false
   },
   "outputs": [
    {
     "data": {
      "text/plain": [
       "'We have approximately 25,000 employees as of December 31,'"
      ]
     },
     "execution_count": 39,
     "metadata": {},
     "output_type": "execute_result"
    }
   ],
   "source": [
    "soup5_emp_count[2].find_parent(block_re).find_next_siblings(block_re, limit=2)[1].find(string=emp_pats)"
   ]
  },
  {
   "cell_type": "markdown",
   "metadata": {},
   "source": [
    "## Write functions to flag paragraphs"
   ]
  },
  {
   "cell_type": "markdown",
   "metadata": {},
   "source": [
    "notes:\n",
    "- if r\"^Employees$\" matches, find the next block element that matches another pattern \n",
    "- Include tables as \"matches\" when siblings of Employees block elements"
   ]
  },
  {
   "cell_type": "markdown",
   "metadata": {},
   "source": [
    "Need regex that will capture heading tags"
   ]
  },
  {
   "cell_type": "code",
   "execution_count": 40,
   "metadata": {
    "ExecuteTime": {
     "end_time": "2018-06-29T21:37:04.522238Z",
     "start_time": "2018-06-29T21:37:04.516234Z"
    }
   },
   "outputs": [],
   "source": [
    "head_block_re = re.compile(r\"^(p|div|h[1-6])$\")"
   ]
  },
  {
   "cell_type": "code",
   "execution_count": 41,
   "metadata": {
    "ExecuteTime": {
     "end_time": "2018-06-29T21:37:04.533245Z",
     "start_time": "2018-06-29T21:37:04.524239Z"
    }
   },
   "outputs": [],
   "source": [
    "emp_head_raw = re.compile(r\"[>](Our|Number of  )?(Employees|Team Members)[<]\", re.I)\n",
    "emp_head = re.compile(r\"^(Our |Number of )?(Employees|Team Members)$\", re.I)"
   ]
  },
  {
   "cell_type": "markdown",
   "metadata": {},
   "source": [
    "### Test logic for finding paragraphs below flagged headings"
   ]
  },
  {
   "cell_type": "code",
   "execution_count": 42,
   "metadata": {
    "ExecuteTime": {
     "end_time": "2018-06-29T21:37:04.544254Z",
     "start_time": "2018-06-29T21:37:04.535247Z"
    }
   },
   "outputs": [
    {
     "data": {
      "text/plain": [
       "<span class=\"c58\">Employees</span>"
      ]
     },
     "execution_count": 42,
     "metadata": {},
     "output_type": "execute_result"
    }
   ],
   "source": [
    "emp2_tag"
   ]
  },
  {
   "cell_type": "code",
   "execution_count": 43,
   "metadata": {
    "ExecuteTime": {
     "end_time": "2018-06-29T21:37:04.553260Z",
     "start_time": "2018-06-29T21:37:04.546254Z"
    }
   },
   "outputs": [
    {
     "data": {
      "text/plain": [
       "342239"
      ]
     },
     "execution_count": 43,
     "metadata": {},
     "output_type": "execute_result"
    }
   ],
   "source": [
    "file2_html.find('>Employees<')"
   ]
  },
  {
   "cell_type": "code",
   "execution_count": 44,
   "metadata": {
    "ExecuteTime": {
     "end_time": "2018-06-29T21:37:04.587290Z",
     "start_time": "2018-06-29T21:37:04.555261Z"
    }
   },
   "outputs": [],
   "source": [
    "re.search(emp_head, file2_html)"
   ]
  },
  {
   "cell_type": "code",
   "execution_count": 45,
   "metadata": {
    "ExecuteTime": {
     "end_time": "2018-06-29T21:37:04.597288Z",
     "start_time": "2018-06-29T21:37:04.589283Z"
    }
   },
   "outputs": [
    {
     "data": {
      "text/plain": [
       "459"
      ]
     },
     "execution_count": 45,
     "metadata": {},
     "output_type": "execute_result"
    }
   ],
   "source": [
    "file2_html.count('\\n',0,86339)"
   ]
  },
  {
   "cell_type": "code",
   "execution_count": 46,
   "metadata": {
    "ExecuteTime": {
     "end_time": "2018-06-29T21:37:04.628308Z",
     "start_time": "2018-06-29T21:37:04.598289Z"
    },
    "scrolled": true
   },
   "outputs": [
    {
     "data": {
      "text/plain": [
       "<p class=\"c77\"><span class=\"c32\">As of December 31, 2016, we employed 2,776 full-time employees, of which 31\n",
       "held Ph.D. degrees in a science or engineering field. Of our employees, 287 are located in the U.S., 1,218 are\n",
       "located in Taiwan and 1,271 are located in China. None of our employees are represented by any collective\n",
       "bargaining agreement, but certain employees of our China subsidiary are members of a trade union. We have never\n",
       "suffered any work stoppage as a result of an employment related strike or any employee related dispute and\n",
       "believe that we have satisfactory relations with our employees.</span></p>"
      ]
     },
     "execution_count": 46,
     "metadata": {},
     "output_type": "execute_result"
    }
   ],
   "source": [
    "soup2.body.find(string=emp_head).find_parent(\n",
    "    name=block_re).next_sibling.next_sibling.next_sibling.next_sibling"
   ]
  },
  {
   "cell_type": "code",
   "execution_count": 47,
   "metadata": {
    "ExecuteTime": {
     "end_time": "2018-06-29T21:37:05.321165Z",
     "start_time": "2018-06-29T21:37:04.630310Z"
    }
   },
   "outputs": [
    {
     "data": {
      "text/plain": [
       "[<div class=\"c106\"></div>,\n",
       " <div class=\"c71\"><span class=\"c73\">We have approximately 25,000 employees as of December 31,</span>\n",
       " <span class=\"c73\">2016</span><span class=\"c73\">.</span></div>,\n",
       " <div><a id=\"sD00DD6DDD08DA54E10480FFA5CAA1F4F\" name=\"sD00DD6DDD08DA54E10480FFA5CAA1F4F\"></a></div>,\n",
       " <div class=\"c1\"></div>,\n",
       " <div class=\"c70\">Foreign Operations</div>]"
      ]
     },
     "execution_count": 47,
     "metadata": {},
     "output_type": "execute_result"
    }
   ],
   "source": [
    "soup5.find_all(string=emp_head)[1].find_parent(block_re).find_next_siblings(block_re, limit=5)#[1].find(string=emp_pats)\n",
    "#.next_sibling.next_sibling#.next_sibling.next_sibling\n"
   ]
  },
  {
   "cell_type": "markdown",
   "metadata": {},
   "source": [
    "Lists to accumulate flagged items; later turned into dataframes"
   ]
  },
  {
   "cell_type": "markdown",
   "metadata": {},
   "source": [
    "### Find candidate paragraphs"
   ]
  },
  {
   "cell_type": "code",
   "execution_count": 48,
   "metadata": {
    "ExecuteTime": {
     "end_time": "2018-06-29T00:11:09.390510Z",
     "start_time": "2018-06-29T00:11:09.386508Z"
    }
   },
   "outputs": [],
   "source": [
    "acc_id_list = [] ; para_list_orig = [] ;  tag_list = [];\n",
    "emp_head_list = []; emp_head_first_list = [];\n",
    "tbl_acc_id_list = [] ; tbl_tag_list = []; "
   ]
  },
  {
   "cell_type": "code",
   "execution_count": 65,
   "metadata": {
    "ExecuteTime": {
     "end_time": "2018-06-29T14:58:16.915690Z",
     "start_time": "2018-06-29T04:05:02.524119Z"
    },
    "scrolled": false
   },
   "outputs": [],
   "source": [
    "for i, fl in enumerate(html_path_list[950:]):\n",
    "    acc_id = PurePath(fl).stem.replace('.html', '')\n",
    "    tag_set = set();\n",
    "    with open(fl, encoding=\"utf8\") as file: \n",
    "        file_html = file.read()\n",
    "        soup = bs(file_html, 'lxml')\n",
    "#        emp_head_flag = False\n",
    "#        emp_head_first_match = False\n",
    "        if re.search(emp_head_raw, file_html):\n",
    "            for ihead, hblock in enumerate(soup.body.find_all(string=emp_head, limit=4)):\n",
    "                try:\n",
    "                    emp_head_tag = hblock.find_parent(name=head_block_re)\n",
    "                    if emp_head_tag.name != 'table' and emp_head_tag.find_parent('table') == None:\n",
    "                        emp_head_matched = False\n",
    "            #            print(emp_head_tag.name) ;print(emp_head_tag)\n",
    "                        for i2, block in enumerate(emp_head_tag.find_next_siblings(block_re, limit=6)):\n",
    "                            #print('Block sibling number: ' + str(i2))\n",
    "                            if block.find(string=[emp_pats]) != None and block.name != 'table':\n",
    "                                block_tag = copy.copy(block)\n",
    "                                if block_tag not in tag_set:\n",
    "                                    acc_id_list.append(acc_id) \n",
    "                                    tag_list.append(block_tag)\n",
    "                                    para_list_orig.append(block_tag.get_text())\n",
    "                                    tag_set.add(block_tag)\n",
    "                                    emp_head_list.append(True)\n",
    "                                    if not emp_head_matched:\n",
    "                                        emp_head_flag = True\n",
    "                                        emp_head_matched = True\n",
    "                                        emp_head_first_list.append(True)\n",
    "                                    else:\n",
    "                                        emp_head_first_list.append(False)\n",
    "                            if block.find('table') != None:\n",
    "            #                    print('Found table match!')\n",
    "                                tbl_block_tag = copy.copy(block)\n",
    "                                if tbl_block_tag not in tag_set:\n",
    "                                    tbl_acc_id_list.append(acc_id) \n",
    "                                    tbl_tag_list.append(tbl_block_tag)\n",
    "                                    tag_set.add(tbl_block_tag)\n",
    "                except:\n",
    "                    continue\n",
    "                        #tbl_df = pd.read_html(block.find('table').prettify(), tupleize_cols=True)[0].dropna(axis=1,how='all')\n",
    "    #                    print(tbl_df); print(tbl_df.info()); print(block)\n",
    "#        else:\n",
    "#            print('No Employees header')\n",
    "        soup_emp_count = soup.body.find_all(string=[emp_pats])\n",
    "        soup_emp_paras = [x.find_parent(name=block_re) for x in soup_emp_count]\n",
    "        soup_emp_paras = [x for x in soup_emp_paras if x != None]\n",
    "        for i2, block in enumerate(soup_emp_paras):\n",
    "#                print('Para number: ' + str(i2)); print(block)\n",
    "            block_tag = copy.copy(block)\n",
    "            if block_tag not in tag_set:\n",
    "                if block.find('table') != None:\n",
    "                    tbl_acc_id_list.append(acc_id) \n",
    "                    tbl_tag_list.append(block_tag)\n",
    "                    tag_set.add(block_tag)\n",
    "                else:\n",
    "                    acc_id_list.append(acc_id) \n",
    "                    tag_list.append(block_tag)\n",
    "                    tag_set.add(block_tag)\n",
    "                    para_list_orig.append(block_tag.get_text())\n",
    "                    emp_head_list.append(False)\n",
    "                    emp_head_first_list.append(False)\n",
    "#emp2_tag.find_next_siblings(block_re, limit = 1, string=False)[0].find(string=[emp_pats]).parent"
   ]
  },
  {
   "cell_type": "code",
   "execution_count": 72,
   "metadata": {
    "ExecuteTime": {
     "end_time": "2018-06-29T15:02:15.913281Z",
     "start_time": "2018-06-29T15:02:15.900273Z"
    },
    "scrolled": true
   },
   "outputs": [
    {
     "name": "stdout",
     "output_type": "stream",
     "text": [
      "2182\n",
      "8205\n",
      "8205\n",
      "6232\n",
      "8205\n",
      "8205\n",
      "8205\n",
      "208\n",
      "208\n"
     ]
    }
   ],
   "source": [
    "print(len(set(acc_id_list)))\n",
    "print(len(acc_id_list))\n",
    "print(len(para_list_orig))\n",
    "print(len(set(para_list_orig)))\n",
    "print(len(tag_list))\n",
    "print(len(emp_head_list))\n",
    "print(len(emp_head_first_list))\n",
    "print(len(tbl_acc_id_list))\n",
    "print(len(tbl_tag_list))"
   ]
  },
  {
   "cell_type": "markdown",
   "metadata": {},
   "source": [
    "### Create dataframes and save as CSVs"
   ]
  },
  {
   "cell_type": "code",
   "execution_count": 73,
   "metadata": {
    "ExecuteTime": {
     "end_time": "2018-06-29T15:02:53.452010Z",
     "start_time": "2018-06-29T15:02:53.444006Z"
    }
   },
   "outputs": [],
   "source": [
    "#### Make dataframe\n",
    "tbl_html_df = pd.DataFrame(data = { 'acc_id': tbl_acc_id_list, 'tbl_html': tbl_tag_list, 'split' : 'train' })\n",
    "tbl_html_df.loc[tbl_html_df.acc_id.isin(val_accession_ids),'split'] = 'val'"
   ]
  },
  {
   "cell_type": "code",
   "execution_count": 74,
   "metadata": {
    "ExecuteTime": {
     "end_time": "2018-06-29T15:02:57.026051Z",
     "start_time": "2018-06-29T15:02:56.594762Z"
    }
   },
   "outputs": [],
   "source": [
    "#### Write to csv for later use\n",
    "tbl_html_df.to_csv('data/tbl_html_df.csv')"
   ]
  },
  {
   "cell_type": "code",
   "execution_count": 75,
   "metadata": {
    "ExecuteTime": {
     "end_time": "2018-06-29T15:03:53.940959Z",
     "start_time": "2018-06-29T15:03:53.898931Z"
    }
   },
   "outputs": [],
   "source": [
    "paragraph_input_dict = {'acc_id' : acc_id_list, \n",
    "                        'para_text' : [p.replace('\\n', ' ').strip().replace(' ,', ',') for p in para_list_orig],\n",
    "                        'len' : [len(p) for p in para_list_orig], \n",
    "                        'emp_header' : emp_head_list,\n",
    "                        'first_emp_head_block' : emp_head_first_list,\n",
    "                       'para_text_orig' : para_list_orig, \n",
    "                        'para_tag' : tag_list, \n",
    "                       'split' : 'train', \n",
    "                       'label' : 0 }\n",
    "#paragraph_input_df['para_text'] = paragraph_input_df.para_text_orig.replace('\\n', ' ')\n",
    "p_columns = ['acc_id', 'para_text', 'len', 'emp_header', 'first_emp_head_block', 'para_text_orig',\n",
    "              'para_tag', 'split', 'label']\n",
    "\n",
    "paragraph_input_df = pd.DataFrame(paragraph_input_dict, columns=p_columns)\n",
    "\n",
    "\n",
    "paragraph_input_df.loc[paragraph_input_df.acc_id.isin(val_accession_ids),'split'] = 'val'\n",
    "\n",
    "train_df = paragraph_input_df[paragraph_input_df.split == 'train']"
   ]
  },
  {
   "cell_type": "code",
   "execution_count": 76,
   "metadata": {
    "ExecuteTime": {
     "end_time": "2018-06-29T15:04:17.520292Z",
     "start_time": "2018-06-29T15:04:15.147641Z"
    }
   },
   "outputs": [],
   "source": [
    "paragraph_input_df.to_csv('data/paragraph_input_df.csv')"
   ]
  },
  {
   "cell_type": "markdown",
   "metadata": {},
   "source": [
    "## Debug odd findings to refine regex or code"
   ]
  },
  {
   "cell_type": "markdown",
   "metadata": {},
   "source": [
    "Code for printing results from paragraph search for a file"
   ]
  },
  {
   "cell_type": "code",
   "execution_count": 62,
   "metadata": {
    "ExecuteTime": {
     "end_time": "2018-06-30T14:20:21.755424Z",
     "start_time": "2018-06-30T14:20:21.693383Z"
    },
    "code_folding": []
   },
   "outputs": [],
   "source": [
    "def print_parse_objects(file: str, use_acc_id: bool=True, acc_id_list = full_accession_ids, \n",
    "                       file_path_list = html_path_list):\n",
    "    fl = file\n",
    "    if use_acc_id:\n",
    "        fl = html_path_list[full_accession_ids.index(fl)]        \n",
    "        print('Index number: ')\n",
    "        print(full_accession_ids.index(file))\n",
    "    print('File path: ')\n",
    "    print(fl)\n",
    "    #for i, fl in enumerate(html_path_list[303:304]):\n",
    "    with open(fl, encoding=\"utf8\") as file: \n",
    "        file_html = file.read()\n",
    "        soup = bs(file_html, 'lxml')\n",
    "        emp_head_flag = False\n",
    "        emp_head_first_match = False\n",
    "        if re.search(emp_head_raw, file_html):\n",
    "            for ihead, hblock in enumerate(soup.body.find_all(string=emp_head)):\n",
    "                emp_head_tag = hblock.find_parent(name=head_block_re)\n",
    "\n",
    "                if emp_head_tag != None and emp_head_tag.name != 'table' and emp_head_tag.find_parent('table') == None:\n",
    "                    emp_head_matched = False\n",
    "                    print(ihead); \n",
    "                    try:\n",
    "                        print(emp_head_tag.name) \n",
    "                    except:\n",
    "                        print('emp_head_tag has no name')\n",
    "                    print(emp_head_tag)\n",
    "                    for i2, block in enumerate(emp_head_tag.find_next_siblings(block_re, limit=6)):\n",
    "                        print('Block sibling number: ' + str(i2))\n",
    "                        if block.find(string=emp_pats) != None:\n",
    "                            block_tag = copy.copy(block)\n",
    "                            print('Found match!'); print(block_tag) ; print(block_tag.get_text())\n",
    "                        if block.find('table') != None:\n",
    "                            print('Found table match!')\n",
    "                            tbl_block_tag = copy.copy(block)\n",
    "                            tbl_df = pd.read_html(block.find('table').prettify())[0].dropna(axis=1,how='all')\n",
    "                            print(tbl_df); print(tbl_df.info()); print(block)\n",
    "        #else:\n",
    "        print('No Employees header')\n",
    "        soup_emp_count = soup.body.find_all(string=[emp_pats])\n",
    "        soup_emp_paras = [x.find_parent(name=head_block_re) for x in soup_emp_count]\n",
    "        soup_emp_paras = [x for x in soup_emp_paras if x != None]\n",
    "        soup_emp_blocks = [x  for x in soup_emp_count if x.name in ['p', 'div']]\n",
    "        for i2, block in enumerate(soup_emp_paras):\n",
    "            block_tag = copy.copy(block)\n",
    "            print('Para number: ' + str(i2)); \n",
    "            try:\n",
    "                print('Original match name:  ' +  soup_emp_count[i2].name)\n",
    "            except:\n",
    "                print('Original match has no name')\n",
    "            print('Original match:  ' +  soup_emp_count[i2])\n",
    "            try:\n",
    "                print('Block match name:  ' +  block_tag.name)\n",
    "            except:\n",
    "                print('Block match has no name')\n",
    "            print('Block:  ')\n",
    "            print(block)\n",
    "            print(type(block))\n",
    "            print('Block Text:  ')\n",
    "            print(block.get_text().replace('\\n', ' '))\n",
    "        for i2, block in enumerate(soup_emp_blocks):\n",
    "            print('Block number: ' + str(i2)); print(block)\n",
    "#emp2_tag.find_next_siblings(block_re, limit = 1, string=False)[0].find(string=[emp_pats]).parent"
   ]
  },
  {
   "cell_type": "code",
   "execution_count": 77,
   "metadata": {
    "ExecuteTime": {
     "end_time": "2018-06-29T15:04:28.496485Z",
     "start_time": "2018-06-29T15:04:28.491481Z"
    }
   },
   "outputs": [
    {
     "name": "stdout",
     "output_type": "stream",
     "text": [
      "Paragraphs: 8205\n",
      "Files with paragraphs: 2182\n",
      "Tables: 208\n"
     ]
    }
   ],
   "source": [
    "print('Paragraphs: ' + str(len(acc_id_list)))\n",
    "print('Files with paragraphs: ' + str(len(set(acc_id_list))))\n",
    "print('Tables: ' + str(len(tbl_acc_id_list)))"
   ]
  },
  {
   "cell_type": "markdown",
   "metadata": {},
   "source": [
    "Code for investigating files for which no candidate paragraphs were identified"
   ]
  },
  {
   "cell_type": "code",
   "execution_count": 78,
   "metadata": {
    "ExecuteTime": {
     "end_time": "2018-06-29T15:04:35.677889Z",
     "start_time": "2018-06-29T15:04:35.650871Z"
    }
   },
   "outputs": [],
   "source": [
    "missed_ids = [x for x in full_accession_ids[:100] if x not in set(acc_id_list)]\n",
    "# For investigating files with no candidate paragraphs if they are part of the training set\n",
    "#[x for x in missed_ids if x in train_accession_ids]  "
   ]
  },
  {
   "cell_type": "code",
   "execution_count": 350,
   "metadata": {
    "ExecuteTime": {
     "end_time": "2018-06-27T20:51:38.295108Z",
     "start_time": "2018-06-27T20:51:38.290106Z"
    }
   },
   "outputs": [
    {
     "data": {
      "text/plain": [
       "[89]"
      ]
     },
     "execution_count": 350,
     "metadata": {},
     "output_type": "execute_result"
    }
   ],
   "source": [
    "#find index of file for specific accession id\n",
    "#[i for i, x in enumerate(html_path_list[:300]) if re.search(r\"0000042316-17-000014\", x)]"
   ]
  },
  {
   "cell_type": "markdown",
   "metadata": {},
   "source": [
    "### Explore dataframe of paragraphs for training data"
   ]
  },
  {
   "cell_type": "code",
   "execution_count": 460,
   "metadata": {
    "ExecuteTime": {
     "end_time": "2018-06-28T18:53:02.487241Z",
     "start_time": "2018-06-28T18:53:02.472232Z"
    },
    "scrolled": true
   },
   "outputs": [
    {
     "data": {
      "text/html": [
       "<div>\n",
       "<style scoped>\n",
       "    .dataframe tbody tr th:only-of-type {\n",
       "        vertical-align: middle;\n",
       "    }\n",
       "\n",
       "    .dataframe tbody tr th {\n",
       "        vertical-align: top;\n",
       "    }\n",
       "\n",
       "    .dataframe thead th {\n",
       "        text-align: right;\n",
       "    }\n",
       "</style>\n",
       "<table border=\"1\" class=\"dataframe\">\n",
       "  <thead>\n",
       "    <tr style=\"text-align: right;\">\n",
       "      <th></th>\n",
       "      <th>acc_id</th>\n",
       "      <th>para_text</th>\n",
       "      <th>len</th>\n",
       "      <th>emp_header</th>\n",
       "      <th>first_emp_head_block</th>\n",
       "      <th>para_text_orig</th>\n",
       "      <th>para_tag</th>\n",
       "      <th>split</th>\n",
       "      <th>label</th>\n",
       "    </tr>\n",
       "  </thead>\n",
       "  <tbody>\n",
       "    <tr>\n",
       "      <th>2</th>\n",
       "      <td>0000004127-16-000068</td>\n",
       "      <td>As of September 30, 2016, we employed approxim...</td>\n",
       "      <td>245</td>\n",
       "      <td>True</td>\n",
       "      <td>True</td>\n",
       "      <td>As of September 30, 2016,\\nwe employed approxi...</td>\n",
       "      <td>&lt;div class=\"c80\"&gt;&lt;span class=\"c32\"&gt;As of&lt;/span...</td>\n",
       "      <td>train</td>\n",
       "      <td>0</td>\n",
       "    </tr>\n",
       "    <tr>\n",
       "      <th>3</th>\n",
       "      <td>0000004127-16-000068</td>\n",
       "      <td>EMPLOYEES</td>\n",
       "      <td>9</td>\n",
       "      <td>False</td>\n",
       "      <td>False</td>\n",
       "      <td>EMPLOYEES</td>\n",
       "      <td>&lt;div class=\"c90\"&gt;EMPLOYEES&lt;/div&gt;</td>\n",
       "      <td>train</td>\n",
       "      <td>0</td>\n",
       "    </tr>\n",
       "  </tbody>\n",
       "</table>\n",
       "</div>"
      ],
      "text/plain": [
       "                 acc_id                                          para_text  \\\n",
       "2  0000004127-16-000068  As of September 30, 2016, we employed approxim...   \n",
       "3  0000004127-16-000068                                          EMPLOYEES   \n",
       "\n",
       "   len  emp_header  first_emp_head_block  \\\n",
       "2  245        True                  True   \n",
       "3    9       False                 False   \n",
       "\n",
       "                                      para_text_orig  \\\n",
       "2  As of September 30, 2016,\\nwe employed approxi...   \n",
       "3                                          EMPLOYEES   \n",
       "\n",
       "                                            para_tag  split  label  \n",
       "2  <div class=\"c80\"><span class=\"c32\">As of</span...  train      0  \n",
       "3                   <div class=\"c90\">EMPLOYEES</div>  train      0  "
      ]
     },
     "execution_count": 460,
     "metadata": {},
     "output_type": "execute_result"
    }
   ],
   "source": [
    "train_df.head(2)"
   ]
  },
  {
   "cell_type": "code",
   "execution_count": 79,
   "metadata": {
    "ExecuteTime": {
     "end_time": "2018-06-29T15:04:47.957461Z",
     "start_time": "2018-06-29T15:04:47.931445Z"
    },
    "scrolled": true
   },
   "outputs": [
    {
     "data": {
      "text/html": [
       "<div>\n",
       "<style scoped>\n",
       "    .dataframe tbody tr th:only-of-type {\n",
       "        vertical-align: middle;\n",
       "    }\n",
       "\n",
       "    .dataframe tbody tr th {\n",
       "        vertical-align: top;\n",
       "    }\n",
       "\n",
       "    .dataframe thead th {\n",
       "        text-align: right;\n",
       "    }\n",
       "</style>\n",
       "<table border=\"1\" class=\"dataframe\">\n",
       "  <thead>\n",
       "    <tr style=\"text-align: right;\">\n",
       "      <th></th>\n",
       "      <th>len</th>\n",
       "      <th>label</th>\n",
       "    </tr>\n",
       "  </thead>\n",
       "  <tbody>\n",
       "    <tr>\n",
       "      <th>count</th>\n",
       "      <td>6170.000000</td>\n",
       "      <td>6170.0</td>\n",
       "    </tr>\n",
       "    <tr>\n",
       "      <th>mean</th>\n",
       "      <td>415.585575</td>\n",
       "      <td>0.0</td>\n",
       "    </tr>\n",
       "    <tr>\n",
       "      <th>std</th>\n",
       "      <td>475.612180</td>\n",
       "      <td>0.0</td>\n",
       "    </tr>\n",
       "    <tr>\n",
       "      <th>min</th>\n",
       "      <td>8.000000</td>\n",
       "      <td>0.0</td>\n",
       "    </tr>\n",
       "    <tr>\n",
       "      <th>25%</th>\n",
       "      <td>26.000000</td>\n",
       "      <td>0.0</td>\n",
       "    </tr>\n",
       "    <tr>\n",
       "      <th>50%</th>\n",
       "      <td>300.000000</td>\n",
       "      <td>0.0</td>\n",
       "    </tr>\n",
       "    <tr>\n",
       "      <th>75%</th>\n",
       "      <td>618.000000</td>\n",
       "      <td>0.0</td>\n",
       "    </tr>\n",
       "    <tr>\n",
       "      <th>max</th>\n",
       "      <td>5054.000000</td>\n",
       "      <td>0.0</td>\n",
       "    </tr>\n",
       "  </tbody>\n",
       "</table>\n",
       "</div>"
      ],
      "text/plain": [
       "               len   label\n",
       "count  6170.000000  6170.0\n",
       "mean    415.585575     0.0\n",
       "std     475.612180     0.0\n",
       "min       8.000000     0.0\n",
       "25%      26.000000     0.0\n",
       "50%     300.000000     0.0\n",
       "75%     618.000000     0.0\n",
       "max    5054.000000     0.0"
      ]
     },
     "execution_count": 79,
     "metadata": {},
     "output_type": "execute_result"
    }
   ],
   "source": [
    "train_df.describe()"
   ]
  },
  {
   "cell_type": "code",
   "execution_count": 490,
   "metadata": {
    "ExecuteTime": {
     "end_time": "2018-06-28T20:21:36.047911Z",
     "start_time": "2018-06-28T20:21:36.030900Z"
    },
    "collapsed": true
   },
   "outputs": [
    {
     "data": {
      "text/html": [
       "<div>\n",
       "<style scoped>\n",
       "    .dataframe tbody tr th:only-of-type {\n",
       "        vertical-align: middle;\n",
       "    }\n",
       "\n",
       "    .dataframe tbody tr th {\n",
       "        vertical-align: top;\n",
       "    }\n",
       "\n",
       "    .dataframe thead th {\n",
       "        text-align: right;\n",
       "    }\n",
       "</style>\n",
       "<table border=\"1\" class=\"dataframe\">\n",
       "  <thead>\n",
       "    <tr style=\"text-align: right;\">\n",
       "      <th></th>\n",
       "      <th>len_counts</th>\n",
       "    </tr>\n",
       "  </thead>\n",
       "  <tbody>\n",
       "    <tr>\n",
       "      <th>5054</th>\n",
       "      <td>1</td>\n",
       "    </tr>\n",
       "    <tr>\n",
       "      <th>4944</th>\n",
       "      <td>1</td>\n",
       "    </tr>\n",
       "    <tr>\n",
       "      <th>4868</th>\n",
       "      <td>1</td>\n",
       "    </tr>\n",
       "    <tr>\n",
       "      <th>4213</th>\n",
       "      <td>1</td>\n",
       "    </tr>\n",
       "    <tr>\n",
       "      <th>3972</th>\n",
       "      <td>1</td>\n",
       "    </tr>\n",
       "    <tr>\n",
       "      <th>3904</th>\n",
       "      <td>1</td>\n",
       "    </tr>\n",
       "    <tr>\n",
       "      <th>3878</th>\n",
       "      <td>1</td>\n",
       "    </tr>\n",
       "    <tr>\n",
       "      <th>3862</th>\n",
       "      <td>1</td>\n",
       "    </tr>\n",
       "    <tr>\n",
       "      <th>3795</th>\n",
       "      <td>1</td>\n",
       "    </tr>\n",
       "    <tr>\n",
       "      <th>3791</th>\n",
       "      <td>1</td>\n",
       "    </tr>\n",
       "    <tr>\n",
       "      <th>3605</th>\n",
       "      <td>1</td>\n",
       "    </tr>\n",
       "    <tr>\n",
       "      <th>3559</th>\n",
       "      <td>1</td>\n",
       "    </tr>\n",
       "    <tr>\n",
       "      <th>3413</th>\n",
       "      <td>1</td>\n",
       "    </tr>\n",
       "    <tr>\n",
       "      <th>3383</th>\n",
       "      <td>1</td>\n",
       "    </tr>\n",
       "    <tr>\n",
       "      <th>3343</th>\n",
       "      <td>1</td>\n",
       "    </tr>\n",
       "    <tr>\n",
       "      <th>3331</th>\n",
       "      <td>1</td>\n",
       "    </tr>\n",
       "    <tr>\n",
       "      <th>3306</th>\n",
       "      <td>1</td>\n",
       "    </tr>\n",
       "    <tr>\n",
       "      <th>3302</th>\n",
       "      <td>1</td>\n",
       "    </tr>\n",
       "    <tr>\n",
       "      <th>3191</th>\n",
       "      <td>1</td>\n",
       "    </tr>\n",
       "    <tr>\n",
       "      <th>3171</th>\n",
       "      <td>1</td>\n",
       "    </tr>\n",
       "    <tr>\n",
       "      <th>2857</th>\n",
       "      <td>1</td>\n",
       "    </tr>\n",
       "    <tr>\n",
       "      <th>2830</th>\n",
       "      <td>1</td>\n",
       "    </tr>\n",
       "    <tr>\n",
       "      <th>2802</th>\n",
       "      <td>1</td>\n",
       "    </tr>\n",
       "    <tr>\n",
       "      <th>2510</th>\n",
       "      <td>1</td>\n",
       "    </tr>\n",
       "    <tr>\n",
       "      <th>2490</th>\n",
       "      <td>1</td>\n",
       "    </tr>\n",
       "    <tr>\n",
       "      <th>2477</th>\n",
       "      <td>1</td>\n",
       "    </tr>\n",
       "    <tr>\n",
       "      <th>2397</th>\n",
       "      <td>1</td>\n",
       "    </tr>\n",
       "    <tr>\n",
       "      <th>2369</th>\n",
       "      <td>1</td>\n",
       "    </tr>\n",
       "    <tr>\n",
       "      <th>2344</th>\n",
       "      <td>1</td>\n",
       "    </tr>\n",
       "    <tr>\n",
       "      <th>2340</th>\n",
       "      <td>1</td>\n",
       "    </tr>\n",
       "    <tr>\n",
       "      <th>...</th>\n",
       "      <td>...</td>\n",
       "    </tr>\n",
       "    <tr>\n",
       "      <th>37</th>\n",
       "      <td>5</td>\n",
       "    </tr>\n",
       "    <tr>\n",
       "      <th>36</th>\n",
       "      <td>4</td>\n",
       "    </tr>\n",
       "    <tr>\n",
       "      <th>35</th>\n",
       "      <td>4</td>\n",
       "    </tr>\n",
       "    <tr>\n",
       "      <th>34</th>\n",
       "      <td>4</td>\n",
       "    </tr>\n",
       "    <tr>\n",
       "      <th>33</th>\n",
       "      <td>3</td>\n",
       "    </tr>\n",
       "    <tr>\n",
       "      <th>32</th>\n",
       "      <td>8</td>\n",
       "    </tr>\n",
       "    <tr>\n",
       "      <th>31</th>\n",
       "      <td>15</td>\n",
       "    </tr>\n",
       "    <tr>\n",
       "      <th>30</th>\n",
       "      <td>21</td>\n",
       "    </tr>\n",
       "    <tr>\n",
       "      <th>29</th>\n",
       "      <td>24</td>\n",
       "    </tr>\n",
       "    <tr>\n",
       "      <th>28</th>\n",
       "      <td>2</td>\n",
       "    </tr>\n",
       "    <tr>\n",
       "      <th>27</th>\n",
       "      <td>2</td>\n",
       "    </tr>\n",
       "    <tr>\n",
       "      <th>26</th>\n",
       "      <td>6</td>\n",
       "    </tr>\n",
       "    <tr>\n",
       "      <th>25</th>\n",
       "      <td>6</td>\n",
       "    </tr>\n",
       "    <tr>\n",
       "      <th>24</th>\n",
       "      <td>10</td>\n",
       "    </tr>\n",
       "    <tr>\n",
       "      <th>23</th>\n",
       "      <td>6</td>\n",
       "    </tr>\n",
       "    <tr>\n",
       "      <th>22</th>\n",
       "      <td>4</td>\n",
       "    </tr>\n",
       "    <tr>\n",
       "      <th>21</th>\n",
       "      <td>11</td>\n",
       "    </tr>\n",
       "    <tr>\n",
       "      <th>20</th>\n",
       "      <td>8</td>\n",
       "    </tr>\n",
       "    <tr>\n",
       "      <th>19</th>\n",
       "      <td>8</td>\n",
       "    </tr>\n",
       "    <tr>\n",
       "      <th>18</th>\n",
       "      <td>5</td>\n",
       "    </tr>\n",
       "    <tr>\n",
       "      <th>17</th>\n",
       "      <td>12</td>\n",
       "    </tr>\n",
       "    <tr>\n",
       "      <th>16</th>\n",
       "      <td>14</td>\n",
       "    </tr>\n",
       "    <tr>\n",
       "      <th>15</th>\n",
       "      <td>13</td>\n",
       "    </tr>\n",
       "    <tr>\n",
       "      <th>14</th>\n",
       "      <td>6</td>\n",
       "    </tr>\n",
       "    <tr>\n",
       "      <th>13</th>\n",
       "      <td>10</td>\n",
       "    </tr>\n",
       "    <tr>\n",
       "      <th>12</th>\n",
       "      <td>13</td>\n",
       "    </tr>\n",
       "    <tr>\n",
       "      <th>11</th>\n",
       "      <td>6</td>\n",
       "    </tr>\n",
       "    <tr>\n",
       "      <th>10</th>\n",
       "      <td>44</td>\n",
       "    </tr>\n",
       "    <tr>\n",
       "      <th>9</th>\n",
       "      <td>697</td>\n",
       "    </tr>\n",
       "    <tr>\n",
       "      <th>8</th>\n",
       "      <td>3</td>\n",
       "    </tr>\n",
       "  </tbody>\n",
       "</table>\n",
       "<p>1119 rows × 1 columns</p>\n",
       "</div>"
      ],
      "text/plain": [
       "      len_counts\n",
       "5054           1\n",
       "4944           1\n",
       "4868           1\n",
       "4213           1\n",
       "3972           1\n",
       "3904           1\n",
       "3878           1\n",
       "3862           1\n",
       "3795           1\n",
       "3791           1\n",
       "3605           1\n",
       "3559           1\n",
       "3413           1\n",
       "3383           1\n",
       "3343           1\n",
       "3331           1\n",
       "3306           1\n",
       "3302           1\n",
       "3191           1\n",
       "3171           1\n",
       "2857           1\n",
       "2830           1\n",
       "2802           1\n",
       "2510           1\n",
       "2490           1\n",
       "2477           1\n",
       "2397           1\n",
       "2369           1\n",
       "2344           1\n",
       "2340           1\n",
       "...          ...\n",
       "37             5\n",
       "36             4\n",
       "35             4\n",
       "34             4\n",
       "33             3\n",
       "32             8\n",
       "31            15\n",
       "30            21\n",
       "29            24\n",
       "28             2\n",
       "27             2\n",
       "26             6\n",
       "25             6\n",
       "24            10\n",
       "23             6\n",
       "22             4\n",
       "21            11\n",
       "20             8\n",
       "19             8\n",
       "18             5\n",
       "17            12\n",
       "16            14\n",
       "15            13\n",
       "14             6\n",
       "13            10\n",
       "12            13\n",
       "11             6\n",
       "10            44\n",
       "9            697\n",
       "8              3\n",
       "\n",
       "[1119 rows x 1 columns]"
      ]
     },
     "execution_count": 490,
     "metadata": {},
     "output_type": "execute_result"
    }
   ],
   "source": [
    "train_df.len.value_counts().to_frame('len_counts').sort_index(ascending=False)"
   ]
  },
  {
   "cell_type": "code",
   "execution_count": 80,
   "metadata": {
    "ExecuteTime": {
     "end_time": "2018-06-29T15:05:16.998791Z",
     "start_time": "2018-06-29T15:05:16.971774Z"
    }
   },
   "outputs": [
    {
     "name": "stdout",
     "output_type": "stream",
     "text": [
      "----------------------------------- 0001193125-17-106055 -----------------------------------\n",
      "len  :5054\n",
      "\n",
      "emp_header  :False\n",
      "\n",
      "first_emp_head_block  :False\n",
      "\n",
      "para_text  :Current format     Previous format                             Millions of Euros       Millions of Euros    ASSETS   December  2015     December  2014      ASSETS   December  2015     December  2014              CASH, CASH BALANCES AT CENTRAL BANKS AND OTHER DEMAND DEPOSITS (1)   29,282    27,719     CASH AND BALANCES WITH CENTRAL BANKS   43,467    31,430    FINANCIAL ASSETS HELD FOR TRADING   78,326    83,258     FINANCIAL ASSETS HELD FOR TRADING   78,326    83,258    Derivatives   40,902    44,229     Loans and advances to credit institutions   -    -    Equity instruments   4,534    5,017     Loans and advances to customers   65    128    Debt securities   32,825    33,883     Debt securities   32,825    33,883    Loans and advances to central banks   -    -     Equity instruments   4,534    5,017    Loans and advances to credit institutions   -    -     Trading derivatives   40,902    44,229    Loans and advances to customers   65    128                         OTHER FINANCIAL ASSETS DESIGNATED AT FAIR VALUE THROUGH PROFIT OR LOSS   2,311    2,761     OTHER FINANCIAL ASSETS DESIGNATED AT FAIR VALUE THROUGH PROFIT OR LOSS   2,311    2,761    Equity instruments   2,075    2,024     Loans and advances to credit institutions   62    -    Debt securities   173    737     Loans and advances to customers   -    -    Loans and advances to central banks   -    -     Debt securities   173    737    Loans and advances to credit institutions   62    -     Equity instruments   2,075    2,024    Loans and advances to customers   -    -                AVAILABLE-FOR-SALE FINANCIAL ASSETS   113,426    94,875     AVAILABLE-FOR-SALE FINANCIAL ASSETS   113,426    94,875    Equity instruments   5,116    7,267     Debt securities   108,310    87,608    Debt securities   108,310    87,608     Equity instruments   5,116    7,267    LOANS AND RECEIVABLES (2)   471,828    376,086     LOANS AND RECEIVABLES   457,644    372,375    Debt securities   10,516    6,659     Loans and advances to credit institutions   32,962    27,059    Loans and advances to central banks   17,830    5,429     Loans and advances to customers   414,165    338,657    Loans and advances to credit institutions   29,317    25,342     Debt securities   10,516    6,659    Loans and advances to customers   414,165    338,657                HELD-TO-MATURITY INVESTMENTS   -    -     HELD-TO-MATURITY INVESTMENTS   -    -    HEDGING DERIVATIVES   3,538    2,551     FAIR VALUE CHANGES OF THE HEDGED ITEMS IN PORTFOLIO HEDGES OF INTEREST RATE RISK   45    121    FAIR VALUE CHANGES OF THE HEDGED ITEMS IN PORTFOLIO HEDGES OF INTEREST RATE RISK   45    121     HEDGING DERIVATIVES   3,538    2,551    INVESTMENTS IN SUBSIDARIES, JOINT VENTURES AND ASSOCIATES   879    4,509     NON-CURRENT ASSETS HELD FOR SALE   3,369    3,793    Joint ventures   243    4,092     INVESTMENTS IN ENTITIES ACCOUNTED FOR USING THE EQUITY METHOD   879    4,509    Associates   636    417     Associates   636    417    REINSURANCE ASSETS   511    559     Joint ventures   243    4,092    TANGIBLE ASSETS   9,944    7,820     INSURANCE CONTRACTS LINKED TO PENSIONS   -    -    Property, plants and equipment   8,477    6,428     REINSURANCE ASSETS   511    559    For own use   8,021    5,985     TANGIBLE ASSETS   9,944    7,820    Other assets leased out under an operating lease   456    443     Property, plants and equipment   8,477    6,428    Investment properties   1,467    1,392     For own use   8,021    5,985    INTANGIBLE ASSETS   10,052    7,371     Other assets leased out under an operating lease   456    443    Goodwill   6,915    5,697     Investment properties   1,467    1,392    Other intangible assets   3,137    1,673     INTANGIBLE ASSETS   10,052    7,371    TAX ASSETS   17,779    12,426     Goodwill   6,915    5,697    Current   1,901    2,035     Other intangible assets   3,137    1,673    Deferred   15,878    10,391     TAX ASSETS   17,779    12,426    OTHER ASSETS   8,566    8,094     Current   1,901    2,035    Insurance contracts linked to pensions   -    -     Deferred   15,878    10,391    Inventories   4,303    4,443     OTHER ASSETS   8,566    8,094    Rest   4,263    3,651     Inventories   4,303    4,443    NON-CURRENT ASSETS AND DISPOSAL GROUPS HELD FOR SALE (3)   3,369    3,793     Rest   4,263    3,651    TOTAL ASSETS   749,855    631,942     TOTAL ASSETS   749,855    631,942      (1) The main differences with regard to the heading \" Cash and deposits with central banks\" are the inclusion of the balances deposited in Credit Institutions and the reclassification of Loans at central banks to the heading Loans and Receivables (2) The main differences with regard to the heading \"Loans and receivables\" are the inclusion of loans at central banks and the reclassification of balances deposited in Credit institutions to the heading \"Cash, cash balances at central banks and other demand deposits\" (3) Corresponding to the heading \"Non-current assest held-for-sale\" of the previous format\n",
      "\n",
      "----------------------------------- 0001047469-17-006466 -----------------------------------\n",
      "len  :4944\n",
      "\n",
      "emp_header  :False\n",
      "\n",
      "first_emp_head_block  :False\n",
      "\n",
      "para_text  :(a) Represents:  (i) costs and expenses in connection with various restructuring initiatives since the AEA Acquisition, including severance costs, relocation costs, recruiting expenses, write-offs of inventory and fixed assets and third-party consultant costs to assist with these initiatives (includes (A) $16.9 million in fiscal 2016 (all of which is reflected as a component of Restructuring charges in \"Note 12 Restructuring and Related Charges\" to our audited consolidated financial statements) and $19.2 million for the nine months ended June 30, 2017 (all of which is reflected as a component of Restructuring charges in \"Note 11 Restructuring and Related Charges\" to our unaudited condensed consolidated financial statements) related to our voluntary separation plan pursuant to which approximately 220 employees accepted separation packages, and (B) $12.4 million (of which $4.4 million is reflected as a component of Restructuring charges in \"Note 12 Restructuring and Related Charges\" to our audited consolidated financial statements) in the Successor Period, $9.2 million (of which $6.5 million is reflected as a component of Restructuring charges in \"Note 12 Restructuring and Related Charges\" to our audited consolidated financial statements) in fiscal 2015, $11.1 million (all of which is reflected as a component of Restructuring charges in \"Note 12 Restructuring and Related Charges\" to our audited consolidated financial statements) in fiscal 2016, $9.3 million (of which $8.1 million is reflected as a component of Restructuring charges in \"Note 11 Restructuring and Related Charges\" to our unaudited condensed consolidated financial statements) in the nine months ended June 30, 2016 and $6.5 million (of which $2.9 million is reflected as a component of Restructuring charges in \"Note 11 Restructuring and Related Charges\" to our unaudited condensed consolidated financial statements) in the nine months ended June 30, 2017 related to various other initiatives implemented to restructure and reorganize our business as a standalone business with an appropriate management team and cost structure). Differences between amounts reflected as Restructuring charges in \"Note 12 Restructuring and Related Charges\" to our audited financial statements and amounts reflected in this adjustment relate primarily to retention payments made to employees in the Successor Period of $5.6 million that have been reflected as components of Cost of product sales and services ($1.2 million), Research and development expense ($0.2 million), Sales and marketing expense ($1.9 million) and General and administrative expense ($2.3 million) as well as other administrative costs associated with separation from the Predecessor that have been reflected in the Successor Period as a component of General and administrative expense (2.4 million). Differences between amounts reflected as Restructuring charges in \"Note 12 Restructuring and Related Charges\" to our audited financial statements and amounts reflected in this adjustment also relate to retention payments made to employees in fiscal 2015 of $2.5 million that have been reflected as components of Cost of product sales and services ($1.1 million), Research and development expense ($0.1 million), Sales and marketing expense ($1.0 million) and General and administrative expense ($0.3 million). Differences between amounts reflected as Restructuring charges in \"Note 11 Restructuring and Related Charges\" to our unaudited condensed consolidated financial statements in the nine months ended June 30, 2016 and June 30, 2017 and amounts reflected in this adjustment relate primarily to consulting costs and other charges related to implementing such initiatives that have primarily been recorded as a component of General and administrative expense ($1.2 million) in the nine months ended June 30, 2016 and Cost of product sales and services ($1.4 million), Sales and marketing expenses ($1.0 million) and General and administrative expense ($1.0 million) in the nine months ended June 30, 2017; (ii) legal settlement costs and intellectual property related fees associated with legacy matters prior to the AEA Acquisition, including fees and settlement costs related to product warranty litigation on MEMCOR products and certain discontinued products ($11.7 million in the Successor Period, reflected as a component of Cost of product sales and services, $11.7 million in fiscal 2015, reflected as components of Cost of product sales and services ($10.7 million) and General and administrative expenses ($1.0 million), $5.1 million, primarily reflected as a component of Cost of product sales and services in fiscal 2016, $2.5 million, primarily reflected as a component of Cost of product sales and services in the nine months ended June 30, 2016 and $1.8 million, primarily reflected as a component of General and administrative expense in the nine months ended June 30, 2017);\n",
      "\n",
      "----------------------------------- 0001193125-17-059212 -----------------------------------\n",
      "len  :4868\n",
      "\n",
      "emp_header  :False\n",
      "\n",
      "first_emp_head_block  :False\n",
      "\n",
      "para_text  :Exhibit No.     Description         4.27   Instruments defining the Rights of Security Holders, Including Indentures-Except as set forth in Exhibits 4.1 through 4.18 above, the instruments defining the rights of holders of long-term debt securities of Morgan Stanley and its subsidiaries are omitted pursuant to Section (b)(4)(iii) of Item 601 of Regulation S-K. Morgan Stanley hereby agrees to furnish copies of these instruments to the U.S. Securities and Exchange Commission upon request.        10.1   Amended and Restated Trust Agreement dated as of October 18, 2011 by and between Morgan Stanley and State Street Bank and Trust Company (Exhibit 10.1 to Morgan Stanley's Annual Report on Form 10-K for the year ended December 31, 2011).        10.2   Amended and Restated Investor Agreement dated as of June 30, 2011 by and between Morgan Stanley and Mitsubishi UFJ Financial Group, Inc. (Exhibit 10.1 to Morgan Stanley's Current Report on Form 8-K dated June 30, 2011), as amended by Third Amendment, dated October 3, 2013 (Exhibit 10.1 to Morgan Stanley's Quarterly Report on Form 10-Q for the quarter ended September 30, 2013) and Fourth Amendment, dated April 6, 2016 (Exhibit 10.1 to Morgan Stanley's Quarterly Report on Form 10-Q for the quarter ended March 31, 2016).        10.3†   Morgan Stanley 401(k) Plan, amended and restated as of January 1, 2013 (Exhibit 10.6 to Morgan Stanley Annual Report on Form 10-K for the year ended December 31, 2012), as amended by Amendment (Exhibit 10.5 to Morgan Stanley's Annual Report on Form 10-K for the year ended December 31, 2013), Amendment (Exhibit 10.6 to Morgan Stanley's Annual Report on Form 10-K for the year ended December 31, 2013). Amendment (Exhibit 10.5 to Morgan Stanley's Annual Report on Form 10-K for the year ended December 31, 2014) and Amendment (Exhibit 10.5 to Morgan Stanley's Annual Report on Form 10-K for the year ended December 31, 2015).        10.4†*   Amendment to Morgan Stanley 401(k) Plan, dated as of December 13, 2016.        10.5†   Tax Deferred Equity Participation Plan as amended and restated as of November 26, 2007 (Exhibit 10.9 to Morgan Stanley's Annual Report on Form 10-K for the fiscal year ended November 30, 2007).        10.6†   Directors' Equity Capital Accumulation Plan as amended and restated as of August 1, 2016 (Exhibit 10.1 to Morgan Stanley's Quarterly Report on Form 10-Q for the quarter ended June 30, 2016).        10.7†   Employees' Equity Accumulation Plan as amended and restated as of November 26, 2007 (Exhibit 10.12 to Morgan Stanley's Annual Report on Form 10-K for the fiscal year ended November 30, 2007).        10.8†   Employee Stock Purchase Plan as amended and restated as of February 1, 2009 (Exhibit 10.20 to Morgan Stanley's Annual Report on Form 10-K for the fiscal year ended November 30, 2008).        10.9†   Morgan Stanley Supplemental Executive Retirement and Excess Plan, amended and restated effective December 31, 2008 (Exhibit 10.2 to Morgan Stanley's Quarterly Report on Form 10-Q for the quarter ended March 31, 2009) as amended by Amendment (Exhibit 10.5 to Morgan Stanley's Quarterly Report on Form 10-Q for the quarter ended June 30, 2009), Amendment (Exhibit 10.19 to Morgan Stanley's Annual Report on Form 10-K for the year ended December 31, 2010), Amendment (Exhibit 10.3 to Morgan Stanley's Quarterly Report on Form 10-Q for the quarter ended June 30, 2011) and Amendment (Exhibit 10.1 to Morgan Stanley's Quarterly Report on Form 10-Q for the quarter ended September 30, 2014).        10.10†   1995 Equity Incentive Compensation Plan (Annex A to MSG's Proxy Statement for its 1996 Annual Meeting of Stockholders) as amended by Amendment (Exhibit 10.39 to Morgan Stanley's Annual Report on Form 10-K for the fiscal year ended November 30, 2000), Amendment (Exhibit 10.5 to Morgan Stanley's Quarterly Report on Form 10-Q for the quarter ended August 31, 2005), Amendment (Exhibit 10.3 to Morgan Stanley's Quarterly Report on Form 10-Q for the quarter ended February 28, 2006), Amendment (Exhibit 10.24 to Morgan Stanley's Annual Report on Form 10-K for the fiscal year ended November 30, 2006) and Amendment (Exhibit 10.22 to Morgan Stanley's Annual Report on Form 10-K for the fiscal year ended November 30, 2007).        10.11†   Form of Management Committee Equity Award Certificate for Discretionary Retention Award of Stock Units and Stock Options (Exhibit 10.30 to Morgan Stanley's Annual Report on Form 10-K for the fiscal year ended November 30, 2006).        10.12†   Form of Deferred Compensation Agreement under the Pre-Tax Incentive Program 2 (Exhibit 10.12 to MSG's Annual Report for the fiscal year ended November 30, 1996).        10.13†   Key Employee Private Equity Recognition Plan (Exhibit 10.43 to Morgan Stanley's Annual Report on Form 10-K for the fiscal year ended November 30, 2000).\n",
      "\n",
      "----------------------------------- 0001413329-17-000014 -----------------------------------\n",
      "len  :4541\n",
      "\n",
      "emp_header  :False\n",
      "\n",
      "first_emp_head_block  :False\n",
      "\n",
      "para_text  :In the first class action pending in Canada, Cecilia Létourneau v. Imperial Tobacco Ltd., Rothmans, Benson & Hedges Inc. and JTI Macdonald Corp., Quebec Superior Court, Canada, filed in September 1998, our subsidiary and other Canadian manufacturers (Imperial Tobacco Canada Ltd. and JTI-MacDonald Corp.) are defendants.  The plaintiff, an individual smoker, sought compensatory and punitive damages for each member of the class who is deemed addicted to smoking. The class was certified in 2005.  Trial began in March 2012 and concluded in December 2014. The trial court issued its judgment on May 27, 2015. The trial court found our subsidiary and two other Canadian manufacturers liable and awarded a total of CAD 131 million (approximately $100 million) in punitive damages, allocating CAD 46 million (approximately $35 million) to our subsidiary. The trial court found that defendants violated the Civil Code of Quebec, the Quebec Charter of Human Rights and Freedoms, and the Quebec Consumer Protection Act by failing to warn adequately of the dangers of smoking. The trial court also found that defendants conspired to prevent consumers from learning the dangers of smoking. The trial court further held that these civil faults were a cause of the class members' addiction. The trial court rejected other grounds of fault advanced by the class, holding that: (i) the evidence was insufficient to show that defendants marketed to youth, (ii) defendants' advertising did not convey false information about the characteristics of cigarettes, and (iii) defendants did not commit a fault by using the descriptors light or mild for cigarettes with a lower tar delivery. The trial court estimated the size of the addiction class at 918,000 members but declined to award compensatory damages to the addiction class because the evidence did not establish the claims with sufficient accuracy. The trial court ordered defendants to pay the full punitive damage award into a trust within 60 days and found that a claims process to allocate the awarded damages to individual class members would be too expensive and difficult to administer. The trial court ordered a briefing on the proposed process for the distribution of sums remaining from the punitive damage award after payment of attorneys' fees and legal costs. In June 2015, our subsidiary commenced the appellate process by filing its inscription of appeal of the trial court's judgment with the Court of Appeal of Quebec. Our subsidiary also filed a motion to cancel the trial court's order for payment into a trust within 60 days notwithstanding appeal. In July 2015, the Court of Appeal granted the motion to cancel and overturned the trial court's ruling that our subsidiary make the payment into a trust within 60 days. In August 2015, plaintiffs filed a motion with the Court of Appeal seeking security in both the Létourneau case and the Blais case described below. In October 2015, the Court of Appeal granted the motion and ordered our subsidiary to furnish security totaling CAD 226 million (approximately $173 million), in the form of cash into a court trust or letters of credit, in six equal consecutive quarterly installments of approximately CAD 37.6 million (approximately $28.7 million) beginning in December 2015 through March 2017. See the Blais description for further detail concerning the security order. The Court of Appeal heard oral arguments on the merits appeal in November 2016. Our subsidiary and PMI believe that the findings of liability and damages were incorrect and should ultimately be set aside on any one of many grounds, including the following: (i) holding that defendants violated Quebec law by failing to warn class members of the risks of smoking even after the court found that class members knew, or should have known, of the risks, (ii) finding that plaintiffs were not required to prove that defendants' alleged misconduct caused injury to each class member in direct contravention of binding precedent, (iii) creating a factual presumption, without any evidence from class members or otherwise, that defendants' alleged misconduct caused all smoking by all class members, (iv) holding that the addiction class members' claims for punitive damages were not time-barred even though the case was filed more than three years after a prominent addiction warning appeared on all packages, and (v) awarding punitive damages to punish defendants without proper consideration as to whether punitive damages were necessary to deter future misconduct.\n",
      "\n",
      "----------------------------------- 0001144204-17-012180 -----------------------------------\n",
      "len  :4213\n",
      "\n",
      "emp_header  :False\n",
      "\n",
      "first_emp_head_block  :False\n",
      "\n",
      "para_text  :TABLE OF CONTENTS The federal False Claims Act imposes civil penalties, including through civil whistleblower or qui tam actions, against individuals or entities for knowingly presenting, or causing to be presented, to the federal government, claims for payment that are false or fraudulent or making a false statement to avoid, decrease or conceal an obligation to pay money to the federal government. The government and qui tam relators have brought False Claims Act actions against pharmaceutical companies on the theory that their practices have caused false claims to be presented to the government. There is also a separate false claims provision imposing criminal penalties. Other federal healthcare fraud-related laws also provide criminal liability for violations. The Criminal Healthcare Fraud statute (18 U.S.C. §1347) prohibits knowingly and willfully executing a scheme to defraud any healthcare benefit program, including private third-party payers. Federal criminal law at 18 U.S.C. §1001, among other sections, prohibits knowingly and willfully falsifying, concealing or covering up a material fact or making any materially false, fictitious or fraudulent statement in connection with the delivery of or payment for healthcare benefits, items or services. Other Laws The Health Insurance Portability and Accountability Act of 1996, or HIPAA, as amended by the Health Information Technology for Economic and Clinical Health Act, imposes criminal liability for executing a scheme to defraud any healthcare benefit program and also imposes obligations, including mandatory contractual terms, with respect to safeguarding the privacy, security and transmission of individually identifiable health information. HIPAA also imposes criminal liability for knowingly and willfully falsifying, concealing or covering up a material fact or making any materially false statements in connection with the delivery of or payment for healthcare benefits, items or services. The federal Physician Payments Sunshine Act requirements under the ACA, and its implementing regulations, require manufacturers of drugs, devices, biologics and medical supplies to report to the Department of Health and Human Services information related to payments and other transfers of value made to covered recipients, such as physicians and teaching hospitals, and physician ownership and investment interests. Payments made to physicians and research institutions for clinical trials are included within the ambit of this law. A number of states also have statutes or regulations similar to the federal Anti-Kickback Statute and False Claims Act that apply to items and services reimbursed under Medicaid and other state programs. Some state anti-kickback statutes apply not just to government payors, but to all payors, including commercial payors. Employees As of December 31, 2016, we had 456 employees, including 169 in research and development, 137 in our commercial organization, 66 in our medical affairs group and 84 in general and administrative supporting functions. Geographically, 332 of our employees were based in the United States and 124 were based outside the United States. None of our employees are represented by a labor union and we consider our employee relations to be good. Corporate Information We were incorporated in the State of Delaware on September 4, 2002. Our principal executive offices are located at 450 West 15th Street, Suite 505, New York, NY 10011, and our telephone number is (646) 747-1000. We also have administrative offices in San Diego, California and London, United Kingdom. Our corporate website address is www.interceptpharma.com. Our Annual Report on Form 10-K, Quarterly Reports on Form 10-Q, Current Reports on Form 8-K, and amendments to reports filed pursuant to Sections 13(a) and 15(d) of the Securities Exchange Act of 1934, as amended, or the Exchange Act, are available free of charge on our website as soon as reasonably practicable after we electronically file such material with, or furnish it to, the Securities and Exchange Commission. The Securities and Exchange Commission maintains an internet site that contains our public filings with the Securities and Exchange\n",
      "\n",
      "----------------------------------- 0001144204-17-010224 -----------------------------------\n",
      "len  :3972\n",
      "\n",
      "emp_header  :False\n",
      "\n",
      "first_emp_head_block  :False\n",
      "\n",
      "para_text  :TABLE OF CONTENTS Contracted Power - (continued) Seasonality Each CP facility has unique seasonality based on local market factors including weather and energy demand. The solar projects generate a disproportionate amount of their revenue in the summer months when insolation is highest, while wind energy revenues vary by season depending on the location of the specific project. Other CP projects may also exhibit seasonality based on the respective market's varying electricity demand. For example, BEC is a peaking power plant that is dispatched when energy demand increases above a base load, therefore BEC is dispatched more often in the summer and winter months. Competition The contracted portion of CP's business is not subject to substantial direct competitive price pressure due to the long-term nature of the PPAs and tolling agreements with creditworthy off-takers. Our BEC facility has incremental generating capacity which is available for sale in the spot power market. After the expiration of the PPAs or tolling agreements, our facilities could be subject to greater competition. Regulation The power and energy sectors are the subject of substantial and complex laws, rules and regulations. Sector regulators include the Federal Energy Regulatory Commission (FERC) and the North American Electric Reliability Corporation (NERC). The FERC has jurisdiction over the transmission and wholesale sale of electricity in interstate commerce and over the transportation, storage and certain sales of natural gas in interstate commerce, including the rates, charges and other terms and conditions for such services. The NERC serves to establish and enforce reliability standards applicable to all users, owners and operators of the bulk power system. The U.S. Environmental Protection Agency also oversees certain environmental matters related to the construction and operations of CP's electric generating facilities. The New York competitive wholesale electricity market in which BEC participates is administered by the New York Independent System Operator (NYISO). NYISO is a not-for-profit agency that serves to ensure regional grid reliability, comprehensive planning, and open and efficient markets. BEC is also subject to certain New York State and New York City regulations and to environmental regulations by the State of New Jersey's Department of Environmental Protection. Each of the solar and wind facilities comprising CP is subject to regulation and oversight in the jurisdictions in which they operate. Employees and Management At December 31, 2016, the CP businesses had seven employees and two contractors that provide certain management oversight, while O&M is provided by third parties. MIC Hawaii Industry Overview Beginning in 2008 with the Hawaii Clean Energy Initiative, Hawaii implemented a RPS that required increasing levels of electricity be derived from renewable resources with the goal of generating cleaner and lower cost electricity. In 2015, Hawaii accelerated its RPS and currently targets 100% of its electricity generated from renewable resources by 2045 with interim milestones in 2020, 2030 and 2040. MIC Hawaii's businesses support the State's clean energy goals of lowering emissions, increasing energy security and decreasing costs for all energy users in Hawaii. For example, at Hawaii Gas, we are focused on diversifying our feedstock to include fuels which are cleaner burning and have the potential to lower energy costs for our customers, such as renewable natural gas (RNG) and liquefied natural gas (LNG). Further, natural gas-fired generation better complements Hawaii's growing renewable power generation sources given its efficiency and operating flexibility. At Waihonu Solar, we are generating renewable energy that serves customers on Oahu. At Critchfield Pacific, Inc. (CPI), we work with customers to lower their overall energy use through the design and construction of energy efficient infrastructure.\n",
      "\n",
      "----------------------------------- 0001144204-17-021318 -----------------------------------\n",
      "len  :3904\n",
      "\n",
      "emp_header  :False\n",
      "\n",
      "first_emp_head_block  :False\n",
      "\n",
      "para_text  :Members Name (age), position  Member since  Audit Committee  Personnel Committee  Related Parties Committee  Nomination and Corporate Governance Committee  Risk and Capital Management Committee  Strategy Committee  Compensation Committee(1)  International Advisory Council(2)   Board of Directors (3) (12 members)                         Pedro Moreira Salles (57), Chairman  08/2009                     Alfredo Egydio Arruda Villela Filho (47), Vice Chairman  03/2003                     Roberto Egydio Setubal (62), Vice Chairman  03/2003                     Alfredo Egydio Setubal (58), Member  06/2007                     Candido Botelho Bracher (58), Member  02/2009                     Demosthenes Madureira de Pinho Neto (56), Member  05/2012                     Fábio Colletti Barbosa (62), Independent Member  07/2015                     Gustavo Jorge Laboissière Loyola (64), Independent Member  07/2006                     José Gall  (65), Independent Member  04/2016                     Nildemar Secches (68), Independent Member  05/2012                     Pedro Luiz Bodin de Moraes (60), Independent Member  02/2009                     Ricardo Villela Marino (42), Member  06/2008                                          Board of Officers (24 members)                         Roberto Egydio Setubal (62), Chief Executive Officer  11/1995                     Candido Botelho Bracher (58), General Manager  08/2005                     Márcio de Andrade Schettini (52), General Manager  07/2015                     Marco Ambrogio Crespi Bonomi (60), General Manager  07/2015                     Eduardo Mazzilli de Vassimon (58), General Manager  03/2013                     André Sapoznik (44), Vice President  12/2016                     Caio Ibrahim David (48), Chief Financial Officer and Vice President  12/2016                     Claudia Politanski (46), Vice President  11/2008                     Alexsandro Broedel Lopes (42), Executive Officer  08/2012                     Fernando Barçante Tostes Malta (48), Executive Officer  04/2016                     Leila Cristiane Barboza Braga de Melo (45), Executive Officer  04/2015                     Paulo Sergio Miron (50), Executive Officer  07/2015                     Adriano Cabral Volpini (44), Officer  02/2015                     Álvaro Felipe Rizzi Rodrigues (39), Officer  04/2015                     Atilio Luiz Magila Albiero Junior (39), Officer  04/2016                     Eduardo Hiroyuki Miyaki (44), Officer  08/2011                     Emerson Macedo Bortoloto (39), Officer  11/2011                     Gilberto Frussa (50), Officer  04/2016                     José Virgilio Vita Neto (38), Officer  04/2015                     Marcelo Kopel (52), Officer and Investor Relations Officer  06/2014                     Matias Granata (42), Officer  07/2014                     Rodrigo Luis Rosa Couto (41), Officer  01/2012                     Sergio Mychkis Goldstein (39), Officer  04/2016                     Wagner Bettini Sanches (45), Officer  06/2014                                          Audit Committee(3) (5 members)                         Antonio Francisco de Lima Neto (51), Independent Member  07/2015                     Diego Fresco Gutierrez (46), Independent Member and Financial Expert  04/2014                     Geraldo Travaglia Filho (65), Independent Member  03/2013                     Maria Helena dos Santos Fernandes de Santana (57), Independent Member  06/2014                     Rogério Paulo Calder n Peres (54), Independent Member  11/2016                                          Fiscal Council(3) (3 members)                         Alkimar Ribeiro Moura (75), Independent Member  04/2016                     Carlos Roberto de Albuquerque Sá (66), Independent Member  04/2016                     José Caruso Cruz Henriques (69), Independent Member  04/2016\n",
      "\n",
      "----------------------------------- 0001144204-17-010224 -----------------------------------\n",
      "len  :3878\n",
      "\n",
      "emp_header  :False\n",
      "\n",
      "first_emp_head_block  :False\n",
      "\n",
      "para_text  :TABLE OF CONTENTS IMTT - (continued) Regulation The rates that IMTT charges for its services are not subject to regulation. However, a number of regulatory bodies oversee IMTT's operations. IMTT must comply with numerous federal, state and local environmental, occupational health and safety, security, tax and planning statutes and regulations. These regulations require IMTT to obtain and maintain permits to operate its facilities and impose standards that govern the way IMTT operates its business. If IMTT does not comply with the relevant regulations, it could lose its operating permits and/or incur fines and increased liability. As a result, IMTT has developed environmental and health and safety compliance functions overseen by terminal managers at the terminal level, as well as by IMTT's Vice President of Environmental, Health, Safety and Security, Chief Operating Officer and Chief Executive Officer. While changes in environmental, health and safety regulations pose a risk of higher operating costs, such changes are generally phased in over time to manage the impact on both the industry and the business. The Bayonne terminal has significant environmental remediation requirements that were partially assumed at the time of purchase from the various former owners. One former owner retained environmental remediation responsibilities for a purchased site as well as responsibility for sharing other remediation costs. Remediation efforts entail removal of the free product, groundwater control and treatment, soil treatment, repair/replacement of sewer systems, and the implementation of containment and monitoring systems. These remediation activities are expected to continue for an additional ten to twenty years. See \"Legal Proceedings\" in Part I, Item 3, for further discussions. The Lemont terminal has entered into a consent order with the State of Illinois to remediate contamination at the site that pre-dated IMTT's ownership. This remediation effort, including the implementation of extraction and monitoring wells and soil treatment, is estimated to continue for an additional ten to twenty years. Employees and Management As of December 31, 2016, IMTT (excluding the Newfoundland terminal) had a total of 1,052 employees, of which 230 employees were unionized. In January 2017, IMTT agreed to a new, five year collective bargaining agreement with its Bayonne employees represented by the United Steel Workers. This agreement is expected to be executed within the quarter ended March 31, 2017. We believe employee relations at IMTT are good. The day-to-day operations of IMTT are managed by individual terminal managers who are responsible for most aspects of the operations at their terminals. IMTT's operations are overseen by senior personnel with significant experience in the bulk liquid storage industry. Management of the business is headquartered in New Orleans, Louisiana. Atlantic Aviation Industry Overview Fixed based operations (FBOs) primarily service the GA corporate and leisure flying segment of the air transportation industry. Local airport authorities own the airport properties and grant FBO operators the right to provide fueling and other services pursuant to long-term ground leases. Fueling services provide the majority of an FBO's revenue and gross margin. FBOs often operate in environments with high barriers to entry. Airports tend to have limited physical space for additional FBOs. Airport authorities generally do not have an incentive to add additional FBOs unless there is a significant demand for additional services. Government approvals and design and construction of a new FBO can also take significant time and require significant capital expenditures. Furthermore, airports typically impose minimum standards with respect to the experience, capital investment and breadth of services provided by the FBO.\n",
      "\n",
      "----------------------------------- 0000930413-17-000981 -----------------------------------\n",
      "len  :3862\n",
      "\n",
      "emp_header  :False\n",
      "\n",
      "first_emp_head_block  :False\n",
      "\n",
      "para_text  :Form 20-F Item Number and Caption Location Page   Part I      Item 1. Identity of Directors, Senior Management and Advisers      A. Directors and senior management Not applicable.     B. Advisers Not applicable.     C. Auditors Not applicable.    Item 2. Offer Statistics and Expected Timetable      A. Offer statistics Not applicable.     B. Method and expected timetable Not applicable.    Item 3. Key Information      A. Selected financial data \"Selected consolidated financial data\" 3     \"Exchange rates\" 4    B. Capitalisation and indebtedness Not applicable.     C. Reason for the offer and use of proceeds Not applicable.     D. Risk factors \"Risk factors\" 197-214   Item 4. Information on the Company      A. History and development of the company \"Business overview\" 2     \"Business - History and development of Lloyds Banking Group\" 4     \"Business - Legal actions and regulatory matters\" 6-9     \"Operating and financial review and prospects - Line of business information\" 24-27    B. Business overview \"Business overview\" 2     \"Business - Legal actions and regulatory matters\" 6-9     \"Operating and financial review and prospects - Line of business information\" 24-27     \"Regulation\" 178-181    C. Organisational structure \"Lloyds Banking Group structure\" 216    D. Property, plant and equipment \"Business - Properties\" 6   Item 4A. Unresolved Staff Comments Not applicable.    Item 5. Operating and Financial Review and Prospects      A. Operating results \"Operating and financial review and prospects\" 10-116     \"Operating and financial review and prospects - Credit risk\" 53-85     \"Regulation\" 178-181     \"Operating and financial review and prospects - Market Risk\" 87-92    B. Liquidity and capital resources \"Operating and financial review and prospects - Risk elements in the loan portfolio - Cross border outstandings\" 85     \"Operating and financial review and prospects - Funding and Liquidity Risk\" 95-100     \"Operating and financial review and prospects - Capital risk\" 101-109     \"Operating and financial review and prospects - Investment portfolio, maturities, deposits, short-term borrowings\" 113-116     \"Dividends\" 185     \"Notes to the consolidated financial statements - note 48\" F-70    C. Research and development, patents and licenses, etc. Not applicable.     D. Trend information \"Operating and financial review and prospects - Overview and trend information\" 11-12    E. Off-balance sheet arrangements \"Operating and financial review and prospects - Funding and liquidity risk - Off balance sheet arrangements\" - also refer to financial notes 100    F. Tabular disclosure of contractual obligations \"Operating and financial review and prospects - Funding and liquidity risk - Contractual cash obligations\" 100    G. Safe harbor \"Forward looking statements\" 215   Item 6. Directors, Senior Management and Employees      A. Directors and senior management \"Management and employees - Directors and senior management\" 117-120    B. Compensation \"Compensation\" - also refer to financial notes 120-151    C. Board practices \"Management and employees\" 117-120     \"Articles of association of Lloyds Banking Group plc\" 190     \"Management and employees - Employees\" 120     \"Compensation - Service agreements\" 131     \"Corporate governance - Leadership\" 153     \"Corporate governance - the Board in 2016\" 154-161     \"Corporate governance - Audit Committee Report\" 167-170     \"Compensation - Annual report on remuneration - Remuneration Committee\" 150-151    D. Employees \"Management and employees - Employees\" 120    E. Share ownership \"Compensation - Outstanding share awards\" 145-149     \"Notes to the consolidated financial statements - note 2\" F-15   Item 7. Major Shareholders and Related Party Transactions      A. Major shareholders \"Major shareholders and related party transactions - Major shareholders\" 177\n",
      "\n",
      "----------------------------------- 0001144204-17-010224 -----------------------------------\n",
      "len  :3795\n",
      "\n",
      "emp_header  :False\n",
      "\n",
      "first_emp_head_block  :False\n",
      "\n",
      "para_text  :TABLE OF CONTENTS Atlantic Aviation - (continued) Competition Atlantic Aviation directly competes with other FBO operators at more than half of its locations. The FBOs compete on the basis of location of the facility relative to runways and street access, service, safety, value-added features, reliability and price. Each FBO also faces competitive pressure from the fact that aircraft may take on sufficient fuel at one location and not need to refuel at a specific destination. FBO operators also face indirect competition from facilities located at nearby airports. Atlantic Aviation's main competitors are Signature Flight Support, Jet Aviation, Million Air, Sheltair Aviation and TAC Air. In February 2016, Signature Flight Support acquired Landmark Aviation, resulting in the combination of two of Atlantic Aviation's biggest competitors. Signature Flight Support competes with Atlantic at 22 airports, but only three of these locations were added as a result of the merger. Atlantic Aviation has not noticed a significant shift in customer or competitor behavior and remains confident in its ability to compete effectively. To our knowledge, other than the competitors listed, no other competitor operated more than 20 FBOs in the U.S. at December 31, 2016. Customers Atlantic Aviation does not depend on a single customer, the loss of which would have a material adverse effect on the business. Regulation The aviation industry is overseen by a number of regulatory bodies, but its primary regulator is the FAA. In addition, local airport authorities also regulate the FBOs. The business must comply with federal, state and local environmental statutes and regulations associated in part with the operation of fuel storage tank systems and mobile fueling vehicles. These requirements include, among other things, tank and pipe testing for tightness, soil sampling for evidence of leaking and remediation of detected leaks and spills. Atlantic Aviation's FBOs are subject to regular inspection by federal and local environmental agencies as well as local fire departments and other agencies. The business does not expect that compliance and related remediation work, if any, will have a material negative impact on earnings or the competitive position of Atlantic Aviation. The business has not received notice requiring it to cease operations at any location or of any abatement proceeding by any government agency as a result of failure to comply with applicable environmental laws and regulations. Employees and Management As of December 31, 2016, the business employed 1,956 people, of which 190 employees were subject to collective bargaining agreements. We believe relations with union and non-union employees at Atlantic Aviation are good. The day-to-day operations of Atlantic Aviation are managed by individual site managers who are responsible for most aspects of the operations at their site. Atlantic Aviation's operations are overseen by senior personnel with significant experience in the aviation industry. Contracted Power Industry Overview The power industry represents a large and critical infrastructure market, both in terms of the number and value of facilities as well as their contribution to overall economic activity. In developed economies, capital spending in the sector is driven by aging infrastructure, new technologies, increased legislation regarding emissions, the use of renewable energy and modest demand growth. The Energy Information Administration forecasts the demand for electricity in the U.S. to grow at a compound annual rate of approximately 0.7% over the next twenty years. As aging and inefficient generating capacity is retired or replaced, opportunities for deployment of capital in the growth of our CP segment are expected to increase.\n",
      "\n"
     ]
    }
   ],
   "source": [
    "print_row_detail(df=train_df, nrow=10, header_list = ['acc_id'  ],\n",
    "                    detail_list = ['len', 'emp_header', 'first_emp_head_block', 'para_text'],\n",
    "                    sortby=['len', 'acc_id'], ascending=False)"
   ]
  },
  {
   "cell_type": "code",
   "execution_count": 68,
   "metadata": {
    "ExecuteTime": {
     "end_time": "2018-06-30T16:58:53.330069Z",
     "start_time": "2018-06-30T16:58:49.617195Z"
    },
    "scrolled": false
   },
   "outputs": [
    {
     "name": "stdout",
     "output_type": "stream",
     "text": [
      "Index number: \n",
      "734\n",
      "File path: \n",
      "c:/projects/DSBC/capstone/sec_employee_information_extraction/../employee_filings/0001047469-16-014916.html\n",
      "No Employees header\n",
      "Para number: 0\n",
      "Original match has no name\n",
      "Original match:  We currently have 21 employees, 18 of whom are located in Denver, Colorado, one who is located\n",
      "in Zug, Switzerland, and two who are located in Toronto, Canada. Our employees are not subject to a labor\n",
      "contract or a collective bargaining agreement. We consider our employee relations to be good.\n",
      "Block match name:  p\n",
      "Block:  \n",
      "<p class=\"c15\">We currently have 21 employees, 18 of whom are located in Denver, Colorado, one who is located\n",
      "in Zug, Switzerland, and two who are located in Toronto, Canada. Our employees are not subject to a labor\n",
      "contract or a collective bargaining agreement. We consider our employee relations to be good.</p>\n",
      "<class 'bs4.element.Tag'>\n",
      "Block Text:  \n",
      "We currently have 21 employees, 18 of whom are located in Denver, Colorado, one who is located in Zug, Switzerland, and two who are located in Toronto, Canada. Our employees are not subject to a labor contract or a collective bargaining agreement. We consider our employee relations to be good.\n"
     ]
    }
   ],
   "source": [
    "print_parse_objects(file='0001047469-16-014916')"
   ]
  }
 ],
 "metadata": {
  "kernelspec": {
   "display_name": "Python 3",
   "language": "python",
   "name": "python3"
  },
  "language_info": {
   "codemirror_mode": {
    "name": "ipython",
    "version": 3
   },
   "file_extension": ".py",
   "mimetype": "text/x-python",
   "name": "python",
   "nbconvert_exporter": "python",
   "pygments_lexer": "ipython3",
   "version": "3.6.1"
  },
  "toc": {
   "base_numbering": 1,
   "nav_menu": {},
   "number_sections": true,
   "sideBar": true,
   "skip_h1_title": true,
   "title_cell": "Table of Contents",
   "title_sidebar": "Contents",
   "toc_cell": true,
   "toc_position": {},
   "toc_section_display": true,
   "toc_window_display": false
  }
 },
 "nbformat": 4,
 "nbformat_minor": 2
}
