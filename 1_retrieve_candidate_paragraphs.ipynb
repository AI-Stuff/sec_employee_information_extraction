{
 "cells": [
  {
   "cell_type": "markdown",
   "metadata": {
    "toc": true
   },
   "source": [
    "<h1>Table of Contents<span class=\"tocSkip\"></span></h1>\n",
    "<div class=\"toc\"><ul class=\"toc-item\"><li><span><a href=\"#Explore-labeled-dataframe\" data-toc-modified-id=\"Explore-labeled-dataframe-1\"><span class=\"toc-item-num\">1&nbsp;&nbsp;</span>Explore labeled dataframe</a></span><ul class=\"toc-item\"><li><span><a href=\"#funtion:-print_row_detail\" data-toc-modified-id=\"funtion:-print_row_detail-1.1\"><span class=\"toc-item-num\">1.1&nbsp;&nbsp;</span>funtion: <code>print_row_detail</code></a></span></li></ul></li><li><span><a href=\"#Exploring-tags-that-match-any-of-the-regex-patterns\" data-toc-modified-id=\"Exploring-tags-that-match-any-of-the-regex-patterns-2\"><span class=\"toc-item-num\">2&nbsp;&nbsp;</span>Exploring tags that match any of the regex patterns</a></span><ul class=\"toc-item\"><li><span><a href=\"#Patterns-to-flag-candidate-paragraphs\" data-toc-modified-id=\"Patterns-to-flag-candidate-paragraphs-2.1\"><span class=\"toc-item-num\">2.1&nbsp;&nbsp;</span>Patterns to flag candidate paragraphs</a></span></li><li><span><a href=\"#Tag-Exploration\" data-toc-modified-id=\"Tag-Exploration-2.2\"><span class=\"toc-item-num\">2.2&nbsp;&nbsp;</span>Tag Exploration</a></span><ul class=\"toc-item\"><li><span><a href=\"#Example-1\" data-toc-modified-id=\"Example-1-2.2.1\"><span class=\"toc-item-num\">2.2.1&nbsp;&nbsp;</span>Example 1</a></span></li><li><span><a href=\"#Example-2\" data-toc-modified-id=\"Example-2-2.2.2\"><span class=\"toc-item-num\">2.2.2&nbsp;&nbsp;</span>Example 2</a></span></li><li><span><a href=\"#Example-3\" data-toc-modified-id=\"Example-3-2.2.3\"><span class=\"toc-item-num\">2.2.3&nbsp;&nbsp;</span>Example 3</a></span></li><li><span><a href=\"#Example-4\" data-toc-modified-id=\"Example-4-2.2.4\"><span class=\"toc-item-num\">2.2.4&nbsp;&nbsp;</span>Example 4</a></span></li><li><span><a href=\"#Example-5\" data-toc-modified-id=\"Example-5-2.2.5\"><span class=\"toc-item-num\">2.2.5&nbsp;&nbsp;</span>Example 5</a></span></li></ul></li></ul></li><li><span><a href=\"#Test-regex\" data-toc-modified-id=\"Test-regex-3\"><span class=\"toc-item-num\">3&nbsp;&nbsp;</span>Test regex</a></span><ul class=\"toc-item\"><li><span><a href=\"#function:-check_regex_match\" data-toc-modified-id=\"function:-check_regex_match-3.1\"><span class=\"toc-item-num\">3.1&nbsp;&nbsp;</span>function: check_regex_match</a></span></li></ul></li><li><span><a href=\"#Write-functions-to-flag-paragraphs\" data-toc-modified-id=\"Write-functions-to-flag-paragraphs-4\"><span class=\"toc-item-num\">4&nbsp;&nbsp;</span>Write functions to flag paragraphs</a></span><ul class=\"toc-item\"><li><span><a href=\"#Test-logic-for-finding-paragraphs-below-flagged-headings\" data-toc-modified-id=\"Test-logic-for-finding-paragraphs-below-flagged-headings-4.1\"><span class=\"toc-item-num\">4.1&nbsp;&nbsp;</span>Test logic for finding paragraphs below flagged headings</a></span></li><li><span><a href=\"#Find-candidate-paragraphs\" data-toc-modified-id=\"Find-candidate-paragraphs-4.2\"><span class=\"toc-item-num\">4.2&nbsp;&nbsp;</span>Find candidate paragraphs</a></span></li><li><span><a href=\"#Create-dataframes-and-save-as-CSVs\" data-toc-modified-id=\"Create-dataframes-and-save-as-CSVs-4.3\"><span class=\"toc-item-num\">4.3&nbsp;&nbsp;</span>Create dataframes and save as CSVs</a></span></li></ul></li><li><span><a href=\"#Debug-odd-findings-to-refine-regex-or-code\" data-toc-modified-id=\"Debug-odd-findings-to-refine-regex-or-code-5\"><span class=\"toc-item-num\">5&nbsp;&nbsp;</span>Debug odd findings to refine regex or code</a></span><ul class=\"toc-item\"><li><span><a href=\"#Explore-dataframe-of-paragraphs-for-training-data\" data-toc-modified-id=\"Explore-dataframe-of-paragraphs-for-training-data-5.1\"><span class=\"toc-item-num\">5.1&nbsp;&nbsp;</span>Explore dataframe of paragraphs for training data</a></span></li></ul></li></ul></div>"
   ]
  },
  {
   "cell_type": "markdown",
   "metadata": {},
   "source": [
    "# Retrieve candidate paragraphs from HTML files"
   ]
  },
  {
   "cell_type": "code",
   "execution_count": 1,
   "metadata": {
    "ExecuteTime": {
     "end_time": "2018-07-23T04:17:54.299920Z",
     "start_time": "2018-07-23T04:17:53.818928Z"
    }
   },
   "outputs": [],
   "source": [
    "import numpy as np\n",
    "import pandas as pd\n",
    "import re\n",
    "\n",
    "from bs4 import BeautifulSoup as bs\n",
    "\n",
    "from path import Path, getcwdu\n",
    "\n",
    "import glob\n",
    "import os\n",
    "from pathlib import PurePath\n",
    "import copy\n",
    "\n",
    "import random\n",
    "import gzip\n",
    "import shutil"
   ]
  },
  {
   "cell_type": "code",
   "execution_count": 2,
   "metadata": {
    "ExecuteTime": {
     "end_time": "2018-07-23T04:17:54.469194Z",
     "start_time": "2018-07-23T04:17:54.299920Z"
    }
   },
   "outputs": [],
   "source": [
    "full_path_list = [PurePath(os.getcwd()).joinpath(file).as_posix() for file in glob.iglob('../employee_filings/*.gz')]\n",
    "full_file_list = [PurePath(file).name for file in glob.iglob('../employee_filings/*.gz')]\n",
    "full_accession_ids = [PurePath(file).stem.replace('.html', '') for file in full_file_list] \n",
    "full_cik_nbrs = [x.split(sep='-')[0] for x in full_accession_ids]\n",
    "html_path_list = [x.replace('.gz', '') for x in full_path_list]"
   ]
  },
  {
   "cell_type": "markdown",
   "metadata": {},
   "source": [
    "Read in accession ID lists created from initial data splitting"
   ]
  },
  {
   "cell_type": "code",
   "execution_count": 3,
   "metadata": {
    "ExecuteTime": {
     "end_time": "2018-07-23T04:17:54.809420Z",
     "start_time": "2018-07-23T04:17:54.470192Z"
    }
   },
   "outputs": [],
   "source": [
    "train_accession_ids = pd.read_csv('../data/train_accession_ids.csv', names=['acc_id'])['acc_id'].tolist()\n",
    "val_accession_ids = pd.read_csv('../data/val_accession_ids.csv', names=['acc_id'])['acc_id'].tolist()\n",
    "\n",
    "labeled_df = pd.read_excel('../data/train_val_employee_count_paragraphs.xlsx')\n",
    "subset_df = pd.read_excel('../data/subset_employee_count_paragraphs.xlsx')"
   ]
  },
  {
   "cell_type": "markdown",
   "metadata": {},
   "source": [
    "## Explore labeled dataframe"
   ]
  },
  {
   "cell_type": "markdown",
   "metadata": {},
   "source": [
    "### funtion: `print_row_detail`"
   ]
  },
  {
   "cell_type": "code",
   "execution_count": 4,
   "metadata": {
    "ExecuteTime": {
     "end_time": "2018-07-23T04:17:54.818427Z",
     "start_time": "2018-07-23T04:17:54.811420Z"
    }
   },
   "outputs": [],
   "source": [
    "def print_row_detail(df=subset_df, nrow=10, header_list = ['ticker', 'accession_number' ],\n",
    "                    detail_list = ['data_key_friendly_name', 'data_value', 'reported_units', 'text', 'paragraph_text'],\n",
    "                    sortby=['accession_number', 'data_key_friendly_name'], ascending=True):\n",
    "    df_sorted = df.sort_values(sortby, ascending=ascending).reset_index()\n",
    "    nrow = min(len(df_sorted), nrow)\n",
    "    for i in range(0, nrow):\n",
    "        for h in header_list:\n",
    "            print('-'*35  + ' ' +  str(df_sorted[h][i]) + ' ' + '-'*35)\n",
    "        for d in detail_list:\n",
    "            print(d + '  :' + str(df_sorted[d][i]))\n",
    "            print('')"
   ]
  },
  {
   "cell_type": "code",
   "execution_count": 5,
   "metadata": {
    "ExecuteTime": {
     "end_time": "2018-07-22T23:01:54.611738Z",
     "start_time": "2018-07-22T23:01:54.579718Z"
    },
    "collapsed": true
   },
   "outputs": [
    {
     "name": "stdout",
     "output_type": "stream",
     "text": [
      "----------------------------------- LNG -----------------------------------\n",
      "----------------------------------- 0000003570-17-000052 -----------------------------------\n",
      "data_key_friendly_name  :Full-Time Employees\n",
      "\n",
      "data_value  :911.0\n",
      "\n",
      "reported_units  :ones\n",
      "\n",
      "text  :full-time employees\n",
      "\n",
      "paragraph_text  :Employees   We had 911 full-time employees at January 31, 2017\n",
      "\n",
      "----------------------------------- SWKS -----------------------------------\n",
      "----------------------------------- 0000004127-16-000068 -----------------------------------\n",
      "data_key_friendly_name  :Other Employees\n",
      "\n",
      "data_value  :7300.0\n",
      "\n",
      "reported_units  :ones\n",
      "\n",
      "text  :employed\n",
      "\n",
      "paragraph_text  :EMPLOYEES   As of September  30, 2016, we  employed approximately 7,300  employees world-wide. Approximately  860 of  our   employees in  Mexico, 450  employees in  Singapore, and  200 employees  in Japan  are covered  by  collective   bargaining and other union agreements\n",
      "\n",
      "----------------------------------- UHAL -----------------------------------\n",
      "----------------------------------- 0000004457-16-000085 -----------------------------------\n",
      "data_key_friendly_name  :Other Employees\n",
      "\n",
      "data_value  :26400.0\n",
      "\n",
      "reported_units  :ones\n",
      "\n",
      "text  :employed\n",
      "\n",
      "paragraph_text  :As of March 31,  2016, we employed nearly  26,400 people throughout North  America with approximately 98%  of   these employees working  within Moving  and Storage and  approximately 55%  of these employees  working on  a   part-time basis\n",
      "\n",
      "----------------------------------- AEP -----------------------------------\n",
      "----------------------------------- 0000004904-17-000019 -----------------------------------\n",
      "data_key_friendly_name  :Other Employees\n",
      "\n",
      "data_value  :17634.0\n",
      "\n",
      "reported_units  :ones\n",
      "\n",
      "text  :employees\n",
      "\n",
      "paragraph_text  :As of December 31, 2016,  the subsidiaries of AEP had  a total of 17,634 employees.  Because it is a  holding   company rather than an operating company, AEP has no employees. The material subsidiaries of AEP are:   AEP Texas   Organized in Delaware in 1925, AEP Texas was formed by the merger of AEP Texas Central Company and AEP  Texas   North Company into AEP Utilities,  Inc. on December 31, 2016.  The merging parties retained their  respective   rate structures. Following the merger, AEP  Utilities, Inc. changed its name  to AEP Texas Inc. (AEP  Texas)\n",
      "\n",
      "----------------------------------- AIG -----------------------------------\n",
      "----------------------------------- 0000005272-17-000017 -----------------------------------\n",
      "data_key_friendly_name  :Other Employees\n",
      "\n",
      "data_value  :56400.0\n",
      "\n",
      "reported_units  :ones\n",
      "\n",
      "text  :employees\n",
      "\n",
      "paragraph_text  :At AIG, we believe that a major strength of ours is the quality and dedication of our people. At December 31,   2016 and 2015, we had approximately 56,400 and 66,400 employees, respectively. We believe that our relations   with our employees are satisfactory\n",
      "\n",
      "----------------------------------- UNM -----------------------------------\n",
      "----------------------------------- 0000005513-17-000018 -----------------------------------\n",
      "data_key_friendly_name  :Full-Time Employees\n",
      "\n",
      "data_value  :9400.0\n",
      "\n",
      "reported_units  :ones\n",
      "\n",
      "text  :full-time\n",
      "\n",
      "paragraph_text  :Employees   At December 31, 2016, we had approximately 9,400 full-time employees\n",
      "\n",
      "----------------------------------- ADI -----------------------------------\n",
      "----------------------------------- 0000006281-16-000097 -----------------------------------\n",
      "data_key_friendly_name  :Other Employees\n",
      "\n",
      "data_value  :10000.0\n",
      "\n",
      "reported_units  :ones\n",
      "\n",
      "text  :employed\n",
      "\n",
      "paragraph_text  :Employees   As of October 29, 2016, we employed approximately 10,000 individuals worldwide. Our future success depends in   large part on the continued service of our key technical and senior management personnel, and on our ability   to continue to attract, retain and motivate qualified employees, particularly those highly-skilled design,   process, test and applications engineers involved in the design, support and manufacture of new and existing   products and processes. We believe that relations with our employees are good; however, the competition for   such personnel is intense, and the loss of key personnel could have a material adverse impact on our results   of operations and financial condition\n",
      "\n",
      "----------------------------------- SSI -----------------------------------\n",
      "----------------------------------- 0000006885-16-000411 -----------------------------------\n",
      "data_key_friendly_name  :Other Employees\n",
      "\n",
      "data_value  :13500.0\n",
      "\n",
      "reported_units  :ones\n",
      "\n",
      "text  :employees\n",
      "\n",
      "paragraph_text  :Our Employees   At January 30, 2016, we employed approximately 13,500 hourly and salaried employees. Employee levels will   vary during the year as we traditionally hire additional sales associates and increase the hours of part-time   sales associates during peak seasonal selling periods. We consider our relationship with our employees to be   good, and there are no collective bargaining agreements in effect with respect to any of our employees\n",
      "\n",
      "----------------------------------- AMAT -----------------------------------\n",
      "----------------------------------- 0000006951-16-000068 -----------------------------------\n",
      "data_key_friendly_name  :Other Employees\n",
      "\n",
      "data_value  :1100.0\n",
      "\n",
      "reported_units  :ones\n",
      "\n",
      "text  :employees\n",
      "\n",
      "paragraph_text  :Employees   At October 30, 2016, Applied employed approximately  15,600 regular employees and 1,100 temporary  employees\n",
      "\n",
      "----------------------------------- AMAT -----------------------------------\n",
      "----------------------------------- 0000006951-16-000068 -----------------------------------\n",
      "data_key_friendly_name  :Other Employees\n",
      "\n",
      "data_value  :15600.0\n",
      "\n",
      "reported_units  :ones\n",
      "\n",
      "text  :employees\n",
      "\n",
      "paragraph_text  :Employees   At October 30, 2016, Applied employed approximately  15,600 regular employees and 1,100 temporary  employees\n",
      "\n"
     ]
    }
   ],
   "source": [
    "print_row_detail(labeled_df)"
   ]
  },
  {
   "cell_type": "code",
   "execution_count": 6,
   "metadata": {
    "ExecuteTime": {
     "end_time": "2018-07-22T23:01:59.973185Z",
     "start_time": "2018-07-22T23:01:59.932160Z"
    },
    "collapsed": true
   },
   "outputs": [
    {
     "name": "stdout",
     "output_type": "stream",
     "text": [
      "----------------------------------- AAN -----------------------------------\n",
      "----------------------------------- 0000706688-17-000030 -----------------------------------\n",
      "data_key_friendly_name  :Other Employees\n",
      "\n",
      "data_value  :11500\n",
      "\n",
      "reported_units  :ones\n",
      "\n",
      "text  :employees\n",
      "\n",
      "paragraph_text  :Employees   At December 31, 2016, the Company had approximately 11,500 employees. None of our employees are covered by a   collective bargaining agreement and we believe that our relations with employees are good\n",
      "\n",
      "----------------------------------- AAON -----------------------------------\n",
      "----------------------------------- 0000824142-17-000034 -----------------------------------\n",
      "data_key_friendly_name  :Other Employees\n",
      "\n",
      "data_value  :1619\n",
      "\n",
      "reported_units  :ones\n",
      "\n",
      "text  :employees\n",
      "\n",
      "paragraph_text  :Employees   As of February 12, 2017, we employed 1,619 permanent employees. Our employees are not represented by  unions\n",
      "\n",
      "----------------------------------- AAXN -----------------------------------\n",
      "----------------------------------- 0001069183-17-000042 -----------------------------------\n",
      "data_key_friendly_name  :Full-Time Employees\n",
      "\n",
      "data_value  :699\n",
      "\n",
      "reported_units  :ones\n",
      "\n",
      "text  :full-time\n",
      "\n",
      "paragraph_text  :Employees   As of December 31, 2016,  we had 699 full-time  employees and 202 temporary  employees. The breakdown of  our   full-time employees by department is  as follows: 175 direct  manufacturing employees and 524  administrative   and manufacturing support employees. Of the 524 administrative and manufacturing support employees, 213  were   involved in sales,  marketing, communications and  training. Of the  202 temporary employees,  more than  92%   worked in direct manufacturing roles. Our employees  are not covered by any collective bargaining  agreement,   and we have never experienced a work stoppage. We believe that our relations with our employees are good\n",
      "\n",
      "----------------------------------- AAXN -----------------------------------\n",
      "----------------------------------- 0001069183-17-000042 -----------------------------------\n",
      "data_key_friendly_name  :Other Employees\n",
      "\n",
      "data_value  :202\n",
      "\n",
      "reported_units  :ones\n",
      "\n",
      "text  :temporary\n",
      "\n",
      "paragraph_text  :Employees   As of December 31, 2016,  we had 699 full-time  employees and 202 temporary  employees. The breakdown of  our   full-time employees by department is  as follows: 175 direct  manufacturing employees and 524  administrative   and manufacturing support employees. Of the 524 administrative and manufacturing support employees, 213  were   involved in sales,  marketing, communications and  training. Of the  202 temporary employees,  more than  92%   worked in direct manufacturing roles. Our employees  are not covered by any collective bargaining  agreement,   and we have never experienced a work stoppage. We believe that our relations with our employees are good\n",
      "\n",
      "----------------------------------- A -----------------------------------\n",
      "----------------------------------- 0001090872-16-000082 -----------------------------------\n",
      "data_key_friendly_name  :Other Employees\n",
      "\n",
      "data_value  :12500\n",
      "\n",
      "reported_units  :ones\n",
      "\n",
      "text  :employed\n",
      "\n",
      "paragraph_text  :We sell  our  products  primarily  through  direct  sales,  but  we  also  utilize  distributors,  resellers,   manufacturer's representatives and  electronic commerce. Of  our total net  revenue of $4.2  billion for  the   fiscal year ended October 31, 2016, we generated 30 percent in the U.S. and 70 percent outside the U.S. As of   October 31, 2016, we employed approximately 12,500 people worldwide. Our primary research and development and   manufacturing sites  are in  California, Colorado,  Delaware,  Massachusetts and  Texas in  the U.S.  and  in   Australia, China, Denmark, Germany, Italy, Japan, Malaysia, Singapore and the United Kingdom\n",
      "\n",
      "----------------------------------- ABB -----------------------------------\n",
      "----------------------------------- 0001104659-17-015892 -----------------------------------\n",
      "data_key_friendly_name  :Other Employees\n",
      "\n",
      "data_value  :132300\n",
      "\n",
      "reported_units  :ones\n",
      "\n",
      "text  :Total\n",
      "\n",
      "paragraph_text  :December 31,                                                                     2016             2015             2014   Europe                                                               61,400           61,600           63,000   The Americas                                                         29,000           30,900           32,200   Asia, Middle East and Africa                                         41,900           43,300           45,200   Total                                                               132,300          135,800          140,400\n",
      "\n",
      "----------------------------------- ABC -----------------------------------\n",
      "----------------------------------- 0001140859-16-000022 -----------------------------------\n",
      "data_key_friendly_name  :Full-Time Employees\n",
      "\n",
      "data_value  :18000\n",
      "\n",
      "reported_units  :ones\n",
      "\n",
      "text  :full-time\n",
      "\n",
      "paragraph_text  :Employees   As of September 30, 2016, we had approximately 19,000 employees, of which approximately 18,000 were full-time   employees. Approximately 2% of our employees are covered by collective bargaining agreements. We believe that   our relationship with our employees is good. If any  of our employees in locations that are unionized  should   engage in strikes  or other  such bargaining tactics  in connection  with the negotiation  of new  collective   bargaining agreements upon  the expiration  of any existing  collective bargaining  agreements, such  tactics   could be disruptive to our operations and adversely affect our results of operations, but we believe we  have   adequate contingency plans in place to  assure delivery of pharmaceuticals to  our customers in the event  of   any such disruptions\n",
      "\n",
      "----------------------------------- ABC -----------------------------------\n",
      "----------------------------------- 0001140859-16-000022 -----------------------------------\n",
      "data_key_friendly_name  :Other Employees\n",
      "\n",
      "data_value  :19000\n",
      "\n",
      "reported_units  :ones\n",
      "\n",
      "text  :employees\n",
      "\n",
      "paragraph_text  :Employees   As of September 30, 2016, we had approximately 19,000 employees, of which approximately 18,000 were full-time   employees. Approximately 2% of our employees are covered by collective bargaining agreements. We believe that   our relationship with our employees is good. If any  of our employees in locations that are unionized  should   engage in strikes  or other  such bargaining tactics  in connection  with the negotiation  of new  collective   bargaining agreements upon  the expiration  of any existing  collective bargaining  agreements, such  tactics   could be disruptive to our operations and adversely affect our results of operations, but we believe we  have   adequate contingency plans in place to  assure delivery of pharmaceuticals to  our customers in the event  of   any such disruptions\n",
      "\n",
      "----------------------------------- AAP -----------------------------------\n",
      "----------------------------------- 0001158449-17-000034 -----------------------------------\n",
      "data_key_friendly_name  :Full-Time Employees\n",
      "\n",
      "data_value  :41000\n",
      "\n",
      "reported_units  :ones\n",
      "\n",
      "text  :full-time Team\n",
      "\n",
      "paragraph_text  :Team Members   As of February 23, 2017, we employed approximately 41,000 full-time Team Members and approximately 33,000   part-time Team Members. Our workforce consisted of 87% of our Team Members employed in store-level   operations, 9% employed in distribution and 4% employed in our corporate offices. As of February 23, 2017,   less than 1% of our Team Members were represented by labor unions. We have never experienced any labor   disruption. We believe that our Team Member relations are solid\n",
      "\n",
      "----------------------------------- AAP -----------------------------------\n",
      "----------------------------------- 0001158449-17-000034 -----------------------------------\n",
      "data_key_friendly_name  :Part-Time Employees\n",
      "\n",
      "data_value  :33000\n",
      "\n",
      "reported_units  :ones\n",
      "\n",
      "text  :part-time Team Members\n",
      "\n",
      "paragraph_text  :Team Members   As of February 23, 2017, we employed approximately 41,000 full-time Team Members and approximately 33,000   part-time Team Members. Our workforce consisted of 87% of our Team Members employed in store-level   operations, 9% employed in distribution and 4% employed in our corporate offices. As of February 23, 2017,   less than 1% of our Team Members were represented by labor unions. We have never experienced any labor   disruption. We believe that our Team Member relations are solid\n",
      "\n",
      "----------------------------------- AAWW -----------------------------------\n",
      "----------------------------------- 0001193125-17-053796 -----------------------------------\n",
      "data_key_friendly_name  :Other Employees\n",
      "\n",
      "data_value  :2646\n",
      "\n",
      "reported_units  :ones\n",
      "\n",
      "text  :employees\n",
      "\n",
      "paragraph_text  :Our business depends on highly qualified management, operations and flight personnel. As a percentage of our   consolidated operating expenses, salaries, wages and benefits accounted for approximately 25.4% in 2016,   20.7% in 2015 and 19.2% in 2014. As of December 31, 2016, we had 2,646 employees, 1,581 of whom were pilots\n",
      "\n",
      "----------------------------------- AABA -----------------------------------\n",
      "----------------------------------- 0001193125-17-065791 -----------------------------------\n",
      "data_key_friendly_name  :Full-Time Employees\n",
      "\n",
      "data_value  :8500\n",
      "\n",
      "reported_units  :ones\n",
      "\n",
      "text  :full-time\n",
      "\n",
      "paragraph_text  :As of December  31, 2016,  we had approximately  8,500 full-time  employees and 600  contractors. Our  future   success is substantially dependent on the performance  of our senior management and key technical  personnel,   as well as our continuing ability to attract, maintain the caliber of, and retain highly qualified technical,   executive, and managerial personnel.  We remain committed  to our talented employees  and providing the  best   possible workplace culture for them. Additional information regarding certain risks related to our  employees   is included in Part I, Item 1A \"Risk Factors\" of  this Annual Report on Form 10-K and is incorporated  herein   by reference\n",
      "\n",
      "----------------------------------- AA -----------------------------------\n",
      "----------------------------------- 0001193125-17-083862 -----------------------------------\n",
      "data_key_friendly_name  :Other Employees\n",
      "\n",
      "data_value  :14000\n",
      "\n",
      "reported_units  :ones\n",
      "\n",
      "text  :employees\n",
      "\n",
      "paragraph_text  :Alcoa's total worldwide employment at the end of 2016 was approximately 14,000 employees in 15 countries\n",
      "\n",
      "----------------------------------- ABCD -----------------------------------\n",
      "----------------------------------- 0001466815-17-000007 -----------------------------------\n",
      "data_key_friendly_name  :Full-Time Employees\n",
      "\n",
      "data_value  :565\n",
      "\n",
      "reported_units  :ones\n",
      "\n",
      "text  :full-time\n",
      "\n",
      "paragraph_text  :Employees   As of December 31, 2016, we had a total of 619 employees, including 565 full-time, 20 regularly scheduled   part-time employees, and 34 need-based part-time employees. We consider our current relationship with our   employees to be good. Our employees are not represented by labor unions and are not subject to collective   bargaining agreements\n",
      "\n",
      "----------------------------------- ABCD -----------------------------------\n",
      "----------------------------------- 0001466815-17-000007 -----------------------------------\n",
      "data_key_friendly_name  :Part-Time Employees\n",
      "\n",
      "data_value  :34\n",
      "\n",
      "reported_units  :ones\n",
      "\n",
      "text  :part-time\n",
      "\n",
      "paragraph_text  :Employees   As of December 31, 2016, we had a total of 619 employees, including 565 full-time, 20 regularly scheduled   part-time employees, and 34 need-based part-time employees. We consider our current relationship with our   employees to be good. Our employees are not represented by labor unions and are not subject to collective   bargaining agreements\n",
      "\n",
      "----------------------------------- ABCD -----------------------------------\n",
      "----------------------------------- 0001466815-17-000007 -----------------------------------\n",
      "data_key_friendly_name  :Part-Time Employees\n",
      "\n",
      "data_value  :20\n",
      "\n",
      "reported_units  :ones\n",
      "\n",
      "text  :part-time\n",
      "\n",
      "paragraph_text  :Employees   As of December 31, 2016, we had a total of 619 employees, including 565 full-time, 20 regularly scheduled   part-time employees, and 34 need-based part-time employees. We consider our current relationship with our   employees to be good. Our employees are not represented by labor unions and are not subject to collective   bargaining agreements\n",
      "\n",
      "----------------------------------- ABBV -----------------------------------\n",
      "----------------------------------- 0001551152-17-000004 -----------------------------------\n",
      "data_key_friendly_name  :Other Employees\n",
      "\n",
      "data_value  :30000\n",
      "\n",
      "reported_units  :ones\n",
      "\n",
      "text  :employed\n",
      "\n",
      "paragraph_text  :Employees   AbbVie employed approximately 30,000 persons as of January 31, 2017. Outside the United States, some of   AbbVie's employees are represented by unions or works councils. AbbVie believes that it has good relations   with its employees\n",
      "\n",
      "----------------------------------- AAOI -----------------------------------\n",
      "----------------------------------- 0001558370-17-001556 -----------------------------------\n",
      "data_key_friendly_name  :Full-Time Employees\n",
      "\n",
      "data_value  :2776\n",
      "\n",
      "reported_units  :ones\n",
      "\n",
      "text  :full-time\n",
      "\n",
      "paragraph_text  :As of December 31, 2016, we employed 2,776 full-time employees, of which 31 held Ph.D. degrees in a science   or engineering field. Of our employees, 287 are located in the U.S., 1,218 are located in Taiwan and 1,271   are located in China. None of our employees are represented by any collective bargaining agreement, but   certain employees of our China subsidiary are members of a trade union. We have never suffered any work   stoppage as a result of an employment related strike or any employee related dispute and believe that we have   satisfactory relations with our employees\n",
      "\n",
      "----------------------------------- AAC -----------------------------------\n",
      "----------------------------------- 0001564590-17-003590 -----------------------------------\n",
      "data_key_friendly_name  :Other Employees\n",
      "\n",
      "data_value  :2100\n",
      "\n",
      "reported_units  :ones\n",
      "\n",
      "text  :employed\n",
      "\n",
      "paragraph_text  :As of December 31, 2016, we employed approximately 2,100 people. During 2016, employees at Sunrise House   voted to join the Health Professionals and Allied Employees (\"HPAE\") labor union. None of our other employees   are represented by a labor union or covered by a collective bargaining agreement. We believe that our   employee relations are good\n",
      "\n",
      "----------------------------------- ABM -----------------------------------\n",
      "----------------------------------- 0001628280-16-022122 -----------------------------------\n",
      "data_key_friendly_name  :Other Employees\n",
      "\n",
      "data_value  :110000\n",
      "\n",
      "reported_units  :ones\n",
      "\n",
      "text  :employed\n",
      "\n",
      "paragraph_text  :Employees   As of October 31, 2016, we employed approximately 110,000 employees\n",
      "\n"
     ]
    }
   ],
   "source": [
    "print_row_detail(df=subset_df, nrow=20)"
   ]
  },
  {
   "cell_type": "markdown",
   "metadata": {},
   "source": [
    "Only 15 files are included in the subset_df"
   ]
  },
  {
   "cell_type": "code",
   "execution_count": 7,
   "metadata": {
    "ExecuteTime": {
     "end_time": "2018-07-22T23:02:27.326286Z",
     "start_time": "2018-07-22T23:02:27.315278Z"
    },
    "collapsed": true
   },
   "outputs": [
    {
     "data": {
      "text/plain": [
       "array(['0001090872-16-000082', '0001193125-17-083862',\n",
       "       '0001193125-17-065791', '0001564590-17-003590',\n",
       "       '0000706688-17-000030', '0001558370-17-001556',\n",
       "       '0000824142-17-000034', '0001158449-17-000034',\n",
       "       '0001193125-17-053796', '0001069183-17-000042',\n",
       "       '0001104659-17-015892', '0001551152-17-000004',\n",
       "       '0001140859-16-000022', '0001466815-17-000007',\n",
       "       '0001628280-16-022122'], dtype=object)"
      ]
     },
     "execution_count": 7,
     "metadata": {},
     "output_type": "execute_result"
    }
   ],
   "source": [
    "subset_df.accession_number.unique()"
   ]
  },
  {
   "cell_type": "code",
   "execution_count": 8,
   "metadata": {
    "ExecuteTime": {
     "end_time": "2018-07-22T23:02:27.349301Z",
     "start_time": "2018-07-22T23:02:27.327286Z"
    },
    "collapsed": true
   },
   "outputs": [
    {
     "data": {
      "text/plain": [
       "data_key_friendly_name  text                                             \n",
       "Full-Time Employees     full-time                                            516\n",
       "                        full-time employees                                  104\n",
       "                        full time                                             41\n",
       "                        employees                                             19\n",
       "                        full time employees                                   16\n",
       "                        full-time equivalent                                  16\n",
       "                        full-time equivalent employees                        16\n",
       "                        Total                                                 11\n",
       "                        employed                                               7\n",
       "                        Full-time                                              4\n",
       "                        full time equivalent                                   4\n",
       "                        full-time employees worldwide                          4\n",
       "                        full time equivalent employees                         3\n",
       "                        full-time-equivalent                                   3\n",
       "                        persons                                                3\n",
       "                        Employees (full-time equivalent)                       2\n",
       "                        Full time equivalent employees                         2\n",
       "                        Full-time employees                                    2\n",
       "                        Full-time equivalent employees                         2\n",
       "                        Total employees                                        2\n",
       "                        full-time associates                                   2\n",
       "                        full-time basis                                        2\n",
       "                        full-time personnel                                    2\n",
       "                        hourly employees                                       2\n",
       "                        regular, full-time employees                           2\n",
       "                        salaried                                               2\n",
       "                        we employed approximately                              2\n",
       "                        32078                                                  1\n",
       "                        40-hour equivalent employees                           1\n",
       "                        ASB and its subsidiaries                               1\n",
       "                                                                            ... \n",
       "Other Employees         we employ approximately                                1\n",
       "                        we had no salaried employees                           1\n",
       "                        workers under contract manufacturing arrangements      1\n",
       "                        workforce                                              1\n",
       "                        worldwide workforce                                    1\n",
       "Part-Time Employees     part-time                                            178\n",
       "                        part-time employees                                    9\n",
       "                        part time                                              4\n",
       "                        Total employees                                        3\n",
       "                        Part-time                                              2\n",
       "                        Part-time employees                                    2\n",
       "                        Total                                                  2\n",
       "                        employed                                               2\n",
       "                        employees                                              2\n",
       "                        part-time Team Members                                 2\n",
       "                        part-time associates                                   2\n",
       "                        part-time basis                                        2\n",
       "                        2800                                                   1\n",
       "                        full and part-time                                     1\n",
       "                        hourly                                                 1\n",
       "                        on a part-time basis                                   1\n",
       "                        one part-time employee                                 1\n",
       "                        part-time basis.                                       1\n",
       "                        part-time colleagues                                   1\n",
       "                        part-time employee                                     1\n",
       "                        part-time or seasonal                                  1\n",
       "                        part-time union and non-union employees                1\n",
       "                        part-time/seasonal                                     1\n",
       "                        people                                                 1\n",
       "                        we employed approximately                              1\n",
       "Name: text, Length: 334, dtype: int64"
      ]
     },
     "execution_count": 8,
     "metadata": {},
     "output_type": "execute_result"
    }
   ],
   "source": [
    "labeled_df.groupby('data_key_friendly_name').text.value_counts()"
   ]
  },
  {
   "cell_type": "code",
   "execution_count": 9,
   "metadata": {
    "ExecuteTime": {
     "end_time": "2018-07-22T23:02:27.357306Z",
     "start_time": "2018-07-22T23:02:27.350301Z"
    },
    "collapsed": true
   },
   "outputs": [
    {
     "data": {
      "text/plain": [
       "data_key_friendly_name  text                  \n",
       "Full-Time Employees     full-time                 5\n",
       "                        full-time Team            1\n",
       "Other Employees         employees                 5\n",
       "                        employed                  4\n",
       "                        Total                     1\n",
       "                        temporary                 1\n",
       "Part-Time Employees     part-time                 2\n",
       "                        part-time Team Members    1\n",
       "Name: text, dtype: int64"
      ]
     },
     "execution_count": 9,
     "metadata": {},
     "output_type": "execute_result"
    }
   ],
   "source": [
    "subset_df.groupby('data_key_friendly_name').text.value_counts()"
   ]
  },
  {
   "cell_type": "code",
   "execution_count": 5,
   "metadata": {
    "ExecuteTime": {
     "end_time": "2018-07-23T04:18:03.722381Z",
     "start_time": "2018-07-23T04:18:03.468520Z"
    }
   },
   "outputs": [],
   "source": [
    "# Create list of paths for subset_df\n",
    "subset_file_list = [PurePath(os.getcwd()).joinpath('../employee_filings/').joinpath(file) for file in full_file_list if PurePath(file).stem.replace('.html', '') in subset_df.accession_number.unique().tolist()]"
   ]
  },
  {
   "cell_type": "code",
   "execution_count": 10,
   "metadata": {
    "ExecuteTime": {
     "end_time": "2018-07-10T16:30:48.945786Z",
     "start_time": "2018-07-10T16:30:48.940783Z"
    }
   },
   "outputs": [
    {
     "data": {
      "text/plain": [
       "54"
      ]
     },
     "execution_count": 10,
     "metadata": {},
     "output_type": "execute_result"
    }
   ],
   "source": [
    "train_accession_ids.index('0000034088-17-000017')"
   ]
  },
  {
   "cell_type": "markdown",
   "metadata": {},
   "source": [
    "## Exploring tags that match any of the regex patterns"
   ]
  },
  {
   "cell_type": "markdown",
   "metadata": {},
   "source": [
    "### Patterns to flag candidate paragraphs"
   ]
  },
  {
   "cell_type": "markdown",
   "metadata": {},
   "source": [
    "Modular components make it easier to organize (and update) regular expressions."
   ]
  },
  {
   "cell_type": "code",
   "execution_count": 33,
   "metadata": {
    "ExecuteTime": {
     "end_time": "2018-07-23T16:58:55.714089Z",
     "start_time": "2018-07-23T16:58:55.709086Z"
    }
   },
   "outputs": [],
   "source": [
    "employee_terms = \"(associates|employees|full[ -]time[ -]equivalent(s)?|staff|team members|workers)\"\n",
    "person_terms = \"(individuals|people|persons)\"\n",
    "workforce_terms = \"(((employee|employment|head|personnel|staff|worker|workforce) (count(s)|level(s)|total(s))+)|(head-count|headcount|workforce))\"\n",
    "employee_type_terms = \"(full time|full-time|permanent|part time|part-time|regular|seasonal|temporary|total)\"\n",
    "\n",
    "numeral_pat = \"(([0-9]{1,3},)*[0-9]{1,3}([.][0-9])?)\"\n",
    "rel_qualifiers = \"(a total of|approximately|in aggregate|in total|(an|the) equivalent of|total)\"\n",
    "\n",
    "space_pat = \"( |\\n)\"\n",
    "\n",
    "magnitude_words = \"(hundred|thousand|million|billion)\" \n",
    "num_words = \"(one|two|three|four|five|six|seven|eight|nine|ten|eleven|twelve|thirteen|fourteen|fifteen|sixteen|seventeen|eighteen|nineteen)\""
   ]
  },
  {
   "cell_type": "code",
   "execution_count": 34,
   "metadata": {
    "ExecuteTime": {
     "end_time": "2018-07-23T16:58:57.975095Z",
     "start_time": "2018-07-23T16:58:57.963583Z"
    }
   },
   "outputs": [],
   "source": [
    "num_pat = \"\".join([\"((\",numeral_pat, \"|\", num_words, \")(\", space_pat, magnitude_words, \")?\", \")\"])\n",
    "\n",
    "num_emps_pat = \"\".join([num_pat, space_pat, \"(\", rel_qualifiers, space_pat, \")*\",  \"(\", employee_type_terms, space_pat, \")*\"])\n",
    "\n",
    "#number_employees_pat = \"\".join(['r\"',num_emps_pat, employee_terms, '\"'])\n",
    "number_employees_pat = \"\".join([num_emps_pat, employee_terms])\n",
    "employed_num_pat = \"\".join([\"employ((ed|s)?)?\", space_pat, \"(\", rel_qualifiers, space_pat, \")*\", \n",
    "                        num_emps_pat])\n",
    "emp_type_emp_term_pat = \"\".join([employee_type_terms, space_pat, employee_terms])\n",
    "employed_end_span_pat = \"\".join([\"employed(\", space_pat, rel_qualifiers, \")*$\"])\n",
    "span_start_employees_pat = \"\".join([\"^\", \"(\", rel_qualifiers, space_pat, \")*\",  \n",
    "                                   \"(\", employee_type_terms, space_pat, \")*\", \n",
    "                                   employee_terms])\n",
    "\n",
    "emp_pat_list = [number_employees_pat, employed_num_pat, emp_type_emp_term_pat, \n",
    "                employed_end_span_pat, span_start_employees_pat, workforce_terms]\n",
    "emp_pats = [re.compile(x, re.I) for x in emp_pat_list]"
   ]
  },
  {
   "cell_type": "code",
   "execution_count": 46,
   "metadata": {
    "ExecuteTime": {
     "end_time": "2018-07-23T17:08:56.344866Z",
     "start_time": "2018-07-23T17:08:56.335859Z"
    }
   },
   "outputs": [
    {
     "data": {
      "text/plain": [
       "115"
      ]
     },
     "execution_count": 46,
     "metadata": {},
     "output_type": "execute_result"
    }
   ],
   "source": [
    "sum(labeled_df.paragraph_text.str.contains(re.compile(\"workforce\")))"
   ]
  },
  {
   "cell_type": "code",
   "execution_count": 48,
   "metadata": {
    "ExecuteTime": {
     "end_time": "2018-07-23T17:09:16.203300Z",
     "start_time": "2018-07-23T17:09:15.961234Z"
    }
   },
   "outputs": [
    {
     "name": "stdout",
     "output_type": "stream",
     "text": [
      "----------------------------------- TREC -----------------------------------\n",
      "----------------------------------- 0000007039-17-000009 -----------------------------------\n",
      "data_key_friendly_name  :Other Employees\n",
      "\n",
      "data_value  :310.0\n",
      "\n",
      "reported_units  :ones\n",
      "\n",
      "text  :employees\n",
      "\n",
      "paragraph_text  :Personnel   The number of  our regular, U.S.  based employees was  approximately 310, 296,  and 271 for  the years  ended   December 31,  2016,  2015, and  2014,  respectively.  Of these  employees,  none are  covered  by  collective   bargaining agreements. Regular employees are defined as active executive, management, professional, technical   and wage employees who work full time or part time  for the Company and are covered by our benefit plans  and   programs. Our workforce has increased primarily due to expansions at both facilities\n",
      "\n",
      "----------------------------------- BA -----------------------------------\n",
      "----------------------------------- 0000012927-17-000006 -----------------------------------\n",
      "data_key_friendly_name  :Other Employees\n",
      "\n",
      "data_value  :150500.0\n",
      "\n",
      "reported_units  :ones\n",
      "\n",
      "text  :Total workforce\n",
      "\n",
      "paragraph_text  :Employees   Total workforce level at December 31, 2016 was approximately 150,500. As of December 31, 2016, our  principal   collective bargaining agreements were with the following unions:\n",
      "\n",
      "----------------------------------- LUB -----------------------------------\n",
      "----------------------------------- 0000016099-16-000059 -----------------------------------\n",
      "data_key_friendly_name  :Other Employees\n",
      "\n",
      "data_value  :7988.0\n",
      "\n",
      "reported_units  :ones\n",
      "\n",
      "text  :employees\n",
      "\n",
      "paragraph_text  :Employees   As of November 9, 2016, we had an active workforce of 7,988 employees consisting of restaurant management   employees, non-management restaurants employees, CCS management employees, CCS non-management employees, and   office and facility service employees. Employee relations are considered to be good. We have never had a   strike or work stoppage, and we are not subject to collective bargaining agreements\n",
      "\n",
      "----------------------------------- FTR -----------------------------------\n",
      "----------------------------------- 0000020520-17-000003 -----------------------------------\n",
      "data_key_friendly_name  :Other Employees\n",
      "\n",
      "data_value  :28300.0\n",
      "\n",
      "reported_units  :ones\n",
      "\n",
      "text  :employees\n",
      "\n",
      "paragraph_text  :As of December 31, 2016, we had approximately 28,300 employees, as compared to approximately 19,200 employees   as of  December 31,  2015.  During 2016,  reduction in  workforce  activities resulted  in the  severance  of   approximately 1,950 employees of which approximately 450  employees remained as employees as of December  31,   2016. Approximately 17,900 of our total employees are represented by unions. The number of employees  covered   by a collective bargaining agreement that expired in 2016, but have been extended and are still effective for   2017, is approximately 600. The number of  employees covered by collective bargaining agreements that  expire   in 2017 is approximately 3,800. We consider our relations with our employees to be good\n",
      "\n",
      "----------------------------------- OMC -----------------------------------\n",
      "----------------------------------- 0000029989-17-000004 -----------------------------------\n",
      "data_key_friendly_name  :Other Employees\n",
      "\n",
      "data_value  :78500.0\n",
      "\n",
      "reported_units  :ones\n",
      "\n",
      "text  :people\n",
      "\n",
      "paragraph_text  :Our Employees   At December 31, 2016, we employed approximately 78,500 people. The skill sets of our workforce across our   agencies and within each discipline are similar. Common to all is the ability to understand a client's brand   or product and their selling proposition and to develop a unique message to communicate the value of the   brand or product to the client's target audience. Recognizing the importance of this core competency, we have   established tailored training and education programs for our client service professionals around this   competency. See the MD&A for a discussion of the effect of salary and related costs on our results of   operations\n",
      "\n",
      "----------------------------------- HHS -----------------------------------\n",
      "----------------------------------- 0000045919-17-000006 -----------------------------------\n",
      "data_key_friendly_name  :Full-Time Employees\n",
      "\n",
      "data_value  :5588.0\n",
      "\n",
      "reported_units  :ones\n",
      "\n",
      "text  :full-time\n",
      "\n",
      "paragraph_text  :EMPLOYEES   As of December 31, 2016, Harte Hanks employed 5,588 full-time employees and 64 part-time employees, of  which   approximately 2,669 are based outside of the U.S.,  primarily in the Philippines. A portion of our  workforce   is provided to  us through  staffing companies.  None of our  workforce is  represented by  labor unions.  We   consider our relations with our employees to be good\n",
      "\n",
      "----------------------------------- HHS -----------------------------------\n",
      "----------------------------------- 0000045919-17-000006 -----------------------------------\n",
      "data_key_friendly_name  :Part-Time Employees\n",
      "\n",
      "data_value  :64.0\n",
      "\n",
      "reported_units  :ones\n",
      "\n",
      "text  :part-time\n",
      "\n",
      "paragraph_text  :EMPLOYEES   As of December 31, 2016, Harte Hanks employed 5,588 full-time employees and 64 part-time employees, of  which   approximately 2,669 are based outside of the U.S.,  primarily in the Philippines. A portion of our  workforce   is provided to  us through  staffing companies.  None of our  workforce is  represented by  labor unions.  We   consider our relations with our employees to be good\n",
      "\n",
      "----------------------------------- MDP -----------------------------------\n",
      "----------------------------------- 0000065011-16-000334 -----------------------------------\n",
      "data_key_friendly_name  :Full-Time Employees\n",
      "\n",
      "data_value  :3600.0\n",
      "\n",
      "reported_units  :ones\n",
      "\n",
      "text  :full-time\n",
      "\n",
      "paragraph_text  :EMPLOYEES   As of June 30, 2016, the Company had approximately 3,600 full-time and 130 part-time employees. Only a small   percentage of our workforce is unionized. We consider relations with our employees to be good\n",
      "\n",
      "----------------------------------- MDP -----------------------------------\n",
      "----------------------------------- 0000065011-16-000334 -----------------------------------\n",
      "data_key_friendly_name  :Part-Time Employees\n",
      "\n",
      "data_value  :130.0\n",
      "\n",
      "reported_units  :ones\n",
      "\n",
      "text  :part-time\n",
      "\n",
      "paragraph_text  :EMPLOYEES   As of June 30, 2016, the Company had approximately 3,600 full-time and 130 part-time employees. Only a small   percentage of our workforce is unionized. We consider relations with our employees to be good\n",
      "\n",
      "----------------------------------- MLHR -----------------------------------\n",
      "----------------------------------- 0000066382-16-000082 -----------------------------------\n",
      "data_key_friendly_name  :Other Employees\n",
      "\n",
      "data_value  :7607.0\n",
      "\n",
      "reported_units  :ones\n",
      "\n",
      "text  :employees\n",
      "\n",
      "paragraph_text  :As of May 28, 2016, the company had 7,607 employees, representing a 1.3 percent increase as compared with May   30, 2015. The  increase in  employees was  driven principally by  an increase  in workforce  within our  West   Michigan manufacturing facilities. In addition to its employee workforce, the company uses temporary labor to   meet uneven demand in its manufacturing operations\n",
      "\n",
      "----------------------------------- DY -----------------------------------\n",
      "----------------------------------- 0000067215-16-000096 -----------------------------------\n",
      "data_key_friendly_name  :Other Employees\n",
      "\n",
      "data_value  :12750.0\n",
      "\n",
      "reported_units  :ones\n",
      "\n",
      "text  :persons\n",
      "\n",
      "paragraph_text  :Table of Contents   Employees   We employed approximately 12,750 persons as of July 30, 2016. Our workforce includes a core group of   technical and managerial personnel to supervise our projects and fluctuates in size to meet the demands of   our customers. We consider our relations with employees to be good and believe our future success will   depend, in part, on our continuing ability to attract, hire, and retain skilled and experienced personnel\n",
      "\n",
      "----------------------------------- NWN -----------------------------------\n",
      "----------------------------------- 0000073020-17-000007 -----------------------------------\n",
      "data_key_friendly_name  :Other Employees\n",
      "\n",
      "data_value  :611.0\n",
      "\n",
      "reported_units  :ones\n",
      "\n",
      "text  :members\n",
      "\n",
      "paragraph_text  :At December 31, 2016, the utility workforce consisted of 611 members of the Office and Professional Employees   International Union (OPEIU) Local No. 11, AFL-CIO, and 497 non-union employees. Our labor agreement with   members of OPEIU covers wages, benefits and working conditions. On May 22, 2014, our union employees ratified   a new labor agreement (Joint Accord) that extends to November 30, 2019, and thereafter from year to year   unless either party serves notice of its intent to negotiate modifications to the collective bargaining   agreement\n",
      "\n",
      "----------------------------------- NWN -----------------------------------\n",
      "----------------------------------- 0000073020-17-000007 -----------------------------------\n",
      "data_key_friendly_name  :Other Employees\n",
      "\n",
      "data_value  :497.0\n",
      "\n",
      "reported_units  :ones\n",
      "\n",
      "text  :non-union\n",
      "\n",
      "paragraph_text  :At December 31, 2016, the utility workforce consisted of 611 members of the Office and Professional Employees   International Union (OPEIU) Local No. 11, AFL-CIO, and 497 non-union employees. Our labor agreement with   members of OPEIU covers wages, benefits and working conditions. On May 22, 2014, our union employees ratified   a new labor agreement (Joint Accord) that extends to November 30, 2019, and thereafter from year to year   unless either party serves notice of its intent to negotiate modifications to the collective bargaining   agreement\n",
      "\n",
      "----------------------------------- NWN -----------------------------------\n",
      "----------------------------------- 0000073020-17-000007 -----------------------------------\n",
      "data_key_friendly_name  :Other Employees\n",
      "\n",
      "data_value  :15.0\n",
      "\n",
      "reported_units  :ones\n",
      "\n",
      "text  :non-union\n",
      "\n",
      "paragraph_text  :At December 31, 2016, our non-utility subsidiaries had a combined workforce of 15 non-union employees, of   which the majority of our employees at the Gill Ranch facility voted to unionize as part of IBEW Local Union   No. 1245. We are currently in the process of bargaining the first contract for 8 of these employees and the   ultimate outcome of such negotiations is unknown at this time. Our subsidiaries receive certain services from   centralized operations at the utility, and the utility is reimbursed for those services pursuant to a Shared   Services Agreement\n",
      "\n",
      "----------------------------------- OII -----------------------------------\n",
      "----------------------------------- 0000073756-17-000013 -----------------------------------\n",
      "data_key_friendly_name  :Other Employees\n",
      "\n",
      "data_value  :9300.0\n",
      "\n",
      "reported_units  :ones\n",
      "\n",
      "text  :employees\n",
      "\n",
      "paragraph_text  :EMPLOYEES   As of December 31, 2016, we had approximately 9,300 employees. Taking into account reductions in workforce we   announced in 2016 to take effect in 2017, we would have approximately 8,800 employees. Our workforce varies   seasonally and peaks during the second and third quarters. We consider our relations with our employees to be   satisfactory\n",
      "\n",
      "----------------------------------- GHC -----------------------------------\n",
      "----------------------------------- 0000104889-17-000010 -----------------------------------\n",
      "data_key_friendly_name  :Part-Time Employees\n",
      "\n",
      "data_value  :8922.0\n",
      "\n",
      "reported_units  :ones\n",
      "\n",
      "text  :part-time\n",
      "\n",
      "paragraph_text  :Worldwide, Kaplan employs approximately 6,979 people on a full-time basis. Kaplan also employs substantial   numbers of part-time employees who serve in instructional and administrative capacities. Kaplan's part-time   workforce is approximately 8,922 employees. Collectively, in the U.S., U.K. and Canada, 158 Kaplan employees   are represented by a union\n",
      "\n",
      "----------------------------------- FSS -----------------------------------\n",
      "----------------------------------- 0000277509-17-000008 -----------------------------------\n",
      "data_key_friendly_name  :Other Employees\n",
      "\n",
      "data_value  :2200.0\n",
      "\n",
      "reported_units  :ones\n",
      "\n",
      "text  :employed\n",
      "\n",
      "paragraph_text  :Employees   The Company employed approximately 2,200 people in its businesses at December 31, 2016, with the Company's   U.S. hourly workers accounting for approximately 42% of its total workforce. Approximately 23% of the   Company's U.S. hourly workers were represented by unions at December 31, 2016. We believe that our labor   relations with our employees are good\n",
      "\n",
      "----------------------------------- EGN -----------------------------------\n",
      "----------------------------------- 0000277595-17-000011 -----------------------------------\n",
      "data_key_friendly_name  :Other Employees\n",
      "\n",
      "data_value  :390.0\n",
      "\n",
      "reported_units  :ones\n",
      "\n",
      "text  :employees\n",
      "\n",
      "paragraph_text  :The Company has approximately 390 employees. On January 22, 2016 and March 18, 2016, we reduced our workforce   as part of an overall  plan to reduce costs and  better align our workforce with  the needs of our  business\n",
      "\n",
      "----------------------------------- LAWS -----------------------------------\n",
      "----------------------------------- 0000703604-17-000018 -----------------------------------\n",
      "data_key_friendly_name  :Other Employees\n",
      "\n",
      "data_value  :1590.0\n",
      "\n",
      "reported_units  :ones\n",
      "\n",
      "text  :individuals\n",
      "\n",
      "paragraph_text  :On December 31,  2016, our  workforce included approximately  1,590 individuals,  comprised of  approximately   1,130 in  sales and  marketing, approximately  390 in  operations and  distribution and  approximately 70  in   management and administration. Approximately 10% of our  workforce is covered by three collective  bargaining   agreements. We believe that our  relations with our employees  and their collective bargaining  organizations   are good\n",
      "\n",
      "----------------------------------- ADSK -----------------------------------\n",
      "----------------------------------- 0000769397-16-000067 -----------------------------------\n",
      "data_key_friendly_name  :Other Employees\n",
      "\n",
      "data_value  :9500.0\n",
      "\n",
      "reported_units  :ones\n",
      "\n",
      "text  :we employed approximately\n",
      "\n",
      "paragraph_text  :EMPLOYEES   As of January 31, 2016, we employed approximately 9,500 people. None of our employees in the United States   are represented by a labor union. In certain foreign countries, our employees are represented by work   councils. We have never experienced any work stoppages and believe our employee relations are good. Reliance   upon employees in other countries entails various risks and changes in these foreign countries, such as   government instability or regulation unfavorable to foreign-owned businesses, which could negatively impact   our business in the future. In February 2016, we announced a restructuring plan that will result in the   termination of approximately 10% of the Company's workforce, or approximately 925 employees, in fiscal 2017\n",
      "\n",
      "----------------------------------- ITRI -----------------------------------\n",
      "----------------------------------- 0000780571-17-000003 -----------------------------------\n",
      "data_key_friendly_name  :Other Employees\n",
      "\n",
      "data_value  :7300.0\n",
      "\n",
      "reported_units  :ones\n",
      "\n",
      "text  :people\n",
      "\n",
      "paragraph_text  :Workforce   As of December 31, 2016, we had approximately 7,300 people in our workforce, including 6,200 permanent   employees. We have not experienced significant work stoppages and consider our employee relations to be good\n",
      "\n",
      "----------------------------------- EHC -----------------------------------\n",
      "----------------------------------- 0000785161-17-000009 -----------------------------------\n",
      "data_key_friendly_name  :Full-Time Employees\n",
      "\n",
      "data_value  :17187.0\n",
      "\n",
      "reported_units  :ones\n",
      "\n",
      "text  :full-time\n",
      "\n",
      "paragraph_text  :Many of our quality and outcome measures remained above both inpatient rehabilitation and home health   industry averages. Not only did we treat more patients and enhance outcomes, we did so in a cost-effective   manner. For additional discussion of the pursuit of our 2016 strategic priorities, including operating   results, growth, and shareholder value-enhancing achievements, as well as our 2017 strategy and business   outlook, see Item 7, Management's Discussion and Analysis of Financial Condition and Results of Operations,   \"Executive Overview,\" \"Results of Operations,\" and \"Liquidity and Capital Resources.\"   Employees   As of December 31, 2016, we employed approximately 27,968 individuals, of whom approximately 17,187 were   full-time employees, in our inpatient rehabilitation business and approximately 7,742 individuals, of whom   approximately 5,698 were full-time employees, in the Encompass home health and hospice business. We are   subject to various state and federal laws that regulate wages, hours, benefits, and other terms and   conditions relating to employment. Except for approximately 63 employees at one hospital (about 17% of that   hospital's workforce), none of our employees are represented by a labor union as of December 31, 2016. Like   most healthcare providers, our labor costs are rising faster than the general inflation rate. In some   markets, the lack of availability of medical personnel is a significant operating issue facing healthcare   providers. To address this                                                         5\n",
      "\n",
      "----------------------------------- EHC -----------------------------------\n",
      "----------------------------------- 0000785161-17-000009 -----------------------------------\n",
      "data_key_friendly_name  :Full-Time Employees\n",
      "\n",
      "data_value  :5698.0\n",
      "\n",
      "reported_units  :ones\n",
      "\n",
      "text  :full-time\n",
      "\n",
      "paragraph_text  :Many of our quality and outcome measures remained above both inpatient rehabilitation and home health   industry averages. Not only did we treat more patients and enhance outcomes, we did so in a cost-effective   manner. For additional discussion of the pursuit of our 2016 strategic priorities, including operating   results, growth, and shareholder value-enhancing achievements, as well as our 2017 strategy and business   outlook, see Item 7, Management's Discussion and Analysis of Financial Condition and Results of Operations,   \"Executive Overview,\" \"Results of Operations,\" and \"Liquidity and Capital Resources.\"   Employees   As of December 31, 2016, we employed approximately 27,968 individuals, of whom approximately 17,187 were   full-time employees, in our inpatient rehabilitation business and approximately 7,742 individuals, of whom   approximately 5,698 were full-time employees, in the Encompass home health and hospice business. We are   subject to various state and federal laws that regulate wages, hours, benefits, and other terms and   conditions relating to employment. Except for approximately 63 employees at one hospital (about 17% of that   hospital's workforce), none of our employees are represented by a labor union as of December 31, 2016. Like   most healthcare providers, our labor costs are rising faster than the general inflation rate. In some   markets, the lack of availability of medical personnel is a significant operating issue facing healthcare   providers. To address this                                                         5\n",
      "\n",
      "----------------------------------- EHC -----------------------------------\n",
      "----------------------------------- 0000785161-17-000009 -----------------------------------\n",
      "data_key_friendly_name  :Other Employees\n",
      "\n",
      "data_value  :7742.0\n",
      "\n",
      "reported_units  :ones\n",
      "\n",
      "text  :individuals\n",
      "\n",
      "paragraph_text  :Many of our quality and outcome measures remained above both inpatient rehabilitation and home health   industry averages. Not only did we treat more patients and enhance outcomes, we did so in a cost-effective   manner. For additional discussion of the pursuit of our 2016 strategic priorities, including operating   results, growth, and shareholder value-enhancing achievements, as well as our 2017 strategy and business   outlook, see Item 7, Management's Discussion and Analysis of Financial Condition and Results of Operations,   \"Executive Overview,\" \"Results of Operations,\" and \"Liquidity and Capital Resources.\"   Employees   As of December 31, 2016, we employed approximately 27,968 individuals, of whom approximately 17,187 were   full-time employees, in our inpatient rehabilitation business and approximately 7,742 individuals, of whom   approximately 5,698 were full-time employees, in the Encompass home health and hospice business. We are   subject to various state and federal laws that regulate wages, hours, benefits, and other terms and   conditions relating to employment. Except for approximately 63 employees at one hospital (about 17% of that   hospital's workforce), none of our employees are represented by a labor union as of December 31, 2016. Like   most healthcare providers, our labor costs are rising faster than the general inflation rate. In some   markets, the lack of availability of medical personnel is a significant operating issue facing healthcare   providers. To address this                                                         5\n",
      "\n",
      "----------------------------------- EHC -----------------------------------\n",
      "----------------------------------- 0000785161-17-000009 -----------------------------------\n",
      "data_key_friendly_name  :Other Employees\n",
      "\n",
      "data_value  :27968.0\n",
      "\n",
      "reported_units  :ones\n",
      "\n",
      "text  :individuals\n",
      "\n",
      "paragraph_text  :Many of our quality and outcome measures remained above both inpatient rehabilitation and home health   industry averages. Not only did we treat more patients and enhance outcomes, we did so in a cost-effective   manner. For additional discussion of the pursuit of our 2016 strategic priorities, including operating   results, growth, and shareholder value-enhancing achievements, as well as our 2017 strategy and business   outlook, see Item 7, Management's Discussion and Analysis of Financial Condition and Results of Operations,   \"Executive Overview,\" \"Results of Operations,\" and \"Liquidity and Capital Resources.\"   Employees   As of December 31, 2016, we employed approximately 27,968 individuals, of whom approximately 17,187 were   full-time employees, in our inpatient rehabilitation business and approximately 7,742 individuals, of whom   approximately 5,698 were full-time employees, in the Encompass home health and hospice business. We are   subject to various state and federal laws that regulate wages, hours, benefits, and other terms and   conditions relating to employment. Except for approximately 63 employees at one hospital (about 17% of that   hospital's workforce), none of our employees are represented by a labor union as of December 31, 2016. Like   most healthcare providers, our labor costs are rising faster than the general inflation rate. In some   markets, the lack of availability of medical personnel is a significant operating issue facing healthcare   providers. To address this                                                         5\n",
      "\n",
      "----------------------------------- PRGS -----------------------------------\n",
      "----------------------------------- 0000876167-17-000007 -----------------------------------\n",
      "data_key_friendly_name  :Other Employees\n",
      "\n",
      "data_value  :1912.0\n",
      "\n",
      "reported_units  :ones\n",
      "\n",
      "text  :employees worldwide\n",
      "\n",
      "paragraph_text  :Employees   As of November 30, 2016, we had 1,912 employees worldwide, including 578 in sales and marketing, 269 in   customer support and services, 812 in product development and 253 in administration. On January 16, 2017, we   announced that we will reduce headcount by approximately 450 employees, totaling over 20% of our workforce\n",
      "\n",
      "----------------------------------- AVID -----------------------------------\n",
      "----------------------------------- 0000896841-17-000052 -----------------------------------\n",
      "data_key_friendly_name  :Other Employees\n",
      "\n",
      "data_value  :1591.0\n",
      "\n",
      "reported_units  :ones\n",
      "\n",
      "text  :worldwide workforce\n",
      "\n",
      "paragraph_text  :HISTORY AND EMPLOYEES   Avid was incorporated in Delaware in 1987. We are headquartered in Burlington, Massachusetts, with operations   in North America, South America, Europe, Middle East, Asia and Australia. At December 31, 2016, our worldwide   workforce consisted of 1,591 employees and 354 external contractors\n",
      "\n",
      "----------------------------------- LBY -----------------------------------\n",
      "----------------------------------- 0000902274-17-000034 -----------------------------------\n",
      "data_key_friendly_name  :Other Employees\n",
      "\n",
      "data_value  :6237.0\n",
      "\n",
      "reported_units  :ones\n",
      "\n",
      "text  :persons\n",
      "\n",
      "paragraph_text  :Employees   We employed 6,237 persons at December 31, 2016. Approximately 71 percent of our employees are employed   outside the U.S. The majority of our employees are paid hourly and covered by collective bargaining   agreements. The total number of employees under a collective bargaining agreement expiring within one year is   approximately 12 percent of Libbey's total workforce. Our collective bargaining agreements with unionized   employees expire on June 30, 2017 in the Netherlands; December 15, 2017 in Shreveport, Louisiana; and   September 30, 2019 in Toledo, Ohio. In Mexico collective bargaining agreements have no expiration, but wages   are reviewed annually and benefits every two years. In Portugal and China we have no written collective   bargaining agreement with our unionized employees, but there are consultations with the unions on various   matters. We believe that our relations with our employees are good\n",
      "\n",
      "----------------------------------- BWA -----------------------------------\n",
      "----------------------------------- 0000908255-17-000011 -----------------------------------\n",
      "data_key_friendly_name  :Other Employees\n",
      "\n",
      "data_value  :27000.0\n",
      "\n",
      "reported_units  :ones\n",
      "\n",
      "text  :salaried and hourly workforce\n",
      "\n",
      "paragraph_text  :For many of  its products,  the Company's  competitors include suppliers  in parts  of the  world that  enjoy   economic advantages such as lower labor costs, lower health  care costs, lower tax rates and, in some  cases,   export subsidies and/or raw materials subsidies. Also, see Item 1A, \"Risk Factors.\"   Workforce   As of December 31, 2016, the Company had a salaried and hourly workforce of approximately 27,000 (as compared   with approximately 30,000 at December 31, 2015), of which approximately 6,100 were in the U.S.  Approximately   17% of the Company's U.S. workforce is unionized. The workforces at certain international facilities are also   unionized. The Company believes the present relations with our workforce to be satisfactory\n",
      "\n",
      "----------------------------------- ROCK -----------------------------------\n",
      "----------------------------------- 0000912562-17-000008 -----------------------------------\n",
      "data_key_friendly_name  :Other Employees\n",
      "\n",
      "data_value  :2311.0\n",
      "\n",
      "reported_units  :ones\n",
      "\n",
      "text  :employees\n",
      "\n",
      "paragraph_text  :Employees   At December 31, 2016 and 2015, we employed 2,311 and 2,628 employees, respectively. We also employ a number   of temporary employees to address peaks in staffing requirements. Approximately 11% of our workforce was   represented by unions through various collective bargaining agreements (\"CBAs\") as of December 31, 2016\n",
      "\n",
      "----------------------------------- FWRD -----------------------------------\n",
      "----------------------------------- 0000912728-17-000036 -----------------------------------\n",
      "data_key_friendly_name  :Full-Time Employees\n",
      "\n",
      "data_value  :3689.0\n",
      "\n",
      "reported_units  :ones\n",
      "\n",
      "text  :full-time\n",
      "\n",
      "paragraph_text  :Employees and Equipment   As of December 31, 2016, we had 3,689 full-time  employees, 1,314 of whom were freight handlers. Also, as  of   that date, we had an additional 999 part-time employees, of whom the majority were freight handlers. None  of   our employees are covered by  a collective bargaining agreement. We  recognize that our workforce,  including   our freight  handlers, is  one  of our  most valuable  assets.  The recruitment,  training and  retention  of   qualified employees are essential to support our continued growth and to meet the service requirements of our   customers\n",
      "\n",
      "----------------------------------- FWRD -----------------------------------\n",
      "----------------------------------- 0000912728-17-000036 -----------------------------------\n",
      "data_key_friendly_name  :Part-Time Employees\n",
      "\n",
      "data_value  :999.0\n",
      "\n",
      "reported_units  :ones\n",
      "\n",
      "text  :part-time\n",
      "\n",
      "paragraph_text  :Employees and Equipment   As of December 31, 2016, we had 3,689 full-time  employees, 1,314 of whom were freight handlers. Also, as  of   that date, we had an additional 999 part-time employees, of whom the majority were freight handlers. None  of   our employees are covered by  a collective bargaining agreement. We  recognize that our workforce,  including   our freight  handlers, is  one  of our  most valuable  assets.  The recruitment,  training and  retention  of   qualified employees are essential to support our continued growth and to meet the service requirements of our   customers\n",
      "\n",
      "----------------------------------- CIEN -----------------------------------\n",
      "----------------------------------- 0000936395-16-000128 -----------------------------------\n",
      "data_key_friendly_name  :Other Employees\n",
      "\n",
      "data_value  :5555.0\n",
      "\n",
      "reported_units  :ones\n",
      "\n",
      "text  :employees\n",
      "\n",
      "paragraph_text  :Employees   As of October 31, 2016, we had a global workforce consisting of 5,555 employees. We have not experienced any   work stoppages, and we consider the relationships with our employees to be good. While we have been able to   recruit and retain key personnel with the capabilities required by our business and markets, competition for   highly skilled technical, engineering and other personnel with experience in our industry is intense. We   believe that our future success depends in critical part on our continued ability to recruit, motivate and   retain such qualified personnel\n",
      "\n",
      "----------------------------------- AMZN -----------------------------------\n",
      "----------------------------------- 0001018724-17-000011 -----------------------------------\n",
      "data_key_friendly_name  :Other Employees\n",
      "\n",
      "data_value  :341400.0\n",
      "\n",
      "reported_units  :ones\n",
      "\n",
      "text  :full-time and part-time employees\n",
      "\n",
      "paragraph_text  :Employees   We employed approximately 341,400 full-time and part-time employees as of December 31, 2016. However,   employment levels fluctuate due to seasonal factors affecting our business. Additionally, we utilize   independent contractors and temporary personnel to supplement our workforce. We have works councils,   statutory employee representation obligations, and union agreements in certain countries outside the United   States. We consider our employee relations to be good. Competition for qualified personnel in our industry   has historically been intense, particularly for software engineers, computer scientists, and other technical   staff\n",
      "\n",
      "----------------------------------- ATI -----------------------------------\n",
      "----------------------------------- 0001018963-17-000007 -----------------------------------\n",
      "data_key_friendly_name  :Full-Time Employees\n",
      "\n",
      "data_value  :8500.0\n",
      "\n",
      "reported_units  :ones\n",
      "\n",
      "text  :full-time employees\n",
      "\n",
      "paragraph_text  :Employees   We have approximately 8,500 full-time employees, of which approximately 15% are located outside the United   States. Approximately 40% of our workforce is covered by various collective bargaining agreements (CBAs),   predominantly with the United Steel, Paper and Forestry, Rubber, Manufacturing, Energy, Allied & Industrial   Service Workers International Union, AFL-CIO, CLC (USW). On March 4, 2016, ATI announced that it had reached   a four-year labor agreement with the USW                                                         8\n",
      "\n",
      "----------------------------------- SRT -----------------------------------\n",
      "----------------------------------- 0001031029-17-000008 -----------------------------------\n",
      "data_key_friendly_name  :Other Employees\n",
      "\n",
      "data_value  :13500.0\n",
      "\n",
      "reported_units  :ones\n",
      "\n",
      "text  :employees\n",
      "\n",
      "paragraph_text  :EMPLOYEES AND TRAINING   As of December 31, 2016, we employed approximately 13,500 employees. Approximately 5,000 were employed in the   United States and approximately 8,500 were employees in foreign countries. None of our employees were members   of a labor union or were covered by a collective bargaining agreement during 2016. We believe the overall   relations with our workforce are good\n",
      "\n",
      "----------------------------------- GIFI -----------------------------------\n",
      "----------------------------------- 0001031623-17-000008 -----------------------------------\n",
      "data_key_friendly_name  :Other Employees\n",
      "\n",
      "data_value  :1178.0\n",
      "\n",
      "reported_units  :ones\n",
      "\n",
      "text  :employees\n",
      "\n",
      "paragraph_text  :Employees   Our workforce  varies based  on the  level of  ongoing fabrication  activity at  any particular  time. As  of   December 31, 2016 and 2015,  we had approximately 1,178 and  1,255 employees, respectively. Additionally,  we   use contract labor when required to meet customer  demand. The number of contract laborers we used  increased   to 92 in 2016 as compared to 71 in 2015. In connection with our acquisition of LEEVAC, on January 1, 2016, we   increased our employee count by 380  employees. None of our employees  are employed pursuant to a  collective   bargaining agreement, and we believe our relationship with our employees is good. We have reduced our skilled   workforce during  2016 in  response to  decreases  in utilization  of our  facilities. Our  productivity  and   profitability depends  substantially on  our ability  to  attract and  retain skilled  construction  workers,   primarily welders, fitters  and equipment  operators. Reductions made  in our  labor force may  make it  more   difficult for us to increase our labor force  to desirable levels during periods of rapid expanding  customer   demand. Also, when demand  for these workers is  high, the supply becomes  increasingly limited resulting  in   increased market rates for  these workers. During periods  of high activity in  past years, we have  enhanced   several incentive programs and expanded our training facility in an effort to maintain our current  workforce   and attract new employees. See also \"We might be unable to employ a sufficient number of skilled workers.\" in   our Risk Factors listed in Item 1A of this Report\n",
      "\n",
      "----------------------------------- MTD -----------------------------------\n",
      "----------------------------------- 0001037646-17-000004 -----------------------------------\n",
      "data_key_friendly_name  :Other Employees\n",
      "\n",
      "data_value  :14200.0\n",
      "\n",
      "reported_units  :ones\n",
      "\n",
      "text  :workforce\n",
      "\n",
      "paragraph_text  :Table of Contents   Employees   Our total workforce was 14,200 throughout the world, including employees and 1,000 of temporary personnel, as   of December 31, 2016, and includes approximately 5,500 in Europe, 3,800 in North and South America, and 4,900   in Asia and other countries\n",
      "\n",
      "----------------------------------- SLG -----------------------------------\n",
      "----------------------------------- 0001040971-17-000005 -----------------------------------\n",
      "data_key_friendly_name  :Other Employees\n",
      "\n",
      "data_value  :1075.0\n",
      "\n",
      "reported_units  :ones\n",
      "\n",
      "text  :employed\n",
      "\n",
      "paragraph_text  :Employees   At December 31, 2016, we employed 1,075 employees, 210  of whom were managers and professionals, 767 of  whom   were hourly-paid employees involved in building operations and 98 of whom were clerical, data processing  and   other administrative employees.  There are  currently six collective  bargaining agreements  which cover  the   workforce that services substantially all of our properties\n",
      "\n",
      "----------------------------------- RSG -----------------------------------\n",
      "----------------------------------- 0001060391-17-000012 -----------------------------------\n",
      "data_key_friendly_name  :Full-Time Employees\n",
      "\n",
      "data_value  :33000.0\n",
      "\n",
      "reported_units  :ones\n",
      "\n",
      "text  :full-time\n",
      "\n",
      "paragraph_text  :People and Talent Agenda   The goal of our people and talent agenda pillar is to create an environment to attract and retain the best   talent. Our people continue to be the most critical component in successfully executing our strategy. We   strive to make Republic a desirable place to work for our approximately 33,000 full-time employees by   creating learning experiences, programs, compensation and benefits that attract, develop, train, engage,   motivate, reward and retain the best workforce. With a focus on safety, learning and talent development, and   diversity and inclusion, we aspire to be a company where the best people want to work and are engaged every   day\n",
      "\n",
      "----------------------------------- CVG -----------------------------------\n",
      "----------------------------------- 0001062047-17-000014 -----------------------------------\n",
      "data_key_friendly_name  :Other Employees\n",
      "\n",
      "data_value  :130000.0\n",
      "\n",
      "reported_units  :ones\n",
      "\n",
      "text  :employees\n",
      "\n",
      "paragraph_text  :EMPLOYEES   As of December 31, 2016, we employed approximately 130,000 employees across the globe and in our work-at-home   environment. Our clients benefit from our worldwide workforce located in the United States, the  Philippines,   Germany, the United Kingdom,  India, Canada, Tunisia,  Costa Rica, the  Dominican Republic, Colombia,  Egypt,   France, Ireland,  Italy,  Poland, Romania,  China,  Malaysia,  El Salvador,  Honduras,  Nicaragua,  Bulgaria,   Hungary, the Netherlands, Spain,  Sweden, Australia, Brazil, Indonesia,  Mauritius, Singapore, South  Africa,   and the United Arab Emirates\n",
      "\n",
      "----------------------------------- UPS -----------------------------------\n",
      "----------------------------------- 0001090727-17-000011 -----------------------------------\n",
      "data_key_friendly_name  :Other Employees\n",
      "\n",
      "data_value  :78000.0\n",
      "\n",
      "reported_units  :ones\n",
      "\n",
      "text  :management employees\n",
      "\n",
      "paragraph_text  :and 79,000 are located internationally. Our global workforce includes approximately 78,000 management   employees (38% of whom are part-time) and 356,000 hourly employees (47% of whom are part-time)\n",
      "\n",
      "----------------------------------- UPS -----------------------------------\n",
      "----------------------------------- 0001090727-17-000011 -----------------------------------\n",
      "data_key_friendly_name  :Other Employees\n",
      "\n",
      "data_value  :356000.0\n",
      "\n",
      "reported_units  :ones\n",
      "\n",
      "text  :hourly employees\n",
      "\n",
      "paragraph_text  :and 79,000 are located internationally. Our global workforce includes approximately 78,000 management   employees (38% of whom are part-time) and 356,000 hourly employees (47% of whom are part-time)\n",
      "\n",
      "----------------------------------- TDY -----------------------------------\n",
      "----------------------------------- 0001094285-17-000031 -----------------------------------\n",
      "data_key_friendly_name  :Other Employees\n",
      "\n",
      "data_value  :8970.0\n",
      "\n",
      "reported_units  :ones\n",
      "\n",
      "text  :employees\n",
      "\n",
      "paragraph_text  :Table of Contents   Employees   We consider our relations with our employees to be good. At January 1, 2017, our total workforce consisted of   approximately 8,970 employees, of which approximately 6,560 employees were located in the United States\n",
      "\n",
      "----------------------------------- WBK -----------------------------------\n",
      "----------------------------------- 0001104659-16-155905 -----------------------------------\n",
      "data_key_friendly_name  :Full-Time Employees\n",
      "\n",
      "data_value  :32190.0\n",
      "\n",
      "reported_units  :ones\n",
      "\n",
      "text  :Total core (permanent) full-time equivalent staff\n",
      "\n",
      "paragraph_text  :2016    2015    2014    2013    2012   Customer   Total customers (millions)2                                              13.4    13.1    12.8    12.2    11.8   Digitally active customers (millions)3                                    4.9     4.9     4.7     4.2     4.0   Branches                                                                1,309   1,429   1,534   1,544   1,538   Branches with 24/7 capability (%)4                                         27      22      15       -       -   ATMs                                                                    3,757   3,850   3,890   3,814   3,639   Smart ATMs (%)5                                                            37      31      24      17       -   Change in consumer complaints (%) - Australia                            (31)    (31)    (27)    (15)       -   Change in consumer complaints (%) - NZ6                                   (7)    (18)    (16)      19       -   Wealth customer penetration (%)7                                         19.1    19.7    20.0    18.7    18.4   Employees   Total core (permanent) full-time equivalent staff                      32,190  32,620  33,586  33,045  33,418   Employee voluntary attrition (%)8                                        10.6    10.6     9.8     9.8     9.9   New starter retention (%)9                                               85.5    85.3    88.0    86.7    84.8   High performer retention (%)10                                           94.8    95.0    95.8    95.7    95.9   Employee engagement index (%)11                                            69       -       -       -       -   Lost Time Injury Frequency Rate (LTIFR)12                                 0.8     0.8     1.1     1.5     1.9   Women as a percentage of the total workforce (%)                           58      59      59      60      61   Women in leadership (%)13                                                  48      46      44      42      40   Environment   Total Scope 1 and 2 emissions - Aust and NZ (tonnes CO2-e)14          154,339 173,437 175,855 180,862 183,937   Total Scope 3 emissions - Aust and NZ (tonnes CO2-e)15                 63,016  67,899  73,871  85,013  91,855   Paper consumption - Aust and NZ (tonnes)16                              3,304   4,857   5,334   5,762       -   Sustainable lending and investment   Proportion of electricity generation financing in renewables   including hydro - Aust and NZ (%)17                                        59      61      59      55      52   Electricity generation portfolio emissions intensity (tonnes   CO2-e/MWh)18                                                             0.38    0.38    0.41    0.44       -   Finance assessed under the Equator Principles - Group ($m)19              617   1,065     851     268   1,140   Responsible investment funds under management ($m)20                   18,723  15,017       -       -       -   Social impact   Community investment ($m)21, 22                                           148     149     217     131     133   Community investment as a percentage of pre-tax profits - Group (%)22    1.39    1.30    2.02    1.33    1.50   Community investment as a percentage of pre-tax operating profit   (cash earnings basis)22                                                  1.32    1.33    1.99    1.28    1.41   Financial education (participants)23, 24                               59,596  65,538  49,812  32,577  36,182   Supply chain   Top suppliers self-assessed - Australia (%)25                             100     100     100      98      94   Spend with indigenous Australian suppliers - Australia ($ million)26      1.6     1.2       -       -       -\n",
      "\n",
      "----------------------------------- VC -----------------------------------\n",
      "----------------------------------- 0001111335-17-000003 -----------------------------------\n",
      "data_key_friendly_name  :Other Employees\n",
      "\n",
      "data_value  :10000.0\n",
      "\n",
      "reported_units  :ones\n",
      "\n",
      "text  :persons\n",
      "\n",
      "paragraph_text  :The Company's Workforce and Employee Relations   The Company's workforce as of December 31, 2016 included approximately 10,000 persons, of which approximately   5,000 were salaried employees and 5,000 were hourly  workers. Many of the Company's employees are members  of   industrial trade unions  and confederations  within their respective  countries, including  Europe, Asia  and   South America.  Many of  these organizations  operate under  collectively bargained  contracts that  are  not   specific to any one employer.  The Company constantly works to  establish and maintain positive,  cooperative   relations with its unions and work representatives around the world and believes that its relationships  with   unionized employees are satisfactory\n",
      "\n",
      "----------------------------------- DNB -----------------------------------\n",
      "----------------------------------- 0001115222-17-000007 -----------------------------------\n",
      "data_key_friendly_name  :Other Employees\n",
      "\n",
      "data_value  :4800.0\n",
      "\n",
      "reported_units  :ones\n",
      "\n",
      "text  :employees\n",
      "\n",
      "paragraph_text  :Employees   As of December 31, 2016, we employed approximately 4,800 employees worldwide, of whom approximately 3,400   were in our Americas segment and Corporate, and approximately 1,400 were in our Non-Americas segments. Our   workforce also engages third-party consultants as an ongoing part of our business where appropriate. There   are no unions in our U.S. or Canada operations, and works councils and trade unions represent a small portion   of our employees outside of the U.S. and Canada\n",
      "\n",
      "----------------------------------- NTGR -----------------------------------\n",
      "----------------------------------- 0001122904-17-000073 -----------------------------------\n",
      "data_key_friendly_name  :Full-Time Employees\n",
      "\n",
      "data_value  :945.0\n",
      "\n",
      "reported_units  :ones\n",
      "\n",
      "text  :full-time\n",
      "\n",
      "paragraph_text  :Employees   As of December 31, 2016, we had 945 full-time employees, with 318 in sales, marketing and technical  support,   331  in  research  and  development,  135  in  operations,  and  161  in  finance,  information  systems  and   administration. We also utilize a number of temporary staff to supplement our workforce. We have never had  a   work stoppage among our employees and no personnel are represented under collective bargaining agreements\n",
      "\n",
      "----------------------------------- OSTK -----------------------------------\n",
      "----------------------------------- 0001130713-17-000013 -----------------------------------\n",
      "data_key_friendly_name  :Full-Time Employees\n",
      "\n",
      "data_value  :1800.0\n",
      "\n",
      "reported_units  :ones\n",
      "\n",
      "text  :full-time employees\n",
      "\n",
      "paragraph_text  :At December 31, 2016, we had approximately 1,800 full-time employees. We seasonally augment our workforce   with temporary employees during our fourth quarter to handle increased workload in both our warehouse and   customer service operations. We have never had a work stoppage, and none of our employees are represented by   a labor union. We consider our employee relationships to be good. Competition for qualified personnel in our   industry is intense, particularly for software engineers and other technical staff\n",
      "\n",
      "----------------------------------- NVAX -----------------------------------\n",
      "----------------------------------- 0001144204-17-011334 -----------------------------------\n",
      "data_key_friendly_name  :Full-Time Employees\n",
      "\n",
      "data_value  :355.0\n",
      "\n",
      "reported_units  :ones\n",
      "\n",
      "text  :full-time\n",
      "\n",
      "paragraph_text  :As of February 23, 2017, we have  355 full-time employees, of whom 65 hold  M.D. or Ph.D. degrees and 107  of   whom hold other advanced degrees. Of our total workforce, 304 are engaged primarily in research,  development   and manufacturing activities and  51 are engaged  primarily in executive,  business development, finance  and   accounting, legal and administrative functions. None of our U.S. employees are represented by labor unions or   covered by collective bargaining agreements; 33 of our 34 Swedish employees are covered by typical collective   bargaining agreements. We consider our relations with our employees to be good\n",
      "\n",
      "----------------------------------- ANIP -----------------------------------\n",
      "----------------------------------- 0001144204-17-012507 -----------------------------------\n",
      "data_key_friendly_name  :Full-Time Employees\n",
      "\n",
      "data_value  :143.0\n",
      "\n",
      "reported_units  :ones\n",
      "\n",
      "text  :full-time\n",
      "\n",
      "paragraph_text  :As of December 31, 2016 our workforce included 143 full-time employees\n",
      "\n",
      "----------------------------------- AAP -----------------------------------\n",
      "----------------------------------- 0001158449-17-000034 -----------------------------------\n",
      "data_key_friendly_name  :Full-Time Employees\n",
      "\n",
      "data_value  :41000.0\n",
      "\n",
      "reported_units  :ones\n",
      "\n",
      "text  :full-time Team\n",
      "\n",
      "paragraph_text  :Team Members   As of February 23, 2017, we employed approximately 41,000 full-time Team Members and approximately 33,000   part-time Team Members. Our workforce consisted of 87% of our Team Members employed in store-level   operations, 9% employed in distribution and 4% employed in our corporate offices. As of February 23, 2017,   less than 1% of our Team Members were represented by labor unions. We have never experienced any labor   disruption. We believe that our Team Member relations are solid\n",
      "\n",
      "----------------------------------- AAP -----------------------------------\n",
      "----------------------------------- 0001158449-17-000034 -----------------------------------\n",
      "data_key_friendly_name  :Part-Time Employees\n",
      "\n",
      "data_value  :33000.0\n",
      "\n",
      "reported_units  :ones\n",
      "\n",
      "text  :part-time Team Members\n",
      "\n",
      "paragraph_text  :Team Members   As of February 23, 2017, we employed approximately 41,000 full-time Team Members and approximately 33,000   part-time Team Members. Our workforce consisted of 87% of our Team Members employed in store-level   operations, 9% employed in distribution and 4% employed in our corporate offices. As of February 23, 2017,   less than 1% of our Team Members were represented by labor unions. We have never experienced any labor   disruption. We believe that our Team Member relations are solid\n",
      "\n",
      "----------------------------------- STRI -----------------------------------\n",
      "----------------------------------- 0001171843-17-001394 -----------------------------------\n",
      "data_key_friendly_name  :Other Employees\n",
      "\n",
      "data_value  :135.0\n",
      "\n",
      "reported_units  :ones\n",
      "\n",
      "text  :employed\n",
      "\n",
      "paragraph_text  :As of December 31, 2016, we employed approximately 135 people on a full or part-time basis. We maintain a   non-unionized workforce, with the exception of some employees in our manufacturing facility in Spain, where   unions are statutory. We have not experienced any significant work stoppages during the past five years\n",
      "\n",
      "----------------------------------- RGR -----------------------------------\n",
      "----------------------------------- 0001174947-17-000224 -----------------------------------\n",
      "data_key_friendly_name  :Full-Time Employees\n",
      "\n",
      "data_value  :2110.0\n",
      "\n",
      "reported_units  :ones\n",
      "\n",
      "text  :full-time\n",
      "\n",
      "paragraph_text  :As of February 1, 2017,  the Company employed approximately 2,110  full-time employees, approximately 24%  of   whom had at least ten years of service with  the Company. The Company uses temporary employees to  supplement   its workforce. As of February 1,  2017, there were approximately 320  temporary employees in addition to  the   full-time employees\n",
      "\n",
      "----------------------------------- RGR -----------------------------------\n",
      "----------------------------------- 0001174947-17-000224 -----------------------------------\n",
      "data_key_friendly_name  :Other Employees\n",
      "\n",
      "data_value  :320.0\n",
      "\n",
      "reported_units  :ones\n",
      "\n",
      "text  :temporary employees\n",
      "\n",
      "paragraph_text  :As of February 1, 2017,  the Company employed approximately 2,110  full-time employees, approximately 24%  of   whom had at least ten years of service with  the Company. The Company uses temporary employees to  supplement   its workforce. As of February 1,  2017, there were approximately 320  temporary employees in addition to  the   full-time employees\n",
      "\n",
      "----------------------------------- CYBR -----------------------------------\n",
      "----------------------------------- 0001178913-17-000810 -----------------------------------\n",
      "data_key_friendly_name  :Other Employees\n",
      "\n",
      "data_value  :823.0\n",
      "\n",
      "reported_units  :ones\n",
      "\n",
      "text  :employees\n",
      "\n",
      "paragraph_text  :D. Employees   As of December 31, 2016, we had 823 employees and subcontractors with 324 located in Israel, 286 in the   United States, 61 in the United Kingdom and 152 across 29 other countries. The following table shows the   breakdown of our global workforce of employees and subcontractors by category of activity as of the dates   indicated:\n",
      "\n",
      "----------------------------------- RDWR -----------------------------------\n",
      "----------------------------------- 0001178913-17-001221 -----------------------------------\n",
      "data_key_friendly_name  :Other Employees\n",
      "\n",
      "data_value  :979.0\n",
      "\n",
      "reported_units  :ones\n",
      "\n",
      "text  :Total workforce\n",
      "\n",
      "paragraph_text  :As at December 31,                                                                                 2016       2015       2014   Approximate numbers of employees and subcontractors by geographic location:   Israel                                                                         451 (**)   465 (**)   408 (**)   United States                                                                  209        200        168   Other                                                                          319 (*)    331 (*)    319 (*)   Total workforce                                                                979        996        895   Approximate numbers of employees and subcontractors by category of activity:   Research and development                                                       389 (*)    422 (*)    376 (*)   Sales, technical support, business development and marketing                   473        455        406   Management, operations and administration                                      117        119        113   Total workforce                                                                979 (**)   996 (**)   895 (**)\n",
      "\n",
      "----------------------------------- MZOR -----------------------------------\n",
      "----------------------------------- 0001178913-17-001254 -----------------------------------\n",
      "data_key_friendly_name  :Other Employees\n",
      "\n",
      "data_value  :204.0\n",
      "\n",
      "reported_units  :ones\n",
      "\n",
      "text  :Total workforce\n",
      "\n",
      "paragraph_text  :As of December 31,                                                 2016   2015   2014   Numbers of employees by category of activity   Management and administrative                  28     24     21   Research and development                       37     27     26   Operations                                     21     17     16   Sales and marketing                            118    86     79   Total workforce                                204    154    142   Numbers of employees by geographic location   Israel                                         91     74     67   United States                                  112    79     74   Other                                          1      1      1   Total workforce                                204    154    142\n",
      "\n",
      "----------------------------------- ISRL -----------------------------------\n",
      "----------------------------------- 0001185185-17-000562 -----------------------------------\n",
      "data_key_friendly_name  :Full-Time Employees\n",
      "\n",
      "data_value  :170.0\n",
      "\n",
      "reported_units  :ones\n",
      "\n",
      "text  :full-time employees\n",
      "\n",
      "paragraph_text  :Employees   As of December 31,  2016, we had  170 full-time employees. We  hire independent contractors  on an as  needed   basis. We have no collective bargaining agreements with  our employees. At the beginning of 2016, we  reduced   our workforce as part of an overall plan to reduce costs and better align our workforce with the needs of our   business and current oil  and natural gas commodity  prices. We believe that  our employee relationships  are   satisfactory\n",
      "\n",
      "----------------------------------- NSIT -----------------------------------\n",
      "----------------------------------- 0001193125-17-048059 -----------------------------------\n",
      "data_key_friendly_name  :Other Employees\n",
      "\n",
      "data_value  :5930.0\n",
      "\n",
      "reported_units  :ones\n",
      "\n",
      "text  :teammates\n",
      "\n",
      "paragraph_text  :As of December 31, 2016, we employed 5,930 teammates, of whom 2,412 were engaged in sales related activities,   1,806 were engaged in management, support services and administration activities, 1,582 were skilled,   certified consulting and service delivery professionals and 130 were engaged in distribution activities. Our   teammates in the United States are not represented by a labor union, and our workforces in certain foreign   countries, such as Germany, have worker representative committees or work councils with which we maintain   strong relationships. We believe our relations with our teammates are good, and we have never experienced a   labor related work stoppage\n",
      "\n",
      "----------------------------------- MDLZ -----------------------------------\n",
      "----------------------------------- 0001193125-17-055858 -----------------------------------\n",
      "data_key_friendly_name  :Other Employees\n",
      "\n",
      "data_value  :90000.0\n",
      "\n",
      "reported_units  :ones\n",
      "\n",
      "text  :employed\n",
      "\n",
      "paragraph_text  :We employed through our consolidated subsidiaries approximately 90,000 people worldwide at December 31, 2016   and approximately 99,000 at December 31, 2015. Employees represented by labor unions or workers' councils   represent approximately 65% of our 78,000 employees outside the United States and approximately 28% of our   12,000 U.S. employees. Our business units are subject to various local, national and multi-national laws and   regulations relating to their relationships with their employees. In accordance with European Union   requirements, we also have established a European Workers Council composed of management and elected members   of our workforce. We or our subsidiaries are a party to numerous collective bargaining agreements and we work   to renegotiate these collective bargaining agreements on satisfactory terms when they expire\n",
      "\n",
      "----------------------------------- HSTM -----------------------------------\n",
      "----------------------------------- 0001193125-17-059135 -----------------------------------\n",
      "data_key_friendly_name  :Full-Time Employees\n",
      "\n",
      "data_value  :1010.0\n",
      "\n",
      "reported_units  :ones\n",
      "\n",
      "text  :full-time\n",
      "\n",
      "paragraph_text  :Headquartered in Nashville, Tennessee, the Company was incorporated in 1990 and began providing its   SaaS-based workforce solutions in 1999, its survey and research solutions in 2005, and its provider solutions   in 2012. Including additional offices in Laurel, Maryland; Nashville, Tennessee; Jericho, New York;   Brentwood, Tennessee; San Diego, California; Chicago, Illinois; Boulder, Colorado; and Pensacola, Florida,   HealthStream had 1,010 full-time and 110 part-time employees as of December 31, 2016. Our business has   evolved from an initial focus on technology-based training to a company providing workforce development,   patient experience, and provider solutions to the nation's healthcare providers\n",
      "\n",
      "----------------------------------- HSTM -----------------------------------\n",
      "----------------------------------- 0001193125-17-059135 -----------------------------------\n",
      "data_key_friendly_name  :Part-Time Employees\n",
      "\n",
      "data_value  :110.0\n",
      "\n",
      "reported_units  :ones\n",
      "\n",
      "text  :part-time\n",
      "\n",
      "paragraph_text  :Headquartered in Nashville, Tennessee, the Company was incorporated in 1990 and began providing its   SaaS-based workforce solutions in 1999, its survey and research solutions in 2005, and its provider solutions   in 2012. Including additional offices in Laurel, Maryland; Nashville, Tennessee; Jericho, New York;   Brentwood, Tennessee; San Diego, California; Chicago, Illinois; Boulder, Colorado; and Pensacola, Florida,   HealthStream had 1,010 full-time and 110 part-time employees as of December 31, 2016. Our business has   evolved from an initial focus on technology-based training to a company providing workforce development,   patient experience, and provider solutions to the nation's healthcare providers\n",
      "\n",
      "----------------------------------- CYTK -----------------------------------\n",
      "----------------------------------- 0001193125-17-071866 -----------------------------------\n",
      "data_key_friendly_name  :Full-Time Employees\n",
      "\n",
      "data_value  :127.0\n",
      "\n",
      "reported_units  :ones\n",
      "\n",
      "text  :full-time\n",
      "\n",
      "paragraph_text  :As of December 31, 2016, our  workforce consisted of 127 full-time employees,  32 of whom hold Ph.D. or  M.D\n",
      "\n",
      "----------------------------------- MLCO -----------------------------------\n",
      "----------------------------------- 0001193125-17-119393 -----------------------------------\n",
      "data_key_friendly_name  :Other Employees\n",
      "\n",
      "data_value  :20248.0\n",
      "\n",
      "reported_units  :ones\n",
      "\n",
      "text  :employees\n",
      "\n",
      "paragraph_text  :We had 20,248, 21,414 and 18,367 employees as of December 31, 2016, 2015 and 2014, respectively. The   following table sets forth the number of employees categorized by the areas of operations and as a percentage   of our workforce as of December 31, 2016, 2015 and 2014. Staff remuneration packages are determined taking   into account market conditions and the performance of the individuals concerned, and are subject to review   from time to time\n",
      "\n",
      "----------------------------------- SFIX -----------------------------------\n",
      "----------------------------------- 0001193125-17-333497 -----------------------------------\n",
      "data_key_friendly_name  :Other Employees\n",
      "\n",
      "data_value  :3700.0\n",
      "\n",
      "reported_units  :ones\n",
      "\n",
      "text  :employee\n",
      "\n",
      "paragraph_text  :To effectively manage our growth, we must continue to implement our operational plans and strategies, improve   and expand our infrastructure of people and information systems and expand, train and manage our employee   base. Since our inception, we have rapidly increased our employee headcount to support the growth of our   business. The number of our employees increased from over 3,700 as of January 30, 2016 to over 5,800 as of   July 29, 2017. We expect to add a significant number of employees during 2018. We have expanded across all   areas of our business. To support continued growth, we must effectively integrate, develop and motivate a   large number of new employees while maintaining our corporate culture. We face significant competition for   personnel, particularly in the San Francisco Bay Area where our headquarters are located. To attract top   talent, we have had to offer, and believe we will need to continue to offer, competitive compensation and   benefits packages before we can validate the productivity of those employees. We may also need to increase   our employee compensation levels in response to competition. The risks associated with a rapidly growing   workforce will be particularly acute if we choose to expand into new merchandise categories and   internationally. Additionally, we may not be able to hire new employees quickly enough to meet our needs. If   we fail to effectively manage our hiring needs or successfully integrate new hires, our efficiency, ability   to meet forecasts and our employee morale, productivity and retention could suffer, which may have an adverse   effect on our business, financial condition and operating results\n",
      "\n",
      "----------------------------------- TPX -----------------------------------\n",
      "----------------------------------- 0001206264-17-000021 -----------------------------------\n",
      "data_key_friendly_name  :Other Employees\n",
      "\n",
      "data_value  :7300.0\n",
      "\n",
      "reported_units  :ones\n",
      "\n",
      "text  :employees\n",
      "\n",
      "paragraph_text  :Employees   As of December 31, 2016, we had approximately 7,300 Tempur Sealy employees, approximately 4,900 of which  are   located in North  America and  2,400 in  the rest  of the  world. Approximately  34.2% of  our employees  are   represented by various labor unions with separate  collective bargaining agreements. Due to the large  number   of collective  bargaining  agreements,  we are  periodically  in  negotiations with  certain  of  the  unions   representing our employees.  We consider our  overall relations with  our workforce to  be satisfactory.  Our   current collective bargaining agreements, which are typically one to three years in length, expire at various   times beginning  in  2017  through  2019. As  of  December  31,  2016, our  North  America  segment  employed   approximately 600  individuals  covered under  collective  bargaining agreements  expiring  in 2017  and  our   International segment employed approximately 1,000 individuals covered under collective bargaining agreements   expiring in 2017\n",
      "\n",
      "----------------------------------- JRJC -----------------------------------\n",
      "----------------------------------- 0001213900-17-004384 -----------------------------------\n",
      "data_key_friendly_name  :Other Employees\n",
      "\n",
      "data_value  :1900.0\n",
      "\n",
      "reported_units  :ones\n",
      "\n",
      "text  :employees\n",
      "\n",
      "paragraph_text  :As of December 31,  2014, 2015 and  2016, we employed  approximately 1,500, 1,900  and 1900 employees.  China   enacted a new Labor Contract Law, which became effective  on January 1, 2008. We have updated our  employment   contracts and employee handbook and are in compliance with the new law. We work with the employees to  insure   that the employees obtain the  full benefit of the  new Labor Contract Law  and its implementation rules.  We   consider our relations with our employees to be generally good. However, as our operations and employee  base   further expand, we cannot assure you that we will always  be able to maintain good relations with all of  our   employees. See \"Item 3.D. Key Information - Risk Factors  - Risks relating to doing business in the  People's   Republic of China - PRC's new labor law restricts our ability to reduce our workforce in the PRC in the event   of an economic downturn and may increase our labor costs.\"\n",
      "\n",
      "----------------------------------- CMP -----------------------------------\n",
      "----------------------------------- 0001227654-17-000032 -----------------------------------\n",
      "data_key_friendly_name  :Other Employees\n",
      "\n",
      "data_value  :3103.0\n",
      "\n",
      "reported_units  :ones\n",
      "\n",
      "text  :employees\n",
      "\n",
      "paragraph_text  :As of December 31, 2016, we had 3,103 employees, of which 1,155 are located in Brazil, 995 are located in the   U.S., 784 are located in  Canada and 169 are located  in the U.K. Approximately 40%  of our workforce in  the   U.S., Canada  and the  U.K.  and approximately  25% of  our  global workforce  is represented  by  collective   bargaining agreements. Of our 13 collective bargaining agreements, four will expire in 2017, four will expire   in 2018 and five will expire in 2019. Trade union membership is common in Europe and required in Brazil where   approximately 5% and 35% of our workforce is  located, respectively. We consider our overall labor  relations   to be good\n",
      "\n",
      "----------------------------------- ENS -----------------------------------\n",
      "----------------------------------- 0001289308-16-000060 -----------------------------------\n",
      "data_key_friendly_name  :Other Employees\n",
      "\n",
      "data_value  :9400.0\n",
      "\n",
      "reported_units  :ones\n",
      "\n",
      "text  :employees\n",
      "\n",
      "paragraph_text  :Employees   At March 31, 2016, we had approximately 9,400 employees. Of these employees, approximately 29% were covered   by collective bargaining agreements. Employees covered by collective bargaining agreements that did not   exceed twelve months were approximately 7% of the total workforce. The average term of these agreements is   two years, with the longest term being three years. We consider our employee relations to be good. We did not   experience any significant labor unrest or disruption of production during fiscal 2016\n",
      "\n",
      "----------------------------------- MWA -----------------------------------\n",
      "----------------------------------- 0001350593-16-000118 -----------------------------------\n",
      "data_key_friendly_name  :Other Employees\n",
      "\n",
      "data_value  :3900.0\n",
      "\n",
      "reported_units  :ones\n",
      "\n",
      "text  :people\n",
      "\n",
      "paragraph_text  :Employees   At September 30, 2016, we employed approximately 3,900 people, of whom 93% work in the United States. At   September 30, 2016, 64% of our hourly workforce was represented by collective bargaining agreements\n",
      "\n",
      "----------------------------------- WBC -----------------------------------\n",
      "----------------------------------- 0001390844-17-000004 -----------------------------------\n",
      "data_key_friendly_name  :Other Employees\n",
      "\n",
      "data_value  :12860.0\n",
      "\n",
      "reported_units  :ones\n",
      "\n",
      "text  :employees\n",
      "\n",
      "paragraph_text  :Employees   We have 12,860 employees. Approximately 46% of our  employees are salaried and 54% are hourly.  Approximately   49% of our workforce  is in Europe, 44%  is in Asia, and  the remaining 7% is  in the Americas. As  discussed   above in \"Manufacturing and Operations\", in 2015, we announced restructuring proposals to cease manufacturing   at two of our production facilities,  which would result in a  total reduction in workforce of  approximately   320 employees\n",
      "\n",
      "----------------------------------- PM -----------------------------------\n",
      "----------------------------------- 0001413329-17-000014 -----------------------------------\n",
      "data_key_friendly_name  :Other Employees\n",
      "\n",
      "data_value  :79500.0\n",
      "\n",
      "reported_units  :ones\n",
      "\n",
      "text  :employed\n",
      "\n",
      "paragraph_text  :Employees   At December 31, 2016, we employed approximately 79,500 people worldwide, including employees under  temporary   contracts and hourly paid  part-time staff. Our businesses  are subject to a  number of laws and  regulations   relating to our relationship with  our employees. Generally, these laws  and regulations are specific to  the   location of each business. In addition, in accordance with European Union requirements, we have established a   European Works Council  composed of  management and elected  members of  our workforce. We  believe that  our   relations with our employees and their representative organizations are excellent\n",
      "\n",
      "----------------------------------- FDS -----------------------------------\n",
      "----------------------------------- 0001437749-16-040606 -----------------------------------\n",
      "data_key_friendly_name  :Other Employees\n",
      "\n",
      "data_value  :8375.0\n",
      "\n",
      "reported_units  :ones\n",
      "\n",
      "text  :employee\n",
      "\n",
      "paragraph_text  :As of August 31, 2016, employee headcount was 8,375 up 13.8% from a year ago. Excluding the acquired Portware   workforce and employees of the divested Market Metrics business, headcount increased 13.4% from a year ago\n",
      "\n",
      "----------------------------------- LFUS -----------------------------------\n",
      "----------------------------------- 0001437749-17-003344 -----------------------------------\n",
      "data_key_friendly_name  :Other Employees\n",
      "\n",
      "data_value  :10300.0\n",
      "\n",
      "reported_units  :ones\n",
      "\n",
      "text  :employees worldwide\n",
      "\n",
      "paragraph_text  :As of December 31, 2016, the company  employed approximately 10,300 employees worldwide. Approximately  1,900   employees in Mexico are covered by collective bargaining  agreements. In Mexico the company has two  separate   collective bargaining agreements, one for  1,200 employees in Piedras Negras,  expiring January 31, 2018  and   the second for 720 employees in Matamoros, expiring January 1, 2018. Approximately 18% of the company's total   workforce was employed under collective bargaining agreements at December 31, 2016. Overall, the company  has   historically maintained satisfactory employee relations and considers employee relations to be good\n",
      "\n",
      "----------------------------------- SNMX -----------------------------------\n",
      "----------------------------------- 0001437749-17-003670 -----------------------------------\n",
      "data_key_friendly_name  :Full-Time Employees\n",
      "\n",
      "data_value  :59.0\n",
      "\n",
      "reported_units  :ones\n",
      "\n",
      "text  :full-time\n",
      "\n",
      "paragraph_text  :As of December 31, 2016, we had 59 full-time employees, including 13 with Ph.D. degrees. Of our full-time   workforce, 38 employees are engaged in research and development and 21 are engaged in sales, marketing,   intellectual property management, finance and administration. We also retain outside consultants. None of our   employees are covered by collective bargaining arrangements, and our management considers its relationships   with our employees to be good\n",
      "\n",
      "----------------------------------- FF -----------------------------------\n",
      "----------------------------------- 0001437749-17-004710 -----------------------------------\n",
      "data_key_friendly_name  :Full-Time Employees\n",
      "\n",
      "data_value  :500.0\n",
      "\n",
      "reported_units  :ones\n",
      "\n",
      "text  :employees\n",
      "\n",
      "paragraph_text  :Our Batesville workforce comprises approximately 500 full-time employees, and includes degreed professionals   including chemists (some with PhDs) and engineers (including licensed professional electrical, mechanical,   and chemical engineers). Operations personnel have received extensive training and are highly skilled\n",
      "\n",
      "----------------------------------- SYPR -----------------------------------\n",
      "----------------------------------- 0001437749-17-005382 -----------------------------------\n",
      "data_key_friendly_name  :Other Employees\n",
      "\n",
      "data_value  :604.0\n",
      "\n",
      "reported_units  :ones\n",
      "\n",
      "text  :employees\n",
      "\n",
      "paragraph_text  :As of December 31,  2016, we had a  total of 604 employees,  of which 478 were  engaged in manufacturing  and   providing our technical services, 11 were engaged in sales and marketing, 41 were engaged in engineering  and   74 were engaged in administration. Approximately 335  of our employees were covered by collective  bargaining   agreements with various unions that expire on various dates through 2017. Excluding certain Mexico  employees   covered under an annually ratified agreement, collective bargaining agreements covering 139 employees  expire   within the next 12 months. In response to the  near term reduction of significant business in 2015 and  2016,   we have engaged in layoffs during  the last two years, and our  ability to maintain our workforce depends  on   our ability to attract and retain new and existing customers. Although we believe overall that relations with   our labor unions are positive, there can be no assurance that present and future issues with our unions  will   be resolved favorably, that negotiations will be successful  or that we will not experience a work  stoppage,   which could adversely affect our consolidated results of operations\n",
      "\n",
      "----------------------------------- OFLX -----------------------------------\n",
      "----------------------------------- 0001493152-17-002370 -----------------------------------\n",
      "data_key_friendly_name  :Other Employees\n",
      "\n",
      "data_value  :144.0\n",
      "\n",
      "reported_units  :ones\n",
      "\n",
      "text  :employees\n",
      "\n",
      "paragraph_text  :As of  December  31,  2016, the  Company  had  144 employees.  Most  of  our employees  are  located  in  our   manufacturing facilities in Exton, Pennsylvania, which  contain our factory personnel, engineering,  finance,   human resources and most of our sales staff. Our factory workforce in Exton, Pennsylvania, is not represented   by a  collective bargaining  agent. We  also  maintain an  office in  Middletown, Connecticut  where  certain   management, sales  and administrative  personnel reside.  A number  of individual  sales personnel  are  also   scattered across the  United States. We  also maintain a  manufacturing facility in  Banbury, England,  which   contains employees  of similar  functions to  those in  the U.S.,  but on  a much  smaller scale.  The  sales   personnel in  England handle  all sales  and service  for our  products in  Europe, most  notably the  United   Kingdom, and the majority of our transactions with other international territories\n",
      "\n",
      "----------------------------------- HII -----------------------------------\n",
      "----------------------------------- 0001501585-17-000005 -----------------------------------\n",
      "data_key_friendly_name  :Other Employees\n",
      "\n",
      "data_value  :37000.0\n",
      "\n",
      "reported_units  :ones\n",
      "\n",
      "text  :employees\n",
      "\n",
      "paragraph_text  :Employees   We have approximately 37,000 employees. We are the largest industrial employer in Virginia and the largest   private employer in Mississippi. We employ individuals specializing in 19 crafts and trades, with   approximately 5,000 engineers and designers and approximately 2,500 employees with advanced degrees. Our   workforce contains many third-, fourth-, and fifth-generation employees, and approximately 1,000 employees   have 40 or more years of continuous service. Employees in our shipbuilding divisions with more than 40 years   of service achieve the honor of \"Master Shipbuilder.\" As of December 31, 2016, there were 911 Master   Shipbuilders at Newport News and 298 at Ingalls. We employ more than 5,500 veterans across the enterprise\n",
      "\n",
      "----------------------------------- APTV -----------------------------------\n",
      "----------------------------------- 0001521332-17-000013 -----------------------------------\n",
      "data_key_friendly_name  :Other Employees\n",
      "\n",
      "data_value  :145000.0\n",
      "\n",
      "reported_units  :ones\n",
      "\n",
      "text  :employed\n",
      "\n",
      "paragraph_text  :Employees   As of December 31, 2016, we employed approximately 145,000 people; 28,000 salaried employees and 117,000   hourly employees. In addition, we maintain an alternative workforce of 21,000 contract and temporary workers\n",
      "\n",
      "----------------------------------- ERA -----------------------------------\n",
      "----------------------------------- 0001525221-17-000004 -----------------------------------\n",
      "data_key_friendly_name  :Other Employees\n",
      "\n",
      "data_value  :846.0\n",
      "\n",
      "reported_units  :ones\n",
      "\n",
      "text  :employed\n",
      "\n",
      "paragraph_text  :Employees   As of December 31, 2016, we employed 846 individuals, including 226 pilots and 225 mechanics. We consider our   relations with our employees to be good. Certain of  our employees in Brazil (approximately 30% of our  total   workforce) are covered by union or other collective bargaining agreements. If we are involved in any disputes   over the terms  of these collective  bargaining agreements and  are unable to  negotiate acceptable  contract   terms with the  unions that represent  our employees,  it could result  in strikes, work  stoppages or  other   slowdowns, higher labor costs  or other conditions  that could adversely affect  our financial condition  and   results of operations\n",
      "\n",
      "----------------------------------- SSTK -----------------------------------\n",
      "----------------------------------- 0001549346-17-000007 -----------------------------------\n",
      "data_key_friendly_name  :Full-Time Employees\n",
      "\n",
      "data_value  :858.0\n",
      "\n",
      "reported_units  :ones\n",
      "\n",
      "text  :full-time\n",
      "\n",
      "paragraph_text  :Table of Contents   Employees   As of December 31, 2016, our global workforce included 858 full-time employees. None of our employees in the   United States are covered by collective bargaining arrangements. In several foreign jurisdictions, including   Germany, Canada and France, our employees may be subject to national collective bargaining agreements that   set minimum salaries, benefits, working conditions and/or termination requirements. We consider our employee   relations to be satisfactory\n",
      "\n",
      "----------------------------------- ATNI -----------------------------------\n",
      "----------------------------------- 0001558370-17-001255 -----------------------------------\n",
      "data_key_friendly_name  :Other Employees\n",
      "\n",
      "data_value  :1800.0\n",
      "\n",
      "reported_units  :ones\n",
      "\n",
      "text  :employees\n",
      "\n",
      "paragraph_text  :As of December 31, 2016, we had approximately 1,800 employees, of whom approximately 800 were employed in the   United States (including in the U.S. Virgin Islands). At the holding company level, we employ our executive   management team and staff. Approximately half of our Guyana and U.S. Virgin Island full-time work forces are   represented by unions. In addition, approximately 20% of our Bermuda fulltime workforce is also represented   by unions. We believe we have good relations with our employees\n",
      "\n",
      "----------------------------------- RIG -----------------------------------\n",
      "----------------------------------- 0001558370-17-001372 -----------------------------------\n",
      "data_key_friendly_name  :Other Employees\n",
      "\n",
      "data_value  :5400.0\n",
      "\n",
      "reported_units  :ones\n",
      "\n",
      "text  :employees\n",
      "\n",
      "paragraph_text  :We require  highly skilled  personnel  to operate  our drilling  units.  Consequently, we  conduct  extensive   personnel recruiting,  training  and safety  programs.  At December  31,  2016, we  had  approximately  5,400   employees, including approximately  400 persons engaged  through contract labor  providers. Approximately  28   percent of our total workforce, working primarily in Angola, Brazil, Norway and the U.K. are represented  by,   and some of our contracted labor work under, collective bargaining agreements, substantially all of which are   subject to annual salary  negotiation. These negotiations  could result in  higher personnel expenses,  other   increased costs or  increased operational  restrictions, as  the outcome of  such negotiations  apply to  all   offshore employees not just the union members. Additionally, failure to reach agreement on certain key issues   may result in strikes, lockouts or other work stoppages that may materially impact our operations\n",
      "\n",
      "----------------------------------- NLST -----------------------------------\n",
      "----------------------------------- 0001558370-17-002349 -----------------------------------\n",
      "data_key_friendly_name  :Full-Time Employees\n",
      "\n",
      "data_value  :78.0\n",
      "\n",
      "reported_units  :ones\n",
      "\n",
      "text  :full-time\n",
      "\n",
      "paragraph_text  :As of December 31, 2016, we had approximately 95 employees (including 78 full-time employees and 17 temporary   employees). Of these employees, 38 were located in the United States and 40 were located in the PRC and the   Republic of Korea. We had 52 employees in operations, 25 employees in research and development, 11 employees   in sales and marketing, and 7 employees engaged in other administrative functions. In addition to our   employees, a significant portion of our workforce consists of contract personnel. We are not party to any   collective bargaining agreements with any of our employees. We have never experienced a work stoppage, and we   believe our employee relations are good\n",
      "\n",
      "----------------------------------- NLST -----------------------------------\n",
      "----------------------------------- 0001558370-17-002349 -----------------------------------\n",
      "data_key_friendly_name  :Other Employees\n",
      "\n",
      "data_value  :17.0\n",
      "\n",
      "reported_units  :ones\n",
      "\n",
      "text  :temporary\n",
      "\n",
      "paragraph_text  :As of December 31, 2016, we had approximately 95 employees (including 78 full-time employees and 17 temporary   employees). Of these employees, 38 were located in the United States and 40 were located in the PRC and the   Republic of Korea. We had 52 employees in operations, 25 employees in research and development, 11 employees   in sales and marketing, and 7 employees engaged in other administrative functions. In addition to our   employees, a significant portion of our workforce consists of contract personnel. We are not party to any   collective bargaining agreements with any of our employees. We have never experienced a work stoppage, and we   believe our employee relations are good\n",
      "\n",
      "----------------------------------- NUVA -----------------------------------\n",
      "----------------------------------- 0001564590-17-001330 -----------------------------------\n",
      "data_key_friendly_name  :Other Employees\n",
      "\n",
      "data_value  :2200.0\n",
      "\n",
      "reported_units  :ones\n",
      "\n",
      "text  :employees\n",
      "\n",
      "paragraph_text  :We refer to our employees as \"shareowners\". As of  December 31, 2016, we had a direct and indirect  workforce   of over 2,200, including  approximately 1,900 shareowners.  In addition to our  shareowners, we partner  with   exclusive independent sales agencies and independent distributors who sell our products in the United  States   and internationally. As of December  31, 2016, there are approximately  280 individuals associated with  such   sales agencies and distributors. None of  our shareowners or sales agents  are represented by a labor  union,   and we believe our shareowner and agency relations are good\n",
      "\n",
      "----------------------------------- PCH -----------------------------------\n",
      "----------------------------------- 0001564590-17-001760 -----------------------------------\n",
      "data_key_friendly_name  :Other Employees\n",
      "\n",
      "data_value  :953.0\n",
      "\n",
      "reported_units  :ones\n",
      "\n",
      "text  :employees\n",
      "\n",
      "paragraph_text  :As of December 31, 2016, we had 953 employees. The workforce consisted of 230 salaried, 687 hourly and 36   temporary or part-time employees. As of December 31, 2016, 18% of the workforce was covered under a   collective bargaining agreement, which expires in 2020\n",
      "\n",
      "----------------------------------- FCN -----------------------------------\n",
      "----------------------------------- 0001564590-17-002713 -----------------------------------\n",
      "data_key_friendly_name  :Other Employees\n",
      "\n",
      "data_value  :4718.0\n",
      "\n",
      "reported_units  :ones\n",
      "\n",
      "text  :employed\n",
      "\n",
      "paragraph_text  :Our success depends on our ability to attract and retain our expert professional workforce. Our professionals   include PhDs, MBAs, JDs, CPAs, CPA-ABVs (who are CPAs accredited in business valuations), CPA-CFFs (who are   CPAs certified in financial forensics), CRAs (certified risk analysts), Certified Turnaround Professionals,   Certified Insolvency and Reorganization Advisors, Certified Fraud Examiners, ASAs (accredited senior   appraisers), construction engineers and former senior government officials. We also engage independent   contractors to supplement our professionals on client engagements as needed. As of December 31, 2016, we   employed 4,718 employees, of which 3,596 were revenue-generating professionals\n",
      "\n",
      "----------------------------------- ACAD -----------------------------------\n",
      "----------------------------------- 0001564590-17-002866 -----------------------------------\n",
      "data_key_friendly_name  :Other Employees\n",
      "\n",
      "data_value  :370.0\n",
      "\n",
      "reported_units  :ones\n",
      "\n",
      "text  :employees\n",
      "\n",
      "paragraph_text  :At December 31, 2016, we had approximately 370 employees. Of this workforce, approximately 115 employees were   engaged in research and development activities, 75 were engaged in administrative activities such as finance,   legal, and information technology, and 180 were engaged in sales, commercial operations and marketing. None   of our employees is represented by a collective bargaining agreement, nor have we experienced work stoppages\n",
      "\n",
      "----------------------------------- SPTN -----------------------------------\n",
      "----------------------------------- 0001564590-17-003079 -----------------------------------\n",
      "data_key_friendly_name  :Full-Time Employees\n",
      "\n",
      "data_value  :8300.0\n",
      "\n",
      "reported_units  :ones\n",
      "\n",
      "text  :full-time\n",
      "\n",
      "paragraph_text  :As of December 31, 2016, the Company employed approximately 14,700 associates, 8,300 on a full-time basis and   6,400 on a part-time basis. Of the 14,700 associates the Company employs, approximately 1,200 associates, or   8% of the total workforce, were represented by unions under collective bargaining agreements; the collective   bargaining agreements covering these associates will either expire between October 2017 and September 2019 or   have been extended on their own terms and have a contemplated expiration date in either January 2019 or   February 2019. The Company considers its relations with its union and non-union associates to be good and   have not had any material work stoppages in over twenty years\n",
      "\n",
      "----------------------------------- SPTN -----------------------------------\n",
      "----------------------------------- 0001564590-17-003079 -----------------------------------\n",
      "data_key_friendly_name  :Part-Time Employees\n",
      "\n",
      "data_value  :6400.0\n",
      "\n",
      "reported_units  :ones\n",
      "\n",
      "text  :part-time\n",
      "\n",
      "paragraph_text  :As of December 31, 2016, the Company employed approximately 14,700 associates, 8,300 on a full-time basis and   6,400 on a part-time basis. Of the 14,700 associates the Company employs, approximately 1,200 associates, or   8% of the total workforce, were represented by unions under collective bargaining agreements; the collective   bargaining agreements covering these associates will either expire between October 2017 and September 2019 or   have been extended on their own terms and have a contemplated expiration date in either January 2019 or   February 2019. The Company considers its relations with its union and non-union associates to be good and   have not had any material work stoppages in over twenty years\n",
      "\n",
      "----------------------------------- BLDR -----------------------------------\n",
      "----------------------------------- 0001564590-17-003114 -----------------------------------\n",
      "data_key_friendly_name  :Full-Time Employees\n",
      "\n",
      "data_value  :14000.0\n",
      "\n",
      "reported_units  :ones\n",
      "\n",
      "text  :full-time\n",
      "\n",
      "paragraph_text  :At December 31, 2016, we had approximately 14,000 full-time equivalent employees. Approximately 2% of the   workforce at our company are members of ten different unions. We believe that we have good relations with our   employees\n",
      "\n",
      "----------------------------------- SNSS -----------------------------------\n",
      "----------------------------------- 0001564590-17-003862 -----------------------------------\n",
      "data_key_friendly_name  :Full-Time Employees\n",
      "\n",
      "data_value  :37.0\n",
      "\n",
      "reported_units  :ones\n",
      "\n",
      "text  :full-time\n",
      "\n",
      "paragraph_text  :As of December 31, 2016, our workforce consisted of 37 full-time equivalent employees, of which 21 are   engaged in research and development and 16 are engaged in general and administrative, medical affairs and   commercial planning functions. We have no collective bargaining agreements with our employees, and we have   not experienced any work stoppages\n",
      "\n",
      "----------------------------------- VSLR -----------------------------------\n",
      "----------------------------------- 0001564590-17-004608 -----------------------------------\n",
      "data_key_friendly_name  :Other Employees\n",
      "\n",
      "data_value  :3001.0\n",
      "\n",
      "reported_units  :ones\n",
      "\n",
      "text  :had a total workforce of\n",
      "\n",
      "paragraph_text  :As of December 31, 2016, we had a total workforce of 3,001, including 1,140 employees in installation, 879   employees in operations, 255 employees in general and administrative, 86 employees in sales support and   marketing and 25 employees in research and development. As of December 31, 2016, we also had 616 active   direct sellers. We consider a direct sales person to be active if they completed at least four customer   pre-surveys in the prior four weeks. Our operations personnel work primarily in installation, design and   account management. Our general and administrative personnel work primarily in information technology,   finance, human resources, legal and general management. None of our service providers are represented by a   labor union and we consider relations with our workers to be good\n",
      "\n",
      "----------------------------------- ATEC -----------------------------------\n",
      "----------------------------------- 0001564590-17-005689 -----------------------------------\n",
      "data_key_friendly_name  :Other Employees\n",
      "\n",
      "data_value  :162.0\n",
      "\n",
      "reported_units  :ones\n",
      "\n",
      "text  :employees\n",
      "\n",
      "paragraph_text  :As of December 31, 2016, we had 162 employees in the U.S., approximately 140 of which were based in our   Carlsbad, California headquarters, covering all of the following functional areas: sales, customer service,   marketing, clinical education, advanced manufacturing, quality assurance, regulatory affairs, research and   development, human resources, finance, legal, information technology and administration. We have never   experienced a work stoppage due to labor difficulties and believe that our relations with our employees are   good. We currently have no employees working under collective bargaining agreements. On February 1, 2017, we   implemented a workforce reduction, aimed at further aligning our employee count and operating expense with   our current revenues. As of March 21, 2017, we have 142 employees, all located within the U.S., of which 119   are based in our Carlsbad, California headquarters\n",
      "\n",
      "----------------------------------- HRB -----------------------------------\n",
      "----------------------------------- 0001574842-16-000042 -----------------------------------\n",
      "data_key_friendly_name  :Full-Time Employees\n",
      "\n",
      "data_value  :2400.0\n",
      "\n",
      "reported_units  :ones\n",
      "\n",
      "text  :regular full-time employees\n",
      "\n",
      "paragraph_text  :EMPLOYEES AND EXECUTIVE OFFICERS   We had approximately 2,400 regular full-time employees as of April 30, 2016. Our business is dependent on the   availability of  a seasonal  workforce, including  tax professionals,  and our  ability to  hire, train,  and   supervise these employees. The highest number of persons  we employed during the fiscal year ended April  30,   2016, including these seasonal employees, was approximately 94,800\n",
      "\n",
      "----------------------------------- HRB -----------------------------------\n",
      "----------------------------------- 0001574842-16-000042 -----------------------------------\n",
      "data_key_friendly_name  :Other Employees\n",
      "\n",
      "data_value  :94800.0\n",
      "\n",
      "reported_units  :ones\n",
      "\n",
      "text  :seasonal employees\n",
      "\n",
      "paragraph_text  :EMPLOYEES AND EXECUTIVE OFFICERS   We had approximately 2,400 regular full-time employees as of April 30, 2016. Our business is dependent on the   availability of  a seasonal  workforce, including  tax professionals,  and our  ability to  hire, train,  and   supervise these employees. The highest number of persons  we employed during the fiscal year ended April  30,   2016, including these seasonal employees, was approximately 94,800\n",
      "\n",
      "----------------------------------- KN -----------------------------------\n",
      "----------------------------------- 0001587523-17-000007 -----------------------------------\n",
      "data_key_friendly_name  :Other Employees\n",
      "\n",
      "data_value  :8000.0\n",
      "\n",
      "reported_units  :ones\n",
      "\n",
      "text  :persons\n",
      "\n",
      "paragraph_text  :Employees   We currently employ approximately 8,000 persons across  our facilities in 12 countries. Approximately 81%  of   these employees are located in Asia.  We are subject to various  local, national and multi-national laws  and   regulations relating to  our relationships  with our employees.  Our workforce  in the United  States is  not   unionized, however in the  European Union, we  have established workers councils  composed of management  and   elected members of our workforce.  We believe we generally have  good relationships with employees and  their   representative organizations\n",
      "\n",
      "----------------------------------- WFT -----------------------------------\n",
      "----------------------------------- 0001603923-17-000050 -----------------------------------\n",
      "data_key_friendly_name  :Other Employees\n",
      "\n",
      "data_value  :30000.0\n",
      "\n",
      "reported_units  :ones\n",
      "\n",
      "text  :employees\n",
      "\n",
      "paragraph_text  :Table of Contents   Employees   As of December 31,  2016, we employed  approximately 30,000 employees, which  is 24% and  46% lower than  our   workforce as of December 31, 2015 and 2014, respectively. In response to the significant decline in the price   of crude oil  and a lower  level of exploration  and production spending,  we reduced our  overall costs  and   workforce to better align with anticipated activity levels starting in 2014 and throughout 2015 and 2016. See   \"Item 8. - Financial Statements and Supplementary Data -  Note 3 - Restructuring Charges\" for details on  our   workforce reductions. Certain  of our operations  are subject to  union contracts and  these contracts  cover   approximately 17% of our employees. We believe we  have a highly motivated and capable workforce despite  the   significant headcount reductions over the past  two years, which were necessary  to adapt our Company to  the   difficult market conditions\n",
      "\n",
      "----------------------------------- VSTO -----------------------------------\n",
      "----------------------------------- 0001616318-16-000100 -----------------------------------\n",
      "data_key_friendly_name  :Other Employees\n",
      "\n",
      "data_value  :5800.0\n",
      "\n",
      "reported_units  :ones\n",
      "\n",
      "text  :people\n",
      "\n",
      "paragraph_text  :Employees   We employ approximately 5,800 people. We operate 13 manufacturing facilities in the United States, Puerto   Rico, Mexico and Canada. We have union-represented employees at our Westfield, MA location, comprising   approximately 6% of our total workforce. We have had no strikes or work stoppages during the last five years\n",
      "\n",
      "----------------------------------- W -----------------------------------\n",
      "----------------------------------- 0001616707-17-000133 -----------------------------------\n",
      "data_key_friendly_name  :Full-Time Employees\n",
      "\n",
      "data_value  :5637.0\n",
      "\n",
      "reported_units  :ones\n",
      "\n",
      "text  :full-time equivalent employees\n",
      "\n",
      "paragraph_text  :Employees   As of December 31, 2016, we had 5,637 full-time equivalent employees. Additionally, we rely on independent   contractors and temporary personnel to supplement our workforce, primarily in our fulfillment centers. None   of our employees is represented by a labor union or covered by a collective bargaining agreement. We consider   our relationship with our employees to be good\n",
      "\n",
      "----------------------------------- MYL -----------------------------------\n",
      "----------------------------------- 0001623613-17-000007 -----------------------------------\n",
      "data_key_friendly_name  :Other Employees\n",
      "\n",
      "data_value  :35000.0\n",
      "\n",
      "reported_units  :ones\n",
      "\n",
      "text  :employees\n",
      "\n",
      "paragraph_text  :Employees   As of December 31, 2016, Mylan's global workforce included more than 35,000 employees and external   contractors. Certain production and maintenance employees at our manufacturing facility in Morgantown, West   Virginia, are represented by the United Steel, Paper and Forestry, Rubber, Manufacturing, Energy, Allied   Industrial and Service Workers International Union and its Local Union 8-957 AFL-CIO. This contract expires   on April 21, 2017 and we are currently in negotiations on a successor agreement. In addition, there are   non-U.S. Mylan locations that have employees who are unionized or part of works councils or trade unions\n",
      "\n",
      "----------------------------------- FLEX -----------------------------------\n",
      "----------------------------------- 0001628280-16-016576 -----------------------------------\n",
      "data_key_friendly_name  :Other Employees\n",
      "\n",
      "data_value  :200000.0\n",
      "\n",
      "reported_units  :ones\n",
      "\n",
      "text  :employees\n",
      "\n",
      "paragraph_text  :Table of Contents   EMPLOYEES   As of March 31, 2016, our global workforce totaled approximately 200,000 employees. In certain international   locations, our employees are represented by labor unions and by work councils. We have never experienced a   significant work stoppage or strike, and we believe that our employee relations are good\n",
      "\n",
      "----------------------------------- IO -----------------------------------\n",
      "----------------------------------- 0001628280-17-001062 -----------------------------------\n",
      "data_key_friendly_name  :Full-Time Employees\n",
      "\n",
      "data_value  :480.0\n",
      "\n",
      "reported_units  :ones\n",
      "\n",
      "text  :regular, full-time employees\n",
      "\n",
      "paragraph_text  :Employees   As of December 31, 2016, we had 480 regular, full-time employees, 335 of whom were located in the U.S. From   time to time and on an as-needed basis, we supplement our regular workforce with individuals that we hire   temporarily or retain as independent contractors in order to meet certain internal manufacturing or other   business needs. Our U.S. employees are not represented by any collective bargaining agreement, and we have   never experienced a labor-related work stoppage. We believe that our employee relations are satisfactory\n",
      "\n",
      "----------------------------------- HSBC -----------------------------------\n",
      "----------------------------------- 0001628280-17-001527 -----------------------------------\n",
      "data_key_friendly_name  :Other Employees\n",
      "\n",
      "data_value  :241000.0\n",
      "\n",
      "reported_units  :ones\n",
      "\n",
      "text  :full and part-time employees\n",
      "\n",
      "paragraph_text  :At 31 December 2016, HSBC had a total workforce of 241,000 full and part-time employees compared with 264,000   at the end of 2015 and 266,000 at the end of 2014. Our main centres of employment were the UK with   approximately 45,000 employees, India 37,000, Hong Kong 29,000, mainland China 24,000, Mexico 16,000, the US   13,000 and France 9,000\n",
      "\n",
      "----------------------------------- SLCA -----------------------------------\n",
      "----------------------------------- 0001628280-17-001655 -----------------------------------\n",
      "data_key_friendly_name  :Other Employees\n",
      "\n",
      "data_value  :1404.0\n",
      "\n",
      "reported_units  :ones\n",
      "\n",
      "text  :employees\n",
      "\n",
      "paragraph_text  :Employees   As of December 31, 2016, we employed a workforce of 1,404 employees, the majority of whom are hourly wage   plant workers living in the areas surrounding our mining facilities. The majority of our hourly employees are   represented by labor unions that include the Teamsters Union; United Steel, Paper and Forestry, Rubber,   Manufacturing, Energy, Allied Industrial and Service Workers International Union; Laborers International   Union of North America; Glass, Molders, Pottery, Plastics and Allied Workers International Union; and   International Union of Operating Engineers A.F.L. - C.I.O. We believe that we maintain good relations with   our workers and their respective unions and have not experienced any material strikes or work stoppages since   1987\n",
      "\n",
      "----------------------------------- FDC -----------------------------------\n",
      "----------------------------------- 0001628280-17-001722 -----------------------------------\n",
      "data_key_friendly_name  :Other Employees\n"
     ]
    },
    {
     "name": "stdout",
     "output_type": "stream",
     "text": [
      "\n",
      "data_value  :24000.0\n",
      "\n",
      "reported_units  :ones\n",
      "\n",
      "text  :employees\n",
      "\n",
      "paragraph_text  :Employees and Labor   As of  December 31,  2016, we  had approximately  24,000  employees. The  majority of  the employees  of  our   subsidiaries outside of the United States are subject  to the terms of individual employment agreements.  One   of our wholly owned subsidiaries has approximately 1,600  employees in the United Kingdom, a portion of  whom   are members of the Unite trade union. Employees  of our subsidiaries in Vienna, Austria; Frankfurt,  Germany;   and Nuernberg, Germany are also represented by local work councils. The Vienna workforce and a portion of the   Frankfurt workforce are  also covered by  a union contract.  Certain employees of  our Korean subsidiary  are   represented by a Labor-Management council. In Brazil, all employees are unionized and covered by the terms of   industry-specific collective agreements. Employees in certain other  countries are also covered by the  terms   of industry-specific national collective agreements. None of  our employees are otherwise represented by  any   labor organization in  the United States.  We believe  that our relations  with our employees  and the  labor   organizations identified above are in good standing\n",
      "\n",
      "----------------------------------- WAB -----------------------------------\n",
      "----------------------------------- 0001628280-17-001863 -----------------------------------\n",
      "data_key_friendly_name  :Full-Time Employees\n",
      "\n",
      "data_value  :20000.0\n",
      "\n",
      "reported_units  :ones\n",
      "\n",
      "text  :full-time\n",
      "\n",
      "paragraph_text  :Employees   At December 31, 2016, we had approximately 20,000 full-time employees, approximately 35% of whom were   unionized. A majority of the employees subject to collective bargaining agreements are outside North America   and these agreements are generally effective from 2017 through 2019. Agreements expiring at various times   during 2017 cover approximately 20% of the Company's workforce. We consider our relations with employees and   union representatives to be good, but cannot assure that future contract negotiations will be favorable to   us\n",
      "\n",
      "----------------------------------- ORAN -----------------------------------\n",
      "----------------------------------- 0001634621-17-000007 -----------------------------------\n",
      "data_key_friendly_name  :Full-Time Employees\n",
      "\n",
      "data_value  :155202.0\n",
      "\n",
      "reported_units  :ones\n",
      "\n",
      "text  :Number of employees (workforce end of period)\n",
      "\n",
      "paragraph_text  :2016      2015      2014      2013     2012    Number of fixed telephone lines (in millions)                   42.8      43.5      42.7      42.2     43.2    Number of mobile customers (in millions)                       201.7     201.2     185.3     178.5    172.4    Number of broadband (mainly ADSL) customers (in millions)       18.3      18.1      16.0      15.5     14.9    Number of employees (workforce end of period)                155,202   156,191   156,233   165,488  170,531\n",
      "\n",
      "----------------------------------- HTZ -----------------------------------\n",
      "----------------------------------- 0001657853-17-000010 -----------------------------------\n",
      "data_key_friendly_name  :Other Employees\n",
      "\n",
      "data_value  :36000.0\n",
      "\n",
      "reported_units  :ones\n",
      "\n",
      "text  :employed\n",
      "\n",
      "paragraph_text  :EMPLOYEES   As of December 31, 2016, we employed approximately 36,000 persons, consisting of approximately 27,000 persons   in our  U.S.  operations and  approximately  9,000 persons  in  our international  operations.  International   employees are covered  by a wide  variety of union  contracts and governmental  regulations affecting,  among   other things,  compensation,  job retention  rights  and pensions.  Labor  contracts covering  the  terms  of   employment of approximately 23% of our  workforce in the U.S. (including  those in the U.S. territories)  are   presently in effect under  active contracts with  local unions, affiliated  primarily with the  International   Brotherhood of Teamsters  and the International  Association of Machinists.  Labor contracts covering  almost   one-third of these employees will expire  during 2017. We have had no  material work stoppage as a result  of   labor problems during the last ten years, and we believe our labor relations to be good. Nevertheless, we may   be unable to negotiate new labor contracts on terms advantageous to us, or without labor interruption\n",
      "\n",
      "----------------------------------- AGRO -----------------------------------\n",
      "----------------------------------- 0001672764-17-000046 -----------------------------------\n",
      "data_key_friendly_name  :Other Employees\n",
      "\n",
      "data_value  :8326.0\n",
      "\n",
      "reported_units  :ones\n",
      "\n",
      "text  :employees\n",
      "\n",
      "paragraph_text  :On December 31, 2016, we had 8,326 employees, of  whom 95% were unionized. Approximately 5% of our  workforce   is comprised of  temporary workers.  We comply  with all labor  laws. Historically,  we have  had a  positive   relationship with the trade unions\n",
      "\n",
      "----------------------------------- TRVG -----------------------------------\n",
      "----------------------------------- 0001683825-17-000009 -----------------------------------\n",
      "data_key_friendly_name  :Other Employees\n",
      "\n",
      "data_value  :1230.0\n",
      "\n",
      "reported_units  :ones\n",
      "\n",
      "text  :employees\n",
      "\n",
      "paragraph_text  :We have rapidly and significantly expanded our operations and anticipate expanding further as we pursue our   growth strategy. Our workforce worldwide has grown from fewer than 300 employees as of December 31, 2012 to   more than 1,230 employees as of December 31, 2016. Such expansion increases the complexity of our business   and places a significant strain on our management, operations, technical systems, financial resources and   internal controls over financial reporting functions. As a result, we may not be able to manage our expansion   effectively. Our current and planned personnel, systems, procedures and controls may not be adequate to   support and effectively manage our future operations, especially as we employ personnel in several geographic   locations. We may not be able to hire, train, retain, motivate and manage required personnel, which may limit   our growth, damage our reputation and may have a material adverse effect on our business, results of   operations, financial condition and prospects. These pressures and challenges may be enhanced by our becoming   a public company and the corporate reorganization\n",
      "\n"
     ]
    }
   ],
   "source": [
    "print_row_detail(labeled_df[labeled_df.paragraph_text.str.contains(re.compile(\"workforce\"))], nrow=115)"
   ]
  },
  {
   "cell_type": "code",
   "execution_count": 9,
   "metadata": {
    "ExecuteTime": {
     "end_time": "2018-07-23T04:18:15.325084Z",
     "start_time": "2018-07-23T04:18:15.315079Z"
    }
   },
   "outputs": [],
   "source": [
    "emp_pat_list_old = [r\"^(Employees|Team Members)$\",\n",
    "r\"([0-9]{1,3},)*[0-9]{1,3}( |\\n)((permanent|full-time|part-time|temporary|total)( |\\n))*(employees|people|team members|members)\",\n",
    "r\"employ((ed|s)?)?( |\\n)(approximately( |\\n))?([0-9]{1,3},)*[0-9]{1,3}( |\\n)((permanent|full-time|part-time|temporary)( |\\n))?(employees|people|team members|members|persons|associates)\", \n",
    "r\"employed(( |\\n)approximately)?$\", \n",
    "r\"Total workforce\",\n",
    "r\"((full|full-time|permanent|part|part-time|regular|seasonal|temporary|time)( |\\n))+(employees|team members|associates)\",\n",
    "r\"^((permanent|full|part|time|full-time|part-time|temporary|total)( |\\n))*(employees|team members|associates)\"]\n",
    "emp_pats_old = [re.compile(x, re.I) for x in emp_pat_list_old]"
   ]
  },
  {
   "cell_type": "markdown",
   "metadata": {},
   "source": [
    "Regex for identifying \"block\" html elements - useful for finding actual paragraph boundaries, or the first set of *n* paragraphs or tables immediately after a secion heading"
   ]
  },
  {
   "cell_type": "code",
   "execution_count": 10,
   "metadata": {
    "ExecuteTime": {
     "end_time": "2018-07-23T04:18:20.141717Z",
     "start_time": "2018-07-23T04:18:20.138715Z"
    }
   },
   "outputs": [],
   "source": [
    "block_re = re.compile(r\"^(p|div|table)$\")"
   ]
  },
  {
   "cell_type": "code",
   "execution_count": 11,
   "metadata": {
    "ExecuteTime": {
     "end_time": "2018-07-23T04:18:20.158728Z",
     "start_time": "2018-07-23T04:18:20.149721Z"
    }
   },
   "outputs": [],
   "source": [
    "def show_str_context(search_str: str, in_string: str, char_before: int=500, char_after: int=2000, match_num: int=0):\n",
    "    \"\"\"Return characters before and after a given string.\"\"\"\n",
    "    sub_idx = in_string.find(search_str) \n",
    "    len_offset = len(search_str)\n",
    "    if match_num:\n",
    "        idx = sub_idx\n",
    "        for i in range(match_num):\n",
    "            idx = in_string.find(search_str, idx + len_offset)\n",
    "        sub_idx = idx\n",
    "    context_beg = max(sub_idx - char_before, 0)\n",
    "    context_end = sub_idx + len_offset + char_after\n",
    "    return in_string[context_beg:context_end]   "
   ]
  },
  {
   "cell_type": "markdown",
   "metadata": {},
   "source": [
    "### Tag Exploration"
   ]
  },
  {
   "cell_type": "markdown",
   "metadata": {
    "heading_collapsed": true
   },
   "source": [
    "#### Example 1"
   ]
  },
  {
   "cell_type": "code",
   "execution_count": 35,
   "metadata": {
    "ExecuteTime": {
     "end_time": "2018-07-23T16:59:07.551672Z",
     "start_time": "2018-07-23T16:59:02.931054Z"
    },
    "hidden": true
   },
   "outputs": [],
   "source": [
    "with gzip.open(subset_file_list[2], mode='rt', encoding=\"utf8\") as file: \n",
    "            file1_html = file.read()\n",
    "            soup1 = bs(file1_html, 'lxml')\n",
    "soup1_emp_count = soup1.find_all(string=[emp_pats])"
   ]
  },
  {
   "cell_type": "code",
   "execution_count": 36,
   "metadata": {
    "ExecuteTime": {
     "end_time": "2018-07-23T16:59:08.664017Z",
     "start_time": "2018-07-23T16:59:08.660015Z"
    },
    "hidden": true,
    "scrolled": false
   },
   "outputs": [
    {
     "data": {
      "text/plain": [
       "9"
      ]
     },
     "execution_count": 36,
     "metadata": {},
     "output_type": "execute_result"
    }
   ],
   "source": [
    "len(soup1_emp_count)"
   ]
  },
  {
   "cell_type": "code",
   "execution_count": 70,
   "metadata": {
    "ExecuteTime": {
     "end_time": "2018-07-23T02:11:34.199158Z",
     "start_time": "2018-07-23T02:11:34.196157Z"
    },
    "hidden": true
   },
   "outputs": [],
   "source": [
    "emp1_tag = soup1_emp_count[0]"
   ]
  },
  {
   "cell_type": "code",
   "execution_count": 71,
   "metadata": {
    "ExecuteTime": {
     "end_time": "2018-07-23T02:11:36.820416Z",
     "start_time": "2018-07-23T02:11:36.811410Z"
    },
    "hidden": true
   },
   "outputs": [
    {
     "name": "stdout",
     "output_type": "stream",
     "text": [
      "0\n",
      "<div class=\"c88\"><span class=\"c16\">As of December 31,</span> <span class=\"c16\">2016</span><span class=\"c16\">,\n",
      "we had</span> <span class=\"c16\">699</span> <span class=\"c16\">full-time employees and</span> <span class=\"c16\">202</span> <span class=\"c16\">temporary employees. The breakdown of our full-time employees by department\n",
      "is as follows:</span> <span class=\"c16\">175</span> <span class=\"c16\">direct manufacturing employees and</span>\n",
      "<span class=\"c16\">524</span> <span class=\"c16\">administrative and manufacturing support employees. Of\n",
      "the</span> <span class=\"c16\">524</span> <span class=\"c16\">administrative and manufacturing support\n",
      "employees,</span> <span class=\"c16\">213</span> <span class=\"c16\">were involved in sales, marketing,\n",
      "communications and training. Of the</span> <span class=\"c16\">202</span> <span class=\"c16\">temporary employees,\n",
      "more than</span> <span class=\"c16\">92%</span> <span class=\"c16\">worked in direct manufacturing roles. Our\n",
      "employees are not covered by any collective bargaining agreement, and we have never experienced a work\n",
      "stoppage. We believe that our relations with our employees are good.</span></div>\n",
      "1\n",
      "<div class=\"c66\">11</div>\n",
      "2\n",
      "<div class=\"c2\"><a class=\"c1\" href=\"#s6AA0E9B102C8EE19B8CCB5E21E0F79E3\">Table of Contents</a></div>\n",
      "3\n",
      "<div class=\"c92\">Available Information</div>\n",
      "4\n",
      "<div class=\"c86\">We were incorporated in Arizona in September 1993 as ICER Corporation. We changed our name to\n",
      "AIR TASER, Inc. in December 1993 and to TASER International, Incorporated in April 1998. In January 2001, we\n",
      "reincorporated in Delaware as TASER International, Inc.</div>\n",
      "5\n",
      "<div class=\"c88\"><span class=\"c16\">Our Annual Report on Form 10-K, quarterly reports on Form 10-Q, current\n",
      "reports on Form 8-K and amendments to those reports filed or furnished pursuant to Section 13(a) or 15(d) of\n",
      "the Securities Exchange Act of 1934 are available free of charge on our website at</span> <span class=\"c91\">http://www.TASER.com</span> <span class=\"c16\">as soon as reasonably practicable after we electronically\n",
      "file such material with, or furnish such material to, the SEC. The SEC maintains a website that contains\n",
      "reports, proxy and information statements and other information regarding issuers that file electronically with\n",
      "the SEC at</span> <span class=\"c91\">http://www.sec.gov</span><span class=\"c16\">.</span></div>\n"
     ]
    }
   ],
   "source": [
    "for i, v in enumerate(emp1_tag.parent.find_next_siblings(block_re, limit=6)):\n",
    "    print(i)\n",
    "    print(v)"
   ]
  },
  {
   "cell_type": "markdown",
   "metadata": {
    "heading_collapsed": true
   },
   "source": [
    "#### Example 2"
   ]
  },
  {
   "cell_type": "code",
   "execution_count": 37,
   "metadata": {
    "ExecuteTime": {
     "end_time": "2018-07-23T16:59:25.970303Z",
     "start_time": "2018-07-23T16:59:20.755146Z"
    },
    "hidden": true
   },
   "outputs": [],
   "source": [
    "with gzip.open(subset_file_list[12], mode='rt', encoding=\"utf8\") as file: \n",
    "            file2_html = file.read()\n",
    "            soup2 = bs(file2_html, 'lxml')\n",
    "soup2_emp_count = soup2.find_all(string=[emp_pats])"
   ]
  },
  {
   "cell_type": "code",
   "execution_count": 38,
   "metadata": {
    "ExecuteTime": {
     "end_time": "2018-07-23T16:59:27.552224Z",
     "start_time": "2018-07-23T16:59:27.548222Z"
    },
    "hidden": true,
    "scrolled": false
   },
   "outputs": [
    {
     "data": {
      "text/plain": [
       "7"
      ]
     },
     "execution_count": 38,
     "metadata": {},
     "output_type": "execute_result"
    }
   ],
   "source": [
    "len(soup2_emp_count)"
   ]
  },
  {
   "cell_type": "code",
   "execution_count": 39,
   "metadata": {
    "ExecuteTime": {
     "end_time": "2018-07-23T16:59:33.650703Z",
     "start_time": "2018-07-23T16:59:33.646701Z"
    },
    "hidden": true,
    "scrolled": true
   },
   "outputs": [
    {
     "data": {
      "text/plain": [
       "['As of December 31, 2016, we had a total of 276 employees working in the\\nR&D department, including 16 with Ph.D. degrees. We continue to recruit talented engineers to further\\nenhance our research and development capabilities. We have research and development departments in our\\nfacilities in Texas, Georgia, China and Taiwan. Our research and development teams collaborate on joint\\nprojects, and by co-locating with our manufacturing operations enable us to achieve an efficient cost structure\\nand improve our time to market.',\n",
       " 'Employees',\n",
       " 'As of December 31, 2016, we employed 2,776 full-time employees, of which 31\\nheld Ph.D. degrees in a science or engineering field. Of our employees, 287 are located in the U.S., 1,218 are\\nlocated in Taiwan and 1,271 are located in China. None of our employees are represented by any collective\\nbargaining agreement, but certain employees of our China subsidiary are members of a trade union. We have never\\nsuffered any work stoppage as a result of an employment related strike or any employee related dispute and\\nbelieve that we have satisfactory relations with our employees.',\n",
       " 'reduction in income tax rate due to losses incurred by our China subsidiary;\\nhowever, if we fail to continue to qualify for this preferential rate in the future, we may incur higher tax\\nrates on our income in China. In order to retain the preferential tax rate, we must meet certain operating\\nconditions, satisfy certain product requirements, meet certain headcount requirements and maintain certain\\nlevels of research expenditures. We applied for an additional three years of preferential status with the\\nChinese government in 2014 and received approval as a high-technology enterprise through September 2017. Any\\nfuture increase in the enterprise income tax rate applicable to us or the expiration or other limitation of\\npreferential tax rates available to us could increase our tax liabilities and reduce our net income.',\n",
       " 'A significant portion of our workforce is located in China. Labor costs in\\nChina have been increasing recently due to labor unrest, strikes and changes in employment laws. If labor costs\\nin China continue to increase, our costs will increase. If we are not able to pass these increases on to our\\ncustomers, our business, profitability and results of operations may be adversely affected.',\n",
       " \"Employees of Global participate in a state-mandated social security program in\\nChina. Under this program, pension costs are recorded on the basis of required monthly contributions to\\nemployees' individual accounts during their service periods. Under the regulations of the People's Republic of\\nChina, Global is required to make fixed contributions to a fund, which is under the administration of the local\\nlabor departments.\",\n",
       " \"Employees of the Company's Taiwan branch participate in a pension program\\nunder the Taiwan Labor Pension Act. Pension expense for Global was $0.6 million, $0.3 million and $0.4 million\\nin the years ended for the year ended December 31, 2016, 2015 and 2014, respectively. Pension expense for the\\nCompany's Taiwan branch was $0.8 million, $0.6 million and $0.4 million for the years ended December 31, 2016,\\n2015 and 2014, respectively.\"]"
      ]
     },
     "execution_count": 39,
     "metadata": {},
     "output_type": "execute_result"
    }
   ],
   "source": [
    "soup2_emp_count"
   ]
  },
  {
   "cell_type": "code",
   "execution_count": 78,
   "metadata": {
    "ExecuteTime": {
     "end_time": "2018-07-23T03:26:34.519229Z",
     "start_time": "2018-07-23T03:26:34.514225Z"
    },
    "hidden": true
   },
   "outputs": [
    {
     "data": {
      "text/plain": [
       "['As of December 31, 2016, we had a total of 276 employees working in the\\nR&D department, including 16 with Ph.D. degrees. We continue to recruit talented engineers to further\\nenhance our research and development capabilities. We have research and development departments in our\\nfacilities in Texas, Georgia, China and Taiwan. Our research and development teams collaborate on joint\\nprojects, and by co-locating with our manufacturing operations enable us to achieve an efficient cost structure\\nand improve our time to market.',\n",
       " 'Employees',\n",
       " 'As of December 31, 2016, we employed 2,776 full-time employees, of which 31\\nheld Ph.D. degrees in a science or engineering field. Of our employees, 287 are located in the U.S., 1,218 are\\nlocated in Taiwan and 1,271 are located in China. None of our employees are represented by any collective\\nbargaining agreement, but certain employees of our China subsidiary are members of a trade union. We have never\\nsuffered any work stoppage as a result of an employment related strike or any employee related dispute and\\nbelieve that we have satisfactory relations with our employees.',\n",
       " \"Employees of Global participate in a state-mandated social security program in\\nChina. Under this program, pension costs are recorded on the basis of required monthly contributions to\\nemployees' individual accounts during their service periods. Under the regulations of the People's Republic of\\nChina, Global is required to make fixed contributions to a fund, which is under the administration of the local\\nlabor departments.\",\n",
       " \"Employees of the Company's Taiwan branch participate in a pension program\\nunder the Taiwan Labor Pension Act. Pension expense for Global was $0.6 million, $0.3 million and $0.4 million\\nin the years ended for the year ended December 31, 2016, 2015 and 2014, respectively. Pension expense for the\\nCompany's Taiwan branch was $0.8 million, $0.6 million and $0.4 million for the years ended December 31, 2016,\\n2015 and 2014, respectively.\"]"
      ]
     },
     "execution_count": 78,
     "metadata": {},
     "output_type": "execute_result"
    }
   ],
   "source": [
    "soup2_emp_count"
   ]
  },
  {
   "cell_type": "code",
   "execution_count": 19,
   "metadata": {
    "ExecuteTime": {
     "end_time": "2018-06-29T21:36:29.118545Z",
     "start_time": "2018-06-29T21:36:29.112541Z"
    },
    "hidden": true
   },
   "outputs": [],
   "source": [
    "emp_tag2 = soup2_emp_count[1]"
   ]
  },
  {
   "cell_type": "code",
   "execution_count": 20,
   "metadata": {
    "ExecuteTime": {
     "end_time": "2018-06-29T21:36:29.131554Z",
     "start_time": "2018-06-29T21:36:29.120546Z"
    },
    "hidden": true
   },
   "outputs": [
    {
     "data": {
      "text/plain": [
       "<span class=\"c58\">Employees</span>"
      ]
     },
     "execution_count": 20,
     "metadata": {},
     "output_type": "execute_result"
    }
   ],
   "source": [
    "emp_tag2.parent"
   ]
  },
  {
   "cell_type": "code",
   "execution_count": 21,
   "metadata": {
    "ExecuteTime": {
     "end_time": "2018-06-29T21:36:29.141560Z",
     "start_time": "2018-06-29T21:36:29.133554Z"
    },
    "hidden": true
   },
   "outputs": [],
   "source": [
    "emp2_tag = soup2_emp_count[1].parent"
   ]
  },
  {
   "cell_type": "code",
   "execution_count": 22,
   "metadata": {
    "ExecuteTime": {
     "end_time": "2018-06-29T21:36:32.217477Z",
     "start_time": "2018-06-29T21:36:29.143562Z"
    },
    "hidden": true
   },
   "outputs": [],
   "source": [
    "soup2_emp_count_body = soup2.body.find_all(string=[emp_pats])"
   ]
  },
  {
   "cell_type": "code",
   "execution_count": 23,
   "metadata": {
    "ExecuteTime": {
     "end_time": "2018-06-29T21:36:32.267638Z",
     "start_time": "2018-06-29T21:36:32.218978Z"
    },
    "hidden": true
   },
   "outputs": [
    {
     "data": {
      "text/plain": [
       "-1"
      ]
     },
     "execution_count": 23,
     "metadata": {},
     "output_type": "execute_result"
    }
   ],
   "source": [
    "soup2.body.text.find('bargaining agreements. We believe that our relationship with our employees is good.') "
   ]
  },
  {
   "cell_type": "code",
   "execution_count": 24,
   "metadata": {
    "ExecuteTime": {
     "end_time": "2018-06-29T21:36:32.277642Z",
     "start_time": "2018-06-29T21:36:32.270640Z"
    },
    "hidden": true
   },
   "outputs": [
    {
     "data": {
      "text/plain": [
       "'<!--HTML document created with Merrill Bridge  6.4.50.0-->\\n<!--Created on: 3/9/2017 4:02:22 PM-->\\n<!DOCTYPE html>\\n<html xmlns=\"http://www.w3.org/1999/xhtml\">\\n<head>\\n<meta name=\"generator\" content=\\n\"HTML Tidy for HTML5 (experimental) for Linux https://github.com/w3c/tidy-html5/tree/68a9e74\" />\\n<title>aaoi_Current_Folio_10K</title>\\n<title>aaoi_Ex10_6</title>\\n<title>aaoi_Ex23_1</title>\\n<title>aaoi_Ex31_1</title>\\n<title>aaoi_Ex31_2</title>\\n<title>aaoi_Ex32_1</title>\\n\\n<style type=\"text/css\">\\n/*<![CDATA[*/\\n td.c1420 {width:40.00%;padding:0pt;}\\n td.c1419 {width:00.96%;padding:0pt;}\\n td.c1418 {width:40.00%;border-bottom:1pt solid #000000 ;padding:0pt;}\\n p.c1417 {display: inline; font-family: Arial,Helvetica,sans-serif; font-size: 10pt; line-height: 100%; margin: 0pt 0pt 0pt 7.2pt; text-indent: -7.2pt}\\n p.c1416 {margin:0pt 0pt 0pt 27pt;line-height:100%;font-family:Arial,Helvetica,sans-serif;font-size: 10pt;}\\n p.c1415 {color: #0563C1; display: inline; font-family: Arial,Helvetica,sans-serif; font-size: 10pt; line-height: 100%; margin: 0pt 0pt 0pt 27pt}\\n p.c1414 {margin:0pt;line-height:100%;font-family:Arial,Helvetica,sans-serif;font-size: 11pt;}\\n p.c1413 {display: inline; font-family: Arial,Helvetica,sans-serif; font-size: 10pt; line-height: 100%; margin: 0pt}\\n span.c1412 {display:inline;font-family:Times New Roman,Times,serif;text-transform:uppercase;font-size:10pt;}\\n td.c1411 {width:50.00%;border-top:1pt none #D9D9D9 ;border-left:1pt none #D9D9D9 ;border-bottom:1pt none #D9D9D9 ;border-right:1pt none #D9D9D9 ;height:1.00pt;padding:0pt;}\\n p.c1410 {margin:0pt;line-height:100%;font-family:Arial,Helvetica,sans-serif;height:1.00pt;overflow:hidden;font-size:0pt;}\\n p.c1409 {margin:0pt 0pt 0pt 22.5pt;line-height:100%;font-family:Arial,Helvetica,sans-serif;font-size: 10pt;}\\n p.c1408 {color: #0563C1; display: inline; font-family: Arial,Helvetica,sans-serif; font-size: 10pt; line-height: 100%; margin: 0pt 0pt 0pt 22.5pt}\\n p.c1407 {margin:0pt 0pt 0pt 23.1pt;text-indent: -0.6pt;line-height:100%;font-family:Arial,Helvetica,sans-serif;font-size: 10pt;}\\n p.c1406 {color:'"
      ]
     },
     "execution_count": 24,
     "metadata": {},
     "output_type": "execute_result"
    }
   ],
   "source": [
    "search_str = 'bargaining agreements. We believe that our relationship with our employees is good.'\n",
    "show_str_context(search_str=search_str, in_string= file2_html)"
   ]
  },
  {
   "cell_type": "code",
   "execution_count": 25,
   "metadata": {
    "ExecuteTime": {
     "end_time": "2018-06-29T21:36:32.330742Z",
     "start_time": "2018-06-29T21:36:32.279645Z"
    },
    "hidden": true
   },
   "outputs": [
    {
     "data": {
      "text/plain": [
       "471394"
      ]
     },
     "execution_count": 25,
     "metadata": {},
     "output_type": "execute_result"
    }
   ],
   "source": [
    "len(soup2.body.text)"
   ]
  },
  {
   "cell_type": "markdown",
   "metadata": {
    "hidden": true
   },
   "source": [
    "Examples of employee count data in HTML"
   ]
  },
  {
   "cell_type": "markdown",
   "metadata": {
    "hidden": true
   },
   "source": [
    "view-source:file:///C:/projects/DSBC/capstone/subset_filings/0001090872-16-000082.html"
   ]
  },
  {
   "cell_type": "markdown",
   "metadata": {},
   "source": [
    "#### Example 3"
   ]
  },
  {
   "cell_type": "code",
   "execution_count": 40,
   "metadata": {
    "ExecuteTime": {
     "end_time": "2018-07-23T17:00:43.821157Z",
     "start_time": "2018-07-23T17:00:38.522736Z"
    }
   },
   "outputs": [],
   "source": [
    "with gzip.open(subset_file_list[11], mode='rt', encoding=\"utf8\") as file: \n",
    "            file3_html = file.read()\n",
    "            soup3 = bs(file3_html, 'lxml')\n",
    "soup3_emp_count = soup3.find_all(string=[emp_pats])"
   ]
  },
  {
   "cell_type": "code",
   "execution_count": 41,
   "metadata": {
    "ExecuteTime": {
     "end_time": "2018-07-23T17:00:46.864311Z",
     "start_time": "2018-07-23T17:00:46.860309Z"
    },
    "scrolled": false
   },
   "outputs": [
    {
     "data": {
      "text/plain": [
       "4"
      ]
     },
     "execution_count": 41,
     "metadata": {},
     "output_type": "execute_result"
    }
   ],
   "source": [
    "len(soup3_emp_count)"
   ]
  },
  {
   "cell_type": "code",
   "execution_count": 42,
   "metadata": {
    "ExecuteTime": {
     "end_time": "2018-07-23T17:00:49.360974Z",
     "start_time": "2018-07-23T17:00:49.355971Z"
    },
    "scrolled": true
   },
   "outputs": [
    {
     "data": {
      "text/plain": [
       "['Employees',\n",
       " \"AbbVie employed approximately 30,000 persons as of January 31, 2017. Outside the United\\nStates, some of AbbVie's employees are represented by unions or works councils. AbbVie believes that it has\\ngood relations with its employees.\",\n",
       " \"AbbVie's historical financial statements for periods prior to January 1, 2013 reflected an\\nallocation of expenses related to certain Abbott corporate functions, including senior management, legal, human\\nresources, finance, information technology and quality assurance. These expenses were allocated to AbbVie based\\non direct usage or benefit where identifiable, with the remainder allocated on a pro rata basis of revenues,\\nheadcount, square footage, number of transactions or other measures. AbbVie considers the expense allocation\\nmethodology and results to be reasonable. However, the allocations may not be indicative of the actual expenses\\nthat would have been incurred had AbbVie operated as an independent, stand-alone, publicly-traded company for\\nthe periods presented. Accordingly, the historical financial information presented for periods prior to January\\n1, 2013 may not be indicative of the results of operations or financial position that would have been achieved\\nif AbbVie had been an independent,\",\n",
       " \"AbbVie's products are generally sold worldwide directly to wholesalers, distributors,\\ngovernment agencies, health care facilities, specialty pharmacies and independent retailers from AbbVie-owned\\ndistribution centers and public warehouses. In the United States, AbbVie distributes pharmaceutical products\\nprincipally through independent wholesale distributors, with some sales directly to pharmacies and patients.\\nOutside the United States, sales are made either directly to customers or through distributors, depending on\\nthe market served. Certain products are co-marketed or co-promoted with other companies. AbbVie has\\napproximately 30,000 employees. AbbVie operates in one business segment-pharmaceutical products.\"]"
      ]
     },
     "execution_count": 42,
     "metadata": {},
     "output_type": "execute_result"
    }
   ],
   "source": [
    "soup3_emp_count#[0].find_parent(block_re).next_sibling.next_sibling"
   ]
  },
  {
   "cell_type": "code",
   "execution_count": 29,
   "metadata": {
    "ExecuteTime": {
     "end_time": "2018-06-29T21:36:37.321364Z",
     "start_time": "2018-06-29T21:36:37.312359Z"
    }
   },
   "outputs": [
    {
     "data": {
      "text/plain": [
       "<div class=\"c77\">AbbVie employed approximately 30,000 persons as of January 31, 2017. Outside the United\n",
       "States, some of AbbVie's employees are represented by unions or works councils. AbbVie believes that it has\n",
       "good relations with its employees.</div>"
      ]
     },
     "execution_count": 29,
     "metadata": {},
     "output_type": "execute_result"
    }
   ],
   "source": [
    "soup3_emp_count[0].parent.next_sibling.next_sibling"
   ]
  },
  {
   "cell_type": "code",
   "execution_count": 30,
   "metadata": {
    "ExecuteTime": {
     "end_time": "2018-06-29T21:36:37.331370Z",
     "start_time": "2018-06-29T21:36:37.322365Z"
    },
    "scrolled": true
   },
   "outputs": [
    {
     "data": {
      "text/plain": [
       "<div class=\"c74\">Employees</div>"
      ]
     },
     "execution_count": 30,
     "metadata": {},
     "output_type": "execute_result"
    }
   ],
   "source": [
    "soup3_emp_count[0].find_parent(name=block_re)#.parent#.find_next_siblings(block_re, limit=6)"
   ]
  },
  {
   "cell_type": "code",
   "execution_count": 31,
   "metadata": {
    "ExecuteTime": {
     "end_time": "2018-06-29T21:36:37.343379Z",
     "start_time": "2018-06-29T21:36:37.332371Z"
    }
   },
   "outputs": [
    {
     "data": {
      "text/plain": [
       "<div class=\"c77\">AbbVie employed approximately 30,000 persons as of January 31, 2017. Outside the United\n",
       "States, some of AbbVie's employees are represented by unions or works councils. AbbVie believes that it has\n",
       "good relations with its employees.</div>"
      ]
     },
     "execution_count": 31,
     "metadata": {},
     "output_type": "execute_result"
    }
   ],
   "source": [
    "soup3_emp_count[0].find_parent(name=block_re).next_sibling.next_sibling"
   ]
  },
  {
   "cell_type": "markdown",
   "metadata": {
    "heading_collapsed": true
   },
   "source": [
    "#### Example 4"
   ]
  },
  {
   "cell_type": "code",
   "execution_count": 116,
   "metadata": {
    "ExecuteTime": {
     "end_time": "2018-07-23T03:49:26.919393Z",
     "start_time": "2018-07-23T03:49:07.487627Z"
    },
    "hidden": true
   },
   "outputs": [],
   "source": [
    "with open(html_path_list[4], encoding=\"utf8\") as file: \n",
    "            file4_html = file.read()\n",
    "            soup4 = bs(file4_html, 'lxml')\n",
    "soup4_emp_count = soup4.find_all(string=[emp_pats])"
   ]
  },
  {
   "cell_type": "code",
   "execution_count": 117,
   "metadata": {
    "ExecuteTime": {
     "end_time": "2018-07-23T03:49:28.779148Z",
     "start_time": "2018-07-23T03:49:28.775146Z"
    },
    "hidden": true,
    "scrolled": false
   },
   "outputs": [
    {
     "data": {
      "text/plain": [
       "5"
      ]
     },
     "execution_count": 117,
     "metadata": {},
     "output_type": "execute_result"
    }
   ],
   "source": [
    "len(soup4_emp_count)"
   ]
  },
  {
   "cell_type": "code",
   "execution_count": 119,
   "metadata": {
    "ExecuteTime": {
     "end_time": "2018-07-23T03:49:38.237407Z",
     "start_time": "2018-07-23T03:49:38.233404Z"
    },
    "hidden": true,
    "scrolled": true
   },
   "outputs": [
    {
     "data": {
      "text/plain": [
       "\"Workers' Compensation):\""
      ]
     },
     "execution_count": 119,
     "metadata": {},
     "output_type": "execute_result"
    }
   ],
   "source": [
    "soup4_emp_count[1]"
   ]
  },
  {
   "cell_type": "markdown",
   "metadata": {
    "heading_collapsed": true
   },
   "source": [
    "#### Example 5"
   ]
  },
  {
   "cell_type": "code",
   "execution_count": 120,
   "metadata": {
    "ExecuteTime": {
     "end_time": "2018-07-23T03:50:08.326032Z",
     "start_time": "2018-07-23T03:50:01.159017Z"
    },
    "hidden": true
   },
   "outputs": [],
   "source": [
    "with open(html_path_list[24], encoding=\"utf8\") as file: \n",
    "            file5_html = file.read()\n",
    "            soup5 = bs(file5_html, 'lxml')\n",
    "soup5_emp_count = soup5.find_all(string=[emp_pats])"
   ]
  },
  {
   "cell_type": "code",
   "execution_count": 121,
   "metadata": {
    "ExecuteTime": {
     "end_time": "2018-07-23T03:50:10.525201Z",
     "start_time": "2018-07-23T03:50:10.520198Z"
    },
    "hidden": true
   },
   "outputs": [
    {
     "data": {
      "text/plain": [
       "7"
      ]
     },
     "execution_count": 121,
     "metadata": {},
     "output_type": "execute_result"
    }
   ],
   "source": [
    "len(soup5_emp_count)"
   ]
  },
  {
   "cell_type": "code",
   "execution_count": 37,
   "metadata": {
    "ExecuteTime": {
     "end_time": "2018-06-29T21:37:04.491219Z",
     "start_time": "2018-06-29T21:37:04.481212Z"
    },
    "hidden": true,
    "scrolled": true
   },
   "outputs": [
    {
     "data": {
      "text/plain": [
       "['Employees',\n",
       " ', we employed approximately 8,400 people in R&D and related support\\nactivities, including a substantial number of physicians, scientists holding graduate or postgraduate degrees\\nand higher-skilled technical personnel.',\n",
       " 'Employees',\n",
       " 'We have approximately 25,000 employees as of December 31,',\n",
       " 'BMS sponsors defined benefit pension plans, defined contribution plans and\\ntermination indemnity plans for regular full-time employees. The principal defined benefit pension plan is the\\nBristol-Myers Squibb Retirement Income Plan, covering most U.S. employees and representing approximately',\n",
       " 'In the\\nevent of your Retirement prior to settlement of the Performance Share Units, you will be deemed vested in a\\nprorated portion of the Performance Share Units granted, provided that you have been employed',\n",
       " 'during the Non-Competition and Non-Solicitation Period, employ, solicit for employment,\\nsolicit, induce, encourage, or participate in soliciting, inducing or encouraging any Company employee who is\\nemployed']"
      ]
     },
     "execution_count": 37,
     "metadata": {},
     "output_type": "execute_result"
    }
   ],
   "source": [
    "soup5_emp_count"
   ]
  },
  {
   "cell_type": "code",
   "execution_count": 38,
   "metadata": {
    "ExecuteTime": {
     "end_time": "2018-06-29T21:37:04.502225Z",
     "start_time": "2018-06-29T21:37:04.493220Z"
    },
    "hidden": true
   },
   "outputs": [
    {
     "data": {
      "text/plain": [
       "<div class=\"c71\"><span class=\"c73\">We have approximately 25,000 employees as of December 31,</span>\n",
       "<span class=\"c73\">2016</span><span class=\"c73\">.</span></div>"
      ]
     },
     "execution_count": 38,
     "metadata": {},
     "output_type": "execute_result"
    }
   ],
   "source": [
    "soup5_emp_count[2].find_parent(block_re).next_sibling.next_sibling.next_sibling.next_sibling"
   ]
  },
  {
   "cell_type": "code",
   "execution_count": 39,
   "metadata": {
    "ExecuteTime": {
     "end_time": "2018-06-29T21:37:04.514233Z",
     "start_time": "2018-06-29T21:37:04.503226Z"
    },
    "hidden": true,
    "scrolled": false
   },
   "outputs": [
    {
     "data": {
      "text/plain": [
       "'We have approximately 25,000 employees as of December 31,'"
      ]
     },
     "execution_count": 39,
     "metadata": {},
     "output_type": "execute_result"
    }
   ],
   "source": [
    "soup5_emp_count[2].find_parent(block_re).find_next_siblings(block_re, limit=2)[1].find(string=emp_pats)"
   ]
  },
  {
   "cell_type": "markdown",
   "metadata": {},
   "source": [
    "## Test regex"
   ]
  },
  {
   "cell_type": "markdown",
   "metadata": {},
   "source": [
    "###  function: check_regex_match"
   ]
  },
  {
   "cell_type": "code",
   "execution_count": 12,
   "metadata": {
    "ExecuteTime": {
     "end_time": "2018-07-23T04:18:26.122427Z",
     "start_time": "2018-07-23T04:18:26.114420Z"
    }
   },
   "outputs": [],
   "source": [
    "def check_regex_match(pattern, text_list):\n",
    "    for idx, s in enumerate(text_list):\n",
    "        mo = re.search(pattern, s)\n",
    "        if mo:\n",
    "            ms = mo.span()[1]\n",
    "            print(\"------    \" + str(idx) + \"   Matched!    -----\")\n",
    "            print('str length  :' + str(len(s)) + '    match span  :' + str(ms))\n",
    "            print(s[:ms])\n",
    "            print('')\n",
    "            print(s[ms:])\n",
    "            print(re.search(pattern, s))\n",
    "        else:\n",
    "            print(\"------    \" + str(idx) + \"  NO MATCH    -----\")\n",
    "            print(s)"
   ]
  },
  {
   "cell_type": "markdown",
   "metadata": {},
   "source": [
    "## Write functions to flag paragraphs"
   ]
  },
  {
   "cell_type": "markdown",
   "metadata": {},
   "source": [
    "notes:\n",
    "- if r\"^Employees$\" matches, find the next block element that matches another pattern \n",
    "- Include tables as \"matches\" when siblings of Employees block elements"
   ]
  },
  {
   "cell_type": "markdown",
   "metadata": {},
   "source": [
    "Need regex that will capture heading tags"
   ]
  },
  {
   "cell_type": "code",
   "execution_count": 13,
   "metadata": {
    "ExecuteTime": {
     "end_time": "2018-07-23T04:18:29.381436Z",
     "start_time": "2018-07-23T04:18:29.378434Z"
    }
   },
   "outputs": [],
   "source": [
    "head_block_re = re.compile(r\"^(p|div|h[1-6])$\")"
   ]
  },
  {
   "cell_type": "code",
   "execution_count": 49,
   "metadata": {
    "ExecuteTime": {
     "end_time": "2018-07-23T17:15:48.663786Z",
     "start_time": "2018-07-23T17:15:48.658783Z"
    }
   },
   "outputs": [],
   "source": [
    "emp_head_raw = re.compile(r\"[>](Our|Number of  )?(Associates|Employees|Headcount|Personnel|Team Members|Workforce)[<]\", re.I)\n",
    "emp_head = re.compile(r\"^(Our|Number of  )?(Associates|Employees|Headcount|Personnel|Team Members|Workforce)$\", re.I)"
   ]
  },
  {
   "cell_type": "markdown",
   "metadata": {
    "heading_collapsed": true
   },
   "source": [
    "### Test logic for finding paragraphs below flagged headings"
   ]
  },
  {
   "cell_type": "code",
   "execution_count": 42,
   "metadata": {
    "ExecuteTime": {
     "end_time": "2018-06-29T21:37:04.544254Z",
     "start_time": "2018-06-29T21:37:04.535247Z"
    },
    "hidden": true
   },
   "outputs": [
    {
     "data": {
      "text/plain": [
       "<span class=\"c58\">Employees</span>"
      ]
     },
     "execution_count": 42,
     "metadata": {},
     "output_type": "execute_result"
    }
   ],
   "source": [
    "emp2_tag"
   ]
  },
  {
   "cell_type": "code",
   "execution_count": 43,
   "metadata": {
    "ExecuteTime": {
     "end_time": "2018-06-29T21:37:04.553260Z",
     "start_time": "2018-06-29T21:37:04.546254Z"
    },
    "hidden": true
   },
   "outputs": [
    {
     "data": {
      "text/plain": [
       "342239"
      ]
     },
     "execution_count": 43,
     "metadata": {},
     "output_type": "execute_result"
    }
   ],
   "source": [
    "file2_html.find('>Employees<')"
   ]
  },
  {
   "cell_type": "code",
   "execution_count": 44,
   "metadata": {
    "ExecuteTime": {
     "end_time": "2018-06-29T21:37:04.587290Z",
     "start_time": "2018-06-29T21:37:04.555261Z"
    },
    "hidden": true
   },
   "outputs": [],
   "source": [
    "re.search(emp_head, file2_html)"
   ]
  },
  {
   "cell_type": "code",
   "execution_count": 45,
   "metadata": {
    "ExecuteTime": {
     "end_time": "2018-06-29T21:37:04.597288Z",
     "start_time": "2018-06-29T21:37:04.589283Z"
    },
    "hidden": true
   },
   "outputs": [
    {
     "data": {
      "text/plain": [
       "459"
      ]
     },
     "execution_count": 45,
     "metadata": {},
     "output_type": "execute_result"
    }
   ],
   "source": [
    "file2_html.count('\\n',0,86339)"
   ]
  },
  {
   "cell_type": "code",
   "execution_count": 46,
   "metadata": {
    "ExecuteTime": {
     "end_time": "2018-06-29T21:37:04.628308Z",
     "start_time": "2018-06-29T21:37:04.598289Z"
    },
    "collapsed": true,
    "hidden": true
   },
   "outputs": [
    {
     "data": {
      "text/plain": [
       "<p class=\"c77\"><span class=\"c32\">As of December 31, 2016, we employed 2,776 full-time employees, of which 31\n",
       "held Ph.D. degrees in a science or engineering field. Of our employees, 287 are located in the U.S., 1,218 are\n",
       "located in Taiwan and 1,271 are located in China. None of our employees are represented by any collective\n",
       "bargaining agreement, but certain employees of our China subsidiary are members of a trade union. We have never\n",
       "suffered any work stoppage as a result of an employment related strike or any employee related dispute and\n",
       "believe that we have satisfactory relations with our employees.</span></p>"
      ]
     },
     "execution_count": 46,
     "metadata": {},
     "output_type": "execute_result"
    }
   ],
   "source": [
    "soup2.body.find(string=emp_head).find_parent(\n",
    "    name=block_re).next_sibling.next_sibling.next_sibling.next_sibling"
   ]
  },
  {
   "cell_type": "code",
   "execution_count": 47,
   "metadata": {
    "ExecuteTime": {
     "end_time": "2018-06-29T21:37:05.321165Z",
     "start_time": "2018-06-29T21:37:04.630310Z"
    },
    "collapsed": true,
    "hidden": true
   },
   "outputs": [
    {
     "data": {
      "text/plain": [
       "[<div class=\"c106\"></div>,\n",
       " <div class=\"c71\"><span class=\"c73\">We have approximately 25,000 employees as of December 31,</span>\n",
       " <span class=\"c73\">2016</span><span class=\"c73\">.</span></div>,\n",
       " <div><a id=\"sD00DD6DDD08DA54E10480FFA5CAA1F4F\" name=\"sD00DD6DDD08DA54E10480FFA5CAA1F4F\"></a></div>,\n",
       " <div class=\"c1\"></div>,\n",
       " <div class=\"c70\">Foreign Operations</div>]"
      ]
     },
     "execution_count": 47,
     "metadata": {},
     "output_type": "execute_result"
    }
   ],
   "source": [
    "soup5.find_all(string=emp_head)[1].find_parent(block_re).find_next_siblings(block_re, limit=5)#[1].find(string=emp_pats)\n",
    "#.next_sibling.next_sibling#.next_sibling.next_sibling\n"
   ]
  },
  {
   "cell_type": "markdown",
   "metadata": {
    "hidden": true
   },
   "source": [
    "Lists to accumulate flagged items; later turned into dataframes"
   ]
  },
  {
   "cell_type": "markdown",
   "metadata": {},
   "source": [
    "### Find candidate paragraphs"
   ]
  },
  {
   "cell_type": "code",
   "execution_count": 50,
   "metadata": {
    "ExecuteTime": {
     "end_time": "2018-07-23T17:17:23.672084Z",
     "start_time": "2018-07-23T17:17:23.668081Z"
    }
   },
   "outputs": [],
   "source": [
    "acc_id_list = [] ; para_list_orig = [] ;  tag_list = [];\n",
    "emp_head_list = []; emp_head_first_list = [];\n",
    "tbl_acc_id_list = [] ; tbl_tag_list = []; "
   ]
  },
  {
   "cell_type": "code",
   "execution_count": 51,
   "metadata": {
    "ExecuteTime": {
     "end_time": "2018-07-23T18:33:49.279167Z",
     "start_time": "2018-07-23T17:17:23.674085Z"
    },
    "scrolled": false
   },
   "outputs": [],
   "source": [
    "for i, fl in enumerate(html_path_list[:557]):\n",
    "    acc_id = PurePath(fl).stem.replace('.html', '')\n",
    "    tag_set = set();\n",
    "    with open(fl, encoding=\"utf8\") as file: \n",
    "        file_html = file.read()\n",
    "        soup = bs(file_html, 'lxml')\n",
    "#        emp_head_flag = False\n",
    "#        emp_head_first_match = False\n",
    "        if re.search(emp_head_raw, file_html):\n",
    "            for ihead, hblock in enumerate(soup.body.find_all(string=emp_head, limit=4)):\n",
    "                try:\n",
    "                    emp_head_tag = hblock.find_parent(name=head_block_re)\n",
    "                    if emp_head_tag.name != 'table' and emp_head_tag.find_parent('table') == None:\n",
    "                        emp_head_matched = False\n",
    "            #            print(emp_head_tag.name) ;print(emp_head_tag)\n",
    "                        for i2, block in enumerate(emp_head_tag.find_next_siblings(block_re, limit=6)):\n",
    "                            #print('Block sibling number: ' + str(i2))\n",
    "                            if block.find(string=[emp_pats]) != None and block.name != 'table':\n",
    "                                block_tag = copy.copy(block)\n",
    "                                if block_tag not in tag_set:\n",
    "                                    acc_id_list.append(acc_id) \n",
    "                                    tag_list.append(block_tag)\n",
    "                                    para_list_orig.append(block_tag.get_text())\n",
    "                                    tag_set.add(block_tag)\n",
    "                                    emp_head_list.append(True)\n",
    "                                    if not emp_head_matched:\n",
    "                                        emp_head_flag = True\n",
    "                                        emp_head_matched = True\n",
    "                                        emp_head_first_list.append(True)\n",
    "                                    else:\n",
    "                                        emp_head_first_list.append(False)\n",
    "                            if block.find('table') != None:\n",
    "            #                    print('Found table match!')\n",
    "                                tbl_block_tag = copy.copy(block)\n",
    "                                if tbl_block_tag not in tag_set:\n",
    "                                    tbl_acc_id_list.append(acc_id) \n",
    "                                    tbl_tag_list.append(tbl_block_tag)\n",
    "                                    tag_set.add(tbl_block_tag)\n",
    "                except:\n",
    "                    continue\n",
    "                        #tbl_df = pd.read_html(block.find('table').prettify(), tupleize_cols=True)[0].dropna(axis=1,how='all')\n",
    "    #                    print(tbl_df); print(tbl_df.info()); print(block)\n",
    "#        else:\n",
    "#            print('No Employees header')\n",
    "        soup_emp_count = soup.body.find_all(string=[emp_pats])\n",
    "        soup_emp_paras = [x.find_parent(name=block_re) for x in soup_emp_count]\n",
    "        soup_emp_paras = [x for x in soup_emp_paras if x != None]\n",
    "        for i2, block in enumerate(soup_emp_paras):\n",
    "#                print('Para number: ' + str(i2)); print(block)\n",
    "            block_tag = copy.copy(block)\n",
    "            if block_tag not in tag_set:\n",
    "                if block.find('table') != None:\n",
    "                    tbl_acc_id_list.append(acc_id) \n",
    "                    tbl_tag_list.append(block_tag)\n",
    "                    tag_set.add(block_tag)\n",
    "                else:\n",
    "                    acc_id_list.append(acc_id) \n",
    "                    tag_list.append(block_tag)\n",
    "                    tag_set.add(block_tag)\n",
    "                    para_list_orig.append(block_tag.get_text())\n",
    "                    emp_head_list.append(False)\n",
    "                    emp_head_first_list.append(False)\n",
    "#emp2_tag.find_next_siblings(block_re, limit = 1, string=False)[0].find(string=[emp_pats]).parent"
   ]
  },
  {
   "cell_type": "code",
   "execution_count": 52,
   "metadata": {
    "ExecuteTime": {
     "end_time": "2018-07-23T18:33:49.290108Z",
     "start_time": "2018-07-23T18:33:49.280096Z"
    },
    "scrolled": true
   },
   "outputs": [
    {
     "name": "stdout",
     "output_type": "stream",
     "text": [
      "555\n",
      "3775\n",
      "3775\n",
      "3237\n",
      "3775\n",
      "3775\n",
      "3775\n",
      "57\n",
      "57\n"
     ]
    }
   ],
   "source": [
    "print(len(set(acc_id_list)))\n",
    "print(len(acc_id_list))\n",
    "print(len(para_list_orig))\n",
    "print(len(set(para_list_orig)))\n",
    "print(len(tag_list))\n",
    "print(len(emp_head_list))\n",
    "print(len(emp_head_first_list))\n",
    "print(len(tbl_acc_id_list))\n",
    "print(len(tbl_tag_list))"
   ]
  },
  {
   "cell_type": "markdown",
   "metadata": {},
   "source": [
    "### Create dataframes and save as CSVs"
   ]
  },
  {
   "cell_type": "code",
   "execution_count": 53,
   "metadata": {
    "ExecuteTime": {
     "end_time": "2018-07-23T18:33:49.310797Z",
     "start_time": "2018-07-23T18:33:49.292109Z"
    }
   },
   "outputs": [],
   "source": [
    "#### Make dataframe\n",
    "tbl_html_df = pd.DataFrame(data = { 'acc_id': tbl_acc_id_list, 'tbl_html': tbl_tag_list, 'split' : 'train' })\n",
    "tbl_html_df.loc[tbl_html_df.acc_id.isin(val_accession_ids),'split'] = 'val'"
   ]
  },
  {
   "cell_type": "code",
   "execution_count": 54,
   "metadata": {
    "ExecuteTime": {
     "end_time": "2018-07-23T18:33:49.323164Z",
     "start_time": "2018-07-23T18:33:49.310797Z"
    }
   },
   "outputs": [
    {
     "name": "stdout",
     "output_type": "stream",
     "text": [
      "<class 'pandas.core.frame.DataFrame'>\n",
      "RangeIndex: 57 entries, 0 to 56\n",
      "Data columns (total 4 columns):\n",
      "acc_id      57 non-null object\n",
      "split       57 non-null object\n",
      "tbl_html    57 non-null object\n",
      "idx         57 non-null int64\n",
      "dtypes: int64(1), object(3)\n",
      "memory usage: 1.9+ KB\n"
     ]
    }
   ],
   "source": [
    "tbl_html_df.loc[:,'idx'] = tbl_html_df.index.values\n",
    "\n",
    "tbl_html_df.info()"
   ]
  },
  {
   "cell_type": "code",
   "execution_count": 55,
   "metadata": {
    "ExecuteTime": {
     "end_time": "2018-07-23T18:33:49.467984Z",
     "start_time": "2018-07-23T18:33:49.325164Z"
    }
   },
   "outputs": [],
   "source": [
    "#### Write to csv for later use\n",
    "tbl_html_df.to_csv('data/tbl_html_df_1.csv')"
   ]
  },
  {
   "cell_type": "code",
   "execution_count": 56,
   "metadata": {
    "ExecuteTime": {
     "end_time": "2018-07-23T18:33:49.498426Z",
     "start_time": "2018-07-23T18:33:49.467984Z"
    }
   },
   "outputs": [],
   "source": [
    "paragraph_input_dict = {'acc_id' : acc_id_list, \n",
    "                        'para_text' : [p.replace('\\n', ' ').strip().replace(' ,', ',') for p in para_list_orig],\n",
    "                        'len' : [len(p) for p in para_list_orig], \n",
    "                        'emp_header' : emp_head_list,\n",
    "                        'first_emp_head_block' : emp_head_first_list,\n",
    "                       'para_text_orig' : para_list_orig, \n",
    "                        'para_tag' : tag_list, \n",
    "                       'split' : 'train', \n",
    "                       'label' : 0 }\n",
    "#paragraph_input_df['para_text'] = paragraph_input_df.para_text_orig.replace('\\n', ' ')\n",
    "p_columns = ['acc_id', 'para_text', 'len', 'emp_header', 'first_emp_head_block', 'para_text_orig',\n",
    "              'para_tag', 'split', 'label']\n",
    "\n",
    "paragraph_input_df = pd.DataFrame(paragraph_input_dict, columns=p_columns)\n",
    "\n",
    "\n",
    "paragraph_input_df.loc[paragraph_input_df.acc_id.isin(val_accession_ids),'split'] = 'val'\n",
    "\n",
    "train_df = paragraph_input_df[paragraph_input_df.split == 'train']"
   ]
  },
  {
   "cell_type": "code",
   "execution_count": 57,
   "metadata": {
    "ExecuteTime": {
     "end_time": "2018-07-23T18:33:49.516442Z",
     "start_time": "2018-07-23T18:33:49.499433Z"
    },
    "scrolled": true
   },
   "outputs": [
    {
     "name": "stdout",
     "output_type": "stream",
     "text": [
      "<class 'pandas.core.frame.DataFrame'>\n",
      "RangeIndex: 3775 entries, 0 to 3774\n",
      "Data columns (total 10 columns):\n",
      "acc_id                  3775 non-null object\n",
      "para_text               3775 non-null object\n",
      "len                     3775 non-null int64\n",
      "emp_header              3775 non-null bool\n",
      "first_emp_head_block    3775 non-null bool\n",
      "para_text_orig          3775 non-null object\n",
      "para_tag                3775 non-null object\n",
      "split                   3775 non-null object\n",
      "label                   3775 non-null int64\n",
      "idx                     3775 non-null int64\n",
      "dtypes: bool(2), int64(3), object(5)\n",
      "memory usage: 243.4+ KB\n"
     ]
    }
   ],
   "source": [
    "paragraph_input_df.loc[:,'idx'] = paragraph_input_df.index.values\n",
    "\n",
    "paragraph_input_df.info()"
   ]
  },
  {
   "cell_type": "code",
   "execution_count": 58,
   "metadata": {
    "ExecuteTime": {
     "end_time": "2018-07-23T18:33:49.537457Z",
     "start_time": "2018-07-23T18:33:49.517443Z"
    }
   },
   "outputs": [
    {
     "data": {
      "text/html": [
       "<div>\n",
       "<style scoped>\n",
       "    .dataframe tbody tr th:only-of-type {\n",
       "        vertical-align: middle;\n",
       "    }\n",
       "\n",
       "    .dataframe tbody tr th {\n",
       "        vertical-align: top;\n",
       "    }\n",
       "\n",
       "    .dataframe thead th {\n",
       "        text-align: right;\n",
       "    }\n",
       "</style>\n",
       "<table border=\"1\" class=\"dataframe\">\n",
       "  <thead>\n",
       "    <tr style=\"text-align: right;\">\n",
       "      <th></th>\n",
       "      <th>acc_id</th>\n",
       "      <th>para_text</th>\n",
       "      <th>len</th>\n",
       "      <th>emp_header</th>\n",
       "      <th>first_emp_head_block</th>\n",
       "      <th>para_text_orig</th>\n",
       "      <th>para_tag</th>\n",
       "      <th>split</th>\n",
       "      <th>label</th>\n",
       "      <th>idx</th>\n",
       "    </tr>\n",
       "  </thead>\n",
       "  <tbody>\n",
       "    <tr>\n",
       "      <th>0</th>\n",
       "      <td>0000003570-17-000052</td>\n",
       "      <td>We had 911 full-time employees at January 31, ...</td>\n",
       "      <td>53</td>\n",
       "      <td>True</td>\n",
       "      <td>True</td>\n",
       "      <td>We had 911 full-time\\nemployees at January 31,...</td>\n",
       "      <td>&lt;div class=\"c93\"&gt;&lt;span class=\"c14\"&gt;We had&lt;/spa...</td>\n",
       "      <td>val</td>\n",
       "      <td>0</td>\n",
       "      <td>0</td>\n",
       "    </tr>\n",
       "    <tr>\n",
       "      <th>1</th>\n",
       "      <td>0000003570-17-000052</td>\n",
       "      <td>Employees</td>\n",
       "      <td>9</td>\n",
       "      <td>False</td>\n",
       "      <td>False</td>\n",
       "      <td>Employees</td>\n",
       "      <td>&lt;div class=\"c91\"&gt;Employees&lt;/div&gt;</td>\n",
       "      <td>val</td>\n",
       "      <td>0</td>\n",
       "      <td>1</td>\n",
       "    </tr>\n",
       "    <tr>\n",
       "      <th>2</th>\n",
       "      <td>0000003570-17-000052</td>\n",
       "      <td>Our total operating costs and expenses increas...</td>\n",
       "      <td>778</td>\n",
       "      <td>False</td>\n",
       "      <td>False</td>\n",
       "      <td>Our total operating costs and expenses increas...</td>\n",
       "      <td>&lt;div class=\"c93\"&gt;&lt;span class=\"c14\"&gt;Our total o...</td>\n",
       "      <td>val</td>\n",
       "      <td>0</td>\n",
       "      <td>2</td>\n",
       "    </tr>\n",
       "    <tr>\n",
       "      <th>3</th>\n",
       "      <td>0000003570-17-000052</td>\n",
       "      <td>Blackstone Group disclosed that NCR Corporatio...</td>\n",
       "      <td>1826</td>\n",
       "      <td>False</td>\n",
       "      <td>False</td>\n",
       "      <td>Blackstone Group disclosed that NCR Corporatio...</td>\n",
       "      <td>&lt;div class=\"c93\"&gt;&lt;span class=\"c14\"&gt;Blackstone ...</td>\n",
       "      <td>val</td>\n",
       "      <td>0</td>\n",
       "      <td>3</td>\n",
       "    </tr>\n",
       "    <tr>\n",
       "      <th>4</th>\n",
       "      <td>0000004127-16-000068</td>\n",
       "      <td>As of September 30, 2016, we employed approxim...</td>\n",
       "      <td>245</td>\n",
       "      <td>True</td>\n",
       "      <td>True</td>\n",
       "      <td>As of September 30, 2016,\\nwe employed approxi...</td>\n",
       "      <td>&lt;div class=\"c80\"&gt;&lt;span class=\"c32\"&gt;As of&lt;/span...</td>\n",
       "      <td>train</td>\n",
       "      <td>0</td>\n",
       "      <td>4</td>\n",
       "    </tr>\n",
       "  </tbody>\n",
       "</table>\n",
       "</div>"
      ],
      "text/plain": [
       "                 acc_id                                          para_text  \\\n",
       "0  0000003570-17-000052  We had 911 full-time employees at January 31, ...   \n",
       "1  0000003570-17-000052                                          Employees   \n",
       "2  0000003570-17-000052  Our total operating costs and expenses increas...   \n",
       "3  0000003570-17-000052  Blackstone Group disclosed that NCR Corporatio...   \n",
       "4  0000004127-16-000068  As of September 30, 2016, we employed approxim...   \n",
       "\n",
       "    len  emp_header  first_emp_head_block  \\\n",
       "0    53        True                  True   \n",
       "1     9       False                 False   \n",
       "2   778       False                 False   \n",
       "3  1826       False                 False   \n",
       "4   245        True                  True   \n",
       "\n",
       "                                      para_text_orig  \\\n",
       "0  We had 911 full-time\\nemployees at January 31,...   \n",
       "1                                          Employees   \n",
       "2  Our total operating costs and expenses increas...   \n",
       "3  Blackstone Group disclosed that NCR Corporatio...   \n",
       "4  As of September 30, 2016,\\nwe employed approxi...   \n",
       "\n",
       "                                            para_tag  split  label  idx  \n",
       "0  <div class=\"c93\"><span class=\"c14\">We had</spa...    val      0    0  \n",
       "1                   <div class=\"c91\">Employees</div>    val      0    1  \n",
       "2  <div class=\"c93\"><span class=\"c14\">Our total o...    val      0    2  \n",
       "3  <div class=\"c93\"><span class=\"c14\">Blackstone ...    val      0    3  \n",
       "4  <div class=\"c80\"><span class=\"c32\">As of</span...  train      0    4  "
      ]
     },
     "execution_count": 58,
     "metadata": {},
     "output_type": "execute_result"
    }
   ],
   "source": [
    "paragraph_input_df.head()"
   ]
  },
  {
   "cell_type": "code",
   "execution_count": 59,
   "metadata": {
    "ExecuteTime": {
     "end_time": "2018-07-23T18:33:50.210738Z",
     "start_time": "2018-07-23T18:33:49.538457Z"
    }
   },
   "outputs": [],
   "source": [
    "paragraph_input_df.to_csv('data/paragraph_input_df_1.csv')"
   ]
  },
  {
   "cell_type": "markdown",
   "metadata": {},
   "source": [
    "## Debug odd findings to refine regex or code"
   ]
  },
  {
   "cell_type": "markdown",
   "metadata": {},
   "source": [
    "Code for printing results from paragraph search for a file"
   ]
  },
  {
   "cell_type": "code",
   "execution_count": 62,
   "metadata": {
    "ExecuteTime": {
     "end_time": "2018-06-30T14:20:21.755424Z",
     "start_time": "2018-06-30T14:20:21.693383Z"
    },
    "code_folding": []
   },
   "outputs": [],
   "source": [
    "def print_parse_objects(file: str, use_acc_id: bool=True, acc_id_list = full_accession_ids, \n",
    "                       file_path_list = html_path_list):\n",
    "    fl = file\n",
    "    if use_acc_id:\n",
    "        fl = html_path_list[full_accession_ids.index(fl)]        \n",
    "        print('Index number: ')\n",
    "        print(full_accession_ids.index(file))\n",
    "    print('File path: ')\n",
    "    print(fl)\n",
    "    #for i, fl in enumerate(html_path_list[303:304]):\n",
    "    with open(fl, encoding=\"utf8\") as file: \n",
    "        file_html = file.read()\n",
    "        soup = bs(file_html, 'lxml')\n",
    "        emp_head_flag = False\n",
    "        emp_head_first_match = False\n",
    "        if re.search(emp_head_raw, file_html):\n",
    "            for ihead, hblock in enumerate(soup.body.find_all(string=emp_head)):\n",
    "                emp_head_tag = hblock.find_parent(name=head_block_re)\n",
    "\n",
    "                if emp_head_tag != None and emp_head_tag.name != 'table' and emp_head_tag.find_parent('table') == None:\n",
    "                    emp_head_matched = False\n",
    "                    print(ihead); \n",
    "                    try:\n",
    "                        print(emp_head_tag.name) \n",
    "                    except:\n",
    "                        print('emp_head_tag has no name')\n",
    "                    print(emp_head_tag)\n",
    "                    for i2, block in enumerate(emp_head_tag.find_next_siblings(block_re, limit=6)):\n",
    "                        print('Block sibling number: ' + str(i2))\n",
    "                        if block.find(string=emp_pats) != None:\n",
    "                            block_tag = copy.copy(block)\n",
    "                            print('Found match!'); print(block_tag) ; print(block_tag.get_text())\n",
    "                        if block.find('table') != None:\n",
    "                            print('Found table match!')\n",
    "                            tbl_block_tag = copy.copy(block)\n",
    "                            tbl_df = pd.read_html(block.find('table').prettify())[0].dropna(axis=1,how='all')\n",
    "                            print(tbl_df); print(tbl_df.info()); print(block)\n",
    "        #else:\n",
    "        print('No Employees header')\n",
    "        soup_emp_count = soup.body.find_all(string=[emp_pats])\n",
    "        soup_emp_paras = [x.find_parent(name=head_block_re) for x in soup_emp_count]\n",
    "        soup_emp_paras = [x for x in soup_emp_paras if x != None]\n",
    "        soup_emp_blocks = [x  for x in soup_emp_count if x.name in ['p', 'div']]\n",
    "        for i2, block in enumerate(soup_emp_paras):\n",
    "            block_tag = copy.copy(block)\n",
    "            print('Para number: ' + str(i2)); \n",
    "            try:\n",
    "                print('Original match name:  ' +  soup_emp_count[i2].name)\n",
    "            except:\n",
    "                print('Original match has no name')\n",
    "            print('Original match:  ' +  soup_emp_count[i2])\n",
    "            try:\n",
    "                print('Block match name:  ' +  block_tag.name)\n",
    "            except:\n",
    "                print('Block match has no name')\n",
    "            print('Block:  ')\n",
    "            print(block)\n",
    "            print(type(block))\n",
    "            print('Block Text:  ')\n",
    "            print(block.get_text().replace('\\n', ' '))\n",
    "        for i2, block in enumerate(soup_emp_blocks):\n",
    "            print('Block number: ' + str(i2)); print(block)\n",
    "#emp2_tag.find_next_siblings(block_re, limit = 1, string=False)[0].find(string=[emp_pats]).parent"
   ]
  },
  {
   "cell_type": "code",
   "execution_count": 77,
   "metadata": {
    "ExecuteTime": {
     "end_time": "2018-06-29T15:04:28.496485Z",
     "start_time": "2018-06-29T15:04:28.491481Z"
    }
   },
   "outputs": [
    {
     "name": "stdout",
     "output_type": "stream",
     "text": [
      "Paragraphs: 8205\n",
      "Files with paragraphs: 2182\n",
      "Tables: 208\n"
     ]
    }
   ],
   "source": [
    "print('Paragraphs: ' + str(len(acc_id_list)))\n",
    "print('Files with paragraphs: ' + str(len(set(acc_id_list))))\n",
    "print('Tables: ' + str(len(tbl_acc_id_list)))"
   ]
  },
  {
   "cell_type": "markdown",
   "metadata": {},
   "source": [
    "Code for investigating files for which no candidate paragraphs were identified"
   ]
  },
  {
   "cell_type": "code",
   "execution_count": 78,
   "metadata": {
    "ExecuteTime": {
     "end_time": "2018-06-29T15:04:35.677889Z",
     "start_time": "2018-06-29T15:04:35.650871Z"
    }
   },
   "outputs": [],
   "source": [
    "missed_ids = [x for x in full_accession_ids[:100] if x not in set(acc_id_list)]\n",
    "# For investigating files with no candidate paragraphs if they are part of the training set\n",
    "#[x for x in missed_ids if x in train_accession_ids]  "
   ]
  },
  {
   "cell_type": "code",
   "execution_count": 350,
   "metadata": {
    "ExecuteTime": {
     "end_time": "2018-06-27T20:51:38.295108Z",
     "start_time": "2018-06-27T20:51:38.290106Z"
    }
   },
   "outputs": [
    {
     "data": {
      "text/plain": [
       "[89]"
      ]
     },
     "execution_count": 350,
     "metadata": {},
     "output_type": "execute_result"
    }
   ],
   "source": [
    "#find index of file for specific accession id\n",
    "#[i for i, x in enumerate(html_path_list[:300]) if re.search(r\"0000042316-17-000014\", x)]"
   ]
  },
  {
   "cell_type": "markdown",
   "metadata": {},
   "source": [
    "### Explore dataframe of paragraphs for training data"
   ]
  },
  {
   "cell_type": "code",
   "execution_count": 460,
   "metadata": {
    "ExecuteTime": {
     "end_time": "2018-06-28T18:53:02.487241Z",
     "start_time": "2018-06-28T18:53:02.472232Z"
    },
    "scrolled": true
   },
   "outputs": [
    {
     "data": {
      "text/html": [
       "<div>\n",
       "<style scoped>\n",
       "    .dataframe tbody tr th:only-of-type {\n",
       "        vertical-align: middle;\n",
       "    }\n",
       "\n",
       "    .dataframe tbody tr th {\n",
       "        vertical-align: top;\n",
       "    }\n",
       "\n",
       "    .dataframe thead th {\n",
       "        text-align: right;\n",
       "    }\n",
       "</style>\n",
       "<table border=\"1\" class=\"dataframe\">\n",
       "  <thead>\n",
       "    <tr style=\"text-align: right;\">\n",
       "      <th></th>\n",
       "      <th>acc_id</th>\n",
       "      <th>para_text</th>\n",
       "      <th>len</th>\n",
       "      <th>emp_header</th>\n",
       "      <th>first_emp_head_block</th>\n",
       "      <th>para_text_orig</th>\n",
       "      <th>para_tag</th>\n",
       "      <th>split</th>\n",
       "      <th>label</th>\n",
       "    </tr>\n",
       "  </thead>\n",
       "  <tbody>\n",
       "    <tr>\n",
       "      <th>2</th>\n",
       "      <td>0000004127-16-000068</td>\n",
       "      <td>As of September 30, 2016, we employed approxim...</td>\n",
       "      <td>245</td>\n",
       "      <td>True</td>\n",
       "      <td>True</td>\n",
       "      <td>As of September 30, 2016,\\nwe employed approxi...</td>\n",
       "      <td>&lt;div class=\"c80\"&gt;&lt;span class=\"c32\"&gt;As of&lt;/span...</td>\n",
       "      <td>train</td>\n",
       "      <td>0</td>\n",
       "    </tr>\n",
       "    <tr>\n",
       "      <th>3</th>\n",
       "      <td>0000004127-16-000068</td>\n",
       "      <td>EMPLOYEES</td>\n",
       "      <td>9</td>\n",
       "      <td>False</td>\n",
       "      <td>False</td>\n",
       "      <td>EMPLOYEES</td>\n",
       "      <td>&lt;div class=\"c90\"&gt;EMPLOYEES&lt;/div&gt;</td>\n",
       "      <td>train</td>\n",
       "      <td>0</td>\n",
       "    </tr>\n",
       "  </tbody>\n",
       "</table>\n",
       "</div>"
      ],
      "text/plain": [
       "                 acc_id                                          para_text  \\\n",
       "2  0000004127-16-000068  As of September 30, 2016, we employed approxim...   \n",
       "3  0000004127-16-000068                                          EMPLOYEES   \n",
       "\n",
       "   len  emp_header  first_emp_head_block  \\\n",
       "2  245        True                  True   \n",
       "3    9       False                 False   \n",
       "\n",
       "                                      para_text_orig  \\\n",
       "2  As of September 30, 2016,\\nwe employed approxi...   \n",
       "3                                          EMPLOYEES   \n",
       "\n",
       "                                            para_tag  split  label  \n",
       "2  <div class=\"c80\"><span class=\"c32\">As of</span...  train      0  \n",
       "3                   <div class=\"c90\">EMPLOYEES</div>  train      0  "
      ]
     },
     "execution_count": 460,
     "metadata": {},
     "output_type": "execute_result"
    }
   ],
   "source": [
    "train_df.head(2)"
   ]
  },
  {
   "cell_type": "code",
   "execution_count": 79,
   "metadata": {
    "ExecuteTime": {
     "end_time": "2018-06-29T15:04:47.957461Z",
     "start_time": "2018-06-29T15:04:47.931445Z"
    },
    "scrolled": true
   },
   "outputs": [
    {
     "data": {
      "text/html": [
       "<div>\n",
       "<style scoped>\n",
       "    .dataframe tbody tr th:only-of-type {\n",
       "        vertical-align: middle;\n",
       "    }\n",
       "\n",
       "    .dataframe tbody tr th {\n",
       "        vertical-align: top;\n",
       "    }\n",
       "\n",
       "    .dataframe thead th {\n",
       "        text-align: right;\n",
       "    }\n",
       "</style>\n",
       "<table border=\"1\" class=\"dataframe\">\n",
       "  <thead>\n",
       "    <tr style=\"text-align: right;\">\n",
       "      <th></th>\n",
       "      <th>len</th>\n",
       "      <th>label</th>\n",
       "    </tr>\n",
       "  </thead>\n",
       "  <tbody>\n",
       "    <tr>\n",
       "      <th>count</th>\n",
       "      <td>6170.000000</td>\n",
       "      <td>6170.0</td>\n",
       "    </tr>\n",
       "    <tr>\n",
       "      <th>mean</th>\n",
       "      <td>415.585575</td>\n",
       "      <td>0.0</td>\n",
       "    </tr>\n",
       "    <tr>\n",
       "      <th>std</th>\n",
       "      <td>475.612180</td>\n",
       "      <td>0.0</td>\n",
       "    </tr>\n",
       "    <tr>\n",
       "      <th>min</th>\n",
       "      <td>8.000000</td>\n",
       "      <td>0.0</td>\n",
       "    </tr>\n",
       "    <tr>\n",
       "      <th>25%</th>\n",
       "      <td>26.000000</td>\n",
       "      <td>0.0</td>\n",
       "    </tr>\n",
       "    <tr>\n",
       "      <th>50%</th>\n",
       "      <td>300.000000</td>\n",
       "      <td>0.0</td>\n",
       "    </tr>\n",
       "    <tr>\n",
       "      <th>75%</th>\n",
       "      <td>618.000000</td>\n",
       "      <td>0.0</td>\n",
       "    </tr>\n",
       "    <tr>\n",
       "      <th>max</th>\n",
       "      <td>5054.000000</td>\n",
       "      <td>0.0</td>\n",
       "    </tr>\n",
       "  </tbody>\n",
       "</table>\n",
       "</div>"
      ],
      "text/plain": [
       "               len   label\n",
       "count  6170.000000  6170.0\n",
       "mean    415.585575     0.0\n",
       "std     475.612180     0.0\n",
       "min       8.000000     0.0\n",
       "25%      26.000000     0.0\n",
       "50%     300.000000     0.0\n",
       "75%     618.000000     0.0\n",
       "max    5054.000000     0.0"
      ]
     },
     "execution_count": 79,
     "metadata": {},
     "output_type": "execute_result"
    }
   ],
   "source": [
    "train_df.describe()"
   ]
  },
  {
   "cell_type": "code",
   "execution_count": 490,
   "metadata": {
    "ExecuteTime": {
     "end_time": "2018-06-28T20:21:36.047911Z",
     "start_time": "2018-06-28T20:21:36.030900Z"
    },
    "collapsed": true
   },
   "outputs": [
    {
     "data": {
      "text/html": [
       "<div>\n",
       "<style scoped>\n",
       "    .dataframe tbody tr th:only-of-type {\n",
       "        vertical-align: middle;\n",
       "    }\n",
       "\n",
       "    .dataframe tbody tr th {\n",
       "        vertical-align: top;\n",
       "    }\n",
       "\n",
       "    .dataframe thead th {\n",
       "        text-align: right;\n",
       "    }\n",
       "</style>\n",
       "<table border=\"1\" class=\"dataframe\">\n",
       "  <thead>\n",
       "    <tr style=\"text-align: right;\">\n",
       "      <th></th>\n",
       "      <th>len_counts</th>\n",
       "    </tr>\n",
       "  </thead>\n",
       "  <tbody>\n",
       "    <tr>\n",
       "      <th>5054</th>\n",
       "      <td>1</td>\n",
       "    </tr>\n",
       "    <tr>\n",
       "      <th>4944</th>\n",
       "      <td>1</td>\n",
       "    </tr>\n",
       "    <tr>\n",
       "      <th>4868</th>\n",
       "      <td>1</td>\n",
       "    </tr>\n",
       "    <tr>\n",
       "      <th>4213</th>\n",
       "      <td>1</td>\n",
       "    </tr>\n",
       "    <tr>\n",
       "      <th>3972</th>\n",
       "      <td>1</td>\n",
       "    </tr>\n",
       "    <tr>\n",
       "      <th>3904</th>\n",
       "      <td>1</td>\n",
       "    </tr>\n",
       "    <tr>\n",
       "      <th>3878</th>\n",
       "      <td>1</td>\n",
       "    </tr>\n",
       "    <tr>\n",
       "      <th>3862</th>\n",
       "      <td>1</td>\n",
       "    </tr>\n",
       "    <tr>\n",
       "      <th>3795</th>\n",
       "      <td>1</td>\n",
       "    </tr>\n",
       "    <tr>\n",
       "      <th>3791</th>\n",
       "      <td>1</td>\n",
       "    </tr>\n",
       "    <tr>\n",
       "      <th>3605</th>\n",
       "      <td>1</td>\n",
       "    </tr>\n",
       "    <tr>\n",
       "      <th>3559</th>\n",
       "      <td>1</td>\n",
       "    </tr>\n",
       "    <tr>\n",
       "      <th>3413</th>\n",
       "      <td>1</td>\n",
       "    </tr>\n",
       "    <tr>\n",
       "      <th>3383</th>\n",
       "      <td>1</td>\n",
       "    </tr>\n",
       "    <tr>\n",
       "      <th>3343</th>\n",
       "      <td>1</td>\n",
       "    </tr>\n",
       "    <tr>\n",
       "      <th>3331</th>\n",
       "      <td>1</td>\n",
       "    </tr>\n",
       "    <tr>\n",
       "      <th>3306</th>\n",
       "      <td>1</td>\n",
       "    </tr>\n",
       "    <tr>\n",
       "      <th>3302</th>\n",
       "      <td>1</td>\n",
       "    </tr>\n",
       "    <tr>\n",
       "      <th>3191</th>\n",
       "      <td>1</td>\n",
       "    </tr>\n",
       "    <tr>\n",
       "      <th>3171</th>\n",
       "      <td>1</td>\n",
       "    </tr>\n",
       "    <tr>\n",
       "      <th>2857</th>\n",
       "      <td>1</td>\n",
       "    </tr>\n",
       "    <tr>\n",
       "      <th>2830</th>\n",
       "      <td>1</td>\n",
       "    </tr>\n",
       "    <tr>\n",
       "      <th>2802</th>\n",
       "      <td>1</td>\n",
       "    </tr>\n",
       "    <tr>\n",
       "      <th>2510</th>\n",
       "      <td>1</td>\n",
       "    </tr>\n",
       "    <tr>\n",
       "      <th>2490</th>\n",
       "      <td>1</td>\n",
       "    </tr>\n",
       "    <tr>\n",
       "      <th>2477</th>\n",
       "      <td>1</td>\n",
       "    </tr>\n",
       "    <tr>\n",
       "      <th>2397</th>\n",
       "      <td>1</td>\n",
       "    </tr>\n",
       "    <tr>\n",
       "      <th>2369</th>\n",
       "      <td>1</td>\n",
       "    </tr>\n",
       "    <tr>\n",
       "      <th>2344</th>\n",
       "      <td>1</td>\n",
       "    </tr>\n",
       "    <tr>\n",
       "      <th>2340</th>\n",
       "      <td>1</td>\n",
       "    </tr>\n",
       "    <tr>\n",
       "      <th>...</th>\n",
       "      <td>...</td>\n",
       "    </tr>\n",
       "    <tr>\n",
       "      <th>37</th>\n",
       "      <td>5</td>\n",
       "    </tr>\n",
       "    <tr>\n",
       "      <th>36</th>\n",
       "      <td>4</td>\n",
       "    </tr>\n",
       "    <tr>\n",
       "      <th>35</th>\n",
       "      <td>4</td>\n",
       "    </tr>\n",
       "    <tr>\n",
       "      <th>34</th>\n",
       "      <td>4</td>\n",
       "    </tr>\n",
       "    <tr>\n",
       "      <th>33</th>\n",
       "      <td>3</td>\n",
       "    </tr>\n",
       "    <tr>\n",
       "      <th>32</th>\n",
       "      <td>8</td>\n",
       "    </tr>\n",
       "    <tr>\n",
       "      <th>31</th>\n",
       "      <td>15</td>\n",
       "    </tr>\n",
       "    <tr>\n",
       "      <th>30</th>\n",
       "      <td>21</td>\n",
       "    </tr>\n",
       "    <tr>\n",
       "      <th>29</th>\n",
       "      <td>24</td>\n",
       "    </tr>\n",
       "    <tr>\n",
       "      <th>28</th>\n",
       "      <td>2</td>\n",
       "    </tr>\n",
       "    <tr>\n",
       "      <th>27</th>\n",
       "      <td>2</td>\n",
       "    </tr>\n",
       "    <tr>\n",
       "      <th>26</th>\n",
       "      <td>6</td>\n",
       "    </tr>\n",
       "    <tr>\n",
       "      <th>25</th>\n",
       "      <td>6</td>\n",
       "    </tr>\n",
       "    <tr>\n",
       "      <th>24</th>\n",
       "      <td>10</td>\n",
       "    </tr>\n",
       "    <tr>\n",
       "      <th>23</th>\n",
       "      <td>6</td>\n",
       "    </tr>\n",
       "    <tr>\n",
       "      <th>22</th>\n",
       "      <td>4</td>\n",
       "    </tr>\n",
       "    <tr>\n",
       "      <th>21</th>\n",
       "      <td>11</td>\n",
       "    </tr>\n",
       "    <tr>\n",
       "      <th>20</th>\n",
       "      <td>8</td>\n",
       "    </tr>\n",
       "    <tr>\n",
       "      <th>19</th>\n",
       "      <td>8</td>\n",
       "    </tr>\n",
       "    <tr>\n",
       "      <th>18</th>\n",
       "      <td>5</td>\n",
       "    </tr>\n",
       "    <tr>\n",
       "      <th>17</th>\n",
       "      <td>12</td>\n",
       "    </tr>\n",
       "    <tr>\n",
       "      <th>16</th>\n",
       "      <td>14</td>\n",
       "    </tr>\n",
       "    <tr>\n",
       "      <th>15</th>\n",
       "      <td>13</td>\n",
       "    </tr>\n",
       "    <tr>\n",
       "      <th>14</th>\n",
       "      <td>6</td>\n",
       "    </tr>\n",
       "    <tr>\n",
       "      <th>13</th>\n",
       "      <td>10</td>\n",
       "    </tr>\n",
       "    <tr>\n",
       "      <th>12</th>\n",
       "      <td>13</td>\n",
       "    </tr>\n",
       "    <tr>\n",
       "      <th>11</th>\n",
       "      <td>6</td>\n",
       "    </tr>\n",
       "    <tr>\n",
       "      <th>10</th>\n",
       "      <td>44</td>\n",
       "    </tr>\n",
       "    <tr>\n",
       "      <th>9</th>\n",
       "      <td>697</td>\n",
       "    </tr>\n",
       "    <tr>\n",
       "      <th>8</th>\n",
       "      <td>3</td>\n",
       "    </tr>\n",
       "  </tbody>\n",
       "</table>\n",
       "<p>1119 rows × 1 columns</p>\n",
       "</div>"
      ],
      "text/plain": [
       "      len_counts\n",
       "5054           1\n",
       "4944           1\n",
       "4868           1\n",
       "4213           1\n",
       "3972           1\n",
       "3904           1\n",
       "3878           1\n",
       "3862           1\n",
       "3795           1\n",
       "3791           1\n",
       "3605           1\n",
       "3559           1\n",
       "3413           1\n",
       "3383           1\n",
       "3343           1\n",
       "3331           1\n",
       "3306           1\n",
       "3302           1\n",
       "3191           1\n",
       "3171           1\n",
       "2857           1\n",
       "2830           1\n",
       "2802           1\n",
       "2510           1\n",
       "2490           1\n",
       "2477           1\n",
       "2397           1\n",
       "2369           1\n",
       "2344           1\n",
       "2340           1\n",
       "...          ...\n",
       "37             5\n",
       "36             4\n",
       "35             4\n",
       "34             4\n",
       "33             3\n",
       "32             8\n",
       "31            15\n",
       "30            21\n",
       "29            24\n",
       "28             2\n",
       "27             2\n",
       "26             6\n",
       "25             6\n",
       "24            10\n",
       "23             6\n",
       "22             4\n",
       "21            11\n",
       "20             8\n",
       "19             8\n",
       "18             5\n",
       "17            12\n",
       "16            14\n",
       "15            13\n",
       "14             6\n",
       "13            10\n",
       "12            13\n",
       "11             6\n",
       "10            44\n",
       "9            697\n",
       "8              3\n",
       "\n",
       "[1119 rows x 1 columns]"
      ]
     },
     "execution_count": 490,
     "metadata": {},
     "output_type": "execute_result"
    }
   ],
   "source": [
    "train_df.len.value_counts().to_frame('len_counts').sort_index(ascending=False)"
   ]
  },
  {
   "cell_type": "code",
   "execution_count": 80,
   "metadata": {
    "ExecuteTime": {
     "end_time": "2018-06-29T15:05:16.998791Z",
     "start_time": "2018-06-29T15:05:16.971774Z"
    }
   },
   "outputs": [
    {
     "name": "stdout",
     "output_type": "stream",
     "text": [
      "----------------------------------- 0001193125-17-106055 -----------------------------------\n",
      "len  :5054\n",
      "\n",
      "emp_header  :False\n",
      "\n",
      "first_emp_head_block  :False\n",
      "\n",
      "para_text  :Current format     Previous format                             Millions of Euros       Millions of Euros    ASSETS   December  2015     December  2014      ASSETS   December  2015     December  2014              CASH, CASH BALANCES AT CENTRAL BANKS AND OTHER DEMAND DEPOSITS (1)   29,282    27,719     CASH AND BALANCES WITH CENTRAL BANKS   43,467    31,430    FINANCIAL ASSETS HELD FOR TRADING   78,326    83,258     FINANCIAL ASSETS HELD FOR TRADING   78,326    83,258    Derivatives   40,902    44,229     Loans and advances to credit institutions   -    -    Equity instruments   4,534    5,017     Loans and advances to customers   65    128    Debt securities   32,825    33,883     Debt securities   32,825    33,883    Loans and advances to central banks   -    -     Equity instruments   4,534    5,017    Loans and advances to credit institutions   -    -     Trading derivatives   40,902    44,229    Loans and advances to customers   65    128                         OTHER FINANCIAL ASSETS DESIGNATED AT FAIR VALUE THROUGH PROFIT OR LOSS   2,311    2,761     OTHER FINANCIAL ASSETS DESIGNATED AT FAIR VALUE THROUGH PROFIT OR LOSS   2,311    2,761    Equity instruments   2,075    2,024     Loans and advances to credit institutions   62    -    Debt securities   173    737     Loans and advances to customers   -    -    Loans and advances to central banks   -    -     Debt securities   173    737    Loans and advances to credit institutions   62    -     Equity instruments   2,075    2,024    Loans and advances to customers   -    -                AVAILABLE-FOR-SALE FINANCIAL ASSETS   113,426    94,875     AVAILABLE-FOR-SALE FINANCIAL ASSETS   113,426    94,875    Equity instruments   5,116    7,267     Debt securities   108,310    87,608    Debt securities   108,310    87,608     Equity instruments   5,116    7,267    LOANS AND RECEIVABLES (2)   471,828    376,086     LOANS AND RECEIVABLES   457,644    372,375    Debt securities   10,516    6,659     Loans and advances to credit institutions   32,962    27,059    Loans and advances to central banks   17,830    5,429     Loans and advances to customers   414,165    338,657    Loans and advances to credit institutions   29,317    25,342     Debt securities   10,516    6,659    Loans and advances to customers   414,165    338,657                HELD-TO-MATURITY INVESTMENTS   -    -     HELD-TO-MATURITY INVESTMENTS   -    -    HEDGING DERIVATIVES   3,538    2,551     FAIR VALUE CHANGES OF THE HEDGED ITEMS IN PORTFOLIO HEDGES OF INTEREST RATE RISK   45    121    FAIR VALUE CHANGES OF THE HEDGED ITEMS IN PORTFOLIO HEDGES OF INTEREST RATE RISK   45    121     HEDGING DERIVATIVES   3,538    2,551    INVESTMENTS IN SUBSIDARIES, JOINT VENTURES AND ASSOCIATES   879    4,509     NON-CURRENT ASSETS HELD FOR SALE   3,369    3,793    Joint ventures   243    4,092     INVESTMENTS IN ENTITIES ACCOUNTED FOR USING THE EQUITY METHOD   879    4,509    Associates   636    417     Associates   636    417    REINSURANCE ASSETS   511    559     Joint ventures   243    4,092    TANGIBLE ASSETS   9,944    7,820     INSURANCE CONTRACTS LINKED TO PENSIONS   -    -    Property, plants and equipment   8,477    6,428     REINSURANCE ASSETS   511    559    For own use   8,021    5,985     TANGIBLE ASSETS   9,944    7,820    Other assets leased out under an operating lease   456    443     Property, plants and equipment   8,477    6,428    Investment properties   1,467    1,392     For own use   8,021    5,985    INTANGIBLE ASSETS   10,052    7,371     Other assets leased out under an operating lease   456    443    Goodwill   6,915    5,697     Investment properties   1,467    1,392    Other intangible assets   3,137    1,673     INTANGIBLE ASSETS   10,052    7,371    TAX ASSETS   17,779    12,426     Goodwill   6,915    5,697    Current   1,901    2,035     Other intangible assets   3,137    1,673    Deferred   15,878    10,391     TAX ASSETS   17,779    12,426    OTHER ASSETS   8,566    8,094     Current   1,901    2,035    Insurance contracts linked to pensions   -    -     Deferred   15,878    10,391    Inventories   4,303    4,443     OTHER ASSETS   8,566    8,094    Rest   4,263    3,651     Inventories   4,303    4,443    NON-CURRENT ASSETS AND DISPOSAL GROUPS HELD FOR SALE (3)   3,369    3,793     Rest   4,263    3,651    TOTAL ASSETS   749,855    631,942     TOTAL ASSETS   749,855    631,942      (1) The main differences with regard to the heading \" Cash and deposits with central banks\" are the inclusion of the balances deposited in Credit Institutions and the reclassification of Loans at central banks to the heading Loans and Receivables (2) The main differences with regard to the heading \"Loans and receivables\" are the inclusion of loans at central banks and the reclassification of balances deposited in Credit institutions to the heading \"Cash, cash balances at central banks and other demand deposits\" (3) Corresponding to the heading \"Non-current assest held-for-sale\" of the previous format\n",
      "\n",
      "----------------------------------- 0001047469-17-006466 -----------------------------------\n",
      "len  :4944\n",
      "\n",
      "emp_header  :False\n",
      "\n",
      "first_emp_head_block  :False\n",
      "\n",
      "para_text  :(a) Represents:  (i) costs and expenses in connection with various restructuring initiatives since the AEA Acquisition, including severance costs, relocation costs, recruiting expenses, write-offs of inventory and fixed assets and third-party consultant costs to assist with these initiatives (includes (A) $16.9 million in fiscal 2016 (all of which is reflected as a component of Restructuring charges in \"Note 12 Restructuring and Related Charges\" to our audited consolidated financial statements) and $19.2 million for the nine months ended June 30, 2017 (all of which is reflected as a component of Restructuring charges in \"Note 11 Restructuring and Related Charges\" to our unaudited condensed consolidated financial statements) related to our voluntary separation plan pursuant to which approximately 220 employees accepted separation packages, and (B) $12.4 million (of which $4.4 million is reflected as a component of Restructuring charges in \"Note 12 Restructuring and Related Charges\" to our audited consolidated financial statements) in the Successor Period, $9.2 million (of which $6.5 million is reflected as a component of Restructuring charges in \"Note 12 Restructuring and Related Charges\" to our audited consolidated financial statements) in fiscal 2015, $11.1 million (all of which is reflected as a component of Restructuring charges in \"Note 12 Restructuring and Related Charges\" to our audited consolidated financial statements) in fiscal 2016, $9.3 million (of which $8.1 million is reflected as a component of Restructuring charges in \"Note 11 Restructuring and Related Charges\" to our unaudited condensed consolidated financial statements) in the nine months ended June 30, 2016 and $6.5 million (of which $2.9 million is reflected as a component of Restructuring charges in \"Note 11 Restructuring and Related Charges\" to our unaudited condensed consolidated financial statements) in the nine months ended June 30, 2017 related to various other initiatives implemented to restructure and reorganize our business as a standalone business with an appropriate management team and cost structure). Differences between amounts reflected as Restructuring charges in \"Note 12 Restructuring and Related Charges\" to our audited financial statements and amounts reflected in this adjustment relate primarily to retention payments made to employees in the Successor Period of $5.6 million that have been reflected as components of Cost of product sales and services ($1.2 million), Research and development expense ($0.2 million), Sales and marketing expense ($1.9 million) and General and administrative expense ($2.3 million) as well as other administrative costs associated with separation from the Predecessor that have been reflected in the Successor Period as a component of General and administrative expense (2.4 million). Differences between amounts reflected as Restructuring charges in \"Note 12 Restructuring and Related Charges\" to our audited financial statements and amounts reflected in this adjustment also relate to retention payments made to employees in fiscal 2015 of $2.5 million that have been reflected as components of Cost of product sales and services ($1.1 million), Research and development expense ($0.1 million), Sales and marketing expense ($1.0 million) and General and administrative expense ($0.3 million). Differences between amounts reflected as Restructuring charges in \"Note 11 Restructuring and Related Charges\" to our unaudited condensed consolidated financial statements in the nine months ended June 30, 2016 and June 30, 2017 and amounts reflected in this adjustment relate primarily to consulting costs and other charges related to implementing such initiatives that have primarily been recorded as a component of General and administrative expense ($1.2 million) in the nine months ended June 30, 2016 and Cost of product sales and services ($1.4 million), Sales and marketing expenses ($1.0 million) and General and administrative expense ($1.0 million) in the nine months ended June 30, 2017; (ii) legal settlement costs and intellectual property related fees associated with legacy matters prior to the AEA Acquisition, including fees and settlement costs related to product warranty litigation on MEMCOR products and certain discontinued products ($11.7 million in the Successor Period, reflected as a component of Cost of product sales and services, $11.7 million in fiscal 2015, reflected as components of Cost of product sales and services ($10.7 million) and General and administrative expenses ($1.0 million), $5.1 million, primarily reflected as a component of Cost of product sales and services in fiscal 2016, $2.5 million, primarily reflected as a component of Cost of product sales and services in the nine months ended June 30, 2016 and $1.8 million, primarily reflected as a component of General and administrative expense in the nine months ended June 30, 2017);\n",
      "\n",
      "----------------------------------- 0001193125-17-059212 -----------------------------------\n",
      "len  :4868\n",
      "\n",
      "emp_header  :False\n",
      "\n",
      "first_emp_head_block  :False\n",
      "\n",
      "para_text  :Exhibit No.     Description         4.27   Instruments defining the Rights of Security Holders, Including Indentures-Except as set forth in Exhibits 4.1 through 4.18 above, the instruments defining the rights of holders of long-term debt securities of Morgan Stanley and its subsidiaries are omitted pursuant to Section (b)(4)(iii) of Item 601 of Regulation S-K. Morgan Stanley hereby agrees to furnish copies of these instruments to the U.S. Securities and Exchange Commission upon request.        10.1   Amended and Restated Trust Agreement dated as of October 18, 2011 by and between Morgan Stanley and State Street Bank and Trust Company (Exhibit 10.1 to Morgan Stanley's Annual Report on Form 10-K for the year ended December 31, 2011).        10.2   Amended and Restated Investor Agreement dated as of June 30, 2011 by and between Morgan Stanley and Mitsubishi UFJ Financial Group, Inc. (Exhibit 10.1 to Morgan Stanley's Current Report on Form 8-K dated June 30, 2011), as amended by Third Amendment, dated October 3, 2013 (Exhibit 10.1 to Morgan Stanley's Quarterly Report on Form 10-Q for the quarter ended September 30, 2013) and Fourth Amendment, dated April 6, 2016 (Exhibit 10.1 to Morgan Stanley's Quarterly Report on Form 10-Q for the quarter ended March 31, 2016).        10.3†   Morgan Stanley 401(k) Plan, amended and restated as of January 1, 2013 (Exhibit 10.6 to Morgan Stanley Annual Report on Form 10-K for the year ended December 31, 2012), as amended by Amendment (Exhibit 10.5 to Morgan Stanley's Annual Report on Form 10-K for the year ended December 31, 2013), Amendment (Exhibit 10.6 to Morgan Stanley's Annual Report on Form 10-K for the year ended December 31, 2013). Amendment (Exhibit 10.5 to Morgan Stanley's Annual Report on Form 10-K for the year ended December 31, 2014) and Amendment (Exhibit 10.5 to Morgan Stanley's Annual Report on Form 10-K for the year ended December 31, 2015).        10.4†*   Amendment to Morgan Stanley 401(k) Plan, dated as of December 13, 2016.        10.5†   Tax Deferred Equity Participation Plan as amended and restated as of November 26, 2007 (Exhibit 10.9 to Morgan Stanley's Annual Report on Form 10-K for the fiscal year ended November 30, 2007).        10.6†   Directors' Equity Capital Accumulation Plan as amended and restated as of August 1, 2016 (Exhibit 10.1 to Morgan Stanley's Quarterly Report on Form 10-Q for the quarter ended June 30, 2016).        10.7†   Employees' Equity Accumulation Plan as amended and restated as of November 26, 2007 (Exhibit 10.12 to Morgan Stanley's Annual Report on Form 10-K for the fiscal year ended November 30, 2007).        10.8†   Employee Stock Purchase Plan as amended and restated as of February 1, 2009 (Exhibit 10.20 to Morgan Stanley's Annual Report on Form 10-K for the fiscal year ended November 30, 2008).        10.9†   Morgan Stanley Supplemental Executive Retirement and Excess Plan, amended and restated effective December 31, 2008 (Exhibit 10.2 to Morgan Stanley's Quarterly Report on Form 10-Q for the quarter ended March 31, 2009) as amended by Amendment (Exhibit 10.5 to Morgan Stanley's Quarterly Report on Form 10-Q for the quarter ended June 30, 2009), Amendment (Exhibit 10.19 to Morgan Stanley's Annual Report on Form 10-K for the year ended December 31, 2010), Amendment (Exhibit 10.3 to Morgan Stanley's Quarterly Report on Form 10-Q for the quarter ended June 30, 2011) and Amendment (Exhibit 10.1 to Morgan Stanley's Quarterly Report on Form 10-Q for the quarter ended September 30, 2014).        10.10†   1995 Equity Incentive Compensation Plan (Annex A to MSG's Proxy Statement for its 1996 Annual Meeting of Stockholders) as amended by Amendment (Exhibit 10.39 to Morgan Stanley's Annual Report on Form 10-K for the fiscal year ended November 30, 2000), Amendment (Exhibit 10.5 to Morgan Stanley's Quarterly Report on Form 10-Q for the quarter ended August 31, 2005), Amendment (Exhibit 10.3 to Morgan Stanley's Quarterly Report on Form 10-Q for the quarter ended February 28, 2006), Amendment (Exhibit 10.24 to Morgan Stanley's Annual Report on Form 10-K for the fiscal year ended November 30, 2006) and Amendment (Exhibit 10.22 to Morgan Stanley's Annual Report on Form 10-K for the fiscal year ended November 30, 2007).        10.11†   Form of Management Committee Equity Award Certificate for Discretionary Retention Award of Stock Units and Stock Options (Exhibit 10.30 to Morgan Stanley's Annual Report on Form 10-K for the fiscal year ended November 30, 2006).        10.12†   Form of Deferred Compensation Agreement under the Pre-Tax Incentive Program 2 (Exhibit 10.12 to MSG's Annual Report for the fiscal year ended November 30, 1996).        10.13†   Key Employee Private Equity Recognition Plan (Exhibit 10.43 to Morgan Stanley's Annual Report on Form 10-K for the fiscal year ended November 30, 2000).\n",
      "\n",
      "----------------------------------- 0001413329-17-000014 -----------------------------------\n",
      "len  :4541\n",
      "\n",
      "emp_header  :False\n",
      "\n",
      "first_emp_head_block  :False\n",
      "\n",
      "para_text  :In the first class action pending in Canada, Cecilia Létourneau v. Imperial Tobacco Ltd., Rothmans, Benson & Hedges Inc. and JTI Macdonald Corp., Quebec Superior Court, Canada, filed in September 1998, our subsidiary and other Canadian manufacturers (Imperial Tobacco Canada Ltd. and JTI-MacDonald Corp.) are defendants.  The plaintiff, an individual smoker, sought compensatory and punitive damages for each member of the class who is deemed addicted to smoking. The class was certified in 2005.  Trial began in March 2012 and concluded in December 2014. The trial court issued its judgment on May 27, 2015. The trial court found our subsidiary and two other Canadian manufacturers liable and awarded a total of CAD 131 million (approximately $100 million) in punitive damages, allocating CAD 46 million (approximately $35 million) to our subsidiary. The trial court found that defendants violated the Civil Code of Quebec, the Quebec Charter of Human Rights and Freedoms, and the Quebec Consumer Protection Act by failing to warn adequately of the dangers of smoking. The trial court also found that defendants conspired to prevent consumers from learning the dangers of smoking. The trial court further held that these civil faults were a cause of the class members' addiction. The trial court rejected other grounds of fault advanced by the class, holding that: (i) the evidence was insufficient to show that defendants marketed to youth, (ii) defendants' advertising did not convey false information about the characteristics of cigarettes, and (iii) defendants did not commit a fault by using the descriptors light or mild for cigarettes with a lower tar delivery. The trial court estimated the size of the addiction class at 918,000 members but declined to award compensatory damages to the addiction class because the evidence did not establish the claims with sufficient accuracy. The trial court ordered defendants to pay the full punitive damage award into a trust within 60 days and found that a claims process to allocate the awarded damages to individual class members would be too expensive and difficult to administer. The trial court ordered a briefing on the proposed process for the distribution of sums remaining from the punitive damage award after payment of attorneys' fees and legal costs. In June 2015, our subsidiary commenced the appellate process by filing its inscription of appeal of the trial court's judgment with the Court of Appeal of Quebec. Our subsidiary also filed a motion to cancel the trial court's order for payment into a trust within 60 days notwithstanding appeal. In July 2015, the Court of Appeal granted the motion to cancel and overturned the trial court's ruling that our subsidiary make the payment into a trust within 60 days. In August 2015, plaintiffs filed a motion with the Court of Appeal seeking security in both the Létourneau case and the Blais case described below. In October 2015, the Court of Appeal granted the motion and ordered our subsidiary to furnish security totaling CAD 226 million (approximately $173 million), in the form of cash into a court trust or letters of credit, in six equal consecutive quarterly installments of approximately CAD 37.6 million (approximately $28.7 million) beginning in December 2015 through March 2017. See the Blais description for further detail concerning the security order. The Court of Appeal heard oral arguments on the merits appeal in November 2016. Our subsidiary and PMI believe that the findings of liability and damages were incorrect and should ultimately be set aside on any one of many grounds, including the following: (i) holding that defendants violated Quebec law by failing to warn class members of the risks of smoking even after the court found that class members knew, or should have known, of the risks, (ii) finding that plaintiffs were not required to prove that defendants' alleged misconduct caused injury to each class member in direct contravention of binding precedent, (iii) creating a factual presumption, without any evidence from class members or otherwise, that defendants' alleged misconduct caused all smoking by all class members, (iv) holding that the addiction class members' claims for punitive damages were not time-barred even though the case was filed more than three years after a prominent addiction warning appeared on all packages, and (v) awarding punitive damages to punish defendants without proper consideration as to whether punitive damages were necessary to deter future misconduct.\n",
      "\n",
      "----------------------------------- 0001144204-17-012180 -----------------------------------\n",
      "len  :4213\n",
      "\n",
      "emp_header  :False\n",
      "\n",
      "first_emp_head_block  :False\n",
      "\n",
      "para_text  :TABLE OF CONTENTS The federal False Claims Act imposes civil penalties, including through civil whistleblower or qui tam actions, against individuals or entities for knowingly presenting, or causing to be presented, to the federal government, claims for payment that are false or fraudulent or making a false statement to avoid, decrease or conceal an obligation to pay money to the federal government. The government and qui tam relators have brought False Claims Act actions against pharmaceutical companies on the theory that their practices have caused false claims to be presented to the government. There is also a separate false claims provision imposing criminal penalties. Other federal healthcare fraud-related laws also provide criminal liability for violations. The Criminal Healthcare Fraud statute (18 U.S.C. §1347) prohibits knowingly and willfully executing a scheme to defraud any healthcare benefit program, including private third-party payers. Federal criminal law at 18 U.S.C. §1001, among other sections, prohibits knowingly and willfully falsifying, concealing or covering up a material fact or making any materially false, fictitious or fraudulent statement in connection with the delivery of or payment for healthcare benefits, items or services. Other Laws The Health Insurance Portability and Accountability Act of 1996, or HIPAA, as amended by the Health Information Technology for Economic and Clinical Health Act, imposes criminal liability for executing a scheme to defraud any healthcare benefit program and also imposes obligations, including mandatory contractual terms, with respect to safeguarding the privacy, security and transmission of individually identifiable health information. HIPAA also imposes criminal liability for knowingly and willfully falsifying, concealing or covering up a material fact or making any materially false statements in connection with the delivery of or payment for healthcare benefits, items or services. The federal Physician Payments Sunshine Act requirements under the ACA, and its implementing regulations, require manufacturers of drugs, devices, biologics and medical supplies to report to the Department of Health and Human Services information related to payments and other transfers of value made to covered recipients, such as physicians and teaching hospitals, and physician ownership and investment interests. Payments made to physicians and research institutions for clinical trials are included within the ambit of this law. A number of states also have statutes or regulations similar to the federal Anti-Kickback Statute and False Claims Act that apply to items and services reimbursed under Medicaid and other state programs. Some state anti-kickback statutes apply not just to government payors, but to all payors, including commercial payors. Employees As of December 31, 2016, we had 456 employees, including 169 in research and development, 137 in our commercial organization, 66 in our medical affairs group and 84 in general and administrative supporting functions. Geographically, 332 of our employees were based in the United States and 124 were based outside the United States. None of our employees are represented by a labor union and we consider our employee relations to be good. Corporate Information We were incorporated in the State of Delaware on September 4, 2002. Our principal executive offices are located at 450 West 15th Street, Suite 505, New York, NY 10011, and our telephone number is (646) 747-1000. We also have administrative offices in San Diego, California and London, United Kingdom. Our corporate website address is www.interceptpharma.com. Our Annual Report on Form 10-K, Quarterly Reports on Form 10-Q, Current Reports on Form 8-K, and amendments to reports filed pursuant to Sections 13(a) and 15(d) of the Securities Exchange Act of 1934, as amended, or the Exchange Act, are available free of charge on our website as soon as reasonably practicable after we electronically file such material with, or furnish it to, the Securities and Exchange Commission. The Securities and Exchange Commission maintains an internet site that contains our public filings with the Securities and Exchange\n",
      "\n",
      "----------------------------------- 0001144204-17-010224 -----------------------------------\n",
      "len  :3972\n",
      "\n",
      "emp_header  :False\n",
      "\n",
      "first_emp_head_block  :False\n",
      "\n",
      "para_text  :TABLE OF CONTENTS Contracted Power - (continued) Seasonality Each CP facility has unique seasonality based on local market factors including weather and energy demand. The solar projects generate a disproportionate amount of their revenue in the summer months when insolation is highest, while wind energy revenues vary by season depending on the location of the specific project. Other CP projects may also exhibit seasonality based on the respective market's varying electricity demand. For example, BEC is a peaking power plant that is dispatched when energy demand increases above a base load, therefore BEC is dispatched more often in the summer and winter months. Competition The contracted portion of CP's business is not subject to substantial direct competitive price pressure due to the long-term nature of the PPAs and tolling agreements with creditworthy off-takers. Our BEC facility has incremental generating capacity which is available for sale in the spot power market. After the expiration of the PPAs or tolling agreements, our facilities could be subject to greater competition. Regulation The power and energy sectors are the subject of substantial and complex laws, rules and regulations. Sector regulators include the Federal Energy Regulatory Commission (FERC) and the North American Electric Reliability Corporation (NERC). The FERC has jurisdiction over the transmission and wholesale sale of electricity in interstate commerce and over the transportation, storage and certain sales of natural gas in interstate commerce, including the rates, charges and other terms and conditions for such services. The NERC serves to establish and enforce reliability standards applicable to all users, owners and operators of the bulk power system. The U.S. Environmental Protection Agency also oversees certain environmental matters related to the construction and operations of CP's electric generating facilities. The New York competitive wholesale electricity market in which BEC participates is administered by the New York Independent System Operator (NYISO). NYISO is a not-for-profit agency that serves to ensure regional grid reliability, comprehensive planning, and open and efficient markets. BEC is also subject to certain New York State and New York City regulations and to environmental regulations by the State of New Jersey's Department of Environmental Protection. Each of the solar and wind facilities comprising CP is subject to regulation and oversight in the jurisdictions in which they operate. Employees and Management At December 31, 2016, the CP businesses had seven employees and two contractors that provide certain management oversight, while O&M is provided by third parties. MIC Hawaii Industry Overview Beginning in 2008 with the Hawaii Clean Energy Initiative, Hawaii implemented a RPS that required increasing levels of electricity be derived from renewable resources with the goal of generating cleaner and lower cost electricity. In 2015, Hawaii accelerated its RPS and currently targets 100% of its electricity generated from renewable resources by 2045 with interim milestones in 2020, 2030 and 2040. MIC Hawaii's businesses support the State's clean energy goals of lowering emissions, increasing energy security and decreasing costs for all energy users in Hawaii. For example, at Hawaii Gas, we are focused on diversifying our feedstock to include fuels which are cleaner burning and have the potential to lower energy costs for our customers, such as renewable natural gas (RNG) and liquefied natural gas (LNG). Further, natural gas-fired generation better complements Hawaii's growing renewable power generation sources given its efficiency and operating flexibility. At Waihonu Solar, we are generating renewable energy that serves customers on Oahu. At Critchfield Pacific, Inc. (CPI), we work with customers to lower their overall energy use through the design and construction of energy efficient infrastructure.\n",
      "\n",
      "----------------------------------- 0001144204-17-021318 -----------------------------------\n",
      "len  :3904\n",
      "\n",
      "emp_header  :False\n",
      "\n",
      "first_emp_head_block  :False\n",
      "\n",
      "para_text  :Members Name (age), position  Member since  Audit Committee  Personnel Committee  Related Parties Committee  Nomination and Corporate Governance Committee  Risk and Capital Management Committee  Strategy Committee  Compensation Committee(1)  International Advisory Council(2)   Board of Directors (3) (12 members)                         Pedro Moreira Salles (57), Chairman  08/2009                     Alfredo Egydio Arruda Villela Filho (47), Vice Chairman  03/2003                     Roberto Egydio Setubal (62), Vice Chairman  03/2003                     Alfredo Egydio Setubal (58), Member  06/2007                     Candido Botelho Bracher (58), Member  02/2009                     Demosthenes Madureira de Pinho Neto (56), Member  05/2012                     Fábio Colletti Barbosa (62), Independent Member  07/2015                     Gustavo Jorge Laboissière Loyola (64), Independent Member  07/2006                     José Gall  (65), Independent Member  04/2016                     Nildemar Secches (68), Independent Member  05/2012                     Pedro Luiz Bodin de Moraes (60), Independent Member  02/2009                     Ricardo Villela Marino (42), Member  06/2008                                          Board of Officers (24 members)                         Roberto Egydio Setubal (62), Chief Executive Officer  11/1995                     Candido Botelho Bracher (58), General Manager  08/2005                     Márcio de Andrade Schettini (52), General Manager  07/2015                     Marco Ambrogio Crespi Bonomi (60), General Manager  07/2015                     Eduardo Mazzilli de Vassimon (58), General Manager  03/2013                     André Sapoznik (44), Vice President  12/2016                     Caio Ibrahim David (48), Chief Financial Officer and Vice President  12/2016                     Claudia Politanski (46), Vice President  11/2008                     Alexsandro Broedel Lopes (42), Executive Officer  08/2012                     Fernando Barçante Tostes Malta (48), Executive Officer  04/2016                     Leila Cristiane Barboza Braga de Melo (45), Executive Officer  04/2015                     Paulo Sergio Miron (50), Executive Officer  07/2015                     Adriano Cabral Volpini (44), Officer  02/2015                     Álvaro Felipe Rizzi Rodrigues (39), Officer  04/2015                     Atilio Luiz Magila Albiero Junior (39), Officer  04/2016                     Eduardo Hiroyuki Miyaki (44), Officer  08/2011                     Emerson Macedo Bortoloto (39), Officer  11/2011                     Gilberto Frussa (50), Officer  04/2016                     José Virgilio Vita Neto (38), Officer  04/2015                     Marcelo Kopel (52), Officer and Investor Relations Officer  06/2014                     Matias Granata (42), Officer  07/2014                     Rodrigo Luis Rosa Couto (41), Officer  01/2012                     Sergio Mychkis Goldstein (39), Officer  04/2016                     Wagner Bettini Sanches (45), Officer  06/2014                                          Audit Committee(3) (5 members)                         Antonio Francisco de Lima Neto (51), Independent Member  07/2015                     Diego Fresco Gutierrez (46), Independent Member and Financial Expert  04/2014                     Geraldo Travaglia Filho (65), Independent Member  03/2013                     Maria Helena dos Santos Fernandes de Santana (57), Independent Member  06/2014                     Rogério Paulo Calder n Peres (54), Independent Member  11/2016                                          Fiscal Council(3) (3 members)                         Alkimar Ribeiro Moura (75), Independent Member  04/2016                     Carlos Roberto de Albuquerque Sá (66), Independent Member  04/2016                     José Caruso Cruz Henriques (69), Independent Member  04/2016\n",
      "\n",
      "----------------------------------- 0001144204-17-010224 -----------------------------------\n",
      "len  :3878\n",
      "\n",
      "emp_header  :False\n",
      "\n",
      "first_emp_head_block  :False\n",
      "\n",
      "para_text  :TABLE OF CONTENTS IMTT - (continued) Regulation The rates that IMTT charges for its services are not subject to regulation. However, a number of regulatory bodies oversee IMTT's operations. IMTT must comply with numerous federal, state and local environmental, occupational health and safety, security, tax and planning statutes and regulations. These regulations require IMTT to obtain and maintain permits to operate its facilities and impose standards that govern the way IMTT operates its business. If IMTT does not comply with the relevant regulations, it could lose its operating permits and/or incur fines and increased liability. As a result, IMTT has developed environmental and health and safety compliance functions overseen by terminal managers at the terminal level, as well as by IMTT's Vice President of Environmental, Health, Safety and Security, Chief Operating Officer and Chief Executive Officer. While changes in environmental, health and safety regulations pose a risk of higher operating costs, such changes are generally phased in over time to manage the impact on both the industry and the business. The Bayonne terminal has significant environmental remediation requirements that were partially assumed at the time of purchase from the various former owners. One former owner retained environmental remediation responsibilities for a purchased site as well as responsibility for sharing other remediation costs. Remediation efforts entail removal of the free product, groundwater control and treatment, soil treatment, repair/replacement of sewer systems, and the implementation of containment and monitoring systems. These remediation activities are expected to continue for an additional ten to twenty years. See \"Legal Proceedings\" in Part I, Item 3, for further discussions. The Lemont terminal has entered into a consent order with the State of Illinois to remediate contamination at the site that pre-dated IMTT's ownership. This remediation effort, including the implementation of extraction and monitoring wells and soil treatment, is estimated to continue for an additional ten to twenty years. Employees and Management As of December 31, 2016, IMTT (excluding the Newfoundland terminal) had a total of 1,052 employees, of which 230 employees were unionized. In January 2017, IMTT agreed to a new, five year collective bargaining agreement with its Bayonne employees represented by the United Steel Workers. This agreement is expected to be executed within the quarter ended March 31, 2017. We believe employee relations at IMTT are good. The day-to-day operations of IMTT are managed by individual terminal managers who are responsible for most aspects of the operations at their terminals. IMTT's operations are overseen by senior personnel with significant experience in the bulk liquid storage industry. Management of the business is headquartered in New Orleans, Louisiana. Atlantic Aviation Industry Overview Fixed based operations (FBOs) primarily service the GA corporate and leisure flying segment of the air transportation industry. Local airport authorities own the airport properties and grant FBO operators the right to provide fueling and other services pursuant to long-term ground leases. Fueling services provide the majority of an FBO's revenue and gross margin. FBOs often operate in environments with high barriers to entry. Airports tend to have limited physical space for additional FBOs. Airport authorities generally do not have an incentive to add additional FBOs unless there is a significant demand for additional services. Government approvals and design and construction of a new FBO can also take significant time and require significant capital expenditures. Furthermore, airports typically impose minimum standards with respect to the experience, capital investment and breadth of services provided by the FBO.\n",
      "\n",
      "----------------------------------- 0000930413-17-000981 -----------------------------------\n",
      "len  :3862\n",
      "\n",
      "emp_header  :False\n",
      "\n",
      "first_emp_head_block  :False\n",
      "\n",
      "para_text  :Form 20-F Item Number and Caption Location Page   Part I      Item 1. Identity of Directors, Senior Management and Advisers      A. Directors and senior management Not applicable.     B. Advisers Not applicable.     C. Auditors Not applicable.    Item 2. Offer Statistics and Expected Timetable      A. Offer statistics Not applicable.     B. Method and expected timetable Not applicable.    Item 3. Key Information      A. Selected financial data \"Selected consolidated financial data\" 3     \"Exchange rates\" 4    B. Capitalisation and indebtedness Not applicable.     C. Reason for the offer and use of proceeds Not applicable.     D. Risk factors \"Risk factors\" 197-214   Item 4. Information on the Company      A. History and development of the company \"Business overview\" 2     \"Business - History and development of Lloyds Banking Group\" 4     \"Business - Legal actions and regulatory matters\" 6-9     \"Operating and financial review and prospects - Line of business information\" 24-27    B. Business overview \"Business overview\" 2     \"Business - Legal actions and regulatory matters\" 6-9     \"Operating and financial review and prospects - Line of business information\" 24-27     \"Regulation\" 178-181    C. Organisational structure \"Lloyds Banking Group structure\" 216    D. Property, plant and equipment \"Business - Properties\" 6   Item 4A. Unresolved Staff Comments Not applicable.    Item 5. Operating and Financial Review and Prospects      A. Operating results \"Operating and financial review and prospects\" 10-116     \"Operating and financial review and prospects - Credit risk\" 53-85     \"Regulation\" 178-181     \"Operating and financial review and prospects - Market Risk\" 87-92    B. Liquidity and capital resources \"Operating and financial review and prospects - Risk elements in the loan portfolio - Cross border outstandings\" 85     \"Operating and financial review and prospects - Funding and Liquidity Risk\" 95-100     \"Operating and financial review and prospects - Capital risk\" 101-109     \"Operating and financial review and prospects - Investment portfolio, maturities, deposits, short-term borrowings\" 113-116     \"Dividends\" 185     \"Notes to the consolidated financial statements - note 48\" F-70    C. Research and development, patents and licenses, etc. Not applicable.     D. Trend information \"Operating and financial review and prospects - Overview and trend information\" 11-12    E. Off-balance sheet arrangements \"Operating and financial review and prospects - Funding and liquidity risk - Off balance sheet arrangements\" - also refer to financial notes 100    F. Tabular disclosure of contractual obligations \"Operating and financial review and prospects - Funding and liquidity risk - Contractual cash obligations\" 100    G. Safe harbor \"Forward looking statements\" 215   Item 6. Directors, Senior Management and Employees      A. Directors and senior management \"Management and employees - Directors and senior management\" 117-120    B. Compensation \"Compensation\" - also refer to financial notes 120-151    C. Board practices \"Management and employees\" 117-120     \"Articles of association of Lloyds Banking Group plc\" 190     \"Management and employees - Employees\" 120     \"Compensation - Service agreements\" 131     \"Corporate governance - Leadership\" 153     \"Corporate governance - the Board in 2016\" 154-161     \"Corporate governance - Audit Committee Report\" 167-170     \"Compensation - Annual report on remuneration - Remuneration Committee\" 150-151    D. Employees \"Management and employees - Employees\" 120    E. Share ownership \"Compensation - Outstanding share awards\" 145-149     \"Notes to the consolidated financial statements - note 2\" F-15   Item 7. Major Shareholders and Related Party Transactions      A. Major shareholders \"Major shareholders and related party transactions - Major shareholders\" 177\n",
      "\n",
      "----------------------------------- 0001144204-17-010224 -----------------------------------\n",
      "len  :3795\n",
      "\n",
      "emp_header  :False\n",
      "\n",
      "first_emp_head_block  :False\n",
      "\n",
      "para_text  :TABLE OF CONTENTS Atlantic Aviation - (continued) Competition Atlantic Aviation directly competes with other FBO operators at more than half of its locations. The FBOs compete on the basis of location of the facility relative to runways and street access, service, safety, value-added features, reliability and price. Each FBO also faces competitive pressure from the fact that aircraft may take on sufficient fuel at one location and not need to refuel at a specific destination. FBO operators also face indirect competition from facilities located at nearby airports. Atlantic Aviation's main competitors are Signature Flight Support, Jet Aviation, Million Air, Sheltair Aviation and TAC Air. In February 2016, Signature Flight Support acquired Landmark Aviation, resulting in the combination of two of Atlantic Aviation's biggest competitors. Signature Flight Support competes with Atlantic at 22 airports, but only three of these locations were added as a result of the merger. Atlantic Aviation has not noticed a significant shift in customer or competitor behavior and remains confident in its ability to compete effectively. To our knowledge, other than the competitors listed, no other competitor operated more than 20 FBOs in the U.S. at December 31, 2016. Customers Atlantic Aviation does not depend on a single customer, the loss of which would have a material adverse effect on the business. Regulation The aviation industry is overseen by a number of regulatory bodies, but its primary regulator is the FAA. In addition, local airport authorities also regulate the FBOs. The business must comply with federal, state and local environmental statutes and regulations associated in part with the operation of fuel storage tank systems and mobile fueling vehicles. These requirements include, among other things, tank and pipe testing for tightness, soil sampling for evidence of leaking and remediation of detected leaks and spills. Atlantic Aviation's FBOs are subject to regular inspection by federal and local environmental agencies as well as local fire departments and other agencies. The business does not expect that compliance and related remediation work, if any, will have a material negative impact on earnings or the competitive position of Atlantic Aviation. The business has not received notice requiring it to cease operations at any location or of any abatement proceeding by any government agency as a result of failure to comply with applicable environmental laws and regulations. Employees and Management As of December 31, 2016, the business employed 1,956 people, of which 190 employees were subject to collective bargaining agreements. We believe relations with union and non-union employees at Atlantic Aviation are good. The day-to-day operations of Atlantic Aviation are managed by individual site managers who are responsible for most aspects of the operations at their site. Atlantic Aviation's operations are overseen by senior personnel with significant experience in the aviation industry. Contracted Power Industry Overview The power industry represents a large and critical infrastructure market, both in terms of the number and value of facilities as well as their contribution to overall economic activity. In developed economies, capital spending in the sector is driven by aging infrastructure, new technologies, increased legislation regarding emissions, the use of renewable energy and modest demand growth. The Energy Information Administration forecasts the demand for electricity in the U.S. to grow at a compound annual rate of approximately 0.7% over the next twenty years. As aging and inefficient generating capacity is retired or replaced, opportunities for deployment of capital in the growth of our CP segment are expected to increase.\n",
      "\n"
     ]
    }
   ],
   "source": [
    "print_row_detail(df=train_df, nrow=10, header_list = ['acc_id'  ],\n",
    "                    detail_list = ['len', 'emp_header', 'first_emp_head_block', 'para_text'],\n",
    "                    sortby=['len', 'acc_id'], ascending=False)"
   ]
  },
  {
   "cell_type": "code",
   "execution_count": 68,
   "metadata": {
    "ExecuteTime": {
     "end_time": "2018-06-30T16:58:53.330069Z",
     "start_time": "2018-06-30T16:58:49.617195Z"
    },
    "scrolled": false
   },
   "outputs": [
    {
     "name": "stdout",
     "output_type": "stream",
     "text": [
      "Index number: \n",
      "734\n",
      "File path: \n",
      "c:/projects/DSBC/capstone/sec_employee_information_extraction/../employee_filings/0001047469-16-014916.html\n",
      "No Employees header\n",
      "Para number: 0\n",
      "Original match has no name\n",
      "Original match:  We currently have 21 employees, 18 of whom are located in Denver, Colorado, one who is located\n",
      "in Zug, Switzerland, and two who are located in Toronto, Canada. Our employees are not subject to a labor\n",
      "contract or a collective bargaining agreement. We consider our employee relations to be good.\n",
      "Block match name:  p\n",
      "Block:  \n",
      "<p class=\"c15\">We currently have 21 employees, 18 of whom are located in Denver, Colorado, one who is located\n",
      "in Zug, Switzerland, and two who are located in Toronto, Canada. Our employees are not subject to a labor\n",
      "contract or a collective bargaining agreement. We consider our employee relations to be good.</p>\n",
      "<class 'bs4.element.Tag'>\n",
      "Block Text:  \n",
      "We currently have 21 employees, 18 of whom are located in Denver, Colorado, one who is located in Zug, Switzerland, and two who are located in Toronto, Canada. Our employees are not subject to a labor contract or a collective bargaining agreement. We consider our employee relations to be good.\n"
     ]
    }
   ],
   "source": [
    "print_parse_objects(file='0001047469-16-014916')"
   ]
  }
 ],
 "metadata": {
  "kernelspec": {
   "display_name": "Python 3",
   "language": "python",
   "name": "python3"
  },
  "language_info": {
   "codemirror_mode": {
    "name": "ipython",
    "version": 3
   },
   "file_extension": ".py",
   "mimetype": "text/x-python",
   "name": "python",
   "nbconvert_exporter": "python",
   "pygments_lexer": "ipython3",
   "version": "3.6.1"
  },
  "toc": {
   "base_numbering": 1,
   "nav_menu": {},
   "number_sections": true,
   "sideBar": true,
   "skip_h1_title": true,
   "title_cell": "Table of Contents",
   "title_sidebar": "Contents",
   "toc_cell": true,
   "toc_position": {},
   "toc_section_display": true,
   "toc_window_display": false
  }
 },
 "nbformat": 4,
 "nbformat_minor": 2
}
